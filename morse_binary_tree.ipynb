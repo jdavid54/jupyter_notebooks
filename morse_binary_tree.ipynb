{
 "cells": [
  {
   "cell_type": "code",
   "execution_count": 10,
   "metadata": {},
   "outputs": [],
   "source": [
    "class TreeNode:\n",
    "    def __init__(self, value):\n",
    "        self.value = value\n",
    "        self.left = None\n",
    "        self.right = None\n",
    "\n",
    "def insert(root, letter, code):\n",
    "    for char in code:\n",
    "        if char == '.':\n",
    "            if root.left is None:\n",
    "                root.left = TreeNode('')\n",
    "            root = root.left\n",
    "        elif char == '-':\n",
    "            if root.right is None:\n",
    "                root.right = TreeNode('')\n",
    "            root = root.right\n",
    "    root.value = letter\n",
    "\n",
    "def build_morse_tree():\n",
    "    root = TreeNode('')\n",
    "    for k, v in morse_dict.items():\n",
    "        insert(root, k, v)    \n",
    "    return root\n",
    "\n",
    "def find_morse_code(node, target):\n",
    "    if node is None:\n",
    "        return None\n",
    "    if node.value == target:\n",
    "        return ''\n",
    "    \n",
    "    left_result = find_morse_code(node.left, target)\n",
    "    if left_result is not None:\n",
    "        return '.' + left_result\n",
    "    \n",
    "    right_result = find_morse_code(node.right, target)\n",
    "    if right_result is not None:\n",
    "        return '-' + right_result    \n",
    "    return None\n",
    "\n",
    "def encode_morse(text):\n",
    "    morse_tree = build_morse_tree()\n",
    "    morse_code = ''\n",
    "    for char in text:\n",
    "        morse_code += find_morse_code(morse_tree, char.upper()) + ' '  # Ensure all characters are in uppercase\n",
    "    return morse_code.strip()\n",
    "\n",
    "def decode_morse(morse_code):\n",
    "    morse_tree = build_morse_tree()\n",
    "    decoded_text = ''\n",
    "    morse_code_list = morse_code.split(' ')\n",
    "    for code in morse_code_list:\n",
    "        decoded_text += find_character(morse_tree, code)\n",
    "    return decoded_text\n",
    "\n",
    "def find_character(node, code):\n",
    "    if node is None:\n",
    "        return ''\n",
    "    if code == '':\n",
    "        return node.value\n",
    "    if code[0] == '.':\n",
    "        return find_character(node.left, code[1:])\n",
    "    elif code[0] == '-':\n",
    "        return find_character(node.right, code[1:])\n",
    "\n",
    "def find_max_depth(node):\n",
    "    if node is None:\n",
    "        return 0\n",
    "    left_depth = find_max_depth(node.left)\n",
    "    right_depth = find_max_depth(node.right)\n",
    "    return max(left_depth, right_depth) + 1\n",
    "\n",
    "def print_tree_horizontally(root):  # root at top\n",
    "    if root is None:\n",
    "        return"
   ]
  },
  {
   "cell_type": "code",
   "execution_count": 11,
   "metadata": {},
   "outputs": [],
   "source": [
    "morse_dict = {'E': '.',\n",
    "'T': '-',\n",
    "    # 2 elements\n",
    "'I': '..',\n",
    "'A': '.-',\n",
    "'N': '-.',\n",
    "'M': '--',\n",
    "    # 3 elements\n",
    "'S': '...',\n",
    "'U': '..-',\n",
    "'R': '.-.',\n",
    "'W': '.--',\n",
    "'D': '-..',\n",
    "'K': '-.-',\n",
    "'G': '--.',\n",
    "'O': '---',\n",
    "    # 4 elements\n",
    "'H': '....',\n",
    "'V': '...-',\n",
    "'F': '..-.',    \n",
    "'L': '.-..', \n",
    "'P': '.--.',  \n",
    "'J': '.---', \n",
    "'B': '-...', \n",
    "'X': '-..-', \n",
    "'C': '-.-.', \n",
    "'Y': '-.--', \n",
    "'Z': '--..', \n",
    "'Q': '--.-',\n",
    "# numbers\n",
    "'5': '.....',\n",
    "'4': '....-',\n",
    "'3': '...--',\n",
    "'2': '..---',\n",
    "'1': '.----',\n",
    "'6': '-....',\n",
    "'7': '--...',\n",
    "'8': '---..',\n",
    "'9': '----.',\n",
    "'0': '-----'\n",
    "}"
   ]
  },
  {
   "cell_type": "code",
   "execution_count": 12,
   "metadata": {},
   "outputs": [
    {
     "data": {
      "text/plain": [
       "{'E': '.',\n",
       " 'T': '-',\n",
       " 'I': '..',\n",
       " 'A': '.-',\n",
       " 'N': '-.',\n",
       " 'M': '--',\n",
       " 'S': '...',\n",
       " 'U': '..-',\n",
       " 'R': '.-.',\n",
       " 'W': '.--',\n",
       " 'D': '-..',\n",
       " 'K': '-.-',\n",
       " 'G': '--.',\n",
       " 'O': '---',\n",
       " 'H': '....',\n",
       " 'V': '...-',\n",
       " 'F': '..-.',\n",
       " 'L': '.-..',\n",
       " 'P': '.--.',\n",
       " 'J': '.---',\n",
       " 'B': '-...',\n",
       " 'X': '-..-',\n",
       " 'C': '-.-.',\n",
       " 'Y': '-.--',\n",
       " 'Z': '--..',\n",
       " 'Q': '--.-',\n",
       " '5': '.....',\n",
       " '4': '....-',\n",
       " '3': '...--',\n",
       " '2': '..---',\n",
       " '1': '.----',\n",
       " '6': '-....',\n",
       " '7': '--...',\n",
       " '8': '---..',\n",
       " '9': '----.',\n",
       " '0': '-----'}"
      ]
     },
     "execution_count": 12,
     "metadata": {},
     "output_type": "execute_result"
    }
   ],
   "source": [
    "morse_dict"
   ]
  },
  {
   "cell_type": "code",
   "execution_count": 15,
   "metadata": {},
   "outputs": [
    {
     "data": {
      "text/plain": [
       "<__main__.TreeNode at 0x261c0c456d0>"
      ]
     },
     "execution_count": 15,
     "metadata": {},
     "output_type": "execute_result"
    }
   ],
   "source": [
    "tree = build_morse_tree()\n",
    "tree"
   ]
  },
  {
   "cell_type": "code",
   "execution_count": 14,
   "metadata": {},
   "outputs": [],
   "source": [
    "print_tree_horizontally(tree)"
   ]
  },
  {
   "cell_type": "code",
   "execution_count": 19,
   "metadata": {},
   "outputs": [
    {
     "data": {
      "text/plain": [
       "'R'"
      ]
     },
     "execution_count": 19,
     "metadata": {},
     "output_type": "execute_result"
    }
   ],
   "source": [
    "find_character(tree, '.-.')"
   ]
  }
 ],
 "metadata": {
  "kernelspec": {
   "display_name": "Python 3",
   "language": "python",
   "name": "python3"
  },
  "language_info": {
   "codemirror_mode": {
    "name": "ipython",
    "version": 3
   },
   "file_extension": ".py",
   "mimetype": "text/x-python",
   "name": "python",
   "nbconvert_exporter": "python",
   "pygments_lexer": "ipython3",
   "version": "3.11.4"
  }
 },
 "nbformat": 4,
 "nbformat_minor": 2
}
