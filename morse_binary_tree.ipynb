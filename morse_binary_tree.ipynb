{
 "cells": [
  {
   "cell_type": "code",
   "execution_count": 1,
   "metadata": {},
   "outputs": [],
   "source": [
    "morse_dict = {'E': '.','T': '-',\n",
    "# 2 elements\n",
    "'I': '..','A': '.-','N': '-.','M': '--',\n",
    "# 3 elements\n",
    "'S': '...','U': '..-','R': '.-.','W': '.--','D': '-..','K': '-.-','G': '--.','O': '---',\n",
    "# 4 elements\n",
    "'H': '....','V': '...-','F': '..-.',    'L': '.-..', 'P': '.--.','J': '.---','B': '-...',\n",
    "'X': '-..-', 'C': '-.-.', 'Y': '-.--', 'Z': '--..', 'Q': '--.-',\n",
    "# numbers\n",
    "'5': '.....','4': '....-','3': '...--','2': '..---','1': '.----','6': '-....',\n",
    "'7': '--...','8': '---..','9': '----.','0': '-----'\n",
    "}\n",
    "\n",
    "class TreeNode:\n",
    "    def __init__(self, value):\n",
    "        self.value = value\n",
    "        self.left = None\n",
    "        self.right = None\n",
    "        self.level = 0\n",
    "\n",
    "def insert(node, letter, code):\n",
    "    level = node.level\n",
    "    #print(letter, end=' => ')\n",
    "        \n",
    "    for char in code:                \n",
    "        if char == '.':\n",
    "            level += 1\n",
    "            if node.left is None:\n",
    "                #print('insL', letter, level)\n",
    "                node.left = TreeNode('.')            \n",
    "            node = node.left\n",
    "            \n",
    "        elif char == '-':\n",
    "            level += 1\n",
    "            if node.right is None:\n",
    "                #print('insR', letter, level)\n",
    "                node.right = TreeNode('.')\n",
    "            node = node.right\n",
    "\n",
    "    node.value = letter\n",
    "    node.level = level\n",
    "\n",
    "def level_order_traversal(node):\n",
    "    if node is None:\n",
    "        return\n",
    "    \n",
    "    queue = []\n",
    "    queue.append(node)\n",
    "\n",
    "    while queue:\n",
    "        current_node = queue.pop(0)\n",
    "        print(current_node.value, end=\" \")\n",
    "\n",
    "        if current_node.left:\n",
    "            queue.append(current_node.left)\n",
    "        if current_node.right:\n",
    "            queue.append(current_node.right)  \n",
    "\n",
    "def create_binary_tree(levels):\n",
    "    if levels <= 0:\n",
    "        return None\n",
    "\n",
    "    root = TreeNode(1)\n",
    "    queue = [root]\n",
    "    current_level = 1\n",
    "\n",
    "    while current_level < levels:\n",
    "        nodes_in_current_level = len(queue)\n",
    "        for _ in range(nodes_in_current_level):\n",
    "            node = queue.pop(0)\n",
    "            node.left = TreeNode(2 * node.value)\n",
    "            node.right = TreeNode(2 * node.value + 1)\n",
    "            queue.append(node.left)\n",
    "            queue.append(node.right)\n",
    "        current_level += 1\n",
    "\n",
    "    return root\n",
    "\n",
    "def print_tree(node):\n",
    "    if node:\n",
    "        print(node.value, end=\" \")\n",
    "        print_tree(node.left)\n",
    "        print_tree(node.right)\n",
    "        #print()\n",
    "\n",
    "def build_morse_tree(value='\\\\'):\n",
    "    root = TreeNode(value)\n",
    "    for k, v in morse_dict.items():\n",
    "        insert(root, k, v)    \n",
    "    return root\n",
    "\n",
    "def find_character(node, code):    \n",
    "    if node is None:\n",
    "        return ''\n",
    "    if code == '':\n",
    "        return node.value\n",
    "    \n",
    "    if code[0] == '.':\n",
    "        if node.left.value == '':\n",
    "            node.left.value = 'x'\n",
    "        print('left',node.left.value,'- x', node.left.level)\n",
    "        return find_character(node.left, code[1:])\n",
    "    \n",
    "    elif code[0] == '-':\n",
    "        if node.right.value == '':\n",
    "            node.right.value = 'x'\n",
    "        print('right','x -',node.right.value, node.right.level)\n",
    "        return find_character(node.right, code[1:])\n",
    "\n",
    "def find_deepest_level(root):\n",
    "    if root is None:\n",
    "        return 0\n",
    "    return 1 + max(find_deepest_level(root.left), find_deepest_level(root.right))\n",
    "\n",
    "\n",
    "def find_max_depth(node):\n",
    "    if node is None:\n",
    "        return 0\n",
    "    left_depth = find_max_depth(node.left)\n",
    "    right_depth = find_max_depth(node.right)\n",
    "    return max(left_depth, right_depth) + 1\n",
    "\n",
    "def complete_branches_up_to_deepest(root, fixed_value, current_level, deepest_level):\n",
    "    if root is None:\n",
    "        return\n",
    "\n",
    "    if current_level == deepest_level:\n",
    "        return\n",
    "\n",
    "    if current_level < deepest_level:\n",
    "        if root.left is None:\n",
    "            root.left = TreeNode(fixed_value)\n",
    "        if root.right is None:\n",
    "            root.right = TreeNode(fixed_value)\n",
    "\n",
    "        complete_branches_up_to_deepest(root.left, fixed_value, current_level + 1, deepest_level)\n",
    "        complete_branches_up_to_deepest(root.right, fixed_value, current_level + 1, deepest_level)\n",
    "\n",
    "def complete_binary_tree(root, fixed_value='.'):\n",
    "    deepest_level = find_deepest_level(root)\n",
    "    complete_branches_up_to_deepest(root, fixed_value, 1, deepest_level)\n",
    "\n",
    "def print_tree_horizontally(root):  # root at top\n",
    "    if root is None:\n",
    "        return    \n",
    "    # Perform a level-order traversal using a queue\n",
    "    queue = [root]\n",
    "    while queue:\n",
    "        current_level = []\n",
    "        next_level = []\n",
    "        for node in queue:\n",
    "            current_level.append(str(node.value))\n",
    "            if node.left:\n",
    "                next_level.append(node.left)\n",
    "            if node.right:\n",
    "                next_level.append(node.right)\n",
    "        print(' '.join(current_level))\n",
    "        queue = next_level\n"
   ]
  },
  {
   "cell_type": "code",
   "execution_count": 2,
   "metadata": {},
   "outputs": [
    {
     "name": "stdout",
     "output_type": "stream",
     "text": [
      "\\\n",
      "E T\n",
      "I A N M\n",
      "S U R W D K G O\n",
      "H V F . L . P J B X C Y Z Q . .\n",
      "5 4 . 3 . . . 2 . . . . . . . 1 6 . . . . . . . 7 . . . 8 . 9 0\n"
     ]
    }
   ],
   "source": [
    "\n",
    "root = build_morse_tree()\n",
    "#find_character(tree, '..---')\n",
    "#print(find_max_depth(root))\n",
    "\n",
    "complete_binary_tree(root)\n",
    "print_tree_horizontally(root)\n"
   ]
  },
  {
   "cell_type": "code",
   "execution_count": 16,
   "metadata": {},
   "outputs": [],
   "source": [
    "morse_dict = {'E': '.',\n",
    "'T': '-',\n",
    "    # 2 elements\n",
    "'I': '..',\n",
    "'A': '.-',\n",
    "'N': '-.',\n",
    "'M': '--',\n",
    "    # 3 elements\n",
    "'S': '...',\n",
    "'U': '..-',\n",
    "'R': '.-.',\n",
    "'W': '.--',\n",
    "'D': '-..',\n",
    "'K': '-.-',\n",
    "'G': '--.',\n",
    "'O': '---',\n",
    "    # 4 elements\n",
    "'H': '....',\n",
    "'V': '...-',\n",
    "'F': '..-.',    \n",
    "'L': '.-..', \n",
    "'P': '.--.',  \n",
    "'J': '.---', \n",
    "'B': '-...', \n",
    "'X': '-..-', \n",
    "'C': '-.-.', \n",
    "'Y': '-.--', \n",
    "'Z': '--..', \n",
    "'Q': '--.-',\n",
    "# numbers\n",
    "'5': '.....',\n",
    "'4': '....-',\n",
    "'3': '...--',\n",
    "'2': '..---',\n",
    "'1': '.----',\n",
    "'6': '-....',\n",
    "'7': '--...',\n",
    "'8': '---..',\n",
    "'9': '----.',\n",
    "'0': '-----'\n",
    "}"
   ]
  },
  {
   "cell_type": "code",
   "execution_count": 3,
   "metadata": {},
   "outputs": [
    {
     "data": {
      "text/plain": [
       "{'E': '.',\n",
       " 'T': '-',\n",
       " 'I': '..',\n",
       " 'A': '.-',\n",
       " 'N': '-.',\n",
       " 'M': '--',\n",
       " 'S': '...',\n",
       " 'U': '..-',\n",
       " 'R': '.-.',\n",
       " 'W': '.--',\n",
       " 'D': '-..',\n",
       " 'K': '-.-',\n",
       " 'G': '--.',\n",
       " 'O': '---',\n",
       " 'H': '....',\n",
       " 'V': '...-',\n",
       " 'F': '..-.',\n",
       " 'L': '.-..',\n",
       " 'P': '.--.',\n",
       " 'J': '.---',\n",
       " 'B': '-...',\n",
       " 'X': '-..-',\n",
       " 'C': '-.-.',\n",
       " 'Y': '-.--',\n",
       " 'Z': '--..',\n",
       " 'Q': '--.-',\n",
       " '5': '.....',\n",
       " '4': '....-',\n",
       " '3': '...--',\n",
       " '2': '..---',\n",
       " '1': '.----',\n",
       " '6': '-....',\n",
       " '7': '--...',\n",
       " '8': '---..',\n",
       " '9': '----.',\n",
       " '0': '-----'}"
      ]
     },
     "execution_count": 3,
     "metadata": {},
     "output_type": "execute_result"
    }
   ],
   "source": [
    "morse_dict"
   ]
  },
  {
   "cell_type": "code",
   "execution_count": 5,
   "metadata": {},
   "outputs": [
    {
     "name": "stdout",
     "output_type": "stream",
     "text": [
      "\\ E I S H 5 4 V 3 U F . 2 A R L W P J 1 T N D B 6 X K C Y M G Z 7 Q O . 8 . 9 0 "
     ]
    }
   ],
   "source": [
    "tree = build_morse_tree()\n",
    "print_tree(tree)\n"
   ]
  },
  {
   "cell_type": "code",
   "execution_count": 6,
   "metadata": {},
   "outputs": [
    {
     "name": "stdout",
     "output_type": "stream",
     "text": [
      "\\\n",
      "E T\n",
      "I A N M\n",
      "S U R W D K G O\n",
      "H V F . L P J B X C Y Z Q . .\n",
      "5 4 3 2 1 6 7 8 9 0\n"
     ]
    }
   ],
   "source": [
    "print_tree_horizontally(tree)"
   ]
  },
  {
   "cell_type": "code",
   "execution_count": 7,
   "metadata": {},
   "outputs": [
    {
     "name": "stdout",
     "output_type": "stream",
     "text": [
      "left E - x 1\n",
      "right x - A 2\n",
      "left R - x 3\n"
     ]
    },
    {
     "data": {
      "text/plain": [
       "'R'"
      ]
     },
     "execution_count": 7,
     "metadata": {},
     "output_type": "execute_result"
    }
   ],
   "source": [
    "find_character(tree, '.-.')"
   ]
  },
  {
   "cell_type": "code",
   "execution_count": 8,
   "metadata": {},
   "outputs": [
    {
     "data": {
      "text/plain": [
       "'.-.'"
      ]
     },
     "execution_count": 8,
     "metadata": {},
     "output_type": "execute_result"
    }
   ],
   "source": [
    "morse_dict['R']"
   ]
  },
  {
   "cell_type": "code",
   "execution_count": 9,
   "metadata": {},
   "outputs": [
    {
     "name": "stdout",
     "output_type": "stream",
     "text": [
      "\\\n",
      "E T\n",
      "I A N M\n",
      "S U R W D K G O\n",
      "H V F . L . P J B X C Y Z Q . .\n",
      "5 4 . 3 . . . 2 . . . . . . . 1 6 . . . . . . . 7 . . . 8 . 9 0\n"
     ]
    }
   ],
   "source": [
    "complete_binary_tree(root)\n",
    "print_tree_horizontally(root)\n"
   ]
  },
  {
   "cell_type": "code",
   "execution_count": 11,
   "metadata": {},
   "outputs": [
    {
     "name": "stdout",
     "output_type": "stream",
     "text": [
      "1\n",
      "2 3\n",
      "4 5 6 7\n",
      "8 9 10 11 12 13 14 15\n",
      "16 17 18 19 20 21 22 23 24 25 26 27 28 29 30 31\n",
      "32 33 34 35 36 37 38 39 40 41 42 43 44 45 46 47 48 49 50 51 52 53 54 55 56 57 58 59 60 61 62 63\n"
     ]
    }
   ],
   "source": [
    "root=create_binary_tree(6)\n",
    "print_tree_horizontally(root)"
   ]
  }
 ],
 "metadata": {
  "kernelspec": {
   "display_name": "Python 3",
   "language": "python",
   "name": "python3"
  },
  "language_info": {
   "codemirror_mode": {
    "name": "ipython",
    "version": 3
   },
   "file_extension": ".py",
   "mimetype": "text/x-python",
   "name": "python",
   "nbconvert_exporter": "python",
   "pygments_lexer": "ipython3",
   "version": "3.11.4"
  }
 },
 "nbformat": 4,
 "nbformat_minor": 2
}
