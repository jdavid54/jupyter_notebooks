{
 "cells": [
  {
   "cell_type": "code",
   "execution_count": 84,
   "metadata": {},
   "outputs": [],
   "source": [
    "import matplotlib.pyplot as plt\n",
    "import requests\n",
    "import pandas as pd\n",
    "import numpy as np\n",
    "from datetime import datetime, timedelta\n",
    "#import datetime as dt\n",
    "import pytz\n",
    "from pprint import pprint\n"
   ]
  },
  {
   "cell_type": "code",
   "execution_count": 85,
   "metadata": {},
   "outputs": [],
   "source": [
    "onecall = True  # 8 days\n",
    "#onecall = False # 5 days"
   ]
  },
  {
   "cell_type": "code",
   "execution_count": 86,
   "metadata": {},
   "outputs": [],
   "source": [
    "\n",
    "def get_location(city='paris',API_Key = 'edffd1bf975a74d5d10e58c5ac8be2d3'):\n",
    "    base_url = 'http://api.openweathermap.org/data/2.5/weather?appid='+API_Key+'&q='+city\n",
    "    current = requests.get(base_url).json()\n",
    "    lat = current['coord']['lat']\n",
    "    lon = current['coord']['lon']\n",
    "    return lat,lon\n",
    "\n",
    "def human_date(d):\n",
    "   return datetime.fromtimestamp(d, pytz.timezone('Europe/Paris')).strftime('%d/%m/%Y %H:%M:%S')\n",
    "\n",
    "def get_date(timestamp):\n",
    "    return human_date(timestamp).split(' ')[0]\n",
    "\n",
    "def get_time(timestamp):\n",
    "    return human_date(timestamp).split(' ')[1]\n",
    "\n",
    "def print_day(n):\n",
    "    pprint(onecall_data['daily'][n])\n"
   ]
  },
  {
   "cell_type": "code",
   "execution_count": 87,
   "metadata": {},
   "outputs": [
    {
     "name": "stdout",
     "output_type": "stream",
     "text": [
      "Requesting json data\n"
     ]
    }
   ],
   "source": [
    "# get data 8 days forecast\n",
    "\n",
    "API_Key = 'edffd1bf975a74d5d10e58c5ac8be2d3'\n",
    "lat, lon = get_location()\n",
    "base_url = 'https://api.openweathermap.org/data/2.5/onecall?lat='+str(lat)+'&lon='+str(lon)+'&units=metric&exclude=hourly,minutely&appid='+API_Key\n",
    "data_for = '8 days'\n",
    "# request data\n",
    "try:\n",
    "    print('Requesting json data')\n",
    "    onecall_data = requests.get(base_url).json()\n",
    "    #print(onecall_data)\n",
    "except:\n",
    "    exit()\n",
    " "
   ]
  },
  {
   "cell_type": "code",
   "execution_count": 88,
   "metadata": {},
   "outputs": [
    {
     "data": {
      "text/plain": [
       "array([ 0,  1,  2,  3,  4,  5,  8,  9, 10, 11, 12, 13, 16, 17])"
      ]
     },
     "execution_count": 88,
     "metadata": {},
     "output_type": "execute_result"
    }
   ],
   "source": [
    "focus"
   ]
  },
  {
   "cell_type": "code",
   "execution_count": 89,
   "metadata": {},
   "outputs": [
    {
     "data": {
      "text/plain": [
       "(Index(['dt', 'sunrise', 'sunset', 'moonrise', 'moonset', 'moon_phase', 'temp',\n",
       "        'feels_like', 'pressure', 'humidity', 'dew_point', 'wind_speed',\n",
       "        'wind_deg', 'wind_gust', 'weather', 'clouds', 'pop', 'uvi'],\n",
       "       dtype='object'),\n",
       " 18)"
      ]
     },
     "execution_count": 89,
     "metadata": {},
     "output_type": "execute_result"
    }
   ],
   "source": [
    "_8days.keys(), len(_8days.keys())"
   ]
  },
  {
   "cell_type": "code",
   "execution_count": 90,
   "metadata": {},
   "outputs": [
    {
     "data": {
      "text/plain": [
       "8"
      ]
     },
     "execution_count": 90,
     "metadata": {},
     "output_type": "execute_result"
    }
   ],
   "source": [
    "len(df)"
   ]
  },
  {
   "cell_type": "code",
   "execution_count": 91,
   "metadata": {},
   "outputs": [
    {
     "name": "stdout",
     "output_type": "stream",
     "text": [
      "Creating dataframe:  8 days\n"
     ]
    }
   ],
   "source": [
    "# make dataframe and save\n",
    "print('Creating dataframe: ', data_for)\n",
    "\n",
    "df = onecall_data['daily']\n",
    "l = len(df[0])\n"
   ]
  },
  {
   "cell_type": "code",
   "execution_count": 92,
   "metadata": {},
   "outputs": [
    {
     "name": "stdout",
     "output_type": "stream",
     "text": [
      "Converting timestamp to human date\n"
     ]
    },
    {
     "data": {
      "text/html": [
       "<div>\n",
       "<style scoped>\n",
       "    .dataframe tbody tr th:only-of-type {\n",
       "        vertical-align: middle;\n",
       "    }\n",
       "\n",
       "    .dataframe tbody tr th {\n",
       "        vertical-align: top;\n",
       "    }\n",
       "\n",
       "    .dataframe thead th {\n",
       "        text-align: right;\n",
       "    }\n",
       "</style>\n",
       "<table border=\"1\" class=\"dataframe\">\n",
       "  <thead>\n",
       "    <tr style=\"text-align: right;\">\n",
       "      <th></th>\n",
       "      <th>dt</th>\n",
       "      <th>sunrise</th>\n",
       "      <th>sunset</th>\n",
       "      <th>moonrise</th>\n",
       "      <th>moonset</th>\n",
       "      <th>moon_phase</th>\n",
       "      <th>temp</th>\n",
       "      <th>feels_like</th>\n",
       "      <th>pressure</th>\n",
       "      <th>humidity</th>\n",
       "      <th>dew_point</th>\n",
       "      <th>wind_speed</th>\n",
       "      <th>wind_deg</th>\n",
       "      <th>wind_gust</th>\n",
       "      <th>weather</th>\n",
       "      <th>clouds</th>\n",
       "      <th>pop</th>\n",
       "      <th>uvi</th>\n",
       "    </tr>\n",
       "  </thead>\n",
       "  <tbody>\n",
       "    <tr>\n",
       "      <th>0</th>\n",
       "      <td>04/08/2024</td>\n",
       "      <td>06:28:23</td>\n",
       "      <td>21:24:55</td>\n",
       "      <td>05:57:00</td>\n",
       "      <td>21:53:00</td>\n",
       "      <td>0.00</td>\n",
       "      <td>{'day': 22.29, 'min': 18.62, 'max': 26.2, 'nig...</td>\n",
       "      <td>{'day': 21.98, 'night': 21.98, 'eve': 25.02, '...</td>\n",
       "      <td>1016</td>\n",
       "      <td>54</td>\n",
       "      <td>12.54</td>\n",
       "      <td>3.39</td>\n",
       "      <td>297</td>\n",
       "      <td>9.17</td>\n",
       "      <td>[{'id': 804, 'main': 'Clouds', 'description': ...</td>\n",
       "      <td>89</td>\n",
       "      <td>0</td>\n",
       "      <td>6.51</td>\n",
       "    </tr>\n",
       "    <tr>\n",
       "      <th>1</th>\n",
       "      <td>05/08/2024</td>\n",
       "      <td>06:29:46</td>\n",
       "      <td>21:23:22</td>\n",
       "      <td>07:11:00</td>\n",
       "      <td>22:11:00</td>\n",
       "      <td>0.03</td>\n",
       "      <td>{'day': 27.46, 'min': 18.55, 'max': 30.32, 'ni...</td>\n",
       "      <td>{'day': 26.85, 'night': 25.08, 'eve': 28.46, '...</td>\n",
       "      <td>1014</td>\n",
       "      <td>33</td>\n",
       "      <td>9.75</td>\n",
       "      <td>2.83</td>\n",
       "      <td>194</td>\n",
       "      <td>3.76</td>\n",
       "      <td>[{'id': 800, 'main': 'Clear', 'description': '...</td>\n",
       "      <td>5</td>\n",
       "      <td>0</td>\n",
       "      <td>7.30</td>\n",
       "    </tr>\n",
       "    <tr>\n",
       "      <th>2</th>\n",
       "      <td>06/08/2024</td>\n",
       "      <td>06:31:09</td>\n",
       "      <td>21:21:47</td>\n",
       "      <td>08:22:00</td>\n",
       "      <td>22:25:00</td>\n",
       "      <td>0.06</td>\n",
       "      <td>{'day': 29.17, 'min': 20.78, 'max': 31.3, 'nig...</td>\n",
       "      <td>{'day': 28.14, 'night': 22.66, 'eve': 28.59, '...</td>\n",
       "      <td>1010</td>\n",
       "      <td>32</td>\n",
       "      <td>11.10</td>\n",
       "      <td>5.59</td>\n",
       "      <td>316</td>\n",
       "      <td>8.11</td>\n",
       "      <td>[{'id': 803, 'main': 'Clouds', 'description': ...</td>\n",
       "      <td>81</td>\n",
       "      <td>0</td>\n",
       "      <td>6.74</td>\n",
       "    </tr>\n",
       "    <tr>\n",
       "      <th>3</th>\n",
       "      <td>07/08/2024</td>\n",
       "      <td>06:32:32</td>\n",
       "      <td>21:20:11</td>\n",
       "      <td>09:31:00</td>\n",
       "      <td>22:38:00</td>\n",
       "      <td>0.09</td>\n",
       "      <td>{'day': 24.46, 'min': 16.69, 'max': 25.7, 'nig...</td>\n",
       "      <td>{'day': 23.88, 'night': 20.98, 'eve': 24.06, '...</td>\n",
       "      <td>1016</td>\n",
       "      <td>35</td>\n",
       "      <td>7.89</td>\n",
       "      <td>4.56</td>\n",
       "      <td>311</td>\n",
       "      <td>6.38</td>\n",
       "      <td>[{'id': 800, 'main': 'Clear', 'description': '...</td>\n",
       "      <td>2</td>\n",
       "      <td>0</td>\n",
       "      <td>6.27</td>\n",
       "    </tr>\n",
       "    <tr>\n",
       "      <th>4</th>\n",
       "      <td>08/08/2024</td>\n",
       "      <td>06:33:56</td>\n",
       "      <td>21:18:33</td>\n",
       "      <td>10:37:00</td>\n",
       "      <td>22:50:00</td>\n",
       "      <td>0.12</td>\n",
       "      <td>{'day': 27.48, 'min': 18.22, 'max': 29.09, 'ni...</td>\n",
       "      <td>{'day': 26.73, 'night': 24.01, 'eve': 26.73, '...</td>\n",
       "      <td>1017</td>\n",
       "      <td>30</td>\n",
       "      <td>8.67</td>\n",
       "      <td>3.28</td>\n",
       "      <td>245</td>\n",
       "      <td>6.07</td>\n",
       "      <td>[{'id': 802, 'main': 'Clouds', 'description': ...</td>\n",
       "      <td>36</td>\n",
       "      <td>0</td>\n",
       "      <td>6.89</td>\n",
       "    </tr>\n",
       "    <tr>\n",
       "      <th>5</th>\n",
       "      <td>09/08/2024</td>\n",
       "      <td>06:35:20</td>\n",
       "      <td>21:16:54</td>\n",
       "      <td>11:44:00</td>\n",
       "      <td>23:02:00</td>\n",
       "      <td>0.15</td>\n",
       "      <td>{'day': 24.37, 'min': 19.9, 'max': 25.77, 'nig...</td>\n",
       "      <td>{'day': 24.25, 'night': 21.83, 'eve': 25.53, '...</td>\n",
       "      <td>1020</td>\n",
       "      <td>53</td>\n",
       "      <td>14.19</td>\n",
       "      <td>4.23</td>\n",
       "      <td>272</td>\n",
       "      <td>6.71</td>\n",
       "      <td>[{'id': 804, 'main': 'Clouds', 'description': ...</td>\n",
       "      <td>95</td>\n",
       "      <td>0</td>\n",
       "      <td>7.00</td>\n",
       "    </tr>\n",
       "    <tr>\n",
       "      <th>6</th>\n",
       "      <td>10/08/2024</td>\n",
       "      <td>06:36:45</td>\n",
       "      <td>21:15:13</td>\n",
       "      <td>12:51:00</td>\n",
       "      <td>23:15:00</td>\n",
       "      <td>0.18</td>\n",
       "      <td>{'day': 28.65, 'min': 18.58, 'max': 30.7, 'nig...</td>\n",
       "      <td>{'day': 27.32, 'night': 24.96, 'eve': 27.57, '...</td>\n",
       "      <td>1021</td>\n",
       "      <td>24</td>\n",
       "      <td>6.21</td>\n",
       "      <td>2.65</td>\n",
       "      <td>16</td>\n",
       "      <td>4.25</td>\n",
       "      <td>[{'id': 800, 'main': 'Clear', 'description': '...</td>\n",
       "      <td>0</td>\n",
       "      <td>0</td>\n",
       "      <td>7.00</td>\n",
       "    </tr>\n",
       "    <tr>\n",
       "      <th>7</th>\n",
       "      <td>11/08/2024</td>\n",
       "      <td>06:38:09</td>\n",
       "      <td>21:13:31</td>\n",
       "      <td>14:01:00</td>\n",
       "      <td>23:32:00</td>\n",
       "      <td>0.21</td>\n",
       "      <td>{'day': 31.11, 'min': 21.08, 'max': 33.08, 'ni...</td>\n",
       "      <td>{'day': 30.05, 'night': 29.08, 'eve': 32, 'mor...</td>\n",
       "      <td>1014</td>\n",
       "      <td>32</td>\n",
       "      <td>12.73</td>\n",
       "      <td>3.94</td>\n",
       "      <td>118</td>\n",
       "      <td>7.90</td>\n",
       "      <td>[{'id': 802, 'main': 'Clouds', 'description': ...</td>\n",
       "      <td>37</td>\n",
       "      <td>0</td>\n",
       "      <td>7.00</td>\n",
       "    </tr>\n",
       "  </tbody>\n",
       "</table>\n",
       "</div>"
      ],
      "text/plain": [
       "           dt   sunrise    sunset  moonrise   moonset  moon_phase  \\\n",
       "0  04/08/2024  06:28:23  21:24:55  05:57:00  21:53:00        0.00   \n",
       "1  05/08/2024  06:29:46  21:23:22  07:11:00  22:11:00        0.03   \n",
       "2  06/08/2024  06:31:09  21:21:47  08:22:00  22:25:00        0.06   \n",
       "3  07/08/2024  06:32:32  21:20:11  09:31:00  22:38:00        0.09   \n",
       "4  08/08/2024  06:33:56  21:18:33  10:37:00  22:50:00        0.12   \n",
       "5  09/08/2024  06:35:20  21:16:54  11:44:00  23:02:00        0.15   \n",
       "6  10/08/2024  06:36:45  21:15:13  12:51:00  23:15:00        0.18   \n",
       "7  11/08/2024  06:38:09  21:13:31  14:01:00  23:32:00        0.21   \n",
       "\n",
       "                                                temp  \\\n",
       "0  {'day': 22.29, 'min': 18.62, 'max': 26.2, 'nig...   \n",
       "1  {'day': 27.46, 'min': 18.55, 'max': 30.32, 'ni...   \n",
       "2  {'day': 29.17, 'min': 20.78, 'max': 31.3, 'nig...   \n",
       "3  {'day': 24.46, 'min': 16.69, 'max': 25.7, 'nig...   \n",
       "4  {'day': 27.48, 'min': 18.22, 'max': 29.09, 'ni...   \n",
       "5  {'day': 24.37, 'min': 19.9, 'max': 25.77, 'nig...   \n",
       "6  {'day': 28.65, 'min': 18.58, 'max': 30.7, 'nig...   \n",
       "7  {'day': 31.11, 'min': 21.08, 'max': 33.08, 'ni...   \n",
       "\n",
       "                                          feels_like  pressure  humidity  \\\n",
       "0  {'day': 21.98, 'night': 21.98, 'eve': 25.02, '...      1016        54   \n",
       "1  {'day': 26.85, 'night': 25.08, 'eve': 28.46, '...      1014        33   \n",
       "2  {'day': 28.14, 'night': 22.66, 'eve': 28.59, '...      1010        32   \n",
       "3  {'day': 23.88, 'night': 20.98, 'eve': 24.06, '...      1016        35   \n",
       "4  {'day': 26.73, 'night': 24.01, 'eve': 26.73, '...      1017        30   \n",
       "5  {'day': 24.25, 'night': 21.83, 'eve': 25.53, '...      1020        53   \n",
       "6  {'day': 27.32, 'night': 24.96, 'eve': 27.57, '...      1021        24   \n",
       "7  {'day': 30.05, 'night': 29.08, 'eve': 32, 'mor...      1014        32   \n",
       "\n",
       "   dew_point  wind_speed  wind_deg  wind_gust  \\\n",
       "0      12.54        3.39       297       9.17   \n",
       "1       9.75        2.83       194       3.76   \n",
       "2      11.10        5.59       316       8.11   \n",
       "3       7.89        4.56       311       6.38   \n",
       "4       8.67        3.28       245       6.07   \n",
       "5      14.19        4.23       272       6.71   \n",
       "6       6.21        2.65        16       4.25   \n",
       "7      12.73        3.94       118       7.90   \n",
       "\n",
       "                                             weather  clouds  pop   uvi  \n",
       "0  [{'id': 804, 'main': 'Clouds', 'description': ...      89    0  6.51  \n",
       "1  [{'id': 800, 'main': 'Clear', 'description': '...       5    0  7.30  \n",
       "2  [{'id': 803, 'main': 'Clouds', 'description': ...      81    0  6.74  \n",
       "3  [{'id': 800, 'main': 'Clear', 'description': '...       2    0  6.27  \n",
       "4  [{'id': 802, 'main': 'Clouds', 'description': ...      36    0  6.89  \n",
       "5  [{'id': 804, 'main': 'Clouds', 'description': ...      95    0  7.00  \n",
       "6  [{'id': 800, 'main': 'Clear', 'description': '...       0    0  7.00  \n",
       "7  [{'id': 802, 'main': 'Clouds', 'description': ...      37    0  7.00  "
      ]
     },
     "execution_count": 92,
     "metadata": {},
     "output_type": "execute_result"
    }
   ],
   "source": [
    "_8days = pd.DataFrame.from_records(df)\n",
    "print('Converting timestamp to human date')\n",
    "for k in _8days.keys()[:5]:\n",
    "    #print(k)\n",
    "    if k=='dt':  # date for dt\n",
    "        _8days[k] = _8days[k].apply(get_date)\n",
    "    else:        # time for other columns\n",
    "        _8days[k] = _8days[k].apply(get_time)            \n",
    "_8days"
   ]
  },
  {
   "cell_type": "code",
   "execution_count": 93,
   "metadata": {},
   "outputs": [
    {
     "name": "stdout",
     "output_type": "stream",
     "text": [
      "Selecting columns\n"
     ]
    },
    {
     "data": {
      "text/plain": [
       "dt            05/08/2024\n",
       "sunrise         06:29:46\n",
       "sunset          21:23:22\n",
       "moonrise        07:11:00\n",
       "moonset         22:11:00\n",
       "moon_phase          0.03\n",
       "pressure            1014\n",
       "humidity              33\n",
       "dew_point           9.75\n",
       "wind_speed          2.83\n",
       "wind_deg             194\n",
       "wind_gust           3.76\n",
       "pop                    0\n",
       "uvi                  7.3\n",
       "Name: 1, dtype: object"
      ]
     },
     "execution_count": 93,
     "metadata": {},
     "output_type": "execute_result"
    }
   ],
   "source": [
    "\n",
    "print('Selecting columns')\n",
    "# select multiple column ranges\n",
    "focus = np.r_[:6, 8:14, 16:l]\n",
    "focus_idx = _8days.keys()[focus]\n",
    "\n",
    "status2 = pd.DataFrame(_8days[focus_idx])\n",
    "demain = status2.loc[1]\n",
    "\n",
    "demain"
   ]
  },
  {
   "cell_type": "code",
   "execution_count": null,
   "metadata": {},
   "outputs": [],
   "source": [
    "# zip and save\n",
    "print('Save to CSV')\n",
    "compression_opts = dict(method='zip', archive_name='demain.csv')\n",
    "demain.to_csv('demain.zip', index=False, compression=compression_opts)\n",
    "# no compression \n",
    "demain.to_csv('demain.csv')\n",
    "#pprint(onecall_data)\n",
    "print(_8days.iloc[0])  # today\n"
   ]
  },
  {
   "cell_type": "code",
   "execution_count": null,
   "metadata": {},
   "outputs": [],
   "source": [
    "# plot temperature\n",
    "l = []\n",
    "for i in range(0,8):\n",
    "    l.append(_8days.iloc[i].temp)\n",
    "\n",
    "df = pd.DataFrame(l)\n",
    "df.plot()\n",
    "plt.title('8 days forecast')\n",
    "plt.ylabel('Temp °C')\n",
    "plt.xlabel('Days')\n",
    "plt.grid()\n",
    "plt.show()"
   ]
  },
  {
   "cell_type": "code",
   "execution_count": null,
   "metadata": {},
   "outputs": [],
   "source": [
    "   \n",
    "# 5 days forecast\n",
    "\n",
    "API_Key = '56040ff66d50184c81a4df3a770657e3'\n",
    "#API_Key = '42a2df3beefb73f7161413a3f5a53f2a'\n",
    "lat, lon = get_location(API_Key=API_Key)\n",
    "base_url = 'https://api.openweathermap.org/data/2.5/forecast?lat='+str(lat)+'&lon='+str(lon)+'&units=metric&exclude=hourly,minutely&appid='+API_Key\n",
    "data_for = '5 days'\n",
    "try:\n",
    "    print('Requesting json data')\n",
    "    forecast = requests.get(base_url).json()\n",
    "    print(forecast)\n",
    "except:\n",
    "    exit()\n",
    "    \n"
   ]
  },
  {
   "cell_type": "code",
   "execution_count": null,
   "metadata": {},
   "outputs": [],
   "source": [
    "# make dataframe and save\n",
    "print('Creating dataframe: ', data_for)\n",
    "\n",
    "df = forecast['list']\n",
    "_5days = pd.DataFrame.from_records(df)\n",
    "print(_5days.iloc[0])\n"
   ]
  },
  {
   "cell_type": "code",
   "execution_count": null,
   "metadata": {},
   "outputs": [],
   "source": [
    "_5days.keys()\n"
   ]
  },
  {
   "cell_type": "code",
   "execution_count": null,
   "metadata": {},
   "outputs": [],
   "source": [
    "_5days['date'] = _5days['dt'].apply(get_date)\n",
    "_5days['time'] = _5days['dt'].apply(get_time)\n",
    "main = pd.DataFrame.from_records(_5days['main'])\n",
    "_5days = pd.concat([_5days,main],axis=1)\n",
    "\n",
    "print(_5days[['date','time','temp_max','temp_min']])\n"
   ]
  },
  {
   "cell_type": "code",
   "execution_count": null,
   "metadata": {},
   "outputs": [],
   "source": [
    "# plot\n",
    "_5days[['temp_max','temp_min']].plot()\n",
    "plt.title('5 days forecast')\n",
    "plt.ylabel('Temp °C')\n",
    "plt.xlabel('Days')\n",
    "plt.grid()\n",
    "plt.show()\n",
    "    "
   ]
  }
 ],
 "metadata": {
  "kernelspec": {
   "display_name": "Python 3",
   "language": "python",
   "name": "python3"
  },
  "language_info": {
   "codemirror_mode": {
    "name": "ipython",
    "version": 3
   },
   "file_extension": ".py",
   "mimetype": "text/x-python",
   "name": "python",
   "nbconvert_exporter": "python",
   "pygments_lexer": "ipython3",
   "version": "3.12.3"
  }
 },
 "nbformat": 4,
 "nbformat_minor": 2
}
