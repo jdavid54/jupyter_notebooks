{
 "cells": [
  {
   "cell_type": "code",
   "execution_count": 86,
   "metadata": {},
   "outputs": [],
   "source": [
    "import pandas as pd\n",
    "import numpy as np\n",
    "import matplotlib.pyplot as plt\n",
    "import matplotlib.dates as mdates\n",
    "import matplotlib.ticker as ticker\n",
    "from matplotlib.axis import Axis\n",
    "import datetime as dt\n",
    "\n",
    "#plt.style.use(['science', 'notebook'])\n",
    "#%matplotlib inline\n"
   ]
  },
  {
   "cell_type": "code",
   "execution_count": 87,
   "metadata": {},
   "outputs": [],
   "source": [
    "data_file = \"conso.txt\""
   ]
  },
  {
   "cell_type": "code",
   "execution_count": 88,
   "metadata": {},
   "outputs": [],
   "source": [
    "def read_text(filename):\n",
    "    f = open(filename, \"r\")\n",
    "    text = f.readlines()\n",
    "    f.close()\n",
    "    print(text)\n",
    "\n",
    "def save_text(filename):\n",
    "    f = open(filename, \"w\")\n",
    "    f.write(text)\n",
    "    f.close()\n",
    "\n",
    "\n",
    "#read_text(data_file)\n",
    "def get_data(filename):    \n",
    "    data = pd.read_csv(filename)\n",
    "    #data['time'] = pd.to_datetime(data['time'])  #.dt.tz_convert(None)\n",
    "    #data.info()\n",
    "    #print(data.tail(5))\n",
    "    return data\n"
   ]
  },
  {
   "cell_type": "code",
   "execution_count": 89,
   "metadata": {},
   "outputs": [],
   "source": [
    "text='test'\n",
    "filename='text.txt'\n",
    "#save_text(filename)"
   ]
  },
  {
   "cell_type": "code",
   "execution_count": 90,
   "metadata": {},
   "outputs": [
    {
     "name": "stdout",
     "output_type": "stream",
     "text": [
      "<class 'pandas.core.frame.DataFrame'>\n",
      "RangeIndex: 1013 entries, 0 to 1012\n",
      "Data columns (total 1 columns):\n",
      " #   Column  Non-Null Count  Dtype  \n",
      "---  ------  --------------  -----  \n",
      " 0   Conso   1013 non-null   float64\n",
      "dtypes: float64(1)\n",
      "memory usage: 8.0 KB\n"
     ]
    }
   ],
   "source": [
    "# read data with pandas\n",
    "data = get_data(data_file)\n",
    "data.info()\n"
   ]
  },
  {
   "cell_type": "code",
   "execution_count": 91,
   "metadata": {},
   "outputs": [
    {
     "data": {
      "text/html": [
       "<div>\n",
       "<style scoped>\n",
       "    .dataframe tbody tr th:only-of-type {\n",
       "        vertical-align: middle;\n",
       "    }\n",
       "\n",
       "    .dataframe tbody tr th {\n",
       "        vertical-align: top;\n",
       "    }\n",
       "\n",
       "    .dataframe thead th {\n",
       "        text-align: right;\n",
       "    }\n",
       "</style>\n",
       "<table border=\"1\" class=\"dataframe\">\n",
       "  <thead>\n",
       "    <tr style=\"text-align: right;\">\n",
       "      <th></th>\n",
       "      <th>Conso</th>\n",
       "      <th>interval</th>\n",
       "    </tr>\n",
       "  </thead>\n",
       "  <tbody>\n",
       "    <tr>\n",
       "      <th>0</th>\n",
       "      <td>0.19</td>\n",
       "      <td>18947.368421</td>\n",
       "    </tr>\n",
       "    <tr>\n",
       "      <th>1</th>\n",
       "      <td>0.19</td>\n",
       "      <td>18947.368421</td>\n",
       "    </tr>\n",
       "    <tr>\n",
       "      <th>2</th>\n",
       "      <td>0.19</td>\n",
       "      <td>18947.368421</td>\n",
       "    </tr>\n",
       "    <tr>\n",
       "      <th>3</th>\n",
       "      <td>0.19</td>\n",
       "      <td>18947.368421</td>\n",
       "    </tr>\n",
       "    <tr>\n",
       "      <th>4</th>\n",
       "      <td>0.19</td>\n",
       "      <td>18947.368421</td>\n",
       "    </tr>\n",
       "    <tr>\n",
       "      <th>...</th>\n",
       "      <td>...</td>\n",
       "      <td>...</td>\n",
       "    </tr>\n",
       "    <tr>\n",
       "      <th>1008</th>\n",
       "      <td>0.16</td>\n",
       "      <td>22500.000000</td>\n",
       "    </tr>\n",
       "    <tr>\n",
       "      <th>1009</th>\n",
       "      <td>0.16</td>\n",
       "      <td>22500.000000</td>\n",
       "    </tr>\n",
       "    <tr>\n",
       "      <th>1010</th>\n",
       "      <td>0.17</td>\n",
       "      <td>21176.470588</td>\n",
       "    </tr>\n",
       "    <tr>\n",
       "      <th>1011</th>\n",
       "      <td>0.17</td>\n",
       "      <td>21176.470588</td>\n",
       "    </tr>\n",
       "    <tr>\n",
       "      <th>1012</th>\n",
       "      <td>0.16</td>\n",
       "      <td>22500.000000</td>\n",
       "    </tr>\n",
       "  </tbody>\n",
       "</table>\n",
       "<p>1013 rows × 2 columns</p>\n",
       "</div>"
      ],
      "text/plain": [
       "      Conso      interval\n",
       "0      0.19  18947.368421\n",
       "1      0.19  18947.368421\n",
       "2      0.19  18947.368421\n",
       "3      0.19  18947.368421\n",
       "4      0.19  18947.368421\n",
       "...     ...           ...\n",
       "1008   0.16  22500.000000\n",
       "1009   0.16  22500.000000\n",
       "1010   0.17  21176.470588\n",
       "1011   0.17  21176.470588\n",
       "1012   0.16  22500.000000\n",
       "\n",
       "[1013 rows x 2 columns]"
      ]
     },
     "execution_count": 91,
     "metadata": {},
     "output_type": "execute_result"
    }
   ],
   "source": [
    "data['interval']=3600/data['Conso']\n",
    "data"
   ]
  },
  {
   "cell_type": "code",
   "execution_count": 92,
   "metadata": {},
   "outputs": [
    {
     "data": {
      "image/png": "[encoded data removed]",
      "text/plain": [
       "<Figure size 640x480 with 1 Axes>"
      ]
     },
     "metadata": {},
     "output_type": "display_data"
    },
    {
     "data": {
      "text/plain": [
       "<matplotlib.legend.Legend at 0x2a1e4aeb9b0>"
      ]
     },
     "execution_count": 92,
     "metadata": {},
     "output_type": "execute_result"
    },
    {
     "data": {
      "image/png": "[encoded data removed]",
      "text/plain": [
       "<Figure size 640x480 with 1 Axes>"
      ]
     },
     "metadata": {},
     "output_type": "display_data"
    }
   ],
   "source": [
    "\n",
    "plt.title('Consommation Linky')\n",
    "plt.plot(data['interval'], color='red',label='Interval')\n",
    "plt.grid()\n",
    "plt.legend()\n",
    "plt.show()\n",
    "plt.plot(data['Conso'], color='red',label='Conso')\n",
    "plt.grid()\n",
    "plt.legend()"
   ]
  },
  {
   "attachments": {},
   "cell_type": "markdown",
   "metadata": {},
   "source": [
    "### conso.csv sur WD6TB mis à jour avec PI4"
   ]
  },
  {
   "cell_type": "code",
   "execution_count": 93,
   "metadata": {},
   "outputs": [],
   "source": [
    "def get_data2(filename):    \n",
    "    data = pd.read_csv(filename, names=[\"Interval\",\"kWh\"])\n",
    "    return data"
   ]
  },
  {
   "cell_type": "code",
   "execution_count": 94,
   "metadata": {},
   "outputs": [
    {
     "name": "stdout",
     "output_type": "stream",
     "text": [
      "<class 'pandas.core.frame.DataFrame'>\n",
      "RangeIndex: 173259 entries, 0 to 173258\n",
      "Data columns (total 2 columns):\n",
      " #   Column    Non-Null Count   Dtype  \n",
      "---  ------    --------------   -----  \n",
      " 0   Interval  173259 non-null  int64  \n",
      " 1   kWh       173259 non-null  float64\n",
      "dtypes: float64(1), int64(1)\n",
      "memory usage: 2.6 MB\n"
     ]
    }
   ],
   "source": [
    "old = False\n",
    "\n",
    "if old:\n",
    "    #conso_file = r\"C:\\Users\\jean\\Documents\\conso.csv\"\n",
    "    conso_file = r\"Y:\\Documents\\conso_old.csv\"\n",
    "    conso_file = r\"Y:\\Documents\\conso - Copy (2).csv\"\n",
    "else:\n",
    "    conso_file = r\"Y:\\Documents\\conso.csv\"\n",
    "#old = False\n",
    "conso_data = get_data2(conso_file)\n",
    "conso_data.info()\n"
   ]
  },
  {
   "cell_type": "code",
   "execution_count": 95,
   "metadata": {},
   "outputs": [
    {
     "data": {
      "text/html": [
       "<div>\n",
       "<style scoped>\n",
       "    .dataframe tbody tr th:only-of-type {\n",
       "        vertical-align: middle;\n",
       "    }\n",
       "\n",
       "    .dataframe tbody tr th {\n",
       "        vertical-align: top;\n",
       "    }\n",
       "\n",
       "    .dataframe thead th {\n",
       "        text-align: right;\n",
       "    }\n",
       "</style>\n",
       "<table border=\"1\" class=\"dataframe\">\n",
       "  <thead>\n",
       "    <tr style=\"text-align: right;\">\n",
       "      <th></th>\n",
       "      <th>Interval</th>\n",
       "      <th>kWh</th>\n",
       "    </tr>\n",
       "  </thead>\n",
       "  <tbody>\n",
       "    <tr>\n",
       "      <th>0</th>\n",
       "      <td>26289</td>\n",
       "      <td>0.14</td>\n",
       "    </tr>\n",
       "    <tr>\n",
       "      <th>1</th>\n",
       "      <td>26243</td>\n",
       "      <td>0.14</td>\n",
       "    </tr>\n",
       "    <tr>\n",
       "      <th>2</th>\n",
       "      <td>25885</td>\n",
       "      <td>0.14</td>\n",
       "    </tr>\n",
       "    <tr>\n",
       "      <th>3</th>\n",
       "      <td>25754</td>\n",
       "      <td>0.14</td>\n",
       "    </tr>\n",
       "    <tr>\n",
       "      <th>4</th>\n",
       "      <td>25774</td>\n",
       "      <td>0.14</td>\n",
       "    </tr>\n",
       "    <tr>\n",
       "      <th>...</th>\n",
       "      <td>...</td>\n",
       "      <td>...</td>\n",
       "    </tr>\n",
       "    <tr>\n",
       "      <th>173254</th>\n",
       "      <td>1554</td>\n",
       "      <td>2.32</td>\n",
       "    </tr>\n",
       "    <tr>\n",
       "      <th>173255</th>\n",
       "      <td>1546</td>\n",
       "      <td>2.33</td>\n",
       "    </tr>\n",
       "    <tr>\n",
       "      <th>173256</th>\n",
       "      <td>1552</td>\n",
       "      <td>2.32</td>\n",
       "    </tr>\n",
       "    <tr>\n",
       "      <th>173257</th>\n",
       "      <td>1545</td>\n",
       "      <td>2.33</td>\n",
       "    </tr>\n",
       "    <tr>\n",
       "      <th>173258</th>\n",
       "      <td>1546</td>\n",
       "      <td>2.33</td>\n",
       "    </tr>\n",
       "  </tbody>\n",
       "</table>\n",
       "<p>173259 rows × 2 columns</p>\n",
       "</div>"
      ],
      "text/plain": [
       "        Interval   kWh\n",
       "0          26289  0.14\n",
       "1          26243  0.14\n",
       "2          25885  0.14\n",
       "3          25754  0.14\n",
       "4          25774  0.14\n",
       "...          ...   ...\n",
       "173254      1554  2.32\n",
       "173255      1546  2.33\n",
       "173256      1552  2.32\n",
       "173257      1545  2.33\n",
       "173258      1546  2.33\n",
       "\n",
       "[173259 rows x 2 columns]"
      ]
     },
     "execution_count": 95,
     "metadata": {},
     "output_type": "execute_result"
    }
   ],
   "source": [
    "conso_data = conso_data.dropna()\n",
    "conso_data"
   ]
  },
  {
   "cell_type": "code",
   "execution_count": 96,
   "metadata": {},
   "outputs": [
    {
     "data": {
      "text/plain": [
       "<Axes: >"
      ]
     },
     "execution_count": 96,
     "metadata": {},
     "output_type": "execute_result"
    },
    {
     "data": {
      "image/png": "[encoded data removed]",
      "text/plain": [
       "<Figure size 640x480 with 1 Axes>"
      ]
     },
     "metadata": {},
     "output_type": "display_data"
    }
   ],
   "source": [
    "conso_data['kWh'].plot()"
   ]
  },
  {
   "cell_type": "code",
   "execution_count": 97,
   "metadata": {},
   "outputs": [
    {
     "data": {
      "text/html": [
       "<div>\n",
       "<style scoped>\n",
       "    .dataframe tbody tr th:only-of-type {\n",
       "        vertical-align: middle;\n",
       "    }\n",
       "\n",
       "    .dataframe tbody tr th {\n",
       "        vertical-align: top;\n",
       "    }\n",
       "\n",
       "    .dataframe thead th {\n",
       "        text-align: right;\n",
       "    }\n",
       "</style>\n",
       "<table border=\"1\" class=\"dataframe\">\n",
       "  <thead>\n",
       "    <tr style=\"text-align: right;\">\n",
       "      <th></th>\n",
       "      <th>Interval</th>\n",
       "      <th>kWh</th>\n",
       "      <th>sec</th>\n",
       "      <th>Wh</th>\n",
       "      <th>cumul(ms)</th>\n",
       "    </tr>\n",
       "  </thead>\n",
       "  <tbody>\n",
       "    <tr>\n",
       "      <th>0</th>\n",
       "      <td>26289</td>\n",
       "      <td>0.14</td>\n",
       "      <td>26.289</td>\n",
       "      <td>136.939404</td>\n",
       "      <td>26289</td>\n",
       "    </tr>\n",
       "    <tr>\n",
       "      <th>1</th>\n",
       "      <td>26243</td>\n",
       "      <td>0.14</td>\n",
       "      <td>26.243</td>\n",
       "      <td>137.179438</td>\n",
       "      <td>52532</td>\n",
       "    </tr>\n",
       "    <tr>\n",
       "      <th>2</th>\n",
       "      <td>25885</td>\n",
       "      <td>0.14</td>\n",
       "      <td>25.885</td>\n",
       "      <td>139.076685</td>\n",
       "      <td>78417</td>\n",
       "    </tr>\n",
       "    <tr>\n",
       "      <th>3</th>\n",
       "      <td>25754</td>\n",
       "      <td>0.14</td>\n",
       "      <td>25.754</td>\n",
       "      <td>139.784111</td>\n",
       "      <td>104171</td>\n",
       "    </tr>\n",
       "    <tr>\n",
       "      <th>4</th>\n",
       "      <td>25774</td>\n",
       "      <td>0.14</td>\n",
       "      <td>25.774</td>\n",
       "      <td>139.675642</td>\n",
       "      <td>129945</td>\n",
       "    </tr>\n",
       "    <tr>\n",
       "      <th>...</th>\n",
       "      <td>...</td>\n",
       "      <td>...</td>\n",
       "      <td>...</td>\n",
       "      <td>...</td>\n",
       "      <td>...</td>\n",
       "    </tr>\n",
       "    <tr>\n",
       "      <th>173254</th>\n",
       "      <td>1554</td>\n",
       "      <td>2.32</td>\n",
       "      <td>1.554</td>\n",
       "      <td>2316.602317</td>\n",
       "      <td>4096927357</td>\n",
       "    </tr>\n",
       "    <tr>\n",
       "      <th>173255</th>\n",
       "      <td>1546</td>\n",
       "      <td>2.33</td>\n",
       "      <td>1.546</td>\n",
       "      <td>2328.589909</td>\n",
       "      <td>4096928903</td>\n",
       "    </tr>\n",
       "    <tr>\n",
       "      <th>173256</th>\n",
       "      <td>1552</td>\n",
       "      <td>2.32</td>\n",
       "      <td>1.552</td>\n",
       "      <td>2319.587629</td>\n",
       "      <td>4096930455</td>\n",
       "    </tr>\n",
       "    <tr>\n",
       "      <th>173257</th>\n",
       "      <td>1545</td>\n",
       "      <td>2.33</td>\n",
       "      <td>1.545</td>\n",
       "      <td>2330.097087</td>\n",
       "      <td>4096932000</td>\n",
       "    </tr>\n",
       "    <tr>\n",
       "      <th>173258</th>\n",
       "      <td>1546</td>\n",
       "      <td>2.33</td>\n",
       "      <td>1.546</td>\n",
       "      <td>2328.589909</td>\n",
       "      <td>4096933546</td>\n",
       "    </tr>\n",
       "  </tbody>\n",
       "</table>\n",
       "<p>173259 rows × 5 columns</p>\n",
       "</div>"
      ],
      "text/plain": [
       "        Interval   kWh     sec           Wh   cumul(ms)\n",
       "0          26289  0.14  26.289   136.939404       26289\n",
       "1          26243  0.14  26.243   137.179438       52532\n",
       "2          25885  0.14  25.885   139.076685       78417\n",
       "3          25754  0.14  25.754   139.784111      104171\n",
       "4          25774  0.14  25.774   139.675642      129945\n",
       "...          ...   ...     ...          ...         ...\n",
       "173254      1554  2.32   1.554  2316.602317  4096927357\n",
       "173255      1546  2.33   1.546  2328.589909  4096928903\n",
       "173256      1552  2.32   1.552  2319.587629  4096930455\n",
       "173257      1545  2.33   1.545  2330.097087  4096932000\n",
       "173258      1546  2.33   1.546  2328.589909  4096933546\n",
       "\n",
       "[173259 rows x 5 columns]"
      ]
     },
     "execution_count": 97,
     "metadata": {},
     "output_type": "execute_result"
    }
   ],
   "source": [
    "conso_data['sec']=conso_data['Interval']/1000\n",
    "conso_data['Wh']=3600000/conso_data['Interval']\n",
    "conso_data['cumul(ms)']=conso_data['Interval'].cumsum(axis=0)\n",
    "\n",
    "conso_data"
   ]
  },
  {
   "cell_type": "code",
   "execution_count": 98,
   "metadata": {},
   "outputs": [
    {
     "data": {
      "text/plain": [
       "173258"
      ]
     },
     "execution_count": 98,
     "metadata": {},
     "output_type": "execute_result"
    }
   ],
   "source": [
    "# index dernier echantillon\n",
    "l=len(conso_data)-1\n",
    "l"
   ]
  },
  {
   "cell_type": "code",
   "execution_count": 99,
   "metadata": {},
   "outputs": [
    {
     "data": {
      "text/plain": [
       "4096933546000"
      ]
     },
     "execution_count": 99,
     "metadata": {},
     "output_type": "execute_result"
    }
   ],
   "source": [
    "# cumtime = int(conso_data['cumul(ms)'].tail(1).values[0]*1000)\n",
    "cumtime= int(conso_data._get_value(l,'cumul(ms)')*1000)\n",
    "cumtime"
   ]
  },
  {
   "cell_type": "code",
   "execution_count": 100,
   "metadata": {},
   "outputs": [
    {
     "data": {
      "text/plain": [
       "datetime.datetime(2024, 3, 7, 1, 48, 3, 969441)"
      ]
     },
     "execution_count": 100,
     "metadata": {},
     "output_type": "execute_result"
    }
   ],
   "source": [
    "from datetime import datetime, timedelta\n",
    "now = datetime.now()\n",
    "# conso.csv dynamique\n",
    "base = now - timedelta(microseconds=cumtime)\n",
    "base  # date de début\n"
   ]
  },
  {
   "cell_type": "code",
   "execution_count": 101,
   "metadata": {},
   "outputs": [
    {
     "data": {
      "text/plain": [
       "False"
      ]
     },
     "execution_count": 101,
     "metadata": {},
     "output_type": "execute_result"
    }
   ],
   "source": [
    "old"
   ]
  },
  {
   "cell_type": "code",
   "execution_count": 102,
   "metadata": {},
   "outputs": [
    {
     "name": "stdout",
     "output_type": "stream",
     "text": [
      "<class 'pandas.core.frame.DataFrame'>\n",
      "RangeIndex: 173259 entries, 0 to 173258\n",
      "Data columns (total 6 columns):\n",
      " #   Column     Non-Null Count   Dtype         \n",
      "---  ------     --------------   -----         \n",
      " 0   Interval   173259 non-null  int64         \n",
      " 1   kWh        173259 non-null  float64       \n",
      " 2   sec        173259 non-null  float64       \n",
      " 3   Wh         173259 non-null  float64       \n",
      " 4   cumul(ms)  173259 non-null  int64         \n",
      " 5   dates      173259 non-null  datetime64[ns]\n",
      "dtypes: datetime64[ns](1), float64(3), int64(2)\n",
      "memory usage: 7.9 MB\n"
     ]
    }
   ],
   "source": [
    "if old:\n",
    "    base = dt.datetime(2023, 8, 1, 10, 45, 0) - timedelta(microseconds=cumtime)\n",
    "\n",
    "conso_data['dates'] = [base + dt.timedelta(microseconds=t*1000) for t in conso_data['cumul(ms)']]\n",
    "conso_data.info()\n"
   ]
  },
  {
   "cell_type": "code",
   "execution_count": 103,
   "metadata": {},
   "outputs": [
    {
     "data": {
      "text/html": [
       "<div>\n",
       "<style scoped>\n",
       "    .dataframe tbody tr th:only-of-type {\n",
       "        vertical-align: middle;\n",
       "    }\n",
       "\n",
       "    .dataframe tbody tr th {\n",
       "        vertical-align: top;\n",
       "    }\n",
       "\n",
       "    .dataframe thead th {\n",
       "        text-align: right;\n",
       "    }\n",
       "</style>\n",
       "<table border=\"1\" class=\"dataframe\">\n",
       "  <thead>\n",
       "    <tr style=\"text-align: right;\">\n",
       "      <th></th>\n",
       "      <th>Interval</th>\n",
       "      <th>kWh</th>\n",
       "      <th>sec</th>\n",
       "      <th>Wh</th>\n",
       "      <th>cumul(ms)</th>\n",
       "      <th>dates</th>\n",
       "      <th>days</th>\n",
       "    </tr>\n",
       "  </thead>\n",
       "  <tbody>\n",
       "    <tr>\n",
       "      <th>0</th>\n",
       "      <td>26289</td>\n",
       "      <td>0.14</td>\n",
       "      <td>26.289</td>\n",
       "      <td>136.939404</td>\n",
       "      <td>26289</td>\n",
       "      <td>2024-03-07 01:48:30.258441</td>\n",
       "      <td>07/03/2024</td>\n",
       "    </tr>\n",
       "    <tr>\n",
       "      <th>1</th>\n",
       "      <td>26243</td>\n",
       "      <td>0.14</td>\n",
       "      <td>26.243</td>\n",
       "      <td>137.179438</td>\n",
       "      <td>52532</td>\n",
       "      <td>2024-03-07 01:48:56.501441</td>\n",
       "      <td>07/03/2024</td>\n",
       "    </tr>\n",
       "    <tr>\n",
       "      <th>2</th>\n",
       "      <td>25885</td>\n",
       "      <td>0.14</td>\n",
       "      <td>25.885</td>\n",
       "      <td>139.076685</td>\n",
       "      <td>78417</td>\n",
       "      <td>2024-03-07 01:49:22.386441</td>\n",
       "      <td>07/03/2024</td>\n",
       "    </tr>\n",
       "    <tr>\n",
       "      <th>3</th>\n",
       "      <td>25754</td>\n",
       "      <td>0.14</td>\n",
       "      <td>25.754</td>\n",
       "      <td>139.784111</td>\n",
       "      <td>104171</td>\n",
       "      <td>2024-03-07 01:49:48.140441</td>\n",
       "      <td>07/03/2024</td>\n",
       "    </tr>\n",
       "    <tr>\n",
       "      <th>4</th>\n",
       "      <td>25774</td>\n",
       "      <td>0.14</td>\n",
       "      <td>25.774</td>\n",
       "      <td>139.675642</td>\n",
       "      <td>129945</td>\n",
       "      <td>2024-03-07 01:50:13.914441</td>\n",
       "      <td>07/03/2024</td>\n",
       "    </tr>\n",
       "    <tr>\n",
       "      <th>...</th>\n",
       "      <td>...</td>\n",
       "      <td>...</td>\n",
       "      <td>...</td>\n",
       "      <td>...</td>\n",
       "      <td>...</td>\n",
       "      <td>...</td>\n",
       "      <td>...</td>\n",
       "    </tr>\n",
       "    <tr>\n",
       "      <th>173254</th>\n",
       "      <td>1554</td>\n",
       "      <td>2.32</td>\n",
       "      <td>1.554</td>\n",
       "      <td>2316.602317</td>\n",
       "      <td>4096927357</td>\n",
       "      <td>2024-04-23 11:50:11.326441</td>\n",
       "      <td>23/04/2024</td>\n",
       "    </tr>\n",
       "    <tr>\n",
       "      <th>173255</th>\n",
       "      <td>1546</td>\n",
       "      <td>2.33</td>\n",
       "      <td>1.546</td>\n",
       "      <td>2328.589909</td>\n",
       "      <td>4096928903</td>\n",
       "      <td>2024-04-23 11:50:12.872441</td>\n",
       "      <td>23/04/2024</td>\n",
       "    </tr>\n",
       "    <tr>\n",
       "      <th>173256</th>\n",
       "      <td>1552</td>\n",
       "      <td>2.32</td>\n",
       "      <td>1.552</td>\n",
       "      <td>2319.587629</td>\n",
       "      <td>4096930455</td>\n",
       "      <td>2024-04-23 11:50:14.424441</td>\n",
       "      <td>23/04/2024</td>\n",
       "    </tr>\n",
       "    <tr>\n",
       "      <th>173257</th>\n",
       "      <td>1545</td>\n",
       "      <td>2.33</td>\n",
       "      <td>1.545</td>\n",
       "      <td>2330.097087</td>\n",
       "      <td>4096932000</td>\n",
       "      <td>2024-04-23 11:50:15.969441</td>\n",
       "      <td>23/04/2024</td>\n",
       "    </tr>\n",
       "    <tr>\n",
       "      <th>173258</th>\n",
       "      <td>1546</td>\n",
       "      <td>2.33</td>\n",
       "      <td>1.546</td>\n",
       "      <td>2328.589909</td>\n",
       "      <td>4096933546</td>\n",
       "      <td>2024-04-23 11:50:17.515441</td>\n",
       "      <td>23/04/2024</td>\n",
       "    </tr>\n",
       "  </tbody>\n",
       "</table>\n",
       "<p>173259 rows × 7 columns</p>\n",
       "</div>"
      ],
      "text/plain": [
       "        Interval   kWh     sec           Wh   cumul(ms)  \\\n",
       "0          26289  0.14  26.289   136.939404       26289   \n",
       "1          26243  0.14  26.243   137.179438       52532   \n",
       "2          25885  0.14  25.885   139.076685       78417   \n",
       "3          25754  0.14  25.754   139.784111      104171   \n",
       "4          25774  0.14  25.774   139.675642      129945   \n",
       "...          ...   ...     ...          ...         ...   \n",
       "173254      1554  2.32   1.554  2316.602317  4096927357   \n",
       "173255      1546  2.33   1.546  2328.589909  4096928903   \n",
       "173256      1552  2.32   1.552  2319.587629  4096930455   \n",
       "173257      1545  2.33   1.545  2330.097087  4096932000   \n",
       "173258      1546  2.33   1.546  2328.589909  4096933546   \n",
       "\n",
       "                            dates        days  \n",
       "0      2024-03-07 01:48:30.258441  07/03/2024  \n",
       "1      2024-03-07 01:48:56.501441  07/03/2024  \n",
       "2      2024-03-07 01:49:22.386441  07/03/2024  \n",
       "3      2024-03-07 01:49:48.140441  07/03/2024  \n",
       "4      2024-03-07 01:50:13.914441  07/03/2024  \n",
       "...                           ...         ...  \n",
       "173254 2024-04-23 11:50:11.326441  23/04/2024  \n",
       "173255 2024-04-23 11:50:12.872441  23/04/2024  \n",
       "173256 2024-04-23 11:50:14.424441  23/04/2024  \n",
       "173257 2024-04-23 11:50:15.969441  23/04/2024  \n",
       "173258 2024-04-23 11:50:17.515441  23/04/2024  \n",
       "\n",
       "[173259 rows x 7 columns]"
      ]
     },
     "execution_count": 103,
     "metadata": {},
     "output_type": "execute_result"
    }
   ],
   "source": [
    "conso_data['days']= [d.strftime('%d/%m/%Y') for d in conso_data['dates']]    #[str(d.month)+'-'+str(d.day) for d in conso_data['dates']]\n",
    "conso_data"
   ]
  },
  {
   "cell_type": "code",
   "execution_count": 104,
   "metadata": {},
   "outputs": [
    {
     "data": {
      "text/plain": [
       "(   Interval   kWh     sec          Wh  cumul(ms)                      dates  \\\n",
       " 0     26289  0.14  26.289  136.939404      26289 2024-03-07 01:48:30.258441   \n",
       " \n",
       "          days  \n",
       " 0  07/03/2024  ,\n",
       "         Interval   kWh    sec           Wh   cumul(ms)  \\\n",
       " 173258      1546  2.33  1.546  2328.589909  4096933546   \n",
       " \n",
       "                             dates        days  \n",
       " 173258 2024-04-23 11:50:17.515441  23/04/2024  )"
      ]
     },
     "execution_count": 104,
     "metadata": {},
     "output_type": "execute_result"
    }
   ],
   "source": [
    "#conso_data\n",
    "conso_data.head(1),conso_data.tail(1)"
   ]
  },
  {
   "cell_type": "code",
   "execution_count": 105,
   "metadata": {},
   "outputs": [
    {
     "data": {
      "text/plain": [
       "('23/04/2024', 4, 2024)"
      ]
     },
     "execution_count": 105,
     "metadata": {},
     "output_type": "execute_result"
    }
   ],
   "source": [
    "# tranche journalière\n",
    "now = datetime.now()\n",
    "month = now.month\n",
    "year = now.year\n",
    "day = now.strftime('%d/%m/%Y')    #str(now.month)+'-'+str(now.day)\n",
    "day, month, year"
   ]
  },
  {
   "cell_type": "code",
   "execution_count": 106,
   "metadata": {},
   "outputs": [
    {
     "data": {
      "text/html": [
       "<div>\n",
       "<style scoped>\n",
       "    .dataframe tbody tr th:only-of-type {\n",
       "        vertical-align: middle;\n",
       "    }\n",
       "\n",
       "    .dataframe tbody tr th {\n",
       "        vertical-align: top;\n",
       "    }\n",
       "\n",
       "    .dataframe thead th {\n",
       "        text-align: right;\n",
       "    }\n",
       "</style>\n",
       "<table border=\"1\" class=\"dataframe\">\n",
       "  <thead>\n",
       "    <tr style=\"text-align: right;\">\n",
       "      <th></th>\n",
       "      <th>Interval</th>\n",
       "      <th>kWh</th>\n",
       "      <th>sec</th>\n",
       "      <th>Wh</th>\n",
       "      <th>cumul(ms)</th>\n",
       "      <th>dates</th>\n",
       "      <th>days</th>\n",
       "    </tr>\n",
       "  </thead>\n",
       "  <tbody>\n",
       "    <tr>\n",
       "      <th>171824</th>\n",
       "      <td>24339</td>\n",
       "      <td>0.15</td>\n",
       "      <td>24.339</td>\n",
       "      <td>147.910761</td>\n",
       "      <td>4054337145</td>\n",
       "      <td>2024-04-23 00:00:21.114441</td>\n",
       "      <td>23/04/2024</td>\n",
       "    </tr>\n",
       "    <tr>\n",
       "      <th>171825</th>\n",
       "      <td>23805</td>\n",
       "      <td>0.15</td>\n",
       "      <td>23.805</td>\n",
       "      <td>151.228733</td>\n",
       "      <td>4054360950</td>\n",
       "      <td>2024-04-23 00:00:44.919441</td>\n",
       "      <td>23/04/2024</td>\n",
       "    </tr>\n",
       "    <tr>\n",
       "      <th>171826</th>\n",
       "      <td>22778</td>\n",
       "      <td>0.16</td>\n",
       "      <td>22.778</td>\n",
       "      <td>158.047239</td>\n",
       "      <td>4054383728</td>\n",
       "      <td>2024-04-23 00:01:07.697441</td>\n",
       "      <td>23/04/2024</td>\n",
       "    </tr>\n",
       "    <tr>\n",
       "      <th>171827</th>\n",
       "      <td>23013</td>\n",
       "      <td>0.16</td>\n",
       "      <td>23.013</td>\n",
       "      <td>156.433320</td>\n",
       "      <td>4054406741</td>\n",
       "      <td>2024-04-23 00:01:30.710441</td>\n",
       "      <td>23/04/2024</td>\n",
       "    </tr>\n",
       "    <tr>\n",
       "      <th>171828</th>\n",
       "      <td>23398</td>\n",
       "      <td>0.15</td>\n",
       "      <td>23.398</td>\n",
       "      <td>153.859304</td>\n",
       "      <td>4054430139</td>\n",
       "      <td>2024-04-23 00:01:54.108441</td>\n",
       "      <td>23/04/2024</td>\n",
       "    </tr>\n",
       "    <tr>\n",
       "      <th>...</th>\n",
       "      <td>...</td>\n",
       "      <td>...</td>\n",
       "      <td>...</td>\n",
       "      <td>...</td>\n",
       "      <td>...</td>\n",
       "      <td>...</td>\n",
       "      <td>...</td>\n",
       "    </tr>\n",
       "    <tr>\n",
       "      <th>173254</th>\n",
       "      <td>1554</td>\n",
       "      <td>2.32</td>\n",
       "      <td>1.554</td>\n",
       "      <td>2316.602317</td>\n",
       "      <td>4096927357</td>\n",
       "      <td>2024-04-23 11:50:11.326441</td>\n",
       "      <td>23/04/2024</td>\n",
       "    </tr>\n",
       "    <tr>\n",
       "      <th>173255</th>\n",
       "      <td>1546</td>\n",
       "      <td>2.33</td>\n",
       "      <td>1.546</td>\n",
       "      <td>2328.589909</td>\n",
       "      <td>4096928903</td>\n",
       "      <td>2024-04-23 11:50:12.872441</td>\n",
       "      <td>23/04/2024</td>\n",
       "    </tr>\n",
       "    <tr>\n",
       "      <th>173256</th>\n",
       "      <td>1552</td>\n",
       "      <td>2.32</td>\n",
       "      <td>1.552</td>\n",
       "      <td>2319.587629</td>\n",
       "      <td>4096930455</td>\n",
       "      <td>2024-04-23 11:50:14.424441</td>\n",
       "      <td>23/04/2024</td>\n",
       "    </tr>\n",
       "    <tr>\n",
       "      <th>173257</th>\n",
       "      <td>1545</td>\n",
       "      <td>2.33</td>\n",
       "      <td>1.545</td>\n",
       "      <td>2330.097087</td>\n",
       "      <td>4096932000</td>\n",
       "      <td>2024-04-23 11:50:15.969441</td>\n",
       "      <td>23/04/2024</td>\n",
       "    </tr>\n",
       "    <tr>\n",
       "      <th>173258</th>\n",
       "      <td>1546</td>\n",
       "      <td>2.33</td>\n",
       "      <td>1.546</td>\n",
       "      <td>2328.589909</td>\n",
       "      <td>4096933546</td>\n",
       "      <td>2024-04-23 11:50:17.515441</td>\n",
       "      <td>23/04/2024</td>\n",
       "    </tr>\n",
       "  </tbody>\n",
       "</table>\n",
       "<p>1435 rows × 7 columns</p>\n",
       "</div>"
      ],
      "text/plain": [
       "        Interval   kWh     sec           Wh   cumul(ms)  \\\n",
       "171824     24339  0.15  24.339   147.910761  4054337145   \n",
       "171825     23805  0.15  23.805   151.228733  4054360950   \n",
       "171826     22778  0.16  22.778   158.047239  4054383728   \n",
       "171827     23013  0.16  23.013   156.433320  4054406741   \n",
       "171828     23398  0.15  23.398   153.859304  4054430139   \n",
       "...          ...   ...     ...          ...         ...   \n",
       "173254      1554  2.32   1.554  2316.602317  4096927357   \n",
       "173255      1546  2.33   1.546  2328.589909  4096928903   \n",
       "173256      1552  2.32   1.552  2319.587629  4096930455   \n",
       "173257      1545  2.33   1.545  2330.097087  4096932000   \n",
       "173258      1546  2.33   1.546  2328.589909  4096933546   \n",
       "\n",
       "                            dates        days  \n",
       "171824 2024-04-23 00:00:21.114441  23/04/2024  \n",
       "171825 2024-04-23 00:00:44.919441  23/04/2024  \n",
       "171826 2024-04-23 00:01:07.697441  23/04/2024  \n",
       "171827 2024-04-23 00:01:30.710441  23/04/2024  \n",
       "171828 2024-04-23 00:01:54.108441  23/04/2024  \n",
       "...                           ...         ...  \n",
       "173254 2024-04-23 11:50:11.326441  23/04/2024  \n",
       "173255 2024-04-23 11:50:12.872441  23/04/2024  \n",
       "173256 2024-04-23 11:50:14.424441  23/04/2024  \n",
       "173257 2024-04-23 11:50:15.969441  23/04/2024  \n",
       "173258 2024-04-23 11:50:17.515441  23/04/2024  \n",
       "\n",
       "[1435 rows x 7 columns]"
      ]
     },
     "execution_count": 106,
     "metadata": {},
     "output_type": "execute_result"
    }
   ],
   "source": [
    "conso_data[conso_data['days']==day]"
   ]
  },
  {
   "cell_type": "code",
   "execution_count": 107,
   "metadata": {},
   "outputs": [
    {
     "data": {
      "text/plain": [
       "'23/04/2024'"
      ]
     },
     "execution_count": 107,
     "metadata": {},
     "output_type": "execute_result"
    }
   ],
   "source": [
    "day"
   ]
  },
  {
   "cell_type": "code",
   "execution_count": 108,
   "metadata": {},
   "outputs": [
    {
     "data": {
      "text/html": [
       "<div>\n",
       "<style scoped>\n",
       "    .dataframe tbody tr th:only-of-type {\n",
       "        vertical-align: middle;\n",
       "    }\n",
       "\n",
       "    .dataframe tbody tr th {\n",
       "        vertical-align: top;\n",
       "    }\n",
       "\n",
       "    .dataframe thead th {\n",
       "        text-align: right;\n",
       "    }\n",
       "</style>\n",
       "<table border=\"1\" class=\"dataframe\">\n",
       "  <thead>\n",
       "    <tr style=\"text-align: right;\">\n",
       "      <th></th>\n",
       "      <th>Interval</th>\n",
       "      <th>kWh</th>\n",
       "      <th>sec</th>\n",
       "      <th>Wh</th>\n",
       "      <th>cumul(ms)</th>\n",
       "      <th>dates</th>\n",
       "      <th>days</th>\n",
       "    </tr>\n",
       "  </thead>\n",
       "  <tbody>\n",
       "    <tr>\n",
       "      <th>0</th>\n",
       "      <td>26289</td>\n",
       "      <td>0.14</td>\n",
       "      <td>26.289</td>\n",
       "      <td>136.939404</td>\n",
       "      <td>26289</td>\n",
       "      <td>2024-03-07 01:48:30.258441</td>\n",
       "      <td>07/03/2024</td>\n",
       "    </tr>\n",
       "    <tr>\n",
       "      <th>1</th>\n",
       "      <td>26243</td>\n",
       "      <td>0.14</td>\n",
       "      <td>26.243</td>\n",
       "      <td>137.179438</td>\n",
       "      <td>52532</td>\n",
       "      <td>2024-03-07 01:48:56.501441</td>\n",
       "      <td>07/03/2024</td>\n",
       "    </tr>\n",
       "    <tr>\n",
       "      <th>2</th>\n",
       "      <td>25885</td>\n",
       "      <td>0.14</td>\n",
       "      <td>25.885</td>\n",
       "      <td>139.076685</td>\n",
       "      <td>78417</td>\n",
       "      <td>2024-03-07 01:49:22.386441</td>\n",
       "      <td>07/03/2024</td>\n",
       "    </tr>\n",
       "    <tr>\n",
       "      <th>3</th>\n",
       "      <td>25754</td>\n",
       "      <td>0.14</td>\n",
       "      <td>25.754</td>\n",
       "      <td>139.784111</td>\n",
       "      <td>104171</td>\n",
       "      <td>2024-03-07 01:49:48.140441</td>\n",
       "      <td>07/03/2024</td>\n",
       "    </tr>\n",
       "    <tr>\n",
       "      <th>4</th>\n",
       "      <td>25774</td>\n",
       "      <td>0.14</td>\n",
       "      <td>25.774</td>\n",
       "      <td>139.675642</td>\n",
       "      <td>129945</td>\n",
       "      <td>2024-03-07 01:50:13.914441</td>\n",
       "      <td>07/03/2024</td>\n",
       "    </tr>\n",
       "    <tr>\n",
       "      <th>...</th>\n",
       "      <td>...</td>\n",
       "      <td>...</td>\n",
       "      <td>...</td>\n",
       "      <td>...</td>\n",
       "      <td>...</td>\n",
       "      <td>...</td>\n",
       "      <td>...</td>\n",
       "    </tr>\n",
       "    <tr>\n",
       "      <th>173254</th>\n",
       "      <td>1554</td>\n",
       "      <td>2.32</td>\n",
       "      <td>1.554</td>\n",
       "      <td>2316.602317</td>\n",
       "      <td>4096927357</td>\n",
       "      <td>2024-04-23 11:50:11.326441</td>\n",
       "      <td>23/04/2024</td>\n",
       "    </tr>\n",
       "    <tr>\n",
       "      <th>173255</th>\n",
       "      <td>1546</td>\n",
       "      <td>2.33</td>\n",
       "      <td>1.546</td>\n",
       "      <td>2328.589909</td>\n",
       "      <td>4096928903</td>\n",
       "      <td>2024-04-23 11:50:12.872441</td>\n",
       "      <td>23/04/2024</td>\n",
       "    </tr>\n",
       "    <tr>\n",
       "      <th>173256</th>\n",
       "      <td>1552</td>\n",
       "      <td>2.32</td>\n",
       "      <td>1.552</td>\n",
       "      <td>2319.587629</td>\n",
       "      <td>4096930455</td>\n",
       "      <td>2024-04-23 11:50:14.424441</td>\n",
       "      <td>23/04/2024</td>\n",
       "    </tr>\n",
       "    <tr>\n",
       "      <th>173257</th>\n",
       "      <td>1545</td>\n",
       "      <td>2.33</td>\n",
       "      <td>1.545</td>\n",
       "      <td>2330.097087</td>\n",
       "      <td>4096932000</td>\n",
       "      <td>2024-04-23 11:50:15.969441</td>\n",
       "      <td>23/04/2024</td>\n",
       "    </tr>\n",
       "    <tr>\n",
       "      <th>173258</th>\n",
       "      <td>1546</td>\n",
       "      <td>2.33</td>\n",
       "      <td>1.546</td>\n",
       "      <td>2328.589909</td>\n",
       "      <td>4096933546</td>\n",
       "      <td>2024-04-23 11:50:17.515441</td>\n",
       "      <td>23/04/2024</td>\n",
       "    </tr>\n",
       "  </tbody>\n",
       "</table>\n",
       "<p>173259 rows × 7 columns</p>\n",
       "</div>"
      ],
      "text/plain": [
       "        Interval   kWh     sec           Wh   cumul(ms)  \\\n",
       "0          26289  0.14  26.289   136.939404       26289   \n",
       "1          26243  0.14  26.243   137.179438       52532   \n",
       "2          25885  0.14  25.885   139.076685       78417   \n",
       "3          25754  0.14  25.754   139.784111      104171   \n",
       "4          25774  0.14  25.774   139.675642      129945   \n",
       "...          ...   ...     ...          ...         ...   \n",
       "173254      1554  2.32   1.554  2316.602317  4096927357   \n",
       "173255      1546  2.33   1.546  2328.589909  4096928903   \n",
       "173256      1552  2.32   1.552  2319.587629  4096930455   \n",
       "173257      1545  2.33   1.545  2330.097087  4096932000   \n",
       "173258      1546  2.33   1.546  2328.589909  4096933546   \n",
       "\n",
       "                            dates        days  \n",
       "0      2024-03-07 01:48:30.258441  07/03/2024  \n",
       "1      2024-03-07 01:48:56.501441  07/03/2024  \n",
       "2      2024-03-07 01:49:22.386441  07/03/2024  \n",
       "3      2024-03-07 01:49:48.140441  07/03/2024  \n",
       "4      2024-03-07 01:50:13.914441  07/03/2024  \n",
       "...                           ...         ...  \n",
       "173254 2024-04-23 11:50:11.326441  23/04/2024  \n",
       "173255 2024-04-23 11:50:12.872441  23/04/2024  \n",
       "173256 2024-04-23 11:50:14.424441  23/04/2024  \n",
       "173257 2024-04-23 11:50:15.969441  23/04/2024  \n",
       "173258 2024-04-23 11:50:17.515441  23/04/2024  \n",
       "\n",
       "[173259 rows x 7 columns]"
      ]
     },
     "execution_count": 108,
     "metadata": {},
     "output_type": "execute_result"
    }
   ],
   "source": [
    "conso_data"
   ]
  },
  {
   "cell_type": "code",
   "execution_count": 109,
   "metadata": {},
   "outputs": [
    {
     "data": {
      "text/plain": [
       "<pandas.core.groupby.generic.DataFrameGroupBy object at 0x000002A1E5470140>"
      ]
     },
     "execution_count": 109,
     "metadata": {},
     "output_type": "execute_result"
    }
   ],
   "source": [
    "# group by day\n",
    "grouped = conso_data[['days','kWh']].groupby('days', sort=False)\n",
    "'''conso_graph=[]\n",
    "for name, group in grouped:\n",
    "    if name=='01/04/2024':print(group)\n",
    "    #print(\"\\n\", name, len(group)/1000)\n",
    "    conso_graph.append((name,len(group)/1000))'''\n",
    "grouped\n"
   ]
  },
  {
   "cell_type": "code",
   "execution_count": 110,
   "metadata": {},
   "outputs": [
    {
     "data": {
      "text/html": [
       "<div>\n",
       "<style scoped>\n",
       "    .dataframe tbody tr th:only-of-type {\n",
       "        vertical-align: middle;\n",
       "    }\n",
       "\n",
       "    .dataframe tbody tr th {\n",
       "        vertical-align: top;\n",
       "    }\n",
       "\n",
       "    .dataframe thead th {\n",
       "        text-align: right;\n",
       "    }\n",
       "</style>\n",
       "<table border=\"1\" class=\"dataframe\">\n",
       "  <thead>\n",
       "    <tr style=\"text-align: right;\">\n",
       "      <th></th>\n",
       "      <th>kWh</th>\n",
       "    </tr>\n",
       "    <tr>\n",
       "      <th>days</th>\n",
       "      <th></th>\n",
       "    </tr>\n",
       "  </thead>\n",
       "  <tbody>\n",
       "    <tr>\n",
       "      <th>07/03/2024</th>\n",
       "      <td>3.140</td>\n",
       "    </tr>\n",
       "    <tr>\n",
       "      <th>08/03/2024</th>\n",
       "      <td>3.751</td>\n",
       "    </tr>\n",
       "    <tr>\n",
       "      <th>09/03/2024</th>\n",
       "      <td>3.082</td>\n",
       "    </tr>\n",
       "    <tr>\n",
       "      <th>10/03/2024</th>\n",
       "      <td>3.534</td>\n",
       "    </tr>\n",
       "    <tr>\n",
       "      <th>11/03/2024</th>\n",
       "      <td>4.544</td>\n",
       "    </tr>\n",
       "    <tr>\n",
       "      <th>12/03/2024</th>\n",
       "      <td>3.554</td>\n",
       "    </tr>\n",
       "    <tr>\n",
       "      <th>13/03/2024</th>\n",
       "      <td>3.539</td>\n",
       "    </tr>\n",
       "    <tr>\n",
       "      <th>14/03/2024</th>\n",
       "      <td>3.655</td>\n",
       "    </tr>\n",
       "    <tr>\n",
       "      <th>15/03/2024</th>\n",
       "      <td>3.563</td>\n",
       "    </tr>\n",
       "    <tr>\n",
       "      <th>16/03/2024</th>\n",
       "      <td>3.360</td>\n",
       "    </tr>\n",
       "    <tr>\n",
       "      <th>17/03/2024</th>\n",
       "      <td>3.349</td>\n",
       "    </tr>\n",
       "    <tr>\n",
       "      <th>18/03/2024</th>\n",
       "      <td>4.402</td>\n",
       "    </tr>\n",
       "    <tr>\n",
       "      <th>19/03/2024</th>\n",
       "      <td>3.508</td>\n",
       "    </tr>\n",
       "    <tr>\n",
       "      <th>20/03/2024</th>\n",
       "      <td>3.444</td>\n",
       "    </tr>\n",
       "    <tr>\n",
       "      <th>21/03/2024</th>\n",
       "      <td>3.547</td>\n",
       "    </tr>\n",
       "    <tr>\n",
       "      <th>22/03/2024</th>\n",
       "      <td>3.745</td>\n",
       "    </tr>\n",
       "    <tr>\n",
       "      <th>23/03/2024</th>\n",
       "      <td>3.526</td>\n",
       "    </tr>\n",
       "    <tr>\n",
       "      <th>24/03/2024</th>\n",
       "      <td>3.340</td>\n",
       "    </tr>\n",
       "    <tr>\n",
       "      <th>25/03/2024</th>\n",
       "      <td>3.889</td>\n",
       "    </tr>\n",
       "    <tr>\n",
       "      <th>26/03/2024</th>\n",
       "      <td>3.419</td>\n",
       "    </tr>\n",
       "    <tr>\n",
       "      <th>27/03/2024</th>\n",
       "      <td>3.474</td>\n",
       "    </tr>\n",
       "    <tr>\n",
       "      <th>28/03/2024</th>\n",
       "      <td>3.637</td>\n",
       "    </tr>\n",
       "    <tr>\n",
       "      <th>29/03/2024</th>\n",
       "      <td>3.757</td>\n",
       "    </tr>\n",
       "    <tr>\n",
       "      <th>30/03/2024</th>\n",
       "      <td>3.651</td>\n",
       "    </tr>\n",
       "    <tr>\n",
       "      <th>31/03/2024</th>\n",
       "      <td>3.833</td>\n",
       "    </tr>\n",
       "    <tr>\n",
       "      <th>01/04/2024</th>\n",
       "      <td>3.837</td>\n",
       "    </tr>\n",
       "    <tr>\n",
       "      <th>02/04/2024</th>\n",
       "      <td>3.818</td>\n",
       "    </tr>\n",
       "    <tr>\n",
       "      <th>03/04/2024</th>\n",
       "      <td>3.419</td>\n",
       "    </tr>\n",
       "    <tr>\n",
       "      <th>04/04/2024</th>\n",
       "      <td>3.477</td>\n",
       "    </tr>\n",
       "    <tr>\n",
       "      <th>05/04/2024</th>\n",
       "      <td>4.416</td>\n",
       "    </tr>\n",
       "    <tr>\n",
       "      <th>06/04/2024</th>\n",
       "      <td>3.404</td>\n",
       "    </tr>\n",
       "    <tr>\n",
       "      <th>07/04/2024</th>\n",
       "      <td>4.072</td>\n",
       "    </tr>\n",
       "    <tr>\n",
       "      <th>08/04/2024</th>\n",
       "      <td>3.779</td>\n",
       "    </tr>\n",
       "    <tr>\n",
       "      <th>09/04/2024</th>\n",
       "      <td>4.060</td>\n",
       "    </tr>\n",
       "    <tr>\n",
       "      <th>10/04/2024</th>\n",
       "      <td>3.433</td>\n",
       "    </tr>\n",
       "    <tr>\n",
       "      <th>11/04/2024</th>\n",
       "      <td>3.579</td>\n",
       "    </tr>\n",
       "    <tr>\n",
       "      <th>12/04/2024</th>\n",
       "      <td>3.446</td>\n",
       "    </tr>\n",
       "    <tr>\n",
       "      <th>13/04/2024</th>\n",
       "      <td>4.113</td>\n",
       "    </tr>\n",
       "    <tr>\n",
       "      <th>14/04/2024</th>\n",
       "      <td>3.272</td>\n",
       "    </tr>\n",
       "    <tr>\n",
       "      <th>15/04/2024</th>\n",
       "      <td>3.318</td>\n",
       "    </tr>\n",
       "    <tr>\n",
       "      <th>16/04/2024</th>\n",
       "      <td>3.701</td>\n",
       "    </tr>\n",
       "    <tr>\n",
       "      <th>17/04/2024</th>\n",
       "      <td>3.690</td>\n",
       "    </tr>\n",
       "    <tr>\n",
       "      <th>18/04/2024</th>\n",
       "      <td>4.219</td>\n",
       "    </tr>\n",
       "    <tr>\n",
       "      <th>19/04/2024</th>\n",
       "      <td>3.285</td>\n",
       "    </tr>\n",
       "    <tr>\n",
       "      <th>20/04/2024</th>\n",
       "      <td>3.378</td>\n",
       "    </tr>\n",
       "    <tr>\n",
       "      <th>21/04/2024</th>\n",
       "      <td>3.768</td>\n",
       "    </tr>\n",
       "    <tr>\n",
       "      <th>22/04/2024</th>\n",
       "      <td>4.097</td>\n",
       "    </tr>\n",
       "    <tr>\n",
       "      <th>23/04/2024</th>\n",
       "      <td>1.435</td>\n",
       "    </tr>\n",
       "  </tbody>\n",
       "</table>\n",
       "</div>"
      ],
      "text/plain": [
       "              kWh\n",
       "days             \n",
       "07/03/2024  3.140\n",
       "08/03/2024  3.751\n",
       "09/03/2024  3.082\n",
       "10/03/2024  3.534\n",
       "11/03/2024  4.544\n",
       "12/03/2024  3.554\n",
       "13/03/2024  3.539\n",
       "14/03/2024  3.655\n",
       "15/03/2024  3.563\n",
       "16/03/2024  3.360\n",
       "17/03/2024  3.349\n",
       "18/03/2024  4.402\n",
       "19/03/2024  3.508\n",
       "20/03/2024  3.444\n",
       "21/03/2024  3.547\n",
       "22/03/2024  3.745\n",
       "23/03/2024  3.526\n",
       "24/03/2024  3.340\n",
       "25/03/2024  3.889\n",
       "26/03/2024  3.419\n",
       "27/03/2024  3.474\n",
       "28/03/2024  3.637\n",
       "29/03/2024  3.757\n",
       "30/03/2024  3.651\n",
       "31/03/2024  3.833\n",
       "01/04/2024  3.837\n",
       "02/04/2024  3.818\n",
       "03/04/2024  3.419\n",
       "04/04/2024  3.477\n",
       "05/04/2024  4.416\n",
       "06/04/2024  3.404\n",
       "07/04/2024  4.072\n",
       "08/04/2024  3.779\n",
       "09/04/2024  4.060\n",
       "10/04/2024  3.433\n",
       "11/04/2024  3.579\n",
       "12/04/2024  3.446\n",
       "13/04/2024  4.113\n",
       "14/04/2024  3.272\n",
       "15/04/2024  3.318\n",
       "16/04/2024  3.701\n",
       "17/04/2024  3.690\n",
       "18/04/2024  4.219\n",
       "19/04/2024  3.285\n",
       "20/04/2024  3.378\n",
       "21/04/2024  3.768\n",
       "22/04/2024  4.097\n",
       "23/04/2024  1.435"
      ]
     },
     "execution_count": 110,
     "metadata": {},
     "output_type": "execute_result"
    }
   ],
   "source": [
    "# count elements in each group => conso in watts => convert to kW\n",
    "(grouped.count()/1000)"
   ]
  },
  {
   "cell_type": "code",
   "execution_count": 111,
   "metadata": {},
   "outputs": [
    {
     "data": {
      "text/plain": [
       "kWh    0.327616\n",
       "dtype: float64"
      ]
     },
     "execution_count": 111,
     "metadata": {},
     "output_type": "execute_result"
    }
   ],
   "source": [
    "# mean of all instant conso\n",
    "total_mean = conso_data[['kWh']].mean()\n",
    "total_mean\n"
   ]
  },
  {
   "cell_type": "code",
   "execution_count": 112,
   "metadata": {},
   "outputs": [
    {
     "data": {
      "text/plain": [
       "kWh    3.609563\n",
       "dtype: float64"
      ]
     },
     "execution_count": 112,
     "metadata": {},
     "output_type": "execute_result"
    }
   ],
   "source": [
    "# mean by day from 07/03\n",
    "mean=(grouped.count()/1000).mean()\n",
    "mean"
   ]
  },
  {
   "cell_type": "code",
   "execution_count": 113,
   "metadata": {},
   "outputs": [],
   "source": [
    "filename='conso_par_jour.csv'\n",
    "df_grp = grouped.count()/1000\n",
    "df_grp.to_csv(filename)\n",
    "filename='../conso_par_jour.csv'\n",
    "df_grp.to_csv(filename)"
   ]
  },
  {
   "cell_type": "code",
   "execution_count": 114,
   "metadata": {},
   "outputs": [
    {
     "data": {
      "text/html": [
       "<div>\n",
       "<style scoped>\n",
       "    .dataframe tbody tr th:only-of-type {\n",
       "        vertical-align: middle;\n",
       "    }\n",
       "\n",
       "    .dataframe tbody tr th {\n",
       "        vertical-align: top;\n",
       "    }\n",
       "\n",
       "    .dataframe thead th {\n",
       "        text-align: right;\n",
       "    }\n",
       "</style>\n",
       "<table border=\"1\" class=\"dataframe\">\n",
       "  <thead>\n",
       "    <tr style=\"text-align: right;\">\n",
       "      <th></th>\n",
       "      <th>kWh</th>\n",
       "    </tr>\n",
       "    <tr>\n",
       "      <th>days</th>\n",
       "      <th></th>\n",
       "    </tr>\n",
       "  </thead>\n",
       "  <tbody>\n",
       "    <tr>\n",
       "      <th>07/03/2024</th>\n",
       "      <td>3.140</td>\n",
       "    </tr>\n",
       "    <tr>\n",
       "      <th>08/03/2024</th>\n",
       "      <td>3.751</td>\n",
       "    </tr>\n",
       "    <tr>\n",
       "      <th>09/03/2024</th>\n",
       "      <td>3.082</td>\n",
       "    </tr>\n",
       "    <tr>\n",
       "      <th>10/03/2024</th>\n",
       "      <td>3.534</td>\n",
       "    </tr>\n",
       "    <tr>\n",
       "      <th>11/03/2024</th>\n",
       "      <td>4.544</td>\n",
       "    </tr>\n",
       "    <tr>\n",
       "      <th>12/03/2024</th>\n",
       "      <td>3.554</td>\n",
       "    </tr>\n",
       "    <tr>\n",
       "      <th>13/03/2024</th>\n",
       "      <td>3.539</td>\n",
       "    </tr>\n",
       "    <tr>\n",
       "      <th>14/03/2024</th>\n",
       "      <td>3.655</td>\n",
       "    </tr>\n",
       "    <tr>\n",
       "      <th>15/03/2024</th>\n",
       "      <td>3.563</td>\n",
       "    </tr>\n",
       "    <tr>\n",
       "      <th>16/03/2024</th>\n",
       "      <td>3.360</td>\n",
       "    </tr>\n",
       "    <tr>\n",
       "      <th>17/03/2024</th>\n",
       "      <td>3.349</td>\n",
       "    </tr>\n",
       "    <tr>\n",
       "      <th>18/03/2024</th>\n",
       "      <td>4.402</td>\n",
       "    </tr>\n",
       "    <tr>\n",
       "      <th>19/03/2024</th>\n",
       "      <td>3.508</td>\n",
       "    </tr>\n",
       "    <tr>\n",
       "      <th>20/03/2024</th>\n",
       "      <td>3.444</td>\n",
       "    </tr>\n",
       "    <tr>\n",
       "      <th>21/03/2024</th>\n",
       "      <td>3.547</td>\n",
       "    </tr>\n",
       "    <tr>\n",
       "      <th>22/03/2024</th>\n",
       "      <td>3.745</td>\n",
       "    </tr>\n",
       "    <tr>\n",
       "      <th>23/03/2024</th>\n",
       "      <td>3.526</td>\n",
       "    </tr>\n",
       "    <tr>\n",
       "      <th>24/03/2024</th>\n",
       "      <td>3.340</td>\n",
       "    </tr>\n",
       "    <tr>\n",
       "      <th>25/03/2024</th>\n",
       "      <td>3.889</td>\n",
       "    </tr>\n",
       "    <tr>\n",
       "      <th>26/03/2024</th>\n",
       "      <td>3.419</td>\n",
       "    </tr>\n",
       "    <tr>\n",
       "      <th>27/03/2024</th>\n",
       "      <td>3.474</td>\n",
       "    </tr>\n",
       "    <tr>\n",
       "      <th>28/03/2024</th>\n",
       "      <td>3.637</td>\n",
       "    </tr>\n",
       "    <tr>\n",
       "      <th>29/03/2024</th>\n",
       "      <td>3.757</td>\n",
       "    </tr>\n",
       "    <tr>\n",
       "      <th>30/03/2024</th>\n",
       "      <td>3.651</td>\n",
       "    </tr>\n",
       "    <tr>\n",
       "      <th>31/03/2024</th>\n",
       "      <td>3.833</td>\n",
       "    </tr>\n",
       "    <tr>\n",
       "      <th>01/04/2024</th>\n",
       "      <td>3.837</td>\n",
       "    </tr>\n",
       "    <tr>\n",
       "      <th>02/04/2024</th>\n",
       "      <td>3.818</td>\n",
       "    </tr>\n",
       "    <tr>\n",
       "      <th>03/04/2024</th>\n",
       "      <td>3.419</td>\n",
       "    </tr>\n",
       "    <tr>\n",
       "      <th>04/04/2024</th>\n",
       "      <td>3.477</td>\n",
       "    </tr>\n",
       "    <tr>\n",
       "      <th>05/04/2024</th>\n",
       "      <td>4.416</td>\n",
       "    </tr>\n",
       "    <tr>\n",
       "      <th>06/04/2024</th>\n",
       "      <td>3.404</td>\n",
       "    </tr>\n",
       "    <tr>\n",
       "      <th>07/04/2024</th>\n",
       "      <td>4.072</td>\n",
       "    </tr>\n",
       "    <tr>\n",
       "      <th>08/04/2024</th>\n",
       "      <td>3.779</td>\n",
       "    </tr>\n",
       "    <tr>\n",
       "      <th>09/04/2024</th>\n",
       "      <td>4.060</td>\n",
       "    </tr>\n",
       "    <tr>\n",
       "      <th>10/04/2024</th>\n",
       "      <td>3.433</td>\n",
       "    </tr>\n",
       "    <tr>\n",
       "      <th>11/04/2024</th>\n",
       "      <td>3.579</td>\n",
       "    </tr>\n",
       "    <tr>\n",
       "      <th>12/04/2024</th>\n",
       "      <td>3.446</td>\n",
       "    </tr>\n",
       "    <tr>\n",
       "      <th>13/04/2024</th>\n",
       "      <td>4.113</td>\n",
       "    </tr>\n",
       "    <tr>\n",
       "      <th>14/04/2024</th>\n",
       "      <td>3.272</td>\n",
       "    </tr>\n",
       "    <tr>\n",
       "      <th>15/04/2024</th>\n",
       "      <td>3.318</td>\n",
       "    </tr>\n",
       "    <tr>\n",
       "      <th>16/04/2024</th>\n",
       "      <td>3.701</td>\n",
       "    </tr>\n",
       "    <tr>\n",
       "      <th>17/04/2024</th>\n",
       "      <td>3.690</td>\n",
       "    </tr>\n",
       "    <tr>\n",
       "      <th>18/04/2024</th>\n",
       "      <td>4.219</td>\n",
       "    </tr>\n",
       "    <tr>\n",
       "      <th>19/04/2024</th>\n",
       "      <td>3.285</td>\n",
       "    </tr>\n",
       "    <tr>\n",
       "      <th>20/04/2024</th>\n",
       "      <td>3.378</td>\n",
       "    </tr>\n",
       "    <tr>\n",
       "      <th>21/04/2024</th>\n",
       "      <td>3.768</td>\n",
       "    </tr>\n",
       "    <tr>\n",
       "      <th>22/04/2024</th>\n",
       "      <td>4.097</td>\n",
       "    </tr>\n",
       "    <tr>\n",
       "      <th>23/04/2024</th>\n",
       "      <td>1.435</td>\n",
       "    </tr>\n",
       "  </tbody>\n",
       "</table>\n",
       "</div>"
      ],
      "text/plain": [
       "              kWh\n",
       "days             \n",
       "07/03/2024  3.140\n",
       "08/03/2024  3.751\n",
       "09/03/2024  3.082\n",
       "10/03/2024  3.534\n",
       "11/03/2024  4.544\n",
       "12/03/2024  3.554\n",
       "13/03/2024  3.539\n",
       "14/03/2024  3.655\n",
       "15/03/2024  3.563\n",
       "16/03/2024  3.360\n",
       "17/03/2024  3.349\n",
       "18/03/2024  4.402\n",
       "19/03/2024  3.508\n",
       "20/03/2024  3.444\n",
       "21/03/2024  3.547\n",
       "22/03/2024  3.745\n",
       "23/03/2024  3.526\n",
       "24/03/2024  3.340\n",
       "25/03/2024  3.889\n",
       "26/03/2024  3.419\n",
       "27/03/2024  3.474\n",
       "28/03/2024  3.637\n",
       "29/03/2024  3.757\n",
       "30/03/2024  3.651\n",
       "31/03/2024  3.833\n",
       "01/04/2024  3.837\n",
       "02/04/2024  3.818\n",
       "03/04/2024  3.419\n",
       "04/04/2024  3.477\n",
       "05/04/2024  4.416\n",
       "06/04/2024  3.404\n",
       "07/04/2024  4.072\n",
       "08/04/2024  3.779\n",
       "09/04/2024  4.060\n",
       "10/04/2024  3.433\n",
       "11/04/2024  3.579\n",
       "12/04/2024  3.446\n",
       "13/04/2024  4.113\n",
       "14/04/2024  3.272\n",
       "15/04/2024  3.318\n",
       "16/04/2024  3.701\n",
       "17/04/2024  3.690\n",
       "18/04/2024  4.219\n",
       "19/04/2024  3.285\n",
       "20/04/2024  3.378\n",
       "21/04/2024  3.768\n",
       "22/04/2024  4.097\n",
       "23/04/2024  1.435"
      ]
     },
     "execution_count": 114,
     "metadata": {},
     "output_type": "execute_result"
    }
   ],
   "source": [
    "df_grp"
   ]
  },
  {
   "cell_type": "code",
   "execution_count": 115,
   "metadata": {},
   "outputs": [],
   "source": [
    "#manuel\n",
    "#day = '11/03/2024'\n"
   ]
  },
  {
   "cell_type": "code",
   "execution_count": 116,
   "metadata": {},
   "outputs": [
    {
     "data": {
      "text/plain": [
       "1435"
      ]
     },
     "execution_count": 116,
     "metadata": {},
     "output_type": "execute_result"
    }
   ],
   "source": [
    "# conso day\n",
    "conso_day = conso_data[conso_data['days']==day]\n",
    "len(conso_day)"
   ]
  },
  {
   "cell_type": "code",
   "execution_count": 117,
   "metadata": {},
   "outputs": [
    {
     "data": {
      "text/html": [
       "<div>\n",
       "<style scoped>\n",
       "    .dataframe tbody tr th:only-of-type {\n",
       "        vertical-align: middle;\n",
       "    }\n",
       "\n",
       "    .dataframe tbody tr th {\n",
       "        vertical-align: top;\n",
       "    }\n",
       "\n",
       "    .dataframe thead th {\n",
       "        text-align: right;\n",
       "    }\n",
       "</style>\n",
       "<table border=\"1\" class=\"dataframe\">\n",
       "  <thead>\n",
       "    <tr style=\"text-align: right;\">\n",
       "      <th></th>\n",
       "      <th>Interval</th>\n",
       "      <th>kWh</th>\n",
       "      <th>sec</th>\n",
       "      <th>Wh</th>\n",
       "      <th>cumul(ms)</th>\n",
       "      <th>dates</th>\n",
       "      <th>days</th>\n",
       "    </tr>\n",
       "  </thead>\n",
       "  <tbody>\n",
       "    <tr>\n",
       "      <th>171824</th>\n",
       "      <td>24339</td>\n",
       "      <td>0.15</td>\n",
       "      <td>24.339</td>\n",
       "      <td>147.910761</td>\n",
       "      <td>4054337145</td>\n",
       "      <td>2024-04-23 00:00:21.114441</td>\n",
       "      <td>23/04/2024</td>\n",
       "    </tr>\n",
       "    <tr>\n",
       "      <th>171825</th>\n",
       "      <td>23805</td>\n",
       "      <td>0.15</td>\n",
       "      <td>23.805</td>\n",
       "      <td>151.228733</td>\n",
       "      <td>4054360950</td>\n",
       "      <td>2024-04-23 00:00:44.919441</td>\n",
       "      <td>23/04/2024</td>\n",
       "    </tr>\n",
       "    <tr>\n",
       "      <th>171826</th>\n",
       "      <td>22778</td>\n",
       "      <td>0.16</td>\n",
       "      <td>22.778</td>\n",
       "      <td>158.047239</td>\n",
       "      <td>4054383728</td>\n",
       "      <td>2024-04-23 00:01:07.697441</td>\n",
       "      <td>23/04/2024</td>\n",
       "    </tr>\n",
       "    <tr>\n",
       "      <th>171827</th>\n",
       "      <td>23013</td>\n",
       "      <td>0.16</td>\n",
       "      <td>23.013</td>\n",
       "      <td>156.433320</td>\n",
       "      <td>4054406741</td>\n",
       "      <td>2024-04-23 00:01:30.710441</td>\n",
       "      <td>23/04/2024</td>\n",
       "    </tr>\n",
       "    <tr>\n",
       "      <th>171828</th>\n",
       "      <td>23398</td>\n",
       "      <td>0.15</td>\n",
       "      <td>23.398</td>\n",
       "      <td>153.859304</td>\n",
       "      <td>4054430139</td>\n",
       "      <td>2024-04-23 00:01:54.108441</td>\n",
       "      <td>23/04/2024</td>\n",
       "    </tr>\n",
       "    <tr>\n",
       "      <th>...</th>\n",
       "      <td>...</td>\n",
       "      <td>...</td>\n",
       "      <td>...</td>\n",
       "      <td>...</td>\n",
       "      <td>...</td>\n",
       "      <td>...</td>\n",
       "      <td>...</td>\n",
       "    </tr>\n",
       "    <tr>\n",
       "      <th>173254</th>\n",
       "      <td>1554</td>\n",
       "      <td>2.32</td>\n",
       "      <td>1.554</td>\n",
       "      <td>2316.602317</td>\n",
       "      <td>4096927357</td>\n",
       "      <td>2024-04-23 11:50:11.326441</td>\n",
       "      <td>23/04/2024</td>\n",
       "    </tr>\n",
       "    <tr>\n",
       "      <th>173255</th>\n",
       "      <td>1546</td>\n",
       "      <td>2.33</td>\n",
       "      <td>1.546</td>\n",
       "      <td>2328.589909</td>\n",
       "      <td>4096928903</td>\n",
       "      <td>2024-04-23 11:50:12.872441</td>\n",
       "      <td>23/04/2024</td>\n",
       "    </tr>\n",
       "    <tr>\n",
       "      <th>173256</th>\n",
       "      <td>1552</td>\n",
       "      <td>2.32</td>\n",
       "      <td>1.552</td>\n",
       "      <td>2319.587629</td>\n",
       "      <td>4096930455</td>\n",
       "      <td>2024-04-23 11:50:14.424441</td>\n",
       "      <td>23/04/2024</td>\n",
       "    </tr>\n",
       "    <tr>\n",
       "      <th>173257</th>\n",
       "      <td>1545</td>\n",
       "      <td>2.33</td>\n",
       "      <td>1.545</td>\n",
       "      <td>2330.097087</td>\n",
       "      <td>4096932000</td>\n",
       "      <td>2024-04-23 11:50:15.969441</td>\n",
       "      <td>23/04/2024</td>\n",
       "    </tr>\n",
       "    <tr>\n",
       "      <th>173258</th>\n",
       "      <td>1546</td>\n",
       "      <td>2.33</td>\n",
       "      <td>1.546</td>\n",
       "      <td>2328.589909</td>\n",
       "      <td>4096933546</td>\n",
       "      <td>2024-04-23 11:50:17.515441</td>\n",
       "      <td>23/04/2024</td>\n",
       "    </tr>\n",
       "  </tbody>\n",
       "</table>\n",
       "<p>1435 rows × 7 columns</p>\n",
       "</div>"
      ],
      "text/plain": [
       "        Interval   kWh     sec           Wh   cumul(ms)  \\\n",
       "171824     24339  0.15  24.339   147.910761  4054337145   \n",
       "171825     23805  0.15  23.805   151.228733  4054360950   \n",
       "171826     22778  0.16  22.778   158.047239  4054383728   \n",
       "171827     23013  0.16  23.013   156.433320  4054406741   \n",
       "171828     23398  0.15  23.398   153.859304  4054430139   \n",
       "...          ...   ...     ...          ...         ...   \n",
       "173254      1554  2.32   1.554  2316.602317  4096927357   \n",
       "173255      1546  2.33   1.546  2328.589909  4096928903   \n",
       "173256      1552  2.32   1.552  2319.587629  4096930455   \n",
       "173257      1545  2.33   1.545  2330.097087  4096932000   \n",
       "173258      1546  2.33   1.546  2328.589909  4096933546   \n",
       "\n",
       "                            dates        days  \n",
       "171824 2024-04-23 00:00:21.114441  23/04/2024  \n",
       "171825 2024-04-23 00:00:44.919441  23/04/2024  \n",
       "171826 2024-04-23 00:01:07.697441  23/04/2024  \n",
       "171827 2024-04-23 00:01:30.710441  23/04/2024  \n",
       "171828 2024-04-23 00:01:54.108441  23/04/2024  \n",
       "...                           ...         ...  \n",
       "173254 2024-04-23 11:50:11.326441  23/04/2024  \n",
       "173255 2024-04-23 11:50:12.872441  23/04/2024  \n",
       "173256 2024-04-23 11:50:14.424441  23/04/2024  \n",
       "173257 2024-04-23 11:50:15.969441  23/04/2024  \n",
       "173258 2024-04-23 11:50:17.515441  23/04/2024  \n",
       "\n",
       "[1435 rows x 7 columns]"
      ]
     },
     "execution_count": 117,
     "metadata": {},
     "output_type": "execute_result"
    }
   ],
   "source": [
    "conso_day"
   ]
  },
  {
   "cell_type": "code",
   "execution_count": 118,
   "metadata": {},
   "outputs": [],
   "source": [
    "filename='conso_jour.csv'\n",
    "conso_day.to_csv(filename)\n",
    "filename='../conso_jour.csv'\n",
    "conso_day.to_csv(filename)"
   ]
  },
  {
   "cell_type": "code",
   "execution_count": 119,
   "metadata": {},
   "outputs": [
    {
     "data": {
      "text/plain": [
       "(171824   2024-04-23 00:00:21.114441\n",
       " Name: dates, dtype: datetime64[ns],\n",
       " 173258   2024-04-23 11:50:17.515441\n",
       " Name: dates, dtype: datetime64[ns])"
      ]
     },
     "execution_count": 119,
     "metadata": {},
     "output_type": "execute_result"
    }
   ],
   "source": [
    "conso_day.head(1).dates, conso_day.tail(1).dates\n"
   ]
  },
  {
   "cell_type": "code",
   "execution_count": 120,
   "metadata": {},
   "outputs": [
    {
     "data": {
      "text/plain": [
       "171824   2024-04-23 00:00:21.114441\n",
       "171825   2024-04-23 00:00:44.919441\n",
       "171826   2024-04-23 00:01:07.697441\n",
       "171827   2024-04-23 00:01:30.710441\n",
       "171828   2024-04-23 00:01:54.108441\n",
       "                    ...            \n",
       "173254   2024-04-23 11:50:11.326441\n",
       "173255   2024-04-23 11:50:12.872441\n",
       "173256   2024-04-23 11:50:14.424441\n",
       "173257   2024-04-23 11:50:15.969441\n",
       "173258   2024-04-23 11:50:17.515441\n",
       "Name: dates, Length: 1435, dtype: datetime64[ns]"
      ]
     },
     "execution_count": 120,
     "metadata": {},
     "output_type": "execute_result"
    }
   ],
   "source": [
    "conso_day.loc[:,'dates']"
   ]
  },
  {
   "cell_type": "code",
   "execution_count": 121,
   "metadata": {},
   "outputs": [
    {
     "name": "stderr",
     "output_type": "stream",
     "text": [
      "C:\\Users\\jean\\AppData\\Local\\Temp\\ipykernel_1212\\2932063292.py:1: SettingWithCopyWarning: \n",
      "A value is trying to be set on a copy of a slice from a DataFrame.\n",
      "Try using .loc[row_indexer,col_indexer] = value instead\n",
      "\n",
      "See the caveats in the documentation: https://pandas.pydata.org/pandas-docs/stable/user_guide/indexing.html#returning-a-view-versus-a-copy\n",
      "  conso_day['heure']=conso_day.loc[:,'dates'].apply(lambda x: str(x.hour)+':'+str(x.minute) +':'+str(x.second))\n"
     ]
    },
    {
     "data": {
      "text/html": [
       "<div>\n",
       "<style scoped>\n",
       "    .dataframe tbody tr th:only-of-type {\n",
       "        vertical-align: middle;\n",
       "    }\n",
       "\n",
       "    .dataframe tbody tr th {\n",
       "        vertical-align: top;\n",
       "    }\n",
       "\n",
       "    .dataframe thead th {\n",
       "        text-align: right;\n",
       "    }\n",
       "</style>\n",
       "<table border=\"1\" class=\"dataframe\">\n",
       "  <thead>\n",
       "    <tr style=\"text-align: right;\">\n",
       "      <th></th>\n",
       "      <th>Interval</th>\n",
       "      <th>kWh</th>\n",
       "      <th>sec</th>\n",
       "      <th>Wh</th>\n",
       "      <th>cumul(ms)</th>\n",
       "      <th>dates</th>\n",
       "      <th>days</th>\n",
       "    </tr>\n",
       "    <tr>\n",
       "      <th>heure</th>\n",
       "      <th></th>\n",
       "      <th></th>\n",
       "      <th></th>\n",
       "      <th></th>\n",
       "      <th></th>\n",
       "      <th></th>\n",
       "      <th></th>\n",
       "    </tr>\n",
       "  </thead>\n",
       "  <tbody>\n",
       "    <tr>\n",
       "      <th>0:0:21</th>\n",
       "      <td>24339</td>\n",
       "      <td>0.15</td>\n",
       "      <td>24.339</td>\n",
       "      <td>147.910761</td>\n",
       "      <td>4054337145</td>\n",
       "      <td>2024-04-23 00:00:21.114441</td>\n",
       "      <td>23/04/2024</td>\n",
       "    </tr>\n",
       "    <tr>\n",
       "      <th>0:0:44</th>\n",
       "      <td>23805</td>\n",
       "      <td>0.15</td>\n",
       "      <td>23.805</td>\n",
       "      <td>151.228733</td>\n",
       "      <td>4054360950</td>\n",
       "      <td>2024-04-23 00:00:44.919441</td>\n",
       "      <td>23/04/2024</td>\n",
       "    </tr>\n",
       "    <tr>\n",
       "      <th>0:1:7</th>\n",
       "      <td>22778</td>\n",
       "      <td>0.16</td>\n",
       "      <td>22.778</td>\n",
       "      <td>158.047239</td>\n",
       "      <td>4054383728</td>\n",
       "      <td>2024-04-23 00:01:07.697441</td>\n",
       "      <td>23/04/2024</td>\n",
       "    </tr>\n",
       "    <tr>\n",
       "      <th>0:1:30</th>\n",
       "      <td>23013</td>\n",
       "      <td>0.16</td>\n",
       "      <td>23.013</td>\n",
       "      <td>156.433320</td>\n",
       "      <td>4054406741</td>\n",
       "      <td>2024-04-23 00:01:30.710441</td>\n",
       "      <td>23/04/2024</td>\n",
       "    </tr>\n",
       "    <tr>\n",
       "      <th>0:1:54</th>\n",
       "      <td>23398</td>\n",
       "      <td>0.15</td>\n",
       "      <td>23.398</td>\n",
       "      <td>153.859304</td>\n",
       "      <td>4054430139</td>\n",
       "      <td>2024-04-23 00:01:54.108441</td>\n",
       "      <td>23/04/2024</td>\n",
       "    </tr>\n",
       "    <tr>\n",
       "      <th>...</th>\n",
       "      <td>...</td>\n",
       "      <td>...</td>\n",
       "      <td>...</td>\n",
       "      <td>...</td>\n",
       "      <td>...</td>\n",
       "      <td>...</td>\n",
       "      <td>...</td>\n",
       "    </tr>\n",
       "    <tr>\n",
       "      <th>11:50:11</th>\n",
       "      <td>1554</td>\n",
       "      <td>2.32</td>\n",
       "      <td>1.554</td>\n",
       "      <td>2316.602317</td>\n",
       "      <td>4096927357</td>\n",
       "      <td>2024-04-23 11:50:11.326441</td>\n",
       "      <td>23/04/2024</td>\n",
       "    </tr>\n",
       "    <tr>\n",
       "      <th>11:50:12</th>\n",
       "      <td>1546</td>\n",
       "      <td>2.33</td>\n",
       "      <td>1.546</td>\n",
       "      <td>2328.589909</td>\n",
       "      <td>4096928903</td>\n",
       "      <td>2024-04-23 11:50:12.872441</td>\n",
       "      <td>23/04/2024</td>\n",
       "    </tr>\n",
       "    <tr>\n",
       "      <th>11:50:14</th>\n",
       "      <td>1552</td>\n",
       "      <td>2.32</td>\n",
       "      <td>1.552</td>\n",
       "      <td>2319.587629</td>\n",
       "      <td>4096930455</td>\n",
       "      <td>2024-04-23 11:50:14.424441</td>\n",
       "      <td>23/04/2024</td>\n",
       "    </tr>\n",
       "    <tr>\n",
       "      <th>11:50:15</th>\n",
       "      <td>1545</td>\n",
       "      <td>2.33</td>\n",
       "      <td>1.545</td>\n",
       "      <td>2330.097087</td>\n",
       "      <td>4096932000</td>\n",
       "      <td>2024-04-23 11:50:15.969441</td>\n",
       "      <td>23/04/2024</td>\n",
       "    </tr>\n",
       "    <tr>\n",
       "      <th>11:50:17</th>\n",
       "      <td>1546</td>\n",
       "      <td>2.33</td>\n",
       "      <td>1.546</td>\n",
       "      <td>2328.589909</td>\n",
       "      <td>4096933546</td>\n",
       "      <td>2024-04-23 11:50:17.515441</td>\n",
       "      <td>23/04/2024</td>\n",
       "    </tr>\n",
       "  </tbody>\n",
       "</table>\n",
       "<p>1435 rows × 7 columns</p>\n",
       "</div>"
      ],
      "text/plain": [
       "          Interval   kWh     sec           Wh   cumul(ms)  \\\n",
       "heure                                                       \n",
       "0:0:21       24339  0.15  24.339   147.910761  4054337145   \n",
       "0:0:44       23805  0.15  23.805   151.228733  4054360950   \n",
       "0:1:7        22778  0.16  22.778   158.047239  4054383728   \n",
       "0:1:30       23013  0.16  23.013   156.433320  4054406741   \n",
       "0:1:54       23398  0.15  23.398   153.859304  4054430139   \n",
       "...            ...   ...     ...          ...         ...   \n",
       "11:50:11      1554  2.32   1.554  2316.602317  4096927357   \n",
       "11:50:12      1546  2.33   1.546  2328.589909  4096928903   \n",
       "11:50:14      1552  2.32   1.552  2319.587629  4096930455   \n",
       "11:50:15      1545  2.33   1.545  2330.097087  4096932000   \n",
       "11:50:17      1546  2.33   1.546  2328.589909  4096933546   \n",
       "\n",
       "                              dates        days  \n",
       "heure                                            \n",
       "0:0:21   2024-04-23 00:00:21.114441  23/04/2024  \n",
       "0:0:44   2024-04-23 00:00:44.919441  23/04/2024  \n",
       "0:1:7    2024-04-23 00:01:07.697441  23/04/2024  \n",
       "0:1:30   2024-04-23 00:01:30.710441  23/04/2024  \n",
       "0:1:54   2024-04-23 00:01:54.108441  23/04/2024  \n",
       "...                             ...         ...  \n",
       "11:50:11 2024-04-23 11:50:11.326441  23/04/2024  \n",
       "11:50:12 2024-04-23 11:50:12.872441  23/04/2024  \n",
       "11:50:14 2024-04-23 11:50:14.424441  23/04/2024  \n",
       "11:50:15 2024-04-23 11:50:15.969441  23/04/2024  \n",
       "11:50:17 2024-04-23 11:50:17.515441  23/04/2024  \n",
       "\n",
       "[1435 rows x 7 columns]"
      ]
     },
     "execution_count": 121,
     "metadata": {},
     "output_type": "execute_result"
    }
   ],
   "source": [
    "conso_day['heure']=conso_day.loc[:,'dates'].apply(lambda x: str(x.hour)+':'+str(x.minute) +':'+str(x.second))\n",
    "#=[x.hour for x in conso_day['dates']]\n",
    "conso_day\n",
    "df= conso_day.set_index('heure')\n",
    "df"
   ]
  },
  {
   "cell_type": "code",
   "execution_count": 122,
   "metadata": {},
   "outputs": [
    {
     "data": {
      "text/plain": [
       "('11:50:30', 1.435)"
      ]
     },
     "execution_count": 122,
     "metadata": {},
     "output_type": "execute_result"
    }
   ],
   "source": [
    "here = now.strftime('%H:%M:%S')\n",
    "here, len(df)/1000"
   ]
  },
  {
   "cell_type": "code",
   "execution_count": 123,
   "metadata": {},
   "outputs": [],
   "source": [
    "conso_jour=len(df['kWh'])"
   ]
  },
  {
   "cell_type": "code",
   "execution_count": 124,
   "metadata": {},
   "outputs": [
    {
     "data": {
      "image/png": "[encoded data removed]",
      "text/plain": [
       "<Figure size 640x480 with 1 Axes>"
      ]
     },
     "metadata": {},
     "output_type": "display_data"
    }
   ],
   "source": [
    "df_grp.iloc[:-1].plot()#kind='bar')\n",
    "plt.plot((0,len(df_grp)-1),(mean,mean))\n",
    "plt.xticks(rotation=45)\n",
    "plt.grid()\n"
   ]
  },
  {
   "cell_type": "code",
   "execution_count": 125,
   "metadata": {},
   "outputs": [
    {
     "data": {
      "image/png": "[encoded data removed]",
      "text/plain": [
       "<Figure size 1500x700 with 1 Axes>"
      ]
     },
     "metadata": {},
     "output_type": "display_data"
    }
   ],
   "source": [
    "from matplotlib.ticker import (MultipleLocator, AutoMinorLocator)\n",
    "# consommation d'une journée entière à partir de minuit\n",
    "fig, ax = plt.subplots()\n",
    "major_ticks=300;minor_ticks=100\n",
    "ax.xaxis.set_major_locator(MultipleLocator(major_ticks))  # major ticks tous les 15 min\n",
    "ax.xaxis.set_minor_locator(MultipleLocator(minor_ticks))\n",
    "# the size of A4 paper\n",
    "fig.set_size_inches(15, 7)\n",
    "plt.plot(df['kWh'])\n",
    "#plt.plot(conso_day['heure'],conso_day['kWh'])\n",
    "plt.title(f'Journée du {day} {here} : {conso_jour/1000} kwh')\n",
    "plt.grid()"
   ]
  },
  {
   "cell_type": "code",
   "execution_count": 126,
   "metadata": {},
   "outputs": [],
   "source": [
    "df['power']=[y for x,y in zip(df['Interval'],df['kWh'])]"
   ]
  },
  {
   "cell_type": "code",
   "execution_count": 127,
   "metadata": {},
   "outputs": [
    {
     "data": {
      "text/plain": [
       "heure\n",
       "0:0:21      0.15\n",
       "0:0:44      0.15\n",
       "0:1:7       0.16\n",
       "0:1:30      0.16\n",
       "0:1:54      0.15\n",
       "            ... \n",
       "11:50:11    2.32\n",
       "11:50:12    2.33\n",
       "11:50:14    2.32\n",
       "11:50:15    2.33\n",
       "11:50:17    2.33\n",
       "Name: power, Length: 1435, dtype: float64"
      ]
     },
     "execution_count": 127,
     "metadata": {},
     "output_type": "execute_result"
    }
   ],
   "source": [
    "df['power']"
   ]
  },
  {
   "cell_type": "code",
   "execution_count": 128,
   "metadata": {},
   "outputs": [
    {
     "data": {
      "text/plain": [
       "<Axes: xlabel='heure'>"
      ]
     },
     "execution_count": 128,
     "metadata": {},
     "output_type": "execute_result"
    },
    {
     "data": {
      "image/png": "[encoded data removed]",
      "text/plain": [
       "<Figure size 640x480 with 1 Axes>"
      ]
     },
     "metadata": {},
     "output_type": "display_data"
    }
   ],
   "source": [
    "evo=df['power'].cumsum()\n",
    "evo.plot()"
   ]
  },
  {
   "cell_type": "code",
   "execution_count": 129,
   "metadata": {},
   "outputs": [
    {
     "data": {
      "text/plain": [
       "98"
      ]
     },
     "execution_count": 129,
     "metadata": {},
     "output_type": "execute_result"
    },
    {
     "data": {
      "image/png": "[encoded data removed]",
      "text/plain": [
       "<Figure size 640x480 with 1 Axes>"
      ]
     },
     "metadata": {},
     "output_type": "display_data"
    }
   ],
   "source": [
    "# bouilloire, microondes, four\n",
    "filter=(.5<df['kWh'])\n",
    "pic_high = df[filter]\n",
    "pic_high['kWh'].plot()\n",
    "len(pic_high)"
   ]
  },
  {
   "cell_type": "markdown",
   "metadata": {},
   "source": []
  },
  {
   "cell_type": "code",
   "execution_count": 130,
   "metadata": {},
   "outputs": [
    {
     "data": {
      "text/plain": [
       "537"
      ]
     },
     "execution_count": 130,
     "metadata": {},
     "output_type": "execute_result"
    },
    {
     "data": {
      "image/png": "[encoded data removed]",
      "text/plain": [
       "<Figure size 640x480 with 1 Axes>"
      ]
     },
     "metadata": {},
     "output_type": "display_data"
    }
   ],
   "source": [
    "# frigo, moteur volet\n",
    "pic_middle = df[(0.1<df['kWh']) & (df['kWh']<=.5)]\n",
    "pic_middle['kWh'].plot()\n",
    "len(pic_middle) # wh"
   ]
  },
  {
   "cell_type": "code",
   "execution_count": 131,
   "metadata": {},
   "outputs": [
    {
     "data": {
      "text/plain": [
       "1337"
      ]
     },
     "execution_count": 131,
     "metadata": {},
     "output_type": "execute_result"
    },
    {
     "data": {
      "image/png": "[encoded data removed]",
      "text/plain": [
       "<Figure size 640x480 with 1 Axes>"
      ]
     },
     "metadata": {},
     "output_type": "display_data"
    }
   ],
   "source": [
    "# pics frigo par jour\n",
    "filter = (df['kWh']<=0.5)\n",
    "pic_low = df[filter]\n",
    "pic_low['kWh'].plot()\n",
    "len(pic_low) # wh"
   ]
  },
  {
   "cell_type": "code",
   "execution_count": 132,
   "metadata": {},
   "outputs": [
    {
     "data": {
      "text/plain": [
       "0        2024-03-07 01:48:30.258441\n",
       "1        2024-03-07 01:48:56.501441\n",
       "2        2024-03-07 01:49:22.386441\n",
       "3        2024-03-07 01:49:48.140441\n",
       "4        2024-03-07 01:50:13.914441\n",
       "                    ...            \n",
       "173254   2024-04-23 11:50:11.326441\n",
       "173255   2024-04-23 11:50:12.872441\n",
       "173256   2024-04-23 11:50:14.424441\n",
       "173257   2024-04-23 11:50:15.969441\n",
       "173258   2024-04-23 11:50:17.515441\n",
       "Name: dates, Length: 173259, dtype: datetime64[ns]"
      ]
     },
     "execution_count": 132,
     "metadata": {},
     "output_type": "execute_result"
    }
   ],
   "source": [
    "time = conso_data['dates']\n",
    "time\n"
   ]
  },
  {
   "cell_type": "code",
   "execution_count": 133,
   "metadata": {},
   "outputs": [],
   "source": [
    "def format_date(space=3):\n",
    "    plt.gca().xaxis.set_major_formatter(mdates.DateFormatter('%d/%m\\n%H:%M'))\n",
    "    plt.gca().xaxis.set_major_locator(mdates.HourLocator(space))\n",
    "    #plt.gca().xaxis.set_major_locator(mdates.HourLocator(interval=space))\n",
    "    plt.gcf().autofmt_xdate()\n",
    "    plt.grid()"
   ]
  },
  {
   "cell_type": "code",
   "execution_count": 134,
   "metadata": {},
   "outputs": [],
   "source": [
    "if not old:\n",
    "    major_ticks=1/60;minor_ticks=1/240  # plus de ticks, 4 fois plus de minor\n",
    "    major_ticks=1/30;minor_ticks=1/120   # moins de ticks\n",
    "    major_ticks=1/15;minor_ticks=1/60\n",
    "    major_ticks=1/2;minor_ticks=1/8\n",
    "else:\n",
    "    major_ticks=4;minor_ticks=1   # encore moins si int\n"
   ]
  },
  {
   "cell_type": "code",
   "execution_count": 135,
   "metadata": {},
   "outputs": [
    {
     "data": {
      "text/plain": [
       "(4, 1)"
      ]
     },
     "execution_count": 135,
     "metadata": {},
     "output_type": "execute_result"
    }
   ],
   "source": [
    "major_ticks=4;minor_ticks=1\n",
    "major_ticks,minor_ticks"
   ]
  },
  {
   "cell_type": "markdown",
   "metadata": {},
   "source": [
    "## Main graph"
   ]
  },
  {
   "cell_type": "code",
   "execution_count": 136,
   "metadata": {},
   "outputs": [
    {
     "data": {
      "image/png": "[encoded data removed]",
      "text/plain": [
       "<Figure size 2500x1000 with 1 Axes>"
      ]
     },
     "metadata": {},
     "output_type": "display_data"
    }
   ],
   "source": [
    "\n",
    "from matplotlib.dates import (YEARLY, DateFormatter,rrulewrapper, RRuleLocator, drange)\n",
    "\n",
    "def show_graph():\n",
    "    fig, ax = plt.subplots()\n",
    "    # the size of A4 paper\n",
    "    fig.set_size_inches(25, 10)\n",
    "\n",
    "    #plt.rcParams['axes.autolimit_mode'] = 'round_numbers'\n",
    "    \n",
    "    #formatter = DateFormatter('%d/%m\\n%H:%M:%S')\n",
    "    formatter = DateFormatter('%d/%m\\n%H:%M')\n",
    "    ax.xaxis.set_major_formatter(formatter)\n",
    "\n",
    "    # ticks sur axe des x\n",
    "    ax.xaxis.set_major_locator(MultipleLocator(major_ticks))  # major ticks tous les 15 min\n",
    "    ax.xaxis.set_minor_locator(MultipleLocator(minor_ticks))  # minor ticks tous les 5 min\n",
    "    ax.tick_params(which='both', width=3)\n",
    "    ax.tick_params(which='major', length=15, color='r')\n",
    "    ax.tick_params(which='minor', length=8, color='b')\n",
    "\n",
    "    #plt.plot(conso_data['cumul(ms)']/3600000,conso_data['Wh'])\n",
    "    plt.plot(time,conso_data['Wh'])\n",
    "    plt.ylabel('Wh')\n",
    "    plt.xlabel('Time (heures)')\n",
    "    #format_date(10)\n",
    "    for label in ax.get_xticklabels():\n",
    "        label.set_rotation(40)\n",
    "        label.set_horizontalalignment('right')\n",
    "\n",
    "    #fig.autofmt_xdate()\n",
    "    \n",
    "    plt.grid()\n",
    "    plt.show()\n",
    "show_graph()"
   ]
  },
  {
   "cell_type": "code",
   "execution_count": 137,
   "metadata": {},
   "outputs": [
    {
     "data": {
      "text/html": [
       "<div>\n",
       "<style scoped>\n",
       "    .dataframe tbody tr th:only-of-type {\n",
       "        vertical-align: middle;\n",
       "    }\n",
       "\n",
       "    .dataframe tbody tr th {\n",
       "        vertical-align: top;\n",
       "    }\n",
       "\n",
       "    .dataframe thead th {\n",
       "        text-align: right;\n",
       "    }\n",
       "</style>\n",
       "<table border=\"1\" class=\"dataframe\">\n",
       "  <thead>\n",
       "    <tr style=\"text-align: right;\">\n",
       "      <th></th>\n",
       "      <th>Interval</th>\n",
       "      <th>kWh</th>\n",
       "      <th>sec</th>\n",
       "      <th>Wh</th>\n",
       "      <th>cumul(ms)</th>\n",
       "      <th>dates</th>\n",
       "      <th>days</th>\n",
       "    </tr>\n",
       "  </thead>\n",
       "  <tbody>\n",
       "    <tr>\n",
       "      <th>173258</th>\n",
       "      <td>1546</td>\n",
       "      <td>2.33</td>\n",
       "      <td>1.546</td>\n",
       "      <td>2328.589909</td>\n",
       "      <td>4096933546</td>\n",
       "      <td>2024-04-23 11:50:17.515441</td>\n",
       "      <td>23/04/2024</td>\n",
       "    </tr>\n",
       "  </tbody>\n",
       "</table>\n",
       "</div>"
      ],
      "text/plain": [
       "        Interval   kWh    sec           Wh   cumul(ms)  \\\n",
       "173258      1546  2.33  1.546  2328.589909  4096933546   \n",
       "\n",
       "                            dates        days  \n",
       "173258 2024-04-23 11:50:17.515441  23/04/2024  "
      ]
     },
     "execution_count": 137,
     "metadata": {},
     "output_type": "execute_result"
    }
   ],
   "source": [
    "cumul_conso = len(conso_data)\n",
    "conso_data.tail(1)"
   ]
  },
  {
   "cell_type": "code",
   "execution_count": 138,
   "metadata": {},
   "outputs": [
    {
     "data": {
      "text/plain": [
       "4096933546000"
      ]
     },
     "execution_count": 138,
     "metadata": {},
     "output_type": "execute_result"
    }
   ],
   "source": [
    "cumtime= int(conso_data._get_value(l,'cumul(ms)')*1000)\n",
    "cumtime"
   ]
  },
  {
   "cell_type": "markdown",
   "metadata": {},
   "source": [
    "# Slice of last 1 kWh"
   ]
  },
  {
   "cell_type": "code",
   "execution_count": 139,
   "metadata": {},
   "outputs": [
    {
     "data": {
      "text/plain": [
       "173259"
      ]
     },
     "execution_count": 139,
     "metadata": {},
     "output_type": "execute_result"
    }
   ],
   "source": [
    "l = len(conso_data)  # total watt consommés\n",
    "l"
   ]
  },
  {
   "cell_type": "code",
   "execution_count": 140,
   "metadata": {},
   "outputs": [
    {
     "data": {
      "text/plain": [
       "(173259, 1000)"
      ]
     },
     "execution_count": 140,
     "metadata": {},
     "output_type": "execute_result"
    }
   ],
   "source": [
    "k = 1\n",
    "taille = k*1000  # fenetre k*1000 watt consommés\n",
    "l,taille"
   ]
  },
  {
   "cell_type": "code",
   "execution_count": 141,
   "metadata": {},
   "outputs": [
    {
     "data": {
      "text/plain": [
       "1000"
      ]
     },
     "execution_count": 141,
     "metadata": {},
     "output_type": "execute_result"
    }
   ],
   "source": [
    "if l<1000:\n",
    "    part = 1\n",
    "else: part = 1/2\n",
    "#taille = int(part*l)\n",
    "taille"
   ]
  },
  {
   "cell_type": "code",
   "execution_count": 142,
   "metadata": {},
   "outputs": [
    {
     "data": {
      "text/plain": [
       "(1000,\n",
       "         Interval   kWh     sec           Wh   cumul(ms)  \\\n",
       " 172259     37077  0.10  37.077    97.095234  4067808282   \n",
       " 172260     37089  0.10  37.089    97.063819  4067845371   \n",
       " 172261     37135  0.10  37.135    96.943584  4067882506   \n",
       " 172262     36864  0.10  36.864    97.656250  4067919370   \n",
       " 172263     36801  0.10  36.801    97.823429  4067956171   \n",
       " ...          ...   ...     ...          ...         ...   \n",
       " 173254      1554  2.32   1.554  2316.602317  4096927357   \n",
       " 173255      1546  2.33   1.546  2328.589909  4096928903   \n",
       " 173256      1552  2.32   1.552  2319.587629  4096930455   \n",
       " 173257      1545  2.33   1.545  2330.097087  4096932000   \n",
       " 173258      1546  2.33   1.546  2328.589909  4096933546   \n",
       " \n",
       "                             dates        days  \n",
       " 172259 2024-04-23 03:44:52.251441  23/04/2024  \n",
       " 172260 2024-04-23 03:45:29.340441  23/04/2024  \n",
       " 172261 2024-04-23 03:46:06.475441  23/04/2024  \n",
       " 172262 2024-04-23 03:46:43.339441  23/04/2024  \n",
       " 172263 2024-04-23 03:47:20.140441  23/04/2024  \n",
       " ...                           ...         ...  \n",
       " 173254 2024-04-23 11:50:11.326441  23/04/2024  \n",
       " 173255 2024-04-23 11:50:12.872441  23/04/2024  \n",
       " 173256 2024-04-23 11:50:14.424441  23/04/2024  \n",
       " 173257 2024-04-23 11:50:15.969441  23/04/2024  \n",
       " 173258 2024-04-23 11:50:17.515441  23/04/2024  \n",
       " \n",
       " [1000 rows x 7 columns])"
      ]
     },
     "execution_count": 142,
     "metadata": {},
     "output_type": "execute_result"
    }
   ],
   "source": [
    "data = conso_data.tail(taille)\n",
    "len(data),data"
   ]
  },
  {
   "cell_type": "code",
   "execution_count": 143,
   "metadata": {},
   "outputs": [],
   "source": [
    "now = datetime.now()\n",
    "# conso.csv dynamique\n",
    "cumtime_start= int(conso_data._get_value(l-taille+1,'cumul(ms)')*1000) # conversion microseconds\n"
   ]
  },
  {
   "cell_type": "code",
   "execution_count": 144,
   "metadata": {},
   "outputs": [],
   "source": [
    "cumtime_end= int(data._get_value(l-1,'cumul(ms)')*1000) # conversion microseconds\n"
   ]
  },
  {
   "cell_type": "code",
   "execution_count": 145,
   "metadata": {},
   "outputs": [
    {
     "data": {
      "text/plain": [
       "(4096933546000, 4067845371000)"
      ]
     },
     "execution_count": 145,
     "metadata": {},
     "output_type": "execute_result"
    }
   ],
   "source": [
    "cumtime_end,cumtime_start"
   ]
  },
  {
   "cell_type": "code",
   "execution_count": 146,
   "metadata": {},
   "outputs": [
    {
     "data": {
      "text/plain": [
       "29088175000"
      ]
     },
     "execution_count": 146,
     "metadata": {},
     "output_type": "execute_result"
    }
   ],
   "source": [
    "#last_interval = int(data._get_value(l,'Interval')*1000) # conversion microseconds\n",
    "delta_cumtime = cumtime_end - cumtime_start #+ last_interval\n",
    "delta_cumtime"
   ]
  },
  {
   "cell_type": "code",
   "execution_count": 147,
   "metadata": {},
   "outputs": [
    {
     "data": {
      "text/plain": [
       "(datetime.datetime(2024, 4, 23, 11, 51, 42, 752618),\n",
       " datetime.datetime(2024, 4, 23, 3, 46, 54, 577618),\n",
       " '23/04/2024 11:50:17')"
      ]
     },
     "execution_count": 147,
     "metadata": {},
     "output_type": "execute_result"
    }
   ],
   "source": [
    "\n",
    "base = now - timedelta(microseconds=delta_cumtime)\n",
    "now,base, data['dates'][l-1].strftime('%d/%m/%Y %H:%M:%S')\n"
   ]
  },
  {
   "cell_type": "code",
   "execution_count": 148,
   "metadata": {},
   "outputs": [
    {
     "data": {
      "text/html": [
       "<div>\n",
       "<style scoped>\n",
       "    .dataframe tbody tr th:only-of-type {\n",
       "        vertical-align: middle;\n",
       "    }\n",
       "\n",
       "    .dataframe tbody tr th {\n",
       "        vertical-align: top;\n",
       "    }\n",
       "\n",
       "    .dataframe thead th {\n",
       "        text-align: right;\n",
       "    }\n",
       "</style>\n",
       "<table border=\"1\" class=\"dataframe\">\n",
       "  <thead>\n",
       "    <tr style=\"text-align: right;\">\n",
       "      <th></th>\n",
       "      <th>Interval</th>\n",
       "      <th>kWh</th>\n",
       "      <th>sec</th>\n",
       "      <th>Wh</th>\n",
       "      <th>cumul(ms)</th>\n",
       "      <th>dates</th>\n",
       "      <th>days</th>\n",
       "    </tr>\n",
       "  </thead>\n",
       "  <tbody>\n",
       "    <tr>\n",
       "      <th>0</th>\n",
       "      <td>26289</td>\n",
       "      <td>0.14</td>\n",
       "      <td>26.289</td>\n",
       "      <td>136.939404</td>\n",
       "      <td>26289</td>\n",
       "      <td>2024-03-07 01:48:30.258441</td>\n",
       "      <td>07/03/2024</td>\n",
       "    </tr>\n",
       "    <tr>\n",
       "      <th>1</th>\n",
       "      <td>26243</td>\n",
       "      <td>0.14</td>\n",
       "      <td>26.243</td>\n",
       "      <td>137.179438</td>\n",
       "      <td>52532</td>\n",
       "      <td>2024-03-07 01:48:56.501441</td>\n",
       "      <td>07/03/2024</td>\n",
       "    </tr>\n",
       "    <tr>\n",
       "      <th>2</th>\n",
       "      <td>25885</td>\n",
       "      <td>0.14</td>\n",
       "      <td>25.885</td>\n",
       "      <td>139.076685</td>\n",
       "      <td>78417</td>\n",
       "      <td>2024-03-07 01:49:22.386441</td>\n",
       "      <td>07/03/2024</td>\n",
       "    </tr>\n",
       "    <tr>\n",
       "      <th>3</th>\n",
       "      <td>25754</td>\n",
       "      <td>0.14</td>\n",
       "      <td>25.754</td>\n",
       "      <td>139.784111</td>\n",
       "      <td>104171</td>\n",
       "      <td>2024-03-07 01:49:48.140441</td>\n",
       "      <td>07/03/2024</td>\n",
       "    </tr>\n",
       "    <tr>\n",
       "      <th>4</th>\n",
       "      <td>25774</td>\n",
       "      <td>0.14</td>\n",
       "      <td>25.774</td>\n",
       "      <td>139.675642</td>\n",
       "      <td>129945</td>\n",
       "      <td>2024-03-07 01:50:13.914441</td>\n",
       "      <td>07/03/2024</td>\n",
       "    </tr>\n",
       "    <tr>\n",
       "      <th>...</th>\n",
       "      <td>...</td>\n",
       "      <td>...</td>\n",
       "      <td>...</td>\n",
       "      <td>...</td>\n",
       "      <td>...</td>\n",
       "      <td>...</td>\n",
       "      <td>...</td>\n",
       "    </tr>\n",
       "    <tr>\n",
       "      <th>173254</th>\n",
       "      <td>1554</td>\n",
       "      <td>2.32</td>\n",
       "      <td>1.554</td>\n",
       "      <td>2316.602317</td>\n",
       "      <td>4096927357</td>\n",
       "      <td>2024-04-23 11:50:11.326441</td>\n",
       "      <td>23/04/2024</td>\n",
       "    </tr>\n",
       "    <tr>\n",
       "      <th>173255</th>\n",
       "      <td>1546</td>\n",
       "      <td>2.33</td>\n",
       "      <td>1.546</td>\n",
       "      <td>2328.589909</td>\n",
       "      <td>4096928903</td>\n",
       "      <td>2024-04-23 11:50:12.872441</td>\n",
       "      <td>23/04/2024</td>\n",
       "    </tr>\n",
       "    <tr>\n",
       "      <th>173256</th>\n",
       "      <td>1552</td>\n",
       "      <td>2.32</td>\n",
       "      <td>1.552</td>\n",
       "      <td>2319.587629</td>\n",
       "      <td>4096930455</td>\n",
       "      <td>2024-04-23 11:50:14.424441</td>\n",
       "      <td>23/04/2024</td>\n",
       "    </tr>\n",
       "    <tr>\n",
       "      <th>173257</th>\n",
       "      <td>1545</td>\n",
       "      <td>2.33</td>\n",
       "      <td>1.545</td>\n",
       "      <td>2330.097087</td>\n",
       "      <td>4096932000</td>\n",
       "      <td>2024-04-23 11:50:15.969441</td>\n",
       "      <td>23/04/2024</td>\n",
       "    </tr>\n",
       "    <tr>\n",
       "      <th>173258</th>\n",
       "      <td>1546</td>\n",
       "      <td>2.33</td>\n",
       "      <td>1.546</td>\n",
       "      <td>2328.589909</td>\n",
       "      <td>4096933546</td>\n",
       "      <td>2024-04-23 11:50:17.515441</td>\n",
       "      <td>23/04/2024</td>\n",
       "    </tr>\n",
       "  </tbody>\n",
       "</table>\n",
       "<p>173259 rows × 7 columns</p>\n",
       "</div>"
      ],
      "text/plain": [
       "        Interval   kWh     sec           Wh   cumul(ms)  \\\n",
       "0          26289  0.14  26.289   136.939404       26289   \n",
       "1          26243  0.14  26.243   137.179438       52532   \n",
       "2          25885  0.14  25.885   139.076685       78417   \n",
       "3          25754  0.14  25.754   139.784111      104171   \n",
       "4          25774  0.14  25.774   139.675642      129945   \n",
       "...          ...   ...     ...          ...         ...   \n",
       "173254      1554  2.32   1.554  2316.602317  4096927357   \n",
       "173255      1546  2.33   1.546  2328.589909  4096928903   \n",
       "173256      1552  2.32   1.552  2319.587629  4096930455   \n",
       "173257      1545  2.33   1.545  2330.097087  4096932000   \n",
       "173258      1546  2.33   1.546  2328.589909  4096933546   \n",
       "\n",
       "                            dates        days  \n",
       "0      2024-03-07 01:48:30.258441  07/03/2024  \n",
       "1      2024-03-07 01:48:56.501441  07/03/2024  \n",
       "2      2024-03-07 01:49:22.386441  07/03/2024  \n",
       "3      2024-03-07 01:49:48.140441  07/03/2024  \n",
       "4      2024-03-07 01:50:13.914441  07/03/2024  \n",
       "...                           ...         ...  \n",
       "173254 2024-04-23 11:50:11.326441  23/04/2024  \n",
       "173255 2024-04-23 11:50:12.872441  23/04/2024  \n",
       "173256 2024-04-23 11:50:14.424441  23/04/2024  \n",
       "173257 2024-04-23 11:50:15.969441  23/04/2024  \n",
       "173258 2024-04-23 11:50:17.515441  23/04/2024  \n",
       "\n",
       "[173259 rows x 7 columns]"
      ]
     },
     "execution_count": 148,
     "metadata": {},
     "output_type": "execute_result"
    }
   ],
   "source": [
    "conso_data"
   ]
  },
  {
   "cell_type": "code",
   "execution_count": 149,
   "metadata": {},
   "outputs": [
    {
     "data": {
      "text/plain": [
       "('23/04/2024 03:45:29', '23/04/2024 11:50:17')"
      ]
     },
     "execution_count": 149,
     "metadata": {},
     "output_type": "execute_result"
    }
   ],
   "source": [
    "end = conso_data['dates'][l-1].strftime('%d/%m/%Y %H:%M:%S')\n",
    "start = conso_data['dates'][l-taille+1].strftime('%d/%m/%Y %H:%M:%S')\n",
    "start,end"
   ]
  },
  {
   "cell_type": "code",
   "execution_count": 150,
   "metadata": {},
   "outputs": [
    {
     "data": {
      "text/plain": [
       "('2024-04-23 03:44:52.251441', '2024-04-23 11:50:17.515441')"
      ]
     },
     "execution_count": 150,
     "metadata": {},
     "output_type": "execute_result"
    }
   ],
   "source": [
    "data.head(1)['dates'].to_string(index=False),data.tail(1)['dates'].to_string(index=False)"
   ]
  },
  {
   "cell_type": "code",
   "execution_count": 151,
   "metadata": {},
   "outputs": [
    {
     "data": {
      "text/plain": [
       "1"
      ]
     },
     "execution_count": 151,
     "metadata": {},
     "output_type": "execute_result"
    }
   ],
   "source": [
    "k"
   ]
  },
  {
   "cell_type": "code",
   "execution_count": 152,
   "metadata": {},
   "outputs": [
    {
     "data": {
      "text/plain": [
       "172259    37077\n",
       "172260    37089\n",
       "172261    37135\n",
       "172262    36864\n",
       "172263    36801\n",
       "          ...  \n",
       "173254     1554\n",
       "173255     1546\n",
       "173256     1552\n",
       "173257     1545\n",
       "173258     1546\n",
       "Name: Interval, Length: 1000, dtype: int64"
      ]
     },
     "execution_count": 152,
     "metadata": {},
     "output_type": "execute_result"
    }
   ],
   "source": [
    "data.Interval.tail(1000)"
   ]
  },
  {
   "cell_type": "code",
   "execution_count": 153,
   "metadata": {},
   "outputs": [
    {
     "data": {
      "text/plain": [
       "(8.10065027777778, 2.9627251118145823, 8, 6, 2)"
      ]
     },
     "execution_count": 153,
     "metadata": {},
     "output_type": "execute_result"
    }
   ],
   "source": [
    "conversion_us_heure = 1/1000/60/60 \n",
    "temps_1kWh = sum(data.Interval.tail(1000))*conversion_us_heure  #somme 1000 interval = temps conso 1 kWh\n",
    "conso_jour = 24/temps_1kWh\n",
    "heure = int(temps_1kWh)\n",
    "mn = (temps_1kWh - heure)*60\n",
    "sec = (mn - int(mn))*60\n",
    "temps_1kWh, conso_jour,heure,int(mn),int(sec)"
   ]
  },
  {
   "cell_type": "code",
   "execution_count": 154,
   "metadata": {},
   "outputs": [
    {
     "name": "stderr",
     "output_type": "stream",
     "text": [
      "C:\\Users\\jean\\AppData\\Local\\Temp\\ipykernel_1212\\3458501435.py:1: SettingWithCopyWarning: \n",
      "A value is trying to be set on a copy of a slice from a DataFrame.\n",
      "Try using .loc[row_indexer,col_indexer] = value instead\n",
      "\n",
      "See the caveats in the documentation: https://pandas.pydata.org/pandas-docs/stable/user_guide/indexing.html#returning-a-view-versus-a-copy\n",
      "  data['heure']=conso_data['dates']#.strftime('%d/%m/%Y %H:%M:%S')\n"
     ]
    }
   ],
   "source": [
    "data['heure']=conso_data['dates']#.strftime('%d/%m/%Y %H:%M:%S')"
   ]
  },
  {
   "cell_type": "code",
   "execution_count": 155,
   "metadata": {},
   "outputs": [
    {
     "data": {
      "text/html": [
       "<div>\n",
       "<style scoped>\n",
       "    .dataframe tbody tr th:only-of-type {\n",
       "        vertical-align: middle;\n",
       "    }\n",
       "\n",
       "    .dataframe tbody tr th {\n",
       "        vertical-align: top;\n",
       "    }\n",
       "\n",
       "    .dataframe thead th {\n",
       "        text-align: right;\n",
       "    }\n",
       "</style>\n",
       "<table border=\"1\" class=\"dataframe\">\n",
       "  <thead>\n",
       "    <tr style=\"text-align: right;\">\n",
       "      <th></th>\n",
       "      <th>Interval</th>\n",
       "      <th>kWh</th>\n",
       "      <th>sec</th>\n",
       "      <th>Wh</th>\n",
       "      <th>cumul(ms)</th>\n",
       "      <th>dates</th>\n",
       "      <th>days</th>\n",
       "      <th>heure</th>\n",
       "    </tr>\n",
       "  </thead>\n",
       "  <tbody>\n",
       "    <tr>\n",
       "      <th>172259</th>\n",
       "      <td>37077</td>\n",
       "      <td>0.10</td>\n",
       "      <td>37.077</td>\n",
       "      <td>97.095234</td>\n",
       "      <td>4067808282</td>\n",
       "      <td>2024-04-23 03:44:52.251441</td>\n",
       "      <td>23/04/2024</td>\n",
       "      <td>2024-04-23 03:44:52.251441</td>\n",
       "    </tr>\n",
       "    <tr>\n",
       "      <th>172260</th>\n",
       "      <td>37089</td>\n",
       "      <td>0.10</td>\n",
       "      <td>37.089</td>\n",
       "      <td>97.063819</td>\n",
       "      <td>4067845371</td>\n",
       "      <td>2024-04-23 03:45:29.340441</td>\n",
       "      <td>23/04/2024</td>\n",
       "      <td>2024-04-23 03:45:29.340441</td>\n",
       "    </tr>\n",
       "    <tr>\n",
       "      <th>172261</th>\n",
       "      <td>37135</td>\n",
       "      <td>0.10</td>\n",
       "      <td>37.135</td>\n",
       "      <td>96.943584</td>\n",
       "      <td>4067882506</td>\n",
       "      <td>2024-04-23 03:46:06.475441</td>\n",
       "      <td>23/04/2024</td>\n",
       "      <td>2024-04-23 03:46:06.475441</td>\n",
       "    </tr>\n",
       "    <tr>\n",
       "      <th>172262</th>\n",
       "      <td>36864</td>\n",
       "      <td>0.10</td>\n",
       "      <td>36.864</td>\n",
       "      <td>97.656250</td>\n",
       "      <td>4067919370</td>\n",
       "      <td>2024-04-23 03:46:43.339441</td>\n",
       "      <td>23/04/2024</td>\n",
       "      <td>2024-04-23 03:46:43.339441</td>\n",
       "    </tr>\n",
       "    <tr>\n",
       "      <th>172263</th>\n",
       "      <td>36801</td>\n",
       "      <td>0.10</td>\n",
       "      <td>36.801</td>\n",
       "      <td>97.823429</td>\n",
       "      <td>4067956171</td>\n",
       "      <td>2024-04-23 03:47:20.140441</td>\n",
       "      <td>23/04/2024</td>\n",
       "      <td>2024-04-23 03:47:20.140441</td>\n",
       "    </tr>\n",
       "    <tr>\n",
       "      <th>...</th>\n",
       "      <td>...</td>\n",
       "      <td>...</td>\n",
       "      <td>...</td>\n",
       "      <td>...</td>\n",
       "      <td>...</td>\n",
       "      <td>...</td>\n",
       "      <td>...</td>\n",
       "      <td>...</td>\n",
       "    </tr>\n",
       "    <tr>\n",
       "      <th>173254</th>\n",
       "      <td>1554</td>\n",
       "      <td>2.32</td>\n",
       "      <td>1.554</td>\n",
       "      <td>2316.602317</td>\n",
       "      <td>4096927357</td>\n",
       "      <td>2024-04-23 11:50:11.326441</td>\n",
       "      <td>23/04/2024</td>\n",
       "      <td>2024-04-23 11:50:11.326441</td>\n",
       "    </tr>\n",
       "    <tr>\n",
       "      <th>173255</th>\n",
       "      <td>1546</td>\n",
       "      <td>2.33</td>\n",
       "      <td>1.546</td>\n",
       "      <td>2328.589909</td>\n",
       "      <td>4096928903</td>\n",
       "      <td>2024-04-23 11:50:12.872441</td>\n",
       "      <td>23/04/2024</td>\n",
       "      <td>2024-04-23 11:50:12.872441</td>\n",
       "    </tr>\n",
       "    <tr>\n",
       "      <th>173256</th>\n",
       "      <td>1552</td>\n",
       "      <td>2.32</td>\n",
       "      <td>1.552</td>\n",
       "      <td>2319.587629</td>\n",
       "      <td>4096930455</td>\n",
       "      <td>2024-04-23 11:50:14.424441</td>\n",
       "      <td>23/04/2024</td>\n",
       "      <td>2024-04-23 11:50:14.424441</td>\n",
       "    </tr>\n",
       "    <tr>\n",
       "      <th>173257</th>\n",
       "      <td>1545</td>\n",
       "      <td>2.33</td>\n",
       "      <td>1.545</td>\n",
       "      <td>2330.097087</td>\n",
       "      <td>4096932000</td>\n",
       "      <td>2024-04-23 11:50:15.969441</td>\n",
       "      <td>23/04/2024</td>\n",
       "      <td>2024-04-23 11:50:15.969441</td>\n",
       "    </tr>\n",
       "    <tr>\n",
       "      <th>173258</th>\n",
       "      <td>1546</td>\n",
       "      <td>2.33</td>\n",
       "      <td>1.546</td>\n",
       "      <td>2328.589909</td>\n",
       "      <td>4096933546</td>\n",
       "      <td>2024-04-23 11:50:17.515441</td>\n",
       "      <td>23/04/2024</td>\n",
       "      <td>2024-04-23 11:50:17.515441</td>\n",
       "    </tr>\n",
       "  </tbody>\n",
       "</table>\n",
       "<p>1000 rows × 8 columns</p>\n",
       "</div>"
      ],
      "text/plain": [
       "        Interval   kWh     sec           Wh   cumul(ms)  \\\n",
       "172259     37077  0.10  37.077    97.095234  4067808282   \n",
       "172260     37089  0.10  37.089    97.063819  4067845371   \n",
       "172261     37135  0.10  37.135    96.943584  4067882506   \n",
       "172262     36864  0.10  36.864    97.656250  4067919370   \n",
       "172263     36801  0.10  36.801    97.823429  4067956171   \n",
       "...          ...   ...     ...          ...         ...   \n",
       "173254      1554  2.32   1.554  2316.602317  4096927357   \n",
       "173255      1546  2.33   1.546  2328.589909  4096928903   \n",
       "173256      1552  2.32   1.552  2319.587629  4096930455   \n",
       "173257      1545  2.33   1.545  2330.097087  4096932000   \n",
       "173258      1546  2.33   1.546  2328.589909  4096933546   \n",
       "\n",
       "                            dates        days                      heure  \n",
       "172259 2024-04-23 03:44:52.251441  23/04/2024 2024-04-23 03:44:52.251441  \n",
       "172260 2024-04-23 03:45:29.340441  23/04/2024 2024-04-23 03:45:29.340441  \n",
       "172261 2024-04-23 03:46:06.475441  23/04/2024 2024-04-23 03:46:06.475441  \n",
       "172262 2024-04-23 03:46:43.339441  23/04/2024 2024-04-23 03:46:43.339441  \n",
       "172263 2024-04-23 03:47:20.140441  23/04/2024 2024-04-23 03:47:20.140441  \n",
       "...                           ...         ...                        ...  \n",
       "173254 2024-04-23 11:50:11.326441  23/04/2024 2024-04-23 11:50:11.326441  \n",
       "173255 2024-04-23 11:50:12.872441  23/04/2024 2024-04-23 11:50:12.872441  \n",
       "173256 2024-04-23 11:50:14.424441  23/04/2024 2024-04-23 11:50:14.424441  \n",
       "173257 2024-04-23 11:50:15.969441  23/04/2024 2024-04-23 11:50:15.969441  \n",
       "173258 2024-04-23 11:50:17.515441  23/04/2024 2024-04-23 11:50:17.515441  \n",
       "\n",
       "[1000 rows x 8 columns]"
      ]
     },
     "execution_count": 155,
     "metadata": {},
     "output_type": "execute_result"
    }
   ],
   "source": [
    "data"
   ]
  },
  {
   "cell_type": "code",
   "execution_count": 156,
   "metadata": {},
   "outputs": [
    {
     "data": {
      "text/plain": [
       "<Axes: >"
      ]
     },
     "execution_count": 156,
     "metadata": {},
     "output_type": "execute_result"
    },
    {
     "data": {
      "image/png": "[encoded data removed]",
      "text/plain": [
       "<Figure size 640x480 with 1 Axes>"
      ]
     },
     "metadata": {},
     "output_type": "display_data"
    }
   ],
   "source": [
    "#data.tail(600)['Wh'].plot()\n",
    "data['Wh'].plot()"
   ]
  },
  {
   "cell_type": "code",
   "execution_count": 157,
   "metadata": {},
   "outputs": [
    {
     "data": {
      "text/plain": [
       "172259      97.095234\n",
       "172260      97.063819\n",
       "172261      96.943584\n",
       "172262      97.656250\n",
       "172263      97.823429\n",
       "             ...     \n",
       "173254    2316.602317\n",
       "173255    2328.589909\n",
       "173256    2319.587629\n",
       "173257    2330.097087\n",
       "173258    2328.589909\n",
       "Name: Wh, Length: 1000, dtype: float64"
      ]
     },
     "execution_count": 157,
     "metadata": {},
     "output_type": "execute_result"
    }
   ],
   "source": [
    "data['Wh']"
   ]
  },
  {
   "cell_type": "markdown",
   "metadata": {},
   "source": [
    "# k kW window graph"
   ]
  },
  {
   "cell_type": "code",
   "execution_count": 158,
   "metadata": {},
   "outputs": [
    {
     "data": {
      "image/png": "[encoded data removed]",
      "text/plain": [
       "<Figure size 1500x800 with 1 Axes>"
      ]
     },
     "metadata": {},
     "output_type": "display_data"
    }
   ],
   "source": [
    "fig, ax = plt.subplots()\n",
    "# the size of A4 paper\n",
    "fig.set_size_inches(15, 8)\n",
    "\n",
    "formatter = DateFormatter('%d/%m\\n%H:%M')\n",
    "ax.xaxis.set_major_formatter(formatter)\n",
    "\n",
    "# ticks sur axe des x\n",
    "major_ticks=1/30;minor_ticks=1/360\n",
    "ax.xaxis.set_major_locator(MultipleLocator(major_ticks))  # 1 major tick tous les 48 min\n",
    "ax.xaxis.set_minor_locator(MultipleLocator(minor_ticks))  # 1 minor ticks tous les 4 min\n",
    "ax.tick_params(which='both', width=3)\n",
    "ax.tick_params(which='major', length=15, color='r')\n",
    "ax.tick_params(which='minor', length=8, color='b')\n",
    "\n",
    "plt.title(f'Consommation {k} kW (Temps: {heure} heures {int(mn)} minutes {int(sec)} secondes)\\nDe {start} à {end}')\n",
    "plt.plot(data['dates'],data['Wh'])\n",
    "plt.ylabel('Wh')\n",
    "plt.xlabel('Time (heures)')\n",
    "plt.grid()\n"
   ]
  },
  {
   "cell_type": "code",
   "execution_count": 159,
   "metadata": {},
   "outputs": [
    {
     "data": {
      "text/plain": [
       "<Axes: ylabel='Frequency'>"
      ]
     },
     "execution_count": 159,
     "metadata": {},
     "output_type": "execute_result"
    },
    {
     "data": {
      "image/png": "[encoded data removed]",
      "text/plain": [
       "<Figure size 640x480 with 1 Axes>"
      ]
     },
     "metadata": {},
     "output_type": "display_data"
    }
   ],
   "source": [
    "data.kWh.plot.hist(bins=50,rwidth=0.8,grid=True)\n"
   ]
  },
  {
   "cell_type": "code",
   "execution_count": 160,
   "metadata": {},
   "outputs": [
    {
     "data": {
      "text/html": [
       "<div>\n",
       "<style scoped>\n",
       "    .dataframe tbody tr th:only-of-type {\n",
       "        vertical-align: middle;\n",
       "    }\n",
       "\n",
       "    .dataframe tbody tr th {\n",
       "        vertical-align: top;\n",
       "    }\n",
       "\n",
       "    .dataframe thead th {\n",
       "        text-align: right;\n",
       "    }\n",
       "</style>\n",
       "<table border=\"1\" class=\"dataframe\">\n",
       "  <thead>\n",
       "    <tr style=\"text-align: right;\">\n",
       "      <th></th>\n",
       "      <th>Interval</th>\n",
       "      <th>kWh</th>\n",
       "      <th>sec</th>\n",
       "      <th>Wh</th>\n",
       "      <th>cumul(ms)</th>\n",
       "      <th>dates</th>\n",
       "      <th>days</th>\n",
       "    </tr>\n",
       "  </thead>\n",
       "  <tbody>\n",
       "    <tr>\n",
       "      <th>173254</th>\n",
       "      <td>1554</td>\n",
       "      <td>2.32</td>\n",
       "      <td>1.554</td>\n",
       "      <td>2316.602317</td>\n",
       "      <td>4096927357</td>\n",
       "      <td>2024-04-23 11:50:11.326441</td>\n",
       "      <td>23/04/2024</td>\n",
       "    </tr>\n",
       "    <tr>\n",
       "      <th>173255</th>\n",
       "      <td>1546</td>\n",
       "      <td>2.33</td>\n",
       "      <td>1.546</td>\n",
       "      <td>2328.589909</td>\n",
       "      <td>4096928903</td>\n",
       "      <td>2024-04-23 11:50:12.872441</td>\n",
       "      <td>23/04/2024</td>\n",
       "    </tr>\n",
       "    <tr>\n",
       "      <th>173256</th>\n",
       "      <td>1552</td>\n",
       "      <td>2.32</td>\n",
       "      <td>1.552</td>\n",
       "      <td>2319.587629</td>\n",
       "      <td>4096930455</td>\n",
       "      <td>2024-04-23 11:50:14.424441</td>\n",
       "      <td>23/04/2024</td>\n",
       "    </tr>\n",
       "    <tr>\n",
       "      <th>173257</th>\n",
       "      <td>1545</td>\n",
       "      <td>2.33</td>\n",
       "      <td>1.545</td>\n",
       "      <td>2330.097087</td>\n",
       "      <td>4096932000</td>\n",
       "      <td>2024-04-23 11:50:15.969441</td>\n",
       "      <td>23/04/2024</td>\n",
       "    </tr>\n",
       "    <tr>\n",
       "      <th>173258</th>\n",
       "      <td>1546</td>\n",
       "      <td>2.33</td>\n",
       "      <td>1.546</td>\n",
       "      <td>2328.589909</td>\n",
       "      <td>4096933546</td>\n",
       "      <td>2024-04-23 11:50:17.515441</td>\n",
       "      <td>23/04/2024</td>\n",
       "    </tr>\n",
       "  </tbody>\n",
       "</table>\n",
       "</div>"
      ],
      "text/plain": [
       "        Interval   kWh    sec           Wh   cumul(ms)  \\\n",
       "173254      1554  2.32  1.554  2316.602317  4096927357   \n",
       "173255      1546  2.33  1.546  2328.589909  4096928903   \n",
       "173256      1552  2.32  1.552  2319.587629  4096930455   \n",
       "173257      1545  2.33  1.545  2330.097087  4096932000   \n",
       "173258      1546  2.33  1.546  2328.589909  4096933546   \n",
       "\n",
       "                            dates        days  \n",
       "173254 2024-04-23 11:50:11.326441  23/04/2024  \n",
       "173255 2024-04-23 11:50:12.872441  23/04/2024  \n",
       "173256 2024-04-23 11:50:14.424441  23/04/2024  \n",
       "173257 2024-04-23 11:50:15.969441  23/04/2024  \n",
       "173258 2024-04-23 11:50:17.515441  23/04/2024  "
      ]
     },
     "execution_count": 160,
     "metadata": {},
     "output_type": "execute_result"
    }
   ],
   "source": [
    "conso_data.tail()"
   ]
  },
  {
   "cell_type": "code",
   "execution_count": 161,
   "metadata": {},
   "outputs": [
    {
     "data": {
      "image/png": "[encoded data removed]",
      "text/plain": [
       "<Figure size 640x480 with 1 Axes>"
      ]
     },
     "metadata": {},
     "output_type": "display_data"
    }
   ],
   "source": [
    "conso_data.tail(1000)['kWh'].plot()\n",
    "plt.grid()"
   ]
  },
  {
   "cell_type": "code",
   "execution_count": 162,
   "metadata": {},
   "outputs": [
    {
     "data": {
      "text/plain": [
       "(4096933546000.0, 68282.22576666667)"
      ]
     },
     "execution_count": 162,
     "metadata": {},
     "output_type": "execute_result"
    }
   ],
   "source": [
    "#plt.plot(conso_data['sec'])\n",
    "now = dt.datetime.now()\n",
    "last_cumul = np.array(conso_data['cumul(ms)'].tail(1))[0]*1000.0  # us\n",
    "last_cumul, last_cumul/60e6  # min"
   ]
  },
  {
   "cell_type": "code",
   "execution_count": 163,
   "metadata": {},
   "outputs": [
    {
     "data": {
      "text/plain": [
       "(datetime.datetime(2024, 4, 23, 11, 52, 22, 323671),\n",
       " datetime.datetime(2024, 3, 7, 1, 50, 8, 777671))"
      ]
     },
     "execution_count": 163,
     "metadata": {},
     "output_type": "execute_result"
    }
   ],
   "source": [
    "begin = now - dt.timedelta(microseconds=last_cumul)  #2023, 6, 24, 9, 14, (39, 942895) approximatif\n",
    "now, begin"
   ]
  },
  {
   "cell_type": "code",
   "execution_count": 164,
   "metadata": {},
   "outputs": [
    {
     "data": {
      "text/plain": [
       "(173259, 4096934, 1138.0372222222222)"
      ]
     },
     "execution_count": 164,
     "metadata": {},
     "output_type": "execute_result"
    }
   ],
   "source": [
    "x = mdates.drange(begin,now,dt.timedelta(microseconds=1000000))  # seconds\n",
    "len(conso_data),len(x),len(x)/3600"
   ]
  },
  {
   "cell_type": "code",
   "execution_count": 165,
   "metadata": {},
   "outputs": [],
   "source": [
    "def format_date(space=3):\n",
    "    plt.gca().xaxis.set_major_formatter(mdates.DateFormatter('%d/%m\\n%H:%M'))\n",
    "    plt.gca().xaxis.set_major_locator(mdates.HourLocator(space))\n",
    "    plt.gca().xaxis.set_major_locator(mdates.HourLocator(interval=space))\n",
    "    plt.gcf().autofmt_xdate()\n",
    "    plt.grid()"
   ]
  },
  {
   "cell_type": "code",
   "execution_count": 166,
   "metadata": {},
   "outputs": [
    {
     "data": {
      "text/plain": [
       "732"
      ]
     },
     "execution_count": 166,
     "metadata": {},
     "output_type": "execute_result"
    }
   ],
   "source": [
    "import numpy as np\n",
    "import datetime as dt\n",
    "import matplotlib.pyplot as plt\n",
    "base = dt.datetime(2005, 2, 1)\n",
    "dates = [base + dt.timedelta(hours=(2 * i)) for i in range(732)]\n",
    "N = len(dates)\n",
    "N\n"
   ]
  },
  {
   "cell_type": "code",
   "execution_count": 167,
   "metadata": {},
   "outputs": [
    {
     "data": {
      "text/plain": [
       "61.0"
      ]
     },
     "execution_count": 167,
     "metadata": {},
     "output_type": "execute_result"
    }
   ],
   "source": [
    "732/12 # 60 jours"
   ]
  },
  {
   "cell_type": "code",
   "execution_count": 168,
   "metadata": {},
   "outputs": [
    {
     "data": {
      "text/plain": [
       "(datetime.datetime(2005, 2, 1, 0, 0), datetime.datetime(2005, 4, 2, 22, 0))"
      ]
     },
     "execution_count": 168,
     "metadata": {},
     "output_type": "execute_result"
    }
   ],
   "source": [
    "dates[0],dates[-1]"
   ]
  },
  {
   "cell_type": "code",
   "execution_count": 169,
   "metadata": {},
   "outputs": [
    {
     "data": {
      "image/png": "[encoded data removed]",
      "text/plain": [
       "<Figure size 600x600 with 3 Axes>"
      ]
     },
     "metadata": {},
     "output_type": "display_data"
    }
   ],
   "source": [
    "np.random.seed(19680801)\n",
    "y = np.cumsum(np.random.randn(N))\n",
    "\n",
    "fig, axs = plt.subplots(3, 1, layout='constrained', figsize=(6, 6))\n",
    "lims = [(np.datetime64('2005-02'), np.datetime64('2005-04')),\n",
    "        (np.datetime64('2005-02-03'), np.datetime64('2005-02-15')),\n",
    "        (np.datetime64('2005-02-03 11:00'), np.datetime64('2005-02-04 13:20'))]\n",
    "for nn, ax in enumerate(axs):\n",
    "    ax.plot(dates, y)\n",
    "    ax.set_xlim(lims[nn])\n",
    "    # rotate_labels...\n",
    "    for label in ax.get_xticklabels():\n",
    "        label.set_rotation(40)\n",
    "        label.set_horizontalalignment('right')\n",
    "axs[0].set_title('Default Date Formatter')\n",
    "plt.show()"
   ]
  },
  {
   "cell_type": "code",
   "execution_count": 170,
   "metadata": {},
   "outputs": [
    {
     "data": {
      "text/plain": [
       "datetime.datetime(2005, 4, 2, 22, 0)"
      ]
     },
     "execution_count": 170,
     "metadata": {},
     "output_type": "execute_result"
    }
   ],
   "source": [
    "t = dt.datetime(2005, 4, 2, 22, 0)\n",
    "t"
   ]
  }
 ],
 "metadata": {
  "kernelspec": {
   "display_name": "Python 3",
   "language": "python",
   "name": "python3"
  },
  "language_info": {
   "codemirror_mode": {
    "name": "ipython",
    "version": 3
   },
   "file_extension": ".py",
   "mimetype": "text/x-python",
   "name": "python",
   "nbconvert_exporter": "python",
   "pygments_lexer": "ipython3",
   "version": "3.12.3"
  },
  "orig_nbformat": 4
 },
 "nbformat": 4,
 "nbformat_minor": 2
}
