{
 "cells": [
  {
   "cell_type": "code",
   "execution_count": 3079,
   "metadata": {},
   "outputs": [],
   "source": [
    "import pandas as pd\n",
    "import numpy as np\n",
    "import matplotlib.pyplot as plt\n",
    "import matplotlib.dates as mdates\n",
    "import matplotlib.ticker as ticker\n",
    "from matplotlib.axis import Axis\n",
    "import datetime as dt\n",
    "\n",
    "#plt.style.use(['science', 'notebook'])\n",
    "#%matplotlib inline\n"
   ]
  },
  {
   "cell_type": "code",
   "execution_count": 3080,
   "metadata": {},
   "outputs": [],
   "source": [
    "data_file = \"conso.txt\""
   ]
  },
  {
   "cell_type": "code",
   "execution_count": 3081,
   "metadata": {},
   "outputs": [],
   "source": [
    "def read_text(filename):\n",
    "    f = open(filename, \"r\")\n",
    "    text = f.readlines()\n",
    "    f.close()\n",
    "    print(text)\n",
    "\n",
    "#read_text(data_file)\n",
    "def get_data(filename):    \n",
    "    data = pd.read_csv(filename)\n",
    "    #data['time'] = pd.to_datetime(data['time'])  #.dt.tz_convert(None)\n",
    "    #data.info()\n",
    "    #print(data.tail(5))\n",
    "    return data\n"
   ]
  },
  {
   "cell_type": "code",
   "execution_count": 3082,
   "metadata": {},
   "outputs": [
    {
     "name": "stdout",
     "output_type": "stream",
     "text": [
      "<class 'pandas.core.frame.DataFrame'>\n",
      "RangeIndex: 1013 entries, 0 to 1012\n",
      "Data columns (total 1 columns):\n",
      " #   Column  Non-Null Count  Dtype  \n",
      "---  ------  --------------  -----  \n",
      " 0   Conso   1013 non-null   float64\n",
      "dtypes: float64(1)\n",
      "memory usage: 8.0 KB\n"
     ]
    }
   ],
   "source": [
    "# read data with pandas\n",
    "data = get_data(data_file)\n",
    "data.info()\n"
   ]
  },
  {
   "cell_type": "code",
   "execution_count": 3083,
   "metadata": {},
   "outputs": [
    {
     "data": {
      "text/html": [
       "<div>\n",
       "<style scoped>\n",
       "    .dataframe tbody tr th:only-of-type {\n",
       "        vertical-align: middle;\n",
       "    }\n",
       "\n",
       "    .dataframe tbody tr th {\n",
       "        vertical-align: top;\n",
       "    }\n",
       "\n",
       "    .dataframe thead th {\n",
       "        text-align: right;\n",
       "    }\n",
       "</style>\n",
       "<table border=\"1\" class=\"dataframe\">\n",
       "  <thead>\n",
       "    <tr style=\"text-align: right;\">\n",
       "      <th></th>\n",
       "      <th>Conso</th>\n",
       "      <th>interval</th>\n",
       "    </tr>\n",
       "  </thead>\n",
       "  <tbody>\n",
       "    <tr>\n",
       "      <th>0</th>\n",
       "      <td>0.19</td>\n",
       "      <td>18947.368421</td>\n",
       "    </tr>\n",
       "    <tr>\n",
       "      <th>1</th>\n",
       "      <td>0.19</td>\n",
       "      <td>18947.368421</td>\n",
       "    </tr>\n",
       "    <tr>\n",
       "      <th>2</th>\n",
       "      <td>0.19</td>\n",
       "      <td>18947.368421</td>\n",
       "    </tr>\n",
       "    <tr>\n",
       "      <th>3</th>\n",
       "      <td>0.19</td>\n",
       "      <td>18947.368421</td>\n",
       "    </tr>\n",
       "    <tr>\n",
       "      <th>4</th>\n",
       "      <td>0.19</td>\n",
       "      <td>18947.368421</td>\n",
       "    </tr>\n",
       "    <tr>\n",
       "      <th>...</th>\n",
       "      <td>...</td>\n",
       "      <td>...</td>\n",
       "    </tr>\n",
       "    <tr>\n",
       "      <th>1008</th>\n",
       "      <td>0.16</td>\n",
       "      <td>22500.000000</td>\n",
       "    </tr>\n",
       "    <tr>\n",
       "      <th>1009</th>\n",
       "      <td>0.16</td>\n",
       "      <td>22500.000000</td>\n",
       "    </tr>\n",
       "    <tr>\n",
       "      <th>1010</th>\n",
       "      <td>0.17</td>\n",
       "      <td>21176.470588</td>\n",
       "    </tr>\n",
       "    <tr>\n",
       "      <th>1011</th>\n",
       "      <td>0.17</td>\n",
       "      <td>21176.470588</td>\n",
       "    </tr>\n",
       "    <tr>\n",
       "      <th>1012</th>\n",
       "      <td>0.16</td>\n",
       "      <td>22500.000000</td>\n",
       "    </tr>\n",
       "  </tbody>\n",
       "</table>\n",
       "<p>1013 rows × 2 columns</p>\n",
       "</div>"
      ],
      "text/plain": [
       "      Conso      interval\n",
       "0      0.19  18947.368421\n",
       "1      0.19  18947.368421\n",
       "2      0.19  18947.368421\n",
       "3      0.19  18947.368421\n",
       "4      0.19  18947.368421\n",
       "...     ...           ...\n",
       "1008   0.16  22500.000000\n",
       "1009   0.16  22500.000000\n",
       "1010   0.17  21176.470588\n",
       "1011   0.17  21176.470588\n",
       "1012   0.16  22500.000000\n",
       "\n",
       "[1013 rows x 2 columns]"
      ]
     },
     "execution_count": 3083,
     "metadata": {},
     "output_type": "execute_result"
    }
   ],
   "source": [
    "data['interval']=3600/data['Conso']\n",
    "data"
   ]
  },
  {
   "cell_type": "code",
   "execution_count": 3084,
   "metadata": {},
   "outputs": [
    {
     "data": {
      "text/plain": [
       "<matplotlib.legend.Legend at 0x2286b8073d0>"
      ]
     },
     "execution_count": 3084,
     "metadata": {},
     "output_type": "execute_result"
    },
    {
     "data": {
      "image/png": "[encoded data removed]",
      "text/plain": [
       "<Figure size 640x480 with 1 Axes>"
      ]
     },
     "metadata": {},
     "output_type": "display_data"
    }
   ],
   "source": [
    "\n",
    "plt.title('Consommation Linky')\n",
    "plt.plot(data, color='red',label='Conso')\n",
    "\n",
    "plt.grid()\n",
    "plt.legend()"
   ]
  },
  {
   "attachments": {},
   "cell_type": "markdown",
   "metadata": {},
   "source": [
    "### conso.csv sur WD6TB mis à jour avec PI4"
   ]
  },
  {
   "cell_type": "code",
   "execution_count": 3085,
   "metadata": {},
   "outputs": [],
   "source": [
    "def get_data2(filename):    \n",
    "    data = pd.read_csv(filename, names=[\"Interval\",\"kWh\"])\n",
    "    return data"
   ]
  },
  {
   "cell_type": "code",
   "execution_count": 3086,
   "metadata": {},
   "outputs": [
    {
     "name": "stdout",
     "output_type": "stream",
     "text": [
      "<class 'pandas.core.frame.DataFrame'>\n",
      "RangeIndex: 49671 entries, 0 to 49670\n",
      "Data columns (total 2 columns):\n",
      " #   Column    Non-Null Count  Dtype  \n",
      "---  ------    --------------  -----  \n",
      " 0   Interval  49671 non-null  int64  \n",
      " 1   kWh       49671 non-null  float64\n",
      "dtypes: float64(1), int64(1)\n",
      "memory usage: 776.2 KB\n"
     ]
    }
   ],
   "source": [
    "old = False\n",
    "\n",
    "if old:\n",
    "    #conso_file = r\"C:\\Users\\jean\\Documents\\conso.csv\"\n",
    "    conso_file = r\"Y:\\Documents\\conso_old.csv\"\n",
    "    conso_file = r\"Y:\\Documents\\conso - Copy (2).csv\"\n",
    "else:\n",
    "    conso_file = r\"Y:\\Documents\\conso.csv\"\n",
    "#old = False\n",
    "conso_data = get_data2(conso_file)\n",
    "conso_data.info()\n"
   ]
  },
  {
   "cell_type": "code",
   "execution_count": 3087,
   "metadata": {},
   "outputs": [
    {
     "data": {
      "text/html": [
       "<div>\n",
       "<style scoped>\n",
       "    .dataframe tbody tr th:only-of-type {\n",
       "        vertical-align: middle;\n",
       "    }\n",
       "\n",
       "    .dataframe tbody tr th {\n",
       "        vertical-align: top;\n",
       "    }\n",
       "\n",
       "    .dataframe thead th {\n",
       "        text-align: right;\n",
       "    }\n",
       "</style>\n",
       "<table border=\"1\" class=\"dataframe\">\n",
       "  <thead>\n",
       "    <tr style=\"text-align: right;\">\n",
       "      <th></th>\n",
       "      <th>Interval</th>\n",
       "      <th>kWh</th>\n",
       "    </tr>\n",
       "  </thead>\n",
       "  <tbody>\n",
       "    <tr>\n",
       "      <th>0</th>\n",
       "      <td>26289</td>\n",
       "      <td>0.14</td>\n",
       "    </tr>\n",
       "    <tr>\n",
       "      <th>1</th>\n",
       "      <td>26243</td>\n",
       "      <td>0.14</td>\n",
       "    </tr>\n",
       "    <tr>\n",
       "      <th>2</th>\n",
       "      <td>25885</td>\n",
       "      <td>0.14</td>\n",
       "    </tr>\n",
       "    <tr>\n",
       "      <th>3</th>\n",
       "      <td>25754</td>\n",
       "      <td>0.14</td>\n",
       "    </tr>\n",
       "    <tr>\n",
       "      <th>4</th>\n",
       "      <td>25774</td>\n",
       "      <td>0.14</td>\n",
       "    </tr>\n",
       "    <tr>\n",
       "      <th>...</th>\n",
       "      <td>...</td>\n",
       "      <td>...</td>\n",
       "    </tr>\n",
       "    <tr>\n",
       "      <th>49666</th>\n",
       "      <td>24527</td>\n",
       "      <td>0.15</td>\n",
       "    </tr>\n",
       "    <tr>\n",
       "      <th>49667</th>\n",
       "      <td>24456</td>\n",
       "      <td>0.15</td>\n",
       "    </tr>\n",
       "    <tr>\n",
       "      <th>49668</th>\n",
       "      <td>25365</td>\n",
       "      <td>0.14</td>\n",
       "    </tr>\n",
       "    <tr>\n",
       "      <th>49669</th>\n",
       "      <td>24789</td>\n",
       "      <td>0.14</td>\n",
       "    </tr>\n",
       "    <tr>\n",
       "      <th>49670</th>\n",
       "      <td>25005</td>\n",
       "      <td>0.14</td>\n",
       "    </tr>\n",
       "  </tbody>\n",
       "</table>\n",
       "<p>49671 rows × 2 columns</p>\n",
       "</div>"
      ],
      "text/plain": [
       "       Interval   kWh\n",
       "0         26289  0.14\n",
       "1         26243  0.14\n",
       "2         25885  0.14\n",
       "3         25754  0.14\n",
       "4         25774  0.14\n",
       "...         ...   ...\n",
       "49666     24527  0.15\n",
       "49667     24456  0.15\n",
       "49668     25365  0.14\n",
       "49669     24789  0.14\n",
       "49670     25005  0.14\n",
       "\n",
       "[49671 rows x 2 columns]"
      ]
     },
     "execution_count": 3087,
     "metadata": {},
     "output_type": "execute_result"
    }
   ],
   "source": [
    "conso_data = conso_data.dropna()\n",
    "conso_data"
   ]
  },
  {
   "cell_type": "code",
   "execution_count": 3088,
   "metadata": {},
   "outputs": [
    {
     "data": {
      "text/html": [
       "<div>\n",
       "<style scoped>\n",
       "    .dataframe tbody tr th:only-of-type {\n",
       "        vertical-align: middle;\n",
       "    }\n",
       "\n",
       "    .dataframe tbody tr th {\n",
       "        vertical-align: top;\n",
       "    }\n",
       "\n",
       "    .dataframe thead th {\n",
       "        text-align: right;\n",
       "    }\n",
       "</style>\n",
       "<table border=\"1\" class=\"dataframe\">\n",
       "  <thead>\n",
       "    <tr style=\"text-align: right;\">\n",
       "      <th></th>\n",
       "      <th>Interval</th>\n",
       "      <th>kWh</th>\n",
       "      <th>sec</th>\n",
       "      <th>Wh</th>\n",
       "      <th>cumul(ms)</th>\n",
       "    </tr>\n",
       "  </thead>\n",
       "  <tbody>\n",
       "    <tr>\n",
       "      <th>0</th>\n",
       "      <td>26289</td>\n",
       "      <td>0.14</td>\n",
       "      <td>26.289</td>\n",
       "      <td>136.939404</td>\n",
       "      <td>26289</td>\n",
       "    </tr>\n",
       "    <tr>\n",
       "      <th>1</th>\n",
       "      <td>26243</td>\n",
       "      <td>0.14</td>\n",
       "      <td>26.243</td>\n",
       "      <td>137.179438</td>\n",
       "      <td>52532</td>\n",
       "    </tr>\n",
       "    <tr>\n",
       "      <th>2</th>\n",
       "      <td>25885</td>\n",
       "      <td>0.14</td>\n",
       "      <td>25.885</td>\n",
       "      <td>139.076685</td>\n",
       "      <td>78417</td>\n",
       "    </tr>\n",
       "    <tr>\n",
       "      <th>3</th>\n",
       "      <td>25754</td>\n",
       "      <td>0.14</td>\n",
       "      <td>25.754</td>\n",
       "      <td>139.784111</td>\n",
       "      <td>104171</td>\n",
       "    </tr>\n",
       "    <tr>\n",
       "      <th>4</th>\n",
       "      <td>25774</td>\n",
       "      <td>0.14</td>\n",
       "      <td>25.774</td>\n",
       "      <td>139.675642</td>\n",
       "      <td>129945</td>\n",
       "    </tr>\n",
       "    <tr>\n",
       "      <th>...</th>\n",
       "      <td>...</td>\n",
       "      <td>...</td>\n",
       "      <td>...</td>\n",
       "      <td>...</td>\n",
       "      <td>...</td>\n",
       "    </tr>\n",
       "    <tr>\n",
       "      <th>49666</th>\n",
       "      <td>24527</td>\n",
       "      <td>0.15</td>\n",
       "      <td>24.527</td>\n",
       "      <td>146.777021</td>\n",
       "      <td>1186666551</td>\n",
       "    </tr>\n",
       "    <tr>\n",
       "      <th>49667</th>\n",
       "      <td>24456</td>\n",
       "      <td>0.15</td>\n",
       "      <td>24.456</td>\n",
       "      <td>147.203140</td>\n",
       "      <td>1186691007</td>\n",
       "    </tr>\n",
       "    <tr>\n",
       "      <th>49668</th>\n",
       "      <td>25365</td>\n",
       "      <td>0.14</td>\n",
       "      <td>25.365</td>\n",
       "      <td>141.927853</td>\n",
       "      <td>1186716372</td>\n",
       "    </tr>\n",
       "    <tr>\n",
       "      <th>49669</th>\n",
       "      <td>24789</td>\n",
       "      <td>0.14</td>\n",
       "      <td>24.789</td>\n",
       "      <td>145.225705</td>\n",
       "      <td>1186741161</td>\n",
       "    </tr>\n",
       "    <tr>\n",
       "      <th>49670</th>\n",
       "      <td>25005</td>\n",
       "      <td>0.14</td>\n",
       "      <td>25.005</td>\n",
       "      <td>143.971206</td>\n",
       "      <td>1186766166</td>\n",
       "    </tr>\n",
       "  </tbody>\n",
       "</table>\n",
       "<p>49671 rows × 5 columns</p>\n",
       "</div>"
      ],
      "text/plain": [
       "       Interval   kWh     sec          Wh   cumul(ms)\n",
       "0         26289  0.14  26.289  136.939404       26289\n",
       "1         26243  0.14  26.243  137.179438       52532\n",
       "2         25885  0.14  25.885  139.076685       78417\n",
       "3         25754  0.14  25.754  139.784111      104171\n",
       "4         25774  0.14  25.774  139.675642      129945\n",
       "...         ...   ...     ...         ...         ...\n",
       "49666     24527  0.15  24.527  146.777021  1186666551\n",
       "49667     24456  0.15  24.456  147.203140  1186691007\n",
       "49668     25365  0.14  25.365  141.927853  1186716372\n",
       "49669     24789  0.14  24.789  145.225705  1186741161\n",
       "49670     25005  0.14  25.005  143.971206  1186766166\n",
       "\n",
       "[49671 rows x 5 columns]"
      ]
     },
     "execution_count": 3088,
     "metadata": {},
     "output_type": "execute_result"
    }
   ],
   "source": [
    "conso_data['sec']=conso_data['Interval']/1000\n",
    "conso_data['Wh']=3600000/conso_data['Interval']\n",
    "conso_data['cumul(ms)']=conso_data['Interval'].cumsum(axis=0)\n",
    "\n",
    "conso_data"
   ]
  },
  {
   "cell_type": "code",
   "execution_count": 3089,
   "metadata": {},
   "outputs": [
    {
     "data": {
      "text/plain": [
       "49670"
      ]
     },
     "execution_count": 3089,
     "metadata": {},
     "output_type": "execute_result"
    }
   ],
   "source": [
    "# index dernier echantillon\n",
    "l=len(conso_data)-1\n",
    "l"
   ]
  },
  {
   "cell_type": "code",
   "execution_count": 3090,
   "metadata": {},
   "outputs": [
    {
     "data": {
      "text/plain": [
       "1186766166000"
      ]
     },
     "execution_count": 3090,
     "metadata": {},
     "output_type": "execute_result"
    }
   ],
   "source": [
    "# cumtime = int(conso_data['cumul(ms)'].tail(1).values[0]*1000)\n",
    "cumtime= int(conso_data._get_value(l,'cumul(ms)')*1000)\n",
    "cumtime"
   ]
  },
  {
   "cell_type": "code",
   "execution_count": 3091,
   "metadata": {},
   "outputs": [
    {
     "data": {
      "text/plain": [
       "False"
      ]
     },
     "execution_count": 3091,
     "metadata": {},
     "output_type": "execute_result"
    }
   ],
   "source": [
    "old"
   ]
  },
  {
   "cell_type": "code",
   "execution_count": 3092,
   "metadata": {},
   "outputs": [
    {
     "data": {
      "text/plain": [
       "datetime.datetime(2024, 3, 7, 0, 24, 37, 705425)"
      ]
     },
     "execution_count": 3092,
     "metadata": {},
     "output_type": "execute_result"
    }
   ],
   "source": [
    "from datetime import datetime, timedelta\n",
    "now = datetime.now()\n",
    "# conso.csv dynamique\n",
    "base = now - timedelta(microseconds=cumtime)\n",
    "base  # date de début\n"
   ]
  },
  {
   "cell_type": "code",
   "execution_count": 3093,
   "metadata": {},
   "outputs": [
    {
     "name": "stdout",
     "output_type": "stream",
     "text": [
      "<class 'pandas.core.frame.DataFrame'>\n",
      "RangeIndex: 49671 entries, 0 to 49670\n",
      "Data columns (total 6 columns):\n",
      " #   Column     Non-Null Count  Dtype         \n",
      "---  ------     --------------  -----         \n",
      " 0   Interval   49671 non-null  int64         \n",
      " 1   kWh        49671 non-null  float64       \n",
      " 2   sec        49671 non-null  float64       \n",
      " 3   Wh         49671 non-null  float64       \n",
      " 4   cumul(ms)  49671 non-null  int64         \n",
      " 5   dates      49671 non-null  datetime64[ns]\n",
      "dtypes: datetime64[ns](1), float64(3), int64(2)\n",
      "memory usage: 2.3 MB\n"
     ]
    }
   ],
   "source": [
    "\n",
    "if old:\n",
    "    base = dt.datetime(2023, 8, 1, 10, 45, 0) - timedelta(microseconds=cumtime)\n",
    "\n",
    "\n",
    "conso_data['dates'] = [base + dt.timedelta(microseconds=t*1000) for t in conso_data['cumul(ms)']]\n",
    "conso_data.info()\n"
   ]
  },
  {
   "cell_type": "code",
   "execution_count": 3094,
   "metadata": {},
   "outputs": [
    {
     "data": {
      "text/html": [
       "<div>\n",
       "<style scoped>\n",
       "    .dataframe tbody tr th:only-of-type {\n",
       "        vertical-align: middle;\n",
       "    }\n",
       "\n",
       "    .dataframe tbody tr th {\n",
       "        vertical-align: top;\n",
       "    }\n",
       "\n",
       "    .dataframe thead th {\n",
       "        text-align: right;\n",
       "    }\n",
       "</style>\n",
       "<table border=\"1\" class=\"dataframe\">\n",
       "  <thead>\n",
       "    <tr style=\"text-align: right;\">\n",
       "      <th></th>\n",
       "      <th>Interval</th>\n",
       "      <th>kWh</th>\n",
       "      <th>sec</th>\n",
       "      <th>Wh</th>\n",
       "      <th>cumul(ms)</th>\n",
       "      <th>dates</th>\n",
       "      <th>days</th>\n",
       "    </tr>\n",
       "  </thead>\n",
       "  <tbody>\n",
       "    <tr>\n",
       "      <th>0</th>\n",
       "      <td>26289</td>\n",
       "      <td>0.14</td>\n",
       "      <td>26.289</td>\n",
       "      <td>136.939404</td>\n",
       "      <td>26289</td>\n",
       "      <td>2024-03-07 00:25:03.994425</td>\n",
       "      <td>07/03/2024</td>\n",
       "    </tr>\n",
       "    <tr>\n",
       "      <th>1</th>\n",
       "      <td>26243</td>\n",
       "      <td>0.14</td>\n",
       "      <td>26.243</td>\n",
       "      <td>137.179438</td>\n",
       "      <td>52532</td>\n",
       "      <td>2024-03-07 00:25:30.237425</td>\n",
       "      <td>07/03/2024</td>\n",
       "    </tr>\n",
       "    <tr>\n",
       "      <th>2</th>\n",
       "      <td>25885</td>\n",
       "      <td>0.14</td>\n",
       "      <td>25.885</td>\n",
       "      <td>139.076685</td>\n",
       "      <td>78417</td>\n",
       "      <td>2024-03-07 00:25:56.122425</td>\n",
       "      <td>07/03/2024</td>\n",
       "    </tr>\n",
       "    <tr>\n",
       "      <th>3</th>\n",
       "      <td>25754</td>\n",
       "      <td>0.14</td>\n",
       "      <td>25.754</td>\n",
       "      <td>139.784111</td>\n",
       "      <td>104171</td>\n",
       "      <td>2024-03-07 00:26:21.876425</td>\n",
       "      <td>07/03/2024</td>\n",
       "    </tr>\n",
       "    <tr>\n",
       "      <th>4</th>\n",
       "      <td>25774</td>\n",
       "      <td>0.14</td>\n",
       "      <td>25.774</td>\n",
       "      <td>139.675642</td>\n",
       "      <td>129945</td>\n",
       "      <td>2024-03-07 00:26:47.650425</td>\n",
       "      <td>07/03/2024</td>\n",
       "    </tr>\n",
       "    <tr>\n",
       "      <th>...</th>\n",
       "      <td>...</td>\n",
       "      <td>...</td>\n",
       "      <td>...</td>\n",
       "      <td>...</td>\n",
       "      <td>...</td>\n",
       "      <td>...</td>\n",
       "      <td>...</td>\n",
       "    </tr>\n",
       "    <tr>\n",
       "      <th>49666</th>\n",
       "      <td>24527</td>\n",
       "      <td>0.15</td>\n",
       "      <td>24.527</td>\n",
       "      <td>146.777021</td>\n",
       "      <td>1186666551</td>\n",
       "      <td>2024-03-20 18:02:24.256425</td>\n",
       "      <td>20/03/2024</td>\n",
       "    </tr>\n",
       "    <tr>\n",
       "      <th>49667</th>\n",
       "      <td>24456</td>\n",
       "      <td>0.15</td>\n",
       "      <td>24.456</td>\n",
       "      <td>147.203140</td>\n",
       "      <td>1186691007</td>\n",
       "      <td>2024-03-20 18:02:48.712425</td>\n",
       "      <td>20/03/2024</td>\n",
       "    </tr>\n",
       "    <tr>\n",
       "      <th>49668</th>\n",
       "      <td>25365</td>\n",
       "      <td>0.14</td>\n",
       "      <td>25.365</td>\n",
       "      <td>141.927853</td>\n",
       "      <td>1186716372</td>\n",
       "      <td>2024-03-20 18:03:14.077425</td>\n",
       "      <td>20/03/2024</td>\n",
       "    </tr>\n",
       "    <tr>\n",
       "      <th>49669</th>\n",
       "      <td>24789</td>\n",
       "      <td>0.14</td>\n",
       "      <td>24.789</td>\n",
       "      <td>145.225705</td>\n",
       "      <td>1186741161</td>\n",
       "      <td>2024-03-20 18:03:38.866425</td>\n",
       "      <td>20/03/2024</td>\n",
       "    </tr>\n",
       "    <tr>\n",
       "      <th>49670</th>\n",
       "      <td>25005</td>\n",
       "      <td>0.14</td>\n",
       "      <td>25.005</td>\n",
       "      <td>143.971206</td>\n",
       "      <td>1186766166</td>\n",
       "      <td>2024-03-20 18:04:03.871425</td>\n",
       "      <td>20/03/2024</td>\n",
       "    </tr>\n",
       "  </tbody>\n",
       "</table>\n",
       "<p>49671 rows × 7 columns</p>\n",
       "</div>"
      ],
      "text/plain": [
       "       Interval   kWh     sec          Wh   cumul(ms)  \\\n",
       "0         26289  0.14  26.289  136.939404       26289   \n",
       "1         26243  0.14  26.243  137.179438       52532   \n",
       "2         25885  0.14  25.885  139.076685       78417   \n",
       "3         25754  0.14  25.754  139.784111      104171   \n",
       "4         25774  0.14  25.774  139.675642      129945   \n",
       "...         ...   ...     ...         ...         ...   \n",
       "49666     24527  0.15  24.527  146.777021  1186666551   \n",
       "49667     24456  0.15  24.456  147.203140  1186691007   \n",
       "49668     25365  0.14  25.365  141.927853  1186716372   \n",
       "49669     24789  0.14  24.789  145.225705  1186741161   \n",
       "49670     25005  0.14  25.005  143.971206  1186766166   \n",
       "\n",
       "                           dates        days  \n",
       "0     2024-03-07 00:25:03.994425  07/03/2024  \n",
       "1     2024-03-07 00:25:30.237425  07/03/2024  \n",
       "2     2024-03-07 00:25:56.122425  07/03/2024  \n",
       "3     2024-03-07 00:26:21.876425  07/03/2024  \n",
       "4     2024-03-07 00:26:47.650425  07/03/2024  \n",
       "...                          ...         ...  \n",
       "49666 2024-03-20 18:02:24.256425  20/03/2024  \n",
       "49667 2024-03-20 18:02:48.712425  20/03/2024  \n",
       "49668 2024-03-20 18:03:14.077425  20/03/2024  \n",
       "49669 2024-03-20 18:03:38.866425  20/03/2024  \n",
       "49670 2024-03-20 18:04:03.871425  20/03/2024  \n",
       "\n",
       "[49671 rows x 7 columns]"
      ]
     },
     "execution_count": 3094,
     "metadata": {},
     "output_type": "execute_result"
    }
   ],
   "source": [
    "conso_data['days']= [d.strftime('%d/%m/%Y') for d in conso_data['dates']]    #[str(d.month)+'-'+str(d.day) for d in conso_data['dates']]\n",
    "conso_data"
   ]
  },
  {
   "cell_type": "code",
   "execution_count": 3095,
   "metadata": {},
   "outputs": [
    {
     "data": {
      "text/plain": [
       "(   Interval   kWh     sec          Wh  cumul(ms)                      dates  \\\n",
       " 0     26289  0.14  26.289  136.939404      26289 2024-03-07 00:25:03.994425   \n",
       " \n",
       "          days  \n",
       " 0  07/03/2024  ,\n",
       "        Interval   kWh     sec          Wh   cumul(ms)  \\\n",
       " 49670     25005  0.14  25.005  143.971206  1186766166   \n",
       " \n",
       "                            dates        days  \n",
       " 49670 2024-03-20 18:04:03.871425  20/03/2024  )"
      ]
     },
     "execution_count": 3095,
     "metadata": {},
     "output_type": "execute_result"
    }
   ],
   "source": [
    "#conso_data\n",
    "conso_data.head(1),conso_data.tail(1)"
   ]
  },
  {
   "cell_type": "code",
   "execution_count": 3096,
   "metadata": {},
   "outputs": [
    {
     "data": {
      "text/plain": [
       "'20/03/2024'"
      ]
     },
     "execution_count": 3096,
     "metadata": {},
     "output_type": "execute_result"
    }
   ],
   "source": [
    "# tranche journalière\n",
    "now = datetime.now()\n",
    "day = now.strftime('%d/%m/%Y')    #str(now.month)+'-'+str(now.day)\n",
    "day"
   ]
  },
  {
   "cell_type": "code",
   "execution_count": 3097,
   "metadata": {},
   "outputs": [
    {
     "name": "stdout",
     "output_type": "stream",
     "text": [
      "07/03/2024 3.342\n",
      "08/03/2024 3.759\n",
      "09/03/2024 3.059\n",
      "10/03/2024 3.569\n",
      "11/03/2024 4.525\n",
      "12/03/2024 3.552\n",
      "13/03/2024 3.508\n",
      "14/03/2024 3.703\n",
      "15/03/2024 3.544\n",
      "16/03/2024 3.358\n",
      "17/03/2024 3.412\n",
      "18/03/2024 4.332\n",
      "19/03/2024 3.529\n"
     ]
    },
    {
     "name": "stdout",
     "output_type": "stream",
     "text": [
      "20/03/2024 2.479\n"
     ]
    },
    {
     "data": {
      "image/png": "[encoded data removed]",
      "text/plain": [
       "<Figure size 640x480 with 1 Axes>"
      ]
     },
     "metadata": {},
     "output_type": "display_data"
    }
   ],
   "source": [
    "def conso_by_day(day):\n",
    "    conso_day = conso_data[conso_data['days']==day]\n",
    "    conso_jour = len(conso_day)/1000\n",
    "    return conso_jour\n",
    "conso_graph=[]\n",
    "for d in range(7,now.day+1):\n",
    "    if d<10:pref='0'\n",
    "    else:pref=''\n",
    "    day = pref+str(d)+'/03/2024'\n",
    "    conso_graph.append(conso_by_day(day))\n",
    "    print(day,conso_by_day(day))\n",
    "plt.plot(conso_graph)\n",
    "plt.grid()"
   ]
  },
  {
   "cell_type": "code",
   "execution_count": 3098,
   "metadata": {},
   "outputs": [],
   "source": [
    "#manuel\n",
    "#day = '19/03/2024'\n"
   ]
  },
  {
   "cell_type": "code",
   "execution_count": 3099,
   "metadata": {},
   "outputs": [
    {
     "data": {
      "text/plain": [
       "2479"
      ]
     },
     "execution_count": 3099,
     "metadata": {},
     "output_type": "execute_result"
    }
   ],
   "source": [
    "\n",
    "conso_day = conso_data[conso_data['days']==day]\n",
    "conso_jour = len(conso_day)\n",
    "conso_jour"
   ]
  },
  {
   "cell_type": "code",
   "execution_count": 3100,
   "metadata": {},
   "outputs": [
    {
     "name": "stderr",
     "output_type": "stream",
     "text": [
      "C:\\Users\\jean\\AppData\\Local\\Temp\\ipykernel_21524\\1879875640.py:2: SettingWithCopyWarning: \n",
      "A value is trying to be set on a copy of a slice from a DataFrame.\n",
      "Try using .loc[row_indexer,col_indexer] = value instead\n",
      "\n",
      "See the caveats in the documentation: https://pandas.pydata.org/pandas-docs/stable/user_guide/indexing.html#returning-a-view-versus-a-copy\n",
      "  conso_day['heure']=conso_day['dates'].map(lambda x: str(x.hour)+':'+str(x.minute) +':'+str(x.second))\n"
     ]
    },
    {
     "data": {
      "text/html": [
       "<div>\n",
       "<style scoped>\n",
       "    .dataframe tbody tr th:only-of-type {\n",
       "        vertical-align: middle;\n",
       "    }\n",
       "\n",
       "    .dataframe tbody tr th {\n",
       "        vertical-align: top;\n",
       "    }\n",
       "\n",
       "    .dataframe thead th {\n",
       "        text-align: right;\n",
       "    }\n",
       "</style>\n",
       "<table border=\"1\" class=\"dataframe\">\n",
       "  <thead>\n",
       "    <tr style=\"text-align: right;\">\n",
       "      <th></th>\n",
       "      <th>Interval</th>\n",
       "      <th>kWh</th>\n",
       "      <th>sec</th>\n",
       "      <th>Wh</th>\n",
       "      <th>cumul(ms)</th>\n",
       "      <th>dates</th>\n",
       "      <th>days</th>\n",
       "    </tr>\n",
       "    <tr>\n",
       "      <th>heure</th>\n",
       "      <th></th>\n",
       "      <th></th>\n",
       "      <th></th>\n",
       "      <th></th>\n",
       "      <th></th>\n",
       "      <th></th>\n",
       "      <th></th>\n",
       "    </tr>\n",
       "  </thead>\n",
       "  <tbody>\n",
       "    <tr>\n",
       "      <th>0:0:22</th>\n",
       "      <td>26515</td>\n",
       "      <td>0.14</td>\n",
       "      <td>26.515</td>\n",
       "      <td>135.772204</td>\n",
       "      <td>1121744447</td>\n",
       "      <td>2024-03-20 00:00:22.152425</td>\n",
       "      <td>20/03/2024</td>\n",
       "    </tr>\n",
       "    <tr>\n",
       "      <th>0:0:47</th>\n",
       "      <td>25478</td>\n",
       "      <td>0.14</td>\n",
       "      <td>25.478</td>\n",
       "      <td>141.298375</td>\n",
       "      <td>1121769925</td>\n",
       "      <td>2024-03-20 00:00:47.630425</td>\n",
       "      <td>20/03/2024</td>\n",
       "    </tr>\n",
       "    <tr>\n",
       "      <th>0:1:13</th>\n",
       "      <td>26214</td>\n",
       "      <td>0.14</td>\n",
       "      <td>26.214</td>\n",
       "      <td>137.331197</td>\n",
       "      <td>1121796139</td>\n",
       "      <td>2024-03-20 00:01:13.844425</td>\n",
       "      <td>20/03/2024</td>\n",
       "    </tr>\n",
       "    <tr>\n",
       "      <th>0:1:40</th>\n",
       "      <td>26962</td>\n",
       "      <td>0.13</td>\n",
       "      <td>26.962</td>\n",
       "      <td>133.521252</td>\n",
       "      <td>1121823101</td>\n",
       "      <td>2024-03-20 00:01:40.806425</td>\n",
       "      <td>20/03/2024</td>\n",
       "    </tr>\n",
       "    <tr>\n",
       "      <th>0:2:7</th>\n",
       "      <td>27081</td>\n",
       "      <td>0.13</td>\n",
       "      <td>27.081</td>\n",
       "      <td>132.934530</td>\n",
       "      <td>1121850182</td>\n",
       "      <td>2024-03-20 00:02:07.887425</td>\n",
       "      <td>20/03/2024</td>\n",
       "    </tr>\n",
       "    <tr>\n",
       "      <th>...</th>\n",
       "      <td>...</td>\n",
       "      <td>...</td>\n",
       "      <td>...</td>\n",
       "      <td>...</td>\n",
       "      <td>...</td>\n",
       "      <td>...</td>\n",
       "      <td>...</td>\n",
       "    </tr>\n",
       "    <tr>\n",
       "      <th>18:2:24</th>\n",
       "      <td>24527</td>\n",
       "      <td>0.15</td>\n",
       "      <td>24.527</td>\n",
       "      <td>146.777021</td>\n",
       "      <td>1186666551</td>\n",
       "      <td>2024-03-20 18:02:24.256425</td>\n",
       "      <td>20/03/2024</td>\n",
       "    </tr>\n",
       "    <tr>\n",
       "      <th>18:2:48</th>\n",
       "      <td>24456</td>\n",
       "      <td>0.15</td>\n",
       "      <td>24.456</td>\n",
       "      <td>147.203140</td>\n",
       "      <td>1186691007</td>\n",
       "      <td>2024-03-20 18:02:48.712425</td>\n",
       "      <td>20/03/2024</td>\n",
       "    </tr>\n",
       "    <tr>\n",
       "      <th>18:3:14</th>\n",
       "      <td>25365</td>\n",
       "      <td>0.14</td>\n",
       "      <td>25.365</td>\n",
       "      <td>141.927853</td>\n",
       "      <td>1186716372</td>\n",
       "      <td>2024-03-20 18:03:14.077425</td>\n",
       "      <td>20/03/2024</td>\n",
       "    </tr>\n",
       "    <tr>\n",
       "      <th>18:3:38</th>\n",
       "      <td>24789</td>\n",
       "      <td>0.14</td>\n",
       "      <td>24.789</td>\n",
       "      <td>145.225705</td>\n",
       "      <td>1186741161</td>\n",
       "      <td>2024-03-20 18:03:38.866425</td>\n",
       "      <td>20/03/2024</td>\n",
       "    </tr>\n",
       "    <tr>\n",
       "      <th>18:4:3</th>\n",
       "      <td>25005</td>\n",
       "      <td>0.14</td>\n",
       "      <td>25.005</td>\n",
       "      <td>143.971206</td>\n",
       "      <td>1186766166</td>\n",
       "      <td>2024-03-20 18:04:03.871425</td>\n",
       "      <td>20/03/2024</td>\n",
       "    </tr>\n",
       "  </tbody>\n",
       "</table>\n",
       "<p>2479 rows × 7 columns</p>\n",
       "</div>"
      ],
      "text/plain": [
       "         Interval   kWh     sec          Wh   cumul(ms)  \\\n",
       "heure                                                     \n",
       "0:0:22      26515  0.14  26.515  135.772204  1121744447   \n",
       "0:0:47      25478  0.14  25.478  141.298375  1121769925   \n",
       "0:1:13      26214  0.14  26.214  137.331197  1121796139   \n",
       "0:1:40      26962  0.13  26.962  133.521252  1121823101   \n",
       "0:2:7       27081  0.13  27.081  132.934530  1121850182   \n",
       "...           ...   ...     ...         ...         ...   \n",
       "18:2:24     24527  0.15  24.527  146.777021  1186666551   \n",
       "18:2:48     24456  0.15  24.456  147.203140  1186691007   \n",
       "18:3:14     25365  0.14  25.365  141.927853  1186716372   \n",
       "18:3:38     24789  0.14  24.789  145.225705  1186741161   \n",
       "18:4:3      25005  0.14  25.005  143.971206  1186766166   \n",
       "\n",
       "                             dates        days  \n",
       "heure                                           \n",
       "0:0:22  2024-03-20 00:00:22.152425  20/03/2024  \n",
       "0:0:47  2024-03-20 00:00:47.630425  20/03/2024  \n",
       "0:1:13  2024-03-20 00:01:13.844425  20/03/2024  \n",
       "0:1:40  2024-03-20 00:01:40.806425  20/03/2024  \n",
       "0:2:7   2024-03-20 00:02:07.887425  20/03/2024  \n",
       "...                            ...         ...  \n",
       "18:2:24 2024-03-20 18:02:24.256425  20/03/2024  \n",
       "18:2:48 2024-03-20 18:02:48.712425  20/03/2024  \n",
       "18:3:14 2024-03-20 18:03:14.077425  20/03/2024  \n",
       "18:3:38 2024-03-20 18:03:38.866425  20/03/2024  \n",
       "18:4:3  2024-03-20 18:04:03.871425  20/03/2024  \n",
       "\n",
       "[2479 rows x 7 columns]"
      ]
     },
     "execution_count": 3100,
     "metadata": {},
     "output_type": "execute_result"
    }
   ],
   "source": [
    "conso_day.head(1).dates, conso_day.tail(1).dates\n",
    "conso_day['heure']=conso_day['dates'].map(lambda x: str(x.hour)+':'+str(x.minute) +':'+str(x.second))\n",
    "#=[x.hour for x in conso_day['dates']]\n",
    "conso_day\n",
    "df= conso_day.set_index('heure')\n",
    "df"
   ]
  },
  {
   "cell_type": "code",
   "execution_count": 3101,
   "metadata": {},
   "outputs": [
    {
     "data": {
      "image/png": "[encoded data removed]",
      "text/plain": [
       "<Figure size 1500x700 with 1 Axes>"
      ]
     },
     "metadata": {},
     "output_type": "display_data"
    }
   ],
   "source": [
    "from matplotlib.ticker import (MultipleLocator, AutoMinorLocator)\n",
    "# consommation d'une journée entière à partir de minuit\n",
    "fig, ax = plt.subplots()\n",
    "major_ticks=300;minor_ticks=100\n",
    "ax.xaxis.set_major_locator(MultipleLocator(major_ticks))  # major ticks tous les 15 min\n",
    "ax.xaxis.set_minor_locator(MultipleLocator(minor_ticks))\n",
    "# the size of A4 paper\n",
    "fig.set_size_inches(15, 7)\n",
    "plt.plot(df['kWh'])\n",
    "#plt.plot(conso_day['heure'],conso_day['kWh'])\n",
    "plt.title(f'Journée du {day} : {conso_jour/1000} kwh')\n",
    "plt.grid()"
   ]
  },
  {
   "cell_type": "code",
   "execution_count": 3102,
   "metadata": {},
   "outputs": [
    {
     "data": {
      "text/plain": [
       "0       2024-03-07 00:25:03.994425\n",
       "1       2024-03-07 00:25:30.237425\n",
       "2       2024-03-07 00:25:56.122425\n",
       "3       2024-03-07 00:26:21.876425\n",
       "4       2024-03-07 00:26:47.650425\n",
       "                   ...            \n",
       "49666   2024-03-20 18:02:24.256425\n",
       "49667   2024-03-20 18:02:48.712425\n",
       "49668   2024-03-20 18:03:14.077425\n",
       "49669   2024-03-20 18:03:38.866425\n",
       "49670   2024-03-20 18:04:03.871425\n",
       "Name: dates, Length: 49671, dtype: datetime64[ns]"
      ]
     },
     "execution_count": 3102,
     "metadata": {},
     "output_type": "execute_result"
    }
   ],
   "source": [
    "\n",
    "\n",
    "time = conso_data['dates']\n",
    "time\n"
   ]
  },
  {
   "cell_type": "code",
   "execution_count": 3103,
   "metadata": {},
   "outputs": [],
   "source": [
    "def format_date(space=3):\n",
    "    plt.gca().xaxis.set_major_formatter(mdates.DateFormatter('%d/%m\\n%H:%M'))\n",
    "    plt.gca().xaxis.set_major_locator(mdates.HourLocator(space))\n",
    "    #plt.gca().xaxis.set_major_locator(mdates.HourLocator(interval=space))\n",
    "    plt.gcf().autofmt_xdate()\n",
    "    plt.grid()"
   ]
  },
  {
   "cell_type": "code",
   "execution_count": 3104,
   "metadata": {},
   "outputs": [],
   "source": [
    "if not old:\n",
    "    major_ticks=1/60;minor_ticks=1/240  # plus de ticks, 4 fois plus de minor\n",
    "    major_ticks=1/30;minor_ticks=1/120   # moins de ticks\n",
    "    major_ticks=1/15;minor_ticks=1/60\n",
    "    major_ticks=1/2;minor_ticks=1/8\n",
    "else:\n",
    "    major_ticks=4;minor_ticks=1   # encore moins si int\n"
   ]
  },
  {
   "cell_type": "code",
   "execution_count": 3105,
   "metadata": {},
   "outputs": [
    {
     "data": {
      "text/plain": [
       "(4, 1)"
      ]
     },
     "execution_count": 3105,
     "metadata": {},
     "output_type": "execute_result"
    }
   ],
   "source": [
    "major_ticks=4;minor_ticks=1\n",
    "major_ticks,minor_ticks"
   ]
  },
  {
   "cell_type": "markdown",
   "metadata": {},
   "source": [
    "## Main graph"
   ]
  },
  {
   "cell_type": "code",
   "execution_count": 3106,
   "metadata": {},
   "outputs": [
    {
     "data": {
      "image/png": "[encoded data removed]",
      "text/plain": [
       "<Figure size 2500x1000 with 1 Axes>"
      ]
     },
     "metadata": {},
     "output_type": "display_data"
    }
   ],
   "source": [
    "\n",
    "from matplotlib.dates import (YEARLY, DateFormatter,rrulewrapper, RRuleLocator, drange)\n",
    "\n",
    "def show_graph():\n",
    "    fig, ax = plt.subplots()\n",
    "    # the size of A4 paper\n",
    "    fig.set_size_inches(25, 10)\n",
    "\n",
    "    #plt.rcParams['axes.autolimit_mode'] = 'round_numbers'\n",
    "    \n",
    "    #formatter = DateFormatter('%d/%m\\n%H:%M:%S')\n",
    "    formatter = DateFormatter('%d/%m\\n%H:%M')\n",
    "    ax.xaxis.set_major_formatter(formatter)\n",
    "\n",
    "    # ticks sur axe des x\n",
    "    ax.xaxis.set_major_locator(MultipleLocator(major_ticks))  # major ticks tous les 15 min\n",
    "    ax.xaxis.set_minor_locator(MultipleLocator(minor_ticks))  # minor ticks tous les 5 min\n",
    "    ax.tick_params(which='both', width=3)\n",
    "    ax.tick_params(which='major', length=15, color='r')\n",
    "    ax.tick_params(which='minor', length=8, color='b')\n",
    "\n",
    "    #plt.plot(conso_data['cumul(ms)']/3600000,conso_data['Wh'])\n",
    "    plt.plot(time,conso_data['Wh'])\n",
    "    plt.ylabel('Wh')\n",
    "    plt.xlabel('Time (heures)')\n",
    "    #format_date(10)\n",
    "    for label in ax.get_xticklabels():\n",
    "        label.set_rotation(40)\n",
    "        label.set_horizontalalignment('right')\n",
    "\n",
    "    #fig.autofmt_xdate()\n",
    "    \n",
    "    plt.grid()\n",
    "    plt.show()\n",
    "show_graph()"
   ]
  },
  {
   "cell_type": "code",
   "execution_count": 3107,
   "metadata": {},
   "outputs": [
    {
     "data": {
      "text/html": [
       "<div>\n",
       "<style scoped>\n",
       "    .dataframe tbody tr th:only-of-type {\n",
       "        vertical-align: middle;\n",
       "    }\n",
       "\n",
       "    .dataframe tbody tr th {\n",
       "        vertical-align: top;\n",
       "    }\n",
       "\n",
       "    .dataframe thead th {\n",
       "        text-align: right;\n",
       "    }\n",
       "</style>\n",
       "<table border=\"1\" class=\"dataframe\">\n",
       "  <thead>\n",
       "    <tr style=\"text-align: right;\">\n",
       "      <th></th>\n",
       "      <th>Interval</th>\n",
       "      <th>kWh</th>\n",
       "      <th>sec</th>\n",
       "      <th>Wh</th>\n",
       "      <th>cumul(ms)</th>\n",
       "      <th>dates</th>\n",
       "      <th>days</th>\n",
       "    </tr>\n",
       "  </thead>\n",
       "  <tbody>\n",
       "    <tr>\n",
       "      <th>49670</th>\n",
       "      <td>25005</td>\n",
       "      <td>0.14</td>\n",
       "      <td>25.005</td>\n",
       "      <td>143.971206</td>\n",
       "      <td>1186766166</td>\n",
       "      <td>2024-03-20 18:04:03.871425</td>\n",
       "      <td>20/03/2024</td>\n",
       "    </tr>\n",
       "  </tbody>\n",
       "</table>\n",
       "</div>"
      ],
      "text/plain": [
       "       Interval   kWh     sec          Wh   cumul(ms)  \\\n",
       "49670     25005  0.14  25.005  143.971206  1186766166   \n",
       "\n",
       "                           dates        days  \n",
       "49670 2024-03-20 18:04:03.871425  20/03/2024  "
      ]
     },
     "execution_count": 3107,
     "metadata": {},
     "output_type": "execute_result"
    }
   ],
   "source": [
    "cumul_conso = len(conso_data)\n",
    "conso_data.tail(1)"
   ]
  },
  {
   "cell_type": "code",
   "execution_count": 3108,
   "metadata": {},
   "outputs": [
    {
     "data": {
      "text/plain": [
       "1186766166000"
      ]
     },
     "execution_count": 3108,
     "metadata": {},
     "output_type": "execute_result"
    }
   ],
   "source": [
    "cumtime= int(conso_data._get_value(l,'cumul(ms)')*1000)\n",
    "cumtime"
   ]
  },
  {
   "cell_type": "markdown",
   "metadata": {},
   "source": [
    "# Slice of last 1 kWh"
   ]
  },
  {
   "cell_type": "code",
   "execution_count": 3109,
   "metadata": {},
   "outputs": [
    {
     "data": {
      "text/plain": [
       "49671"
      ]
     },
     "execution_count": 3109,
     "metadata": {},
     "output_type": "execute_result"
    }
   ],
   "source": [
    "l = len(conso_data)  # total watt consommés\n",
    "l"
   ]
  },
  {
   "cell_type": "code",
   "execution_count": 3110,
   "metadata": {},
   "outputs": [
    {
     "data": {
      "text/plain": [
       "(49671, 1000)"
      ]
     },
     "execution_count": 3110,
     "metadata": {},
     "output_type": "execute_result"
    }
   ],
   "source": [
    "k = 1\n",
    "taille = k*1000  # fenetre k*1000 watt consommés\n",
    "l,taille"
   ]
  },
  {
   "cell_type": "code",
   "execution_count": 3111,
   "metadata": {},
   "outputs": [
    {
     "data": {
      "text/plain": [
       "1000"
      ]
     },
     "execution_count": 3111,
     "metadata": {},
     "output_type": "execute_result"
    }
   ],
   "source": [
    "if l<1000:\n",
    "    part = 1\n",
    "else: part = 1/2\n",
    "#taille = int(part*l)\n",
    "taille"
   ]
  },
  {
   "cell_type": "code",
   "execution_count": 3112,
   "metadata": {},
   "outputs": [
    {
     "data": {
      "text/plain": [
       "(1000,\n",
       "        Interval   kWh     sec          Wh   cumul(ms)  \\\n",
       " 48671     26879  0.13  26.879  133.933554  1163509312   \n",
       " 48672     26746  0.13  26.746  134.599566  1163536058   \n",
       " 48673     26857  0.13  26.857  134.043266  1163562915   \n",
       " 48674     26702  0.13  26.702  134.821362  1163589617   \n",
       " 48675     26863  0.13  26.863  134.013327  1163616480   \n",
       " ...         ...   ...     ...         ...         ...   \n",
       " 49666     24527  0.15  24.527  146.777021  1186666551   \n",
       " 49667     24456  0.15  24.456  147.203140  1186691007   \n",
       " 49668     25365  0.14  25.365  141.927853  1186716372   \n",
       " 49669     24789  0.14  24.789  145.225705  1186741161   \n",
       " 49670     25005  0.14  25.005  143.971206  1186766166   \n",
       " \n",
       "                            dates        days  \n",
       " 48671 2024-03-20 11:36:27.017425  20/03/2024  \n",
       " 48672 2024-03-20 11:36:53.763425  20/03/2024  \n",
       " 48673 2024-03-20 11:37:20.620425  20/03/2024  \n",
       " 48674 2024-03-20 11:37:47.322425  20/03/2024  \n",
       " 48675 2024-03-20 11:38:14.185425  20/03/2024  \n",
       " ...                          ...         ...  \n",
       " 49666 2024-03-20 18:02:24.256425  20/03/2024  \n",
       " 49667 2024-03-20 18:02:48.712425  20/03/2024  \n",
       " 49668 2024-03-20 18:03:14.077425  20/03/2024  \n",
       " 49669 2024-03-20 18:03:38.866425  20/03/2024  \n",
       " 49670 2024-03-20 18:04:03.871425  20/03/2024  \n",
       " \n",
       " [1000 rows x 7 columns])"
      ]
     },
     "execution_count": 3112,
     "metadata": {},
     "output_type": "execute_result"
    }
   ],
   "source": [
    "data = conso_data.tail(taille)\n",
    "len(data),data"
   ]
  },
  {
   "cell_type": "code",
   "execution_count": 3113,
   "metadata": {},
   "outputs": [],
   "source": [
    "now = datetime.now()\n",
    "# conso.csv dynamique\n",
    "cumtime_start= int(conso_data._get_value(l-taille+1,'cumul(ms)')*1000) # conversion microseconds\n"
   ]
  },
  {
   "cell_type": "code",
   "execution_count": 3114,
   "metadata": {},
   "outputs": [],
   "source": [
    "cumtime_end= int(data._get_value(l-1,'cumul(ms)')*1000) # conversion microseconds\n"
   ]
  },
  {
   "cell_type": "code",
   "execution_count": 3115,
   "metadata": {},
   "outputs": [
    {
     "data": {
      "text/plain": [
       "(1186766166000, 1163536058000)"
      ]
     },
     "execution_count": 3115,
     "metadata": {},
     "output_type": "execute_result"
    }
   ],
   "source": [
    "cumtime_end,cumtime_start"
   ]
  },
  {
   "cell_type": "code",
   "execution_count": 3116,
   "metadata": {},
   "outputs": [
    {
     "data": {
      "text/plain": [
       "23230108000"
      ]
     },
     "execution_count": 3116,
     "metadata": {},
     "output_type": "execute_result"
    }
   ],
   "source": [
    "#last_interval = int(data._get_value(l,'Interval')*1000) # conversion microseconds\n",
    "delta_cumtime = cumtime_end - cumtime_start #+ last_interval\n",
    "delta_cumtime"
   ]
  },
  {
   "cell_type": "code",
   "execution_count": 3117,
   "metadata": {},
   "outputs": [
    {
     "data": {
      "text/plain": [
       "(datetime.datetime(2024, 3, 20, 18, 4, 15, 204802),\n",
       " datetime.datetime(2024, 3, 20, 11, 37, 5, 96802),\n",
       " '20/03/2024 18:04:03')"
      ]
     },
     "execution_count": 3117,
     "metadata": {},
     "output_type": "execute_result"
    }
   ],
   "source": [
    "\n",
    "base = now - timedelta(microseconds=delta_cumtime)\n",
    "now,base, data['dates'][l-1].strftime('%d/%m/%Y %H:%M:%S')\n"
   ]
  },
  {
   "cell_type": "code",
   "execution_count": 3118,
   "metadata": {},
   "outputs": [
    {
     "data": {
      "text/html": [
       "<div>\n",
       "<style scoped>\n",
       "    .dataframe tbody tr th:only-of-type {\n",
       "        vertical-align: middle;\n",
       "    }\n",
       "\n",
       "    .dataframe tbody tr th {\n",
       "        vertical-align: top;\n",
       "    }\n",
       "\n",
       "    .dataframe thead th {\n",
       "        text-align: right;\n",
       "    }\n",
       "</style>\n",
       "<table border=\"1\" class=\"dataframe\">\n",
       "  <thead>\n",
       "    <tr style=\"text-align: right;\">\n",
       "      <th></th>\n",
       "      <th>Interval</th>\n",
       "      <th>kWh</th>\n",
       "      <th>sec</th>\n",
       "      <th>Wh</th>\n",
       "      <th>cumul(ms)</th>\n",
       "      <th>dates</th>\n",
       "      <th>days</th>\n",
       "    </tr>\n",
       "  </thead>\n",
       "  <tbody>\n",
       "    <tr>\n",
       "      <th>0</th>\n",
       "      <td>26289</td>\n",
       "      <td>0.14</td>\n",
       "      <td>26.289</td>\n",
       "      <td>136.939404</td>\n",
       "      <td>26289</td>\n",
       "      <td>2024-03-07 00:25:03.994425</td>\n",
       "      <td>07/03/2024</td>\n",
       "    </tr>\n",
       "    <tr>\n",
       "      <th>1</th>\n",
       "      <td>26243</td>\n",
       "      <td>0.14</td>\n",
       "      <td>26.243</td>\n",
       "      <td>137.179438</td>\n",
       "      <td>52532</td>\n",
       "      <td>2024-03-07 00:25:30.237425</td>\n",
       "      <td>07/03/2024</td>\n",
       "    </tr>\n",
       "    <tr>\n",
       "      <th>2</th>\n",
       "      <td>25885</td>\n",
       "      <td>0.14</td>\n",
       "      <td>25.885</td>\n",
       "      <td>139.076685</td>\n",
       "      <td>78417</td>\n",
       "      <td>2024-03-07 00:25:56.122425</td>\n",
       "      <td>07/03/2024</td>\n",
       "    </tr>\n",
       "    <tr>\n",
       "      <th>3</th>\n",
       "      <td>25754</td>\n",
       "      <td>0.14</td>\n",
       "      <td>25.754</td>\n",
       "      <td>139.784111</td>\n",
       "      <td>104171</td>\n",
       "      <td>2024-03-07 00:26:21.876425</td>\n",
       "      <td>07/03/2024</td>\n",
       "    </tr>\n",
       "    <tr>\n",
       "      <th>4</th>\n",
       "      <td>25774</td>\n",
       "      <td>0.14</td>\n",
       "      <td>25.774</td>\n",
       "      <td>139.675642</td>\n",
       "      <td>129945</td>\n",
       "      <td>2024-03-07 00:26:47.650425</td>\n",
       "      <td>07/03/2024</td>\n",
       "    </tr>\n",
       "    <tr>\n",
       "      <th>...</th>\n",
       "      <td>...</td>\n",
       "      <td>...</td>\n",
       "      <td>...</td>\n",
       "      <td>...</td>\n",
       "      <td>...</td>\n",
       "      <td>...</td>\n",
       "      <td>...</td>\n",
       "    </tr>\n",
       "    <tr>\n",
       "      <th>49666</th>\n",
       "      <td>24527</td>\n",
       "      <td>0.15</td>\n",
       "      <td>24.527</td>\n",
       "      <td>146.777021</td>\n",
       "      <td>1186666551</td>\n",
       "      <td>2024-03-20 18:02:24.256425</td>\n",
       "      <td>20/03/2024</td>\n",
       "    </tr>\n",
       "    <tr>\n",
       "      <th>49667</th>\n",
       "      <td>24456</td>\n",
       "      <td>0.15</td>\n",
       "      <td>24.456</td>\n",
       "      <td>147.203140</td>\n",
       "      <td>1186691007</td>\n",
       "      <td>2024-03-20 18:02:48.712425</td>\n",
       "      <td>20/03/2024</td>\n",
       "    </tr>\n",
       "    <tr>\n",
       "      <th>49668</th>\n",
       "      <td>25365</td>\n",
       "      <td>0.14</td>\n",
       "      <td>25.365</td>\n",
       "      <td>141.927853</td>\n",
       "      <td>1186716372</td>\n",
       "      <td>2024-03-20 18:03:14.077425</td>\n",
       "      <td>20/03/2024</td>\n",
       "    </tr>\n",
       "    <tr>\n",
       "      <th>49669</th>\n",
       "      <td>24789</td>\n",
       "      <td>0.14</td>\n",
       "      <td>24.789</td>\n",
       "      <td>145.225705</td>\n",
       "      <td>1186741161</td>\n",
       "      <td>2024-03-20 18:03:38.866425</td>\n",
       "      <td>20/03/2024</td>\n",
       "    </tr>\n",
       "    <tr>\n",
       "      <th>49670</th>\n",
       "      <td>25005</td>\n",
       "      <td>0.14</td>\n",
       "      <td>25.005</td>\n",
       "      <td>143.971206</td>\n",
       "      <td>1186766166</td>\n",
       "      <td>2024-03-20 18:04:03.871425</td>\n",
       "      <td>20/03/2024</td>\n",
       "    </tr>\n",
       "  </tbody>\n",
       "</table>\n",
       "<p>49671 rows × 7 columns</p>\n",
       "</div>"
      ],
      "text/plain": [
       "       Interval   kWh     sec          Wh   cumul(ms)  \\\n",
       "0         26289  0.14  26.289  136.939404       26289   \n",
       "1         26243  0.14  26.243  137.179438       52532   \n",
       "2         25885  0.14  25.885  139.076685       78417   \n",
       "3         25754  0.14  25.754  139.784111      104171   \n",
       "4         25774  0.14  25.774  139.675642      129945   \n",
       "...         ...   ...     ...         ...         ...   \n",
       "49666     24527  0.15  24.527  146.777021  1186666551   \n",
       "49667     24456  0.15  24.456  147.203140  1186691007   \n",
       "49668     25365  0.14  25.365  141.927853  1186716372   \n",
       "49669     24789  0.14  24.789  145.225705  1186741161   \n",
       "49670     25005  0.14  25.005  143.971206  1186766166   \n",
       "\n",
       "                           dates        days  \n",
       "0     2024-03-07 00:25:03.994425  07/03/2024  \n",
       "1     2024-03-07 00:25:30.237425  07/03/2024  \n",
       "2     2024-03-07 00:25:56.122425  07/03/2024  \n",
       "3     2024-03-07 00:26:21.876425  07/03/2024  \n",
       "4     2024-03-07 00:26:47.650425  07/03/2024  \n",
       "...                          ...         ...  \n",
       "49666 2024-03-20 18:02:24.256425  20/03/2024  \n",
       "49667 2024-03-20 18:02:48.712425  20/03/2024  \n",
       "49668 2024-03-20 18:03:14.077425  20/03/2024  \n",
       "49669 2024-03-20 18:03:38.866425  20/03/2024  \n",
       "49670 2024-03-20 18:04:03.871425  20/03/2024  \n",
       "\n",
       "[49671 rows x 7 columns]"
      ]
     },
     "execution_count": 3118,
     "metadata": {},
     "output_type": "execute_result"
    }
   ],
   "source": [
    "conso_data"
   ]
  },
  {
   "cell_type": "code",
   "execution_count": 3119,
   "metadata": {},
   "outputs": [
    {
     "data": {
      "text/plain": [
       "('20/03/2024 11:36:53', '20/03/2024 18:04:03')"
      ]
     },
     "execution_count": 3119,
     "metadata": {},
     "output_type": "execute_result"
    }
   ],
   "source": [
    "end = conso_data['dates'][l-1].strftime('%d/%m/%Y %H:%M:%S')\n",
    "start = conso_data['dates'][l-taille+1].strftime('%d/%m/%Y %H:%M:%S')\n",
    "start,end"
   ]
  },
  {
   "cell_type": "code",
   "execution_count": 3120,
   "metadata": {},
   "outputs": [
    {
     "data": {
      "text/plain": [
       "('2024-03-20 11:36:27.017425', '2024-03-20 18:04:03.871425')"
      ]
     },
     "execution_count": 3120,
     "metadata": {},
     "output_type": "execute_result"
    }
   ],
   "source": [
    "data.head(1)['dates'].to_string(index=False),data.tail(1)['dates'].to_string(index=False)"
   ]
  },
  {
   "cell_type": "code",
   "execution_count": 3121,
   "metadata": {},
   "outputs": [
    {
     "data": {
      "text/plain": [
       "1"
      ]
     },
     "execution_count": 3121,
     "metadata": {},
     "output_type": "execute_result"
    }
   ],
   "source": [
    "k"
   ]
  },
  {
   "cell_type": "code",
   "execution_count": 3122,
   "metadata": {},
   "outputs": [
    {
     "data": {
      "text/plain": [
       "48671    26879\n",
       "48672    26746\n",
       "48673    26857\n",
       "48674    26702\n",
       "48675    26863\n",
       "         ...  \n",
       "49666    24527\n",
       "49667    24456\n",
       "49668    25365\n",
       "49669    24789\n",
       "49670    25005\n",
       "Name: Interval, Length: 1000, dtype: int64"
      ]
     },
     "execution_count": 3122,
     "metadata": {},
     "output_type": "execute_result"
    }
   ],
   "source": [
    "data.Interval.tail(1000)"
   ]
  },
  {
   "cell_type": "code",
   "execution_count": 3123,
   "metadata": {},
   "outputs": [
    {
     "data": {
      "text/plain": [
       "(6.467703611111112, 3.710745179907362, 6, 28, 3)"
      ]
     },
     "execution_count": 3123,
     "metadata": {},
     "output_type": "execute_result"
    }
   ],
   "source": [
    "conversion_us_heure = 1/1000/60/60 \n",
    "temps_1kWh = sum(data.Interval.tail(1000))*conversion_us_heure  #somme 1000 interval = temps conso 1 kWh\n",
    "conso_jour = 24/temps_1kWh\n",
    "heure = int(temps_1kWh)\n",
    "mn = (temps_1kWh - heure)*60\n",
    "sec = (mn - int(mn))*60\n",
    "temps_1kWh, conso_jour,heure,int(mn),int(sec)"
   ]
  },
  {
   "cell_type": "code",
   "execution_count": 3124,
   "metadata": {},
   "outputs": [
    {
     "name": "stderr",
     "output_type": "stream",
     "text": [
      "C:\\Users\\jean\\AppData\\Local\\Temp\\ipykernel_21524\\3458501435.py:1: SettingWithCopyWarning: \n",
      "A value is trying to be set on a copy of a slice from a DataFrame.\n",
      "Try using .loc[row_indexer,col_indexer] = value instead\n",
      "\n",
      "See the caveats in the documentation: https://pandas.pydata.org/pandas-docs/stable/user_guide/indexing.html#returning-a-view-versus-a-copy\n",
      "  data['heure']=conso_data['dates']#.strftime('%d/%m/%Y %H:%M:%S')\n"
     ]
    }
   ],
   "source": [
    "data['heure']=conso_data['dates']#.strftime('%d/%m/%Y %H:%M:%S')"
   ]
  },
  {
   "cell_type": "code",
   "execution_count": 3125,
   "metadata": {},
   "outputs": [
    {
     "data": {
      "text/html": [
       "<div>\n",
       "<style scoped>\n",
       "    .dataframe tbody tr th:only-of-type {\n",
       "        vertical-align: middle;\n",
       "    }\n",
       "\n",
       "    .dataframe tbody tr th {\n",
       "        vertical-align: top;\n",
       "    }\n",
       "\n",
       "    .dataframe thead th {\n",
       "        text-align: right;\n",
       "    }\n",
       "</style>\n",
       "<table border=\"1\" class=\"dataframe\">\n",
       "  <thead>\n",
       "    <tr style=\"text-align: right;\">\n",
       "      <th></th>\n",
       "      <th>Interval</th>\n",
       "      <th>kWh</th>\n",
       "      <th>sec</th>\n",
       "      <th>Wh</th>\n",
       "      <th>cumul(ms)</th>\n",
       "      <th>dates</th>\n",
       "      <th>days</th>\n",
       "      <th>heure</th>\n",
       "    </tr>\n",
       "  </thead>\n",
       "  <tbody>\n",
       "    <tr>\n",
       "      <th>48671</th>\n",
       "      <td>26879</td>\n",
       "      <td>0.13</td>\n",
       "      <td>26.879</td>\n",
       "      <td>133.933554</td>\n",
       "      <td>1163509312</td>\n",
       "      <td>2024-03-20 11:36:27.017425</td>\n",
       "      <td>20/03/2024</td>\n",
       "      <td>2024-03-20 11:36:27.017425</td>\n",
       "    </tr>\n",
       "    <tr>\n",
       "      <th>48672</th>\n",
       "      <td>26746</td>\n",
       "      <td>0.13</td>\n",
       "      <td>26.746</td>\n",
       "      <td>134.599566</td>\n",
       "      <td>1163536058</td>\n",
       "      <td>2024-03-20 11:36:53.763425</td>\n",
       "      <td>20/03/2024</td>\n",
       "      <td>2024-03-20 11:36:53.763425</td>\n",
       "    </tr>\n",
       "    <tr>\n",
       "      <th>48673</th>\n",
       "      <td>26857</td>\n",
       "      <td>0.13</td>\n",
       "      <td>26.857</td>\n",
       "      <td>134.043266</td>\n",
       "      <td>1163562915</td>\n",
       "      <td>2024-03-20 11:37:20.620425</td>\n",
       "      <td>20/03/2024</td>\n",
       "      <td>2024-03-20 11:37:20.620425</td>\n",
       "    </tr>\n",
       "    <tr>\n",
       "      <th>48674</th>\n",
       "      <td>26702</td>\n",
       "      <td>0.13</td>\n",
       "      <td>26.702</td>\n",
       "      <td>134.821362</td>\n",
       "      <td>1163589617</td>\n",
       "      <td>2024-03-20 11:37:47.322425</td>\n",
       "      <td>20/03/2024</td>\n",
       "      <td>2024-03-20 11:37:47.322425</td>\n",
       "    </tr>\n",
       "    <tr>\n",
       "      <th>48675</th>\n",
       "      <td>26863</td>\n",
       "      <td>0.13</td>\n",
       "      <td>26.863</td>\n",
       "      <td>134.013327</td>\n",
       "      <td>1163616480</td>\n",
       "      <td>2024-03-20 11:38:14.185425</td>\n",
       "      <td>20/03/2024</td>\n",
       "      <td>2024-03-20 11:38:14.185425</td>\n",
       "    </tr>\n",
       "    <tr>\n",
       "      <th>...</th>\n",
       "      <td>...</td>\n",
       "      <td>...</td>\n",
       "      <td>...</td>\n",
       "      <td>...</td>\n",
       "      <td>...</td>\n",
       "      <td>...</td>\n",
       "      <td>...</td>\n",
       "      <td>...</td>\n",
       "    </tr>\n",
       "    <tr>\n",
       "      <th>49666</th>\n",
       "      <td>24527</td>\n",
       "      <td>0.15</td>\n",
       "      <td>24.527</td>\n",
       "      <td>146.777021</td>\n",
       "      <td>1186666551</td>\n",
       "      <td>2024-03-20 18:02:24.256425</td>\n",
       "      <td>20/03/2024</td>\n",
       "      <td>2024-03-20 18:02:24.256425</td>\n",
       "    </tr>\n",
       "    <tr>\n",
       "      <th>49667</th>\n",
       "      <td>24456</td>\n",
       "      <td>0.15</td>\n",
       "      <td>24.456</td>\n",
       "      <td>147.203140</td>\n",
       "      <td>1186691007</td>\n",
       "      <td>2024-03-20 18:02:48.712425</td>\n",
       "      <td>20/03/2024</td>\n",
       "      <td>2024-03-20 18:02:48.712425</td>\n",
       "    </tr>\n",
       "    <tr>\n",
       "      <th>49668</th>\n",
       "      <td>25365</td>\n",
       "      <td>0.14</td>\n",
       "      <td>25.365</td>\n",
       "      <td>141.927853</td>\n",
       "      <td>1186716372</td>\n",
       "      <td>2024-03-20 18:03:14.077425</td>\n",
       "      <td>20/03/2024</td>\n",
       "      <td>2024-03-20 18:03:14.077425</td>\n",
       "    </tr>\n",
       "    <tr>\n",
       "      <th>49669</th>\n",
       "      <td>24789</td>\n",
       "      <td>0.14</td>\n",
       "      <td>24.789</td>\n",
       "      <td>145.225705</td>\n",
       "      <td>1186741161</td>\n",
       "      <td>2024-03-20 18:03:38.866425</td>\n",
       "      <td>20/03/2024</td>\n",
       "      <td>2024-03-20 18:03:38.866425</td>\n",
       "    </tr>\n",
       "    <tr>\n",
       "      <th>49670</th>\n",
       "      <td>25005</td>\n",
       "      <td>0.14</td>\n",
       "      <td>25.005</td>\n",
       "      <td>143.971206</td>\n",
       "      <td>1186766166</td>\n",
       "      <td>2024-03-20 18:04:03.871425</td>\n",
       "      <td>20/03/2024</td>\n",
       "      <td>2024-03-20 18:04:03.871425</td>\n",
       "    </tr>\n",
       "  </tbody>\n",
       "</table>\n",
       "<p>1000 rows × 8 columns</p>\n",
       "</div>"
      ],
      "text/plain": [
       "       Interval   kWh     sec          Wh   cumul(ms)  \\\n",
       "48671     26879  0.13  26.879  133.933554  1163509312   \n",
       "48672     26746  0.13  26.746  134.599566  1163536058   \n",
       "48673     26857  0.13  26.857  134.043266  1163562915   \n",
       "48674     26702  0.13  26.702  134.821362  1163589617   \n",
       "48675     26863  0.13  26.863  134.013327  1163616480   \n",
       "...         ...   ...     ...         ...         ...   \n",
       "49666     24527  0.15  24.527  146.777021  1186666551   \n",
       "49667     24456  0.15  24.456  147.203140  1186691007   \n",
       "49668     25365  0.14  25.365  141.927853  1186716372   \n",
       "49669     24789  0.14  24.789  145.225705  1186741161   \n",
       "49670     25005  0.14  25.005  143.971206  1186766166   \n",
       "\n",
       "                           dates        days                      heure  \n",
       "48671 2024-03-20 11:36:27.017425  20/03/2024 2024-03-20 11:36:27.017425  \n",
       "48672 2024-03-20 11:36:53.763425  20/03/2024 2024-03-20 11:36:53.763425  \n",
       "48673 2024-03-20 11:37:20.620425  20/03/2024 2024-03-20 11:37:20.620425  \n",
       "48674 2024-03-20 11:37:47.322425  20/03/2024 2024-03-20 11:37:47.322425  \n",
       "48675 2024-03-20 11:38:14.185425  20/03/2024 2024-03-20 11:38:14.185425  \n",
       "...                          ...         ...                        ...  \n",
       "49666 2024-03-20 18:02:24.256425  20/03/2024 2024-03-20 18:02:24.256425  \n",
       "49667 2024-03-20 18:02:48.712425  20/03/2024 2024-03-20 18:02:48.712425  \n",
       "49668 2024-03-20 18:03:14.077425  20/03/2024 2024-03-20 18:03:14.077425  \n",
       "49669 2024-03-20 18:03:38.866425  20/03/2024 2024-03-20 18:03:38.866425  \n",
       "49670 2024-03-20 18:04:03.871425  20/03/2024 2024-03-20 18:04:03.871425  \n",
       "\n",
       "[1000 rows x 8 columns]"
      ]
     },
     "execution_count": 3125,
     "metadata": {},
     "output_type": "execute_result"
    }
   ],
   "source": [
    "data"
   ]
  },
  {
   "cell_type": "code",
   "execution_count": 3126,
   "metadata": {},
   "outputs": [
    {
     "data": {
      "text/plain": [
       "<Axes: >"
      ]
     },
     "execution_count": 3126,
     "metadata": {},
     "output_type": "execute_result"
    },
    {
     "data": {
      "image/png": "[encoded data removed]",
      "text/plain": [
       "<Figure size 640x480 with 1 Axes>"
      ]
     },
     "metadata": {},
     "output_type": "display_data"
    }
   ],
   "source": [
    "data.tail(600)['Wh'].plot()"
   ]
  },
  {
   "cell_type": "code",
   "execution_count": 3127,
   "metadata": {},
   "outputs": [
    {
     "data": {
      "text/plain": [
       "48671    133.933554\n",
       "48672    134.599566\n",
       "48673    134.043266\n",
       "48674    134.821362\n",
       "48675    134.013327\n",
       "            ...    \n",
       "49666    146.777021\n",
       "49667    147.203140\n",
       "49668    141.927853\n",
       "49669    145.225705\n",
       "49670    143.971206\n",
       "Name: Wh, Length: 1000, dtype: float64"
      ]
     },
     "execution_count": 3127,
     "metadata": {},
     "output_type": "execute_result"
    }
   ],
   "source": [
    "data['Wh']"
   ]
  },
  {
   "cell_type": "markdown",
   "metadata": {},
   "source": [
    "# k kW window graph"
   ]
  },
  {
   "cell_type": "code",
   "execution_count": 3128,
   "metadata": {},
   "outputs": [
    {
     "data": {
      "image/png": "[encoded data removed]",
      "text/plain": [
       "<Figure size 2500x1000 with 1 Axes>"
      ]
     },
     "metadata": {},
     "output_type": "display_data"
    }
   ],
   "source": [
    "fig, ax = plt.subplots()\n",
    "# the size of A4 paper\n",
    "fig.set_size_inches(25, 10)\n",
    "\n",
    "formatter = DateFormatter('%d/%m\\n%H:%M')\n",
    "ax.xaxis.set_major_formatter(formatter)\n",
    "\n",
    "# ticks sur axe des x\n",
    "major_ticks=1/30;minor_ticks=1/360\n",
    "ax.xaxis.set_major_locator(MultipleLocator(major_ticks))  # 1 major tick tous les 48 min\n",
    "ax.xaxis.set_minor_locator(MultipleLocator(minor_ticks))  # 1 minor ticks tous les 4 min\n",
    "ax.tick_params(which='both', width=3)\n",
    "ax.tick_params(which='major', length=15, color='r')\n",
    "ax.tick_params(which='minor', length=8, color='b')\n",
    "\n",
    "plt.title(f'Consommation {k} kW (Temps: {heure} heures {int(mn)} minutes {int(sec)} secondes)\\nDe {start} à {end}')\n",
    "plt.plot(data['dates'],data['Wh'])\n",
    "plt.ylabel('Wh')\n",
    "plt.xlabel('Time (heures)')\n",
    "plt.grid()\n"
   ]
  },
  {
   "cell_type": "code",
   "execution_count": 3129,
   "metadata": {},
   "outputs": [
    {
     "data": {
      "text/plain": [
       "<Axes: ylabel='Frequency'>"
      ]
     },
     "execution_count": 3129,
     "metadata": {},
     "output_type": "execute_result"
    },
    {
     "data": {
      "image/png": "[encoded data removed]",
      "text/plain": [
       "<Figure size 640x480 with 1 Axes>"
      ]
     },
     "metadata": {},
     "output_type": "display_data"
    }
   ],
   "source": [
    "data.kWh.plot.hist(bins=50,rwidth=0.8,grid=True)\n"
   ]
  },
  {
   "cell_type": "code",
   "execution_count": 3130,
   "metadata": {},
   "outputs": [
    {
     "data": {
      "text/html": [
       "<div>\n",
       "<style scoped>\n",
       "    .dataframe tbody tr th:only-of-type {\n",
       "        vertical-align: middle;\n",
       "    }\n",
       "\n",
       "    .dataframe tbody tr th {\n",
       "        vertical-align: top;\n",
       "    }\n",
       "\n",
       "    .dataframe thead th {\n",
       "        text-align: right;\n",
       "    }\n",
       "</style>\n",
       "<table border=\"1\" class=\"dataframe\">\n",
       "  <thead>\n",
       "    <tr style=\"text-align: right;\">\n",
       "      <th></th>\n",
       "      <th>Interval</th>\n",
       "      <th>kWh</th>\n",
       "      <th>sec</th>\n",
       "      <th>Wh</th>\n",
       "      <th>cumul(ms)</th>\n",
       "      <th>dates</th>\n",
       "      <th>days</th>\n",
       "    </tr>\n",
       "  </thead>\n",
       "  <tbody>\n",
       "    <tr>\n",
       "      <th>49666</th>\n",
       "      <td>24527</td>\n",
       "      <td>0.15</td>\n",
       "      <td>24.527</td>\n",
       "      <td>146.777021</td>\n",
       "      <td>1186666551</td>\n",
       "      <td>2024-03-20 18:02:24.256425</td>\n",
       "      <td>20/03/2024</td>\n",
       "    </tr>\n",
       "    <tr>\n",
       "      <th>49667</th>\n",
       "      <td>24456</td>\n",
       "      <td>0.15</td>\n",
       "      <td>24.456</td>\n",
       "      <td>147.203140</td>\n",
       "      <td>1186691007</td>\n",
       "      <td>2024-03-20 18:02:48.712425</td>\n",
       "      <td>20/03/2024</td>\n",
       "    </tr>\n",
       "    <tr>\n",
       "      <th>49668</th>\n",
       "      <td>25365</td>\n",
       "      <td>0.14</td>\n",
       "      <td>25.365</td>\n",
       "      <td>141.927853</td>\n",
       "      <td>1186716372</td>\n",
       "      <td>2024-03-20 18:03:14.077425</td>\n",
       "      <td>20/03/2024</td>\n",
       "    </tr>\n",
       "    <tr>\n",
       "      <th>49669</th>\n",
       "      <td>24789</td>\n",
       "      <td>0.14</td>\n",
       "      <td>24.789</td>\n",
       "      <td>145.225705</td>\n",
       "      <td>1186741161</td>\n",
       "      <td>2024-03-20 18:03:38.866425</td>\n",
       "      <td>20/03/2024</td>\n",
       "    </tr>\n",
       "    <tr>\n",
       "      <th>49670</th>\n",
       "      <td>25005</td>\n",
       "      <td>0.14</td>\n",
       "      <td>25.005</td>\n",
       "      <td>143.971206</td>\n",
       "      <td>1186766166</td>\n",
       "      <td>2024-03-20 18:04:03.871425</td>\n",
       "      <td>20/03/2024</td>\n",
       "    </tr>\n",
       "  </tbody>\n",
       "</table>\n",
       "</div>"
      ],
      "text/plain": [
       "       Interval   kWh     sec          Wh   cumul(ms)  \\\n",
       "49666     24527  0.15  24.527  146.777021  1186666551   \n",
       "49667     24456  0.15  24.456  147.203140  1186691007   \n",
       "49668     25365  0.14  25.365  141.927853  1186716372   \n",
       "49669     24789  0.14  24.789  145.225705  1186741161   \n",
       "49670     25005  0.14  25.005  143.971206  1186766166   \n",
       "\n",
       "                           dates        days  \n",
       "49666 2024-03-20 18:02:24.256425  20/03/2024  \n",
       "49667 2024-03-20 18:02:48.712425  20/03/2024  \n",
       "49668 2024-03-20 18:03:14.077425  20/03/2024  \n",
       "49669 2024-03-20 18:03:38.866425  20/03/2024  \n",
       "49670 2024-03-20 18:04:03.871425  20/03/2024  "
      ]
     },
     "execution_count": 3130,
     "metadata": {},
     "output_type": "execute_result"
    }
   ],
   "source": [
    "conso_data.tail()"
   ]
  },
  {
   "cell_type": "code",
   "execution_count": 3131,
   "metadata": {},
   "outputs": [
    {
     "data": {
      "image/png": "[encoded data removed]",
      "text/plain": [
       "<Figure size 640x480 with 1 Axes>"
      ]
     },
     "metadata": {},
     "output_type": "display_data"
    }
   ],
   "source": [
    "conso_data.tail(1000)['kWh'].plot()\n",
    "plt.grid()"
   ]
  },
  {
   "cell_type": "code",
   "execution_count": 3132,
   "metadata": {},
   "outputs": [
    {
     "data": {
      "text/plain": [
       "(1186766166000.0, 19779.4361)"
      ]
     },
     "execution_count": 3132,
     "metadata": {},
     "output_type": "execute_result"
    }
   ],
   "source": [
    "#plt.plot(conso_data['sec'])\n",
    "now = dt.datetime.now()\n",
    "last_cumul = np.array(conso_data['cumul(ms)'].tail(1))[0]*1000.0  # us\n",
    "last_cumul, last_cumul/60e6  # min"
   ]
  },
  {
   "cell_type": "code",
   "execution_count": 3133,
   "metadata": {},
   "outputs": [
    {
     "data": {
      "text/plain": [
       "(datetime.datetime(2024, 3, 20, 18, 4, 18, 957920),\n",
       " datetime.datetime(2024, 3, 7, 0, 24, 52, 791920))"
      ]
     },
     "execution_count": 3133,
     "metadata": {},
     "output_type": "execute_result"
    }
   ],
   "source": [
    "begin = now - dt.timedelta(microseconds=last_cumul)  #2023, 6, 24, 9, 14, (39, 942895) approximatif\n",
    "now, begin"
   ]
  },
  {
   "cell_type": "code",
   "execution_count": 3134,
   "metadata": {},
   "outputs": [
    {
     "data": {
      "text/plain": [
       "(49671, 1186767, 329.6575)"
      ]
     },
     "execution_count": 3134,
     "metadata": {},
     "output_type": "execute_result"
    }
   ],
   "source": [
    "x = mdates.drange(begin,now,dt.timedelta(microseconds=1000000))  # seconds\n",
    "len(conso_data),len(x),len(x)/3600"
   ]
  },
  {
   "cell_type": "code",
   "execution_count": 3135,
   "metadata": {},
   "outputs": [],
   "source": [
    "def format_date(space=3):\n",
    "    plt.gca().xaxis.set_major_formatter(mdates.DateFormatter('%d/%m\\n%H:%M'))\n",
    "    plt.gca().xaxis.set_major_locator(mdates.HourLocator(space))\n",
    "    plt.gca().xaxis.set_major_locator(mdates.HourLocator(interval=space))\n",
    "    plt.gcf().autofmt_xdate()\n",
    "    plt.grid()"
   ]
  },
  {
   "cell_type": "code",
   "execution_count": 3136,
   "metadata": {},
   "outputs": [
    {
     "data": {
      "text/plain": [
       "732"
      ]
     },
     "execution_count": 3136,
     "metadata": {},
     "output_type": "execute_result"
    }
   ],
   "source": [
    "import numpy as np\n",
    "import datetime as dt\n",
    "import matplotlib.pyplot as plt\n",
    "base = dt.datetime(2005, 2, 1)\n",
    "dates = [base + dt.timedelta(hours=(2 * i)) for i in range(732)]\n",
    "N = len(dates)\n",
    "N\n"
   ]
  },
  {
   "cell_type": "code",
   "execution_count": 3137,
   "metadata": {},
   "outputs": [
    {
     "data": {
      "text/plain": [
       "61.0"
      ]
     },
     "execution_count": 3137,
     "metadata": {},
     "output_type": "execute_result"
    }
   ],
   "source": [
    "732/12 # 60 jours"
   ]
  },
  {
   "cell_type": "code",
   "execution_count": 3138,
   "metadata": {},
   "outputs": [
    {
     "data": {
      "text/plain": [
       "(datetime.datetime(2005, 2, 1, 0, 0), datetime.datetime(2005, 4, 2, 22, 0))"
      ]
     },
     "execution_count": 3138,
     "metadata": {},
     "output_type": "execute_result"
    }
   ],
   "source": [
    "dates[0],dates[-1]"
   ]
  },
  {
   "cell_type": "code",
   "execution_count": 3139,
   "metadata": {},
   "outputs": [
    {
     "data": {
      "image/png": "[encoded data removed]",
      "text/plain": [
       "<Figure size 600x600 with 3 Axes>"
      ]
     },
     "metadata": {},
     "output_type": "display_data"
    }
   ],
   "source": [
    "np.random.seed(19680801)\n",
    "y = np.cumsum(np.random.randn(N))\n",
    "\n",
    "fig, axs = plt.subplots(3, 1, layout='constrained', figsize=(6, 6))\n",
    "lims = [(np.datetime64('2005-02'), np.datetime64('2005-04')),\n",
    "        (np.datetime64('2005-02-03'), np.datetime64('2005-02-15')),\n",
    "        (np.datetime64('2005-02-03 11:00'), np.datetime64('2005-02-04 13:20'))]\n",
    "for nn, ax in enumerate(axs):\n",
    "    ax.plot(dates, y)\n",
    "    ax.set_xlim(lims[nn])\n",
    "    # rotate_labels...\n",
    "    for label in ax.get_xticklabels():\n",
    "        label.set_rotation(40)\n",
    "        label.set_horizontalalignment('right')\n",
    "axs[0].set_title('Default Date Formatter')\n",
    "plt.show()"
   ]
  },
  {
   "cell_type": "code",
   "execution_count": 3140,
   "metadata": {},
   "outputs": [
    {
     "data": {
      "text/plain": [
       "datetime.datetime(2005, 4, 2, 22, 0)"
      ]
     },
     "execution_count": 3140,
     "metadata": {},
     "output_type": "execute_result"
    }
   ],
   "source": [
    "t = dt.datetime(2005, 4, 2, 22, 0)\n",
    "t"
   ]
  }
 ],
 "metadata": {
  "kernelspec": {
   "display_name": "Python 3",
   "language": "python",
   "name": "python3"
  },
  "language_info": {
   "codemirror_mode": {
    "name": "ipython",
    "version": 3
   },
   "file_extension": ".py",
   "mimetype": "text/x-python",
   "name": "python",
   "nbconvert_exporter": "python",
   "pygments_lexer": "ipython3",
   "version": "3.11.4"
  },
  "orig_nbformat": 4
 },
 "nbformat": 4,
 "nbformat_minor": 2
}
