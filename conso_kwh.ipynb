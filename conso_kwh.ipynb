{
 "cells": [
  {
   "cell_type": "code",
   "execution_count": 1,
   "metadata": {},
   "outputs": [],
   "source": [
    "import pandas as pd\n",
    "import numpy as np\n",
    "import matplotlib.pyplot as plt\n",
    "import matplotlib.dates as mdates\n",
    "import matplotlib.ticker as ticker\n",
    "from matplotlib.axis import Axis\n",
    "import datetime as dt\n",
    "\n",
    "#plt.style.use(['science', 'notebook'])\n",
    "#%matplotlib inline\n"
   ]
  },
  {
   "cell_type": "code",
   "execution_count": 2,
   "metadata": {},
   "outputs": [],
   "source": [
    "data_file = \"conso.txt\""
   ]
  },
  {
   "cell_type": "code",
   "execution_count": 3,
   "metadata": {},
   "outputs": [],
   "source": [
    "def read_text(filename):\n",
    "    f = open(filename, \"r\")\n",
    "    text = f.readlines()\n",
    "    f.close()\n",
    "    print(text)\n",
    "\n",
    "#read_text(data_file)\n",
    "def get_data(filename):    \n",
    "    data = pd.read_csv(filename)\n",
    "    #data['time'] = pd.to_datetime(data['time'])  #.dt.tz_convert(None)\n",
    "    #data.info()\n",
    "    #print(data.tail(5))\n",
    "    return data\n"
   ]
  },
  {
   "cell_type": "code",
   "execution_count": 4,
   "metadata": {},
   "outputs": [
    {
     "name": "stdout",
     "output_type": "stream",
     "text": [
      "<class 'pandas.core.frame.DataFrame'>\n",
      "RangeIndex: 1013 entries, 0 to 1012\n",
      "Data columns (total 1 columns):\n",
      " #   Column  Non-Null Count  Dtype  \n",
      "---  ------  --------------  -----  \n",
      " 0   Conso   1013 non-null   float64\n",
      "dtypes: float64(1)\n",
      "memory usage: 8.0 KB\n"
     ]
    }
   ],
   "source": [
    "# read data with pandas\n",
    "data = get_data(data_file)\n",
    "data.info()\n"
   ]
  },
  {
   "cell_type": "code",
   "execution_count": 5,
   "metadata": {},
   "outputs": [
    {
     "data": {
      "text/html": [
       "<div>\n",
       "<style scoped>\n",
       "    .dataframe tbody tr th:only-of-type {\n",
       "        vertical-align: middle;\n",
       "    }\n",
       "\n",
       "    .dataframe tbody tr th {\n",
       "        vertical-align: top;\n",
       "    }\n",
       "\n",
       "    .dataframe thead th {\n",
       "        text-align: right;\n",
       "    }\n",
       "</style>\n",
       "<table border=\"1\" class=\"dataframe\">\n",
       "  <thead>\n",
       "    <tr style=\"text-align: right;\">\n",
       "      <th></th>\n",
       "      <th>Conso</th>\n",
       "      <th>interval</th>\n",
       "    </tr>\n",
       "  </thead>\n",
       "  <tbody>\n",
       "    <tr>\n",
       "      <th>0</th>\n",
       "      <td>0.19</td>\n",
       "      <td>18947.368421</td>\n",
       "    </tr>\n",
       "    <tr>\n",
       "      <th>1</th>\n",
       "      <td>0.19</td>\n",
       "      <td>18947.368421</td>\n",
       "    </tr>\n",
       "    <tr>\n",
       "      <th>2</th>\n",
       "      <td>0.19</td>\n",
       "      <td>18947.368421</td>\n",
       "    </tr>\n",
       "    <tr>\n",
       "      <th>3</th>\n",
       "      <td>0.19</td>\n",
       "      <td>18947.368421</td>\n",
       "    </tr>\n",
       "    <tr>\n",
       "      <th>4</th>\n",
       "      <td>0.19</td>\n",
       "      <td>18947.368421</td>\n",
       "    </tr>\n",
       "    <tr>\n",
       "      <th>...</th>\n",
       "      <td>...</td>\n",
       "      <td>...</td>\n",
       "    </tr>\n",
       "    <tr>\n",
       "      <th>1008</th>\n",
       "      <td>0.16</td>\n",
       "      <td>22500.000000</td>\n",
       "    </tr>\n",
       "    <tr>\n",
       "      <th>1009</th>\n",
       "      <td>0.16</td>\n",
       "      <td>22500.000000</td>\n",
       "    </tr>\n",
       "    <tr>\n",
       "      <th>1010</th>\n",
       "      <td>0.17</td>\n",
       "      <td>21176.470588</td>\n",
       "    </tr>\n",
       "    <tr>\n",
       "      <th>1011</th>\n",
       "      <td>0.17</td>\n",
       "      <td>21176.470588</td>\n",
       "    </tr>\n",
       "    <tr>\n",
       "      <th>1012</th>\n",
       "      <td>0.16</td>\n",
       "      <td>22500.000000</td>\n",
       "    </tr>\n",
       "  </tbody>\n",
       "</table>\n",
       "<p>1013 rows × 2 columns</p>\n",
       "</div>"
      ],
      "text/plain": [
       "      Conso      interval\n",
       "0      0.19  18947.368421\n",
       "1      0.19  18947.368421\n",
       "2      0.19  18947.368421\n",
       "3      0.19  18947.368421\n",
       "4      0.19  18947.368421\n",
       "...     ...           ...\n",
       "1008   0.16  22500.000000\n",
       "1009   0.16  22500.000000\n",
       "1010   0.17  21176.470588\n",
       "1011   0.17  21176.470588\n",
       "1012   0.16  22500.000000\n",
       "\n",
       "[1013 rows x 2 columns]"
      ]
     },
     "execution_count": 5,
     "metadata": {},
     "output_type": "execute_result"
    }
   ],
   "source": [
    "data['interval']=3600/data['Conso']\n",
    "data"
   ]
  },
  {
   "cell_type": "code",
   "execution_count": 6,
   "metadata": {},
   "outputs": [
    {
     "data": {
      "text/plain": [
       "<matplotlib.legend.Legend at 0x1bcc86eb890>"
      ]
     },
     "execution_count": 6,
     "metadata": {},
     "output_type": "execute_result"
    },
    {
     "data": {
      "image/png": "[encoded data removed]",
      "text/plain": [
       "<Figure size 640x480 with 1 Axes>"
      ]
     },
     "metadata": {},
     "output_type": "display_data"
    }
   ],
   "source": [
    "\n",
    "plt.title('Consommation Linky')\n",
    "plt.plot(data, color='red',label='Conso')\n",
    "\n",
    "plt.grid()\n",
    "plt.legend()"
   ]
  },
  {
   "attachments": {},
   "cell_type": "markdown",
   "metadata": {},
   "source": [
    "### conso.csv sur WD6TB mis à jour avec PI4"
   ]
  },
  {
   "cell_type": "code",
   "execution_count": 7,
   "metadata": {},
   "outputs": [],
   "source": [
    "def get_data2(filename):    \n",
    "    data = pd.read_csv(filename, names=[\"Interval\",\"kWh\"])\n",
    "    return data"
   ]
  },
  {
   "cell_type": "code",
   "execution_count": 8,
   "metadata": {},
   "outputs": [
    {
     "name": "stdout",
     "output_type": "stream",
     "text": [
      "<class 'pandas.core.frame.DataFrame'>\n",
      "RangeIndex: 26643 entries, 0 to 26642\n",
      "Data columns (total 2 columns):\n",
      " #   Column    Non-Null Count  Dtype  \n",
      "---  ------    --------------  -----  \n",
      " 0   Interval  26643 non-null  int64  \n",
      " 1   kWh       26643 non-null  float64\n",
      "dtypes: float64(1), int64(1)\n",
      "memory usage: 416.4 KB\n"
     ]
    }
   ],
   "source": [
    "old = False\n",
    "\n",
    "if old:\n",
    "    #conso_file = r\"C:\\Users\\jean\\Documents\\conso.csv\"\n",
    "    conso_file = r\"Y:\\Documents\\conso_old.csv\"\n",
    "    conso_file = r\"Y:\\Documents\\conso - Copy (2).csv\"\n",
    "else:\n",
    "    conso_file = r\"Y:\\Documents\\conso.csv\"\n",
    "#old = False\n",
    "conso_data = get_data2(conso_file)\n",
    "conso_data.info()\n"
   ]
  },
  {
   "cell_type": "code",
   "execution_count": 9,
   "metadata": {},
   "outputs": [
    {
     "data": {
      "text/html": [
       "<div>\n",
       "<style scoped>\n",
       "    .dataframe tbody tr th:only-of-type {\n",
       "        vertical-align: middle;\n",
       "    }\n",
       "\n",
       "    .dataframe tbody tr th {\n",
       "        vertical-align: top;\n",
       "    }\n",
       "\n",
       "    .dataframe thead th {\n",
       "        text-align: right;\n",
       "    }\n",
       "</style>\n",
       "<table border=\"1\" class=\"dataframe\">\n",
       "  <thead>\n",
       "    <tr style=\"text-align: right;\">\n",
       "      <th></th>\n",
       "      <th>Interval</th>\n",
       "      <th>kWh</th>\n",
       "    </tr>\n",
       "  </thead>\n",
       "  <tbody>\n",
       "    <tr>\n",
       "      <th>0</th>\n",
       "      <td>26289</td>\n",
       "      <td>0.14</td>\n",
       "    </tr>\n",
       "    <tr>\n",
       "      <th>1</th>\n",
       "      <td>26243</td>\n",
       "      <td>0.14</td>\n",
       "    </tr>\n",
       "    <tr>\n",
       "      <th>2</th>\n",
       "      <td>25885</td>\n",
       "      <td>0.14</td>\n",
       "    </tr>\n",
       "    <tr>\n",
       "      <th>3</th>\n",
       "      <td>25754</td>\n",
       "      <td>0.14</td>\n",
       "    </tr>\n",
       "    <tr>\n",
       "      <th>4</th>\n",
       "      <td>25774</td>\n",
       "      <td>0.14</td>\n",
       "    </tr>\n",
       "    <tr>\n",
       "      <th>...</th>\n",
       "      <td>...</td>\n",
       "      <td>...</td>\n",
       "    </tr>\n",
       "    <tr>\n",
       "      <th>26638</th>\n",
       "      <td>24542</td>\n",
       "      <td>0.15</td>\n",
       "    </tr>\n",
       "    <tr>\n",
       "      <th>26639</th>\n",
       "      <td>25131</td>\n",
       "      <td>0.14</td>\n",
       "    </tr>\n",
       "    <tr>\n",
       "      <th>26640</th>\n",
       "      <td>24689</td>\n",
       "      <td>0.14</td>\n",
       "    </tr>\n",
       "    <tr>\n",
       "      <th>26641</th>\n",
       "      <td>24228</td>\n",
       "      <td>0.15</td>\n",
       "    </tr>\n",
       "    <tr>\n",
       "      <th>26642</th>\n",
       "      <td>23851</td>\n",
       "      <td>0.15</td>\n",
       "    </tr>\n",
       "  </tbody>\n",
       "</table>\n",
       "<p>26643 rows × 2 columns</p>\n",
       "</div>"
      ],
      "text/plain": [
       "       Interval   kWh\n",
       "0         26289  0.14\n",
       "1         26243  0.14\n",
       "2         25885  0.14\n",
       "3         25754  0.14\n",
       "4         25774  0.14\n",
       "...         ...   ...\n",
       "26638     24542  0.15\n",
       "26639     25131  0.14\n",
       "26640     24689  0.14\n",
       "26641     24228  0.15\n",
       "26642     23851  0.15\n",
       "\n",
       "[26643 rows x 2 columns]"
      ]
     },
     "execution_count": 9,
     "metadata": {},
     "output_type": "execute_result"
    }
   ],
   "source": [
    "conso_data = conso_data.dropna()\n",
    "conso_data"
   ]
  },
  {
   "cell_type": "code",
   "execution_count": 10,
   "metadata": {},
   "outputs": [
    {
     "data": {
      "text/html": [
       "<div>\n",
       "<style scoped>\n",
       "    .dataframe tbody tr th:only-of-type {\n",
       "        vertical-align: middle;\n",
       "    }\n",
       "\n",
       "    .dataframe tbody tr th {\n",
       "        vertical-align: top;\n",
       "    }\n",
       "\n",
       "    .dataframe thead th {\n",
       "        text-align: right;\n",
       "    }\n",
       "</style>\n",
       "<table border=\"1\" class=\"dataframe\">\n",
       "  <thead>\n",
       "    <tr style=\"text-align: right;\">\n",
       "      <th></th>\n",
       "      <th>Interval</th>\n",
       "      <th>kWh</th>\n",
       "      <th>sec</th>\n",
       "      <th>Wh</th>\n",
       "      <th>cumul(ms)</th>\n",
       "    </tr>\n",
       "  </thead>\n",
       "  <tbody>\n",
       "    <tr>\n",
       "      <th>0</th>\n",
       "      <td>26289</td>\n",
       "      <td>0.14</td>\n",
       "      <td>26.289</td>\n",
       "      <td>136.939404</td>\n",
       "      <td>26289</td>\n",
       "    </tr>\n",
       "    <tr>\n",
       "      <th>1</th>\n",
       "      <td>26243</td>\n",
       "      <td>0.14</td>\n",
       "      <td>26.243</td>\n",
       "      <td>137.179438</td>\n",
       "      <td>52532</td>\n",
       "    </tr>\n",
       "    <tr>\n",
       "      <th>2</th>\n",
       "      <td>25885</td>\n",
       "      <td>0.14</td>\n",
       "      <td>25.885</td>\n",
       "      <td>139.076685</td>\n",
       "      <td>78417</td>\n",
       "    </tr>\n",
       "    <tr>\n",
       "      <th>3</th>\n",
       "      <td>25754</td>\n",
       "      <td>0.14</td>\n",
       "      <td>25.754</td>\n",
       "      <td>139.784111</td>\n",
       "      <td>104171</td>\n",
       "    </tr>\n",
       "    <tr>\n",
       "      <th>4</th>\n",
       "      <td>25774</td>\n",
       "      <td>0.14</td>\n",
       "      <td>25.774</td>\n",
       "      <td>139.675642</td>\n",
       "      <td>129945</td>\n",
       "    </tr>\n",
       "    <tr>\n",
       "      <th>...</th>\n",
       "      <td>...</td>\n",
       "      <td>...</td>\n",
       "      <td>...</td>\n",
       "      <td>...</td>\n",
       "      <td>...</td>\n",
       "    </tr>\n",
       "    <tr>\n",
       "      <th>26638</th>\n",
       "      <td>24542</td>\n",
       "      <td>0.15</td>\n",
       "      <td>24.542</td>\n",
       "      <td>146.687312</td>\n",
       "      <td>642734974</td>\n",
       "    </tr>\n",
       "    <tr>\n",
       "      <th>26639</th>\n",
       "      <td>25131</td>\n",
       "      <td>0.14</td>\n",
       "      <td>25.131</td>\n",
       "      <td>143.249373</td>\n",
       "      <td>642760105</td>\n",
       "    </tr>\n",
       "    <tr>\n",
       "      <th>26640</th>\n",
       "      <td>24689</td>\n",
       "      <td>0.14</td>\n",
       "      <td>24.689</td>\n",
       "      <td>145.813925</td>\n",
       "      <td>642784794</td>\n",
       "    </tr>\n",
       "    <tr>\n",
       "      <th>26641</th>\n",
       "      <td>24228</td>\n",
       "      <td>0.15</td>\n",
       "      <td>24.228</td>\n",
       "      <td>148.588410</td>\n",
       "      <td>642809022</td>\n",
       "    </tr>\n",
       "    <tr>\n",
       "      <th>26642</th>\n",
       "      <td>23851</td>\n",
       "      <td>0.15</td>\n",
       "      <td>23.851</td>\n",
       "      <td>150.937068</td>\n",
       "      <td>642832873</td>\n",
       "    </tr>\n",
       "  </tbody>\n",
       "</table>\n",
       "<p>26643 rows × 5 columns</p>\n",
       "</div>"
      ],
      "text/plain": [
       "       Interval   kWh     sec          Wh  cumul(ms)\n",
       "0         26289  0.14  26.289  136.939404      26289\n",
       "1         26243  0.14  26.243  137.179438      52532\n",
       "2         25885  0.14  25.885  139.076685      78417\n",
       "3         25754  0.14  25.754  139.784111     104171\n",
       "4         25774  0.14  25.774  139.675642     129945\n",
       "...         ...   ...     ...         ...        ...\n",
       "26638     24542  0.15  24.542  146.687312  642734974\n",
       "26639     25131  0.14  25.131  143.249373  642760105\n",
       "26640     24689  0.14  24.689  145.813925  642784794\n",
       "26641     24228  0.15  24.228  148.588410  642809022\n",
       "26642     23851  0.15  23.851  150.937068  642832873\n",
       "\n",
       "[26643 rows x 5 columns]"
      ]
     },
     "execution_count": 10,
     "metadata": {},
     "output_type": "execute_result"
    }
   ],
   "source": [
    "conso_data['sec']=conso_data['Interval']/1000\n",
    "conso_data['Wh']=3600000/conso_data['Interval']\n",
    "conso_data['cumul(ms)']=conso_data['Interval'].cumsum(axis=0)\n",
    "\n",
    "conso_data"
   ]
  },
  {
   "cell_type": "code",
   "execution_count": 11,
   "metadata": {},
   "outputs": [
    {
     "data": {
      "text/plain": [
       "26642"
      ]
     },
     "execution_count": 11,
     "metadata": {},
     "output_type": "execute_result"
    }
   ],
   "source": [
    "# index dernier echantillon\n",
    "l=len(conso_data)-1\n",
    "l"
   ]
  },
  {
   "cell_type": "code",
   "execution_count": 12,
   "metadata": {},
   "outputs": [
    {
     "data": {
      "text/plain": [
       "642832873000"
      ]
     },
     "execution_count": 12,
     "metadata": {},
     "output_type": "execute_result"
    }
   ],
   "source": [
    "# cumtime = int(conso_data['cumul(ms)'].tail(1).values[0]*1000)\n",
    "cumtime= int(conso_data._get_value(l,'cumul(ms)')*1000)\n",
    "cumtime"
   ]
  },
  {
   "cell_type": "code",
   "execution_count": 13,
   "metadata": {},
   "outputs": [
    {
     "data": {
      "text/plain": [
       "False"
      ]
     },
     "execution_count": 13,
     "metadata": {},
     "output_type": "execute_result"
    }
   ],
   "source": [
    "old"
   ]
  },
  {
   "cell_type": "code",
   "execution_count": 14,
   "metadata": {},
   "outputs": [
    {
     "data": {
      "text/plain": [
       "datetime.datetime(2024, 3, 7, 0, 23, 30, 619111)"
      ]
     },
     "execution_count": 14,
     "metadata": {},
     "output_type": "execute_result"
    }
   ],
   "source": [
    "from datetime import datetime, timedelta\n",
    "now = datetime.now()\n",
    "# conso.csv dynamique\n",
    "base = now - timedelta(microseconds=cumtime)\n",
    "base  # date de début\n"
   ]
  },
  {
   "cell_type": "code",
   "execution_count": 15,
   "metadata": {},
   "outputs": [
    {
     "name": "stdout",
     "output_type": "stream",
     "text": [
      "<class 'pandas.core.frame.DataFrame'>\n",
      "RangeIndex: 26643 entries, 0 to 26642\n",
      "Data columns (total 6 columns):\n",
      " #   Column     Non-Null Count  Dtype         \n",
      "---  ------     --------------  -----         \n",
      " 0   Interval   26643 non-null  int64         \n",
      " 1   kWh        26643 non-null  float64       \n",
      " 2   sec        26643 non-null  float64       \n",
      " 3   Wh         26643 non-null  float64       \n",
      " 4   cumul(ms)  26643 non-null  int64         \n",
      " 5   dates      26643 non-null  datetime64[ns]\n",
      "dtypes: datetime64[ns](1), float64(3), int64(2)\n",
      "memory usage: 1.2 MB\n"
     ]
    }
   ],
   "source": [
    "\n",
    "if old:\n",
    "    base = dt.datetime(2023, 8, 1, 10, 45, 0) - timedelta(microseconds=cumtime)\n",
    "\n",
    "\n",
    "conso_data['dates'] = [base + dt.timedelta(microseconds=t*1000) for t in conso_data['cumul(ms)']]\n",
    "conso_data.info()\n"
   ]
  },
  {
   "cell_type": "code",
   "execution_count": 16,
   "metadata": {},
   "outputs": [
    {
     "data": {
      "text/html": [
       "<div>\n",
       "<style scoped>\n",
       "    .dataframe tbody tr th:only-of-type {\n",
       "        vertical-align: middle;\n",
       "    }\n",
       "\n",
       "    .dataframe tbody tr th {\n",
       "        vertical-align: top;\n",
       "    }\n",
       "\n",
       "    .dataframe thead th {\n",
       "        text-align: right;\n",
       "    }\n",
       "</style>\n",
       "<table border=\"1\" class=\"dataframe\">\n",
       "  <thead>\n",
       "    <tr style=\"text-align: right;\">\n",
       "      <th></th>\n",
       "      <th>Interval</th>\n",
       "      <th>kWh</th>\n",
       "      <th>sec</th>\n",
       "      <th>Wh</th>\n",
       "      <th>cumul(ms)</th>\n",
       "      <th>dates</th>\n",
       "      <th>days</th>\n",
       "    </tr>\n",
       "  </thead>\n",
       "  <tbody>\n",
       "    <tr>\n",
       "      <th>0</th>\n",
       "      <td>26289</td>\n",
       "      <td>0.14</td>\n",
       "      <td>26.289</td>\n",
       "      <td>136.939404</td>\n",
       "      <td>26289</td>\n",
       "      <td>2024-03-07 00:23:56.908111</td>\n",
       "      <td>07/03/2024</td>\n",
       "    </tr>\n",
       "    <tr>\n",
       "      <th>1</th>\n",
       "      <td>26243</td>\n",
       "      <td>0.14</td>\n",
       "      <td>26.243</td>\n",
       "      <td>137.179438</td>\n",
       "      <td>52532</td>\n",
       "      <td>2024-03-07 00:24:23.151111</td>\n",
       "      <td>07/03/2024</td>\n",
       "    </tr>\n",
       "    <tr>\n",
       "      <th>2</th>\n",
       "      <td>25885</td>\n",
       "      <td>0.14</td>\n",
       "      <td>25.885</td>\n",
       "      <td>139.076685</td>\n",
       "      <td>78417</td>\n",
       "      <td>2024-03-07 00:24:49.036111</td>\n",
       "      <td>07/03/2024</td>\n",
       "    </tr>\n",
       "    <tr>\n",
       "      <th>3</th>\n",
       "      <td>25754</td>\n",
       "      <td>0.14</td>\n",
       "      <td>25.754</td>\n",
       "      <td>139.784111</td>\n",
       "      <td>104171</td>\n",
       "      <td>2024-03-07 00:25:14.790111</td>\n",
       "      <td>07/03/2024</td>\n",
       "    </tr>\n",
       "    <tr>\n",
       "      <th>4</th>\n",
       "      <td>25774</td>\n",
       "      <td>0.14</td>\n",
       "      <td>25.774</td>\n",
       "      <td>139.675642</td>\n",
       "      <td>129945</td>\n",
       "      <td>2024-03-07 00:25:40.564111</td>\n",
       "      <td>07/03/2024</td>\n",
       "    </tr>\n",
       "    <tr>\n",
       "      <th>...</th>\n",
       "      <td>...</td>\n",
       "      <td>...</td>\n",
       "      <td>...</td>\n",
       "      <td>...</td>\n",
       "      <td>...</td>\n",
       "      <td>...</td>\n",
       "      <td>...</td>\n",
       "    </tr>\n",
       "    <tr>\n",
       "      <th>26638</th>\n",
       "      <td>24542</td>\n",
       "      <td>0.15</td>\n",
       "      <td>24.542</td>\n",
       "      <td>146.687312</td>\n",
       "      <td>642734974</td>\n",
       "      <td>2024-03-14 10:55:45.593111</td>\n",
       "      <td>14/03/2024</td>\n",
       "    </tr>\n",
       "    <tr>\n",
       "      <th>26639</th>\n",
       "      <td>25131</td>\n",
       "      <td>0.14</td>\n",
       "      <td>25.131</td>\n",
       "      <td>143.249373</td>\n",
       "      <td>642760105</td>\n",
       "      <td>2024-03-14 10:56:10.724111</td>\n",
       "      <td>14/03/2024</td>\n",
       "    </tr>\n",
       "    <tr>\n",
       "      <th>26640</th>\n",
       "      <td>24689</td>\n",
       "      <td>0.14</td>\n",
       "      <td>24.689</td>\n",
       "      <td>145.813925</td>\n",
       "      <td>642784794</td>\n",
       "      <td>2024-03-14 10:56:35.413111</td>\n",
       "      <td>14/03/2024</td>\n",
       "    </tr>\n",
       "    <tr>\n",
       "      <th>26641</th>\n",
       "      <td>24228</td>\n",
       "      <td>0.15</td>\n",
       "      <td>24.228</td>\n",
       "      <td>148.588410</td>\n",
       "      <td>642809022</td>\n",
       "      <td>2024-03-14 10:56:59.641111</td>\n",
       "      <td>14/03/2024</td>\n",
       "    </tr>\n",
       "    <tr>\n",
       "      <th>26642</th>\n",
       "      <td>23851</td>\n",
       "      <td>0.15</td>\n",
       "      <td>23.851</td>\n",
       "      <td>150.937068</td>\n",
       "      <td>642832873</td>\n",
       "      <td>2024-03-14 10:57:23.492111</td>\n",
       "      <td>14/03/2024</td>\n",
       "    </tr>\n",
       "  </tbody>\n",
       "</table>\n",
       "<p>26643 rows × 7 columns</p>\n",
       "</div>"
      ],
      "text/plain": [
       "       Interval   kWh     sec          Wh  cumul(ms)  \\\n",
       "0         26289  0.14  26.289  136.939404      26289   \n",
       "1         26243  0.14  26.243  137.179438      52532   \n",
       "2         25885  0.14  25.885  139.076685      78417   \n",
       "3         25754  0.14  25.754  139.784111     104171   \n",
       "4         25774  0.14  25.774  139.675642     129945   \n",
       "...         ...   ...     ...         ...        ...   \n",
       "26638     24542  0.15  24.542  146.687312  642734974   \n",
       "26639     25131  0.14  25.131  143.249373  642760105   \n",
       "26640     24689  0.14  24.689  145.813925  642784794   \n",
       "26641     24228  0.15  24.228  148.588410  642809022   \n",
       "26642     23851  0.15  23.851  150.937068  642832873   \n",
       "\n",
       "                           dates        days  \n",
       "0     2024-03-07 00:23:56.908111  07/03/2024  \n",
       "1     2024-03-07 00:24:23.151111  07/03/2024  \n",
       "2     2024-03-07 00:24:49.036111  07/03/2024  \n",
       "3     2024-03-07 00:25:14.790111  07/03/2024  \n",
       "4     2024-03-07 00:25:40.564111  07/03/2024  \n",
       "...                          ...         ...  \n",
       "26638 2024-03-14 10:55:45.593111  14/03/2024  \n",
       "26639 2024-03-14 10:56:10.724111  14/03/2024  \n",
       "26640 2024-03-14 10:56:35.413111  14/03/2024  \n",
       "26641 2024-03-14 10:56:59.641111  14/03/2024  \n",
       "26642 2024-03-14 10:57:23.492111  14/03/2024  \n",
       "\n",
       "[26643 rows x 7 columns]"
      ]
     },
     "execution_count": 16,
     "metadata": {},
     "output_type": "execute_result"
    }
   ],
   "source": [
    "conso_data['days']= [d.strftime('%d/%m/%Y') for d in conso_data['dates']]    #[str(d.month)+'-'+str(d.day) for d in conso_data['dates']]\n",
    "conso_data"
   ]
  },
  {
   "cell_type": "code",
   "execution_count": 17,
   "metadata": {},
   "outputs": [
    {
     "data": {
      "text/plain": [
       "(   Interval   kWh     sec          Wh  cumul(ms)                      dates  \\\n",
       " 0     26289  0.14  26.289  136.939404      26289 2024-03-07 00:23:56.908111   \n",
       " \n",
       "          days  \n",
       " 0  07/03/2024  ,\n",
       "        Interval   kWh     sec          Wh  cumul(ms)  \\\n",
       " 26642     23851  0.15  23.851  150.937068  642832873   \n",
       " \n",
       "                            dates        days  \n",
       " 26642 2024-03-14 10:57:23.492111  14/03/2024  )"
      ]
     },
     "execution_count": 17,
     "metadata": {},
     "output_type": "execute_result"
    }
   ],
   "source": [
    "#conso_data\n",
    "conso_data.head(1),conso_data.tail(1)"
   ]
  },
  {
   "cell_type": "code",
   "execution_count": 18,
   "metadata": {},
   "outputs": [
    {
     "data": {
      "text/plain": [
       "'14/03/2024'"
      ]
     },
     "execution_count": 18,
     "metadata": {},
     "output_type": "execute_result"
    }
   ],
   "source": [
    "# tranche journalière\n",
    "now = datetime.now()\n",
    "day = now.strftime('%d/%m/%Y')    #str(now.month)+'-'+str(now.day)\n",
    "day"
   ]
  },
  {
   "cell_type": "code",
   "execution_count": 19,
   "metadata": {},
   "outputs": [
    {
     "data": {
      "text/plain": [
       "1327"
      ]
     },
     "execution_count": 19,
     "metadata": {},
     "output_type": "execute_result"
    }
   ],
   "source": [
    "#manuel\n",
    "#day = '11/03/2024'\n",
    "\n",
    "conso_day = conso_data[conso_data['days']==day]\n",
    "conso_jour = len(conso_day)\n",
    "conso_jour"
   ]
  },
  {
   "cell_type": "code",
   "execution_count": 20,
   "metadata": {},
   "outputs": [
    {
     "data": {
      "text/plain": [
       "(25316   2024-03-14 00:00:04.271111\n",
       " Name: dates, dtype: datetime64[ns],\n",
       " 26642   2024-03-14 10:57:23.492111\n",
       " Name: dates, dtype: datetime64[ns])"
      ]
     },
     "execution_count": 20,
     "metadata": {},
     "output_type": "execute_result"
    }
   ],
   "source": [
    "conso_day.head(1).dates, conso_day.tail(1).dates"
   ]
  },
  {
   "cell_type": "code",
   "execution_count": 21,
   "metadata": {},
   "outputs": [
    {
     "data": {
      "image/png": "[encoded data removed]",
      "text/plain": [
       "<Figure size 1500x700 with 1 Axes>"
      ]
     },
     "metadata": {},
     "output_type": "display_data"
    }
   ],
   "source": [
    "# consommation d'une journée entière à partir de minuit\n",
    "fig, ax = plt.subplots()\n",
    "# the size of A4 paper\n",
    "fig.set_size_inches(15, 7)\n",
    "plt.plot(conso_day['kWh'])\n",
    "plt.title(f'Journée du {day} : {conso_jour/1000} kwh')\n",
    "plt.grid()"
   ]
  },
  {
   "cell_type": "code",
   "execution_count": 22,
   "metadata": {},
   "outputs": [
    {
     "data": {
      "text/plain": [
       "0       2024-03-07 00:23:56.908111\n",
       "1       2024-03-07 00:24:23.151111\n",
       "2       2024-03-07 00:24:49.036111\n",
       "3       2024-03-07 00:25:14.790111\n",
       "4       2024-03-07 00:25:40.564111\n",
       "                   ...            \n",
       "26638   2024-03-14 10:55:45.593111\n",
       "26639   2024-03-14 10:56:10.724111\n",
       "26640   2024-03-14 10:56:35.413111\n",
       "26641   2024-03-14 10:56:59.641111\n",
       "26642   2024-03-14 10:57:23.492111\n",
       "Name: dates, Length: 26643, dtype: datetime64[ns]"
      ]
     },
     "execution_count": 22,
     "metadata": {},
     "output_type": "execute_result"
    }
   ],
   "source": [
    "from matplotlib.ticker import (MultipleLocator, AutoMinorLocator)\n",
    "\n",
    "time = conso_data['dates']\n",
    "time\n"
   ]
  },
  {
   "cell_type": "code",
   "execution_count": 23,
   "metadata": {},
   "outputs": [],
   "source": [
    "def format_date(space=3):\n",
    "    plt.gca().xaxis.set_major_formatter(mdates.DateFormatter('%d/%m\\n%H:%M'))\n",
    "    plt.gca().xaxis.set_major_locator(mdates.HourLocator(space))\n",
    "    #plt.gca().xaxis.set_major_locator(mdates.HourLocator(interval=space))\n",
    "    plt.gcf().autofmt_xdate()\n",
    "    plt.grid()"
   ]
  },
  {
   "cell_type": "code",
   "execution_count": 24,
   "metadata": {},
   "outputs": [],
   "source": [
    "if not old:\n",
    "    major_ticks=1/60;minor_ticks=1/240  # plus de ticks, 4 fois plus de minor\n",
    "    major_ticks=1/30;minor_ticks=1/120   # moins de ticks\n",
    "    major_ticks=1/15;minor_ticks=1/60\n",
    "    major_ticks=1/2;minor_ticks=1/8\n",
    "else:\n",
    "    major_ticks=4;minor_ticks=1   # encore moins si int\n"
   ]
  },
  {
   "cell_type": "code",
   "execution_count": 25,
   "metadata": {},
   "outputs": [
    {
     "data": {
      "text/plain": [
       "(4, 1)"
      ]
     },
     "execution_count": 25,
     "metadata": {},
     "output_type": "execute_result"
    }
   ],
   "source": [
    "major_ticks=4;minor_ticks=1\n",
    "major_ticks,minor_ticks"
   ]
  },
  {
   "cell_type": "markdown",
   "metadata": {},
   "source": [
    "## Main graph"
   ]
  },
  {
   "cell_type": "code",
   "execution_count": 26,
   "metadata": {},
   "outputs": [
    {
     "data": {
      "image/png": "[encoded data removed]",
      "text/plain": [
       "<Figure size 2500x1000 with 1 Axes>"
      ]
     },
     "metadata": {},
     "output_type": "display_data"
    }
   ],
   "source": [
    "\n",
    "from matplotlib.dates import (YEARLY, DateFormatter,rrulewrapper, RRuleLocator, drange)\n",
    "\n",
    "def show_graph():\n",
    "    fig, ax = plt.subplots()\n",
    "    # the size of A4 paper\n",
    "    fig.set_size_inches(25, 10)\n",
    "\n",
    "    #plt.rcParams['axes.autolimit_mode'] = 'round_numbers'\n",
    "    \n",
    "    #formatter = DateFormatter('%d/%m\\n%H:%M:%S')\n",
    "    formatter = DateFormatter('%d/%m\\n%H:%M')\n",
    "    ax.xaxis.set_major_formatter(formatter)\n",
    "\n",
    "    # ticks sur axe des x\n",
    "    ax.xaxis.set_major_locator(MultipleLocator(major_ticks))  # major ticks tous les 15 min\n",
    "    ax.xaxis.set_minor_locator(MultipleLocator(minor_ticks))  # minor ticks tous les 5 min\n",
    "    ax.tick_params(which='both', width=3)\n",
    "    ax.tick_params(which='major', length=15, color='r')\n",
    "    ax.tick_params(which='minor', length=8, color='b')\n",
    "\n",
    "    #plt.plot(conso_data['cumul(ms)']/3600000,conso_data['Wh'])\n",
    "    plt.plot(time,conso_data['Wh'])\n",
    "    plt.ylabel('Wh')\n",
    "    plt.xlabel('Time (heures)')\n",
    "    #format_date(10)\n",
    "    for label in ax.get_xticklabels():\n",
    "        label.set_rotation(40)\n",
    "        label.set_horizontalalignment('right')\n",
    "\n",
    "    #fig.autofmt_xdate()\n",
    "    \n",
    "    plt.grid()\n",
    "    plt.show()\n",
    "show_graph()"
   ]
  },
  {
   "cell_type": "code",
   "execution_count": 27,
   "metadata": {},
   "outputs": [
    {
     "data": {
      "text/html": [
       "<div>\n",
       "<style scoped>\n",
       "    .dataframe tbody tr th:only-of-type {\n",
       "        vertical-align: middle;\n",
       "    }\n",
       "\n",
       "    .dataframe tbody tr th {\n",
       "        vertical-align: top;\n",
       "    }\n",
       "\n",
       "    .dataframe thead th {\n",
       "        text-align: right;\n",
       "    }\n",
       "</style>\n",
       "<table border=\"1\" class=\"dataframe\">\n",
       "  <thead>\n",
       "    <tr style=\"text-align: right;\">\n",
       "      <th></th>\n",
       "      <th>Interval</th>\n",
       "      <th>kWh</th>\n",
       "      <th>sec</th>\n",
       "      <th>Wh</th>\n",
       "      <th>cumul(ms)</th>\n",
       "      <th>dates</th>\n",
       "      <th>days</th>\n",
       "    </tr>\n",
       "  </thead>\n",
       "  <tbody>\n",
       "    <tr>\n",
       "      <th>26642</th>\n",
       "      <td>23851</td>\n",
       "      <td>0.15</td>\n",
       "      <td>23.851</td>\n",
       "      <td>150.937068</td>\n",
       "      <td>642832873</td>\n",
       "      <td>2024-03-14 10:57:23.492111</td>\n",
       "      <td>14/03/2024</td>\n",
       "    </tr>\n",
       "  </tbody>\n",
       "</table>\n",
       "</div>"
      ],
      "text/plain": [
       "       Interval   kWh     sec          Wh  cumul(ms)  \\\n",
       "26642     23851  0.15  23.851  150.937068  642832873   \n",
       "\n",
       "                           dates        days  \n",
       "26642 2024-03-14 10:57:23.492111  14/03/2024  "
      ]
     },
     "execution_count": 27,
     "metadata": {},
     "output_type": "execute_result"
    }
   ],
   "source": [
    "cumul_conso = len(conso_data)\n",
    "conso_data.tail(1)"
   ]
  },
  {
   "cell_type": "code",
   "execution_count": 28,
   "metadata": {},
   "outputs": [
    {
     "data": {
      "text/plain": [
       "642832873000"
      ]
     },
     "execution_count": 28,
     "metadata": {},
     "output_type": "execute_result"
    }
   ],
   "source": [
    "cumtime= int(conso_data._get_value(l,'cumul(ms)')*1000)\n",
    "cumtime"
   ]
  },
  {
   "cell_type": "markdown",
   "metadata": {},
   "source": [
    "# Slice of last 1 kWh"
   ]
  },
  {
   "cell_type": "code",
   "execution_count": 29,
   "metadata": {},
   "outputs": [
    {
     "data": {
      "text/plain": [
       "26643"
      ]
     },
     "execution_count": 29,
     "metadata": {},
     "output_type": "execute_result"
    }
   ],
   "source": [
    "l = len(conso_data)  # total watt consommés\n",
    "l"
   ]
  },
  {
   "cell_type": "code",
   "execution_count": 30,
   "metadata": {},
   "outputs": [
    {
     "data": {
      "text/plain": [
       "(26643, 1000)"
      ]
     },
     "execution_count": 30,
     "metadata": {},
     "output_type": "execute_result"
    }
   ],
   "source": [
    "k = 1\n",
    "taille = k*1000  # fenetre k*1000 watt consommés\n",
    "l,taille"
   ]
  },
  {
   "cell_type": "code",
   "execution_count": 31,
   "metadata": {},
   "outputs": [
    {
     "data": {
      "text/plain": [
       "1000"
      ]
     },
     "execution_count": 31,
     "metadata": {},
     "output_type": "execute_result"
    }
   ],
   "source": [
    "if l<1000:\n",
    "    part = 1\n",
    "else: part = 1/2\n",
    "#taille = int(part*l)\n",
    "taille"
   ]
  },
  {
   "cell_type": "code",
   "execution_count": 32,
   "metadata": {},
   "outputs": [
    {
     "data": {
      "text/plain": [
       "(1000,\n",
       "        Interval   kWh     sec          Wh  cumul(ms)  \\\n",
       " 25643     20977  0.17  20.977  171.616532  612325668   \n",
       " 25644     21028  0.17  21.028  171.200304  612346696   \n",
       " 25645     20984  0.17  20.984  171.559283  612367680   \n",
       " 25646     21204  0.17  21.204  169.779287  612388884   \n",
       " 25647     21516  0.17  21.516  167.317345  612410400   \n",
       " ...         ...   ...     ...         ...        ...   \n",
       " 26638     24542  0.15  24.542  146.687312  642734974   \n",
       " 26639     25131  0.14  25.131  143.249373  642760105   \n",
       " 26640     24689  0.14  24.689  145.813925  642784794   \n",
       " 26641     24228  0.15  24.228  148.588410  642809022   \n",
       " 26642     23851  0.15  23.851  150.937068  642832873   \n",
       " \n",
       "                            dates        days  \n",
       " 25643 2024-03-14 02:28:56.287111  14/03/2024  \n",
       " 25644 2024-03-14 02:29:17.315111  14/03/2024  \n",
       " 25645 2024-03-14 02:29:38.299111  14/03/2024  \n",
       " 25646 2024-03-14 02:29:59.503111  14/03/2024  \n",
       " 25647 2024-03-14 02:30:21.019111  14/03/2024  \n",
       " ...                          ...         ...  \n",
       " 26638 2024-03-14 10:55:45.593111  14/03/2024  \n",
       " 26639 2024-03-14 10:56:10.724111  14/03/2024  \n",
       " 26640 2024-03-14 10:56:35.413111  14/03/2024  \n",
       " 26641 2024-03-14 10:56:59.641111  14/03/2024  \n",
       " 26642 2024-03-14 10:57:23.492111  14/03/2024  \n",
       " \n",
       " [1000 rows x 7 columns])"
      ]
     },
     "execution_count": 32,
     "metadata": {},
     "output_type": "execute_result"
    }
   ],
   "source": [
    "data = conso_data.tail(taille)\n",
    "len(data),data"
   ]
  },
  {
   "cell_type": "code",
   "execution_count": 33,
   "metadata": {},
   "outputs": [],
   "source": [
    "now = datetime.now()\n",
    "# conso.csv dynamique\n",
    "cumtime_start= int(conso_data._get_value(l-taille+1,'cumul(ms)')*1000) # conversion microseconds\n"
   ]
  },
  {
   "cell_type": "code",
   "execution_count": 34,
   "metadata": {},
   "outputs": [],
   "source": [
    "cumtime_end= int(data._get_value(l-1,'cumul(ms)')*1000) # conversion microseconds\n"
   ]
  },
  {
   "cell_type": "code",
   "execution_count": 35,
   "metadata": {},
   "outputs": [
    {
     "data": {
      "text/plain": [
       "(642832873000, 612346696000)"
      ]
     },
     "execution_count": 35,
     "metadata": {},
     "output_type": "execute_result"
    }
   ],
   "source": [
    "cumtime_end,cumtime_start"
   ]
  },
  {
   "cell_type": "code",
   "execution_count": 36,
   "metadata": {},
   "outputs": [
    {
     "data": {
      "text/plain": [
       "30486177000"
      ]
     },
     "execution_count": 36,
     "metadata": {},
     "output_type": "execute_result"
    }
   ],
   "source": [
    "#last_interval = int(data._get_value(l,'Interval')*1000) # conversion microseconds\n",
    "delta_cumtime = cumtime_end - cumtime_start #+ last_interval\n",
    "delta_cumtime"
   ]
  },
  {
   "cell_type": "code",
   "execution_count": 37,
   "metadata": {},
   "outputs": [
    {
     "data": {
      "text/plain": [
       "(datetime.datetime(2024, 3, 14, 10, 57, 25, 921334),\n",
       " datetime.datetime(2024, 3, 14, 2, 29, 19, 744334),\n",
       " '14/03/2024 10:57:23')"
      ]
     },
     "execution_count": 37,
     "metadata": {},
     "output_type": "execute_result"
    }
   ],
   "source": [
    "\n",
    "base = now - timedelta(microseconds=delta_cumtime)\n",
    "now,base, data['dates'][l-1].strftime('%d/%m/%Y %H:%M:%S')\n"
   ]
  },
  {
   "cell_type": "code",
   "execution_count": 38,
   "metadata": {},
   "outputs": [
    {
     "data": {
      "text/html": [
       "<div>\n",
       "<style scoped>\n",
       "    .dataframe tbody tr th:only-of-type {\n",
       "        vertical-align: middle;\n",
       "    }\n",
       "\n",
       "    .dataframe tbody tr th {\n",
       "        vertical-align: top;\n",
       "    }\n",
       "\n",
       "    .dataframe thead th {\n",
       "        text-align: right;\n",
       "    }\n",
       "</style>\n",
       "<table border=\"1\" class=\"dataframe\">\n",
       "  <thead>\n",
       "    <tr style=\"text-align: right;\">\n",
       "      <th></th>\n",
       "      <th>Interval</th>\n",
       "      <th>kWh</th>\n",
       "      <th>sec</th>\n",
       "      <th>Wh</th>\n",
       "      <th>cumul(ms)</th>\n",
       "      <th>dates</th>\n",
       "      <th>days</th>\n",
       "    </tr>\n",
       "  </thead>\n",
       "  <tbody>\n",
       "    <tr>\n",
       "      <th>0</th>\n",
       "      <td>26289</td>\n",
       "      <td>0.14</td>\n",
       "      <td>26.289</td>\n",
       "      <td>136.939404</td>\n",
       "      <td>26289</td>\n",
       "      <td>2024-03-07 00:23:56.908111</td>\n",
       "      <td>07/03/2024</td>\n",
       "    </tr>\n",
       "    <tr>\n",
       "      <th>1</th>\n",
       "      <td>26243</td>\n",
       "      <td>0.14</td>\n",
       "      <td>26.243</td>\n",
       "      <td>137.179438</td>\n",
       "      <td>52532</td>\n",
       "      <td>2024-03-07 00:24:23.151111</td>\n",
       "      <td>07/03/2024</td>\n",
       "    </tr>\n",
       "    <tr>\n",
       "      <th>2</th>\n",
       "      <td>25885</td>\n",
       "      <td>0.14</td>\n",
       "      <td>25.885</td>\n",
       "      <td>139.076685</td>\n",
       "      <td>78417</td>\n",
       "      <td>2024-03-07 00:24:49.036111</td>\n",
       "      <td>07/03/2024</td>\n",
       "    </tr>\n",
       "    <tr>\n",
       "      <th>3</th>\n",
       "      <td>25754</td>\n",
       "      <td>0.14</td>\n",
       "      <td>25.754</td>\n",
       "      <td>139.784111</td>\n",
       "      <td>104171</td>\n",
       "      <td>2024-03-07 00:25:14.790111</td>\n",
       "      <td>07/03/2024</td>\n",
       "    </tr>\n",
       "    <tr>\n",
       "      <th>4</th>\n",
       "      <td>25774</td>\n",
       "      <td>0.14</td>\n",
       "      <td>25.774</td>\n",
       "      <td>139.675642</td>\n",
       "      <td>129945</td>\n",
       "      <td>2024-03-07 00:25:40.564111</td>\n",
       "      <td>07/03/2024</td>\n",
       "    </tr>\n",
       "    <tr>\n",
       "      <th>...</th>\n",
       "      <td>...</td>\n",
       "      <td>...</td>\n",
       "      <td>...</td>\n",
       "      <td>...</td>\n",
       "      <td>...</td>\n",
       "      <td>...</td>\n",
       "      <td>...</td>\n",
       "    </tr>\n",
       "    <tr>\n",
       "      <th>26638</th>\n",
       "      <td>24542</td>\n",
       "      <td>0.15</td>\n",
       "      <td>24.542</td>\n",
       "      <td>146.687312</td>\n",
       "      <td>642734974</td>\n",
       "      <td>2024-03-14 10:55:45.593111</td>\n",
       "      <td>14/03/2024</td>\n",
       "    </tr>\n",
       "    <tr>\n",
       "      <th>26639</th>\n",
       "      <td>25131</td>\n",
       "      <td>0.14</td>\n",
       "      <td>25.131</td>\n",
       "      <td>143.249373</td>\n",
       "      <td>642760105</td>\n",
       "      <td>2024-03-14 10:56:10.724111</td>\n",
       "      <td>14/03/2024</td>\n",
       "    </tr>\n",
       "    <tr>\n",
       "      <th>26640</th>\n",
       "      <td>24689</td>\n",
       "      <td>0.14</td>\n",
       "      <td>24.689</td>\n",
       "      <td>145.813925</td>\n",
       "      <td>642784794</td>\n",
       "      <td>2024-03-14 10:56:35.413111</td>\n",
       "      <td>14/03/2024</td>\n",
       "    </tr>\n",
       "    <tr>\n",
       "      <th>26641</th>\n",
       "      <td>24228</td>\n",
       "      <td>0.15</td>\n",
       "      <td>24.228</td>\n",
       "      <td>148.588410</td>\n",
       "      <td>642809022</td>\n",
       "      <td>2024-03-14 10:56:59.641111</td>\n",
       "      <td>14/03/2024</td>\n",
       "    </tr>\n",
       "    <tr>\n",
       "      <th>26642</th>\n",
       "      <td>23851</td>\n",
       "      <td>0.15</td>\n",
       "      <td>23.851</td>\n",
       "      <td>150.937068</td>\n",
       "      <td>642832873</td>\n",
       "      <td>2024-03-14 10:57:23.492111</td>\n",
       "      <td>14/03/2024</td>\n",
       "    </tr>\n",
       "  </tbody>\n",
       "</table>\n",
       "<p>26643 rows × 7 columns</p>\n",
       "</div>"
      ],
      "text/plain": [
       "       Interval   kWh     sec          Wh  cumul(ms)  \\\n",
       "0         26289  0.14  26.289  136.939404      26289   \n",
       "1         26243  0.14  26.243  137.179438      52532   \n",
       "2         25885  0.14  25.885  139.076685      78417   \n",
       "3         25754  0.14  25.754  139.784111     104171   \n",
       "4         25774  0.14  25.774  139.675642     129945   \n",
       "...         ...   ...     ...         ...        ...   \n",
       "26638     24542  0.15  24.542  146.687312  642734974   \n",
       "26639     25131  0.14  25.131  143.249373  642760105   \n",
       "26640     24689  0.14  24.689  145.813925  642784794   \n",
       "26641     24228  0.15  24.228  148.588410  642809022   \n",
       "26642     23851  0.15  23.851  150.937068  642832873   \n",
       "\n",
       "                           dates        days  \n",
       "0     2024-03-07 00:23:56.908111  07/03/2024  \n",
       "1     2024-03-07 00:24:23.151111  07/03/2024  \n",
       "2     2024-03-07 00:24:49.036111  07/03/2024  \n",
       "3     2024-03-07 00:25:14.790111  07/03/2024  \n",
       "4     2024-03-07 00:25:40.564111  07/03/2024  \n",
       "...                          ...         ...  \n",
       "26638 2024-03-14 10:55:45.593111  14/03/2024  \n",
       "26639 2024-03-14 10:56:10.724111  14/03/2024  \n",
       "26640 2024-03-14 10:56:35.413111  14/03/2024  \n",
       "26641 2024-03-14 10:56:59.641111  14/03/2024  \n",
       "26642 2024-03-14 10:57:23.492111  14/03/2024  \n",
       "\n",
       "[26643 rows x 7 columns]"
      ]
     },
     "execution_count": 38,
     "metadata": {},
     "output_type": "execute_result"
    }
   ],
   "source": [
    "conso_data"
   ]
  },
  {
   "cell_type": "code",
   "execution_count": 39,
   "metadata": {},
   "outputs": [
    {
     "data": {
      "text/plain": [
       "('14/03/2024 02:29:17', '14/03/2024 10:57:23')"
      ]
     },
     "execution_count": 39,
     "metadata": {},
     "output_type": "execute_result"
    }
   ],
   "source": [
    "end = conso_data['dates'][l-1].strftime('%d/%m/%Y %H:%M:%S')\n",
    "start = conso_data['dates'][l-taille+1].strftime('%d/%m/%Y %H:%M:%S')\n",
    "start,end"
   ]
  },
  {
   "cell_type": "code",
   "execution_count": 40,
   "metadata": {},
   "outputs": [
    {
     "data": {
      "text/plain": [
       "('2024-03-14 02:28:56.287111', '2024-03-14 10:57:23.492111')"
      ]
     },
     "execution_count": 40,
     "metadata": {},
     "output_type": "execute_result"
    }
   ],
   "source": [
    "data.head(1)['dates'].to_string(index=False),data.tail(1)['dates'].to_string(index=False)"
   ]
  },
  {
   "cell_type": "code",
   "execution_count": 41,
   "metadata": {},
   "outputs": [
    {
     "data": {
      "text/plain": [
       "1"
      ]
     },
     "execution_count": 41,
     "metadata": {},
     "output_type": "execute_result"
    }
   ],
   "source": [
    "k"
   ]
  },
  {
   "cell_type": "code",
   "execution_count": 42,
   "metadata": {},
   "outputs": [
    {
     "data": {
      "text/plain": [
       "25643    20977\n",
       "25644    21028\n",
       "25645    20984\n",
       "25646    21204\n",
       "25647    21516\n",
       "         ...  \n",
       "26638    24542\n",
       "26639    25131\n",
       "26640    24689\n",
       "26641    24228\n",
       "26642    23851\n",
       "Name: Interval, Length: 1000, dtype: int64"
      ]
     },
     "execution_count": 42,
     "metadata": {},
     "output_type": "execute_result"
    }
   ],
   "source": [
    "data.Interval.tail(1000)"
   ]
  },
  {
   "cell_type": "code",
   "execution_count": 43,
   "metadata": {},
   "outputs": [
    {
     "data": {
      "text/plain": [
       "(8.480050555555557, 2.830171806496698, 8, 28, 48)"
      ]
     },
     "execution_count": 43,
     "metadata": {},
     "output_type": "execute_result"
    }
   ],
   "source": [
    "conversion_us_heure = 1/1000/60/60 \n",
    "temps_1kWh = sum(data.Interval.tail(1000))*conversion_us_heure  #somme 1000 interval = temps conso 1 kWh\n",
    "conso_jour = 24/temps_1kWh\n",
    "heure = int(temps_1kWh)\n",
    "mn = (temps_1kWh - heure)*60\n",
    "sec = (mn - int(mn))*60\n",
    "temps_1kWh, conso_jour,heure,int(mn),int(sec)"
   ]
  },
  {
   "cell_type": "code",
   "execution_count": 44,
   "metadata": {},
   "outputs": [
    {
     "name": "stderr",
     "output_type": "stream",
     "text": [
      "C:\\Users\\jean\\AppData\\Local\\Temp\\ipykernel_23764\\3458501435.py:1: SettingWithCopyWarning: \n",
      "A value is trying to be set on a copy of a slice from a DataFrame.\n",
      "Try using .loc[row_indexer,col_indexer] = value instead\n",
      "\n",
      "See the caveats in the documentation: https://pandas.pydata.org/pandas-docs/stable/user_guide/indexing.html#returning-a-view-versus-a-copy\n",
      "  data['heure']=conso_data['dates']#.strftime('%d/%m/%Y %H:%M:%S')\n"
     ]
    }
   ],
   "source": [
    "data['heure']=conso_data['dates']#.strftime('%d/%m/%Y %H:%M:%S')"
   ]
  },
  {
   "cell_type": "code",
   "execution_count": 45,
   "metadata": {},
   "outputs": [
    {
     "data": {
      "text/html": [
       "<div>\n",
       "<style scoped>\n",
       "    .dataframe tbody tr th:only-of-type {\n",
       "        vertical-align: middle;\n",
       "    }\n",
       "\n",
       "    .dataframe tbody tr th {\n",
       "        vertical-align: top;\n",
       "    }\n",
       "\n",
       "    .dataframe thead th {\n",
       "        text-align: right;\n",
       "    }\n",
       "</style>\n",
       "<table border=\"1\" class=\"dataframe\">\n",
       "  <thead>\n",
       "    <tr style=\"text-align: right;\">\n",
       "      <th></th>\n",
       "      <th>Interval</th>\n",
       "      <th>kWh</th>\n",
       "      <th>sec</th>\n",
       "      <th>Wh</th>\n",
       "      <th>cumul(ms)</th>\n",
       "      <th>dates</th>\n",
       "      <th>days</th>\n",
       "      <th>heure</th>\n",
       "    </tr>\n",
       "  </thead>\n",
       "  <tbody>\n",
       "    <tr>\n",
       "      <th>25643</th>\n",
       "      <td>20977</td>\n",
       "      <td>0.17</td>\n",
       "      <td>20.977</td>\n",
       "      <td>171.616532</td>\n",
       "      <td>612325668</td>\n",
       "      <td>2024-03-14 02:28:56.287111</td>\n",
       "      <td>14/03/2024</td>\n",
       "      <td>2024-03-14 02:28:56.287111</td>\n",
       "    </tr>\n",
       "    <tr>\n",
       "      <th>25644</th>\n",
       "      <td>21028</td>\n",
       "      <td>0.17</td>\n",
       "      <td>21.028</td>\n",
       "      <td>171.200304</td>\n",
       "      <td>612346696</td>\n",
       "      <td>2024-03-14 02:29:17.315111</td>\n",
       "      <td>14/03/2024</td>\n",
       "      <td>2024-03-14 02:29:17.315111</td>\n",
       "    </tr>\n",
       "    <tr>\n",
       "      <th>25645</th>\n",
       "      <td>20984</td>\n",
       "      <td>0.17</td>\n",
       "      <td>20.984</td>\n",
       "      <td>171.559283</td>\n",
       "      <td>612367680</td>\n",
       "      <td>2024-03-14 02:29:38.299111</td>\n",
       "      <td>14/03/2024</td>\n",
       "      <td>2024-03-14 02:29:38.299111</td>\n",
       "    </tr>\n",
       "    <tr>\n",
       "      <th>25646</th>\n",
       "      <td>21204</td>\n",
       "      <td>0.17</td>\n",
       "      <td>21.204</td>\n",
       "      <td>169.779287</td>\n",
       "      <td>612388884</td>\n",
       "      <td>2024-03-14 02:29:59.503111</td>\n",
       "      <td>14/03/2024</td>\n",
       "      <td>2024-03-14 02:29:59.503111</td>\n",
       "    </tr>\n",
       "    <tr>\n",
       "      <th>25647</th>\n",
       "      <td>21516</td>\n",
       "      <td>0.17</td>\n",
       "      <td>21.516</td>\n",
       "      <td>167.317345</td>\n",
       "      <td>612410400</td>\n",
       "      <td>2024-03-14 02:30:21.019111</td>\n",
       "      <td>14/03/2024</td>\n",
       "      <td>2024-03-14 02:30:21.019111</td>\n",
       "    </tr>\n",
       "    <tr>\n",
       "      <th>...</th>\n",
       "      <td>...</td>\n",
       "      <td>...</td>\n",
       "      <td>...</td>\n",
       "      <td>...</td>\n",
       "      <td>...</td>\n",
       "      <td>...</td>\n",
       "      <td>...</td>\n",
       "      <td>...</td>\n",
       "    </tr>\n",
       "    <tr>\n",
       "      <th>26638</th>\n",
       "      <td>24542</td>\n",
       "      <td>0.15</td>\n",
       "      <td>24.542</td>\n",
       "      <td>146.687312</td>\n",
       "      <td>642734974</td>\n",
       "      <td>2024-03-14 10:55:45.593111</td>\n",
       "      <td>14/03/2024</td>\n",
       "      <td>2024-03-14 10:55:45.593111</td>\n",
       "    </tr>\n",
       "    <tr>\n",
       "      <th>26639</th>\n",
       "      <td>25131</td>\n",
       "      <td>0.14</td>\n",
       "      <td>25.131</td>\n",
       "      <td>143.249373</td>\n",
       "      <td>642760105</td>\n",
       "      <td>2024-03-14 10:56:10.724111</td>\n",
       "      <td>14/03/2024</td>\n",
       "      <td>2024-03-14 10:56:10.724111</td>\n",
       "    </tr>\n",
       "    <tr>\n",
       "      <th>26640</th>\n",
       "      <td>24689</td>\n",
       "      <td>0.14</td>\n",
       "      <td>24.689</td>\n",
       "      <td>145.813925</td>\n",
       "      <td>642784794</td>\n",
       "      <td>2024-03-14 10:56:35.413111</td>\n",
       "      <td>14/03/2024</td>\n",
       "      <td>2024-03-14 10:56:35.413111</td>\n",
       "    </tr>\n",
       "    <tr>\n",
       "      <th>26641</th>\n",
       "      <td>24228</td>\n",
       "      <td>0.15</td>\n",
       "      <td>24.228</td>\n",
       "      <td>148.588410</td>\n",
       "      <td>642809022</td>\n",
       "      <td>2024-03-14 10:56:59.641111</td>\n",
       "      <td>14/03/2024</td>\n",
       "      <td>2024-03-14 10:56:59.641111</td>\n",
       "    </tr>\n",
       "    <tr>\n",
       "      <th>26642</th>\n",
       "      <td>23851</td>\n",
       "      <td>0.15</td>\n",
       "      <td>23.851</td>\n",
       "      <td>150.937068</td>\n",
       "      <td>642832873</td>\n",
       "      <td>2024-03-14 10:57:23.492111</td>\n",
       "      <td>14/03/2024</td>\n",
       "      <td>2024-03-14 10:57:23.492111</td>\n",
       "    </tr>\n",
       "  </tbody>\n",
       "</table>\n",
       "<p>1000 rows × 8 columns</p>\n",
       "</div>"
      ],
      "text/plain": [
       "       Interval   kWh     sec          Wh  cumul(ms)  \\\n",
       "25643     20977  0.17  20.977  171.616532  612325668   \n",
       "25644     21028  0.17  21.028  171.200304  612346696   \n",
       "25645     20984  0.17  20.984  171.559283  612367680   \n",
       "25646     21204  0.17  21.204  169.779287  612388884   \n",
       "25647     21516  0.17  21.516  167.317345  612410400   \n",
       "...         ...   ...     ...         ...        ...   \n",
       "26638     24542  0.15  24.542  146.687312  642734974   \n",
       "26639     25131  0.14  25.131  143.249373  642760105   \n",
       "26640     24689  0.14  24.689  145.813925  642784794   \n",
       "26641     24228  0.15  24.228  148.588410  642809022   \n",
       "26642     23851  0.15  23.851  150.937068  642832873   \n",
       "\n",
       "                           dates        days                      heure  \n",
       "25643 2024-03-14 02:28:56.287111  14/03/2024 2024-03-14 02:28:56.287111  \n",
       "25644 2024-03-14 02:29:17.315111  14/03/2024 2024-03-14 02:29:17.315111  \n",
       "25645 2024-03-14 02:29:38.299111  14/03/2024 2024-03-14 02:29:38.299111  \n",
       "25646 2024-03-14 02:29:59.503111  14/03/2024 2024-03-14 02:29:59.503111  \n",
       "25647 2024-03-14 02:30:21.019111  14/03/2024 2024-03-14 02:30:21.019111  \n",
       "...                          ...         ...                        ...  \n",
       "26638 2024-03-14 10:55:45.593111  14/03/2024 2024-03-14 10:55:45.593111  \n",
       "26639 2024-03-14 10:56:10.724111  14/03/2024 2024-03-14 10:56:10.724111  \n",
       "26640 2024-03-14 10:56:35.413111  14/03/2024 2024-03-14 10:56:35.413111  \n",
       "26641 2024-03-14 10:56:59.641111  14/03/2024 2024-03-14 10:56:59.641111  \n",
       "26642 2024-03-14 10:57:23.492111  14/03/2024 2024-03-14 10:57:23.492111  \n",
       "\n",
       "[1000 rows x 8 columns]"
      ]
     },
     "execution_count": 45,
     "metadata": {},
     "output_type": "execute_result"
    }
   ],
   "source": [
    "data"
   ]
  },
  {
   "cell_type": "code",
   "execution_count": 46,
   "metadata": {},
   "outputs": [
    {
     "data": {
      "text/plain": [
       "<Axes: >"
      ]
     },
     "execution_count": 46,
     "metadata": {},
     "output_type": "execute_result"
    },
    {
     "data": {
      "image/png": "[encoded data removed]",
      "text/plain": [
       "<Figure size 640x480 with 1 Axes>"
      ]
     },
     "metadata": {},
     "output_type": "display_data"
    }
   ],
   "source": [
    "data.tail(600)['Wh'].plot()"
   ]
  },
  {
   "cell_type": "code",
   "execution_count": 47,
   "metadata": {},
   "outputs": [
    {
     "data": {
      "text/plain": [
       "25643    171.616532\n",
       "25644    171.200304\n",
       "25645    171.559283\n",
       "25646    169.779287\n",
       "25647    167.317345\n",
       "            ...    \n",
       "26638    146.687312\n",
       "26639    143.249373\n",
       "26640    145.813925\n",
       "26641    148.588410\n",
       "26642    150.937068\n",
       "Name: Wh, Length: 1000, dtype: float64"
      ]
     },
     "execution_count": 47,
     "metadata": {},
     "output_type": "execute_result"
    }
   ],
   "source": [
    "data['Wh']"
   ]
  },
  {
   "cell_type": "markdown",
   "metadata": {},
   "source": [
    "# k kW window graph"
   ]
  },
  {
   "cell_type": "code",
   "execution_count": 48,
   "metadata": {},
   "outputs": [
    {
     "data": {
      "image/png": "[encoded data removed]",
      "text/plain": [
       "<Figure size 2500x1000 with 1 Axes>"
      ]
     },
     "metadata": {},
     "output_type": "display_data"
    }
   ],
   "source": [
    "fig, ax = plt.subplots()\n",
    "# the size of A4 paper\n",
    "fig.set_size_inches(25, 10)\n",
    "\n",
    "formatter = DateFormatter('%d/%m\\n%H:%M')\n",
    "ax.xaxis.set_major_formatter(formatter)\n",
    "\n",
    "# ticks sur axe des x\n",
    "major_ticks=1/30;minor_ticks=1/360\n",
    "ax.xaxis.set_major_locator(MultipleLocator(major_ticks))  # 1 major tick tous les 48 min\n",
    "ax.xaxis.set_minor_locator(MultipleLocator(minor_ticks))  # 1 minor ticks tous les 4 min\n",
    "ax.tick_params(which='both', width=3)\n",
    "ax.tick_params(which='major', length=15, color='r')\n",
    "ax.tick_params(which='minor', length=8, color='b')\n",
    "\n",
    "plt.title(f'Consommation {k} kW (Temps: {heure} heures {int(mn)} minutes {int(sec)} secondes)\\nDe {start} à {end}')\n",
    "plt.plot(data['dates'],data['Wh'])\n",
    "plt.ylabel('Wh')\n",
    "plt.xlabel('Time (heures)')\n",
    "plt.grid()\n"
   ]
  },
  {
   "cell_type": "code",
   "execution_count": 49,
   "metadata": {},
   "outputs": [
    {
     "data": {
      "text/plain": [
       "<Axes: ylabel='Frequency'>"
      ]
     },
     "execution_count": 49,
     "metadata": {},
     "output_type": "execute_result"
    },
    {
     "data": {
      "image/png": "[encoded data removed]",
      "text/plain": [
       "<Figure size 640x480 with 1 Axes>"
      ]
     },
     "metadata": {},
     "output_type": "display_data"
    }
   ],
   "source": [
    "data.kWh.plot.hist(bins=50,rwidth=0.8,grid=True)\n"
   ]
  },
  {
   "cell_type": "code",
   "execution_count": 50,
   "metadata": {},
   "outputs": [
    {
     "data": {
      "text/html": [
       "<div>\n",
       "<style scoped>\n",
       "    .dataframe tbody tr th:only-of-type {\n",
       "        vertical-align: middle;\n",
       "    }\n",
       "\n",
       "    .dataframe tbody tr th {\n",
       "        vertical-align: top;\n",
       "    }\n",
       "\n",
       "    .dataframe thead th {\n",
       "        text-align: right;\n",
       "    }\n",
       "</style>\n",
       "<table border=\"1\" class=\"dataframe\">\n",
       "  <thead>\n",
       "    <tr style=\"text-align: right;\">\n",
       "      <th></th>\n",
       "      <th>Interval</th>\n",
       "      <th>kWh</th>\n",
       "      <th>sec</th>\n",
       "      <th>Wh</th>\n",
       "      <th>cumul(ms)</th>\n",
       "      <th>dates</th>\n",
       "      <th>days</th>\n",
       "    </tr>\n",
       "  </thead>\n",
       "  <tbody>\n",
       "    <tr>\n",
       "      <th>26638</th>\n",
       "      <td>24542</td>\n",
       "      <td>0.15</td>\n",
       "      <td>24.542</td>\n",
       "      <td>146.687312</td>\n",
       "      <td>642734974</td>\n",
       "      <td>2024-03-14 10:55:45.593111</td>\n",
       "      <td>14/03/2024</td>\n",
       "    </tr>\n",
       "    <tr>\n",
       "      <th>26639</th>\n",
       "      <td>25131</td>\n",
       "      <td>0.14</td>\n",
       "      <td>25.131</td>\n",
       "      <td>143.249373</td>\n",
       "      <td>642760105</td>\n",
       "      <td>2024-03-14 10:56:10.724111</td>\n",
       "      <td>14/03/2024</td>\n",
       "    </tr>\n",
       "    <tr>\n",
       "      <th>26640</th>\n",
       "      <td>24689</td>\n",
       "      <td>0.14</td>\n",
       "      <td>24.689</td>\n",
       "      <td>145.813925</td>\n",
       "      <td>642784794</td>\n",
       "      <td>2024-03-14 10:56:35.413111</td>\n",
       "      <td>14/03/2024</td>\n",
       "    </tr>\n",
       "    <tr>\n",
       "      <th>26641</th>\n",
       "      <td>24228</td>\n",
       "      <td>0.15</td>\n",
       "      <td>24.228</td>\n",
       "      <td>148.588410</td>\n",
       "      <td>642809022</td>\n",
       "      <td>2024-03-14 10:56:59.641111</td>\n",
       "      <td>14/03/2024</td>\n",
       "    </tr>\n",
       "    <tr>\n",
       "      <th>26642</th>\n",
       "      <td>23851</td>\n",
       "      <td>0.15</td>\n",
       "      <td>23.851</td>\n",
       "      <td>150.937068</td>\n",
       "      <td>642832873</td>\n",
       "      <td>2024-03-14 10:57:23.492111</td>\n",
       "      <td>14/03/2024</td>\n",
       "    </tr>\n",
       "  </tbody>\n",
       "</table>\n",
       "</div>"
      ],
      "text/plain": [
       "       Interval   kWh     sec          Wh  cumul(ms)  \\\n",
       "26638     24542  0.15  24.542  146.687312  642734974   \n",
       "26639     25131  0.14  25.131  143.249373  642760105   \n",
       "26640     24689  0.14  24.689  145.813925  642784794   \n",
       "26641     24228  0.15  24.228  148.588410  642809022   \n",
       "26642     23851  0.15  23.851  150.937068  642832873   \n",
       "\n",
       "                           dates        days  \n",
       "26638 2024-03-14 10:55:45.593111  14/03/2024  \n",
       "26639 2024-03-14 10:56:10.724111  14/03/2024  \n",
       "26640 2024-03-14 10:56:35.413111  14/03/2024  \n",
       "26641 2024-03-14 10:56:59.641111  14/03/2024  \n",
       "26642 2024-03-14 10:57:23.492111  14/03/2024  "
      ]
     },
     "execution_count": 50,
     "metadata": {},
     "output_type": "execute_result"
    }
   ],
   "source": [
    "conso_data.tail()"
   ]
  },
  {
   "cell_type": "code",
   "execution_count": 51,
   "metadata": {},
   "outputs": [
    {
     "data": {
      "image/png": "[encoded data removed]",
      "text/plain": [
       "<Figure size 640x480 with 1 Axes>"
      ]
     },
     "metadata": {},
     "output_type": "display_data"
    }
   ],
   "source": [
    "conso_data.tail(1000)['kWh'].plot()\n",
    "plt.grid()"
   ]
  },
  {
   "cell_type": "code",
   "execution_count": 52,
   "metadata": {},
   "outputs": [
    {
     "data": {
      "text/plain": [
       "(642832873000.0, 10713.881216666667)"
      ]
     },
     "execution_count": 52,
     "metadata": {},
     "output_type": "execute_result"
    }
   ],
   "source": [
    "#plt.plot(conso_data['sec'])\n",
    "now = dt.datetime.now()\n",
    "last_cumul = np.array(conso_data['cumul(ms)'].tail(1))[0]*1000.0  # us\n",
    "last_cumul, last_cumul/60e6  # min"
   ]
  },
  {
   "cell_type": "code",
   "execution_count": 53,
   "metadata": {},
   "outputs": [
    {
     "data": {
      "text/plain": [
       "(datetime.datetime(2024, 3, 14, 10, 57, 29, 583504),\n",
       " datetime.datetime(2024, 3, 7, 0, 23, 36, 710504))"
      ]
     },
     "execution_count": 53,
     "metadata": {},
     "output_type": "execute_result"
    }
   ],
   "source": [
    "begin = now - dt.timedelta(microseconds=last_cumul)  #2023, 6, 24, 9, 14, (39, 942895) approximatif\n",
    "now, begin"
   ]
  },
  {
   "cell_type": "code",
   "execution_count": 54,
   "metadata": {},
   "outputs": [
    {
     "data": {
      "text/plain": [
       "(26643, 642833, 178.56472222222223)"
      ]
     },
     "execution_count": 54,
     "metadata": {},
     "output_type": "execute_result"
    }
   ],
   "source": [
    "x = mdates.drange(begin,now,dt.timedelta(microseconds=1000000))  # seconds\n",
    "len(conso_data),len(x),len(x)/3600"
   ]
  },
  {
   "cell_type": "code",
   "execution_count": 55,
   "metadata": {},
   "outputs": [],
   "source": [
    "def format_date(space=3):\n",
    "    plt.gca().xaxis.set_major_formatter(mdates.DateFormatter('%d/%m\\n%H:%M'))\n",
    "    plt.gca().xaxis.set_major_locator(mdates.HourLocator(space))\n",
    "    plt.gca().xaxis.set_major_locator(mdates.HourLocator(interval=space))\n",
    "    plt.gcf().autofmt_xdate()\n",
    "    plt.grid()"
   ]
  },
  {
   "cell_type": "code",
   "execution_count": 56,
   "metadata": {},
   "outputs": [
    {
     "data": {
      "text/plain": [
       "732"
      ]
     },
     "execution_count": 56,
     "metadata": {},
     "output_type": "execute_result"
    }
   ],
   "source": [
    "import numpy as np\n",
    "import datetime as dt\n",
    "import matplotlib.pyplot as plt\n",
    "base = dt.datetime(2005, 2, 1)\n",
    "dates = [base + dt.timedelta(hours=(2 * i)) for i in range(732)]\n",
    "N = len(dates)\n",
    "N\n"
   ]
  },
  {
   "cell_type": "code",
   "execution_count": 57,
   "metadata": {},
   "outputs": [
    {
     "data": {
      "text/plain": [
       "61.0"
      ]
     },
     "execution_count": 57,
     "metadata": {},
     "output_type": "execute_result"
    }
   ],
   "source": [
    "732/12 # 60 jours"
   ]
  },
  {
   "cell_type": "code",
   "execution_count": 58,
   "metadata": {},
   "outputs": [
    {
     "data": {
      "text/plain": [
       "(datetime.datetime(2005, 2, 1, 0, 0), datetime.datetime(2005, 4, 2, 22, 0))"
      ]
     },
     "execution_count": 58,
     "metadata": {},
     "output_type": "execute_result"
    }
   ],
   "source": [
    "dates[0],dates[-1]"
   ]
  },
  {
   "cell_type": "code",
   "execution_count": 59,
   "metadata": {},
   "outputs": [
    {
     "data": {
      "image/png": "[encoded data removed]",
      "text/plain": [
       "<Figure size 600x600 with 3 Axes>"
      ]
     },
     "metadata": {},
     "output_type": "display_data"
    }
   ],
   "source": [
    "np.random.seed(19680801)\n",
    "y = np.cumsum(np.random.randn(N))\n",
    "\n",
    "fig, axs = plt.subplots(3, 1, layout='constrained', figsize=(6, 6))\n",
    "lims = [(np.datetime64('2005-02'), np.datetime64('2005-04')),\n",
    "        (np.datetime64('2005-02-03'), np.datetime64('2005-02-15')),\n",
    "        (np.datetime64('2005-02-03 11:00'), np.datetime64('2005-02-04 13:20'))]\n",
    "for nn, ax in enumerate(axs):\n",
    "    ax.plot(dates, y)\n",
    "    ax.set_xlim(lims[nn])\n",
    "    # rotate_labels...\n",
    "    for label in ax.get_xticklabels():\n",
    "        label.set_rotation(40)\n",
    "        label.set_horizontalalignment('right')\n",
    "axs[0].set_title('Default Date Formatter')\n",
    "plt.show()"
   ]
  },
  {
   "cell_type": "code",
   "execution_count": 60,
   "metadata": {},
   "outputs": [
    {
     "data": {
      "text/plain": [
       "datetime.datetime(2005, 4, 2, 22, 0)"
      ]
     },
     "execution_count": 60,
     "metadata": {},
     "output_type": "execute_result"
    }
   ],
   "source": [
    "t = dt.datetime(2005, 4, 2, 22, 0)\n",
    "t"
   ]
  }
 ],
 "metadata": {
  "kernelspec": {
   "display_name": "Python 3",
   "language": "python",
   "name": "python3"
  },
  "language_info": {
   "codemirror_mode": {
    "name": "ipython",
    "version": 3
   },
   "file_extension": ".py",
   "mimetype": "text/x-python",
   "name": "python",
   "nbconvert_exporter": "python",
   "pygments_lexer": "ipython3",
   "version": "3.11.4"
  },
  "orig_nbformat": 4
 },
 "nbformat": 4,
 "nbformat_minor": 2
}
