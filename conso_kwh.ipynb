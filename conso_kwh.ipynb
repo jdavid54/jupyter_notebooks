{
 "cells": [
  {
   "cell_type": "code",
   "execution_count": 1363,
   "metadata": {},
   "outputs": [],
   "source": [
    "import pandas as pd\n",
    "import numpy as np\n",
    "import matplotlib.pyplot as plt\n",
    "import matplotlib.dates as mdates\n",
    "import matplotlib.ticker as ticker\n",
    "from matplotlib.axis import Axis\n",
    "import datetime as dt\n",
    "\n",
    "#plt.style.use(['science', 'notebook'])\n",
    "#%matplotlib inline\n"
   ]
  },
  {
   "cell_type": "code",
   "execution_count": 1364,
   "metadata": {},
   "outputs": [],
   "source": [
    "data_file = \"conso.txt\""
   ]
  },
  {
   "cell_type": "code",
   "execution_count": 1365,
   "metadata": {},
   "outputs": [],
   "source": [
    "def read_text(filename):\n",
    "    f = open(filename, \"r\")\n",
    "    text = f.readlines()\n",
    "    f.close()\n",
    "    print(text)\n",
    "\n",
    "def save_text(filename):\n",
    "    f = open(filename, \"w\")\n",
    "    f.write(text)\n",
    "    f.close()\n",
    "\n",
    "\n",
    "#read_text(data_file)\n",
    "def get_data(filename):    \n",
    "    data = pd.read_csv(filename)\n",
    "    #data['time'] = pd.to_datetime(data['time'])  #.dt.tz_convert(None)\n",
    "    #data.info()\n",
    "    #print(data.tail(5))\n",
    "    return data\n"
   ]
  },
  {
   "cell_type": "code",
   "execution_count": 1366,
   "metadata": {},
   "outputs": [],
   "source": [
    "text='test'\n",
    "filename='text.txt'\n",
    "#save_text(filename)"
   ]
  },
  {
   "cell_type": "code",
   "execution_count": 1367,
   "metadata": {},
   "outputs": [
    {
     "name": "stdout",
     "output_type": "stream",
     "text": [
      "<class 'pandas.core.frame.DataFrame'>\n",
      "RangeIndex: 1013 entries, 0 to 1012\n",
      "Data columns (total 1 columns):\n",
      " #   Column  Non-Null Count  Dtype  \n",
      "---  ------  --------------  -----  \n",
      " 0   Conso   1013 non-null   float64\n",
      "dtypes: float64(1)\n",
      "memory usage: 8.0 KB\n"
     ]
    }
   ],
   "source": [
    "# read data with pandas\n",
    "data = get_data(data_file)\n",
    "data.info()\n"
   ]
  },
  {
   "cell_type": "code",
   "execution_count": 1368,
   "metadata": {},
   "outputs": [
    {
     "data": {
      "text/html": [
       "<div>\n",
       "<style scoped>\n",
       "    .dataframe tbody tr th:only-of-type {\n",
       "        vertical-align: middle;\n",
       "    }\n",
       "\n",
       "    .dataframe tbody tr th {\n",
       "        vertical-align: top;\n",
       "    }\n",
       "\n",
       "    .dataframe thead th {\n",
       "        text-align: right;\n",
       "    }\n",
       "</style>\n",
       "<table border=\"1\" class=\"dataframe\">\n",
       "  <thead>\n",
       "    <tr style=\"text-align: right;\">\n",
       "      <th></th>\n",
       "      <th>Conso</th>\n",
       "      <th>interval</th>\n",
       "    </tr>\n",
       "  </thead>\n",
       "  <tbody>\n",
       "    <tr>\n",
       "      <th>0</th>\n",
       "      <td>0.19</td>\n",
       "      <td>18947.368421</td>\n",
       "    </tr>\n",
       "    <tr>\n",
       "      <th>1</th>\n",
       "      <td>0.19</td>\n",
       "      <td>18947.368421</td>\n",
       "    </tr>\n",
       "    <tr>\n",
       "      <th>2</th>\n",
       "      <td>0.19</td>\n",
       "      <td>18947.368421</td>\n",
       "    </tr>\n",
       "    <tr>\n",
       "      <th>3</th>\n",
       "      <td>0.19</td>\n",
       "      <td>18947.368421</td>\n",
       "    </tr>\n",
       "    <tr>\n",
       "      <th>4</th>\n",
       "      <td>0.19</td>\n",
       "      <td>18947.368421</td>\n",
       "    </tr>\n",
       "    <tr>\n",
       "      <th>...</th>\n",
       "      <td>...</td>\n",
       "      <td>...</td>\n",
       "    </tr>\n",
       "    <tr>\n",
       "      <th>1008</th>\n",
       "      <td>0.16</td>\n",
       "      <td>22500.000000</td>\n",
       "    </tr>\n",
       "    <tr>\n",
       "      <th>1009</th>\n",
       "      <td>0.16</td>\n",
       "      <td>22500.000000</td>\n",
       "    </tr>\n",
       "    <tr>\n",
       "      <th>1010</th>\n",
       "      <td>0.17</td>\n",
       "      <td>21176.470588</td>\n",
       "    </tr>\n",
       "    <tr>\n",
       "      <th>1011</th>\n",
       "      <td>0.17</td>\n",
       "      <td>21176.470588</td>\n",
       "    </tr>\n",
       "    <tr>\n",
       "      <th>1012</th>\n",
       "      <td>0.16</td>\n",
       "      <td>22500.000000</td>\n",
       "    </tr>\n",
       "  </tbody>\n",
       "</table>\n",
       "<p>1013 rows × 2 columns</p>\n",
       "</div>"
      ],
      "text/plain": [
       "      Conso      interval\n",
       "0      0.19  18947.368421\n",
       "1      0.19  18947.368421\n",
       "2      0.19  18947.368421\n",
       "3      0.19  18947.368421\n",
       "4      0.19  18947.368421\n",
       "...     ...           ...\n",
       "1008   0.16  22500.000000\n",
       "1009   0.16  22500.000000\n",
       "1010   0.17  21176.470588\n",
       "1011   0.17  21176.470588\n",
       "1012   0.16  22500.000000\n",
       "\n",
       "[1013 rows x 2 columns]"
      ]
     },
     "execution_count": 1368,
     "metadata": {},
     "output_type": "execute_result"
    }
   ],
   "source": [
    "data['interval']=3600/data['Conso']\n",
    "data"
   ]
  },
  {
   "cell_type": "code",
   "execution_count": 1369,
   "metadata": {},
   "outputs": [
    {
     "data": {
      "image/png": "[encoded data removed]",
      "text/plain": [
       "<Figure size 640x480 with 1 Axes>"
      ]
     },
     "metadata": {},
     "output_type": "display_data"
    },
    {
     "data": {
      "text/plain": [
       "<matplotlib.legend.Legend at 0x290fab9e2d0>"
      ]
     },
     "execution_count": 1369,
     "metadata": {},
     "output_type": "execute_result"
    },
    {
     "data": {
      "image/png": "[encoded data removed]",
      "text/plain": [
       "<Figure size 640x480 with 1 Axes>"
      ]
     },
     "metadata": {},
     "output_type": "display_data"
    }
   ],
   "source": [
    "\n",
    "plt.title('Consommation Linky')\n",
    "plt.plot(data['interval'], color='red',label='Interval')\n",
    "plt.grid()\n",
    "plt.legend()\n",
    "plt.show()\n",
    "plt.plot(data['Conso'], color='red',label='Conso')\n",
    "plt.grid()\n",
    "plt.legend()"
   ]
  },
  {
   "attachments": {},
   "cell_type": "markdown",
   "metadata": {},
   "source": [
    "### conso.csv sur WD6TB mis à jour avec PI4"
   ]
  },
  {
   "cell_type": "code",
   "execution_count": 1370,
   "metadata": {},
   "outputs": [],
   "source": [
    "def get_data2(filename):    \n",
    "    data = pd.read_csv(filename, names=[\"Interval\",\"kWh\"])\n",
    "    return data"
   ]
  },
  {
   "cell_type": "code",
   "execution_count": 1371,
   "metadata": {},
   "outputs": [
    {
     "name": "stdout",
     "output_type": "stream",
     "text": [
      "<class 'pandas.core.frame.DataFrame'>\n",
      "RangeIndex: 163307 entries, 0 to 163306\n",
      "Data columns (total 2 columns):\n",
      " #   Column    Non-Null Count   Dtype  \n",
      "---  ------    --------------   -----  \n",
      " 0   Interval  163307 non-null  int64  \n",
      " 1   kWh       163307 non-null  float64\n",
      "dtypes: float64(1), int64(1)\n",
      "memory usage: 2.5 MB\n"
     ]
    }
   ],
   "source": [
    "old = False\n",
    "\n",
    "if old:\n",
    "    #conso_file = r\"C:\\Users\\jean\\Documents\\conso.csv\"\n",
    "    conso_file = r\"Y:\\Documents\\conso_old.csv\"\n",
    "    conso_file = r\"Y:\\Documents\\conso - Copy (2).csv\"\n",
    "else:\n",
    "    conso_file = r\"Y:\\Documents\\conso.csv\"\n",
    "#old = False\n",
    "conso_data = get_data2(conso_file)\n",
    "conso_data.info()\n"
   ]
  },
  {
   "cell_type": "code",
   "execution_count": 1372,
   "metadata": {},
   "outputs": [
    {
     "data": {
      "text/html": [
       "<div>\n",
       "<style scoped>\n",
       "    .dataframe tbody tr th:only-of-type {\n",
       "        vertical-align: middle;\n",
       "    }\n",
       "\n",
       "    .dataframe tbody tr th {\n",
       "        vertical-align: top;\n",
       "    }\n",
       "\n",
       "    .dataframe thead th {\n",
       "        text-align: right;\n",
       "    }\n",
       "</style>\n",
       "<table border=\"1\" class=\"dataframe\">\n",
       "  <thead>\n",
       "    <tr style=\"text-align: right;\">\n",
       "      <th></th>\n",
       "      <th>Interval</th>\n",
       "      <th>kWh</th>\n",
       "    </tr>\n",
       "  </thead>\n",
       "  <tbody>\n",
       "    <tr>\n",
       "      <th>0</th>\n",
       "      <td>26289</td>\n",
       "      <td>0.14</td>\n",
       "    </tr>\n",
       "    <tr>\n",
       "      <th>1</th>\n",
       "      <td>26243</td>\n",
       "      <td>0.14</td>\n",
       "    </tr>\n",
       "    <tr>\n",
       "      <th>2</th>\n",
       "      <td>25885</td>\n",
       "      <td>0.14</td>\n",
       "    </tr>\n",
       "    <tr>\n",
       "      <th>3</th>\n",
       "      <td>25754</td>\n",
       "      <td>0.14</td>\n",
       "    </tr>\n",
       "    <tr>\n",
       "      <th>4</th>\n",
       "      <td>25774</td>\n",
       "      <td>0.14</td>\n",
       "    </tr>\n",
       "    <tr>\n",
       "      <th>...</th>\n",
       "      <td>...</td>\n",
       "      <td>...</td>\n",
       "    </tr>\n",
       "    <tr>\n",
       "      <th>163302</th>\n",
       "      <td>28394</td>\n",
       "      <td>0.13</td>\n",
       "    </tr>\n",
       "    <tr>\n",
       "      <th>163303</th>\n",
       "      <td>28502</td>\n",
       "      <td>0.13</td>\n",
       "    </tr>\n",
       "    <tr>\n",
       "      <th>163304</th>\n",
       "      <td>27748</td>\n",
       "      <td>0.13</td>\n",
       "    </tr>\n",
       "    <tr>\n",
       "      <th>163305</th>\n",
       "      <td>28453</td>\n",
       "      <td>0.13</td>\n",
       "    </tr>\n",
       "    <tr>\n",
       "      <th>163306</th>\n",
       "      <td>28346</td>\n",
       "      <td>0.13</td>\n",
       "    </tr>\n",
       "  </tbody>\n",
       "</table>\n",
       "<p>163307 rows × 2 columns</p>\n",
       "</div>"
      ],
      "text/plain": [
       "        Interval   kWh\n",
       "0          26289  0.14\n",
       "1          26243  0.14\n",
       "2          25885  0.14\n",
       "3          25754  0.14\n",
       "4          25774  0.14\n",
       "...          ...   ...\n",
       "163302     28394  0.13\n",
       "163303     28502  0.13\n",
       "163304     27748  0.13\n",
       "163305     28453  0.13\n",
       "163306     28346  0.13\n",
       "\n",
       "[163307 rows x 2 columns]"
      ]
     },
     "execution_count": 1372,
     "metadata": {},
     "output_type": "execute_result"
    }
   ],
   "source": [
    "conso_data = conso_data.dropna()\n",
    "conso_data"
   ]
  },
  {
   "cell_type": "code",
   "execution_count": 1373,
   "metadata": {},
   "outputs": [
    {
     "data": {
      "text/plain": [
       "<Axes: >"
      ]
     },
     "execution_count": 1373,
     "metadata": {},
     "output_type": "execute_result"
    },
    {
     "data": {
      "image/png": "[encoded data removed]",
      "text/plain": [
       "<Figure size 640x480 with 1 Axes>"
      ]
     },
     "metadata": {},
     "output_type": "display_data"
    }
   ],
   "source": [
    "conso_data['kWh'].plot()"
   ]
  },
  {
   "cell_type": "code",
   "execution_count": 1374,
   "metadata": {},
   "outputs": [
    {
     "data": {
      "text/html": [
       "<div>\n",
       "<style scoped>\n",
       "    .dataframe tbody tr th:only-of-type {\n",
       "        vertical-align: middle;\n",
       "    }\n",
       "\n",
       "    .dataframe tbody tr th {\n",
       "        vertical-align: top;\n",
       "    }\n",
       "\n",
       "    .dataframe thead th {\n",
       "        text-align: right;\n",
       "    }\n",
       "</style>\n",
       "<table border=\"1\" class=\"dataframe\">\n",
       "  <thead>\n",
       "    <tr style=\"text-align: right;\">\n",
       "      <th></th>\n",
       "      <th>Interval</th>\n",
       "      <th>kWh</th>\n",
       "      <th>sec</th>\n",
       "      <th>Wh</th>\n",
       "      <th>cumul(ms)</th>\n",
       "    </tr>\n",
       "  </thead>\n",
       "  <tbody>\n",
       "    <tr>\n",
       "      <th>0</th>\n",
       "      <td>26289</td>\n",
       "      <td>0.14</td>\n",
       "      <td>26.289</td>\n",
       "      <td>136.939404</td>\n",
       "      <td>26289</td>\n",
       "    </tr>\n",
       "    <tr>\n",
       "      <th>1</th>\n",
       "      <td>26243</td>\n",
       "      <td>0.14</td>\n",
       "      <td>26.243</td>\n",
       "      <td>137.179438</td>\n",
       "      <td>52532</td>\n",
       "    </tr>\n",
       "    <tr>\n",
       "      <th>2</th>\n",
       "      <td>25885</td>\n",
       "      <td>0.14</td>\n",
       "      <td>25.885</td>\n",
       "      <td>139.076685</td>\n",
       "      <td>78417</td>\n",
       "    </tr>\n",
       "    <tr>\n",
       "      <th>3</th>\n",
       "      <td>25754</td>\n",
       "      <td>0.14</td>\n",
       "      <td>25.754</td>\n",
       "      <td>139.784111</td>\n",
       "      <td>104171</td>\n",
       "    </tr>\n",
       "    <tr>\n",
       "      <th>4</th>\n",
       "      <td>25774</td>\n",
       "      <td>0.14</td>\n",
       "      <td>25.774</td>\n",
       "      <td>139.675642</td>\n",
       "      <td>129945</td>\n",
       "    </tr>\n",
       "    <tr>\n",
       "      <th>...</th>\n",
       "      <td>...</td>\n",
       "      <td>...</td>\n",
       "      <td>...</td>\n",
       "      <td>...</td>\n",
       "      <td>...</td>\n",
       "    </tr>\n",
       "    <tr>\n",
       "      <th>163302</th>\n",
       "      <td>28394</td>\n",
       "      <td>0.13</td>\n",
       "      <td>28.394</td>\n",
       "      <td>126.787349</td>\n",
       "      <td>3865506580</td>\n",
       "    </tr>\n",
       "    <tr>\n",
       "      <th>163303</th>\n",
       "      <td>28502</td>\n",
       "      <td>0.13</td>\n",
       "      <td>28.502</td>\n",
       "      <td>126.306926</td>\n",
       "      <td>3865535082</td>\n",
       "    </tr>\n",
       "    <tr>\n",
       "      <th>163304</th>\n",
       "      <td>27748</td>\n",
       "      <td>0.13</td>\n",
       "      <td>27.748</td>\n",
       "      <td>129.739080</td>\n",
       "      <td>3865562830</td>\n",
       "    </tr>\n",
       "    <tr>\n",
       "      <th>163305</th>\n",
       "      <td>28453</td>\n",
       "      <td>0.13</td>\n",
       "      <td>28.453</td>\n",
       "      <td>126.524444</td>\n",
       "      <td>3865591283</td>\n",
       "    </tr>\n",
       "    <tr>\n",
       "      <th>163306</th>\n",
       "      <td>28346</td>\n",
       "      <td>0.13</td>\n",
       "      <td>28.346</td>\n",
       "      <td>127.002046</td>\n",
       "      <td>3865619629</td>\n",
       "    </tr>\n",
       "  </tbody>\n",
       "</table>\n",
       "<p>163307 rows × 5 columns</p>\n",
       "</div>"
      ],
      "text/plain": [
       "        Interval   kWh     sec          Wh   cumul(ms)\n",
       "0          26289  0.14  26.289  136.939404       26289\n",
       "1          26243  0.14  26.243  137.179438       52532\n",
       "2          25885  0.14  25.885  139.076685       78417\n",
       "3          25754  0.14  25.754  139.784111      104171\n",
       "4          25774  0.14  25.774  139.675642      129945\n",
       "...          ...   ...     ...         ...         ...\n",
       "163302     28394  0.13  28.394  126.787349  3865506580\n",
       "163303     28502  0.13  28.502  126.306926  3865535082\n",
       "163304     27748  0.13  27.748  129.739080  3865562830\n",
       "163305     28453  0.13  28.453  126.524444  3865591283\n",
       "163306     28346  0.13  28.346  127.002046  3865619629\n",
       "\n",
       "[163307 rows x 5 columns]"
      ]
     },
     "execution_count": 1374,
     "metadata": {},
     "output_type": "execute_result"
    }
   ],
   "source": [
    "conso_data['sec']=conso_data['Interval']/1000\n",
    "conso_data['Wh']=3600000/conso_data['Interval']\n",
    "conso_data['cumul(ms)']=conso_data['Interval'].cumsum(axis=0)\n",
    "\n",
    "conso_data"
   ]
  },
  {
   "cell_type": "code",
   "execution_count": 1375,
   "metadata": {},
   "outputs": [
    {
     "data": {
      "text/plain": [
       "163306"
      ]
     },
     "execution_count": 1375,
     "metadata": {},
     "output_type": "execute_result"
    }
   ],
   "source": [
    "# index dernier echantillon\n",
    "l=len(conso_data)-1\n",
    "l"
   ]
  },
  {
   "cell_type": "code",
   "execution_count": 1376,
   "metadata": {},
   "outputs": [
    {
     "data": {
      "text/plain": [
       "3865619629000"
      ]
     },
     "execution_count": 1376,
     "metadata": {},
     "output_type": "execute_result"
    }
   ],
   "source": [
    "# cumtime = int(conso_data['cumul(ms)'].tail(1).values[0]*1000)\n",
    "cumtime= int(conso_data._get_value(l,'cumul(ms)')*1000)\n",
    "cumtime"
   ]
  },
  {
   "cell_type": "code",
   "execution_count": 1377,
   "metadata": {},
   "outputs": [
    {
     "data": {
      "text/plain": [
       "datetime.datetime(2024, 3, 7, 1, 46, 53, 475381)"
      ]
     },
     "execution_count": 1377,
     "metadata": {},
     "output_type": "execute_result"
    }
   ],
   "source": [
    "from datetime import datetime, timedelta\n",
    "now = datetime.now()\n",
    "# conso.csv dynamique\n",
    "base = now - timedelta(microseconds=cumtime)\n",
    "base  # date de début\n"
   ]
  },
  {
   "cell_type": "code",
   "execution_count": 1378,
   "metadata": {},
   "outputs": [
    {
     "data": {
      "text/plain": [
       "False"
      ]
     },
     "execution_count": 1378,
     "metadata": {},
     "output_type": "execute_result"
    }
   ],
   "source": [
    "old"
   ]
  },
  {
   "cell_type": "code",
   "execution_count": 1379,
   "metadata": {},
   "outputs": [
    {
     "name": "stdout",
     "output_type": "stream",
     "text": [
      "<class 'pandas.core.frame.DataFrame'>\n",
      "RangeIndex: 163307 entries, 0 to 163306\n",
      "Data columns (total 6 columns):\n",
      " #   Column     Non-Null Count   Dtype         \n",
      "---  ------     --------------   -----         \n",
      " 0   Interval   163307 non-null  int64         \n",
      " 1   kWh        163307 non-null  float64       \n",
      " 2   sec        163307 non-null  float64       \n",
      " 3   Wh         163307 non-null  float64       \n",
      " 4   cumul(ms)  163307 non-null  int64         \n",
      " 5   dates      163307 non-null  datetime64[ns]\n",
      "dtypes: datetime64[ns](1), float64(3), int64(2)\n",
      "memory usage: 7.5 MB\n"
     ]
    }
   ],
   "source": [
    "if old:\n",
    "    base = dt.datetime(2023, 8, 1, 10, 45, 0) - timedelta(microseconds=cumtime)\n",
    "\n",
    "conso_data['dates'] = [base + dt.timedelta(microseconds=t*1000) for t in conso_data['cumul(ms)']]\n",
    "conso_data.info()\n"
   ]
  },
  {
   "cell_type": "code",
   "execution_count": 1380,
   "metadata": {},
   "outputs": [
    {
     "data": {
      "text/html": [
       "<div>\n",
       "<style scoped>\n",
       "    .dataframe tbody tr th:only-of-type {\n",
       "        vertical-align: middle;\n",
       "    }\n",
       "\n",
       "    .dataframe tbody tr th {\n",
       "        vertical-align: top;\n",
       "    }\n",
       "\n",
       "    .dataframe thead th {\n",
       "        text-align: right;\n",
       "    }\n",
       "</style>\n",
       "<table border=\"1\" class=\"dataframe\">\n",
       "  <thead>\n",
       "    <tr style=\"text-align: right;\">\n",
       "      <th></th>\n",
       "      <th>Interval</th>\n",
       "      <th>kWh</th>\n",
       "      <th>sec</th>\n",
       "      <th>Wh</th>\n",
       "      <th>cumul(ms)</th>\n",
       "      <th>dates</th>\n",
       "      <th>days</th>\n",
       "    </tr>\n",
       "  </thead>\n",
       "  <tbody>\n",
       "    <tr>\n",
       "      <th>0</th>\n",
       "      <td>26289</td>\n",
       "      <td>0.14</td>\n",
       "      <td>26.289</td>\n",
       "      <td>136.939404</td>\n",
       "      <td>26289</td>\n",
       "      <td>2024-03-07 01:47:19.764381</td>\n",
       "      <td>07/03/2024</td>\n",
       "    </tr>\n",
       "    <tr>\n",
       "      <th>1</th>\n",
       "      <td>26243</td>\n",
       "      <td>0.14</td>\n",
       "      <td>26.243</td>\n",
       "      <td>137.179438</td>\n",
       "      <td>52532</td>\n",
       "      <td>2024-03-07 01:47:46.007381</td>\n",
       "      <td>07/03/2024</td>\n",
       "    </tr>\n",
       "    <tr>\n",
       "      <th>2</th>\n",
       "      <td>25885</td>\n",
       "      <td>0.14</td>\n",
       "      <td>25.885</td>\n",
       "      <td>139.076685</td>\n",
       "      <td>78417</td>\n",
       "      <td>2024-03-07 01:48:11.892381</td>\n",
       "      <td>07/03/2024</td>\n",
       "    </tr>\n",
       "    <tr>\n",
       "      <th>3</th>\n",
       "      <td>25754</td>\n",
       "      <td>0.14</td>\n",
       "      <td>25.754</td>\n",
       "      <td>139.784111</td>\n",
       "      <td>104171</td>\n",
       "      <td>2024-03-07 01:48:37.646381</td>\n",
       "      <td>07/03/2024</td>\n",
       "    </tr>\n",
       "    <tr>\n",
       "      <th>4</th>\n",
       "      <td>25774</td>\n",
       "      <td>0.14</td>\n",
       "      <td>25.774</td>\n",
       "      <td>139.675642</td>\n",
       "      <td>129945</td>\n",
       "      <td>2024-03-07 01:49:03.420381</td>\n",
       "      <td>07/03/2024</td>\n",
       "    </tr>\n",
       "    <tr>\n",
       "      <th>...</th>\n",
       "      <td>...</td>\n",
       "      <td>...</td>\n",
       "      <td>...</td>\n",
       "      <td>...</td>\n",
       "      <td>...</td>\n",
       "      <td>...</td>\n",
       "      <td>...</td>\n",
       "    </tr>\n",
       "    <tr>\n",
       "      <th>163302</th>\n",
       "      <td>28394</td>\n",
       "      <td>0.13</td>\n",
       "      <td>28.394</td>\n",
       "      <td>126.787349</td>\n",
       "      <td>3865506580</td>\n",
       "      <td>2024-04-20 19:32:00.055381</td>\n",
       "      <td>20/04/2024</td>\n",
       "    </tr>\n",
       "    <tr>\n",
       "      <th>163303</th>\n",
       "      <td>28502</td>\n",
       "      <td>0.13</td>\n",
       "      <td>28.502</td>\n",
       "      <td>126.306926</td>\n",
       "      <td>3865535082</td>\n",
       "      <td>2024-04-20 19:32:28.557381</td>\n",
       "      <td>20/04/2024</td>\n",
       "    </tr>\n",
       "    <tr>\n",
       "      <th>163304</th>\n",
       "      <td>27748</td>\n",
       "      <td>0.13</td>\n",
       "      <td>27.748</td>\n",
       "      <td>129.739080</td>\n",
       "      <td>3865562830</td>\n",
       "      <td>2024-04-20 19:32:56.305381</td>\n",
       "      <td>20/04/2024</td>\n",
       "    </tr>\n",
       "    <tr>\n",
       "      <th>163305</th>\n",
       "      <td>28453</td>\n",
       "      <td>0.13</td>\n",
       "      <td>28.453</td>\n",
       "      <td>126.524444</td>\n",
       "      <td>3865591283</td>\n",
       "      <td>2024-04-20 19:33:24.758381</td>\n",
       "      <td>20/04/2024</td>\n",
       "    </tr>\n",
       "    <tr>\n",
       "      <th>163306</th>\n",
       "      <td>28346</td>\n",
       "      <td>0.13</td>\n",
       "      <td>28.346</td>\n",
       "      <td>127.002046</td>\n",
       "      <td>3865619629</td>\n",
       "      <td>2024-04-20 19:33:53.104381</td>\n",
       "      <td>20/04/2024</td>\n",
       "    </tr>\n",
       "  </tbody>\n",
       "</table>\n",
       "<p>163307 rows × 7 columns</p>\n",
       "</div>"
      ],
      "text/plain": [
       "        Interval   kWh     sec          Wh   cumul(ms)  \\\n",
       "0          26289  0.14  26.289  136.939404       26289   \n",
       "1          26243  0.14  26.243  137.179438       52532   \n",
       "2          25885  0.14  25.885  139.076685       78417   \n",
       "3          25754  0.14  25.754  139.784111      104171   \n",
       "4          25774  0.14  25.774  139.675642      129945   \n",
       "...          ...   ...     ...         ...         ...   \n",
       "163302     28394  0.13  28.394  126.787349  3865506580   \n",
       "163303     28502  0.13  28.502  126.306926  3865535082   \n",
       "163304     27748  0.13  27.748  129.739080  3865562830   \n",
       "163305     28453  0.13  28.453  126.524444  3865591283   \n",
       "163306     28346  0.13  28.346  127.002046  3865619629   \n",
       "\n",
       "                            dates        days  \n",
       "0      2024-03-07 01:47:19.764381  07/03/2024  \n",
       "1      2024-03-07 01:47:46.007381  07/03/2024  \n",
       "2      2024-03-07 01:48:11.892381  07/03/2024  \n",
       "3      2024-03-07 01:48:37.646381  07/03/2024  \n",
       "4      2024-03-07 01:49:03.420381  07/03/2024  \n",
       "...                           ...         ...  \n",
       "163302 2024-04-20 19:32:00.055381  20/04/2024  \n",
       "163303 2024-04-20 19:32:28.557381  20/04/2024  \n",
       "163304 2024-04-20 19:32:56.305381  20/04/2024  \n",
       "163305 2024-04-20 19:33:24.758381  20/04/2024  \n",
       "163306 2024-04-20 19:33:53.104381  20/04/2024  \n",
       "\n",
       "[163307 rows x 7 columns]"
      ]
     },
     "execution_count": 1380,
     "metadata": {},
     "output_type": "execute_result"
    }
   ],
   "source": [
    "conso_data['days']= [d.strftime('%d/%m/%Y') for d in conso_data['dates']]    #[str(d.month)+'-'+str(d.day) for d in conso_data['dates']]\n",
    "conso_data"
   ]
  },
  {
   "cell_type": "code",
   "execution_count": 1381,
   "metadata": {},
   "outputs": [
    {
     "data": {
      "text/plain": [
       "(   Interval   kWh     sec          Wh  cumul(ms)                      dates  \\\n",
       " 0     26289  0.14  26.289  136.939404      26289 2024-03-07 01:47:19.764381   \n",
       " \n",
       "          days  \n",
       " 0  07/03/2024  ,\n",
       "         Interval   kWh     sec          Wh   cumul(ms)  \\\n",
       " 163306     28346  0.13  28.346  127.002046  3865619629   \n",
       " \n",
       "                             dates        days  \n",
       " 163306 2024-04-20 19:33:53.104381  20/04/2024  )"
      ]
     },
     "execution_count": 1381,
     "metadata": {},
     "output_type": "execute_result"
    }
   ],
   "source": [
    "#conso_data\n",
    "conso_data.head(1),conso_data.tail(1)"
   ]
  },
  {
   "cell_type": "code",
   "execution_count": 1382,
   "metadata": {},
   "outputs": [
    {
     "data": {
      "text/plain": [
       "('20/04/2024', 4, 2024)"
      ]
     },
     "execution_count": 1382,
     "metadata": {},
     "output_type": "execute_result"
    }
   ],
   "source": [
    "# tranche journalière\n",
    "now = datetime.now()\n",
    "month = now.month\n",
    "year = now.year\n",
    "day = now.strftime('%d/%m/%Y')    #str(now.month)+'-'+str(now.day)\n",
    "day, month, year"
   ]
  },
  {
   "cell_type": "code",
   "execution_count": 1383,
   "metadata": {},
   "outputs": [
    {
     "data": {
      "text/html": [
       "<div>\n",
       "<style scoped>\n",
       "    .dataframe tbody tr th:only-of-type {\n",
       "        vertical-align: middle;\n",
       "    }\n",
       "\n",
       "    .dataframe tbody tr th {\n",
       "        vertical-align: top;\n",
       "    }\n",
       "\n",
       "    .dataframe thead th {\n",
       "        text-align: right;\n",
       "    }\n",
       "</style>\n",
       "<table border=\"1\" class=\"dataframe\">\n",
       "  <thead>\n",
       "    <tr style=\"text-align: right;\">\n",
       "      <th></th>\n",
       "      <th>Interval</th>\n",
       "      <th>kWh</th>\n",
       "      <th>sec</th>\n",
       "      <th>Wh</th>\n",
       "      <th>cumul(ms)</th>\n",
       "      <th>dates</th>\n",
       "      <th>days</th>\n",
       "    </tr>\n",
       "  </thead>\n",
       "  <tbody>\n",
       "    <tr>\n",
       "      <th>160583</th>\n",
       "      <td>29414</td>\n",
       "      <td>0.12</td>\n",
       "      <td>29.414</td>\n",
       "      <td>122.390698</td>\n",
       "      <td>3795204439</td>\n",
       "      <td>2024-04-20 00:00:17.914381</td>\n",
       "      <td>20/04/2024</td>\n",
       "    </tr>\n",
       "    <tr>\n",
       "      <th>160584</th>\n",
       "      <td>26851</td>\n",
       "      <td>0.13</td>\n",
       "      <td>26.851</td>\n",
       "      <td>134.073219</td>\n",
       "      <td>3795231290</td>\n",
       "      <td>2024-04-20 00:00:44.765381</td>\n",
       "      <td>20/04/2024</td>\n",
       "    </tr>\n",
       "    <tr>\n",
       "      <th>160585</th>\n",
       "      <td>27702</td>\n",
       "      <td>0.13</td>\n",
       "      <td>27.702</td>\n",
       "      <td>129.954516</td>\n",
       "      <td>3795258992</td>\n",
       "      <td>2024-04-20 00:01:12.467381</td>\n",
       "      <td>20/04/2024</td>\n",
       "    </tr>\n",
       "    <tr>\n",
       "      <th>160586</th>\n",
       "      <td>28276</td>\n",
       "      <td>0.13</td>\n",
       "      <td>28.276</td>\n",
       "      <td>127.316452</td>\n",
       "      <td>3795287268</td>\n",
       "      <td>2024-04-20 00:01:40.743381</td>\n",
       "      <td>20/04/2024</td>\n",
       "    </tr>\n",
       "    <tr>\n",
       "      <th>160587</th>\n",
       "      <td>28695</td>\n",
       "      <td>0.12</td>\n",
       "      <td>28.695</td>\n",
       "      <td>125.457397</td>\n",
       "      <td>3795315963</td>\n",
       "      <td>2024-04-20 00:02:09.438381</td>\n",
       "      <td>20/04/2024</td>\n",
       "    </tr>\n",
       "    <tr>\n",
       "      <th>...</th>\n",
       "      <td>...</td>\n",
       "      <td>...</td>\n",
       "      <td>...</td>\n",
       "      <td>...</td>\n",
       "      <td>...</td>\n",
       "      <td>...</td>\n",
       "      <td>...</td>\n",
       "    </tr>\n",
       "    <tr>\n",
       "      <th>163302</th>\n",
       "      <td>28394</td>\n",
       "      <td>0.13</td>\n",
       "      <td>28.394</td>\n",
       "      <td>126.787349</td>\n",
       "      <td>3865506580</td>\n",
       "      <td>2024-04-20 19:32:00.055381</td>\n",
       "      <td>20/04/2024</td>\n",
       "    </tr>\n",
       "    <tr>\n",
       "      <th>163303</th>\n",
       "      <td>28502</td>\n",
       "      <td>0.13</td>\n",
       "      <td>28.502</td>\n",
       "      <td>126.306926</td>\n",
       "      <td>3865535082</td>\n",
       "      <td>2024-04-20 19:32:28.557381</td>\n",
       "      <td>20/04/2024</td>\n",
       "    </tr>\n",
       "    <tr>\n",
       "      <th>163304</th>\n",
       "      <td>27748</td>\n",
       "      <td>0.13</td>\n",
       "      <td>27.748</td>\n",
       "      <td>129.739080</td>\n",
       "      <td>3865562830</td>\n",
       "      <td>2024-04-20 19:32:56.305381</td>\n",
       "      <td>20/04/2024</td>\n",
       "    </tr>\n",
       "    <tr>\n",
       "      <th>163305</th>\n",
       "      <td>28453</td>\n",
       "      <td>0.13</td>\n",
       "      <td>28.453</td>\n",
       "      <td>126.524444</td>\n",
       "      <td>3865591283</td>\n",
       "      <td>2024-04-20 19:33:24.758381</td>\n",
       "      <td>20/04/2024</td>\n",
       "    </tr>\n",
       "    <tr>\n",
       "      <th>163306</th>\n",
       "      <td>28346</td>\n",
       "      <td>0.13</td>\n",
       "      <td>28.346</td>\n",
       "      <td>127.002046</td>\n",
       "      <td>3865619629</td>\n",
       "      <td>2024-04-20 19:33:53.104381</td>\n",
       "      <td>20/04/2024</td>\n",
       "    </tr>\n",
       "  </tbody>\n",
       "</table>\n",
       "<p>2724 rows × 7 columns</p>\n",
       "</div>"
      ],
      "text/plain": [
       "        Interval   kWh     sec          Wh   cumul(ms)  \\\n",
       "160583     29414  0.12  29.414  122.390698  3795204439   \n",
       "160584     26851  0.13  26.851  134.073219  3795231290   \n",
       "160585     27702  0.13  27.702  129.954516  3795258992   \n",
       "160586     28276  0.13  28.276  127.316452  3795287268   \n",
       "160587     28695  0.12  28.695  125.457397  3795315963   \n",
       "...          ...   ...     ...         ...         ...   \n",
       "163302     28394  0.13  28.394  126.787349  3865506580   \n",
       "163303     28502  0.13  28.502  126.306926  3865535082   \n",
       "163304     27748  0.13  27.748  129.739080  3865562830   \n",
       "163305     28453  0.13  28.453  126.524444  3865591283   \n",
       "163306     28346  0.13  28.346  127.002046  3865619629   \n",
       "\n",
       "                            dates        days  \n",
       "160583 2024-04-20 00:00:17.914381  20/04/2024  \n",
       "160584 2024-04-20 00:00:44.765381  20/04/2024  \n",
       "160585 2024-04-20 00:01:12.467381  20/04/2024  \n",
       "160586 2024-04-20 00:01:40.743381  20/04/2024  \n",
       "160587 2024-04-20 00:02:09.438381  20/04/2024  \n",
       "...                           ...         ...  \n",
       "163302 2024-04-20 19:32:00.055381  20/04/2024  \n",
       "163303 2024-04-20 19:32:28.557381  20/04/2024  \n",
       "163304 2024-04-20 19:32:56.305381  20/04/2024  \n",
       "163305 2024-04-20 19:33:24.758381  20/04/2024  \n",
       "163306 2024-04-20 19:33:53.104381  20/04/2024  \n",
       "\n",
       "[2724 rows x 7 columns]"
      ]
     },
     "execution_count": 1383,
     "metadata": {},
     "output_type": "execute_result"
    }
   ],
   "source": [
    "conso_data[conso_data['days']==day]"
   ]
  },
  {
   "cell_type": "code",
   "execution_count": 1384,
   "metadata": {},
   "outputs": [
    {
     "data": {
      "text/plain": [
       "'20/04/2024'"
      ]
     },
     "execution_count": 1384,
     "metadata": {},
     "output_type": "execute_result"
    }
   ],
   "source": [
    "day"
   ]
  },
  {
   "cell_type": "code",
   "execution_count": 1385,
   "metadata": {},
   "outputs": [
    {
     "data": {
      "text/html": [
       "<div>\n",
       "<style scoped>\n",
       "    .dataframe tbody tr th:only-of-type {\n",
       "        vertical-align: middle;\n",
       "    }\n",
       "\n",
       "    .dataframe tbody tr th {\n",
       "        vertical-align: top;\n",
       "    }\n",
       "\n",
       "    .dataframe thead th {\n",
       "        text-align: right;\n",
       "    }\n",
       "</style>\n",
       "<table border=\"1\" class=\"dataframe\">\n",
       "  <thead>\n",
       "    <tr style=\"text-align: right;\">\n",
       "      <th></th>\n",
       "      <th>Interval</th>\n",
       "      <th>kWh</th>\n",
       "      <th>sec</th>\n",
       "      <th>Wh</th>\n",
       "      <th>cumul(ms)</th>\n",
       "      <th>dates</th>\n",
       "      <th>days</th>\n",
       "    </tr>\n",
       "  </thead>\n",
       "  <tbody>\n",
       "    <tr>\n",
       "      <th>0</th>\n",
       "      <td>26289</td>\n",
       "      <td>0.14</td>\n",
       "      <td>26.289</td>\n",
       "      <td>136.939404</td>\n",
       "      <td>26289</td>\n",
       "      <td>2024-03-07 01:47:19.764381</td>\n",
       "      <td>07/03/2024</td>\n",
       "    </tr>\n",
       "    <tr>\n",
       "      <th>1</th>\n",
       "      <td>26243</td>\n",
       "      <td>0.14</td>\n",
       "      <td>26.243</td>\n",
       "      <td>137.179438</td>\n",
       "      <td>52532</td>\n",
       "      <td>2024-03-07 01:47:46.007381</td>\n",
       "      <td>07/03/2024</td>\n",
       "    </tr>\n",
       "    <tr>\n",
       "      <th>2</th>\n",
       "      <td>25885</td>\n",
       "      <td>0.14</td>\n",
       "      <td>25.885</td>\n",
       "      <td>139.076685</td>\n",
       "      <td>78417</td>\n",
       "      <td>2024-03-07 01:48:11.892381</td>\n",
       "      <td>07/03/2024</td>\n",
       "    </tr>\n",
       "    <tr>\n",
       "      <th>3</th>\n",
       "      <td>25754</td>\n",
       "      <td>0.14</td>\n",
       "      <td>25.754</td>\n",
       "      <td>139.784111</td>\n",
       "      <td>104171</td>\n",
       "      <td>2024-03-07 01:48:37.646381</td>\n",
       "      <td>07/03/2024</td>\n",
       "    </tr>\n",
       "    <tr>\n",
       "      <th>4</th>\n",
       "      <td>25774</td>\n",
       "      <td>0.14</td>\n",
       "      <td>25.774</td>\n",
       "      <td>139.675642</td>\n",
       "      <td>129945</td>\n",
       "      <td>2024-03-07 01:49:03.420381</td>\n",
       "      <td>07/03/2024</td>\n",
       "    </tr>\n",
       "    <tr>\n",
       "      <th>...</th>\n",
       "      <td>...</td>\n",
       "      <td>...</td>\n",
       "      <td>...</td>\n",
       "      <td>...</td>\n",
       "      <td>...</td>\n",
       "      <td>...</td>\n",
       "      <td>...</td>\n",
       "    </tr>\n",
       "    <tr>\n",
       "      <th>163302</th>\n",
       "      <td>28394</td>\n",
       "      <td>0.13</td>\n",
       "      <td>28.394</td>\n",
       "      <td>126.787349</td>\n",
       "      <td>3865506580</td>\n",
       "      <td>2024-04-20 19:32:00.055381</td>\n",
       "      <td>20/04/2024</td>\n",
       "    </tr>\n",
       "    <tr>\n",
       "      <th>163303</th>\n",
       "      <td>28502</td>\n",
       "      <td>0.13</td>\n",
       "      <td>28.502</td>\n",
       "      <td>126.306926</td>\n",
       "      <td>3865535082</td>\n",
       "      <td>2024-04-20 19:32:28.557381</td>\n",
       "      <td>20/04/2024</td>\n",
       "    </tr>\n",
       "    <tr>\n",
       "      <th>163304</th>\n",
       "      <td>27748</td>\n",
       "      <td>0.13</td>\n",
       "      <td>27.748</td>\n",
       "      <td>129.739080</td>\n",
       "      <td>3865562830</td>\n",
       "      <td>2024-04-20 19:32:56.305381</td>\n",
       "      <td>20/04/2024</td>\n",
       "    </tr>\n",
       "    <tr>\n",
       "      <th>163305</th>\n",
       "      <td>28453</td>\n",
       "      <td>0.13</td>\n",
       "      <td>28.453</td>\n",
       "      <td>126.524444</td>\n",
       "      <td>3865591283</td>\n",
       "      <td>2024-04-20 19:33:24.758381</td>\n",
       "      <td>20/04/2024</td>\n",
       "    </tr>\n",
       "    <tr>\n",
       "      <th>163306</th>\n",
       "      <td>28346</td>\n",
       "      <td>0.13</td>\n",
       "      <td>28.346</td>\n",
       "      <td>127.002046</td>\n",
       "      <td>3865619629</td>\n",
       "      <td>2024-04-20 19:33:53.104381</td>\n",
       "      <td>20/04/2024</td>\n",
       "    </tr>\n",
       "  </tbody>\n",
       "</table>\n",
       "<p>163307 rows × 7 columns</p>\n",
       "</div>"
      ],
      "text/plain": [
       "        Interval   kWh     sec          Wh   cumul(ms)  \\\n",
       "0          26289  0.14  26.289  136.939404       26289   \n",
       "1          26243  0.14  26.243  137.179438       52532   \n",
       "2          25885  0.14  25.885  139.076685       78417   \n",
       "3          25754  0.14  25.754  139.784111      104171   \n",
       "4          25774  0.14  25.774  139.675642      129945   \n",
       "...          ...   ...     ...         ...         ...   \n",
       "163302     28394  0.13  28.394  126.787349  3865506580   \n",
       "163303     28502  0.13  28.502  126.306926  3865535082   \n",
       "163304     27748  0.13  27.748  129.739080  3865562830   \n",
       "163305     28453  0.13  28.453  126.524444  3865591283   \n",
       "163306     28346  0.13  28.346  127.002046  3865619629   \n",
       "\n",
       "                            dates        days  \n",
       "0      2024-03-07 01:47:19.764381  07/03/2024  \n",
       "1      2024-03-07 01:47:46.007381  07/03/2024  \n",
       "2      2024-03-07 01:48:11.892381  07/03/2024  \n",
       "3      2024-03-07 01:48:37.646381  07/03/2024  \n",
       "4      2024-03-07 01:49:03.420381  07/03/2024  \n",
       "...                           ...         ...  \n",
       "163302 2024-04-20 19:32:00.055381  20/04/2024  \n",
       "163303 2024-04-20 19:32:28.557381  20/04/2024  \n",
       "163304 2024-04-20 19:32:56.305381  20/04/2024  \n",
       "163305 2024-04-20 19:33:24.758381  20/04/2024  \n",
       "163306 2024-04-20 19:33:53.104381  20/04/2024  \n",
       "\n",
       "[163307 rows x 7 columns]"
      ]
     },
     "execution_count": 1385,
     "metadata": {},
     "output_type": "execute_result"
    }
   ],
   "source": [
    "conso_data"
   ]
  },
  {
   "cell_type": "code",
   "execution_count": 1386,
   "metadata": {},
   "outputs": [
    {
     "data": {
      "text/plain": [
       "<pandas.core.groupby.generic.DataFrameGroupBy object at 0x00000290FABE69D0>"
      ]
     },
     "execution_count": 1386,
     "metadata": {},
     "output_type": "execute_result"
    }
   ],
   "source": [
    "# group by day\n",
    "grouped = conso_data[['days','kWh']].groupby('days', sort=False)\n",
    "'''conso_graph=[]\n",
    "for name, group in grouped:\n",
    "    if name=='01/04/2024':print(group)\n",
    "    #print(\"\\n\", name, len(group)/1000)\n",
    "    conso_graph.append((name,len(group)/1000))'''\n",
    "grouped\n"
   ]
  },
  {
   "cell_type": "code",
   "execution_count": 1387,
   "metadata": {},
   "outputs": [
    {
     "data": {
      "text/html": [
       "<div>\n",
       "<style scoped>\n",
       "    .dataframe tbody tr th:only-of-type {\n",
       "        vertical-align: middle;\n",
       "    }\n",
       "\n",
       "    .dataframe tbody tr th {\n",
       "        vertical-align: top;\n",
       "    }\n",
       "\n",
       "    .dataframe thead th {\n",
       "        text-align: right;\n",
       "    }\n",
       "</style>\n",
       "<table border=\"1\" class=\"dataframe\">\n",
       "  <thead>\n",
       "    <tr style=\"text-align: right;\">\n",
       "      <th></th>\n",
       "      <th>kWh</th>\n",
       "    </tr>\n",
       "    <tr>\n",
       "      <th>days</th>\n",
       "      <th></th>\n",
       "    </tr>\n",
       "  </thead>\n",
       "  <tbody>\n",
       "    <tr>\n",
       "      <th>07/03/2024</th>\n",
       "      <td>3.143</td>\n",
       "    </tr>\n",
       "    <tr>\n",
       "      <th>08/03/2024</th>\n",
       "      <td>3.751</td>\n",
       "    </tr>\n",
       "    <tr>\n",
       "      <th>09/03/2024</th>\n",
       "      <td>3.082</td>\n",
       "    </tr>\n",
       "    <tr>\n",
       "      <th>10/03/2024</th>\n",
       "      <td>3.534</td>\n",
       "    </tr>\n",
       "    <tr>\n",
       "      <th>11/03/2024</th>\n",
       "      <td>4.545</td>\n",
       "    </tr>\n",
       "    <tr>\n",
       "      <th>12/03/2024</th>\n",
       "      <td>3.552</td>\n",
       "    </tr>\n",
       "    <tr>\n",
       "      <th>13/03/2024</th>\n",
       "      <td>3.539</td>\n",
       "    </tr>\n",
       "    <tr>\n",
       "      <th>14/03/2024</th>\n",
       "      <td>3.656</td>\n",
       "    </tr>\n",
       "    <tr>\n",
       "      <th>15/03/2024</th>\n",
       "      <td>3.563</td>\n",
       "    </tr>\n",
       "    <tr>\n",
       "      <th>16/03/2024</th>\n",
       "      <td>3.359</td>\n",
       "    </tr>\n",
       "    <tr>\n",
       "      <th>17/03/2024</th>\n",
       "      <td>3.350</td>\n",
       "    </tr>\n",
       "    <tr>\n",
       "      <th>18/03/2024</th>\n",
       "      <td>4.402</td>\n",
       "    </tr>\n",
       "    <tr>\n",
       "      <th>19/03/2024</th>\n",
       "      <td>3.508</td>\n",
       "    </tr>\n",
       "    <tr>\n",
       "      <th>20/03/2024</th>\n",
       "      <td>3.445</td>\n",
       "    </tr>\n",
       "    <tr>\n",
       "      <th>21/03/2024</th>\n",
       "      <td>3.546</td>\n",
       "    </tr>\n",
       "    <tr>\n",
       "      <th>22/03/2024</th>\n",
       "      <td>3.744</td>\n",
       "    </tr>\n",
       "    <tr>\n",
       "      <th>23/03/2024</th>\n",
       "      <td>3.527</td>\n",
       "    </tr>\n",
       "    <tr>\n",
       "      <th>24/03/2024</th>\n",
       "      <td>3.340</td>\n",
       "    </tr>\n",
       "    <tr>\n",
       "      <th>25/03/2024</th>\n",
       "      <td>3.889</td>\n",
       "    </tr>\n",
       "    <tr>\n",
       "      <th>26/03/2024</th>\n",
       "      <td>3.419</td>\n",
       "    </tr>\n",
       "    <tr>\n",
       "      <th>27/03/2024</th>\n",
       "      <td>3.474</td>\n",
       "    </tr>\n",
       "    <tr>\n",
       "      <th>28/03/2024</th>\n",
       "      <td>3.637</td>\n",
       "    </tr>\n",
       "    <tr>\n",
       "      <th>29/03/2024</th>\n",
       "      <td>3.757</td>\n",
       "    </tr>\n",
       "    <tr>\n",
       "      <th>30/03/2024</th>\n",
       "      <td>3.651</td>\n",
       "    </tr>\n",
       "    <tr>\n",
       "      <th>31/03/2024</th>\n",
       "      <td>3.832</td>\n",
       "    </tr>\n",
       "    <tr>\n",
       "      <th>01/04/2024</th>\n",
       "      <td>3.837</td>\n",
       "    </tr>\n",
       "    <tr>\n",
       "      <th>02/04/2024</th>\n",
       "      <td>3.819</td>\n",
       "    </tr>\n",
       "    <tr>\n",
       "      <th>03/04/2024</th>\n",
       "      <td>3.418</td>\n",
       "    </tr>\n",
       "    <tr>\n",
       "      <th>04/04/2024</th>\n",
       "      <td>3.477</td>\n",
       "    </tr>\n",
       "    <tr>\n",
       "      <th>05/04/2024</th>\n",
       "      <td>4.416</td>\n",
       "    </tr>\n",
       "    <tr>\n",
       "      <th>06/04/2024</th>\n",
       "      <td>3.405</td>\n",
       "    </tr>\n",
       "    <tr>\n",
       "      <th>07/04/2024</th>\n",
       "      <td>4.071</td>\n",
       "    </tr>\n",
       "    <tr>\n",
       "      <th>08/04/2024</th>\n",
       "      <td>3.779</td>\n",
       "    </tr>\n",
       "    <tr>\n",
       "      <th>09/04/2024</th>\n",
       "      <td>4.061</td>\n",
       "    </tr>\n",
       "    <tr>\n",
       "      <th>10/04/2024</th>\n",
       "      <td>3.433</td>\n",
       "    </tr>\n",
       "    <tr>\n",
       "      <th>11/04/2024</th>\n",
       "      <td>3.578</td>\n",
       "    </tr>\n",
       "    <tr>\n",
       "      <th>12/04/2024</th>\n",
       "      <td>3.447</td>\n",
       "    </tr>\n",
       "    <tr>\n",
       "      <th>13/04/2024</th>\n",
       "      <td>4.113</td>\n",
       "    </tr>\n",
       "    <tr>\n",
       "      <th>14/04/2024</th>\n",
       "      <td>3.272</td>\n",
       "    </tr>\n",
       "    <tr>\n",
       "      <th>15/04/2024</th>\n",
       "      <td>3.317</td>\n",
       "    </tr>\n",
       "    <tr>\n",
       "      <th>16/04/2024</th>\n",
       "      <td>3.701</td>\n",
       "    </tr>\n",
       "    <tr>\n",
       "      <th>17/04/2024</th>\n",
       "      <td>3.691</td>\n",
       "    </tr>\n",
       "    <tr>\n",
       "      <th>18/04/2024</th>\n",
       "      <td>4.218</td>\n",
       "    </tr>\n",
       "    <tr>\n",
       "      <th>19/04/2024</th>\n",
       "      <td>3.285</td>\n",
       "    </tr>\n",
       "    <tr>\n",
       "      <th>20/04/2024</th>\n",
       "      <td>2.724</td>\n",
       "    </tr>\n",
       "  </tbody>\n",
       "</table>\n",
       "</div>"
      ],
      "text/plain": [
       "              kWh\n",
       "days             \n",
       "07/03/2024  3.143\n",
       "08/03/2024  3.751\n",
       "09/03/2024  3.082\n",
       "10/03/2024  3.534\n",
       "11/03/2024  4.545\n",
       "12/03/2024  3.552\n",
       "13/03/2024  3.539\n",
       "14/03/2024  3.656\n",
       "15/03/2024  3.563\n",
       "16/03/2024  3.359\n",
       "17/03/2024  3.350\n",
       "18/03/2024  4.402\n",
       "19/03/2024  3.508\n",
       "20/03/2024  3.445\n",
       "21/03/2024  3.546\n",
       "22/03/2024  3.744\n",
       "23/03/2024  3.527\n",
       "24/03/2024  3.340\n",
       "25/03/2024  3.889\n",
       "26/03/2024  3.419\n",
       "27/03/2024  3.474\n",
       "28/03/2024  3.637\n",
       "29/03/2024  3.757\n",
       "30/03/2024  3.651\n",
       "31/03/2024  3.832\n",
       "01/04/2024  3.837\n",
       "02/04/2024  3.819\n",
       "03/04/2024  3.418\n",
       "04/04/2024  3.477\n",
       "05/04/2024  4.416\n",
       "06/04/2024  3.405\n",
       "07/04/2024  4.071\n",
       "08/04/2024  3.779\n",
       "09/04/2024  4.061\n",
       "10/04/2024  3.433\n",
       "11/04/2024  3.578\n",
       "12/04/2024  3.447\n",
       "13/04/2024  4.113\n",
       "14/04/2024  3.272\n",
       "15/04/2024  3.317\n",
       "16/04/2024  3.701\n",
       "17/04/2024  3.691\n",
       "18/04/2024  4.218\n",
       "19/04/2024  3.285\n",
       "20/04/2024  2.724"
      ]
     },
     "execution_count": 1387,
     "metadata": {},
     "output_type": "execute_result"
    }
   ],
   "source": [
    "# count elements in each group => conso in watts => convert to kW\n",
    "(grouped.count()/1000)"
   ]
  },
  {
   "cell_type": "code",
   "execution_count": 1388,
   "metadata": {},
   "outputs": [
    {
     "data": {
      "text/plain": [
       "kWh    0.318634\n",
       "dtype: float64"
      ]
     },
     "execution_count": 1388,
     "metadata": {},
     "output_type": "execute_result"
    }
   ],
   "source": [
    "# mean of all instant conso\n",
    "total_mean = conso_data[['kWh']].mean()\n",
    "total_mean\n"
   ]
  },
  {
   "cell_type": "code",
   "execution_count": 1389,
   "metadata": {},
   "outputs": [
    {
     "data": {
      "text/plain": [
       "kWh    3.629044\n",
       "dtype: float64"
      ]
     },
     "execution_count": 1389,
     "metadata": {},
     "output_type": "execute_result"
    }
   ],
   "source": [
    "# mean by day from 07/03\n",
    "mean=(grouped.count()/1000).mean()\n",
    "mean"
   ]
  },
  {
   "cell_type": "code",
   "execution_count": 1390,
   "metadata": {},
   "outputs": [],
   "source": [
    "filename='conso_par_jour.csv'\n",
    "df_grp = grouped.count()/1000\n",
    "df_grp.to_csv(filename)\n",
    "filename='../conso_par_jour.csv'\n",
    "df_grp.to_csv(filename)"
   ]
  },
  {
   "cell_type": "code",
   "execution_count": 1391,
   "metadata": {},
   "outputs": [
    {
     "data": {
      "text/html": [
       "<div>\n",
       "<style scoped>\n",
       "    .dataframe tbody tr th:only-of-type {\n",
       "        vertical-align: middle;\n",
       "    }\n",
       "\n",
       "    .dataframe tbody tr th {\n",
       "        vertical-align: top;\n",
       "    }\n",
       "\n",
       "    .dataframe thead th {\n",
       "        text-align: right;\n",
       "    }\n",
       "</style>\n",
       "<table border=\"1\" class=\"dataframe\">\n",
       "  <thead>\n",
       "    <tr style=\"text-align: right;\">\n",
       "      <th></th>\n",
       "      <th>kWh</th>\n",
       "    </tr>\n",
       "    <tr>\n",
       "      <th>days</th>\n",
       "      <th></th>\n",
       "    </tr>\n",
       "  </thead>\n",
       "  <tbody>\n",
       "    <tr>\n",
       "      <th>07/03/2024</th>\n",
       "      <td>3.143</td>\n",
       "    </tr>\n",
       "    <tr>\n",
       "      <th>08/03/2024</th>\n",
       "      <td>3.751</td>\n",
       "    </tr>\n",
       "    <tr>\n",
       "      <th>09/03/2024</th>\n",
       "      <td>3.082</td>\n",
       "    </tr>\n",
       "    <tr>\n",
       "      <th>10/03/2024</th>\n",
       "      <td>3.534</td>\n",
       "    </tr>\n",
       "    <tr>\n",
       "      <th>11/03/2024</th>\n",
       "      <td>4.545</td>\n",
       "    </tr>\n",
       "    <tr>\n",
       "      <th>12/03/2024</th>\n",
       "      <td>3.552</td>\n",
       "    </tr>\n",
       "    <tr>\n",
       "      <th>13/03/2024</th>\n",
       "      <td>3.539</td>\n",
       "    </tr>\n",
       "    <tr>\n",
       "      <th>14/03/2024</th>\n",
       "      <td>3.656</td>\n",
       "    </tr>\n",
       "    <tr>\n",
       "      <th>15/03/2024</th>\n",
       "      <td>3.563</td>\n",
       "    </tr>\n",
       "    <tr>\n",
       "      <th>16/03/2024</th>\n",
       "      <td>3.359</td>\n",
       "    </tr>\n",
       "    <tr>\n",
       "      <th>17/03/2024</th>\n",
       "      <td>3.350</td>\n",
       "    </tr>\n",
       "    <tr>\n",
       "      <th>18/03/2024</th>\n",
       "      <td>4.402</td>\n",
       "    </tr>\n",
       "    <tr>\n",
       "      <th>19/03/2024</th>\n",
       "      <td>3.508</td>\n",
       "    </tr>\n",
       "    <tr>\n",
       "      <th>20/03/2024</th>\n",
       "      <td>3.445</td>\n",
       "    </tr>\n",
       "    <tr>\n",
       "      <th>21/03/2024</th>\n",
       "      <td>3.546</td>\n",
       "    </tr>\n",
       "    <tr>\n",
       "      <th>22/03/2024</th>\n",
       "      <td>3.744</td>\n",
       "    </tr>\n",
       "    <tr>\n",
       "      <th>23/03/2024</th>\n",
       "      <td>3.527</td>\n",
       "    </tr>\n",
       "    <tr>\n",
       "      <th>24/03/2024</th>\n",
       "      <td>3.340</td>\n",
       "    </tr>\n",
       "    <tr>\n",
       "      <th>25/03/2024</th>\n",
       "      <td>3.889</td>\n",
       "    </tr>\n",
       "    <tr>\n",
       "      <th>26/03/2024</th>\n",
       "      <td>3.419</td>\n",
       "    </tr>\n",
       "    <tr>\n",
       "      <th>27/03/2024</th>\n",
       "      <td>3.474</td>\n",
       "    </tr>\n",
       "    <tr>\n",
       "      <th>28/03/2024</th>\n",
       "      <td>3.637</td>\n",
       "    </tr>\n",
       "    <tr>\n",
       "      <th>29/03/2024</th>\n",
       "      <td>3.757</td>\n",
       "    </tr>\n",
       "    <tr>\n",
       "      <th>30/03/2024</th>\n",
       "      <td>3.651</td>\n",
       "    </tr>\n",
       "    <tr>\n",
       "      <th>31/03/2024</th>\n",
       "      <td>3.832</td>\n",
       "    </tr>\n",
       "    <tr>\n",
       "      <th>01/04/2024</th>\n",
       "      <td>3.837</td>\n",
       "    </tr>\n",
       "    <tr>\n",
       "      <th>02/04/2024</th>\n",
       "      <td>3.819</td>\n",
       "    </tr>\n",
       "    <tr>\n",
       "      <th>03/04/2024</th>\n",
       "      <td>3.418</td>\n",
       "    </tr>\n",
       "    <tr>\n",
       "      <th>04/04/2024</th>\n",
       "      <td>3.477</td>\n",
       "    </tr>\n",
       "    <tr>\n",
       "      <th>05/04/2024</th>\n",
       "      <td>4.416</td>\n",
       "    </tr>\n",
       "    <tr>\n",
       "      <th>06/04/2024</th>\n",
       "      <td>3.405</td>\n",
       "    </tr>\n",
       "    <tr>\n",
       "      <th>07/04/2024</th>\n",
       "      <td>4.071</td>\n",
       "    </tr>\n",
       "    <tr>\n",
       "      <th>08/04/2024</th>\n",
       "      <td>3.779</td>\n",
       "    </tr>\n",
       "    <tr>\n",
       "      <th>09/04/2024</th>\n",
       "      <td>4.061</td>\n",
       "    </tr>\n",
       "    <tr>\n",
       "      <th>10/04/2024</th>\n",
       "      <td>3.433</td>\n",
       "    </tr>\n",
       "    <tr>\n",
       "      <th>11/04/2024</th>\n",
       "      <td>3.578</td>\n",
       "    </tr>\n",
       "    <tr>\n",
       "      <th>12/04/2024</th>\n",
       "      <td>3.447</td>\n",
       "    </tr>\n",
       "    <tr>\n",
       "      <th>13/04/2024</th>\n",
       "      <td>4.113</td>\n",
       "    </tr>\n",
       "    <tr>\n",
       "      <th>14/04/2024</th>\n",
       "      <td>3.272</td>\n",
       "    </tr>\n",
       "    <tr>\n",
       "      <th>15/04/2024</th>\n",
       "      <td>3.317</td>\n",
       "    </tr>\n",
       "    <tr>\n",
       "      <th>16/04/2024</th>\n",
       "      <td>3.701</td>\n",
       "    </tr>\n",
       "    <tr>\n",
       "      <th>17/04/2024</th>\n",
       "      <td>3.691</td>\n",
       "    </tr>\n",
       "    <tr>\n",
       "      <th>18/04/2024</th>\n",
       "      <td>4.218</td>\n",
       "    </tr>\n",
       "    <tr>\n",
       "      <th>19/04/2024</th>\n",
       "      <td>3.285</td>\n",
       "    </tr>\n",
       "    <tr>\n",
       "      <th>20/04/2024</th>\n",
       "      <td>2.724</td>\n",
       "    </tr>\n",
       "  </tbody>\n",
       "</table>\n",
       "</div>"
      ],
      "text/plain": [
       "              kWh\n",
       "days             \n",
       "07/03/2024  3.143\n",
       "08/03/2024  3.751\n",
       "09/03/2024  3.082\n",
       "10/03/2024  3.534\n",
       "11/03/2024  4.545\n",
       "12/03/2024  3.552\n",
       "13/03/2024  3.539\n",
       "14/03/2024  3.656\n",
       "15/03/2024  3.563\n",
       "16/03/2024  3.359\n",
       "17/03/2024  3.350\n",
       "18/03/2024  4.402\n",
       "19/03/2024  3.508\n",
       "20/03/2024  3.445\n",
       "21/03/2024  3.546\n",
       "22/03/2024  3.744\n",
       "23/03/2024  3.527\n",
       "24/03/2024  3.340\n",
       "25/03/2024  3.889\n",
       "26/03/2024  3.419\n",
       "27/03/2024  3.474\n",
       "28/03/2024  3.637\n",
       "29/03/2024  3.757\n",
       "30/03/2024  3.651\n",
       "31/03/2024  3.832\n",
       "01/04/2024  3.837\n",
       "02/04/2024  3.819\n",
       "03/04/2024  3.418\n",
       "04/04/2024  3.477\n",
       "05/04/2024  4.416\n",
       "06/04/2024  3.405\n",
       "07/04/2024  4.071\n",
       "08/04/2024  3.779\n",
       "09/04/2024  4.061\n",
       "10/04/2024  3.433\n",
       "11/04/2024  3.578\n",
       "12/04/2024  3.447\n",
       "13/04/2024  4.113\n",
       "14/04/2024  3.272\n",
       "15/04/2024  3.317\n",
       "16/04/2024  3.701\n",
       "17/04/2024  3.691\n",
       "18/04/2024  4.218\n",
       "19/04/2024  3.285\n",
       "20/04/2024  2.724"
      ]
     },
     "execution_count": 1391,
     "metadata": {},
     "output_type": "execute_result"
    }
   ],
   "source": [
    "df_grp"
   ]
  },
  {
   "cell_type": "code",
   "execution_count": 1392,
   "metadata": {},
   "outputs": [],
   "source": [
    "#manuel\n",
    "#day = '11/03/2024'\n"
   ]
  },
  {
   "cell_type": "code",
   "execution_count": 1393,
   "metadata": {},
   "outputs": [
    {
     "data": {
      "text/plain": [
       "2724"
      ]
     },
     "execution_count": 1393,
     "metadata": {},
     "output_type": "execute_result"
    }
   ],
   "source": [
    "# conso day\n",
    "conso_day = conso_data[conso_data['days']==day]\n",
    "len(conso_day)"
   ]
  },
  {
   "cell_type": "code",
   "execution_count": 1394,
   "metadata": {},
   "outputs": [
    {
     "data": {
      "text/html": [
       "<div>\n",
       "<style scoped>\n",
       "    .dataframe tbody tr th:only-of-type {\n",
       "        vertical-align: middle;\n",
       "    }\n",
       "\n",
       "    .dataframe tbody tr th {\n",
       "        vertical-align: top;\n",
       "    }\n",
       "\n",
       "    .dataframe thead th {\n",
       "        text-align: right;\n",
       "    }\n",
       "</style>\n",
       "<table border=\"1\" class=\"dataframe\">\n",
       "  <thead>\n",
       "    <tr style=\"text-align: right;\">\n",
       "      <th></th>\n",
       "      <th>Interval</th>\n",
       "      <th>kWh</th>\n",
       "      <th>sec</th>\n",
       "      <th>Wh</th>\n",
       "      <th>cumul(ms)</th>\n",
       "      <th>dates</th>\n",
       "      <th>days</th>\n",
       "    </tr>\n",
       "  </thead>\n",
       "  <tbody>\n",
       "    <tr>\n",
       "      <th>160583</th>\n",
       "      <td>29414</td>\n",
       "      <td>0.12</td>\n",
       "      <td>29.414</td>\n",
       "      <td>122.390698</td>\n",
       "      <td>3795204439</td>\n",
       "      <td>2024-04-20 00:00:17.914381</td>\n",
       "      <td>20/04/2024</td>\n",
       "    </tr>\n",
       "    <tr>\n",
       "      <th>160584</th>\n",
       "      <td>26851</td>\n",
       "      <td>0.13</td>\n",
       "      <td>26.851</td>\n",
       "      <td>134.073219</td>\n",
       "      <td>3795231290</td>\n",
       "      <td>2024-04-20 00:00:44.765381</td>\n",
       "      <td>20/04/2024</td>\n",
       "    </tr>\n",
       "    <tr>\n",
       "      <th>160585</th>\n",
       "      <td>27702</td>\n",
       "      <td>0.13</td>\n",
       "      <td>27.702</td>\n",
       "      <td>129.954516</td>\n",
       "      <td>3795258992</td>\n",
       "      <td>2024-04-20 00:01:12.467381</td>\n",
       "      <td>20/04/2024</td>\n",
       "    </tr>\n",
       "    <tr>\n",
       "      <th>160586</th>\n",
       "      <td>28276</td>\n",
       "      <td>0.13</td>\n",
       "      <td>28.276</td>\n",
       "      <td>127.316452</td>\n",
       "      <td>3795287268</td>\n",
       "      <td>2024-04-20 00:01:40.743381</td>\n",
       "      <td>20/04/2024</td>\n",
       "    </tr>\n",
       "    <tr>\n",
       "      <th>160587</th>\n",
       "      <td>28695</td>\n",
       "      <td>0.12</td>\n",
       "      <td>28.695</td>\n",
       "      <td>125.457397</td>\n",
       "      <td>3795315963</td>\n",
       "      <td>2024-04-20 00:02:09.438381</td>\n",
       "      <td>20/04/2024</td>\n",
       "    </tr>\n",
       "    <tr>\n",
       "      <th>...</th>\n",
       "      <td>...</td>\n",
       "      <td>...</td>\n",
       "      <td>...</td>\n",
       "      <td>...</td>\n",
       "      <td>...</td>\n",
       "      <td>...</td>\n",
       "      <td>...</td>\n",
       "    </tr>\n",
       "    <tr>\n",
       "      <th>163302</th>\n",
       "      <td>28394</td>\n",
       "      <td>0.13</td>\n",
       "      <td>28.394</td>\n",
       "      <td>126.787349</td>\n",
       "      <td>3865506580</td>\n",
       "      <td>2024-04-20 19:32:00.055381</td>\n",
       "      <td>20/04/2024</td>\n",
       "    </tr>\n",
       "    <tr>\n",
       "      <th>163303</th>\n",
       "      <td>28502</td>\n",
       "      <td>0.13</td>\n",
       "      <td>28.502</td>\n",
       "      <td>126.306926</td>\n",
       "      <td>3865535082</td>\n",
       "      <td>2024-04-20 19:32:28.557381</td>\n",
       "      <td>20/04/2024</td>\n",
       "    </tr>\n",
       "    <tr>\n",
       "      <th>163304</th>\n",
       "      <td>27748</td>\n",
       "      <td>0.13</td>\n",
       "      <td>27.748</td>\n",
       "      <td>129.739080</td>\n",
       "      <td>3865562830</td>\n",
       "      <td>2024-04-20 19:32:56.305381</td>\n",
       "      <td>20/04/2024</td>\n",
       "    </tr>\n",
       "    <tr>\n",
       "      <th>163305</th>\n",
       "      <td>28453</td>\n",
       "      <td>0.13</td>\n",
       "      <td>28.453</td>\n",
       "      <td>126.524444</td>\n",
       "      <td>3865591283</td>\n",
       "      <td>2024-04-20 19:33:24.758381</td>\n",
       "      <td>20/04/2024</td>\n",
       "    </tr>\n",
       "    <tr>\n",
       "      <th>163306</th>\n",
       "      <td>28346</td>\n",
       "      <td>0.13</td>\n",
       "      <td>28.346</td>\n",
       "      <td>127.002046</td>\n",
       "      <td>3865619629</td>\n",
       "      <td>2024-04-20 19:33:53.104381</td>\n",
       "      <td>20/04/2024</td>\n",
       "    </tr>\n",
       "  </tbody>\n",
       "</table>\n",
       "<p>2724 rows × 7 columns</p>\n",
       "</div>"
      ],
      "text/plain": [
       "        Interval   kWh     sec          Wh   cumul(ms)  \\\n",
       "160583     29414  0.12  29.414  122.390698  3795204439   \n",
       "160584     26851  0.13  26.851  134.073219  3795231290   \n",
       "160585     27702  0.13  27.702  129.954516  3795258992   \n",
       "160586     28276  0.13  28.276  127.316452  3795287268   \n",
       "160587     28695  0.12  28.695  125.457397  3795315963   \n",
       "...          ...   ...     ...         ...         ...   \n",
       "163302     28394  0.13  28.394  126.787349  3865506580   \n",
       "163303     28502  0.13  28.502  126.306926  3865535082   \n",
       "163304     27748  0.13  27.748  129.739080  3865562830   \n",
       "163305     28453  0.13  28.453  126.524444  3865591283   \n",
       "163306     28346  0.13  28.346  127.002046  3865619629   \n",
       "\n",
       "                            dates        days  \n",
       "160583 2024-04-20 00:00:17.914381  20/04/2024  \n",
       "160584 2024-04-20 00:00:44.765381  20/04/2024  \n",
       "160585 2024-04-20 00:01:12.467381  20/04/2024  \n",
       "160586 2024-04-20 00:01:40.743381  20/04/2024  \n",
       "160587 2024-04-20 00:02:09.438381  20/04/2024  \n",
       "...                           ...         ...  \n",
       "163302 2024-04-20 19:32:00.055381  20/04/2024  \n",
       "163303 2024-04-20 19:32:28.557381  20/04/2024  \n",
       "163304 2024-04-20 19:32:56.305381  20/04/2024  \n",
       "163305 2024-04-20 19:33:24.758381  20/04/2024  \n",
       "163306 2024-04-20 19:33:53.104381  20/04/2024  \n",
       "\n",
       "[2724 rows x 7 columns]"
      ]
     },
     "execution_count": 1394,
     "metadata": {},
     "output_type": "execute_result"
    }
   ],
   "source": [
    "conso_day"
   ]
  },
  {
   "cell_type": "code",
   "execution_count": 1395,
   "metadata": {},
   "outputs": [],
   "source": [
    "filename='conso_jour.csv'\n",
    "conso_day.to_csv(filename)\n",
    "filename='../conso_jour.csv'\n",
    "conso_day.to_csv(filename)"
   ]
  },
  {
   "cell_type": "code",
   "execution_count": 1396,
   "metadata": {},
   "outputs": [
    {
     "data": {
      "text/plain": [
       "(160583   2024-04-20 00:00:17.914381\n",
       " Name: dates, dtype: datetime64[ns],\n",
       " 163306   2024-04-20 19:33:53.104381\n",
       " Name: dates, dtype: datetime64[ns])"
      ]
     },
     "execution_count": 1396,
     "metadata": {},
     "output_type": "execute_result"
    }
   ],
   "source": [
    "conso_day.head(1).dates, conso_day.tail(1).dates\n"
   ]
  },
  {
   "cell_type": "code",
   "execution_count": 1397,
   "metadata": {},
   "outputs": [
    {
     "data": {
      "text/plain": [
       "160583   2024-04-20 00:00:17.914381\n",
       "160584   2024-04-20 00:00:44.765381\n",
       "160585   2024-04-20 00:01:12.467381\n",
       "160586   2024-04-20 00:01:40.743381\n",
       "160587   2024-04-20 00:02:09.438381\n",
       "                    ...            \n",
       "163302   2024-04-20 19:32:00.055381\n",
       "163303   2024-04-20 19:32:28.557381\n",
       "163304   2024-04-20 19:32:56.305381\n",
       "163305   2024-04-20 19:33:24.758381\n",
       "163306   2024-04-20 19:33:53.104381\n",
       "Name: dates, Length: 2724, dtype: datetime64[ns]"
      ]
     },
     "execution_count": 1397,
     "metadata": {},
     "output_type": "execute_result"
    }
   ],
   "source": [
    "conso_day.loc[:,'dates']"
   ]
  },
  {
   "cell_type": "code",
   "execution_count": 1398,
   "metadata": {},
   "outputs": [
    {
     "name": "stderr",
     "output_type": "stream",
     "text": [
      "C:\\Users\\jean\\AppData\\Local\\Temp\\ipykernel_26500\\2932063292.py:1: SettingWithCopyWarning: \n",
      "A value is trying to be set on a copy of a slice from a DataFrame.\n",
      "Try using .loc[row_indexer,col_indexer] = value instead\n",
      "\n",
      "See the caveats in the documentation: https://pandas.pydata.org/pandas-docs/stable/user_guide/indexing.html#returning-a-view-versus-a-copy\n",
      "  conso_day['heure']=conso_day.loc[:,'dates'].apply(lambda x: str(x.hour)+':'+str(x.minute) +':'+str(x.second))\n"
     ]
    },
    {
     "data": {
      "text/html": [
       "<div>\n",
       "<style scoped>\n",
       "    .dataframe tbody tr th:only-of-type {\n",
       "        vertical-align: middle;\n",
       "    }\n",
       "\n",
       "    .dataframe tbody tr th {\n",
       "        vertical-align: top;\n",
       "    }\n",
       "\n",
       "    .dataframe thead th {\n",
       "        text-align: right;\n",
       "    }\n",
       "</style>\n",
       "<table border=\"1\" class=\"dataframe\">\n",
       "  <thead>\n",
       "    <tr style=\"text-align: right;\">\n",
       "      <th></th>\n",
       "      <th>Interval</th>\n",
       "      <th>kWh</th>\n",
       "      <th>sec</th>\n",
       "      <th>Wh</th>\n",
       "      <th>cumul(ms)</th>\n",
       "      <th>dates</th>\n",
       "      <th>days</th>\n",
       "    </tr>\n",
       "    <tr>\n",
       "      <th>heure</th>\n",
       "      <th></th>\n",
       "      <th></th>\n",
       "      <th></th>\n",
       "      <th></th>\n",
       "      <th></th>\n",
       "      <th></th>\n",
       "      <th></th>\n",
       "    </tr>\n",
       "  </thead>\n",
       "  <tbody>\n",
       "    <tr>\n",
       "      <th>0:0:17</th>\n",
       "      <td>29414</td>\n",
       "      <td>0.12</td>\n",
       "      <td>29.414</td>\n",
       "      <td>122.390698</td>\n",
       "      <td>3795204439</td>\n",
       "      <td>2024-04-20 00:00:17.914381</td>\n",
       "      <td>20/04/2024</td>\n",
       "    </tr>\n",
       "    <tr>\n",
       "      <th>0:0:44</th>\n",
       "      <td>26851</td>\n",
       "      <td>0.13</td>\n",
       "      <td>26.851</td>\n",
       "      <td>134.073219</td>\n",
       "      <td>3795231290</td>\n",
       "      <td>2024-04-20 00:00:44.765381</td>\n",
       "      <td>20/04/2024</td>\n",
       "    </tr>\n",
       "    <tr>\n",
       "      <th>0:1:12</th>\n",
       "      <td>27702</td>\n",
       "      <td>0.13</td>\n",
       "      <td>27.702</td>\n",
       "      <td>129.954516</td>\n",
       "      <td>3795258992</td>\n",
       "      <td>2024-04-20 00:01:12.467381</td>\n",
       "      <td>20/04/2024</td>\n",
       "    </tr>\n",
       "    <tr>\n",
       "      <th>0:1:40</th>\n",
       "      <td>28276</td>\n",
       "      <td>0.13</td>\n",
       "      <td>28.276</td>\n",
       "      <td>127.316452</td>\n",
       "      <td>3795287268</td>\n",
       "      <td>2024-04-20 00:01:40.743381</td>\n",
       "      <td>20/04/2024</td>\n",
       "    </tr>\n",
       "    <tr>\n",
       "      <th>0:2:9</th>\n",
       "      <td>28695</td>\n",
       "      <td>0.12</td>\n",
       "      <td>28.695</td>\n",
       "      <td>125.457397</td>\n",
       "      <td>3795315963</td>\n",
       "      <td>2024-04-20 00:02:09.438381</td>\n",
       "      <td>20/04/2024</td>\n",
       "    </tr>\n",
       "    <tr>\n",
       "      <th>...</th>\n",
       "      <td>...</td>\n",
       "      <td>...</td>\n",
       "      <td>...</td>\n",
       "      <td>...</td>\n",
       "      <td>...</td>\n",
       "      <td>...</td>\n",
       "      <td>...</td>\n",
       "    </tr>\n",
       "    <tr>\n",
       "      <th>19:32:0</th>\n",
       "      <td>28394</td>\n",
       "      <td>0.13</td>\n",
       "      <td>28.394</td>\n",
       "      <td>126.787349</td>\n",
       "      <td>3865506580</td>\n",
       "      <td>2024-04-20 19:32:00.055381</td>\n",
       "      <td>20/04/2024</td>\n",
       "    </tr>\n",
       "    <tr>\n",
       "      <th>19:32:28</th>\n",
       "      <td>28502</td>\n",
       "      <td>0.13</td>\n",
       "      <td>28.502</td>\n",
       "      <td>126.306926</td>\n",
       "      <td>3865535082</td>\n",
       "      <td>2024-04-20 19:32:28.557381</td>\n",
       "      <td>20/04/2024</td>\n",
       "    </tr>\n",
       "    <tr>\n",
       "      <th>19:32:56</th>\n",
       "      <td>27748</td>\n",
       "      <td>0.13</td>\n",
       "      <td>27.748</td>\n",
       "      <td>129.739080</td>\n",
       "      <td>3865562830</td>\n",
       "      <td>2024-04-20 19:32:56.305381</td>\n",
       "      <td>20/04/2024</td>\n",
       "    </tr>\n",
       "    <tr>\n",
       "      <th>19:33:24</th>\n",
       "      <td>28453</td>\n",
       "      <td>0.13</td>\n",
       "      <td>28.453</td>\n",
       "      <td>126.524444</td>\n",
       "      <td>3865591283</td>\n",
       "      <td>2024-04-20 19:33:24.758381</td>\n",
       "      <td>20/04/2024</td>\n",
       "    </tr>\n",
       "    <tr>\n",
       "      <th>19:33:53</th>\n",
       "      <td>28346</td>\n",
       "      <td>0.13</td>\n",
       "      <td>28.346</td>\n",
       "      <td>127.002046</td>\n",
       "      <td>3865619629</td>\n",
       "      <td>2024-04-20 19:33:53.104381</td>\n",
       "      <td>20/04/2024</td>\n",
       "    </tr>\n",
       "  </tbody>\n",
       "</table>\n",
       "<p>2724 rows × 7 columns</p>\n",
       "</div>"
      ],
      "text/plain": [
       "          Interval   kWh     sec          Wh   cumul(ms)  \\\n",
       "heure                                                      \n",
       "0:0:17       29414  0.12  29.414  122.390698  3795204439   \n",
       "0:0:44       26851  0.13  26.851  134.073219  3795231290   \n",
       "0:1:12       27702  0.13  27.702  129.954516  3795258992   \n",
       "0:1:40       28276  0.13  28.276  127.316452  3795287268   \n",
       "0:2:9        28695  0.12  28.695  125.457397  3795315963   \n",
       "...            ...   ...     ...         ...         ...   \n",
       "19:32:0      28394  0.13  28.394  126.787349  3865506580   \n",
       "19:32:28     28502  0.13  28.502  126.306926  3865535082   \n",
       "19:32:56     27748  0.13  27.748  129.739080  3865562830   \n",
       "19:33:24     28453  0.13  28.453  126.524444  3865591283   \n",
       "19:33:53     28346  0.13  28.346  127.002046  3865619629   \n",
       "\n",
       "                              dates        days  \n",
       "heure                                            \n",
       "0:0:17   2024-04-20 00:00:17.914381  20/04/2024  \n",
       "0:0:44   2024-04-20 00:00:44.765381  20/04/2024  \n",
       "0:1:12   2024-04-20 00:01:12.467381  20/04/2024  \n",
       "0:1:40   2024-04-20 00:01:40.743381  20/04/2024  \n",
       "0:2:9    2024-04-20 00:02:09.438381  20/04/2024  \n",
       "...                             ...         ...  \n",
       "19:32:0  2024-04-20 19:32:00.055381  20/04/2024  \n",
       "19:32:28 2024-04-20 19:32:28.557381  20/04/2024  \n",
       "19:32:56 2024-04-20 19:32:56.305381  20/04/2024  \n",
       "19:33:24 2024-04-20 19:33:24.758381  20/04/2024  \n",
       "19:33:53 2024-04-20 19:33:53.104381  20/04/2024  \n",
       "\n",
       "[2724 rows x 7 columns]"
      ]
     },
     "execution_count": 1398,
     "metadata": {},
     "output_type": "execute_result"
    }
   ],
   "source": [
    "conso_day['heure']=conso_day.loc[:,'dates'].apply(lambda x: str(x.hour)+':'+str(x.minute) +':'+str(x.second))\n",
    "#=[x.hour for x in conso_day['dates']]\n",
    "conso_day\n",
    "df= conso_day.set_index('heure')\n",
    "df"
   ]
  },
  {
   "cell_type": "code",
   "execution_count": 1399,
   "metadata": {},
   "outputs": [
    {
     "data": {
      "text/plain": [
       "('19:33:56', 2.724)"
      ]
     },
     "execution_count": 1399,
     "metadata": {},
     "output_type": "execute_result"
    }
   ],
   "source": [
    "here = now.strftime('%H:%M:%S')\n",
    "here, len(df)/1000"
   ]
  },
  {
   "cell_type": "code",
   "execution_count": 1400,
   "metadata": {},
   "outputs": [],
   "source": [
    "conso_jour=len(df['kWh'])"
   ]
  },
  {
   "cell_type": "code",
   "execution_count": 1401,
   "metadata": {},
   "outputs": [
    {
     "data": {
      "image/png": "[encoded data removed]",
      "text/plain": [
       "<Figure size 640x480 with 1 Axes>"
      ]
     },
     "metadata": {},
     "output_type": "display_data"
    }
   ],
   "source": [
    "df_grp.plot()#kind='bar')\n",
    "plt.plot((0,len(df_grp)-1),(mean,mean))\n",
    "plt.xticks(rotation=45)\n",
    "plt.grid()\n"
   ]
  },
  {
   "cell_type": "code",
   "execution_count": 1402,
   "metadata": {},
   "outputs": [
    {
     "data": {
      "image/png": "[encoded data removed]",
      "text/plain": [
       "<Figure size 1500x700 with 1 Axes>"
      ]
     },
     "metadata": {},
     "output_type": "display_data"
    }
   ],
   "source": [
    "from matplotlib.ticker import (MultipleLocator, AutoMinorLocator)\n",
    "# consommation d'une journée entière à partir de minuit\n",
    "fig, ax = plt.subplots()\n",
    "major_ticks=300;minor_ticks=100\n",
    "ax.xaxis.set_major_locator(MultipleLocator(major_ticks))  # major ticks tous les 15 min\n",
    "ax.xaxis.set_minor_locator(MultipleLocator(minor_ticks))\n",
    "# the size of A4 paper\n",
    "fig.set_size_inches(15, 7)\n",
    "plt.plot(df['kWh'])\n",
    "#plt.plot(conso_day['heure'],conso_day['kWh'])\n",
    "plt.title(f'Journée du {day} {here} : {conso_jour/1000} kwh')\n",
    "plt.grid()"
   ]
  },
  {
   "cell_type": "code",
   "execution_count": 1403,
   "metadata": {},
   "outputs": [],
   "source": [
    "df['power']=[y for x,y in zip(df['Interval'],df['kWh'])]"
   ]
  },
  {
   "cell_type": "code",
   "execution_count": 1404,
   "metadata": {},
   "outputs": [
    {
     "data": {
      "text/plain": [
       "heure\n",
       "0:0:17      0.12\n",
       "0:0:44      0.13\n",
       "0:1:12      0.13\n",
       "0:1:40      0.13\n",
       "0:2:9       0.12\n",
       "            ... \n",
       "19:32:0     0.13\n",
       "19:32:28    0.13\n",
       "19:32:56    0.13\n",
       "19:33:24    0.13\n",
       "19:33:53    0.13\n",
       "Name: power, Length: 2724, dtype: float64"
      ]
     },
     "execution_count": 1404,
     "metadata": {},
     "output_type": "execute_result"
    }
   ],
   "source": [
    "df['power']"
   ]
  },
  {
   "cell_type": "code",
   "execution_count": 1405,
   "metadata": {},
   "outputs": [
    {
     "data": {
      "text/plain": [
       "<Axes: xlabel='heure'>"
      ]
     },
     "execution_count": 1405,
     "metadata": {},
     "output_type": "execute_result"
    },
    {
     "data": {
      "image/png": "[encoded data removed]",
      "text/plain": [
       "<Figure size 640x480 with 1 Axes>"
      ]
     },
     "metadata": {},
     "output_type": "display_data"
    }
   ],
   "source": [
    "evo=df['power'].cumsum()\n",
    "evo.plot()"
   ]
  },
  {
   "cell_type": "code",
   "execution_count": 1406,
   "metadata": {},
   "outputs": [
    {
     "data": {
      "text/plain": [
       "383"
      ]
     },
     "execution_count": 1406,
     "metadata": {},
     "output_type": "execute_result"
    },
    {
     "data": {
      "image/png": "[encoded data removed]",
      "text/plain": [
       "<Figure size 640x480 with 1 Axes>"
      ]
     },
     "metadata": {},
     "output_type": "display_data"
    }
   ],
   "source": [
    "# bouilloire, microondes, four\n",
    "filter=(.5<df['kWh'])\n",
    "pic_high = df[filter]\n",
    "pic_high['kWh'].plot()\n",
    "len(pic_high)"
   ]
  },
  {
   "cell_type": "markdown",
   "metadata": {},
   "source": []
  },
  {
   "cell_type": "code",
   "execution_count": 1407,
   "metadata": {},
   "outputs": [
    {
     "data": {
      "text/plain": [
       "1596"
      ]
     },
     "execution_count": 1407,
     "metadata": {},
     "output_type": "execute_result"
    },
    {
     "data": {
      "image/png": "[encoded data removed]",
      "text/plain": [
       "<Figure size 640x480 with 1 Axes>"
      ]
     },
     "metadata": {},
     "output_type": "display_data"
    }
   ],
   "source": [
    "# frigo, moteur volet\n",
    "pic_middle = df[(0.1<df['kWh']) & (df['kWh']<=.5)]\n",
    "pic_middle['kWh'].plot()\n",
    "len(pic_middle) # wh"
   ]
  },
  {
   "cell_type": "code",
   "execution_count": 1408,
   "metadata": {},
   "outputs": [
    {
     "data": {
      "text/plain": [
       "2341"
      ]
     },
     "execution_count": 1408,
     "metadata": {},
     "output_type": "execute_result"
    },
    {
     "data": {
      "image/png": "[encoded data removed]",
      "text/plain": [
       "<Figure size 640x480 with 1 Axes>"
      ]
     },
     "metadata": {},
     "output_type": "display_data"
    }
   ],
   "source": [
    "# pics frigo par jour\n",
    "filter = (df['kWh']<=0.5)\n",
    "pic_low = df[filter]\n",
    "pic_low['kWh'].plot()\n",
    "len(pic_low) # wh"
   ]
  },
  {
   "cell_type": "code",
   "execution_count": 1409,
   "metadata": {},
   "outputs": [
    {
     "data": {
      "text/plain": [
       "0        2024-03-07 01:47:19.764381\n",
       "1        2024-03-07 01:47:46.007381\n",
       "2        2024-03-07 01:48:11.892381\n",
       "3        2024-03-07 01:48:37.646381\n",
       "4        2024-03-07 01:49:03.420381\n",
       "                    ...            \n",
       "163302   2024-04-20 19:32:00.055381\n",
       "163303   2024-04-20 19:32:28.557381\n",
       "163304   2024-04-20 19:32:56.305381\n",
       "163305   2024-04-20 19:33:24.758381\n",
       "163306   2024-04-20 19:33:53.104381\n",
       "Name: dates, Length: 163307, dtype: datetime64[ns]"
      ]
     },
     "execution_count": 1409,
     "metadata": {},
     "output_type": "execute_result"
    }
   ],
   "source": [
    "time = conso_data['dates']\n",
    "time\n"
   ]
  },
  {
   "cell_type": "code",
   "execution_count": 1410,
   "metadata": {},
   "outputs": [],
   "source": [
    "def format_date(space=3):\n",
    "    plt.gca().xaxis.set_major_formatter(mdates.DateFormatter('%d/%m\\n%H:%M'))\n",
    "    plt.gca().xaxis.set_major_locator(mdates.HourLocator(space))\n",
    "    #plt.gca().xaxis.set_major_locator(mdates.HourLocator(interval=space))\n",
    "    plt.gcf().autofmt_xdate()\n",
    "    plt.grid()"
   ]
  },
  {
   "cell_type": "code",
   "execution_count": 1411,
   "metadata": {},
   "outputs": [],
   "source": [
    "if not old:\n",
    "    major_ticks=1/60;minor_ticks=1/240  # plus de ticks, 4 fois plus de minor\n",
    "    major_ticks=1/30;minor_ticks=1/120   # moins de ticks\n",
    "    major_ticks=1/15;minor_ticks=1/60\n",
    "    major_ticks=1/2;minor_ticks=1/8\n",
    "else:\n",
    "    major_ticks=4;minor_ticks=1   # encore moins si int\n"
   ]
  },
  {
   "cell_type": "code",
   "execution_count": 1412,
   "metadata": {},
   "outputs": [
    {
     "data": {
      "text/plain": [
       "(4, 1)"
      ]
     },
     "execution_count": 1412,
     "metadata": {},
     "output_type": "execute_result"
    }
   ],
   "source": [
    "major_ticks=4;minor_ticks=1\n",
    "major_ticks,minor_ticks"
   ]
  },
  {
   "cell_type": "markdown",
   "metadata": {},
   "source": [
    "## Main graph"
   ]
  },
  {
   "cell_type": "code",
   "execution_count": 1413,
   "metadata": {},
   "outputs": [
    {
     "data": {
      "image/png": "[encoded data removed]",
      "text/plain": [
       "<Figure size 2500x1000 with 1 Axes>"
      ]
     },
     "metadata": {},
     "output_type": "display_data"
    }
   ],
   "source": [
    "\n",
    "from matplotlib.dates import (YEARLY, DateFormatter,rrulewrapper, RRuleLocator, drange)\n",
    "\n",
    "def show_graph():\n",
    "    fig, ax = plt.subplots()\n",
    "    # the size of A4 paper\n",
    "    fig.set_size_inches(25, 10)\n",
    "\n",
    "    #plt.rcParams['axes.autolimit_mode'] = 'round_numbers'\n",
    "    \n",
    "    #formatter = DateFormatter('%d/%m\\n%H:%M:%S')\n",
    "    formatter = DateFormatter('%d/%m\\n%H:%M')\n",
    "    ax.xaxis.set_major_formatter(formatter)\n",
    "\n",
    "    # ticks sur axe des x\n",
    "    ax.xaxis.set_major_locator(MultipleLocator(major_ticks))  # major ticks tous les 15 min\n",
    "    ax.xaxis.set_minor_locator(MultipleLocator(minor_ticks))  # minor ticks tous les 5 min\n",
    "    ax.tick_params(which='both', width=3)\n",
    "    ax.tick_params(which='major', length=15, color='r')\n",
    "    ax.tick_params(which='minor', length=8, color='b')\n",
    "\n",
    "    #plt.plot(conso_data['cumul(ms)']/3600000,conso_data['Wh'])\n",
    "    plt.plot(time,conso_data['Wh'])\n",
    "    plt.ylabel('Wh')\n",
    "    plt.xlabel('Time (heures)')\n",
    "    #format_date(10)\n",
    "    for label in ax.get_xticklabels():\n",
    "        label.set_rotation(40)\n",
    "        label.set_horizontalalignment('right')\n",
    "\n",
    "    #fig.autofmt_xdate()\n",
    "    \n",
    "    plt.grid()\n",
    "    plt.show()\n",
    "show_graph()"
   ]
  },
  {
   "cell_type": "code",
   "execution_count": 1414,
   "metadata": {},
   "outputs": [
    {
     "data": {
      "text/html": [
       "<div>\n",
       "<style scoped>\n",
       "    .dataframe tbody tr th:only-of-type {\n",
       "        vertical-align: middle;\n",
       "    }\n",
       "\n",
       "    .dataframe tbody tr th {\n",
       "        vertical-align: top;\n",
       "    }\n",
       "\n",
       "    .dataframe thead th {\n",
       "        text-align: right;\n",
       "    }\n",
       "</style>\n",
       "<table border=\"1\" class=\"dataframe\">\n",
       "  <thead>\n",
       "    <tr style=\"text-align: right;\">\n",
       "      <th></th>\n",
       "      <th>Interval</th>\n",
       "      <th>kWh</th>\n",
       "      <th>sec</th>\n",
       "      <th>Wh</th>\n",
       "      <th>cumul(ms)</th>\n",
       "      <th>dates</th>\n",
       "      <th>days</th>\n",
       "    </tr>\n",
       "  </thead>\n",
       "  <tbody>\n",
       "    <tr>\n",
       "      <th>163306</th>\n",
       "      <td>28346</td>\n",
       "      <td>0.13</td>\n",
       "      <td>28.346</td>\n",
       "      <td>127.002046</td>\n",
       "      <td>3865619629</td>\n",
       "      <td>2024-04-20 19:33:53.104381</td>\n",
       "      <td>20/04/2024</td>\n",
       "    </tr>\n",
       "  </tbody>\n",
       "</table>\n",
       "</div>"
      ],
      "text/plain": [
       "        Interval   kWh     sec          Wh   cumul(ms)  \\\n",
       "163306     28346  0.13  28.346  127.002046  3865619629   \n",
       "\n",
       "                            dates        days  \n",
       "163306 2024-04-20 19:33:53.104381  20/04/2024  "
      ]
     },
     "execution_count": 1414,
     "metadata": {},
     "output_type": "execute_result"
    }
   ],
   "source": [
    "cumul_conso = len(conso_data)\n",
    "conso_data.tail(1)"
   ]
  },
  {
   "cell_type": "code",
   "execution_count": 1415,
   "metadata": {},
   "outputs": [
    {
     "data": {
      "text/plain": [
       "3865619629000"
      ]
     },
     "execution_count": 1415,
     "metadata": {},
     "output_type": "execute_result"
    }
   ],
   "source": [
    "cumtime= int(conso_data._get_value(l,'cumul(ms)')*1000)\n",
    "cumtime"
   ]
  },
  {
   "cell_type": "markdown",
   "metadata": {},
   "source": [
    "# Slice of last 1 kWh"
   ]
  },
  {
   "cell_type": "code",
   "execution_count": 1416,
   "metadata": {},
   "outputs": [
    {
     "data": {
      "text/plain": [
       "163307"
      ]
     },
     "execution_count": 1416,
     "metadata": {},
     "output_type": "execute_result"
    }
   ],
   "source": [
    "l = len(conso_data)  # total watt consommés\n",
    "l"
   ]
  },
  {
   "cell_type": "code",
   "execution_count": 1417,
   "metadata": {},
   "outputs": [
    {
     "data": {
      "text/plain": [
       "(163307, 1000)"
      ]
     },
     "execution_count": 1417,
     "metadata": {},
     "output_type": "execute_result"
    }
   ],
   "source": [
    "k = 1\n",
    "taille = k*1000  # fenetre k*1000 watt consommés\n",
    "l,taille"
   ]
  },
  {
   "cell_type": "code",
   "execution_count": 1418,
   "metadata": {},
   "outputs": [
    {
     "data": {
      "text/plain": [
       "1000"
      ]
     },
     "execution_count": 1418,
     "metadata": {},
     "output_type": "execute_result"
    }
   ],
   "source": [
    "if l<1000:\n",
    "    part = 1\n",
    "else: part = 1/2\n",
    "#taille = int(part*l)\n",
    "taille"
   ]
  },
  {
   "cell_type": "code",
   "execution_count": 1419,
   "metadata": {},
   "outputs": [
    {
     "data": {
      "text/plain": [
       "(1000,\n",
       "         Interval   kWh     sec          Wh   cumul(ms)  \\\n",
       " 162307      4714  0.76   4.714  763.682647  3843738637   \n",
       " 162308      4702  0.76   4.702  765.631646  3843743339   \n",
       " 162309      4700  0.76   4.700  765.957447  3843748039   \n",
       " 162310      4700  0.76   4.700  765.957447  3843752739   \n",
       " 162311      4698  0.77   4.698  766.283525  3843757437   \n",
       " ...          ...   ...     ...         ...         ...   \n",
       " 163302     28394  0.13  28.394  126.787349  3865506580   \n",
       " 163303     28502  0.13  28.502  126.306926  3865535082   \n",
       " 163304     27748  0.13  27.748  129.739080  3865562830   \n",
       " 163305     28453  0.13  28.453  126.524444  3865591283   \n",
       " 163306     28346  0.13  28.346  127.002046  3865619629   \n",
       " \n",
       "                             dates        days  \n",
       " 162307 2024-04-20 13:29:12.112381  20/04/2024  \n",
       " 162308 2024-04-20 13:29:16.814381  20/04/2024  \n",
       " 162309 2024-04-20 13:29:21.514381  20/04/2024  \n",
       " 162310 2024-04-20 13:29:26.214381  20/04/2024  \n",
       " 162311 2024-04-20 13:29:30.912381  20/04/2024  \n",
       " ...                           ...         ...  \n",
       " 163302 2024-04-20 19:32:00.055381  20/04/2024  \n",
       " 163303 2024-04-20 19:32:28.557381  20/04/2024  \n",
       " 163304 2024-04-20 19:32:56.305381  20/04/2024  \n",
       " 163305 2024-04-20 19:33:24.758381  20/04/2024  \n",
       " 163306 2024-04-20 19:33:53.104381  20/04/2024  \n",
       " \n",
       " [1000 rows x 7 columns])"
      ]
     },
     "execution_count": 1419,
     "metadata": {},
     "output_type": "execute_result"
    }
   ],
   "source": [
    "data = conso_data.tail(taille)\n",
    "len(data),data"
   ]
  },
  {
   "cell_type": "code",
   "execution_count": 1420,
   "metadata": {},
   "outputs": [],
   "source": [
    "now = datetime.now()\n",
    "# conso.csv dynamique\n",
    "cumtime_start= int(conso_data._get_value(l-taille+1,'cumul(ms)')*1000) # conversion microseconds\n"
   ]
  },
  {
   "cell_type": "code",
   "execution_count": 1421,
   "metadata": {},
   "outputs": [],
   "source": [
    "cumtime_end= int(data._get_value(l-1,'cumul(ms)')*1000) # conversion microseconds\n"
   ]
  },
  {
   "cell_type": "code",
   "execution_count": 1422,
   "metadata": {},
   "outputs": [
    {
     "data": {
      "text/plain": [
       "(3865619629000, 3843743339000)"
      ]
     },
     "execution_count": 1422,
     "metadata": {},
     "output_type": "execute_result"
    }
   ],
   "source": [
    "cumtime_end,cumtime_start"
   ]
  },
  {
   "cell_type": "code",
   "execution_count": 1423,
   "metadata": {},
   "outputs": [
    {
     "name": "stderr",
     "output_type": "stream",
     "text": [
      "C:\\Users\\jean\\AppData\\Roaming\\Python\\Python311\\site-packages\\IPython\\core\\displayhook.py:281: UserWarning: Output cache limit (currently 1000 entries) hit.\n",
      "Flushing oldest 200 entries.\n",
      "  warn('Output cache limit (currently {sz} entries) hit.\\n'\n"
     ]
    },
    {
     "data": {
      "text/plain": [
       "21876290000"
      ]
     },
     "execution_count": 1423,
     "metadata": {},
     "output_type": "execute_result"
    }
   ],
   "source": [
    "#last_interval = int(data._get_value(l,'Interval')*1000) # conversion microseconds\n",
    "delta_cumtime = cumtime_end - cumtime_start #+ last_interval\n",
    "delta_cumtime"
   ]
  },
  {
   "cell_type": "code",
   "execution_count": 1424,
   "metadata": {},
   "outputs": [
    {
     "data": {
      "text/plain": [
       "(datetime.datetime(2024, 4, 20, 19, 34, 5, 318666),\n",
       " datetime.datetime(2024, 4, 20, 13, 29, 29, 28666),\n",
       " '20/04/2024 19:33:53')"
      ]
     },
     "execution_count": 1424,
     "metadata": {},
     "output_type": "execute_result"
    }
   ],
   "source": [
    "\n",
    "base = now - timedelta(microseconds=delta_cumtime)\n",
    "now,base, data['dates'][l-1].strftime('%d/%m/%Y %H:%M:%S')\n"
   ]
  },
  {
   "cell_type": "code",
   "execution_count": 1425,
   "metadata": {},
   "outputs": [
    {
     "data": {
      "text/html": [
       "<div>\n",
       "<style scoped>\n",
       "    .dataframe tbody tr th:only-of-type {\n",
       "        vertical-align: middle;\n",
       "    }\n",
       "\n",
       "    .dataframe tbody tr th {\n",
       "        vertical-align: top;\n",
       "    }\n",
       "\n",
       "    .dataframe thead th {\n",
       "        text-align: right;\n",
       "    }\n",
       "</style>\n",
       "<table border=\"1\" class=\"dataframe\">\n",
       "  <thead>\n",
       "    <tr style=\"text-align: right;\">\n",
       "      <th></th>\n",
       "      <th>Interval</th>\n",
       "      <th>kWh</th>\n",
       "      <th>sec</th>\n",
       "      <th>Wh</th>\n",
       "      <th>cumul(ms)</th>\n",
       "      <th>dates</th>\n",
       "      <th>days</th>\n",
       "    </tr>\n",
       "  </thead>\n",
       "  <tbody>\n",
       "    <tr>\n",
       "      <th>0</th>\n",
       "      <td>26289</td>\n",
       "      <td>0.14</td>\n",
       "      <td>26.289</td>\n",
       "      <td>136.939404</td>\n",
       "      <td>26289</td>\n",
       "      <td>2024-03-07 01:47:19.764381</td>\n",
       "      <td>07/03/2024</td>\n",
       "    </tr>\n",
       "    <tr>\n",
       "      <th>1</th>\n",
       "      <td>26243</td>\n",
       "      <td>0.14</td>\n",
       "      <td>26.243</td>\n",
       "      <td>137.179438</td>\n",
       "      <td>52532</td>\n",
       "      <td>2024-03-07 01:47:46.007381</td>\n",
       "      <td>07/03/2024</td>\n",
       "    </tr>\n",
       "    <tr>\n",
       "      <th>2</th>\n",
       "      <td>25885</td>\n",
       "      <td>0.14</td>\n",
       "      <td>25.885</td>\n",
       "      <td>139.076685</td>\n",
       "      <td>78417</td>\n",
       "      <td>2024-03-07 01:48:11.892381</td>\n",
       "      <td>07/03/2024</td>\n",
       "    </tr>\n",
       "    <tr>\n",
       "      <th>3</th>\n",
       "      <td>25754</td>\n",
       "      <td>0.14</td>\n",
       "      <td>25.754</td>\n",
       "      <td>139.784111</td>\n",
       "      <td>104171</td>\n",
       "      <td>2024-03-07 01:48:37.646381</td>\n",
       "      <td>07/03/2024</td>\n",
       "    </tr>\n",
       "    <tr>\n",
       "      <th>4</th>\n",
       "      <td>25774</td>\n",
       "      <td>0.14</td>\n",
       "      <td>25.774</td>\n",
       "      <td>139.675642</td>\n",
       "      <td>129945</td>\n",
       "      <td>2024-03-07 01:49:03.420381</td>\n",
       "      <td>07/03/2024</td>\n",
       "    </tr>\n",
       "    <tr>\n",
       "      <th>...</th>\n",
       "      <td>...</td>\n",
       "      <td>...</td>\n",
       "      <td>...</td>\n",
       "      <td>...</td>\n",
       "      <td>...</td>\n",
       "      <td>...</td>\n",
       "      <td>...</td>\n",
       "    </tr>\n",
       "    <tr>\n",
       "      <th>163302</th>\n",
       "      <td>28394</td>\n",
       "      <td>0.13</td>\n",
       "      <td>28.394</td>\n",
       "      <td>126.787349</td>\n",
       "      <td>3865506580</td>\n",
       "      <td>2024-04-20 19:32:00.055381</td>\n",
       "      <td>20/04/2024</td>\n",
       "    </tr>\n",
       "    <tr>\n",
       "      <th>163303</th>\n",
       "      <td>28502</td>\n",
       "      <td>0.13</td>\n",
       "      <td>28.502</td>\n",
       "      <td>126.306926</td>\n",
       "      <td>3865535082</td>\n",
       "      <td>2024-04-20 19:32:28.557381</td>\n",
       "      <td>20/04/2024</td>\n",
       "    </tr>\n",
       "    <tr>\n",
       "      <th>163304</th>\n",
       "      <td>27748</td>\n",
       "      <td>0.13</td>\n",
       "      <td>27.748</td>\n",
       "      <td>129.739080</td>\n",
       "      <td>3865562830</td>\n",
       "      <td>2024-04-20 19:32:56.305381</td>\n",
       "      <td>20/04/2024</td>\n",
       "    </tr>\n",
       "    <tr>\n",
       "      <th>163305</th>\n",
       "      <td>28453</td>\n",
       "      <td>0.13</td>\n",
       "      <td>28.453</td>\n",
       "      <td>126.524444</td>\n",
       "      <td>3865591283</td>\n",
       "      <td>2024-04-20 19:33:24.758381</td>\n",
       "      <td>20/04/2024</td>\n",
       "    </tr>\n",
       "    <tr>\n",
       "      <th>163306</th>\n",
       "      <td>28346</td>\n",
       "      <td>0.13</td>\n",
       "      <td>28.346</td>\n",
       "      <td>127.002046</td>\n",
       "      <td>3865619629</td>\n",
       "      <td>2024-04-20 19:33:53.104381</td>\n",
       "      <td>20/04/2024</td>\n",
       "    </tr>\n",
       "  </tbody>\n",
       "</table>\n",
       "<p>163307 rows × 7 columns</p>\n",
       "</div>"
      ],
      "text/plain": [
       "        Interval   kWh     sec          Wh   cumul(ms)  \\\n",
       "0          26289  0.14  26.289  136.939404       26289   \n",
       "1          26243  0.14  26.243  137.179438       52532   \n",
       "2          25885  0.14  25.885  139.076685       78417   \n",
       "3          25754  0.14  25.754  139.784111      104171   \n",
       "4          25774  0.14  25.774  139.675642      129945   \n",
       "...          ...   ...     ...         ...         ...   \n",
       "163302     28394  0.13  28.394  126.787349  3865506580   \n",
       "163303     28502  0.13  28.502  126.306926  3865535082   \n",
       "163304     27748  0.13  27.748  129.739080  3865562830   \n",
       "163305     28453  0.13  28.453  126.524444  3865591283   \n",
       "163306     28346  0.13  28.346  127.002046  3865619629   \n",
       "\n",
       "                            dates        days  \n",
       "0      2024-03-07 01:47:19.764381  07/03/2024  \n",
       "1      2024-03-07 01:47:46.007381  07/03/2024  \n",
       "2      2024-03-07 01:48:11.892381  07/03/2024  \n",
       "3      2024-03-07 01:48:37.646381  07/03/2024  \n",
       "4      2024-03-07 01:49:03.420381  07/03/2024  \n",
       "...                           ...         ...  \n",
       "163302 2024-04-20 19:32:00.055381  20/04/2024  \n",
       "163303 2024-04-20 19:32:28.557381  20/04/2024  \n",
       "163304 2024-04-20 19:32:56.305381  20/04/2024  \n",
       "163305 2024-04-20 19:33:24.758381  20/04/2024  \n",
       "163306 2024-04-20 19:33:53.104381  20/04/2024  \n",
       "\n",
       "[163307 rows x 7 columns]"
      ]
     },
     "execution_count": 1425,
     "metadata": {},
     "output_type": "execute_result"
    }
   ],
   "source": [
    "conso_data"
   ]
  },
  {
   "cell_type": "code",
   "execution_count": 1426,
   "metadata": {},
   "outputs": [
    {
     "data": {
      "text/plain": [
       "('20/04/2024 13:29:16', '20/04/2024 19:33:53')"
      ]
     },
     "execution_count": 1426,
     "metadata": {},
     "output_type": "execute_result"
    }
   ],
   "source": [
    "end = conso_data['dates'][l-1].strftime('%d/%m/%Y %H:%M:%S')\n",
    "start = conso_data['dates'][l-taille+1].strftime('%d/%m/%Y %H:%M:%S')\n",
    "start,end"
   ]
  },
  {
   "cell_type": "code",
   "execution_count": 1427,
   "metadata": {},
   "outputs": [
    {
     "data": {
      "text/plain": [
       "('2024-04-20 13:29:12.112381', '2024-04-20 19:33:53.104381')"
      ]
     },
     "execution_count": 1427,
     "metadata": {},
     "output_type": "execute_result"
    }
   ],
   "source": [
    "data.head(1)['dates'].to_string(index=False),data.tail(1)['dates'].to_string(index=False)"
   ]
  },
  {
   "cell_type": "code",
   "execution_count": 1428,
   "metadata": {},
   "outputs": [
    {
     "data": {
      "text/plain": [
       "1"
      ]
     },
     "execution_count": 1428,
     "metadata": {},
     "output_type": "execute_result"
    }
   ],
   "source": [
    "k"
   ]
  },
  {
   "cell_type": "code",
   "execution_count": 1429,
   "metadata": {},
   "outputs": [
    {
     "data": {
      "text/plain": [
       "162307     4714\n",
       "162308     4702\n",
       "162309     4700\n",
       "162310     4700\n",
       "162311     4698\n",
       "          ...  \n",
       "163302    28394\n",
       "163303    28502\n",
       "163304    27748\n",
       "163305    28453\n",
       "163306    28346\n",
       "Name: Interval, Length: 1000, dtype: int64"
      ]
     },
     "execution_count": 1429,
     "metadata": {},
     "output_type": "execute_result"
    }
   ],
   "source": [
    "data.Interval.tail(1000)"
   ]
  },
  {
   "cell_type": "code",
   "execution_count": 1430,
   "metadata": {},
   "outputs": [
    {
     "data": {
      "text/plain": [
       "(6.079362777777779, 3.9477821734423366, 6, 4, 45)"
      ]
     },
     "execution_count": 1430,
     "metadata": {},
     "output_type": "execute_result"
    }
   ],
   "source": [
    "conversion_us_heure = 1/1000/60/60 \n",
    "temps_1kWh = sum(data.Interval.tail(1000))*conversion_us_heure  #somme 1000 interval = temps conso 1 kWh\n",
    "conso_jour = 24/temps_1kWh\n",
    "heure = int(temps_1kWh)\n",
    "mn = (temps_1kWh - heure)*60\n",
    "sec = (mn - int(mn))*60\n",
    "temps_1kWh, conso_jour,heure,int(mn),int(sec)"
   ]
  },
  {
   "cell_type": "code",
   "execution_count": 1431,
   "metadata": {},
   "outputs": [
    {
     "name": "stderr",
     "output_type": "stream",
     "text": [
      "C:\\Users\\jean\\AppData\\Local\\Temp\\ipykernel_26500\\3458501435.py:1: SettingWithCopyWarning: \n",
      "A value is trying to be set on a copy of a slice from a DataFrame.\n",
      "Try using .loc[row_indexer,col_indexer] = value instead\n",
      "\n",
      "See the caveats in the documentation: https://pandas.pydata.org/pandas-docs/stable/user_guide/indexing.html#returning-a-view-versus-a-copy\n",
      "  data['heure']=conso_data['dates']#.strftime('%d/%m/%Y %H:%M:%S')\n"
     ]
    }
   ],
   "source": [
    "data['heure']=conso_data['dates']#.strftime('%d/%m/%Y %H:%M:%S')"
   ]
  },
  {
   "cell_type": "code",
   "execution_count": 1432,
   "metadata": {},
   "outputs": [
    {
     "data": {
      "text/html": [
       "<div>\n",
       "<style scoped>\n",
       "    .dataframe tbody tr th:only-of-type {\n",
       "        vertical-align: middle;\n",
       "    }\n",
       "\n",
       "    .dataframe tbody tr th {\n",
       "        vertical-align: top;\n",
       "    }\n",
       "\n",
       "    .dataframe thead th {\n",
       "        text-align: right;\n",
       "    }\n",
       "</style>\n",
       "<table border=\"1\" class=\"dataframe\">\n",
       "  <thead>\n",
       "    <tr style=\"text-align: right;\">\n",
       "      <th></th>\n",
       "      <th>Interval</th>\n",
       "      <th>kWh</th>\n",
       "      <th>sec</th>\n",
       "      <th>Wh</th>\n",
       "      <th>cumul(ms)</th>\n",
       "      <th>dates</th>\n",
       "      <th>days</th>\n",
       "      <th>heure</th>\n",
       "    </tr>\n",
       "  </thead>\n",
       "  <tbody>\n",
       "    <tr>\n",
       "      <th>162307</th>\n",
       "      <td>4714</td>\n",
       "      <td>0.76</td>\n",
       "      <td>4.714</td>\n",
       "      <td>763.682647</td>\n",
       "      <td>3843738637</td>\n",
       "      <td>2024-04-20 13:29:12.112381</td>\n",
       "      <td>20/04/2024</td>\n",
       "      <td>2024-04-20 13:29:12.112381</td>\n",
       "    </tr>\n",
       "    <tr>\n",
       "      <th>162308</th>\n",
       "      <td>4702</td>\n",
       "      <td>0.76</td>\n",
       "      <td>4.702</td>\n",
       "      <td>765.631646</td>\n",
       "      <td>3843743339</td>\n",
       "      <td>2024-04-20 13:29:16.814381</td>\n",
       "      <td>20/04/2024</td>\n",
       "      <td>2024-04-20 13:29:16.814381</td>\n",
       "    </tr>\n",
       "    <tr>\n",
       "      <th>162309</th>\n",
       "      <td>4700</td>\n",
       "      <td>0.76</td>\n",
       "      <td>4.700</td>\n",
       "      <td>765.957447</td>\n",
       "      <td>3843748039</td>\n",
       "      <td>2024-04-20 13:29:21.514381</td>\n",
       "      <td>20/04/2024</td>\n",
       "      <td>2024-04-20 13:29:21.514381</td>\n",
       "    </tr>\n",
       "    <tr>\n",
       "      <th>162310</th>\n",
       "      <td>4700</td>\n",
       "      <td>0.76</td>\n",
       "      <td>4.700</td>\n",
       "      <td>765.957447</td>\n",
       "      <td>3843752739</td>\n",
       "      <td>2024-04-20 13:29:26.214381</td>\n",
       "      <td>20/04/2024</td>\n",
       "      <td>2024-04-20 13:29:26.214381</td>\n",
       "    </tr>\n",
       "    <tr>\n",
       "      <th>162311</th>\n",
       "      <td>4698</td>\n",
       "      <td>0.77</td>\n",
       "      <td>4.698</td>\n",
       "      <td>766.283525</td>\n",
       "      <td>3843757437</td>\n",
       "      <td>2024-04-20 13:29:30.912381</td>\n",
       "      <td>20/04/2024</td>\n",
       "      <td>2024-04-20 13:29:30.912381</td>\n",
       "    </tr>\n",
       "    <tr>\n",
       "      <th>...</th>\n",
       "      <td>...</td>\n",
       "      <td>...</td>\n",
       "      <td>...</td>\n",
       "      <td>...</td>\n",
       "      <td>...</td>\n",
       "      <td>...</td>\n",
       "      <td>...</td>\n",
       "      <td>...</td>\n",
       "    </tr>\n",
       "    <tr>\n",
       "      <th>163302</th>\n",
       "      <td>28394</td>\n",
       "      <td>0.13</td>\n",
       "      <td>28.394</td>\n",
       "      <td>126.787349</td>\n",
       "      <td>3865506580</td>\n",
       "      <td>2024-04-20 19:32:00.055381</td>\n",
       "      <td>20/04/2024</td>\n",
       "      <td>2024-04-20 19:32:00.055381</td>\n",
       "    </tr>\n",
       "    <tr>\n",
       "      <th>163303</th>\n",
       "      <td>28502</td>\n",
       "      <td>0.13</td>\n",
       "      <td>28.502</td>\n",
       "      <td>126.306926</td>\n",
       "      <td>3865535082</td>\n",
       "      <td>2024-04-20 19:32:28.557381</td>\n",
       "      <td>20/04/2024</td>\n",
       "      <td>2024-04-20 19:32:28.557381</td>\n",
       "    </tr>\n",
       "    <tr>\n",
       "      <th>163304</th>\n",
       "      <td>27748</td>\n",
       "      <td>0.13</td>\n",
       "      <td>27.748</td>\n",
       "      <td>129.739080</td>\n",
       "      <td>3865562830</td>\n",
       "      <td>2024-04-20 19:32:56.305381</td>\n",
       "      <td>20/04/2024</td>\n",
       "      <td>2024-04-20 19:32:56.305381</td>\n",
       "    </tr>\n",
       "    <tr>\n",
       "      <th>163305</th>\n",
       "      <td>28453</td>\n",
       "      <td>0.13</td>\n",
       "      <td>28.453</td>\n",
       "      <td>126.524444</td>\n",
       "      <td>3865591283</td>\n",
       "      <td>2024-04-20 19:33:24.758381</td>\n",
       "      <td>20/04/2024</td>\n",
       "      <td>2024-04-20 19:33:24.758381</td>\n",
       "    </tr>\n",
       "    <tr>\n",
       "      <th>163306</th>\n",
       "      <td>28346</td>\n",
       "      <td>0.13</td>\n",
       "      <td>28.346</td>\n",
       "      <td>127.002046</td>\n",
       "      <td>3865619629</td>\n",
       "      <td>2024-04-20 19:33:53.104381</td>\n",
       "      <td>20/04/2024</td>\n",
       "      <td>2024-04-20 19:33:53.104381</td>\n",
       "    </tr>\n",
       "  </tbody>\n",
       "</table>\n",
       "<p>1000 rows × 8 columns</p>\n",
       "</div>"
      ],
      "text/plain": [
       "        Interval   kWh     sec          Wh   cumul(ms)  \\\n",
       "162307      4714  0.76   4.714  763.682647  3843738637   \n",
       "162308      4702  0.76   4.702  765.631646  3843743339   \n",
       "162309      4700  0.76   4.700  765.957447  3843748039   \n",
       "162310      4700  0.76   4.700  765.957447  3843752739   \n",
       "162311      4698  0.77   4.698  766.283525  3843757437   \n",
       "...          ...   ...     ...         ...         ...   \n",
       "163302     28394  0.13  28.394  126.787349  3865506580   \n",
       "163303     28502  0.13  28.502  126.306926  3865535082   \n",
       "163304     27748  0.13  27.748  129.739080  3865562830   \n",
       "163305     28453  0.13  28.453  126.524444  3865591283   \n",
       "163306     28346  0.13  28.346  127.002046  3865619629   \n",
       "\n",
       "                            dates        days                      heure  \n",
       "162307 2024-04-20 13:29:12.112381  20/04/2024 2024-04-20 13:29:12.112381  \n",
       "162308 2024-04-20 13:29:16.814381  20/04/2024 2024-04-20 13:29:16.814381  \n",
       "162309 2024-04-20 13:29:21.514381  20/04/2024 2024-04-20 13:29:21.514381  \n",
       "162310 2024-04-20 13:29:26.214381  20/04/2024 2024-04-20 13:29:26.214381  \n",
       "162311 2024-04-20 13:29:30.912381  20/04/2024 2024-04-20 13:29:30.912381  \n",
       "...                           ...         ...                        ...  \n",
       "163302 2024-04-20 19:32:00.055381  20/04/2024 2024-04-20 19:32:00.055381  \n",
       "163303 2024-04-20 19:32:28.557381  20/04/2024 2024-04-20 19:32:28.557381  \n",
       "163304 2024-04-20 19:32:56.305381  20/04/2024 2024-04-20 19:32:56.305381  \n",
       "163305 2024-04-20 19:33:24.758381  20/04/2024 2024-04-20 19:33:24.758381  \n",
       "163306 2024-04-20 19:33:53.104381  20/04/2024 2024-04-20 19:33:53.104381  \n",
       "\n",
       "[1000 rows x 8 columns]"
      ]
     },
     "execution_count": 1432,
     "metadata": {},
     "output_type": "execute_result"
    }
   ],
   "source": [
    "data"
   ]
  },
  {
   "cell_type": "code",
   "execution_count": 1433,
   "metadata": {},
   "outputs": [
    {
     "data": {
      "text/plain": [
       "<Axes: >"
      ]
     },
     "execution_count": 1433,
     "metadata": {},
     "output_type": "execute_result"
    },
    {
     "data": {
      "image/png": "[encoded data removed]",
      "text/plain": [
       "<Figure size 640x480 with 1 Axes>"
      ]
     },
     "metadata": {},
     "output_type": "display_data"
    }
   ],
   "source": [
    "#data.tail(600)['Wh'].plot()\n",
    "data['Wh'].plot()"
   ]
  },
  {
   "cell_type": "code",
   "execution_count": 1434,
   "metadata": {},
   "outputs": [
    {
     "data": {
      "text/plain": [
       "162307    763.682647\n",
       "162308    765.631646\n",
       "162309    765.957447\n",
       "162310    765.957447\n",
       "162311    766.283525\n",
       "             ...    \n",
       "163302    126.787349\n",
       "163303    126.306926\n",
       "163304    129.739080\n",
       "163305    126.524444\n",
       "163306    127.002046\n",
       "Name: Wh, Length: 1000, dtype: float64"
      ]
     },
     "execution_count": 1434,
     "metadata": {},
     "output_type": "execute_result"
    }
   ],
   "source": [
    "data['Wh']"
   ]
  },
  {
   "cell_type": "markdown",
   "metadata": {},
   "source": [
    "# k kW window graph"
   ]
  },
  {
   "cell_type": "code",
   "execution_count": 1435,
   "metadata": {},
   "outputs": [
    {
     "data": {
      "image/png": "[encoded data removed]",
      "text/plain": [
       "<Figure size 1500x800 with 1 Axes>"
      ]
     },
     "metadata": {},
     "output_type": "display_data"
    }
   ],
   "source": [
    "fig, ax = plt.subplots()\n",
    "# the size of A4 paper\n",
    "fig.set_size_inches(15, 8)\n",
    "\n",
    "formatter = DateFormatter('%d/%m\\n%H:%M')\n",
    "ax.xaxis.set_major_formatter(formatter)\n",
    "\n",
    "# ticks sur axe des x\n",
    "major_ticks=1/30;minor_ticks=1/360\n",
    "ax.xaxis.set_major_locator(MultipleLocator(major_ticks))  # 1 major tick tous les 48 min\n",
    "ax.xaxis.set_minor_locator(MultipleLocator(minor_ticks))  # 1 minor ticks tous les 4 min\n",
    "ax.tick_params(which='both', width=3)\n",
    "ax.tick_params(which='major', length=15, color='r')\n",
    "ax.tick_params(which='minor', length=8, color='b')\n",
    "\n",
    "plt.title(f'Consommation {k} kW (Temps: {heure} heures {int(mn)} minutes {int(sec)} secondes)\\nDe {start} à {end}')\n",
    "plt.plot(data['dates'],data['Wh'])\n",
    "plt.ylabel('Wh')\n",
    "plt.xlabel('Time (heures)')\n",
    "plt.grid()\n"
   ]
  },
  {
   "cell_type": "code",
   "execution_count": 1436,
   "metadata": {},
   "outputs": [
    {
     "data": {
      "text/plain": [
       "<Axes: ylabel='Frequency'>"
      ]
     },
     "execution_count": 1436,
     "metadata": {},
     "output_type": "execute_result"
    },
    {
     "data": {
      "image/png": "[encoded data removed]",
      "text/plain": [
       "<Figure size 640x480 with 1 Axes>"
      ]
     },
     "metadata": {},
     "output_type": "display_data"
    }
   ],
   "source": [
    "data.kWh.plot.hist(bins=50,rwidth=0.8,grid=True)\n"
   ]
  },
  {
   "cell_type": "code",
   "execution_count": 1437,
   "metadata": {},
   "outputs": [
    {
     "data": {
      "text/html": [
       "<div>\n",
       "<style scoped>\n",
       "    .dataframe tbody tr th:only-of-type {\n",
       "        vertical-align: middle;\n",
       "    }\n",
       "\n",
       "    .dataframe tbody tr th {\n",
       "        vertical-align: top;\n",
       "    }\n",
       "\n",
       "    .dataframe thead th {\n",
       "        text-align: right;\n",
       "    }\n",
       "</style>\n",
       "<table border=\"1\" class=\"dataframe\">\n",
       "  <thead>\n",
       "    <tr style=\"text-align: right;\">\n",
       "      <th></th>\n",
       "      <th>Interval</th>\n",
       "      <th>kWh</th>\n",
       "      <th>sec</th>\n",
       "      <th>Wh</th>\n",
       "      <th>cumul(ms)</th>\n",
       "      <th>dates</th>\n",
       "      <th>days</th>\n",
       "    </tr>\n",
       "  </thead>\n",
       "  <tbody>\n",
       "    <tr>\n",
       "      <th>163302</th>\n",
       "      <td>28394</td>\n",
       "      <td>0.13</td>\n",
       "      <td>28.394</td>\n",
       "      <td>126.787349</td>\n",
       "      <td>3865506580</td>\n",
       "      <td>2024-04-20 19:32:00.055381</td>\n",
       "      <td>20/04/2024</td>\n",
       "    </tr>\n",
       "    <tr>\n",
       "      <th>163303</th>\n",
       "      <td>28502</td>\n",
       "      <td>0.13</td>\n",
       "      <td>28.502</td>\n",
       "      <td>126.306926</td>\n",
       "      <td>3865535082</td>\n",
       "      <td>2024-04-20 19:32:28.557381</td>\n",
       "      <td>20/04/2024</td>\n",
       "    </tr>\n",
       "    <tr>\n",
       "      <th>163304</th>\n",
       "      <td>27748</td>\n",
       "      <td>0.13</td>\n",
       "      <td>27.748</td>\n",
       "      <td>129.739080</td>\n",
       "      <td>3865562830</td>\n",
       "      <td>2024-04-20 19:32:56.305381</td>\n",
       "      <td>20/04/2024</td>\n",
       "    </tr>\n",
       "    <tr>\n",
       "      <th>163305</th>\n",
       "      <td>28453</td>\n",
       "      <td>0.13</td>\n",
       "      <td>28.453</td>\n",
       "      <td>126.524444</td>\n",
       "      <td>3865591283</td>\n",
       "      <td>2024-04-20 19:33:24.758381</td>\n",
       "      <td>20/04/2024</td>\n",
       "    </tr>\n",
       "    <tr>\n",
       "      <th>163306</th>\n",
       "      <td>28346</td>\n",
       "      <td>0.13</td>\n",
       "      <td>28.346</td>\n",
       "      <td>127.002046</td>\n",
       "      <td>3865619629</td>\n",
       "      <td>2024-04-20 19:33:53.104381</td>\n",
       "      <td>20/04/2024</td>\n",
       "    </tr>\n",
       "  </tbody>\n",
       "</table>\n",
       "</div>"
      ],
      "text/plain": [
       "        Interval   kWh     sec          Wh   cumul(ms)  \\\n",
       "163302     28394  0.13  28.394  126.787349  3865506580   \n",
       "163303     28502  0.13  28.502  126.306926  3865535082   \n",
       "163304     27748  0.13  27.748  129.739080  3865562830   \n",
       "163305     28453  0.13  28.453  126.524444  3865591283   \n",
       "163306     28346  0.13  28.346  127.002046  3865619629   \n",
       "\n",
       "                            dates        days  \n",
       "163302 2024-04-20 19:32:00.055381  20/04/2024  \n",
       "163303 2024-04-20 19:32:28.557381  20/04/2024  \n",
       "163304 2024-04-20 19:32:56.305381  20/04/2024  \n",
       "163305 2024-04-20 19:33:24.758381  20/04/2024  \n",
       "163306 2024-04-20 19:33:53.104381  20/04/2024  "
      ]
     },
     "execution_count": 1437,
     "metadata": {},
     "output_type": "execute_result"
    }
   ],
   "source": [
    "conso_data.tail()"
   ]
  },
  {
   "cell_type": "code",
   "execution_count": 1438,
   "metadata": {},
   "outputs": [
    {
     "data": {
      "image/png": "[encoded data removed]",
      "text/plain": [
       "<Figure size 640x480 with 1 Axes>"
      ]
     },
     "metadata": {},
     "output_type": "display_data"
    }
   ],
   "source": [
    "conso_data.tail(1000)['kWh'].plot()\n",
    "plt.grid()"
   ]
  },
  {
   "cell_type": "code",
   "execution_count": 1439,
   "metadata": {},
   "outputs": [
    {
     "data": {
      "text/plain": [
       "(3865619629000.0, 64426.99381666667)"
      ]
     },
     "execution_count": 1439,
     "metadata": {},
     "output_type": "execute_result"
    }
   ],
   "source": [
    "#plt.plot(conso_data['sec'])\n",
    "now = dt.datetime.now()\n",
    "last_cumul = np.array(conso_data['cumul(ms)'].tail(1))[0]*1000.0  # us\n",
    "last_cumul, last_cumul/60e6  # min"
   ]
  },
  {
   "cell_type": "code",
   "execution_count": 1440,
   "metadata": {},
   "outputs": [
    {
     "data": {
      "text/plain": [
       "(datetime.datetime(2024, 4, 20, 19, 34, 11, 5976),\n",
       " datetime.datetime(2024, 3, 7, 1, 47, 11, 376976))"
      ]
     },
     "execution_count": 1440,
     "metadata": {},
     "output_type": "execute_result"
    }
   ],
   "source": [
    "begin = now - dt.timedelta(microseconds=last_cumul)  #2023, 6, 24, 9, 14, (39, 942895) approximatif\n",
    "now, begin"
   ]
  },
  {
   "cell_type": "code",
   "execution_count": 1441,
   "metadata": {},
   "outputs": [
    {
     "data": {
      "text/plain": [
       "(163307, 3865620, 1073.7833333333333)"
      ]
     },
     "execution_count": 1441,
     "metadata": {},
     "output_type": "execute_result"
    }
   ],
   "source": [
    "x = mdates.drange(begin,now,dt.timedelta(microseconds=1000000))  # seconds\n",
    "len(conso_data),len(x),len(x)/3600"
   ]
  },
  {
   "cell_type": "code",
   "execution_count": 1442,
   "metadata": {},
   "outputs": [],
   "source": [
    "def format_date(space=3):\n",
    "    plt.gca().xaxis.set_major_formatter(mdates.DateFormatter('%d/%m\\n%H:%M'))\n",
    "    plt.gca().xaxis.set_major_locator(mdates.HourLocator(space))\n",
    "    plt.gca().xaxis.set_major_locator(mdates.HourLocator(interval=space))\n",
    "    plt.gcf().autofmt_xdate()\n",
    "    plt.grid()"
   ]
  },
  {
   "cell_type": "code",
   "execution_count": 1443,
   "metadata": {},
   "outputs": [
    {
     "data": {
      "text/plain": [
       "732"
      ]
     },
     "execution_count": 1443,
     "metadata": {},
     "output_type": "execute_result"
    }
   ],
   "source": [
    "import numpy as np\n",
    "import datetime as dt\n",
    "import matplotlib.pyplot as plt\n",
    "base = dt.datetime(2005, 2, 1)\n",
    "dates = [base + dt.timedelta(hours=(2 * i)) for i in range(732)]\n",
    "N = len(dates)\n",
    "N\n"
   ]
  },
  {
   "cell_type": "code",
   "execution_count": 1444,
   "metadata": {},
   "outputs": [
    {
     "data": {
      "text/plain": [
       "61.0"
      ]
     },
     "execution_count": 1444,
     "metadata": {},
     "output_type": "execute_result"
    }
   ],
   "source": [
    "732/12 # 60 jours"
   ]
  },
  {
   "cell_type": "code",
   "execution_count": 1445,
   "metadata": {},
   "outputs": [
    {
     "data": {
      "text/plain": [
       "(datetime.datetime(2005, 2, 1, 0, 0), datetime.datetime(2005, 4, 2, 22, 0))"
      ]
     },
     "execution_count": 1445,
     "metadata": {},
     "output_type": "execute_result"
    }
   ],
   "source": [
    "dates[0],dates[-1]"
   ]
  },
  {
   "cell_type": "code",
   "execution_count": 1446,
   "metadata": {},
   "outputs": [
    {
     "data": {
      "image/png": "[encoded data removed]",
      "text/plain": [
       "<Figure size 600x600 with 3 Axes>"
      ]
     },
     "metadata": {},
     "output_type": "display_data"
    }
   ],
   "source": [
    "np.random.seed(19680801)\n",
    "y = np.cumsum(np.random.randn(N))\n",
    "\n",
    "fig, axs = plt.subplots(3, 1, layout='constrained', figsize=(6, 6))\n",
    "lims = [(np.datetime64('2005-02'), np.datetime64('2005-04')),\n",
    "        (np.datetime64('2005-02-03'), np.datetime64('2005-02-15')),\n",
    "        (np.datetime64('2005-02-03 11:00'), np.datetime64('2005-02-04 13:20'))]\n",
    "for nn, ax in enumerate(axs):\n",
    "    ax.plot(dates, y)\n",
    "    ax.set_xlim(lims[nn])\n",
    "    # rotate_labels...\n",
    "    for label in ax.get_xticklabels():\n",
    "        label.set_rotation(40)\n",
    "        label.set_horizontalalignment('right')\n",
    "axs[0].set_title('Default Date Formatter')\n",
    "plt.show()"
   ]
  },
  {
   "cell_type": "code",
   "execution_count": 1447,
   "metadata": {},
   "outputs": [
    {
     "data": {
      "text/plain": [
       "datetime.datetime(2005, 4, 2, 22, 0)"
      ]
     },
     "execution_count": 1447,
     "metadata": {},
     "output_type": "execute_result"
    }
   ],
   "source": [
    "t = dt.datetime(2005, 4, 2, 22, 0)\n",
    "t"
   ]
  }
 ],
 "metadata": {
  "kernelspec": {
   "display_name": "Python 3",
   "language": "python",
   "name": "python3"
  },
  "language_info": {
   "codemirror_mode": {
    "name": "ipython",
    "version": 3
   },
   "file_extension": ".py",
   "mimetype": "text/x-python",
   "name": "python",
   "nbconvert_exporter": "python",
   "pygments_lexer": "ipython3",
   "version": "3.11.4"
  },
  "orig_nbformat": 4
 },
 "nbformat": 4,
 "nbformat_minor": 2
}
