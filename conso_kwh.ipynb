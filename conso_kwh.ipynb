{
 "cells": [
  {
   "cell_type": "code",
   "execution_count": 62,
   "metadata": {},
   "outputs": [],
   "source": [
    "import pandas as pd\n",
    "import numpy as np\n",
    "import matplotlib.pyplot as plt\n",
    "import matplotlib.dates as mdates\n",
    "import matplotlib.ticker as ticker\n",
    "from matplotlib.axis import Axis\n",
    "import datetime as dt\n",
    "\n",
    "#plt.style.use(['science', 'notebook'])\n",
    "#%matplotlib inline\n"
   ]
  },
  {
   "cell_type": "code",
   "execution_count": 63,
   "metadata": {},
   "outputs": [],
   "source": [
    "data_file = \"conso.txt\""
   ]
  },
  {
   "cell_type": "code",
   "execution_count": 64,
   "metadata": {},
   "outputs": [],
   "source": [
    "def read_text(filename):\n",
    "    f = open(filename, \"r\")\n",
    "    text = f.readlines()\n",
    "    f.close()\n",
    "    print(text)\n",
    "\n",
    "def save_text(filename):\n",
    "    f = open(filename, \"w\")\n",
    "    f.write(text)\n",
    "    f.close()\n",
    "\n",
    "\n",
    "#read_text(data_file)\n",
    "def get_data(filename):    \n",
    "    data = pd.read_csv(filename)\n",
    "    #data['time'] = pd.to_datetime(data['time'])  #.dt.tz_convert(None)\n",
    "    #data.info()\n",
    "    #print(data.tail(5))\n",
    "    return data\n"
   ]
  },
  {
   "cell_type": "code",
   "execution_count": 65,
   "metadata": {},
   "outputs": [],
   "source": [
    "text='test'\n",
    "filename='text.txt'\n",
    "#save_text(filename)"
   ]
  },
  {
   "cell_type": "code",
   "execution_count": 66,
   "metadata": {},
   "outputs": [
    {
     "name": "stdout",
     "output_type": "stream",
     "text": [
      "<class 'pandas.core.frame.DataFrame'>\n",
      "RangeIndex: 1013 entries, 0 to 1012\n",
      "Data columns (total 1 columns):\n",
      " #   Column  Non-Null Count  Dtype  \n",
      "---  ------  --------------  -----  \n",
      " 0   Conso   1013 non-null   float64\n",
      "dtypes: float64(1)\n",
      "memory usage: 8.0 KB\n"
     ]
    }
   ],
   "source": [
    "# read data with pandas\n",
    "data = get_data(data_file)\n",
    "data.info()\n"
   ]
  },
  {
   "cell_type": "code",
   "execution_count": 67,
   "metadata": {},
   "outputs": [
    {
     "data": {
      "text/html": [
       "<div>\n",
       "<style scoped>\n",
       "    .dataframe tbody tr th:only-of-type {\n",
       "        vertical-align: middle;\n",
       "    }\n",
       "\n",
       "    .dataframe tbody tr th {\n",
       "        vertical-align: top;\n",
       "    }\n",
       "\n",
       "    .dataframe thead th {\n",
       "        text-align: right;\n",
       "    }\n",
       "</style>\n",
       "<table border=\"1\" class=\"dataframe\">\n",
       "  <thead>\n",
       "    <tr style=\"text-align: right;\">\n",
       "      <th></th>\n",
       "      <th>Conso</th>\n",
       "      <th>interval</th>\n",
       "    </tr>\n",
       "  </thead>\n",
       "  <tbody>\n",
       "    <tr>\n",
       "      <th>0</th>\n",
       "      <td>0.19</td>\n",
       "      <td>18947.368421</td>\n",
       "    </tr>\n",
       "    <tr>\n",
       "      <th>1</th>\n",
       "      <td>0.19</td>\n",
       "      <td>18947.368421</td>\n",
       "    </tr>\n",
       "    <tr>\n",
       "      <th>2</th>\n",
       "      <td>0.19</td>\n",
       "      <td>18947.368421</td>\n",
       "    </tr>\n",
       "    <tr>\n",
       "      <th>3</th>\n",
       "      <td>0.19</td>\n",
       "      <td>18947.368421</td>\n",
       "    </tr>\n",
       "    <tr>\n",
       "      <th>4</th>\n",
       "      <td>0.19</td>\n",
       "      <td>18947.368421</td>\n",
       "    </tr>\n",
       "    <tr>\n",
       "      <th>...</th>\n",
       "      <td>...</td>\n",
       "      <td>...</td>\n",
       "    </tr>\n",
       "    <tr>\n",
       "      <th>1008</th>\n",
       "      <td>0.16</td>\n",
       "      <td>22500.000000</td>\n",
       "    </tr>\n",
       "    <tr>\n",
       "      <th>1009</th>\n",
       "      <td>0.16</td>\n",
       "      <td>22500.000000</td>\n",
       "    </tr>\n",
       "    <tr>\n",
       "      <th>1010</th>\n",
       "      <td>0.17</td>\n",
       "      <td>21176.470588</td>\n",
       "    </tr>\n",
       "    <tr>\n",
       "      <th>1011</th>\n",
       "      <td>0.17</td>\n",
       "      <td>21176.470588</td>\n",
       "    </tr>\n",
       "    <tr>\n",
       "      <th>1012</th>\n",
       "      <td>0.16</td>\n",
       "      <td>22500.000000</td>\n",
       "    </tr>\n",
       "  </tbody>\n",
       "</table>\n",
       "<p>1013 rows × 2 columns</p>\n",
       "</div>"
      ],
      "text/plain": [
       "      Conso      interval\n",
       "0      0.19  18947.368421\n",
       "1      0.19  18947.368421\n",
       "2      0.19  18947.368421\n",
       "3      0.19  18947.368421\n",
       "4      0.19  18947.368421\n",
       "...     ...           ...\n",
       "1008   0.16  22500.000000\n",
       "1009   0.16  22500.000000\n",
       "1010   0.17  21176.470588\n",
       "1011   0.17  21176.470588\n",
       "1012   0.16  22500.000000\n",
       "\n",
       "[1013 rows x 2 columns]"
      ]
     },
     "execution_count": 67,
     "metadata": {},
     "output_type": "execute_result"
    }
   ],
   "source": [
    "data['interval']=3600/data['Conso']\n",
    "data"
   ]
  },
  {
   "cell_type": "code",
   "execution_count": 68,
   "metadata": {},
   "outputs": [
    {
     "data": {
      "image/png": "[encoded data removed]",
      "text/plain": [
       "<Figure size 640x480 with 1 Axes>"
      ]
     },
     "metadata": {},
     "output_type": "display_data"
    },
    {
     "data": {
      "text/plain": [
       "<matplotlib.legend.Legend at 0x28f12981150>"
      ]
     },
     "execution_count": 68,
     "metadata": {},
     "output_type": "execute_result"
    },
    {
     "data": {
      "image/png": "[encoded data removed]",
      "text/plain": [
       "<Figure size 640x480 with 1 Axes>"
      ]
     },
     "metadata": {},
     "output_type": "display_data"
    }
   ],
   "source": [
    "\n",
    "plt.title('Consommation Linky')\n",
    "plt.plot(data['interval'], color='red',label='Interval')\n",
    "plt.grid()\n",
    "plt.legend()\n",
    "plt.show()\n",
    "plt.plot(data['Conso'], color='red',label='Conso')\n",
    "plt.grid()\n",
    "plt.legend()"
   ]
  },
  {
   "attachments": {},
   "cell_type": "markdown",
   "metadata": {},
   "source": [
    "### conso.csv sur WD6TB mis à jour avec PI4"
   ]
  },
  {
   "cell_type": "code",
   "execution_count": 69,
   "metadata": {},
   "outputs": [],
   "source": [
    "def get_data2(filename):    \n",
    "    data = pd.read_csv(filename, names=[\"Interval\",\"kWh\"])\n",
    "    return data"
   ]
  },
  {
   "cell_type": "code",
   "execution_count": 70,
   "metadata": {},
   "outputs": [
    {
     "name": "stdout",
     "output_type": "stream",
     "text": [
      "<class 'pandas.core.frame.DataFrame'>\n",
      "RangeIndex: 126886 entries, 0 to 126885\n",
      "Data columns (total 2 columns):\n",
      " #   Column    Non-Null Count   Dtype  \n",
      "---  ------    --------------   -----  \n",
      " 0   Interval  126886 non-null  int64  \n",
      " 1   kWh       126886 non-null  float64\n",
      "dtypes: float64(1), int64(1)\n",
      "memory usage: 1.9 MB\n"
     ]
    }
   ],
   "source": [
    "old = False\n",
    "\n",
    "if old:\n",
    "    #conso_file = r\"C:\\Users\\jean\\Documents\\conso.csv\"\n",
    "    conso_file = r\"Y:\\Documents\\conso_old.csv\"\n",
    "    conso_file = r\"Y:\\Documents\\conso - Copy (2).csv\"\n",
    "else:\n",
    "    conso_file = r\"Y:\\Documents\\conso.csv\"\n",
    "#old = False\n",
    "conso_data = get_data2(conso_file)\n",
    "conso_data.info()\n"
   ]
  },
  {
   "cell_type": "code",
   "execution_count": 71,
   "metadata": {},
   "outputs": [
    {
     "data": {
      "text/html": [
       "<div>\n",
       "<style scoped>\n",
       "    .dataframe tbody tr th:only-of-type {\n",
       "        vertical-align: middle;\n",
       "    }\n",
       "\n",
       "    .dataframe tbody tr th {\n",
       "        vertical-align: top;\n",
       "    }\n",
       "\n",
       "    .dataframe thead th {\n",
       "        text-align: right;\n",
       "    }\n",
       "</style>\n",
       "<table border=\"1\" class=\"dataframe\">\n",
       "  <thead>\n",
       "    <tr style=\"text-align: right;\">\n",
       "      <th></th>\n",
       "      <th>Interval</th>\n",
       "      <th>kWh</th>\n",
       "    </tr>\n",
       "  </thead>\n",
       "  <tbody>\n",
       "    <tr>\n",
       "      <th>0</th>\n",
       "      <td>26289</td>\n",
       "      <td>0.14</td>\n",
       "    </tr>\n",
       "    <tr>\n",
       "      <th>1</th>\n",
       "      <td>26243</td>\n",
       "      <td>0.14</td>\n",
       "    </tr>\n",
       "    <tr>\n",
       "      <th>2</th>\n",
       "      <td>25885</td>\n",
       "      <td>0.14</td>\n",
       "    </tr>\n",
       "    <tr>\n",
       "      <th>3</th>\n",
       "      <td>25754</td>\n",
       "      <td>0.14</td>\n",
       "    </tr>\n",
       "    <tr>\n",
       "      <th>4</th>\n",
       "      <td>25774</td>\n",
       "      <td>0.14</td>\n",
       "    </tr>\n",
       "    <tr>\n",
       "      <th>...</th>\n",
       "      <td>...</td>\n",
       "      <td>...</td>\n",
       "    </tr>\n",
       "    <tr>\n",
       "      <th>126881</th>\n",
       "      <td>33818</td>\n",
       "      <td>0.11</td>\n",
       "    </tr>\n",
       "    <tr>\n",
       "      <th>126882</th>\n",
       "      <td>33775</td>\n",
       "      <td>0.11</td>\n",
       "    </tr>\n",
       "    <tr>\n",
       "      <th>126883</th>\n",
       "      <td>33619</td>\n",
       "      <td>0.11</td>\n",
       "    </tr>\n",
       "    <tr>\n",
       "      <th>126884</th>\n",
       "      <td>28486</td>\n",
       "      <td>0.13</td>\n",
       "    </tr>\n",
       "    <tr>\n",
       "      <th>126885</th>\n",
       "      <td>25350</td>\n",
       "      <td>0.14</td>\n",
       "    </tr>\n",
       "  </tbody>\n",
       "</table>\n",
       "<p>126886 rows × 2 columns</p>\n",
       "</div>"
      ],
      "text/plain": [
       "        Interval   kWh\n",
       "0          26289  0.14\n",
       "1          26243  0.14\n",
       "2          25885  0.14\n",
       "3          25754  0.14\n",
       "4          25774  0.14\n",
       "...          ...   ...\n",
       "126881     33818  0.11\n",
       "126882     33775  0.11\n",
       "126883     33619  0.11\n",
       "126884     28486  0.13\n",
       "126885     25350  0.14\n",
       "\n",
       "[126886 rows x 2 columns]"
      ]
     },
     "execution_count": 71,
     "metadata": {},
     "output_type": "execute_result"
    }
   ],
   "source": [
    "conso_data = conso_data.dropna()\n",
    "conso_data"
   ]
  },
  {
   "cell_type": "code",
   "execution_count": 72,
   "metadata": {},
   "outputs": [
    {
     "data": {
      "text/plain": [
       "<Axes: >"
      ]
     },
     "execution_count": 72,
     "metadata": {},
     "output_type": "execute_result"
    },
    {
     "data": {
      "image/png": "[encoded data removed]",
      "text/plain": [
       "<Figure size 640x480 with 1 Axes>"
      ]
     },
     "metadata": {},
     "output_type": "display_data"
    }
   ],
   "source": [
    "conso_data['kWh'].plot()"
   ]
  },
  {
   "cell_type": "code",
   "execution_count": 73,
   "metadata": {},
   "outputs": [
    {
     "data": {
      "text/html": [
       "<div>\n",
       "<style scoped>\n",
       "    .dataframe tbody tr th:only-of-type {\n",
       "        vertical-align: middle;\n",
       "    }\n",
       "\n",
       "    .dataframe tbody tr th {\n",
       "        vertical-align: top;\n",
       "    }\n",
       "\n",
       "    .dataframe thead th {\n",
       "        text-align: right;\n",
       "    }\n",
       "</style>\n",
       "<table border=\"1\" class=\"dataframe\">\n",
       "  <thead>\n",
       "    <tr style=\"text-align: right;\">\n",
       "      <th></th>\n",
       "      <th>Interval</th>\n",
       "      <th>kWh</th>\n",
       "      <th>sec</th>\n",
       "      <th>Wh</th>\n",
       "      <th>cumul(ms)</th>\n",
       "    </tr>\n",
       "  </thead>\n",
       "  <tbody>\n",
       "    <tr>\n",
       "      <th>0</th>\n",
       "      <td>26289</td>\n",
       "      <td>0.14</td>\n",
       "      <td>26.289</td>\n",
       "      <td>136.939404</td>\n",
       "      <td>26289</td>\n",
       "    </tr>\n",
       "    <tr>\n",
       "      <th>1</th>\n",
       "      <td>26243</td>\n",
       "      <td>0.14</td>\n",
       "      <td>26.243</td>\n",
       "      <td>137.179438</td>\n",
       "      <td>52532</td>\n",
       "    </tr>\n",
       "    <tr>\n",
       "      <th>2</th>\n",
       "      <td>25885</td>\n",
       "      <td>0.14</td>\n",
       "      <td>25.885</td>\n",
       "      <td>139.076685</td>\n",
       "      <td>78417</td>\n",
       "    </tr>\n",
       "    <tr>\n",
       "      <th>3</th>\n",
       "      <td>25754</td>\n",
       "      <td>0.14</td>\n",
       "      <td>25.754</td>\n",
       "      <td>139.784111</td>\n",
       "      <td>104171</td>\n",
       "    </tr>\n",
       "    <tr>\n",
       "      <th>4</th>\n",
       "      <td>25774</td>\n",
       "      <td>0.14</td>\n",
       "      <td>25.774</td>\n",
       "      <td>139.675642</td>\n",
       "      <td>129945</td>\n",
       "    </tr>\n",
       "    <tr>\n",
       "      <th>...</th>\n",
       "      <td>...</td>\n",
       "      <td>...</td>\n",
       "      <td>...</td>\n",
       "      <td>...</td>\n",
       "      <td>...</td>\n",
       "    </tr>\n",
       "    <tr>\n",
       "      <th>126881</th>\n",
       "      <td>33818</td>\n",
       "      <td>0.11</td>\n",
       "      <td>33.818</td>\n",
       "      <td>106.452185</td>\n",
       "      <td>2993837024</td>\n",
       "    </tr>\n",
       "    <tr>\n",
       "      <th>126882</th>\n",
       "      <td>33775</td>\n",
       "      <td>0.11</td>\n",
       "      <td>33.775</td>\n",
       "      <td>106.587713</td>\n",
       "      <td>2993870799</td>\n",
       "    </tr>\n",
       "    <tr>\n",
       "      <th>126883</th>\n",
       "      <td>33619</td>\n",
       "      <td>0.11</td>\n",
       "      <td>33.619</td>\n",
       "      <td>107.082305</td>\n",
       "      <td>2993904418</td>\n",
       "    </tr>\n",
       "    <tr>\n",
       "      <th>126884</th>\n",
       "      <td>28486</td>\n",
       "      <td>0.13</td>\n",
       "      <td>28.486</td>\n",
       "      <td>126.377870</td>\n",
       "      <td>2993932904</td>\n",
       "    </tr>\n",
       "    <tr>\n",
       "      <th>126885</th>\n",
       "      <td>25350</td>\n",
       "      <td>0.14</td>\n",
       "      <td>25.350</td>\n",
       "      <td>142.011834</td>\n",
       "      <td>2993958254</td>\n",
       "    </tr>\n",
       "  </tbody>\n",
       "</table>\n",
       "<p>126886 rows × 5 columns</p>\n",
       "</div>"
      ],
      "text/plain": [
       "        Interval   kWh     sec          Wh   cumul(ms)\n",
       "0          26289  0.14  26.289  136.939404       26289\n",
       "1          26243  0.14  26.243  137.179438       52532\n",
       "2          25885  0.14  25.885  139.076685       78417\n",
       "3          25754  0.14  25.754  139.784111      104171\n",
       "4          25774  0.14  25.774  139.675642      129945\n",
       "...          ...   ...     ...         ...         ...\n",
       "126881     33818  0.11  33.818  106.452185  2993837024\n",
       "126882     33775  0.11  33.775  106.587713  2993870799\n",
       "126883     33619  0.11  33.619  107.082305  2993904418\n",
       "126884     28486  0.13  28.486  126.377870  2993932904\n",
       "126885     25350  0.14  25.350  142.011834  2993958254\n",
       "\n",
       "[126886 rows x 5 columns]"
      ]
     },
     "execution_count": 73,
     "metadata": {},
     "output_type": "execute_result"
    }
   ],
   "source": [
    "conso_data['sec']=conso_data['Interval']/1000\n",
    "conso_data['Wh']=3600000/conso_data['Interval']\n",
    "conso_data['cumul(ms)']=conso_data['Interval'].cumsum(axis=0)\n",
    "\n",
    "conso_data"
   ]
  },
  {
   "cell_type": "code",
   "execution_count": 74,
   "metadata": {},
   "outputs": [
    {
     "data": {
      "text/plain": [
       "126885"
      ]
     },
     "execution_count": 74,
     "metadata": {},
     "output_type": "execute_result"
    }
   ],
   "source": [
    "# index dernier echantillon\n",
    "l=len(conso_data)-1\n",
    "l"
   ]
  },
  {
   "cell_type": "code",
   "execution_count": 75,
   "metadata": {},
   "outputs": [
    {
     "data": {
      "text/plain": [
       "2993958254000"
      ]
     },
     "execution_count": 75,
     "metadata": {},
     "output_type": "execute_result"
    }
   ],
   "source": [
    "# cumtime = int(conso_data['cumul(ms)'].tail(1).values[0]*1000)\n",
    "cumtime= int(conso_data._get_value(l,'cumul(ms)')*1000)\n",
    "cumtime"
   ]
  },
  {
   "cell_type": "code",
   "execution_count": 76,
   "metadata": {},
   "outputs": [
    {
     "data": {
      "text/plain": [
       "datetime.datetime(2024, 3, 7, 1, 40, 41, 438)"
      ]
     },
     "execution_count": 76,
     "metadata": {},
     "output_type": "execute_result"
    }
   ],
   "source": [
    "from datetime import datetime, timedelta\n",
    "now = datetime.now()\n",
    "# conso.csv dynamique\n",
    "base = now - timedelta(microseconds=cumtime)\n",
    "base  # date de début\n"
   ]
  },
  {
   "cell_type": "code",
   "execution_count": 77,
   "metadata": {},
   "outputs": [
    {
     "data": {
      "text/plain": [
       "False"
      ]
     },
     "execution_count": 77,
     "metadata": {},
     "output_type": "execute_result"
    }
   ],
   "source": [
    "old"
   ]
  },
  {
   "cell_type": "code",
   "execution_count": 78,
   "metadata": {},
   "outputs": [
    {
     "name": "stdout",
     "output_type": "stream",
     "text": [
      "<class 'pandas.core.frame.DataFrame'>\n",
      "RangeIndex: 126886 entries, 0 to 126885\n",
      "Data columns (total 6 columns):\n",
      " #   Column     Non-Null Count   Dtype         \n",
      "---  ------     --------------   -----         \n",
      " 0   Interval   126886 non-null  int64         \n",
      " 1   kWh        126886 non-null  float64       \n",
      " 2   sec        126886 non-null  float64       \n",
      " 3   Wh         126886 non-null  float64       \n",
      " 4   cumul(ms)  126886 non-null  int64         \n",
      " 5   dates      126886 non-null  datetime64[ns]\n",
      "dtypes: datetime64[ns](1), float64(3), int64(2)\n",
      "memory usage: 5.8 MB\n"
     ]
    }
   ],
   "source": [
    "if old:\n",
    "    base = dt.datetime(2023, 8, 1, 10, 45, 0) - timedelta(microseconds=cumtime)\n",
    "\n",
    "conso_data['dates'] = [base + dt.timedelta(microseconds=t*1000) for t in conso_data['cumul(ms)']]\n",
    "conso_data.info()\n"
   ]
  },
  {
   "cell_type": "code",
   "execution_count": 79,
   "metadata": {},
   "outputs": [
    {
     "data": {
      "text/html": [
       "<div>\n",
       "<style scoped>\n",
       "    .dataframe tbody tr th:only-of-type {\n",
       "        vertical-align: middle;\n",
       "    }\n",
       "\n",
       "    .dataframe tbody tr th {\n",
       "        vertical-align: top;\n",
       "    }\n",
       "\n",
       "    .dataframe thead th {\n",
       "        text-align: right;\n",
       "    }\n",
       "</style>\n",
       "<table border=\"1\" class=\"dataframe\">\n",
       "  <thead>\n",
       "    <tr style=\"text-align: right;\">\n",
       "      <th></th>\n",
       "      <th>Interval</th>\n",
       "      <th>kWh</th>\n",
       "      <th>sec</th>\n",
       "      <th>Wh</th>\n",
       "      <th>cumul(ms)</th>\n",
       "      <th>dates</th>\n",
       "      <th>days</th>\n",
       "    </tr>\n",
       "  </thead>\n",
       "  <tbody>\n",
       "    <tr>\n",
       "      <th>0</th>\n",
       "      <td>26289</td>\n",
       "      <td>0.14</td>\n",
       "      <td>26.289</td>\n",
       "      <td>136.939404</td>\n",
       "      <td>26289</td>\n",
       "      <td>2024-03-07 01:41:07.289438</td>\n",
       "      <td>07/03/2024</td>\n",
       "    </tr>\n",
       "    <tr>\n",
       "      <th>1</th>\n",
       "      <td>26243</td>\n",
       "      <td>0.14</td>\n",
       "      <td>26.243</td>\n",
       "      <td>137.179438</td>\n",
       "      <td>52532</td>\n",
       "      <td>2024-03-07 01:41:33.532438</td>\n",
       "      <td>07/03/2024</td>\n",
       "    </tr>\n",
       "    <tr>\n",
       "      <th>2</th>\n",
       "      <td>25885</td>\n",
       "      <td>0.14</td>\n",
       "      <td>25.885</td>\n",
       "      <td>139.076685</td>\n",
       "      <td>78417</td>\n",
       "      <td>2024-03-07 01:41:59.417438</td>\n",
       "      <td>07/03/2024</td>\n",
       "    </tr>\n",
       "    <tr>\n",
       "      <th>3</th>\n",
       "      <td>25754</td>\n",
       "      <td>0.14</td>\n",
       "      <td>25.754</td>\n",
       "      <td>139.784111</td>\n",
       "      <td>104171</td>\n",
       "      <td>2024-03-07 01:42:25.171438</td>\n",
       "      <td>07/03/2024</td>\n",
       "    </tr>\n",
       "    <tr>\n",
       "      <th>4</th>\n",
       "      <td>25774</td>\n",
       "      <td>0.14</td>\n",
       "      <td>25.774</td>\n",
       "      <td>139.675642</td>\n",
       "      <td>129945</td>\n",
       "      <td>2024-03-07 01:42:50.945438</td>\n",
       "      <td>07/03/2024</td>\n",
       "    </tr>\n",
       "    <tr>\n",
       "      <th>...</th>\n",
       "      <td>...</td>\n",
       "      <td>...</td>\n",
       "      <td>...</td>\n",
       "      <td>...</td>\n",
       "      <td>...</td>\n",
       "      <td>...</td>\n",
       "      <td>...</td>\n",
       "    </tr>\n",
       "    <tr>\n",
       "      <th>126881</th>\n",
       "      <td>33818</td>\n",
       "      <td>0.11</td>\n",
       "      <td>33.818</td>\n",
       "      <td>106.452185</td>\n",
       "      <td>2993837024</td>\n",
       "      <td>2024-04-10 17:17:58.024438</td>\n",
       "      <td>10/04/2024</td>\n",
       "    </tr>\n",
       "    <tr>\n",
       "      <th>126882</th>\n",
       "      <td>33775</td>\n",
       "      <td>0.11</td>\n",
       "      <td>33.775</td>\n",
       "      <td>106.587713</td>\n",
       "      <td>2993870799</td>\n",
       "      <td>2024-04-10 17:18:31.799438</td>\n",
       "      <td>10/04/2024</td>\n",
       "    </tr>\n",
       "    <tr>\n",
       "      <th>126883</th>\n",
       "      <td>33619</td>\n",
       "      <td>0.11</td>\n",
       "      <td>33.619</td>\n",
       "      <td>107.082305</td>\n",
       "      <td>2993904418</td>\n",
       "      <td>2024-04-10 17:19:05.418438</td>\n",
       "      <td>10/04/2024</td>\n",
       "    </tr>\n",
       "    <tr>\n",
       "      <th>126884</th>\n",
       "      <td>28486</td>\n",
       "      <td>0.13</td>\n",
       "      <td>28.486</td>\n",
       "      <td>126.377870</td>\n",
       "      <td>2993932904</td>\n",
       "      <td>2024-04-10 17:19:33.904438</td>\n",
       "      <td>10/04/2024</td>\n",
       "    </tr>\n",
       "    <tr>\n",
       "      <th>126885</th>\n",
       "      <td>25350</td>\n",
       "      <td>0.14</td>\n",
       "      <td>25.350</td>\n",
       "      <td>142.011834</td>\n",
       "      <td>2993958254</td>\n",
       "      <td>2024-04-10 17:19:59.254438</td>\n",
       "      <td>10/04/2024</td>\n",
       "    </tr>\n",
       "  </tbody>\n",
       "</table>\n",
       "<p>126886 rows × 7 columns</p>\n",
       "</div>"
      ],
      "text/plain": [
       "        Interval   kWh     sec          Wh   cumul(ms)  \\\n",
       "0          26289  0.14  26.289  136.939404       26289   \n",
       "1          26243  0.14  26.243  137.179438       52532   \n",
       "2          25885  0.14  25.885  139.076685       78417   \n",
       "3          25754  0.14  25.754  139.784111      104171   \n",
       "4          25774  0.14  25.774  139.675642      129945   \n",
       "...          ...   ...     ...         ...         ...   \n",
       "126881     33818  0.11  33.818  106.452185  2993837024   \n",
       "126882     33775  0.11  33.775  106.587713  2993870799   \n",
       "126883     33619  0.11  33.619  107.082305  2993904418   \n",
       "126884     28486  0.13  28.486  126.377870  2993932904   \n",
       "126885     25350  0.14  25.350  142.011834  2993958254   \n",
       "\n",
       "                            dates        days  \n",
       "0      2024-03-07 01:41:07.289438  07/03/2024  \n",
       "1      2024-03-07 01:41:33.532438  07/03/2024  \n",
       "2      2024-03-07 01:41:59.417438  07/03/2024  \n",
       "3      2024-03-07 01:42:25.171438  07/03/2024  \n",
       "4      2024-03-07 01:42:50.945438  07/03/2024  \n",
       "...                           ...         ...  \n",
       "126881 2024-04-10 17:17:58.024438  10/04/2024  \n",
       "126882 2024-04-10 17:18:31.799438  10/04/2024  \n",
       "126883 2024-04-10 17:19:05.418438  10/04/2024  \n",
       "126884 2024-04-10 17:19:33.904438  10/04/2024  \n",
       "126885 2024-04-10 17:19:59.254438  10/04/2024  \n",
       "\n",
       "[126886 rows x 7 columns]"
      ]
     },
     "execution_count": 79,
     "metadata": {},
     "output_type": "execute_result"
    }
   ],
   "source": [
    "conso_data['days']= [d.strftime('%d/%m/%Y') for d in conso_data['dates']]    #[str(d.month)+'-'+str(d.day) for d in conso_data['dates']]\n",
    "conso_data"
   ]
  },
  {
   "cell_type": "code",
   "execution_count": 80,
   "metadata": {},
   "outputs": [
    {
     "data": {
      "text/plain": [
       "(   Interval   kWh     sec          Wh  cumul(ms)                      dates  \\\n",
       " 0     26289  0.14  26.289  136.939404      26289 2024-03-07 01:41:07.289438   \n",
       " \n",
       "          days  \n",
       " 0  07/03/2024  ,\n",
       "         Interval   kWh    sec          Wh   cumul(ms)  \\\n",
       " 126885     25350  0.14  25.35  142.011834  2993958254   \n",
       " \n",
       "                             dates        days  \n",
       " 126885 2024-04-10 17:19:59.254438  10/04/2024  )"
      ]
     },
     "execution_count": 80,
     "metadata": {},
     "output_type": "execute_result"
    }
   ],
   "source": [
    "#conso_data\n",
    "conso_data.head(1),conso_data.tail(1)"
   ]
  },
  {
   "cell_type": "code",
   "execution_count": 81,
   "metadata": {},
   "outputs": [
    {
     "data": {
      "text/plain": [
       "('10/04/2024', 4, 2024)"
      ]
     },
     "execution_count": 81,
     "metadata": {},
     "output_type": "execute_result"
    }
   ],
   "source": [
    "# tranche journalière\n",
    "now = datetime.now()\n",
    "month = now.month\n",
    "year = now.year\n",
    "day = now.strftime('%d/%m/%Y')    #str(now.month)+'-'+str(now.day)\n",
    "day, month, year"
   ]
  },
  {
   "cell_type": "code",
   "execution_count": 82,
   "metadata": {},
   "outputs": [
    {
     "data": {
      "text/html": [
       "<div>\n",
       "<style scoped>\n",
       "    .dataframe tbody tr th:only-of-type {\n",
       "        vertical-align: middle;\n",
       "    }\n",
       "\n",
       "    .dataframe tbody tr th {\n",
       "        vertical-align: top;\n",
       "    }\n",
       "\n",
       "    .dataframe thead th {\n",
       "        text-align: right;\n",
       "    }\n",
       "</style>\n",
       "<table border=\"1\" class=\"dataframe\">\n",
       "  <thead>\n",
       "    <tr style=\"text-align: right;\">\n",
       "      <th></th>\n",
       "      <th>Interval</th>\n",
       "      <th>kWh</th>\n",
       "      <th>sec</th>\n",
       "      <th>Wh</th>\n",
       "      <th>cumul(ms)</th>\n",
       "      <th>dates</th>\n",
       "      <th>days</th>\n",
       "    </tr>\n",
       "  </thead>\n",
       "  <tbody>\n",
       "    <tr>\n",
       "      <th>124541</th>\n",
       "      <td>29818</td>\n",
       "      <td>0.12</td>\n",
       "      <td>29.818</td>\n",
       "      <td>120.732443</td>\n",
       "      <td>2931569438</td>\n",
       "      <td>2024-04-10 00:00:10.438438</td>\n",
       "      <td>10/04/2024</td>\n",
       "    </tr>\n",
       "    <tr>\n",
       "      <th>124542</th>\n",
       "      <td>30479</td>\n",
       "      <td>0.12</td>\n",
       "      <td>30.479</td>\n",
       "      <td>118.114111</td>\n",
       "      <td>2931599917</td>\n",
       "      <td>2024-04-10 00:00:40.917438</td>\n",
       "      <td>10/04/2024</td>\n",
       "    </tr>\n",
       "    <tr>\n",
       "      <th>124543</th>\n",
       "      <td>34231</td>\n",
       "      <td>0.10</td>\n",
       "      <td>34.231</td>\n",
       "      <td>105.167830</td>\n",
       "      <td>2931634148</td>\n",
       "      <td>2024-04-10 00:01:15.148438</td>\n",
       "      <td>10/04/2024</td>\n",
       "    </tr>\n",
       "    <tr>\n",
       "      <th>124544</th>\n",
       "      <td>35979</td>\n",
       "      <td>0.10</td>\n",
       "      <td>35.979</td>\n",
       "      <td>100.058367</td>\n",
       "      <td>2931670127</td>\n",
       "      <td>2024-04-10 00:01:51.127438</td>\n",
       "      <td>10/04/2024</td>\n",
       "    </tr>\n",
       "    <tr>\n",
       "      <th>124545</th>\n",
       "      <td>36120</td>\n",
       "      <td>0.10</td>\n",
       "      <td>36.120</td>\n",
       "      <td>99.667774</td>\n",
       "      <td>2931706247</td>\n",
       "      <td>2024-04-10 00:02:27.247438</td>\n",
       "      <td>10/04/2024</td>\n",
       "    </tr>\n",
       "    <tr>\n",
       "      <th>...</th>\n",
       "      <td>...</td>\n",
       "      <td>...</td>\n",
       "      <td>...</td>\n",
       "      <td>...</td>\n",
       "      <td>...</td>\n",
       "      <td>...</td>\n",
       "      <td>...</td>\n",
       "    </tr>\n",
       "    <tr>\n",
       "      <th>126881</th>\n",
       "      <td>33818</td>\n",
       "      <td>0.11</td>\n",
       "      <td>33.818</td>\n",
       "      <td>106.452185</td>\n",
       "      <td>2993837024</td>\n",
       "      <td>2024-04-10 17:17:58.024438</td>\n",
       "      <td>10/04/2024</td>\n",
       "    </tr>\n",
       "    <tr>\n",
       "      <th>126882</th>\n",
       "      <td>33775</td>\n",
       "      <td>0.11</td>\n",
       "      <td>33.775</td>\n",
       "      <td>106.587713</td>\n",
       "      <td>2993870799</td>\n",
       "      <td>2024-04-10 17:18:31.799438</td>\n",
       "      <td>10/04/2024</td>\n",
       "    </tr>\n",
       "    <tr>\n",
       "      <th>126883</th>\n",
       "      <td>33619</td>\n",
       "      <td>0.11</td>\n",
       "      <td>33.619</td>\n",
       "      <td>107.082305</td>\n",
       "      <td>2993904418</td>\n",
       "      <td>2024-04-10 17:19:05.418438</td>\n",
       "      <td>10/04/2024</td>\n",
       "    </tr>\n",
       "    <tr>\n",
       "      <th>126884</th>\n",
       "      <td>28486</td>\n",
       "      <td>0.13</td>\n",
       "      <td>28.486</td>\n",
       "      <td>126.377870</td>\n",
       "      <td>2993932904</td>\n",
       "      <td>2024-04-10 17:19:33.904438</td>\n",
       "      <td>10/04/2024</td>\n",
       "    </tr>\n",
       "    <tr>\n",
       "      <th>126885</th>\n",
       "      <td>25350</td>\n",
       "      <td>0.14</td>\n",
       "      <td>25.350</td>\n",
       "      <td>142.011834</td>\n",
       "      <td>2993958254</td>\n",
       "      <td>2024-04-10 17:19:59.254438</td>\n",
       "      <td>10/04/2024</td>\n",
       "    </tr>\n",
       "  </tbody>\n",
       "</table>\n",
       "<p>2345 rows × 7 columns</p>\n",
       "</div>"
      ],
      "text/plain": [
       "        Interval   kWh     sec          Wh   cumul(ms)  \\\n",
       "124541     29818  0.12  29.818  120.732443  2931569438   \n",
       "124542     30479  0.12  30.479  118.114111  2931599917   \n",
       "124543     34231  0.10  34.231  105.167830  2931634148   \n",
       "124544     35979  0.10  35.979  100.058367  2931670127   \n",
       "124545     36120  0.10  36.120   99.667774  2931706247   \n",
       "...          ...   ...     ...         ...         ...   \n",
       "126881     33818  0.11  33.818  106.452185  2993837024   \n",
       "126882     33775  0.11  33.775  106.587713  2993870799   \n",
       "126883     33619  0.11  33.619  107.082305  2993904418   \n",
       "126884     28486  0.13  28.486  126.377870  2993932904   \n",
       "126885     25350  0.14  25.350  142.011834  2993958254   \n",
       "\n",
       "                            dates        days  \n",
       "124541 2024-04-10 00:00:10.438438  10/04/2024  \n",
       "124542 2024-04-10 00:00:40.917438  10/04/2024  \n",
       "124543 2024-04-10 00:01:15.148438  10/04/2024  \n",
       "124544 2024-04-10 00:01:51.127438  10/04/2024  \n",
       "124545 2024-04-10 00:02:27.247438  10/04/2024  \n",
       "...                           ...         ...  \n",
       "126881 2024-04-10 17:17:58.024438  10/04/2024  \n",
       "126882 2024-04-10 17:18:31.799438  10/04/2024  \n",
       "126883 2024-04-10 17:19:05.418438  10/04/2024  \n",
       "126884 2024-04-10 17:19:33.904438  10/04/2024  \n",
       "126885 2024-04-10 17:19:59.254438  10/04/2024  \n",
       "\n",
       "[2345 rows x 7 columns]"
      ]
     },
     "execution_count": 82,
     "metadata": {},
     "output_type": "execute_result"
    }
   ],
   "source": [
    "conso_data[conso_data['days']==day]"
   ]
  },
  {
   "cell_type": "code",
   "execution_count": 83,
   "metadata": {},
   "outputs": [
    {
     "data": {
      "text/plain": [
       "'10/04/2024'"
      ]
     },
     "execution_count": 83,
     "metadata": {},
     "output_type": "execute_result"
    }
   ],
   "source": [
    "day"
   ]
  },
  {
   "cell_type": "code",
   "execution_count": 84,
   "metadata": {},
   "outputs": [
    {
     "data": {
      "text/html": [
       "<div>\n",
       "<style scoped>\n",
       "    .dataframe tbody tr th:only-of-type {\n",
       "        vertical-align: middle;\n",
       "    }\n",
       "\n",
       "    .dataframe tbody tr th {\n",
       "        vertical-align: top;\n",
       "    }\n",
       "\n",
       "    .dataframe thead th {\n",
       "        text-align: right;\n",
       "    }\n",
       "</style>\n",
       "<table border=\"1\" class=\"dataframe\">\n",
       "  <thead>\n",
       "    <tr style=\"text-align: right;\">\n",
       "      <th></th>\n",
       "      <th>Interval</th>\n",
       "      <th>kWh</th>\n",
       "      <th>sec</th>\n",
       "      <th>Wh</th>\n",
       "      <th>cumul(ms)</th>\n",
       "      <th>dates</th>\n",
       "      <th>days</th>\n",
       "    </tr>\n",
       "  </thead>\n",
       "  <tbody>\n",
       "    <tr>\n",
       "      <th>0</th>\n",
       "      <td>26289</td>\n",
       "      <td>0.14</td>\n",
       "      <td>26.289</td>\n",
       "      <td>136.939404</td>\n",
       "      <td>26289</td>\n",
       "      <td>2024-03-07 01:41:07.289438</td>\n",
       "      <td>07/03/2024</td>\n",
       "    </tr>\n",
       "    <tr>\n",
       "      <th>1</th>\n",
       "      <td>26243</td>\n",
       "      <td>0.14</td>\n",
       "      <td>26.243</td>\n",
       "      <td>137.179438</td>\n",
       "      <td>52532</td>\n",
       "      <td>2024-03-07 01:41:33.532438</td>\n",
       "      <td>07/03/2024</td>\n",
       "    </tr>\n",
       "    <tr>\n",
       "      <th>2</th>\n",
       "      <td>25885</td>\n",
       "      <td>0.14</td>\n",
       "      <td>25.885</td>\n",
       "      <td>139.076685</td>\n",
       "      <td>78417</td>\n",
       "      <td>2024-03-07 01:41:59.417438</td>\n",
       "      <td>07/03/2024</td>\n",
       "    </tr>\n",
       "    <tr>\n",
       "      <th>3</th>\n",
       "      <td>25754</td>\n",
       "      <td>0.14</td>\n",
       "      <td>25.754</td>\n",
       "      <td>139.784111</td>\n",
       "      <td>104171</td>\n",
       "      <td>2024-03-07 01:42:25.171438</td>\n",
       "      <td>07/03/2024</td>\n",
       "    </tr>\n",
       "    <tr>\n",
       "      <th>4</th>\n",
       "      <td>25774</td>\n",
       "      <td>0.14</td>\n",
       "      <td>25.774</td>\n",
       "      <td>139.675642</td>\n",
       "      <td>129945</td>\n",
       "      <td>2024-03-07 01:42:50.945438</td>\n",
       "      <td>07/03/2024</td>\n",
       "    </tr>\n",
       "    <tr>\n",
       "      <th>...</th>\n",
       "      <td>...</td>\n",
       "      <td>...</td>\n",
       "      <td>...</td>\n",
       "      <td>...</td>\n",
       "      <td>...</td>\n",
       "      <td>...</td>\n",
       "      <td>...</td>\n",
       "    </tr>\n",
       "    <tr>\n",
       "      <th>126881</th>\n",
       "      <td>33818</td>\n",
       "      <td>0.11</td>\n",
       "      <td>33.818</td>\n",
       "      <td>106.452185</td>\n",
       "      <td>2993837024</td>\n",
       "      <td>2024-04-10 17:17:58.024438</td>\n",
       "      <td>10/04/2024</td>\n",
       "    </tr>\n",
       "    <tr>\n",
       "      <th>126882</th>\n",
       "      <td>33775</td>\n",
       "      <td>0.11</td>\n",
       "      <td>33.775</td>\n",
       "      <td>106.587713</td>\n",
       "      <td>2993870799</td>\n",
       "      <td>2024-04-10 17:18:31.799438</td>\n",
       "      <td>10/04/2024</td>\n",
       "    </tr>\n",
       "    <tr>\n",
       "      <th>126883</th>\n",
       "      <td>33619</td>\n",
       "      <td>0.11</td>\n",
       "      <td>33.619</td>\n",
       "      <td>107.082305</td>\n",
       "      <td>2993904418</td>\n",
       "      <td>2024-04-10 17:19:05.418438</td>\n",
       "      <td>10/04/2024</td>\n",
       "    </tr>\n",
       "    <tr>\n",
       "      <th>126884</th>\n",
       "      <td>28486</td>\n",
       "      <td>0.13</td>\n",
       "      <td>28.486</td>\n",
       "      <td>126.377870</td>\n",
       "      <td>2993932904</td>\n",
       "      <td>2024-04-10 17:19:33.904438</td>\n",
       "      <td>10/04/2024</td>\n",
       "    </tr>\n",
       "    <tr>\n",
       "      <th>126885</th>\n",
       "      <td>25350</td>\n",
       "      <td>0.14</td>\n",
       "      <td>25.350</td>\n",
       "      <td>142.011834</td>\n",
       "      <td>2993958254</td>\n",
       "      <td>2024-04-10 17:19:59.254438</td>\n",
       "      <td>10/04/2024</td>\n",
       "    </tr>\n",
       "  </tbody>\n",
       "</table>\n",
       "<p>126886 rows × 7 columns</p>\n",
       "</div>"
      ],
      "text/plain": [
       "        Interval   kWh     sec          Wh   cumul(ms)  \\\n",
       "0          26289  0.14  26.289  136.939404       26289   \n",
       "1          26243  0.14  26.243  137.179438       52532   \n",
       "2          25885  0.14  25.885  139.076685       78417   \n",
       "3          25754  0.14  25.754  139.784111      104171   \n",
       "4          25774  0.14  25.774  139.675642      129945   \n",
       "...          ...   ...     ...         ...         ...   \n",
       "126881     33818  0.11  33.818  106.452185  2993837024   \n",
       "126882     33775  0.11  33.775  106.587713  2993870799   \n",
       "126883     33619  0.11  33.619  107.082305  2993904418   \n",
       "126884     28486  0.13  28.486  126.377870  2993932904   \n",
       "126885     25350  0.14  25.350  142.011834  2993958254   \n",
       "\n",
       "                            dates        days  \n",
       "0      2024-03-07 01:41:07.289438  07/03/2024  \n",
       "1      2024-03-07 01:41:33.532438  07/03/2024  \n",
       "2      2024-03-07 01:41:59.417438  07/03/2024  \n",
       "3      2024-03-07 01:42:25.171438  07/03/2024  \n",
       "4      2024-03-07 01:42:50.945438  07/03/2024  \n",
       "...                           ...         ...  \n",
       "126881 2024-04-10 17:17:58.024438  10/04/2024  \n",
       "126882 2024-04-10 17:18:31.799438  10/04/2024  \n",
       "126883 2024-04-10 17:19:05.418438  10/04/2024  \n",
       "126884 2024-04-10 17:19:33.904438  10/04/2024  \n",
       "126885 2024-04-10 17:19:59.254438  10/04/2024  \n",
       "\n",
       "[126886 rows x 7 columns]"
      ]
     },
     "execution_count": 84,
     "metadata": {},
     "output_type": "execute_result"
    }
   ],
   "source": [
    "conso_data"
   ]
  },
  {
   "cell_type": "code",
   "execution_count": 85,
   "metadata": {},
   "outputs": [
    {
     "data": {
      "text/plain": [
       "<pandas.core.groupby.generic.DataFrameGroupBy object at 0x0000028F123B4290>"
      ]
     },
     "execution_count": 85,
     "metadata": {},
     "output_type": "execute_result"
    }
   ],
   "source": [
    "# group by day\n",
    "grouped = conso_data[['days','kWh']].groupby('days', sort=False)\n",
    "'''conso_graph=[]\n",
    "for name, group in grouped:\n",
    "    if name=='01/04/2024':print(group)\n",
    "    #print(\"\\n\", name, len(group)/1000)\n",
    "    conso_graph.append((name,len(group)/1000))'''\n",
    "grouped\n"
   ]
  },
  {
   "cell_type": "code",
   "execution_count": 86,
   "metadata": {},
   "outputs": [
    {
     "data": {
      "text/html": [
       "<div>\n",
       "<style scoped>\n",
       "    .dataframe tbody tr th:only-of-type {\n",
       "        vertical-align: middle;\n",
       "    }\n",
       "\n",
       "    .dataframe tbody tr th {\n",
       "        vertical-align: top;\n",
       "    }\n",
       "\n",
       "    .dataframe thead th {\n",
       "        text-align: right;\n",
       "    }\n",
       "</style>\n",
       "<table border=\"1\" class=\"dataframe\">\n",
       "  <thead>\n",
       "    <tr style=\"text-align: right;\">\n",
       "      <th></th>\n",
       "      <th>kWh</th>\n",
       "    </tr>\n",
       "    <tr>\n",
       "      <th>days</th>\n",
       "      <th></th>\n",
       "    </tr>\n",
       "  </thead>\n",
       "  <tbody>\n",
       "    <tr>\n",
       "      <th>07/03/2024</th>\n",
       "      <td>3.157</td>\n",
       "    </tr>\n",
       "    <tr>\n",
       "      <th>08/03/2024</th>\n",
       "      <td>3.752</td>\n",
       "    </tr>\n",
       "    <tr>\n",
       "      <th>09/03/2024</th>\n",
       "      <td>3.082</td>\n",
       "    </tr>\n",
       "    <tr>\n",
       "      <th>10/03/2024</th>\n",
       "      <td>3.535</td>\n",
       "    </tr>\n",
       "    <tr>\n",
       "      <th>11/03/2024</th>\n",
       "      <td>4.549</td>\n",
       "    </tr>\n",
       "    <tr>\n",
       "      <th>12/03/2024</th>\n",
       "      <td>3.546</td>\n",
       "    </tr>\n",
       "    <tr>\n",
       "      <th>13/03/2024</th>\n",
       "      <td>3.535</td>\n",
       "    </tr>\n",
       "    <tr>\n",
       "      <th>14/03/2024</th>\n",
       "      <td>3.663</td>\n",
       "    </tr>\n",
       "    <tr>\n",
       "      <th>15/03/2024</th>\n",
       "      <td>3.560</td>\n",
       "    </tr>\n",
       "    <tr>\n",
       "      <th>16/03/2024</th>\n",
       "      <td>3.360</td>\n",
       "    </tr>\n",
       "    <tr>\n",
       "      <th>17/03/2024</th>\n",
       "      <td>3.350</td>\n",
       "    </tr>\n",
       "    <tr>\n",
       "      <th>18/03/2024</th>\n",
       "      <td>4.398</td>\n",
       "    </tr>\n",
       "    <tr>\n",
       "      <th>19/03/2024</th>\n",
       "      <td>3.518</td>\n",
       "    </tr>\n",
       "    <tr>\n",
       "      <th>20/03/2024</th>\n",
       "      <td>3.446</td>\n",
       "    </tr>\n",
       "    <tr>\n",
       "      <th>21/03/2024</th>\n",
       "      <td>3.538</td>\n",
       "    </tr>\n",
       "    <tr>\n",
       "      <th>22/03/2024</th>\n",
       "      <td>3.743</td>\n",
       "    </tr>\n",
       "    <tr>\n",
       "      <th>23/03/2024</th>\n",
       "      <td>3.527</td>\n",
       "    </tr>\n",
       "    <tr>\n",
       "      <th>24/03/2024</th>\n",
       "      <td>3.341</td>\n",
       "    </tr>\n",
       "    <tr>\n",
       "      <th>25/03/2024</th>\n",
       "      <td>3.888</td>\n",
       "    </tr>\n",
       "    <tr>\n",
       "      <th>26/03/2024</th>\n",
       "      <td>3.421</td>\n",
       "    </tr>\n",
       "    <tr>\n",
       "      <th>27/03/2024</th>\n",
       "      <td>3.473</td>\n",
       "    </tr>\n",
       "    <tr>\n",
       "      <th>28/03/2024</th>\n",
       "      <td>3.637</td>\n",
       "    </tr>\n",
       "    <tr>\n",
       "      <th>29/03/2024</th>\n",
       "      <td>3.765</td>\n",
       "    </tr>\n",
       "    <tr>\n",
       "      <th>30/03/2024</th>\n",
       "      <td>3.643</td>\n",
       "    </tr>\n",
       "    <tr>\n",
       "      <th>31/03/2024</th>\n",
       "      <td>3.833</td>\n",
       "    </tr>\n",
       "    <tr>\n",
       "      <th>01/04/2024</th>\n",
       "      <td>3.836</td>\n",
       "    </tr>\n",
       "    <tr>\n",
       "      <th>02/04/2024</th>\n",
       "      <td>3.819</td>\n",
       "    </tr>\n",
       "    <tr>\n",
       "      <th>03/04/2024</th>\n",
       "      <td>3.417</td>\n",
       "    </tr>\n",
       "    <tr>\n",
       "      <th>04/04/2024</th>\n",
       "      <td>3.479</td>\n",
       "    </tr>\n",
       "    <tr>\n",
       "      <th>05/04/2024</th>\n",
       "      <td>4.412</td>\n",
       "    </tr>\n",
       "    <tr>\n",
       "      <th>06/04/2024</th>\n",
       "      <td>3.404</td>\n",
       "    </tr>\n",
       "    <tr>\n",
       "      <th>07/04/2024</th>\n",
       "      <td>4.074</td>\n",
       "    </tr>\n",
       "    <tr>\n",
       "      <th>08/04/2024</th>\n",
       "      <td>3.780</td>\n",
       "    </tr>\n",
       "    <tr>\n",
       "      <th>09/04/2024</th>\n",
       "      <td>4.060</td>\n",
       "    </tr>\n",
       "    <tr>\n",
       "      <th>10/04/2024</th>\n",
       "      <td>2.345</td>\n",
       "    </tr>\n",
       "  </tbody>\n",
       "</table>\n",
       "</div>"
      ],
      "text/plain": [
       "              kWh\n",
       "days             \n",
       "07/03/2024  3.157\n",
       "08/03/2024  3.752\n",
       "09/03/2024  3.082\n",
       "10/03/2024  3.535\n",
       "11/03/2024  4.549\n",
       "12/03/2024  3.546\n",
       "13/03/2024  3.535\n",
       "14/03/2024  3.663\n",
       "15/03/2024  3.560\n",
       "16/03/2024  3.360\n",
       "17/03/2024  3.350\n",
       "18/03/2024  4.398\n",
       "19/03/2024  3.518\n",
       "20/03/2024  3.446\n",
       "21/03/2024  3.538\n",
       "22/03/2024  3.743\n",
       "23/03/2024  3.527\n",
       "24/03/2024  3.341\n",
       "25/03/2024  3.888\n",
       "26/03/2024  3.421\n",
       "27/03/2024  3.473\n",
       "28/03/2024  3.637\n",
       "29/03/2024  3.765\n",
       "30/03/2024  3.643\n",
       "31/03/2024  3.833\n",
       "01/04/2024  3.836\n",
       "02/04/2024  3.819\n",
       "03/04/2024  3.417\n",
       "04/04/2024  3.479\n",
       "05/04/2024  4.412\n",
       "06/04/2024  3.404\n",
       "07/04/2024  4.074\n",
       "08/04/2024  3.780\n",
       "09/04/2024  4.060\n",
       "10/04/2024  2.345"
      ]
     },
     "execution_count": 86,
     "metadata": {},
     "output_type": "execute_result"
    }
   ],
   "source": [
    "# count elements in each group => conso in watts => convert to kW\n",
    "(grouped.count()/1000)"
   ]
  },
  {
   "cell_type": "code",
   "execution_count": 87,
   "metadata": {},
   "outputs": [
    {
     "data": {
      "text/plain": [
       "kWh    0.315651\n",
       "dtype: float64"
      ]
     },
     "execution_count": 87,
     "metadata": {},
     "output_type": "execute_result"
    }
   ],
   "source": [
    "# mean of all instant conso\n",
    "total_mean = conso_data[['kWh']].mean()\n",
    "total_mean\n"
   ]
  },
  {
   "cell_type": "code",
   "execution_count": 88,
   "metadata": {},
   "outputs": [
    {
     "data": {
      "text/plain": [
       "kWh    3.625314\n",
       "dtype: float64"
      ]
     },
     "execution_count": 88,
     "metadata": {},
     "output_type": "execute_result"
    }
   ],
   "source": [
    "# mean by day from 07/03\n",
    "mean=(grouped.count()/1000).mean()\n",
    "mean"
   ]
  },
  {
   "cell_type": "code",
   "execution_count": 89,
   "metadata": {},
   "outputs": [],
   "source": [
    "filename='conso_par_jour.csv'\n",
    "df_grp = grouped.count()/1000\n",
    "df_grp.to_csv(filename)\n",
    "filename='../conso_par_jour.csv'\n",
    "df_grp.to_csv(filename)"
   ]
  },
  {
   "cell_type": "code",
   "execution_count": 90,
   "metadata": {},
   "outputs": [
    {
     "data": {
      "text/html": [
       "<div>\n",
       "<style scoped>\n",
       "    .dataframe tbody tr th:only-of-type {\n",
       "        vertical-align: middle;\n",
       "    }\n",
       "\n",
       "    .dataframe tbody tr th {\n",
       "        vertical-align: top;\n",
       "    }\n",
       "\n",
       "    .dataframe thead th {\n",
       "        text-align: right;\n",
       "    }\n",
       "</style>\n",
       "<table border=\"1\" class=\"dataframe\">\n",
       "  <thead>\n",
       "    <tr style=\"text-align: right;\">\n",
       "      <th></th>\n",
       "      <th>kWh</th>\n",
       "    </tr>\n",
       "    <tr>\n",
       "      <th>days</th>\n",
       "      <th></th>\n",
       "    </tr>\n",
       "  </thead>\n",
       "  <tbody>\n",
       "    <tr>\n",
       "      <th>07/03/2024</th>\n",
       "      <td>3.157</td>\n",
       "    </tr>\n",
       "    <tr>\n",
       "      <th>08/03/2024</th>\n",
       "      <td>3.752</td>\n",
       "    </tr>\n",
       "    <tr>\n",
       "      <th>09/03/2024</th>\n",
       "      <td>3.082</td>\n",
       "    </tr>\n",
       "    <tr>\n",
       "      <th>10/03/2024</th>\n",
       "      <td>3.535</td>\n",
       "    </tr>\n",
       "    <tr>\n",
       "      <th>11/03/2024</th>\n",
       "      <td>4.549</td>\n",
       "    </tr>\n",
       "    <tr>\n",
       "      <th>12/03/2024</th>\n",
       "      <td>3.546</td>\n",
       "    </tr>\n",
       "    <tr>\n",
       "      <th>13/03/2024</th>\n",
       "      <td>3.535</td>\n",
       "    </tr>\n",
       "    <tr>\n",
       "      <th>14/03/2024</th>\n",
       "      <td>3.663</td>\n",
       "    </tr>\n",
       "    <tr>\n",
       "      <th>15/03/2024</th>\n",
       "      <td>3.560</td>\n",
       "    </tr>\n",
       "    <tr>\n",
       "      <th>16/03/2024</th>\n",
       "      <td>3.360</td>\n",
       "    </tr>\n",
       "    <tr>\n",
       "      <th>17/03/2024</th>\n",
       "      <td>3.350</td>\n",
       "    </tr>\n",
       "    <tr>\n",
       "      <th>18/03/2024</th>\n",
       "      <td>4.398</td>\n",
       "    </tr>\n",
       "    <tr>\n",
       "      <th>19/03/2024</th>\n",
       "      <td>3.518</td>\n",
       "    </tr>\n",
       "    <tr>\n",
       "      <th>20/03/2024</th>\n",
       "      <td>3.446</td>\n",
       "    </tr>\n",
       "    <tr>\n",
       "      <th>21/03/2024</th>\n",
       "      <td>3.538</td>\n",
       "    </tr>\n",
       "    <tr>\n",
       "      <th>22/03/2024</th>\n",
       "      <td>3.743</td>\n",
       "    </tr>\n",
       "    <tr>\n",
       "      <th>23/03/2024</th>\n",
       "      <td>3.527</td>\n",
       "    </tr>\n",
       "    <tr>\n",
       "      <th>24/03/2024</th>\n",
       "      <td>3.341</td>\n",
       "    </tr>\n",
       "    <tr>\n",
       "      <th>25/03/2024</th>\n",
       "      <td>3.888</td>\n",
       "    </tr>\n",
       "    <tr>\n",
       "      <th>26/03/2024</th>\n",
       "      <td>3.421</td>\n",
       "    </tr>\n",
       "    <tr>\n",
       "      <th>27/03/2024</th>\n",
       "      <td>3.473</td>\n",
       "    </tr>\n",
       "    <tr>\n",
       "      <th>28/03/2024</th>\n",
       "      <td>3.637</td>\n",
       "    </tr>\n",
       "    <tr>\n",
       "      <th>29/03/2024</th>\n",
       "      <td>3.765</td>\n",
       "    </tr>\n",
       "    <tr>\n",
       "      <th>30/03/2024</th>\n",
       "      <td>3.643</td>\n",
       "    </tr>\n",
       "    <tr>\n",
       "      <th>31/03/2024</th>\n",
       "      <td>3.833</td>\n",
       "    </tr>\n",
       "    <tr>\n",
       "      <th>01/04/2024</th>\n",
       "      <td>3.836</td>\n",
       "    </tr>\n",
       "    <tr>\n",
       "      <th>02/04/2024</th>\n",
       "      <td>3.819</td>\n",
       "    </tr>\n",
       "    <tr>\n",
       "      <th>03/04/2024</th>\n",
       "      <td>3.417</td>\n",
       "    </tr>\n",
       "    <tr>\n",
       "      <th>04/04/2024</th>\n",
       "      <td>3.479</td>\n",
       "    </tr>\n",
       "    <tr>\n",
       "      <th>05/04/2024</th>\n",
       "      <td>4.412</td>\n",
       "    </tr>\n",
       "    <tr>\n",
       "      <th>06/04/2024</th>\n",
       "      <td>3.404</td>\n",
       "    </tr>\n",
       "    <tr>\n",
       "      <th>07/04/2024</th>\n",
       "      <td>4.074</td>\n",
       "    </tr>\n",
       "    <tr>\n",
       "      <th>08/04/2024</th>\n",
       "      <td>3.780</td>\n",
       "    </tr>\n",
       "    <tr>\n",
       "      <th>09/04/2024</th>\n",
       "      <td>4.060</td>\n",
       "    </tr>\n",
       "    <tr>\n",
       "      <th>10/04/2024</th>\n",
       "      <td>2.345</td>\n",
       "    </tr>\n",
       "  </tbody>\n",
       "</table>\n",
       "</div>"
      ],
      "text/plain": [
       "              kWh\n",
       "days             \n",
       "07/03/2024  3.157\n",
       "08/03/2024  3.752\n",
       "09/03/2024  3.082\n",
       "10/03/2024  3.535\n",
       "11/03/2024  4.549\n",
       "12/03/2024  3.546\n",
       "13/03/2024  3.535\n",
       "14/03/2024  3.663\n",
       "15/03/2024  3.560\n",
       "16/03/2024  3.360\n",
       "17/03/2024  3.350\n",
       "18/03/2024  4.398\n",
       "19/03/2024  3.518\n",
       "20/03/2024  3.446\n",
       "21/03/2024  3.538\n",
       "22/03/2024  3.743\n",
       "23/03/2024  3.527\n",
       "24/03/2024  3.341\n",
       "25/03/2024  3.888\n",
       "26/03/2024  3.421\n",
       "27/03/2024  3.473\n",
       "28/03/2024  3.637\n",
       "29/03/2024  3.765\n",
       "30/03/2024  3.643\n",
       "31/03/2024  3.833\n",
       "01/04/2024  3.836\n",
       "02/04/2024  3.819\n",
       "03/04/2024  3.417\n",
       "04/04/2024  3.479\n",
       "05/04/2024  4.412\n",
       "06/04/2024  3.404\n",
       "07/04/2024  4.074\n",
       "08/04/2024  3.780\n",
       "09/04/2024  4.060\n",
       "10/04/2024  2.345"
      ]
     },
     "execution_count": 90,
     "metadata": {},
     "output_type": "execute_result"
    }
   ],
   "source": [
    "df_grp"
   ]
  },
  {
   "cell_type": "code",
   "execution_count": 91,
   "metadata": {},
   "outputs": [
    {
     "data": {
      "image/png": "[encoded data removed]",
      "text/plain": [
       "<Figure size 640x480 with 1 Axes>"
      ]
     },
     "metadata": {},
     "output_type": "display_data"
    }
   ],
   "source": [
    "df_grp.plot()#kind='bar')\n",
    "plt.plot((0,len(df_grp)-1),(mean,mean))\n",
    "plt.xticks(rotation=45)\n",
    "plt.grid()\n"
   ]
  },
  {
   "cell_type": "code",
   "execution_count": 92,
   "metadata": {},
   "outputs": [],
   "source": [
    "#manuel\n",
    "#day = '11/03/2024'\n"
   ]
  },
  {
   "cell_type": "code",
   "execution_count": 93,
   "metadata": {},
   "outputs": [
    {
     "data": {
      "text/plain": [
       "2345"
      ]
     },
     "execution_count": 93,
     "metadata": {},
     "output_type": "execute_result"
    }
   ],
   "source": [
    "# conso day\n",
    "conso_day = conso_data[conso_data['days']==day]\n",
    "len(conso_day)"
   ]
  },
  {
   "cell_type": "code",
   "execution_count": 94,
   "metadata": {},
   "outputs": [
    {
     "data": {
      "text/html": [
       "<div>\n",
       "<style scoped>\n",
       "    .dataframe tbody tr th:only-of-type {\n",
       "        vertical-align: middle;\n",
       "    }\n",
       "\n",
       "    .dataframe tbody tr th {\n",
       "        vertical-align: top;\n",
       "    }\n",
       "\n",
       "    .dataframe thead th {\n",
       "        text-align: right;\n",
       "    }\n",
       "</style>\n",
       "<table border=\"1\" class=\"dataframe\">\n",
       "  <thead>\n",
       "    <tr style=\"text-align: right;\">\n",
       "      <th></th>\n",
       "      <th>Interval</th>\n",
       "      <th>kWh</th>\n",
       "      <th>sec</th>\n",
       "      <th>Wh</th>\n",
       "      <th>cumul(ms)</th>\n",
       "      <th>dates</th>\n",
       "      <th>days</th>\n",
       "    </tr>\n",
       "  </thead>\n",
       "  <tbody>\n",
       "    <tr>\n",
       "      <th>124541</th>\n",
       "      <td>29818</td>\n",
       "      <td>0.12</td>\n",
       "      <td>29.818</td>\n",
       "      <td>120.732443</td>\n",
       "      <td>2931569438</td>\n",
       "      <td>2024-04-10 00:00:10.438438</td>\n",
       "      <td>10/04/2024</td>\n",
       "    </tr>\n",
       "    <tr>\n",
       "      <th>124542</th>\n",
       "      <td>30479</td>\n",
       "      <td>0.12</td>\n",
       "      <td>30.479</td>\n",
       "      <td>118.114111</td>\n",
       "      <td>2931599917</td>\n",
       "      <td>2024-04-10 00:00:40.917438</td>\n",
       "      <td>10/04/2024</td>\n",
       "    </tr>\n",
       "    <tr>\n",
       "      <th>124543</th>\n",
       "      <td>34231</td>\n",
       "      <td>0.10</td>\n",
       "      <td>34.231</td>\n",
       "      <td>105.167830</td>\n",
       "      <td>2931634148</td>\n",
       "      <td>2024-04-10 00:01:15.148438</td>\n",
       "      <td>10/04/2024</td>\n",
       "    </tr>\n",
       "    <tr>\n",
       "      <th>124544</th>\n",
       "      <td>35979</td>\n",
       "      <td>0.10</td>\n",
       "      <td>35.979</td>\n",
       "      <td>100.058367</td>\n",
       "      <td>2931670127</td>\n",
       "      <td>2024-04-10 00:01:51.127438</td>\n",
       "      <td>10/04/2024</td>\n",
       "    </tr>\n",
       "    <tr>\n",
       "      <th>124545</th>\n",
       "      <td>36120</td>\n",
       "      <td>0.10</td>\n",
       "      <td>36.120</td>\n",
       "      <td>99.667774</td>\n",
       "      <td>2931706247</td>\n",
       "      <td>2024-04-10 00:02:27.247438</td>\n",
       "      <td>10/04/2024</td>\n",
       "    </tr>\n",
       "    <tr>\n",
       "      <th>...</th>\n",
       "      <td>...</td>\n",
       "      <td>...</td>\n",
       "      <td>...</td>\n",
       "      <td>...</td>\n",
       "      <td>...</td>\n",
       "      <td>...</td>\n",
       "      <td>...</td>\n",
       "    </tr>\n",
       "    <tr>\n",
       "      <th>126881</th>\n",
       "      <td>33818</td>\n",
       "      <td>0.11</td>\n",
       "      <td>33.818</td>\n",
       "      <td>106.452185</td>\n",
       "      <td>2993837024</td>\n",
       "      <td>2024-04-10 17:17:58.024438</td>\n",
       "      <td>10/04/2024</td>\n",
       "    </tr>\n",
       "    <tr>\n",
       "      <th>126882</th>\n",
       "      <td>33775</td>\n",
       "      <td>0.11</td>\n",
       "      <td>33.775</td>\n",
       "      <td>106.587713</td>\n",
       "      <td>2993870799</td>\n",
       "      <td>2024-04-10 17:18:31.799438</td>\n",
       "      <td>10/04/2024</td>\n",
       "    </tr>\n",
       "    <tr>\n",
       "      <th>126883</th>\n",
       "      <td>33619</td>\n",
       "      <td>0.11</td>\n",
       "      <td>33.619</td>\n",
       "      <td>107.082305</td>\n",
       "      <td>2993904418</td>\n",
       "      <td>2024-04-10 17:19:05.418438</td>\n",
       "      <td>10/04/2024</td>\n",
       "    </tr>\n",
       "    <tr>\n",
       "      <th>126884</th>\n",
       "      <td>28486</td>\n",
       "      <td>0.13</td>\n",
       "      <td>28.486</td>\n",
       "      <td>126.377870</td>\n",
       "      <td>2993932904</td>\n",
       "      <td>2024-04-10 17:19:33.904438</td>\n",
       "      <td>10/04/2024</td>\n",
       "    </tr>\n",
       "    <tr>\n",
       "      <th>126885</th>\n",
       "      <td>25350</td>\n",
       "      <td>0.14</td>\n",
       "      <td>25.350</td>\n",
       "      <td>142.011834</td>\n",
       "      <td>2993958254</td>\n",
       "      <td>2024-04-10 17:19:59.254438</td>\n",
       "      <td>10/04/2024</td>\n",
       "    </tr>\n",
       "  </tbody>\n",
       "</table>\n",
       "<p>2345 rows × 7 columns</p>\n",
       "</div>"
      ],
      "text/plain": [
       "        Interval   kWh     sec          Wh   cumul(ms)  \\\n",
       "124541     29818  0.12  29.818  120.732443  2931569438   \n",
       "124542     30479  0.12  30.479  118.114111  2931599917   \n",
       "124543     34231  0.10  34.231  105.167830  2931634148   \n",
       "124544     35979  0.10  35.979  100.058367  2931670127   \n",
       "124545     36120  0.10  36.120   99.667774  2931706247   \n",
       "...          ...   ...     ...         ...         ...   \n",
       "126881     33818  0.11  33.818  106.452185  2993837024   \n",
       "126882     33775  0.11  33.775  106.587713  2993870799   \n",
       "126883     33619  0.11  33.619  107.082305  2993904418   \n",
       "126884     28486  0.13  28.486  126.377870  2993932904   \n",
       "126885     25350  0.14  25.350  142.011834  2993958254   \n",
       "\n",
       "                            dates        days  \n",
       "124541 2024-04-10 00:00:10.438438  10/04/2024  \n",
       "124542 2024-04-10 00:00:40.917438  10/04/2024  \n",
       "124543 2024-04-10 00:01:15.148438  10/04/2024  \n",
       "124544 2024-04-10 00:01:51.127438  10/04/2024  \n",
       "124545 2024-04-10 00:02:27.247438  10/04/2024  \n",
       "...                           ...         ...  \n",
       "126881 2024-04-10 17:17:58.024438  10/04/2024  \n",
       "126882 2024-04-10 17:18:31.799438  10/04/2024  \n",
       "126883 2024-04-10 17:19:05.418438  10/04/2024  \n",
       "126884 2024-04-10 17:19:33.904438  10/04/2024  \n",
       "126885 2024-04-10 17:19:59.254438  10/04/2024  \n",
       "\n",
       "[2345 rows x 7 columns]"
      ]
     },
     "execution_count": 94,
     "metadata": {},
     "output_type": "execute_result"
    }
   ],
   "source": [
    "conso_day"
   ]
  },
  {
   "cell_type": "code",
   "execution_count": 95,
   "metadata": {},
   "outputs": [],
   "source": [
    "filename='conso_jour.csv'\n",
    "conso_day.to_csv(filename)\n",
    "filename='../conso_jour.csv'\n",
    "conso_day.to_csv(filename)"
   ]
  },
  {
   "cell_type": "code",
   "execution_count": 96,
   "metadata": {},
   "outputs": [
    {
     "data": {
      "text/plain": [
       "(124541   2024-04-10 00:00:10.438438\n",
       " Name: dates, dtype: datetime64[ns],\n",
       " 126885   2024-04-10 17:19:59.254438\n",
       " Name: dates, dtype: datetime64[ns])"
      ]
     },
     "execution_count": 96,
     "metadata": {},
     "output_type": "execute_result"
    }
   ],
   "source": [
    "conso_day.head(1).dates, conso_day.tail(1).dates\n"
   ]
  },
  {
   "cell_type": "code",
   "execution_count": 97,
   "metadata": {},
   "outputs": [
    {
     "data": {
      "text/plain": [
       "124541   2024-04-10 00:00:10.438438\n",
       "124542   2024-04-10 00:00:40.917438\n",
       "124543   2024-04-10 00:01:15.148438\n",
       "124544   2024-04-10 00:01:51.127438\n",
       "124545   2024-04-10 00:02:27.247438\n",
       "                    ...            \n",
       "126881   2024-04-10 17:17:58.024438\n",
       "126882   2024-04-10 17:18:31.799438\n",
       "126883   2024-04-10 17:19:05.418438\n",
       "126884   2024-04-10 17:19:33.904438\n",
       "126885   2024-04-10 17:19:59.254438\n",
       "Name: dates, Length: 2345, dtype: datetime64[ns]"
      ]
     },
     "execution_count": 97,
     "metadata": {},
     "output_type": "execute_result"
    }
   ],
   "source": [
    "conso_day.loc[:,'dates']"
   ]
  },
  {
   "cell_type": "code",
   "execution_count": 98,
   "metadata": {},
   "outputs": [
    {
     "name": "stderr",
     "output_type": "stream",
     "text": [
      "C:\\Users\\jean\\AppData\\Local\\Temp\\ipykernel_17660\\2932063292.py:1: SettingWithCopyWarning: \n",
      "A value is trying to be set on a copy of a slice from a DataFrame.\n",
      "Try using .loc[row_indexer,col_indexer] = value instead\n",
      "\n",
      "See the caveats in the documentation: https://pandas.pydata.org/pandas-docs/stable/user_guide/indexing.html#returning-a-view-versus-a-copy\n",
      "  conso_day['heure']=conso_day.loc[:,'dates'].apply(lambda x: str(x.hour)+':'+str(x.minute) +':'+str(x.second))\n"
     ]
    },
    {
     "data": {
      "text/html": [
       "<div>\n",
       "<style scoped>\n",
       "    .dataframe tbody tr th:only-of-type {\n",
       "        vertical-align: middle;\n",
       "    }\n",
       "\n",
       "    .dataframe tbody tr th {\n",
       "        vertical-align: top;\n",
       "    }\n",
       "\n",
       "    .dataframe thead th {\n",
       "        text-align: right;\n",
       "    }\n",
       "</style>\n",
       "<table border=\"1\" class=\"dataframe\">\n",
       "  <thead>\n",
       "    <tr style=\"text-align: right;\">\n",
       "      <th></th>\n",
       "      <th>Interval</th>\n",
       "      <th>kWh</th>\n",
       "      <th>sec</th>\n",
       "      <th>Wh</th>\n",
       "      <th>cumul(ms)</th>\n",
       "      <th>dates</th>\n",
       "      <th>days</th>\n",
       "    </tr>\n",
       "    <tr>\n",
       "      <th>heure</th>\n",
       "      <th></th>\n",
       "      <th></th>\n",
       "      <th></th>\n",
       "      <th></th>\n",
       "      <th></th>\n",
       "      <th></th>\n",
       "      <th></th>\n",
       "    </tr>\n",
       "  </thead>\n",
       "  <tbody>\n",
       "    <tr>\n",
       "      <th>0:0:10</th>\n",
       "      <td>29818</td>\n",
       "      <td>0.12</td>\n",
       "      <td>29.818</td>\n",
       "      <td>120.732443</td>\n",
       "      <td>2931569438</td>\n",
       "      <td>2024-04-10 00:00:10.438438</td>\n",
       "      <td>10/04/2024</td>\n",
       "    </tr>\n",
       "    <tr>\n",
       "      <th>0:0:40</th>\n",
       "      <td>30479</td>\n",
       "      <td>0.12</td>\n",
       "      <td>30.479</td>\n",
       "      <td>118.114111</td>\n",
       "      <td>2931599917</td>\n",
       "      <td>2024-04-10 00:00:40.917438</td>\n",
       "      <td>10/04/2024</td>\n",
       "    </tr>\n",
       "    <tr>\n",
       "      <th>0:1:15</th>\n",
       "      <td>34231</td>\n",
       "      <td>0.10</td>\n",
       "      <td>34.231</td>\n",
       "      <td>105.167830</td>\n",
       "      <td>2931634148</td>\n",
       "      <td>2024-04-10 00:01:15.148438</td>\n",
       "      <td>10/04/2024</td>\n",
       "    </tr>\n",
       "    <tr>\n",
       "      <th>0:1:51</th>\n",
       "      <td>35979</td>\n",
       "      <td>0.10</td>\n",
       "      <td>35.979</td>\n",
       "      <td>100.058367</td>\n",
       "      <td>2931670127</td>\n",
       "      <td>2024-04-10 00:01:51.127438</td>\n",
       "      <td>10/04/2024</td>\n",
       "    </tr>\n",
       "    <tr>\n",
       "      <th>0:2:27</th>\n",
       "      <td>36120</td>\n",
       "      <td>0.10</td>\n",
       "      <td>36.120</td>\n",
       "      <td>99.667774</td>\n",
       "      <td>2931706247</td>\n",
       "      <td>2024-04-10 00:02:27.247438</td>\n",
       "      <td>10/04/2024</td>\n",
       "    </tr>\n",
       "    <tr>\n",
       "      <th>...</th>\n",
       "      <td>...</td>\n",
       "      <td>...</td>\n",
       "      <td>...</td>\n",
       "      <td>...</td>\n",
       "      <td>...</td>\n",
       "      <td>...</td>\n",
       "      <td>...</td>\n",
       "    </tr>\n",
       "    <tr>\n",
       "      <th>17:17:58</th>\n",
       "      <td>33818</td>\n",
       "      <td>0.11</td>\n",
       "      <td>33.818</td>\n",
       "      <td>106.452185</td>\n",
       "      <td>2993837024</td>\n",
       "      <td>2024-04-10 17:17:58.024438</td>\n",
       "      <td>10/04/2024</td>\n",
       "    </tr>\n",
       "    <tr>\n",
       "      <th>17:18:31</th>\n",
       "      <td>33775</td>\n",
       "      <td>0.11</td>\n",
       "      <td>33.775</td>\n",
       "      <td>106.587713</td>\n",
       "      <td>2993870799</td>\n",
       "      <td>2024-04-10 17:18:31.799438</td>\n",
       "      <td>10/04/2024</td>\n",
       "    </tr>\n",
       "    <tr>\n",
       "      <th>17:19:5</th>\n",
       "      <td>33619</td>\n",
       "      <td>0.11</td>\n",
       "      <td>33.619</td>\n",
       "      <td>107.082305</td>\n",
       "      <td>2993904418</td>\n",
       "      <td>2024-04-10 17:19:05.418438</td>\n",
       "      <td>10/04/2024</td>\n",
       "    </tr>\n",
       "    <tr>\n",
       "      <th>17:19:33</th>\n",
       "      <td>28486</td>\n",
       "      <td>0.13</td>\n",
       "      <td>28.486</td>\n",
       "      <td>126.377870</td>\n",
       "      <td>2993932904</td>\n",
       "      <td>2024-04-10 17:19:33.904438</td>\n",
       "      <td>10/04/2024</td>\n",
       "    </tr>\n",
       "    <tr>\n",
       "      <th>17:19:59</th>\n",
       "      <td>25350</td>\n",
       "      <td>0.14</td>\n",
       "      <td>25.350</td>\n",
       "      <td>142.011834</td>\n",
       "      <td>2993958254</td>\n",
       "      <td>2024-04-10 17:19:59.254438</td>\n",
       "      <td>10/04/2024</td>\n",
       "    </tr>\n",
       "  </tbody>\n",
       "</table>\n",
       "<p>2345 rows × 7 columns</p>\n",
       "</div>"
      ],
      "text/plain": [
       "          Interval   kWh     sec          Wh   cumul(ms)  \\\n",
       "heure                                                      \n",
       "0:0:10       29818  0.12  29.818  120.732443  2931569438   \n",
       "0:0:40       30479  0.12  30.479  118.114111  2931599917   \n",
       "0:1:15       34231  0.10  34.231  105.167830  2931634148   \n",
       "0:1:51       35979  0.10  35.979  100.058367  2931670127   \n",
       "0:2:27       36120  0.10  36.120   99.667774  2931706247   \n",
       "...            ...   ...     ...         ...         ...   \n",
       "17:17:58     33818  0.11  33.818  106.452185  2993837024   \n",
       "17:18:31     33775  0.11  33.775  106.587713  2993870799   \n",
       "17:19:5      33619  0.11  33.619  107.082305  2993904418   \n",
       "17:19:33     28486  0.13  28.486  126.377870  2993932904   \n",
       "17:19:59     25350  0.14  25.350  142.011834  2993958254   \n",
       "\n",
       "                              dates        days  \n",
       "heure                                            \n",
       "0:0:10   2024-04-10 00:00:10.438438  10/04/2024  \n",
       "0:0:40   2024-04-10 00:00:40.917438  10/04/2024  \n",
       "0:1:15   2024-04-10 00:01:15.148438  10/04/2024  \n",
       "0:1:51   2024-04-10 00:01:51.127438  10/04/2024  \n",
       "0:2:27   2024-04-10 00:02:27.247438  10/04/2024  \n",
       "...                             ...         ...  \n",
       "17:17:58 2024-04-10 17:17:58.024438  10/04/2024  \n",
       "17:18:31 2024-04-10 17:18:31.799438  10/04/2024  \n",
       "17:19:5  2024-04-10 17:19:05.418438  10/04/2024  \n",
       "17:19:33 2024-04-10 17:19:33.904438  10/04/2024  \n",
       "17:19:59 2024-04-10 17:19:59.254438  10/04/2024  \n",
       "\n",
       "[2345 rows x 7 columns]"
      ]
     },
     "execution_count": 98,
     "metadata": {},
     "output_type": "execute_result"
    }
   ],
   "source": [
    "conso_day['heure']=conso_day.loc[:,'dates'].apply(lambda x: str(x.hour)+':'+str(x.minute) +':'+str(x.second))\n",
    "#=[x.hour for x in conso_day['dates']]\n",
    "conso_day\n",
    "df= conso_day.set_index('heure')\n",
    "df"
   ]
  },
  {
   "cell_type": "code",
   "execution_count": 99,
   "metadata": {},
   "outputs": [
    {
     "data": {
      "text/plain": [
       "('17:20:04', 2.345)"
      ]
     },
     "execution_count": 99,
     "metadata": {},
     "output_type": "execute_result"
    }
   ],
   "source": [
    "here = now.strftime('%H:%M:%S')\n",
    "here, len(df)/1000"
   ]
  },
  {
   "cell_type": "code",
   "execution_count": 100,
   "metadata": {},
   "outputs": [],
   "source": [
    "conso_jour=len(df['kWh'])"
   ]
  },
  {
   "cell_type": "code",
   "execution_count": 101,
   "metadata": {},
   "outputs": [
    {
     "data": {
      "image/png": "[encoded data removed]",
      "text/plain": [
       "<Figure size 1500x700 with 1 Axes>"
      ]
     },
     "metadata": {},
     "output_type": "display_data"
    }
   ],
   "source": [
    "from matplotlib.ticker import (MultipleLocator, AutoMinorLocator)\n",
    "# consommation d'une journée entière à partir de minuit\n",
    "fig, ax = plt.subplots()\n",
    "major_ticks=300;minor_ticks=100\n",
    "ax.xaxis.set_major_locator(MultipleLocator(major_ticks))  # major ticks tous les 15 min\n",
    "ax.xaxis.set_minor_locator(MultipleLocator(minor_ticks))\n",
    "# the size of A4 paper\n",
    "fig.set_size_inches(15, 7)\n",
    "plt.plot(df['kWh'])\n",
    "#plt.plot(conso_day['heure'],conso_day['kWh'])\n",
    "plt.title(f'Journée du {day} {here} : {conso_jour/1000} kwh')\n",
    "plt.grid()"
   ]
  },
  {
   "cell_type": "code",
   "execution_count": 102,
   "metadata": {},
   "outputs": [],
   "source": [
    "df['power']=[y for x,y in zip(df['Interval'],df['kWh'])]"
   ]
  },
  {
   "cell_type": "code",
   "execution_count": 103,
   "metadata": {},
   "outputs": [
    {
     "data": {
      "text/plain": [
       "heure\n",
       "0:0:10      0.12\n",
       "0:0:40      0.12\n",
       "0:1:15      0.10\n",
       "0:1:51      0.10\n",
       "0:2:27      0.10\n",
       "            ... \n",
       "17:17:58    0.11\n",
       "17:18:31    0.11\n",
       "17:19:5     0.11\n",
       "17:19:33    0.13\n",
       "17:19:59    0.14\n",
       "Name: power, Length: 2345, dtype: float64"
      ]
     },
     "execution_count": 103,
     "metadata": {},
     "output_type": "execute_result"
    }
   ],
   "source": [
    "df['power']"
   ]
  },
  {
   "cell_type": "code",
   "execution_count": 104,
   "metadata": {},
   "outputs": [
    {
     "data": {
      "text/plain": [
       "<Axes: xlabel='heure'>"
      ]
     },
     "execution_count": 104,
     "metadata": {},
     "output_type": "execute_result"
    },
    {
     "data": {
      "image/png": "[encoded data removed]",
      "text/plain": [
       "<Figure size 640x480 with 1 Axes>"
      ]
     },
     "metadata": {},
     "output_type": "display_data"
    }
   ],
   "source": [
    "evo=df['power'].cumsum()\n",
    "evo.plot()"
   ]
  },
  {
   "cell_type": "code",
   "execution_count": 105,
   "metadata": {},
   "outputs": [
    {
     "data": {
      "text/plain": [
       "112"
      ]
     },
     "execution_count": 105,
     "metadata": {},
     "output_type": "execute_result"
    },
    {
     "data": {
      "image/png": "[encoded data removed]",
      "text/plain": [
       "<Figure size 640x480 with 1 Axes>"
      ]
     },
     "metadata": {},
     "output_type": "display_data"
    }
   ],
   "source": [
    "# bouilloire, microondes, four\n",
    "filter=(.5<df['kWh'])\n",
    "pic_high = df[filter]\n",
    "pic_high['kWh'].plot()\n",
    "len(pic_high)"
   ]
  },
  {
   "cell_type": "markdown",
   "metadata": {},
   "source": []
  },
  {
   "cell_type": "code",
   "execution_count": 106,
   "metadata": {},
   "outputs": [
    {
     "data": {
      "text/plain": [
       "1547"
      ]
     },
     "execution_count": 106,
     "metadata": {},
     "output_type": "execute_result"
    },
    {
     "data": {
      "image/png": "[encoded data removed]",
      "text/plain": [
       "<Figure size 640x480 with 1 Axes>"
      ]
     },
     "metadata": {},
     "output_type": "display_data"
    }
   ],
   "source": [
    "# frigo, moteur volet\n",
    "pic_middle = df[(0.1<df['kWh']) & (df['kWh']<=.5)]\n",
    "pic_middle['kWh'].plot()\n",
    "len(pic_middle) # wh"
   ]
  },
  {
   "cell_type": "code",
   "execution_count": 107,
   "metadata": {},
   "outputs": [
    {
     "data": {
      "text/plain": [
       "2233"
      ]
     },
     "execution_count": 107,
     "metadata": {},
     "output_type": "execute_result"
    },
    {
     "data": {
      "image/png": "[encoded data removed]",
      "text/plain": [
       "<Figure size 640x480 with 1 Axes>"
      ]
     },
     "metadata": {},
     "output_type": "display_data"
    }
   ],
   "source": [
    "# pics frigo par jour\n",
    "filter = (df['kWh']<=0.5)\n",
    "pic_low = df[filter]\n",
    "pic_low['kWh'].plot()\n",
    "len(pic_low) # wh"
   ]
  },
  {
   "cell_type": "code",
   "execution_count": 108,
   "metadata": {},
   "outputs": [
    {
     "data": {
      "text/plain": [
       "0        2024-03-07 01:41:07.289438\n",
       "1        2024-03-07 01:41:33.532438\n",
       "2        2024-03-07 01:41:59.417438\n",
       "3        2024-03-07 01:42:25.171438\n",
       "4        2024-03-07 01:42:50.945438\n",
       "                    ...            \n",
       "126881   2024-04-10 17:17:58.024438\n",
       "126882   2024-04-10 17:18:31.799438\n",
       "126883   2024-04-10 17:19:05.418438\n",
       "126884   2024-04-10 17:19:33.904438\n",
       "126885   2024-04-10 17:19:59.254438\n",
       "Name: dates, Length: 126886, dtype: datetime64[ns]"
      ]
     },
     "execution_count": 108,
     "metadata": {},
     "output_type": "execute_result"
    }
   ],
   "source": [
    "time = conso_data['dates']\n",
    "time\n"
   ]
  },
  {
   "cell_type": "code",
   "execution_count": 109,
   "metadata": {},
   "outputs": [],
   "source": [
    "def format_date(space=3):\n",
    "    plt.gca().xaxis.set_major_formatter(mdates.DateFormatter('%d/%m\\n%H:%M'))\n",
    "    plt.gca().xaxis.set_major_locator(mdates.HourLocator(space))\n",
    "    #plt.gca().xaxis.set_major_locator(mdates.HourLocator(interval=space))\n",
    "    plt.gcf().autofmt_xdate()\n",
    "    plt.grid()"
   ]
  },
  {
   "cell_type": "code",
   "execution_count": 110,
   "metadata": {},
   "outputs": [],
   "source": [
    "if not old:\n",
    "    major_ticks=1/60;minor_ticks=1/240  # plus de ticks, 4 fois plus de minor\n",
    "    major_ticks=1/30;minor_ticks=1/120   # moins de ticks\n",
    "    major_ticks=1/15;minor_ticks=1/60\n",
    "    major_ticks=1/2;minor_ticks=1/8\n",
    "else:\n",
    "    major_ticks=4;minor_ticks=1   # encore moins si int\n"
   ]
  },
  {
   "cell_type": "code",
   "execution_count": 111,
   "metadata": {},
   "outputs": [
    {
     "data": {
      "text/plain": [
       "(4, 1)"
      ]
     },
     "execution_count": 111,
     "metadata": {},
     "output_type": "execute_result"
    }
   ],
   "source": [
    "major_ticks=4;minor_ticks=1\n",
    "major_ticks,minor_ticks"
   ]
  },
  {
   "cell_type": "markdown",
   "metadata": {},
   "source": [
    "## Main graph"
   ]
  },
  {
   "cell_type": "code",
   "execution_count": 112,
   "metadata": {},
   "outputs": [
    {
     "data": {
      "image/png": "[encoded data removed]",
      "text/plain": [
       "<Figure size 2500x1000 with 1 Axes>"
      ]
     },
     "metadata": {},
     "output_type": "display_data"
    }
   ],
   "source": [
    "\n",
    "from matplotlib.dates import (YEARLY, DateFormatter,rrulewrapper, RRuleLocator, drange)\n",
    "\n",
    "def show_graph():\n",
    "    fig, ax = plt.subplots()\n",
    "    # the size of A4 paper\n",
    "    fig.set_size_inches(25, 10)\n",
    "\n",
    "    #plt.rcParams['axes.autolimit_mode'] = 'round_numbers'\n",
    "    \n",
    "    #formatter = DateFormatter('%d/%m\\n%H:%M:%S')\n",
    "    formatter = DateFormatter('%d/%m\\n%H:%M')\n",
    "    ax.xaxis.set_major_formatter(formatter)\n",
    "\n",
    "    # ticks sur axe des x\n",
    "    ax.xaxis.set_major_locator(MultipleLocator(major_ticks))  # major ticks tous les 15 min\n",
    "    ax.xaxis.set_minor_locator(MultipleLocator(minor_ticks))  # minor ticks tous les 5 min\n",
    "    ax.tick_params(which='both', width=3)\n",
    "    ax.tick_params(which='major', length=15, color='r')\n",
    "    ax.tick_params(which='minor', length=8, color='b')\n",
    "\n",
    "    #plt.plot(conso_data['cumul(ms)']/3600000,conso_data['Wh'])\n",
    "    plt.plot(time,conso_data['Wh'])\n",
    "    plt.ylabel('Wh')\n",
    "    plt.xlabel('Time (heures)')\n",
    "    #format_date(10)\n",
    "    for label in ax.get_xticklabels():\n",
    "        label.set_rotation(40)\n",
    "        label.set_horizontalalignment('right')\n",
    "\n",
    "    #fig.autofmt_xdate()\n",
    "    \n",
    "    plt.grid()\n",
    "    plt.show()\n",
    "show_graph()"
   ]
  },
  {
   "cell_type": "code",
   "execution_count": 113,
   "metadata": {},
   "outputs": [
    {
     "data": {
      "text/html": [
       "<div>\n",
       "<style scoped>\n",
       "    .dataframe tbody tr th:only-of-type {\n",
       "        vertical-align: middle;\n",
       "    }\n",
       "\n",
       "    .dataframe tbody tr th {\n",
       "        vertical-align: top;\n",
       "    }\n",
       "\n",
       "    .dataframe thead th {\n",
       "        text-align: right;\n",
       "    }\n",
       "</style>\n",
       "<table border=\"1\" class=\"dataframe\">\n",
       "  <thead>\n",
       "    <tr style=\"text-align: right;\">\n",
       "      <th></th>\n",
       "      <th>Interval</th>\n",
       "      <th>kWh</th>\n",
       "      <th>sec</th>\n",
       "      <th>Wh</th>\n",
       "      <th>cumul(ms)</th>\n",
       "      <th>dates</th>\n",
       "      <th>days</th>\n",
       "    </tr>\n",
       "  </thead>\n",
       "  <tbody>\n",
       "    <tr>\n",
       "      <th>126885</th>\n",
       "      <td>25350</td>\n",
       "      <td>0.14</td>\n",
       "      <td>25.35</td>\n",
       "      <td>142.011834</td>\n",
       "      <td>2993958254</td>\n",
       "      <td>2024-04-10 17:19:59.254438</td>\n",
       "      <td>10/04/2024</td>\n",
       "    </tr>\n",
       "  </tbody>\n",
       "</table>\n",
       "</div>"
      ],
      "text/plain": [
       "        Interval   kWh    sec          Wh   cumul(ms)  \\\n",
       "126885     25350  0.14  25.35  142.011834  2993958254   \n",
       "\n",
       "                            dates        days  \n",
       "126885 2024-04-10 17:19:59.254438  10/04/2024  "
      ]
     },
     "execution_count": 113,
     "metadata": {},
     "output_type": "execute_result"
    }
   ],
   "source": [
    "cumul_conso = len(conso_data)\n",
    "conso_data.tail(1)"
   ]
  },
  {
   "cell_type": "code",
   "execution_count": 114,
   "metadata": {},
   "outputs": [
    {
     "data": {
      "text/plain": [
       "2993958254000"
      ]
     },
     "execution_count": 114,
     "metadata": {},
     "output_type": "execute_result"
    }
   ],
   "source": [
    "cumtime= int(conso_data._get_value(l,'cumul(ms)')*1000)\n",
    "cumtime"
   ]
  },
  {
   "cell_type": "markdown",
   "metadata": {},
   "source": [
    "# Slice of last 1 kWh"
   ]
  },
  {
   "cell_type": "code",
   "execution_count": 115,
   "metadata": {},
   "outputs": [
    {
     "data": {
      "text/plain": [
       "126886"
      ]
     },
     "execution_count": 115,
     "metadata": {},
     "output_type": "execute_result"
    }
   ],
   "source": [
    "l = len(conso_data)  # total watt consommés\n",
    "l"
   ]
  },
  {
   "cell_type": "code",
   "execution_count": 116,
   "metadata": {},
   "outputs": [
    {
     "data": {
      "text/plain": [
       "(126886, 1000)"
      ]
     },
     "execution_count": 116,
     "metadata": {},
     "output_type": "execute_result"
    }
   ],
   "source": [
    "k = 1\n",
    "taille = k*1000  # fenetre k*1000 watt consommés\n",
    "l,taille"
   ]
  },
  {
   "cell_type": "code",
   "execution_count": 117,
   "metadata": {},
   "outputs": [
    {
     "data": {
      "text/plain": [
       "1000"
      ]
     },
     "execution_count": 117,
     "metadata": {},
     "output_type": "execute_result"
    }
   ],
   "source": [
    "if l<1000:\n",
    "    part = 1\n",
    "else: part = 1/2\n",
    "#taille = int(part*l)\n",
    "taille"
   ]
  },
  {
   "cell_type": "code",
   "execution_count": 118,
   "metadata": {},
   "outputs": [
    {
     "data": {
      "text/plain": [
       "(1000,\n",
       "         Interval   kWh     sec          Wh   cumul(ms)  \\\n",
       " 125886     27657  0.13  27.657  130.165962  2970736928   \n",
       " 125887     27402  0.13  27.402  131.377272  2970764330   \n",
       " 125888     27479  0.13  27.479  131.009134  2970791809   \n",
       " 125889     27488  0.13  27.488  130.966240  2970819297   \n",
       " 125890     27328  0.13  27.328  131.733021  2970846625   \n",
       " ...          ...   ...     ...         ...         ...   \n",
       " 126881     33818  0.11  33.818  106.452185  2993837024   \n",
       " 126882     33775  0.11  33.775  106.587713  2993870799   \n",
       " 126883     33619  0.11  33.619  107.082305  2993904418   \n",
       " 126884     28486  0.13  28.486  126.377870  2993932904   \n",
       " 126885     25350  0.14  25.350  142.011834  2993958254   \n",
       " \n",
       "                             dates        days  \n",
       " 125886 2024-04-10 10:52:57.928438  10/04/2024  \n",
       " 125887 2024-04-10 10:53:25.330438  10/04/2024  \n",
       " 125888 2024-04-10 10:53:52.809438  10/04/2024  \n",
       " 125889 2024-04-10 10:54:20.297438  10/04/2024  \n",
       " 125890 2024-04-10 10:54:47.625438  10/04/2024  \n",
       " ...                           ...         ...  \n",
       " 126881 2024-04-10 17:17:58.024438  10/04/2024  \n",
       " 126882 2024-04-10 17:18:31.799438  10/04/2024  \n",
       " 126883 2024-04-10 17:19:05.418438  10/04/2024  \n",
       " 126884 2024-04-10 17:19:33.904438  10/04/2024  \n",
       " 126885 2024-04-10 17:19:59.254438  10/04/2024  \n",
       " \n",
       " [1000 rows x 7 columns])"
      ]
     },
     "execution_count": 118,
     "metadata": {},
     "output_type": "execute_result"
    }
   ],
   "source": [
    "data = conso_data.tail(taille)\n",
    "len(data),data"
   ]
  },
  {
   "cell_type": "code",
   "execution_count": 119,
   "metadata": {},
   "outputs": [],
   "source": [
    "now = datetime.now()\n",
    "# conso.csv dynamique\n",
    "cumtime_start= int(conso_data._get_value(l-taille+1,'cumul(ms)')*1000) # conversion microseconds\n"
   ]
  },
  {
   "cell_type": "code",
   "execution_count": 120,
   "metadata": {},
   "outputs": [],
   "source": [
    "cumtime_end= int(data._get_value(l-1,'cumul(ms)')*1000) # conversion microseconds\n"
   ]
  },
  {
   "cell_type": "code",
   "execution_count": 121,
   "metadata": {},
   "outputs": [
    {
     "data": {
      "text/plain": [
       "(2993958254000, 2970764330000)"
      ]
     },
     "execution_count": 121,
     "metadata": {},
     "output_type": "execute_result"
    }
   ],
   "source": [
    "cumtime_end,cumtime_start"
   ]
  },
  {
   "cell_type": "code",
   "execution_count": 122,
   "metadata": {},
   "outputs": [
    {
     "data": {
      "text/plain": [
       "23193924000"
      ]
     },
     "execution_count": 122,
     "metadata": {},
     "output_type": "execute_result"
    }
   ],
   "source": [
    "#last_interval = int(data._get_value(l,'Interval')*1000) # conversion microseconds\n",
    "delta_cumtime = cumtime_end - cumtime_start #+ last_interval\n",
    "delta_cumtime"
   ]
  },
  {
   "cell_type": "code",
   "execution_count": 123,
   "metadata": {},
   "outputs": [
    {
     "data": {
      "text/plain": [
       "(datetime.datetime(2024, 4, 10, 17, 20, 9, 407015),\n",
       " datetime.datetime(2024, 4, 10, 10, 53, 35, 483015),\n",
       " '10/04/2024 17:19:59')"
      ]
     },
     "execution_count": 123,
     "metadata": {},
     "output_type": "execute_result"
    }
   ],
   "source": [
    "\n",
    "base = now - timedelta(microseconds=delta_cumtime)\n",
    "now,base, data['dates'][l-1].strftime('%d/%m/%Y %H:%M:%S')\n"
   ]
  },
  {
   "cell_type": "code",
   "execution_count": 124,
   "metadata": {},
   "outputs": [
    {
     "data": {
      "text/html": [
       "<div>\n",
       "<style scoped>\n",
       "    .dataframe tbody tr th:only-of-type {\n",
       "        vertical-align: middle;\n",
       "    }\n",
       "\n",
       "    .dataframe tbody tr th {\n",
       "        vertical-align: top;\n",
       "    }\n",
       "\n",
       "    .dataframe thead th {\n",
       "        text-align: right;\n",
       "    }\n",
       "</style>\n",
       "<table border=\"1\" class=\"dataframe\">\n",
       "  <thead>\n",
       "    <tr style=\"text-align: right;\">\n",
       "      <th></th>\n",
       "      <th>Interval</th>\n",
       "      <th>kWh</th>\n",
       "      <th>sec</th>\n",
       "      <th>Wh</th>\n",
       "      <th>cumul(ms)</th>\n",
       "      <th>dates</th>\n",
       "      <th>days</th>\n",
       "    </tr>\n",
       "  </thead>\n",
       "  <tbody>\n",
       "    <tr>\n",
       "      <th>0</th>\n",
       "      <td>26289</td>\n",
       "      <td>0.14</td>\n",
       "      <td>26.289</td>\n",
       "      <td>136.939404</td>\n",
       "      <td>26289</td>\n",
       "      <td>2024-03-07 01:41:07.289438</td>\n",
       "      <td>07/03/2024</td>\n",
       "    </tr>\n",
       "    <tr>\n",
       "      <th>1</th>\n",
       "      <td>26243</td>\n",
       "      <td>0.14</td>\n",
       "      <td>26.243</td>\n",
       "      <td>137.179438</td>\n",
       "      <td>52532</td>\n",
       "      <td>2024-03-07 01:41:33.532438</td>\n",
       "      <td>07/03/2024</td>\n",
       "    </tr>\n",
       "    <tr>\n",
       "      <th>2</th>\n",
       "      <td>25885</td>\n",
       "      <td>0.14</td>\n",
       "      <td>25.885</td>\n",
       "      <td>139.076685</td>\n",
       "      <td>78417</td>\n",
       "      <td>2024-03-07 01:41:59.417438</td>\n",
       "      <td>07/03/2024</td>\n",
       "    </tr>\n",
       "    <tr>\n",
       "      <th>3</th>\n",
       "      <td>25754</td>\n",
       "      <td>0.14</td>\n",
       "      <td>25.754</td>\n",
       "      <td>139.784111</td>\n",
       "      <td>104171</td>\n",
       "      <td>2024-03-07 01:42:25.171438</td>\n",
       "      <td>07/03/2024</td>\n",
       "    </tr>\n",
       "    <tr>\n",
       "      <th>4</th>\n",
       "      <td>25774</td>\n",
       "      <td>0.14</td>\n",
       "      <td>25.774</td>\n",
       "      <td>139.675642</td>\n",
       "      <td>129945</td>\n",
       "      <td>2024-03-07 01:42:50.945438</td>\n",
       "      <td>07/03/2024</td>\n",
       "    </tr>\n",
       "    <tr>\n",
       "      <th>...</th>\n",
       "      <td>...</td>\n",
       "      <td>...</td>\n",
       "      <td>...</td>\n",
       "      <td>...</td>\n",
       "      <td>...</td>\n",
       "      <td>...</td>\n",
       "      <td>...</td>\n",
       "    </tr>\n",
       "    <tr>\n",
       "      <th>126881</th>\n",
       "      <td>33818</td>\n",
       "      <td>0.11</td>\n",
       "      <td>33.818</td>\n",
       "      <td>106.452185</td>\n",
       "      <td>2993837024</td>\n",
       "      <td>2024-04-10 17:17:58.024438</td>\n",
       "      <td>10/04/2024</td>\n",
       "    </tr>\n",
       "    <tr>\n",
       "      <th>126882</th>\n",
       "      <td>33775</td>\n",
       "      <td>0.11</td>\n",
       "      <td>33.775</td>\n",
       "      <td>106.587713</td>\n",
       "      <td>2993870799</td>\n",
       "      <td>2024-04-10 17:18:31.799438</td>\n",
       "      <td>10/04/2024</td>\n",
       "    </tr>\n",
       "    <tr>\n",
       "      <th>126883</th>\n",
       "      <td>33619</td>\n",
       "      <td>0.11</td>\n",
       "      <td>33.619</td>\n",
       "      <td>107.082305</td>\n",
       "      <td>2993904418</td>\n",
       "      <td>2024-04-10 17:19:05.418438</td>\n",
       "      <td>10/04/2024</td>\n",
       "    </tr>\n",
       "    <tr>\n",
       "      <th>126884</th>\n",
       "      <td>28486</td>\n",
       "      <td>0.13</td>\n",
       "      <td>28.486</td>\n",
       "      <td>126.377870</td>\n",
       "      <td>2993932904</td>\n",
       "      <td>2024-04-10 17:19:33.904438</td>\n",
       "      <td>10/04/2024</td>\n",
       "    </tr>\n",
       "    <tr>\n",
       "      <th>126885</th>\n",
       "      <td>25350</td>\n",
       "      <td>0.14</td>\n",
       "      <td>25.350</td>\n",
       "      <td>142.011834</td>\n",
       "      <td>2993958254</td>\n",
       "      <td>2024-04-10 17:19:59.254438</td>\n",
       "      <td>10/04/2024</td>\n",
       "    </tr>\n",
       "  </tbody>\n",
       "</table>\n",
       "<p>126886 rows × 7 columns</p>\n",
       "</div>"
      ],
      "text/plain": [
       "        Interval   kWh     sec          Wh   cumul(ms)  \\\n",
       "0          26289  0.14  26.289  136.939404       26289   \n",
       "1          26243  0.14  26.243  137.179438       52532   \n",
       "2          25885  0.14  25.885  139.076685       78417   \n",
       "3          25754  0.14  25.754  139.784111      104171   \n",
       "4          25774  0.14  25.774  139.675642      129945   \n",
       "...          ...   ...     ...         ...         ...   \n",
       "126881     33818  0.11  33.818  106.452185  2993837024   \n",
       "126882     33775  0.11  33.775  106.587713  2993870799   \n",
       "126883     33619  0.11  33.619  107.082305  2993904418   \n",
       "126884     28486  0.13  28.486  126.377870  2993932904   \n",
       "126885     25350  0.14  25.350  142.011834  2993958254   \n",
       "\n",
       "                            dates        days  \n",
       "0      2024-03-07 01:41:07.289438  07/03/2024  \n",
       "1      2024-03-07 01:41:33.532438  07/03/2024  \n",
       "2      2024-03-07 01:41:59.417438  07/03/2024  \n",
       "3      2024-03-07 01:42:25.171438  07/03/2024  \n",
       "4      2024-03-07 01:42:50.945438  07/03/2024  \n",
       "...                           ...         ...  \n",
       "126881 2024-04-10 17:17:58.024438  10/04/2024  \n",
       "126882 2024-04-10 17:18:31.799438  10/04/2024  \n",
       "126883 2024-04-10 17:19:05.418438  10/04/2024  \n",
       "126884 2024-04-10 17:19:33.904438  10/04/2024  \n",
       "126885 2024-04-10 17:19:59.254438  10/04/2024  \n",
       "\n",
       "[126886 rows x 7 columns]"
      ]
     },
     "execution_count": 124,
     "metadata": {},
     "output_type": "execute_result"
    }
   ],
   "source": [
    "conso_data"
   ]
  },
  {
   "cell_type": "code",
   "execution_count": 125,
   "metadata": {},
   "outputs": [
    {
     "data": {
      "text/plain": [
       "('10/04/2024 10:53:25', '10/04/2024 17:19:59')"
      ]
     },
     "execution_count": 125,
     "metadata": {},
     "output_type": "execute_result"
    }
   ],
   "source": [
    "end = conso_data['dates'][l-1].strftime('%d/%m/%Y %H:%M:%S')\n",
    "start = conso_data['dates'][l-taille+1].strftime('%d/%m/%Y %H:%M:%S')\n",
    "start,end"
   ]
  },
  {
   "cell_type": "code",
   "execution_count": 126,
   "metadata": {},
   "outputs": [
    {
     "data": {
      "text/plain": [
       "('2024-04-10 10:52:57.928438', '2024-04-10 17:19:59.254438')"
      ]
     },
     "execution_count": 126,
     "metadata": {},
     "output_type": "execute_result"
    }
   ],
   "source": [
    "data.head(1)['dates'].to_string(index=False),data.tail(1)['dates'].to_string(index=False)"
   ]
  },
  {
   "cell_type": "code",
   "execution_count": 127,
   "metadata": {},
   "outputs": [
    {
     "data": {
      "text/plain": [
       "1"
      ]
     },
     "execution_count": 127,
     "metadata": {},
     "output_type": "execute_result"
    }
   ],
   "source": [
    "k"
   ]
  },
  {
   "cell_type": "code",
   "execution_count": 128,
   "metadata": {},
   "outputs": [
    {
     "data": {
      "text/plain": [
       "125886    27657\n",
       "125887    27402\n",
       "125888    27479\n",
       "125889    27488\n",
       "125890    27328\n",
       "          ...  \n",
       "126881    33818\n",
       "126882    33775\n",
       "126883    33619\n",
       "126884    28486\n",
       "126885    25350\n",
       "Name: Interval, Length: 1000, dtype: int64"
      ]
     },
     "execution_count": 128,
     "metadata": {},
     "output_type": "execute_result"
    }
   ],
   "source": [
    "data.Interval.tail(1000)"
   ]
  },
  {
   "cell_type": "code",
   "execution_count": 129,
   "metadata": {},
   "outputs": [
    {
     "data": {
      "text/plain": [
       "(6.458050833333334, 3.716291590045035, 6, 27, 28)"
      ]
     },
     "execution_count": 129,
     "metadata": {},
     "output_type": "execute_result"
    }
   ],
   "source": [
    "conversion_us_heure = 1/1000/60/60 \n",
    "temps_1kWh = sum(data.Interval.tail(1000))*conversion_us_heure  #somme 1000 interval = temps conso 1 kWh\n",
    "conso_jour = 24/temps_1kWh\n",
    "heure = int(temps_1kWh)\n",
    "mn = (temps_1kWh - heure)*60\n",
    "sec = (mn - int(mn))*60\n",
    "temps_1kWh, conso_jour,heure,int(mn),int(sec)"
   ]
  },
  {
   "cell_type": "code",
   "execution_count": 130,
   "metadata": {},
   "outputs": [
    {
     "name": "stderr",
     "output_type": "stream",
     "text": [
      "C:\\Users\\jean\\AppData\\Local\\Temp\\ipykernel_17660\\3458501435.py:1: SettingWithCopyWarning: \n",
      "A value is trying to be set on a copy of a slice from a DataFrame.\n",
      "Try using .loc[row_indexer,col_indexer] = value instead\n",
      "\n",
      "See the caveats in the documentation: https://pandas.pydata.org/pandas-docs/stable/user_guide/indexing.html#returning-a-view-versus-a-copy\n",
      "  data['heure']=conso_data['dates']#.strftime('%d/%m/%Y %H:%M:%S')\n"
     ]
    }
   ],
   "source": [
    "data['heure']=conso_data['dates']#.strftime('%d/%m/%Y %H:%M:%S')"
   ]
  },
  {
   "cell_type": "code",
   "execution_count": 131,
   "metadata": {},
   "outputs": [
    {
     "data": {
      "text/html": [
       "<div>\n",
       "<style scoped>\n",
       "    .dataframe tbody tr th:only-of-type {\n",
       "        vertical-align: middle;\n",
       "    }\n",
       "\n",
       "    .dataframe tbody tr th {\n",
       "        vertical-align: top;\n",
       "    }\n",
       "\n",
       "    .dataframe thead th {\n",
       "        text-align: right;\n",
       "    }\n",
       "</style>\n",
       "<table border=\"1\" class=\"dataframe\">\n",
       "  <thead>\n",
       "    <tr style=\"text-align: right;\">\n",
       "      <th></th>\n",
       "      <th>Interval</th>\n",
       "      <th>kWh</th>\n",
       "      <th>sec</th>\n",
       "      <th>Wh</th>\n",
       "      <th>cumul(ms)</th>\n",
       "      <th>dates</th>\n",
       "      <th>days</th>\n",
       "      <th>heure</th>\n",
       "    </tr>\n",
       "  </thead>\n",
       "  <tbody>\n",
       "    <tr>\n",
       "      <th>125886</th>\n",
       "      <td>27657</td>\n",
       "      <td>0.13</td>\n",
       "      <td>27.657</td>\n",
       "      <td>130.165962</td>\n",
       "      <td>2970736928</td>\n",
       "      <td>2024-04-10 10:52:57.928438</td>\n",
       "      <td>10/04/2024</td>\n",
       "      <td>2024-04-10 10:52:57.928438</td>\n",
       "    </tr>\n",
       "    <tr>\n",
       "      <th>125887</th>\n",
       "      <td>27402</td>\n",
       "      <td>0.13</td>\n",
       "      <td>27.402</td>\n",
       "      <td>131.377272</td>\n",
       "      <td>2970764330</td>\n",
       "      <td>2024-04-10 10:53:25.330438</td>\n",
       "      <td>10/04/2024</td>\n",
       "      <td>2024-04-10 10:53:25.330438</td>\n",
       "    </tr>\n",
       "    <tr>\n",
       "      <th>125888</th>\n",
       "      <td>27479</td>\n",
       "      <td>0.13</td>\n",
       "      <td>27.479</td>\n",
       "      <td>131.009134</td>\n",
       "      <td>2970791809</td>\n",
       "      <td>2024-04-10 10:53:52.809438</td>\n",
       "      <td>10/04/2024</td>\n",
       "      <td>2024-04-10 10:53:52.809438</td>\n",
       "    </tr>\n",
       "    <tr>\n",
       "      <th>125889</th>\n",
       "      <td>27488</td>\n",
       "      <td>0.13</td>\n",
       "      <td>27.488</td>\n",
       "      <td>130.966240</td>\n",
       "      <td>2970819297</td>\n",
       "      <td>2024-04-10 10:54:20.297438</td>\n",
       "      <td>10/04/2024</td>\n",
       "      <td>2024-04-10 10:54:20.297438</td>\n",
       "    </tr>\n",
       "    <tr>\n",
       "      <th>125890</th>\n",
       "      <td>27328</td>\n",
       "      <td>0.13</td>\n",
       "      <td>27.328</td>\n",
       "      <td>131.733021</td>\n",
       "      <td>2970846625</td>\n",
       "      <td>2024-04-10 10:54:47.625438</td>\n",
       "      <td>10/04/2024</td>\n",
       "      <td>2024-04-10 10:54:47.625438</td>\n",
       "    </tr>\n",
       "    <tr>\n",
       "      <th>...</th>\n",
       "      <td>...</td>\n",
       "      <td>...</td>\n",
       "      <td>...</td>\n",
       "      <td>...</td>\n",
       "      <td>...</td>\n",
       "      <td>...</td>\n",
       "      <td>...</td>\n",
       "      <td>...</td>\n",
       "    </tr>\n",
       "    <tr>\n",
       "      <th>126881</th>\n",
       "      <td>33818</td>\n",
       "      <td>0.11</td>\n",
       "      <td>33.818</td>\n",
       "      <td>106.452185</td>\n",
       "      <td>2993837024</td>\n",
       "      <td>2024-04-10 17:17:58.024438</td>\n",
       "      <td>10/04/2024</td>\n",
       "      <td>2024-04-10 17:17:58.024438</td>\n",
       "    </tr>\n",
       "    <tr>\n",
       "      <th>126882</th>\n",
       "      <td>33775</td>\n",
       "      <td>0.11</td>\n",
       "      <td>33.775</td>\n",
       "      <td>106.587713</td>\n",
       "      <td>2993870799</td>\n",
       "      <td>2024-04-10 17:18:31.799438</td>\n",
       "      <td>10/04/2024</td>\n",
       "      <td>2024-04-10 17:18:31.799438</td>\n",
       "    </tr>\n",
       "    <tr>\n",
       "      <th>126883</th>\n",
       "      <td>33619</td>\n",
       "      <td>0.11</td>\n",
       "      <td>33.619</td>\n",
       "      <td>107.082305</td>\n",
       "      <td>2993904418</td>\n",
       "      <td>2024-04-10 17:19:05.418438</td>\n",
       "      <td>10/04/2024</td>\n",
       "      <td>2024-04-10 17:19:05.418438</td>\n",
       "    </tr>\n",
       "    <tr>\n",
       "      <th>126884</th>\n",
       "      <td>28486</td>\n",
       "      <td>0.13</td>\n",
       "      <td>28.486</td>\n",
       "      <td>126.377870</td>\n",
       "      <td>2993932904</td>\n",
       "      <td>2024-04-10 17:19:33.904438</td>\n",
       "      <td>10/04/2024</td>\n",
       "      <td>2024-04-10 17:19:33.904438</td>\n",
       "    </tr>\n",
       "    <tr>\n",
       "      <th>126885</th>\n",
       "      <td>25350</td>\n",
       "      <td>0.14</td>\n",
       "      <td>25.350</td>\n",
       "      <td>142.011834</td>\n",
       "      <td>2993958254</td>\n",
       "      <td>2024-04-10 17:19:59.254438</td>\n",
       "      <td>10/04/2024</td>\n",
       "      <td>2024-04-10 17:19:59.254438</td>\n",
       "    </tr>\n",
       "  </tbody>\n",
       "</table>\n",
       "<p>1000 rows × 8 columns</p>\n",
       "</div>"
      ],
      "text/plain": [
       "        Interval   kWh     sec          Wh   cumul(ms)  \\\n",
       "125886     27657  0.13  27.657  130.165962  2970736928   \n",
       "125887     27402  0.13  27.402  131.377272  2970764330   \n",
       "125888     27479  0.13  27.479  131.009134  2970791809   \n",
       "125889     27488  0.13  27.488  130.966240  2970819297   \n",
       "125890     27328  0.13  27.328  131.733021  2970846625   \n",
       "...          ...   ...     ...         ...         ...   \n",
       "126881     33818  0.11  33.818  106.452185  2993837024   \n",
       "126882     33775  0.11  33.775  106.587713  2993870799   \n",
       "126883     33619  0.11  33.619  107.082305  2993904418   \n",
       "126884     28486  0.13  28.486  126.377870  2993932904   \n",
       "126885     25350  0.14  25.350  142.011834  2993958254   \n",
       "\n",
       "                            dates        days                      heure  \n",
       "125886 2024-04-10 10:52:57.928438  10/04/2024 2024-04-10 10:52:57.928438  \n",
       "125887 2024-04-10 10:53:25.330438  10/04/2024 2024-04-10 10:53:25.330438  \n",
       "125888 2024-04-10 10:53:52.809438  10/04/2024 2024-04-10 10:53:52.809438  \n",
       "125889 2024-04-10 10:54:20.297438  10/04/2024 2024-04-10 10:54:20.297438  \n",
       "125890 2024-04-10 10:54:47.625438  10/04/2024 2024-04-10 10:54:47.625438  \n",
       "...                           ...         ...                        ...  \n",
       "126881 2024-04-10 17:17:58.024438  10/04/2024 2024-04-10 17:17:58.024438  \n",
       "126882 2024-04-10 17:18:31.799438  10/04/2024 2024-04-10 17:18:31.799438  \n",
       "126883 2024-04-10 17:19:05.418438  10/04/2024 2024-04-10 17:19:05.418438  \n",
       "126884 2024-04-10 17:19:33.904438  10/04/2024 2024-04-10 17:19:33.904438  \n",
       "126885 2024-04-10 17:19:59.254438  10/04/2024 2024-04-10 17:19:59.254438  \n",
       "\n",
       "[1000 rows x 8 columns]"
      ]
     },
     "execution_count": 131,
     "metadata": {},
     "output_type": "execute_result"
    }
   ],
   "source": [
    "data"
   ]
  },
  {
   "cell_type": "code",
   "execution_count": 132,
   "metadata": {},
   "outputs": [
    {
     "data": {
      "text/plain": [
       "<Axes: >"
      ]
     },
     "execution_count": 132,
     "metadata": {},
     "output_type": "execute_result"
    },
    {
     "data": {
      "image/png": "[encoded data removed]",
      "text/plain": [
       "<Figure size 640x480 with 1 Axes>"
      ]
     },
     "metadata": {},
     "output_type": "display_data"
    }
   ],
   "source": [
    "#data.tail(600)['Wh'].plot()\n",
    "data['Wh'].plot()"
   ]
  },
  {
   "cell_type": "code",
   "execution_count": 133,
   "metadata": {},
   "outputs": [
    {
     "data": {
      "text/plain": [
       "125886    130.165962\n",
       "125887    131.377272\n",
       "125888    131.009134\n",
       "125889    130.966240\n",
       "125890    131.733021\n",
       "             ...    \n",
       "126881    106.452185\n",
       "126882    106.587713\n",
       "126883    107.082305\n",
       "126884    126.377870\n",
       "126885    142.011834\n",
       "Name: Wh, Length: 1000, dtype: float64"
      ]
     },
     "execution_count": 133,
     "metadata": {},
     "output_type": "execute_result"
    }
   ],
   "source": [
    "data['Wh']"
   ]
  },
  {
   "cell_type": "markdown",
   "metadata": {},
   "source": [
    "# k kW window graph"
   ]
  },
  {
   "cell_type": "code",
   "execution_count": 134,
   "metadata": {},
   "outputs": [
    {
     "data": {
      "image/png": "[encoded data removed]",
      "text/plain": [
       "<Figure size 1500x800 with 1 Axes>"
      ]
     },
     "metadata": {},
     "output_type": "display_data"
    }
   ],
   "source": [
    "fig, ax = plt.subplots()\n",
    "# the size of A4 paper\n",
    "fig.set_size_inches(15, 8)\n",
    "\n",
    "formatter = DateFormatter('%d/%m\\n%H:%M')\n",
    "ax.xaxis.set_major_formatter(formatter)\n",
    "\n",
    "# ticks sur axe des x\n",
    "major_ticks=1/30;minor_ticks=1/360\n",
    "ax.xaxis.set_major_locator(MultipleLocator(major_ticks))  # 1 major tick tous les 48 min\n",
    "ax.xaxis.set_minor_locator(MultipleLocator(minor_ticks))  # 1 minor ticks tous les 4 min\n",
    "ax.tick_params(which='both', width=3)\n",
    "ax.tick_params(which='major', length=15, color='r')\n",
    "ax.tick_params(which='minor', length=8, color='b')\n",
    "\n",
    "plt.title(f'Consommation {k} kW (Temps: {heure} heures {int(mn)} minutes {int(sec)} secondes)\\nDe {start} à {end}')\n",
    "plt.plot(data['dates'],data['Wh'])\n",
    "plt.ylabel('Wh')\n",
    "plt.xlabel('Time (heures)')\n",
    "plt.grid()\n"
   ]
  },
  {
   "cell_type": "code",
   "execution_count": 135,
   "metadata": {},
   "outputs": [
    {
     "data": {
      "text/plain": [
       "<Axes: ylabel='Frequency'>"
      ]
     },
     "execution_count": 135,
     "metadata": {},
     "output_type": "execute_result"
    },
    {
     "data": {
      "image/png": "[encoded data removed]",
      "text/plain": [
       "<Figure size 640x480 with 1 Axes>"
      ]
     },
     "metadata": {},
     "output_type": "display_data"
    }
   ],
   "source": [
    "data.kWh.plot.hist(bins=50,rwidth=0.8,grid=True)\n"
   ]
  },
  {
   "cell_type": "code",
   "execution_count": 136,
   "metadata": {},
   "outputs": [
    {
     "data": {
      "text/html": [
       "<div>\n",
       "<style scoped>\n",
       "    .dataframe tbody tr th:only-of-type {\n",
       "        vertical-align: middle;\n",
       "    }\n",
       "\n",
       "    .dataframe tbody tr th {\n",
       "        vertical-align: top;\n",
       "    }\n",
       "\n",
       "    .dataframe thead th {\n",
       "        text-align: right;\n",
       "    }\n",
       "</style>\n",
       "<table border=\"1\" class=\"dataframe\">\n",
       "  <thead>\n",
       "    <tr style=\"text-align: right;\">\n",
       "      <th></th>\n",
       "      <th>Interval</th>\n",
       "      <th>kWh</th>\n",
       "      <th>sec</th>\n",
       "      <th>Wh</th>\n",
       "      <th>cumul(ms)</th>\n",
       "      <th>dates</th>\n",
       "      <th>days</th>\n",
       "    </tr>\n",
       "  </thead>\n",
       "  <tbody>\n",
       "    <tr>\n",
       "      <th>126881</th>\n",
       "      <td>33818</td>\n",
       "      <td>0.11</td>\n",
       "      <td>33.818</td>\n",
       "      <td>106.452185</td>\n",
       "      <td>2993837024</td>\n",
       "      <td>2024-04-10 17:17:58.024438</td>\n",
       "      <td>10/04/2024</td>\n",
       "    </tr>\n",
       "    <tr>\n",
       "      <th>126882</th>\n",
       "      <td>33775</td>\n",
       "      <td>0.11</td>\n",
       "      <td>33.775</td>\n",
       "      <td>106.587713</td>\n",
       "      <td>2993870799</td>\n",
       "      <td>2024-04-10 17:18:31.799438</td>\n",
       "      <td>10/04/2024</td>\n",
       "    </tr>\n",
       "    <tr>\n",
       "      <th>126883</th>\n",
       "      <td>33619</td>\n",
       "      <td>0.11</td>\n",
       "      <td>33.619</td>\n",
       "      <td>107.082305</td>\n",
       "      <td>2993904418</td>\n",
       "      <td>2024-04-10 17:19:05.418438</td>\n",
       "      <td>10/04/2024</td>\n",
       "    </tr>\n",
       "    <tr>\n",
       "      <th>126884</th>\n",
       "      <td>28486</td>\n",
       "      <td>0.13</td>\n",
       "      <td>28.486</td>\n",
       "      <td>126.377870</td>\n",
       "      <td>2993932904</td>\n",
       "      <td>2024-04-10 17:19:33.904438</td>\n",
       "      <td>10/04/2024</td>\n",
       "    </tr>\n",
       "    <tr>\n",
       "      <th>126885</th>\n",
       "      <td>25350</td>\n",
       "      <td>0.14</td>\n",
       "      <td>25.350</td>\n",
       "      <td>142.011834</td>\n",
       "      <td>2993958254</td>\n",
       "      <td>2024-04-10 17:19:59.254438</td>\n",
       "      <td>10/04/2024</td>\n",
       "    </tr>\n",
       "  </tbody>\n",
       "</table>\n",
       "</div>"
      ],
      "text/plain": [
       "        Interval   kWh     sec          Wh   cumul(ms)  \\\n",
       "126881     33818  0.11  33.818  106.452185  2993837024   \n",
       "126882     33775  0.11  33.775  106.587713  2993870799   \n",
       "126883     33619  0.11  33.619  107.082305  2993904418   \n",
       "126884     28486  0.13  28.486  126.377870  2993932904   \n",
       "126885     25350  0.14  25.350  142.011834  2993958254   \n",
       "\n",
       "                            dates        days  \n",
       "126881 2024-04-10 17:17:58.024438  10/04/2024  \n",
       "126882 2024-04-10 17:18:31.799438  10/04/2024  \n",
       "126883 2024-04-10 17:19:05.418438  10/04/2024  \n",
       "126884 2024-04-10 17:19:33.904438  10/04/2024  \n",
       "126885 2024-04-10 17:19:59.254438  10/04/2024  "
      ]
     },
     "execution_count": 136,
     "metadata": {},
     "output_type": "execute_result"
    }
   ],
   "source": [
    "conso_data.tail()"
   ]
  },
  {
   "cell_type": "code",
   "execution_count": 137,
   "metadata": {},
   "outputs": [
    {
     "data": {
      "image/png": "[encoded data removed]",
      "text/plain": [
       "<Figure size 640x480 with 1 Axes>"
      ]
     },
     "metadata": {},
     "output_type": "display_data"
    }
   ],
   "source": [
    "conso_data.tail(1000)['kWh'].plot()\n",
    "plt.grid()"
   ]
  },
  {
   "cell_type": "code",
   "execution_count": 138,
   "metadata": {},
   "outputs": [
    {
     "data": {
      "text/plain": [
       "(2993958254000.0, 49899.304233333336)"
      ]
     },
     "execution_count": 138,
     "metadata": {},
     "output_type": "execute_result"
    }
   ],
   "source": [
    "#plt.plot(conso_data['sec'])\n",
    "now = dt.datetime.now()\n",
    "last_cumul = np.array(conso_data['cumul(ms)'].tail(1))[0]*1000.0  # us\n",
    "last_cumul, last_cumul/60e6  # min"
   ]
  },
  {
   "cell_type": "code",
   "execution_count": 139,
   "metadata": {},
   "outputs": [
    {
     "data": {
      "text/plain": [
       "(datetime.datetime(2024, 4, 10, 17, 20, 12, 721173),\n",
       " datetime.datetime(2024, 3, 7, 1, 40, 54, 467173))"
      ]
     },
     "execution_count": 139,
     "metadata": {},
     "output_type": "execute_result"
    }
   ],
   "source": [
    "begin = now - dt.timedelta(microseconds=last_cumul)  #2023, 6, 24, 9, 14, (39, 942895) approximatif\n",
    "now, begin"
   ]
  },
  {
   "cell_type": "code",
   "execution_count": 140,
   "metadata": {},
   "outputs": [
    {
     "data": {
      "text/plain": [
       "(126886, 2993959, 831.6552777777778)"
      ]
     },
     "execution_count": 140,
     "metadata": {},
     "output_type": "execute_result"
    }
   ],
   "source": [
    "x = mdates.drange(begin,now,dt.timedelta(microseconds=1000000))  # seconds\n",
    "len(conso_data),len(x),len(x)/3600"
   ]
  },
  {
   "cell_type": "code",
   "execution_count": 141,
   "metadata": {},
   "outputs": [],
   "source": [
    "def format_date(space=3):\n",
    "    plt.gca().xaxis.set_major_formatter(mdates.DateFormatter('%d/%m\\n%H:%M'))\n",
    "    plt.gca().xaxis.set_major_locator(mdates.HourLocator(space))\n",
    "    plt.gca().xaxis.set_major_locator(mdates.HourLocator(interval=space))\n",
    "    plt.gcf().autofmt_xdate()\n",
    "    plt.grid()"
   ]
  },
  {
   "cell_type": "code",
   "execution_count": 142,
   "metadata": {},
   "outputs": [
    {
     "data": {
      "text/plain": [
       "732"
      ]
     },
     "execution_count": 142,
     "metadata": {},
     "output_type": "execute_result"
    }
   ],
   "source": [
    "import numpy as np\n",
    "import datetime as dt\n",
    "import matplotlib.pyplot as plt\n",
    "base = dt.datetime(2005, 2, 1)\n",
    "dates = [base + dt.timedelta(hours=(2 * i)) for i in range(732)]\n",
    "N = len(dates)\n",
    "N\n"
   ]
  },
  {
   "cell_type": "code",
   "execution_count": 143,
   "metadata": {},
   "outputs": [
    {
     "data": {
      "text/plain": [
       "61.0"
      ]
     },
     "execution_count": 143,
     "metadata": {},
     "output_type": "execute_result"
    }
   ],
   "source": [
    "732/12 # 60 jours"
   ]
  },
  {
   "cell_type": "code",
   "execution_count": 144,
   "metadata": {},
   "outputs": [
    {
     "data": {
      "text/plain": [
       "(datetime.datetime(2005, 2, 1, 0, 0), datetime.datetime(2005, 4, 2, 22, 0))"
      ]
     },
     "execution_count": 144,
     "metadata": {},
     "output_type": "execute_result"
    }
   ],
   "source": [
    "dates[0],dates[-1]"
   ]
  },
  {
   "cell_type": "code",
   "execution_count": 145,
   "metadata": {},
   "outputs": [
    {
     "data": {
      "image/png": "[encoded data removed]",
      "text/plain": [
       "<Figure size 600x600 with 3 Axes>"
      ]
     },
     "metadata": {},
     "output_type": "display_data"
    }
   ],
   "source": [
    "np.random.seed(19680801)\n",
    "y = np.cumsum(np.random.randn(N))\n",
    "\n",
    "fig, axs = plt.subplots(3, 1, layout='constrained', figsize=(6, 6))\n",
    "lims = [(np.datetime64('2005-02'), np.datetime64('2005-04')),\n",
    "        (np.datetime64('2005-02-03'), np.datetime64('2005-02-15')),\n",
    "        (np.datetime64('2005-02-03 11:00'), np.datetime64('2005-02-04 13:20'))]\n",
    "for nn, ax in enumerate(axs):\n",
    "    ax.plot(dates, y)\n",
    "    ax.set_xlim(lims[nn])\n",
    "    # rotate_labels...\n",
    "    for label in ax.get_xticklabels():\n",
    "        label.set_rotation(40)\n",
    "        label.set_horizontalalignment('right')\n",
    "axs[0].set_title('Default Date Formatter')\n",
    "plt.show()"
   ]
  },
  {
   "cell_type": "code",
   "execution_count": 146,
   "metadata": {},
   "outputs": [
    {
     "data": {
      "text/plain": [
       "datetime.datetime(2005, 4, 2, 22, 0)"
      ]
     },
     "execution_count": 146,
     "metadata": {},
     "output_type": "execute_result"
    }
   ],
   "source": [
    "t = dt.datetime(2005, 4, 2, 22, 0)\n",
    "t"
   ]
  }
 ],
 "metadata": {
  "kernelspec": {
   "display_name": "Python 3",
   "language": "python",
   "name": "python3"
  },
  "language_info": {
   "codemirror_mode": {
    "name": "ipython",
    "version": 3
   },
   "file_extension": ".py",
   "mimetype": "text/x-python",
   "name": "python",
   "nbconvert_exporter": "python",
   "pygments_lexer": "ipython3",
   "version": "3.11.4"
  },
  "orig_nbformat": 4
 },
 "nbformat": 4,
 "nbformat_minor": 2
}
