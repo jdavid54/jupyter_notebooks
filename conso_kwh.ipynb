{
 "cells": [
  {
   "cell_type": "code",
   "execution_count": 53,
   "metadata": {},
   "outputs": [],
   "source": [
    "import pandas as pd\n",
    "import numpy as np\n",
    "import matplotlib.pyplot as plt\n",
    "import matplotlib.dates as mdates\n",
    "import matplotlib.ticker as ticker\n",
    "from matplotlib.axis import Axis\n",
    "import datetime as dt\n",
    "\n",
    "#plt.style.use(['science', 'notebook'])\n",
    "#%matplotlib inline\n"
   ]
  },
  {
   "cell_type": "code",
   "execution_count": 54,
   "metadata": {},
   "outputs": [],
   "source": [
    "data_file = \"conso.txt\""
   ]
  },
  {
   "cell_type": "code",
   "execution_count": 55,
   "metadata": {},
   "outputs": [],
   "source": [
    "def read_text(filename):\n",
    "    f = open(filename, \"r\")\n",
    "    text = f.readlines()\n",
    "    f.close()\n",
    "    print(text)\n",
    "\n",
    "#read_text(data_file)"
   ]
  },
  {
   "cell_type": "code",
   "execution_count": 56,
   "metadata": {},
   "outputs": [],
   "source": [
    "def get_data(filename):    \n",
    "    data = pd.read_csv(filename)\n",
    "    #data['time'] = pd.to_datetime(data['time'])  #.dt.tz_convert(None)\n",
    "    #data.info()\n",
    "    #print(data.tail(5))\n",
    "    return data\n"
   ]
  },
  {
   "cell_type": "code",
   "execution_count": 57,
   "metadata": {},
   "outputs": [
    {
     "name": "stdout",
     "output_type": "stream",
     "text": [
      "<class 'pandas.core.frame.DataFrame'>\n",
      "RangeIndex: 1013 entries, 0 to 1012\n",
      "Data columns (total 1 columns):\n",
      " #   Column  Non-Null Count  Dtype  \n",
      "---  ------  --------------  -----  \n",
      " 0   Conso   1013 non-null   float64\n",
      "dtypes: float64(1)\n",
      "memory usage: 8.0 KB\n"
     ]
    }
   ],
   "source": [
    "# read data with pandas\n",
    "data = get_data(data_file)\n",
    "data.info()\n"
   ]
  },
  {
   "cell_type": "code",
   "execution_count": 58,
   "metadata": {},
   "outputs": [
    {
     "data": {
      "text/html": [
       "<div>\n",
       "<style scoped>\n",
       "    .dataframe tbody tr th:only-of-type {\n",
       "        vertical-align: middle;\n",
       "    }\n",
       "\n",
       "    .dataframe tbody tr th {\n",
       "        vertical-align: top;\n",
       "    }\n",
       "\n",
       "    .dataframe thead th {\n",
       "        text-align: right;\n",
       "    }\n",
       "</style>\n",
       "<table border=\"1\" class=\"dataframe\">\n",
       "  <thead>\n",
       "    <tr style=\"text-align: right;\">\n",
       "      <th></th>\n",
       "      <th>Conso</th>\n",
       "      <th>interval</th>\n",
       "    </tr>\n",
       "  </thead>\n",
       "  <tbody>\n",
       "    <tr>\n",
       "      <th>0</th>\n",
       "      <td>0.19</td>\n",
       "      <td>18947.368421</td>\n",
       "    </tr>\n",
       "    <tr>\n",
       "      <th>1</th>\n",
       "      <td>0.19</td>\n",
       "      <td>18947.368421</td>\n",
       "    </tr>\n",
       "    <tr>\n",
       "      <th>2</th>\n",
       "      <td>0.19</td>\n",
       "      <td>18947.368421</td>\n",
       "    </tr>\n",
       "    <tr>\n",
       "      <th>3</th>\n",
       "      <td>0.19</td>\n",
       "      <td>18947.368421</td>\n",
       "    </tr>\n",
       "    <tr>\n",
       "      <th>4</th>\n",
       "      <td>0.19</td>\n",
       "      <td>18947.368421</td>\n",
       "    </tr>\n",
       "    <tr>\n",
       "      <th>...</th>\n",
       "      <td>...</td>\n",
       "      <td>...</td>\n",
       "    </tr>\n",
       "    <tr>\n",
       "      <th>1008</th>\n",
       "      <td>0.16</td>\n",
       "      <td>22500.000000</td>\n",
       "    </tr>\n",
       "    <tr>\n",
       "      <th>1009</th>\n",
       "      <td>0.16</td>\n",
       "      <td>22500.000000</td>\n",
       "    </tr>\n",
       "    <tr>\n",
       "      <th>1010</th>\n",
       "      <td>0.17</td>\n",
       "      <td>21176.470588</td>\n",
       "    </tr>\n",
       "    <tr>\n",
       "      <th>1011</th>\n",
       "      <td>0.17</td>\n",
       "      <td>21176.470588</td>\n",
       "    </tr>\n",
       "    <tr>\n",
       "      <th>1012</th>\n",
       "      <td>0.16</td>\n",
       "      <td>22500.000000</td>\n",
       "    </tr>\n",
       "  </tbody>\n",
       "</table>\n",
       "<p>1013 rows × 2 columns</p>\n",
       "</div>"
      ],
      "text/plain": [
       "      Conso      interval\n",
       "0      0.19  18947.368421\n",
       "1      0.19  18947.368421\n",
       "2      0.19  18947.368421\n",
       "3      0.19  18947.368421\n",
       "4      0.19  18947.368421\n",
       "...     ...           ...\n",
       "1008   0.16  22500.000000\n",
       "1009   0.16  22500.000000\n",
       "1010   0.17  21176.470588\n",
       "1011   0.17  21176.470588\n",
       "1012   0.16  22500.000000\n",
       "\n",
       "[1013 rows x 2 columns]"
      ]
     },
     "execution_count": 58,
     "metadata": {},
     "output_type": "execute_result"
    }
   ],
   "source": [
    "data['interval']=3600/data['Conso']\n",
    "data"
   ]
  },
  {
   "cell_type": "code",
   "execution_count": 59,
   "metadata": {},
   "outputs": [
    {
     "data": {
      "text/plain": [
       "<matplotlib.legend.Legend at 0x2055c261850>"
      ]
     },
     "execution_count": 59,
     "metadata": {},
     "output_type": "execute_result"
    },
    {
     "data": {
      "image/png": "[encoded data removed]",
      "text/plain": [
       "<Figure size 640x480 with 1 Axes>"
      ]
     },
     "metadata": {},
     "output_type": "display_data"
    }
   ],
   "source": [
    "\n",
    "plt.title('Consommation Linky')\n",
    "plt.plot(data, color='red',label='Conso')\n",
    "\n",
    "plt.grid()\n",
    "plt.legend()"
   ]
  },
  {
   "attachments": {},
   "cell_type": "markdown",
   "metadata": {},
   "source": [
    "### conso.csv sur WD6TB mis à jour avec PI4"
   ]
  },
  {
   "cell_type": "code",
   "execution_count": 60,
   "metadata": {},
   "outputs": [],
   "source": [
    "def get_data2(filename):    \n",
    "    data = pd.read_csv(filename, names=[\"Interval\",\"kWh\"])\n",
    "    return data"
   ]
  },
  {
   "cell_type": "code",
   "execution_count": 61,
   "metadata": {},
   "outputs": [
    {
     "name": "stdout",
     "output_type": "stream",
     "text": [
      "<class 'pandas.core.frame.DataFrame'>\n",
      "RangeIndex: 11398 entries, 0 to 11397\n",
      "Data columns (total 2 columns):\n",
      " #   Column    Non-Null Count  Dtype  \n",
      "---  ------    --------------  -----  \n",
      " 0   Interval  11398 non-null  int64  \n",
      " 1   kWh       11398 non-null  float64\n",
      "dtypes: float64(1), int64(1)\n",
      "memory usage: 178.2 KB\n"
     ]
    }
   ],
   "source": [
    "old = False\n",
    "\n",
    "if old:\n",
    "    #conso_file = r\"C:\\Users\\jean\\Documents\\conso.csv\"\n",
    "    conso_file = r\"Y:\\Documents\\conso_old.csv\"\n",
    "    conso_file = r\"Y:\\Documents\\conso - Copy (2).csv\"\n",
    "else:\n",
    "    conso_file = r\"Y:\\Documents\\conso.csv\"\n",
    "#old = False\n",
    "conso_data = get_data2(conso_file)\n",
    "conso_data.info()\n"
   ]
  },
  {
   "cell_type": "code",
   "execution_count": 62,
   "metadata": {},
   "outputs": [
    {
     "data": {
      "text/html": [
       "<div>\n",
       "<style scoped>\n",
       "    .dataframe tbody tr th:only-of-type {\n",
       "        vertical-align: middle;\n",
       "    }\n",
       "\n",
       "    .dataframe tbody tr th {\n",
       "        vertical-align: top;\n",
       "    }\n",
       "\n",
       "    .dataframe thead th {\n",
       "        text-align: right;\n",
       "    }\n",
       "</style>\n",
       "<table border=\"1\" class=\"dataframe\">\n",
       "  <thead>\n",
       "    <tr style=\"text-align: right;\">\n",
       "      <th></th>\n",
       "      <th>Interval</th>\n",
       "      <th>kWh</th>\n",
       "    </tr>\n",
       "  </thead>\n",
       "  <tbody>\n",
       "    <tr>\n",
       "      <th>0</th>\n",
       "      <td>26289</td>\n",
       "      <td>0.14</td>\n",
       "    </tr>\n",
       "    <tr>\n",
       "      <th>1</th>\n",
       "      <td>26243</td>\n",
       "      <td>0.14</td>\n",
       "    </tr>\n",
       "    <tr>\n",
       "      <th>2</th>\n",
       "      <td>25885</td>\n",
       "      <td>0.14</td>\n",
       "    </tr>\n",
       "    <tr>\n",
       "      <th>3</th>\n",
       "      <td>25754</td>\n",
       "      <td>0.14</td>\n",
       "    </tr>\n",
       "    <tr>\n",
       "      <th>4</th>\n",
       "      <td>25774</td>\n",
       "      <td>0.14</td>\n",
       "    </tr>\n",
       "    <tr>\n",
       "      <th>...</th>\n",
       "      <td>...</td>\n",
       "      <td>...</td>\n",
       "    </tr>\n",
       "    <tr>\n",
       "      <th>11393</th>\n",
       "      <td>25974</td>\n",
       "      <td>0.14</td>\n",
       "    </tr>\n",
       "    <tr>\n",
       "      <th>11394</th>\n",
       "      <td>25768</td>\n",
       "      <td>0.14</td>\n",
       "    </tr>\n",
       "    <tr>\n",
       "      <th>11395</th>\n",
       "      <td>25811</td>\n",
       "      <td>0.14</td>\n",
       "    </tr>\n",
       "    <tr>\n",
       "      <th>11396</th>\n",
       "      <td>25454</td>\n",
       "      <td>0.14</td>\n",
       "    </tr>\n",
       "    <tr>\n",
       "      <th>11397</th>\n",
       "      <td>25487</td>\n",
       "      <td>0.14</td>\n",
       "    </tr>\n",
       "  </tbody>\n",
       "</table>\n",
       "<p>11398 rows × 2 columns</p>\n",
       "</div>"
      ],
      "text/plain": [
       "       Interval   kWh\n",
       "0         26289  0.14\n",
       "1         26243  0.14\n",
       "2         25885  0.14\n",
       "3         25754  0.14\n",
       "4         25774  0.14\n",
       "...         ...   ...\n",
       "11393     25974  0.14\n",
       "11394     25768  0.14\n",
       "11395     25811  0.14\n",
       "11396     25454  0.14\n",
       "11397     25487  0.14\n",
       "\n",
       "[11398 rows x 2 columns]"
      ]
     },
     "execution_count": 62,
     "metadata": {},
     "output_type": "execute_result"
    }
   ],
   "source": [
    "conso_data = conso_data.dropna()\n",
    "conso_data"
   ]
  },
  {
   "cell_type": "code",
   "execution_count": 63,
   "metadata": {},
   "outputs": [
    {
     "data": {
      "text/html": [
       "<div>\n",
       "<style scoped>\n",
       "    .dataframe tbody tr th:only-of-type {\n",
       "        vertical-align: middle;\n",
       "    }\n",
       "\n",
       "    .dataframe tbody tr th {\n",
       "        vertical-align: top;\n",
       "    }\n",
       "\n",
       "    .dataframe thead th {\n",
       "        text-align: right;\n",
       "    }\n",
       "</style>\n",
       "<table border=\"1\" class=\"dataframe\">\n",
       "  <thead>\n",
       "    <tr style=\"text-align: right;\">\n",
       "      <th></th>\n",
       "      <th>Interval</th>\n",
       "      <th>kWh</th>\n",
       "      <th>sec</th>\n",
       "      <th>Wh</th>\n",
       "      <th>cumul(ms)</th>\n",
       "    </tr>\n",
       "  </thead>\n",
       "  <tbody>\n",
       "    <tr>\n",
       "      <th>0</th>\n",
       "      <td>26289</td>\n",
       "      <td>0.14</td>\n",
       "      <td>26.289</td>\n",
       "      <td>136.939404</td>\n",
       "      <td>26289</td>\n",
       "    </tr>\n",
       "    <tr>\n",
       "      <th>1</th>\n",
       "      <td>26243</td>\n",
       "      <td>0.14</td>\n",
       "      <td>26.243</td>\n",
       "      <td>137.179438</td>\n",
       "      <td>52532</td>\n",
       "    </tr>\n",
       "    <tr>\n",
       "      <th>2</th>\n",
       "      <td>25885</td>\n",
       "      <td>0.14</td>\n",
       "      <td>25.885</td>\n",
       "      <td>139.076685</td>\n",
       "      <td>78417</td>\n",
       "    </tr>\n",
       "    <tr>\n",
       "      <th>3</th>\n",
       "      <td>25754</td>\n",
       "      <td>0.14</td>\n",
       "      <td>25.754</td>\n",
       "      <td>139.784111</td>\n",
       "      <td>104171</td>\n",
       "    </tr>\n",
       "    <tr>\n",
       "      <th>4</th>\n",
       "      <td>25774</td>\n",
       "      <td>0.14</td>\n",
       "      <td>25.774</td>\n",
       "      <td>139.675642</td>\n",
       "      <td>129945</td>\n",
       "    </tr>\n",
       "    <tr>\n",
       "      <th>...</th>\n",
       "      <td>...</td>\n",
       "      <td>...</td>\n",
       "      <td>...</td>\n",
       "      <td>...</td>\n",
       "      <td>...</td>\n",
       "    </tr>\n",
       "    <tr>\n",
       "      <th>11393</th>\n",
       "      <td>25974</td>\n",
       "      <td>0.14</td>\n",
       "      <td>25.974</td>\n",
       "      <td>138.600139</td>\n",
       "      <td>296575944</td>\n",
       "    </tr>\n",
       "    <tr>\n",
       "      <th>11394</th>\n",
       "      <td>25768</td>\n",
       "      <td>0.14</td>\n",
       "      <td>25.768</td>\n",
       "      <td>139.708165</td>\n",
       "      <td>296601712</td>\n",
       "    </tr>\n",
       "    <tr>\n",
       "      <th>11395</th>\n",
       "      <td>25811</td>\n",
       "      <td>0.14</td>\n",
       "      <td>25.811</td>\n",
       "      <td>139.475417</td>\n",
       "      <td>296627523</td>\n",
       "    </tr>\n",
       "    <tr>\n",
       "      <th>11396</th>\n",
       "      <td>25454</td>\n",
       "      <td>0.14</td>\n",
       "      <td>25.454</td>\n",
       "      <td>141.431602</td>\n",
       "      <td>296652977</td>\n",
       "    </tr>\n",
       "    <tr>\n",
       "      <th>11397</th>\n",
       "      <td>25487</td>\n",
       "      <td>0.14</td>\n",
       "      <td>25.487</td>\n",
       "      <td>141.248480</td>\n",
       "      <td>296678464</td>\n",
       "    </tr>\n",
       "  </tbody>\n",
       "</table>\n",
       "<p>11398 rows × 5 columns</p>\n",
       "</div>"
      ],
      "text/plain": [
       "       Interval   kWh     sec          Wh  cumul(ms)\n",
       "0         26289  0.14  26.289  136.939404      26289\n",
       "1         26243  0.14  26.243  137.179438      52532\n",
       "2         25885  0.14  25.885  139.076685      78417\n",
       "3         25754  0.14  25.754  139.784111     104171\n",
       "4         25774  0.14  25.774  139.675642     129945\n",
       "...         ...   ...     ...         ...        ...\n",
       "11393     25974  0.14  25.974  138.600139  296575944\n",
       "11394     25768  0.14  25.768  139.708165  296601712\n",
       "11395     25811  0.14  25.811  139.475417  296627523\n",
       "11396     25454  0.14  25.454  141.431602  296652977\n",
       "11397     25487  0.14  25.487  141.248480  296678464\n",
       "\n",
       "[11398 rows x 5 columns]"
      ]
     },
     "execution_count": 63,
     "metadata": {},
     "output_type": "execute_result"
    }
   ],
   "source": [
    "conso_data['sec']=conso_data['Interval']/1000\n",
    "conso_data['Wh']=3600000/conso_data['Interval']\n",
    "conso_data['cumul(ms)']=conso_data['Interval'].cumsum(axis=0)\n",
    "\n",
    "conso_data"
   ]
  },
  {
   "cell_type": "code",
   "execution_count": 64,
   "metadata": {},
   "outputs": [
    {
     "data": {
      "text/plain": [
       "11397"
      ]
     },
     "execution_count": 64,
     "metadata": {},
     "output_type": "execute_result"
    }
   ],
   "source": [
    "# index dernier echantillon\n",
    "l=len(conso_data)-1\n",
    "l"
   ]
  },
  {
   "cell_type": "code",
   "execution_count": 65,
   "metadata": {},
   "outputs": [
    {
     "data": {
      "text/plain": [
       "296678464000"
      ]
     },
     "execution_count": 65,
     "metadata": {},
     "output_type": "execute_result"
    }
   ],
   "source": [
    "# cumtime = int(conso_data['cumul(ms)'].tail(1).values[0]*1000)\n",
    "cumtime= int(conso_data._get_value(l,'cumul(ms)')*1000)\n",
    "cumtime"
   ]
  },
  {
   "cell_type": "code",
   "execution_count": 66,
   "metadata": {},
   "outputs": [
    {
     "data": {
      "text/html": [
       "<div>\n",
       "<style scoped>\n",
       "    .dataframe tbody tr th:only-of-type {\n",
       "        vertical-align: middle;\n",
       "    }\n",
       "\n",
       "    .dataframe tbody tr th {\n",
       "        vertical-align: top;\n",
       "    }\n",
       "\n",
       "    .dataframe thead th {\n",
       "        text-align: right;\n",
       "    }\n",
       "</style>\n",
       "<table border=\"1\" class=\"dataframe\">\n",
       "  <thead>\n",
       "    <tr style=\"text-align: right;\">\n",
       "      <th></th>\n",
       "      <th>Interval</th>\n",
       "      <th>kWh</th>\n",
       "      <th>sec</th>\n",
       "      <th>Wh</th>\n",
       "      <th>cumul(ms)</th>\n",
       "      <th>dates</th>\n",
       "    </tr>\n",
       "  </thead>\n",
       "  <tbody>\n",
       "    <tr>\n",
       "      <th>0</th>\n",
       "      <td>26289</td>\n",
       "      <td>0.14</td>\n",
       "      <td>26.289</td>\n",
       "      <td>136.939404</td>\n",
       "      <td>26289</td>\n",
       "      <td>2024-03-07 00:21:07.167139</td>\n",
       "    </tr>\n",
       "    <tr>\n",
       "      <th>1</th>\n",
       "      <td>26243</td>\n",
       "      <td>0.14</td>\n",
       "      <td>26.243</td>\n",
       "      <td>137.179438</td>\n",
       "      <td>52532</td>\n",
       "      <td>2024-03-07 00:21:33.410139</td>\n",
       "    </tr>\n",
       "    <tr>\n",
       "      <th>2</th>\n",
       "      <td>25885</td>\n",
       "      <td>0.14</td>\n",
       "      <td>25.885</td>\n",
       "      <td>139.076685</td>\n",
       "      <td>78417</td>\n",
       "      <td>2024-03-07 00:21:59.295139</td>\n",
       "    </tr>\n",
       "    <tr>\n",
       "      <th>3</th>\n",
       "      <td>25754</td>\n",
       "      <td>0.14</td>\n",
       "      <td>25.754</td>\n",
       "      <td>139.784111</td>\n",
       "      <td>104171</td>\n",
       "      <td>2024-03-07 00:22:25.049139</td>\n",
       "    </tr>\n",
       "    <tr>\n",
       "      <th>4</th>\n",
       "      <td>25774</td>\n",
       "      <td>0.14</td>\n",
       "      <td>25.774</td>\n",
       "      <td>139.675642</td>\n",
       "      <td>129945</td>\n",
       "      <td>2024-03-07 00:22:50.823139</td>\n",
       "    </tr>\n",
       "    <tr>\n",
       "      <th>...</th>\n",
       "      <td>...</td>\n",
       "      <td>...</td>\n",
       "      <td>...</td>\n",
       "      <td>...</td>\n",
       "      <td>...</td>\n",
       "      <td>...</td>\n",
       "    </tr>\n",
       "    <tr>\n",
       "      <th>11393</th>\n",
       "      <td>25974</td>\n",
       "      <td>0.14</td>\n",
       "      <td>25.974</td>\n",
       "      <td>138.600139</td>\n",
       "      <td>296575944</td>\n",
       "      <td>2024-03-10 10:43:36.822139</td>\n",
       "    </tr>\n",
       "    <tr>\n",
       "      <th>11394</th>\n",
       "      <td>25768</td>\n",
       "      <td>0.14</td>\n",
       "      <td>25.768</td>\n",
       "      <td>139.708165</td>\n",
       "      <td>296601712</td>\n",
       "      <td>2024-03-10 10:44:02.590139</td>\n",
       "    </tr>\n",
       "    <tr>\n",
       "      <th>11395</th>\n",
       "      <td>25811</td>\n",
       "      <td>0.14</td>\n",
       "      <td>25.811</td>\n",
       "      <td>139.475417</td>\n",
       "      <td>296627523</td>\n",
       "      <td>2024-03-10 10:44:28.401139</td>\n",
       "    </tr>\n",
       "    <tr>\n",
       "      <th>11396</th>\n",
       "      <td>25454</td>\n",
       "      <td>0.14</td>\n",
       "      <td>25.454</td>\n",
       "      <td>141.431602</td>\n",
       "      <td>296652977</td>\n",
       "      <td>2024-03-10 10:44:53.855139</td>\n",
       "    </tr>\n",
       "    <tr>\n",
       "      <th>11397</th>\n",
       "      <td>25487</td>\n",
       "      <td>0.14</td>\n",
       "      <td>25.487</td>\n",
       "      <td>141.248480</td>\n",
       "      <td>296678464</td>\n",
       "      <td>2024-03-10 10:45:19.342139</td>\n",
       "    </tr>\n",
       "  </tbody>\n",
       "</table>\n",
       "<p>11398 rows × 6 columns</p>\n",
       "</div>"
      ],
      "text/plain": [
       "       Interval   kWh     sec          Wh  cumul(ms)  \\\n",
       "0         26289  0.14  26.289  136.939404      26289   \n",
       "1         26243  0.14  26.243  137.179438      52532   \n",
       "2         25885  0.14  25.885  139.076685      78417   \n",
       "3         25754  0.14  25.754  139.784111     104171   \n",
       "4         25774  0.14  25.774  139.675642     129945   \n",
       "...         ...   ...     ...         ...        ...   \n",
       "11393     25974  0.14  25.974  138.600139  296575944   \n",
       "11394     25768  0.14  25.768  139.708165  296601712   \n",
       "11395     25811  0.14  25.811  139.475417  296627523   \n",
       "11396     25454  0.14  25.454  141.431602  296652977   \n",
       "11397     25487  0.14  25.487  141.248480  296678464   \n",
       "\n",
       "                           dates  \n",
       "0     2024-03-07 00:21:07.167139  \n",
       "1     2024-03-07 00:21:33.410139  \n",
       "2     2024-03-07 00:21:59.295139  \n",
       "3     2024-03-07 00:22:25.049139  \n",
       "4     2024-03-07 00:22:50.823139  \n",
       "...                          ...  \n",
       "11393 2024-03-10 10:43:36.822139  \n",
       "11394 2024-03-10 10:44:02.590139  \n",
       "11395 2024-03-10 10:44:28.401139  \n",
       "11396 2024-03-10 10:44:53.855139  \n",
       "11397 2024-03-10 10:45:19.342139  \n",
       "\n",
       "[11398 rows x 6 columns]"
      ]
     },
     "execution_count": 66,
     "metadata": {},
     "output_type": "execute_result"
    }
   ],
   "source": [
    "from datetime import datetime, timedelta\n",
    "now = datetime.now()\n",
    "# conso.csv dynamique\n",
    "base = now - timedelta(microseconds=cumtime)\n",
    "\n",
    "if old:\n",
    "    base = dt.datetime(2023, 8, 1, 10, 45, 0) - timedelta(microseconds=cumtime)\n",
    "\n",
    "\n",
    "conso_data['dates'] = [base + dt.timedelta(microseconds=t*1000) for t in conso_data['cumul(ms)']]\n",
    "conso_data#.info()\n"
   ]
  },
  {
   "cell_type": "code",
   "execution_count": 67,
   "metadata": {},
   "outputs": [
    {
     "data": {
      "text/plain": [
       "(   Interval   kWh     sec          Wh  cumul(ms)                      dates\n",
       " 0     26289  0.14  26.289  136.939404      26289 2024-03-07 00:21:07.167139,\n",
       "        Interval   kWh     sec         Wh  cumul(ms)                      dates\n",
       " 11397     25487  0.14  25.487  141.24848  296678464 2024-03-10 10:45:19.342139)"
      ]
     },
     "execution_count": 67,
     "metadata": {},
     "output_type": "execute_result"
    }
   ],
   "source": [
    "#conso_data\n",
    "conso_data.head(1),conso_data.tail(1)"
   ]
  },
  {
   "cell_type": "code",
   "execution_count": 68,
   "metadata": {},
   "outputs": [
    {
     "data": {
      "text/plain": [
       "0       2024-03-07 00:21:07.167139\n",
       "1       2024-03-07 00:21:33.410139\n",
       "2       2024-03-07 00:21:59.295139\n",
       "3       2024-03-07 00:22:25.049139\n",
       "4       2024-03-07 00:22:50.823139\n",
       "                   ...            \n",
       "11393   2024-03-10 10:43:36.822139\n",
       "11394   2024-03-10 10:44:02.590139\n",
       "11395   2024-03-10 10:44:28.401139\n",
       "11396   2024-03-10 10:44:53.855139\n",
       "11397   2024-03-10 10:45:19.342139\n",
       "Name: dates, Length: 11398, dtype: datetime64[ns]"
      ]
     },
     "execution_count": 68,
     "metadata": {},
     "output_type": "execute_result"
    }
   ],
   "source": [
    "from matplotlib.ticker import (MultipleLocator, AutoMinorLocator)\n",
    "\n",
    "time = conso_data['dates']\n",
    "time\n"
   ]
  },
  {
   "cell_type": "code",
   "execution_count": 69,
   "metadata": {},
   "outputs": [],
   "source": [
    "def format_date(space=3):\n",
    "    plt.gca().xaxis.set_major_formatter(mdates.DateFormatter('%d/%m\\n%H:%M'))\n",
    "    plt.gca().xaxis.set_major_locator(mdates.HourLocator(space))\n",
    "    #plt.gca().xaxis.set_major_locator(mdates.HourLocator(interval=space))\n",
    "    plt.gcf().autofmt_xdate()\n",
    "    plt.grid()"
   ]
  },
  {
   "cell_type": "code",
   "execution_count": 70,
   "metadata": {},
   "outputs": [],
   "source": [
    "if not old:\n",
    "    major_ticks=1/60;minor_ticks=1/240  # plus de ticks, 4 fois plus de minor\n",
    "    major_ticks=1/30;minor_ticks=1/120   # moins de ticks\n",
    "    major_ticks=1/15;minor_ticks=1/60\n",
    "    major_ticks=1/2;minor_ticks=1/8\n",
    "else:\n",
    "    major_ticks=4;minor_ticks=1   # encore moins si int\n"
   ]
  },
  {
   "cell_type": "code",
   "execution_count": 71,
   "metadata": {},
   "outputs": [
    {
     "data": {
      "text/plain": [
       "(4, 1)"
      ]
     },
     "execution_count": 71,
     "metadata": {},
     "output_type": "execute_result"
    }
   ],
   "source": [
    "major_ticks=4;minor_ticks=1\n",
    "major_ticks,minor_ticks"
   ]
  },
  {
   "cell_type": "markdown",
   "metadata": {},
   "source": [
    "## Main graph"
   ]
  },
  {
   "cell_type": "code",
   "execution_count": 72,
   "metadata": {},
   "outputs": [
    {
     "data": {
      "image/png": "[encoded data removed]",
      "text/plain": [
       "<Figure size 2500x1000 with 1 Axes>"
      ]
     },
     "metadata": {},
     "output_type": "display_data"
    }
   ],
   "source": [
    "\n",
    "from matplotlib.dates import (YEARLY, DateFormatter,rrulewrapper, RRuleLocator, drange)\n",
    "\n",
    "def show_graph():\n",
    "    fig, ax = plt.subplots()\n",
    "    # the size of A4 paper\n",
    "    fig.set_size_inches(25, 10)\n",
    "\n",
    "    #plt.rcParams['axes.autolimit_mode'] = 'round_numbers'\n",
    "    \n",
    "    #formatter = DateFormatter('%d/%m\\n%H:%M:%S')\n",
    "    formatter = DateFormatter('%d/%m\\n%H:%M')\n",
    "    ax.xaxis.set_major_formatter(formatter)\n",
    "\n",
    "    # ticks sur axe des x\n",
    "    ax.xaxis.set_major_locator(MultipleLocator(major_ticks))  # major ticks tous les 15 min\n",
    "    ax.xaxis.set_minor_locator(MultipleLocator(minor_ticks))  # minor ticks tous les 5 min\n",
    "    ax.tick_params(which='both', width=3)\n",
    "    ax.tick_params(which='major', length=15, color='r')\n",
    "    ax.tick_params(which='minor', length=8, color='b')\n",
    "\n",
    "    #plt.plot(conso_data['cumul(ms)']/3600000,conso_data['Wh'])\n",
    "    plt.plot(time,conso_data['Wh'])\n",
    "    plt.ylabel('Wh')\n",
    "    plt.xlabel('Time (heures)')\n",
    "    #format_date(10)\n",
    "    for label in ax.get_xticklabels():\n",
    "        label.set_rotation(40)\n",
    "        label.set_horizontalalignment('right')\n",
    "\n",
    "    #fig.autofmt_xdate()\n",
    "    \n",
    "    plt.grid()\n",
    "    plt.show()\n",
    "show_graph()"
   ]
  },
  {
   "cell_type": "code",
   "execution_count": 73,
   "metadata": {},
   "outputs": [
    {
     "data": {
      "text/html": [
       "<div>\n",
       "<style scoped>\n",
       "    .dataframe tbody tr th:only-of-type {\n",
       "        vertical-align: middle;\n",
       "    }\n",
       "\n",
       "    .dataframe tbody tr th {\n",
       "        vertical-align: top;\n",
       "    }\n",
       "\n",
       "    .dataframe thead th {\n",
       "        text-align: right;\n",
       "    }\n",
       "</style>\n",
       "<table border=\"1\" class=\"dataframe\">\n",
       "  <thead>\n",
       "    <tr style=\"text-align: right;\">\n",
       "      <th></th>\n",
       "      <th>Interval</th>\n",
       "      <th>kWh</th>\n",
       "      <th>sec</th>\n",
       "      <th>Wh</th>\n",
       "      <th>cumul(ms)</th>\n",
       "      <th>dates</th>\n",
       "    </tr>\n",
       "  </thead>\n",
       "  <tbody>\n",
       "    <tr>\n",
       "      <th>11397</th>\n",
       "      <td>25487</td>\n",
       "      <td>0.14</td>\n",
       "      <td>25.487</td>\n",
       "      <td>141.24848</td>\n",
       "      <td>296678464</td>\n",
       "      <td>2024-03-10 10:45:19.342139</td>\n",
       "    </tr>\n",
       "  </tbody>\n",
       "</table>\n",
       "</div>"
      ],
      "text/plain": [
       "       Interval   kWh     sec         Wh  cumul(ms)                      dates\n",
       "11397     25487  0.14  25.487  141.24848  296678464 2024-03-10 10:45:19.342139"
      ]
     },
     "execution_count": 73,
     "metadata": {},
     "output_type": "execute_result"
    }
   ],
   "source": [
    "cumul_conso = len(conso_data)\n",
    "conso_data.tail(1)"
   ]
  },
  {
   "cell_type": "code",
   "execution_count": 74,
   "metadata": {},
   "outputs": [
    {
     "data": {
      "text/plain": [
       "296678464000"
      ]
     },
     "execution_count": 74,
     "metadata": {},
     "output_type": "execute_result"
    }
   ],
   "source": [
    "cumtime= int(conso_data._get_value(l,'cumul(ms)')*1000)\n",
    "cumtime"
   ]
  },
  {
   "cell_type": "markdown",
   "metadata": {},
   "source": [
    "# Slice of last 1 kWh"
   ]
  },
  {
   "cell_type": "code",
   "execution_count": 75,
   "metadata": {},
   "outputs": [
    {
     "data": {
      "text/plain": [
       "11398"
      ]
     },
     "execution_count": 75,
     "metadata": {},
     "output_type": "execute_result"
    }
   ],
   "source": [
    "l = len(conso_data)  # total watt consommés\n",
    "l"
   ]
  },
  {
   "cell_type": "code",
   "execution_count": 76,
   "metadata": {},
   "outputs": [
    {
     "data": {
      "text/plain": [
       "(11398, 1000)"
      ]
     },
     "execution_count": 76,
     "metadata": {},
     "output_type": "execute_result"
    }
   ],
   "source": [
    "k = 1\n",
    "taille = k*1000  # fenetre k*1000 watt consommés\n",
    "l,taille"
   ]
  },
  {
   "cell_type": "code",
   "execution_count": 77,
   "metadata": {},
   "outputs": [
    {
     "data": {
      "text/plain": [
       "1000"
      ]
     },
     "execution_count": 77,
     "metadata": {},
     "output_type": "execute_result"
    }
   ],
   "source": [
    "if l<1000:\n",
    "    part = 1\n",
    "else: part = 1/2\n",
    "#taille = int(part*l)\n",
    "taille"
   ]
  },
  {
   "cell_type": "code",
   "execution_count": 78,
   "metadata": {},
   "outputs": [
    {
     "data": {
      "text/plain": [
       "(1000,\n",
       "        Interval   kWh     sec          Wh  cumul(ms)  \\\n",
       " 10398     37685  0.09  37.685   95.528725  264895690   \n",
       " 10399     37632  0.09  37.632   95.663265  264933322   \n",
       " 10400     37729  0.09  37.729   95.417318  264971051   \n",
       " 10401     37742  0.09  37.742   95.384452  265008793   \n",
       " 10402     37541  0.09  37.541   95.895155  265046334   \n",
       " ...         ...   ...     ...         ...        ...   \n",
       " 11393     25974  0.14  25.974  138.600139  296575944   \n",
       " 11394     25768  0.14  25.768  139.708165  296601712   \n",
       " 11395     25811  0.14  25.811  139.475417  296627523   \n",
       " 11396     25454  0.14  25.454  141.431602  296652977   \n",
       " 11397     25487  0.14  25.487  141.248480  296678464   \n",
       " \n",
       "                            dates  \n",
       " 10398 2024-03-10 01:55:36.568139  \n",
       " 10399 2024-03-10 01:56:14.200139  \n",
       " 10400 2024-03-10 01:56:51.929139  \n",
       " 10401 2024-03-10 01:57:29.671139  \n",
       " 10402 2024-03-10 01:58:07.212139  \n",
       " ...                          ...  \n",
       " 11393 2024-03-10 10:43:36.822139  \n",
       " 11394 2024-03-10 10:44:02.590139  \n",
       " 11395 2024-03-10 10:44:28.401139  \n",
       " 11396 2024-03-10 10:44:53.855139  \n",
       " 11397 2024-03-10 10:45:19.342139  \n",
       " \n",
       " [1000 rows x 6 columns])"
      ]
     },
     "execution_count": 78,
     "metadata": {},
     "output_type": "execute_result"
    }
   ],
   "source": [
    "data = conso_data.tail(taille)\n",
    "len(data),data"
   ]
  },
  {
   "cell_type": "code",
   "execution_count": 79,
   "metadata": {},
   "outputs": [],
   "source": [
    "now = datetime.now()\n",
    "# conso.csv dynamique\n",
    "cumtime_start= int(conso_data._get_value(l-taille+1,'cumul(ms)')*1000) # conversion microseconds\n"
   ]
  },
  {
   "cell_type": "code",
   "execution_count": 80,
   "metadata": {},
   "outputs": [],
   "source": [
    "cumtime_end= int(data._get_value(l-1,'cumul(ms)')*1000) # conversion microseconds\n"
   ]
  },
  {
   "cell_type": "code",
   "execution_count": 81,
   "metadata": {},
   "outputs": [
    {
     "data": {
      "text/plain": [
       "(296678464000, 264933322000)"
      ]
     },
     "execution_count": 81,
     "metadata": {},
     "output_type": "execute_result"
    }
   ],
   "source": [
    "cumtime_end,cumtime_start"
   ]
  },
  {
   "cell_type": "code",
   "execution_count": 82,
   "metadata": {},
   "outputs": [
    {
     "data": {
      "text/plain": [
       "31745142000"
      ]
     },
     "execution_count": 82,
     "metadata": {},
     "output_type": "execute_result"
    }
   ],
   "source": [
    "#last_interval = int(data._get_value(l,'Interval')*1000) # conversion microseconds\n",
    "delta_cumtime = cumtime_end - cumtime_start #+ last_interval\n",
    "delta_cumtime"
   ]
  },
  {
   "cell_type": "code",
   "execution_count": 83,
   "metadata": {},
   "outputs": [
    {
     "data": {
      "text/plain": [
       "(datetime.datetime(2024, 3, 10, 10, 45, 20, 343744),\n",
       " datetime.datetime(2024, 3, 10, 1, 56, 15, 201744),\n",
       " '10/03/2024 10:45:19')"
      ]
     },
     "execution_count": 83,
     "metadata": {},
     "output_type": "execute_result"
    }
   ],
   "source": [
    "\n",
    "base = now - timedelta(microseconds=delta_cumtime)\n",
    "now,base, data['dates'][l-1].strftime('%d/%m/%Y %H:%M:%S')\n"
   ]
  },
  {
   "cell_type": "code",
   "execution_count": 84,
   "metadata": {},
   "outputs": [
    {
     "data": {
      "text/plain": [
       "('10/03/2024 01:56:14', '10/03/2024 10:45:19')"
      ]
     },
     "execution_count": 84,
     "metadata": {},
     "output_type": "execute_result"
    }
   ],
   "source": [
    "end = conso_data['dates'][l-1].strftime('%d/%m/%Y %H:%M:%S')\n",
    "start = conso_data['dates'][l-taille+1].strftime('%d/%m/%Y %H:%M:%S')\n",
    "start,end"
   ]
  },
  {
   "cell_type": "code",
   "execution_count": 85,
   "metadata": {},
   "outputs": [
    {
     "data": {
      "text/plain": [
       "('2024-03-10 01:55:36.568139', '2024-03-10 10:45:19.342139')"
      ]
     },
     "execution_count": 85,
     "metadata": {},
     "output_type": "execute_result"
    }
   ],
   "source": [
    "data.head(1)['dates'].to_string(index=False),data.tail(1)['dates'].to_string(index=False)"
   ]
  },
  {
   "cell_type": "code",
   "execution_count": 86,
   "metadata": {},
   "outputs": [
    {
     "data": {
      "text/plain": [
       "1"
      ]
     },
     "execution_count": 86,
     "metadata": {},
     "output_type": "execute_result"
    }
   ],
   "source": [
    "k"
   ]
  },
  {
   "cell_type": "code",
   "execution_count": 87,
   "metadata": {},
   "outputs": [
    {
     "data": {
      "text/plain": [
       "10398    37685\n",
       "10399    37632\n",
       "10400    37729\n",
       "10401    37742\n",
       "10402    37541\n",
       "         ...  \n",
       "11393    25974\n",
       "11394    25768\n",
       "11395    25811\n",
       "11396    25454\n",
       "11397    25487\n",
       "Name: Interval, Length: 1000, dtype: int64"
      ]
     },
     "execution_count": 87,
     "metadata": {},
     "output_type": "execute_result"
    }
   ],
   "source": [
    "data.Interval.tail(1000)"
   ]
  },
  {
   "cell_type": "code",
   "execution_count": 88,
   "metadata": {},
   "outputs": [
    {
     "data": {
      "text/plain": [
       "(8.83901638888889, 2.7152342459924914, 8, 50, 20)"
      ]
     },
     "execution_count": 88,
     "metadata": {},
     "output_type": "execute_result"
    }
   ],
   "source": [
    "conversion_us_heure = 1/1000/60/60 \n",
    "temps_1kWh = sum(data.Interval.tail(1000))*conversion_us_heure  #somme 1000 interval = temps conso 1 kWh\n",
    "conso_jour = 24/temps_1kWh\n",
    "heure = int(temps_1kWh)\n",
    "mn = (temps_1kWh - heure)*60\n",
    "sec = (mn - int(mn))*60\n",
    "temps_1kWh, conso_jour,heure,int(mn),int(sec)"
   ]
  },
  {
   "cell_type": "code",
   "execution_count": 89,
   "metadata": {},
   "outputs": [
    {
     "data": {
      "text/html": [
       "<div>\n",
       "<style scoped>\n",
       "    .dataframe tbody tr th:only-of-type {\n",
       "        vertical-align: middle;\n",
       "    }\n",
       "\n",
       "    .dataframe tbody tr th {\n",
       "        vertical-align: top;\n",
       "    }\n",
       "\n",
       "    .dataframe thead th {\n",
       "        text-align: right;\n",
       "    }\n",
       "</style>\n",
       "<table border=\"1\" class=\"dataframe\">\n",
       "  <thead>\n",
       "    <tr style=\"text-align: right;\">\n",
       "      <th></th>\n",
       "      <th>Interval</th>\n",
       "      <th>kWh</th>\n",
       "      <th>sec</th>\n",
       "      <th>Wh</th>\n",
       "      <th>cumul(ms)</th>\n",
       "      <th>dates</th>\n",
       "    </tr>\n",
       "  </thead>\n",
       "  <tbody>\n",
       "    <tr>\n",
       "      <th>10398</th>\n",
       "      <td>37685</td>\n",
       "      <td>0.09</td>\n",
       "      <td>37.685</td>\n",
       "      <td>95.528725</td>\n",
       "      <td>264895690</td>\n",
       "      <td>2024-03-10 01:55:36.568139</td>\n",
       "    </tr>\n",
       "    <tr>\n",
       "      <th>10399</th>\n",
       "      <td>37632</td>\n",
       "      <td>0.09</td>\n",
       "      <td>37.632</td>\n",
       "      <td>95.663265</td>\n",
       "      <td>264933322</td>\n",
       "      <td>2024-03-10 01:56:14.200139</td>\n",
       "    </tr>\n",
       "    <tr>\n",
       "      <th>10400</th>\n",
       "      <td>37729</td>\n",
       "      <td>0.09</td>\n",
       "      <td>37.729</td>\n",
       "      <td>95.417318</td>\n",
       "      <td>264971051</td>\n",
       "      <td>2024-03-10 01:56:51.929139</td>\n",
       "    </tr>\n",
       "    <tr>\n",
       "      <th>10401</th>\n",
       "      <td>37742</td>\n",
       "      <td>0.09</td>\n",
       "      <td>37.742</td>\n",
       "      <td>95.384452</td>\n",
       "      <td>265008793</td>\n",
       "      <td>2024-03-10 01:57:29.671139</td>\n",
       "    </tr>\n",
       "    <tr>\n",
       "      <th>10402</th>\n",
       "      <td>37541</td>\n",
       "      <td>0.09</td>\n",
       "      <td>37.541</td>\n",
       "      <td>95.895155</td>\n",
       "      <td>265046334</td>\n",
       "      <td>2024-03-10 01:58:07.212139</td>\n",
       "    </tr>\n",
       "    <tr>\n",
       "      <th>...</th>\n",
       "      <td>...</td>\n",
       "      <td>...</td>\n",
       "      <td>...</td>\n",
       "      <td>...</td>\n",
       "      <td>...</td>\n",
       "      <td>...</td>\n",
       "    </tr>\n",
       "    <tr>\n",
       "      <th>11393</th>\n",
       "      <td>25974</td>\n",
       "      <td>0.14</td>\n",
       "      <td>25.974</td>\n",
       "      <td>138.600139</td>\n",
       "      <td>296575944</td>\n",
       "      <td>2024-03-10 10:43:36.822139</td>\n",
       "    </tr>\n",
       "    <tr>\n",
       "      <th>11394</th>\n",
       "      <td>25768</td>\n",
       "      <td>0.14</td>\n",
       "      <td>25.768</td>\n",
       "      <td>139.708165</td>\n",
       "      <td>296601712</td>\n",
       "      <td>2024-03-10 10:44:02.590139</td>\n",
       "    </tr>\n",
       "    <tr>\n",
       "      <th>11395</th>\n",
       "      <td>25811</td>\n",
       "      <td>0.14</td>\n",
       "      <td>25.811</td>\n",
       "      <td>139.475417</td>\n",
       "      <td>296627523</td>\n",
       "      <td>2024-03-10 10:44:28.401139</td>\n",
       "    </tr>\n",
       "    <tr>\n",
       "      <th>11396</th>\n",
       "      <td>25454</td>\n",
       "      <td>0.14</td>\n",
       "      <td>25.454</td>\n",
       "      <td>141.431602</td>\n",
       "      <td>296652977</td>\n",
       "      <td>2024-03-10 10:44:53.855139</td>\n",
       "    </tr>\n",
       "    <tr>\n",
       "      <th>11397</th>\n",
       "      <td>25487</td>\n",
       "      <td>0.14</td>\n",
       "      <td>25.487</td>\n",
       "      <td>141.248480</td>\n",
       "      <td>296678464</td>\n",
       "      <td>2024-03-10 10:45:19.342139</td>\n",
       "    </tr>\n",
       "  </tbody>\n",
       "</table>\n",
       "<p>1000 rows × 6 columns</p>\n",
       "</div>"
      ],
      "text/plain": [
       "       Interval   kWh     sec          Wh  cumul(ms)  \\\n",
       "10398     37685  0.09  37.685   95.528725  264895690   \n",
       "10399     37632  0.09  37.632   95.663265  264933322   \n",
       "10400     37729  0.09  37.729   95.417318  264971051   \n",
       "10401     37742  0.09  37.742   95.384452  265008793   \n",
       "10402     37541  0.09  37.541   95.895155  265046334   \n",
       "...         ...   ...     ...         ...        ...   \n",
       "11393     25974  0.14  25.974  138.600139  296575944   \n",
       "11394     25768  0.14  25.768  139.708165  296601712   \n",
       "11395     25811  0.14  25.811  139.475417  296627523   \n",
       "11396     25454  0.14  25.454  141.431602  296652977   \n",
       "11397     25487  0.14  25.487  141.248480  296678464   \n",
       "\n",
       "                           dates  \n",
       "10398 2024-03-10 01:55:36.568139  \n",
       "10399 2024-03-10 01:56:14.200139  \n",
       "10400 2024-03-10 01:56:51.929139  \n",
       "10401 2024-03-10 01:57:29.671139  \n",
       "10402 2024-03-10 01:58:07.212139  \n",
       "...                          ...  \n",
       "11393 2024-03-10 10:43:36.822139  \n",
       "11394 2024-03-10 10:44:02.590139  \n",
       "11395 2024-03-10 10:44:28.401139  \n",
       "11396 2024-03-10 10:44:53.855139  \n",
       "11397 2024-03-10 10:45:19.342139  \n",
       "\n",
       "[1000 rows x 6 columns]"
      ]
     },
     "execution_count": 89,
     "metadata": {},
     "output_type": "execute_result"
    }
   ],
   "source": [
    "data"
   ]
  },
  {
   "cell_type": "code",
   "execution_count": 90,
   "metadata": {},
   "outputs": [
    {
     "data": {
      "text/plain": [
       "<Axes: >"
      ]
     },
     "execution_count": 90,
     "metadata": {},
     "output_type": "execute_result"
    },
    {
     "data": {
      "image/png": "[encoded data removed]",
      "text/plain": [
       "<Figure size 640x480 with 1 Axes>"
      ]
     },
     "metadata": {},
     "output_type": "display_data"
    }
   ],
   "source": [
    "data.tail(600)['Wh'].plot()"
   ]
  },
  {
   "cell_type": "code",
   "execution_count": 91,
   "metadata": {},
   "outputs": [
    {
     "data": {
      "text/plain": [
       "10398     95.528725\n",
       "10399     95.663265\n",
       "10400     95.417318\n",
       "10401     95.384452\n",
       "10402     95.895155\n",
       "            ...    \n",
       "11393    138.600139\n",
       "11394    139.708165\n",
       "11395    139.475417\n",
       "11396    141.431602\n",
       "11397    141.248480\n",
       "Name: Wh, Length: 1000, dtype: float64"
      ]
     },
     "execution_count": 91,
     "metadata": {},
     "output_type": "execute_result"
    }
   ],
   "source": [
    "data['Wh']"
   ]
  },
  {
   "cell_type": "markdown",
   "metadata": {},
   "source": [
    "# k kW window graph"
   ]
  },
  {
   "cell_type": "code",
   "execution_count": 92,
   "metadata": {},
   "outputs": [
    {
     "data": {
      "image/png": "[encoded data removed]",
      "text/plain": [
       "<Figure size 2500x1000 with 1 Axes>"
      ]
     },
     "metadata": {},
     "output_type": "display_data"
    }
   ],
   "source": [
    "fig, ax = plt.subplots()\n",
    "# the size of A4 paper\n",
    "fig.set_size_inches(25, 10)\n",
    "\n",
    "formatter = DateFormatter('%d/%m\\n%H:%M')\n",
    "ax.xaxis.set_major_formatter(formatter)\n",
    "\n",
    "# ticks sur axe des x\n",
    "major_ticks=1/30;minor_ticks=1/360\n",
    "ax.xaxis.set_major_locator(MultipleLocator(major_ticks))  # 1 major tick tous les 48 min\n",
    "ax.xaxis.set_minor_locator(MultipleLocator(minor_ticks))  # 1 minor ticks tous les 4 min\n",
    "ax.tick_params(which='both', width=3)\n",
    "ax.tick_params(which='major', length=15, color='r')\n",
    "ax.tick_params(which='minor', length=8, color='b')\n",
    "\n",
    "plt.title(f'Consommation {k} kW (Temps: {heure} heures {int(mn)} minutes {int(sec)} secondes)\\nDe {start} à {end}')\n",
    "plt.plot(data['dates'],data['Wh'])\n",
    "plt.ylabel('Wh')\n",
    "plt.xlabel('Time (heures)')\n",
    "plt.grid()\n"
   ]
  },
  {
   "cell_type": "code",
   "execution_count": 93,
   "metadata": {},
   "outputs": [
    {
     "data": {
      "text/plain": [
       "<Axes: ylabel='Frequency'>"
      ]
     },
     "execution_count": 93,
     "metadata": {},
     "output_type": "execute_result"
    },
    {
     "data": {
      "image/png": "[encoded data removed]",
      "text/plain": [
       "<Figure size 640x480 with 1 Axes>"
      ]
     },
     "metadata": {},
     "output_type": "display_data"
    }
   ],
   "source": [
    "data.kWh.plot.hist(bins=50,rwidth=0.8,grid=True)\n"
   ]
  },
  {
   "cell_type": "code",
   "execution_count": 94,
   "metadata": {},
   "outputs": [
    {
     "data": {
      "text/html": [
       "<div>\n",
       "<style scoped>\n",
       "    .dataframe tbody tr th:only-of-type {\n",
       "        vertical-align: middle;\n",
       "    }\n",
       "\n",
       "    .dataframe tbody tr th {\n",
       "        vertical-align: top;\n",
       "    }\n",
       "\n",
       "    .dataframe thead th {\n",
       "        text-align: right;\n",
       "    }\n",
       "</style>\n",
       "<table border=\"1\" class=\"dataframe\">\n",
       "  <thead>\n",
       "    <tr style=\"text-align: right;\">\n",
       "      <th></th>\n",
       "      <th>Interval</th>\n",
       "      <th>kWh</th>\n",
       "      <th>sec</th>\n",
       "      <th>Wh</th>\n",
       "      <th>cumul(ms)</th>\n",
       "      <th>dates</th>\n",
       "    </tr>\n",
       "  </thead>\n",
       "  <tbody>\n",
       "    <tr>\n",
       "      <th>11393</th>\n",
       "      <td>25974</td>\n",
       "      <td>0.14</td>\n",
       "      <td>25.974</td>\n",
       "      <td>138.600139</td>\n",
       "      <td>296575944</td>\n",
       "      <td>2024-03-10 10:43:36.822139</td>\n",
       "    </tr>\n",
       "    <tr>\n",
       "      <th>11394</th>\n",
       "      <td>25768</td>\n",
       "      <td>0.14</td>\n",
       "      <td>25.768</td>\n",
       "      <td>139.708165</td>\n",
       "      <td>296601712</td>\n",
       "      <td>2024-03-10 10:44:02.590139</td>\n",
       "    </tr>\n",
       "    <tr>\n",
       "      <th>11395</th>\n",
       "      <td>25811</td>\n",
       "      <td>0.14</td>\n",
       "      <td>25.811</td>\n",
       "      <td>139.475417</td>\n",
       "      <td>296627523</td>\n",
       "      <td>2024-03-10 10:44:28.401139</td>\n",
       "    </tr>\n",
       "    <tr>\n",
       "      <th>11396</th>\n",
       "      <td>25454</td>\n",
       "      <td>0.14</td>\n",
       "      <td>25.454</td>\n",
       "      <td>141.431602</td>\n",
       "      <td>296652977</td>\n",
       "      <td>2024-03-10 10:44:53.855139</td>\n",
       "    </tr>\n",
       "    <tr>\n",
       "      <th>11397</th>\n",
       "      <td>25487</td>\n",
       "      <td>0.14</td>\n",
       "      <td>25.487</td>\n",
       "      <td>141.248480</td>\n",
       "      <td>296678464</td>\n",
       "      <td>2024-03-10 10:45:19.342139</td>\n",
       "    </tr>\n",
       "  </tbody>\n",
       "</table>\n",
       "</div>"
      ],
      "text/plain": [
       "       Interval   kWh     sec          Wh  cumul(ms)  \\\n",
       "11393     25974  0.14  25.974  138.600139  296575944   \n",
       "11394     25768  0.14  25.768  139.708165  296601712   \n",
       "11395     25811  0.14  25.811  139.475417  296627523   \n",
       "11396     25454  0.14  25.454  141.431602  296652977   \n",
       "11397     25487  0.14  25.487  141.248480  296678464   \n",
       "\n",
       "                           dates  \n",
       "11393 2024-03-10 10:43:36.822139  \n",
       "11394 2024-03-10 10:44:02.590139  \n",
       "11395 2024-03-10 10:44:28.401139  \n",
       "11396 2024-03-10 10:44:53.855139  \n",
       "11397 2024-03-10 10:45:19.342139  "
      ]
     },
     "execution_count": 94,
     "metadata": {},
     "output_type": "execute_result"
    }
   ],
   "source": [
    "conso_data.tail()"
   ]
  },
  {
   "cell_type": "code",
   "execution_count": 95,
   "metadata": {},
   "outputs": [
    {
     "data": {
      "image/png": "[encoded data removed]",
      "text/plain": [
       "<Figure size 640x480 with 1 Axes>"
      ]
     },
     "metadata": {},
     "output_type": "display_data"
    }
   ],
   "source": [
    "conso_data.tail(1000)['kWh'].plot()\n",
    "plt.grid()"
   ]
  },
  {
   "cell_type": "code",
   "execution_count": 96,
   "metadata": {},
   "outputs": [
    {
     "data": {
      "text/plain": [
       "(296678464000.0, 4944.641066666667)"
      ]
     },
     "execution_count": 96,
     "metadata": {},
     "output_type": "execute_result"
    }
   ],
   "source": [
    "#plt.plot(conso_data['sec'])\n",
    "now = dt.datetime.now()\n",
    "last_cumul = np.array(conso_data['cumul(ms)'].tail(1))[0]*1000.0  # us\n",
    "last_cumul, last_cumul/60e6  # min"
   ]
  },
  {
   "cell_type": "code",
   "execution_count": 97,
   "metadata": {},
   "outputs": [
    {
     "data": {
      "text/plain": [
       "(datetime.datetime(2024, 3, 10, 10, 45, 26, 26376),\n",
       " datetime.datetime(2024, 3, 7, 0, 20, 47, 562376))"
      ]
     },
     "execution_count": 97,
     "metadata": {},
     "output_type": "execute_result"
    }
   ],
   "source": [
    "begin = now - dt.timedelta(microseconds=last_cumul)  #2023, 6, 24, 9, 14, (39, 942895) approximatif\n",
    "now, begin"
   ]
  },
  {
   "cell_type": "code",
   "execution_count": 98,
   "metadata": {},
   "outputs": [
    {
     "data": {
      "text/plain": [
       "(11398, 296679, 82.41083333333333)"
      ]
     },
     "execution_count": 98,
     "metadata": {},
     "output_type": "execute_result"
    }
   ],
   "source": [
    "x = mdates.drange(begin,now,dt.timedelta(microseconds=1000000))  # seconds\n",
    "len(conso_data),len(x),len(x)/3600"
   ]
  },
  {
   "cell_type": "code",
   "execution_count": 99,
   "metadata": {},
   "outputs": [],
   "source": [
    "def format_date(space=3):\n",
    "    plt.gca().xaxis.set_major_formatter(mdates.DateFormatter('%d/%m\\n%H:%M'))\n",
    "    plt.gca().xaxis.set_major_locator(mdates.HourLocator(space))\n",
    "    plt.gca().xaxis.set_major_locator(mdates.HourLocator(interval=space))\n",
    "    plt.gcf().autofmt_xdate()\n",
    "    plt.grid()"
   ]
  },
  {
   "cell_type": "code",
   "execution_count": 100,
   "metadata": {},
   "outputs": [
    {
     "data": {
      "text/plain": [
       "732"
      ]
     },
     "execution_count": 100,
     "metadata": {},
     "output_type": "execute_result"
    }
   ],
   "source": [
    "import numpy as np\n",
    "import datetime as dt\n",
    "import matplotlib.pyplot as plt\n",
    "base = dt.datetime(2005, 2, 1)\n",
    "dates = [base + dt.timedelta(hours=(2 * i)) for i in range(732)]\n",
    "N = len(dates)\n",
    "N\n"
   ]
  },
  {
   "cell_type": "code",
   "execution_count": 101,
   "metadata": {},
   "outputs": [
    {
     "data": {
      "text/plain": [
       "61.0"
      ]
     },
     "execution_count": 101,
     "metadata": {},
     "output_type": "execute_result"
    }
   ],
   "source": [
    "732/12 # 60 jours"
   ]
  },
  {
   "cell_type": "code",
   "execution_count": 102,
   "metadata": {},
   "outputs": [
    {
     "data": {
      "text/plain": [
       "(datetime.datetime(2005, 2, 1, 0, 0), datetime.datetime(2005, 4, 2, 22, 0))"
      ]
     },
     "execution_count": 102,
     "metadata": {},
     "output_type": "execute_result"
    }
   ],
   "source": [
    "dates[0],dates[-1]"
   ]
  },
  {
   "cell_type": "code",
   "execution_count": 103,
   "metadata": {},
   "outputs": [
    {
     "data": {
      "image/png": "[encoded data removed]",
      "text/plain": [
       "<Figure size 600x600 with 3 Axes>"
      ]
     },
     "metadata": {},
     "output_type": "display_data"
    }
   ],
   "source": [
    "np.random.seed(19680801)\n",
    "y = np.cumsum(np.random.randn(N))\n",
    "\n",
    "fig, axs = plt.subplots(3, 1, layout='constrained', figsize=(6, 6))\n",
    "lims = [(np.datetime64('2005-02'), np.datetime64('2005-04')),\n",
    "        (np.datetime64('2005-02-03'), np.datetime64('2005-02-15')),\n",
    "        (np.datetime64('2005-02-03 11:00'), np.datetime64('2005-02-04 13:20'))]\n",
    "for nn, ax in enumerate(axs):\n",
    "    ax.plot(dates, y)\n",
    "    ax.set_xlim(lims[nn])\n",
    "    # rotate_labels...\n",
    "    for label in ax.get_xticklabels():\n",
    "        label.set_rotation(40)\n",
    "        label.set_horizontalalignment('right')\n",
    "axs[0].set_title('Default Date Formatter')\n",
    "plt.show()"
   ]
  },
  {
   "cell_type": "code",
   "execution_count": 104,
   "metadata": {},
   "outputs": [
    {
     "data": {
      "text/plain": [
       "datetime.datetime(2005, 4, 2, 22, 0)"
      ]
     },
     "execution_count": 104,
     "metadata": {},
     "output_type": "execute_result"
    }
   ],
   "source": [
    "t = dt.datetime(2005, 4, 2, 22, 0)\n",
    "t"
   ]
  }
 ],
 "metadata": {
  "kernelspec": {
   "display_name": "Python 3",
   "language": "python",
   "name": "python3"
  },
  "language_info": {
   "codemirror_mode": {
    "name": "ipython",
    "version": 3
   },
   "file_extension": ".py",
   "mimetype": "text/x-python",
   "name": "python",
   "nbconvert_exporter": "python",
   "pygments_lexer": "ipython3",
   "version": "3.11.4"
  },
  "orig_nbformat": 4
 },
 "nbformat": 4,
 "nbformat_minor": 2
}
