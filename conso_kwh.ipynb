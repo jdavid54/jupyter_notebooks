{
 "cells": [
  {
   "cell_type": "code",
   "execution_count": 2097,
   "metadata": {},
   "outputs": [],
   "source": [
    "import pandas as pd\n",
    "import numpy as np\n",
    "import matplotlib.pyplot as plt\n",
    "import matplotlib.dates as mdates\n",
    "import matplotlib.ticker as ticker\n",
    "from matplotlib.axis import Axis\n",
    "import datetime as dt\n",
    "\n",
    "#plt.style.use(['science', 'notebook'])\n",
    "#%matplotlib inline\n"
   ]
  },
  {
   "cell_type": "code",
   "execution_count": 2098,
   "metadata": {},
   "outputs": [],
   "source": [
    "data_file = \"conso.txt\""
   ]
  },
  {
   "cell_type": "code",
   "execution_count": 2099,
   "metadata": {},
   "outputs": [],
   "source": [
    "def read_text(filename):\n",
    "    f = open(filename, \"r\")\n",
    "    text = f.readlines()\n",
    "    f.close()\n",
    "    print(text)\n",
    "\n",
    "#read_text(data_file)\n",
    "def get_data(filename):    \n",
    "    data = pd.read_csv(filename)\n",
    "    #data['time'] = pd.to_datetime(data['time'])  #.dt.tz_convert(None)\n",
    "    #data.info()\n",
    "    #print(data.tail(5))\n",
    "    return data\n"
   ]
  },
  {
   "cell_type": "code",
   "execution_count": 2100,
   "metadata": {},
   "outputs": [
    {
     "name": "stdout",
     "output_type": "stream",
     "text": [
      "<class 'pandas.core.frame.DataFrame'>\n",
      "RangeIndex: 1013 entries, 0 to 1012\n",
      "Data columns (total 1 columns):\n",
      " #   Column  Non-Null Count  Dtype  \n",
      "---  ------  --------------  -----  \n",
      " 0   Conso   1013 non-null   float64\n",
      "dtypes: float64(1)\n",
      "memory usage: 8.0 KB\n"
     ]
    }
   ],
   "source": [
    "# read data with pandas\n",
    "data = get_data(data_file)\n",
    "data.info()\n"
   ]
  },
  {
   "cell_type": "code",
   "execution_count": 2101,
   "metadata": {},
   "outputs": [
    {
     "data": {
      "text/html": [
       "<div>\n",
       "<style scoped>\n",
       "    .dataframe tbody tr th:only-of-type {\n",
       "        vertical-align: middle;\n",
       "    }\n",
       "\n",
       "    .dataframe tbody tr th {\n",
       "        vertical-align: top;\n",
       "    }\n",
       "\n",
       "    .dataframe thead th {\n",
       "        text-align: right;\n",
       "    }\n",
       "</style>\n",
       "<table border=\"1\" class=\"dataframe\">\n",
       "  <thead>\n",
       "    <tr style=\"text-align: right;\">\n",
       "      <th></th>\n",
       "      <th>Conso</th>\n",
       "      <th>interval</th>\n",
       "    </tr>\n",
       "  </thead>\n",
       "  <tbody>\n",
       "    <tr>\n",
       "      <th>0</th>\n",
       "      <td>0.19</td>\n",
       "      <td>18947.368421</td>\n",
       "    </tr>\n",
       "    <tr>\n",
       "      <th>1</th>\n",
       "      <td>0.19</td>\n",
       "      <td>18947.368421</td>\n",
       "    </tr>\n",
       "    <tr>\n",
       "      <th>2</th>\n",
       "      <td>0.19</td>\n",
       "      <td>18947.368421</td>\n",
       "    </tr>\n",
       "    <tr>\n",
       "      <th>3</th>\n",
       "      <td>0.19</td>\n",
       "      <td>18947.368421</td>\n",
       "    </tr>\n",
       "    <tr>\n",
       "      <th>4</th>\n",
       "      <td>0.19</td>\n",
       "      <td>18947.368421</td>\n",
       "    </tr>\n",
       "    <tr>\n",
       "      <th>...</th>\n",
       "      <td>...</td>\n",
       "      <td>...</td>\n",
       "    </tr>\n",
       "    <tr>\n",
       "      <th>1008</th>\n",
       "      <td>0.16</td>\n",
       "      <td>22500.000000</td>\n",
       "    </tr>\n",
       "    <tr>\n",
       "      <th>1009</th>\n",
       "      <td>0.16</td>\n",
       "      <td>22500.000000</td>\n",
       "    </tr>\n",
       "    <tr>\n",
       "      <th>1010</th>\n",
       "      <td>0.17</td>\n",
       "      <td>21176.470588</td>\n",
       "    </tr>\n",
       "    <tr>\n",
       "      <th>1011</th>\n",
       "      <td>0.17</td>\n",
       "      <td>21176.470588</td>\n",
       "    </tr>\n",
       "    <tr>\n",
       "      <th>1012</th>\n",
       "      <td>0.16</td>\n",
       "      <td>22500.000000</td>\n",
       "    </tr>\n",
       "  </tbody>\n",
       "</table>\n",
       "<p>1013 rows × 2 columns</p>\n",
       "</div>"
      ],
      "text/plain": [
       "      Conso      interval\n",
       "0      0.19  18947.368421\n",
       "1      0.19  18947.368421\n",
       "2      0.19  18947.368421\n",
       "3      0.19  18947.368421\n",
       "4      0.19  18947.368421\n",
       "...     ...           ...\n",
       "1008   0.16  22500.000000\n",
       "1009   0.16  22500.000000\n",
       "1010   0.17  21176.470588\n",
       "1011   0.17  21176.470588\n",
       "1012   0.16  22500.000000\n",
       "\n",
       "[1013 rows x 2 columns]"
      ]
     },
     "execution_count": 2101,
     "metadata": {},
     "output_type": "execute_result"
    }
   ],
   "source": [
    "data['interval']=3600/data['Conso']\n",
    "data"
   ]
  },
  {
   "cell_type": "code",
   "execution_count": 2102,
   "metadata": {},
   "outputs": [
    {
     "data": {
      "text/plain": [
       "<matplotlib.legend.Legend at 0x228650cf3d0>"
      ]
     },
     "execution_count": 2102,
     "metadata": {},
     "output_type": "execute_result"
    },
    {
     "data": {
      "image/png": "[encoded data removed]",
      "text/plain": [
       "<Figure size 640x480 with 1 Axes>"
      ]
     },
     "metadata": {},
     "output_type": "display_data"
    }
   ],
   "source": [
    "\n",
    "plt.title('Consommation Linky')\n",
    "plt.plot(data, color='red',label='Conso')\n",
    "\n",
    "plt.grid()\n",
    "plt.legend()"
   ]
  },
  {
   "attachments": {},
   "cell_type": "markdown",
   "metadata": {},
   "source": [
    "### conso.csv sur WD6TB mis à jour avec PI4"
   ]
  },
  {
   "cell_type": "code",
   "execution_count": 2103,
   "metadata": {},
   "outputs": [],
   "source": [
    "def get_data2(filename):    \n",
    "    data = pd.read_csv(filename, names=[\"Interval\",\"kWh\"])\n",
    "    return data"
   ]
  },
  {
   "cell_type": "code",
   "execution_count": 2104,
   "metadata": {},
   "outputs": [
    {
     "name": "stdout",
     "output_type": "stream",
     "text": [
      "<class 'pandas.core.frame.DataFrame'>\n",
      "RangeIndex: 42961 entries, 0 to 42960\n",
      "Data columns (total 2 columns):\n",
      " #   Column    Non-Null Count  Dtype  \n",
      "---  ------    --------------  -----  \n",
      " 0   Interval  42961 non-null  int64  \n",
      " 1   kWh       42961 non-null  float64\n",
      "dtypes: float64(1), int64(1)\n",
      "memory usage: 671.4 KB\n"
     ]
    }
   ],
   "source": [
    "old = False\n",
    "\n",
    "if old:\n",
    "    #conso_file = r\"C:\\Users\\jean\\Documents\\conso.csv\"\n",
    "    conso_file = r\"Y:\\Documents\\conso_old.csv\"\n",
    "    conso_file = r\"Y:\\Documents\\conso - Copy (2).csv\"\n",
    "else:\n",
    "    conso_file = r\"Y:\\Documents\\conso.csv\"\n",
    "#old = False\n",
    "conso_data = get_data2(conso_file)\n",
    "conso_data.info()\n"
   ]
  },
  {
   "cell_type": "code",
   "execution_count": 2105,
   "metadata": {},
   "outputs": [
    {
     "data": {
      "text/html": [
       "<div>\n",
       "<style scoped>\n",
       "    .dataframe tbody tr th:only-of-type {\n",
       "        vertical-align: middle;\n",
       "    }\n",
       "\n",
       "    .dataframe tbody tr th {\n",
       "        vertical-align: top;\n",
       "    }\n",
       "\n",
       "    .dataframe thead th {\n",
       "        text-align: right;\n",
       "    }\n",
       "</style>\n",
       "<table border=\"1\" class=\"dataframe\">\n",
       "  <thead>\n",
       "    <tr style=\"text-align: right;\">\n",
       "      <th></th>\n",
       "      <th>Interval</th>\n",
       "      <th>kWh</th>\n",
       "    </tr>\n",
       "  </thead>\n",
       "  <tbody>\n",
       "    <tr>\n",
       "      <th>0</th>\n",
       "      <td>26289</td>\n",
       "      <td>0.14</td>\n",
       "    </tr>\n",
       "    <tr>\n",
       "      <th>1</th>\n",
       "      <td>26243</td>\n",
       "      <td>0.14</td>\n",
       "    </tr>\n",
       "    <tr>\n",
       "      <th>2</th>\n",
       "      <td>25885</td>\n",
       "      <td>0.14</td>\n",
       "    </tr>\n",
       "    <tr>\n",
       "      <th>3</th>\n",
       "      <td>25754</td>\n",
       "      <td>0.14</td>\n",
       "    </tr>\n",
       "    <tr>\n",
       "      <th>4</th>\n",
       "      <td>25774</td>\n",
       "      <td>0.14</td>\n",
       "    </tr>\n",
       "    <tr>\n",
       "      <th>...</th>\n",
       "      <td>...</td>\n",
       "      <td>...</td>\n",
       "    </tr>\n",
       "    <tr>\n",
       "      <th>42956</th>\n",
       "      <td>21444</td>\n",
       "      <td>0.17</td>\n",
       "    </tr>\n",
       "    <tr>\n",
       "      <th>42957</th>\n",
       "      <td>21475</td>\n",
       "      <td>0.17</td>\n",
       "    </tr>\n",
       "    <tr>\n",
       "      <th>42958</th>\n",
       "      <td>21079</td>\n",
       "      <td>0.17</td>\n",
       "    </tr>\n",
       "    <tr>\n",
       "      <th>42959</th>\n",
       "      <td>20932</td>\n",
       "      <td>0.17</td>\n",
       "    </tr>\n",
       "    <tr>\n",
       "      <th>42960</th>\n",
       "      <td>20677</td>\n",
       "      <td>0.17</td>\n",
       "    </tr>\n",
       "  </tbody>\n",
       "</table>\n",
       "<p>42961 rows × 2 columns</p>\n",
       "</div>"
      ],
      "text/plain": [
       "       Interval   kWh\n",
       "0         26289  0.14\n",
       "1         26243  0.14\n",
       "2         25885  0.14\n",
       "3         25754  0.14\n",
       "4         25774  0.14\n",
       "...         ...   ...\n",
       "42956     21444  0.17\n",
       "42957     21475  0.17\n",
       "42958     21079  0.17\n",
       "42959     20932  0.17\n",
       "42960     20677  0.17\n",
       "\n",
       "[42961 rows x 2 columns]"
      ]
     },
     "execution_count": 2105,
     "metadata": {},
     "output_type": "execute_result"
    }
   ],
   "source": [
    "conso_data = conso_data.dropna()\n",
    "conso_data"
   ]
  },
  {
   "cell_type": "code",
   "execution_count": 2106,
   "metadata": {},
   "outputs": [
    {
     "data": {
      "text/html": [
       "<div>\n",
       "<style scoped>\n",
       "    .dataframe tbody tr th:only-of-type {\n",
       "        vertical-align: middle;\n",
       "    }\n",
       "\n",
       "    .dataframe tbody tr th {\n",
       "        vertical-align: top;\n",
       "    }\n",
       "\n",
       "    .dataframe thead th {\n",
       "        text-align: right;\n",
       "    }\n",
       "</style>\n",
       "<table border=\"1\" class=\"dataframe\">\n",
       "  <thead>\n",
       "    <tr style=\"text-align: right;\">\n",
       "      <th></th>\n",
       "      <th>Interval</th>\n",
       "      <th>kWh</th>\n",
       "      <th>sec</th>\n",
       "      <th>Wh</th>\n",
       "      <th>cumul(ms)</th>\n",
       "    </tr>\n",
       "  </thead>\n",
       "  <tbody>\n",
       "    <tr>\n",
       "      <th>0</th>\n",
       "      <td>26289</td>\n",
       "      <td>0.14</td>\n",
       "      <td>26.289</td>\n",
       "      <td>136.939404</td>\n",
       "      <td>26289</td>\n",
       "    </tr>\n",
       "    <tr>\n",
       "      <th>1</th>\n",
       "      <td>26243</td>\n",
       "      <td>0.14</td>\n",
       "      <td>26.243</td>\n",
       "      <td>137.179438</td>\n",
       "      <td>52532</td>\n",
       "    </tr>\n",
       "    <tr>\n",
       "      <th>2</th>\n",
       "      <td>25885</td>\n",
       "      <td>0.14</td>\n",
       "      <td>25.885</td>\n",
       "      <td>139.076685</td>\n",
       "      <td>78417</td>\n",
       "    </tr>\n",
       "    <tr>\n",
       "      <th>3</th>\n",
       "      <td>25754</td>\n",
       "      <td>0.14</td>\n",
       "      <td>25.754</td>\n",
       "      <td>139.784111</td>\n",
       "      <td>104171</td>\n",
       "    </tr>\n",
       "    <tr>\n",
       "      <th>4</th>\n",
       "      <td>25774</td>\n",
       "      <td>0.14</td>\n",
       "      <td>25.774</td>\n",
       "      <td>139.675642</td>\n",
       "      <td>129945</td>\n",
       "    </tr>\n",
       "    <tr>\n",
       "      <th>...</th>\n",
       "      <td>...</td>\n",
       "      <td>...</td>\n",
       "      <td>...</td>\n",
       "      <td>...</td>\n",
       "      <td>...</td>\n",
       "    </tr>\n",
       "    <tr>\n",
       "      <th>42956</th>\n",
       "      <td>21444</td>\n",
       "      <td>0.17</td>\n",
       "      <td>21.444</td>\n",
       "      <td>167.879127</td>\n",
       "      <td>1020460571</td>\n",
       "    </tr>\n",
       "    <tr>\n",
       "      <th>42957</th>\n",
       "      <td>21475</td>\n",
       "      <td>0.17</td>\n",
       "      <td>21.475</td>\n",
       "      <td>167.636787</td>\n",
       "      <td>1020482046</td>\n",
       "    </tr>\n",
       "    <tr>\n",
       "      <th>42958</th>\n",
       "      <td>21079</td>\n",
       "      <td>0.17</td>\n",
       "      <td>21.079</td>\n",
       "      <td>170.786090</td>\n",
       "      <td>1020503125</td>\n",
       "    </tr>\n",
       "    <tr>\n",
       "      <th>42959</th>\n",
       "      <td>20932</td>\n",
       "      <td>0.17</td>\n",
       "      <td>20.932</td>\n",
       "      <td>171.985477</td>\n",
       "      <td>1020524057</td>\n",
       "    </tr>\n",
       "    <tr>\n",
       "      <th>42960</th>\n",
       "      <td>20677</td>\n",
       "      <td>0.17</td>\n",
       "      <td>20.677</td>\n",
       "      <td>174.106495</td>\n",
       "      <td>1020544734</td>\n",
       "    </tr>\n",
       "  </tbody>\n",
       "</table>\n",
       "<p>42961 rows × 5 columns</p>\n",
       "</div>"
      ],
      "text/plain": [
       "       Interval   kWh     sec          Wh   cumul(ms)\n",
       "0         26289  0.14  26.289  136.939404       26289\n",
       "1         26243  0.14  26.243  137.179438       52532\n",
       "2         25885  0.14  25.885  139.076685       78417\n",
       "3         25754  0.14  25.754  139.784111      104171\n",
       "4         25774  0.14  25.774  139.675642      129945\n",
       "...         ...   ...     ...         ...         ...\n",
       "42956     21444  0.17  21.444  167.879127  1020460571\n",
       "42957     21475  0.17  21.475  167.636787  1020482046\n",
       "42958     21079  0.17  21.079  170.786090  1020503125\n",
       "42959     20932  0.17  20.932  171.985477  1020524057\n",
       "42960     20677  0.17  20.677  174.106495  1020544734\n",
       "\n",
       "[42961 rows x 5 columns]"
      ]
     },
     "execution_count": 2106,
     "metadata": {},
     "output_type": "execute_result"
    }
   ],
   "source": [
    "conso_data['sec']=conso_data['Interval']/1000\n",
    "conso_data['Wh']=3600000/conso_data['Interval']\n",
    "conso_data['cumul(ms)']=conso_data['Interval'].cumsum(axis=0)\n",
    "\n",
    "conso_data"
   ]
  },
  {
   "cell_type": "code",
   "execution_count": 2107,
   "metadata": {},
   "outputs": [
    {
     "data": {
      "text/plain": [
       "42960"
      ]
     },
     "execution_count": 2107,
     "metadata": {},
     "output_type": "execute_result"
    }
   ],
   "source": [
    "# index dernier echantillon\n",
    "l=len(conso_data)-1\n",
    "l"
   ]
  },
  {
   "cell_type": "code",
   "execution_count": 2108,
   "metadata": {},
   "outputs": [
    {
     "data": {
      "text/plain": [
       "1020544734000"
      ]
     },
     "execution_count": 2108,
     "metadata": {},
     "output_type": "execute_result"
    }
   ],
   "source": [
    "# cumtime = int(conso_data['cumul(ms)'].tail(1).values[0]*1000)\n",
    "cumtime= int(conso_data._get_value(l,'cumul(ms)')*1000)\n",
    "cumtime"
   ]
  },
  {
   "cell_type": "code",
   "execution_count": 2109,
   "metadata": {},
   "outputs": [
    {
     "data": {
      "text/plain": [
       "False"
      ]
     },
     "execution_count": 2109,
     "metadata": {},
     "output_type": "execute_result"
    }
   ],
   "source": [
    "old"
   ]
  },
  {
   "cell_type": "code",
   "execution_count": 2110,
   "metadata": {},
   "outputs": [
    {
     "data": {
      "text/plain": [
       "datetime.datetime(2024, 3, 7, 0, 23, 46, 332557)"
      ]
     },
     "execution_count": 2110,
     "metadata": {},
     "output_type": "execute_result"
    }
   ],
   "source": [
    "from datetime import datetime, timedelta\n",
    "now = datetime.now()\n",
    "# conso.csv dynamique\n",
    "base = now - timedelta(microseconds=cumtime)\n",
    "base  # date de début\n"
   ]
  },
  {
   "cell_type": "code",
   "execution_count": 2111,
   "metadata": {},
   "outputs": [
    {
     "name": "stdout",
     "output_type": "stream",
     "text": [
      "<class 'pandas.core.frame.DataFrame'>\n",
      "RangeIndex: 42961 entries, 0 to 42960\n",
      "Data columns (total 6 columns):\n",
      " #   Column     Non-Null Count  Dtype         \n",
      "---  ------     --------------  -----         \n",
      " 0   Interval   42961 non-null  int64         \n",
      " 1   kWh        42961 non-null  float64       \n",
      " 2   sec        42961 non-null  float64       \n",
      " 3   Wh         42961 non-null  float64       \n",
      " 4   cumul(ms)  42961 non-null  int64         \n",
      " 5   dates      42961 non-null  datetime64[ns]\n",
      "dtypes: datetime64[ns](1), float64(3), int64(2)\n",
      "memory usage: 2.0 MB\n"
     ]
    }
   ],
   "source": [
    "\n",
    "if old:\n",
    "    base = dt.datetime(2023, 8, 1, 10, 45, 0) - timedelta(microseconds=cumtime)\n",
    "\n",
    "\n",
    "conso_data['dates'] = [base + dt.timedelta(microseconds=t*1000) for t in conso_data['cumul(ms)']]\n",
    "conso_data.info()\n"
   ]
  },
  {
   "cell_type": "code",
   "execution_count": 2112,
   "metadata": {},
   "outputs": [
    {
     "data": {
      "text/html": [
       "<div>\n",
       "<style scoped>\n",
       "    .dataframe tbody tr th:only-of-type {\n",
       "        vertical-align: middle;\n",
       "    }\n",
       "\n",
       "    .dataframe tbody tr th {\n",
       "        vertical-align: top;\n",
       "    }\n",
       "\n",
       "    .dataframe thead th {\n",
       "        text-align: right;\n",
       "    }\n",
       "</style>\n",
       "<table border=\"1\" class=\"dataframe\">\n",
       "  <thead>\n",
       "    <tr style=\"text-align: right;\">\n",
       "      <th></th>\n",
       "      <th>Interval</th>\n",
       "      <th>kWh</th>\n",
       "      <th>sec</th>\n",
       "      <th>Wh</th>\n",
       "      <th>cumul(ms)</th>\n",
       "      <th>dates</th>\n",
       "      <th>days</th>\n",
       "    </tr>\n",
       "  </thead>\n",
       "  <tbody>\n",
       "    <tr>\n",
       "      <th>0</th>\n",
       "      <td>26289</td>\n",
       "      <td>0.14</td>\n",
       "      <td>26.289</td>\n",
       "      <td>136.939404</td>\n",
       "      <td>26289</td>\n",
       "      <td>2024-03-07 00:24:12.621557</td>\n",
       "      <td>07/03/2024</td>\n",
       "    </tr>\n",
       "    <tr>\n",
       "      <th>1</th>\n",
       "      <td>26243</td>\n",
       "      <td>0.14</td>\n",
       "      <td>26.243</td>\n",
       "      <td>137.179438</td>\n",
       "      <td>52532</td>\n",
       "      <td>2024-03-07 00:24:38.864557</td>\n",
       "      <td>07/03/2024</td>\n",
       "    </tr>\n",
       "    <tr>\n",
       "      <th>2</th>\n",
       "      <td>25885</td>\n",
       "      <td>0.14</td>\n",
       "      <td>25.885</td>\n",
       "      <td>139.076685</td>\n",
       "      <td>78417</td>\n",
       "      <td>2024-03-07 00:25:04.749557</td>\n",
       "      <td>07/03/2024</td>\n",
       "    </tr>\n",
       "    <tr>\n",
       "      <th>3</th>\n",
       "      <td>25754</td>\n",
       "      <td>0.14</td>\n",
       "      <td>25.754</td>\n",
       "      <td>139.784111</td>\n",
       "      <td>104171</td>\n",
       "      <td>2024-03-07 00:25:30.503557</td>\n",
       "      <td>07/03/2024</td>\n",
       "    </tr>\n",
       "    <tr>\n",
       "      <th>4</th>\n",
       "      <td>25774</td>\n",
       "      <td>0.14</td>\n",
       "      <td>25.774</td>\n",
       "      <td>139.675642</td>\n",
       "      <td>129945</td>\n",
       "      <td>2024-03-07 00:25:56.277557</td>\n",
       "      <td>07/03/2024</td>\n",
       "    </tr>\n",
       "    <tr>\n",
       "      <th>...</th>\n",
       "      <td>...</td>\n",
       "      <td>...</td>\n",
       "      <td>...</td>\n",
       "      <td>...</td>\n",
       "      <td>...</td>\n",
       "      <td>...</td>\n",
       "      <td>...</td>\n",
       "    </tr>\n",
       "    <tr>\n",
       "      <th>42956</th>\n",
       "      <td>21444</td>\n",
       "      <td>0.17</td>\n",
       "      <td>21.444</td>\n",
       "      <td>167.879127</td>\n",
       "      <td>1020460571</td>\n",
       "      <td>2024-03-18 19:51:26.903557</td>\n",
       "      <td>18/03/2024</td>\n",
       "    </tr>\n",
       "    <tr>\n",
       "      <th>42957</th>\n",
       "      <td>21475</td>\n",
       "      <td>0.17</td>\n",
       "      <td>21.475</td>\n",
       "      <td>167.636787</td>\n",
       "      <td>1020482046</td>\n",
       "      <td>2024-03-18 19:51:48.378557</td>\n",
       "      <td>18/03/2024</td>\n",
       "    </tr>\n",
       "    <tr>\n",
       "      <th>42958</th>\n",
       "      <td>21079</td>\n",
       "      <td>0.17</td>\n",
       "      <td>21.079</td>\n",
       "      <td>170.786090</td>\n",
       "      <td>1020503125</td>\n",
       "      <td>2024-03-18 19:52:09.457557</td>\n",
       "      <td>18/03/2024</td>\n",
       "    </tr>\n",
       "    <tr>\n",
       "      <th>42959</th>\n",
       "      <td>20932</td>\n",
       "      <td>0.17</td>\n",
       "      <td>20.932</td>\n",
       "      <td>171.985477</td>\n",
       "      <td>1020524057</td>\n",
       "      <td>2024-03-18 19:52:30.389557</td>\n",
       "      <td>18/03/2024</td>\n",
       "    </tr>\n",
       "    <tr>\n",
       "      <th>42960</th>\n",
       "      <td>20677</td>\n",
       "      <td>0.17</td>\n",
       "      <td>20.677</td>\n",
       "      <td>174.106495</td>\n",
       "      <td>1020544734</td>\n",
       "      <td>2024-03-18 19:52:51.066557</td>\n",
       "      <td>18/03/2024</td>\n",
       "    </tr>\n",
       "  </tbody>\n",
       "</table>\n",
       "<p>42961 rows × 7 columns</p>\n",
       "</div>"
      ],
      "text/plain": [
       "       Interval   kWh     sec          Wh   cumul(ms)  \\\n",
       "0         26289  0.14  26.289  136.939404       26289   \n",
       "1         26243  0.14  26.243  137.179438       52532   \n",
       "2         25885  0.14  25.885  139.076685       78417   \n",
       "3         25754  0.14  25.754  139.784111      104171   \n",
       "4         25774  0.14  25.774  139.675642      129945   \n",
       "...         ...   ...     ...         ...         ...   \n",
       "42956     21444  0.17  21.444  167.879127  1020460571   \n",
       "42957     21475  0.17  21.475  167.636787  1020482046   \n",
       "42958     21079  0.17  21.079  170.786090  1020503125   \n",
       "42959     20932  0.17  20.932  171.985477  1020524057   \n",
       "42960     20677  0.17  20.677  174.106495  1020544734   \n",
       "\n",
       "                           dates        days  \n",
       "0     2024-03-07 00:24:12.621557  07/03/2024  \n",
       "1     2024-03-07 00:24:38.864557  07/03/2024  \n",
       "2     2024-03-07 00:25:04.749557  07/03/2024  \n",
       "3     2024-03-07 00:25:30.503557  07/03/2024  \n",
       "4     2024-03-07 00:25:56.277557  07/03/2024  \n",
       "...                          ...         ...  \n",
       "42956 2024-03-18 19:51:26.903557  18/03/2024  \n",
       "42957 2024-03-18 19:51:48.378557  18/03/2024  \n",
       "42958 2024-03-18 19:52:09.457557  18/03/2024  \n",
       "42959 2024-03-18 19:52:30.389557  18/03/2024  \n",
       "42960 2024-03-18 19:52:51.066557  18/03/2024  \n",
       "\n",
       "[42961 rows x 7 columns]"
      ]
     },
     "execution_count": 2112,
     "metadata": {},
     "output_type": "execute_result"
    }
   ],
   "source": [
    "conso_data['days']= [d.strftime('%d/%m/%Y') for d in conso_data['dates']]    #[str(d.month)+'-'+str(d.day) for d in conso_data['dates']]\n",
    "conso_data"
   ]
  },
  {
   "cell_type": "code",
   "execution_count": 2113,
   "metadata": {},
   "outputs": [
    {
     "data": {
      "text/plain": [
       "(   Interval   kWh     sec          Wh  cumul(ms)                      dates  \\\n",
       " 0     26289  0.14  26.289  136.939404      26289 2024-03-07 00:24:12.621557   \n",
       " \n",
       "          days  \n",
       " 0  07/03/2024  ,\n",
       "        Interval   kWh     sec          Wh   cumul(ms)  \\\n",
       " 42960     20677  0.17  20.677  174.106495  1020544734   \n",
       " \n",
       "                            dates        days  \n",
       " 42960 2024-03-18 19:52:51.066557  18/03/2024  )"
      ]
     },
     "execution_count": 2113,
     "metadata": {},
     "output_type": "execute_result"
    }
   ],
   "source": [
    "#conso_data\n",
    "conso_data.head(1),conso_data.tail(1)"
   ]
  },
  {
   "cell_type": "code",
   "execution_count": 2114,
   "metadata": {},
   "outputs": [
    {
     "data": {
      "text/plain": [
       "'18/03/2024'"
      ]
     },
     "execution_count": 2114,
     "metadata": {},
     "output_type": "execute_result"
    }
   ],
   "source": [
    "# tranche journalière\n",
    "now = datetime.now()\n",
    "day = now.strftime('%d/%m/%Y')    #str(now.month)+'-'+str(now.day)\n",
    "day"
   ]
  },
  {
   "cell_type": "code",
   "execution_count": 2115,
   "metadata": {},
   "outputs": [
    {
     "name": "stdout",
     "output_type": "stream",
     "text": [
      "07/03/2024 3.344\n",
      "08/03/2024 3.76\n",
      "09/03/2024 3.058\n",
      "10/03/2024 3.569\n",
      "11/03/2024 4.524\n",
      "12/03/2024 3.552\n",
      "13/03/2024 3.509\n",
      "14/03/2024 3.703\n",
      "15/03/2024 3.544\n"
     ]
    },
    {
     "name": "stdout",
     "output_type": "stream",
     "text": [
      "16/03/2024 3.358\n",
      "17/03/2024 3.412\n",
      "18/03/2024 3.628\n"
     ]
    },
    {
     "data": {
      "image/png": "[encoded data removed]",
      "text/plain": [
       "<Figure size 640x480 with 1 Axes>"
      ]
     },
     "metadata": {},
     "output_type": "display_data"
    }
   ],
   "source": [
    "def conso_by_day(day):\n",
    "    conso_day = conso_data[conso_data['days']==day]\n",
    "    conso_jour = len(conso_day)/1000\n",
    "    return conso_jour\n",
    "conso_graph=[]\n",
    "for d in range(7,now.day+1):\n",
    "    if d<10:pref='0'\n",
    "    else:pref=''\n",
    "    day = pref+str(d)+'/03/2024'\n",
    "    conso_graph.append(conso_by_day(day))\n",
    "    print(day,conso_by_day(day))\n",
    "plt.plot(conso_graph)\n",
    "plt.grid()"
   ]
  },
  {
   "cell_type": "code",
   "execution_count": 2116,
   "metadata": {},
   "outputs": [],
   "source": [
    "#manuel\n",
    "#day = '11/03/2024'\n"
   ]
  },
  {
   "cell_type": "code",
   "execution_count": 2117,
   "metadata": {},
   "outputs": [
    {
     "data": {
      "text/plain": [
       "3628"
      ]
     },
     "execution_count": 2117,
     "metadata": {},
     "output_type": "execute_result"
    }
   ],
   "source": [
    "\n",
    "conso_day = conso_data[conso_data['days']==day]\n",
    "conso_jour = len(conso_day)\n",
    "conso_jour"
   ]
  },
  {
   "cell_type": "code",
   "execution_count": 2118,
   "metadata": {},
   "outputs": [
    {
     "data": {
      "text/plain": [
       "(39333   2024-03-18 00:00:20.115557\n",
       " Name: dates, dtype: datetime64[ns],\n",
       " 42960   2024-03-18 19:52:51.066557\n",
       " Name: dates, dtype: datetime64[ns])"
      ]
     },
     "execution_count": 2118,
     "metadata": {},
     "output_type": "execute_result"
    }
   ],
   "source": [
    "conso_day.head(1).dates, conso_day.tail(1).dates"
   ]
  },
  {
   "cell_type": "code",
   "execution_count": 2119,
   "metadata": {},
   "outputs": [
    {
     "name": "stderr",
     "output_type": "stream",
     "text": [
      "C:\\Users\\jean\\AppData\\Local\\Temp\\ipykernel_21524\\1613890403.py:1: SettingWithCopyWarning: \n",
      "A value is trying to be set on a copy of a slice from a DataFrame.\n",
      "Try using .loc[row_indexer,col_indexer] = value instead\n",
      "\n",
      "See the caveats in the documentation: https://pandas.pydata.org/pandas-docs/stable/user_guide/indexing.html#returning-a-view-versus-a-copy\n",
      "  conso_day['heure']=conso_day['dates'].map(lambda x: str(x.hour)+':'+str(x.minute) +':'+str(x.second))\n"
     ]
    },
    {
     "data": {
      "text/html": [
       "<div>\n",
       "<style scoped>\n",
       "    .dataframe tbody tr th:only-of-type {\n",
       "        vertical-align: middle;\n",
       "    }\n",
       "\n",
       "    .dataframe tbody tr th {\n",
       "        vertical-align: top;\n",
       "    }\n",
       "\n",
       "    .dataframe thead th {\n",
       "        text-align: right;\n",
       "    }\n",
       "</style>\n",
       "<table border=\"1\" class=\"dataframe\">\n",
       "  <thead>\n",
       "    <tr style=\"text-align: right;\">\n",
       "      <th></th>\n",
       "      <th>Interval</th>\n",
       "      <th>kWh</th>\n",
       "      <th>sec</th>\n",
       "      <th>Wh</th>\n",
       "      <th>cumul(ms)</th>\n",
       "      <th>dates</th>\n",
       "      <th>days</th>\n",
       "      <th>heure</th>\n",
       "    </tr>\n",
       "  </thead>\n",
       "  <tbody>\n",
       "    <tr>\n",
       "      <th>39333</th>\n",
       "      <td>25513</td>\n",
       "      <td>0.14</td>\n",
       "      <td>25.513</td>\n",
       "      <td>141.104535</td>\n",
       "      <td>948993783</td>\n",
       "      <td>2024-03-18 00:00:20.115557</td>\n",
       "      <td>18/03/2024</td>\n",
       "      <td>0:0:20</td>\n",
       "    </tr>\n",
       "    <tr>\n",
       "      <th>39334</th>\n",
       "      <td>25433</td>\n",
       "      <td>0.14</td>\n",
       "      <td>25.433</td>\n",
       "      <td>141.548382</td>\n",
       "      <td>949019216</td>\n",
       "      <td>2024-03-18 00:00:45.548557</td>\n",
       "      <td>18/03/2024</td>\n",
       "      <td>0:0:45</td>\n",
       "    </tr>\n",
       "    <tr>\n",
       "      <th>39335</th>\n",
       "      <td>25545</td>\n",
       "      <td>0.14</td>\n",
       "      <td>25.545</td>\n",
       "      <td>140.927775</td>\n",
       "      <td>949044761</td>\n",
       "      <td>2024-03-18 00:01:11.093557</td>\n",
       "      <td>18/03/2024</td>\n",
       "      <td>0:1:11</td>\n",
       "    </tr>\n",
       "    <tr>\n",
       "      <th>39336</th>\n",
       "      <td>26515</td>\n",
       "      <td>0.14</td>\n",
       "      <td>26.515</td>\n",
       "      <td>135.772204</td>\n",
       "      <td>949071276</td>\n",
       "      <td>2024-03-18 00:01:37.608557</td>\n",
       "      <td>18/03/2024</td>\n",
       "      <td>0:1:37</td>\n",
       "    </tr>\n",
       "    <tr>\n",
       "      <th>39337</th>\n",
       "      <td>23501</td>\n",
       "      <td>0.15</td>\n",
       "      <td>23.501</td>\n",
       "      <td>153.184971</td>\n",
       "      <td>949094777</td>\n",
       "      <td>2024-03-18 00:02:01.109557</td>\n",
       "      <td>18/03/2024</td>\n",
       "      <td>0:2:1</td>\n",
       "    </tr>\n",
       "    <tr>\n",
       "      <th>...</th>\n",
       "      <td>...</td>\n",
       "      <td>...</td>\n",
       "      <td>...</td>\n",
       "      <td>...</td>\n",
       "      <td>...</td>\n",
       "      <td>...</td>\n",
       "      <td>...</td>\n",
       "      <td>...</td>\n",
       "    </tr>\n",
       "    <tr>\n",
       "      <th>42956</th>\n",
       "      <td>21444</td>\n",
       "      <td>0.17</td>\n",
       "      <td>21.444</td>\n",
       "      <td>167.879127</td>\n",
       "      <td>1020460571</td>\n",
       "      <td>2024-03-18 19:51:26.903557</td>\n",
       "      <td>18/03/2024</td>\n",
       "      <td>19:51:26</td>\n",
       "    </tr>\n",
       "    <tr>\n",
       "      <th>42957</th>\n",
       "      <td>21475</td>\n",
       "      <td>0.17</td>\n",
       "      <td>21.475</td>\n",
       "      <td>167.636787</td>\n",
       "      <td>1020482046</td>\n",
       "      <td>2024-03-18 19:51:48.378557</td>\n",
       "      <td>18/03/2024</td>\n",
       "      <td>19:51:48</td>\n",
       "    </tr>\n",
       "    <tr>\n",
       "      <th>42958</th>\n",
       "      <td>21079</td>\n",
       "      <td>0.17</td>\n",
       "      <td>21.079</td>\n",
       "      <td>170.786090</td>\n",
       "      <td>1020503125</td>\n",
       "      <td>2024-03-18 19:52:09.457557</td>\n",
       "      <td>18/03/2024</td>\n",
       "      <td>19:52:9</td>\n",
       "    </tr>\n",
       "    <tr>\n",
       "      <th>42959</th>\n",
       "      <td>20932</td>\n",
       "      <td>0.17</td>\n",
       "      <td>20.932</td>\n",
       "      <td>171.985477</td>\n",
       "      <td>1020524057</td>\n",
       "      <td>2024-03-18 19:52:30.389557</td>\n",
       "      <td>18/03/2024</td>\n",
       "      <td>19:52:30</td>\n",
       "    </tr>\n",
       "    <tr>\n",
       "      <th>42960</th>\n",
       "      <td>20677</td>\n",
       "      <td>0.17</td>\n",
       "      <td>20.677</td>\n",
       "      <td>174.106495</td>\n",
       "      <td>1020544734</td>\n",
       "      <td>2024-03-18 19:52:51.066557</td>\n",
       "      <td>18/03/2024</td>\n",
       "      <td>19:52:51</td>\n",
       "    </tr>\n",
       "  </tbody>\n",
       "</table>\n",
       "<p>3628 rows × 8 columns</p>\n",
       "</div>"
      ],
      "text/plain": [
       "       Interval   kWh     sec          Wh   cumul(ms)  \\\n",
       "39333     25513  0.14  25.513  141.104535   948993783   \n",
       "39334     25433  0.14  25.433  141.548382   949019216   \n",
       "39335     25545  0.14  25.545  140.927775   949044761   \n",
       "39336     26515  0.14  26.515  135.772204   949071276   \n",
       "39337     23501  0.15  23.501  153.184971   949094777   \n",
       "...         ...   ...     ...         ...         ...   \n",
       "42956     21444  0.17  21.444  167.879127  1020460571   \n",
       "42957     21475  0.17  21.475  167.636787  1020482046   \n",
       "42958     21079  0.17  21.079  170.786090  1020503125   \n",
       "42959     20932  0.17  20.932  171.985477  1020524057   \n",
       "42960     20677  0.17  20.677  174.106495  1020544734   \n",
       "\n",
       "                           dates        days     heure  \n",
       "39333 2024-03-18 00:00:20.115557  18/03/2024    0:0:20  \n",
       "39334 2024-03-18 00:00:45.548557  18/03/2024    0:0:45  \n",
       "39335 2024-03-18 00:01:11.093557  18/03/2024    0:1:11  \n",
       "39336 2024-03-18 00:01:37.608557  18/03/2024    0:1:37  \n",
       "39337 2024-03-18 00:02:01.109557  18/03/2024     0:2:1  \n",
       "...                          ...         ...       ...  \n",
       "42956 2024-03-18 19:51:26.903557  18/03/2024  19:51:26  \n",
       "42957 2024-03-18 19:51:48.378557  18/03/2024  19:51:48  \n",
       "42958 2024-03-18 19:52:09.457557  18/03/2024   19:52:9  \n",
       "42959 2024-03-18 19:52:30.389557  18/03/2024  19:52:30  \n",
       "42960 2024-03-18 19:52:51.066557  18/03/2024  19:52:51  \n",
       "\n",
       "[3628 rows x 8 columns]"
      ]
     },
     "execution_count": 2119,
     "metadata": {},
     "output_type": "execute_result"
    }
   ],
   "source": [
    "conso_day['heure']=conso_day['dates'].map(lambda x: str(x.hour)+':'+str(x.minute) +':'+str(x.second))\n",
    "#=[x.hour for x in conso_day['dates']]\n",
    "conso_day"
   ]
  },
  {
   "cell_type": "code",
   "execution_count": 2120,
   "metadata": {},
   "outputs": [
    {
     "data": {
      "text/html": [
       "<div>\n",
       "<style scoped>\n",
       "    .dataframe tbody tr th:only-of-type {\n",
       "        vertical-align: middle;\n",
       "    }\n",
       "\n",
       "    .dataframe tbody tr th {\n",
       "        vertical-align: top;\n",
       "    }\n",
       "\n",
       "    .dataframe thead th {\n",
       "        text-align: right;\n",
       "    }\n",
       "</style>\n",
       "<table border=\"1\" class=\"dataframe\">\n",
       "  <thead>\n",
       "    <tr style=\"text-align: right;\">\n",
       "      <th></th>\n",
       "      <th>Interval</th>\n",
       "      <th>kWh</th>\n",
       "      <th>sec</th>\n",
       "      <th>Wh</th>\n",
       "      <th>cumul(ms)</th>\n",
       "      <th>dates</th>\n",
       "      <th>days</th>\n",
       "    </tr>\n",
       "    <tr>\n",
       "      <th>heure</th>\n",
       "      <th></th>\n",
       "      <th></th>\n",
       "      <th></th>\n",
       "      <th></th>\n",
       "      <th></th>\n",
       "      <th></th>\n",
       "      <th></th>\n",
       "    </tr>\n",
       "  </thead>\n",
       "  <tbody>\n",
       "    <tr>\n",
       "      <th>0:0:20</th>\n",
       "      <td>25513</td>\n",
       "      <td>0.14</td>\n",
       "      <td>25.513</td>\n",
       "      <td>141.104535</td>\n",
       "      <td>948993783</td>\n",
       "      <td>2024-03-18 00:00:20.115557</td>\n",
       "      <td>18/03/2024</td>\n",
       "    </tr>\n",
       "    <tr>\n",
       "      <th>0:0:45</th>\n",
       "      <td>25433</td>\n",
       "      <td>0.14</td>\n",
       "      <td>25.433</td>\n",
       "      <td>141.548382</td>\n",
       "      <td>949019216</td>\n",
       "      <td>2024-03-18 00:00:45.548557</td>\n",
       "      <td>18/03/2024</td>\n",
       "    </tr>\n",
       "    <tr>\n",
       "      <th>0:1:11</th>\n",
       "      <td>25545</td>\n",
       "      <td>0.14</td>\n",
       "      <td>25.545</td>\n",
       "      <td>140.927775</td>\n",
       "      <td>949044761</td>\n",
       "      <td>2024-03-18 00:01:11.093557</td>\n",
       "      <td>18/03/2024</td>\n",
       "    </tr>\n",
       "    <tr>\n",
       "      <th>0:1:37</th>\n",
       "      <td>26515</td>\n",
       "      <td>0.14</td>\n",
       "      <td>26.515</td>\n",
       "      <td>135.772204</td>\n",
       "      <td>949071276</td>\n",
       "      <td>2024-03-18 00:01:37.608557</td>\n",
       "      <td>18/03/2024</td>\n",
       "    </tr>\n",
       "    <tr>\n",
       "      <th>0:2:1</th>\n",
       "      <td>23501</td>\n",
       "      <td>0.15</td>\n",
       "      <td>23.501</td>\n",
       "      <td>153.184971</td>\n",
       "      <td>949094777</td>\n",
       "      <td>2024-03-18 00:02:01.109557</td>\n",
       "      <td>18/03/2024</td>\n",
       "    </tr>\n",
       "    <tr>\n",
       "      <th>...</th>\n",
       "      <td>...</td>\n",
       "      <td>...</td>\n",
       "      <td>...</td>\n",
       "      <td>...</td>\n",
       "      <td>...</td>\n",
       "      <td>...</td>\n",
       "      <td>...</td>\n",
       "    </tr>\n",
       "    <tr>\n",
       "      <th>19:51:26</th>\n",
       "      <td>21444</td>\n",
       "      <td>0.17</td>\n",
       "      <td>21.444</td>\n",
       "      <td>167.879127</td>\n",
       "      <td>1020460571</td>\n",
       "      <td>2024-03-18 19:51:26.903557</td>\n",
       "      <td>18/03/2024</td>\n",
       "    </tr>\n",
       "    <tr>\n",
       "      <th>19:51:48</th>\n",
       "      <td>21475</td>\n",
       "      <td>0.17</td>\n",
       "      <td>21.475</td>\n",
       "      <td>167.636787</td>\n",
       "      <td>1020482046</td>\n",
       "      <td>2024-03-18 19:51:48.378557</td>\n",
       "      <td>18/03/2024</td>\n",
       "    </tr>\n",
       "    <tr>\n",
       "      <th>19:52:9</th>\n",
       "      <td>21079</td>\n",
       "      <td>0.17</td>\n",
       "      <td>21.079</td>\n",
       "      <td>170.786090</td>\n",
       "      <td>1020503125</td>\n",
       "      <td>2024-03-18 19:52:09.457557</td>\n",
       "      <td>18/03/2024</td>\n",
       "    </tr>\n",
       "    <tr>\n",
       "      <th>19:52:30</th>\n",
       "      <td>20932</td>\n",
       "      <td>0.17</td>\n",
       "      <td>20.932</td>\n",
       "      <td>171.985477</td>\n",
       "      <td>1020524057</td>\n",
       "      <td>2024-03-18 19:52:30.389557</td>\n",
       "      <td>18/03/2024</td>\n",
       "    </tr>\n",
       "    <tr>\n",
       "      <th>19:52:51</th>\n",
       "      <td>20677</td>\n",
       "      <td>0.17</td>\n",
       "      <td>20.677</td>\n",
       "      <td>174.106495</td>\n",
       "      <td>1020544734</td>\n",
       "      <td>2024-03-18 19:52:51.066557</td>\n",
       "      <td>18/03/2024</td>\n",
       "    </tr>\n",
       "  </tbody>\n",
       "</table>\n",
       "<p>3628 rows × 7 columns</p>\n",
       "</div>"
      ],
      "text/plain": [
       "          Interval   kWh     sec          Wh   cumul(ms)  \\\n",
       "heure                                                      \n",
       "0:0:20       25513  0.14  25.513  141.104535   948993783   \n",
       "0:0:45       25433  0.14  25.433  141.548382   949019216   \n",
       "0:1:11       25545  0.14  25.545  140.927775   949044761   \n",
       "0:1:37       26515  0.14  26.515  135.772204   949071276   \n",
       "0:2:1        23501  0.15  23.501  153.184971   949094777   \n",
       "...            ...   ...     ...         ...         ...   \n",
       "19:51:26     21444  0.17  21.444  167.879127  1020460571   \n",
       "19:51:48     21475  0.17  21.475  167.636787  1020482046   \n",
       "19:52:9      21079  0.17  21.079  170.786090  1020503125   \n",
       "19:52:30     20932  0.17  20.932  171.985477  1020524057   \n",
       "19:52:51     20677  0.17  20.677  174.106495  1020544734   \n",
       "\n",
       "                              dates        days  \n",
       "heure                                            \n",
       "0:0:20   2024-03-18 00:00:20.115557  18/03/2024  \n",
       "0:0:45   2024-03-18 00:00:45.548557  18/03/2024  \n",
       "0:1:11   2024-03-18 00:01:11.093557  18/03/2024  \n",
       "0:1:37   2024-03-18 00:01:37.608557  18/03/2024  \n",
       "0:2:1    2024-03-18 00:02:01.109557  18/03/2024  \n",
       "...                             ...         ...  \n",
       "19:51:26 2024-03-18 19:51:26.903557  18/03/2024  \n",
       "19:51:48 2024-03-18 19:51:48.378557  18/03/2024  \n",
       "19:52:9  2024-03-18 19:52:09.457557  18/03/2024  \n",
       "19:52:30 2024-03-18 19:52:30.389557  18/03/2024  \n",
       "19:52:51 2024-03-18 19:52:51.066557  18/03/2024  \n",
       "\n",
       "[3628 rows x 7 columns]"
      ]
     },
     "execution_count": 2120,
     "metadata": {},
     "output_type": "execute_result"
    }
   ],
   "source": [
    "df= conso_day.set_index('heure')\n",
    "df"
   ]
  },
  {
   "cell_type": "code",
   "execution_count": 2121,
   "metadata": {},
   "outputs": [
    {
     "data": {
      "image/png": "[encoded data removed]",
      "text/plain": [
       "<Figure size 1500x700 with 1 Axes>"
      ]
     },
     "metadata": {},
     "output_type": "display_data"
    }
   ],
   "source": [
    "from matplotlib.ticker import (MultipleLocator, AutoMinorLocator)\n",
    "# consommation d'une journée entière à partir de minuit\n",
    "fig, ax = plt.subplots()\n",
    "major_ticks=300;minor_ticks=100\n",
    "ax.xaxis.set_major_locator(MultipleLocator(major_ticks))  # major ticks tous les 15 min\n",
    "ax.xaxis.set_minor_locator(MultipleLocator(minor_ticks))\n",
    "# the size of A4 paper\n",
    "fig.set_size_inches(15, 7)\n",
    "plt.plot(df['kWh'])\n",
    "#plt.plot(conso_day['heure'],conso_day['kWh'])\n",
    "plt.title(f'Journée du {day} : {conso_jour/1000} kwh')\n",
    "plt.grid()"
   ]
  },
  {
   "cell_type": "code",
   "execution_count": 2122,
   "metadata": {},
   "outputs": [
    {
     "data": {
      "text/plain": [
       "0       2024-03-07 00:24:12.621557\n",
       "1       2024-03-07 00:24:38.864557\n",
       "2       2024-03-07 00:25:04.749557\n",
       "3       2024-03-07 00:25:30.503557\n",
       "4       2024-03-07 00:25:56.277557\n",
       "                   ...            \n",
       "42956   2024-03-18 19:51:26.903557\n",
       "42957   2024-03-18 19:51:48.378557\n",
       "42958   2024-03-18 19:52:09.457557\n",
       "42959   2024-03-18 19:52:30.389557\n",
       "42960   2024-03-18 19:52:51.066557\n",
       "Name: dates, Length: 42961, dtype: datetime64[ns]"
      ]
     },
     "execution_count": 2122,
     "metadata": {},
     "output_type": "execute_result"
    }
   ],
   "source": [
    "\n",
    "\n",
    "time = conso_data['dates']\n",
    "time\n"
   ]
  },
  {
   "cell_type": "code",
   "execution_count": 2123,
   "metadata": {},
   "outputs": [],
   "source": [
    "def format_date(space=3):\n",
    "    plt.gca().xaxis.set_major_formatter(mdates.DateFormatter('%d/%m\\n%H:%M'))\n",
    "    plt.gca().xaxis.set_major_locator(mdates.HourLocator(space))\n",
    "    #plt.gca().xaxis.set_major_locator(mdates.HourLocator(interval=space))\n",
    "    plt.gcf().autofmt_xdate()\n",
    "    plt.grid()"
   ]
  },
  {
   "cell_type": "code",
   "execution_count": 2124,
   "metadata": {},
   "outputs": [],
   "source": [
    "if not old:\n",
    "    major_ticks=1/60;minor_ticks=1/240  # plus de ticks, 4 fois plus de minor\n",
    "    major_ticks=1/30;minor_ticks=1/120   # moins de ticks\n",
    "    major_ticks=1/15;minor_ticks=1/60\n",
    "    major_ticks=1/2;minor_ticks=1/8\n",
    "else:\n",
    "    major_ticks=4;minor_ticks=1   # encore moins si int\n"
   ]
  },
  {
   "cell_type": "code",
   "execution_count": 2125,
   "metadata": {},
   "outputs": [
    {
     "data": {
      "text/plain": [
       "(4, 1)"
      ]
     },
     "execution_count": 2125,
     "metadata": {},
     "output_type": "execute_result"
    }
   ],
   "source": [
    "major_ticks=4;minor_ticks=1\n",
    "major_ticks,minor_ticks"
   ]
  },
  {
   "cell_type": "markdown",
   "metadata": {},
   "source": [
    "## Main graph"
   ]
  },
  {
   "cell_type": "code",
   "execution_count": 2126,
   "metadata": {},
   "outputs": [
    {
     "data": {
      "image/png": "[encoded data removed]",
      "text/plain": [
       "<Figure size 2500x1000 with 1 Axes>"
      ]
     },
     "metadata": {},
     "output_type": "display_data"
    }
   ],
   "source": [
    "\n",
    "from matplotlib.dates import (YEARLY, DateFormatter,rrulewrapper, RRuleLocator, drange)\n",
    "\n",
    "def show_graph():\n",
    "    fig, ax = plt.subplots()\n",
    "    # the size of A4 paper\n",
    "    fig.set_size_inches(25, 10)\n",
    "\n",
    "    #plt.rcParams['axes.autolimit_mode'] = 'round_numbers'\n",
    "    \n",
    "    #formatter = DateFormatter('%d/%m\\n%H:%M:%S')\n",
    "    formatter = DateFormatter('%d/%m\\n%H:%M')\n",
    "    ax.xaxis.set_major_formatter(formatter)\n",
    "\n",
    "    # ticks sur axe des x\n",
    "    ax.xaxis.set_major_locator(MultipleLocator(major_ticks))  # major ticks tous les 15 min\n",
    "    ax.xaxis.set_minor_locator(MultipleLocator(minor_ticks))  # minor ticks tous les 5 min\n",
    "    ax.tick_params(which='both', width=3)\n",
    "    ax.tick_params(which='major', length=15, color='r')\n",
    "    ax.tick_params(which='minor', length=8, color='b')\n",
    "\n",
    "    #plt.plot(conso_data['cumul(ms)']/3600000,conso_data['Wh'])\n",
    "    plt.plot(time,conso_data['Wh'])\n",
    "    plt.ylabel('Wh')\n",
    "    plt.xlabel('Time (heures)')\n",
    "    #format_date(10)\n",
    "    for label in ax.get_xticklabels():\n",
    "        label.set_rotation(40)\n",
    "        label.set_horizontalalignment('right')\n",
    "\n",
    "    #fig.autofmt_xdate()\n",
    "    \n",
    "    plt.grid()\n",
    "    plt.show()\n",
    "show_graph()"
   ]
  },
  {
   "cell_type": "code",
   "execution_count": 2127,
   "metadata": {},
   "outputs": [
    {
     "data": {
      "text/html": [
       "<div>\n",
       "<style scoped>\n",
       "    .dataframe tbody tr th:only-of-type {\n",
       "        vertical-align: middle;\n",
       "    }\n",
       "\n",
       "    .dataframe tbody tr th {\n",
       "        vertical-align: top;\n",
       "    }\n",
       "\n",
       "    .dataframe thead th {\n",
       "        text-align: right;\n",
       "    }\n",
       "</style>\n",
       "<table border=\"1\" class=\"dataframe\">\n",
       "  <thead>\n",
       "    <tr style=\"text-align: right;\">\n",
       "      <th></th>\n",
       "      <th>Interval</th>\n",
       "      <th>kWh</th>\n",
       "      <th>sec</th>\n",
       "      <th>Wh</th>\n",
       "      <th>cumul(ms)</th>\n",
       "      <th>dates</th>\n",
       "      <th>days</th>\n",
       "    </tr>\n",
       "  </thead>\n",
       "  <tbody>\n",
       "    <tr>\n",
       "      <th>42960</th>\n",
       "      <td>20677</td>\n",
       "      <td>0.17</td>\n",
       "      <td>20.677</td>\n",
       "      <td>174.106495</td>\n",
       "      <td>1020544734</td>\n",
       "      <td>2024-03-18 19:52:51.066557</td>\n",
       "      <td>18/03/2024</td>\n",
       "    </tr>\n",
       "  </tbody>\n",
       "</table>\n",
       "</div>"
      ],
      "text/plain": [
       "       Interval   kWh     sec          Wh   cumul(ms)  \\\n",
       "42960     20677  0.17  20.677  174.106495  1020544734   \n",
       "\n",
       "                           dates        days  \n",
       "42960 2024-03-18 19:52:51.066557  18/03/2024  "
      ]
     },
     "execution_count": 2127,
     "metadata": {},
     "output_type": "execute_result"
    }
   ],
   "source": [
    "cumul_conso = len(conso_data)\n",
    "conso_data.tail(1)"
   ]
  },
  {
   "cell_type": "code",
   "execution_count": 2128,
   "metadata": {},
   "outputs": [
    {
     "data": {
      "text/plain": [
       "1020544734000"
      ]
     },
     "execution_count": 2128,
     "metadata": {},
     "output_type": "execute_result"
    }
   ],
   "source": [
    "cumtime= int(conso_data._get_value(l,'cumul(ms)')*1000)\n",
    "cumtime"
   ]
  },
  {
   "cell_type": "markdown",
   "metadata": {},
   "source": [
    "# Slice of last 1 kWh"
   ]
  },
  {
   "cell_type": "code",
   "execution_count": 2129,
   "metadata": {},
   "outputs": [
    {
     "data": {
      "text/plain": [
       "42961"
      ]
     },
     "execution_count": 2129,
     "metadata": {},
     "output_type": "execute_result"
    }
   ],
   "source": [
    "l = len(conso_data)  # total watt consommés\n",
    "l"
   ]
  },
  {
   "cell_type": "code",
   "execution_count": 2130,
   "metadata": {},
   "outputs": [
    {
     "data": {
      "text/plain": [
       "(42961, 1000)"
      ]
     },
     "execution_count": 2130,
     "metadata": {},
     "output_type": "execute_result"
    }
   ],
   "source": [
    "k = 1\n",
    "taille = k*1000  # fenetre k*1000 watt consommés\n",
    "l,taille"
   ]
  },
  {
   "cell_type": "code",
   "execution_count": 2131,
   "metadata": {},
   "outputs": [
    {
     "data": {
      "text/plain": [
       "1000"
      ]
     },
     "execution_count": 2131,
     "metadata": {},
     "output_type": "execute_result"
    }
   ],
   "source": [
    "if l<1000:\n",
    "    part = 1\n",
    "else: part = 1/2\n",
    "#taille = int(part*l)\n",
    "taille"
   ]
  },
  {
   "cell_type": "code",
   "execution_count": 2132,
   "metadata": {},
   "outputs": [
    {
     "data": {
      "text/plain": [
       "(1000,\n",
       "        Interval   kWh     sec          Wh   cumul(ms)  \\\n",
       " 41961     20067  0.18  20.067  179.399013  1001738924   \n",
       " 41962     20509  0.17  20.509  175.532693  1001759433   \n",
       " 41963     20353  0.18  20.353  176.878102  1001779786   \n",
       " 41964     20219  0.18  20.219  178.050349  1001800005   \n",
       " 41965     20465  0.17  20.465  175.910090  1001820470   \n",
       " ...         ...   ...     ...         ...         ...   \n",
       " 42956     21444  0.17  21.444  167.879127  1020460571   \n",
       " 42957     21475  0.17  21.475  167.636787  1020482046   \n",
       " 42958     21079  0.17  21.079  170.786090  1020503125   \n",
       " 42959     20932  0.17  20.932  171.985477  1020524057   \n",
       " 42960     20677  0.17  20.677  174.106495  1020544734   \n",
       " \n",
       "                            dates        days  \n",
       " 41961 2024-03-18 14:39:25.256557  18/03/2024  \n",
       " 41962 2024-03-18 14:39:45.765557  18/03/2024  \n",
       " 41963 2024-03-18 14:40:06.118557  18/03/2024  \n",
       " 41964 2024-03-18 14:40:26.337557  18/03/2024  \n",
       " 41965 2024-03-18 14:40:46.802557  18/03/2024  \n",
       " ...                          ...         ...  \n",
       " 42956 2024-03-18 19:51:26.903557  18/03/2024  \n",
       " 42957 2024-03-18 19:51:48.378557  18/03/2024  \n",
       " 42958 2024-03-18 19:52:09.457557  18/03/2024  \n",
       " 42959 2024-03-18 19:52:30.389557  18/03/2024  \n",
       " 42960 2024-03-18 19:52:51.066557  18/03/2024  \n",
       " \n",
       " [1000 rows x 7 columns])"
      ]
     },
     "execution_count": 2132,
     "metadata": {},
     "output_type": "execute_result"
    }
   ],
   "source": [
    "data = conso_data.tail(taille)\n",
    "len(data),data"
   ]
  },
  {
   "cell_type": "code",
   "execution_count": 2133,
   "metadata": {},
   "outputs": [],
   "source": [
    "now = datetime.now()\n",
    "# conso.csv dynamique\n",
    "cumtime_start= int(conso_data._get_value(l-taille+1,'cumul(ms)')*1000) # conversion microseconds\n"
   ]
  },
  {
   "cell_type": "code",
   "execution_count": 2134,
   "metadata": {},
   "outputs": [],
   "source": [
    "cumtime_end= int(data._get_value(l-1,'cumul(ms)')*1000) # conversion microseconds\n"
   ]
  },
  {
   "cell_type": "code",
   "execution_count": 2135,
   "metadata": {},
   "outputs": [
    {
     "data": {
      "text/plain": [
       "(1020544734000, 1001759433000)"
      ]
     },
     "execution_count": 2135,
     "metadata": {},
     "output_type": "execute_result"
    }
   ],
   "source": [
    "cumtime_end,cumtime_start"
   ]
  },
  {
   "cell_type": "code",
   "execution_count": 2136,
   "metadata": {},
   "outputs": [
    {
     "data": {
      "text/plain": [
       "18785301000"
      ]
     },
     "execution_count": 2136,
     "metadata": {},
     "output_type": "execute_result"
    }
   ],
   "source": [
    "#last_interval = int(data._get_value(l,'Interval')*1000) # conversion microseconds\n",
    "delta_cumtime = cumtime_end - cumtime_start #+ last_interval\n",
    "delta_cumtime"
   ]
  },
  {
   "cell_type": "code",
   "execution_count": 2137,
   "metadata": {},
   "outputs": [
    {
     "data": {
      "text/plain": [
       "(datetime.datetime(2024, 3, 18, 19, 52, 58, 779348),\n",
       " datetime.datetime(2024, 3, 18, 14, 39, 53, 478348),\n",
       " '18/03/2024 19:52:51')"
      ]
     },
     "execution_count": 2137,
     "metadata": {},
     "output_type": "execute_result"
    }
   ],
   "source": [
    "\n",
    "base = now - timedelta(microseconds=delta_cumtime)\n",
    "now,base, data['dates'][l-1].strftime('%d/%m/%Y %H:%M:%S')\n"
   ]
  },
  {
   "cell_type": "code",
   "execution_count": 2138,
   "metadata": {},
   "outputs": [
    {
     "data": {
      "text/html": [
       "<div>\n",
       "<style scoped>\n",
       "    .dataframe tbody tr th:only-of-type {\n",
       "        vertical-align: middle;\n",
       "    }\n",
       "\n",
       "    .dataframe tbody tr th {\n",
       "        vertical-align: top;\n",
       "    }\n",
       "\n",
       "    .dataframe thead th {\n",
       "        text-align: right;\n",
       "    }\n",
       "</style>\n",
       "<table border=\"1\" class=\"dataframe\">\n",
       "  <thead>\n",
       "    <tr style=\"text-align: right;\">\n",
       "      <th></th>\n",
       "      <th>Interval</th>\n",
       "      <th>kWh</th>\n",
       "      <th>sec</th>\n",
       "      <th>Wh</th>\n",
       "      <th>cumul(ms)</th>\n",
       "      <th>dates</th>\n",
       "      <th>days</th>\n",
       "    </tr>\n",
       "  </thead>\n",
       "  <tbody>\n",
       "    <tr>\n",
       "      <th>0</th>\n",
       "      <td>26289</td>\n",
       "      <td>0.14</td>\n",
       "      <td>26.289</td>\n",
       "      <td>136.939404</td>\n",
       "      <td>26289</td>\n",
       "      <td>2024-03-07 00:24:12.621557</td>\n",
       "      <td>07/03/2024</td>\n",
       "    </tr>\n",
       "    <tr>\n",
       "      <th>1</th>\n",
       "      <td>26243</td>\n",
       "      <td>0.14</td>\n",
       "      <td>26.243</td>\n",
       "      <td>137.179438</td>\n",
       "      <td>52532</td>\n",
       "      <td>2024-03-07 00:24:38.864557</td>\n",
       "      <td>07/03/2024</td>\n",
       "    </tr>\n",
       "    <tr>\n",
       "      <th>2</th>\n",
       "      <td>25885</td>\n",
       "      <td>0.14</td>\n",
       "      <td>25.885</td>\n",
       "      <td>139.076685</td>\n",
       "      <td>78417</td>\n",
       "      <td>2024-03-07 00:25:04.749557</td>\n",
       "      <td>07/03/2024</td>\n",
       "    </tr>\n",
       "    <tr>\n",
       "      <th>3</th>\n",
       "      <td>25754</td>\n",
       "      <td>0.14</td>\n",
       "      <td>25.754</td>\n",
       "      <td>139.784111</td>\n",
       "      <td>104171</td>\n",
       "      <td>2024-03-07 00:25:30.503557</td>\n",
       "      <td>07/03/2024</td>\n",
       "    </tr>\n",
       "    <tr>\n",
       "      <th>4</th>\n",
       "      <td>25774</td>\n",
       "      <td>0.14</td>\n",
       "      <td>25.774</td>\n",
       "      <td>139.675642</td>\n",
       "      <td>129945</td>\n",
       "      <td>2024-03-07 00:25:56.277557</td>\n",
       "      <td>07/03/2024</td>\n",
       "    </tr>\n",
       "    <tr>\n",
       "      <th>...</th>\n",
       "      <td>...</td>\n",
       "      <td>...</td>\n",
       "      <td>...</td>\n",
       "      <td>...</td>\n",
       "      <td>...</td>\n",
       "      <td>...</td>\n",
       "      <td>...</td>\n",
       "    </tr>\n",
       "    <tr>\n",
       "      <th>42956</th>\n",
       "      <td>21444</td>\n",
       "      <td>0.17</td>\n",
       "      <td>21.444</td>\n",
       "      <td>167.879127</td>\n",
       "      <td>1020460571</td>\n",
       "      <td>2024-03-18 19:51:26.903557</td>\n",
       "      <td>18/03/2024</td>\n",
       "    </tr>\n",
       "    <tr>\n",
       "      <th>42957</th>\n",
       "      <td>21475</td>\n",
       "      <td>0.17</td>\n",
       "      <td>21.475</td>\n",
       "      <td>167.636787</td>\n",
       "      <td>1020482046</td>\n",
       "      <td>2024-03-18 19:51:48.378557</td>\n",
       "      <td>18/03/2024</td>\n",
       "    </tr>\n",
       "    <tr>\n",
       "      <th>42958</th>\n",
       "      <td>21079</td>\n",
       "      <td>0.17</td>\n",
       "      <td>21.079</td>\n",
       "      <td>170.786090</td>\n",
       "      <td>1020503125</td>\n",
       "      <td>2024-03-18 19:52:09.457557</td>\n",
       "      <td>18/03/2024</td>\n",
       "    </tr>\n",
       "    <tr>\n",
       "      <th>42959</th>\n",
       "      <td>20932</td>\n",
       "      <td>0.17</td>\n",
       "      <td>20.932</td>\n",
       "      <td>171.985477</td>\n",
       "      <td>1020524057</td>\n",
       "      <td>2024-03-18 19:52:30.389557</td>\n",
       "      <td>18/03/2024</td>\n",
       "    </tr>\n",
       "    <tr>\n",
       "      <th>42960</th>\n",
       "      <td>20677</td>\n",
       "      <td>0.17</td>\n",
       "      <td>20.677</td>\n",
       "      <td>174.106495</td>\n",
       "      <td>1020544734</td>\n",
       "      <td>2024-03-18 19:52:51.066557</td>\n",
       "      <td>18/03/2024</td>\n",
       "    </tr>\n",
       "  </tbody>\n",
       "</table>\n",
       "<p>42961 rows × 7 columns</p>\n",
       "</div>"
      ],
      "text/plain": [
       "       Interval   kWh     sec          Wh   cumul(ms)  \\\n",
       "0         26289  0.14  26.289  136.939404       26289   \n",
       "1         26243  0.14  26.243  137.179438       52532   \n",
       "2         25885  0.14  25.885  139.076685       78417   \n",
       "3         25754  0.14  25.754  139.784111      104171   \n",
       "4         25774  0.14  25.774  139.675642      129945   \n",
       "...         ...   ...     ...         ...         ...   \n",
       "42956     21444  0.17  21.444  167.879127  1020460571   \n",
       "42957     21475  0.17  21.475  167.636787  1020482046   \n",
       "42958     21079  0.17  21.079  170.786090  1020503125   \n",
       "42959     20932  0.17  20.932  171.985477  1020524057   \n",
       "42960     20677  0.17  20.677  174.106495  1020544734   \n",
       "\n",
       "                           dates        days  \n",
       "0     2024-03-07 00:24:12.621557  07/03/2024  \n",
       "1     2024-03-07 00:24:38.864557  07/03/2024  \n",
       "2     2024-03-07 00:25:04.749557  07/03/2024  \n",
       "3     2024-03-07 00:25:30.503557  07/03/2024  \n",
       "4     2024-03-07 00:25:56.277557  07/03/2024  \n",
       "...                          ...         ...  \n",
       "42956 2024-03-18 19:51:26.903557  18/03/2024  \n",
       "42957 2024-03-18 19:51:48.378557  18/03/2024  \n",
       "42958 2024-03-18 19:52:09.457557  18/03/2024  \n",
       "42959 2024-03-18 19:52:30.389557  18/03/2024  \n",
       "42960 2024-03-18 19:52:51.066557  18/03/2024  \n",
       "\n",
       "[42961 rows x 7 columns]"
      ]
     },
     "execution_count": 2138,
     "metadata": {},
     "output_type": "execute_result"
    }
   ],
   "source": [
    "conso_data"
   ]
  },
  {
   "cell_type": "code",
   "execution_count": 2139,
   "metadata": {},
   "outputs": [
    {
     "data": {
      "text/plain": [
       "('18/03/2024 14:39:45', '18/03/2024 19:52:51')"
      ]
     },
     "execution_count": 2139,
     "metadata": {},
     "output_type": "execute_result"
    }
   ],
   "source": [
    "end = conso_data['dates'][l-1].strftime('%d/%m/%Y %H:%M:%S')\n",
    "start = conso_data['dates'][l-taille+1].strftime('%d/%m/%Y %H:%M:%S')\n",
    "start,end"
   ]
  },
  {
   "cell_type": "code",
   "execution_count": 2140,
   "metadata": {},
   "outputs": [
    {
     "data": {
      "text/plain": [
       "('2024-03-18 14:39:25.256557', '2024-03-18 19:52:51.066557')"
      ]
     },
     "execution_count": 2140,
     "metadata": {},
     "output_type": "execute_result"
    }
   ],
   "source": [
    "data.head(1)['dates'].to_string(index=False),data.tail(1)['dates'].to_string(index=False)"
   ]
  },
  {
   "cell_type": "code",
   "execution_count": 2141,
   "metadata": {},
   "outputs": [
    {
     "data": {
      "text/plain": [
       "1"
      ]
     },
     "execution_count": 2141,
     "metadata": {},
     "output_type": "execute_result"
    }
   ],
   "source": [
    "k"
   ]
  },
  {
   "cell_type": "code",
   "execution_count": 2142,
   "metadata": {},
   "outputs": [
    {
     "data": {
      "text/plain": [
       "41961    20067\n",
       "41962    20509\n",
       "41963    20353\n",
       "41964    20219\n",
       "41965    20465\n",
       "         ...  \n",
       "42956    21444\n",
       "42957    21475\n",
       "42958    21079\n",
       "42959    20932\n",
       "42960    20677\n",
       "Name: Interval, Length: 1000, dtype: int64"
      ]
     },
     "execution_count": 2142,
     "metadata": {},
     "output_type": "execute_result"
    }
   ],
   "source": [
    "data.Interval.tail(1000)"
   ]
  },
  {
   "cell_type": "code",
   "execution_count": 2143,
   "metadata": {},
   "outputs": [
    {
     "data": {
      "text/plain": [
       "(5.229410277777778, 4.589427626665148, 5, 13, 45)"
      ]
     },
     "execution_count": 2143,
     "metadata": {},
     "output_type": "execute_result"
    }
   ],
   "source": [
    "conversion_us_heure = 1/1000/60/60 \n",
    "temps_1kWh = sum(data.Interval.tail(1000))*conversion_us_heure  #somme 1000 interval = temps conso 1 kWh\n",
    "conso_jour = 24/temps_1kWh\n",
    "heure = int(temps_1kWh)\n",
    "mn = (temps_1kWh - heure)*60\n",
    "sec = (mn - int(mn))*60\n",
    "temps_1kWh, conso_jour,heure,int(mn),int(sec)"
   ]
  },
  {
   "cell_type": "code",
   "execution_count": 2144,
   "metadata": {},
   "outputs": [
    {
     "name": "stderr",
     "output_type": "stream",
     "text": [
      "C:\\Users\\jean\\AppData\\Local\\Temp\\ipykernel_21524\\3458501435.py:1: SettingWithCopyWarning: \n",
      "A value is trying to be set on a copy of a slice from a DataFrame.\n",
      "Try using .loc[row_indexer,col_indexer] = value instead\n",
      "\n",
      "See the caveats in the documentation: https://pandas.pydata.org/pandas-docs/stable/user_guide/indexing.html#returning-a-view-versus-a-copy\n",
      "  data['heure']=conso_data['dates']#.strftime('%d/%m/%Y %H:%M:%S')\n"
     ]
    }
   ],
   "source": [
    "data['heure']=conso_data['dates']#.strftime('%d/%m/%Y %H:%M:%S')"
   ]
  },
  {
   "cell_type": "code",
   "execution_count": 2145,
   "metadata": {},
   "outputs": [
    {
     "data": {
      "text/html": [
       "<div>\n",
       "<style scoped>\n",
       "    .dataframe tbody tr th:only-of-type {\n",
       "        vertical-align: middle;\n",
       "    }\n",
       "\n",
       "    .dataframe tbody tr th {\n",
       "        vertical-align: top;\n",
       "    }\n",
       "\n",
       "    .dataframe thead th {\n",
       "        text-align: right;\n",
       "    }\n",
       "</style>\n",
       "<table border=\"1\" class=\"dataframe\">\n",
       "  <thead>\n",
       "    <tr style=\"text-align: right;\">\n",
       "      <th></th>\n",
       "      <th>Interval</th>\n",
       "      <th>kWh</th>\n",
       "      <th>sec</th>\n",
       "      <th>Wh</th>\n",
       "      <th>cumul(ms)</th>\n",
       "      <th>dates</th>\n",
       "      <th>days</th>\n",
       "      <th>heure</th>\n",
       "    </tr>\n",
       "  </thead>\n",
       "  <tbody>\n",
       "    <tr>\n",
       "      <th>41961</th>\n",
       "      <td>20067</td>\n",
       "      <td>0.18</td>\n",
       "      <td>20.067</td>\n",
       "      <td>179.399013</td>\n",
       "      <td>1001738924</td>\n",
       "      <td>2024-03-18 14:39:25.256557</td>\n",
       "      <td>18/03/2024</td>\n",
       "      <td>2024-03-18 14:39:25.256557</td>\n",
       "    </tr>\n",
       "    <tr>\n",
       "      <th>41962</th>\n",
       "      <td>20509</td>\n",
       "      <td>0.17</td>\n",
       "      <td>20.509</td>\n",
       "      <td>175.532693</td>\n",
       "      <td>1001759433</td>\n",
       "      <td>2024-03-18 14:39:45.765557</td>\n",
       "      <td>18/03/2024</td>\n",
       "      <td>2024-03-18 14:39:45.765557</td>\n",
       "    </tr>\n",
       "    <tr>\n",
       "      <th>41963</th>\n",
       "      <td>20353</td>\n",
       "      <td>0.18</td>\n",
       "      <td>20.353</td>\n",
       "      <td>176.878102</td>\n",
       "      <td>1001779786</td>\n",
       "      <td>2024-03-18 14:40:06.118557</td>\n",
       "      <td>18/03/2024</td>\n",
       "      <td>2024-03-18 14:40:06.118557</td>\n",
       "    </tr>\n",
       "    <tr>\n",
       "      <th>41964</th>\n",
       "      <td>20219</td>\n",
       "      <td>0.18</td>\n",
       "      <td>20.219</td>\n",
       "      <td>178.050349</td>\n",
       "      <td>1001800005</td>\n",
       "      <td>2024-03-18 14:40:26.337557</td>\n",
       "      <td>18/03/2024</td>\n",
       "      <td>2024-03-18 14:40:26.337557</td>\n",
       "    </tr>\n",
       "    <tr>\n",
       "      <th>41965</th>\n",
       "      <td>20465</td>\n",
       "      <td>0.17</td>\n",
       "      <td>20.465</td>\n",
       "      <td>175.910090</td>\n",
       "      <td>1001820470</td>\n",
       "      <td>2024-03-18 14:40:46.802557</td>\n",
       "      <td>18/03/2024</td>\n",
       "      <td>2024-03-18 14:40:46.802557</td>\n",
       "    </tr>\n",
       "    <tr>\n",
       "      <th>...</th>\n",
       "      <td>...</td>\n",
       "      <td>...</td>\n",
       "      <td>...</td>\n",
       "      <td>...</td>\n",
       "      <td>...</td>\n",
       "      <td>...</td>\n",
       "      <td>...</td>\n",
       "      <td>...</td>\n",
       "    </tr>\n",
       "    <tr>\n",
       "      <th>42956</th>\n",
       "      <td>21444</td>\n",
       "      <td>0.17</td>\n",
       "      <td>21.444</td>\n",
       "      <td>167.879127</td>\n",
       "      <td>1020460571</td>\n",
       "      <td>2024-03-18 19:51:26.903557</td>\n",
       "      <td>18/03/2024</td>\n",
       "      <td>2024-03-18 19:51:26.903557</td>\n",
       "    </tr>\n",
       "    <tr>\n",
       "      <th>42957</th>\n",
       "      <td>21475</td>\n",
       "      <td>0.17</td>\n",
       "      <td>21.475</td>\n",
       "      <td>167.636787</td>\n",
       "      <td>1020482046</td>\n",
       "      <td>2024-03-18 19:51:48.378557</td>\n",
       "      <td>18/03/2024</td>\n",
       "      <td>2024-03-18 19:51:48.378557</td>\n",
       "    </tr>\n",
       "    <tr>\n",
       "      <th>42958</th>\n",
       "      <td>21079</td>\n",
       "      <td>0.17</td>\n",
       "      <td>21.079</td>\n",
       "      <td>170.786090</td>\n",
       "      <td>1020503125</td>\n",
       "      <td>2024-03-18 19:52:09.457557</td>\n",
       "      <td>18/03/2024</td>\n",
       "      <td>2024-03-18 19:52:09.457557</td>\n",
       "    </tr>\n",
       "    <tr>\n",
       "      <th>42959</th>\n",
       "      <td>20932</td>\n",
       "      <td>0.17</td>\n",
       "      <td>20.932</td>\n",
       "      <td>171.985477</td>\n",
       "      <td>1020524057</td>\n",
       "      <td>2024-03-18 19:52:30.389557</td>\n",
       "      <td>18/03/2024</td>\n",
       "      <td>2024-03-18 19:52:30.389557</td>\n",
       "    </tr>\n",
       "    <tr>\n",
       "      <th>42960</th>\n",
       "      <td>20677</td>\n",
       "      <td>0.17</td>\n",
       "      <td>20.677</td>\n",
       "      <td>174.106495</td>\n",
       "      <td>1020544734</td>\n",
       "      <td>2024-03-18 19:52:51.066557</td>\n",
       "      <td>18/03/2024</td>\n",
       "      <td>2024-03-18 19:52:51.066557</td>\n",
       "    </tr>\n",
       "  </tbody>\n",
       "</table>\n",
       "<p>1000 rows × 8 columns</p>\n",
       "</div>"
      ],
      "text/plain": [
       "       Interval   kWh     sec          Wh   cumul(ms)  \\\n",
       "41961     20067  0.18  20.067  179.399013  1001738924   \n",
       "41962     20509  0.17  20.509  175.532693  1001759433   \n",
       "41963     20353  0.18  20.353  176.878102  1001779786   \n",
       "41964     20219  0.18  20.219  178.050349  1001800005   \n",
       "41965     20465  0.17  20.465  175.910090  1001820470   \n",
       "...         ...   ...     ...         ...         ...   \n",
       "42956     21444  0.17  21.444  167.879127  1020460571   \n",
       "42957     21475  0.17  21.475  167.636787  1020482046   \n",
       "42958     21079  0.17  21.079  170.786090  1020503125   \n",
       "42959     20932  0.17  20.932  171.985477  1020524057   \n",
       "42960     20677  0.17  20.677  174.106495  1020544734   \n",
       "\n",
       "                           dates        days                      heure  \n",
       "41961 2024-03-18 14:39:25.256557  18/03/2024 2024-03-18 14:39:25.256557  \n",
       "41962 2024-03-18 14:39:45.765557  18/03/2024 2024-03-18 14:39:45.765557  \n",
       "41963 2024-03-18 14:40:06.118557  18/03/2024 2024-03-18 14:40:06.118557  \n",
       "41964 2024-03-18 14:40:26.337557  18/03/2024 2024-03-18 14:40:26.337557  \n",
       "41965 2024-03-18 14:40:46.802557  18/03/2024 2024-03-18 14:40:46.802557  \n",
       "...                          ...         ...                        ...  \n",
       "42956 2024-03-18 19:51:26.903557  18/03/2024 2024-03-18 19:51:26.903557  \n",
       "42957 2024-03-18 19:51:48.378557  18/03/2024 2024-03-18 19:51:48.378557  \n",
       "42958 2024-03-18 19:52:09.457557  18/03/2024 2024-03-18 19:52:09.457557  \n",
       "42959 2024-03-18 19:52:30.389557  18/03/2024 2024-03-18 19:52:30.389557  \n",
       "42960 2024-03-18 19:52:51.066557  18/03/2024 2024-03-18 19:52:51.066557  \n",
       "\n",
       "[1000 rows x 8 columns]"
      ]
     },
     "execution_count": 2145,
     "metadata": {},
     "output_type": "execute_result"
    }
   ],
   "source": [
    "data"
   ]
  },
  {
   "cell_type": "code",
   "execution_count": 2146,
   "metadata": {},
   "outputs": [
    {
     "data": {
      "text/plain": [
       "<Axes: >"
      ]
     },
     "execution_count": 2146,
     "metadata": {},
     "output_type": "execute_result"
    },
    {
     "data": {
      "image/png": "[encoded data removed]",
      "text/plain": [
       "<Figure size 640x480 with 1 Axes>"
      ]
     },
     "metadata": {},
     "output_type": "display_data"
    }
   ],
   "source": [
    "data.tail(600)['Wh'].plot()"
   ]
  },
  {
   "cell_type": "code",
   "execution_count": 2147,
   "metadata": {},
   "outputs": [
    {
     "data": {
      "text/plain": [
       "41961    179.399013\n",
       "41962    175.532693\n",
       "41963    176.878102\n",
       "41964    178.050349\n",
       "41965    175.910090\n",
       "            ...    \n",
       "42956    167.879127\n",
       "42957    167.636787\n",
       "42958    170.786090\n",
       "42959    171.985477\n",
       "42960    174.106495\n",
       "Name: Wh, Length: 1000, dtype: float64"
      ]
     },
     "execution_count": 2147,
     "metadata": {},
     "output_type": "execute_result"
    }
   ],
   "source": [
    "data['Wh']"
   ]
  },
  {
   "cell_type": "markdown",
   "metadata": {},
   "source": [
    "# k kW window graph"
   ]
  },
  {
   "cell_type": "code",
   "execution_count": 2148,
   "metadata": {},
   "outputs": [
    {
     "data": {
      "image/png": "[encoded data removed]",
      "text/plain": [
       "<Figure size 2500x1000 with 1 Axes>"
      ]
     },
     "metadata": {},
     "output_type": "display_data"
    }
   ],
   "source": [
    "fig, ax = plt.subplots()\n",
    "# the size of A4 paper\n",
    "fig.set_size_inches(25, 10)\n",
    "\n",
    "formatter = DateFormatter('%d/%m\\n%H:%M')\n",
    "ax.xaxis.set_major_formatter(formatter)\n",
    "\n",
    "# ticks sur axe des x\n",
    "major_ticks=1/30;minor_ticks=1/360\n",
    "ax.xaxis.set_major_locator(MultipleLocator(major_ticks))  # 1 major tick tous les 48 min\n",
    "ax.xaxis.set_minor_locator(MultipleLocator(minor_ticks))  # 1 minor ticks tous les 4 min\n",
    "ax.tick_params(which='both', width=3)\n",
    "ax.tick_params(which='major', length=15, color='r')\n",
    "ax.tick_params(which='minor', length=8, color='b')\n",
    "\n",
    "plt.title(f'Consommation {k} kW (Temps: {heure} heures {int(mn)} minutes {int(sec)} secondes)\\nDe {start} à {end}')\n",
    "plt.plot(data['dates'],data['Wh'])\n",
    "plt.ylabel('Wh')\n",
    "plt.xlabel('Time (heures)')\n",
    "plt.grid()\n"
   ]
  },
  {
   "cell_type": "code",
   "execution_count": 2149,
   "metadata": {},
   "outputs": [
    {
     "data": {
      "text/plain": [
       "<Axes: ylabel='Frequency'>"
      ]
     },
     "execution_count": 2149,
     "metadata": {},
     "output_type": "execute_result"
    },
    {
     "data": {
      "image/png": "[encoded data removed]",
      "text/plain": [
       "<Figure size 640x480 with 1 Axes>"
      ]
     },
     "metadata": {},
     "output_type": "display_data"
    }
   ],
   "source": [
    "data.kWh.plot.hist(bins=50,rwidth=0.8,grid=True)\n"
   ]
  },
  {
   "cell_type": "code",
   "execution_count": 2150,
   "metadata": {},
   "outputs": [
    {
     "data": {
      "text/html": [
       "<div>\n",
       "<style scoped>\n",
       "    .dataframe tbody tr th:only-of-type {\n",
       "        vertical-align: middle;\n",
       "    }\n",
       "\n",
       "    .dataframe tbody tr th {\n",
       "        vertical-align: top;\n",
       "    }\n",
       "\n",
       "    .dataframe thead th {\n",
       "        text-align: right;\n",
       "    }\n",
       "</style>\n",
       "<table border=\"1\" class=\"dataframe\">\n",
       "  <thead>\n",
       "    <tr style=\"text-align: right;\">\n",
       "      <th></th>\n",
       "      <th>Interval</th>\n",
       "      <th>kWh</th>\n",
       "      <th>sec</th>\n",
       "      <th>Wh</th>\n",
       "      <th>cumul(ms)</th>\n",
       "      <th>dates</th>\n",
       "      <th>days</th>\n",
       "    </tr>\n",
       "  </thead>\n",
       "  <tbody>\n",
       "    <tr>\n",
       "      <th>42956</th>\n",
       "      <td>21444</td>\n",
       "      <td>0.17</td>\n",
       "      <td>21.444</td>\n",
       "      <td>167.879127</td>\n",
       "      <td>1020460571</td>\n",
       "      <td>2024-03-18 19:51:26.903557</td>\n",
       "      <td>18/03/2024</td>\n",
       "    </tr>\n",
       "    <tr>\n",
       "      <th>42957</th>\n",
       "      <td>21475</td>\n",
       "      <td>0.17</td>\n",
       "      <td>21.475</td>\n",
       "      <td>167.636787</td>\n",
       "      <td>1020482046</td>\n",
       "      <td>2024-03-18 19:51:48.378557</td>\n",
       "      <td>18/03/2024</td>\n",
       "    </tr>\n",
       "    <tr>\n",
       "      <th>42958</th>\n",
       "      <td>21079</td>\n",
       "      <td>0.17</td>\n",
       "      <td>21.079</td>\n",
       "      <td>170.786090</td>\n",
       "      <td>1020503125</td>\n",
       "      <td>2024-03-18 19:52:09.457557</td>\n",
       "      <td>18/03/2024</td>\n",
       "    </tr>\n",
       "    <tr>\n",
       "      <th>42959</th>\n",
       "      <td>20932</td>\n",
       "      <td>0.17</td>\n",
       "      <td>20.932</td>\n",
       "      <td>171.985477</td>\n",
       "      <td>1020524057</td>\n",
       "      <td>2024-03-18 19:52:30.389557</td>\n",
       "      <td>18/03/2024</td>\n",
       "    </tr>\n",
       "    <tr>\n",
       "      <th>42960</th>\n",
       "      <td>20677</td>\n",
       "      <td>0.17</td>\n",
       "      <td>20.677</td>\n",
       "      <td>174.106495</td>\n",
       "      <td>1020544734</td>\n",
       "      <td>2024-03-18 19:52:51.066557</td>\n",
       "      <td>18/03/2024</td>\n",
       "    </tr>\n",
       "  </tbody>\n",
       "</table>\n",
       "</div>"
      ],
      "text/plain": [
       "       Interval   kWh     sec          Wh   cumul(ms)  \\\n",
       "42956     21444  0.17  21.444  167.879127  1020460571   \n",
       "42957     21475  0.17  21.475  167.636787  1020482046   \n",
       "42958     21079  0.17  21.079  170.786090  1020503125   \n",
       "42959     20932  0.17  20.932  171.985477  1020524057   \n",
       "42960     20677  0.17  20.677  174.106495  1020544734   \n",
       "\n",
       "                           dates        days  \n",
       "42956 2024-03-18 19:51:26.903557  18/03/2024  \n",
       "42957 2024-03-18 19:51:48.378557  18/03/2024  \n",
       "42958 2024-03-18 19:52:09.457557  18/03/2024  \n",
       "42959 2024-03-18 19:52:30.389557  18/03/2024  \n",
       "42960 2024-03-18 19:52:51.066557  18/03/2024  "
      ]
     },
     "execution_count": 2150,
     "metadata": {},
     "output_type": "execute_result"
    }
   ],
   "source": [
    "conso_data.tail()"
   ]
  },
  {
   "cell_type": "code",
   "execution_count": 2151,
   "metadata": {},
   "outputs": [
    {
     "data": {
      "image/png": "[encoded data removed]",
      "text/plain": [
       "<Figure size 640x480 with 1 Axes>"
      ]
     },
     "metadata": {},
     "output_type": "display_data"
    }
   ],
   "source": [
    "conso_data.tail(1000)['kWh'].plot()\n",
    "plt.grid()"
   ]
  },
  {
   "cell_type": "code",
   "execution_count": 2152,
   "metadata": {},
   "outputs": [
    {
     "data": {
      "text/plain": [
       "(1020544734000.0, 17009.0789)"
      ]
     },
     "execution_count": 2152,
     "metadata": {},
     "output_type": "execute_result"
    }
   ],
   "source": [
    "#plt.plot(conso_data['sec'])\n",
    "now = dt.datetime.now()\n",
    "last_cumul = np.array(conso_data['cumul(ms)'].tail(1))[0]*1000.0  # us\n",
    "last_cumul, last_cumul/60e6  # min"
   ]
  },
  {
   "cell_type": "code",
   "execution_count": 2153,
   "metadata": {},
   "outputs": [
    {
     "data": {
      "text/plain": [
       "(datetime.datetime(2024, 3, 18, 19, 53, 12, 215425),\n",
       " datetime.datetime(2024, 3, 7, 0, 24, 7, 481425))"
      ]
     },
     "execution_count": 2153,
     "metadata": {},
     "output_type": "execute_result"
    }
   ],
   "source": [
    "begin = now - dt.timedelta(microseconds=last_cumul)  #2023, 6, 24, 9, 14, (39, 942895) approximatif\n",
    "now, begin"
   ]
  },
  {
   "cell_type": "code",
   "execution_count": 2154,
   "metadata": {},
   "outputs": [
    {
     "data": {
      "text/plain": [
       "(42961, 1020545, 283.4847222222222)"
      ]
     },
     "execution_count": 2154,
     "metadata": {},
     "output_type": "execute_result"
    }
   ],
   "source": [
    "x = mdates.drange(begin,now,dt.timedelta(microseconds=1000000))  # seconds\n",
    "len(conso_data),len(x),len(x)/3600"
   ]
  },
  {
   "cell_type": "code",
   "execution_count": 2155,
   "metadata": {},
   "outputs": [],
   "source": [
    "def format_date(space=3):\n",
    "    plt.gca().xaxis.set_major_formatter(mdates.DateFormatter('%d/%m\\n%H:%M'))\n",
    "    plt.gca().xaxis.set_major_locator(mdates.HourLocator(space))\n",
    "    plt.gca().xaxis.set_major_locator(mdates.HourLocator(interval=space))\n",
    "    plt.gcf().autofmt_xdate()\n",
    "    plt.grid()"
   ]
  },
  {
   "cell_type": "code",
   "execution_count": 2156,
   "metadata": {},
   "outputs": [
    {
     "data": {
      "text/plain": [
       "732"
      ]
     },
     "execution_count": 2156,
     "metadata": {},
     "output_type": "execute_result"
    }
   ],
   "source": [
    "import numpy as np\n",
    "import datetime as dt\n",
    "import matplotlib.pyplot as plt\n",
    "base = dt.datetime(2005, 2, 1)\n",
    "dates = [base + dt.timedelta(hours=(2 * i)) for i in range(732)]\n",
    "N = len(dates)\n",
    "N\n"
   ]
  },
  {
   "cell_type": "code",
   "execution_count": 2157,
   "metadata": {},
   "outputs": [
    {
     "data": {
      "text/plain": [
       "61.0"
      ]
     },
     "execution_count": 2157,
     "metadata": {},
     "output_type": "execute_result"
    }
   ],
   "source": [
    "732/12 # 60 jours"
   ]
  },
  {
   "cell_type": "code",
   "execution_count": 2158,
   "metadata": {},
   "outputs": [
    {
     "data": {
      "text/plain": [
       "(datetime.datetime(2005, 2, 1, 0, 0), datetime.datetime(2005, 4, 2, 22, 0))"
      ]
     },
     "execution_count": 2158,
     "metadata": {},
     "output_type": "execute_result"
    }
   ],
   "source": [
    "dates[0],dates[-1]"
   ]
  },
  {
   "cell_type": "code",
   "execution_count": 2159,
   "metadata": {},
   "outputs": [
    {
     "data": {
      "image/png": "[encoded data removed]",
      "text/plain": [
       "<Figure size 600x600 with 3 Axes>"
      ]
     },
     "metadata": {},
     "output_type": "display_data"
    }
   ],
   "source": [
    "np.random.seed(19680801)\n",
    "y = np.cumsum(np.random.randn(N))\n",
    "\n",
    "fig, axs = plt.subplots(3, 1, layout='constrained', figsize=(6, 6))\n",
    "lims = [(np.datetime64('2005-02'), np.datetime64('2005-04')),\n",
    "        (np.datetime64('2005-02-03'), np.datetime64('2005-02-15')),\n",
    "        (np.datetime64('2005-02-03 11:00'), np.datetime64('2005-02-04 13:20'))]\n",
    "for nn, ax in enumerate(axs):\n",
    "    ax.plot(dates, y)\n",
    "    ax.set_xlim(lims[nn])\n",
    "    # rotate_labels...\n",
    "    for label in ax.get_xticklabels():\n",
    "        label.set_rotation(40)\n",
    "        label.set_horizontalalignment('right')\n",
    "axs[0].set_title('Default Date Formatter')\n",
    "plt.show()"
   ]
  },
  {
   "cell_type": "code",
   "execution_count": 2160,
   "metadata": {},
   "outputs": [
    {
     "data": {
      "text/plain": [
       "datetime.datetime(2005, 4, 2, 22, 0)"
      ]
     },
     "execution_count": 2160,
     "metadata": {},
     "output_type": "execute_result"
    }
   ],
   "source": [
    "t = dt.datetime(2005, 4, 2, 22, 0)\n",
    "t"
   ]
  }
 ],
 "metadata": {
  "kernelspec": {
   "display_name": "Python 3",
   "language": "python",
   "name": "python3"
  },
  "language_info": {
   "codemirror_mode": {
    "name": "ipython",
    "version": 3
   },
   "file_extension": ".py",
   "mimetype": "text/x-python",
   "name": "python",
   "nbconvert_exporter": "python",
   "pygments_lexer": "ipython3",
   "version": "3.11.4"
  },
  "orig_nbformat": 4
 },
 "nbformat": 4,
 "nbformat_minor": 2
}
