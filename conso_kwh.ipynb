{
 "cells": [
  {
   "cell_type": "code",
   "execution_count": 3750,
   "metadata": {},
   "outputs": [],
   "source": [
    "import pandas as pd\n",
    "import numpy as np\n",
    "import matplotlib.pyplot as plt\n",
    "import matplotlib.dates as mdates\n",
    "import matplotlib.ticker as ticker\n",
    "from matplotlib.axis import Axis\n",
    "import datetime as dt\n",
    "\n",
    "#plt.style.use(['science', 'notebook'])\n",
    "#%matplotlib inline\n"
   ]
  },
  {
   "cell_type": "code",
   "execution_count": 3751,
   "metadata": {},
   "outputs": [],
   "source": [
    "data_file = \"conso.txt\""
   ]
  },
  {
   "cell_type": "code",
   "execution_count": 3752,
   "metadata": {},
   "outputs": [],
   "source": [
    "def read_text(filename):\n",
    "    f = open(filename, \"r\")\n",
    "    text = f.readlines()\n",
    "    f.close()\n",
    "    print(text)\n",
    "\n",
    "#read_text(data_file)\n",
    "def get_data(filename):    \n",
    "    data = pd.read_csv(filename)\n",
    "    #data['time'] = pd.to_datetime(data['time'])  #.dt.tz_convert(None)\n",
    "    #data.info()\n",
    "    #print(data.tail(5))\n",
    "    return data\n"
   ]
  },
  {
   "cell_type": "code",
   "execution_count": 3753,
   "metadata": {},
   "outputs": [
    {
     "name": "stdout",
     "output_type": "stream",
     "text": [
      "<class 'pandas.core.frame.DataFrame'>\n",
      "RangeIndex: 1013 entries, 0 to 1012\n",
      "Data columns (total 1 columns):\n",
      " #   Column  Non-Null Count  Dtype  \n",
      "---  ------  --------------  -----  \n",
      " 0   Conso   1013 non-null   float64\n",
      "dtypes: float64(1)\n",
      "memory usage: 8.0 KB\n"
     ]
    }
   ],
   "source": [
    "# read data with pandas\n",
    "data = get_data(data_file)\n",
    "data.info()\n"
   ]
  },
  {
   "cell_type": "code",
   "execution_count": 3754,
   "metadata": {},
   "outputs": [
    {
     "data": {
      "text/html": [
       "<div>\n",
       "<style scoped>\n",
       "    .dataframe tbody tr th:only-of-type {\n",
       "        vertical-align: middle;\n",
       "    }\n",
       "\n",
       "    .dataframe tbody tr th {\n",
       "        vertical-align: top;\n",
       "    }\n",
       "\n",
       "    .dataframe thead th {\n",
       "        text-align: right;\n",
       "    }\n",
       "</style>\n",
       "<table border=\"1\" class=\"dataframe\">\n",
       "  <thead>\n",
       "    <tr style=\"text-align: right;\">\n",
       "      <th></th>\n",
       "      <th>Conso</th>\n",
       "      <th>interval</th>\n",
       "    </tr>\n",
       "  </thead>\n",
       "  <tbody>\n",
       "    <tr>\n",
       "      <th>0</th>\n",
       "      <td>0.19</td>\n",
       "      <td>18947.368421</td>\n",
       "    </tr>\n",
       "    <tr>\n",
       "      <th>1</th>\n",
       "      <td>0.19</td>\n",
       "      <td>18947.368421</td>\n",
       "    </tr>\n",
       "    <tr>\n",
       "      <th>2</th>\n",
       "      <td>0.19</td>\n",
       "      <td>18947.368421</td>\n",
       "    </tr>\n",
       "    <tr>\n",
       "      <th>3</th>\n",
       "      <td>0.19</td>\n",
       "      <td>18947.368421</td>\n",
       "    </tr>\n",
       "    <tr>\n",
       "      <th>4</th>\n",
       "      <td>0.19</td>\n",
       "      <td>18947.368421</td>\n",
       "    </tr>\n",
       "    <tr>\n",
       "      <th>...</th>\n",
       "      <td>...</td>\n",
       "      <td>...</td>\n",
       "    </tr>\n",
       "    <tr>\n",
       "      <th>1008</th>\n",
       "      <td>0.16</td>\n",
       "      <td>22500.000000</td>\n",
       "    </tr>\n",
       "    <tr>\n",
       "      <th>1009</th>\n",
       "      <td>0.16</td>\n",
       "      <td>22500.000000</td>\n",
       "    </tr>\n",
       "    <tr>\n",
       "      <th>1010</th>\n",
       "      <td>0.17</td>\n",
       "      <td>21176.470588</td>\n",
       "    </tr>\n",
       "    <tr>\n",
       "      <th>1011</th>\n",
       "      <td>0.17</td>\n",
       "      <td>21176.470588</td>\n",
       "    </tr>\n",
       "    <tr>\n",
       "      <th>1012</th>\n",
       "      <td>0.16</td>\n",
       "      <td>22500.000000</td>\n",
       "    </tr>\n",
       "  </tbody>\n",
       "</table>\n",
       "<p>1013 rows × 2 columns</p>\n",
       "</div>"
      ],
      "text/plain": [
       "      Conso      interval\n",
       "0      0.19  18947.368421\n",
       "1      0.19  18947.368421\n",
       "2      0.19  18947.368421\n",
       "3      0.19  18947.368421\n",
       "4      0.19  18947.368421\n",
       "...     ...           ...\n",
       "1008   0.16  22500.000000\n",
       "1009   0.16  22500.000000\n",
       "1010   0.17  21176.470588\n",
       "1011   0.17  21176.470588\n",
       "1012   0.16  22500.000000\n",
       "\n",
       "[1013 rows x 2 columns]"
      ]
     },
     "execution_count": 3754,
     "metadata": {},
     "output_type": "execute_result"
    }
   ],
   "source": [
    "data['interval']=3600/data['Conso']\n",
    "data"
   ]
  },
  {
   "cell_type": "code",
   "execution_count": 3755,
   "metadata": {},
   "outputs": [
    {
     "data": {
      "text/plain": [
       "<matplotlib.legend.Legend at 0x2280f50d690>"
      ]
     },
     "execution_count": 3755,
     "metadata": {},
     "output_type": "execute_result"
    },
    {
     "data": {
      "image/png": "[encoded data removed]",
      "text/plain": [
       "<Figure size 640x480 with 1 Axes>"
      ]
     },
     "metadata": {},
     "output_type": "display_data"
    }
   ],
   "source": [
    "\n",
    "plt.title('Consommation Linky')\n",
    "plt.plot(data, color='red',label='Conso')\n",
    "\n",
    "plt.grid()\n",
    "plt.legend()"
   ]
  },
  {
   "attachments": {},
   "cell_type": "markdown",
   "metadata": {},
   "source": [
    "### conso.csv sur WD6TB mis à jour avec PI4"
   ]
  },
  {
   "cell_type": "code",
   "execution_count": 3756,
   "metadata": {},
   "outputs": [],
   "source": [
    "def get_data2(filename):    \n",
    "    data = pd.read_csv(filename, names=[\"Interval\",\"kWh\"])\n",
    "    return data"
   ]
  },
  {
   "cell_type": "code",
   "execution_count": 3757,
   "metadata": {},
   "outputs": [
    {
     "name": "stdout",
     "output_type": "stream",
     "text": [
      "<class 'pandas.core.frame.DataFrame'>\n",
      "RangeIndex: 52714 entries, 0 to 52713\n",
      "Data columns (total 2 columns):\n",
      " #   Column    Non-Null Count  Dtype  \n",
      "---  ------    --------------  -----  \n",
      " 0   Interval  52714 non-null  int64  \n",
      " 1   kWh       52714 non-null  float64\n",
      "dtypes: float64(1), int64(1)\n",
      "memory usage: 823.8 KB\n"
     ]
    }
   ],
   "source": [
    "old = False\n",
    "\n",
    "if old:\n",
    "    #conso_file = r\"C:\\Users\\jean\\Documents\\conso.csv\"\n",
    "    conso_file = r\"Y:\\Documents\\conso_old.csv\"\n",
    "    conso_file = r\"Y:\\Documents\\conso - Copy (2).csv\"\n",
    "else:\n",
    "    conso_file = r\"Y:\\Documents\\conso.csv\"\n",
    "#old = False\n",
    "conso_data = get_data2(conso_file)\n",
    "conso_data.info()\n"
   ]
  },
  {
   "cell_type": "code",
   "execution_count": 3758,
   "metadata": {},
   "outputs": [
    {
     "data": {
      "text/html": [
       "<div>\n",
       "<style scoped>\n",
       "    .dataframe tbody tr th:only-of-type {\n",
       "        vertical-align: middle;\n",
       "    }\n",
       "\n",
       "    .dataframe tbody tr th {\n",
       "        vertical-align: top;\n",
       "    }\n",
       "\n",
       "    .dataframe thead th {\n",
       "        text-align: right;\n",
       "    }\n",
       "</style>\n",
       "<table border=\"1\" class=\"dataframe\">\n",
       "  <thead>\n",
       "    <tr style=\"text-align: right;\">\n",
       "      <th></th>\n",
       "      <th>Interval</th>\n",
       "      <th>kWh</th>\n",
       "    </tr>\n",
       "  </thead>\n",
       "  <tbody>\n",
       "    <tr>\n",
       "      <th>0</th>\n",
       "      <td>26289</td>\n",
       "      <td>0.14</td>\n",
       "    </tr>\n",
       "    <tr>\n",
       "      <th>1</th>\n",
       "      <td>26243</td>\n",
       "      <td>0.14</td>\n",
       "    </tr>\n",
       "    <tr>\n",
       "      <th>2</th>\n",
       "      <td>25885</td>\n",
       "      <td>0.14</td>\n",
       "    </tr>\n",
       "    <tr>\n",
       "      <th>3</th>\n",
       "      <td>25754</td>\n",
       "      <td>0.14</td>\n",
       "    </tr>\n",
       "    <tr>\n",
       "      <th>4</th>\n",
       "      <td>25774</td>\n",
       "      <td>0.14</td>\n",
       "    </tr>\n",
       "    <tr>\n",
       "      <th>...</th>\n",
       "      <td>...</td>\n",
       "      <td>...</td>\n",
       "    </tr>\n",
       "    <tr>\n",
       "      <th>52709</th>\n",
       "      <td>22741</td>\n",
       "      <td>0.16</td>\n",
       "    </tr>\n",
       "    <tr>\n",
       "      <th>52710</th>\n",
       "      <td>26008</td>\n",
       "      <td>0.14</td>\n",
       "    </tr>\n",
       "    <tr>\n",
       "      <th>52711</th>\n",
       "      <td>27247</td>\n",
       "      <td>0.13</td>\n",
       "    </tr>\n",
       "    <tr>\n",
       "      <th>52712</th>\n",
       "      <td>27174</td>\n",
       "      <td>0.13</td>\n",
       "    </tr>\n",
       "    <tr>\n",
       "      <th>52713</th>\n",
       "      <td>27130</td>\n",
       "      <td>0.13</td>\n",
       "    </tr>\n",
       "  </tbody>\n",
       "</table>\n",
       "<p>52714 rows × 2 columns</p>\n",
       "</div>"
      ],
      "text/plain": [
       "       Interval   kWh\n",
       "0         26289  0.14\n",
       "1         26243  0.14\n",
       "2         25885  0.14\n",
       "3         25754  0.14\n",
       "4         25774  0.14\n",
       "...         ...   ...\n",
       "52709     22741  0.16\n",
       "52710     26008  0.14\n",
       "52711     27247  0.13\n",
       "52712     27174  0.13\n",
       "52713     27130  0.13\n",
       "\n",
       "[52714 rows x 2 columns]"
      ]
     },
     "execution_count": 3758,
     "metadata": {},
     "output_type": "execute_result"
    }
   ],
   "source": [
    "conso_data = conso_data.dropna()\n",
    "conso_data"
   ]
  },
  {
   "cell_type": "code",
   "execution_count": 3759,
   "metadata": {},
   "outputs": [
    {
     "data": {
      "text/html": [
       "<div>\n",
       "<style scoped>\n",
       "    .dataframe tbody tr th:only-of-type {\n",
       "        vertical-align: middle;\n",
       "    }\n",
       "\n",
       "    .dataframe tbody tr th {\n",
       "        vertical-align: top;\n",
       "    }\n",
       "\n",
       "    .dataframe thead th {\n",
       "        text-align: right;\n",
       "    }\n",
       "</style>\n",
       "<table border=\"1\" class=\"dataframe\">\n",
       "  <thead>\n",
       "    <tr style=\"text-align: right;\">\n",
       "      <th></th>\n",
       "      <th>Interval</th>\n",
       "      <th>kWh</th>\n",
       "      <th>sec</th>\n",
       "      <th>Wh</th>\n",
       "      <th>cumul(ms)</th>\n",
       "    </tr>\n",
       "  </thead>\n",
       "  <tbody>\n",
       "    <tr>\n",
       "      <th>0</th>\n",
       "      <td>26289</td>\n",
       "      <td>0.14</td>\n",
       "      <td>26.289</td>\n",
       "      <td>136.939404</td>\n",
       "      <td>26289</td>\n",
       "    </tr>\n",
       "    <tr>\n",
       "      <th>1</th>\n",
       "      <td>26243</td>\n",
       "      <td>0.14</td>\n",
       "      <td>26.243</td>\n",
       "      <td>137.179438</td>\n",
       "      <td>52532</td>\n",
       "    </tr>\n",
       "    <tr>\n",
       "      <th>2</th>\n",
       "      <td>25885</td>\n",
       "      <td>0.14</td>\n",
       "      <td>25.885</td>\n",
       "      <td>139.076685</td>\n",
       "      <td>78417</td>\n",
       "    </tr>\n",
       "    <tr>\n",
       "      <th>3</th>\n",
       "      <td>25754</td>\n",
       "      <td>0.14</td>\n",
       "      <td>25.754</td>\n",
       "      <td>139.784111</td>\n",
       "      <td>104171</td>\n",
       "    </tr>\n",
       "    <tr>\n",
       "      <th>4</th>\n",
       "      <td>25774</td>\n",
       "      <td>0.14</td>\n",
       "      <td>25.774</td>\n",
       "      <td>139.675642</td>\n",
       "      <td>129945</td>\n",
       "    </tr>\n",
       "    <tr>\n",
       "      <th>...</th>\n",
       "      <td>...</td>\n",
       "      <td>...</td>\n",
       "      <td>...</td>\n",
       "      <td>...</td>\n",
       "      <td>...</td>\n",
       "    </tr>\n",
       "    <tr>\n",
       "      <th>52709</th>\n",
       "      <td>22741</td>\n",
       "      <td>0.16</td>\n",
       "      <td>22.741</td>\n",
       "      <td>158.304384</td>\n",
       "      <td>1260449777</td>\n",
       "    </tr>\n",
       "    <tr>\n",
       "      <th>52710</th>\n",
       "      <td>26008</td>\n",
       "      <td>0.14</td>\n",
       "      <td>26.008</td>\n",
       "      <td>138.418948</td>\n",
       "      <td>1260475785</td>\n",
       "    </tr>\n",
       "    <tr>\n",
       "      <th>52711</th>\n",
       "      <td>27247</td>\n",
       "      <td>0.13</td>\n",
       "      <td>27.247</td>\n",
       "      <td>132.124638</td>\n",
       "      <td>1260503032</td>\n",
       "    </tr>\n",
       "    <tr>\n",
       "      <th>52712</th>\n",
       "      <td>27174</td>\n",
       "      <td>0.13</td>\n",
       "      <td>27.174</td>\n",
       "      <td>132.479576</td>\n",
       "      <td>1260530206</td>\n",
       "    </tr>\n",
       "    <tr>\n",
       "      <th>52713</th>\n",
       "      <td>27130</td>\n",
       "      <td>0.13</td>\n",
       "      <td>27.130</td>\n",
       "      <td>132.694434</td>\n",
       "      <td>1260557336</td>\n",
       "    </tr>\n",
       "  </tbody>\n",
       "</table>\n",
       "<p>52714 rows × 5 columns</p>\n",
       "</div>"
      ],
      "text/plain": [
       "       Interval   kWh     sec          Wh   cumul(ms)\n",
       "0         26289  0.14  26.289  136.939404       26289\n",
       "1         26243  0.14  26.243  137.179438       52532\n",
       "2         25885  0.14  25.885  139.076685       78417\n",
       "3         25754  0.14  25.754  139.784111      104171\n",
       "4         25774  0.14  25.774  139.675642      129945\n",
       "...         ...   ...     ...         ...         ...\n",
       "52709     22741  0.16  22.741  158.304384  1260449777\n",
       "52710     26008  0.14  26.008  138.418948  1260475785\n",
       "52711     27247  0.13  27.247  132.124638  1260503032\n",
       "52712     27174  0.13  27.174  132.479576  1260530206\n",
       "52713     27130  0.13  27.130  132.694434  1260557336\n",
       "\n",
       "[52714 rows x 5 columns]"
      ]
     },
     "execution_count": 3759,
     "metadata": {},
     "output_type": "execute_result"
    }
   ],
   "source": [
    "conso_data['sec']=conso_data['Interval']/1000\n",
    "conso_data['Wh']=3600000/conso_data['Interval']\n",
    "conso_data['cumul(ms)']=conso_data['Interval'].cumsum(axis=0)\n",
    "\n",
    "conso_data"
   ]
  },
  {
   "cell_type": "code",
   "execution_count": 3760,
   "metadata": {},
   "outputs": [
    {
     "data": {
      "text/plain": [
       "52713"
      ]
     },
     "execution_count": 3760,
     "metadata": {},
     "output_type": "execute_result"
    }
   ],
   "source": [
    "# index dernier echantillon\n",
    "l=len(conso_data)-1\n",
    "l"
   ]
  },
  {
   "cell_type": "code",
   "execution_count": 3761,
   "metadata": {},
   "outputs": [
    {
     "data": {
      "text/plain": [
       "1260557336000"
      ]
     },
     "execution_count": 3761,
     "metadata": {},
     "output_type": "execute_result"
    }
   ],
   "source": [
    "# cumtime = int(conso_data['cumul(ms)'].tail(1).values[0]*1000)\n",
    "cumtime= int(conso_data._get_value(l,'cumul(ms)')*1000)\n",
    "cumtime"
   ]
  },
  {
   "cell_type": "code",
   "execution_count": 3762,
   "metadata": {},
   "outputs": [
    {
     "data": {
      "text/plain": [
       "False"
      ]
     },
     "execution_count": 3762,
     "metadata": {},
     "output_type": "execute_result"
    }
   ],
   "source": [
    "old"
   ]
  },
  {
   "cell_type": "code",
   "execution_count": 3763,
   "metadata": {},
   "outputs": [
    {
     "data": {
      "text/plain": [
       "datetime.datetime(2024, 3, 7, 0, 25, 59, 746385)"
      ]
     },
     "execution_count": 3763,
     "metadata": {},
     "output_type": "execute_result"
    }
   ],
   "source": [
    "from datetime import datetime, timedelta\n",
    "now = datetime.now()\n",
    "# conso.csv dynamique\n",
    "base = now - timedelta(microseconds=cumtime)\n",
    "base  # date de début\n"
   ]
  },
  {
   "cell_type": "code",
   "execution_count": 3764,
   "metadata": {},
   "outputs": [
    {
     "name": "stdout",
     "output_type": "stream",
     "text": [
      "<class 'pandas.core.frame.DataFrame'>\n",
      "RangeIndex: 52714 entries, 0 to 52713\n",
      "Data columns (total 6 columns):\n",
      " #   Column     Non-Null Count  Dtype         \n",
      "---  ------     --------------  -----         \n",
      " 0   Interval   52714 non-null  int64         \n",
      " 1   kWh        52714 non-null  float64       \n",
      " 2   sec        52714 non-null  float64       \n",
      " 3   Wh         52714 non-null  float64       \n",
      " 4   cumul(ms)  52714 non-null  int64         \n",
      " 5   dates      52714 non-null  datetime64[ns]\n",
      "dtypes: datetime64[ns](1), float64(3), int64(2)\n",
      "memory usage: 2.4 MB\n"
     ]
    }
   ],
   "source": [
    "\n",
    "if old:\n",
    "    base = dt.datetime(2023, 8, 1, 10, 45, 0) - timedelta(microseconds=cumtime)\n",
    "\n",
    "\n",
    "conso_data['dates'] = [base + dt.timedelta(microseconds=t*1000) for t in conso_data['cumul(ms)']]\n",
    "conso_data.info()\n"
   ]
  },
  {
   "cell_type": "code",
   "execution_count": 3765,
   "metadata": {},
   "outputs": [
    {
     "data": {
      "text/html": [
       "<div>\n",
       "<style scoped>\n",
       "    .dataframe tbody tr th:only-of-type {\n",
       "        vertical-align: middle;\n",
       "    }\n",
       "\n",
       "    .dataframe tbody tr th {\n",
       "        vertical-align: top;\n",
       "    }\n",
       "\n",
       "    .dataframe thead th {\n",
       "        text-align: right;\n",
       "    }\n",
       "</style>\n",
       "<table border=\"1\" class=\"dataframe\">\n",
       "  <thead>\n",
       "    <tr style=\"text-align: right;\">\n",
       "      <th></th>\n",
       "      <th>Interval</th>\n",
       "      <th>kWh</th>\n",
       "      <th>sec</th>\n",
       "      <th>Wh</th>\n",
       "      <th>cumul(ms)</th>\n",
       "      <th>dates</th>\n",
       "      <th>days</th>\n",
       "    </tr>\n",
       "  </thead>\n",
       "  <tbody>\n",
       "    <tr>\n",
       "      <th>0</th>\n",
       "      <td>26289</td>\n",
       "      <td>0.14</td>\n",
       "      <td>26.289</td>\n",
       "      <td>136.939404</td>\n",
       "      <td>26289</td>\n",
       "      <td>2024-03-07 00:26:26.035385</td>\n",
       "      <td>07/03/2024</td>\n",
       "    </tr>\n",
       "    <tr>\n",
       "      <th>1</th>\n",
       "      <td>26243</td>\n",
       "      <td>0.14</td>\n",
       "      <td>26.243</td>\n",
       "      <td>137.179438</td>\n",
       "      <td>52532</td>\n",
       "      <td>2024-03-07 00:26:52.278385</td>\n",
       "      <td>07/03/2024</td>\n",
       "    </tr>\n",
       "    <tr>\n",
       "      <th>2</th>\n",
       "      <td>25885</td>\n",
       "      <td>0.14</td>\n",
       "      <td>25.885</td>\n",
       "      <td>139.076685</td>\n",
       "      <td>78417</td>\n",
       "      <td>2024-03-07 00:27:18.163385</td>\n",
       "      <td>07/03/2024</td>\n",
       "    </tr>\n",
       "    <tr>\n",
       "      <th>3</th>\n",
       "      <td>25754</td>\n",
       "      <td>0.14</td>\n",
       "      <td>25.754</td>\n",
       "      <td>139.784111</td>\n",
       "      <td>104171</td>\n",
       "      <td>2024-03-07 00:27:43.917385</td>\n",
       "      <td>07/03/2024</td>\n",
       "    </tr>\n",
       "    <tr>\n",
       "      <th>4</th>\n",
       "      <td>25774</td>\n",
       "      <td>0.14</td>\n",
       "      <td>25.774</td>\n",
       "      <td>139.675642</td>\n",
       "      <td>129945</td>\n",
       "      <td>2024-03-07 00:28:09.691385</td>\n",
       "      <td>07/03/2024</td>\n",
       "    </tr>\n",
       "    <tr>\n",
       "      <th>...</th>\n",
       "      <td>...</td>\n",
       "      <td>...</td>\n",
       "      <td>...</td>\n",
       "      <td>...</td>\n",
       "      <td>...</td>\n",
       "      <td>...</td>\n",
       "      <td>...</td>\n",
       "    </tr>\n",
       "    <tr>\n",
       "      <th>52709</th>\n",
       "      <td>22741</td>\n",
       "      <td>0.16</td>\n",
       "      <td>22.741</td>\n",
       "      <td>158.304384</td>\n",
       "      <td>1260449777</td>\n",
       "      <td>2024-03-21 14:33:29.523385</td>\n",
       "      <td>21/03/2024</td>\n",
       "    </tr>\n",
       "    <tr>\n",
       "      <th>52710</th>\n",
       "      <td>26008</td>\n",
       "      <td>0.14</td>\n",
       "      <td>26.008</td>\n",
       "      <td>138.418948</td>\n",
       "      <td>1260475785</td>\n",
       "      <td>2024-03-21 14:33:55.531385</td>\n",
       "      <td>21/03/2024</td>\n",
       "    </tr>\n",
       "    <tr>\n",
       "      <th>52711</th>\n",
       "      <td>27247</td>\n",
       "      <td>0.13</td>\n",
       "      <td>27.247</td>\n",
       "      <td>132.124638</td>\n",
       "      <td>1260503032</td>\n",
       "      <td>2024-03-21 14:34:22.778385</td>\n",
       "      <td>21/03/2024</td>\n",
       "    </tr>\n",
       "    <tr>\n",
       "      <th>52712</th>\n",
       "      <td>27174</td>\n",
       "      <td>0.13</td>\n",
       "      <td>27.174</td>\n",
       "      <td>132.479576</td>\n",
       "      <td>1260530206</td>\n",
       "      <td>2024-03-21 14:34:49.952385</td>\n",
       "      <td>21/03/2024</td>\n",
       "    </tr>\n",
       "    <tr>\n",
       "      <th>52713</th>\n",
       "      <td>27130</td>\n",
       "      <td>0.13</td>\n",
       "      <td>27.130</td>\n",
       "      <td>132.694434</td>\n",
       "      <td>1260557336</td>\n",
       "      <td>2024-03-21 14:35:17.082385</td>\n",
       "      <td>21/03/2024</td>\n",
       "    </tr>\n",
       "  </tbody>\n",
       "</table>\n",
       "<p>52714 rows × 7 columns</p>\n",
       "</div>"
      ],
      "text/plain": [
       "       Interval   kWh     sec          Wh   cumul(ms)  \\\n",
       "0         26289  0.14  26.289  136.939404       26289   \n",
       "1         26243  0.14  26.243  137.179438       52532   \n",
       "2         25885  0.14  25.885  139.076685       78417   \n",
       "3         25754  0.14  25.754  139.784111      104171   \n",
       "4         25774  0.14  25.774  139.675642      129945   \n",
       "...         ...   ...     ...         ...         ...   \n",
       "52709     22741  0.16  22.741  158.304384  1260449777   \n",
       "52710     26008  0.14  26.008  138.418948  1260475785   \n",
       "52711     27247  0.13  27.247  132.124638  1260503032   \n",
       "52712     27174  0.13  27.174  132.479576  1260530206   \n",
       "52713     27130  0.13  27.130  132.694434  1260557336   \n",
       "\n",
       "                           dates        days  \n",
       "0     2024-03-07 00:26:26.035385  07/03/2024  \n",
       "1     2024-03-07 00:26:52.278385  07/03/2024  \n",
       "2     2024-03-07 00:27:18.163385  07/03/2024  \n",
       "3     2024-03-07 00:27:43.917385  07/03/2024  \n",
       "4     2024-03-07 00:28:09.691385  07/03/2024  \n",
       "...                          ...         ...  \n",
       "52709 2024-03-21 14:33:29.523385  21/03/2024  \n",
       "52710 2024-03-21 14:33:55.531385  21/03/2024  \n",
       "52711 2024-03-21 14:34:22.778385  21/03/2024  \n",
       "52712 2024-03-21 14:34:49.952385  21/03/2024  \n",
       "52713 2024-03-21 14:35:17.082385  21/03/2024  \n",
       "\n",
       "[52714 rows x 7 columns]"
      ]
     },
     "execution_count": 3765,
     "metadata": {},
     "output_type": "execute_result"
    }
   ],
   "source": [
    "conso_data['days']= [d.strftime('%d/%m/%Y') for d in conso_data['dates']]    #[str(d.month)+'-'+str(d.day) for d in conso_data['dates']]\n",
    "conso_data"
   ]
  },
  {
   "cell_type": "code",
   "execution_count": 3766,
   "metadata": {},
   "outputs": [
    {
     "data": {
      "text/plain": [
       "(   Interval   kWh     sec          Wh  cumul(ms)                      dates  \\\n",
       " 0     26289  0.14  26.289  136.939404      26289 2024-03-07 00:26:26.035385   \n",
       " \n",
       "          days  \n",
       " 0  07/03/2024  ,\n",
       "        Interval   kWh    sec          Wh   cumul(ms)  \\\n",
       " 52713     27130  0.13  27.13  132.694434  1260557336   \n",
       " \n",
       "                            dates        days  \n",
       " 52713 2024-03-21 14:35:17.082385  21/03/2024  )"
      ]
     },
     "execution_count": 3766,
     "metadata": {},
     "output_type": "execute_result"
    }
   ],
   "source": [
    "#conso_data\n",
    "conso_data.head(1),conso_data.tail(1)"
   ]
  },
  {
   "cell_type": "code",
   "execution_count": 3767,
   "metadata": {},
   "outputs": [
    {
     "data": {
      "text/plain": [
       "'21/03/2024'"
      ]
     },
     "execution_count": 3767,
     "metadata": {},
     "output_type": "execute_result"
    }
   ],
   "source": [
    "# tranche journalière\n",
    "now = datetime.now()\n",
    "month = now.month\n",
    "year = now.year\n",
    "day = now.strftime('%d/%m/%Y')    #str(now.month)+'-'+str(now.day)\n",
    "day"
   ]
  },
  {
   "cell_type": "code",
   "execution_count": 3768,
   "metadata": {},
   "outputs": [
    {
     "data": {
      "text/plain": [
       "(3, 2024)"
      ]
     },
     "execution_count": 3768,
     "metadata": {},
     "output_type": "execute_result"
    }
   ],
   "source": [
    "month, year"
   ]
  },
  {
   "cell_type": "code",
   "execution_count": 3769,
   "metadata": {},
   "outputs": [],
   "source": [
    "def conso_by_day(day):\n",
    "    conso_day = conso_data[conso_data['days']==day]\n",
    "    conso_jour = len(conso_day)/1000\n",
    "    return conso_jour\n",
    "\n"
   ]
  },
  {
   "cell_type": "code",
   "execution_count": 3773,
   "metadata": {},
   "outputs": [
    {
     "data": {
      "text/html": [
       "<div>\n",
       "<style scoped>\n",
       "    .dataframe tbody tr th:only-of-type {\n",
       "        vertical-align: middle;\n",
       "    }\n",
       "\n",
       "    .dataframe tbody tr th {\n",
       "        vertical-align: top;\n",
       "    }\n",
       "\n",
       "    .dataframe thead th {\n",
       "        text-align: right;\n",
       "    }\n",
       "</style>\n",
       "<table border=\"1\" class=\"dataframe\">\n",
       "  <thead>\n",
       "    <tr style=\"text-align: right;\">\n",
       "      <th></th>\n",
       "      <th>conso</th>\n",
       "    </tr>\n",
       "    <tr>\n",
       "      <th>day</th>\n",
       "      <th></th>\n",
       "    </tr>\n",
       "  </thead>\n",
       "  <tbody>\n",
       "    <tr>\n",
       "      <th>07/03/2024</th>\n",
       "      <td>3.338</td>\n",
       "    </tr>\n",
       "    <tr>\n",
       "      <th>08/03/2024</th>\n",
       "      <td>3.760</td>\n",
       "    </tr>\n",
       "    <tr>\n",
       "      <th>09/03/2024</th>\n",
       "      <td>3.059</td>\n",
       "    </tr>\n",
       "    <tr>\n",
       "      <th>10/03/2024</th>\n",
       "      <td>3.569</td>\n",
       "    </tr>\n",
       "    <tr>\n",
       "      <th>11/03/2024</th>\n",
       "      <td>4.525</td>\n",
       "    </tr>\n",
       "    <tr>\n",
       "      <th>12/03/2024</th>\n",
       "      <td>3.551</td>\n",
       "    </tr>\n",
       "    <tr>\n",
       "      <th>13/03/2024</th>\n",
       "      <td>3.509</td>\n",
       "    </tr>\n",
       "    <tr>\n",
       "      <th>14/03/2024</th>\n",
       "      <td>3.703</td>\n",
       "    </tr>\n",
       "    <tr>\n",
       "      <th>15/03/2024</th>\n",
       "      <td>3.544</td>\n",
       "    </tr>\n",
       "    <tr>\n",
       "      <th>16/03/2024</th>\n",
       "      <td>3.358</td>\n",
       "    </tr>\n",
       "    <tr>\n",
       "      <th>17/03/2024</th>\n",
       "      <td>3.412</td>\n",
       "    </tr>\n",
       "    <tr>\n",
       "      <th>18/03/2024</th>\n",
       "      <td>4.331</td>\n",
       "    </tr>\n",
       "    <tr>\n",
       "      <th>19/03/2024</th>\n",
       "      <td>3.530</td>\n",
       "    </tr>\n",
       "    <tr>\n",
       "      <th>20/03/2024</th>\n",
       "      <td>3.445</td>\n",
       "    </tr>\n",
       "    <tr>\n",
       "      <th>21/03/2024</th>\n",
       "      <td>2.080</td>\n",
       "    </tr>\n",
       "  </tbody>\n",
       "</table>\n",
       "</div>"
      ],
      "text/plain": [
       "            conso\n",
       "day              \n",
       "07/03/2024  3.338\n",
       "08/03/2024  3.760\n",
       "09/03/2024  3.059\n",
       "10/03/2024  3.569\n",
       "11/03/2024  4.525\n",
       "12/03/2024  3.551\n",
       "13/03/2024  3.509\n",
       "14/03/2024  3.703\n",
       "15/03/2024  3.544\n",
       "16/03/2024  3.358\n",
       "17/03/2024  3.412\n",
       "18/03/2024  4.331\n",
       "19/03/2024  3.530\n",
       "20/03/2024  3.445\n",
       "21/03/2024  2.080"
      ]
     },
     "execution_count": 3773,
     "metadata": {},
     "output_type": "execute_result"
    }
   ],
   "source": [
    "conso_graph=[]\n",
    "for d in range(7,now.day+1):\n",
    "    if d<10:prefd='0'\n",
    "    else:prefd=''\n",
    "    if month<10:prefm='0'\n",
    "    else:prefm=''\n",
    "    day = f'{prefd}{d}/{prefm}{month}/{year}'\n",
    "    conso_graph.append((day,conso_by_day(day)))\n",
    "    #print(day,conso_by_day(day))\n",
    "conso_df = pd.DataFrame(conso_graph, columns=('day','conso'))\n",
    "conso_df.set_index('day',inplace=True)\n",
    "conso_df"
   ]
  },
  {
   "cell_type": "code",
   "execution_count": 3774,
   "metadata": {},
   "outputs": [],
   "source": [
    "\n",
    "mean = conso_df['conso'].mean()\n"
   ]
  },
  {
   "cell_type": "code",
   "execution_count": 3775,
   "metadata": {},
   "outputs": [
    {
     "data": {
      "image/png": "[encoded data removed]",
      "text/plain": [
       "<Figure size 640x480 with 1 Axes>"
      ]
     },
     "metadata": {},
     "output_type": "display_data"
    }
   ],
   "source": [
    "conso_df.plot()\n",
    "plt.plot()\n",
    "plt.plot((0,len(conso_graph)-1),(mean,mean))\n",
    "plt.xticks(rotation=45)\n",
    "plt.grid()\n"
   ]
  },
  {
   "cell_type": "code",
   "execution_count": null,
   "metadata": {},
   "outputs": [],
   "source": []
  },
  {
   "cell_type": "code",
   "execution_count": null,
   "metadata": {},
   "outputs": [],
   "source": []
  },
  {
   "cell_type": "code",
   "execution_count": 3776,
   "metadata": {},
   "outputs": [],
   "source": [
    "#manuel\n",
    "#day = '19/03/2024'\n"
   ]
  },
  {
   "cell_type": "code",
   "execution_count": 3777,
   "metadata": {},
   "outputs": [
    {
     "data": {
      "text/plain": [
       "2080"
      ]
     },
     "execution_count": 3777,
     "metadata": {},
     "output_type": "execute_result"
    }
   ],
   "source": [
    "\n",
    "conso_day = conso_data[conso_data['days']==day]\n",
    "conso_jour = len(conso_day)\n",
    "conso_jour"
   ]
  },
  {
   "cell_type": "code",
   "execution_count": 3778,
   "metadata": {},
   "outputs": [
    {
     "name": "stderr",
     "output_type": "stream",
     "text": [
      "C:\\Users\\jean\\AppData\\Local\\Temp\\ipykernel_21524\\1879875640.py:2: SettingWithCopyWarning: \n",
      "A value is trying to be set on a copy of a slice from a DataFrame.\n",
      "Try using .loc[row_indexer,col_indexer] = value instead\n",
      "\n",
      "See the caveats in the documentation: https://pandas.pydata.org/pandas-docs/stable/user_guide/indexing.html#returning-a-view-versus-a-copy\n",
      "  conso_day['heure']=conso_day['dates'].map(lambda x: str(x.hour)+':'+str(x.minute) +':'+str(x.second))\n"
     ]
    },
    {
     "data": {
      "text/html": [
       "<div>\n",
       "<style scoped>\n",
       "    .dataframe tbody tr th:only-of-type {\n",
       "        vertical-align: middle;\n",
       "    }\n",
       "\n",
       "    .dataframe tbody tr th {\n",
       "        vertical-align: top;\n",
       "    }\n",
       "\n",
       "    .dataframe thead th {\n",
       "        text-align: right;\n",
       "    }\n",
       "</style>\n",
       "<table border=\"1\" class=\"dataframe\">\n",
       "  <thead>\n",
       "    <tr style=\"text-align: right;\">\n",
       "      <th></th>\n",
       "      <th>Interval</th>\n",
       "      <th>kWh</th>\n",
       "      <th>sec</th>\n",
       "      <th>Wh</th>\n",
       "      <th>cumul(ms)</th>\n",
       "      <th>dates</th>\n",
       "      <th>days</th>\n",
       "    </tr>\n",
       "    <tr>\n",
       "      <th>heure</th>\n",
       "      <th></th>\n",
       "      <th></th>\n",
       "      <th></th>\n",
       "      <th></th>\n",
       "      <th></th>\n",
       "      <th></th>\n",
       "      <th></th>\n",
       "    </tr>\n",
       "  </thead>\n",
       "  <tbody>\n",
       "    <tr>\n",
       "      <th>0:0:4</th>\n",
       "      <td>27055</td>\n",
       "      <td>0.13</td>\n",
       "      <td>27.055</td>\n",
       "      <td>133.062281</td>\n",
       "      <td>1208044923</td>\n",
       "      <td>2024-03-21 00:00:04.669385</td>\n",
       "      <td>21/03/2024</td>\n",
       "    </tr>\n",
       "    <tr>\n",
       "      <th>0:0:32</th>\n",
       "      <td>27713</td>\n",
       "      <td>0.13</td>\n",
       "      <td>27.713</td>\n",
       "      <td>129.902934</td>\n",
       "      <td>1208072636</td>\n",
       "      <td>2024-03-21 00:00:32.382385</td>\n",
       "      <td>21/03/2024</td>\n",
       "    </tr>\n",
       "    <tr>\n",
       "      <th>0:0:59</th>\n",
       "      <td>27246</td>\n",
       "      <td>0.13</td>\n",
       "      <td>27.246</td>\n",
       "      <td>132.129487</td>\n",
       "      <td>1208099882</td>\n",
       "      <td>2024-03-21 00:00:59.628385</td>\n",
       "      <td>21/03/2024</td>\n",
       "    </tr>\n",
       "    <tr>\n",
       "      <th>0:1:26</th>\n",
       "      <td>26709</td>\n",
       "      <td>0.13</td>\n",
       "      <td>26.709</td>\n",
       "      <td>134.786027</td>\n",
       "      <td>1208126591</td>\n",
       "      <td>2024-03-21 00:01:26.337385</td>\n",
       "      <td>21/03/2024</td>\n",
       "    </tr>\n",
       "    <tr>\n",
       "      <th>0:1:53</th>\n",
       "      <td>27202</td>\n",
       "      <td>0.13</td>\n",
       "      <td>27.202</td>\n",
       "      <td>132.343210</td>\n",
       "      <td>1208153793</td>\n",
       "      <td>2024-03-21 00:01:53.539385</td>\n",
       "      <td>21/03/2024</td>\n",
       "    </tr>\n",
       "    <tr>\n",
       "      <th>...</th>\n",
       "      <td>...</td>\n",
       "      <td>...</td>\n",
       "      <td>...</td>\n",
       "      <td>...</td>\n",
       "      <td>...</td>\n",
       "      <td>...</td>\n",
       "      <td>...</td>\n",
       "    </tr>\n",
       "    <tr>\n",
       "      <th>14:33:29</th>\n",
       "      <td>22741</td>\n",
       "      <td>0.16</td>\n",
       "      <td>22.741</td>\n",
       "      <td>158.304384</td>\n",
       "      <td>1260449777</td>\n",
       "      <td>2024-03-21 14:33:29.523385</td>\n",
       "      <td>21/03/2024</td>\n",
       "    </tr>\n",
       "    <tr>\n",
       "      <th>14:33:55</th>\n",
       "      <td>26008</td>\n",
       "      <td>0.14</td>\n",
       "      <td>26.008</td>\n",
       "      <td>138.418948</td>\n",
       "      <td>1260475785</td>\n",
       "      <td>2024-03-21 14:33:55.531385</td>\n",
       "      <td>21/03/2024</td>\n",
       "    </tr>\n",
       "    <tr>\n",
       "      <th>14:34:22</th>\n",
       "      <td>27247</td>\n",
       "      <td>0.13</td>\n",
       "      <td>27.247</td>\n",
       "      <td>132.124638</td>\n",
       "      <td>1260503032</td>\n",
       "      <td>2024-03-21 14:34:22.778385</td>\n",
       "      <td>21/03/2024</td>\n",
       "    </tr>\n",
       "    <tr>\n",
       "      <th>14:34:49</th>\n",
       "      <td>27174</td>\n",
       "      <td>0.13</td>\n",
       "      <td>27.174</td>\n",
       "      <td>132.479576</td>\n",
       "      <td>1260530206</td>\n",
       "      <td>2024-03-21 14:34:49.952385</td>\n",
       "      <td>21/03/2024</td>\n",
       "    </tr>\n",
       "    <tr>\n",
       "      <th>14:35:17</th>\n",
       "      <td>27130</td>\n",
       "      <td>0.13</td>\n",
       "      <td>27.130</td>\n",
       "      <td>132.694434</td>\n",
       "      <td>1260557336</td>\n",
       "      <td>2024-03-21 14:35:17.082385</td>\n",
       "      <td>21/03/2024</td>\n",
       "    </tr>\n",
       "  </tbody>\n",
       "</table>\n",
       "<p>2080 rows × 7 columns</p>\n",
       "</div>"
      ],
      "text/plain": [
       "          Interval   kWh     sec          Wh   cumul(ms)  \\\n",
       "heure                                                      \n",
       "0:0:4        27055  0.13  27.055  133.062281  1208044923   \n",
       "0:0:32       27713  0.13  27.713  129.902934  1208072636   \n",
       "0:0:59       27246  0.13  27.246  132.129487  1208099882   \n",
       "0:1:26       26709  0.13  26.709  134.786027  1208126591   \n",
       "0:1:53       27202  0.13  27.202  132.343210  1208153793   \n",
       "...            ...   ...     ...         ...         ...   \n",
       "14:33:29     22741  0.16  22.741  158.304384  1260449777   \n",
       "14:33:55     26008  0.14  26.008  138.418948  1260475785   \n",
       "14:34:22     27247  0.13  27.247  132.124638  1260503032   \n",
       "14:34:49     27174  0.13  27.174  132.479576  1260530206   \n",
       "14:35:17     27130  0.13  27.130  132.694434  1260557336   \n",
       "\n",
       "                              dates        days  \n",
       "heure                                            \n",
       "0:0:4    2024-03-21 00:00:04.669385  21/03/2024  \n",
       "0:0:32   2024-03-21 00:00:32.382385  21/03/2024  \n",
       "0:0:59   2024-03-21 00:00:59.628385  21/03/2024  \n",
       "0:1:26   2024-03-21 00:01:26.337385  21/03/2024  \n",
       "0:1:53   2024-03-21 00:01:53.539385  21/03/2024  \n",
       "...                             ...         ...  \n",
       "14:33:29 2024-03-21 14:33:29.523385  21/03/2024  \n",
       "14:33:55 2024-03-21 14:33:55.531385  21/03/2024  \n",
       "14:34:22 2024-03-21 14:34:22.778385  21/03/2024  \n",
       "14:34:49 2024-03-21 14:34:49.952385  21/03/2024  \n",
       "14:35:17 2024-03-21 14:35:17.082385  21/03/2024  \n",
       "\n",
       "[2080 rows x 7 columns]"
      ]
     },
     "execution_count": 3778,
     "metadata": {},
     "output_type": "execute_result"
    }
   ],
   "source": [
    "conso_day.head(1).dates, conso_day.tail(1).dates\n",
    "conso_day['heure']=conso_day['dates'].map(lambda x: str(x.hour)+':'+str(x.minute) +':'+str(x.second))\n",
    "#=[x.hour for x in conso_day['dates']]\n",
    "conso_day\n",
    "df= conso_day.set_index('heure')\n",
    "df"
   ]
  },
  {
   "cell_type": "code",
   "execution_count": 3779,
   "metadata": {},
   "outputs": [
    {
     "data": {
      "image/png": "[encoded data removed]",
      "text/plain": [
       "<Figure size 1500x700 with 1 Axes>"
      ]
     },
     "metadata": {},
     "output_type": "display_data"
    }
   ],
   "source": [
    "from matplotlib.ticker import (MultipleLocator, AutoMinorLocator)\n",
    "# consommation d'une journée entière à partir de minuit\n",
    "fig, ax = plt.subplots()\n",
    "major_ticks=300;minor_ticks=100\n",
    "ax.xaxis.set_major_locator(MultipleLocator(major_ticks))  # major ticks tous les 15 min\n",
    "ax.xaxis.set_minor_locator(MultipleLocator(minor_ticks))\n",
    "# the size of A4 paper\n",
    "fig.set_size_inches(15, 7)\n",
    "plt.plot(df['kWh'])\n",
    "#plt.plot(conso_day['heure'],conso_day['kWh'])\n",
    "plt.title(f'Journée du {day} : {conso_jour/1000} kwh')\n",
    "plt.grid()"
   ]
  },
  {
   "cell_type": "code",
   "execution_count": 3780,
   "metadata": {},
   "outputs": [
    {
     "data": {
      "text/plain": [
       "0       2024-03-07 00:26:26.035385\n",
       "1       2024-03-07 00:26:52.278385\n",
       "2       2024-03-07 00:27:18.163385\n",
       "3       2024-03-07 00:27:43.917385\n",
       "4       2024-03-07 00:28:09.691385\n",
       "                   ...            \n",
       "52709   2024-03-21 14:33:29.523385\n",
       "52710   2024-03-21 14:33:55.531385\n",
       "52711   2024-03-21 14:34:22.778385\n",
       "52712   2024-03-21 14:34:49.952385\n",
       "52713   2024-03-21 14:35:17.082385\n",
       "Name: dates, Length: 52714, dtype: datetime64[ns]"
      ]
     },
     "execution_count": 3780,
     "metadata": {},
     "output_type": "execute_result"
    }
   ],
   "source": [
    "\n",
    "\n",
    "time = conso_data['dates']\n",
    "time\n"
   ]
  },
  {
   "cell_type": "code",
   "execution_count": 3781,
   "metadata": {},
   "outputs": [],
   "source": [
    "def format_date(space=3):\n",
    "    plt.gca().xaxis.set_major_formatter(mdates.DateFormatter('%d/%m\\n%H:%M'))\n",
    "    plt.gca().xaxis.set_major_locator(mdates.HourLocator(space))\n",
    "    #plt.gca().xaxis.set_major_locator(mdates.HourLocator(interval=space))\n",
    "    plt.gcf().autofmt_xdate()\n",
    "    plt.grid()"
   ]
  },
  {
   "cell_type": "code",
   "execution_count": 3782,
   "metadata": {},
   "outputs": [],
   "source": [
    "if not old:\n",
    "    major_ticks=1/60;minor_ticks=1/240  # plus de ticks, 4 fois plus de minor\n",
    "    major_ticks=1/30;minor_ticks=1/120   # moins de ticks\n",
    "    major_ticks=1/15;minor_ticks=1/60\n",
    "    major_ticks=1/2;minor_ticks=1/8\n",
    "else:\n",
    "    major_ticks=4;minor_ticks=1   # encore moins si int\n"
   ]
  },
  {
   "cell_type": "code",
   "execution_count": 3783,
   "metadata": {},
   "outputs": [
    {
     "data": {
      "text/plain": [
       "(4, 1)"
      ]
     },
     "execution_count": 3783,
     "metadata": {},
     "output_type": "execute_result"
    }
   ],
   "source": [
    "major_ticks=4;minor_ticks=1\n",
    "major_ticks,minor_ticks"
   ]
  },
  {
   "cell_type": "markdown",
   "metadata": {},
   "source": [
    "## Main graph"
   ]
  },
  {
   "cell_type": "code",
   "execution_count": 3784,
   "metadata": {},
   "outputs": [
    {
     "data": {
      "image/png": "[encoded data removed]",
      "text/plain": [
       "<Figure size 2500x1000 with 1 Axes>"
      ]
     },
     "metadata": {},
     "output_type": "display_data"
    }
   ],
   "source": [
    "\n",
    "from matplotlib.dates import (YEARLY, DateFormatter,rrulewrapper, RRuleLocator, drange)\n",
    "\n",
    "def show_graph():\n",
    "    fig, ax = plt.subplots()\n",
    "    # the size of A4 paper\n",
    "    fig.set_size_inches(25, 10)\n",
    "\n",
    "    #plt.rcParams['axes.autolimit_mode'] = 'round_numbers'\n",
    "    \n",
    "    #formatter = DateFormatter('%d/%m\\n%H:%M:%S')\n",
    "    formatter = DateFormatter('%d/%m\\n%H:%M')\n",
    "    ax.xaxis.set_major_formatter(formatter)\n",
    "\n",
    "    # ticks sur axe des x\n",
    "    ax.xaxis.set_major_locator(MultipleLocator(major_ticks))  # major ticks tous les 15 min\n",
    "    ax.xaxis.set_minor_locator(MultipleLocator(minor_ticks))  # minor ticks tous les 5 min\n",
    "    ax.tick_params(which='both', width=3)\n",
    "    ax.tick_params(which='major', length=15, color='r')\n",
    "    ax.tick_params(which='minor', length=8, color='b')\n",
    "\n",
    "    #plt.plot(conso_data['cumul(ms)']/3600000,conso_data['Wh'])\n",
    "    plt.plot(time,conso_data['Wh'])\n",
    "    plt.ylabel('Wh')\n",
    "    plt.xlabel('Time (heures)')\n",
    "    #format_date(10)\n",
    "    for label in ax.get_xticklabels():\n",
    "        label.set_rotation(40)\n",
    "        label.set_horizontalalignment('right')\n",
    "\n",
    "    #fig.autofmt_xdate()\n",
    "    \n",
    "    plt.grid()\n",
    "    plt.show()\n",
    "show_graph()"
   ]
  },
  {
   "cell_type": "code",
   "execution_count": 3785,
   "metadata": {},
   "outputs": [
    {
     "data": {
      "text/html": [
       "<div>\n",
       "<style scoped>\n",
       "    .dataframe tbody tr th:only-of-type {\n",
       "        vertical-align: middle;\n",
       "    }\n",
       "\n",
       "    .dataframe tbody tr th {\n",
       "        vertical-align: top;\n",
       "    }\n",
       "\n",
       "    .dataframe thead th {\n",
       "        text-align: right;\n",
       "    }\n",
       "</style>\n",
       "<table border=\"1\" class=\"dataframe\">\n",
       "  <thead>\n",
       "    <tr style=\"text-align: right;\">\n",
       "      <th></th>\n",
       "      <th>Interval</th>\n",
       "      <th>kWh</th>\n",
       "      <th>sec</th>\n",
       "      <th>Wh</th>\n",
       "      <th>cumul(ms)</th>\n",
       "      <th>dates</th>\n",
       "      <th>days</th>\n",
       "    </tr>\n",
       "  </thead>\n",
       "  <tbody>\n",
       "    <tr>\n",
       "      <th>52713</th>\n",
       "      <td>27130</td>\n",
       "      <td>0.13</td>\n",
       "      <td>27.13</td>\n",
       "      <td>132.694434</td>\n",
       "      <td>1260557336</td>\n",
       "      <td>2024-03-21 14:35:17.082385</td>\n",
       "      <td>21/03/2024</td>\n",
       "    </tr>\n",
       "  </tbody>\n",
       "</table>\n",
       "</div>"
      ],
      "text/plain": [
       "       Interval   kWh    sec          Wh   cumul(ms)  \\\n",
       "52713     27130  0.13  27.13  132.694434  1260557336   \n",
       "\n",
       "                           dates        days  \n",
       "52713 2024-03-21 14:35:17.082385  21/03/2024  "
      ]
     },
     "execution_count": 3785,
     "metadata": {},
     "output_type": "execute_result"
    }
   ],
   "source": [
    "cumul_conso = len(conso_data)\n",
    "conso_data.tail(1)"
   ]
  },
  {
   "cell_type": "code",
   "execution_count": 3786,
   "metadata": {},
   "outputs": [
    {
     "data": {
      "text/plain": [
       "1260557336000"
      ]
     },
     "execution_count": 3786,
     "metadata": {},
     "output_type": "execute_result"
    }
   ],
   "source": [
    "cumtime= int(conso_data._get_value(l,'cumul(ms)')*1000)\n",
    "cumtime"
   ]
  },
  {
   "cell_type": "markdown",
   "metadata": {},
   "source": [
    "# Slice of last 1 kWh"
   ]
  },
  {
   "cell_type": "code",
   "execution_count": 3787,
   "metadata": {},
   "outputs": [
    {
     "data": {
      "text/plain": [
       "52714"
      ]
     },
     "execution_count": 3787,
     "metadata": {},
     "output_type": "execute_result"
    }
   ],
   "source": [
    "l = len(conso_data)  # total watt consommés\n",
    "l"
   ]
  },
  {
   "cell_type": "code",
   "execution_count": 3788,
   "metadata": {},
   "outputs": [
    {
     "data": {
      "text/plain": [
       "(52714, 1000)"
      ]
     },
     "execution_count": 3788,
     "metadata": {},
     "output_type": "execute_result"
    }
   ],
   "source": [
    "k = 1\n",
    "taille = k*1000  # fenetre k*1000 watt consommés\n",
    "l,taille"
   ]
  },
  {
   "cell_type": "code",
   "execution_count": 3789,
   "metadata": {},
   "outputs": [
    {
     "data": {
      "text/plain": [
       "1000"
      ]
     },
     "execution_count": 3789,
     "metadata": {},
     "output_type": "execute_result"
    }
   ],
   "source": [
    "if l<1000:\n",
    "    part = 1\n",
    "else: part = 1/2\n",
    "#taille = int(part*l)\n",
    "taille"
   ]
  },
  {
   "cell_type": "code",
   "execution_count": 3790,
   "metadata": {},
   "outputs": [
    {
     "data": {
      "text/plain": [
       "(1000,\n",
       "        Interval   kWh     sec          Wh   cumul(ms)  \\\n",
       " 51714     35607  0.10  35.607  101.103716  1242197452   \n",
       " 51715     35696  0.10  35.696  100.851636  1242233148   \n",
       " 51716     35710  0.10  35.710  100.812097  1242268858   \n",
       " 51717     35726  0.10  35.726  100.766948  1242304584   \n",
       " 51718     35792  0.10  35.792  100.581135  1242340376   \n",
       " ...         ...   ...     ...         ...         ...   \n",
       " 52709     22741  0.16  22.741  158.304384  1260449777   \n",
       " 52710     26008  0.14  26.008  138.418948  1260475785   \n",
       " 52711     27247  0.13  27.247  132.124638  1260503032   \n",
       " 52712     27174  0.13  27.174  132.479576  1260530206   \n",
       " 52713     27130  0.13  27.130  132.694434  1260557336   \n",
       " \n",
       "                            dates        days  \n",
       " 51714 2024-03-21 09:29:17.198385  21/03/2024  \n",
       " 51715 2024-03-21 09:29:52.894385  21/03/2024  \n",
       " 51716 2024-03-21 09:30:28.604385  21/03/2024  \n",
       " 51717 2024-03-21 09:31:04.330385  21/03/2024  \n",
       " 51718 2024-03-21 09:31:40.122385  21/03/2024  \n",
       " ...                          ...         ...  \n",
       " 52709 2024-03-21 14:33:29.523385  21/03/2024  \n",
       " 52710 2024-03-21 14:33:55.531385  21/03/2024  \n",
       " 52711 2024-03-21 14:34:22.778385  21/03/2024  \n",
       " 52712 2024-03-21 14:34:49.952385  21/03/2024  \n",
       " 52713 2024-03-21 14:35:17.082385  21/03/2024  \n",
       " \n",
       " [1000 rows x 7 columns])"
      ]
     },
     "execution_count": 3790,
     "metadata": {},
     "output_type": "execute_result"
    }
   ],
   "source": [
    "data = conso_data.tail(taille)\n",
    "len(data),data"
   ]
  },
  {
   "cell_type": "code",
   "execution_count": 3791,
   "metadata": {},
   "outputs": [],
   "source": [
    "now = datetime.now()\n",
    "# conso.csv dynamique\n",
    "cumtime_start= int(conso_data._get_value(l-taille+1,'cumul(ms)')*1000) # conversion microseconds\n"
   ]
  },
  {
   "cell_type": "code",
   "execution_count": 3792,
   "metadata": {},
   "outputs": [],
   "source": [
    "cumtime_end= int(data._get_value(l-1,'cumul(ms)')*1000) # conversion microseconds\n"
   ]
  },
  {
   "cell_type": "code",
   "execution_count": 3793,
   "metadata": {},
   "outputs": [
    {
     "data": {
      "text/plain": [
       "(1260557336000, 1242233148000)"
      ]
     },
     "execution_count": 3793,
     "metadata": {},
     "output_type": "execute_result"
    }
   ],
   "source": [
    "cumtime_end,cumtime_start"
   ]
  },
  {
   "cell_type": "code",
   "execution_count": 3794,
   "metadata": {},
   "outputs": [
    {
     "data": {
      "text/plain": [
       "18324188000"
      ]
     },
     "execution_count": 3794,
     "metadata": {},
     "output_type": "execute_result"
    }
   ],
   "source": [
    "#last_interval = int(data._get_value(l,'Interval')*1000) # conversion microseconds\n",
    "delta_cumtime = cumtime_end - cumtime_start #+ last_interval\n",
    "delta_cumtime"
   ]
  },
  {
   "cell_type": "code",
   "execution_count": 3795,
   "metadata": {},
   "outputs": [
    {
     "data": {
      "text/plain": [
       "(datetime.datetime(2024, 3, 21, 14, 36, 27, 399034),\n",
       " datetime.datetime(2024, 3, 21, 9, 31, 3, 211034),\n",
       " '21/03/2024 14:35:17')"
      ]
     },
     "execution_count": 3795,
     "metadata": {},
     "output_type": "execute_result"
    }
   ],
   "source": [
    "\n",
    "base = now - timedelta(microseconds=delta_cumtime)\n",
    "now,base, data['dates'][l-1].strftime('%d/%m/%Y %H:%M:%S')\n"
   ]
  },
  {
   "cell_type": "code",
   "execution_count": 3796,
   "metadata": {},
   "outputs": [
    {
     "data": {
      "text/html": [
       "<div>\n",
       "<style scoped>\n",
       "    .dataframe tbody tr th:only-of-type {\n",
       "        vertical-align: middle;\n",
       "    }\n",
       "\n",
       "    .dataframe tbody tr th {\n",
       "        vertical-align: top;\n",
       "    }\n",
       "\n",
       "    .dataframe thead th {\n",
       "        text-align: right;\n",
       "    }\n",
       "</style>\n",
       "<table border=\"1\" class=\"dataframe\">\n",
       "  <thead>\n",
       "    <tr style=\"text-align: right;\">\n",
       "      <th></th>\n",
       "      <th>Interval</th>\n",
       "      <th>kWh</th>\n",
       "      <th>sec</th>\n",
       "      <th>Wh</th>\n",
       "      <th>cumul(ms)</th>\n",
       "      <th>dates</th>\n",
       "      <th>days</th>\n",
       "    </tr>\n",
       "  </thead>\n",
       "  <tbody>\n",
       "    <tr>\n",
       "      <th>0</th>\n",
       "      <td>26289</td>\n",
       "      <td>0.14</td>\n",
       "      <td>26.289</td>\n",
       "      <td>136.939404</td>\n",
       "      <td>26289</td>\n",
       "      <td>2024-03-07 00:26:26.035385</td>\n",
       "      <td>07/03/2024</td>\n",
       "    </tr>\n",
       "    <tr>\n",
       "      <th>1</th>\n",
       "      <td>26243</td>\n",
       "      <td>0.14</td>\n",
       "      <td>26.243</td>\n",
       "      <td>137.179438</td>\n",
       "      <td>52532</td>\n",
       "      <td>2024-03-07 00:26:52.278385</td>\n",
       "      <td>07/03/2024</td>\n",
       "    </tr>\n",
       "    <tr>\n",
       "      <th>2</th>\n",
       "      <td>25885</td>\n",
       "      <td>0.14</td>\n",
       "      <td>25.885</td>\n",
       "      <td>139.076685</td>\n",
       "      <td>78417</td>\n",
       "      <td>2024-03-07 00:27:18.163385</td>\n",
       "      <td>07/03/2024</td>\n",
       "    </tr>\n",
       "    <tr>\n",
       "      <th>3</th>\n",
       "      <td>25754</td>\n",
       "      <td>0.14</td>\n",
       "      <td>25.754</td>\n",
       "      <td>139.784111</td>\n",
       "      <td>104171</td>\n",
       "      <td>2024-03-07 00:27:43.917385</td>\n",
       "      <td>07/03/2024</td>\n",
       "    </tr>\n",
       "    <tr>\n",
       "      <th>4</th>\n",
       "      <td>25774</td>\n",
       "      <td>0.14</td>\n",
       "      <td>25.774</td>\n",
       "      <td>139.675642</td>\n",
       "      <td>129945</td>\n",
       "      <td>2024-03-07 00:28:09.691385</td>\n",
       "      <td>07/03/2024</td>\n",
       "    </tr>\n",
       "    <tr>\n",
       "      <th>...</th>\n",
       "      <td>...</td>\n",
       "      <td>...</td>\n",
       "      <td>...</td>\n",
       "      <td>...</td>\n",
       "      <td>...</td>\n",
       "      <td>...</td>\n",
       "      <td>...</td>\n",
       "    </tr>\n",
       "    <tr>\n",
       "      <th>52709</th>\n",
       "      <td>22741</td>\n",
       "      <td>0.16</td>\n",
       "      <td>22.741</td>\n",
       "      <td>158.304384</td>\n",
       "      <td>1260449777</td>\n",
       "      <td>2024-03-21 14:33:29.523385</td>\n",
       "      <td>21/03/2024</td>\n",
       "    </tr>\n",
       "    <tr>\n",
       "      <th>52710</th>\n",
       "      <td>26008</td>\n",
       "      <td>0.14</td>\n",
       "      <td>26.008</td>\n",
       "      <td>138.418948</td>\n",
       "      <td>1260475785</td>\n",
       "      <td>2024-03-21 14:33:55.531385</td>\n",
       "      <td>21/03/2024</td>\n",
       "    </tr>\n",
       "    <tr>\n",
       "      <th>52711</th>\n",
       "      <td>27247</td>\n",
       "      <td>0.13</td>\n",
       "      <td>27.247</td>\n",
       "      <td>132.124638</td>\n",
       "      <td>1260503032</td>\n",
       "      <td>2024-03-21 14:34:22.778385</td>\n",
       "      <td>21/03/2024</td>\n",
       "    </tr>\n",
       "    <tr>\n",
       "      <th>52712</th>\n",
       "      <td>27174</td>\n",
       "      <td>0.13</td>\n",
       "      <td>27.174</td>\n",
       "      <td>132.479576</td>\n",
       "      <td>1260530206</td>\n",
       "      <td>2024-03-21 14:34:49.952385</td>\n",
       "      <td>21/03/2024</td>\n",
       "    </tr>\n",
       "    <tr>\n",
       "      <th>52713</th>\n",
       "      <td>27130</td>\n",
       "      <td>0.13</td>\n",
       "      <td>27.130</td>\n",
       "      <td>132.694434</td>\n",
       "      <td>1260557336</td>\n",
       "      <td>2024-03-21 14:35:17.082385</td>\n",
       "      <td>21/03/2024</td>\n",
       "    </tr>\n",
       "  </tbody>\n",
       "</table>\n",
       "<p>52714 rows × 7 columns</p>\n",
       "</div>"
      ],
      "text/plain": [
       "       Interval   kWh     sec          Wh   cumul(ms)  \\\n",
       "0         26289  0.14  26.289  136.939404       26289   \n",
       "1         26243  0.14  26.243  137.179438       52532   \n",
       "2         25885  0.14  25.885  139.076685       78417   \n",
       "3         25754  0.14  25.754  139.784111      104171   \n",
       "4         25774  0.14  25.774  139.675642      129945   \n",
       "...         ...   ...     ...         ...         ...   \n",
       "52709     22741  0.16  22.741  158.304384  1260449777   \n",
       "52710     26008  0.14  26.008  138.418948  1260475785   \n",
       "52711     27247  0.13  27.247  132.124638  1260503032   \n",
       "52712     27174  0.13  27.174  132.479576  1260530206   \n",
       "52713     27130  0.13  27.130  132.694434  1260557336   \n",
       "\n",
       "                           dates        days  \n",
       "0     2024-03-07 00:26:26.035385  07/03/2024  \n",
       "1     2024-03-07 00:26:52.278385  07/03/2024  \n",
       "2     2024-03-07 00:27:18.163385  07/03/2024  \n",
       "3     2024-03-07 00:27:43.917385  07/03/2024  \n",
       "4     2024-03-07 00:28:09.691385  07/03/2024  \n",
       "...                          ...         ...  \n",
       "52709 2024-03-21 14:33:29.523385  21/03/2024  \n",
       "52710 2024-03-21 14:33:55.531385  21/03/2024  \n",
       "52711 2024-03-21 14:34:22.778385  21/03/2024  \n",
       "52712 2024-03-21 14:34:49.952385  21/03/2024  \n",
       "52713 2024-03-21 14:35:17.082385  21/03/2024  \n",
       "\n",
       "[52714 rows x 7 columns]"
      ]
     },
     "execution_count": 3796,
     "metadata": {},
     "output_type": "execute_result"
    }
   ],
   "source": [
    "conso_data"
   ]
  },
  {
   "cell_type": "code",
   "execution_count": 3797,
   "metadata": {},
   "outputs": [
    {
     "data": {
      "text/plain": [
       "('21/03/2024 09:29:52', '21/03/2024 14:35:17')"
      ]
     },
     "execution_count": 3797,
     "metadata": {},
     "output_type": "execute_result"
    }
   ],
   "source": [
    "end = conso_data['dates'][l-1].strftime('%d/%m/%Y %H:%M:%S')\n",
    "start = conso_data['dates'][l-taille+1].strftime('%d/%m/%Y %H:%M:%S')\n",
    "start,end"
   ]
  },
  {
   "cell_type": "code",
   "execution_count": 3798,
   "metadata": {},
   "outputs": [
    {
     "data": {
      "text/plain": [
       "('2024-03-21 09:29:17.198385', '2024-03-21 14:35:17.082385')"
      ]
     },
     "execution_count": 3798,
     "metadata": {},
     "output_type": "execute_result"
    }
   ],
   "source": [
    "data.head(1)['dates'].to_string(index=False),data.tail(1)['dates'].to_string(index=False)"
   ]
  },
  {
   "cell_type": "code",
   "execution_count": 3799,
   "metadata": {},
   "outputs": [
    {
     "data": {
      "text/plain": [
       "1"
      ]
     },
     "execution_count": 3799,
     "metadata": {},
     "output_type": "execute_result"
    }
   ],
   "source": [
    "k"
   ]
  },
  {
   "cell_type": "code",
   "execution_count": 3800,
   "metadata": {},
   "outputs": [
    {
     "data": {
      "text/plain": [
       "51714    35607\n",
       "51715    35696\n",
       "51716    35710\n",
       "51717    35726\n",
       "51718    35792\n",
       "         ...  \n",
       "52709    22741\n",
       "52710    26008\n",
       "52711    27247\n",
       "52712    27174\n",
       "52713    27130\n",
       "Name: Interval, Length: 1000, dtype: int64"
      ]
     },
     "execution_count": 3800,
     "metadata": {},
     "output_type": "execute_result"
    }
   ],
   "source": [
    "data.Interval.tail(1000)"
   ]
  },
  {
   "cell_type": "code",
   "execution_count": 3801,
   "metadata": {},
   "outputs": [
    {
     "data": {
      "text/plain": [
       "(5.109858611111112, 4.696803145944839, 5, 6, 35)"
      ]
     },
     "execution_count": 3801,
     "metadata": {},
     "output_type": "execute_result"
    }
   ],
   "source": [
    "conversion_us_heure = 1/1000/60/60 \n",
    "temps_1kWh = sum(data.Interval.tail(1000))*conversion_us_heure  #somme 1000 interval = temps conso 1 kWh\n",
    "conso_jour = 24/temps_1kWh\n",
    "heure = int(temps_1kWh)\n",
    "mn = (temps_1kWh - heure)*60\n",
    "sec = (mn - int(mn))*60\n",
    "temps_1kWh, conso_jour,heure,int(mn),int(sec)"
   ]
  },
  {
   "cell_type": "code",
   "execution_count": 3802,
   "metadata": {},
   "outputs": [
    {
     "name": "stderr",
     "output_type": "stream",
     "text": [
      "C:\\Users\\jean\\AppData\\Local\\Temp\\ipykernel_21524\\3458501435.py:1: SettingWithCopyWarning: \n",
      "A value is trying to be set on a copy of a slice from a DataFrame.\n",
      "Try using .loc[row_indexer,col_indexer] = value instead\n",
      "\n",
      "See the caveats in the documentation: https://pandas.pydata.org/pandas-docs/stable/user_guide/indexing.html#returning-a-view-versus-a-copy\n",
      "  data['heure']=conso_data['dates']#.strftime('%d/%m/%Y %H:%M:%S')\n"
     ]
    }
   ],
   "source": [
    "data['heure']=conso_data['dates']#.strftime('%d/%m/%Y %H:%M:%S')"
   ]
  },
  {
   "cell_type": "code",
   "execution_count": 3803,
   "metadata": {},
   "outputs": [
    {
     "data": {
      "text/html": [
       "<div>\n",
       "<style scoped>\n",
       "    .dataframe tbody tr th:only-of-type {\n",
       "        vertical-align: middle;\n",
       "    }\n",
       "\n",
       "    .dataframe tbody tr th {\n",
       "        vertical-align: top;\n",
       "    }\n",
       "\n",
       "    .dataframe thead th {\n",
       "        text-align: right;\n",
       "    }\n",
       "</style>\n",
       "<table border=\"1\" class=\"dataframe\">\n",
       "  <thead>\n",
       "    <tr style=\"text-align: right;\">\n",
       "      <th></th>\n",
       "      <th>Interval</th>\n",
       "      <th>kWh</th>\n",
       "      <th>sec</th>\n",
       "      <th>Wh</th>\n",
       "      <th>cumul(ms)</th>\n",
       "      <th>dates</th>\n",
       "      <th>days</th>\n",
       "      <th>heure</th>\n",
       "    </tr>\n",
       "  </thead>\n",
       "  <tbody>\n",
       "    <tr>\n",
       "      <th>51714</th>\n",
       "      <td>35607</td>\n",
       "      <td>0.10</td>\n",
       "      <td>35.607</td>\n",
       "      <td>101.103716</td>\n",
       "      <td>1242197452</td>\n",
       "      <td>2024-03-21 09:29:17.198385</td>\n",
       "      <td>21/03/2024</td>\n",
       "      <td>2024-03-21 09:29:17.198385</td>\n",
       "    </tr>\n",
       "    <tr>\n",
       "      <th>51715</th>\n",
       "      <td>35696</td>\n",
       "      <td>0.10</td>\n",
       "      <td>35.696</td>\n",
       "      <td>100.851636</td>\n",
       "      <td>1242233148</td>\n",
       "      <td>2024-03-21 09:29:52.894385</td>\n",
       "      <td>21/03/2024</td>\n",
       "      <td>2024-03-21 09:29:52.894385</td>\n",
       "    </tr>\n",
       "    <tr>\n",
       "      <th>51716</th>\n",
       "      <td>35710</td>\n",
       "      <td>0.10</td>\n",
       "      <td>35.710</td>\n",
       "      <td>100.812097</td>\n",
       "      <td>1242268858</td>\n",
       "      <td>2024-03-21 09:30:28.604385</td>\n",
       "      <td>21/03/2024</td>\n",
       "      <td>2024-03-21 09:30:28.604385</td>\n",
       "    </tr>\n",
       "    <tr>\n",
       "      <th>51717</th>\n",
       "      <td>35726</td>\n",
       "      <td>0.10</td>\n",
       "      <td>35.726</td>\n",
       "      <td>100.766948</td>\n",
       "      <td>1242304584</td>\n",
       "      <td>2024-03-21 09:31:04.330385</td>\n",
       "      <td>21/03/2024</td>\n",
       "      <td>2024-03-21 09:31:04.330385</td>\n",
       "    </tr>\n",
       "    <tr>\n",
       "      <th>51718</th>\n",
       "      <td>35792</td>\n",
       "      <td>0.10</td>\n",
       "      <td>35.792</td>\n",
       "      <td>100.581135</td>\n",
       "      <td>1242340376</td>\n",
       "      <td>2024-03-21 09:31:40.122385</td>\n",
       "      <td>21/03/2024</td>\n",
       "      <td>2024-03-21 09:31:40.122385</td>\n",
       "    </tr>\n",
       "    <tr>\n",
       "      <th>...</th>\n",
       "      <td>...</td>\n",
       "      <td>...</td>\n",
       "      <td>...</td>\n",
       "      <td>...</td>\n",
       "      <td>...</td>\n",
       "      <td>...</td>\n",
       "      <td>...</td>\n",
       "      <td>...</td>\n",
       "    </tr>\n",
       "    <tr>\n",
       "      <th>52709</th>\n",
       "      <td>22741</td>\n",
       "      <td>0.16</td>\n",
       "      <td>22.741</td>\n",
       "      <td>158.304384</td>\n",
       "      <td>1260449777</td>\n",
       "      <td>2024-03-21 14:33:29.523385</td>\n",
       "      <td>21/03/2024</td>\n",
       "      <td>2024-03-21 14:33:29.523385</td>\n",
       "    </tr>\n",
       "    <tr>\n",
       "      <th>52710</th>\n",
       "      <td>26008</td>\n",
       "      <td>0.14</td>\n",
       "      <td>26.008</td>\n",
       "      <td>138.418948</td>\n",
       "      <td>1260475785</td>\n",
       "      <td>2024-03-21 14:33:55.531385</td>\n",
       "      <td>21/03/2024</td>\n",
       "      <td>2024-03-21 14:33:55.531385</td>\n",
       "    </tr>\n",
       "    <tr>\n",
       "      <th>52711</th>\n",
       "      <td>27247</td>\n",
       "      <td>0.13</td>\n",
       "      <td>27.247</td>\n",
       "      <td>132.124638</td>\n",
       "      <td>1260503032</td>\n",
       "      <td>2024-03-21 14:34:22.778385</td>\n",
       "      <td>21/03/2024</td>\n",
       "      <td>2024-03-21 14:34:22.778385</td>\n",
       "    </tr>\n",
       "    <tr>\n",
       "      <th>52712</th>\n",
       "      <td>27174</td>\n",
       "      <td>0.13</td>\n",
       "      <td>27.174</td>\n",
       "      <td>132.479576</td>\n",
       "      <td>1260530206</td>\n",
       "      <td>2024-03-21 14:34:49.952385</td>\n",
       "      <td>21/03/2024</td>\n",
       "      <td>2024-03-21 14:34:49.952385</td>\n",
       "    </tr>\n",
       "    <tr>\n",
       "      <th>52713</th>\n",
       "      <td>27130</td>\n",
       "      <td>0.13</td>\n",
       "      <td>27.130</td>\n",
       "      <td>132.694434</td>\n",
       "      <td>1260557336</td>\n",
       "      <td>2024-03-21 14:35:17.082385</td>\n",
       "      <td>21/03/2024</td>\n",
       "      <td>2024-03-21 14:35:17.082385</td>\n",
       "    </tr>\n",
       "  </tbody>\n",
       "</table>\n",
       "<p>1000 rows × 8 columns</p>\n",
       "</div>"
      ],
      "text/plain": [
       "       Interval   kWh     sec          Wh   cumul(ms)  \\\n",
       "51714     35607  0.10  35.607  101.103716  1242197452   \n",
       "51715     35696  0.10  35.696  100.851636  1242233148   \n",
       "51716     35710  0.10  35.710  100.812097  1242268858   \n",
       "51717     35726  0.10  35.726  100.766948  1242304584   \n",
       "51718     35792  0.10  35.792  100.581135  1242340376   \n",
       "...         ...   ...     ...         ...         ...   \n",
       "52709     22741  0.16  22.741  158.304384  1260449777   \n",
       "52710     26008  0.14  26.008  138.418948  1260475785   \n",
       "52711     27247  0.13  27.247  132.124638  1260503032   \n",
       "52712     27174  0.13  27.174  132.479576  1260530206   \n",
       "52713     27130  0.13  27.130  132.694434  1260557336   \n",
       "\n",
       "                           dates        days                      heure  \n",
       "51714 2024-03-21 09:29:17.198385  21/03/2024 2024-03-21 09:29:17.198385  \n",
       "51715 2024-03-21 09:29:52.894385  21/03/2024 2024-03-21 09:29:52.894385  \n",
       "51716 2024-03-21 09:30:28.604385  21/03/2024 2024-03-21 09:30:28.604385  \n",
       "51717 2024-03-21 09:31:04.330385  21/03/2024 2024-03-21 09:31:04.330385  \n",
       "51718 2024-03-21 09:31:40.122385  21/03/2024 2024-03-21 09:31:40.122385  \n",
       "...                          ...         ...                        ...  \n",
       "52709 2024-03-21 14:33:29.523385  21/03/2024 2024-03-21 14:33:29.523385  \n",
       "52710 2024-03-21 14:33:55.531385  21/03/2024 2024-03-21 14:33:55.531385  \n",
       "52711 2024-03-21 14:34:22.778385  21/03/2024 2024-03-21 14:34:22.778385  \n",
       "52712 2024-03-21 14:34:49.952385  21/03/2024 2024-03-21 14:34:49.952385  \n",
       "52713 2024-03-21 14:35:17.082385  21/03/2024 2024-03-21 14:35:17.082385  \n",
       "\n",
       "[1000 rows x 8 columns]"
      ]
     },
     "execution_count": 3803,
     "metadata": {},
     "output_type": "execute_result"
    }
   ],
   "source": [
    "data"
   ]
  },
  {
   "cell_type": "code",
   "execution_count": 3804,
   "metadata": {},
   "outputs": [
    {
     "data": {
      "text/plain": [
       "<Axes: >"
      ]
     },
     "execution_count": 3804,
     "metadata": {},
     "output_type": "execute_result"
    },
    {
     "data": {
      "image/png": "[encoded data removed]",
      "text/plain": [
       "<Figure size 640x480 with 1 Axes>"
      ]
     },
     "metadata": {},
     "output_type": "display_data"
    }
   ],
   "source": [
    "data.tail(600)['Wh'].plot()"
   ]
  },
  {
   "cell_type": "code",
   "execution_count": 3805,
   "metadata": {},
   "outputs": [
    {
     "data": {
      "text/plain": [
       "51714    101.103716\n",
       "51715    100.851636\n",
       "51716    100.812097\n",
       "51717    100.766948\n",
       "51718    100.581135\n",
       "            ...    \n",
       "52709    158.304384\n",
       "52710    138.418948\n",
       "52711    132.124638\n",
       "52712    132.479576\n",
       "52713    132.694434\n",
       "Name: Wh, Length: 1000, dtype: float64"
      ]
     },
     "execution_count": 3805,
     "metadata": {},
     "output_type": "execute_result"
    }
   ],
   "source": [
    "data['Wh']"
   ]
  },
  {
   "cell_type": "markdown",
   "metadata": {},
   "source": [
    "# k kW window graph"
   ]
  },
  {
   "cell_type": "code",
   "execution_count": 3806,
   "metadata": {},
   "outputs": [
    {
     "data": {
      "image/png": "[encoded data removed]",
      "text/plain": [
       "<Figure size 2500x1000 with 1 Axes>"
      ]
     },
     "metadata": {},
     "output_type": "display_data"
    }
   ],
   "source": [
    "fig, ax = plt.subplots()\n",
    "# the size of A4 paper\n",
    "fig.set_size_inches(25, 10)\n",
    "\n",
    "formatter = DateFormatter('%d/%m\\n%H:%M')\n",
    "ax.xaxis.set_major_formatter(formatter)\n",
    "\n",
    "# ticks sur axe des x\n",
    "major_ticks=1/30;minor_ticks=1/360\n",
    "ax.xaxis.set_major_locator(MultipleLocator(major_ticks))  # 1 major tick tous les 48 min\n",
    "ax.xaxis.set_minor_locator(MultipleLocator(minor_ticks))  # 1 minor ticks tous les 4 min\n",
    "ax.tick_params(which='both', width=3)\n",
    "ax.tick_params(which='major', length=15, color='r')\n",
    "ax.tick_params(which='minor', length=8, color='b')\n",
    "\n",
    "plt.title(f'Consommation {k} kW (Temps: {heure} heures {int(mn)} minutes {int(sec)} secondes)\\nDe {start} à {end}')\n",
    "plt.plot(data['dates'],data['Wh'])\n",
    "plt.ylabel('Wh')\n",
    "plt.xlabel('Time (heures)')\n",
    "plt.grid()\n"
   ]
  },
  {
   "cell_type": "code",
   "execution_count": 3807,
   "metadata": {},
   "outputs": [
    {
     "data": {
      "text/plain": [
       "<Axes: ylabel='Frequency'>"
      ]
     },
     "execution_count": 3807,
     "metadata": {},
     "output_type": "execute_result"
    },
    {
     "data": {
      "image/png": "[encoded data removed]",
      "text/plain": [
       "<Figure size 640x480 with 1 Axes>"
      ]
     },
     "metadata": {},
     "output_type": "display_data"
    }
   ],
   "source": [
    "data.kWh.plot.hist(bins=50,rwidth=0.8,grid=True)\n"
   ]
  },
  {
   "cell_type": "code",
   "execution_count": 3808,
   "metadata": {},
   "outputs": [
    {
     "data": {
      "text/html": [
       "<div>\n",
       "<style scoped>\n",
       "    .dataframe tbody tr th:only-of-type {\n",
       "        vertical-align: middle;\n",
       "    }\n",
       "\n",
       "    .dataframe tbody tr th {\n",
       "        vertical-align: top;\n",
       "    }\n",
       "\n",
       "    .dataframe thead th {\n",
       "        text-align: right;\n",
       "    }\n",
       "</style>\n",
       "<table border=\"1\" class=\"dataframe\">\n",
       "  <thead>\n",
       "    <tr style=\"text-align: right;\">\n",
       "      <th></th>\n",
       "      <th>Interval</th>\n",
       "      <th>kWh</th>\n",
       "      <th>sec</th>\n",
       "      <th>Wh</th>\n",
       "      <th>cumul(ms)</th>\n",
       "      <th>dates</th>\n",
       "      <th>days</th>\n",
       "    </tr>\n",
       "  </thead>\n",
       "  <tbody>\n",
       "    <tr>\n",
       "      <th>52709</th>\n",
       "      <td>22741</td>\n",
       "      <td>0.16</td>\n",
       "      <td>22.741</td>\n",
       "      <td>158.304384</td>\n",
       "      <td>1260449777</td>\n",
       "      <td>2024-03-21 14:33:29.523385</td>\n",
       "      <td>21/03/2024</td>\n",
       "    </tr>\n",
       "    <tr>\n",
       "      <th>52710</th>\n",
       "      <td>26008</td>\n",
       "      <td>0.14</td>\n",
       "      <td>26.008</td>\n",
       "      <td>138.418948</td>\n",
       "      <td>1260475785</td>\n",
       "      <td>2024-03-21 14:33:55.531385</td>\n",
       "      <td>21/03/2024</td>\n",
       "    </tr>\n",
       "    <tr>\n",
       "      <th>52711</th>\n",
       "      <td>27247</td>\n",
       "      <td>0.13</td>\n",
       "      <td>27.247</td>\n",
       "      <td>132.124638</td>\n",
       "      <td>1260503032</td>\n",
       "      <td>2024-03-21 14:34:22.778385</td>\n",
       "      <td>21/03/2024</td>\n",
       "    </tr>\n",
       "    <tr>\n",
       "      <th>52712</th>\n",
       "      <td>27174</td>\n",
       "      <td>0.13</td>\n",
       "      <td>27.174</td>\n",
       "      <td>132.479576</td>\n",
       "      <td>1260530206</td>\n",
       "      <td>2024-03-21 14:34:49.952385</td>\n",
       "      <td>21/03/2024</td>\n",
       "    </tr>\n",
       "    <tr>\n",
       "      <th>52713</th>\n",
       "      <td>27130</td>\n",
       "      <td>0.13</td>\n",
       "      <td>27.130</td>\n",
       "      <td>132.694434</td>\n",
       "      <td>1260557336</td>\n",
       "      <td>2024-03-21 14:35:17.082385</td>\n",
       "      <td>21/03/2024</td>\n",
       "    </tr>\n",
       "  </tbody>\n",
       "</table>\n",
       "</div>"
      ],
      "text/plain": [
       "       Interval   kWh     sec          Wh   cumul(ms)  \\\n",
       "52709     22741  0.16  22.741  158.304384  1260449777   \n",
       "52710     26008  0.14  26.008  138.418948  1260475785   \n",
       "52711     27247  0.13  27.247  132.124638  1260503032   \n",
       "52712     27174  0.13  27.174  132.479576  1260530206   \n",
       "52713     27130  0.13  27.130  132.694434  1260557336   \n",
       "\n",
       "                           dates        days  \n",
       "52709 2024-03-21 14:33:29.523385  21/03/2024  \n",
       "52710 2024-03-21 14:33:55.531385  21/03/2024  \n",
       "52711 2024-03-21 14:34:22.778385  21/03/2024  \n",
       "52712 2024-03-21 14:34:49.952385  21/03/2024  \n",
       "52713 2024-03-21 14:35:17.082385  21/03/2024  "
      ]
     },
     "execution_count": 3808,
     "metadata": {},
     "output_type": "execute_result"
    }
   ],
   "source": [
    "conso_data.tail()"
   ]
  },
  {
   "cell_type": "code",
   "execution_count": 3809,
   "metadata": {},
   "outputs": [
    {
     "data": {
      "image/png": "[encoded data removed]",
      "text/plain": [
       "<Figure size 640x480 with 1 Axes>"
      ]
     },
     "metadata": {},
     "output_type": "display_data"
    }
   ],
   "source": [
    "conso_data.tail(1000)['kWh'].plot()\n",
    "plt.grid()"
   ]
  },
  {
   "cell_type": "code",
   "execution_count": 3810,
   "metadata": {},
   "outputs": [
    {
     "data": {
      "text/plain": [
       "(1260557336000.0, 21009.288933333333)"
      ]
     },
     "execution_count": 3810,
     "metadata": {},
     "output_type": "execute_result"
    }
   ],
   "source": [
    "#plt.plot(conso_data['sec'])\n",
    "now = dt.datetime.now()\n",
    "last_cumul = np.array(conso_data['cumul(ms)'].tail(1))[0]*1000.0  # us\n",
    "last_cumul, last_cumul/60e6  # min"
   ]
  },
  {
   "cell_type": "code",
   "execution_count": 3811,
   "metadata": {},
   "outputs": [
    {
     "data": {
      "text/plain": [
       "(datetime.datetime(2024, 3, 21, 14, 36, 31, 967691),\n",
       " datetime.datetime(2024, 3, 7, 0, 27, 14, 631691))"
      ]
     },
     "execution_count": 3811,
     "metadata": {},
     "output_type": "execute_result"
    }
   ],
   "source": [
    "begin = now - dt.timedelta(microseconds=last_cumul)  #2023, 6, 24, 9, 14, (39, 942895) approximatif\n",
    "now, begin"
   ]
  },
  {
   "cell_type": "code",
   "execution_count": 3812,
   "metadata": {},
   "outputs": [
    {
     "data": {
      "text/plain": [
       "(52714, 1260558, 350.155)"
      ]
     },
     "execution_count": 3812,
     "metadata": {},
     "output_type": "execute_result"
    }
   ],
   "source": [
    "x = mdates.drange(begin,now,dt.timedelta(microseconds=1000000))  # seconds\n",
    "len(conso_data),len(x),len(x)/3600"
   ]
  },
  {
   "cell_type": "code",
   "execution_count": 3813,
   "metadata": {},
   "outputs": [],
   "source": [
    "def format_date(space=3):\n",
    "    plt.gca().xaxis.set_major_formatter(mdates.DateFormatter('%d/%m\\n%H:%M'))\n",
    "    plt.gca().xaxis.set_major_locator(mdates.HourLocator(space))\n",
    "    plt.gca().xaxis.set_major_locator(mdates.HourLocator(interval=space))\n",
    "    plt.gcf().autofmt_xdate()\n",
    "    plt.grid()"
   ]
  },
  {
   "cell_type": "code",
   "execution_count": 3814,
   "metadata": {},
   "outputs": [
    {
     "data": {
      "text/plain": [
       "732"
      ]
     },
     "execution_count": 3814,
     "metadata": {},
     "output_type": "execute_result"
    }
   ],
   "source": [
    "import numpy as np\n",
    "import datetime as dt\n",
    "import matplotlib.pyplot as plt\n",
    "base = dt.datetime(2005, 2, 1)\n",
    "dates = [base + dt.timedelta(hours=(2 * i)) for i in range(732)]\n",
    "N = len(dates)\n",
    "N\n"
   ]
  },
  {
   "cell_type": "code",
   "execution_count": 3815,
   "metadata": {},
   "outputs": [
    {
     "data": {
      "text/plain": [
       "61.0"
      ]
     },
     "execution_count": 3815,
     "metadata": {},
     "output_type": "execute_result"
    }
   ],
   "source": [
    "732/12 # 60 jours"
   ]
  },
  {
   "cell_type": "code",
   "execution_count": 3816,
   "metadata": {},
   "outputs": [
    {
     "data": {
      "text/plain": [
       "(datetime.datetime(2005, 2, 1, 0, 0), datetime.datetime(2005, 4, 2, 22, 0))"
      ]
     },
     "execution_count": 3816,
     "metadata": {},
     "output_type": "execute_result"
    }
   ],
   "source": [
    "dates[0],dates[-1]"
   ]
  },
  {
   "cell_type": "code",
   "execution_count": 3817,
   "metadata": {},
   "outputs": [
    {
     "data": {
      "image/png": "[encoded data removed]",
      "text/plain": [
       "<Figure size 600x600 with 3 Axes>"
      ]
     },
     "metadata": {},
     "output_type": "display_data"
    }
   ],
   "source": [
    "np.random.seed(19680801)\n",
    "y = np.cumsum(np.random.randn(N))\n",
    "\n",
    "fig, axs = plt.subplots(3, 1, layout='constrained', figsize=(6, 6))\n",
    "lims = [(np.datetime64('2005-02'), np.datetime64('2005-04')),\n",
    "        (np.datetime64('2005-02-03'), np.datetime64('2005-02-15')),\n",
    "        (np.datetime64('2005-02-03 11:00'), np.datetime64('2005-02-04 13:20'))]\n",
    "for nn, ax in enumerate(axs):\n",
    "    ax.plot(dates, y)\n",
    "    ax.set_xlim(lims[nn])\n",
    "    # rotate_labels...\n",
    "    for label in ax.get_xticklabels():\n",
    "        label.set_rotation(40)\n",
    "        label.set_horizontalalignment('right')\n",
    "axs[0].set_title('Default Date Formatter')\n",
    "plt.show()"
   ]
  },
  {
   "cell_type": "code",
   "execution_count": 3818,
   "metadata": {},
   "outputs": [
    {
     "data": {
      "text/plain": [
       "datetime.datetime(2005, 4, 2, 22, 0)"
      ]
     },
     "execution_count": 3818,
     "metadata": {},
     "output_type": "execute_result"
    }
   ],
   "source": [
    "t = dt.datetime(2005, 4, 2, 22, 0)\n",
    "t"
   ]
  }
 ],
 "metadata": {
  "kernelspec": {
   "display_name": "Python 3",
   "language": "python",
   "name": "python3"
  },
  "language_info": {
   "codemirror_mode": {
    "name": "ipython",
    "version": 3
   },
   "file_extension": ".py",
   "mimetype": "text/x-python",
   "name": "python",
   "nbconvert_exporter": "python",
   "pygments_lexer": "ipython3",
   "version": "3.11.4"
  },
  "orig_nbformat": 4
 },
 "nbformat": 4,
 "nbformat_minor": 2
}
