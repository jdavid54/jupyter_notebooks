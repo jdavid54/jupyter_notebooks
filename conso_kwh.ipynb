{
 "cells": [
  {
   "cell_type": "code",
   "execution_count": 2260,
   "metadata": {},
   "outputs": [],
   "source": [
    "import pandas as pd\n",
    "import numpy as np\n",
    "import matplotlib.pyplot as plt\n",
    "import matplotlib.dates as mdates\n",
    "import matplotlib.ticker as ticker\n",
    "from matplotlib.axis import Axis\n",
    "import datetime as dt\n",
    "\n",
    "#plt.style.use(['science', 'notebook'])\n",
    "#%matplotlib inline\n"
   ]
  },
  {
   "cell_type": "code",
   "execution_count": 2261,
   "metadata": {},
   "outputs": [],
   "source": [
    "data_file = \"conso.txt\""
   ]
  },
  {
   "cell_type": "code",
   "execution_count": 2262,
   "metadata": {},
   "outputs": [],
   "source": [
    "def read_text(filename):\n",
    "    f = open(filename, \"r\")\n",
    "    text = f.readlines()\n",
    "    f.close()\n",
    "    print(text)\n",
    "\n",
    "def save_text(filename):\n",
    "    f = open(filename, \"w\")\n",
    "    f.write(text)\n",
    "    f.close()\n",
    "\n",
    "\n",
    "#read_text(data_file)\n",
    "def get_data(filename):    \n",
    "    data = pd.read_csv(filename)\n",
    "    #data['time'] = pd.to_datetime(data['time'])  #.dt.tz_convert(None)\n",
    "    #data.info()\n",
    "    #print(data.tail(5))\n",
    "    return data\n"
   ]
  },
  {
   "cell_type": "code",
   "execution_count": 2263,
   "metadata": {},
   "outputs": [],
   "source": [
    "text='test'\n",
    "filename='text.txt'\n",
    "#save_text(filename)"
   ]
  },
  {
   "cell_type": "code",
   "execution_count": 2264,
   "metadata": {},
   "outputs": [
    {
     "name": "stdout",
     "output_type": "stream",
     "text": [
      "<class 'pandas.core.frame.DataFrame'>\n",
      "RangeIndex: 1013 entries, 0 to 1012\n",
      "Data columns (total 1 columns):\n",
      " #   Column  Non-Null Count  Dtype  \n",
      "---  ------  --------------  -----  \n",
      " 0   Conso   1013 non-null   float64\n",
      "dtypes: float64(1)\n",
      "memory usage: 8.0 KB\n"
     ]
    }
   ],
   "source": [
    "# read data with pandas\n",
    "data = get_data(data_file)\n",
    "data.info()\n"
   ]
  },
  {
   "cell_type": "code",
   "execution_count": 2265,
   "metadata": {},
   "outputs": [
    {
     "data": {
      "text/html": [
       "<div>\n",
       "<style scoped>\n",
       "    .dataframe tbody tr th:only-of-type {\n",
       "        vertical-align: middle;\n",
       "    }\n",
       "\n",
       "    .dataframe tbody tr th {\n",
       "        vertical-align: top;\n",
       "    }\n",
       "\n",
       "    .dataframe thead th {\n",
       "        text-align: right;\n",
       "    }\n",
       "</style>\n",
       "<table border=\"1\" class=\"dataframe\">\n",
       "  <thead>\n",
       "    <tr style=\"text-align: right;\">\n",
       "      <th></th>\n",
       "      <th>Conso</th>\n",
       "      <th>interval</th>\n",
       "    </tr>\n",
       "  </thead>\n",
       "  <tbody>\n",
       "    <tr>\n",
       "      <th>0</th>\n",
       "      <td>0.19</td>\n",
       "      <td>18947.368421</td>\n",
       "    </tr>\n",
       "    <tr>\n",
       "      <th>1</th>\n",
       "      <td>0.19</td>\n",
       "      <td>18947.368421</td>\n",
       "    </tr>\n",
       "    <tr>\n",
       "      <th>2</th>\n",
       "      <td>0.19</td>\n",
       "      <td>18947.368421</td>\n",
       "    </tr>\n",
       "    <tr>\n",
       "      <th>3</th>\n",
       "      <td>0.19</td>\n",
       "      <td>18947.368421</td>\n",
       "    </tr>\n",
       "    <tr>\n",
       "      <th>4</th>\n",
       "      <td>0.19</td>\n",
       "      <td>18947.368421</td>\n",
       "    </tr>\n",
       "    <tr>\n",
       "      <th>...</th>\n",
       "      <td>...</td>\n",
       "      <td>...</td>\n",
       "    </tr>\n",
       "    <tr>\n",
       "      <th>1008</th>\n",
       "      <td>0.16</td>\n",
       "      <td>22500.000000</td>\n",
       "    </tr>\n",
       "    <tr>\n",
       "      <th>1009</th>\n",
       "      <td>0.16</td>\n",
       "      <td>22500.000000</td>\n",
       "    </tr>\n",
       "    <tr>\n",
       "      <th>1010</th>\n",
       "      <td>0.17</td>\n",
       "      <td>21176.470588</td>\n",
       "    </tr>\n",
       "    <tr>\n",
       "      <th>1011</th>\n",
       "      <td>0.17</td>\n",
       "      <td>21176.470588</td>\n",
       "    </tr>\n",
       "    <tr>\n",
       "      <th>1012</th>\n",
       "      <td>0.16</td>\n",
       "      <td>22500.000000</td>\n",
       "    </tr>\n",
       "  </tbody>\n",
       "</table>\n",
       "<p>1013 rows × 2 columns</p>\n",
       "</div>"
      ],
      "text/plain": [
       "      Conso      interval\n",
       "0      0.19  18947.368421\n",
       "1      0.19  18947.368421\n",
       "2      0.19  18947.368421\n",
       "3      0.19  18947.368421\n",
       "4      0.19  18947.368421\n",
       "...     ...           ...\n",
       "1008   0.16  22500.000000\n",
       "1009   0.16  22500.000000\n",
       "1010   0.17  21176.470588\n",
       "1011   0.17  21176.470588\n",
       "1012   0.16  22500.000000\n",
       "\n",
       "[1013 rows x 2 columns]"
      ]
     },
     "execution_count": 2265,
     "metadata": {},
     "output_type": "execute_result"
    }
   ],
   "source": [
    "data['interval']=3600/data['Conso']\n",
    "data"
   ]
  },
  {
   "cell_type": "code",
   "execution_count": 2266,
   "metadata": {},
   "outputs": [
    {
     "data": {
      "image/png": "[encoded data removed]",
      "text/plain": [
       "<Figure size 640x480 with 1 Axes>"
      ]
     },
     "metadata": {},
     "output_type": "display_data"
    },
    {
     "data": {
      "text/plain": [
       "<matplotlib.legend.Legend at 0x290a9af2090>"
      ]
     },
     "execution_count": 2266,
     "metadata": {},
     "output_type": "execute_result"
    },
    {
     "data": {
      "image/png": "[encoded data removed]",
      "text/plain": [
       "<Figure size 640x480 with 1 Axes>"
      ]
     },
     "metadata": {},
     "output_type": "display_data"
    }
   ],
   "source": [
    "\n",
    "plt.title('Consommation Linky')\n",
    "plt.plot(data['interval'], color='red',label='Interval')\n",
    "plt.grid()\n",
    "plt.legend()\n",
    "plt.show()\n",
    "plt.plot(data['Conso'], color='red',label='Conso')\n",
    "plt.grid()\n",
    "plt.legend()"
   ]
  },
  {
   "attachments": {},
   "cell_type": "markdown",
   "metadata": {},
   "source": [
    "### conso.csv sur WD6TB mis à jour avec PI4"
   ]
  },
  {
   "cell_type": "code",
   "execution_count": 2267,
   "metadata": {},
   "outputs": [],
   "source": [
    "def get_data2(filename):    \n",
    "    data = pd.read_csv(filename, names=[\"Interval\",\"kWh\"])\n",
    "    return data"
   ]
  },
  {
   "cell_type": "code",
   "execution_count": 2268,
   "metadata": {},
   "outputs": [
    {
     "name": "stdout",
     "output_type": "stream",
     "text": [
      "<class 'pandas.core.frame.DataFrame'>\n",
      "RangeIndex: 168873 entries, 0 to 168872\n",
      "Data columns (total 2 columns):\n",
      " #   Column    Non-Null Count   Dtype  \n",
      "---  ------    --------------   -----  \n",
      " 0   Interval  168873 non-null  int64  \n",
      " 1   kWh       168873 non-null  float64\n",
      "dtypes: float64(1), int64(1)\n",
      "memory usage: 2.6 MB\n"
     ]
    }
   ],
   "source": [
    "old = False\n",
    "\n",
    "if old:\n",
    "    #conso_file = r\"C:\\Users\\jean\\Documents\\conso.csv\"\n",
    "    conso_file = r\"Y:\\Documents\\conso_old.csv\"\n",
    "    conso_file = r\"Y:\\Documents\\conso - Copy (2).csv\"\n",
    "else:\n",
    "    conso_file = r\"Y:\\Documents\\conso.csv\"\n",
    "#old = False\n",
    "conso_data = get_data2(conso_file)\n",
    "conso_data.info()\n"
   ]
  },
  {
   "cell_type": "code",
   "execution_count": 2269,
   "metadata": {},
   "outputs": [
    {
     "data": {
      "text/html": [
       "<div>\n",
       "<style scoped>\n",
       "    .dataframe tbody tr th:only-of-type {\n",
       "        vertical-align: middle;\n",
       "    }\n",
       "\n",
       "    .dataframe tbody tr th {\n",
       "        vertical-align: top;\n",
       "    }\n",
       "\n",
       "    .dataframe thead th {\n",
       "        text-align: right;\n",
       "    }\n",
       "</style>\n",
       "<table border=\"1\" class=\"dataframe\">\n",
       "  <thead>\n",
       "    <tr style=\"text-align: right;\">\n",
       "      <th></th>\n",
       "      <th>Interval</th>\n",
       "      <th>kWh</th>\n",
       "    </tr>\n",
       "  </thead>\n",
       "  <tbody>\n",
       "    <tr>\n",
       "      <th>0</th>\n",
       "      <td>26289</td>\n",
       "      <td>0.14</td>\n",
       "    </tr>\n",
       "    <tr>\n",
       "      <th>1</th>\n",
       "      <td>26243</td>\n",
       "      <td>0.14</td>\n",
       "    </tr>\n",
       "    <tr>\n",
       "      <th>2</th>\n",
       "      <td>25885</td>\n",
       "      <td>0.14</td>\n",
       "    </tr>\n",
       "    <tr>\n",
       "      <th>3</th>\n",
       "      <td>25754</td>\n",
       "      <td>0.14</td>\n",
       "    </tr>\n",
       "    <tr>\n",
       "      <th>4</th>\n",
       "      <td>25774</td>\n",
       "      <td>0.14</td>\n",
       "    </tr>\n",
       "    <tr>\n",
       "      <th>...</th>\n",
       "      <td>...</td>\n",
       "      <td>...</td>\n",
       "    </tr>\n",
       "    <tr>\n",
       "      <th>168868</th>\n",
       "      <td>23193</td>\n",
       "      <td>0.16</td>\n",
       "    </tr>\n",
       "    <tr>\n",
       "      <th>168869</th>\n",
       "      <td>21890</td>\n",
       "      <td>0.16</td>\n",
       "    </tr>\n",
       "    <tr>\n",
       "      <th>168870</th>\n",
       "      <td>23131</td>\n",
       "      <td>0.16</td>\n",
       "    </tr>\n",
       "    <tr>\n",
       "      <th>168871</th>\n",
       "      <td>23751</td>\n",
       "      <td>0.15</td>\n",
       "    </tr>\n",
       "    <tr>\n",
       "      <th>168872</th>\n",
       "      <td>23690</td>\n",
       "      <td>0.15</td>\n",
       "    </tr>\n",
       "  </tbody>\n",
       "</table>\n",
       "<p>168873 rows × 2 columns</p>\n",
       "</div>"
      ],
      "text/plain": [
       "        Interval   kWh\n",
       "0          26289  0.14\n",
       "1          26243  0.14\n",
       "2          25885  0.14\n",
       "3          25754  0.14\n",
       "4          25774  0.14\n",
       "...          ...   ...\n",
       "168868     23193  0.16\n",
       "168869     21890  0.16\n",
       "168870     23131  0.16\n",
       "168871     23751  0.15\n",
       "168872     23690  0.15\n",
       "\n",
       "[168873 rows x 2 columns]"
      ]
     },
     "execution_count": 2269,
     "metadata": {},
     "output_type": "execute_result"
    }
   ],
   "source": [
    "conso_data = conso_data.dropna()\n",
    "conso_data"
   ]
  },
  {
   "cell_type": "code",
   "execution_count": 2270,
   "metadata": {},
   "outputs": [
    {
     "data": {
      "text/plain": [
       "<Axes: >"
      ]
     },
     "execution_count": 2270,
     "metadata": {},
     "output_type": "execute_result"
    },
    {
     "data": {
      "image/png": "[encoded data removed]",
      "text/plain": [
       "<Figure size 640x480 with 1 Axes>"
      ]
     },
     "metadata": {},
     "output_type": "display_data"
    }
   ],
   "source": [
    "conso_data['kWh'].plot()"
   ]
  },
  {
   "cell_type": "code",
   "execution_count": 2271,
   "metadata": {},
   "outputs": [
    {
     "data": {
      "text/html": [
       "<div>\n",
       "<style scoped>\n",
       "    .dataframe tbody tr th:only-of-type {\n",
       "        vertical-align: middle;\n",
       "    }\n",
       "\n",
       "    .dataframe tbody tr th {\n",
       "        vertical-align: top;\n",
       "    }\n",
       "\n",
       "    .dataframe thead th {\n",
       "        text-align: right;\n",
       "    }\n",
       "</style>\n",
       "<table border=\"1\" class=\"dataframe\">\n",
       "  <thead>\n",
       "    <tr style=\"text-align: right;\">\n",
       "      <th></th>\n",
       "      <th>Interval</th>\n",
       "      <th>kWh</th>\n",
       "      <th>sec</th>\n",
       "      <th>Wh</th>\n",
       "      <th>cumul(ms)</th>\n",
       "    </tr>\n",
       "  </thead>\n",
       "  <tbody>\n",
       "    <tr>\n",
       "      <th>0</th>\n",
       "      <td>26289</td>\n",
       "      <td>0.14</td>\n",
       "      <td>26.289</td>\n",
       "      <td>136.939404</td>\n",
       "      <td>26289</td>\n",
       "    </tr>\n",
       "    <tr>\n",
       "      <th>1</th>\n",
       "      <td>26243</td>\n",
       "      <td>0.14</td>\n",
       "      <td>26.243</td>\n",
       "      <td>137.179438</td>\n",
       "      <td>52532</td>\n",
       "    </tr>\n",
       "    <tr>\n",
       "      <th>2</th>\n",
       "      <td>25885</td>\n",
       "      <td>0.14</td>\n",
       "      <td>25.885</td>\n",
       "      <td>139.076685</td>\n",
       "      <td>78417</td>\n",
       "    </tr>\n",
       "    <tr>\n",
       "      <th>3</th>\n",
       "      <td>25754</td>\n",
       "      <td>0.14</td>\n",
       "      <td>25.754</td>\n",
       "      <td>139.784111</td>\n",
       "      <td>104171</td>\n",
       "    </tr>\n",
       "    <tr>\n",
       "      <th>4</th>\n",
       "      <td>25774</td>\n",
       "      <td>0.14</td>\n",
       "      <td>25.774</td>\n",
       "      <td>139.675642</td>\n",
       "      <td>129945</td>\n",
       "    </tr>\n",
       "    <tr>\n",
       "      <th>...</th>\n",
       "      <td>...</td>\n",
       "      <td>...</td>\n",
       "      <td>...</td>\n",
       "      <td>...</td>\n",
       "      <td>...</td>\n",
       "    </tr>\n",
       "    <tr>\n",
       "      <th>168868</th>\n",
       "      <td>23193</td>\n",
       "      <td>0.16</td>\n",
       "      <td>23.193</td>\n",
       "      <td>155.219247</td>\n",
       "      <td>4001916596</td>\n",
       "    </tr>\n",
       "    <tr>\n",
       "      <th>168869</th>\n",
       "      <td>21890</td>\n",
       "      <td>0.16</td>\n",
       "      <td>21.890</td>\n",
       "      <td>164.458657</td>\n",
       "      <td>4001938486</td>\n",
       "    </tr>\n",
       "    <tr>\n",
       "      <th>168870</th>\n",
       "      <td>23131</td>\n",
       "      <td>0.16</td>\n",
       "      <td>23.131</td>\n",
       "      <td>155.635295</td>\n",
       "      <td>4001961617</td>\n",
       "    </tr>\n",
       "    <tr>\n",
       "      <th>168871</th>\n",
       "      <td>23751</td>\n",
       "      <td>0.15</td>\n",
       "      <td>23.751</td>\n",
       "      <td>151.572565</td>\n",
       "      <td>4001985368</td>\n",
       "    </tr>\n",
       "    <tr>\n",
       "      <th>168872</th>\n",
       "      <td>23690</td>\n",
       "      <td>0.15</td>\n",
       "      <td>23.690</td>\n",
       "      <td>151.962854</td>\n",
       "      <td>4002009058</td>\n",
       "    </tr>\n",
       "  </tbody>\n",
       "</table>\n",
       "<p>168873 rows × 5 columns</p>\n",
       "</div>"
      ],
      "text/plain": [
       "        Interval   kWh     sec          Wh   cumul(ms)\n",
       "0          26289  0.14  26.289  136.939404       26289\n",
       "1          26243  0.14  26.243  137.179438       52532\n",
       "2          25885  0.14  25.885  139.076685       78417\n",
       "3          25754  0.14  25.754  139.784111      104171\n",
       "4          25774  0.14  25.774  139.675642      129945\n",
       "...          ...   ...     ...         ...         ...\n",
       "168868     23193  0.16  23.193  155.219247  4001916596\n",
       "168869     21890  0.16  21.890  164.458657  4001938486\n",
       "168870     23131  0.16  23.131  155.635295  4001961617\n",
       "168871     23751  0.15  23.751  151.572565  4001985368\n",
       "168872     23690  0.15  23.690  151.962854  4002009058\n",
       "\n",
       "[168873 rows x 5 columns]"
      ]
     },
     "execution_count": 2271,
     "metadata": {},
     "output_type": "execute_result"
    }
   ],
   "source": [
    "conso_data['sec']=conso_data['Interval']/1000\n",
    "conso_data['Wh']=3600000/conso_data['Interval']\n",
    "conso_data['cumul(ms)']=conso_data['Interval'].cumsum(axis=0)\n",
    "\n",
    "conso_data"
   ]
  },
  {
   "cell_type": "code",
   "execution_count": 2272,
   "metadata": {},
   "outputs": [
    {
     "data": {
      "text/plain": [
       "168872"
      ]
     },
     "execution_count": 2272,
     "metadata": {},
     "output_type": "execute_result"
    }
   ],
   "source": [
    "# index dernier echantillon\n",
    "l=len(conso_data)-1\n",
    "l"
   ]
  },
  {
   "cell_type": "code",
   "execution_count": 2273,
   "metadata": {},
   "outputs": [
    {
     "data": {
      "text/plain": [
       "4002009058000"
      ]
     },
     "execution_count": 2273,
     "metadata": {},
     "output_type": "execute_result"
    }
   ],
   "source": [
    "# cumtime = int(conso_data['cumul(ms)'].tail(1).values[0]*1000)\n",
    "cumtime= int(conso_data._get_value(l,'cumul(ms)')*1000)\n",
    "cumtime"
   ]
  },
  {
   "cell_type": "code",
   "execution_count": 2274,
   "metadata": {},
   "outputs": [
    {
     "data": {
      "text/plain": [
       "datetime.datetime(2024, 3, 7, 1, 47, 23, 40098)"
      ]
     },
     "execution_count": 2274,
     "metadata": {},
     "output_type": "execute_result"
    }
   ],
   "source": [
    "from datetime import datetime, timedelta\n",
    "now = datetime.now()\n",
    "# conso.csv dynamique\n",
    "base = now - timedelta(microseconds=cumtime)\n",
    "base  # date de début\n"
   ]
  },
  {
   "cell_type": "code",
   "execution_count": 2275,
   "metadata": {},
   "outputs": [
    {
     "data": {
      "text/plain": [
       "False"
      ]
     },
     "execution_count": 2275,
     "metadata": {},
     "output_type": "execute_result"
    }
   ],
   "source": [
    "old"
   ]
  },
  {
   "cell_type": "code",
   "execution_count": 2276,
   "metadata": {},
   "outputs": [
    {
     "name": "stdout",
     "output_type": "stream",
     "text": [
      "<class 'pandas.core.frame.DataFrame'>\n",
      "RangeIndex: 168873 entries, 0 to 168872\n",
      "Data columns (total 6 columns):\n",
      " #   Column     Non-Null Count   Dtype         \n",
      "---  ------     --------------   -----         \n",
      " 0   Interval   168873 non-null  int64         \n",
      " 1   kWh        168873 non-null  float64       \n",
      " 2   sec        168873 non-null  float64       \n",
      " 3   Wh         168873 non-null  float64       \n",
      " 4   cumul(ms)  168873 non-null  int64         \n",
      " 5   dates      168873 non-null  datetime64[ns]\n",
      "dtypes: datetime64[ns](1), float64(3), int64(2)\n",
      "memory usage: 7.7 MB\n"
     ]
    }
   ],
   "source": [
    "if old:\n",
    "    base = dt.datetime(2023, 8, 1, 10, 45, 0) - timedelta(microseconds=cumtime)\n",
    "\n",
    "conso_data['dates'] = [base + dt.timedelta(microseconds=t*1000) for t in conso_data['cumul(ms)']]\n",
    "conso_data.info()\n"
   ]
  },
  {
   "cell_type": "code",
   "execution_count": 2277,
   "metadata": {},
   "outputs": [
    {
     "data": {
      "text/html": [
       "<div>\n",
       "<style scoped>\n",
       "    .dataframe tbody tr th:only-of-type {\n",
       "        vertical-align: middle;\n",
       "    }\n",
       "\n",
       "    .dataframe tbody tr th {\n",
       "        vertical-align: top;\n",
       "    }\n",
       "\n",
       "    .dataframe thead th {\n",
       "        text-align: right;\n",
       "    }\n",
       "</style>\n",
       "<table border=\"1\" class=\"dataframe\">\n",
       "  <thead>\n",
       "    <tr style=\"text-align: right;\">\n",
       "      <th></th>\n",
       "      <th>Interval</th>\n",
       "      <th>kWh</th>\n",
       "      <th>sec</th>\n",
       "      <th>Wh</th>\n",
       "      <th>cumul(ms)</th>\n",
       "      <th>dates</th>\n",
       "      <th>days</th>\n",
       "    </tr>\n",
       "  </thead>\n",
       "  <tbody>\n",
       "    <tr>\n",
       "      <th>0</th>\n",
       "      <td>26289</td>\n",
       "      <td>0.14</td>\n",
       "      <td>26.289</td>\n",
       "      <td>136.939404</td>\n",
       "      <td>26289</td>\n",
       "      <td>2024-03-07 01:47:49.329098</td>\n",
       "      <td>07/03/2024</td>\n",
       "    </tr>\n",
       "    <tr>\n",
       "      <th>1</th>\n",
       "      <td>26243</td>\n",
       "      <td>0.14</td>\n",
       "      <td>26.243</td>\n",
       "      <td>137.179438</td>\n",
       "      <td>52532</td>\n",
       "      <td>2024-03-07 01:48:15.572098</td>\n",
       "      <td>07/03/2024</td>\n",
       "    </tr>\n",
       "    <tr>\n",
       "      <th>2</th>\n",
       "      <td>25885</td>\n",
       "      <td>0.14</td>\n",
       "      <td>25.885</td>\n",
       "      <td>139.076685</td>\n",
       "      <td>78417</td>\n",
       "      <td>2024-03-07 01:48:41.457098</td>\n",
       "      <td>07/03/2024</td>\n",
       "    </tr>\n",
       "    <tr>\n",
       "      <th>3</th>\n",
       "      <td>25754</td>\n",
       "      <td>0.14</td>\n",
       "      <td>25.754</td>\n",
       "      <td>139.784111</td>\n",
       "      <td>104171</td>\n",
       "      <td>2024-03-07 01:49:07.211098</td>\n",
       "      <td>07/03/2024</td>\n",
       "    </tr>\n",
       "    <tr>\n",
       "      <th>4</th>\n",
       "      <td>25774</td>\n",
       "      <td>0.14</td>\n",
       "      <td>25.774</td>\n",
       "      <td>139.675642</td>\n",
       "      <td>129945</td>\n",
       "      <td>2024-03-07 01:49:32.985098</td>\n",
       "      <td>07/03/2024</td>\n",
       "    </tr>\n",
       "    <tr>\n",
       "      <th>...</th>\n",
       "      <td>...</td>\n",
       "      <td>...</td>\n",
       "      <td>...</td>\n",
       "      <td>...</td>\n",
       "      <td>...</td>\n",
       "      <td>...</td>\n",
       "      <td>...</td>\n",
       "    </tr>\n",
       "    <tr>\n",
       "      <th>168868</th>\n",
       "      <td>23193</td>\n",
       "      <td>0.16</td>\n",
       "      <td>23.193</td>\n",
       "      <td>155.219247</td>\n",
       "      <td>4001916596</td>\n",
       "      <td>2024-04-22 09:25:59.636098</td>\n",
       "      <td>22/04/2024</td>\n",
       "    </tr>\n",
       "    <tr>\n",
       "      <th>168869</th>\n",
       "      <td>21890</td>\n",
       "      <td>0.16</td>\n",
       "      <td>21.890</td>\n",
       "      <td>164.458657</td>\n",
       "      <td>4001938486</td>\n",
       "      <td>2024-04-22 09:26:21.526098</td>\n",
       "      <td>22/04/2024</td>\n",
       "    </tr>\n",
       "    <tr>\n",
       "      <th>168870</th>\n",
       "      <td>23131</td>\n",
       "      <td>0.16</td>\n",
       "      <td>23.131</td>\n",
       "      <td>155.635295</td>\n",
       "      <td>4001961617</td>\n",
       "      <td>2024-04-22 09:26:44.657098</td>\n",
       "      <td>22/04/2024</td>\n",
       "    </tr>\n",
       "    <tr>\n",
       "      <th>168871</th>\n",
       "      <td>23751</td>\n",
       "      <td>0.15</td>\n",
       "      <td>23.751</td>\n",
       "      <td>151.572565</td>\n",
       "      <td>4001985368</td>\n",
       "      <td>2024-04-22 09:27:08.408098</td>\n",
       "      <td>22/04/2024</td>\n",
       "    </tr>\n",
       "    <tr>\n",
       "      <th>168872</th>\n",
       "      <td>23690</td>\n",
       "      <td>0.15</td>\n",
       "      <td>23.690</td>\n",
       "      <td>151.962854</td>\n",
       "      <td>4002009058</td>\n",
       "      <td>2024-04-22 09:27:32.098098</td>\n",
       "      <td>22/04/2024</td>\n",
       "    </tr>\n",
       "  </tbody>\n",
       "</table>\n",
       "<p>168873 rows × 7 columns</p>\n",
       "</div>"
      ],
      "text/plain": [
       "        Interval   kWh     sec          Wh   cumul(ms)  \\\n",
       "0          26289  0.14  26.289  136.939404       26289   \n",
       "1          26243  0.14  26.243  137.179438       52532   \n",
       "2          25885  0.14  25.885  139.076685       78417   \n",
       "3          25754  0.14  25.754  139.784111      104171   \n",
       "4          25774  0.14  25.774  139.675642      129945   \n",
       "...          ...   ...     ...         ...         ...   \n",
       "168868     23193  0.16  23.193  155.219247  4001916596   \n",
       "168869     21890  0.16  21.890  164.458657  4001938486   \n",
       "168870     23131  0.16  23.131  155.635295  4001961617   \n",
       "168871     23751  0.15  23.751  151.572565  4001985368   \n",
       "168872     23690  0.15  23.690  151.962854  4002009058   \n",
       "\n",
       "                            dates        days  \n",
       "0      2024-03-07 01:47:49.329098  07/03/2024  \n",
       "1      2024-03-07 01:48:15.572098  07/03/2024  \n",
       "2      2024-03-07 01:48:41.457098  07/03/2024  \n",
       "3      2024-03-07 01:49:07.211098  07/03/2024  \n",
       "4      2024-03-07 01:49:32.985098  07/03/2024  \n",
       "...                           ...         ...  \n",
       "168868 2024-04-22 09:25:59.636098  22/04/2024  \n",
       "168869 2024-04-22 09:26:21.526098  22/04/2024  \n",
       "168870 2024-04-22 09:26:44.657098  22/04/2024  \n",
       "168871 2024-04-22 09:27:08.408098  22/04/2024  \n",
       "168872 2024-04-22 09:27:32.098098  22/04/2024  \n",
       "\n",
       "[168873 rows x 7 columns]"
      ]
     },
     "execution_count": 2277,
     "metadata": {},
     "output_type": "execute_result"
    }
   ],
   "source": [
    "conso_data['days']= [d.strftime('%d/%m/%Y') for d in conso_data['dates']]    #[str(d.month)+'-'+str(d.day) for d in conso_data['dates']]\n",
    "conso_data"
   ]
  },
  {
   "cell_type": "code",
   "execution_count": 2278,
   "metadata": {},
   "outputs": [
    {
     "data": {
      "text/plain": [
       "(   Interval   kWh     sec          Wh  cumul(ms)                      dates  \\\n",
       " 0     26289  0.14  26.289  136.939404      26289 2024-03-07 01:47:49.329098   \n",
       " \n",
       "          days  \n",
       " 0  07/03/2024  ,\n",
       "         Interval   kWh    sec          Wh   cumul(ms)  \\\n",
       " 168872     23690  0.15  23.69  151.962854  4002009058   \n",
       " \n",
       "                             dates        days  \n",
       " 168872 2024-04-22 09:27:32.098098  22/04/2024  )"
      ]
     },
     "execution_count": 2278,
     "metadata": {},
     "output_type": "execute_result"
    }
   ],
   "source": [
    "#conso_data\n",
    "conso_data.head(1),conso_data.tail(1)"
   ]
  },
  {
   "cell_type": "code",
   "execution_count": 2279,
   "metadata": {},
   "outputs": [
    {
     "name": "stderr",
     "output_type": "stream",
     "text": [
      "C:\\Users\\jean\\AppData\\Roaming\\Python\\Python311\\site-packages\\IPython\\core\\displayhook.py:281: UserWarning: Output cache limit (currently 1000 entries) hit.\n",
      "Flushing oldest 200 entries.\n",
      "  warn('Output cache limit (currently {sz} entries) hit.\\n'\n"
     ]
    },
    {
     "data": {
      "text/plain": [
       "('22/04/2024', 4, 2024)"
      ]
     },
     "execution_count": 2279,
     "metadata": {},
     "output_type": "execute_result"
    }
   ],
   "source": [
    "# tranche journalière\n",
    "now = datetime.now()\n",
    "month = now.month\n",
    "year = now.year\n",
    "day = now.strftime('%d/%m/%Y')    #str(now.month)+'-'+str(now.day)\n",
    "day, month, year"
   ]
  },
  {
   "cell_type": "code",
   "execution_count": 2280,
   "metadata": {},
   "outputs": [
    {
     "data": {
      "text/html": [
       "<div>\n",
       "<style scoped>\n",
       "    .dataframe tbody tr th:only-of-type {\n",
       "        vertical-align: middle;\n",
       "    }\n",
       "\n",
       "    .dataframe tbody tr th {\n",
       "        vertical-align: top;\n",
       "    }\n",
       "\n",
       "    .dataframe thead th {\n",
       "        text-align: right;\n",
       "    }\n",
       "</style>\n",
       "<table border=\"1\" class=\"dataframe\">\n",
       "  <thead>\n",
       "    <tr style=\"text-align: right;\">\n",
       "      <th></th>\n",
       "      <th>Interval</th>\n",
       "      <th>kWh</th>\n",
       "      <th>sec</th>\n",
       "      <th>Wh</th>\n",
       "      <th>cumul(ms)</th>\n",
       "      <th>dates</th>\n",
       "      <th>days</th>\n",
       "    </tr>\n",
       "  </thead>\n",
       "  <tbody>\n",
       "    <tr>\n",
       "      <th>167728</th>\n",
       "      <td>29084</td>\n",
       "      <td>0.12</td>\n",
       "      <td>29.084</td>\n",
       "      <td>123.779398</td>\n",
       "      <td>3967960280</td>\n",
       "      <td>2024-04-22 00:00:03.320098</td>\n",
       "      <td>22/04/2024</td>\n",
       "    </tr>\n",
       "    <tr>\n",
       "      <th>167729</th>\n",
       "      <td>27624</td>\n",
       "      <td>0.13</td>\n",
       "      <td>27.624</td>\n",
       "      <td>130.321460</td>\n",
       "      <td>3967987904</td>\n",
       "      <td>2024-04-22 00:00:30.944098</td>\n",
       "      <td>22/04/2024</td>\n",
       "    </tr>\n",
       "    <tr>\n",
       "      <th>167730</th>\n",
       "      <td>26484</td>\n",
       "      <td>0.14</td>\n",
       "      <td>26.484</td>\n",
       "      <td>135.931128</td>\n",
       "      <td>3968014388</td>\n",
       "      <td>2024-04-22 00:00:57.428098</td>\n",
       "      <td>22/04/2024</td>\n",
       "    </tr>\n",
       "    <tr>\n",
       "      <th>167731</th>\n",
       "      <td>26860</td>\n",
       "      <td>0.13</td>\n",
       "      <td>26.860</td>\n",
       "      <td>134.028295</td>\n",
       "      <td>3968041248</td>\n",
       "      <td>2024-04-22 00:01:24.288098</td>\n",
       "      <td>22/04/2024</td>\n",
       "    </tr>\n",
       "    <tr>\n",
       "      <th>167732</th>\n",
       "      <td>28023</td>\n",
       "      <td>0.13</td>\n",
       "      <td>28.023</td>\n",
       "      <td>128.465903</td>\n",
       "      <td>3968069271</td>\n",
       "      <td>2024-04-22 00:01:52.311098</td>\n",
       "      <td>22/04/2024</td>\n",
       "    </tr>\n",
       "    <tr>\n",
       "      <th>...</th>\n",
       "      <td>...</td>\n",
       "      <td>...</td>\n",
       "      <td>...</td>\n",
       "      <td>...</td>\n",
       "      <td>...</td>\n",
       "      <td>...</td>\n",
       "      <td>...</td>\n",
       "    </tr>\n",
       "    <tr>\n",
       "      <th>168868</th>\n",
       "      <td>23193</td>\n",
       "      <td>0.16</td>\n",
       "      <td>23.193</td>\n",
       "      <td>155.219247</td>\n",
       "      <td>4001916596</td>\n",
       "      <td>2024-04-22 09:25:59.636098</td>\n",
       "      <td>22/04/2024</td>\n",
       "    </tr>\n",
       "    <tr>\n",
       "      <th>168869</th>\n",
       "      <td>21890</td>\n",
       "      <td>0.16</td>\n",
       "      <td>21.890</td>\n",
       "      <td>164.458657</td>\n",
       "      <td>4001938486</td>\n",
       "      <td>2024-04-22 09:26:21.526098</td>\n",
       "      <td>22/04/2024</td>\n",
       "    </tr>\n",
       "    <tr>\n",
       "      <th>168870</th>\n",
       "      <td>23131</td>\n",
       "      <td>0.16</td>\n",
       "      <td>23.131</td>\n",
       "      <td>155.635295</td>\n",
       "      <td>4001961617</td>\n",
       "      <td>2024-04-22 09:26:44.657098</td>\n",
       "      <td>22/04/2024</td>\n",
       "    </tr>\n",
       "    <tr>\n",
       "      <th>168871</th>\n",
       "      <td>23751</td>\n",
       "      <td>0.15</td>\n",
       "      <td>23.751</td>\n",
       "      <td>151.572565</td>\n",
       "      <td>4001985368</td>\n",
       "      <td>2024-04-22 09:27:08.408098</td>\n",
       "      <td>22/04/2024</td>\n",
       "    </tr>\n",
       "    <tr>\n",
       "      <th>168872</th>\n",
       "      <td>23690</td>\n",
       "      <td>0.15</td>\n",
       "      <td>23.690</td>\n",
       "      <td>151.962854</td>\n",
       "      <td>4002009058</td>\n",
       "      <td>2024-04-22 09:27:32.098098</td>\n",
       "      <td>22/04/2024</td>\n",
       "    </tr>\n",
       "  </tbody>\n",
       "</table>\n",
       "<p>1145 rows × 7 columns</p>\n",
       "</div>"
      ],
      "text/plain": [
       "        Interval   kWh     sec          Wh   cumul(ms)  \\\n",
       "167728     29084  0.12  29.084  123.779398  3967960280   \n",
       "167729     27624  0.13  27.624  130.321460  3967987904   \n",
       "167730     26484  0.14  26.484  135.931128  3968014388   \n",
       "167731     26860  0.13  26.860  134.028295  3968041248   \n",
       "167732     28023  0.13  28.023  128.465903  3968069271   \n",
       "...          ...   ...     ...         ...         ...   \n",
       "168868     23193  0.16  23.193  155.219247  4001916596   \n",
       "168869     21890  0.16  21.890  164.458657  4001938486   \n",
       "168870     23131  0.16  23.131  155.635295  4001961617   \n",
       "168871     23751  0.15  23.751  151.572565  4001985368   \n",
       "168872     23690  0.15  23.690  151.962854  4002009058   \n",
       "\n",
       "                            dates        days  \n",
       "167728 2024-04-22 00:00:03.320098  22/04/2024  \n",
       "167729 2024-04-22 00:00:30.944098  22/04/2024  \n",
       "167730 2024-04-22 00:00:57.428098  22/04/2024  \n",
       "167731 2024-04-22 00:01:24.288098  22/04/2024  \n",
       "167732 2024-04-22 00:01:52.311098  22/04/2024  \n",
       "...                           ...         ...  \n",
       "168868 2024-04-22 09:25:59.636098  22/04/2024  \n",
       "168869 2024-04-22 09:26:21.526098  22/04/2024  \n",
       "168870 2024-04-22 09:26:44.657098  22/04/2024  \n",
       "168871 2024-04-22 09:27:08.408098  22/04/2024  \n",
       "168872 2024-04-22 09:27:32.098098  22/04/2024  \n",
       "\n",
       "[1145 rows x 7 columns]"
      ]
     },
     "execution_count": 2280,
     "metadata": {},
     "output_type": "execute_result"
    }
   ],
   "source": [
    "conso_data[conso_data['days']==day]"
   ]
  },
  {
   "cell_type": "code",
   "execution_count": 2281,
   "metadata": {},
   "outputs": [
    {
     "data": {
      "text/plain": [
       "'22/04/2024'"
      ]
     },
     "execution_count": 2281,
     "metadata": {},
     "output_type": "execute_result"
    }
   ],
   "source": [
    "day"
   ]
  },
  {
   "cell_type": "code",
   "execution_count": 2282,
   "metadata": {},
   "outputs": [
    {
     "data": {
      "text/html": [
       "<div>\n",
       "<style scoped>\n",
       "    .dataframe tbody tr th:only-of-type {\n",
       "        vertical-align: middle;\n",
       "    }\n",
       "\n",
       "    .dataframe tbody tr th {\n",
       "        vertical-align: top;\n",
       "    }\n",
       "\n",
       "    .dataframe thead th {\n",
       "        text-align: right;\n",
       "    }\n",
       "</style>\n",
       "<table border=\"1\" class=\"dataframe\">\n",
       "  <thead>\n",
       "    <tr style=\"text-align: right;\">\n",
       "      <th></th>\n",
       "      <th>Interval</th>\n",
       "      <th>kWh</th>\n",
       "      <th>sec</th>\n",
       "      <th>Wh</th>\n",
       "      <th>cumul(ms)</th>\n",
       "      <th>dates</th>\n",
       "      <th>days</th>\n",
       "    </tr>\n",
       "  </thead>\n",
       "  <tbody>\n",
       "    <tr>\n",
       "      <th>0</th>\n",
       "      <td>26289</td>\n",
       "      <td>0.14</td>\n",
       "      <td>26.289</td>\n",
       "      <td>136.939404</td>\n",
       "      <td>26289</td>\n",
       "      <td>2024-03-07 01:47:49.329098</td>\n",
       "      <td>07/03/2024</td>\n",
       "    </tr>\n",
       "    <tr>\n",
       "      <th>1</th>\n",
       "      <td>26243</td>\n",
       "      <td>0.14</td>\n",
       "      <td>26.243</td>\n",
       "      <td>137.179438</td>\n",
       "      <td>52532</td>\n",
       "      <td>2024-03-07 01:48:15.572098</td>\n",
       "      <td>07/03/2024</td>\n",
       "    </tr>\n",
       "    <tr>\n",
       "      <th>2</th>\n",
       "      <td>25885</td>\n",
       "      <td>0.14</td>\n",
       "      <td>25.885</td>\n",
       "      <td>139.076685</td>\n",
       "      <td>78417</td>\n",
       "      <td>2024-03-07 01:48:41.457098</td>\n",
       "      <td>07/03/2024</td>\n",
       "    </tr>\n",
       "    <tr>\n",
       "      <th>3</th>\n",
       "      <td>25754</td>\n",
       "      <td>0.14</td>\n",
       "      <td>25.754</td>\n",
       "      <td>139.784111</td>\n",
       "      <td>104171</td>\n",
       "      <td>2024-03-07 01:49:07.211098</td>\n",
       "      <td>07/03/2024</td>\n",
       "    </tr>\n",
       "    <tr>\n",
       "      <th>4</th>\n",
       "      <td>25774</td>\n",
       "      <td>0.14</td>\n",
       "      <td>25.774</td>\n",
       "      <td>139.675642</td>\n",
       "      <td>129945</td>\n",
       "      <td>2024-03-07 01:49:32.985098</td>\n",
       "      <td>07/03/2024</td>\n",
       "    </tr>\n",
       "    <tr>\n",
       "      <th>...</th>\n",
       "      <td>...</td>\n",
       "      <td>...</td>\n",
       "      <td>...</td>\n",
       "      <td>...</td>\n",
       "      <td>...</td>\n",
       "      <td>...</td>\n",
       "      <td>...</td>\n",
       "    </tr>\n",
       "    <tr>\n",
       "      <th>168868</th>\n",
       "      <td>23193</td>\n",
       "      <td>0.16</td>\n",
       "      <td>23.193</td>\n",
       "      <td>155.219247</td>\n",
       "      <td>4001916596</td>\n",
       "      <td>2024-04-22 09:25:59.636098</td>\n",
       "      <td>22/04/2024</td>\n",
       "    </tr>\n",
       "    <tr>\n",
       "      <th>168869</th>\n",
       "      <td>21890</td>\n",
       "      <td>0.16</td>\n",
       "      <td>21.890</td>\n",
       "      <td>164.458657</td>\n",
       "      <td>4001938486</td>\n",
       "      <td>2024-04-22 09:26:21.526098</td>\n",
       "      <td>22/04/2024</td>\n",
       "    </tr>\n",
       "    <tr>\n",
       "      <th>168870</th>\n",
       "      <td>23131</td>\n",
       "      <td>0.16</td>\n",
       "      <td>23.131</td>\n",
       "      <td>155.635295</td>\n",
       "      <td>4001961617</td>\n",
       "      <td>2024-04-22 09:26:44.657098</td>\n",
       "      <td>22/04/2024</td>\n",
       "    </tr>\n",
       "    <tr>\n",
       "      <th>168871</th>\n",
       "      <td>23751</td>\n",
       "      <td>0.15</td>\n",
       "      <td>23.751</td>\n",
       "      <td>151.572565</td>\n",
       "      <td>4001985368</td>\n",
       "      <td>2024-04-22 09:27:08.408098</td>\n",
       "      <td>22/04/2024</td>\n",
       "    </tr>\n",
       "    <tr>\n",
       "      <th>168872</th>\n",
       "      <td>23690</td>\n",
       "      <td>0.15</td>\n",
       "      <td>23.690</td>\n",
       "      <td>151.962854</td>\n",
       "      <td>4002009058</td>\n",
       "      <td>2024-04-22 09:27:32.098098</td>\n",
       "      <td>22/04/2024</td>\n",
       "    </tr>\n",
       "  </tbody>\n",
       "</table>\n",
       "<p>168873 rows × 7 columns</p>\n",
       "</div>"
      ],
      "text/plain": [
       "        Interval   kWh     sec          Wh   cumul(ms)  \\\n",
       "0          26289  0.14  26.289  136.939404       26289   \n",
       "1          26243  0.14  26.243  137.179438       52532   \n",
       "2          25885  0.14  25.885  139.076685       78417   \n",
       "3          25754  0.14  25.754  139.784111      104171   \n",
       "4          25774  0.14  25.774  139.675642      129945   \n",
       "...          ...   ...     ...         ...         ...   \n",
       "168868     23193  0.16  23.193  155.219247  4001916596   \n",
       "168869     21890  0.16  21.890  164.458657  4001938486   \n",
       "168870     23131  0.16  23.131  155.635295  4001961617   \n",
       "168871     23751  0.15  23.751  151.572565  4001985368   \n",
       "168872     23690  0.15  23.690  151.962854  4002009058   \n",
       "\n",
       "                            dates        days  \n",
       "0      2024-03-07 01:47:49.329098  07/03/2024  \n",
       "1      2024-03-07 01:48:15.572098  07/03/2024  \n",
       "2      2024-03-07 01:48:41.457098  07/03/2024  \n",
       "3      2024-03-07 01:49:07.211098  07/03/2024  \n",
       "4      2024-03-07 01:49:32.985098  07/03/2024  \n",
       "...                           ...         ...  \n",
       "168868 2024-04-22 09:25:59.636098  22/04/2024  \n",
       "168869 2024-04-22 09:26:21.526098  22/04/2024  \n",
       "168870 2024-04-22 09:26:44.657098  22/04/2024  \n",
       "168871 2024-04-22 09:27:08.408098  22/04/2024  \n",
       "168872 2024-04-22 09:27:32.098098  22/04/2024  \n",
       "\n",
       "[168873 rows x 7 columns]"
      ]
     },
     "execution_count": 2282,
     "metadata": {},
     "output_type": "execute_result"
    }
   ],
   "source": [
    "conso_data"
   ]
  },
  {
   "cell_type": "code",
   "execution_count": 2283,
   "metadata": {},
   "outputs": [
    {
     "data": {
      "text/plain": [
       "<pandas.core.groupby.generic.DataFrameGroupBy object at 0x00000290A6CF54D0>"
      ]
     },
     "execution_count": 2283,
     "metadata": {},
     "output_type": "execute_result"
    }
   ],
   "source": [
    "# group by day\n",
    "grouped = conso_data[['days','kWh']].groupby('days', sort=False)\n",
    "'''conso_graph=[]\n",
    "for name, group in grouped:\n",
    "    if name=='01/04/2024':print(group)\n",
    "    #print(\"\\n\", name, len(group)/1000)\n",
    "    conso_graph.append((name,len(group)/1000))'''\n",
    "grouped\n"
   ]
  },
  {
   "cell_type": "code",
   "execution_count": 2284,
   "metadata": {},
   "outputs": [
    {
     "data": {
      "text/html": [
       "<div>\n",
       "<style scoped>\n",
       "    .dataframe tbody tr th:only-of-type {\n",
       "        vertical-align: middle;\n",
       "    }\n",
       "\n",
       "    .dataframe tbody tr th {\n",
       "        vertical-align: top;\n",
       "    }\n",
       "\n",
       "    .dataframe thead th {\n",
       "        text-align: right;\n",
       "    }\n",
       "</style>\n",
       "<table border=\"1\" class=\"dataframe\">\n",
       "  <thead>\n",
       "    <tr style=\"text-align: right;\">\n",
       "      <th></th>\n",
       "      <th>kWh</th>\n",
       "    </tr>\n",
       "    <tr>\n",
       "      <th>days</th>\n",
       "      <th></th>\n",
       "    </tr>\n",
       "  </thead>\n",
       "  <tbody>\n",
       "    <tr>\n",
       "      <th>07/03/2024</th>\n",
       "      <td>3.142</td>\n",
       "    </tr>\n",
       "    <tr>\n",
       "      <th>08/03/2024</th>\n",
       "      <td>3.751</td>\n",
       "    </tr>\n",
       "    <tr>\n",
       "      <th>09/03/2024</th>\n",
       "      <td>3.082</td>\n",
       "    </tr>\n",
       "    <tr>\n",
       "      <th>10/03/2024</th>\n",
       "      <td>3.534</td>\n",
       "    </tr>\n",
       "    <tr>\n",
       "      <th>11/03/2024</th>\n",
       "      <td>4.544</td>\n",
       "    </tr>\n",
       "    <tr>\n",
       "      <th>12/03/2024</th>\n",
       "      <td>3.553</td>\n",
       "    </tr>\n",
       "    <tr>\n",
       "      <th>13/03/2024</th>\n",
       "      <td>3.539</td>\n",
       "    </tr>\n",
       "    <tr>\n",
       "      <th>14/03/2024</th>\n",
       "      <td>3.656</td>\n",
       "    </tr>\n",
       "    <tr>\n",
       "      <th>15/03/2024</th>\n",
       "      <td>3.563</td>\n",
       "    </tr>\n",
       "    <tr>\n",
       "      <th>16/03/2024</th>\n",
       "      <td>3.359</td>\n",
       "    </tr>\n",
       "    <tr>\n",
       "      <th>17/03/2024</th>\n",
       "      <td>3.350</td>\n",
       "    </tr>\n",
       "    <tr>\n",
       "      <th>18/03/2024</th>\n",
       "      <td>4.402</td>\n",
       "    </tr>\n",
       "    <tr>\n",
       "      <th>19/03/2024</th>\n",
       "      <td>3.507</td>\n",
       "    </tr>\n",
       "    <tr>\n",
       "      <th>20/03/2024</th>\n",
       "      <td>3.445</td>\n",
       "    </tr>\n",
       "    <tr>\n",
       "      <th>21/03/2024</th>\n",
       "      <td>3.547</td>\n",
       "    </tr>\n",
       "    <tr>\n",
       "      <th>22/03/2024</th>\n",
       "      <td>3.744</td>\n",
       "    </tr>\n",
       "    <tr>\n",
       "      <th>23/03/2024</th>\n",
       "      <td>3.527</td>\n",
       "    </tr>\n",
       "    <tr>\n",
       "      <th>24/03/2024</th>\n",
       "      <td>3.340</td>\n",
       "    </tr>\n",
       "    <tr>\n",
       "      <th>25/03/2024</th>\n",
       "      <td>3.889</td>\n",
       "    </tr>\n",
       "    <tr>\n",
       "      <th>26/03/2024</th>\n",
       "      <td>3.419</td>\n",
       "    </tr>\n",
       "    <tr>\n",
       "      <th>27/03/2024</th>\n",
       "      <td>3.473</td>\n",
       "    </tr>\n",
       "    <tr>\n",
       "      <th>28/03/2024</th>\n",
       "      <td>3.638</td>\n",
       "    </tr>\n",
       "    <tr>\n",
       "      <th>29/03/2024</th>\n",
       "      <td>3.757</td>\n",
       "    </tr>\n",
       "    <tr>\n",
       "      <th>30/03/2024</th>\n",
       "      <td>3.651</td>\n",
       "    </tr>\n",
       "    <tr>\n",
       "      <th>31/03/2024</th>\n",
       "      <td>3.832</td>\n",
       "    </tr>\n",
       "    <tr>\n",
       "      <th>01/04/2024</th>\n",
       "      <td>3.837</td>\n",
       "    </tr>\n",
       "    <tr>\n",
       "      <th>02/04/2024</th>\n",
       "      <td>3.819</td>\n",
       "    </tr>\n",
       "    <tr>\n",
       "      <th>03/04/2024</th>\n",
       "      <td>3.418</td>\n",
       "    </tr>\n",
       "    <tr>\n",
       "      <th>04/04/2024</th>\n",
       "      <td>3.477</td>\n",
       "    </tr>\n",
       "    <tr>\n",
       "      <th>05/04/2024</th>\n",
       "      <td>4.416</td>\n",
       "    </tr>\n",
       "    <tr>\n",
       "      <th>06/04/2024</th>\n",
       "      <td>3.405</td>\n",
       "    </tr>\n",
       "    <tr>\n",
       "      <th>07/04/2024</th>\n",
       "      <td>4.071</td>\n",
       "    </tr>\n",
       "    <tr>\n",
       "      <th>08/04/2024</th>\n",
       "      <td>3.779</td>\n",
       "    </tr>\n",
       "    <tr>\n",
       "      <th>09/04/2024</th>\n",
       "      <td>4.061</td>\n",
       "    </tr>\n",
       "    <tr>\n",
       "      <th>10/04/2024</th>\n",
       "      <td>3.432</td>\n",
       "    </tr>\n",
       "    <tr>\n",
       "      <th>11/04/2024</th>\n",
       "      <td>3.579</td>\n",
       "    </tr>\n",
       "    <tr>\n",
       "      <th>12/04/2024</th>\n",
       "      <td>3.447</td>\n",
       "    </tr>\n",
       "    <tr>\n",
       "      <th>13/04/2024</th>\n",
       "      <td>4.113</td>\n",
       "    </tr>\n",
       "    <tr>\n",
       "      <th>14/04/2024</th>\n",
       "      <td>3.272</td>\n",
       "    </tr>\n",
       "    <tr>\n",
       "      <th>15/04/2024</th>\n",
       "      <td>3.317</td>\n",
       "    </tr>\n",
       "    <tr>\n",
       "      <th>16/04/2024</th>\n",
       "      <td>3.701</td>\n",
       "    </tr>\n",
       "    <tr>\n",
       "      <th>17/04/2024</th>\n",
       "      <td>3.691</td>\n",
       "    </tr>\n",
       "    <tr>\n",
       "      <th>18/04/2024</th>\n",
       "      <td>4.218</td>\n",
       "    </tr>\n",
       "    <tr>\n",
       "      <th>19/04/2024</th>\n",
       "      <td>3.285</td>\n",
       "    </tr>\n",
       "    <tr>\n",
       "      <th>20/04/2024</th>\n",
       "      <td>3.378</td>\n",
       "    </tr>\n",
       "    <tr>\n",
       "      <th>21/04/2024</th>\n",
       "      <td>3.768</td>\n",
       "    </tr>\n",
       "    <tr>\n",
       "      <th>22/04/2024</th>\n",
       "      <td>1.145</td>\n",
       "    </tr>\n",
       "  </tbody>\n",
       "</table>\n",
       "</div>"
      ],
      "text/plain": [
       "              kWh\n",
       "days             \n",
       "07/03/2024  3.142\n",
       "08/03/2024  3.751\n",
       "09/03/2024  3.082\n",
       "10/03/2024  3.534\n",
       "11/03/2024  4.544\n",
       "12/03/2024  3.553\n",
       "13/03/2024  3.539\n",
       "14/03/2024  3.656\n",
       "15/03/2024  3.563\n",
       "16/03/2024  3.359\n",
       "17/03/2024  3.350\n",
       "18/03/2024  4.402\n",
       "19/03/2024  3.507\n",
       "20/03/2024  3.445\n",
       "21/03/2024  3.547\n",
       "22/03/2024  3.744\n",
       "23/03/2024  3.527\n",
       "24/03/2024  3.340\n",
       "25/03/2024  3.889\n",
       "26/03/2024  3.419\n",
       "27/03/2024  3.473\n",
       "28/03/2024  3.638\n",
       "29/03/2024  3.757\n",
       "30/03/2024  3.651\n",
       "31/03/2024  3.832\n",
       "01/04/2024  3.837\n",
       "02/04/2024  3.819\n",
       "03/04/2024  3.418\n",
       "04/04/2024  3.477\n",
       "05/04/2024  4.416\n",
       "06/04/2024  3.405\n",
       "07/04/2024  4.071\n",
       "08/04/2024  3.779\n",
       "09/04/2024  4.061\n",
       "10/04/2024  3.432\n",
       "11/04/2024  3.579\n",
       "12/04/2024  3.447\n",
       "13/04/2024  4.113\n",
       "14/04/2024  3.272\n",
       "15/04/2024  3.317\n",
       "16/04/2024  3.701\n",
       "17/04/2024  3.691\n",
       "18/04/2024  4.218\n",
       "19/04/2024  3.285\n",
       "20/04/2024  3.378\n",
       "21/04/2024  3.768\n",
       "22/04/2024  1.145"
      ]
     },
     "execution_count": 2284,
     "metadata": {},
     "output_type": "execute_result"
    }
   ],
   "source": [
    "# count elements in each group => conso in watts => convert to kW\n",
    "(grouped.count()/1000)"
   ]
  },
  {
   "cell_type": "code",
   "execution_count": 2285,
   "metadata": {},
   "outputs": [
    {
     "data": {
      "text/plain": [
       "kWh    0.320284\n",
       "dtype: float64"
      ]
     },
     "execution_count": 2285,
     "metadata": {},
     "output_type": "execute_result"
    }
   ],
   "source": [
    "# mean of all instant conso\n",
    "total_mean = conso_data[['kWh']].mean()\n",
    "total_mean\n"
   ]
  },
  {
   "cell_type": "code",
   "execution_count": 2286,
   "metadata": {},
   "outputs": [
    {
     "data": {
      "text/plain": [
       "kWh    3.593043\n",
       "dtype: float64"
      ]
     },
     "execution_count": 2286,
     "metadata": {},
     "output_type": "execute_result"
    }
   ],
   "source": [
    "# mean by day from 07/03\n",
    "mean=(grouped.count()/1000).mean()\n",
    "mean"
   ]
  },
  {
   "cell_type": "code",
   "execution_count": 2287,
   "metadata": {},
   "outputs": [],
   "source": [
    "filename='conso_par_jour.csv'\n",
    "df_grp = grouped.count()/1000\n",
    "df_grp.to_csv(filename)\n",
    "filename='../conso_par_jour.csv'\n",
    "df_grp.to_csv(filename)"
   ]
  },
  {
   "cell_type": "code",
   "execution_count": 2288,
   "metadata": {},
   "outputs": [
    {
     "data": {
      "text/html": [
       "<div>\n",
       "<style scoped>\n",
       "    .dataframe tbody tr th:only-of-type {\n",
       "        vertical-align: middle;\n",
       "    }\n",
       "\n",
       "    .dataframe tbody tr th {\n",
       "        vertical-align: top;\n",
       "    }\n",
       "\n",
       "    .dataframe thead th {\n",
       "        text-align: right;\n",
       "    }\n",
       "</style>\n",
       "<table border=\"1\" class=\"dataframe\">\n",
       "  <thead>\n",
       "    <tr style=\"text-align: right;\">\n",
       "      <th></th>\n",
       "      <th>kWh</th>\n",
       "    </tr>\n",
       "    <tr>\n",
       "      <th>days</th>\n",
       "      <th></th>\n",
       "    </tr>\n",
       "  </thead>\n",
       "  <tbody>\n",
       "    <tr>\n",
       "      <th>07/03/2024</th>\n",
       "      <td>3.142</td>\n",
       "    </tr>\n",
       "    <tr>\n",
       "      <th>08/03/2024</th>\n",
       "      <td>3.751</td>\n",
       "    </tr>\n",
       "    <tr>\n",
       "      <th>09/03/2024</th>\n",
       "      <td>3.082</td>\n",
       "    </tr>\n",
       "    <tr>\n",
       "      <th>10/03/2024</th>\n",
       "      <td>3.534</td>\n",
       "    </tr>\n",
       "    <tr>\n",
       "      <th>11/03/2024</th>\n",
       "      <td>4.544</td>\n",
       "    </tr>\n",
       "    <tr>\n",
       "      <th>12/03/2024</th>\n",
       "      <td>3.553</td>\n",
       "    </tr>\n",
       "    <tr>\n",
       "      <th>13/03/2024</th>\n",
       "      <td>3.539</td>\n",
       "    </tr>\n",
       "    <tr>\n",
       "      <th>14/03/2024</th>\n",
       "      <td>3.656</td>\n",
       "    </tr>\n",
       "    <tr>\n",
       "      <th>15/03/2024</th>\n",
       "      <td>3.563</td>\n",
       "    </tr>\n",
       "    <tr>\n",
       "      <th>16/03/2024</th>\n",
       "      <td>3.359</td>\n",
       "    </tr>\n",
       "    <tr>\n",
       "      <th>17/03/2024</th>\n",
       "      <td>3.350</td>\n",
       "    </tr>\n",
       "    <tr>\n",
       "      <th>18/03/2024</th>\n",
       "      <td>4.402</td>\n",
       "    </tr>\n",
       "    <tr>\n",
       "      <th>19/03/2024</th>\n",
       "      <td>3.507</td>\n",
       "    </tr>\n",
       "    <tr>\n",
       "      <th>20/03/2024</th>\n",
       "      <td>3.445</td>\n",
       "    </tr>\n",
       "    <tr>\n",
       "      <th>21/03/2024</th>\n",
       "      <td>3.547</td>\n",
       "    </tr>\n",
       "    <tr>\n",
       "      <th>22/03/2024</th>\n",
       "      <td>3.744</td>\n",
       "    </tr>\n",
       "    <tr>\n",
       "      <th>23/03/2024</th>\n",
       "      <td>3.527</td>\n",
       "    </tr>\n",
       "    <tr>\n",
       "      <th>24/03/2024</th>\n",
       "      <td>3.340</td>\n",
       "    </tr>\n",
       "    <tr>\n",
       "      <th>25/03/2024</th>\n",
       "      <td>3.889</td>\n",
       "    </tr>\n",
       "    <tr>\n",
       "      <th>26/03/2024</th>\n",
       "      <td>3.419</td>\n",
       "    </tr>\n",
       "    <tr>\n",
       "      <th>27/03/2024</th>\n",
       "      <td>3.473</td>\n",
       "    </tr>\n",
       "    <tr>\n",
       "      <th>28/03/2024</th>\n",
       "      <td>3.638</td>\n",
       "    </tr>\n",
       "    <tr>\n",
       "      <th>29/03/2024</th>\n",
       "      <td>3.757</td>\n",
       "    </tr>\n",
       "    <tr>\n",
       "      <th>30/03/2024</th>\n",
       "      <td>3.651</td>\n",
       "    </tr>\n",
       "    <tr>\n",
       "      <th>31/03/2024</th>\n",
       "      <td>3.832</td>\n",
       "    </tr>\n",
       "    <tr>\n",
       "      <th>01/04/2024</th>\n",
       "      <td>3.837</td>\n",
       "    </tr>\n",
       "    <tr>\n",
       "      <th>02/04/2024</th>\n",
       "      <td>3.819</td>\n",
       "    </tr>\n",
       "    <tr>\n",
       "      <th>03/04/2024</th>\n",
       "      <td>3.418</td>\n",
       "    </tr>\n",
       "    <tr>\n",
       "      <th>04/04/2024</th>\n",
       "      <td>3.477</td>\n",
       "    </tr>\n",
       "    <tr>\n",
       "      <th>05/04/2024</th>\n",
       "      <td>4.416</td>\n",
       "    </tr>\n",
       "    <tr>\n",
       "      <th>06/04/2024</th>\n",
       "      <td>3.405</td>\n",
       "    </tr>\n",
       "    <tr>\n",
       "      <th>07/04/2024</th>\n",
       "      <td>4.071</td>\n",
       "    </tr>\n",
       "    <tr>\n",
       "      <th>08/04/2024</th>\n",
       "      <td>3.779</td>\n",
       "    </tr>\n",
       "    <tr>\n",
       "      <th>09/04/2024</th>\n",
       "      <td>4.061</td>\n",
       "    </tr>\n",
       "    <tr>\n",
       "      <th>10/04/2024</th>\n",
       "      <td>3.432</td>\n",
       "    </tr>\n",
       "    <tr>\n",
       "      <th>11/04/2024</th>\n",
       "      <td>3.579</td>\n",
       "    </tr>\n",
       "    <tr>\n",
       "      <th>12/04/2024</th>\n",
       "      <td>3.447</td>\n",
       "    </tr>\n",
       "    <tr>\n",
       "      <th>13/04/2024</th>\n",
       "      <td>4.113</td>\n",
       "    </tr>\n",
       "    <tr>\n",
       "      <th>14/04/2024</th>\n",
       "      <td>3.272</td>\n",
       "    </tr>\n",
       "    <tr>\n",
       "      <th>15/04/2024</th>\n",
       "      <td>3.317</td>\n",
       "    </tr>\n",
       "    <tr>\n",
       "      <th>16/04/2024</th>\n",
       "      <td>3.701</td>\n",
       "    </tr>\n",
       "    <tr>\n",
       "      <th>17/04/2024</th>\n",
       "      <td>3.691</td>\n",
       "    </tr>\n",
       "    <tr>\n",
       "      <th>18/04/2024</th>\n",
       "      <td>4.218</td>\n",
       "    </tr>\n",
       "    <tr>\n",
       "      <th>19/04/2024</th>\n",
       "      <td>3.285</td>\n",
       "    </tr>\n",
       "    <tr>\n",
       "      <th>20/04/2024</th>\n",
       "      <td>3.378</td>\n",
       "    </tr>\n",
       "    <tr>\n",
       "      <th>21/04/2024</th>\n",
       "      <td>3.768</td>\n",
       "    </tr>\n",
       "    <tr>\n",
       "      <th>22/04/2024</th>\n",
       "      <td>1.145</td>\n",
       "    </tr>\n",
       "  </tbody>\n",
       "</table>\n",
       "</div>"
      ],
      "text/plain": [
       "              kWh\n",
       "days             \n",
       "07/03/2024  3.142\n",
       "08/03/2024  3.751\n",
       "09/03/2024  3.082\n",
       "10/03/2024  3.534\n",
       "11/03/2024  4.544\n",
       "12/03/2024  3.553\n",
       "13/03/2024  3.539\n",
       "14/03/2024  3.656\n",
       "15/03/2024  3.563\n",
       "16/03/2024  3.359\n",
       "17/03/2024  3.350\n",
       "18/03/2024  4.402\n",
       "19/03/2024  3.507\n",
       "20/03/2024  3.445\n",
       "21/03/2024  3.547\n",
       "22/03/2024  3.744\n",
       "23/03/2024  3.527\n",
       "24/03/2024  3.340\n",
       "25/03/2024  3.889\n",
       "26/03/2024  3.419\n",
       "27/03/2024  3.473\n",
       "28/03/2024  3.638\n",
       "29/03/2024  3.757\n",
       "30/03/2024  3.651\n",
       "31/03/2024  3.832\n",
       "01/04/2024  3.837\n",
       "02/04/2024  3.819\n",
       "03/04/2024  3.418\n",
       "04/04/2024  3.477\n",
       "05/04/2024  4.416\n",
       "06/04/2024  3.405\n",
       "07/04/2024  4.071\n",
       "08/04/2024  3.779\n",
       "09/04/2024  4.061\n",
       "10/04/2024  3.432\n",
       "11/04/2024  3.579\n",
       "12/04/2024  3.447\n",
       "13/04/2024  4.113\n",
       "14/04/2024  3.272\n",
       "15/04/2024  3.317\n",
       "16/04/2024  3.701\n",
       "17/04/2024  3.691\n",
       "18/04/2024  4.218\n",
       "19/04/2024  3.285\n",
       "20/04/2024  3.378\n",
       "21/04/2024  3.768\n",
       "22/04/2024  1.145"
      ]
     },
     "execution_count": 2288,
     "metadata": {},
     "output_type": "execute_result"
    }
   ],
   "source": [
    "df_grp"
   ]
  },
  {
   "cell_type": "code",
   "execution_count": 2289,
   "metadata": {},
   "outputs": [],
   "source": [
    "#manuel\n",
    "#day = '11/03/2024'\n"
   ]
  },
  {
   "cell_type": "code",
   "execution_count": 2290,
   "metadata": {},
   "outputs": [
    {
     "data": {
      "text/plain": [
       "1145"
      ]
     },
     "execution_count": 2290,
     "metadata": {},
     "output_type": "execute_result"
    }
   ],
   "source": [
    "# conso day\n",
    "conso_day = conso_data[conso_data['days']==day]\n",
    "len(conso_day)"
   ]
  },
  {
   "cell_type": "code",
   "execution_count": 2291,
   "metadata": {},
   "outputs": [
    {
     "data": {
      "text/html": [
       "<div>\n",
       "<style scoped>\n",
       "    .dataframe tbody tr th:only-of-type {\n",
       "        vertical-align: middle;\n",
       "    }\n",
       "\n",
       "    .dataframe tbody tr th {\n",
       "        vertical-align: top;\n",
       "    }\n",
       "\n",
       "    .dataframe thead th {\n",
       "        text-align: right;\n",
       "    }\n",
       "</style>\n",
       "<table border=\"1\" class=\"dataframe\">\n",
       "  <thead>\n",
       "    <tr style=\"text-align: right;\">\n",
       "      <th></th>\n",
       "      <th>Interval</th>\n",
       "      <th>kWh</th>\n",
       "      <th>sec</th>\n",
       "      <th>Wh</th>\n",
       "      <th>cumul(ms)</th>\n",
       "      <th>dates</th>\n",
       "      <th>days</th>\n",
       "    </tr>\n",
       "  </thead>\n",
       "  <tbody>\n",
       "    <tr>\n",
       "      <th>167728</th>\n",
       "      <td>29084</td>\n",
       "      <td>0.12</td>\n",
       "      <td>29.084</td>\n",
       "      <td>123.779398</td>\n",
       "      <td>3967960280</td>\n",
       "      <td>2024-04-22 00:00:03.320098</td>\n",
       "      <td>22/04/2024</td>\n",
       "    </tr>\n",
       "    <tr>\n",
       "      <th>167729</th>\n",
       "      <td>27624</td>\n",
       "      <td>0.13</td>\n",
       "      <td>27.624</td>\n",
       "      <td>130.321460</td>\n",
       "      <td>3967987904</td>\n",
       "      <td>2024-04-22 00:00:30.944098</td>\n",
       "      <td>22/04/2024</td>\n",
       "    </tr>\n",
       "    <tr>\n",
       "      <th>167730</th>\n",
       "      <td>26484</td>\n",
       "      <td>0.14</td>\n",
       "      <td>26.484</td>\n",
       "      <td>135.931128</td>\n",
       "      <td>3968014388</td>\n",
       "      <td>2024-04-22 00:00:57.428098</td>\n",
       "      <td>22/04/2024</td>\n",
       "    </tr>\n",
       "    <tr>\n",
       "      <th>167731</th>\n",
       "      <td>26860</td>\n",
       "      <td>0.13</td>\n",
       "      <td>26.860</td>\n",
       "      <td>134.028295</td>\n",
       "      <td>3968041248</td>\n",
       "      <td>2024-04-22 00:01:24.288098</td>\n",
       "      <td>22/04/2024</td>\n",
       "    </tr>\n",
       "    <tr>\n",
       "      <th>167732</th>\n",
       "      <td>28023</td>\n",
       "      <td>0.13</td>\n",
       "      <td>28.023</td>\n",
       "      <td>128.465903</td>\n",
       "      <td>3968069271</td>\n",
       "      <td>2024-04-22 00:01:52.311098</td>\n",
       "      <td>22/04/2024</td>\n",
       "    </tr>\n",
       "    <tr>\n",
       "      <th>...</th>\n",
       "      <td>...</td>\n",
       "      <td>...</td>\n",
       "      <td>...</td>\n",
       "      <td>...</td>\n",
       "      <td>...</td>\n",
       "      <td>...</td>\n",
       "      <td>...</td>\n",
       "    </tr>\n",
       "    <tr>\n",
       "      <th>168868</th>\n",
       "      <td>23193</td>\n",
       "      <td>0.16</td>\n",
       "      <td>23.193</td>\n",
       "      <td>155.219247</td>\n",
       "      <td>4001916596</td>\n",
       "      <td>2024-04-22 09:25:59.636098</td>\n",
       "      <td>22/04/2024</td>\n",
       "    </tr>\n",
       "    <tr>\n",
       "      <th>168869</th>\n",
       "      <td>21890</td>\n",
       "      <td>0.16</td>\n",
       "      <td>21.890</td>\n",
       "      <td>164.458657</td>\n",
       "      <td>4001938486</td>\n",
       "      <td>2024-04-22 09:26:21.526098</td>\n",
       "      <td>22/04/2024</td>\n",
       "    </tr>\n",
       "    <tr>\n",
       "      <th>168870</th>\n",
       "      <td>23131</td>\n",
       "      <td>0.16</td>\n",
       "      <td>23.131</td>\n",
       "      <td>155.635295</td>\n",
       "      <td>4001961617</td>\n",
       "      <td>2024-04-22 09:26:44.657098</td>\n",
       "      <td>22/04/2024</td>\n",
       "    </tr>\n",
       "    <tr>\n",
       "      <th>168871</th>\n",
       "      <td>23751</td>\n",
       "      <td>0.15</td>\n",
       "      <td>23.751</td>\n",
       "      <td>151.572565</td>\n",
       "      <td>4001985368</td>\n",
       "      <td>2024-04-22 09:27:08.408098</td>\n",
       "      <td>22/04/2024</td>\n",
       "    </tr>\n",
       "    <tr>\n",
       "      <th>168872</th>\n",
       "      <td>23690</td>\n",
       "      <td>0.15</td>\n",
       "      <td>23.690</td>\n",
       "      <td>151.962854</td>\n",
       "      <td>4002009058</td>\n",
       "      <td>2024-04-22 09:27:32.098098</td>\n",
       "      <td>22/04/2024</td>\n",
       "    </tr>\n",
       "  </tbody>\n",
       "</table>\n",
       "<p>1145 rows × 7 columns</p>\n",
       "</div>"
      ],
      "text/plain": [
       "        Interval   kWh     sec          Wh   cumul(ms)  \\\n",
       "167728     29084  0.12  29.084  123.779398  3967960280   \n",
       "167729     27624  0.13  27.624  130.321460  3967987904   \n",
       "167730     26484  0.14  26.484  135.931128  3968014388   \n",
       "167731     26860  0.13  26.860  134.028295  3968041248   \n",
       "167732     28023  0.13  28.023  128.465903  3968069271   \n",
       "...          ...   ...     ...         ...         ...   \n",
       "168868     23193  0.16  23.193  155.219247  4001916596   \n",
       "168869     21890  0.16  21.890  164.458657  4001938486   \n",
       "168870     23131  0.16  23.131  155.635295  4001961617   \n",
       "168871     23751  0.15  23.751  151.572565  4001985368   \n",
       "168872     23690  0.15  23.690  151.962854  4002009058   \n",
       "\n",
       "                            dates        days  \n",
       "167728 2024-04-22 00:00:03.320098  22/04/2024  \n",
       "167729 2024-04-22 00:00:30.944098  22/04/2024  \n",
       "167730 2024-04-22 00:00:57.428098  22/04/2024  \n",
       "167731 2024-04-22 00:01:24.288098  22/04/2024  \n",
       "167732 2024-04-22 00:01:52.311098  22/04/2024  \n",
       "...                           ...         ...  \n",
       "168868 2024-04-22 09:25:59.636098  22/04/2024  \n",
       "168869 2024-04-22 09:26:21.526098  22/04/2024  \n",
       "168870 2024-04-22 09:26:44.657098  22/04/2024  \n",
       "168871 2024-04-22 09:27:08.408098  22/04/2024  \n",
       "168872 2024-04-22 09:27:32.098098  22/04/2024  \n",
       "\n",
       "[1145 rows x 7 columns]"
      ]
     },
     "execution_count": 2291,
     "metadata": {},
     "output_type": "execute_result"
    }
   ],
   "source": [
    "conso_day"
   ]
  },
  {
   "cell_type": "code",
   "execution_count": 2292,
   "metadata": {},
   "outputs": [],
   "source": [
    "filename='conso_jour.csv'\n",
    "conso_day.to_csv(filename)\n",
    "filename='../conso_jour.csv'\n",
    "conso_day.to_csv(filename)"
   ]
  },
  {
   "cell_type": "code",
   "execution_count": 2293,
   "metadata": {},
   "outputs": [
    {
     "data": {
      "text/plain": [
       "(167728   2024-04-22 00:00:03.320098\n",
       " Name: dates, dtype: datetime64[ns],\n",
       " 168872   2024-04-22 09:27:32.098098\n",
       " Name: dates, dtype: datetime64[ns])"
      ]
     },
     "execution_count": 2293,
     "metadata": {},
     "output_type": "execute_result"
    }
   ],
   "source": [
    "conso_day.head(1).dates, conso_day.tail(1).dates\n"
   ]
  },
  {
   "cell_type": "code",
   "execution_count": 2294,
   "metadata": {},
   "outputs": [
    {
     "data": {
      "text/plain": [
       "167728   2024-04-22 00:00:03.320098\n",
       "167729   2024-04-22 00:00:30.944098\n",
       "167730   2024-04-22 00:00:57.428098\n",
       "167731   2024-04-22 00:01:24.288098\n",
       "167732   2024-04-22 00:01:52.311098\n",
       "                    ...            \n",
       "168868   2024-04-22 09:25:59.636098\n",
       "168869   2024-04-22 09:26:21.526098\n",
       "168870   2024-04-22 09:26:44.657098\n",
       "168871   2024-04-22 09:27:08.408098\n",
       "168872   2024-04-22 09:27:32.098098\n",
       "Name: dates, Length: 1145, dtype: datetime64[ns]"
      ]
     },
     "execution_count": 2294,
     "metadata": {},
     "output_type": "execute_result"
    }
   ],
   "source": [
    "conso_day.loc[:,'dates']"
   ]
  },
  {
   "cell_type": "code",
   "execution_count": 2295,
   "metadata": {},
   "outputs": [
    {
     "name": "stderr",
     "output_type": "stream",
     "text": [
      "C:\\Users\\jean\\AppData\\Local\\Temp\\ipykernel_26500\\2932063292.py:1: SettingWithCopyWarning: \n",
      "A value is trying to be set on a copy of a slice from a DataFrame.\n",
      "Try using .loc[row_indexer,col_indexer] = value instead\n",
      "\n",
      "See the caveats in the documentation: https://pandas.pydata.org/pandas-docs/stable/user_guide/indexing.html#returning-a-view-versus-a-copy\n",
      "  conso_day['heure']=conso_day.loc[:,'dates'].apply(lambda x: str(x.hour)+':'+str(x.minute) +':'+str(x.second))\n"
     ]
    },
    {
     "data": {
      "text/html": [
       "<div>\n",
       "<style scoped>\n",
       "    .dataframe tbody tr th:only-of-type {\n",
       "        vertical-align: middle;\n",
       "    }\n",
       "\n",
       "    .dataframe tbody tr th {\n",
       "        vertical-align: top;\n",
       "    }\n",
       "\n",
       "    .dataframe thead th {\n",
       "        text-align: right;\n",
       "    }\n",
       "</style>\n",
       "<table border=\"1\" class=\"dataframe\">\n",
       "  <thead>\n",
       "    <tr style=\"text-align: right;\">\n",
       "      <th></th>\n",
       "      <th>Interval</th>\n",
       "      <th>kWh</th>\n",
       "      <th>sec</th>\n",
       "      <th>Wh</th>\n",
       "      <th>cumul(ms)</th>\n",
       "      <th>dates</th>\n",
       "      <th>days</th>\n",
       "    </tr>\n",
       "    <tr>\n",
       "      <th>heure</th>\n",
       "      <th></th>\n",
       "      <th></th>\n",
       "      <th></th>\n",
       "      <th></th>\n",
       "      <th></th>\n",
       "      <th></th>\n",
       "      <th></th>\n",
       "    </tr>\n",
       "  </thead>\n",
       "  <tbody>\n",
       "    <tr>\n",
       "      <th>0:0:3</th>\n",
       "      <td>29084</td>\n",
       "      <td>0.12</td>\n",
       "      <td>29.084</td>\n",
       "      <td>123.779398</td>\n",
       "      <td>3967960280</td>\n",
       "      <td>2024-04-22 00:00:03.320098</td>\n",
       "      <td>22/04/2024</td>\n",
       "    </tr>\n",
       "    <tr>\n",
       "      <th>0:0:30</th>\n",
       "      <td>27624</td>\n",
       "      <td>0.13</td>\n",
       "      <td>27.624</td>\n",
       "      <td>130.321460</td>\n",
       "      <td>3967987904</td>\n",
       "      <td>2024-04-22 00:00:30.944098</td>\n",
       "      <td>22/04/2024</td>\n",
       "    </tr>\n",
       "    <tr>\n",
       "      <th>0:0:57</th>\n",
       "      <td>26484</td>\n",
       "      <td>0.14</td>\n",
       "      <td>26.484</td>\n",
       "      <td>135.931128</td>\n",
       "      <td>3968014388</td>\n",
       "      <td>2024-04-22 00:00:57.428098</td>\n",
       "      <td>22/04/2024</td>\n",
       "    </tr>\n",
       "    <tr>\n",
       "      <th>0:1:24</th>\n",
       "      <td>26860</td>\n",
       "      <td>0.13</td>\n",
       "      <td>26.860</td>\n",
       "      <td>134.028295</td>\n",
       "      <td>3968041248</td>\n",
       "      <td>2024-04-22 00:01:24.288098</td>\n",
       "      <td>22/04/2024</td>\n",
       "    </tr>\n",
       "    <tr>\n",
       "      <th>0:1:52</th>\n",
       "      <td>28023</td>\n",
       "      <td>0.13</td>\n",
       "      <td>28.023</td>\n",
       "      <td>128.465903</td>\n",
       "      <td>3968069271</td>\n",
       "      <td>2024-04-22 00:01:52.311098</td>\n",
       "      <td>22/04/2024</td>\n",
       "    </tr>\n",
       "    <tr>\n",
       "      <th>...</th>\n",
       "      <td>...</td>\n",
       "      <td>...</td>\n",
       "      <td>...</td>\n",
       "      <td>...</td>\n",
       "      <td>...</td>\n",
       "      <td>...</td>\n",
       "      <td>...</td>\n",
       "    </tr>\n",
       "    <tr>\n",
       "      <th>9:25:59</th>\n",
       "      <td>23193</td>\n",
       "      <td>0.16</td>\n",
       "      <td>23.193</td>\n",
       "      <td>155.219247</td>\n",
       "      <td>4001916596</td>\n",
       "      <td>2024-04-22 09:25:59.636098</td>\n",
       "      <td>22/04/2024</td>\n",
       "    </tr>\n",
       "    <tr>\n",
       "      <th>9:26:21</th>\n",
       "      <td>21890</td>\n",
       "      <td>0.16</td>\n",
       "      <td>21.890</td>\n",
       "      <td>164.458657</td>\n",
       "      <td>4001938486</td>\n",
       "      <td>2024-04-22 09:26:21.526098</td>\n",
       "      <td>22/04/2024</td>\n",
       "    </tr>\n",
       "    <tr>\n",
       "      <th>9:26:44</th>\n",
       "      <td>23131</td>\n",
       "      <td>0.16</td>\n",
       "      <td>23.131</td>\n",
       "      <td>155.635295</td>\n",
       "      <td>4001961617</td>\n",
       "      <td>2024-04-22 09:26:44.657098</td>\n",
       "      <td>22/04/2024</td>\n",
       "    </tr>\n",
       "    <tr>\n",
       "      <th>9:27:8</th>\n",
       "      <td>23751</td>\n",
       "      <td>0.15</td>\n",
       "      <td>23.751</td>\n",
       "      <td>151.572565</td>\n",
       "      <td>4001985368</td>\n",
       "      <td>2024-04-22 09:27:08.408098</td>\n",
       "      <td>22/04/2024</td>\n",
       "    </tr>\n",
       "    <tr>\n",
       "      <th>9:27:32</th>\n",
       "      <td>23690</td>\n",
       "      <td>0.15</td>\n",
       "      <td>23.690</td>\n",
       "      <td>151.962854</td>\n",
       "      <td>4002009058</td>\n",
       "      <td>2024-04-22 09:27:32.098098</td>\n",
       "      <td>22/04/2024</td>\n",
       "    </tr>\n",
       "  </tbody>\n",
       "</table>\n",
       "<p>1145 rows × 7 columns</p>\n",
       "</div>"
      ],
      "text/plain": [
       "         Interval   kWh     sec          Wh   cumul(ms)  \\\n",
       "heure                                                     \n",
       "0:0:3       29084  0.12  29.084  123.779398  3967960280   \n",
       "0:0:30      27624  0.13  27.624  130.321460  3967987904   \n",
       "0:0:57      26484  0.14  26.484  135.931128  3968014388   \n",
       "0:1:24      26860  0.13  26.860  134.028295  3968041248   \n",
       "0:1:52      28023  0.13  28.023  128.465903  3968069271   \n",
       "...           ...   ...     ...         ...         ...   \n",
       "9:25:59     23193  0.16  23.193  155.219247  4001916596   \n",
       "9:26:21     21890  0.16  21.890  164.458657  4001938486   \n",
       "9:26:44     23131  0.16  23.131  155.635295  4001961617   \n",
       "9:27:8      23751  0.15  23.751  151.572565  4001985368   \n",
       "9:27:32     23690  0.15  23.690  151.962854  4002009058   \n",
       "\n",
       "                             dates        days  \n",
       "heure                                           \n",
       "0:0:3   2024-04-22 00:00:03.320098  22/04/2024  \n",
       "0:0:30  2024-04-22 00:00:30.944098  22/04/2024  \n",
       "0:0:57  2024-04-22 00:00:57.428098  22/04/2024  \n",
       "0:1:24  2024-04-22 00:01:24.288098  22/04/2024  \n",
       "0:1:52  2024-04-22 00:01:52.311098  22/04/2024  \n",
       "...                            ...         ...  \n",
       "9:25:59 2024-04-22 09:25:59.636098  22/04/2024  \n",
       "9:26:21 2024-04-22 09:26:21.526098  22/04/2024  \n",
       "9:26:44 2024-04-22 09:26:44.657098  22/04/2024  \n",
       "9:27:8  2024-04-22 09:27:08.408098  22/04/2024  \n",
       "9:27:32 2024-04-22 09:27:32.098098  22/04/2024  \n",
       "\n",
       "[1145 rows x 7 columns]"
      ]
     },
     "execution_count": 2295,
     "metadata": {},
     "output_type": "execute_result"
    }
   ],
   "source": [
    "conso_day['heure']=conso_day.loc[:,'dates'].apply(lambda x: str(x.hour)+':'+str(x.minute) +':'+str(x.second))\n",
    "#=[x.hour for x in conso_day['dates']]\n",
    "conso_day\n",
    "df= conso_day.set_index('heure')\n",
    "df"
   ]
  },
  {
   "cell_type": "code",
   "execution_count": 2296,
   "metadata": {},
   "outputs": [
    {
     "data": {
      "text/plain": [
       "('09:27:39', 1.145)"
      ]
     },
     "execution_count": 2296,
     "metadata": {},
     "output_type": "execute_result"
    }
   ],
   "source": [
    "here = now.strftime('%H:%M:%S')\n",
    "here, len(df)/1000"
   ]
  },
  {
   "cell_type": "code",
   "execution_count": 2297,
   "metadata": {},
   "outputs": [],
   "source": [
    "conso_jour=len(df['kWh'])"
   ]
  },
  {
   "cell_type": "code",
   "execution_count": 2298,
   "metadata": {},
   "outputs": [
    {
     "data": {
      "image/png": "[encoded data removed]",
      "text/plain": [
       "<Figure size 640x480 with 1 Axes>"
      ]
     },
     "metadata": {},
     "output_type": "display_data"
    }
   ],
   "source": [
    "df_grp.iloc[:-1].plot()#kind='bar')\n",
    "plt.plot((0,len(df_grp)-1),(mean,mean))\n",
    "plt.xticks(rotation=45)\n",
    "plt.grid()\n"
   ]
  },
  {
   "cell_type": "code",
   "execution_count": 2299,
   "metadata": {},
   "outputs": [
    {
     "data": {
      "image/png": "[encoded data removed]",
      "text/plain": [
       "<Figure size 1500x700 with 1 Axes>"
      ]
     },
     "metadata": {},
     "output_type": "display_data"
    }
   ],
   "source": [
    "from matplotlib.ticker import (MultipleLocator, AutoMinorLocator)\n",
    "# consommation d'une journée entière à partir de minuit\n",
    "fig, ax = plt.subplots()\n",
    "major_ticks=300;minor_ticks=100\n",
    "ax.xaxis.set_major_locator(MultipleLocator(major_ticks))  # major ticks tous les 15 min\n",
    "ax.xaxis.set_minor_locator(MultipleLocator(minor_ticks))\n",
    "# the size of A4 paper\n",
    "fig.set_size_inches(15, 7)\n",
    "plt.plot(df['kWh'])\n",
    "#plt.plot(conso_day['heure'],conso_day['kWh'])\n",
    "plt.title(f'Journée du {day} {here} : {conso_jour/1000} kwh')\n",
    "plt.grid()"
   ]
  },
  {
   "cell_type": "code",
   "execution_count": 2300,
   "metadata": {},
   "outputs": [],
   "source": [
    "df['power']=[y for x,y in zip(df['Interval'],df['kWh'])]"
   ]
  },
  {
   "cell_type": "code",
   "execution_count": 2301,
   "metadata": {},
   "outputs": [
    {
     "data": {
      "text/plain": [
       "heure\n",
       "0:0:3      0.12\n",
       "0:0:30     0.13\n",
       "0:0:57     0.14\n",
       "0:1:24     0.13\n",
       "0:1:52     0.13\n",
       "           ... \n",
       "9:25:59    0.16\n",
       "9:26:21    0.16\n",
       "9:26:44    0.16\n",
       "9:27:8     0.15\n",
       "9:27:32    0.15\n",
       "Name: power, Length: 1145, dtype: float64"
      ]
     },
     "execution_count": 2301,
     "metadata": {},
     "output_type": "execute_result"
    }
   ],
   "source": [
    "df['power']"
   ]
  },
  {
   "cell_type": "code",
   "execution_count": 2302,
   "metadata": {},
   "outputs": [
    {
     "data": {
      "text/plain": [
       "<Axes: xlabel='heure'>"
      ]
     },
     "execution_count": 2302,
     "metadata": {},
     "output_type": "execute_result"
    },
    {
     "data": {
      "image/png": "[encoded data removed]",
      "text/plain": [
       "<Figure size 640x480 with 1 Axes>"
      ]
     },
     "metadata": {},
     "output_type": "display_data"
    }
   ],
   "source": [
    "evo=df['power'].cumsum()\n",
    "evo.plot()"
   ]
  },
  {
   "cell_type": "code",
   "execution_count": 2303,
   "metadata": {},
   "outputs": [
    {
     "data": {
      "text/plain": [
       "48"
      ]
     },
     "execution_count": 2303,
     "metadata": {},
     "output_type": "execute_result"
    },
    {
     "data": {
      "image/png": "[encoded data removed]",
      "text/plain": [
       "<Figure size 640x480 with 1 Axes>"
      ]
     },
     "metadata": {},
     "output_type": "display_data"
    }
   ],
   "source": [
    "# bouilloire, microondes, four\n",
    "filter=(.5<df['kWh'])\n",
    "pic_high = df[filter]\n",
    "pic_high['kWh'].plot()\n",
    "len(pic_high)"
   ]
  },
  {
   "cell_type": "markdown",
   "metadata": {},
   "source": []
  },
  {
   "cell_type": "code",
   "execution_count": 2304,
   "metadata": {},
   "outputs": [
    {
     "data": {
      "text/plain": [
       "533"
      ]
     },
     "execution_count": 2304,
     "metadata": {},
     "output_type": "execute_result"
    },
    {
     "data": {
      "image/png": "[encoded data removed]",
      "text/plain": [
       "<Figure size 640x480 with 1 Axes>"
      ]
     },
     "metadata": {},
     "output_type": "display_data"
    }
   ],
   "source": [
    "# frigo, moteur volet\n",
    "pic_middle = df[(0.1<df['kWh']) & (df['kWh']<=.5)]\n",
    "pic_middle['kWh'].plot()\n",
    "len(pic_middle) # wh"
   ]
  },
  {
   "cell_type": "code",
   "execution_count": 2305,
   "metadata": {},
   "outputs": [
    {
     "data": {
      "text/plain": [
       "1097"
      ]
     },
     "execution_count": 2305,
     "metadata": {},
     "output_type": "execute_result"
    },
    {
     "data": {
      "image/png": "[encoded data removed]",
      "text/plain": [
       "<Figure size 640x480 with 1 Axes>"
      ]
     },
     "metadata": {},
     "output_type": "display_data"
    }
   ],
   "source": [
    "# pics frigo par jour\n",
    "filter = (df['kWh']<=0.5)\n",
    "pic_low = df[filter]\n",
    "pic_low['kWh'].plot()\n",
    "len(pic_low) # wh"
   ]
  },
  {
   "cell_type": "code",
   "execution_count": 2306,
   "metadata": {},
   "outputs": [
    {
     "data": {
      "text/plain": [
       "0        2024-03-07 01:47:49.329098\n",
       "1        2024-03-07 01:48:15.572098\n",
       "2        2024-03-07 01:48:41.457098\n",
       "3        2024-03-07 01:49:07.211098\n",
       "4        2024-03-07 01:49:32.985098\n",
       "                    ...            \n",
       "168868   2024-04-22 09:25:59.636098\n",
       "168869   2024-04-22 09:26:21.526098\n",
       "168870   2024-04-22 09:26:44.657098\n",
       "168871   2024-04-22 09:27:08.408098\n",
       "168872   2024-04-22 09:27:32.098098\n",
       "Name: dates, Length: 168873, dtype: datetime64[ns]"
      ]
     },
     "execution_count": 2306,
     "metadata": {},
     "output_type": "execute_result"
    }
   ],
   "source": [
    "time = conso_data['dates']\n",
    "time\n"
   ]
  },
  {
   "cell_type": "code",
   "execution_count": 2307,
   "metadata": {},
   "outputs": [],
   "source": [
    "def format_date(space=3):\n",
    "    plt.gca().xaxis.set_major_formatter(mdates.DateFormatter('%d/%m\\n%H:%M'))\n",
    "    plt.gca().xaxis.set_major_locator(mdates.HourLocator(space))\n",
    "    #plt.gca().xaxis.set_major_locator(mdates.HourLocator(interval=space))\n",
    "    plt.gcf().autofmt_xdate()\n",
    "    plt.grid()"
   ]
  },
  {
   "cell_type": "code",
   "execution_count": 2308,
   "metadata": {},
   "outputs": [],
   "source": [
    "if not old:\n",
    "    major_ticks=1/60;minor_ticks=1/240  # plus de ticks, 4 fois plus de minor\n",
    "    major_ticks=1/30;minor_ticks=1/120   # moins de ticks\n",
    "    major_ticks=1/15;minor_ticks=1/60\n",
    "    major_ticks=1/2;minor_ticks=1/8\n",
    "else:\n",
    "    major_ticks=4;minor_ticks=1   # encore moins si int\n"
   ]
  },
  {
   "cell_type": "code",
   "execution_count": 2309,
   "metadata": {},
   "outputs": [
    {
     "data": {
      "text/plain": [
       "(4, 1)"
      ]
     },
     "execution_count": 2309,
     "metadata": {},
     "output_type": "execute_result"
    }
   ],
   "source": [
    "major_ticks=4;minor_ticks=1\n",
    "major_ticks,minor_ticks"
   ]
  },
  {
   "cell_type": "markdown",
   "metadata": {},
   "source": [
    "## Main graph"
   ]
  },
  {
   "cell_type": "code",
   "execution_count": 2310,
   "metadata": {},
   "outputs": [
    {
     "data": {
      "image/png": "[encoded data removed]",
      "text/plain": [
       "<Figure size 2500x1000 with 1 Axes>"
      ]
     },
     "metadata": {},
     "output_type": "display_data"
    }
   ],
   "source": [
    "\n",
    "from matplotlib.dates import (YEARLY, DateFormatter,rrulewrapper, RRuleLocator, drange)\n",
    "\n",
    "def show_graph():\n",
    "    fig, ax = plt.subplots()\n",
    "    # the size of A4 paper\n",
    "    fig.set_size_inches(25, 10)\n",
    "\n",
    "    #plt.rcParams['axes.autolimit_mode'] = 'round_numbers'\n",
    "    \n",
    "    #formatter = DateFormatter('%d/%m\\n%H:%M:%S')\n",
    "    formatter = DateFormatter('%d/%m\\n%H:%M')\n",
    "    ax.xaxis.set_major_formatter(formatter)\n",
    "\n",
    "    # ticks sur axe des x\n",
    "    ax.xaxis.set_major_locator(MultipleLocator(major_ticks))  # major ticks tous les 15 min\n",
    "    ax.xaxis.set_minor_locator(MultipleLocator(minor_ticks))  # minor ticks tous les 5 min\n",
    "    ax.tick_params(which='both', width=3)\n",
    "    ax.tick_params(which='major', length=15, color='r')\n",
    "    ax.tick_params(which='minor', length=8, color='b')\n",
    "\n",
    "    #plt.plot(conso_data['cumul(ms)']/3600000,conso_data['Wh'])\n",
    "    plt.plot(time,conso_data['Wh'])\n",
    "    plt.ylabel('Wh')\n",
    "    plt.xlabel('Time (heures)')\n",
    "    #format_date(10)\n",
    "    for label in ax.get_xticklabels():\n",
    "        label.set_rotation(40)\n",
    "        label.set_horizontalalignment('right')\n",
    "\n",
    "    #fig.autofmt_xdate()\n",
    "    \n",
    "    plt.grid()\n",
    "    plt.show()\n",
    "show_graph()"
   ]
  },
  {
   "cell_type": "code",
   "execution_count": 2311,
   "metadata": {},
   "outputs": [
    {
     "data": {
      "text/html": [
       "<div>\n",
       "<style scoped>\n",
       "    .dataframe tbody tr th:only-of-type {\n",
       "        vertical-align: middle;\n",
       "    }\n",
       "\n",
       "    .dataframe tbody tr th {\n",
       "        vertical-align: top;\n",
       "    }\n",
       "\n",
       "    .dataframe thead th {\n",
       "        text-align: right;\n",
       "    }\n",
       "</style>\n",
       "<table border=\"1\" class=\"dataframe\">\n",
       "  <thead>\n",
       "    <tr style=\"text-align: right;\">\n",
       "      <th></th>\n",
       "      <th>Interval</th>\n",
       "      <th>kWh</th>\n",
       "      <th>sec</th>\n",
       "      <th>Wh</th>\n",
       "      <th>cumul(ms)</th>\n",
       "      <th>dates</th>\n",
       "      <th>days</th>\n",
       "    </tr>\n",
       "  </thead>\n",
       "  <tbody>\n",
       "    <tr>\n",
       "      <th>168872</th>\n",
       "      <td>23690</td>\n",
       "      <td>0.15</td>\n",
       "      <td>23.69</td>\n",
       "      <td>151.962854</td>\n",
       "      <td>4002009058</td>\n",
       "      <td>2024-04-22 09:27:32.098098</td>\n",
       "      <td>22/04/2024</td>\n",
       "    </tr>\n",
       "  </tbody>\n",
       "</table>\n",
       "</div>"
      ],
      "text/plain": [
       "        Interval   kWh    sec          Wh   cumul(ms)  \\\n",
       "168872     23690  0.15  23.69  151.962854  4002009058   \n",
       "\n",
       "                            dates        days  \n",
       "168872 2024-04-22 09:27:32.098098  22/04/2024  "
      ]
     },
     "execution_count": 2311,
     "metadata": {},
     "output_type": "execute_result"
    }
   ],
   "source": [
    "cumul_conso = len(conso_data)\n",
    "conso_data.tail(1)"
   ]
  },
  {
   "cell_type": "code",
   "execution_count": 2312,
   "metadata": {},
   "outputs": [
    {
     "data": {
      "text/plain": [
       "4002009058000"
      ]
     },
     "execution_count": 2312,
     "metadata": {},
     "output_type": "execute_result"
    }
   ],
   "source": [
    "cumtime= int(conso_data._get_value(l,'cumul(ms)')*1000)\n",
    "cumtime"
   ]
  },
  {
   "cell_type": "markdown",
   "metadata": {},
   "source": [
    "# Slice of last 1 kWh"
   ]
  },
  {
   "cell_type": "code",
   "execution_count": 2313,
   "metadata": {},
   "outputs": [
    {
     "data": {
      "text/plain": [
       "168873"
      ]
     },
     "execution_count": 2313,
     "metadata": {},
     "output_type": "execute_result"
    }
   ],
   "source": [
    "l = len(conso_data)  # total watt consommés\n",
    "l"
   ]
  },
  {
   "cell_type": "code",
   "execution_count": 2314,
   "metadata": {},
   "outputs": [
    {
     "data": {
      "text/plain": [
       "(168873, 1000)"
      ]
     },
     "execution_count": 2314,
     "metadata": {},
     "output_type": "execute_result"
    }
   ],
   "source": [
    "k = 1\n",
    "taille = k*1000  # fenetre k*1000 watt consommés\n",
    "l,taille"
   ]
  },
  {
   "cell_type": "code",
   "execution_count": 2315,
   "metadata": {},
   "outputs": [
    {
     "data": {
      "text/plain": [
       "1000"
      ]
     },
     "execution_count": 2315,
     "metadata": {},
     "output_type": "execute_result"
    }
   ],
   "source": [
    "if l<1000:\n",
    "    part = 1\n",
    "else: part = 1/2\n",
    "#taille = int(part*l)\n",
    "taille"
   ]
  },
  {
   "cell_type": "code",
   "execution_count": 2316,
   "metadata": {},
   "outputs": [
    {
     "data": {
      "text/plain": [
       "(1000,\n",
       "         Interval   kWh     sec          Wh   cumul(ms)  \\\n",
       " 167873     26813  0.13  26.813  134.263231  3971787443   \n",
       " 167874     15269  0.23  15.269  235.771825  3971802712   \n",
       " 167875     17326  0.21  17.326  207.780215  3971820038   \n",
       " 167876     17453  0.21  17.453  206.268263  3971837491   \n",
       " 167877     17342  0.21  17.342  207.588513  3971854833   \n",
       " ...          ...   ...     ...         ...         ...   \n",
       " 168868     23193  0.16  23.193  155.219247  4001916596   \n",
       " 168869     21890  0.16  21.890  164.458657  4001938486   \n",
       " 168870     23131  0.16  23.131  155.635295  4001961617   \n",
       " 168871     23751  0.15  23.751  151.572565  4001985368   \n",
       " 168872     23690  0.15  23.690  151.962854  4002009058   \n",
       " \n",
       "                             dates        days  \n",
       " 167873 2024-04-22 01:03:50.483098  22/04/2024  \n",
       " 167874 2024-04-22 01:04:05.752098  22/04/2024  \n",
       " 167875 2024-04-22 01:04:23.078098  22/04/2024  \n",
       " 167876 2024-04-22 01:04:40.531098  22/04/2024  \n",
       " 167877 2024-04-22 01:04:57.873098  22/04/2024  \n",
       " ...                           ...         ...  \n",
       " 168868 2024-04-22 09:25:59.636098  22/04/2024  \n",
       " 168869 2024-04-22 09:26:21.526098  22/04/2024  \n",
       " 168870 2024-04-22 09:26:44.657098  22/04/2024  \n",
       " 168871 2024-04-22 09:27:08.408098  22/04/2024  \n",
       " 168872 2024-04-22 09:27:32.098098  22/04/2024  \n",
       " \n",
       " [1000 rows x 7 columns])"
      ]
     },
     "execution_count": 2316,
     "metadata": {},
     "output_type": "execute_result"
    }
   ],
   "source": [
    "data = conso_data.tail(taille)\n",
    "len(data),data"
   ]
  },
  {
   "cell_type": "code",
   "execution_count": 2317,
   "metadata": {},
   "outputs": [],
   "source": [
    "now = datetime.now()\n",
    "# conso.csv dynamique\n",
    "cumtime_start= int(conso_data._get_value(l-taille+1,'cumul(ms)')*1000) # conversion microseconds\n"
   ]
  },
  {
   "cell_type": "code",
   "execution_count": 2318,
   "metadata": {},
   "outputs": [],
   "source": [
    "cumtime_end= int(data._get_value(l-1,'cumul(ms)')*1000) # conversion microseconds\n"
   ]
  },
  {
   "cell_type": "code",
   "execution_count": 2319,
   "metadata": {},
   "outputs": [
    {
     "data": {
      "text/plain": [
       "(4002009058000, 3971802712000)"
      ]
     },
     "execution_count": 2319,
     "metadata": {},
     "output_type": "execute_result"
    }
   ],
   "source": [
    "cumtime_end,cumtime_start"
   ]
  },
  {
   "cell_type": "code",
   "execution_count": 2320,
   "metadata": {},
   "outputs": [
    {
     "data": {
      "text/plain": [
       "30206346000"
      ]
     },
     "execution_count": 2320,
     "metadata": {},
     "output_type": "execute_result"
    }
   ],
   "source": [
    "#last_interval = int(data._get_value(l,'Interval')*1000) # conversion microseconds\n",
    "delta_cumtime = cumtime_end - cumtime_start #+ last_interval\n",
    "delta_cumtime"
   ]
  },
  {
   "cell_type": "code",
   "execution_count": 2321,
   "metadata": {},
   "outputs": [
    {
     "data": {
      "text/plain": [
       "(datetime.datetime(2024, 4, 22, 9, 27, 43, 833449),\n",
       " datetime.datetime(2024, 4, 22, 1, 4, 17, 487449),\n",
       " '22/04/2024 09:27:32')"
      ]
     },
     "execution_count": 2321,
     "metadata": {},
     "output_type": "execute_result"
    }
   ],
   "source": [
    "\n",
    "base = now - timedelta(microseconds=delta_cumtime)\n",
    "now,base, data['dates'][l-1].strftime('%d/%m/%Y %H:%M:%S')\n"
   ]
  },
  {
   "cell_type": "code",
   "execution_count": 2322,
   "metadata": {},
   "outputs": [
    {
     "data": {
      "text/html": [
       "<div>\n",
       "<style scoped>\n",
       "    .dataframe tbody tr th:only-of-type {\n",
       "        vertical-align: middle;\n",
       "    }\n",
       "\n",
       "    .dataframe tbody tr th {\n",
       "        vertical-align: top;\n",
       "    }\n",
       "\n",
       "    .dataframe thead th {\n",
       "        text-align: right;\n",
       "    }\n",
       "</style>\n",
       "<table border=\"1\" class=\"dataframe\">\n",
       "  <thead>\n",
       "    <tr style=\"text-align: right;\">\n",
       "      <th></th>\n",
       "      <th>Interval</th>\n",
       "      <th>kWh</th>\n",
       "      <th>sec</th>\n",
       "      <th>Wh</th>\n",
       "      <th>cumul(ms)</th>\n",
       "      <th>dates</th>\n",
       "      <th>days</th>\n",
       "    </tr>\n",
       "  </thead>\n",
       "  <tbody>\n",
       "    <tr>\n",
       "      <th>0</th>\n",
       "      <td>26289</td>\n",
       "      <td>0.14</td>\n",
       "      <td>26.289</td>\n",
       "      <td>136.939404</td>\n",
       "      <td>26289</td>\n",
       "      <td>2024-03-07 01:47:49.329098</td>\n",
       "      <td>07/03/2024</td>\n",
       "    </tr>\n",
       "    <tr>\n",
       "      <th>1</th>\n",
       "      <td>26243</td>\n",
       "      <td>0.14</td>\n",
       "      <td>26.243</td>\n",
       "      <td>137.179438</td>\n",
       "      <td>52532</td>\n",
       "      <td>2024-03-07 01:48:15.572098</td>\n",
       "      <td>07/03/2024</td>\n",
       "    </tr>\n",
       "    <tr>\n",
       "      <th>2</th>\n",
       "      <td>25885</td>\n",
       "      <td>0.14</td>\n",
       "      <td>25.885</td>\n",
       "      <td>139.076685</td>\n",
       "      <td>78417</td>\n",
       "      <td>2024-03-07 01:48:41.457098</td>\n",
       "      <td>07/03/2024</td>\n",
       "    </tr>\n",
       "    <tr>\n",
       "      <th>3</th>\n",
       "      <td>25754</td>\n",
       "      <td>0.14</td>\n",
       "      <td>25.754</td>\n",
       "      <td>139.784111</td>\n",
       "      <td>104171</td>\n",
       "      <td>2024-03-07 01:49:07.211098</td>\n",
       "      <td>07/03/2024</td>\n",
       "    </tr>\n",
       "    <tr>\n",
       "      <th>4</th>\n",
       "      <td>25774</td>\n",
       "      <td>0.14</td>\n",
       "      <td>25.774</td>\n",
       "      <td>139.675642</td>\n",
       "      <td>129945</td>\n",
       "      <td>2024-03-07 01:49:32.985098</td>\n",
       "      <td>07/03/2024</td>\n",
       "    </tr>\n",
       "    <tr>\n",
       "      <th>...</th>\n",
       "      <td>...</td>\n",
       "      <td>...</td>\n",
       "      <td>...</td>\n",
       "      <td>...</td>\n",
       "      <td>...</td>\n",
       "      <td>...</td>\n",
       "      <td>...</td>\n",
       "    </tr>\n",
       "    <tr>\n",
       "      <th>168868</th>\n",
       "      <td>23193</td>\n",
       "      <td>0.16</td>\n",
       "      <td>23.193</td>\n",
       "      <td>155.219247</td>\n",
       "      <td>4001916596</td>\n",
       "      <td>2024-04-22 09:25:59.636098</td>\n",
       "      <td>22/04/2024</td>\n",
       "    </tr>\n",
       "    <tr>\n",
       "      <th>168869</th>\n",
       "      <td>21890</td>\n",
       "      <td>0.16</td>\n",
       "      <td>21.890</td>\n",
       "      <td>164.458657</td>\n",
       "      <td>4001938486</td>\n",
       "      <td>2024-04-22 09:26:21.526098</td>\n",
       "      <td>22/04/2024</td>\n",
       "    </tr>\n",
       "    <tr>\n",
       "      <th>168870</th>\n",
       "      <td>23131</td>\n",
       "      <td>0.16</td>\n",
       "      <td>23.131</td>\n",
       "      <td>155.635295</td>\n",
       "      <td>4001961617</td>\n",
       "      <td>2024-04-22 09:26:44.657098</td>\n",
       "      <td>22/04/2024</td>\n",
       "    </tr>\n",
       "    <tr>\n",
       "      <th>168871</th>\n",
       "      <td>23751</td>\n",
       "      <td>0.15</td>\n",
       "      <td>23.751</td>\n",
       "      <td>151.572565</td>\n",
       "      <td>4001985368</td>\n",
       "      <td>2024-04-22 09:27:08.408098</td>\n",
       "      <td>22/04/2024</td>\n",
       "    </tr>\n",
       "    <tr>\n",
       "      <th>168872</th>\n",
       "      <td>23690</td>\n",
       "      <td>0.15</td>\n",
       "      <td>23.690</td>\n",
       "      <td>151.962854</td>\n",
       "      <td>4002009058</td>\n",
       "      <td>2024-04-22 09:27:32.098098</td>\n",
       "      <td>22/04/2024</td>\n",
       "    </tr>\n",
       "  </tbody>\n",
       "</table>\n",
       "<p>168873 rows × 7 columns</p>\n",
       "</div>"
      ],
      "text/plain": [
       "        Interval   kWh     sec          Wh   cumul(ms)  \\\n",
       "0          26289  0.14  26.289  136.939404       26289   \n",
       "1          26243  0.14  26.243  137.179438       52532   \n",
       "2          25885  0.14  25.885  139.076685       78417   \n",
       "3          25754  0.14  25.754  139.784111      104171   \n",
       "4          25774  0.14  25.774  139.675642      129945   \n",
       "...          ...   ...     ...         ...         ...   \n",
       "168868     23193  0.16  23.193  155.219247  4001916596   \n",
       "168869     21890  0.16  21.890  164.458657  4001938486   \n",
       "168870     23131  0.16  23.131  155.635295  4001961617   \n",
       "168871     23751  0.15  23.751  151.572565  4001985368   \n",
       "168872     23690  0.15  23.690  151.962854  4002009058   \n",
       "\n",
       "                            dates        days  \n",
       "0      2024-03-07 01:47:49.329098  07/03/2024  \n",
       "1      2024-03-07 01:48:15.572098  07/03/2024  \n",
       "2      2024-03-07 01:48:41.457098  07/03/2024  \n",
       "3      2024-03-07 01:49:07.211098  07/03/2024  \n",
       "4      2024-03-07 01:49:32.985098  07/03/2024  \n",
       "...                           ...         ...  \n",
       "168868 2024-04-22 09:25:59.636098  22/04/2024  \n",
       "168869 2024-04-22 09:26:21.526098  22/04/2024  \n",
       "168870 2024-04-22 09:26:44.657098  22/04/2024  \n",
       "168871 2024-04-22 09:27:08.408098  22/04/2024  \n",
       "168872 2024-04-22 09:27:32.098098  22/04/2024  \n",
       "\n",
       "[168873 rows x 7 columns]"
      ]
     },
     "execution_count": 2322,
     "metadata": {},
     "output_type": "execute_result"
    }
   ],
   "source": [
    "conso_data"
   ]
  },
  {
   "cell_type": "code",
   "execution_count": 2323,
   "metadata": {},
   "outputs": [
    {
     "data": {
      "text/plain": [
       "('22/04/2024 01:04:05', '22/04/2024 09:27:32')"
      ]
     },
     "execution_count": 2323,
     "metadata": {},
     "output_type": "execute_result"
    }
   ],
   "source": [
    "end = conso_data['dates'][l-1].strftime('%d/%m/%Y %H:%M:%S')\n",
    "start = conso_data['dates'][l-taille+1].strftime('%d/%m/%Y %H:%M:%S')\n",
    "start,end"
   ]
  },
  {
   "cell_type": "code",
   "execution_count": 2324,
   "metadata": {},
   "outputs": [
    {
     "data": {
      "text/plain": [
       "('2024-04-22 01:03:50.483098', '2024-04-22 09:27:32.098098')"
      ]
     },
     "execution_count": 2324,
     "metadata": {},
     "output_type": "execute_result"
    }
   ],
   "source": [
    "data.head(1)['dates'].to_string(index=False),data.tail(1)['dates'].to_string(index=False)"
   ]
  },
  {
   "cell_type": "code",
   "execution_count": 2325,
   "metadata": {},
   "outputs": [
    {
     "data": {
      "text/plain": [
       "1"
      ]
     },
     "execution_count": 2325,
     "metadata": {},
     "output_type": "execute_result"
    }
   ],
   "source": [
    "k"
   ]
  },
  {
   "cell_type": "code",
   "execution_count": 2326,
   "metadata": {},
   "outputs": [
    {
     "data": {
      "text/plain": [
       "167873    26813\n",
       "167874    15269\n",
       "167875    17326\n",
       "167876    17453\n",
       "167877    17342\n",
       "          ...  \n",
       "168868    23193\n",
       "168869    21890\n",
       "168870    23131\n",
       "168871    23751\n",
       "168872    23690\n",
       "Name: Interval, Length: 1000, dtype: int64"
      ]
     },
     "execution_count": 2326,
     "metadata": {},
     "output_type": "execute_result"
    }
   ],
   "source": [
    "data.Interval.tail(1000)"
   ]
  },
  {
   "cell_type": "code",
   "execution_count": 2327,
   "metadata": {},
   "outputs": [
    {
     "data": {
      "text/plain": [
       "(8.402341111111113, 2.8563467827154514, 8, 24, 8)"
      ]
     },
     "execution_count": 2327,
     "metadata": {},
     "output_type": "execute_result"
    }
   ],
   "source": [
    "conversion_us_heure = 1/1000/60/60 \n",
    "temps_1kWh = sum(data.Interval.tail(1000))*conversion_us_heure  #somme 1000 interval = temps conso 1 kWh\n",
    "conso_jour = 24/temps_1kWh\n",
    "heure = int(temps_1kWh)\n",
    "mn = (temps_1kWh - heure)*60\n",
    "sec = (mn - int(mn))*60\n",
    "temps_1kWh, conso_jour,heure,int(mn),int(sec)"
   ]
  },
  {
   "cell_type": "code",
   "execution_count": 2328,
   "metadata": {},
   "outputs": [
    {
     "name": "stderr",
     "output_type": "stream",
     "text": [
      "C:\\Users\\jean\\AppData\\Local\\Temp\\ipykernel_26500\\3458501435.py:1: SettingWithCopyWarning: \n",
      "A value is trying to be set on a copy of a slice from a DataFrame.\n",
      "Try using .loc[row_indexer,col_indexer] = value instead\n",
      "\n",
      "See the caveats in the documentation: https://pandas.pydata.org/pandas-docs/stable/user_guide/indexing.html#returning-a-view-versus-a-copy\n",
      "  data['heure']=conso_data['dates']#.strftime('%d/%m/%Y %H:%M:%S')\n"
     ]
    }
   ],
   "source": [
    "data['heure']=conso_data['dates']#.strftime('%d/%m/%Y %H:%M:%S')"
   ]
  },
  {
   "cell_type": "code",
   "execution_count": 2329,
   "metadata": {},
   "outputs": [
    {
     "data": {
      "text/html": [
       "<div>\n",
       "<style scoped>\n",
       "    .dataframe tbody tr th:only-of-type {\n",
       "        vertical-align: middle;\n",
       "    }\n",
       "\n",
       "    .dataframe tbody tr th {\n",
       "        vertical-align: top;\n",
       "    }\n",
       "\n",
       "    .dataframe thead th {\n",
       "        text-align: right;\n",
       "    }\n",
       "</style>\n",
       "<table border=\"1\" class=\"dataframe\">\n",
       "  <thead>\n",
       "    <tr style=\"text-align: right;\">\n",
       "      <th></th>\n",
       "      <th>Interval</th>\n",
       "      <th>kWh</th>\n",
       "      <th>sec</th>\n",
       "      <th>Wh</th>\n",
       "      <th>cumul(ms)</th>\n",
       "      <th>dates</th>\n",
       "      <th>days</th>\n",
       "      <th>heure</th>\n",
       "    </tr>\n",
       "  </thead>\n",
       "  <tbody>\n",
       "    <tr>\n",
       "      <th>167873</th>\n",
       "      <td>26813</td>\n",
       "      <td>0.13</td>\n",
       "      <td>26.813</td>\n",
       "      <td>134.263231</td>\n",
       "      <td>3971787443</td>\n",
       "      <td>2024-04-22 01:03:50.483098</td>\n",
       "      <td>22/04/2024</td>\n",
       "      <td>2024-04-22 01:03:50.483098</td>\n",
       "    </tr>\n",
       "    <tr>\n",
       "      <th>167874</th>\n",
       "      <td>15269</td>\n",
       "      <td>0.23</td>\n",
       "      <td>15.269</td>\n",
       "      <td>235.771825</td>\n",
       "      <td>3971802712</td>\n",
       "      <td>2024-04-22 01:04:05.752098</td>\n",
       "      <td>22/04/2024</td>\n",
       "      <td>2024-04-22 01:04:05.752098</td>\n",
       "    </tr>\n",
       "    <tr>\n",
       "      <th>167875</th>\n",
       "      <td>17326</td>\n",
       "      <td>0.21</td>\n",
       "      <td>17.326</td>\n",
       "      <td>207.780215</td>\n",
       "      <td>3971820038</td>\n",
       "      <td>2024-04-22 01:04:23.078098</td>\n",
       "      <td>22/04/2024</td>\n",
       "      <td>2024-04-22 01:04:23.078098</td>\n",
       "    </tr>\n",
       "    <tr>\n",
       "      <th>167876</th>\n",
       "      <td>17453</td>\n",
       "      <td>0.21</td>\n",
       "      <td>17.453</td>\n",
       "      <td>206.268263</td>\n",
       "      <td>3971837491</td>\n",
       "      <td>2024-04-22 01:04:40.531098</td>\n",
       "      <td>22/04/2024</td>\n",
       "      <td>2024-04-22 01:04:40.531098</td>\n",
       "    </tr>\n",
       "    <tr>\n",
       "      <th>167877</th>\n",
       "      <td>17342</td>\n",
       "      <td>0.21</td>\n",
       "      <td>17.342</td>\n",
       "      <td>207.588513</td>\n",
       "      <td>3971854833</td>\n",
       "      <td>2024-04-22 01:04:57.873098</td>\n",
       "      <td>22/04/2024</td>\n",
       "      <td>2024-04-22 01:04:57.873098</td>\n",
       "    </tr>\n",
       "    <tr>\n",
       "      <th>...</th>\n",
       "      <td>...</td>\n",
       "      <td>...</td>\n",
       "      <td>...</td>\n",
       "      <td>...</td>\n",
       "      <td>...</td>\n",
       "      <td>...</td>\n",
       "      <td>...</td>\n",
       "      <td>...</td>\n",
       "    </tr>\n",
       "    <tr>\n",
       "      <th>168868</th>\n",
       "      <td>23193</td>\n",
       "      <td>0.16</td>\n",
       "      <td>23.193</td>\n",
       "      <td>155.219247</td>\n",
       "      <td>4001916596</td>\n",
       "      <td>2024-04-22 09:25:59.636098</td>\n",
       "      <td>22/04/2024</td>\n",
       "      <td>2024-04-22 09:25:59.636098</td>\n",
       "    </tr>\n",
       "    <tr>\n",
       "      <th>168869</th>\n",
       "      <td>21890</td>\n",
       "      <td>0.16</td>\n",
       "      <td>21.890</td>\n",
       "      <td>164.458657</td>\n",
       "      <td>4001938486</td>\n",
       "      <td>2024-04-22 09:26:21.526098</td>\n",
       "      <td>22/04/2024</td>\n",
       "      <td>2024-04-22 09:26:21.526098</td>\n",
       "    </tr>\n",
       "    <tr>\n",
       "      <th>168870</th>\n",
       "      <td>23131</td>\n",
       "      <td>0.16</td>\n",
       "      <td>23.131</td>\n",
       "      <td>155.635295</td>\n",
       "      <td>4001961617</td>\n",
       "      <td>2024-04-22 09:26:44.657098</td>\n",
       "      <td>22/04/2024</td>\n",
       "      <td>2024-04-22 09:26:44.657098</td>\n",
       "    </tr>\n",
       "    <tr>\n",
       "      <th>168871</th>\n",
       "      <td>23751</td>\n",
       "      <td>0.15</td>\n",
       "      <td>23.751</td>\n",
       "      <td>151.572565</td>\n",
       "      <td>4001985368</td>\n",
       "      <td>2024-04-22 09:27:08.408098</td>\n",
       "      <td>22/04/2024</td>\n",
       "      <td>2024-04-22 09:27:08.408098</td>\n",
       "    </tr>\n",
       "    <tr>\n",
       "      <th>168872</th>\n",
       "      <td>23690</td>\n",
       "      <td>0.15</td>\n",
       "      <td>23.690</td>\n",
       "      <td>151.962854</td>\n",
       "      <td>4002009058</td>\n",
       "      <td>2024-04-22 09:27:32.098098</td>\n",
       "      <td>22/04/2024</td>\n",
       "      <td>2024-04-22 09:27:32.098098</td>\n",
       "    </tr>\n",
       "  </tbody>\n",
       "</table>\n",
       "<p>1000 rows × 8 columns</p>\n",
       "</div>"
      ],
      "text/plain": [
       "        Interval   kWh     sec          Wh   cumul(ms)  \\\n",
       "167873     26813  0.13  26.813  134.263231  3971787443   \n",
       "167874     15269  0.23  15.269  235.771825  3971802712   \n",
       "167875     17326  0.21  17.326  207.780215  3971820038   \n",
       "167876     17453  0.21  17.453  206.268263  3971837491   \n",
       "167877     17342  0.21  17.342  207.588513  3971854833   \n",
       "...          ...   ...     ...         ...         ...   \n",
       "168868     23193  0.16  23.193  155.219247  4001916596   \n",
       "168869     21890  0.16  21.890  164.458657  4001938486   \n",
       "168870     23131  0.16  23.131  155.635295  4001961617   \n",
       "168871     23751  0.15  23.751  151.572565  4001985368   \n",
       "168872     23690  0.15  23.690  151.962854  4002009058   \n",
       "\n",
       "                            dates        days                      heure  \n",
       "167873 2024-04-22 01:03:50.483098  22/04/2024 2024-04-22 01:03:50.483098  \n",
       "167874 2024-04-22 01:04:05.752098  22/04/2024 2024-04-22 01:04:05.752098  \n",
       "167875 2024-04-22 01:04:23.078098  22/04/2024 2024-04-22 01:04:23.078098  \n",
       "167876 2024-04-22 01:04:40.531098  22/04/2024 2024-04-22 01:04:40.531098  \n",
       "167877 2024-04-22 01:04:57.873098  22/04/2024 2024-04-22 01:04:57.873098  \n",
       "...                           ...         ...                        ...  \n",
       "168868 2024-04-22 09:25:59.636098  22/04/2024 2024-04-22 09:25:59.636098  \n",
       "168869 2024-04-22 09:26:21.526098  22/04/2024 2024-04-22 09:26:21.526098  \n",
       "168870 2024-04-22 09:26:44.657098  22/04/2024 2024-04-22 09:26:44.657098  \n",
       "168871 2024-04-22 09:27:08.408098  22/04/2024 2024-04-22 09:27:08.408098  \n",
       "168872 2024-04-22 09:27:32.098098  22/04/2024 2024-04-22 09:27:32.098098  \n",
       "\n",
       "[1000 rows x 8 columns]"
      ]
     },
     "execution_count": 2329,
     "metadata": {},
     "output_type": "execute_result"
    }
   ],
   "source": [
    "data"
   ]
  },
  {
   "cell_type": "code",
   "execution_count": 2330,
   "metadata": {},
   "outputs": [
    {
     "data": {
      "text/plain": [
       "<Axes: >"
      ]
     },
     "execution_count": 2330,
     "metadata": {},
     "output_type": "execute_result"
    },
    {
     "data": {
      "image/png": "[encoded data removed]",
      "text/plain": [
       "<Figure size 640x480 with 1 Axes>"
      ]
     },
     "metadata": {},
     "output_type": "display_data"
    }
   ],
   "source": [
    "#data.tail(600)['Wh'].plot()\n",
    "data['Wh'].plot()"
   ]
  },
  {
   "cell_type": "code",
   "execution_count": 2331,
   "metadata": {},
   "outputs": [
    {
     "data": {
      "text/plain": [
       "167873    134.263231\n",
       "167874    235.771825\n",
       "167875    207.780215\n",
       "167876    206.268263\n",
       "167877    207.588513\n",
       "             ...    \n",
       "168868    155.219247\n",
       "168869    164.458657\n",
       "168870    155.635295\n",
       "168871    151.572565\n",
       "168872    151.962854\n",
       "Name: Wh, Length: 1000, dtype: float64"
      ]
     },
     "execution_count": 2331,
     "metadata": {},
     "output_type": "execute_result"
    }
   ],
   "source": [
    "data['Wh']"
   ]
  },
  {
   "cell_type": "markdown",
   "metadata": {},
   "source": [
    "# k kW window graph"
   ]
  },
  {
   "cell_type": "code",
   "execution_count": 2332,
   "metadata": {},
   "outputs": [
    {
     "data": {
      "image/png": "[encoded data removed]",
      "text/plain": [
       "<Figure size 1500x800 with 1 Axes>"
      ]
     },
     "metadata": {},
     "output_type": "display_data"
    }
   ],
   "source": [
    "fig, ax = plt.subplots()\n",
    "# the size of A4 paper\n",
    "fig.set_size_inches(15, 8)\n",
    "\n",
    "formatter = DateFormatter('%d/%m\\n%H:%M')\n",
    "ax.xaxis.set_major_formatter(formatter)\n",
    "\n",
    "# ticks sur axe des x\n",
    "major_ticks=1/30;minor_ticks=1/360\n",
    "ax.xaxis.set_major_locator(MultipleLocator(major_ticks))  # 1 major tick tous les 48 min\n",
    "ax.xaxis.set_minor_locator(MultipleLocator(minor_ticks))  # 1 minor ticks tous les 4 min\n",
    "ax.tick_params(which='both', width=3)\n",
    "ax.tick_params(which='major', length=15, color='r')\n",
    "ax.tick_params(which='minor', length=8, color='b')\n",
    "\n",
    "plt.title(f'Consommation {k} kW (Temps: {heure} heures {int(mn)} minutes {int(sec)} secondes)\\nDe {start} à {end}')\n",
    "plt.plot(data['dates'],data['Wh'])\n",
    "plt.ylabel('Wh')\n",
    "plt.xlabel('Time (heures)')\n",
    "plt.grid()\n"
   ]
  },
  {
   "cell_type": "code",
   "execution_count": 2333,
   "metadata": {},
   "outputs": [
    {
     "data": {
      "text/plain": [
       "<Axes: ylabel='Frequency'>"
      ]
     },
     "execution_count": 2333,
     "metadata": {},
     "output_type": "execute_result"
    },
    {
     "data": {
      "image/png": "[encoded data removed]",
      "text/plain": [
       "<Figure size 640x480 with 1 Axes>"
      ]
     },
     "metadata": {},
     "output_type": "display_data"
    }
   ],
   "source": [
    "data.kWh.plot.hist(bins=50,rwidth=0.8,grid=True)\n"
   ]
  },
  {
   "cell_type": "code",
   "execution_count": 2334,
   "metadata": {},
   "outputs": [
    {
     "data": {
      "text/html": [
       "<div>\n",
       "<style scoped>\n",
       "    .dataframe tbody tr th:only-of-type {\n",
       "        vertical-align: middle;\n",
       "    }\n",
       "\n",
       "    .dataframe tbody tr th {\n",
       "        vertical-align: top;\n",
       "    }\n",
       "\n",
       "    .dataframe thead th {\n",
       "        text-align: right;\n",
       "    }\n",
       "</style>\n",
       "<table border=\"1\" class=\"dataframe\">\n",
       "  <thead>\n",
       "    <tr style=\"text-align: right;\">\n",
       "      <th></th>\n",
       "      <th>Interval</th>\n",
       "      <th>kWh</th>\n",
       "      <th>sec</th>\n",
       "      <th>Wh</th>\n",
       "      <th>cumul(ms)</th>\n",
       "      <th>dates</th>\n",
       "      <th>days</th>\n",
       "    </tr>\n",
       "  </thead>\n",
       "  <tbody>\n",
       "    <tr>\n",
       "      <th>168868</th>\n",
       "      <td>23193</td>\n",
       "      <td>0.16</td>\n",
       "      <td>23.193</td>\n",
       "      <td>155.219247</td>\n",
       "      <td>4001916596</td>\n",
       "      <td>2024-04-22 09:25:59.636098</td>\n",
       "      <td>22/04/2024</td>\n",
       "    </tr>\n",
       "    <tr>\n",
       "      <th>168869</th>\n",
       "      <td>21890</td>\n",
       "      <td>0.16</td>\n",
       "      <td>21.890</td>\n",
       "      <td>164.458657</td>\n",
       "      <td>4001938486</td>\n",
       "      <td>2024-04-22 09:26:21.526098</td>\n",
       "      <td>22/04/2024</td>\n",
       "    </tr>\n",
       "    <tr>\n",
       "      <th>168870</th>\n",
       "      <td>23131</td>\n",
       "      <td>0.16</td>\n",
       "      <td>23.131</td>\n",
       "      <td>155.635295</td>\n",
       "      <td>4001961617</td>\n",
       "      <td>2024-04-22 09:26:44.657098</td>\n",
       "      <td>22/04/2024</td>\n",
       "    </tr>\n",
       "    <tr>\n",
       "      <th>168871</th>\n",
       "      <td>23751</td>\n",
       "      <td>0.15</td>\n",
       "      <td>23.751</td>\n",
       "      <td>151.572565</td>\n",
       "      <td>4001985368</td>\n",
       "      <td>2024-04-22 09:27:08.408098</td>\n",
       "      <td>22/04/2024</td>\n",
       "    </tr>\n",
       "    <tr>\n",
       "      <th>168872</th>\n",
       "      <td>23690</td>\n",
       "      <td>0.15</td>\n",
       "      <td>23.690</td>\n",
       "      <td>151.962854</td>\n",
       "      <td>4002009058</td>\n",
       "      <td>2024-04-22 09:27:32.098098</td>\n",
       "      <td>22/04/2024</td>\n",
       "    </tr>\n",
       "  </tbody>\n",
       "</table>\n",
       "</div>"
      ],
      "text/plain": [
       "        Interval   kWh     sec          Wh   cumul(ms)  \\\n",
       "168868     23193  0.16  23.193  155.219247  4001916596   \n",
       "168869     21890  0.16  21.890  164.458657  4001938486   \n",
       "168870     23131  0.16  23.131  155.635295  4001961617   \n",
       "168871     23751  0.15  23.751  151.572565  4001985368   \n",
       "168872     23690  0.15  23.690  151.962854  4002009058   \n",
       "\n",
       "                            dates        days  \n",
       "168868 2024-04-22 09:25:59.636098  22/04/2024  \n",
       "168869 2024-04-22 09:26:21.526098  22/04/2024  \n",
       "168870 2024-04-22 09:26:44.657098  22/04/2024  \n",
       "168871 2024-04-22 09:27:08.408098  22/04/2024  \n",
       "168872 2024-04-22 09:27:32.098098  22/04/2024  "
      ]
     },
     "execution_count": 2334,
     "metadata": {},
     "output_type": "execute_result"
    }
   ],
   "source": [
    "conso_data.tail()"
   ]
  },
  {
   "cell_type": "code",
   "execution_count": 2335,
   "metadata": {},
   "outputs": [
    {
     "data": {
      "image/png": "[encoded data removed]",
      "text/plain": [
       "<Figure size 640x480 with 1 Axes>"
      ]
     },
     "metadata": {},
     "output_type": "display_data"
    }
   ],
   "source": [
    "conso_data.tail(1000)['kWh'].plot()\n",
    "plt.grid()"
   ]
  },
  {
   "cell_type": "code",
   "execution_count": 2336,
   "metadata": {},
   "outputs": [
    {
     "data": {
      "text/plain": [
       "(4002009058000.0, 66700.15096666667)"
      ]
     },
     "execution_count": 2336,
     "metadata": {},
     "output_type": "execute_result"
    }
   ],
   "source": [
    "#plt.plot(conso_data['sec'])\n",
    "now = dt.datetime.now()\n",
    "last_cumul = np.array(conso_data['cumul(ms)'].tail(1))[0]*1000.0  # us\n",
    "last_cumul, last_cumul/60e6  # min"
   ]
  },
  {
   "cell_type": "code",
   "execution_count": 2337,
   "metadata": {},
   "outputs": [
    {
     "data": {
      "text/plain": [
       "(datetime.datetime(2024, 4, 22, 9, 27, 47, 85382),\n",
       " datetime.datetime(2024, 3, 7, 1, 47, 38, 27382))"
      ]
     },
     "execution_count": 2337,
     "metadata": {},
     "output_type": "execute_result"
    }
   ],
   "source": [
    "begin = now - dt.timedelta(microseconds=last_cumul)  #2023, 6, 24, 9, 14, (39, 942895) approximatif\n",
    "now, begin"
   ]
  },
  {
   "cell_type": "code",
   "execution_count": 2338,
   "metadata": {},
   "outputs": [
    {
     "data": {
      "text/plain": [
       "(168873, 4002010, 1111.6694444444445)"
      ]
     },
     "execution_count": 2338,
     "metadata": {},
     "output_type": "execute_result"
    }
   ],
   "source": [
    "x = mdates.drange(begin,now,dt.timedelta(microseconds=1000000))  # seconds\n",
    "len(conso_data),len(x),len(x)/3600"
   ]
  },
  {
   "cell_type": "code",
   "execution_count": 2339,
   "metadata": {},
   "outputs": [],
   "source": [
    "def format_date(space=3):\n",
    "    plt.gca().xaxis.set_major_formatter(mdates.DateFormatter('%d/%m\\n%H:%M'))\n",
    "    plt.gca().xaxis.set_major_locator(mdates.HourLocator(space))\n",
    "    plt.gca().xaxis.set_major_locator(mdates.HourLocator(interval=space))\n",
    "    plt.gcf().autofmt_xdate()\n",
    "    plt.grid()"
   ]
  },
  {
   "cell_type": "code",
   "execution_count": 2340,
   "metadata": {},
   "outputs": [
    {
     "data": {
      "text/plain": [
       "732"
      ]
     },
     "execution_count": 2340,
     "metadata": {},
     "output_type": "execute_result"
    }
   ],
   "source": [
    "import numpy as np\n",
    "import datetime as dt\n",
    "import matplotlib.pyplot as plt\n",
    "base = dt.datetime(2005, 2, 1)\n",
    "dates = [base + dt.timedelta(hours=(2 * i)) for i in range(732)]\n",
    "N = len(dates)\n",
    "N\n"
   ]
  },
  {
   "cell_type": "code",
   "execution_count": 2341,
   "metadata": {},
   "outputs": [
    {
     "data": {
      "text/plain": [
       "61.0"
      ]
     },
     "execution_count": 2341,
     "metadata": {},
     "output_type": "execute_result"
    }
   ],
   "source": [
    "732/12 # 60 jours"
   ]
  },
  {
   "cell_type": "code",
   "execution_count": 2342,
   "metadata": {},
   "outputs": [
    {
     "data": {
      "text/plain": [
       "(datetime.datetime(2005, 2, 1, 0, 0), datetime.datetime(2005, 4, 2, 22, 0))"
      ]
     },
     "execution_count": 2342,
     "metadata": {},
     "output_type": "execute_result"
    }
   ],
   "source": [
    "dates[0],dates[-1]"
   ]
  },
  {
   "cell_type": "code",
   "execution_count": 2343,
   "metadata": {},
   "outputs": [
    {
     "data": {
      "image/png": "[encoded data removed]",
      "text/plain": [
       "<Figure size 600x600 with 3 Axes>"
      ]
     },
     "metadata": {},
     "output_type": "display_data"
    }
   ],
   "source": [
    "np.random.seed(19680801)\n",
    "y = np.cumsum(np.random.randn(N))\n",
    "\n",
    "fig, axs = plt.subplots(3, 1, layout='constrained', figsize=(6, 6))\n",
    "lims = [(np.datetime64('2005-02'), np.datetime64('2005-04')),\n",
    "        (np.datetime64('2005-02-03'), np.datetime64('2005-02-15')),\n",
    "        (np.datetime64('2005-02-03 11:00'), np.datetime64('2005-02-04 13:20'))]\n",
    "for nn, ax in enumerate(axs):\n",
    "    ax.plot(dates, y)\n",
    "    ax.set_xlim(lims[nn])\n",
    "    # rotate_labels...\n",
    "    for label in ax.get_xticklabels():\n",
    "        label.set_rotation(40)\n",
    "        label.set_horizontalalignment('right')\n",
    "axs[0].set_title('Default Date Formatter')\n",
    "plt.show()"
   ]
  },
  {
   "cell_type": "code",
   "execution_count": 2344,
   "metadata": {},
   "outputs": [
    {
     "data": {
      "text/plain": [
       "datetime.datetime(2005, 4, 2, 22, 0)"
      ]
     },
     "execution_count": 2344,
     "metadata": {},
     "output_type": "execute_result"
    }
   ],
   "source": [
    "t = dt.datetime(2005, 4, 2, 22, 0)\n",
    "t"
   ]
  }
 ],
 "metadata": {
  "kernelspec": {
   "display_name": "Python 3",
   "language": "python",
   "name": "python3"
  },
  "language_info": {
   "codemirror_mode": {
    "name": "ipython",
    "version": 3
   },
   "file_extension": ".py",
   "mimetype": "text/x-python",
   "name": "python",
   "nbconvert_exporter": "python",
   "pygments_lexer": "ipython3",
   "version": "3.11.4"
  },
  "orig_nbformat": 4
 },
 "nbformat": 4,
 "nbformat_minor": 2
}
