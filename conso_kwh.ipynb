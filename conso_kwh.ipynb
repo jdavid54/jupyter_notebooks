{
 "cells": [
  {
   "cell_type": "code",
   "execution_count": 2175,
   "metadata": {},
   "outputs": [],
   "source": [
    "import pandas as pd\n",
    "import numpy as np\n",
    "import matplotlib.pyplot as plt\n",
    "import matplotlib.dates as mdates\n",
    "import matplotlib.ticker as ticker\n",
    "from matplotlib.axis import Axis\n",
    "import datetime as dt\n",
    "\n",
    "#plt.style.use(['science', 'notebook'])\n",
    "#%matplotlib inline\n"
   ]
  },
  {
   "cell_type": "code",
   "execution_count": 2176,
   "metadata": {},
   "outputs": [],
   "source": [
    "data_file = \"conso.txt\""
   ]
  },
  {
   "cell_type": "code",
   "execution_count": 2177,
   "metadata": {},
   "outputs": [],
   "source": [
    "def read_text(filename):\n",
    "    f = open(filename, \"r\")\n",
    "    text = f.readlines()\n",
    "    f.close()\n",
    "    print(text)\n",
    "\n",
    "def save_text(filename):\n",
    "    f = open(filename, \"w\")\n",
    "    f.write(text)\n",
    "    f.close()\n",
    "\n",
    "\n",
    "#read_text(data_file)\n",
    "def get_data(filename):    \n",
    "    data = pd.read_csv(filename)\n",
    "    #data['time'] = pd.to_datetime(data['time'])  #.dt.tz_convert(None)\n",
    "    #data.info()\n",
    "    #print(data.tail(5))\n",
    "    return data\n"
   ]
  },
  {
   "cell_type": "code",
   "execution_count": 2178,
   "metadata": {},
   "outputs": [],
   "source": [
    "text='test'\n",
    "filename='text.txt'\n",
    "#save_text(filename)"
   ]
  },
  {
   "cell_type": "code",
   "execution_count": 2179,
   "metadata": {},
   "outputs": [
    {
     "name": "stdout",
     "output_type": "stream",
     "text": [
      "<class 'pandas.core.frame.DataFrame'>\n",
      "RangeIndex: 1013 entries, 0 to 1012\n",
      "Data columns (total 1 columns):\n",
      " #   Column  Non-Null Count  Dtype  \n",
      "---  ------  --------------  -----  \n",
      " 0   Conso   1013 non-null   float64\n",
      "dtypes: float64(1)\n",
      "memory usage: 8.0 KB\n"
     ]
    }
   ],
   "source": [
    "# read data with pandas\n",
    "data = get_data(data_file)\n",
    "data.info()\n"
   ]
  },
  {
   "cell_type": "code",
   "execution_count": 2180,
   "metadata": {},
   "outputs": [
    {
     "data": {
      "text/html": [
       "<div>\n",
       "<style scoped>\n",
       "    .dataframe tbody tr th:only-of-type {\n",
       "        vertical-align: middle;\n",
       "    }\n",
       "\n",
       "    .dataframe tbody tr th {\n",
       "        vertical-align: top;\n",
       "    }\n",
       "\n",
       "    .dataframe thead th {\n",
       "        text-align: right;\n",
       "    }\n",
       "</style>\n",
       "<table border=\"1\" class=\"dataframe\">\n",
       "  <thead>\n",
       "    <tr style=\"text-align: right;\">\n",
       "      <th></th>\n",
       "      <th>Conso</th>\n",
       "      <th>interval</th>\n",
       "    </tr>\n",
       "  </thead>\n",
       "  <tbody>\n",
       "    <tr>\n",
       "      <th>0</th>\n",
       "      <td>0.19</td>\n",
       "      <td>18947.368421</td>\n",
       "    </tr>\n",
       "    <tr>\n",
       "      <th>1</th>\n",
       "      <td>0.19</td>\n",
       "      <td>18947.368421</td>\n",
       "    </tr>\n",
       "    <tr>\n",
       "      <th>2</th>\n",
       "      <td>0.19</td>\n",
       "      <td>18947.368421</td>\n",
       "    </tr>\n",
       "    <tr>\n",
       "      <th>3</th>\n",
       "      <td>0.19</td>\n",
       "      <td>18947.368421</td>\n",
       "    </tr>\n",
       "    <tr>\n",
       "      <th>4</th>\n",
       "      <td>0.19</td>\n",
       "      <td>18947.368421</td>\n",
       "    </tr>\n",
       "    <tr>\n",
       "      <th>...</th>\n",
       "      <td>...</td>\n",
       "      <td>...</td>\n",
       "    </tr>\n",
       "    <tr>\n",
       "      <th>1008</th>\n",
       "      <td>0.16</td>\n",
       "      <td>22500.000000</td>\n",
       "    </tr>\n",
       "    <tr>\n",
       "      <th>1009</th>\n",
       "      <td>0.16</td>\n",
       "      <td>22500.000000</td>\n",
       "    </tr>\n",
       "    <tr>\n",
       "      <th>1010</th>\n",
       "      <td>0.17</td>\n",
       "      <td>21176.470588</td>\n",
       "    </tr>\n",
       "    <tr>\n",
       "      <th>1011</th>\n",
       "      <td>0.17</td>\n",
       "      <td>21176.470588</td>\n",
       "    </tr>\n",
       "    <tr>\n",
       "      <th>1012</th>\n",
       "      <td>0.16</td>\n",
       "      <td>22500.000000</td>\n",
       "    </tr>\n",
       "  </tbody>\n",
       "</table>\n",
       "<p>1013 rows × 2 columns</p>\n",
       "</div>"
      ],
      "text/plain": [
       "      Conso      interval\n",
       "0      0.19  18947.368421\n",
       "1      0.19  18947.368421\n",
       "2      0.19  18947.368421\n",
       "3      0.19  18947.368421\n",
       "4      0.19  18947.368421\n",
       "...     ...           ...\n",
       "1008   0.16  22500.000000\n",
       "1009   0.16  22500.000000\n",
       "1010   0.17  21176.470588\n",
       "1011   0.17  21176.470588\n",
       "1012   0.16  22500.000000\n",
       "\n",
       "[1013 rows x 2 columns]"
      ]
     },
     "execution_count": 2180,
     "metadata": {},
     "output_type": "execute_result"
    }
   ],
   "source": [
    "data['interval']=3600/data['Conso']\n",
    "data"
   ]
  },
  {
   "cell_type": "code",
   "execution_count": 2181,
   "metadata": {},
   "outputs": [
    {
     "data": {
      "image/png": "[encoded data removed]",
      "text/plain": [
       "<Figure size 640x480 with 1 Axes>"
      ]
     },
     "metadata": {},
     "output_type": "display_data"
    },
    {
     "data": {
      "text/plain": [
       "<matplotlib.legend.Legend at 0x290a127ea10>"
      ]
     },
     "execution_count": 2181,
     "metadata": {},
     "output_type": "execute_result"
    },
    {
     "data": {
      "image/png": "[encoded data removed]",
      "text/plain": [
       "<Figure size 640x480 with 1 Axes>"
      ]
     },
     "metadata": {},
     "output_type": "display_data"
    }
   ],
   "source": [
    "\n",
    "plt.title('Consommation Linky')\n",
    "plt.plot(data['interval'], color='red',label='Interval')\n",
    "plt.grid()\n",
    "plt.legend()\n",
    "plt.show()\n",
    "plt.plot(data['Conso'], color='red',label='Conso')\n",
    "plt.grid()\n",
    "plt.legend()"
   ]
  },
  {
   "attachments": {},
   "cell_type": "markdown",
   "metadata": {},
   "source": [
    "### conso.csv sur WD6TB mis à jour avec PI4"
   ]
  },
  {
   "cell_type": "code",
   "execution_count": 2182,
   "metadata": {},
   "outputs": [],
   "source": [
    "def get_data2(filename):    \n",
    "    data = pd.read_csv(filename, names=[\"Interval\",\"kWh\"])\n",
    "    return data"
   ]
  },
  {
   "cell_type": "code",
   "execution_count": 2183,
   "metadata": {},
   "outputs": [
    {
     "name": "stdout",
     "output_type": "stream",
     "text": [
      "<class 'pandas.core.frame.DataFrame'>\n",
      "RangeIndex: 167655 entries, 0 to 167654\n",
      "Data columns (total 2 columns):\n",
      " #   Column    Non-Null Count   Dtype  \n",
      "---  ------    --------------   -----  \n",
      " 0   Interval  167655 non-null  int64  \n",
      " 1   kWh       167655 non-null  float64\n",
      "dtypes: float64(1), int64(1)\n",
      "memory usage: 2.6 MB\n"
     ]
    }
   ],
   "source": [
    "old = False\n",
    "\n",
    "if old:\n",
    "    #conso_file = r\"C:\\Users\\jean\\Documents\\conso.csv\"\n",
    "    conso_file = r\"Y:\\Documents\\conso_old.csv\"\n",
    "    conso_file = r\"Y:\\Documents\\conso - Copy (2).csv\"\n",
    "else:\n",
    "    conso_file = r\"Y:\\Documents\\conso.csv\"\n",
    "#old = False\n",
    "conso_data = get_data2(conso_file)\n",
    "conso_data.info()\n"
   ]
  },
  {
   "cell_type": "code",
   "execution_count": 2184,
   "metadata": {},
   "outputs": [
    {
     "data": {
      "text/html": [
       "<div>\n",
       "<style scoped>\n",
       "    .dataframe tbody tr th:only-of-type {\n",
       "        vertical-align: middle;\n",
       "    }\n",
       "\n",
       "    .dataframe tbody tr th {\n",
       "        vertical-align: top;\n",
       "    }\n",
       "\n",
       "    .dataframe thead th {\n",
       "        text-align: right;\n",
       "    }\n",
       "</style>\n",
       "<table border=\"1\" class=\"dataframe\">\n",
       "  <thead>\n",
       "    <tr style=\"text-align: right;\">\n",
       "      <th></th>\n",
       "      <th>Interval</th>\n",
       "      <th>kWh</th>\n",
       "    </tr>\n",
       "  </thead>\n",
       "  <tbody>\n",
       "    <tr>\n",
       "      <th>0</th>\n",
       "      <td>26289</td>\n",
       "      <td>0.14</td>\n",
       "    </tr>\n",
       "    <tr>\n",
       "      <th>1</th>\n",
       "      <td>26243</td>\n",
       "      <td>0.14</td>\n",
       "    </tr>\n",
       "    <tr>\n",
       "      <th>2</th>\n",
       "      <td>25885</td>\n",
       "      <td>0.14</td>\n",
       "    </tr>\n",
       "    <tr>\n",
       "      <th>3</th>\n",
       "      <td>25754</td>\n",
       "      <td>0.14</td>\n",
       "    </tr>\n",
       "    <tr>\n",
       "      <th>4</th>\n",
       "      <td>25774</td>\n",
       "      <td>0.14</td>\n",
       "    </tr>\n",
       "    <tr>\n",
       "      <th>...</th>\n",
       "      <td>...</td>\n",
       "      <td>...</td>\n",
       "    </tr>\n",
       "    <tr>\n",
       "      <th>167650</th>\n",
       "      <td>26867</td>\n",
       "      <td>0.13</td>\n",
       "    </tr>\n",
       "    <tr>\n",
       "      <th>167651</th>\n",
       "      <td>26077</td>\n",
       "      <td>0.14</td>\n",
       "    </tr>\n",
       "    <tr>\n",
       "      <th>167652</th>\n",
       "      <td>26285</td>\n",
       "      <td>0.14</td>\n",
       "    </tr>\n",
       "    <tr>\n",
       "      <th>167653</th>\n",
       "      <td>26978</td>\n",
       "      <td>0.13</td>\n",
       "    </tr>\n",
       "    <tr>\n",
       "      <th>167654</th>\n",
       "      <td>26965</td>\n",
       "      <td>0.13</td>\n",
       "    </tr>\n",
       "  </tbody>\n",
       "</table>\n",
       "<p>167655 rows × 2 columns</p>\n",
       "</div>"
      ],
      "text/plain": [
       "        Interval   kWh\n",
       "0          26289  0.14\n",
       "1          26243  0.14\n",
       "2          25885  0.14\n",
       "3          25754  0.14\n",
       "4          25774  0.14\n",
       "...          ...   ...\n",
       "167650     26867  0.13\n",
       "167651     26077  0.14\n",
       "167652     26285  0.14\n",
       "167653     26978  0.13\n",
       "167654     26965  0.13\n",
       "\n",
       "[167655 rows x 2 columns]"
      ]
     },
     "execution_count": 2184,
     "metadata": {},
     "output_type": "execute_result"
    }
   ],
   "source": [
    "conso_data = conso_data.dropna()\n",
    "conso_data"
   ]
  },
  {
   "cell_type": "code",
   "execution_count": 2185,
   "metadata": {},
   "outputs": [
    {
     "data": {
      "text/plain": [
       "<Axes: >"
      ]
     },
     "execution_count": 2185,
     "metadata": {},
     "output_type": "execute_result"
    },
    {
     "data": {
      "image/png": "[encoded data removed]",
      "text/plain": [
       "<Figure size 640x480 with 1 Axes>"
      ]
     },
     "metadata": {},
     "output_type": "display_data"
    }
   ],
   "source": [
    "conso_data['kWh'].plot()"
   ]
  },
  {
   "cell_type": "code",
   "execution_count": 2186,
   "metadata": {},
   "outputs": [
    {
     "data": {
      "text/html": [
       "<div>\n",
       "<style scoped>\n",
       "    .dataframe tbody tr th:only-of-type {\n",
       "        vertical-align: middle;\n",
       "    }\n",
       "\n",
       "    .dataframe tbody tr th {\n",
       "        vertical-align: top;\n",
       "    }\n",
       "\n",
       "    .dataframe thead th {\n",
       "        text-align: right;\n",
       "    }\n",
       "</style>\n",
       "<table border=\"1\" class=\"dataframe\">\n",
       "  <thead>\n",
       "    <tr style=\"text-align: right;\">\n",
       "      <th></th>\n",
       "      <th>Interval</th>\n",
       "      <th>kWh</th>\n",
       "      <th>sec</th>\n",
       "      <th>Wh</th>\n",
       "      <th>cumul(ms)</th>\n",
       "    </tr>\n",
       "  </thead>\n",
       "  <tbody>\n",
       "    <tr>\n",
       "      <th>0</th>\n",
       "      <td>26289</td>\n",
       "      <td>0.14</td>\n",
       "      <td>26.289</td>\n",
       "      <td>136.939404</td>\n",
       "      <td>26289</td>\n",
       "    </tr>\n",
       "    <tr>\n",
       "      <th>1</th>\n",
       "      <td>26243</td>\n",
       "      <td>0.14</td>\n",
       "      <td>26.243</td>\n",
       "      <td>137.179438</td>\n",
       "      <td>52532</td>\n",
       "    </tr>\n",
       "    <tr>\n",
       "      <th>2</th>\n",
       "      <td>25885</td>\n",
       "      <td>0.14</td>\n",
       "      <td>25.885</td>\n",
       "      <td>139.076685</td>\n",
       "      <td>78417</td>\n",
       "    </tr>\n",
       "    <tr>\n",
       "      <th>3</th>\n",
       "      <td>25754</td>\n",
       "      <td>0.14</td>\n",
       "      <td>25.754</td>\n",
       "      <td>139.784111</td>\n",
       "      <td>104171</td>\n",
       "    </tr>\n",
       "    <tr>\n",
       "      <th>4</th>\n",
       "      <td>25774</td>\n",
       "      <td>0.14</td>\n",
       "      <td>25.774</td>\n",
       "      <td>139.675642</td>\n",
       "      <td>129945</td>\n",
       "    </tr>\n",
       "    <tr>\n",
       "      <th>...</th>\n",
       "      <td>...</td>\n",
       "      <td>...</td>\n",
       "      <td>...</td>\n",
       "      <td>...</td>\n",
       "      <td>...</td>\n",
       "    </tr>\n",
       "    <tr>\n",
       "      <th>167650</th>\n",
       "      <td>26867</td>\n",
       "      <td>0.13</td>\n",
       "      <td>26.867</td>\n",
       "      <td>133.993375</td>\n",
       "      <td>3965761958</td>\n",
       "    </tr>\n",
       "    <tr>\n",
       "      <th>167651</th>\n",
       "      <td>26077</td>\n",
       "      <td>0.14</td>\n",
       "      <td>26.077</td>\n",
       "      <td>138.052690</td>\n",
       "      <td>3965788035</td>\n",
       "    </tr>\n",
       "    <tr>\n",
       "      <th>167652</th>\n",
       "      <td>26285</td>\n",
       "      <td>0.14</td>\n",
       "      <td>26.285</td>\n",
       "      <td>136.960243</td>\n",
       "      <td>3965814320</td>\n",
       "    </tr>\n",
       "    <tr>\n",
       "      <th>167653</th>\n",
       "      <td>26978</td>\n",
       "      <td>0.13</td>\n",
       "      <td>26.978</td>\n",
       "      <td>133.442064</td>\n",
       "      <td>3965841298</td>\n",
       "    </tr>\n",
       "    <tr>\n",
       "      <th>167654</th>\n",
       "      <td>26965</td>\n",
       "      <td>0.13</td>\n",
       "      <td>26.965</td>\n",
       "      <td>133.506397</td>\n",
       "      <td>3965868263</td>\n",
       "    </tr>\n",
       "  </tbody>\n",
       "</table>\n",
       "<p>167655 rows × 5 columns</p>\n",
       "</div>"
      ],
      "text/plain": [
       "        Interval   kWh     sec          Wh   cumul(ms)\n",
       "0          26289  0.14  26.289  136.939404       26289\n",
       "1          26243  0.14  26.243  137.179438       52532\n",
       "2          25885  0.14  25.885  139.076685       78417\n",
       "3          25754  0.14  25.754  139.784111      104171\n",
       "4          25774  0.14  25.774  139.675642      129945\n",
       "...          ...   ...     ...         ...         ...\n",
       "167650     26867  0.13  26.867  133.993375  3965761958\n",
       "167651     26077  0.14  26.077  138.052690  3965788035\n",
       "167652     26285  0.14  26.285  136.960243  3965814320\n",
       "167653     26978  0.13  26.978  133.442064  3965841298\n",
       "167654     26965  0.13  26.965  133.506397  3965868263\n",
       "\n",
       "[167655 rows x 5 columns]"
      ]
     },
     "execution_count": 2186,
     "metadata": {},
     "output_type": "execute_result"
    }
   ],
   "source": [
    "conso_data['sec']=conso_data['Interval']/1000\n",
    "conso_data['Wh']=3600000/conso_data['Interval']\n",
    "conso_data['cumul(ms)']=conso_data['Interval'].cumsum(axis=0)\n",
    "\n",
    "conso_data"
   ]
  },
  {
   "cell_type": "code",
   "execution_count": 2187,
   "metadata": {},
   "outputs": [
    {
     "data": {
      "text/plain": [
       "167654"
      ]
     },
     "execution_count": 2187,
     "metadata": {},
     "output_type": "execute_result"
    }
   ],
   "source": [
    "# index dernier echantillon\n",
    "l=len(conso_data)-1\n",
    "l"
   ]
  },
  {
   "cell_type": "code",
   "execution_count": 2188,
   "metadata": {},
   "outputs": [
    {
     "data": {
      "text/plain": [
       "3965868263000"
      ]
     },
     "execution_count": 2188,
     "metadata": {},
     "output_type": "execute_result"
    }
   ],
   "source": [
    "# cumtime = int(conso_data['cumul(ms)'].tail(1).values[0]*1000)\n",
    "cumtime= int(conso_data._get_value(l,'cumul(ms)')*1000)\n",
    "cumtime"
   ]
  },
  {
   "cell_type": "code",
   "execution_count": 2189,
   "metadata": {},
   "outputs": [
    {
     "data": {
      "text/plain": [
       "datetime.datetime(2024, 3, 7, 1, 47, 16, 85310)"
      ]
     },
     "execution_count": 2189,
     "metadata": {},
     "output_type": "execute_result"
    }
   ],
   "source": [
    "from datetime import datetime, timedelta\n",
    "now = datetime.now()\n",
    "# conso.csv dynamique\n",
    "base = now - timedelta(microseconds=cumtime)\n",
    "base  # date de début\n"
   ]
  },
  {
   "cell_type": "code",
   "execution_count": 2190,
   "metadata": {},
   "outputs": [
    {
     "data": {
      "text/plain": [
       "False"
      ]
     },
     "execution_count": 2190,
     "metadata": {},
     "output_type": "execute_result"
    }
   ],
   "source": [
    "old"
   ]
  },
  {
   "cell_type": "code",
   "execution_count": 2191,
   "metadata": {},
   "outputs": [
    {
     "name": "stdout",
     "output_type": "stream",
     "text": [
      "<class 'pandas.core.frame.DataFrame'>\n",
      "RangeIndex: 167655 entries, 0 to 167654\n",
      "Data columns (total 6 columns):\n",
      " #   Column     Non-Null Count   Dtype         \n",
      "---  ------     --------------   -----         \n",
      " 0   Interval   167655 non-null  int64         \n",
      " 1   kWh        167655 non-null  float64       \n",
      " 2   sec        167655 non-null  float64       \n",
      " 3   Wh         167655 non-null  float64       \n",
      " 4   cumul(ms)  167655 non-null  int64         \n",
      " 5   dates      167655 non-null  datetime64[ns]\n",
      "dtypes: datetime64[ns](1), float64(3), int64(2)\n",
      "memory usage: 7.7 MB\n"
     ]
    }
   ],
   "source": [
    "if old:\n",
    "    base = dt.datetime(2023, 8, 1, 10, 45, 0) - timedelta(microseconds=cumtime)\n",
    "\n",
    "conso_data['dates'] = [base + dt.timedelta(microseconds=t*1000) for t in conso_data['cumul(ms)']]\n",
    "conso_data.info()\n"
   ]
  },
  {
   "cell_type": "code",
   "execution_count": 2192,
   "metadata": {},
   "outputs": [
    {
     "data": {
      "text/html": [
       "<div>\n",
       "<style scoped>\n",
       "    .dataframe tbody tr th:only-of-type {\n",
       "        vertical-align: middle;\n",
       "    }\n",
       "\n",
       "    .dataframe tbody tr th {\n",
       "        vertical-align: top;\n",
       "    }\n",
       "\n",
       "    .dataframe thead th {\n",
       "        text-align: right;\n",
       "    }\n",
       "</style>\n",
       "<table border=\"1\" class=\"dataframe\">\n",
       "  <thead>\n",
       "    <tr style=\"text-align: right;\">\n",
       "      <th></th>\n",
       "      <th>Interval</th>\n",
       "      <th>kWh</th>\n",
       "      <th>sec</th>\n",
       "      <th>Wh</th>\n",
       "      <th>cumul(ms)</th>\n",
       "      <th>dates</th>\n",
       "      <th>days</th>\n",
       "    </tr>\n",
       "  </thead>\n",
       "  <tbody>\n",
       "    <tr>\n",
       "      <th>0</th>\n",
       "      <td>26289</td>\n",
       "      <td>0.14</td>\n",
       "      <td>26.289</td>\n",
       "      <td>136.939404</td>\n",
       "      <td>26289</td>\n",
       "      <td>2024-03-07 01:47:42.374310</td>\n",
       "      <td>07/03/2024</td>\n",
       "    </tr>\n",
       "    <tr>\n",
       "      <th>1</th>\n",
       "      <td>26243</td>\n",
       "      <td>0.14</td>\n",
       "      <td>26.243</td>\n",
       "      <td>137.179438</td>\n",
       "      <td>52532</td>\n",
       "      <td>2024-03-07 01:48:08.617310</td>\n",
       "      <td>07/03/2024</td>\n",
       "    </tr>\n",
       "    <tr>\n",
       "      <th>2</th>\n",
       "      <td>25885</td>\n",
       "      <td>0.14</td>\n",
       "      <td>25.885</td>\n",
       "      <td>139.076685</td>\n",
       "      <td>78417</td>\n",
       "      <td>2024-03-07 01:48:34.502310</td>\n",
       "      <td>07/03/2024</td>\n",
       "    </tr>\n",
       "    <tr>\n",
       "      <th>3</th>\n",
       "      <td>25754</td>\n",
       "      <td>0.14</td>\n",
       "      <td>25.754</td>\n",
       "      <td>139.784111</td>\n",
       "      <td>104171</td>\n",
       "      <td>2024-03-07 01:49:00.256310</td>\n",
       "      <td>07/03/2024</td>\n",
       "    </tr>\n",
       "    <tr>\n",
       "      <th>4</th>\n",
       "      <td>25774</td>\n",
       "      <td>0.14</td>\n",
       "      <td>25.774</td>\n",
       "      <td>139.675642</td>\n",
       "      <td>129945</td>\n",
       "      <td>2024-03-07 01:49:26.030310</td>\n",
       "      <td>07/03/2024</td>\n",
       "    </tr>\n",
       "    <tr>\n",
       "      <th>...</th>\n",
       "      <td>...</td>\n",
       "      <td>...</td>\n",
       "      <td>...</td>\n",
       "      <td>...</td>\n",
       "      <td>...</td>\n",
       "      <td>...</td>\n",
       "      <td>...</td>\n",
       "    </tr>\n",
       "    <tr>\n",
       "      <th>167650</th>\n",
       "      <td>26867</td>\n",
       "      <td>0.13</td>\n",
       "      <td>26.867</td>\n",
       "      <td>133.993375</td>\n",
       "      <td>3965761958</td>\n",
       "      <td>2024-04-21 23:23:18.043310</td>\n",
       "      <td>21/04/2024</td>\n",
       "    </tr>\n",
       "    <tr>\n",
       "      <th>167651</th>\n",
       "      <td>26077</td>\n",
       "      <td>0.14</td>\n",
       "      <td>26.077</td>\n",
       "      <td>138.052690</td>\n",
       "      <td>3965788035</td>\n",
       "      <td>2024-04-21 23:23:44.120310</td>\n",
       "      <td>21/04/2024</td>\n",
       "    </tr>\n",
       "    <tr>\n",
       "      <th>167652</th>\n",
       "      <td>26285</td>\n",
       "      <td>0.14</td>\n",
       "      <td>26.285</td>\n",
       "      <td>136.960243</td>\n",
       "      <td>3965814320</td>\n",
       "      <td>2024-04-21 23:24:10.405310</td>\n",
       "      <td>21/04/2024</td>\n",
       "    </tr>\n",
       "    <tr>\n",
       "      <th>167653</th>\n",
       "      <td>26978</td>\n",
       "      <td>0.13</td>\n",
       "      <td>26.978</td>\n",
       "      <td>133.442064</td>\n",
       "      <td>3965841298</td>\n",
       "      <td>2024-04-21 23:24:37.383310</td>\n",
       "      <td>21/04/2024</td>\n",
       "    </tr>\n",
       "    <tr>\n",
       "      <th>167654</th>\n",
       "      <td>26965</td>\n",
       "      <td>0.13</td>\n",
       "      <td>26.965</td>\n",
       "      <td>133.506397</td>\n",
       "      <td>3965868263</td>\n",
       "      <td>2024-04-21 23:25:04.348310</td>\n",
       "      <td>21/04/2024</td>\n",
       "    </tr>\n",
       "  </tbody>\n",
       "</table>\n",
       "<p>167655 rows × 7 columns</p>\n",
       "</div>"
      ],
      "text/plain": [
       "        Interval   kWh     sec          Wh   cumul(ms)  \\\n",
       "0          26289  0.14  26.289  136.939404       26289   \n",
       "1          26243  0.14  26.243  137.179438       52532   \n",
       "2          25885  0.14  25.885  139.076685       78417   \n",
       "3          25754  0.14  25.754  139.784111      104171   \n",
       "4          25774  0.14  25.774  139.675642      129945   \n",
       "...          ...   ...     ...         ...         ...   \n",
       "167650     26867  0.13  26.867  133.993375  3965761958   \n",
       "167651     26077  0.14  26.077  138.052690  3965788035   \n",
       "167652     26285  0.14  26.285  136.960243  3965814320   \n",
       "167653     26978  0.13  26.978  133.442064  3965841298   \n",
       "167654     26965  0.13  26.965  133.506397  3965868263   \n",
       "\n",
       "                            dates        days  \n",
       "0      2024-03-07 01:47:42.374310  07/03/2024  \n",
       "1      2024-03-07 01:48:08.617310  07/03/2024  \n",
       "2      2024-03-07 01:48:34.502310  07/03/2024  \n",
       "3      2024-03-07 01:49:00.256310  07/03/2024  \n",
       "4      2024-03-07 01:49:26.030310  07/03/2024  \n",
       "...                           ...         ...  \n",
       "167650 2024-04-21 23:23:18.043310  21/04/2024  \n",
       "167651 2024-04-21 23:23:44.120310  21/04/2024  \n",
       "167652 2024-04-21 23:24:10.405310  21/04/2024  \n",
       "167653 2024-04-21 23:24:37.383310  21/04/2024  \n",
       "167654 2024-04-21 23:25:04.348310  21/04/2024  \n",
       "\n",
       "[167655 rows x 7 columns]"
      ]
     },
     "execution_count": 2192,
     "metadata": {},
     "output_type": "execute_result"
    }
   ],
   "source": [
    "conso_data['days']= [d.strftime('%d/%m/%Y') for d in conso_data['dates']]    #[str(d.month)+'-'+str(d.day) for d in conso_data['dates']]\n",
    "conso_data"
   ]
  },
  {
   "cell_type": "code",
   "execution_count": 2193,
   "metadata": {},
   "outputs": [
    {
     "data": {
      "text/plain": [
       "(   Interval   kWh     sec          Wh  cumul(ms)                      dates  \\\n",
       " 0     26289  0.14  26.289  136.939404      26289 2024-03-07 01:47:42.374310   \n",
       " \n",
       "          days  \n",
       " 0  07/03/2024  ,\n",
       "         Interval   kWh     sec          Wh   cumul(ms)  \\\n",
       " 167654     26965  0.13  26.965  133.506397  3965868263   \n",
       " \n",
       "                             dates        days  \n",
       " 167654 2024-04-21 23:25:04.348310  21/04/2024  )"
      ]
     },
     "execution_count": 2193,
     "metadata": {},
     "output_type": "execute_result"
    }
   ],
   "source": [
    "#conso_data\n",
    "conso_data.head(1),conso_data.tail(1)"
   ]
  },
  {
   "cell_type": "code",
   "execution_count": 2194,
   "metadata": {},
   "outputs": [
    {
     "data": {
      "text/plain": [
       "('21/04/2024', 4, 2024)"
      ]
     },
     "execution_count": 2194,
     "metadata": {},
     "output_type": "execute_result"
    }
   ],
   "source": [
    "# tranche journalière\n",
    "now = datetime.now()\n",
    "month = now.month\n",
    "year = now.year\n",
    "day = now.strftime('%d/%m/%Y')    #str(now.month)+'-'+str(now.day)\n",
    "day, month, year"
   ]
  },
  {
   "cell_type": "code",
   "execution_count": 2195,
   "metadata": {},
   "outputs": [
    {
     "data": {
      "text/html": [
       "<div>\n",
       "<style scoped>\n",
       "    .dataframe tbody tr th:only-of-type {\n",
       "        vertical-align: middle;\n",
       "    }\n",
       "\n",
       "    .dataframe tbody tr th {\n",
       "        vertical-align: top;\n",
       "    }\n",
       "\n",
       "    .dataframe thead th {\n",
       "        text-align: right;\n",
       "    }\n",
       "</style>\n",
       "<table border=\"1\" class=\"dataframe\">\n",
       "  <thead>\n",
       "    <tr style=\"text-align: right;\">\n",
       "      <th></th>\n",
       "      <th>Interval</th>\n",
       "      <th>kWh</th>\n",
       "      <th>sec</th>\n",
       "      <th>Wh</th>\n",
       "      <th>cumul(ms)</th>\n",
       "      <th>dates</th>\n",
       "      <th>days</th>\n",
       "    </tr>\n",
       "  </thead>\n",
       "  <tbody>\n",
       "    <tr>\n",
       "      <th>163960</th>\n",
       "      <td>37671</td>\n",
       "      <td>0.09</td>\n",
       "      <td>37.671</td>\n",
       "      <td>95.564227</td>\n",
       "      <td>3881567888</td>\n",
       "      <td>2024-04-21 00:00:03.973310</td>\n",
       "      <td>21/04/2024</td>\n",
       "    </tr>\n",
       "    <tr>\n",
       "      <th>163961</th>\n",
       "      <td>37460</td>\n",
       "      <td>0.10</td>\n",
       "      <td>37.460</td>\n",
       "      <td>96.102509</td>\n",
       "      <td>3881605348</td>\n",
       "      <td>2024-04-21 00:00:41.433310</td>\n",
       "      <td>21/04/2024</td>\n",
       "    </tr>\n",
       "    <tr>\n",
       "      <th>163962</th>\n",
       "      <td>34317</td>\n",
       "      <td>0.10</td>\n",
       "      <td>34.317</td>\n",
       "      <td>104.904275</td>\n",
       "      <td>3881639665</td>\n",
       "      <td>2024-04-21 00:01:15.750310</td>\n",
       "      <td>21/04/2024</td>\n",
       "    </tr>\n",
       "    <tr>\n",
       "      <th>163963</th>\n",
       "      <td>35324</td>\n",
       "      <td>0.10</td>\n",
       "      <td>35.324</td>\n",
       "      <td>101.913713</td>\n",
       "      <td>3881674989</td>\n",
       "      <td>2024-04-21 00:01:51.074310</td>\n",
       "      <td>21/04/2024</td>\n",
       "    </tr>\n",
       "    <tr>\n",
       "      <th>163964</th>\n",
       "      <td>36496</td>\n",
       "      <td>0.10</td>\n",
       "      <td>36.496</td>\n",
       "      <td>98.640947</td>\n",
       "      <td>3881711485</td>\n",
       "      <td>2024-04-21 00:02:27.570310</td>\n",
       "      <td>21/04/2024</td>\n",
       "    </tr>\n",
       "    <tr>\n",
       "      <th>...</th>\n",
       "      <td>...</td>\n",
       "      <td>...</td>\n",
       "      <td>...</td>\n",
       "      <td>...</td>\n",
       "      <td>...</td>\n",
       "      <td>...</td>\n",
       "      <td>...</td>\n",
       "    </tr>\n",
       "    <tr>\n",
       "      <th>167650</th>\n",
       "      <td>26867</td>\n",
       "      <td>0.13</td>\n",
       "      <td>26.867</td>\n",
       "      <td>133.993375</td>\n",
       "      <td>3965761958</td>\n",
       "      <td>2024-04-21 23:23:18.043310</td>\n",
       "      <td>21/04/2024</td>\n",
       "    </tr>\n",
       "    <tr>\n",
       "      <th>167651</th>\n",
       "      <td>26077</td>\n",
       "      <td>0.14</td>\n",
       "      <td>26.077</td>\n",
       "      <td>138.052690</td>\n",
       "      <td>3965788035</td>\n",
       "      <td>2024-04-21 23:23:44.120310</td>\n",
       "      <td>21/04/2024</td>\n",
       "    </tr>\n",
       "    <tr>\n",
       "      <th>167652</th>\n",
       "      <td>26285</td>\n",
       "      <td>0.14</td>\n",
       "      <td>26.285</td>\n",
       "      <td>136.960243</td>\n",
       "      <td>3965814320</td>\n",
       "      <td>2024-04-21 23:24:10.405310</td>\n",
       "      <td>21/04/2024</td>\n",
       "    </tr>\n",
       "    <tr>\n",
       "      <th>167653</th>\n",
       "      <td>26978</td>\n",
       "      <td>0.13</td>\n",
       "      <td>26.978</td>\n",
       "      <td>133.442064</td>\n",
       "      <td>3965841298</td>\n",
       "      <td>2024-04-21 23:24:37.383310</td>\n",
       "      <td>21/04/2024</td>\n",
       "    </tr>\n",
       "    <tr>\n",
       "      <th>167654</th>\n",
       "      <td>26965</td>\n",
       "      <td>0.13</td>\n",
       "      <td>26.965</td>\n",
       "      <td>133.506397</td>\n",
       "      <td>3965868263</td>\n",
       "      <td>2024-04-21 23:25:04.348310</td>\n",
       "      <td>21/04/2024</td>\n",
       "    </tr>\n",
       "  </tbody>\n",
       "</table>\n",
       "<p>3695 rows × 7 columns</p>\n",
       "</div>"
      ],
      "text/plain": [
       "        Interval   kWh     sec          Wh   cumul(ms)  \\\n",
       "163960     37671  0.09  37.671   95.564227  3881567888   \n",
       "163961     37460  0.10  37.460   96.102509  3881605348   \n",
       "163962     34317  0.10  34.317  104.904275  3881639665   \n",
       "163963     35324  0.10  35.324  101.913713  3881674989   \n",
       "163964     36496  0.10  36.496   98.640947  3881711485   \n",
       "...          ...   ...     ...         ...         ...   \n",
       "167650     26867  0.13  26.867  133.993375  3965761958   \n",
       "167651     26077  0.14  26.077  138.052690  3965788035   \n",
       "167652     26285  0.14  26.285  136.960243  3965814320   \n",
       "167653     26978  0.13  26.978  133.442064  3965841298   \n",
       "167654     26965  0.13  26.965  133.506397  3965868263   \n",
       "\n",
       "                            dates        days  \n",
       "163960 2024-04-21 00:00:03.973310  21/04/2024  \n",
       "163961 2024-04-21 00:00:41.433310  21/04/2024  \n",
       "163962 2024-04-21 00:01:15.750310  21/04/2024  \n",
       "163963 2024-04-21 00:01:51.074310  21/04/2024  \n",
       "163964 2024-04-21 00:02:27.570310  21/04/2024  \n",
       "...                           ...         ...  \n",
       "167650 2024-04-21 23:23:18.043310  21/04/2024  \n",
       "167651 2024-04-21 23:23:44.120310  21/04/2024  \n",
       "167652 2024-04-21 23:24:10.405310  21/04/2024  \n",
       "167653 2024-04-21 23:24:37.383310  21/04/2024  \n",
       "167654 2024-04-21 23:25:04.348310  21/04/2024  \n",
       "\n",
       "[3695 rows x 7 columns]"
      ]
     },
     "execution_count": 2195,
     "metadata": {},
     "output_type": "execute_result"
    }
   ],
   "source": [
    "conso_data[conso_data['days']==day]"
   ]
  },
  {
   "cell_type": "code",
   "execution_count": 2196,
   "metadata": {},
   "outputs": [
    {
     "data": {
      "text/plain": [
       "'21/04/2024'"
      ]
     },
     "execution_count": 2196,
     "metadata": {},
     "output_type": "execute_result"
    }
   ],
   "source": [
    "day"
   ]
  },
  {
   "cell_type": "code",
   "execution_count": 2197,
   "metadata": {},
   "outputs": [
    {
     "data": {
      "text/html": [
       "<div>\n",
       "<style scoped>\n",
       "    .dataframe tbody tr th:only-of-type {\n",
       "        vertical-align: middle;\n",
       "    }\n",
       "\n",
       "    .dataframe tbody tr th {\n",
       "        vertical-align: top;\n",
       "    }\n",
       "\n",
       "    .dataframe thead th {\n",
       "        text-align: right;\n",
       "    }\n",
       "</style>\n",
       "<table border=\"1\" class=\"dataframe\">\n",
       "  <thead>\n",
       "    <tr style=\"text-align: right;\">\n",
       "      <th></th>\n",
       "      <th>Interval</th>\n",
       "      <th>kWh</th>\n",
       "      <th>sec</th>\n",
       "      <th>Wh</th>\n",
       "      <th>cumul(ms)</th>\n",
       "      <th>dates</th>\n",
       "      <th>days</th>\n",
       "    </tr>\n",
       "  </thead>\n",
       "  <tbody>\n",
       "    <tr>\n",
       "      <th>0</th>\n",
       "      <td>26289</td>\n",
       "      <td>0.14</td>\n",
       "      <td>26.289</td>\n",
       "      <td>136.939404</td>\n",
       "      <td>26289</td>\n",
       "      <td>2024-03-07 01:47:42.374310</td>\n",
       "      <td>07/03/2024</td>\n",
       "    </tr>\n",
       "    <tr>\n",
       "      <th>1</th>\n",
       "      <td>26243</td>\n",
       "      <td>0.14</td>\n",
       "      <td>26.243</td>\n",
       "      <td>137.179438</td>\n",
       "      <td>52532</td>\n",
       "      <td>2024-03-07 01:48:08.617310</td>\n",
       "      <td>07/03/2024</td>\n",
       "    </tr>\n",
       "    <tr>\n",
       "      <th>2</th>\n",
       "      <td>25885</td>\n",
       "      <td>0.14</td>\n",
       "      <td>25.885</td>\n",
       "      <td>139.076685</td>\n",
       "      <td>78417</td>\n",
       "      <td>2024-03-07 01:48:34.502310</td>\n",
       "      <td>07/03/2024</td>\n",
       "    </tr>\n",
       "    <tr>\n",
       "      <th>3</th>\n",
       "      <td>25754</td>\n",
       "      <td>0.14</td>\n",
       "      <td>25.754</td>\n",
       "      <td>139.784111</td>\n",
       "      <td>104171</td>\n",
       "      <td>2024-03-07 01:49:00.256310</td>\n",
       "      <td>07/03/2024</td>\n",
       "    </tr>\n",
       "    <tr>\n",
       "      <th>4</th>\n",
       "      <td>25774</td>\n",
       "      <td>0.14</td>\n",
       "      <td>25.774</td>\n",
       "      <td>139.675642</td>\n",
       "      <td>129945</td>\n",
       "      <td>2024-03-07 01:49:26.030310</td>\n",
       "      <td>07/03/2024</td>\n",
       "    </tr>\n",
       "    <tr>\n",
       "      <th>...</th>\n",
       "      <td>...</td>\n",
       "      <td>...</td>\n",
       "      <td>...</td>\n",
       "      <td>...</td>\n",
       "      <td>...</td>\n",
       "      <td>...</td>\n",
       "      <td>...</td>\n",
       "    </tr>\n",
       "    <tr>\n",
       "      <th>167650</th>\n",
       "      <td>26867</td>\n",
       "      <td>0.13</td>\n",
       "      <td>26.867</td>\n",
       "      <td>133.993375</td>\n",
       "      <td>3965761958</td>\n",
       "      <td>2024-04-21 23:23:18.043310</td>\n",
       "      <td>21/04/2024</td>\n",
       "    </tr>\n",
       "    <tr>\n",
       "      <th>167651</th>\n",
       "      <td>26077</td>\n",
       "      <td>0.14</td>\n",
       "      <td>26.077</td>\n",
       "      <td>138.052690</td>\n",
       "      <td>3965788035</td>\n",
       "      <td>2024-04-21 23:23:44.120310</td>\n",
       "      <td>21/04/2024</td>\n",
       "    </tr>\n",
       "    <tr>\n",
       "      <th>167652</th>\n",
       "      <td>26285</td>\n",
       "      <td>0.14</td>\n",
       "      <td>26.285</td>\n",
       "      <td>136.960243</td>\n",
       "      <td>3965814320</td>\n",
       "      <td>2024-04-21 23:24:10.405310</td>\n",
       "      <td>21/04/2024</td>\n",
       "    </tr>\n",
       "    <tr>\n",
       "      <th>167653</th>\n",
       "      <td>26978</td>\n",
       "      <td>0.13</td>\n",
       "      <td>26.978</td>\n",
       "      <td>133.442064</td>\n",
       "      <td>3965841298</td>\n",
       "      <td>2024-04-21 23:24:37.383310</td>\n",
       "      <td>21/04/2024</td>\n",
       "    </tr>\n",
       "    <tr>\n",
       "      <th>167654</th>\n",
       "      <td>26965</td>\n",
       "      <td>0.13</td>\n",
       "      <td>26.965</td>\n",
       "      <td>133.506397</td>\n",
       "      <td>3965868263</td>\n",
       "      <td>2024-04-21 23:25:04.348310</td>\n",
       "      <td>21/04/2024</td>\n",
       "    </tr>\n",
       "  </tbody>\n",
       "</table>\n",
       "<p>167655 rows × 7 columns</p>\n",
       "</div>"
      ],
      "text/plain": [
       "        Interval   kWh     sec          Wh   cumul(ms)  \\\n",
       "0          26289  0.14  26.289  136.939404       26289   \n",
       "1          26243  0.14  26.243  137.179438       52532   \n",
       "2          25885  0.14  25.885  139.076685       78417   \n",
       "3          25754  0.14  25.754  139.784111      104171   \n",
       "4          25774  0.14  25.774  139.675642      129945   \n",
       "...          ...   ...     ...         ...         ...   \n",
       "167650     26867  0.13  26.867  133.993375  3965761958   \n",
       "167651     26077  0.14  26.077  138.052690  3965788035   \n",
       "167652     26285  0.14  26.285  136.960243  3965814320   \n",
       "167653     26978  0.13  26.978  133.442064  3965841298   \n",
       "167654     26965  0.13  26.965  133.506397  3965868263   \n",
       "\n",
       "                            dates        days  \n",
       "0      2024-03-07 01:47:42.374310  07/03/2024  \n",
       "1      2024-03-07 01:48:08.617310  07/03/2024  \n",
       "2      2024-03-07 01:48:34.502310  07/03/2024  \n",
       "3      2024-03-07 01:49:00.256310  07/03/2024  \n",
       "4      2024-03-07 01:49:26.030310  07/03/2024  \n",
       "...                           ...         ...  \n",
       "167650 2024-04-21 23:23:18.043310  21/04/2024  \n",
       "167651 2024-04-21 23:23:44.120310  21/04/2024  \n",
       "167652 2024-04-21 23:24:10.405310  21/04/2024  \n",
       "167653 2024-04-21 23:24:37.383310  21/04/2024  \n",
       "167654 2024-04-21 23:25:04.348310  21/04/2024  \n",
       "\n",
       "[167655 rows x 7 columns]"
      ]
     },
     "execution_count": 2197,
     "metadata": {},
     "output_type": "execute_result"
    }
   ],
   "source": [
    "conso_data"
   ]
  },
  {
   "cell_type": "code",
   "execution_count": 2198,
   "metadata": {},
   "outputs": [
    {
     "data": {
      "text/plain": [
       "<pandas.core.groupby.generic.DataFrameGroupBy object at 0x00000290A1230410>"
      ]
     },
     "execution_count": 2198,
     "metadata": {},
     "output_type": "execute_result"
    }
   ],
   "source": [
    "# group by day\n",
    "grouped = conso_data[['days','kWh']].groupby('days', sort=False)\n",
    "'''conso_graph=[]\n",
    "for name, group in grouped:\n",
    "    if name=='01/04/2024':print(group)\n",
    "    #print(\"\\n\", name, len(group)/1000)\n",
    "    conso_graph.append((name,len(group)/1000))'''\n",
    "grouped\n"
   ]
  },
  {
   "cell_type": "code",
   "execution_count": 2199,
   "metadata": {},
   "outputs": [
    {
     "data": {
      "text/html": [
       "<div>\n",
       "<style scoped>\n",
       "    .dataframe tbody tr th:only-of-type {\n",
       "        vertical-align: middle;\n",
       "    }\n",
       "\n",
       "    .dataframe tbody tr th {\n",
       "        vertical-align: top;\n",
       "    }\n",
       "\n",
       "    .dataframe thead th {\n",
       "        text-align: right;\n",
       "    }\n",
       "</style>\n",
       "<table border=\"1\" class=\"dataframe\">\n",
       "  <thead>\n",
       "    <tr style=\"text-align: right;\">\n",
       "      <th></th>\n",
       "      <th>kWh</th>\n",
       "    </tr>\n",
       "    <tr>\n",
       "      <th>days</th>\n",
       "      <th></th>\n",
       "    </tr>\n",
       "  </thead>\n",
       "  <tbody>\n",
       "    <tr>\n",
       "      <th>07/03/2024</th>\n",
       "      <td>3.142</td>\n",
       "    </tr>\n",
       "    <tr>\n",
       "      <th>08/03/2024</th>\n",
       "      <td>3.751</td>\n",
       "    </tr>\n",
       "    <tr>\n",
       "      <th>09/03/2024</th>\n",
       "      <td>3.082</td>\n",
       "    </tr>\n",
       "    <tr>\n",
       "      <th>10/03/2024</th>\n",
       "      <td>3.534</td>\n",
       "    </tr>\n",
       "    <tr>\n",
       "      <th>11/03/2024</th>\n",
       "      <td>4.545</td>\n",
       "    </tr>\n",
       "    <tr>\n",
       "      <th>12/03/2024</th>\n",
       "      <td>3.552</td>\n",
       "    </tr>\n",
       "    <tr>\n",
       "      <th>13/03/2024</th>\n",
       "      <td>3.539</td>\n",
       "    </tr>\n",
       "    <tr>\n",
       "      <th>14/03/2024</th>\n",
       "      <td>3.656</td>\n",
       "    </tr>\n",
       "    <tr>\n",
       "      <th>15/03/2024</th>\n",
       "      <td>3.563</td>\n",
       "    </tr>\n",
       "    <tr>\n",
       "      <th>16/03/2024</th>\n",
       "      <td>3.359</td>\n",
       "    </tr>\n",
       "    <tr>\n",
       "      <th>17/03/2024</th>\n",
       "      <td>3.350</td>\n",
       "    </tr>\n",
       "    <tr>\n",
       "      <th>18/03/2024</th>\n",
       "      <td>4.402</td>\n",
       "    </tr>\n",
       "    <tr>\n",
       "      <th>19/03/2024</th>\n",
       "      <td>3.508</td>\n",
       "    </tr>\n",
       "    <tr>\n",
       "      <th>20/03/2024</th>\n",
       "      <td>3.445</td>\n",
       "    </tr>\n",
       "    <tr>\n",
       "      <th>21/03/2024</th>\n",
       "      <td>3.546</td>\n",
       "    </tr>\n",
       "    <tr>\n",
       "      <th>22/03/2024</th>\n",
       "      <td>3.745</td>\n",
       "    </tr>\n",
       "    <tr>\n",
       "      <th>23/03/2024</th>\n",
       "      <td>3.526</td>\n",
       "    </tr>\n",
       "    <tr>\n",
       "      <th>24/03/2024</th>\n",
       "      <td>3.340</td>\n",
       "    </tr>\n",
       "    <tr>\n",
       "      <th>25/03/2024</th>\n",
       "      <td>3.889</td>\n",
       "    </tr>\n",
       "    <tr>\n",
       "      <th>26/03/2024</th>\n",
       "      <td>3.419</td>\n",
       "    </tr>\n",
       "    <tr>\n",
       "      <th>27/03/2024</th>\n",
       "      <td>3.474</td>\n",
       "    </tr>\n",
       "    <tr>\n",
       "      <th>28/03/2024</th>\n",
       "      <td>3.637</td>\n",
       "    </tr>\n",
       "    <tr>\n",
       "      <th>29/03/2024</th>\n",
       "      <td>3.757</td>\n",
       "    </tr>\n",
       "    <tr>\n",
       "      <th>30/03/2024</th>\n",
       "      <td>3.651</td>\n",
       "    </tr>\n",
       "    <tr>\n",
       "      <th>31/03/2024</th>\n",
       "      <td>3.832</td>\n",
       "    </tr>\n",
       "    <tr>\n",
       "      <th>01/04/2024</th>\n",
       "      <td>3.837</td>\n",
       "    </tr>\n",
       "    <tr>\n",
       "      <th>02/04/2024</th>\n",
       "      <td>3.819</td>\n",
       "    </tr>\n",
       "    <tr>\n",
       "      <th>03/04/2024</th>\n",
       "      <td>3.419</td>\n",
       "    </tr>\n",
       "    <tr>\n",
       "      <th>04/04/2024</th>\n",
       "      <td>3.476</td>\n",
       "    </tr>\n",
       "    <tr>\n",
       "      <th>05/04/2024</th>\n",
       "      <td>4.417</td>\n",
       "    </tr>\n",
       "    <tr>\n",
       "      <th>06/04/2024</th>\n",
       "      <td>3.404</td>\n",
       "    </tr>\n",
       "    <tr>\n",
       "      <th>07/04/2024</th>\n",
       "      <td>4.071</td>\n",
       "    </tr>\n",
       "    <tr>\n",
       "      <th>08/04/2024</th>\n",
       "      <td>3.780</td>\n",
       "    </tr>\n",
       "    <tr>\n",
       "      <th>09/04/2024</th>\n",
       "      <td>4.060</td>\n",
       "    </tr>\n",
       "    <tr>\n",
       "      <th>10/04/2024</th>\n",
       "      <td>3.433</td>\n",
       "    </tr>\n",
       "    <tr>\n",
       "      <th>11/04/2024</th>\n",
       "      <td>3.578</td>\n",
       "    </tr>\n",
       "    <tr>\n",
       "      <th>12/04/2024</th>\n",
       "      <td>3.447</td>\n",
       "    </tr>\n",
       "    <tr>\n",
       "      <th>13/04/2024</th>\n",
       "      <td>4.113</td>\n",
       "    </tr>\n",
       "    <tr>\n",
       "      <th>14/04/2024</th>\n",
       "      <td>3.272</td>\n",
       "    </tr>\n",
       "    <tr>\n",
       "      <th>15/04/2024</th>\n",
       "      <td>3.317</td>\n",
       "    </tr>\n",
       "    <tr>\n",
       "      <th>16/04/2024</th>\n",
       "      <td>3.702</td>\n",
       "    </tr>\n",
       "    <tr>\n",
       "      <th>17/04/2024</th>\n",
       "      <td>3.690</td>\n",
       "    </tr>\n",
       "    <tr>\n",
       "      <th>18/04/2024</th>\n",
       "      <td>4.218</td>\n",
       "    </tr>\n",
       "    <tr>\n",
       "      <th>19/04/2024</th>\n",
       "      <td>3.285</td>\n",
       "    </tr>\n",
       "    <tr>\n",
       "      <th>20/04/2024</th>\n",
       "      <td>3.378</td>\n",
       "    </tr>\n",
       "    <tr>\n",
       "      <th>21/04/2024</th>\n",
       "      <td>3.695</td>\n",
       "    </tr>\n",
       "  </tbody>\n",
       "</table>\n",
       "</div>"
      ],
      "text/plain": [
       "              kWh\n",
       "days             \n",
       "07/03/2024  3.142\n",
       "08/03/2024  3.751\n",
       "09/03/2024  3.082\n",
       "10/03/2024  3.534\n",
       "11/03/2024  4.545\n",
       "12/03/2024  3.552\n",
       "13/03/2024  3.539\n",
       "14/03/2024  3.656\n",
       "15/03/2024  3.563\n",
       "16/03/2024  3.359\n",
       "17/03/2024  3.350\n",
       "18/03/2024  4.402\n",
       "19/03/2024  3.508\n",
       "20/03/2024  3.445\n",
       "21/03/2024  3.546\n",
       "22/03/2024  3.745\n",
       "23/03/2024  3.526\n",
       "24/03/2024  3.340\n",
       "25/03/2024  3.889\n",
       "26/03/2024  3.419\n",
       "27/03/2024  3.474\n",
       "28/03/2024  3.637\n",
       "29/03/2024  3.757\n",
       "30/03/2024  3.651\n",
       "31/03/2024  3.832\n",
       "01/04/2024  3.837\n",
       "02/04/2024  3.819\n",
       "03/04/2024  3.419\n",
       "04/04/2024  3.476\n",
       "05/04/2024  4.417\n",
       "06/04/2024  3.404\n",
       "07/04/2024  4.071\n",
       "08/04/2024  3.780\n",
       "09/04/2024  4.060\n",
       "10/04/2024  3.433\n",
       "11/04/2024  3.578\n",
       "12/04/2024  3.447\n",
       "13/04/2024  4.113\n",
       "14/04/2024  3.272\n",
       "15/04/2024  3.317\n",
       "16/04/2024  3.702\n",
       "17/04/2024  3.690\n",
       "18/04/2024  4.218\n",
       "19/04/2024  3.285\n",
       "20/04/2024  3.378\n",
       "21/04/2024  3.695"
      ]
     },
     "execution_count": 2199,
     "metadata": {},
     "output_type": "execute_result"
    }
   ],
   "source": [
    "# count elements in each group => conso in watts => convert to kW\n",
    "(grouped.count()/1000)"
   ]
  },
  {
   "cell_type": "code",
   "execution_count": 2200,
   "metadata": {},
   "outputs": [
    {
     "data": {
      "text/plain": [
       "kWh    0.321101\n",
       "dtype: float64"
      ]
     },
     "execution_count": 2200,
     "metadata": {},
     "output_type": "execute_result"
    }
   ],
   "source": [
    "# mean of all instant conso\n",
    "total_mean = conso_data[['kWh']].mean()\n",
    "total_mean\n"
   ]
  },
  {
   "cell_type": "code",
   "execution_count": 2201,
   "metadata": {},
   "outputs": [
    {
     "data": {
      "text/plain": [
       "kWh    3.644674\n",
       "dtype: float64"
      ]
     },
     "execution_count": 2201,
     "metadata": {},
     "output_type": "execute_result"
    }
   ],
   "source": [
    "# mean by day from 07/03\n",
    "mean=(grouped.count()/1000).mean()\n",
    "mean"
   ]
  },
  {
   "cell_type": "code",
   "execution_count": 2202,
   "metadata": {},
   "outputs": [],
   "source": [
    "filename='conso_par_jour.csv'\n",
    "df_grp = grouped.count()/1000\n",
    "df_grp.to_csv(filename)\n",
    "filename='../conso_par_jour.csv'\n",
    "df_grp.to_csv(filename)"
   ]
  },
  {
   "cell_type": "code",
   "execution_count": 2203,
   "metadata": {},
   "outputs": [
    {
     "data": {
      "text/html": [
       "<div>\n",
       "<style scoped>\n",
       "    .dataframe tbody tr th:only-of-type {\n",
       "        vertical-align: middle;\n",
       "    }\n",
       "\n",
       "    .dataframe tbody tr th {\n",
       "        vertical-align: top;\n",
       "    }\n",
       "\n",
       "    .dataframe thead th {\n",
       "        text-align: right;\n",
       "    }\n",
       "</style>\n",
       "<table border=\"1\" class=\"dataframe\">\n",
       "  <thead>\n",
       "    <tr style=\"text-align: right;\">\n",
       "      <th></th>\n",
       "      <th>kWh</th>\n",
       "    </tr>\n",
       "    <tr>\n",
       "      <th>days</th>\n",
       "      <th></th>\n",
       "    </tr>\n",
       "  </thead>\n",
       "  <tbody>\n",
       "    <tr>\n",
       "      <th>07/03/2024</th>\n",
       "      <td>3.142</td>\n",
       "    </tr>\n",
       "    <tr>\n",
       "      <th>08/03/2024</th>\n",
       "      <td>3.751</td>\n",
       "    </tr>\n",
       "    <tr>\n",
       "      <th>09/03/2024</th>\n",
       "      <td>3.082</td>\n",
       "    </tr>\n",
       "    <tr>\n",
       "      <th>10/03/2024</th>\n",
       "      <td>3.534</td>\n",
       "    </tr>\n",
       "    <tr>\n",
       "      <th>11/03/2024</th>\n",
       "      <td>4.545</td>\n",
       "    </tr>\n",
       "    <tr>\n",
       "      <th>12/03/2024</th>\n",
       "      <td>3.552</td>\n",
       "    </tr>\n",
       "    <tr>\n",
       "      <th>13/03/2024</th>\n",
       "      <td>3.539</td>\n",
       "    </tr>\n",
       "    <tr>\n",
       "      <th>14/03/2024</th>\n",
       "      <td>3.656</td>\n",
       "    </tr>\n",
       "    <tr>\n",
       "      <th>15/03/2024</th>\n",
       "      <td>3.563</td>\n",
       "    </tr>\n",
       "    <tr>\n",
       "      <th>16/03/2024</th>\n",
       "      <td>3.359</td>\n",
       "    </tr>\n",
       "    <tr>\n",
       "      <th>17/03/2024</th>\n",
       "      <td>3.350</td>\n",
       "    </tr>\n",
       "    <tr>\n",
       "      <th>18/03/2024</th>\n",
       "      <td>4.402</td>\n",
       "    </tr>\n",
       "    <tr>\n",
       "      <th>19/03/2024</th>\n",
       "      <td>3.508</td>\n",
       "    </tr>\n",
       "    <tr>\n",
       "      <th>20/03/2024</th>\n",
       "      <td>3.445</td>\n",
       "    </tr>\n",
       "    <tr>\n",
       "      <th>21/03/2024</th>\n",
       "      <td>3.546</td>\n",
       "    </tr>\n",
       "    <tr>\n",
       "      <th>22/03/2024</th>\n",
       "      <td>3.745</td>\n",
       "    </tr>\n",
       "    <tr>\n",
       "      <th>23/03/2024</th>\n",
       "      <td>3.526</td>\n",
       "    </tr>\n",
       "    <tr>\n",
       "      <th>24/03/2024</th>\n",
       "      <td>3.340</td>\n",
       "    </tr>\n",
       "    <tr>\n",
       "      <th>25/03/2024</th>\n",
       "      <td>3.889</td>\n",
       "    </tr>\n",
       "    <tr>\n",
       "      <th>26/03/2024</th>\n",
       "      <td>3.419</td>\n",
       "    </tr>\n",
       "    <tr>\n",
       "      <th>27/03/2024</th>\n",
       "      <td>3.474</td>\n",
       "    </tr>\n",
       "    <tr>\n",
       "      <th>28/03/2024</th>\n",
       "      <td>3.637</td>\n",
       "    </tr>\n",
       "    <tr>\n",
       "      <th>29/03/2024</th>\n",
       "      <td>3.757</td>\n",
       "    </tr>\n",
       "    <tr>\n",
       "      <th>30/03/2024</th>\n",
       "      <td>3.651</td>\n",
       "    </tr>\n",
       "    <tr>\n",
       "      <th>31/03/2024</th>\n",
       "      <td>3.832</td>\n",
       "    </tr>\n",
       "    <tr>\n",
       "      <th>01/04/2024</th>\n",
       "      <td>3.837</td>\n",
       "    </tr>\n",
       "    <tr>\n",
       "      <th>02/04/2024</th>\n",
       "      <td>3.819</td>\n",
       "    </tr>\n",
       "    <tr>\n",
       "      <th>03/04/2024</th>\n",
       "      <td>3.419</td>\n",
       "    </tr>\n",
       "    <tr>\n",
       "      <th>04/04/2024</th>\n",
       "      <td>3.476</td>\n",
       "    </tr>\n",
       "    <tr>\n",
       "      <th>05/04/2024</th>\n",
       "      <td>4.417</td>\n",
       "    </tr>\n",
       "    <tr>\n",
       "      <th>06/04/2024</th>\n",
       "      <td>3.404</td>\n",
       "    </tr>\n",
       "    <tr>\n",
       "      <th>07/04/2024</th>\n",
       "      <td>4.071</td>\n",
       "    </tr>\n",
       "    <tr>\n",
       "      <th>08/04/2024</th>\n",
       "      <td>3.780</td>\n",
       "    </tr>\n",
       "    <tr>\n",
       "      <th>09/04/2024</th>\n",
       "      <td>4.060</td>\n",
       "    </tr>\n",
       "    <tr>\n",
       "      <th>10/04/2024</th>\n",
       "      <td>3.433</td>\n",
       "    </tr>\n",
       "    <tr>\n",
       "      <th>11/04/2024</th>\n",
       "      <td>3.578</td>\n",
       "    </tr>\n",
       "    <tr>\n",
       "      <th>12/04/2024</th>\n",
       "      <td>3.447</td>\n",
       "    </tr>\n",
       "    <tr>\n",
       "      <th>13/04/2024</th>\n",
       "      <td>4.113</td>\n",
       "    </tr>\n",
       "    <tr>\n",
       "      <th>14/04/2024</th>\n",
       "      <td>3.272</td>\n",
       "    </tr>\n",
       "    <tr>\n",
       "      <th>15/04/2024</th>\n",
       "      <td>3.317</td>\n",
       "    </tr>\n",
       "    <tr>\n",
       "      <th>16/04/2024</th>\n",
       "      <td>3.702</td>\n",
       "    </tr>\n",
       "    <tr>\n",
       "      <th>17/04/2024</th>\n",
       "      <td>3.690</td>\n",
       "    </tr>\n",
       "    <tr>\n",
       "      <th>18/04/2024</th>\n",
       "      <td>4.218</td>\n",
       "    </tr>\n",
       "    <tr>\n",
       "      <th>19/04/2024</th>\n",
       "      <td>3.285</td>\n",
       "    </tr>\n",
       "    <tr>\n",
       "      <th>20/04/2024</th>\n",
       "      <td>3.378</td>\n",
       "    </tr>\n",
       "    <tr>\n",
       "      <th>21/04/2024</th>\n",
       "      <td>3.695</td>\n",
       "    </tr>\n",
       "  </tbody>\n",
       "</table>\n",
       "</div>"
      ],
      "text/plain": [
       "              kWh\n",
       "days             \n",
       "07/03/2024  3.142\n",
       "08/03/2024  3.751\n",
       "09/03/2024  3.082\n",
       "10/03/2024  3.534\n",
       "11/03/2024  4.545\n",
       "12/03/2024  3.552\n",
       "13/03/2024  3.539\n",
       "14/03/2024  3.656\n",
       "15/03/2024  3.563\n",
       "16/03/2024  3.359\n",
       "17/03/2024  3.350\n",
       "18/03/2024  4.402\n",
       "19/03/2024  3.508\n",
       "20/03/2024  3.445\n",
       "21/03/2024  3.546\n",
       "22/03/2024  3.745\n",
       "23/03/2024  3.526\n",
       "24/03/2024  3.340\n",
       "25/03/2024  3.889\n",
       "26/03/2024  3.419\n",
       "27/03/2024  3.474\n",
       "28/03/2024  3.637\n",
       "29/03/2024  3.757\n",
       "30/03/2024  3.651\n",
       "31/03/2024  3.832\n",
       "01/04/2024  3.837\n",
       "02/04/2024  3.819\n",
       "03/04/2024  3.419\n",
       "04/04/2024  3.476\n",
       "05/04/2024  4.417\n",
       "06/04/2024  3.404\n",
       "07/04/2024  4.071\n",
       "08/04/2024  3.780\n",
       "09/04/2024  4.060\n",
       "10/04/2024  3.433\n",
       "11/04/2024  3.578\n",
       "12/04/2024  3.447\n",
       "13/04/2024  4.113\n",
       "14/04/2024  3.272\n",
       "15/04/2024  3.317\n",
       "16/04/2024  3.702\n",
       "17/04/2024  3.690\n",
       "18/04/2024  4.218\n",
       "19/04/2024  3.285\n",
       "20/04/2024  3.378\n",
       "21/04/2024  3.695"
      ]
     },
     "execution_count": 2203,
     "metadata": {},
     "output_type": "execute_result"
    }
   ],
   "source": [
    "df_grp"
   ]
  },
  {
   "cell_type": "code",
   "execution_count": 2204,
   "metadata": {},
   "outputs": [],
   "source": [
    "#manuel\n",
    "#day = '11/03/2024'\n"
   ]
  },
  {
   "cell_type": "code",
   "execution_count": 2205,
   "metadata": {},
   "outputs": [
    {
     "data": {
      "text/plain": [
       "3695"
      ]
     },
     "execution_count": 2205,
     "metadata": {},
     "output_type": "execute_result"
    }
   ],
   "source": [
    "# conso day\n",
    "conso_day = conso_data[conso_data['days']==day]\n",
    "len(conso_day)"
   ]
  },
  {
   "cell_type": "code",
   "execution_count": 2206,
   "metadata": {},
   "outputs": [
    {
     "data": {
      "text/html": [
       "<div>\n",
       "<style scoped>\n",
       "    .dataframe tbody tr th:only-of-type {\n",
       "        vertical-align: middle;\n",
       "    }\n",
       "\n",
       "    .dataframe tbody tr th {\n",
       "        vertical-align: top;\n",
       "    }\n",
       "\n",
       "    .dataframe thead th {\n",
       "        text-align: right;\n",
       "    }\n",
       "</style>\n",
       "<table border=\"1\" class=\"dataframe\">\n",
       "  <thead>\n",
       "    <tr style=\"text-align: right;\">\n",
       "      <th></th>\n",
       "      <th>Interval</th>\n",
       "      <th>kWh</th>\n",
       "      <th>sec</th>\n",
       "      <th>Wh</th>\n",
       "      <th>cumul(ms)</th>\n",
       "      <th>dates</th>\n",
       "      <th>days</th>\n",
       "    </tr>\n",
       "  </thead>\n",
       "  <tbody>\n",
       "    <tr>\n",
       "      <th>163960</th>\n",
       "      <td>37671</td>\n",
       "      <td>0.09</td>\n",
       "      <td>37.671</td>\n",
       "      <td>95.564227</td>\n",
       "      <td>3881567888</td>\n",
       "      <td>2024-04-21 00:00:03.973310</td>\n",
       "      <td>21/04/2024</td>\n",
       "    </tr>\n",
       "    <tr>\n",
       "      <th>163961</th>\n",
       "      <td>37460</td>\n",
       "      <td>0.10</td>\n",
       "      <td>37.460</td>\n",
       "      <td>96.102509</td>\n",
       "      <td>3881605348</td>\n",
       "      <td>2024-04-21 00:00:41.433310</td>\n",
       "      <td>21/04/2024</td>\n",
       "    </tr>\n",
       "    <tr>\n",
       "      <th>163962</th>\n",
       "      <td>34317</td>\n",
       "      <td>0.10</td>\n",
       "      <td>34.317</td>\n",
       "      <td>104.904275</td>\n",
       "      <td>3881639665</td>\n",
       "      <td>2024-04-21 00:01:15.750310</td>\n",
       "      <td>21/04/2024</td>\n",
       "    </tr>\n",
       "    <tr>\n",
       "      <th>163963</th>\n",
       "      <td>35324</td>\n",
       "      <td>0.10</td>\n",
       "      <td>35.324</td>\n",
       "      <td>101.913713</td>\n",
       "      <td>3881674989</td>\n",
       "      <td>2024-04-21 00:01:51.074310</td>\n",
       "      <td>21/04/2024</td>\n",
       "    </tr>\n",
       "    <tr>\n",
       "      <th>163964</th>\n",
       "      <td>36496</td>\n",
       "      <td>0.10</td>\n",
       "      <td>36.496</td>\n",
       "      <td>98.640947</td>\n",
       "      <td>3881711485</td>\n",
       "      <td>2024-04-21 00:02:27.570310</td>\n",
       "      <td>21/04/2024</td>\n",
       "    </tr>\n",
       "    <tr>\n",
       "      <th>...</th>\n",
       "      <td>...</td>\n",
       "      <td>...</td>\n",
       "      <td>...</td>\n",
       "      <td>...</td>\n",
       "      <td>...</td>\n",
       "      <td>...</td>\n",
       "      <td>...</td>\n",
       "    </tr>\n",
       "    <tr>\n",
       "      <th>167650</th>\n",
       "      <td>26867</td>\n",
       "      <td>0.13</td>\n",
       "      <td>26.867</td>\n",
       "      <td>133.993375</td>\n",
       "      <td>3965761958</td>\n",
       "      <td>2024-04-21 23:23:18.043310</td>\n",
       "      <td>21/04/2024</td>\n",
       "    </tr>\n",
       "    <tr>\n",
       "      <th>167651</th>\n",
       "      <td>26077</td>\n",
       "      <td>0.14</td>\n",
       "      <td>26.077</td>\n",
       "      <td>138.052690</td>\n",
       "      <td>3965788035</td>\n",
       "      <td>2024-04-21 23:23:44.120310</td>\n",
       "      <td>21/04/2024</td>\n",
       "    </tr>\n",
       "    <tr>\n",
       "      <th>167652</th>\n",
       "      <td>26285</td>\n",
       "      <td>0.14</td>\n",
       "      <td>26.285</td>\n",
       "      <td>136.960243</td>\n",
       "      <td>3965814320</td>\n",
       "      <td>2024-04-21 23:24:10.405310</td>\n",
       "      <td>21/04/2024</td>\n",
       "    </tr>\n",
       "    <tr>\n",
       "      <th>167653</th>\n",
       "      <td>26978</td>\n",
       "      <td>0.13</td>\n",
       "      <td>26.978</td>\n",
       "      <td>133.442064</td>\n",
       "      <td>3965841298</td>\n",
       "      <td>2024-04-21 23:24:37.383310</td>\n",
       "      <td>21/04/2024</td>\n",
       "    </tr>\n",
       "    <tr>\n",
       "      <th>167654</th>\n",
       "      <td>26965</td>\n",
       "      <td>0.13</td>\n",
       "      <td>26.965</td>\n",
       "      <td>133.506397</td>\n",
       "      <td>3965868263</td>\n",
       "      <td>2024-04-21 23:25:04.348310</td>\n",
       "      <td>21/04/2024</td>\n",
       "    </tr>\n",
       "  </tbody>\n",
       "</table>\n",
       "<p>3695 rows × 7 columns</p>\n",
       "</div>"
      ],
      "text/plain": [
       "        Interval   kWh     sec          Wh   cumul(ms)  \\\n",
       "163960     37671  0.09  37.671   95.564227  3881567888   \n",
       "163961     37460  0.10  37.460   96.102509  3881605348   \n",
       "163962     34317  0.10  34.317  104.904275  3881639665   \n",
       "163963     35324  0.10  35.324  101.913713  3881674989   \n",
       "163964     36496  0.10  36.496   98.640947  3881711485   \n",
       "...          ...   ...     ...         ...         ...   \n",
       "167650     26867  0.13  26.867  133.993375  3965761958   \n",
       "167651     26077  0.14  26.077  138.052690  3965788035   \n",
       "167652     26285  0.14  26.285  136.960243  3965814320   \n",
       "167653     26978  0.13  26.978  133.442064  3965841298   \n",
       "167654     26965  0.13  26.965  133.506397  3965868263   \n",
       "\n",
       "                            dates        days  \n",
       "163960 2024-04-21 00:00:03.973310  21/04/2024  \n",
       "163961 2024-04-21 00:00:41.433310  21/04/2024  \n",
       "163962 2024-04-21 00:01:15.750310  21/04/2024  \n",
       "163963 2024-04-21 00:01:51.074310  21/04/2024  \n",
       "163964 2024-04-21 00:02:27.570310  21/04/2024  \n",
       "...                           ...         ...  \n",
       "167650 2024-04-21 23:23:18.043310  21/04/2024  \n",
       "167651 2024-04-21 23:23:44.120310  21/04/2024  \n",
       "167652 2024-04-21 23:24:10.405310  21/04/2024  \n",
       "167653 2024-04-21 23:24:37.383310  21/04/2024  \n",
       "167654 2024-04-21 23:25:04.348310  21/04/2024  \n",
       "\n",
       "[3695 rows x 7 columns]"
      ]
     },
     "execution_count": 2206,
     "metadata": {},
     "output_type": "execute_result"
    }
   ],
   "source": [
    "conso_day"
   ]
  },
  {
   "cell_type": "code",
   "execution_count": 2207,
   "metadata": {},
   "outputs": [],
   "source": [
    "filename='conso_jour.csv'\n",
    "conso_day.to_csv(filename)\n",
    "filename='../conso_jour.csv'\n",
    "conso_day.to_csv(filename)"
   ]
  },
  {
   "cell_type": "code",
   "execution_count": 2208,
   "metadata": {},
   "outputs": [
    {
     "data": {
      "text/plain": [
       "(163960   2024-04-21 00:00:03.973310\n",
       " Name: dates, dtype: datetime64[ns],\n",
       " 167654   2024-04-21 23:25:04.348310\n",
       " Name: dates, dtype: datetime64[ns])"
      ]
     },
     "execution_count": 2208,
     "metadata": {},
     "output_type": "execute_result"
    }
   ],
   "source": [
    "conso_day.head(1).dates, conso_day.tail(1).dates\n"
   ]
  },
  {
   "cell_type": "code",
   "execution_count": 2209,
   "metadata": {},
   "outputs": [
    {
     "data": {
      "text/plain": [
       "163960   2024-04-21 00:00:03.973310\n",
       "163961   2024-04-21 00:00:41.433310\n",
       "163962   2024-04-21 00:01:15.750310\n",
       "163963   2024-04-21 00:01:51.074310\n",
       "163964   2024-04-21 00:02:27.570310\n",
       "                    ...            \n",
       "167650   2024-04-21 23:23:18.043310\n",
       "167651   2024-04-21 23:23:44.120310\n",
       "167652   2024-04-21 23:24:10.405310\n",
       "167653   2024-04-21 23:24:37.383310\n",
       "167654   2024-04-21 23:25:04.348310\n",
       "Name: dates, Length: 3695, dtype: datetime64[ns]"
      ]
     },
     "execution_count": 2209,
     "metadata": {},
     "output_type": "execute_result"
    }
   ],
   "source": [
    "conso_day.loc[:,'dates']"
   ]
  },
  {
   "cell_type": "code",
   "execution_count": 2210,
   "metadata": {},
   "outputs": [
    {
     "name": "stderr",
     "output_type": "stream",
     "text": [
      "C:\\Users\\jean\\AppData\\Local\\Temp\\ipykernel_26500\\2932063292.py:1: SettingWithCopyWarning: \n",
      "A value is trying to be set on a copy of a slice from a DataFrame.\n",
      "Try using .loc[row_indexer,col_indexer] = value instead\n",
      "\n",
      "See the caveats in the documentation: https://pandas.pydata.org/pandas-docs/stable/user_guide/indexing.html#returning-a-view-versus-a-copy\n",
      "  conso_day['heure']=conso_day.loc[:,'dates'].apply(lambda x: str(x.hour)+':'+str(x.minute) +':'+str(x.second))\n"
     ]
    },
    {
     "data": {
      "text/html": [
       "<div>\n",
       "<style scoped>\n",
       "    .dataframe tbody tr th:only-of-type {\n",
       "        vertical-align: middle;\n",
       "    }\n",
       "\n",
       "    .dataframe tbody tr th {\n",
       "        vertical-align: top;\n",
       "    }\n",
       "\n",
       "    .dataframe thead th {\n",
       "        text-align: right;\n",
       "    }\n",
       "</style>\n",
       "<table border=\"1\" class=\"dataframe\">\n",
       "  <thead>\n",
       "    <tr style=\"text-align: right;\">\n",
       "      <th></th>\n",
       "      <th>Interval</th>\n",
       "      <th>kWh</th>\n",
       "      <th>sec</th>\n",
       "      <th>Wh</th>\n",
       "      <th>cumul(ms)</th>\n",
       "      <th>dates</th>\n",
       "      <th>days</th>\n",
       "    </tr>\n",
       "    <tr>\n",
       "      <th>heure</th>\n",
       "      <th></th>\n",
       "      <th></th>\n",
       "      <th></th>\n",
       "      <th></th>\n",
       "      <th></th>\n",
       "      <th></th>\n",
       "      <th></th>\n",
       "    </tr>\n",
       "  </thead>\n",
       "  <tbody>\n",
       "    <tr>\n",
       "      <th>0:0:3</th>\n",
       "      <td>37671</td>\n",
       "      <td>0.09</td>\n",
       "      <td>37.671</td>\n",
       "      <td>95.564227</td>\n",
       "      <td>3881567888</td>\n",
       "      <td>2024-04-21 00:00:03.973310</td>\n",
       "      <td>21/04/2024</td>\n",
       "    </tr>\n",
       "    <tr>\n",
       "      <th>0:0:41</th>\n",
       "      <td>37460</td>\n",
       "      <td>0.10</td>\n",
       "      <td>37.460</td>\n",
       "      <td>96.102509</td>\n",
       "      <td>3881605348</td>\n",
       "      <td>2024-04-21 00:00:41.433310</td>\n",
       "      <td>21/04/2024</td>\n",
       "    </tr>\n",
       "    <tr>\n",
       "      <th>0:1:15</th>\n",
       "      <td>34317</td>\n",
       "      <td>0.10</td>\n",
       "      <td>34.317</td>\n",
       "      <td>104.904275</td>\n",
       "      <td>3881639665</td>\n",
       "      <td>2024-04-21 00:01:15.750310</td>\n",
       "      <td>21/04/2024</td>\n",
       "    </tr>\n",
       "    <tr>\n",
       "      <th>0:1:51</th>\n",
       "      <td>35324</td>\n",
       "      <td>0.10</td>\n",
       "      <td>35.324</td>\n",
       "      <td>101.913713</td>\n",
       "      <td>3881674989</td>\n",
       "      <td>2024-04-21 00:01:51.074310</td>\n",
       "      <td>21/04/2024</td>\n",
       "    </tr>\n",
       "    <tr>\n",
       "      <th>0:2:27</th>\n",
       "      <td>36496</td>\n",
       "      <td>0.10</td>\n",
       "      <td>36.496</td>\n",
       "      <td>98.640947</td>\n",
       "      <td>3881711485</td>\n",
       "      <td>2024-04-21 00:02:27.570310</td>\n",
       "      <td>21/04/2024</td>\n",
       "    </tr>\n",
       "    <tr>\n",
       "      <th>...</th>\n",
       "      <td>...</td>\n",
       "      <td>...</td>\n",
       "      <td>...</td>\n",
       "      <td>...</td>\n",
       "      <td>...</td>\n",
       "      <td>...</td>\n",
       "      <td>...</td>\n",
       "    </tr>\n",
       "    <tr>\n",
       "      <th>23:23:18</th>\n",
       "      <td>26867</td>\n",
       "      <td>0.13</td>\n",
       "      <td>26.867</td>\n",
       "      <td>133.993375</td>\n",
       "      <td>3965761958</td>\n",
       "      <td>2024-04-21 23:23:18.043310</td>\n",
       "      <td>21/04/2024</td>\n",
       "    </tr>\n",
       "    <tr>\n",
       "      <th>23:23:44</th>\n",
       "      <td>26077</td>\n",
       "      <td>0.14</td>\n",
       "      <td>26.077</td>\n",
       "      <td>138.052690</td>\n",
       "      <td>3965788035</td>\n",
       "      <td>2024-04-21 23:23:44.120310</td>\n",
       "      <td>21/04/2024</td>\n",
       "    </tr>\n",
       "    <tr>\n",
       "      <th>23:24:10</th>\n",
       "      <td>26285</td>\n",
       "      <td>0.14</td>\n",
       "      <td>26.285</td>\n",
       "      <td>136.960243</td>\n",
       "      <td>3965814320</td>\n",
       "      <td>2024-04-21 23:24:10.405310</td>\n",
       "      <td>21/04/2024</td>\n",
       "    </tr>\n",
       "    <tr>\n",
       "      <th>23:24:37</th>\n",
       "      <td>26978</td>\n",
       "      <td>0.13</td>\n",
       "      <td>26.978</td>\n",
       "      <td>133.442064</td>\n",
       "      <td>3965841298</td>\n",
       "      <td>2024-04-21 23:24:37.383310</td>\n",
       "      <td>21/04/2024</td>\n",
       "    </tr>\n",
       "    <tr>\n",
       "      <th>23:25:4</th>\n",
       "      <td>26965</td>\n",
       "      <td>0.13</td>\n",
       "      <td>26.965</td>\n",
       "      <td>133.506397</td>\n",
       "      <td>3965868263</td>\n",
       "      <td>2024-04-21 23:25:04.348310</td>\n",
       "      <td>21/04/2024</td>\n",
       "    </tr>\n",
       "  </tbody>\n",
       "</table>\n",
       "<p>3695 rows × 7 columns</p>\n",
       "</div>"
      ],
      "text/plain": [
       "          Interval   kWh     sec          Wh   cumul(ms)  \\\n",
       "heure                                                      \n",
       "0:0:3        37671  0.09  37.671   95.564227  3881567888   \n",
       "0:0:41       37460  0.10  37.460   96.102509  3881605348   \n",
       "0:1:15       34317  0.10  34.317  104.904275  3881639665   \n",
       "0:1:51       35324  0.10  35.324  101.913713  3881674989   \n",
       "0:2:27       36496  0.10  36.496   98.640947  3881711485   \n",
       "...            ...   ...     ...         ...         ...   \n",
       "23:23:18     26867  0.13  26.867  133.993375  3965761958   \n",
       "23:23:44     26077  0.14  26.077  138.052690  3965788035   \n",
       "23:24:10     26285  0.14  26.285  136.960243  3965814320   \n",
       "23:24:37     26978  0.13  26.978  133.442064  3965841298   \n",
       "23:25:4      26965  0.13  26.965  133.506397  3965868263   \n",
       "\n",
       "                              dates        days  \n",
       "heure                                            \n",
       "0:0:3    2024-04-21 00:00:03.973310  21/04/2024  \n",
       "0:0:41   2024-04-21 00:00:41.433310  21/04/2024  \n",
       "0:1:15   2024-04-21 00:01:15.750310  21/04/2024  \n",
       "0:1:51   2024-04-21 00:01:51.074310  21/04/2024  \n",
       "0:2:27   2024-04-21 00:02:27.570310  21/04/2024  \n",
       "...                             ...         ...  \n",
       "23:23:18 2024-04-21 23:23:18.043310  21/04/2024  \n",
       "23:23:44 2024-04-21 23:23:44.120310  21/04/2024  \n",
       "23:24:10 2024-04-21 23:24:10.405310  21/04/2024  \n",
       "23:24:37 2024-04-21 23:24:37.383310  21/04/2024  \n",
       "23:25:4  2024-04-21 23:25:04.348310  21/04/2024  \n",
       "\n",
       "[3695 rows x 7 columns]"
      ]
     },
     "execution_count": 2210,
     "metadata": {},
     "output_type": "execute_result"
    }
   ],
   "source": [
    "conso_day['heure']=conso_day.loc[:,'dates'].apply(lambda x: str(x.hour)+':'+str(x.minute) +':'+str(x.second))\n",
    "#=[x.hour for x in conso_day['dates']]\n",
    "conso_day\n",
    "df= conso_day.set_index('heure')\n",
    "df"
   ]
  },
  {
   "cell_type": "code",
   "execution_count": 2211,
   "metadata": {},
   "outputs": [
    {
     "data": {
      "text/plain": [
       "('23:25:06', 3.695)"
      ]
     },
     "execution_count": 2211,
     "metadata": {},
     "output_type": "execute_result"
    }
   ],
   "source": [
    "here = now.strftime('%H:%M:%S')\n",
    "here, len(df)/1000"
   ]
  },
  {
   "cell_type": "code",
   "execution_count": 2212,
   "metadata": {},
   "outputs": [],
   "source": [
    "conso_jour=len(df['kWh'])"
   ]
  },
  {
   "cell_type": "code",
   "execution_count": 2213,
   "metadata": {},
   "outputs": [
    {
     "data": {
      "image/png": "[encoded data removed]",
      "text/plain": [
       "<Figure size 640x480 with 1 Axes>"
      ]
     },
     "metadata": {},
     "output_type": "display_data"
    }
   ],
   "source": [
    "df_grp.iloc[:-1].plot()#kind='bar')\n",
    "plt.plot((0,len(df_grp)-1),(mean,mean))\n",
    "plt.xticks(rotation=45)\n",
    "plt.grid()\n"
   ]
  },
  {
   "cell_type": "code",
   "execution_count": 2214,
   "metadata": {},
   "outputs": [
    {
     "data": {
      "image/png": "[encoded data removed]",
      "text/plain": [
       "<Figure size 1500x700 with 1 Axes>"
      ]
     },
     "metadata": {},
     "output_type": "display_data"
    }
   ],
   "source": [
    "from matplotlib.ticker import (MultipleLocator, AutoMinorLocator)\n",
    "# consommation d'une journée entière à partir de minuit\n",
    "fig, ax = plt.subplots()\n",
    "major_ticks=300;minor_ticks=100\n",
    "ax.xaxis.set_major_locator(MultipleLocator(major_ticks))  # major ticks tous les 15 min\n",
    "ax.xaxis.set_minor_locator(MultipleLocator(minor_ticks))\n",
    "# the size of A4 paper\n",
    "fig.set_size_inches(15, 7)\n",
    "plt.plot(df['kWh'])\n",
    "#plt.plot(conso_day['heure'],conso_day['kWh'])\n",
    "plt.title(f'Journée du {day} {here} : {conso_jour/1000} kwh')\n",
    "plt.grid()"
   ]
  },
  {
   "cell_type": "code",
   "execution_count": 2215,
   "metadata": {},
   "outputs": [],
   "source": [
    "df['power']=[y for x,y in zip(df['Interval'],df['kWh'])]"
   ]
  },
  {
   "cell_type": "code",
   "execution_count": 2216,
   "metadata": {},
   "outputs": [
    {
     "data": {
      "text/plain": [
       "heure\n",
       "0:0:3       0.09\n",
       "0:0:41      0.10\n",
       "0:1:15      0.10\n",
       "0:1:51      0.10\n",
       "0:2:27      0.10\n",
       "            ... \n",
       "23:23:18    0.13\n",
       "23:23:44    0.14\n",
       "23:24:10    0.14\n",
       "23:24:37    0.13\n",
       "23:25:4     0.13\n",
       "Name: power, Length: 3695, dtype: float64"
      ]
     },
     "execution_count": 2216,
     "metadata": {},
     "output_type": "execute_result"
    }
   ],
   "source": [
    "df['power']"
   ]
  },
  {
   "cell_type": "code",
   "execution_count": 2217,
   "metadata": {},
   "outputs": [
    {
     "data": {
      "text/plain": [
       "<Axes: xlabel='heure'>"
      ]
     },
     "execution_count": 2217,
     "metadata": {},
     "output_type": "execute_result"
    },
    {
     "data": {
      "image/png": "[encoded data removed]",
      "text/plain": [
       "<Figure size 640x480 with 1 Axes>"
      ]
     },
     "metadata": {},
     "output_type": "display_data"
    }
   ],
   "source": [
    "evo=df['power'].cumsum()\n",
    "evo.plot()"
   ]
  },
  {
   "cell_type": "code",
   "execution_count": 2218,
   "metadata": {},
   "outputs": [
    {
     "data": {
      "text/plain": [
       "753"
      ]
     },
     "execution_count": 2218,
     "metadata": {},
     "output_type": "execute_result"
    },
    {
     "data": {
      "image/png": "[encoded data removed]",
      "text/plain": [
       "<Figure size 640x480 with 1 Axes>"
      ]
     },
     "metadata": {},
     "output_type": "display_data"
    }
   ],
   "source": [
    "# bouilloire, microondes, four\n",
    "filter=(.5<df['kWh'])\n",
    "pic_high = df[filter]\n",
    "pic_high['kWh'].plot()\n",
    "len(pic_high)"
   ]
  },
  {
   "cell_type": "markdown",
   "metadata": {},
   "source": []
  },
  {
   "cell_type": "code",
   "execution_count": 2219,
   "metadata": {},
   "outputs": [
    {
     "data": {
      "text/plain": [
       "2105"
      ]
     },
     "execution_count": 2219,
     "metadata": {},
     "output_type": "execute_result"
    },
    {
     "data": {
      "image/png": "[encoded data removed]",
      "text/plain": [
       "<Figure size 640x480 with 1 Axes>"
      ]
     },
     "metadata": {},
     "output_type": "display_data"
    }
   ],
   "source": [
    "# frigo, moteur volet\n",
    "pic_middle = df[(0.1<df['kWh']) & (df['kWh']<=.5)]\n",
    "pic_middle['kWh'].plot()\n",
    "len(pic_middle) # wh"
   ]
  },
  {
   "cell_type": "code",
   "execution_count": 2220,
   "metadata": {},
   "outputs": [
    {
     "data": {
      "text/plain": [
       "2942"
      ]
     },
     "execution_count": 2220,
     "metadata": {},
     "output_type": "execute_result"
    },
    {
     "data": {
      "image/png": "[encoded data removed]",
      "text/plain": [
       "<Figure size 640x480 with 1 Axes>"
      ]
     },
     "metadata": {},
     "output_type": "display_data"
    }
   ],
   "source": [
    "# pics frigo par jour\n",
    "filter = (df['kWh']<=0.5)\n",
    "pic_low = df[filter]\n",
    "pic_low['kWh'].plot()\n",
    "len(pic_low) # wh"
   ]
  },
  {
   "cell_type": "code",
   "execution_count": 2221,
   "metadata": {},
   "outputs": [
    {
     "data": {
      "text/plain": [
       "0        2024-03-07 01:47:42.374310\n",
       "1        2024-03-07 01:48:08.617310\n",
       "2        2024-03-07 01:48:34.502310\n",
       "3        2024-03-07 01:49:00.256310\n",
       "4        2024-03-07 01:49:26.030310\n",
       "                    ...            \n",
       "167650   2024-04-21 23:23:18.043310\n",
       "167651   2024-04-21 23:23:44.120310\n",
       "167652   2024-04-21 23:24:10.405310\n",
       "167653   2024-04-21 23:24:37.383310\n",
       "167654   2024-04-21 23:25:04.348310\n",
       "Name: dates, Length: 167655, dtype: datetime64[ns]"
      ]
     },
     "execution_count": 2221,
     "metadata": {},
     "output_type": "execute_result"
    }
   ],
   "source": [
    "time = conso_data['dates']\n",
    "time\n"
   ]
  },
  {
   "cell_type": "code",
   "execution_count": 2222,
   "metadata": {},
   "outputs": [],
   "source": [
    "def format_date(space=3):\n",
    "    plt.gca().xaxis.set_major_formatter(mdates.DateFormatter('%d/%m\\n%H:%M'))\n",
    "    plt.gca().xaxis.set_major_locator(mdates.HourLocator(space))\n",
    "    #plt.gca().xaxis.set_major_locator(mdates.HourLocator(interval=space))\n",
    "    plt.gcf().autofmt_xdate()\n",
    "    plt.grid()"
   ]
  },
  {
   "cell_type": "code",
   "execution_count": 2223,
   "metadata": {},
   "outputs": [],
   "source": [
    "if not old:\n",
    "    major_ticks=1/60;minor_ticks=1/240  # plus de ticks, 4 fois plus de minor\n",
    "    major_ticks=1/30;minor_ticks=1/120   # moins de ticks\n",
    "    major_ticks=1/15;minor_ticks=1/60\n",
    "    major_ticks=1/2;minor_ticks=1/8\n",
    "else:\n",
    "    major_ticks=4;minor_ticks=1   # encore moins si int\n"
   ]
  },
  {
   "cell_type": "code",
   "execution_count": 2224,
   "metadata": {},
   "outputs": [
    {
     "data": {
      "text/plain": [
       "(4, 1)"
      ]
     },
     "execution_count": 2224,
     "metadata": {},
     "output_type": "execute_result"
    }
   ],
   "source": [
    "major_ticks=4;minor_ticks=1\n",
    "major_ticks,minor_ticks"
   ]
  },
  {
   "cell_type": "markdown",
   "metadata": {},
   "source": [
    "## Main graph"
   ]
  },
  {
   "cell_type": "code",
   "execution_count": 2225,
   "metadata": {},
   "outputs": [
    {
     "data": {
      "image/png": "[encoded data removed]",
      "text/plain": [
       "<Figure size 2500x1000 with 1 Axes>"
      ]
     },
     "metadata": {},
     "output_type": "display_data"
    }
   ],
   "source": [
    "\n",
    "from matplotlib.dates import (YEARLY, DateFormatter,rrulewrapper, RRuleLocator, drange)\n",
    "\n",
    "def show_graph():\n",
    "    fig, ax = plt.subplots()\n",
    "    # the size of A4 paper\n",
    "    fig.set_size_inches(25, 10)\n",
    "\n",
    "    #plt.rcParams['axes.autolimit_mode'] = 'round_numbers'\n",
    "    \n",
    "    #formatter = DateFormatter('%d/%m\\n%H:%M:%S')\n",
    "    formatter = DateFormatter('%d/%m\\n%H:%M')\n",
    "    ax.xaxis.set_major_formatter(formatter)\n",
    "\n",
    "    # ticks sur axe des x\n",
    "    ax.xaxis.set_major_locator(MultipleLocator(major_ticks))  # major ticks tous les 15 min\n",
    "    ax.xaxis.set_minor_locator(MultipleLocator(minor_ticks))  # minor ticks tous les 5 min\n",
    "    ax.tick_params(which='both', width=3)\n",
    "    ax.tick_params(which='major', length=15, color='r')\n",
    "    ax.tick_params(which='minor', length=8, color='b')\n",
    "\n",
    "    #plt.plot(conso_data['cumul(ms)']/3600000,conso_data['Wh'])\n",
    "    plt.plot(time,conso_data['Wh'])\n",
    "    plt.ylabel('Wh')\n",
    "    plt.xlabel('Time (heures)')\n",
    "    #format_date(10)\n",
    "    for label in ax.get_xticklabels():\n",
    "        label.set_rotation(40)\n",
    "        label.set_horizontalalignment('right')\n",
    "\n",
    "    #fig.autofmt_xdate()\n",
    "    \n",
    "    plt.grid()\n",
    "    plt.show()\n",
    "show_graph()"
   ]
  },
  {
   "cell_type": "code",
   "execution_count": 2226,
   "metadata": {},
   "outputs": [
    {
     "data": {
      "text/html": [
       "<div>\n",
       "<style scoped>\n",
       "    .dataframe tbody tr th:only-of-type {\n",
       "        vertical-align: middle;\n",
       "    }\n",
       "\n",
       "    .dataframe tbody tr th {\n",
       "        vertical-align: top;\n",
       "    }\n",
       "\n",
       "    .dataframe thead th {\n",
       "        text-align: right;\n",
       "    }\n",
       "</style>\n",
       "<table border=\"1\" class=\"dataframe\">\n",
       "  <thead>\n",
       "    <tr style=\"text-align: right;\">\n",
       "      <th></th>\n",
       "      <th>Interval</th>\n",
       "      <th>kWh</th>\n",
       "      <th>sec</th>\n",
       "      <th>Wh</th>\n",
       "      <th>cumul(ms)</th>\n",
       "      <th>dates</th>\n",
       "      <th>days</th>\n",
       "    </tr>\n",
       "  </thead>\n",
       "  <tbody>\n",
       "    <tr>\n",
       "      <th>167654</th>\n",
       "      <td>26965</td>\n",
       "      <td>0.13</td>\n",
       "      <td>26.965</td>\n",
       "      <td>133.506397</td>\n",
       "      <td>3965868263</td>\n",
       "      <td>2024-04-21 23:25:04.348310</td>\n",
       "      <td>21/04/2024</td>\n",
       "    </tr>\n",
       "  </tbody>\n",
       "</table>\n",
       "</div>"
      ],
      "text/plain": [
       "        Interval   kWh     sec          Wh   cumul(ms)  \\\n",
       "167654     26965  0.13  26.965  133.506397  3965868263   \n",
       "\n",
       "                            dates        days  \n",
       "167654 2024-04-21 23:25:04.348310  21/04/2024  "
      ]
     },
     "execution_count": 2226,
     "metadata": {},
     "output_type": "execute_result"
    }
   ],
   "source": [
    "cumul_conso = len(conso_data)\n",
    "conso_data.tail(1)"
   ]
  },
  {
   "cell_type": "code",
   "execution_count": 2227,
   "metadata": {},
   "outputs": [
    {
     "data": {
      "text/plain": [
       "3965868263000"
      ]
     },
     "execution_count": 2227,
     "metadata": {},
     "output_type": "execute_result"
    }
   ],
   "source": [
    "cumtime= int(conso_data._get_value(l,'cumul(ms)')*1000)\n",
    "cumtime"
   ]
  },
  {
   "cell_type": "markdown",
   "metadata": {},
   "source": [
    "# Slice of last 1 kWh"
   ]
  },
  {
   "cell_type": "code",
   "execution_count": 2228,
   "metadata": {},
   "outputs": [
    {
     "data": {
      "text/plain": [
       "167655"
      ]
     },
     "execution_count": 2228,
     "metadata": {},
     "output_type": "execute_result"
    }
   ],
   "source": [
    "l = len(conso_data)  # total watt consommés\n",
    "l"
   ]
  },
  {
   "cell_type": "code",
   "execution_count": 2229,
   "metadata": {},
   "outputs": [
    {
     "data": {
      "text/plain": [
       "(167655, 1000)"
      ]
     },
     "execution_count": 2229,
     "metadata": {},
     "output_type": "execute_result"
    }
   ],
   "source": [
    "k = 1\n",
    "taille = k*1000  # fenetre k*1000 watt consommés\n",
    "l,taille"
   ]
  },
  {
   "cell_type": "code",
   "execution_count": 2230,
   "metadata": {},
   "outputs": [
    {
     "data": {
      "text/plain": [
       "1000"
      ]
     },
     "execution_count": 2230,
     "metadata": {},
     "output_type": "execute_result"
    }
   ],
   "source": [
    "if l<1000:\n",
    "    part = 1\n",
    "else: part = 1/2\n",
    "#taille = int(part*l)\n",
    "taille"
   ]
  },
  {
   "cell_type": "code",
   "execution_count": 2231,
   "metadata": {},
   "outputs": [
    {
     "data": {
      "text/plain": [
       "(1000,\n",
       "         Interval   kWh     sec          Wh   cumul(ms)  \\\n",
       " 166655     18116  0.20  18.116  198.719364  3941450434   \n",
       " 166656     18215  0.20  18.215  197.639308  3941468649   \n",
       " 166657     18091  0.20  18.091  198.993975  3941486740   \n",
       " 166658     18209  0.20  18.209  197.704432  3941504949   \n",
       " 166659     21212  0.17  21.212  169.715256  3941526161   \n",
       " ...          ...   ...     ...         ...         ...   \n",
       " 167650     26867  0.13  26.867  133.993375  3965761958   \n",
       " 167651     26077  0.14  26.077  138.052690  3965788035   \n",
       " 167652     26285  0.14  26.285  136.960243  3965814320   \n",
       " 167653     26978  0.13  26.978  133.442064  3965841298   \n",
       " 167654     26965  0.13  26.965  133.506397  3965868263   \n",
       " \n",
       "                             dates        days  \n",
       " 166655 2024-04-21 16:38:06.519310  21/04/2024  \n",
       " 166656 2024-04-21 16:38:24.734310  21/04/2024  \n",
       " 166657 2024-04-21 16:38:42.825310  21/04/2024  \n",
       " 166658 2024-04-21 16:39:01.034310  21/04/2024  \n",
       " 166659 2024-04-21 16:39:22.246310  21/04/2024  \n",
       " ...                           ...         ...  \n",
       " 167650 2024-04-21 23:23:18.043310  21/04/2024  \n",
       " 167651 2024-04-21 23:23:44.120310  21/04/2024  \n",
       " 167652 2024-04-21 23:24:10.405310  21/04/2024  \n",
       " 167653 2024-04-21 23:24:37.383310  21/04/2024  \n",
       " 167654 2024-04-21 23:25:04.348310  21/04/2024  \n",
       " \n",
       " [1000 rows x 7 columns])"
      ]
     },
     "execution_count": 2231,
     "metadata": {},
     "output_type": "execute_result"
    }
   ],
   "source": [
    "data = conso_data.tail(taille)\n",
    "len(data),data"
   ]
  },
  {
   "cell_type": "code",
   "execution_count": 2232,
   "metadata": {},
   "outputs": [],
   "source": [
    "now = datetime.now()\n",
    "# conso.csv dynamique\n",
    "cumtime_start= int(conso_data._get_value(l-taille+1,'cumul(ms)')*1000) # conversion microseconds\n"
   ]
  },
  {
   "cell_type": "code",
   "execution_count": 2233,
   "metadata": {},
   "outputs": [],
   "source": [
    "cumtime_end= int(data._get_value(l-1,'cumul(ms)')*1000) # conversion microseconds\n"
   ]
  },
  {
   "cell_type": "code",
   "execution_count": 2234,
   "metadata": {},
   "outputs": [
    {
     "data": {
      "text/plain": [
       "(3965868263000, 3941468649000)"
      ]
     },
     "execution_count": 2234,
     "metadata": {},
     "output_type": "execute_result"
    }
   ],
   "source": [
    "cumtime_end,cumtime_start"
   ]
  },
  {
   "cell_type": "code",
   "execution_count": 2235,
   "metadata": {},
   "outputs": [
    {
     "data": {
      "text/plain": [
       "24399614000"
      ]
     },
     "execution_count": 2235,
     "metadata": {},
     "output_type": "execute_result"
    }
   ],
   "source": [
    "#last_interval = int(data._get_value(l,'Interval')*1000) # conversion microseconds\n",
    "delta_cumtime = cumtime_end - cumtime_start #+ last_interval\n",
    "delta_cumtime"
   ]
  },
  {
   "cell_type": "code",
   "execution_count": 2236,
   "metadata": {},
   "outputs": [
    {
     "data": {
      "text/plain": [
       "(datetime.datetime(2024, 4, 21, 23, 25, 13, 199786),\n",
       " datetime.datetime(2024, 4, 21, 16, 38, 33, 585786),\n",
       " '21/04/2024 23:25:04')"
      ]
     },
     "execution_count": 2236,
     "metadata": {},
     "output_type": "execute_result"
    }
   ],
   "source": [
    "\n",
    "base = now - timedelta(microseconds=delta_cumtime)\n",
    "now,base, data['dates'][l-1].strftime('%d/%m/%Y %H:%M:%S')\n"
   ]
  },
  {
   "cell_type": "code",
   "execution_count": 2237,
   "metadata": {},
   "outputs": [
    {
     "data": {
      "text/html": [
       "<div>\n",
       "<style scoped>\n",
       "    .dataframe tbody tr th:only-of-type {\n",
       "        vertical-align: middle;\n",
       "    }\n",
       "\n",
       "    .dataframe tbody tr th {\n",
       "        vertical-align: top;\n",
       "    }\n",
       "\n",
       "    .dataframe thead th {\n",
       "        text-align: right;\n",
       "    }\n",
       "</style>\n",
       "<table border=\"1\" class=\"dataframe\">\n",
       "  <thead>\n",
       "    <tr style=\"text-align: right;\">\n",
       "      <th></th>\n",
       "      <th>Interval</th>\n",
       "      <th>kWh</th>\n",
       "      <th>sec</th>\n",
       "      <th>Wh</th>\n",
       "      <th>cumul(ms)</th>\n",
       "      <th>dates</th>\n",
       "      <th>days</th>\n",
       "    </tr>\n",
       "  </thead>\n",
       "  <tbody>\n",
       "    <tr>\n",
       "      <th>0</th>\n",
       "      <td>26289</td>\n",
       "      <td>0.14</td>\n",
       "      <td>26.289</td>\n",
       "      <td>136.939404</td>\n",
       "      <td>26289</td>\n",
       "      <td>2024-03-07 01:47:42.374310</td>\n",
       "      <td>07/03/2024</td>\n",
       "    </tr>\n",
       "    <tr>\n",
       "      <th>1</th>\n",
       "      <td>26243</td>\n",
       "      <td>0.14</td>\n",
       "      <td>26.243</td>\n",
       "      <td>137.179438</td>\n",
       "      <td>52532</td>\n",
       "      <td>2024-03-07 01:48:08.617310</td>\n",
       "      <td>07/03/2024</td>\n",
       "    </tr>\n",
       "    <tr>\n",
       "      <th>2</th>\n",
       "      <td>25885</td>\n",
       "      <td>0.14</td>\n",
       "      <td>25.885</td>\n",
       "      <td>139.076685</td>\n",
       "      <td>78417</td>\n",
       "      <td>2024-03-07 01:48:34.502310</td>\n",
       "      <td>07/03/2024</td>\n",
       "    </tr>\n",
       "    <tr>\n",
       "      <th>3</th>\n",
       "      <td>25754</td>\n",
       "      <td>0.14</td>\n",
       "      <td>25.754</td>\n",
       "      <td>139.784111</td>\n",
       "      <td>104171</td>\n",
       "      <td>2024-03-07 01:49:00.256310</td>\n",
       "      <td>07/03/2024</td>\n",
       "    </tr>\n",
       "    <tr>\n",
       "      <th>4</th>\n",
       "      <td>25774</td>\n",
       "      <td>0.14</td>\n",
       "      <td>25.774</td>\n",
       "      <td>139.675642</td>\n",
       "      <td>129945</td>\n",
       "      <td>2024-03-07 01:49:26.030310</td>\n",
       "      <td>07/03/2024</td>\n",
       "    </tr>\n",
       "    <tr>\n",
       "      <th>...</th>\n",
       "      <td>...</td>\n",
       "      <td>...</td>\n",
       "      <td>...</td>\n",
       "      <td>...</td>\n",
       "      <td>...</td>\n",
       "      <td>...</td>\n",
       "      <td>...</td>\n",
       "    </tr>\n",
       "    <tr>\n",
       "      <th>167650</th>\n",
       "      <td>26867</td>\n",
       "      <td>0.13</td>\n",
       "      <td>26.867</td>\n",
       "      <td>133.993375</td>\n",
       "      <td>3965761958</td>\n",
       "      <td>2024-04-21 23:23:18.043310</td>\n",
       "      <td>21/04/2024</td>\n",
       "    </tr>\n",
       "    <tr>\n",
       "      <th>167651</th>\n",
       "      <td>26077</td>\n",
       "      <td>0.14</td>\n",
       "      <td>26.077</td>\n",
       "      <td>138.052690</td>\n",
       "      <td>3965788035</td>\n",
       "      <td>2024-04-21 23:23:44.120310</td>\n",
       "      <td>21/04/2024</td>\n",
       "    </tr>\n",
       "    <tr>\n",
       "      <th>167652</th>\n",
       "      <td>26285</td>\n",
       "      <td>0.14</td>\n",
       "      <td>26.285</td>\n",
       "      <td>136.960243</td>\n",
       "      <td>3965814320</td>\n",
       "      <td>2024-04-21 23:24:10.405310</td>\n",
       "      <td>21/04/2024</td>\n",
       "    </tr>\n",
       "    <tr>\n",
       "      <th>167653</th>\n",
       "      <td>26978</td>\n",
       "      <td>0.13</td>\n",
       "      <td>26.978</td>\n",
       "      <td>133.442064</td>\n",
       "      <td>3965841298</td>\n",
       "      <td>2024-04-21 23:24:37.383310</td>\n",
       "      <td>21/04/2024</td>\n",
       "    </tr>\n",
       "    <tr>\n",
       "      <th>167654</th>\n",
       "      <td>26965</td>\n",
       "      <td>0.13</td>\n",
       "      <td>26.965</td>\n",
       "      <td>133.506397</td>\n",
       "      <td>3965868263</td>\n",
       "      <td>2024-04-21 23:25:04.348310</td>\n",
       "      <td>21/04/2024</td>\n",
       "    </tr>\n",
       "  </tbody>\n",
       "</table>\n",
       "<p>167655 rows × 7 columns</p>\n",
       "</div>"
      ],
      "text/plain": [
       "        Interval   kWh     sec          Wh   cumul(ms)  \\\n",
       "0          26289  0.14  26.289  136.939404       26289   \n",
       "1          26243  0.14  26.243  137.179438       52532   \n",
       "2          25885  0.14  25.885  139.076685       78417   \n",
       "3          25754  0.14  25.754  139.784111      104171   \n",
       "4          25774  0.14  25.774  139.675642      129945   \n",
       "...          ...   ...     ...         ...         ...   \n",
       "167650     26867  0.13  26.867  133.993375  3965761958   \n",
       "167651     26077  0.14  26.077  138.052690  3965788035   \n",
       "167652     26285  0.14  26.285  136.960243  3965814320   \n",
       "167653     26978  0.13  26.978  133.442064  3965841298   \n",
       "167654     26965  0.13  26.965  133.506397  3965868263   \n",
       "\n",
       "                            dates        days  \n",
       "0      2024-03-07 01:47:42.374310  07/03/2024  \n",
       "1      2024-03-07 01:48:08.617310  07/03/2024  \n",
       "2      2024-03-07 01:48:34.502310  07/03/2024  \n",
       "3      2024-03-07 01:49:00.256310  07/03/2024  \n",
       "4      2024-03-07 01:49:26.030310  07/03/2024  \n",
       "...                           ...         ...  \n",
       "167650 2024-04-21 23:23:18.043310  21/04/2024  \n",
       "167651 2024-04-21 23:23:44.120310  21/04/2024  \n",
       "167652 2024-04-21 23:24:10.405310  21/04/2024  \n",
       "167653 2024-04-21 23:24:37.383310  21/04/2024  \n",
       "167654 2024-04-21 23:25:04.348310  21/04/2024  \n",
       "\n",
       "[167655 rows x 7 columns]"
      ]
     },
     "execution_count": 2237,
     "metadata": {},
     "output_type": "execute_result"
    }
   ],
   "source": [
    "conso_data"
   ]
  },
  {
   "cell_type": "code",
   "execution_count": 2238,
   "metadata": {},
   "outputs": [
    {
     "data": {
      "text/plain": [
       "('21/04/2024 16:38:24', '21/04/2024 23:25:04')"
      ]
     },
     "execution_count": 2238,
     "metadata": {},
     "output_type": "execute_result"
    }
   ],
   "source": [
    "end = conso_data['dates'][l-1].strftime('%d/%m/%Y %H:%M:%S')\n",
    "start = conso_data['dates'][l-taille+1].strftime('%d/%m/%Y %H:%M:%S')\n",
    "start,end"
   ]
  },
  {
   "cell_type": "code",
   "execution_count": 2239,
   "metadata": {},
   "outputs": [
    {
     "data": {
      "text/plain": [
       "('2024-04-21 16:38:06.519310', '2024-04-21 23:25:04.348310')"
      ]
     },
     "execution_count": 2239,
     "metadata": {},
     "output_type": "execute_result"
    }
   ],
   "source": [
    "data.head(1)['dates'].to_string(index=False),data.tail(1)['dates'].to_string(index=False)"
   ]
  },
  {
   "cell_type": "code",
   "execution_count": 2240,
   "metadata": {},
   "outputs": [
    {
     "data": {
      "text/plain": [
       "1"
      ]
     },
     "execution_count": 2240,
     "metadata": {},
     "output_type": "execute_result"
    }
   ],
   "source": [
    "k"
   ]
  },
  {
   "cell_type": "code",
   "execution_count": 2241,
   "metadata": {},
   "outputs": [
    {
     "data": {
      "text/plain": [
       "166655    18116\n",
       "166656    18215\n",
       "166657    18091\n",
       "166658    18209\n",
       "166659    21212\n",
       "          ...  \n",
       "167650    26867\n",
       "167651    26077\n",
       "167652    26285\n",
       "167653    26978\n",
       "167654    26965\n",
       "Name: Interval, Length: 1000, dtype: int64"
      ]
     },
     "execution_count": 2241,
     "metadata": {},
     "output_type": "execute_result"
    }
   ],
   "source": [
    "data.Interval.tail(1000)"
   ]
  },
  {
   "cell_type": "code",
   "execution_count": 2242,
   "metadata": {},
   "outputs": [
    {
     "data": {
      "text/plain": [
       "(6.787762500000001, 3.5357748595358185, 6, 47, 15)"
      ]
     },
     "execution_count": 2242,
     "metadata": {},
     "output_type": "execute_result"
    }
   ],
   "source": [
    "conversion_us_heure = 1/1000/60/60 \n",
    "temps_1kWh = sum(data.Interval.tail(1000))*conversion_us_heure  #somme 1000 interval = temps conso 1 kWh\n",
    "conso_jour = 24/temps_1kWh\n",
    "heure = int(temps_1kWh)\n",
    "mn = (temps_1kWh - heure)*60\n",
    "sec = (mn - int(mn))*60\n",
    "temps_1kWh, conso_jour,heure,int(mn),int(sec)"
   ]
  },
  {
   "cell_type": "code",
   "execution_count": 2243,
   "metadata": {},
   "outputs": [
    {
     "name": "stderr",
     "output_type": "stream",
     "text": [
      "C:\\Users\\jean\\AppData\\Local\\Temp\\ipykernel_26500\\3458501435.py:1: SettingWithCopyWarning: \n",
      "A value is trying to be set on a copy of a slice from a DataFrame.\n",
      "Try using .loc[row_indexer,col_indexer] = value instead\n",
      "\n",
      "See the caveats in the documentation: https://pandas.pydata.org/pandas-docs/stable/user_guide/indexing.html#returning-a-view-versus-a-copy\n",
      "  data['heure']=conso_data['dates']#.strftime('%d/%m/%Y %H:%M:%S')\n"
     ]
    }
   ],
   "source": [
    "data['heure']=conso_data['dates']#.strftime('%d/%m/%Y %H:%M:%S')"
   ]
  },
  {
   "cell_type": "code",
   "execution_count": 2244,
   "metadata": {},
   "outputs": [
    {
     "data": {
      "text/html": [
       "<div>\n",
       "<style scoped>\n",
       "    .dataframe tbody tr th:only-of-type {\n",
       "        vertical-align: middle;\n",
       "    }\n",
       "\n",
       "    .dataframe tbody tr th {\n",
       "        vertical-align: top;\n",
       "    }\n",
       "\n",
       "    .dataframe thead th {\n",
       "        text-align: right;\n",
       "    }\n",
       "</style>\n",
       "<table border=\"1\" class=\"dataframe\">\n",
       "  <thead>\n",
       "    <tr style=\"text-align: right;\">\n",
       "      <th></th>\n",
       "      <th>Interval</th>\n",
       "      <th>kWh</th>\n",
       "      <th>sec</th>\n",
       "      <th>Wh</th>\n",
       "      <th>cumul(ms)</th>\n",
       "      <th>dates</th>\n",
       "      <th>days</th>\n",
       "      <th>heure</th>\n",
       "    </tr>\n",
       "  </thead>\n",
       "  <tbody>\n",
       "    <tr>\n",
       "      <th>166655</th>\n",
       "      <td>18116</td>\n",
       "      <td>0.20</td>\n",
       "      <td>18.116</td>\n",
       "      <td>198.719364</td>\n",
       "      <td>3941450434</td>\n",
       "      <td>2024-04-21 16:38:06.519310</td>\n",
       "      <td>21/04/2024</td>\n",
       "      <td>2024-04-21 16:38:06.519310</td>\n",
       "    </tr>\n",
       "    <tr>\n",
       "      <th>166656</th>\n",
       "      <td>18215</td>\n",
       "      <td>0.20</td>\n",
       "      <td>18.215</td>\n",
       "      <td>197.639308</td>\n",
       "      <td>3941468649</td>\n",
       "      <td>2024-04-21 16:38:24.734310</td>\n",
       "      <td>21/04/2024</td>\n",
       "      <td>2024-04-21 16:38:24.734310</td>\n",
       "    </tr>\n",
       "    <tr>\n",
       "      <th>166657</th>\n",
       "      <td>18091</td>\n",
       "      <td>0.20</td>\n",
       "      <td>18.091</td>\n",
       "      <td>198.993975</td>\n",
       "      <td>3941486740</td>\n",
       "      <td>2024-04-21 16:38:42.825310</td>\n",
       "      <td>21/04/2024</td>\n",
       "      <td>2024-04-21 16:38:42.825310</td>\n",
       "    </tr>\n",
       "    <tr>\n",
       "      <th>166658</th>\n",
       "      <td>18209</td>\n",
       "      <td>0.20</td>\n",
       "      <td>18.209</td>\n",
       "      <td>197.704432</td>\n",
       "      <td>3941504949</td>\n",
       "      <td>2024-04-21 16:39:01.034310</td>\n",
       "      <td>21/04/2024</td>\n",
       "      <td>2024-04-21 16:39:01.034310</td>\n",
       "    </tr>\n",
       "    <tr>\n",
       "      <th>166659</th>\n",
       "      <td>21212</td>\n",
       "      <td>0.17</td>\n",
       "      <td>21.212</td>\n",
       "      <td>169.715256</td>\n",
       "      <td>3941526161</td>\n",
       "      <td>2024-04-21 16:39:22.246310</td>\n",
       "      <td>21/04/2024</td>\n",
       "      <td>2024-04-21 16:39:22.246310</td>\n",
       "    </tr>\n",
       "    <tr>\n",
       "      <th>...</th>\n",
       "      <td>...</td>\n",
       "      <td>...</td>\n",
       "      <td>...</td>\n",
       "      <td>...</td>\n",
       "      <td>...</td>\n",
       "      <td>...</td>\n",
       "      <td>...</td>\n",
       "      <td>...</td>\n",
       "    </tr>\n",
       "    <tr>\n",
       "      <th>167650</th>\n",
       "      <td>26867</td>\n",
       "      <td>0.13</td>\n",
       "      <td>26.867</td>\n",
       "      <td>133.993375</td>\n",
       "      <td>3965761958</td>\n",
       "      <td>2024-04-21 23:23:18.043310</td>\n",
       "      <td>21/04/2024</td>\n",
       "      <td>2024-04-21 23:23:18.043310</td>\n",
       "    </tr>\n",
       "    <tr>\n",
       "      <th>167651</th>\n",
       "      <td>26077</td>\n",
       "      <td>0.14</td>\n",
       "      <td>26.077</td>\n",
       "      <td>138.052690</td>\n",
       "      <td>3965788035</td>\n",
       "      <td>2024-04-21 23:23:44.120310</td>\n",
       "      <td>21/04/2024</td>\n",
       "      <td>2024-04-21 23:23:44.120310</td>\n",
       "    </tr>\n",
       "    <tr>\n",
       "      <th>167652</th>\n",
       "      <td>26285</td>\n",
       "      <td>0.14</td>\n",
       "      <td>26.285</td>\n",
       "      <td>136.960243</td>\n",
       "      <td>3965814320</td>\n",
       "      <td>2024-04-21 23:24:10.405310</td>\n",
       "      <td>21/04/2024</td>\n",
       "      <td>2024-04-21 23:24:10.405310</td>\n",
       "    </tr>\n",
       "    <tr>\n",
       "      <th>167653</th>\n",
       "      <td>26978</td>\n",
       "      <td>0.13</td>\n",
       "      <td>26.978</td>\n",
       "      <td>133.442064</td>\n",
       "      <td>3965841298</td>\n",
       "      <td>2024-04-21 23:24:37.383310</td>\n",
       "      <td>21/04/2024</td>\n",
       "      <td>2024-04-21 23:24:37.383310</td>\n",
       "    </tr>\n",
       "    <tr>\n",
       "      <th>167654</th>\n",
       "      <td>26965</td>\n",
       "      <td>0.13</td>\n",
       "      <td>26.965</td>\n",
       "      <td>133.506397</td>\n",
       "      <td>3965868263</td>\n",
       "      <td>2024-04-21 23:25:04.348310</td>\n",
       "      <td>21/04/2024</td>\n",
       "      <td>2024-04-21 23:25:04.348310</td>\n",
       "    </tr>\n",
       "  </tbody>\n",
       "</table>\n",
       "<p>1000 rows × 8 columns</p>\n",
       "</div>"
      ],
      "text/plain": [
       "        Interval   kWh     sec          Wh   cumul(ms)  \\\n",
       "166655     18116  0.20  18.116  198.719364  3941450434   \n",
       "166656     18215  0.20  18.215  197.639308  3941468649   \n",
       "166657     18091  0.20  18.091  198.993975  3941486740   \n",
       "166658     18209  0.20  18.209  197.704432  3941504949   \n",
       "166659     21212  0.17  21.212  169.715256  3941526161   \n",
       "...          ...   ...     ...         ...         ...   \n",
       "167650     26867  0.13  26.867  133.993375  3965761958   \n",
       "167651     26077  0.14  26.077  138.052690  3965788035   \n",
       "167652     26285  0.14  26.285  136.960243  3965814320   \n",
       "167653     26978  0.13  26.978  133.442064  3965841298   \n",
       "167654     26965  0.13  26.965  133.506397  3965868263   \n",
       "\n",
       "                            dates        days                      heure  \n",
       "166655 2024-04-21 16:38:06.519310  21/04/2024 2024-04-21 16:38:06.519310  \n",
       "166656 2024-04-21 16:38:24.734310  21/04/2024 2024-04-21 16:38:24.734310  \n",
       "166657 2024-04-21 16:38:42.825310  21/04/2024 2024-04-21 16:38:42.825310  \n",
       "166658 2024-04-21 16:39:01.034310  21/04/2024 2024-04-21 16:39:01.034310  \n",
       "166659 2024-04-21 16:39:22.246310  21/04/2024 2024-04-21 16:39:22.246310  \n",
       "...                           ...         ...                        ...  \n",
       "167650 2024-04-21 23:23:18.043310  21/04/2024 2024-04-21 23:23:18.043310  \n",
       "167651 2024-04-21 23:23:44.120310  21/04/2024 2024-04-21 23:23:44.120310  \n",
       "167652 2024-04-21 23:24:10.405310  21/04/2024 2024-04-21 23:24:10.405310  \n",
       "167653 2024-04-21 23:24:37.383310  21/04/2024 2024-04-21 23:24:37.383310  \n",
       "167654 2024-04-21 23:25:04.348310  21/04/2024 2024-04-21 23:25:04.348310  \n",
       "\n",
       "[1000 rows x 8 columns]"
      ]
     },
     "execution_count": 2244,
     "metadata": {},
     "output_type": "execute_result"
    }
   ],
   "source": [
    "data"
   ]
  },
  {
   "cell_type": "code",
   "execution_count": 2245,
   "metadata": {},
   "outputs": [
    {
     "data": {
      "text/plain": [
       "<Axes: >"
      ]
     },
     "execution_count": 2245,
     "metadata": {},
     "output_type": "execute_result"
    },
    {
     "data": {
      "image/png": "[encoded data removed]",
      "text/plain": [
       "<Figure size 640x480 with 1 Axes>"
      ]
     },
     "metadata": {},
     "output_type": "display_data"
    }
   ],
   "source": [
    "#data.tail(600)['Wh'].plot()\n",
    "data['Wh'].plot()"
   ]
  },
  {
   "cell_type": "code",
   "execution_count": 2246,
   "metadata": {},
   "outputs": [
    {
     "data": {
      "text/plain": [
       "166655    198.719364\n",
       "166656    197.639308\n",
       "166657    198.993975\n",
       "166658    197.704432\n",
       "166659    169.715256\n",
       "             ...    \n",
       "167650    133.993375\n",
       "167651    138.052690\n",
       "167652    136.960243\n",
       "167653    133.442064\n",
       "167654    133.506397\n",
       "Name: Wh, Length: 1000, dtype: float64"
      ]
     },
     "execution_count": 2246,
     "metadata": {},
     "output_type": "execute_result"
    }
   ],
   "source": [
    "data['Wh']"
   ]
  },
  {
   "cell_type": "markdown",
   "metadata": {},
   "source": [
    "# k kW window graph"
   ]
  },
  {
   "cell_type": "code",
   "execution_count": 2247,
   "metadata": {},
   "outputs": [
    {
     "data": {
      "image/png": "[encoded data removed]",
      "text/plain": [
       "<Figure size 1500x800 with 1 Axes>"
      ]
     },
     "metadata": {},
     "output_type": "display_data"
    }
   ],
   "source": [
    "fig, ax = plt.subplots()\n",
    "# the size of A4 paper\n",
    "fig.set_size_inches(15, 8)\n",
    "\n",
    "formatter = DateFormatter('%d/%m\\n%H:%M')\n",
    "ax.xaxis.set_major_formatter(formatter)\n",
    "\n",
    "# ticks sur axe des x\n",
    "major_ticks=1/30;minor_ticks=1/360\n",
    "ax.xaxis.set_major_locator(MultipleLocator(major_ticks))  # 1 major tick tous les 48 min\n",
    "ax.xaxis.set_minor_locator(MultipleLocator(minor_ticks))  # 1 minor ticks tous les 4 min\n",
    "ax.tick_params(which='both', width=3)\n",
    "ax.tick_params(which='major', length=15, color='r')\n",
    "ax.tick_params(which='minor', length=8, color='b')\n",
    "\n",
    "plt.title(f'Consommation {k} kW (Temps: {heure} heures {int(mn)} minutes {int(sec)} secondes)\\nDe {start} à {end}')\n",
    "plt.plot(data['dates'],data['Wh'])\n",
    "plt.ylabel('Wh')\n",
    "plt.xlabel('Time (heures)')\n",
    "plt.grid()\n"
   ]
  },
  {
   "cell_type": "code",
   "execution_count": 2248,
   "metadata": {},
   "outputs": [
    {
     "data": {
      "text/plain": [
       "<Axes: ylabel='Frequency'>"
      ]
     },
     "execution_count": 2248,
     "metadata": {},
     "output_type": "execute_result"
    },
    {
     "data": {
      "image/png": "[encoded data removed]",
      "text/plain": [
       "<Figure size 640x480 with 1 Axes>"
      ]
     },
     "metadata": {},
     "output_type": "display_data"
    }
   ],
   "source": [
    "data.kWh.plot.hist(bins=50,rwidth=0.8,grid=True)\n"
   ]
  },
  {
   "cell_type": "code",
   "execution_count": 2249,
   "metadata": {},
   "outputs": [
    {
     "data": {
      "text/html": [
       "<div>\n",
       "<style scoped>\n",
       "    .dataframe tbody tr th:only-of-type {\n",
       "        vertical-align: middle;\n",
       "    }\n",
       "\n",
       "    .dataframe tbody tr th {\n",
       "        vertical-align: top;\n",
       "    }\n",
       "\n",
       "    .dataframe thead th {\n",
       "        text-align: right;\n",
       "    }\n",
       "</style>\n",
       "<table border=\"1\" class=\"dataframe\">\n",
       "  <thead>\n",
       "    <tr style=\"text-align: right;\">\n",
       "      <th></th>\n",
       "      <th>Interval</th>\n",
       "      <th>kWh</th>\n",
       "      <th>sec</th>\n",
       "      <th>Wh</th>\n",
       "      <th>cumul(ms)</th>\n",
       "      <th>dates</th>\n",
       "      <th>days</th>\n",
       "    </tr>\n",
       "  </thead>\n",
       "  <tbody>\n",
       "    <tr>\n",
       "      <th>167650</th>\n",
       "      <td>26867</td>\n",
       "      <td>0.13</td>\n",
       "      <td>26.867</td>\n",
       "      <td>133.993375</td>\n",
       "      <td>3965761958</td>\n",
       "      <td>2024-04-21 23:23:18.043310</td>\n",
       "      <td>21/04/2024</td>\n",
       "    </tr>\n",
       "    <tr>\n",
       "      <th>167651</th>\n",
       "      <td>26077</td>\n",
       "      <td>0.14</td>\n",
       "      <td>26.077</td>\n",
       "      <td>138.052690</td>\n",
       "      <td>3965788035</td>\n",
       "      <td>2024-04-21 23:23:44.120310</td>\n",
       "      <td>21/04/2024</td>\n",
       "    </tr>\n",
       "    <tr>\n",
       "      <th>167652</th>\n",
       "      <td>26285</td>\n",
       "      <td>0.14</td>\n",
       "      <td>26.285</td>\n",
       "      <td>136.960243</td>\n",
       "      <td>3965814320</td>\n",
       "      <td>2024-04-21 23:24:10.405310</td>\n",
       "      <td>21/04/2024</td>\n",
       "    </tr>\n",
       "    <tr>\n",
       "      <th>167653</th>\n",
       "      <td>26978</td>\n",
       "      <td>0.13</td>\n",
       "      <td>26.978</td>\n",
       "      <td>133.442064</td>\n",
       "      <td>3965841298</td>\n",
       "      <td>2024-04-21 23:24:37.383310</td>\n",
       "      <td>21/04/2024</td>\n",
       "    </tr>\n",
       "    <tr>\n",
       "      <th>167654</th>\n",
       "      <td>26965</td>\n",
       "      <td>0.13</td>\n",
       "      <td>26.965</td>\n",
       "      <td>133.506397</td>\n",
       "      <td>3965868263</td>\n",
       "      <td>2024-04-21 23:25:04.348310</td>\n",
       "      <td>21/04/2024</td>\n",
       "    </tr>\n",
       "  </tbody>\n",
       "</table>\n",
       "</div>"
      ],
      "text/plain": [
       "        Interval   kWh     sec          Wh   cumul(ms)  \\\n",
       "167650     26867  0.13  26.867  133.993375  3965761958   \n",
       "167651     26077  0.14  26.077  138.052690  3965788035   \n",
       "167652     26285  0.14  26.285  136.960243  3965814320   \n",
       "167653     26978  0.13  26.978  133.442064  3965841298   \n",
       "167654     26965  0.13  26.965  133.506397  3965868263   \n",
       "\n",
       "                            dates        days  \n",
       "167650 2024-04-21 23:23:18.043310  21/04/2024  \n",
       "167651 2024-04-21 23:23:44.120310  21/04/2024  \n",
       "167652 2024-04-21 23:24:10.405310  21/04/2024  \n",
       "167653 2024-04-21 23:24:37.383310  21/04/2024  \n",
       "167654 2024-04-21 23:25:04.348310  21/04/2024  "
      ]
     },
     "execution_count": 2249,
     "metadata": {},
     "output_type": "execute_result"
    }
   ],
   "source": [
    "conso_data.tail()"
   ]
  },
  {
   "cell_type": "code",
   "execution_count": 2250,
   "metadata": {},
   "outputs": [
    {
     "data": {
      "image/png": "[encoded data removed]",
      "text/plain": [
       "<Figure size 640x480 with 1 Axes>"
      ]
     },
     "metadata": {},
     "output_type": "display_data"
    }
   ],
   "source": [
    "conso_data.tail(1000)['kWh'].plot()\n",
    "plt.grid()"
   ]
  },
  {
   "cell_type": "code",
   "execution_count": 2251,
   "metadata": {},
   "outputs": [
    {
     "data": {
      "text/plain": [
       "(3965868263000.0, 66097.80438333334)"
      ]
     },
     "execution_count": 2251,
     "metadata": {},
     "output_type": "execute_result"
    }
   ],
   "source": [
    "#plt.plot(conso_data['sec'])\n",
    "now = dt.datetime.now()\n",
    "last_cumul = np.array(conso_data['cumul(ms)'].tail(1))[0]*1000.0  # us\n",
    "last_cumul, last_cumul/60e6  # min"
   ]
  },
  {
   "cell_type": "code",
   "execution_count": 2252,
   "metadata": {},
   "outputs": [
    {
     "data": {
      "text/plain": [
       "(datetime.datetime(2024, 4, 21, 23, 25, 16, 662279),\n",
       " datetime.datetime(2024, 3, 7, 1, 47, 28, 399279))"
      ]
     },
     "execution_count": 2252,
     "metadata": {},
     "output_type": "execute_result"
    }
   ],
   "source": [
    "begin = now - dt.timedelta(microseconds=last_cumul)  #2023, 6, 24, 9, 14, (39, 942895) approximatif\n",
    "now, begin"
   ]
  },
  {
   "cell_type": "code",
   "execution_count": 2253,
   "metadata": {},
   "outputs": [
    {
     "data": {
      "text/plain": [
       "(167655, 3965869, 1101.6302777777778)"
      ]
     },
     "execution_count": 2253,
     "metadata": {},
     "output_type": "execute_result"
    }
   ],
   "source": [
    "x = mdates.drange(begin,now,dt.timedelta(microseconds=1000000))  # seconds\n",
    "len(conso_data),len(x),len(x)/3600"
   ]
  },
  {
   "cell_type": "code",
   "execution_count": 2254,
   "metadata": {},
   "outputs": [],
   "source": [
    "def format_date(space=3):\n",
    "    plt.gca().xaxis.set_major_formatter(mdates.DateFormatter('%d/%m\\n%H:%M'))\n",
    "    plt.gca().xaxis.set_major_locator(mdates.HourLocator(space))\n",
    "    plt.gca().xaxis.set_major_locator(mdates.HourLocator(interval=space))\n",
    "    plt.gcf().autofmt_xdate()\n",
    "    plt.grid()"
   ]
  },
  {
   "cell_type": "code",
   "execution_count": 2255,
   "metadata": {},
   "outputs": [
    {
     "data": {
      "text/plain": [
       "732"
      ]
     },
     "execution_count": 2255,
     "metadata": {},
     "output_type": "execute_result"
    }
   ],
   "source": [
    "import numpy as np\n",
    "import datetime as dt\n",
    "import matplotlib.pyplot as plt\n",
    "base = dt.datetime(2005, 2, 1)\n",
    "dates = [base + dt.timedelta(hours=(2 * i)) for i in range(732)]\n",
    "N = len(dates)\n",
    "N\n"
   ]
  },
  {
   "cell_type": "code",
   "execution_count": 2256,
   "metadata": {},
   "outputs": [
    {
     "data": {
      "text/plain": [
       "61.0"
      ]
     },
     "execution_count": 2256,
     "metadata": {},
     "output_type": "execute_result"
    }
   ],
   "source": [
    "732/12 # 60 jours"
   ]
  },
  {
   "cell_type": "code",
   "execution_count": 2257,
   "metadata": {},
   "outputs": [
    {
     "data": {
      "text/plain": [
       "(datetime.datetime(2005, 2, 1, 0, 0), datetime.datetime(2005, 4, 2, 22, 0))"
      ]
     },
     "execution_count": 2257,
     "metadata": {},
     "output_type": "execute_result"
    }
   ],
   "source": [
    "dates[0],dates[-1]"
   ]
  },
  {
   "cell_type": "code",
   "execution_count": 2258,
   "metadata": {},
   "outputs": [
    {
     "data": {
      "image/png": "[encoded data removed]",
      "text/plain": [
       "<Figure size 600x600 with 3 Axes>"
      ]
     },
     "metadata": {},
     "output_type": "display_data"
    }
   ],
   "source": [
    "np.random.seed(19680801)\n",
    "y = np.cumsum(np.random.randn(N))\n",
    "\n",
    "fig, axs = plt.subplots(3, 1, layout='constrained', figsize=(6, 6))\n",
    "lims = [(np.datetime64('2005-02'), np.datetime64('2005-04')),\n",
    "        (np.datetime64('2005-02-03'), np.datetime64('2005-02-15')),\n",
    "        (np.datetime64('2005-02-03 11:00'), np.datetime64('2005-02-04 13:20'))]\n",
    "for nn, ax in enumerate(axs):\n",
    "    ax.plot(dates, y)\n",
    "    ax.set_xlim(lims[nn])\n",
    "    # rotate_labels...\n",
    "    for label in ax.get_xticklabels():\n",
    "        label.set_rotation(40)\n",
    "        label.set_horizontalalignment('right')\n",
    "axs[0].set_title('Default Date Formatter')\n",
    "plt.show()"
   ]
  },
  {
   "cell_type": "code",
   "execution_count": 2259,
   "metadata": {},
   "outputs": [
    {
     "data": {
      "text/plain": [
       "datetime.datetime(2005, 4, 2, 22, 0)"
      ]
     },
     "execution_count": 2259,
     "metadata": {},
     "output_type": "execute_result"
    }
   ],
   "source": [
    "t = dt.datetime(2005, 4, 2, 22, 0)\n",
    "t"
   ]
  }
 ],
 "metadata": {
  "kernelspec": {
   "display_name": "Python 3",
   "language": "python",
   "name": "python3"
  },
  "language_info": {
   "codemirror_mode": {
    "name": "ipython",
    "version": 3
   },
   "file_extension": ".py",
   "mimetype": "text/x-python",
   "name": "python",
   "nbconvert_exporter": "python",
   "pygments_lexer": "ipython3",
   "version": "3.11.4"
  },
  "orig_nbformat": 4
 },
 "nbformat": 4,
 "nbformat_minor": 2
}
