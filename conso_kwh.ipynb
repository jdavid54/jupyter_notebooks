{
 "cells": [
  {
   "cell_type": "code",
   "execution_count": 5428,
   "metadata": {},
   "outputs": [],
   "source": [
    "import pandas as pd\n",
    "import numpy as np\n",
    "import matplotlib.pyplot as plt\n",
    "import matplotlib.dates as mdates\n",
    "import matplotlib.ticker as ticker\n",
    "from matplotlib.axis import Axis\n",
    "import datetime as dt\n",
    "\n",
    "#plt.style.use(['science', 'notebook'])\n",
    "#%matplotlib inline\n"
   ]
  },
  {
   "cell_type": "code",
   "execution_count": 5429,
   "metadata": {},
   "outputs": [],
   "source": [
    "data_file = \"conso.txt\""
   ]
  },
  {
   "cell_type": "code",
   "execution_count": 5430,
   "metadata": {},
   "outputs": [],
   "source": [
    "def read_text(filename):\n",
    "    f = open(filename, \"r\")\n",
    "    text = f.readlines()\n",
    "    f.close()\n",
    "    print(text)\n",
    "\n",
    "def save_text(filename):\n",
    "    f = open(filename, \"w\")\n",
    "    f.write(text)\n",
    "    f.close()\n",
    "\n",
    "\n",
    "#read_text(data_file)\n",
    "def get_data(filename):    \n",
    "    data = pd.read_csv(filename)\n",
    "    #data['time'] = pd.to_datetime(data['time'])  #.dt.tz_convert(None)\n",
    "    #data.info()\n",
    "    #print(data.tail(5))\n",
    "    return data\n"
   ]
  },
  {
   "cell_type": "code",
   "execution_count": 5431,
   "metadata": {},
   "outputs": [],
   "source": [
    "text='test'\n",
    "filename='text.txt'\n",
    "#save_text(filename)"
   ]
  },
  {
   "cell_type": "code",
   "execution_count": 5432,
   "metadata": {},
   "outputs": [
    {
     "name": "stdout",
     "output_type": "stream",
     "text": [
      "<class 'pandas.core.frame.DataFrame'>\n",
      "RangeIndex: 1013 entries, 0 to 1012\n",
      "Data columns (total 1 columns):\n",
      " #   Column  Non-Null Count  Dtype  \n",
      "---  ------  --------------  -----  \n",
      " 0   Conso   1013 non-null   float64\n",
      "dtypes: float64(1)\n",
      "memory usage: 8.0 KB\n"
     ]
    }
   ],
   "source": [
    "# read data with pandas\n",
    "data = get_data(data_file)\n",
    "data.info()\n"
   ]
  },
  {
   "cell_type": "code",
   "execution_count": 5433,
   "metadata": {},
   "outputs": [
    {
     "data": {
      "text/html": [
       "<div>\n",
       "<style scoped>\n",
       "    .dataframe tbody tr th:only-of-type {\n",
       "        vertical-align: middle;\n",
       "    }\n",
       "\n",
       "    .dataframe tbody tr th {\n",
       "        vertical-align: top;\n",
       "    }\n",
       "\n",
       "    .dataframe thead th {\n",
       "        text-align: right;\n",
       "    }\n",
       "</style>\n",
       "<table border=\"1\" class=\"dataframe\">\n",
       "  <thead>\n",
       "    <tr style=\"text-align: right;\">\n",
       "      <th></th>\n",
       "      <th>Conso</th>\n",
       "      <th>interval</th>\n",
       "    </tr>\n",
       "  </thead>\n",
       "  <tbody>\n",
       "    <tr>\n",
       "      <th>0</th>\n",
       "      <td>0.19</td>\n",
       "      <td>18947.368421</td>\n",
       "    </tr>\n",
       "    <tr>\n",
       "      <th>1</th>\n",
       "      <td>0.19</td>\n",
       "      <td>18947.368421</td>\n",
       "    </tr>\n",
       "    <tr>\n",
       "      <th>2</th>\n",
       "      <td>0.19</td>\n",
       "      <td>18947.368421</td>\n",
       "    </tr>\n",
       "    <tr>\n",
       "      <th>3</th>\n",
       "      <td>0.19</td>\n",
       "      <td>18947.368421</td>\n",
       "    </tr>\n",
       "    <tr>\n",
       "      <th>4</th>\n",
       "      <td>0.19</td>\n",
       "      <td>18947.368421</td>\n",
       "    </tr>\n",
       "    <tr>\n",
       "      <th>...</th>\n",
       "      <td>...</td>\n",
       "      <td>...</td>\n",
       "    </tr>\n",
       "    <tr>\n",
       "      <th>1008</th>\n",
       "      <td>0.16</td>\n",
       "      <td>22500.000000</td>\n",
       "    </tr>\n",
       "    <tr>\n",
       "      <th>1009</th>\n",
       "      <td>0.16</td>\n",
       "      <td>22500.000000</td>\n",
       "    </tr>\n",
       "    <tr>\n",
       "      <th>1010</th>\n",
       "      <td>0.17</td>\n",
       "      <td>21176.470588</td>\n",
       "    </tr>\n",
       "    <tr>\n",
       "      <th>1011</th>\n",
       "      <td>0.17</td>\n",
       "      <td>21176.470588</td>\n",
       "    </tr>\n",
       "    <tr>\n",
       "      <th>1012</th>\n",
       "      <td>0.16</td>\n",
       "      <td>22500.000000</td>\n",
       "    </tr>\n",
       "  </tbody>\n",
       "</table>\n",
       "<p>1013 rows × 2 columns</p>\n",
       "</div>"
      ],
      "text/plain": [
       "      Conso      interval\n",
       "0      0.19  18947.368421\n",
       "1      0.19  18947.368421\n",
       "2      0.19  18947.368421\n",
       "3      0.19  18947.368421\n",
       "4      0.19  18947.368421\n",
       "...     ...           ...\n",
       "1008   0.16  22500.000000\n",
       "1009   0.16  22500.000000\n",
       "1010   0.17  21176.470588\n",
       "1011   0.17  21176.470588\n",
       "1012   0.16  22500.000000\n",
       "\n",
       "[1013 rows x 2 columns]"
      ]
     },
     "execution_count": 5433,
     "metadata": {},
     "output_type": "execute_result"
    }
   ],
   "source": [
    "data['interval']=3600/data['Conso']\n",
    "data"
   ]
  },
  {
   "cell_type": "code",
   "execution_count": 5434,
   "metadata": {},
   "outputs": [
    {
     "data": {
      "text/plain": [
       "<matplotlib.legend.Legend at 0x1e8a8d11b50>"
      ]
     },
     "execution_count": 5434,
     "metadata": {},
     "output_type": "execute_result"
    },
    {
     "data": {
      "image/png": "[encoded data removed]",
      "text/plain": [
       "<Figure size 640x480 with 1 Axes>"
      ]
     },
     "metadata": {},
     "output_type": "display_data"
    }
   ],
   "source": [
    "\n",
    "plt.title('Consommation Linky')\n",
    "plt.plot(data, color='red',label='Conso')\n",
    "\n",
    "plt.grid()\n",
    "plt.legend()"
   ]
  },
  {
   "attachments": {},
   "cell_type": "markdown",
   "metadata": {},
   "source": [
    "### conso.csv sur WD6TB mis à jour avec PI4"
   ]
  },
  {
   "cell_type": "code",
   "execution_count": 5435,
   "metadata": {},
   "outputs": [],
   "source": [
    "def get_data2(filename):    \n",
    "    data = pd.read_csv(filename, names=[\"Interval\",\"kWh\"])\n",
    "    return data"
   ]
  },
  {
   "cell_type": "code",
   "execution_count": 5436,
   "metadata": {},
   "outputs": [
    {
     "name": "stdout",
     "output_type": "stream",
     "text": [
      "<class 'pandas.core.frame.DataFrame'>\n",
      "RangeIndex: 112516 entries, 0 to 112515\n",
      "Data columns (total 2 columns):\n",
      " #   Column    Non-Null Count   Dtype  \n",
      "---  ------    --------------   -----  \n",
      " 0   Interval  112516 non-null  int64  \n",
      " 1   kWh       112516 non-null  float64\n",
      "dtypes: float64(1), int64(1)\n",
      "memory usage: 1.7 MB\n"
     ]
    }
   ],
   "source": [
    "old = False\n",
    "\n",
    "if old:\n",
    "    #conso_file = r\"C:\\Users\\jean\\Documents\\conso.csv\"\n",
    "    conso_file = r\"Y:\\Documents\\conso_old.csv\"\n",
    "    conso_file = r\"Y:\\Documents\\conso - Copy (2).csv\"\n",
    "else:\n",
    "    conso_file = r\"Y:\\Documents\\conso.csv\"\n",
    "#old = False\n",
    "conso_data = get_data2(conso_file)\n",
    "conso_data.info()\n"
   ]
  },
  {
   "cell_type": "code",
   "execution_count": 5437,
   "metadata": {},
   "outputs": [
    {
     "data": {
      "text/html": [
       "<div>\n",
       "<style scoped>\n",
       "    .dataframe tbody tr th:only-of-type {\n",
       "        vertical-align: middle;\n",
       "    }\n",
       "\n",
       "    .dataframe tbody tr th {\n",
       "        vertical-align: top;\n",
       "    }\n",
       "\n",
       "    .dataframe thead th {\n",
       "        text-align: right;\n",
       "    }\n",
       "</style>\n",
       "<table border=\"1\" class=\"dataframe\">\n",
       "  <thead>\n",
       "    <tr style=\"text-align: right;\">\n",
       "      <th></th>\n",
       "      <th>Interval</th>\n",
       "      <th>kWh</th>\n",
       "    </tr>\n",
       "  </thead>\n",
       "  <tbody>\n",
       "    <tr>\n",
       "      <th>0</th>\n",
       "      <td>26289</td>\n",
       "      <td>0.14</td>\n",
       "    </tr>\n",
       "    <tr>\n",
       "      <th>1</th>\n",
       "      <td>26243</td>\n",
       "      <td>0.14</td>\n",
       "    </tr>\n",
       "    <tr>\n",
       "      <th>2</th>\n",
       "      <td>25885</td>\n",
       "      <td>0.14</td>\n",
       "    </tr>\n",
       "    <tr>\n",
       "      <th>3</th>\n",
       "      <td>25754</td>\n",
       "      <td>0.14</td>\n",
       "    </tr>\n",
       "    <tr>\n",
       "      <th>4</th>\n",
       "      <td>25774</td>\n",
       "      <td>0.14</td>\n",
       "    </tr>\n",
       "    <tr>\n",
       "      <th>...</th>\n",
       "      <td>...</td>\n",
       "      <td>...</td>\n",
       "    </tr>\n",
       "    <tr>\n",
       "      <th>112511</th>\n",
       "      <td>23765</td>\n",
       "      <td>0.15</td>\n",
       "    </tr>\n",
       "    <tr>\n",
       "      <th>112512</th>\n",
       "      <td>23934</td>\n",
       "      <td>0.15</td>\n",
       "    </tr>\n",
       "    <tr>\n",
       "      <th>112513</th>\n",
       "      <td>23486</td>\n",
       "      <td>0.15</td>\n",
       "    </tr>\n",
       "    <tr>\n",
       "      <th>112514</th>\n",
       "      <td>24169</td>\n",
       "      <td>0.15</td>\n",
       "    </tr>\n",
       "    <tr>\n",
       "      <th>112515</th>\n",
       "      <td>24407</td>\n",
       "      <td>0.15</td>\n",
       "    </tr>\n",
       "  </tbody>\n",
       "</table>\n",
       "<p>112516 rows × 2 columns</p>\n",
       "</div>"
      ],
      "text/plain": [
       "        Interval   kWh\n",
       "0          26289  0.14\n",
       "1          26243  0.14\n",
       "2          25885  0.14\n",
       "3          25754  0.14\n",
       "4          25774  0.14\n",
       "...          ...   ...\n",
       "112511     23765  0.15\n",
       "112512     23934  0.15\n",
       "112513     23486  0.15\n",
       "112514     24169  0.15\n",
       "112515     24407  0.15\n",
       "\n",
       "[112516 rows x 2 columns]"
      ]
     },
     "execution_count": 5437,
     "metadata": {},
     "output_type": "execute_result"
    }
   ],
   "source": [
    "conso_data = conso_data.dropna()\n",
    "conso_data"
   ]
  },
  {
   "cell_type": "code",
   "execution_count": 5438,
   "metadata": {},
   "outputs": [
    {
     "data": {
      "text/html": [
       "<div>\n",
       "<style scoped>\n",
       "    .dataframe tbody tr th:only-of-type {\n",
       "        vertical-align: middle;\n",
       "    }\n",
       "\n",
       "    .dataframe tbody tr th {\n",
       "        vertical-align: top;\n",
       "    }\n",
       "\n",
       "    .dataframe thead th {\n",
       "        text-align: right;\n",
       "    }\n",
       "</style>\n",
       "<table border=\"1\" class=\"dataframe\">\n",
       "  <thead>\n",
       "    <tr style=\"text-align: right;\">\n",
       "      <th></th>\n",
       "      <th>Interval</th>\n",
       "      <th>kWh</th>\n",
       "      <th>sec</th>\n",
       "      <th>Wh</th>\n",
       "      <th>cumul(ms)</th>\n",
       "    </tr>\n",
       "  </thead>\n",
       "  <tbody>\n",
       "    <tr>\n",
       "      <th>0</th>\n",
       "      <td>26289</td>\n",
       "      <td>0.14</td>\n",
       "      <td>26.289</td>\n",
       "      <td>136.939404</td>\n",
       "      <td>26289</td>\n",
       "    </tr>\n",
       "    <tr>\n",
       "      <th>1</th>\n",
       "      <td>26243</td>\n",
       "      <td>0.14</td>\n",
       "      <td>26.243</td>\n",
       "      <td>137.179438</td>\n",
       "      <td>52532</td>\n",
       "    </tr>\n",
       "    <tr>\n",
       "      <th>2</th>\n",
       "      <td>25885</td>\n",
       "      <td>0.14</td>\n",
       "      <td>25.885</td>\n",
       "      <td>139.076685</td>\n",
       "      <td>78417</td>\n",
       "    </tr>\n",
       "    <tr>\n",
       "      <th>3</th>\n",
       "      <td>25754</td>\n",
       "      <td>0.14</td>\n",
       "      <td>25.754</td>\n",
       "      <td>139.784111</td>\n",
       "      <td>104171</td>\n",
       "    </tr>\n",
       "    <tr>\n",
       "      <th>4</th>\n",
       "      <td>25774</td>\n",
       "      <td>0.14</td>\n",
       "      <td>25.774</td>\n",
       "      <td>139.675642</td>\n",
       "      <td>129945</td>\n",
       "    </tr>\n",
       "    <tr>\n",
       "      <th>...</th>\n",
       "      <td>...</td>\n",
       "      <td>...</td>\n",
       "      <td>...</td>\n",
       "      <td>...</td>\n",
       "      <td>...</td>\n",
       "    </tr>\n",
       "    <tr>\n",
       "      <th>112511</th>\n",
       "      <td>23765</td>\n",
       "      <td>0.15</td>\n",
       "      <td>23.765</td>\n",
       "      <td>151.483274</td>\n",
       "      <td>2669307623</td>\n",
       "    </tr>\n",
       "    <tr>\n",
       "      <th>112512</th>\n",
       "      <td>23934</td>\n",
       "      <td>0.15</td>\n",
       "      <td>23.934</td>\n",
       "      <td>150.413638</td>\n",
       "      <td>2669331557</td>\n",
       "    </tr>\n",
       "    <tr>\n",
       "      <th>112513</th>\n",
       "      <td>23486</td>\n",
       "      <td>0.15</td>\n",
       "      <td>23.486</td>\n",
       "      <td>153.282807</td>\n",
       "      <td>2669355043</td>\n",
       "    </tr>\n",
       "    <tr>\n",
       "      <th>112514</th>\n",
       "      <td>24169</td>\n",
       "      <td>0.15</td>\n",
       "      <td>24.169</td>\n",
       "      <td>148.951136</td>\n",
       "      <td>2669379212</td>\n",
       "    </tr>\n",
       "    <tr>\n",
       "      <th>112515</th>\n",
       "      <td>24407</td>\n",
       "      <td>0.15</td>\n",
       "      <td>24.407</td>\n",
       "      <td>147.498668</td>\n",
       "      <td>2669403619</td>\n",
       "    </tr>\n",
       "  </tbody>\n",
       "</table>\n",
       "<p>112516 rows × 5 columns</p>\n",
       "</div>"
      ],
      "text/plain": [
       "        Interval   kWh     sec          Wh   cumul(ms)\n",
       "0          26289  0.14  26.289  136.939404       26289\n",
       "1          26243  0.14  26.243  137.179438       52532\n",
       "2          25885  0.14  25.885  139.076685       78417\n",
       "3          25754  0.14  25.754  139.784111      104171\n",
       "4          25774  0.14  25.774  139.675642      129945\n",
       "...          ...   ...     ...         ...         ...\n",
       "112511     23765  0.15  23.765  151.483274  2669307623\n",
       "112512     23934  0.15  23.934  150.413638  2669331557\n",
       "112513     23486  0.15  23.486  153.282807  2669355043\n",
       "112514     24169  0.15  24.169  148.951136  2669379212\n",
       "112515     24407  0.15  24.407  147.498668  2669403619\n",
       "\n",
       "[112516 rows x 5 columns]"
      ]
     },
     "execution_count": 5438,
     "metadata": {},
     "output_type": "execute_result"
    }
   ],
   "source": [
    "conso_data['sec']=conso_data['Interval']/1000\n",
    "conso_data['Wh']=3600000/conso_data['Interval']\n",
    "conso_data['cumul(ms)']=conso_data['Interval'].cumsum(axis=0)\n",
    "\n",
    "conso_data"
   ]
  },
  {
   "cell_type": "code",
   "execution_count": 5439,
   "metadata": {},
   "outputs": [
    {
     "data": {
      "text/plain": [
       "112515"
      ]
     },
     "execution_count": 5439,
     "metadata": {},
     "output_type": "execute_result"
    }
   ],
   "source": [
    "# index dernier echantillon\n",
    "l=len(conso_data)-1\n",
    "l"
   ]
  },
  {
   "cell_type": "code",
   "execution_count": 5440,
   "metadata": {},
   "outputs": [
    {
     "data": {
      "text/plain": [
       "2669403619000"
      ]
     },
     "execution_count": 5440,
     "metadata": {},
     "output_type": "execute_result"
    }
   ],
   "source": [
    "# cumtime = int(conso_data['cumul(ms)'].tail(1).values[0]*1000)\n",
    "cumtime= int(conso_data._get_value(l,'cumul(ms)')*1000)\n",
    "cumtime"
   ]
  },
  {
   "cell_type": "code",
   "execution_count": 5441,
   "metadata": {},
   "outputs": [
    {
     "data": {
      "text/plain": [
       "False"
      ]
     },
     "execution_count": 5441,
     "metadata": {},
     "output_type": "execute_result"
    }
   ],
   "source": [
    "old"
   ]
  },
  {
   "cell_type": "code",
   "execution_count": 5442,
   "metadata": {},
   "outputs": [
    {
     "data": {
      "text/plain": [
       "datetime.datetime(2024, 3, 7, 1, 37, 56, 271052)"
      ]
     },
     "execution_count": 5442,
     "metadata": {},
     "output_type": "execute_result"
    }
   ],
   "source": [
    "from datetime import datetime, timedelta\n",
    "now = datetime.now()\n",
    "# conso.csv dynamique\n",
    "base = now - timedelta(microseconds=cumtime)\n",
    "base  # date de début\n"
   ]
  },
  {
   "cell_type": "code",
   "execution_count": 5443,
   "metadata": {},
   "outputs": [
    {
     "name": "stdout",
     "output_type": "stream",
     "text": [
      "<class 'pandas.core.frame.DataFrame'>\n",
      "RangeIndex: 112516 entries, 0 to 112515\n",
      "Data columns (total 6 columns):\n",
      " #   Column     Non-Null Count   Dtype         \n",
      "---  ------     --------------   -----         \n",
      " 0   Interval   112516 non-null  int64         \n",
      " 1   kWh        112516 non-null  float64       \n",
      " 2   sec        112516 non-null  float64       \n",
      " 3   Wh         112516 non-null  float64       \n",
      " 4   cumul(ms)  112516 non-null  int64         \n",
      " 5   dates      112516 non-null  datetime64[ns]\n",
      "dtypes: datetime64[ns](1), float64(3), int64(2)\n",
      "memory usage: 5.2 MB\n"
     ]
    }
   ],
   "source": [
    "\n",
    "if old:\n",
    "    base = dt.datetime(2023, 8, 1, 10, 45, 0) - timedelta(microseconds=cumtime)\n",
    "\n",
    "\n",
    "conso_data['dates'] = [base + dt.timedelta(microseconds=t*1000) for t in conso_data['cumul(ms)']]\n",
    "conso_data.info()\n"
   ]
  },
  {
   "cell_type": "code",
   "execution_count": 5444,
   "metadata": {},
   "outputs": [
    {
     "data": {
      "text/html": [
       "<div>\n",
       "<style scoped>\n",
       "    .dataframe tbody tr th:only-of-type {\n",
       "        vertical-align: middle;\n",
       "    }\n",
       "\n",
       "    .dataframe tbody tr th {\n",
       "        vertical-align: top;\n",
       "    }\n",
       "\n",
       "    .dataframe thead th {\n",
       "        text-align: right;\n",
       "    }\n",
       "</style>\n",
       "<table border=\"1\" class=\"dataframe\">\n",
       "  <thead>\n",
       "    <tr style=\"text-align: right;\">\n",
       "      <th></th>\n",
       "      <th>Interval</th>\n",
       "      <th>kWh</th>\n",
       "      <th>sec</th>\n",
       "      <th>Wh</th>\n",
       "      <th>cumul(ms)</th>\n",
       "      <th>dates</th>\n",
       "      <th>days</th>\n",
       "    </tr>\n",
       "  </thead>\n",
       "  <tbody>\n",
       "    <tr>\n",
       "      <th>0</th>\n",
       "      <td>26289</td>\n",
       "      <td>0.14</td>\n",
       "      <td>26.289</td>\n",
       "      <td>136.939404</td>\n",
       "      <td>26289</td>\n",
       "      <td>2024-03-07 01:38:22.560052</td>\n",
       "      <td>07/03/2024</td>\n",
       "    </tr>\n",
       "    <tr>\n",
       "      <th>1</th>\n",
       "      <td>26243</td>\n",
       "      <td>0.14</td>\n",
       "      <td>26.243</td>\n",
       "      <td>137.179438</td>\n",
       "      <td>52532</td>\n",
       "      <td>2024-03-07 01:38:48.803052</td>\n",
       "      <td>07/03/2024</td>\n",
       "    </tr>\n",
       "    <tr>\n",
       "      <th>2</th>\n",
       "      <td>25885</td>\n",
       "      <td>0.14</td>\n",
       "      <td>25.885</td>\n",
       "      <td>139.076685</td>\n",
       "      <td>78417</td>\n",
       "      <td>2024-03-07 01:39:14.688052</td>\n",
       "      <td>07/03/2024</td>\n",
       "    </tr>\n",
       "    <tr>\n",
       "      <th>3</th>\n",
       "      <td>25754</td>\n",
       "      <td>0.14</td>\n",
       "      <td>25.754</td>\n",
       "      <td>139.784111</td>\n",
       "      <td>104171</td>\n",
       "      <td>2024-03-07 01:39:40.442052</td>\n",
       "      <td>07/03/2024</td>\n",
       "    </tr>\n",
       "    <tr>\n",
       "      <th>4</th>\n",
       "      <td>25774</td>\n",
       "      <td>0.14</td>\n",
       "      <td>25.774</td>\n",
       "      <td>139.675642</td>\n",
       "      <td>129945</td>\n",
       "      <td>2024-03-07 01:40:06.216052</td>\n",
       "      <td>07/03/2024</td>\n",
       "    </tr>\n",
       "    <tr>\n",
       "      <th>...</th>\n",
       "      <td>...</td>\n",
       "      <td>...</td>\n",
       "      <td>...</td>\n",
       "      <td>...</td>\n",
       "      <td>...</td>\n",
       "      <td>...</td>\n",
       "      <td>...</td>\n",
       "    </tr>\n",
       "    <tr>\n",
       "      <th>112511</th>\n",
       "      <td>23765</td>\n",
       "      <td>0.15</td>\n",
       "      <td>23.765</td>\n",
       "      <td>151.483274</td>\n",
       "      <td>2669307623</td>\n",
       "      <td>2024-04-06 23:06:23.894052</td>\n",
       "      <td>06/04/2024</td>\n",
       "    </tr>\n",
       "    <tr>\n",
       "      <th>112512</th>\n",
       "      <td>23934</td>\n",
       "      <td>0.15</td>\n",
       "      <td>23.934</td>\n",
       "      <td>150.413638</td>\n",
       "      <td>2669331557</td>\n",
       "      <td>2024-04-06 23:06:47.828052</td>\n",
       "      <td>06/04/2024</td>\n",
       "    </tr>\n",
       "    <tr>\n",
       "      <th>112513</th>\n",
       "      <td>23486</td>\n",
       "      <td>0.15</td>\n",
       "      <td>23.486</td>\n",
       "      <td>153.282807</td>\n",
       "      <td>2669355043</td>\n",
       "      <td>2024-04-06 23:07:11.314052</td>\n",
       "      <td>06/04/2024</td>\n",
       "    </tr>\n",
       "    <tr>\n",
       "      <th>112514</th>\n",
       "      <td>24169</td>\n",
       "      <td>0.15</td>\n",
       "      <td>24.169</td>\n",
       "      <td>148.951136</td>\n",
       "      <td>2669379212</td>\n",
       "      <td>2024-04-06 23:07:35.483052</td>\n",
       "      <td>06/04/2024</td>\n",
       "    </tr>\n",
       "    <tr>\n",
       "      <th>112515</th>\n",
       "      <td>24407</td>\n",
       "      <td>0.15</td>\n",
       "      <td>24.407</td>\n",
       "      <td>147.498668</td>\n",
       "      <td>2669403619</td>\n",
       "      <td>2024-04-06 23:07:59.890052</td>\n",
       "      <td>06/04/2024</td>\n",
       "    </tr>\n",
       "  </tbody>\n",
       "</table>\n",
       "<p>112516 rows × 7 columns</p>\n",
       "</div>"
      ],
      "text/plain": [
       "        Interval   kWh     sec          Wh   cumul(ms)  \\\n",
       "0          26289  0.14  26.289  136.939404       26289   \n",
       "1          26243  0.14  26.243  137.179438       52532   \n",
       "2          25885  0.14  25.885  139.076685       78417   \n",
       "3          25754  0.14  25.754  139.784111      104171   \n",
       "4          25774  0.14  25.774  139.675642      129945   \n",
       "...          ...   ...     ...         ...         ...   \n",
       "112511     23765  0.15  23.765  151.483274  2669307623   \n",
       "112512     23934  0.15  23.934  150.413638  2669331557   \n",
       "112513     23486  0.15  23.486  153.282807  2669355043   \n",
       "112514     24169  0.15  24.169  148.951136  2669379212   \n",
       "112515     24407  0.15  24.407  147.498668  2669403619   \n",
       "\n",
       "                            dates        days  \n",
       "0      2024-03-07 01:38:22.560052  07/03/2024  \n",
       "1      2024-03-07 01:38:48.803052  07/03/2024  \n",
       "2      2024-03-07 01:39:14.688052  07/03/2024  \n",
       "3      2024-03-07 01:39:40.442052  07/03/2024  \n",
       "4      2024-03-07 01:40:06.216052  07/03/2024  \n",
       "...                           ...         ...  \n",
       "112511 2024-04-06 23:06:23.894052  06/04/2024  \n",
       "112512 2024-04-06 23:06:47.828052  06/04/2024  \n",
       "112513 2024-04-06 23:07:11.314052  06/04/2024  \n",
       "112514 2024-04-06 23:07:35.483052  06/04/2024  \n",
       "112515 2024-04-06 23:07:59.890052  06/04/2024  \n",
       "\n",
       "[112516 rows x 7 columns]"
      ]
     },
     "execution_count": 5444,
     "metadata": {},
     "output_type": "execute_result"
    }
   ],
   "source": [
    "conso_data['days']= [d.strftime('%d/%m/%Y') for d in conso_data['dates']]    #[str(d.month)+'-'+str(d.day) for d in conso_data['dates']]\n",
    "conso_data"
   ]
  },
  {
   "cell_type": "code",
   "execution_count": 5445,
   "metadata": {},
   "outputs": [
    {
     "data": {
      "text/plain": [
       "(   Interval   kWh     sec          Wh  cumul(ms)                      dates  \\\n",
       " 0     26289  0.14  26.289  136.939404      26289 2024-03-07 01:38:22.560052   \n",
       " \n",
       "          days  \n",
       " 0  07/03/2024  ,\n",
       "         Interval   kWh     sec          Wh   cumul(ms)  \\\n",
       " 112515     24407  0.15  24.407  147.498668  2669403619   \n",
       " \n",
       "                             dates        days  \n",
       " 112515 2024-04-06 23:07:59.890052  06/04/2024  )"
      ]
     },
     "execution_count": 5445,
     "metadata": {},
     "output_type": "execute_result"
    }
   ],
   "source": [
    "#conso_data\n",
    "conso_data.head(1),conso_data.tail(1)"
   ]
  },
  {
   "cell_type": "code",
   "execution_count": 5446,
   "metadata": {},
   "outputs": [
    {
     "data": {
      "text/plain": [
       "('06/04/2024', 4, 2024)"
      ]
     },
     "execution_count": 5446,
     "metadata": {},
     "output_type": "execute_result"
    }
   ],
   "source": [
    "# tranche journalière\n",
    "now = datetime.now()\n",
    "month = now.month\n",
    "year = now.year\n",
    "day = now.strftime('%d/%m/%Y')    #str(now.month)+'-'+str(now.day)\n",
    "day, month, year"
   ]
  },
  {
   "cell_type": "code",
   "execution_count": 5447,
   "metadata": {},
   "outputs": [
    {
     "data": {
      "text/html": [
       "<div>\n",
       "<style scoped>\n",
       "    .dataframe tbody tr th:only-of-type {\n",
       "        vertical-align: middle;\n",
       "    }\n",
       "\n",
       "    .dataframe tbody tr th {\n",
       "        vertical-align: top;\n",
       "    }\n",
       "\n",
       "    .dataframe thead th {\n",
       "        text-align: right;\n",
       "    }\n",
       "</style>\n",
       "<table border=\"1\" class=\"dataframe\">\n",
       "  <thead>\n",
       "    <tr style=\"text-align: right;\">\n",
       "      <th></th>\n",
       "      <th>Interval</th>\n",
       "      <th>kWh</th>\n",
       "      <th>sec</th>\n",
       "      <th>Wh</th>\n",
       "      <th>cumul(ms)</th>\n",
       "      <th>dates</th>\n",
       "      <th>days</th>\n",
       "    </tr>\n",
       "  </thead>\n",
       "  <tbody>\n",
       "    <tr>\n",
       "      <th>109229</th>\n",
       "      <td>27144</td>\n",
       "      <td>0.13</td>\n",
       "      <td>27.144</td>\n",
       "      <td>132.625995</td>\n",
       "      <td>2586135505</td>\n",
       "      <td>2024-04-06 00:00:11.776052</td>\n",
       "      <td>06/04/2024</td>\n",
       "    </tr>\n",
       "    <tr>\n",
       "      <th>109230</th>\n",
       "      <td>27129</td>\n",
       "      <td>0.13</td>\n",
       "      <td>27.129</td>\n",
       "      <td>132.699325</td>\n",
       "      <td>2586162634</td>\n",
       "      <td>2024-04-06 00:00:38.905052</td>\n",
       "      <td>06/04/2024</td>\n",
       "    </tr>\n",
       "    <tr>\n",
       "      <th>109231</th>\n",
       "      <td>26594</td>\n",
       "      <td>0.14</td>\n",
       "      <td>26.594</td>\n",
       "      <td>135.368880</td>\n",
       "      <td>2586189228</td>\n",
       "      <td>2024-04-06 00:01:05.499052</td>\n",
       "      <td>06/04/2024</td>\n",
       "    </tr>\n",
       "    <tr>\n",
       "      <th>109232</th>\n",
       "      <td>25936</td>\n",
       "      <td>0.14</td>\n",
       "      <td>25.936</td>\n",
       "      <td>138.803208</td>\n",
       "      <td>2586215164</td>\n",
       "      <td>2024-04-06 00:01:31.435052</td>\n",
       "      <td>06/04/2024</td>\n",
       "    </tr>\n",
       "    <tr>\n",
       "      <th>109233</th>\n",
       "      <td>26089</td>\n",
       "      <td>0.14</td>\n",
       "      <td>26.089</td>\n",
       "      <td>137.989191</td>\n",
       "      <td>2586241253</td>\n",
       "      <td>2024-04-06 00:01:57.524052</td>\n",
       "      <td>06/04/2024</td>\n",
       "    </tr>\n",
       "    <tr>\n",
       "      <th>...</th>\n",
       "      <td>...</td>\n",
       "      <td>...</td>\n",
       "      <td>...</td>\n",
       "      <td>...</td>\n",
       "      <td>...</td>\n",
       "      <td>...</td>\n",
       "      <td>...</td>\n",
       "    </tr>\n",
       "    <tr>\n",
       "      <th>112511</th>\n",
       "      <td>23765</td>\n",
       "      <td>0.15</td>\n",
       "      <td>23.765</td>\n",
       "      <td>151.483274</td>\n",
       "      <td>2669307623</td>\n",
       "      <td>2024-04-06 23:06:23.894052</td>\n",
       "      <td>06/04/2024</td>\n",
       "    </tr>\n",
       "    <tr>\n",
       "      <th>112512</th>\n",
       "      <td>23934</td>\n",
       "      <td>0.15</td>\n",
       "      <td>23.934</td>\n",
       "      <td>150.413638</td>\n",
       "      <td>2669331557</td>\n",
       "      <td>2024-04-06 23:06:47.828052</td>\n",
       "      <td>06/04/2024</td>\n",
       "    </tr>\n",
       "    <tr>\n",
       "      <th>112513</th>\n",
       "      <td>23486</td>\n",
       "      <td>0.15</td>\n",
       "      <td>23.486</td>\n",
       "      <td>153.282807</td>\n",
       "      <td>2669355043</td>\n",
       "      <td>2024-04-06 23:07:11.314052</td>\n",
       "      <td>06/04/2024</td>\n",
       "    </tr>\n",
       "    <tr>\n",
       "      <th>112514</th>\n",
       "      <td>24169</td>\n",
       "      <td>0.15</td>\n",
       "      <td>24.169</td>\n",
       "      <td>148.951136</td>\n",
       "      <td>2669379212</td>\n",
       "      <td>2024-04-06 23:07:35.483052</td>\n",
       "      <td>06/04/2024</td>\n",
       "    </tr>\n",
       "    <tr>\n",
       "      <th>112515</th>\n",
       "      <td>24407</td>\n",
       "      <td>0.15</td>\n",
       "      <td>24.407</td>\n",
       "      <td>147.498668</td>\n",
       "      <td>2669403619</td>\n",
       "      <td>2024-04-06 23:07:59.890052</td>\n",
       "      <td>06/04/2024</td>\n",
       "    </tr>\n",
       "  </tbody>\n",
       "</table>\n",
       "<p>3287 rows × 7 columns</p>\n",
       "</div>"
      ],
      "text/plain": [
       "        Interval   kWh     sec          Wh   cumul(ms)  \\\n",
       "109229     27144  0.13  27.144  132.625995  2586135505   \n",
       "109230     27129  0.13  27.129  132.699325  2586162634   \n",
       "109231     26594  0.14  26.594  135.368880  2586189228   \n",
       "109232     25936  0.14  25.936  138.803208  2586215164   \n",
       "109233     26089  0.14  26.089  137.989191  2586241253   \n",
       "...          ...   ...     ...         ...         ...   \n",
       "112511     23765  0.15  23.765  151.483274  2669307623   \n",
       "112512     23934  0.15  23.934  150.413638  2669331557   \n",
       "112513     23486  0.15  23.486  153.282807  2669355043   \n",
       "112514     24169  0.15  24.169  148.951136  2669379212   \n",
       "112515     24407  0.15  24.407  147.498668  2669403619   \n",
       "\n",
       "                            dates        days  \n",
       "109229 2024-04-06 00:00:11.776052  06/04/2024  \n",
       "109230 2024-04-06 00:00:38.905052  06/04/2024  \n",
       "109231 2024-04-06 00:01:05.499052  06/04/2024  \n",
       "109232 2024-04-06 00:01:31.435052  06/04/2024  \n",
       "109233 2024-04-06 00:01:57.524052  06/04/2024  \n",
       "...                           ...         ...  \n",
       "112511 2024-04-06 23:06:23.894052  06/04/2024  \n",
       "112512 2024-04-06 23:06:47.828052  06/04/2024  \n",
       "112513 2024-04-06 23:07:11.314052  06/04/2024  \n",
       "112514 2024-04-06 23:07:35.483052  06/04/2024  \n",
       "112515 2024-04-06 23:07:59.890052  06/04/2024  \n",
       "\n",
       "[3287 rows x 7 columns]"
      ]
     },
     "execution_count": 5447,
     "metadata": {},
     "output_type": "execute_result"
    }
   ],
   "source": [
    "conso_data[conso_data['days']==day]"
   ]
  },
  {
   "cell_type": "code",
   "execution_count": 5448,
   "metadata": {},
   "outputs": [
    {
     "data": {
      "text/plain": [
       "<pandas.core.groupby.generic.DataFrameGroupBy object at 0x000001E8A8CEBC90>"
      ]
     },
     "execution_count": 5448,
     "metadata": {},
     "output_type": "execute_result"
    }
   ],
   "source": [
    "grouped = conso_data[['days','kWh']].groupby('days', sort=False)\n",
    "'''conso_graph=[]\n",
    "for name, group in grouped:\n",
    "    if name=='01/04/2024':print(group)\n",
    "    #print(\"\\n\", name, len(group)/1000)\n",
    "    conso_graph.append((name,len(group)/1000))'''\n",
    "grouped\n"
   ]
  },
  {
   "cell_type": "code",
   "execution_count": 5449,
   "metadata": {},
   "outputs": [
    {
     "data": {
      "text/plain": [
       "3.5337307692307687"
      ]
     },
     "execution_count": 5449,
     "metadata": {},
     "output_type": "execute_result"
    }
   ],
   "source": [
    "\n",
    "mean = conso_df['conso'].mean()\n",
    "mean\n"
   ]
  },
  {
   "cell_type": "code",
   "execution_count": 5450,
   "metadata": {},
   "outputs": [
    {
     "data": {
      "text/html": [
       "<div>\n",
       "<style scoped>\n",
       "    .dataframe tbody tr th:only-of-type {\n",
       "        vertical-align: middle;\n",
       "    }\n",
       "\n",
       "    .dataframe tbody tr th {\n",
       "        vertical-align: top;\n",
       "    }\n",
       "\n",
       "    .dataframe thead th {\n",
       "        text-align: right;\n",
       "    }\n",
       "</style>\n",
       "<table border=\"1\" class=\"dataframe\">\n",
       "  <thead>\n",
       "    <tr style=\"text-align: right;\">\n",
       "      <th></th>\n",
       "      <th>kWh</th>\n",
       "    </tr>\n",
       "    <tr>\n",
       "      <th>days</th>\n",
       "      <th></th>\n",
       "    </tr>\n",
       "  </thead>\n",
       "  <tbody>\n",
       "    <tr>\n",
       "      <th>07/03/2024</th>\n",
       "      <td>3.164</td>\n",
       "    </tr>\n",
       "    <tr>\n",
       "      <th>08/03/2024</th>\n",
       "      <td>3.752</td>\n",
       "    </tr>\n",
       "    <tr>\n",
       "      <th>09/03/2024</th>\n",
       "      <td>3.082</td>\n",
       "    </tr>\n",
       "    <tr>\n",
       "      <th>10/03/2024</th>\n",
       "      <td>3.535</td>\n",
       "    </tr>\n",
       "    <tr>\n",
       "      <th>11/03/2024</th>\n",
       "      <td>4.549</td>\n",
       "    </tr>\n",
       "    <tr>\n",
       "      <th>12/03/2024</th>\n",
       "      <td>3.546</td>\n",
       "    </tr>\n",
       "    <tr>\n",
       "      <th>13/03/2024</th>\n",
       "      <td>3.533</td>\n",
       "    </tr>\n",
       "    <tr>\n",
       "      <th>14/03/2024</th>\n",
       "      <td>3.665</td>\n",
       "    </tr>\n",
       "    <tr>\n",
       "      <th>15/03/2024</th>\n",
       "      <td>3.560</td>\n",
       "    </tr>\n",
       "    <tr>\n",
       "      <th>16/03/2024</th>\n",
       "      <td>3.360</td>\n",
       "    </tr>\n",
       "    <tr>\n",
       "      <th>17/03/2024</th>\n",
       "      <td>3.350</td>\n",
       "    </tr>\n",
       "    <tr>\n",
       "      <th>18/03/2024</th>\n",
       "      <td>4.395</td>\n",
       "    </tr>\n",
       "    <tr>\n",
       "      <th>19/03/2024</th>\n",
       "      <td>3.523</td>\n",
       "    </tr>\n",
       "    <tr>\n",
       "      <th>20/03/2024</th>\n",
       "      <td>3.444</td>\n",
       "    </tr>\n",
       "    <tr>\n",
       "      <th>21/03/2024</th>\n",
       "      <td>3.537</td>\n",
       "    </tr>\n",
       "    <tr>\n",
       "      <th>22/03/2024</th>\n",
       "      <td>3.741</td>\n",
       "    </tr>\n",
       "    <tr>\n",
       "      <th>23/03/2024</th>\n",
       "      <td>3.529</td>\n",
       "    </tr>\n",
       "    <tr>\n",
       "      <th>24/03/2024</th>\n",
       "      <td>3.342</td>\n",
       "    </tr>\n",
       "    <tr>\n",
       "      <th>25/03/2024</th>\n",
       "      <td>3.888</td>\n",
       "    </tr>\n",
       "    <tr>\n",
       "      <th>26/03/2024</th>\n",
       "      <td>3.420</td>\n",
       "    </tr>\n",
       "    <tr>\n",
       "      <th>27/03/2024</th>\n",
       "      <td>3.473</td>\n",
       "    </tr>\n",
       "    <tr>\n",
       "      <th>28/03/2024</th>\n",
       "      <td>3.638</td>\n",
       "    </tr>\n",
       "    <tr>\n",
       "      <th>29/03/2024</th>\n",
       "      <td>3.768</td>\n",
       "    </tr>\n",
       "    <tr>\n",
       "      <th>30/03/2024</th>\n",
       "      <td>3.639</td>\n",
       "    </tr>\n",
       "    <tr>\n",
       "      <th>31/03/2024</th>\n",
       "      <td>3.834</td>\n",
       "    </tr>\n",
       "    <tr>\n",
       "      <th>01/04/2024</th>\n",
       "      <td>3.835</td>\n",
       "    </tr>\n",
       "    <tr>\n",
       "      <th>02/04/2024</th>\n",
       "      <td>3.819</td>\n",
       "    </tr>\n",
       "    <tr>\n",
       "      <th>03/04/2024</th>\n",
       "      <td>3.417</td>\n",
       "    </tr>\n",
       "    <tr>\n",
       "      <th>04/04/2024</th>\n",
       "      <td>3.479</td>\n",
       "    </tr>\n",
       "    <tr>\n",
       "      <th>05/04/2024</th>\n",
       "      <td>4.412</td>\n",
       "    </tr>\n",
       "    <tr>\n",
       "      <th>06/04/2024</th>\n",
       "      <td>3.287</td>\n",
       "    </tr>\n",
       "  </tbody>\n",
       "</table>\n",
       "</div>"
      ],
      "text/plain": [
       "              kWh\n",
       "days             \n",
       "07/03/2024  3.164\n",
       "08/03/2024  3.752\n",
       "09/03/2024  3.082\n",
       "10/03/2024  3.535\n",
       "11/03/2024  4.549\n",
       "12/03/2024  3.546\n",
       "13/03/2024  3.533\n",
       "14/03/2024  3.665\n",
       "15/03/2024  3.560\n",
       "16/03/2024  3.360\n",
       "17/03/2024  3.350\n",
       "18/03/2024  4.395\n",
       "19/03/2024  3.523\n",
       "20/03/2024  3.444\n",
       "21/03/2024  3.537\n",
       "22/03/2024  3.741\n",
       "23/03/2024  3.529\n",
       "24/03/2024  3.342\n",
       "25/03/2024  3.888\n",
       "26/03/2024  3.420\n",
       "27/03/2024  3.473\n",
       "28/03/2024  3.638\n",
       "29/03/2024  3.768\n",
       "30/03/2024  3.639\n",
       "31/03/2024  3.834\n",
       "01/04/2024  3.835\n",
       "02/04/2024  3.819\n",
       "03/04/2024  3.417\n",
       "04/04/2024  3.479\n",
       "05/04/2024  4.412\n",
       "06/04/2024  3.287"
      ]
     },
     "execution_count": 5450,
     "metadata": {},
     "output_type": "execute_result"
    }
   ],
   "source": [
    "grouped.count()/1000"
   ]
  },
  {
   "cell_type": "code",
   "execution_count": 5451,
   "metadata": {},
   "outputs": [
    {
     "data": {
      "text/plain": [
       "kWh    3.629548\n",
       "dtype: float64"
      ]
     },
     "execution_count": 5451,
     "metadata": {},
     "output_type": "execute_result"
    }
   ],
   "source": [
    "mean=(grouped.count()/1000).mean()\n",
    "mean"
   ]
  },
  {
   "cell_type": "code",
   "execution_count": 5513,
   "metadata": {},
   "outputs": [],
   "source": [
    "filename='conso_par_jour.csv'\n",
    "df = grouped.count()/1000\n",
    "df.to_csv(filename)\n",
    "filename='../conso_par_jour.csv'\n",
    "df.to_csv(filename)"
   ]
  },
  {
   "cell_type": "code",
   "execution_count": 5453,
   "metadata": {},
   "outputs": [
    {
     "data": {
      "image/png": "[encoded data removed]",
      "text/plain": [
       "<Figure size 640x480 with 1 Axes>"
      ]
     },
     "metadata": {},
     "output_type": "display_data"
    }
   ],
   "source": [
    "df.plot()#kind='bar')\n",
    "plt.plot((0,len(conso_graph)-1),(mean,mean))\n",
    "plt.xticks(rotation=45)\n",
    "plt.grid()\n"
   ]
  },
  {
   "cell_type": "code",
   "execution_count": 5454,
   "metadata": {},
   "outputs": [],
   "source": [
    "#manuel\n",
    "#day = '11/03/2024'\n"
   ]
  },
  {
   "cell_type": "code",
   "execution_count": 5455,
   "metadata": {},
   "outputs": [
    {
     "data": {
      "text/plain": [
       "3287"
      ]
     },
     "execution_count": 5455,
     "metadata": {},
     "output_type": "execute_result"
    }
   ],
   "source": [
    "# conso day\n",
    "conso_day = conso_data[conso_data['days']==day]\n",
    "conso_jour = len(conso_day)\n",
    "conso_jour"
   ]
  },
  {
   "cell_type": "code",
   "execution_count": 5456,
   "metadata": {},
   "outputs": [
    {
     "data": {
      "text/html": [
       "<div>\n",
       "<style scoped>\n",
       "    .dataframe tbody tr th:only-of-type {\n",
       "        vertical-align: middle;\n",
       "    }\n",
       "\n",
       "    .dataframe tbody tr th {\n",
       "        vertical-align: top;\n",
       "    }\n",
       "\n",
       "    .dataframe thead th {\n",
       "        text-align: right;\n",
       "    }\n",
       "</style>\n",
       "<table border=\"1\" class=\"dataframe\">\n",
       "  <thead>\n",
       "    <tr style=\"text-align: right;\">\n",
       "      <th></th>\n",
       "      <th>Interval</th>\n",
       "      <th>kWh</th>\n",
       "      <th>sec</th>\n",
       "      <th>Wh</th>\n",
       "      <th>cumul(ms)</th>\n",
       "      <th>dates</th>\n",
       "      <th>days</th>\n",
       "    </tr>\n",
       "  </thead>\n",
       "  <tbody>\n",
       "    <tr>\n",
       "      <th>109229</th>\n",
       "      <td>27144</td>\n",
       "      <td>0.13</td>\n",
       "      <td>27.144</td>\n",
       "      <td>132.625995</td>\n",
       "      <td>2586135505</td>\n",
       "      <td>2024-04-06 00:00:11.776052</td>\n",
       "      <td>06/04/2024</td>\n",
       "    </tr>\n",
       "    <tr>\n",
       "      <th>109230</th>\n",
       "      <td>27129</td>\n",
       "      <td>0.13</td>\n",
       "      <td>27.129</td>\n",
       "      <td>132.699325</td>\n",
       "      <td>2586162634</td>\n",
       "      <td>2024-04-06 00:00:38.905052</td>\n",
       "      <td>06/04/2024</td>\n",
       "    </tr>\n",
       "    <tr>\n",
       "      <th>109231</th>\n",
       "      <td>26594</td>\n",
       "      <td>0.14</td>\n",
       "      <td>26.594</td>\n",
       "      <td>135.368880</td>\n",
       "      <td>2586189228</td>\n",
       "      <td>2024-04-06 00:01:05.499052</td>\n",
       "      <td>06/04/2024</td>\n",
       "    </tr>\n",
       "    <tr>\n",
       "      <th>109232</th>\n",
       "      <td>25936</td>\n",
       "      <td>0.14</td>\n",
       "      <td>25.936</td>\n",
       "      <td>138.803208</td>\n",
       "      <td>2586215164</td>\n",
       "      <td>2024-04-06 00:01:31.435052</td>\n",
       "      <td>06/04/2024</td>\n",
       "    </tr>\n",
       "    <tr>\n",
       "      <th>109233</th>\n",
       "      <td>26089</td>\n",
       "      <td>0.14</td>\n",
       "      <td>26.089</td>\n",
       "      <td>137.989191</td>\n",
       "      <td>2586241253</td>\n",
       "      <td>2024-04-06 00:01:57.524052</td>\n",
       "      <td>06/04/2024</td>\n",
       "    </tr>\n",
       "    <tr>\n",
       "      <th>...</th>\n",
       "      <td>...</td>\n",
       "      <td>...</td>\n",
       "      <td>...</td>\n",
       "      <td>...</td>\n",
       "      <td>...</td>\n",
       "      <td>...</td>\n",
       "      <td>...</td>\n",
       "    </tr>\n",
       "    <tr>\n",
       "      <th>112511</th>\n",
       "      <td>23765</td>\n",
       "      <td>0.15</td>\n",
       "      <td>23.765</td>\n",
       "      <td>151.483274</td>\n",
       "      <td>2669307623</td>\n",
       "      <td>2024-04-06 23:06:23.894052</td>\n",
       "      <td>06/04/2024</td>\n",
       "    </tr>\n",
       "    <tr>\n",
       "      <th>112512</th>\n",
       "      <td>23934</td>\n",
       "      <td>0.15</td>\n",
       "      <td>23.934</td>\n",
       "      <td>150.413638</td>\n",
       "      <td>2669331557</td>\n",
       "      <td>2024-04-06 23:06:47.828052</td>\n",
       "      <td>06/04/2024</td>\n",
       "    </tr>\n",
       "    <tr>\n",
       "      <th>112513</th>\n",
       "      <td>23486</td>\n",
       "      <td>0.15</td>\n",
       "      <td>23.486</td>\n",
       "      <td>153.282807</td>\n",
       "      <td>2669355043</td>\n",
       "      <td>2024-04-06 23:07:11.314052</td>\n",
       "      <td>06/04/2024</td>\n",
       "    </tr>\n",
       "    <tr>\n",
       "      <th>112514</th>\n",
       "      <td>24169</td>\n",
       "      <td>0.15</td>\n",
       "      <td>24.169</td>\n",
       "      <td>148.951136</td>\n",
       "      <td>2669379212</td>\n",
       "      <td>2024-04-06 23:07:35.483052</td>\n",
       "      <td>06/04/2024</td>\n",
       "    </tr>\n",
       "    <tr>\n",
       "      <th>112515</th>\n",
       "      <td>24407</td>\n",
       "      <td>0.15</td>\n",
       "      <td>24.407</td>\n",
       "      <td>147.498668</td>\n",
       "      <td>2669403619</td>\n",
       "      <td>2024-04-06 23:07:59.890052</td>\n",
       "      <td>06/04/2024</td>\n",
       "    </tr>\n",
       "  </tbody>\n",
       "</table>\n",
       "<p>3287 rows × 7 columns</p>\n",
       "</div>"
      ],
      "text/plain": [
       "        Interval   kWh     sec          Wh   cumul(ms)  \\\n",
       "109229     27144  0.13  27.144  132.625995  2586135505   \n",
       "109230     27129  0.13  27.129  132.699325  2586162634   \n",
       "109231     26594  0.14  26.594  135.368880  2586189228   \n",
       "109232     25936  0.14  25.936  138.803208  2586215164   \n",
       "109233     26089  0.14  26.089  137.989191  2586241253   \n",
       "...          ...   ...     ...         ...         ...   \n",
       "112511     23765  0.15  23.765  151.483274  2669307623   \n",
       "112512     23934  0.15  23.934  150.413638  2669331557   \n",
       "112513     23486  0.15  23.486  153.282807  2669355043   \n",
       "112514     24169  0.15  24.169  148.951136  2669379212   \n",
       "112515     24407  0.15  24.407  147.498668  2669403619   \n",
       "\n",
       "                            dates        days  \n",
       "109229 2024-04-06 00:00:11.776052  06/04/2024  \n",
       "109230 2024-04-06 00:00:38.905052  06/04/2024  \n",
       "109231 2024-04-06 00:01:05.499052  06/04/2024  \n",
       "109232 2024-04-06 00:01:31.435052  06/04/2024  \n",
       "109233 2024-04-06 00:01:57.524052  06/04/2024  \n",
       "...                           ...         ...  \n",
       "112511 2024-04-06 23:06:23.894052  06/04/2024  \n",
       "112512 2024-04-06 23:06:47.828052  06/04/2024  \n",
       "112513 2024-04-06 23:07:11.314052  06/04/2024  \n",
       "112514 2024-04-06 23:07:35.483052  06/04/2024  \n",
       "112515 2024-04-06 23:07:59.890052  06/04/2024  \n",
       "\n",
       "[3287 rows x 7 columns]"
      ]
     },
     "execution_count": 5456,
     "metadata": {},
     "output_type": "execute_result"
    }
   ],
   "source": [
    "conso_day"
   ]
  },
  {
   "cell_type": "code",
   "execution_count": 5512,
   "metadata": {},
   "outputs": [],
   "source": [
    "filename='conso_jour.csv'\n",
    "conso_day.to_csv(filename)\n",
    "filename='../conso_jour.csv'\n",
    "conso_day.to_csv(filename)"
   ]
  },
  {
   "cell_type": "code",
   "execution_count": 5458,
   "metadata": {},
   "outputs": [
    {
     "data": {
      "text/html": [
       "<div>\n",
       "<style scoped>\n",
       "    .dataframe tbody tr th:only-of-type {\n",
       "        vertical-align: middle;\n",
       "    }\n",
       "\n",
       "    .dataframe tbody tr th {\n",
       "        vertical-align: top;\n",
       "    }\n",
       "\n",
       "    .dataframe thead th {\n",
       "        text-align: right;\n",
       "    }\n",
       "</style>\n",
       "<table border=\"1\" class=\"dataframe\">\n",
       "  <thead>\n",
       "    <tr style=\"text-align: right;\">\n",
       "      <th></th>\n",
       "      <th>kWh</th>\n",
       "    </tr>\n",
       "    <tr>\n",
       "      <th>days</th>\n",
       "      <th></th>\n",
       "    </tr>\n",
       "  </thead>\n",
       "  <tbody>\n",
       "    <tr>\n",
       "      <th>07/03/2024</th>\n",
       "      <td>3.164</td>\n",
       "    </tr>\n",
       "    <tr>\n",
       "      <th>08/03/2024</th>\n",
       "      <td>3.752</td>\n",
       "    </tr>\n",
       "    <tr>\n",
       "      <th>09/03/2024</th>\n",
       "      <td>3.082</td>\n",
       "    </tr>\n",
       "    <tr>\n",
       "      <th>10/03/2024</th>\n",
       "      <td>3.535</td>\n",
       "    </tr>\n",
       "    <tr>\n",
       "      <th>11/03/2024</th>\n",
       "      <td>4.549</td>\n",
       "    </tr>\n",
       "    <tr>\n",
       "      <th>12/03/2024</th>\n",
       "      <td>3.546</td>\n",
       "    </tr>\n",
       "    <tr>\n",
       "      <th>13/03/2024</th>\n",
       "      <td>3.533</td>\n",
       "    </tr>\n",
       "    <tr>\n",
       "      <th>14/03/2024</th>\n",
       "      <td>3.665</td>\n",
       "    </tr>\n",
       "    <tr>\n",
       "      <th>15/03/2024</th>\n",
       "      <td>3.560</td>\n",
       "    </tr>\n",
       "    <tr>\n",
       "      <th>16/03/2024</th>\n",
       "      <td>3.360</td>\n",
       "    </tr>\n",
       "    <tr>\n",
       "      <th>17/03/2024</th>\n",
       "      <td>3.350</td>\n",
       "    </tr>\n",
       "    <tr>\n",
       "      <th>18/03/2024</th>\n",
       "      <td>4.395</td>\n",
       "    </tr>\n",
       "    <tr>\n",
       "      <th>19/03/2024</th>\n",
       "      <td>3.523</td>\n",
       "    </tr>\n",
       "    <tr>\n",
       "      <th>20/03/2024</th>\n",
       "      <td>3.444</td>\n",
       "    </tr>\n",
       "    <tr>\n",
       "      <th>21/03/2024</th>\n",
       "      <td>3.537</td>\n",
       "    </tr>\n",
       "    <tr>\n",
       "      <th>22/03/2024</th>\n",
       "      <td>3.741</td>\n",
       "    </tr>\n",
       "    <tr>\n",
       "      <th>23/03/2024</th>\n",
       "      <td>3.529</td>\n",
       "    </tr>\n",
       "    <tr>\n",
       "      <th>24/03/2024</th>\n",
       "      <td>3.342</td>\n",
       "    </tr>\n",
       "    <tr>\n",
       "      <th>25/03/2024</th>\n",
       "      <td>3.888</td>\n",
       "    </tr>\n",
       "    <tr>\n",
       "      <th>26/03/2024</th>\n",
       "      <td>3.420</td>\n",
       "    </tr>\n",
       "    <tr>\n",
       "      <th>27/03/2024</th>\n",
       "      <td>3.473</td>\n",
       "    </tr>\n",
       "    <tr>\n",
       "      <th>28/03/2024</th>\n",
       "      <td>3.638</td>\n",
       "    </tr>\n",
       "    <tr>\n",
       "      <th>29/03/2024</th>\n",
       "      <td>3.768</td>\n",
       "    </tr>\n",
       "    <tr>\n",
       "      <th>30/03/2024</th>\n",
       "      <td>3.639</td>\n",
       "    </tr>\n",
       "    <tr>\n",
       "      <th>31/03/2024</th>\n",
       "      <td>3.834</td>\n",
       "    </tr>\n",
       "    <tr>\n",
       "      <th>01/04/2024</th>\n",
       "      <td>3.835</td>\n",
       "    </tr>\n",
       "    <tr>\n",
       "      <th>02/04/2024</th>\n",
       "      <td>3.819</td>\n",
       "    </tr>\n",
       "    <tr>\n",
       "      <th>03/04/2024</th>\n",
       "      <td>3.417</td>\n",
       "    </tr>\n",
       "    <tr>\n",
       "      <th>04/04/2024</th>\n",
       "      <td>3.479</td>\n",
       "    </tr>\n",
       "    <tr>\n",
       "      <th>05/04/2024</th>\n",
       "      <td>4.412</td>\n",
       "    </tr>\n",
       "    <tr>\n",
       "      <th>06/04/2024</th>\n",
       "      <td>3.287</td>\n",
       "    </tr>\n",
       "  </tbody>\n",
       "</table>\n",
       "</div>"
      ],
      "text/plain": [
       "              kWh\n",
       "days             \n",
       "07/03/2024  3.164\n",
       "08/03/2024  3.752\n",
       "09/03/2024  3.082\n",
       "10/03/2024  3.535\n",
       "11/03/2024  4.549\n",
       "12/03/2024  3.546\n",
       "13/03/2024  3.533\n",
       "14/03/2024  3.665\n",
       "15/03/2024  3.560\n",
       "16/03/2024  3.360\n",
       "17/03/2024  3.350\n",
       "18/03/2024  4.395\n",
       "19/03/2024  3.523\n",
       "20/03/2024  3.444\n",
       "21/03/2024  3.537\n",
       "22/03/2024  3.741\n",
       "23/03/2024  3.529\n",
       "24/03/2024  3.342\n",
       "25/03/2024  3.888\n",
       "26/03/2024  3.420\n",
       "27/03/2024  3.473\n",
       "28/03/2024  3.638\n",
       "29/03/2024  3.768\n",
       "30/03/2024  3.639\n",
       "31/03/2024  3.834\n",
       "01/04/2024  3.835\n",
       "02/04/2024  3.819\n",
       "03/04/2024  3.417\n",
       "04/04/2024  3.479\n",
       "05/04/2024  4.412\n",
       "06/04/2024  3.287"
      ]
     },
     "execution_count": 5458,
     "metadata": {},
     "output_type": "execute_result"
    }
   ],
   "source": [
    "df"
   ]
  },
  {
   "cell_type": "code",
   "execution_count": 5459,
   "metadata": {},
   "outputs": [
    {
     "data": {
      "text/plain": [
       "(109229   2024-04-06 00:00:11.776052\n",
       " Name: dates, dtype: datetime64[ns],\n",
       " 112515   2024-04-06 23:07:59.890052\n",
       " Name: dates, dtype: datetime64[ns])"
      ]
     },
     "execution_count": 5459,
     "metadata": {},
     "output_type": "execute_result"
    }
   ],
   "source": [
    "conso_day.head(1).dates, conso_day.tail(1).dates\n"
   ]
  },
  {
   "cell_type": "code",
   "execution_count": 5460,
   "metadata": {},
   "outputs": [
    {
     "data": {
      "text/plain": [
       "109229   2024-04-06 00:00:11.776052\n",
       "109230   2024-04-06 00:00:38.905052\n",
       "109231   2024-04-06 00:01:05.499052\n",
       "109232   2024-04-06 00:01:31.435052\n",
       "109233   2024-04-06 00:01:57.524052\n",
       "                    ...            \n",
       "112511   2024-04-06 23:06:23.894052\n",
       "112512   2024-04-06 23:06:47.828052\n",
       "112513   2024-04-06 23:07:11.314052\n",
       "112514   2024-04-06 23:07:35.483052\n",
       "112515   2024-04-06 23:07:59.890052\n",
       "Name: dates, Length: 3287, dtype: datetime64[ns]"
      ]
     },
     "execution_count": 5460,
     "metadata": {},
     "output_type": "execute_result"
    }
   ],
   "source": [
    "conso_day.loc[:,'dates']"
   ]
  },
  {
   "cell_type": "code",
   "execution_count": 5461,
   "metadata": {},
   "outputs": [
    {
     "name": "stderr",
     "output_type": "stream",
     "text": [
      "C:\\Users\\jean\\AppData\\Local\\Temp\\ipykernel_14100\\2932063292.py:1: SettingWithCopyWarning: \n",
      "A value is trying to be set on a copy of a slice from a DataFrame.\n",
      "Try using .loc[row_indexer,col_indexer] = value instead\n",
      "\n",
      "See the caveats in the documentation: https://pandas.pydata.org/pandas-docs/stable/user_guide/indexing.html#returning-a-view-versus-a-copy\n",
      "  conso_day['heure']=conso_day.loc[:,'dates'].apply(lambda x: str(x.hour)+':'+str(x.minute) +':'+str(x.second))\n"
     ]
    },
    {
     "data": {
      "text/html": [
       "<div>\n",
       "<style scoped>\n",
       "    .dataframe tbody tr th:only-of-type {\n",
       "        vertical-align: middle;\n",
       "    }\n",
       "\n",
       "    .dataframe tbody tr th {\n",
       "        vertical-align: top;\n",
       "    }\n",
       "\n",
       "    .dataframe thead th {\n",
       "        text-align: right;\n",
       "    }\n",
       "</style>\n",
       "<table border=\"1\" class=\"dataframe\">\n",
       "  <thead>\n",
       "    <tr style=\"text-align: right;\">\n",
       "      <th></th>\n",
       "      <th>Interval</th>\n",
       "      <th>kWh</th>\n",
       "      <th>sec</th>\n",
       "      <th>Wh</th>\n",
       "      <th>cumul(ms)</th>\n",
       "      <th>dates</th>\n",
       "      <th>days</th>\n",
       "    </tr>\n",
       "    <tr>\n",
       "      <th>heure</th>\n",
       "      <th></th>\n",
       "      <th></th>\n",
       "      <th></th>\n",
       "      <th></th>\n",
       "      <th></th>\n",
       "      <th></th>\n",
       "      <th></th>\n",
       "    </tr>\n",
       "  </thead>\n",
       "  <tbody>\n",
       "    <tr>\n",
       "      <th>0:0:11</th>\n",
       "      <td>27144</td>\n",
       "      <td>0.13</td>\n",
       "      <td>27.144</td>\n",
       "      <td>132.625995</td>\n",
       "      <td>2586135505</td>\n",
       "      <td>2024-04-06 00:00:11.776052</td>\n",
       "      <td>06/04/2024</td>\n",
       "    </tr>\n",
       "    <tr>\n",
       "      <th>0:0:38</th>\n",
       "      <td>27129</td>\n",
       "      <td>0.13</td>\n",
       "      <td>27.129</td>\n",
       "      <td>132.699325</td>\n",
       "      <td>2586162634</td>\n",
       "      <td>2024-04-06 00:00:38.905052</td>\n",
       "      <td>06/04/2024</td>\n",
       "    </tr>\n",
       "    <tr>\n",
       "      <th>0:1:5</th>\n",
       "      <td>26594</td>\n",
       "      <td>0.14</td>\n",
       "      <td>26.594</td>\n",
       "      <td>135.368880</td>\n",
       "      <td>2586189228</td>\n",
       "      <td>2024-04-06 00:01:05.499052</td>\n",
       "      <td>06/04/2024</td>\n",
       "    </tr>\n",
       "    <tr>\n",
       "      <th>0:1:31</th>\n",
       "      <td>25936</td>\n",
       "      <td>0.14</td>\n",
       "      <td>25.936</td>\n",
       "      <td>138.803208</td>\n",
       "      <td>2586215164</td>\n",
       "      <td>2024-04-06 00:01:31.435052</td>\n",
       "      <td>06/04/2024</td>\n",
       "    </tr>\n",
       "    <tr>\n",
       "      <th>0:1:57</th>\n",
       "      <td>26089</td>\n",
       "      <td>0.14</td>\n",
       "      <td>26.089</td>\n",
       "      <td>137.989191</td>\n",
       "      <td>2586241253</td>\n",
       "      <td>2024-04-06 00:01:57.524052</td>\n",
       "      <td>06/04/2024</td>\n",
       "    </tr>\n",
       "    <tr>\n",
       "      <th>...</th>\n",
       "      <td>...</td>\n",
       "      <td>...</td>\n",
       "      <td>...</td>\n",
       "      <td>...</td>\n",
       "      <td>...</td>\n",
       "      <td>...</td>\n",
       "      <td>...</td>\n",
       "    </tr>\n",
       "    <tr>\n",
       "      <th>23:6:23</th>\n",
       "      <td>23765</td>\n",
       "      <td>0.15</td>\n",
       "      <td>23.765</td>\n",
       "      <td>151.483274</td>\n",
       "      <td>2669307623</td>\n",
       "      <td>2024-04-06 23:06:23.894052</td>\n",
       "      <td>06/04/2024</td>\n",
       "    </tr>\n",
       "    <tr>\n",
       "      <th>23:6:47</th>\n",
       "      <td>23934</td>\n",
       "      <td>0.15</td>\n",
       "      <td>23.934</td>\n",
       "      <td>150.413638</td>\n",
       "      <td>2669331557</td>\n",
       "      <td>2024-04-06 23:06:47.828052</td>\n",
       "      <td>06/04/2024</td>\n",
       "    </tr>\n",
       "    <tr>\n",
       "      <th>23:7:11</th>\n",
       "      <td>23486</td>\n",
       "      <td>0.15</td>\n",
       "      <td>23.486</td>\n",
       "      <td>153.282807</td>\n",
       "      <td>2669355043</td>\n",
       "      <td>2024-04-06 23:07:11.314052</td>\n",
       "      <td>06/04/2024</td>\n",
       "    </tr>\n",
       "    <tr>\n",
       "      <th>23:7:35</th>\n",
       "      <td>24169</td>\n",
       "      <td>0.15</td>\n",
       "      <td>24.169</td>\n",
       "      <td>148.951136</td>\n",
       "      <td>2669379212</td>\n",
       "      <td>2024-04-06 23:07:35.483052</td>\n",
       "      <td>06/04/2024</td>\n",
       "    </tr>\n",
       "    <tr>\n",
       "      <th>23:7:59</th>\n",
       "      <td>24407</td>\n",
       "      <td>0.15</td>\n",
       "      <td>24.407</td>\n",
       "      <td>147.498668</td>\n",
       "      <td>2669403619</td>\n",
       "      <td>2024-04-06 23:07:59.890052</td>\n",
       "      <td>06/04/2024</td>\n",
       "    </tr>\n",
       "  </tbody>\n",
       "</table>\n",
       "<p>3287 rows × 7 columns</p>\n",
       "</div>"
      ],
      "text/plain": [
       "         Interval   kWh     sec          Wh   cumul(ms)  \\\n",
       "heure                                                     \n",
       "0:0:11      27144  0.13  27.144  132.625995  2586135505   \n",
       "0:0:38      27129  0.13  27.129  132.699325  2586162634   \n",
       "0:1:5       26594  0.14  26.594  135.368880  2586189228   \n",
       "0:1:31      25936  0.14  25.936  138.803208  2586215164   \n",
       "0:1:57      26089  0.14  26.089  137.989191  2586241253   \n",
       "...           ...   ...     ...         ...         ...   \n",
       "23:6:23     23765  0.15  23.765  151.483274  2669307623   \n",
       "23:6:47     23934  0.15  23.934  150.413638  2669331557   \n",
       "23:7:11     23486  0.15  23.486  153.282807  2669355043   \n",
       "23:7:35     24169  0.15  24.169  148.951136  2669379212   \n",
       "23:7:59     24407  0.15  24.407  147.498668  2669403619   \n",
       "\n",
       "                             dates        days  \n",
       "heure                                           \n",
       "0:0:11  2024-04-06 00:00:11.776052  06/04/2024  \n",
       "0:0:38  2024-04-06 00:00:38.905052  06/04/2024  \n",
       "0:1:5   2024-04-06 00:01:05.499052  06/04/2024  \n",
       "0:1:31  2024-04-06 00:01:31.435052  06/04/2024  \n",
       "0:1:57  2024-04-06 00:01:57.524052  06/04/2024  \n",
       "...                            ...         ...  \n",
       "23:6:23 2024-04-06 23:06:23.894052  06/04/2024  \n",
       "23:6:47 2024-04-06 23:06:47.828052  06/04/2024  \n",
       "23:7:11 2024-04-06 23:07:11.314052  06/04/2024  \n",
       "23:7:35 2024-04-06 23:07:35.483052  06/04/2024  \n",
       "23:7:59 2024-04-06 23:07:59.890052  06/04/2024  \n",
       "\n",
       "[3287 rows x 7 columns]"
      ]
     },
     "execution_count": 5461,
     "metadata": {},
     "output_type": "execute_result"
    }
   ],
   "source": [
    "conso_day['heure']=conso_day.loc[:,'dates'].apply(lambda x: str(x.hour)+':'+str(x.minute) +':'+str(x.second))\n",
    "#=[x.hour for x in conso_day['dates']]\n",
    "conso_day\n",
    "df= conso_day.set_index('heure')\n",
    "df"
   ]
  },
  {
   "cell_type": "code",
   "execution_count": 5462,
   "metadata": {},
   "outputs": [
    {
     "data": {
      "text/plain": [
       "('23:08:17', 3.287)"
      ]
     },
     "execution_count": 5462,
     "metadata": {},
     "output_type": "execute_result"
    }
   ],
   "source": [
    "here = now.strftime('%H:%M:%S')\n",
    "here, len(df)/1000"
   ]
  },
  {
   "cell_type": "code",
   "execution_count": 5463,
   "metadata": {},
   "outputs": [
    {
     "data": {
      "text/plain": [
       "heure\n",
       "0:0:11     0.13\n",
       "0:0:38     0.13\n",
       "0:1:5      0.14\n",
       "0:1:31     0.14\n",
       "0:1:57     0.14\n",
       "           ... \n",
       "23:6:23    0.15\n",
       "23:6:47    0.15\n",
       "23:7:11    0.15\n",
       "23:7:35    0.15\n",
       "23:7:59    0.15\n",
       "Name: kWh, Length: 3287, dtype: float64"
      ]
     },
     "execution_count": 5463,
     "metadata": {},
     "output_type": "execute_result"
    }
   ],
   "source": [
    "df['kWh']"
   ]
  },
  {
   "cell_type": "code",
   "execution_count": 5464,
   "metadata": {},
   "outputs": [
    {
     "data": {
      "image/png": "[encoded data removed]",
      "text/plain": [
       "<Figure size 1500x700 with 1 Axes>"
      ]
     },
     "metadata": {},
     "output_type": "display_data"
    }
   ],
   "source": [
    "from matplotlib.ticker import (MultipleLocator, AutoMinorLocator)\n",
    "# consommation d'une journée entière à partir de minuit\n",
    "fig, ax = plt.subplots()\n",
    "major_ticks=300;minor_ticks=100\n",
    "ax.xaxis.set_major_locator(MultipleLocator(major_ticks))  # major ticks tous les 15 min\n",
    "ax.xaxis.set_minor_locator(MultipleLocator(minor_ticks))\n",
    "# the size of A4 paper\n",
    "fig.set_size_inches(15, 7)\n",
    "plt.plot(df['kWh'])\n",
    "#plt.plot(conso_day['heure'],conso_day['kWh'])\n",
    "plt.title(f'Journée du {day} {here} : {conso_jour/1000} kwh')\n",
    "plt.grid()"
   ]
  },
  {
   "cell_type": "code",
   "execution_count": 5465,
   "metadata": {},
   "outputs": [],
   "source": [
    "df['power']=[y for x,y in zip(df['Interval'],df['kWh'])]"
   ]
  },
  {
   "cell_type": "code",
   "execution_count": 5466,
   "metadata": {},
   "outputs": [
    {
     "data": {
      "text/plain": [
       "heure\n",
       "0:0:11     0.13\n",
       "0:0:38     0.13\n",
       "0:1:5      0.14\n",
       "0:1:31     0.14\n",
       "0:1:57     0.14\n",
       "           ... \n",
       "23:6:23    0.15\n",
       "23:6:47    0.15\n",
       "23:7:11    0.15\n",
       "23:7:35    0.15\n",
       "23:7:59    0.15\n",
       "Name: power, Length: 3287, dtype: float64"
      ]
     },
     "execution_count": 5466,
     "metadata": {},
     "output_type": "execute_result"
    }
   ],
   "source": [
    "df['power']"
   ]
  },
  {
   "cell_type": "code",
   "execution_count": 5467,
   "metadata": {},
   "outputs": [
    {
     "data": {
      "text/plain": [
       "<Axes: xlabel='heure'>"
      ]
     },
     "execution_count": 5467,
     "metadata": {},
     "output_type": "execute_result"
    },
    {
     "data": {
      "image/png": "[encoded data removed]",
      "text/plain": [
       "<Figure size 640x480 with 1 Axes>"
      ]
     },
     "metadata": {},
     "output_type": "display_data"
    }
   ],
   "source": [
    "evo=df['power'].cumsum()\n",
    "evo.plot()"
   ]
  },
  {
   "cell_type": "code",
   "execution_count": 5468,
   "metadata": {},
   "outputs": [
    {
     "data": {
      "text/plain": [
       "149"
      ]
     },
     "execution_count": 5468,
     "metadata": {},
     "output_type": "execute_result"
    },
    {
     "data": {
      "image/png": "[encoded data removed]",
      "text/plain": [
       "<Figure size 640x480 with 1 Axes>"
      ]
     },
     "metadata": {},
     "output_type": "display_data"
    }
   ],
   "source": [
    "# bouilloire, microondes, four\n",
    "filter=(.5<df['kWh'])\n",
    "pic_high = df[filter]\n",
    "pic_high['kWh'].plot()\n",
    "len(pic_high)"
   ]
  },
  {
   "cell_type": "markdown",
   "metadata": {},
   "source": []
  },
  {
   "cell_type": "code",
   "execution_count": 5469,
   "metadata": {},
   "outputs": [
    {
     "data": {
      "text/plain": [
       "2439"
      ]
     },
     "execution_count": 5469,
     "metadata": {},
     "output_type": "execute_result"
    },
    {
     "data": {
      "image/png": "[encoded data removed]",
      "text/plain": [
       "<Figure size 640x480 with 1 Axes>"
      ]
     },
     "metadata": {},
     "output_type": "display_data"
    }
   ],
   "source": [
    "# frigo, moteur volet\n",
    "pic_middle = df[(0.1<df['kWh']) & (df['kWh']<=.5)]\n",
    "pic_middle['kWh'].plot()\n",
    "len(pic_middle) # wh"
   ]
  },
  {
   "cell_type": "code",
   "execution_count": 5470,
   "metadata": {},
   "outputs": [
    {
     "data": {
      "text/plain": [
       "3138"
      ]
     },
     "execution_count": 5470,
     "metadata": {},
     "output_type": "execute_result"
    },
    {
     "data": {
      "image/png": "[encoded data removed]",
      "text/plain": [
       "<Figure size 640x480 with 1 Axes>"
      ]
     },
     "metadata": {},
     "output_type": "display_data"
    }
   ],
   "source": [
    "# pics frigo par jour\n",
    "filter = (df['kWh']<=0.5)\n",
    "pic_low = df[filter]\n",
    "pic_low['kWh'].plot()\n",
    "len(pic_low) # wh"
   ]
  },
  {
   "cell_type": "code",
   "execution_count": 5471,
   "metadata": {},
   "outputs": [
    {
     "data": {
      "text/plain": [
       "0        2024-03-07 01:38:22.560052\n",
       "1        2024-03-07 01:38:48.803052\n",
       "2        2024-03-07 01:39:14.688052\n",
       "3        2024-03-07 01:39:40.442052\n",
       "4        2024-03-07 01:40:06.216052\n",
       "                    ...            \n",
       "112511   2024-04-06 23:06:23.894052\n",
       "112512   2024-04-06 23:06:47.828052\n",
       "112513   2024-04-06 23:07:11.314052\n",
       "112514   2024-04-06 23:07:35.483052\n",
       "112515   2024-04-06 23:07:59.890052\n",
       "Name: dates, Length: 112516, dtype: datetime64[ns]"
      ]
     },
     "execution_count": 5471,
     "metadata": {},
     "output_type": "execute_result"
    }
   ],
   "source": [
    "time = conso_data['dates']\n",
    "time\n"
   ]
  },
  {
   "cell_type": "code",
   "execution_count": 5472,
   "metadata": {},
   "outputs": [],
   "source": [
    "def format_date(space=3):\n",
    "    plt.gca().xaxis.set_major_formatter(mdates.DateFormatter('%d/%m\\n%H:%M'))\n",
    "    plt.gca().xaxis.set_major_locator(mdates.HourLocator(space))\n",
    "    #plt.gca().xaxis.set_major_locator(mdates.HourLocator(interval=space))\n",
    "    plt.gcf().autofmt_xdate()\n",
    "    plt.grid()"
   ]
  },
  {
   "cell_type": "code",
   "execution_count": 5473,
   "metadata": {},
   "outputs": [],
   "source": [
    "if not old:\n",
    "    major_ticks=1/60;minor_ticks=1/240  # plus de ticks, 4 fois plus de minor\n",
    "    major_ticks=1/30;minor_ticks=1/120   # moins de ticks\n",
    "    major_ticks=1/15;minor_ticks=1/60\n",
    "    major_ticks=1/2;minor_ticks=1/8\n",
    "else:\n",
    "    major_ticks=4;minor_ticks=1   # encore moins si int\n"
   ]
  },
  {
   "cell_type": "code",
   "execution_count": 5474,
   "metadata": {},
   "outputs": [
    {
     "data": {
      "text/plain": [
       "(4, 1)"
      ]
     },
     "execution_count": 5474,
     "metadata": {},
     "output_type": "execute_result"
    }
   ],
   "source": [
    "major_ticks=4;minor_ticks=1\n",
    "major_ticks,minor_ticks"
   ]
  },
  {
   "cell_type": "markdown",
   "metadata": {},
   "source": [
    "## Main graph"
   ]
  },
  {
   "cell_type": "code",
   "execution_count": 5475,
   "metadata": {},
   "outputs": [
    {
     "data": {
      "image/png": "[encoded data removed]",
      "text/plain": [
       "<Figure size 2500x1000 with 1 Axes>"
      ]
     },
     "metadata": {},
     "output_type": "display_data"
    }
   ],
   "source": [
    "\n",
    "from matplotlib.dates import (YEARLY, DateFormatter,rrulewrapper, RRuleLocator, drange)\n",
    "\n",
    "def show_graph():\n",
    "    fig, ax = plt.subplots()\n",
    "    # the size of A4 paper\n",
    "    fig.set_size_inches(25, 10)\n",
    "\n",
    "    #plt.rcParams['axes.autolimit_mode'] = 'round_numbers'\n",
    "    \n",
    "    #formatter = DateFormatter('%d/%m\\n%H:%M:%S')\n",
    "    formatter = DateFormatter('%d/%m\\n%H:%M')\n",
    "    ax.xaxis.set_major_formatter(formatter)\n",
    "\n",
    "    # ticks sur axe des x\n",
    "    ax.xaxis.set_major_locator(MultipleLocator(major_ticks))  # major ticks tous les 15 min\n",
    "    ax.xaxis.set_minor_locator(MultipleLocator(minor_ticks))  # minor ticks tous les 5 min\n",
    "    ax.tick_params(which='both', width=3)\n",
    "    ax.tick_params(which='major', length=15, color='r')\n",
    "    ax.tick_params(which='minor', length=8, color='b')\n",
    "\n",
    "    #plt.plot(conso_data['cumul(ms)']/3600000,conso_data['Wh'])\n",
    "    plt.plot(time,conso_data['Wh'])\n",
    "    plt.ylabel('Wh')\n",
    "    plt.xlabel('Time (heures)')\n",
    "    #format_date(10)\n",
    "    for label in ax.get_xticklabels():\n",
    "        label.set_rotation(40)\n",
    "        label.set_horizontalalignment('right')\n",
    "\n",
    "    #fig.autofmt_xdate()\n",
    "    \n",
    "    plt.grid()\n",
    "    plt.show()\n",
    "show_graph()"
   ]
  },
  {
   "cell_type": "code",
   "execution_count": 5476,
   "metadata": {},
   "outputs": [
    {
     "data": {
      "text/html": [
       "<div>\n",
       "<style scoped>\n",
       "    .dataframe tbody tr th:only-of-type {\n",
       "        vertical-align: middle;\n",
       "    }\n",
       "\n",
       "    .dataframe tbody tr th {\n",
       "        vertical-align: top;\n",
       "    }\n",
       "\n",
       "    .dataframe thead th {\n",
       "        text-align: right;\n",
       "    }\n",
       "</style>\n",
       "<table border=\"1\" class=\"dataframe\">\n",
       "  <thead>\n",
       "    <tr style=\"text-align: right;\">\n",
       "      <th></th>\n",
       "      <th>Interval</th>\n",
       "      <th>kWh</th>\n",
       "      <th>sec</th>\n",
       "      <th>Wh</th>\n",
       "      <th>cumul(ms)</th>\n",
       "      <th>dates</th>\n",
       "      <th>days</th>\n",
       "    </tr>\n",
       "  </thead>\n",
       "  <tbody>\n",
       "    <tr>\n",
       "      <th>112515</th>\n",
       "      <td>24407</td>\n",
       "      <td>0.15</td>\n",
       "      <td>24.407</td>\n",
       "      <td>147.498668</td>\n",
       "      <td>2669403619</td>\n",
       "      <td>2024-04-06 23:07:59.890052</td>\n",
       "      <td>06/04/2024</td>\n",
       "    </tr>\n",
       "  </tbody>\n",
       "</table>\n",
       "</div>"
      ],
      "text/plain": [
       "        Interval   kWh     sec          Wh   cumul(ms)  \\\n",
       "112515     24407  0.15  24.407  147.498668  2669403619   \n",
       "\n",
       "                            dates        days  \n",
       "112515 2024-04-06 23:07:59.890052  06/04/2024  "
      ]
     },
     "execution_count": 5476,
     "metadata": {},
     "output_type": "execute_result"
    }
   ],
   "source": [
    "cumul_conso = len(conso_data)\n",
    "conso_data.tail(1)"
   ]
  },
  {
   "cell_type": "code",
   "execution_count": 5477,
   "metadata": {},
   "outputs": [
    {
     "data": {
      "text/plain": [
       "2669403619000"
      ]
     },
     "execution_count": 5477,
     "metadata": {},
     "output_type": "execute_result"
    }
   ],
   "source": [
    "cumtime= int(conso_data._get_value(l,'cumul(ms)')*1000)\n",
    "cumtime"
   ]
  },
  {
   "cell_type": "markdown",
   "metadata": {},
   "source": [
    "# Slice of last 1 kWh"
   ]
  },
  {
   "cell_type": "code",
   "execution_count": 5478,
   "metadata": {},
   "outputs": [
    {
     "data": {
      "text/plain": [
       "112516"
      ]
     },
     "execution_count": 5478,
     "metadata": {},
     "output_type": "execute_result"
    }
   ],
   "source": [
    "l = len(conso_data)  # total watt consommés\n",
    "l"
   ]
  },
  {
   "cell_type": "code",
   "execution_count": 5479,
   "metadata": {},
   "outputs": [
    {
     "data": {
      "text/plain": [
       "(112516, 1000)"
      ]
     },
     "execution_count": 5479,
     "metadata": {},
     "output_type": "execute_result"
    }
   ],
   "source": [
    "k = 1\n",
    "taille = k*1000  # fenetre k*1000 watt consommés\n",
    "l,taille"
   ]
  },
  {
   "cell_type": "code",
   "execution_count": 5480,
   "metadata": {},
   "outputs": [
    {
     "data": {
      "text/plain": [
       "1000"
      ]
     },
     "execution_count": 5480,
     "metadata": {},
     "output_type": "execute_result"
    }
   ],
   "source": [
    "if l<1000:\n",
    "    part = 1\n",
    "else: part = 1/2\n",
    "#taille = int(part*l)\n",
    "taille"
   ]
  },
  {
   "cell_type": "code",
   "execution_count": 5481,
   "metadata": {},
   "outputs": [
    {
     "data": {
      "text/plain": [
       "(1000,\n",
       "         Interval   kWh     sec          Wh   cumul(ms)  \\\n",
       " 111516     22686  0.16  22.686  158.688178  2647988434   \n",
       " 111517     22912  0.16  22.912  157.122905  2648011346   \n",
       " 111518     22754  0.16  22.754  158.213940  2648034100   \n",
       " 111519     22991  0.16  22.991  156.583011  2648057091   \n",
       " 111520     22768  0.16  22.768  158.116655  2648079859   \n",
       " ...          ...   ...     ...         ...         ...   \n",
       " 112511     23765  0.15  23.765  151.483274  2669307623   \n",
       " 112512     23934  0.15  23.934  150.413638  2669331557   \n",
       " 112513     23486  0.15  23.486  153.282807  2669355043   \n",
       " 112514     24169  0.15  24.169  148.951136  2669379212   \n",
       " 112515     24407  0.15  24.407  147.498668  2669403619   \n",
       " \n",
       "                             dates        days  \n",
       " 111516 2024-04-06 17:11:04.705052  06/04/2024  \n",
       " 111517 2024-04-06 17:11:27.617052  06/04/2024  \n",
       " 111518 2024-04-06 17:11:50.371052  06/04/2024  \n",
       " 111519 2024-04-06 17:12:13.362052  06/04/2024  \n",
       " 111520 2024-04-06 17:12:36.130052  06/04/2024  \n",
       " ...                           ...         ...  \n",
       " 112511 2024-04-06 23:06:23.894052  06/04/2024  \n",
       " 112512 2024-04-06 23:06:47.828052  06/04/2024  \n",
       " 112513 2024-04-06 23:07:11.314052  06/04/2024  \n",
       " 112514 2024-04-06 23:07:35.483052  06/04/2024  \n",
       " 112515 2024-04-06 23:07:59.890052  06/04/2024  \n",
       " \n",
       " [1000 rows x 7 columns])"
      ]
     },
     "execution_count": 5481,
     "metadata": {},
     "output_type": "execute_result"
    }
   ],
   "source": [
    "data = conso_data.tail(taille)\n",
    "len(data),data"
   ]
  },
  {
   "cell_type": "code",
   "execution_count": 5482,
   "metadata": {},
   "outputs": [],
   "source": [
    "now = datetime.now()\n",
    "# conso.csv dynamique\n",
    "cumtime_start= int(conso_data._get_value(l-taille+1,'cumul(ms)')*1000) # conversion microseconds\n"
   ]
  },
  {
   "cell_type": "code",
   "execution_count": 5483,
   "metadata": {},
   "outputs": [],
   "source": [
    "cumtime_end= int(data._get_value(l-1,'cumul(ms)')*1000) # conversion microseconds\n"
   ]
  },
  {
   "cell_type": "code",
   "execution_count": 5484,
   "metadata": {},
   "outputs": [
    {
     "data": {
      "text/plain": [
       "(2669403619000, 2648011346000)"
      ]
     },
     "execution_count": 5484,
     "metadata": {},
     "output_type": "execute_result"
    }
   ],
   "source": [
    "cumtime_end,cumtime_start"
   ]
  },
  {
   "cell_type": "code",
   "execution_count": 5485,
   "metadata": {},
   "outputs": [
    {
     "data": {
      "text/plain": [
       "21392273000"
      ]
     },
     "execution_count": 5485,
     "metadata": {},
     "output_type": "execute_result"
    }
   ],
   "source": [
    "#last_interval = int(data._get_value(l,'Interval')*1000) # conversion microseconds\n",
    "delta_cumtime = cumtime_end - cumtime_start #+ last_interval\n",
    "delta_cumtime"
   ]
  },
  {
   "cell_type": "code",
   "execution_count": 5486,
   "metadata": {},
   "outputs": [
    {
     "data": {
      "text/plain": [
       "(datetime.datetime(2024, 4, 6, 23, 8, 48, 572790),\n",
       " datetime.datetime(2024, 4, 6, 17, 12, 16, 299790),\n",
       " '06/04/2024 23:07:59')"
      ]
     },
     "execution_count": 5486,
     "metadata": {},
     "output_type": "execute_result"
    }
   ],
   "source": [
    "\n",
    "base = now - timedelta(microseconds=delta_cumtime)\n",
    "now,base, data['dates'][l-1].strftime('%d/%m/%Y %H:%M:%S')\n"
   ]
  },
  {
   "cell_type": "code",
   "execution_count": 5487,
   "metadata": {},
   "outputs": [
    {
     "data": {
      "text/html": [
       "<div>\n",
       "<style scoped>\n",
       "    .dataframe tbody tr th:only-of-type {\n",
       "        vertical-align: middle;\n",
       "    }\n",
       "\n",
       "    .dataframe tbody tr th {\n",
       "        vertical-align: top;\n",
       "    }\n",
       "\n",
       "    .dataframe thead th {\n",
       "        text-align: right;\n",
       "    }\n",
       "</style>\n",
       "<table border=\"1\" class=\"dataframe\">\n",
       "  <thead>\n",
       "    <tr style=\"text-align: right;\">\n",
       "      <th></th>\n",
       "      <th>Interval</th>\n",
       "      <th>kWh</th>\n",
       "      <th>sec</th>\n",
       "      <th>Wh</th>\n",
       "      <th>cumul(ms)</th>\n",
       "      <th>dates</th>\n",
       "      <th>days</th>\n",
       "    </tr>\n",
       "  </thead>\n",
       "  <tbody>\n",
       "    <tr>\n",
       "      <th>0</th>\n",
       "      <td>26289</td>\n",
       "      <td>0.14</td>\n",
       "      <td>26.289</td>\n",
       "      <td>136.939404</td>\n",
       "      <td>26289</td>\n",
       "      <td>2024-03-07 01:38:22.560052</td>\n",
       "      <td>07/03/2024</td>\n",
       "    </tr>\n",
       "    <tr>\n",
       "      <th>1</th>\n",
       "      <td>26243</td>\n",
       "      <td>0.14</td>\n",
       "      <td>26.243</td>\n",
       "      <td>137.179438</td>\n",
       "      <td>52532</td>\n",
       "      <td>2024-03-07 01:38:48.803052</td>\n",
       "      <td>07/03/2024</td>\n",
       "    </tr>\n",
       "    <tr>\n",
       "      <th>2</th>\n",
       "      <td>25885</td>\n",
       "      <td>0.14</td>\n",
       "      <td>25.885</td>\n",
       "      <td>139.076685</td>\n",
       "      <td>78417</td>\n",
       "      <td>2024-03-07 01:39:14.688052</td>\n",
       "      <td>07/03/2024</td>\n",
       "    </tr>\n",
       "    <tr>\n",
       "      <th>3</th>\n",
       "      <td>25754</td>\n",
       "      <td>0.14</td>\n",
       "      <td>25.754</td>\n",
       "      <td>139.784111</td>\n",
       "      <td>104171</td>\n",
       "      <td>2024-03-07 01:39:40.442052</td>\n",
       "      <td>07/03/2024</td>\n",
       "    </tr>\n",
       "    <tr>\n",
       "      <th>4</th>\n",
       "      <td>25774</td>\n",
       "      <td>0.14</td>\n",
       "      <td>25.774</td>\n",
       "      <td>139.675642</td>\n",
       "      <td>129945</td>\n",
       "      <td>2024-03-07 01:40:06.216052</td>\n",
       "      <td>07/03/2024</td>\n",
       "    </tr>\n",
       "    <tr>\n",
       "      <th>...</th>\n",
       "      <td>...</td>\n",
       "      <td>...</td>\n",
       "      <td>...</td>\n",
       "      <td>...</td>\n",
       "      <td>...</td>\n",
       "      <td>...</td>\n",
       "      <td>...</td>\n",
       "    </tr>\n",
       "    <tr>\n",
       "      <th>112511</th>\n",
       "      <td>23765</td>\n",
       "      <td>0.15</td>\n",
       "      <td>23.765</td>\n",
       "      <td>151.483274</td>\n",
       "      <td>2669307623</td>\n",
       "      <td>2024-04-06 23:06:23.894052</td>\n",
       "      <td>06/04/2024</td>\n",
       "    </tr>\n",
       "    <tr>\n",
       "      <th>112512</th>\n",
       "      <td>23934</td>\n",
       "      <td>0.15</td>\n",
       "      <td>23.934</td>\n",
       "      <td>150.413638</td>\n",
       "      <td>2669331557</td>\n",
       "      <td>2024-04-06 23:06:47.828052</td>\n",
       "      <td>06/04/2024</td>\n",
       "    </tr>\n",
       "    <tr>\n",
       "      <th>112513</th>\n",
       "      <td>23486</td>\n",
       "      <td>0.15</td>\n",
       "      <td>23.486</td>\n",
       "      <td>153.282807</td>\n",
       "      <td>2669355043</td>\n",
       "      <td>2024-04-06 23:07:11.314052</td>\n",
       "      <td>06/04/2024</td>\n",
       "    </tr>\n",
       "    <tr>\n",
       "      <th>112514</th>\n",
       "      <td>24169</td>\n",
       "      <td>0.15</td>\n",
       "      <td>24.169</td>\n",
       "      <td>148.951136</td>\n",
       "      <td>2669379212</td>\n",
       "      <td>2024-04-06 23:07:35.483052</td>\n",
       "      <td>06/04/2024</td>\n",
       "    </tr>\n",
       "    <tr>\n",
       "      <th>112515</th>\n",
       "      <td>24407</td>\n",
       "      <td>0.15</td>\n",
       "      <td>24.407</td>\n",
       "      <td>147.498668</td>\n",
       "      <td>2669403619</td>\n",
       "      <td>2024-04-06 23:07:59.890052</td>\n",
       "      <td>06/04/2024</td>\n",
       "    </tr>\n",
       "  </tbody>\n",
       "</table>\n",
       "<p>112516 rows × 7 columns</p>\n",
       "</div>"
      ],
      "text/plain": [
       "        Interval   kWh     sec          Wh   cumul(ms)  \\\n",
       "0          26289  0.14  26.289  136.939404       26289   \n",
       "1          26243  0.14  26.243  137.179438       52532   \n",
       "2          25885  0.14  25.885  139.076685       78417   \n",
       "3          25754  0.14  25.754  139.784111      104171   \n",
       "4          25774  0.14  25.774  139.675642      129945   \n",
       "...          ...   ...     ...         ...         ...   \n",
       "112511     23765  0.15  23.765  151.483274  2669307623   \n",
       "112512     23934  0.15  23.934  150.413638  2669331557   \n",
       "112513     23486  0.15  23.486  153.282807  2669355043   \n",
       "112514     24169  0.15  24.169  148.951136  2669379212   \n",
       "112515     24407  0.15  24.407  147.498668  2669403619   \n",
       "\n",
       "                            dates        days  \n",
       "0      2024-03-07 01:38:22.560052  07/03/2024  \n",
       "1      2024-03-07 01:38:48.803052  07/03/2024  \n",
       "2      2024-03-07 01:39:14.688052  07/03/2024  \n",
       "3      2024-03-07 01:39:40.442052  07/03/2024  \n",
       "4      2024-03-07 01:40:06.216052  07/03/2024  \n",
       "...                           ...         ...  \n",
       "112511 2024-04-06 23:06:23.894052  06/04/2024  \n",
       "112512 2024-04-06 23:06:47.828052  06/04/2024  \n",
       "112513 2024-04-06 23:07:11.314052  06/04/2024  \n",
       "112514 2024-04-06 23:07:35.483052  06/04/2024  \n",
       "112515 2024-04-06 23:07:59.890052  06/04/2024  \n",
       "\n",
       "[112516 rows x 7 columns]"
      ]
     },
     "execution_count": 5487,
     "metadata": {},
     "output_type": "execute_result"
    }
   ],
   "source": [
    "conso_data"
   ]
  },
  {
   "cell_type": "code",
   "execution_count": 5488,
   "metadata": {},
   "outputs": [
    {
     "data": {
      "text/plain": [
       "('06/04/2024 17:11:27', '06/04/2024 23:07:59')"
      ]
     },
     "execution_count": 5488,
     "metadata": {},
     "output_type": "execute_result"
    }
   ],
   "source": [
    "end = conso_data['dates'][l-1].strftime('%d/%m/%Y %H:%M:%S')\n",
    "start = conso_data['dates'][l-taille+1].strftime('%d/%m/%Y %H:%M:%S')\n",
    "start,end"
   ]
  },
  {
   "cell_type": "code",
   "execution_count": 5489,
   "metadata": {},
   "outputs": [
    {
     "data": {
      "text/plain": [
       "('2024-04-06 17:11:04.705052', '2024-04-06 23:07:59.890052')"
      ]
     },
     "execution_count": 5489,
     "metadata": {},
     "output_type": "execute_result"
    }
   ],
   "source": [
    "data.head(1)['dates'].to_string(index=False),data.tail(1)['dates'].to_string(index=False)"
   ]
  },
  {
   "cell_type": "code",
   "execution_count": 5490,
   "metadata": {},
   "outputs": [
    {
     "data": {
      "text/plain": [
       "1"
      ]
     },
     "execution_count": 5490,
     "metadata": {},
     "output_type": "execute_result"
    }
   ],
   "source": [
    "k"
   ]
  },
  {
   "cell_type": "code",
   "execution_count": 5491,
   "metadata": {},
   "outputs": [
    {
     "data": {
      "text/plain": [
       "111516    22686\n",
       "111517    22912\n",
       "111518    22754\n",
       "111519    22991\n",
       "111520    22768\n",
       "          ...  \n",
       "112511    23765\n",
       "112512    23934\n",
       "112513    23486\n",
       "112514    24169\n",
       "112515    24407\n",
       "Name: Interval, Length: 1000, dtype: int64"
      ]
     },
     "execution_count": 5491,
     "metadata": {},
     "output_type": "execute_result"
    }
   ],
   "source": [
    "data.Interval.tail(1000)"
   ]
  },
  {
   "cell_type": "code",
   "execution_count": 5492,
   "metadata": {},
   "outputs": [
    {
     "data": {
      "text/plain": [
       "(5.9549641666666675, 4.030250951691984, 5, 57, 17)"
      ]
     },
     "execution_count": 5492,
     "metadata": {},
     "output_type": "execute_result"
    }
   ],
   "source": [
    "conversion_us_heure = 1/1000/60/60 \n",
    "temps_1kWh = sum(data.Interval.tail(1000))*conversion_us_heure  #somme 1000 interval = temps conso 1 kWh\n",
    "conso_jour = 24/temps_1kWh\n",
    "heure = int(temps_1kWh)\n",
    "mn = (temps_1kWh - heure)*60\n",
    "sec = (mn - int(mn))*60\n",
    "temps_1kWh, conso_jour,heure,int(mn),int(sec)"
   ]
  },
  {
   "cell_type": "code",
   "execution_count": 5493,
   "metadata": {},
   "outputs": [
    {
     "name": "stderr",
     "output_type": "stream",
     "text": [
      "C:\\Users\\jean\\AppData\\Local\\Temp\\ipykernel_14100\\3458501435.py:1: SettingWithCopyWarning: \n",
      "A value is trying to be set on a copy of a slice from a DataFrame.\n",
      "Try using .loc[row_indexer,col_indexer] = value instead\n",
      "\n",
      "See the caveats in the documentation: https://pandas.pydata.org/pandas-docs/stable/user_guide/indexing.html#returning-a-view-versus-a-copy\n",
      "  data['heure']=conso_data['dates']#.strftime('%d/%m/%Y %H:%M:%S')\n"
     ]
    }
   ],
   "source": [
    "data['heure']=conso_data['dates']#.strftime('%d/%m/%Y %H:%M:%S')"
   ]
  },
  {
   "cell_type": "code",
   "execution_count": 5494,
   "metadata": {},
   "outputs": [
    {
     "data": {
      "text/html": [
       "<div>\n",
       "<style scoped>\n",
       "    .dataframe tbody tr th:only-of-type {\n",
       "        vertical-align: middle;\n",
       "    }\n",
       "\n",
       "    .dataframe tbody tr th {\n",
       "        vertical-align: top;\n",
       "    }\n",
       "\n",
       "    .dataframe thead th {\n",
       "        text-align: right;\n",
       "    }\n",
       "</style>\n",
       "<table border=\"1\" class=\"dataframe\">\n",
       "  <thead>\n",
       "    <tr style=\"text-align: right;\">\n",
       "      <th></th>\n",
       "      <th>Interval</th>\n",
       "      <th>kWh</th>\n",
       "      <th>sec</th>\n",
       "      <th>Wh</th>\n",
       "      <th>cumul(ms)</th>\n",
       "      <th>dates</th>\n",
       "      <th>days</th>\n",
       "      <th>heure</th>\n",
       "    </tr>\n",
       "  </thead>\n",
       "  <tbody>\n",
       "    <tr>\n",
       "      <th>111516</th>\n",
       "      <td>22686</td>\n",
       "      <td>0.16</td>\n",
       "      <td>22.686</td>\n",
       "      <td>158.688178</td>\n",
       "      <td>2647988434</td>\n",
       "      <td>2024-04-06 17:11:04.705052</td>\n",
       "      <td>06/04/2024</td>\n",
       "      <td>2024-04-06 17:11:04.705052</td>\n",
       "    </tr>\n",
       "    <tr>\n",
       "      <th>111517</th>\n",
       "      <td>22912</td>\n",
       "      <td>0.16</td>\n",
       "      <td>22.912</td>\n",
       "      <td>157.122905</td>\n",
       "      <td>2648011346</td>\n",
       "      <td>2024-04-06 17:11:27.617052</td>\n",
       "      <td>06/04/2024</td>\n",
       "      <td>2024-04-06 17:11:27.617052</td>\n",
       "    </tr>\n",
       "    <tr>\n",
       "      <th>111518</th>\n",
       "      <td>22754</td>\n",
       "      <td>0.16</td>\n",
       "      <td>22.754</td>\n",
       "      <td>158.213940</td>\n",
       "      <td>2648034100</td>\n",
       "      <td>2024-04-06 17:11:50.371052</td>\n",
       "      <td>06/04/2024</td>\n",
       "      <td>2024-04-06 17:11:50.371052</td>\n",
       "    </tr>\n",
       "    <tr>\n",
       "      <th>111519</th>\n",
       "      <td>22991</td>\n",
       "      <td>0.16</td>\n",
       "      <td>22.991</td>\n",
       "      <td>156.583011</td>\n",
       "      <td>2648057091</td>\n",
       "      <td>2024-04-06 17:12:13.362052</td>\n",
       "      <td>06/04/2024</td>\n",
       "      <td>2024-04-06 17:12:13.362052</td>\n",
       "    </tr>\n",
       "    <tr>\n",
       "      <th>111520</th>\n",
       "      <td>22768</td>\n",
       "      <td>0.16</td>\n",
       "      <td>22.768</td>\n",
       "      <td>158.116655</td>\n",
       "      <td>2648079859</td>\n",
       "      <td>2024-04-06 17:12:36.130052</td>\n",
       "      <td>06/04/2024</td>\n",
       "      <td>2024-04-06 17:12:36.130052</td>\n",
       "    </tr>\n",
       "    <tr>\n",
       "      <th>...</th>\n",
       "      <td>...</td>\n",
       "      <td>...</td>\n",
       "      <td>...</td>\n",
       "      <td>...</td>\n",
       "      <td>...</td>\n",
       "      <td>...</td>\n",
       "      <td>...</td>\n",
       "      <td>...</td>\n",
       "    </tr>\n",
       "    <tr>\n",
       "      <th>112511</th>\n",
       "      <td>23765</td>\n",
       "      <td>0.15</td>\n",
       "      <td>23.765</td>\n",
       "      <td>151.483274</td>\n",
       "      <td>2669307623</td>\n",
       "      <td>2024-04-06 23:06:23.894052</td>\n",
       "      <td>06/04/2024</td>\n",
       "      <td>2024-04-06 23:06:23.894052</td>\n",
       "    </tr>\n",
       "    <tr>\n",
       "      <th>112512</th>\n",
       "      <td>23934</td>\n",
       "      <td>0.15</td>\n",
       "      <td>23.934</td>\n",
       "      <td>150.413638</td>\n",
       "      <td>2669331557</td>\n",
       "      <td>2024-04-06 23:06:47.828052</td>\n",
       "      <td>06/04/2024</td>\n",
       "      <td>2024-04-06 23:06:47.828052</td>\n",
       "    </tr>\n",
       "    <tr>\n",
       "      <th>112513</th>\n",
       "      <td>23486</td>\n",
       "      <td>0.15</td>\n",
       "      <td>23.486</td>\n",
       "      <td>153.282807</td>\n",
       "      <td>2669355043</td>\n",
       "      <td>2024-04-06 23:07:11.314052</td>\n",
       "      <td>06/04/2024</td>\n",
       "      <td>2024-04-06 23:07:11.314052</td>\n",
       "    </tr>\n",
       "    <tr>\n",
       "      <th>112514</th>\n",
       "      <td>24169</td>\n",
       "      <td>0.15</td>\n",
       "      <td>24.169</td>\n",
       "      <td>148.951136</td>\n",
       "      <td>2669379212</td>\n",
       "      <td>2024-04-06 23:07:35.483052</td>\n",
       "      <td>06/04/2024</td>\n",
       "      <td>2024-04-06 23:07:35.483052</td>\n",
       "    </tr>\n",
       "    <tr>\n",
       "      <th>112515</th>\n",
       "      <td>24407</td>\n",
       "      <td>0.15</td>\n",
       "      <td>24.407</td>\n",
       "      <td>147.498668</td>\n",
       "      <td>2669403619</td>\n",
       "      <td>2024-04-06 23:07:59.890052</td>\n",
       "      <td>06/04/2024</td>\n",
       "      <td>2024-04-06 23:07:59.890052</td>\n",
       "    </tr>\n",
       "  </tbody>\n",
       "</table>\n",
       "<p>1000 rows × 8 columns</p>\n",
       "</div>"
      ],
      "text/plain": [
       "        Interval   kWh     sec          Wh   cumul(ms)  \\\n",
       "111516     22686  0.16  22.686  158.688178  2647988434   \n",
       "111517     22912  0.16  22.912  157.122905  2648011346   \n",
       "111518     22754  0.16  22.754  158.213940  2648034100   \n",
       "111519     22991  0.16  22.991  156.583011  2648057091   \n",
       "111520     22768  0.16  22.768  158.116655  2648079859   \n",
       "...          ...   ...     ...         ...         ...   \n",
       "112511     23765  0.15  23.765  151.483274  2669307623   \n",
       "112512     23934  0.15  23.934  150.413638  2669331557   \n",
       "112513     23486  0.15  23.486  153.282807  2669355043   \n",
       "112514     24169  0.15  24.169  148.951136  2669379212   \n",
       "112515     24407  0.15  24.407  147.498668  2669403619   \n",
       "\n",
       "                            dates        days                      heure  \n",
       "111516 2024-04-06 17:11:04.705052  06/04/2024 2024-04-06 17:11:04.705052  \n",
       "111517 2024-04-06 17:11:27.617052  06/04/2024 2024-04-06 17:11:27.617052  \n",
       "111518 2024-04-06 17:11:50.371052  06/04/2024 2024-04-06 17:11:50.371052  \n",
       "111519 2024-04-06 17:12:13.362052  06/04/2024 2024-04-06 17:12:13.362052  \n",
       "111520 2024-04-06 17:12:36.130052  06/04/2024 2024-04-06 17:12:36.130052  \n",
       "...                           ...         ...                        ...  \n",
       "112511 2024-04-06 23:06:23.894052  06/04/2024 2024-04-06 23:06:23.894052  \n",
       "112512 2024-04-06 23:06:47.828052  06/04/2024 2024-04-06 23:06:47.828052  \n",
       "112513 2024-04-06 23:07:11.314052  06/04/2024 2024-04-06 23:07:11.314052  \n",
       "112514 2024-04-06 23:07:35.483052  06/04/2024 2024-04-06 23:07:35.483052  \n",
       "112515 2024-04-06 23:07:59.890052  06/04/2024 2024-04-06 23:07:59.890052  \n",
       "\n",
       "[1000 rows x 8 columns]"
      ]
     },
     "execution_count": 5494,
     "metadata": {},
     "output_type": "execute_result"
    }
   ],
   "source": [
    "data"
   ]
  },
  {
   "cell_type": "code",
   "execution_count": 5510,
   "metadata": {},
   "outputs": [
    {
     "data": {
      "text/plain": [
       "<Axes: >"
      ]
     },
     "execution_count": 5510,
     "metadata": {},
     "output_type": "execute_result"
    },
    {
     "data": {
      "image/png": "[encoded data removed]",
      "text/plain": [
       "<Figure size 640x480 with 1 Axes>"
      ]
     },
     "metadata": {},
     "output_type": "display_data"
    }
   ],
   "source": [
    "#data.tail(600)['Wh'].plot()\n",
    "data['Wh'].plot()"
   ]
  },
  {
   "cell_type": "code",
   "execution_count": 5496,
   "metadata": {},
   "outputs": [
    {
     "data": {
      "text/plain": [
       "111516    158.688178\n",
       "111517    157.122905\n",
       "111518    158.213940\n",
       "111519    156.583011\n",
       "111520    158.116655\n",
       "             ...    \n",
       "112511    151.483274\n",
       "112512    150.413638\n",
       "112513    153.282807\n",
       "112514    148.951136\n",
       "112515    147.498668\n",
       "Name: Wh, Length: 1000, dtype: float64"
      ]
     },
     "execution_count": 5496,
     "metadata": {},
     "output_type": "execute_result"
    }
   ],
   "source": [
    "data['Wh']"
   ]
  },
  {
   "cell_type": "markdown",
   "metadata": {},
   "source": [
    "# k kW window graph"
   ]
  },
  {
   "cell_type": "code",
   "execution_count": 5511,
   "metadata": {},
   "outputs": [
    {
     "data": {
      "image/png": "[encoded data removed]",
      "text/plain": [
       "<Figure size 1500x800 with 1 Axes>"
      ]
     },
     "metadata": {},
     "output_type": "display_data"
    }
   ],
   "source": [
    "fig, ax = plt.subplots()\n",
    "# the size of A4 paper\n",
    "fig.set_size_inches(15, 8)\n",
    "\n",
    "formatter = DateFormatter('%d/%m\\n%H:%M')\n",
    "ax.xaxis.set_major_formatter(formatter)\n",
    "\n",
    "# ticks sur axe des x\n",
    "major_ticks=1/30;minor_ticks=1/360\n",
    "ax.xaxis.set_major_locator(MultipleLocator(major_ticks))  # 1 major tick tous les 48 min\n",
    "ax.xaxis.set_minor_locator(MultipleLocator(minor_ticks))  # 1 minor ticks tous les 4 min\n",
    "ax.tick_params(which='both', width=3)\n",
    "ax.tick_params(which='major', length=15, color='r')\n",
    "ax.tick_params(which='minor', length=8, color='b')\n",
    "\n",
    "plt.title(f'Consommation {k} kW (Temps: {heure} heures {int(mn)} minutes {int(sec)} secondes)\\nDe {start} à {end}')\n",
    "plt.plot(data['dates'],data['Wh'])\n",
    "plt.ylabel('Wh')\n",
    "plt.xlabel('Time (heures)')\n",
    "plt.grid()\n"
   ]
  },
  {
   "cell_type": "code",
   "execution_count": 5498,
   "metadata": {},
   "outputs": [
    {
     "data": {
      "text/plain": [
       "<Axes: ylabel='Frequency'>"
      ]
     },
     "execution_count": 5498,
     "metadata": {},
     "output_type": "execute_result"
    },
    {
     "data": {
      "image/png": "[encoded data removed]",
      "text/plain": [
       "<Figure size 640x480 with 1 Axes>"
      ]
     },
     "metadata": {},
     "output_type": "display_data"
    }
   ],
   "source": [
    "data.kWh.plot.hist(bins=50,rwidth=0.8,grid=True)\n"
   ]
  },
  {
   "cell_type": "code",
   "execution_count": 5499,
   "metadata": {},
   "outputs": [
    {
     "data": {
      "text/html": [
       "<div>\n",
       "<style scoped>\n",
       "    .dataframe tbody tr th:only-of-type {\n",
       "        vertical-align: middle;\n",
       "    }\n",
       "\n",
       "    .dataframe tbody tr th {\n",
       "        vertical-align: top;\n",
       "    }\n",
       "\n",
       "    .dataframe thead th {\n",
       "        text-align: right;\n",
       "    }\n",
       "</style>\n",
       "<table border=\"1\" class=\"dataframe\">\n",
       "  <thead>\n",
       "    <tr style=\"text-align: right;\">\n",
       "      <th></th>\n",
       "      <th>Interval</th>\n",
       "      <th>kWh</th>\n",
       "      <th>sec</th>\n",
       "      <th>Wh</th>\n",
       "      <th>cumul(ms)</th>\n",
       "      <th>dates</th>\n",
       "      <th>days</th>\n",
       "    </tr>\n",
       "  </thead>\n",
       "  <tbody>\n",
       "    <tr>\n",
       "      <th>112511</th>\n",
       "      <td>23765</td>\n",
       "      <td>0.15</td>\n",
       "      <td>23.765</td>\n",
       "      <td>151.483274</td>\n",
       "      <td>2669307623</td>\n",
       "      <td>2024-04-06 23:06:23.894052</td>\n",
       "      <td>06/04/2024</td>\n",
       "    </tr>\n",
       "    <tr>\n",
       "      <th>112512</th>\n",
       "      <td>23934</td>\n",
       "      <td>0.15</td>\n",
       "      <td>23.934</td>\n",
       "      <td>150.413638</td>\n",
       "      <td>2669331557</td>\n",
       "      <td>2024-04-06 23:06:47.828052</td>\n",
       "      <td>06/04/2024</td>\n",
       "    </tr>\n",
       "    <tr>\n",
       "      <th>112513</th>\n",
       "      <td>23486</td>\n",
       "      <td>0.15</td>\n",
       "      <td>23.486</td>\n",
       "      <td>153.282807</td>\n",
       "      <td>2669355043</td>\n",
       "      <td>2024-04-06 23:07:11.314052</td>\n",
       "      <td>06/04/2024</td>\n",
       "    </tr>\n",
       "    <tr>\n",
       "      <th>112514</th>\n",
       "      <td>24169</td>\n",
       "      <td>0.15</td>\n",
       "      <td>24.169</td>\n",
       "      <td>148.951136</td>\n",
       "      <td>2669379212</td>\n",
       "      <td>2024-04-06 23:07:35.483052</td>\n",
       "      <td>06/04/2024</td>\n",
       "    </tr>\n",
       "    <tr>\n",
       "      <th>112515</th>\n",
       "      <td>24407</td>\n",
       "      <td>0.15</td>\n",
       "      <td>24.407</td>\n",
       "      <td>147.498668</td>\n",
       "      <td>2669403619</td>\n",
       "      <td>2024-04-06 23:07:59.890052</td>\n",
       "      <td>06/04/2024</td>\n",
       "    </tr>\n",
       "  </tbody>\n",
       "</table>\n",
       "</div>"
      ],
      "text/plain": [
       "        Interval   kWh     sec          Wh   cumul(ms)  \\\n",
       "112511     23765  0.15  23.765  151.483274  2669307623   \n",
       "112512     23934  0.15  23.934  150.413638  2669331557   \n",
       "112513     23486  0.15  23.486  153.282807  2669355043   \n",
       "112514     24169  0.15  24.169  148.951136  2669379212   \n",
       "112515     24407  0.15  24.407  147.498668  2669403619   \n",
       "\n",
       "                            dates        days  \n",
       "112511 2024-04-06 23:06:23.894052  06/04/2024  \n",
       "112512 2024-04-06 23:06:47.828052  06/04/2024  \n",
       "112513 2024-04-06 23:07:11.314052  06/04/2024  \n",
       "112514 2024-04-06 23:07:35.483052  06/04/2024  \n",
       "112515 2024-04-06 23:07:59.890052  06/04/2024  "
      ]
     },
     "execution_count": 5499,
     "metadata": {},
     "output_type": "execute_result"
    }
   ],
   "source": [
    "conso_data.tail()"
   ]
  },
  {
   "cell_type": "code",
   "execution_count": 5500,
   "metadata": {},
   "outputs": [
    {
     "data": {
      "image/png": "[encoded data removed]",
      "text/plain": [
       "<Figure size 640x480 with 1 Axes>"
      ]
     },
     "metadata": {},
     "output_type": "display_data"
    }
   ],
   "source": [
    "conso_data.tail(1000)['kWh'].plot()\n",
    "plt.grid()"
   ]
  },
  {
   "cell_type": "code",
   "execution_count": 5501,
   "metadata": {},
   "outputs": [
    {
     "data": {
      "text/plain": [
       "(2669403619000.0, 44490.06031666667)"
      ]
     },
     "execution_count": 5501,
     "metadata": {},
     "output_type": "execute_result"
    }
   ],
   "source": [
    "#plt.plot(conso_data['sec'])\n",
    "now = dt.datetime.now()\n",
    "last_cumul = np.array(conso_data['cumul(ms)'].tail(1))[0]*1000.0  # us\n",
    "last_cumul, last_cumul/60e6  # min"
   ]
  },
  {
   "cell_type": "code",
   "execution_count": 5502,
   "metadata": {},
   "outputs": [
    {
     "data": {
      "text/plain": [
       "(datetime.datetime(2024, 4, 6, 23, 8, 51, 146463),\n",
       " datetime.datetime(2024, 3, 7, 1, 38, 47, 527463))"
      ]
     },
     "execution_count": 5502,
     "metadata": {},
     "output_type": "execute_result"
    }
   ],
   "source": [
    "begin = now - dt.timedelta(microseconds=last_cumul)  #2023, 6, 24, 9, 14, (39, 942895) approximatif\n",
    "now, begin"
   ]
  },
  {
   "cell_type": "code",
   "execution_count": 5503,
   "metadata": {},
   "outputs": [
    {
     "data": {
      "text/plain": [
       "(112516, 2669404, 741.5011111111111)"
      ]
     },
     "execution_count": 5503,
     "metadata": {},
     "output_type": "execute_result"
    }
   ],
   "source": [
    "x = mdates.drange(begin,now,dt.timedelta(microseconds=1000000))  # seconds\n",
    "len(conso_data),len(x),len(x)/3600"
   ]
  },
  {
   "cell_type": "code",
   "execution_count": 5504,
   "metadata": {},
   "outputs": [],
   "source": [
    "def format_date(space=3):\n",
    "    plt.gca().xaxis.set_major_formatter(mdates.DateFormatter('%d/%m\\n%H:%M'))\n",
    "    plt.gca().xaxis.set_major_locator(mdates.HourLocator(space))\n",
    "    plt.gca().xaxis.set_major_locator(mdates.HourLocator(interval=space))\n",
    "    plt.gcf().autofmt_xdate()\n",
    "    plt.grid()"
   ]
  },
  {
   "cell_type": "code",
   "execution_count": 5505,
   "metadata": {},
   "outputs": [
    {
     "data": {
      "text/plain": [
       "732"
      ]
     },
     "execution_count": 5505,
     "metadata": {},
     "output_type": "execute_result"
    }
   ],
   "source": [
    "import numpy as np\n",
    "import datetime as dt\n",
    "import matplotlib.pyplot as plt\n",
    "base = dt.datetime(2005, 2, 1)\n",
    "dates = [base + dt.timedelta(hours=(2 * i)) for i in range(732)]\n",
    "N = len(dates)\n",
    "N\n"
   ]
  },
  {
   "cell_type": "code",
   "execution_count": 5506,
   "metadata": {},
   "outputs": [
    {
     "data": {
      "text/plain": [
       "61.0"
      ]
     },
     "execution_count": 5506,
     "metadata": {},
     "output_type": "execute_result"
    }
   ],
   "source": [
    "732/12 # 60 jours"
   ]
  },
  {
   "cell_type": "code",
   "execution_count": 5507,
   "metadata": {},
   "outputs": [
    {
     "data": {
      "text/plain": [
       "(datetime.datetime(2005, 2, 1, 0, 0), datetime.datetime(2005, 4, 2, 22, 0))"
      ]
     },
     "execution_count": 5507,
     "metadata": {},
     "output_type": "execute_result"
    }
   ],
   "source": [
    "dates[0],dates[-1]"
   ]
  },
  {
   "cell_type": "code",
   "execution_count": 5508,
   "metadata": {},
   "outputs": [
    {
     "data": {
      "image/png": "[encoded data removed]",
      "text/plain": [
       "<Figure size 600x600 with 3 Axes>"
      ]
     },
     "metadata": {},
     "output_type": "display_data"
    }
   ],
   "source": [
    "np.random.seed(19680801)\n",
    "y = np.cumsum(np.random.randn(N))\n",
    "\n",
    "fig, axs = plt.subplots(3, 1, layout='constrained', figsize=(6, 6))\n",
    "lims = [(np.datetime64('2005-02'), np.datetime64('2005-04')),\n",
    "        (np.datetime64('2005-02-03'), np.datetime64('2005-02-15')),\n",
    "        (np.datetime64('2005-02-03 11:00'), np.datetime64('2005-02-04 13:20'))]\n",
    "for nn, ax in enumerate(axs):\n",
    "    ax.plot(dates, y)\n",
    "    ax.set_xlim(lims[nn])\n",
    "    # rotate_labels...\n",
    "    for label in ax.get_xticklabels():\n",
    "        label.set_rotation(40)\n",
    "        label.set_horizontalalignment('right')\n",
    "axs[0].set_title('Default Date Formatter')\n",
    "plt.show()"
   ]
  },
  {
   "cell_type": "code",
   "execution_count": 5509,
   "metadata": {},
   "outputs": [
    {
     "data": {
      "text/plain": [
       "datetime.datetime(2005, 4, 2, 22, 0)"
      ]
     },
     "execution_count": 5509,
     "metadata": {},
     "output_type": "execute_result"
    }
   ],
   "source": [
    "t = dt.datetime(2005, 4, 2, 22, 0)\n",
    "t"
   ]
  }
 ],
 "metadata": {
  "kernelspec": {
   "display_name": "Python 3",
   "language": "python",
   "name": "python3"
  },
  "language_info": {
   "codemirror_mode": {
    "name": "ipython",
    "version": 3
   },
   "file_extension": ".py",
   "mimetype": "text/x-python",
   "name": "python",
   "nbconvert_exporter": "python",
   "pygments_lexer": "ipython3",
   "version": "3.11.4"
  },
  "orig_nbformat": 4
 },
 "nbformat": 4,
 "nbformat_minor": 2
}
