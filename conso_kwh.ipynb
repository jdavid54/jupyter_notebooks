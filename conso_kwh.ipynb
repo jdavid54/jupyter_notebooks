{
 "cells": [
  {
   "cell_type": "code",
   "execution_count": 4063,
   "metadata": {},
   "outputs": [],
   "source": [
    "import pandas as pd\n",
    "import numpy as np\n",
    "import matplotlib.pyplot as plt\n",
    "import matplotlib.dates as mdates\n",
    "import matplotlib.ticker as ticker\n",
    "from matplotlib.axis import Axis\n",
    "import datetime as dt\n",
    "\n",
    "#plt.style.use(['science', 'notebook'])\n",
    "#%matplotlib inline\n"
   ]
  },
  {
   "cell_type": "code",
   "execution_count": 4064,
   "metadata": {},
   "outputs": [],
   "source": [
    "data_file = \"conso.txt\""
   ]
  },
  {
   "cell_type": "code",
   "execution_count": 4065,
   "metadata": {},
   "outputs": [],
   "source": [
    "def read_text(filename):\n",
    "    f = open(filename, \"r\")\n",
    "    text = f.readlines()\n",
    "    f.close()\n",
    "    print(text)\n",
    "\n",
    "def save_text(filename):\n",
    "    f = open(filename, \"w\")\n",
    "    f.write(text)\n",
    "    f.close()\n",
    "\n",
    "\n",
    "#read_text(data_file)\n",
    "def get_data(filename):    \n",
    "    data = pd.read_csv(filename)\n",
    "    #data['time'] = pd.to_datetime(data['time'])  #.dt.tz_convert(None)\n",
    "    #data.info()\n",
    "    #print(data.tail(5))\n",
    "    return data\n"
   ]
  },
  {
   "cell_type": "code",
   "execution_count": 4066,
   "metadata": {},
   "outputs": [],
   "source": [
    "text='test'\n",
    "filename='text.txt'\n",
    "#save_text(filename)"
   ]
  },
  {
   "cell_type": "code",
   "execution_count": 4067,
   "metadata": {},
   "outputs": [
    {
     "name": "stdout",
     "output_type": "stream",
     "text": [
      "<class 'pandas.core.frame.DataFrame'>\n",
      "RangeIndex: 1013 entries, 0 to 1012\n",
      "Data columns (total 1 columns):\n",
      " #   Column  Non-Null Count  Dtype  \n",
      "---  ------  --------------  -----  \n",
      " 0   Conso   1013 non-null   float64\n",
      "dtypes: float64(1)\n",
      "memory usage: 8.0 KB\n"
     ]
    }
   ],
   "source": [
    "# read data with pandas\n",
    "data = get_data(data_file)\n",
    "data.info()\n"
   ]
  },
  {
   "cell_type": "code",
   "execution_count": 4068,
   "metadata": {},
   "outputs": [
    {
     "data": {
      "text/html": [
       "<div>\n",
       "<style scoped>\n",
       "    .dataframe tbody tr th:only-of-type {\n",
       "        vertical-align: middle;\n",
       "    }\n",
       "\n",
       "    .dataframe tbody tr th {\n",
       "        vertical-align: top;\n",
       "    }\n",
       "\n",
       "    .dataframe thead th {\n",
       "        text-align: right;\n",
       "    }\n",
       "</style>\n",
       "<table border=\"1\" class=\"dataframe\">\n",
       "  <thead>\n",
       "    <tr style=\"text-align: right;\">\n",
       "      <th></th>\n",
       "      <th>Conso</th>\n",
       "      <th>interval</th>\n",
       "    </tr>\n",
       "  </thead>\n",
       "  <tbody>\n",
       "    <tr>\n",
       "      <th>0</th>\n",
       "      <td>0.19</td>\n",
       "      <td>18947.368421</td>\n",
       "    </tr>\n",
       "    <tr>\n",
       "      <th>1</th>\n",
       "      <td>0.19</td>\n",
       "      <td>18947.368421</td>\n",
       "    </tr>\n",
       "    <tr>\n",
       "      <th>2</th>\n",
       "      <td>0.19</td>\n",
       "      <td>18947.368421</td>\n",
       "    </tr>\n",
       "    <tr>\n",
       "      <th>3</th>\n",
       "      <td>0.19</td>\n",
       "      <td>18947.368421</td>\n",
       "    </tr>\n",
       "    <tr>\n",
       "      <th>4</th>\n",
       "      <td>0.19</td>\n",
       "      <td>18947.368421</td>\n",
       "    </tr>\n",
       "    <tr>\n",
       "      <th>...</th>\n",
       "      <td>...</td>\n",
       "      <td>...</td>\n",
       "    </tr>\n",
       "    <tr>\n",
       "      <th>1008</th>\n",
       "      <td>0.16</td>\n",
       "      <td>22500.000000</td>\n",
       "    </tr>\n",
       "    <tr>\n",
       "      <th>1009</th>\n",
       "      <td>0.16</td>\n",
       "      <td>22500.000000</td>\n",
       "    </tr>\n",
       "    <tr>\n",
       "      <th>1010</th>\n",
       "      <td>0.17</td>\n",
       "      <td>21176.470588</td>\n",
       "    </tr>\n",
       "    <tr>\n",
       "      <th>1011</th>\n",
       "      <td>0.17</td>\n",
       "      <td>21176.470588</td>\n",
       "    </tr>\n",
       "    <tr>\n",
       "      <th>1012</th>\n",
       "      <td>0.16</td>\n",
       "      <td>22500.000000</td>\n",
       "    </tr>\n",
       "  </tbody>\n",
       "</table>\n",
       "<p>1013 rows × 2 columns</p>\n",
       "</div>"
      ],
      "text/plain": [
       "      Conso      interval\n",
       "0      0.19  18947.368421\n",
       "1      0.19  18947.368421\n",
       "2      0.19  18947.368421\n",
       "3      0.19  18947.368421\n",
       "4      0.19  18947.368421\n",
       "...     ...           ...\n",
       "1008   0.16  22500.000000\n",
       "1009   0.16  22500.000000\n",
       "1010   0.17  21176.470588\n",
       "1011   0.17  21176.470588\n",
       "1012   0.16  22500.000000\n",
       "\n",
       "[1013 rows x 2 columns]"
      ]
     },
     "execution_count": 4068,
     "metadata": {},
     "output_type": "execute_result"
    }
   ],
   "source": [
    "data['interval']=3600/data['Conso']\n",
    "data"
   ]
  },
  {
   "cell_type": "code",
   "execution_count": 4069,
   "metadata": {},
   "outputs": [
    {
     "data": {
      "text/plain": [
       "<matplotlib.legend.Legend at 0x1e810666a10>"
      ]
     },
     "execution_count": 4069,
     "metadata": {},
     "output_type": "execute_result"
    },
    {
     "data": {
      "image/png": "[encoded data removed]",
      "text/plain": [
       "<Figure size 640x480 with 1 Axes>"
      ]
     },
     "metadata": {},
     "output_type": "display_data"
    }
   ],
   "source": [
    "\n",
    "plt.title('Consommation Linky')\n",
    "plt.plot(data, color='red',label='Conso')\n",
    "\n",
    "plt.grid()\n",
    "plt.legend()"
   ]
  },
  {
   "attachments": {},
   "cell_type": "markdown",
   "metadata": {},
   "source": [
    "### conso.csv sur WD6TB mis à jour avec PI4"
   ]
  },
  {
   "cell_type": "code",
   "execution_count": 4070,
   "metadata": {},
   "outputs": [],
   "source": [
    "def get_data2(filename):    \n",
    "    data = pd.read_csv(filename, names=[\"Interval\",\"kWh\"])\n",
    "    return data"
   ]
  },
  {
   "cell_type": "code",
   "execution_count": 4071,
   "metadata": {},
   "outputs": [
    {
     "name": "stdout",
     "output_type": "stream",
     "text": [
      "<class 'pandas.core.frame.DataFrame'>\n",
      "RangeIndex: 99121 entries, 0 to 99120\n",
      "Data columns (total 2 columns):\n",
      " #   Column    Non-Null Count  Dtype  \n",
      "---  ------    --------------  -----  \n",
      " 0   Interval  99121 non-null  int64  \n",
      " 1   kWh       99121 non-null  float64\n",
      "dtypes: float64(1), int64(1)\n",
      "memory usage: 1.5 MB\n"
     ]
    }
   ],
   "source": [
    "old = False\n",
    "\n",
    "if old:\n",
    "    #conso_file = r\"C:\\Users\\jean\\Documents\\conso.csv\"\n",
    "    conso_file = r\"Y:\\Documents\\conso_old.csv\"\n",
    "    conso_file = r\"Y:\\Documents\\conso - Copy (2).csv\"\n",
    "else:\n",
    "    conso_file = r\"Y:\\Documents\\conso.csv\"\n",
    "#old = False\n",
    "conso_data = get_data2(conso_file)\n",
    "conso_data.info()\n"
   ]
  },
  {
   "cell_type": "code",
   "execution_count": 4072,
   "metadata": {},
   "outputs": [
    {
     "data": {
      "text/html": [
       "<div>\n",
       "<style scoped>\n",
       "    .dataframe tbody tr th:only-of-type {\n",
       "        vertical-align: middle;\n",
       "    }\n",
       "\n",
       "    .dataframe tbody tr th {\n",
       "        vertical-align: top;\n",
       "    }\n",
       "\n",
       "    .dataframe thead th {\n",
       "        text-align: right;\n",
       "    }\n",
       "</style>\n",
       "<table border=\"1\" class=\"dataframe\">\n",
       "  <thead>\n",
       "    <tr style=\"text-align: right;\">\n",
       "      <th></th>\n",
       "      <th>Interval</th>\n",
       "      <th>kWh</th>\n",
       "    </tr>\n",
       "  </thead>\n",
       "  <tbody>\n",
       "    <tr>\n",
       "      <th>0</th>\n",
       "      <td>26289</td>\n",
       "      <td>0.14</td>\n",
       "    </tr>\n",
       "    <tr>\n",
       "      <th>1</th>\n",
       "      <td>26243</td>\n",
       "      <td>0.14</td>\n",
       "    </tr>\n",
       "    <tr>\n",
       "      <th>2</th>\n",
       "      <td>25885</td>\n",
       "      <td>0.14</td>\n",
       "    </tr>\n",
       "    <tr>\n",
       "      <th>3</th>\n",
       "      <td>25754</td>\n",
       "      <td>0.14</td>\n",
       "    </tr>\n",
       "    <tr>\n",
       "      <th>4</th>\n",
       "      <td>25774</td>\n",
       "      <td>0.14</td>\n",
       "    </tr>\n",
       "    <tr>\n",
       "      <th>...</th>\n",
       "      <td>...</td>\n",
       "      <td>...</td>\n",
       "    </tr>\n",
       "    <tr>\n",
       "      <th>99116</th>\n",
       "      <td>23078</td>\n",
       "      <td>0.16</td>\n",
       "    </tr>\n",
       "    <tr>\n",
       "      <th>99117</th>\n",
       "      <td>23255</td>\n",
       "      <td>0.15</td>\n",
       "    </tr>\n",
       "    <tr>\n",
       "      <th>99118</th>\n",
       "      <td>23411</td>\n",
       "      <td>0.15</td>\n",
       "    </tr>\n",
       "    <tr>\n",
       "      <th>99119</th>\n",
       "      <td>24397</td>\n",
       "      <td>0.15</td>\n",
       "    </tr>\n",
       "    <tr>\n",
       "      <th>99120</th>\n",
       "      <td>24482</td>\n",
       "      <td>0.15</td>\n",
       "    </tr>\n",
       "  </tbody>\n",
       "</table>\n",
       "<p>99121 rows × 2 columns</p>\n",
       "</div>"
      ],
      "text/plain": [
       "       Interval   kWh\n",
       "0         26289  0.14\n",
       "1         26243  0.14\n",
       "2         25885  0.14\n",
       "3         25754  0.14\n",
       "4         25774  0.14\n",
       "...         ...   ...\n",
       "99116     23078  0.16\n",
       "99117     23255  0.15\n",
       "99118     23411  0.15\n",
       "99119     24397  0.15\n",
       "99120     24482  0.15\n",
       "\n",
       "[99121 rows x 2 columns]"
      ]
     },
     "execution_count": 4072,
     "metadata": {},
     "output_type": "execute_result"
    }
   ],
   "source": [
    "conso_data = conso_data.dropna()\n",
    "conso_data"
   ]
  },
  {
   "cell_type": "code",
   "execution_count": 4073,
   "metadata": {},
   "outputs": [
    {
     "data": {
      "text/html": [
       "<div>\n",
       "<style scoped>\n",
       "    .dataframe tbody tr th:only-of-type {\n",
       "        vertical-align: middle;\n",
       "    }\n",
       "\n",
       "    .dataframe tbody tr th {\n",
       "        vertical-align: top;\n",
       "    }\n",
       "\n",
       "    .dataframe thead th {\n",
       "        text-align: right;\n",
       "    }\n",
       "</style>\n",
       "<table border=\"1\" class=\"dataframe\">\n",
       "  <thead>\n",
       "    <tr style=\"text-align: right;\">\n",
       "      <th></th>\n",
       "      <th>Interval</th>\n",
       "      <th>kWh</th>\n",
       "      <th>sec</th>\n",
       "      <th>Wh</th>\n",
       "      <th>cumul(ms)</th>\n",
       "    </tr>\n",
       "  </thead>\n",
       "  <tbody>\n",
       "    <tr>\n",
       "      <th>0</th>\n",
       "      <td>26289</td>\n",
       "      <td>0.14</td>\n",
       "      <td>26.289</td>\n",
       "      <td>136.939404</td>\n",
       "      <td>26289</td>\n",
       "    </tr>\n",
       "    <tr>\n",
       "      <th>1</th>\n",
       "      <td>26243</td>\n",
       "      <td>0.14</td>\n",
       "      <td>26.243</td>\n",
       "      <td>137.179438</td>\n",
       "      <td>52532</td>\n",
       "    </tr>\n",
       "    <tr>\n",
       "      <th>2</th>\n",
       "      <td>25885</td>\n",
       "      <td>0.14</td>\n",
       "      <td>25.885</td>\n",
       "      <td>139.076685</td>\n",
       "      <td>78417</td>\n",
       "    </tr>\n",
       "    <tr>\n",
       "      <th>3</th>\n",
       "      <td>25754</td>\n",
       "      <td>0.14</td>\n",
       "      <td>25.754</td>\n",
       "      <td>139.784111</td>\n",
       "      <td>104171</td>\n",
       "    </tr>\n",
       "    <tr>\n",
       "      <th>4</th>\n",
       "      <td>25774</td>\n",
       "      <td>0.14</td>\n",
       "      <td>25.774</td>\n",
       "      <td>139.675642</td>\n",
       "      <td>129945</td>\n",
       "    </tr>\n",
       "    <tr>\n",
       "      <th>...</th>\n",
       "      <td>...</td>\n",
       "      <td>...</td>\n",
       "      <td>...</td>\n",
       "      <td>...</td>\n",
       "      <td>...</td>\n",
       "    </tr>\n",
       "    <tr>\n",
       "      <th>99116</th>\n",
       "      <td>23078</td>\n",
       "      <td>0.16</td>\n",
       "      <td>23.078</td>\n",
       "      <td>155.992720</td>\n",
       "      <td>2362827828</td>\n",
       "    </tr>\n",
       "    <tr>\n",
       "      <th>99117</th>\n",
       "      <td>23255</td>\n",
       "      <td>0.15</td>\n",
       "      <td>23.255</td>\n",
       "      <td>154.805418</td>\n",
       "      <td>2362851083</td>\n",
       "    </tr>\n",
       "    <tr>\n",
       "      <th>99118</th>\n",
       "      <td>23411</td>\n",
       "      <td>0.15</td>\n",
       "      <td>23.411</td>\n",
       "      <td>153.773867</td>\n",
       "      <td>2362874494</td>\n",
       "    </tr>\n",
       "    <tr>\n",
       "      <th>99119</th>\n",
       "      <td>24397</td>\n",
       "      <td>0.15</td>\n",
       "      <td>24.397</td>\n",
       "      <td>147.559126</td>\n",
       "      <td>2362898891</td>\n",
       "    </tr>\n",
       "    <tr>\n",
       "      <th>99120</th>\n",
       "      <td>24482</td>\n",
       "      <td>0.15</td>\n",
       "      <td>24.482</td>\n",
       "      <td>147.046810</td>\n",
       "      <td>2362923373</td>\n",
       "    </tr>\n",
       "  </tbody>\n",
       "</table>\n",
       "<p>99121 rows × 5 columns</p>\n",
       "</div>"
      ],
      "text/plain": [
       "       Interval   kWh     sec          Wh   cumul(ms)\n",
       "0         26289  0.14  26.289  136.939404       26289\n",
       "1         26243  0.14  26.243  137.179438       52532\n",
       "2         25885  0.14  25.885  139.076685       78417\n",
       "3         25754  0.14  25.754  139.784111      104171\n",
       "4         25774  0.14  25.774  139.675642      129945\n",
       "...         ...   ...     ...         ...         ...\n",
       "99116     23078  0.16  23.078  155.992720  2362827828\n",
       "99117     23255  0.15  23.255  154.805418  2362851083\n",
       "99118     23411  0.15  23.411  153.773867  2362874494\n",
       "99119     24397  0.15  24.397  147.559126  2362898891\n",
       "99120     24482  0.15  24.482  147.046810  2362923373\n",
       "\n",
       "[99121 rows x 5 columns]"
      ]
     },
     "execution_count": 4073,
     "metadata": {},
     "output_type": "execute_result"
    }
   ],
   "source": [
    "conso_data['sec']=conso_data['Interval']/1000\n",
    "conso_data['Wh']=3600000/conso_data['Interval']\n",
    "conso_data['cumul(ms)']=conso_data['Interval'].cumsum(axis=0)\n",
    "\n",
    "conso_data"
   ]
  },
  {
   "cell_type": "code",
   "execution_count": 4074,
   "metadata": {},
   "outputs": [
    {
     "data": {
      "text/plain": [
       "99120"
      ]
     },
     "execution_count": 4074,
     "metadata": {},
     "output_type": "execute_result"
    }
   ],
   "source": [
    "# index dernier echantillon\n",
    "l=len(conso_data)-1\n",
    "l"
   ]
  },
  {
   "cell_type": "code",
   "execution_count": 4075,
   "metadata": {},
   "outputs": [
    {
     "data": {
      "text/plain": [
       "2362923373000"
      ]
     },
     "execution_count": 4075,
     "metadata": {},
     "output_type": "execute_result"
    }
   ],
   "source": [
    "# cumtime = int(conso_data['cumul(ms)'].tail(1).values[0]*1000)\n",
    "cumtime= int(conso_data._get_value(l,'cumul(ms)')*1000)\n",
    "cumtime"
   ]
  },
  {
   "cell_type": "code",
   "execution_count": 4076,
   "metadata": {},
   "outputs": [
    {
     "data": {
      "text/plain": [
       "False"
      ]
     },
     "execution_count": 4076,
     "metadata": {},
     "output_type": "execute_result"
    }
   ],
   "source": [
    "old"
   ]
  },
  {
   "cell_type": "code",
   "execution_count": 4077,
   "metadata": {},
   "outputs": [
    {
     "data": {
      "text/plain": [
       "datetime.datetime(2024, 3, 7, 1, 34, 2, 707362)"
      ]
     },
     "execution_count": 4077,
     "metadata": {},
     "output_type": "execute_result"
    }
   ],
   "source": [
    "from datetime import datetime, timedelta\n",
    "now = datetime.now()\n",
    "# conso.csv dynamique\n",
    "base = now - timedelta(microseconds=cumtime)\n",
    "base  # date de début\n"
   ]
  },
  {
   "cell_type": "code",
   "execution_count": 4078,
   "metadata": {},
   "outputs": [
    {
     "name": "stdout",
     "output_type": "stream",
     "text": [
      "<class 'pandas.core.frame.DataFrame'>\n",
      "RangeIndex: 99121 entries, 0 to 99120\n",
      "Data columns (total 6 columns):\n",
      " #   Column     Non-Null Count  Dtype         \n",
      "---  ------     --------------  -----         \n",
      " 0   Interval   99121 non-null  int64         \n",
      " 1   kWh        99121 non-null  float64       \n",
      " 2   sec        99121 non-null  float64       \n",
      " 3   Wh         99121 non-null  float64       \n",
      " 4   cumul(ms)  99121 non-null  int64         \n",
      " 5   dates      99121 non-null  datetime64[ns]\n",
      "dtypes: datetime64[ns](1), float64(3), int64(2)\n",
      "memory usage: 4.5 MB\n"
     ]
    }
   ],
   "source": [
    "\n",
    "if old:\n",
    "    base = dt.datetime(2023, 8, 1, 10, 45, 0) - timedelta(microseconds=cumtime)\n",
    "\n",
    "\n",
    "conso_data['dates'] = [base + dt.timedelta(microseconds=t*1000) for t in conso_data['cumul(ms)']]\n",
    "conso_data.info()\n"
   ]
  },
  {
   "cell_type": "code",
   "execution_count": 4079,
   "metadata": {},
   "outputs": [
    {
     "data": {
      "text/html": [
       "<div>\n",
       "<style scoped>\n",
       "    .dataframe tbody tr th:only-of-type {\n",
       "        vertical-align: middle;\n",
       "    }\n",
       "\n",
       "    .dataframe tbody tr th {\n",
       "        vertical-align: top;\n",
       "    }\n",
       "\n",
       "    .dataframe thead th {\n",
       "        text-align: right;\n",
       "    }\n",
       "</style>\n",
       "<table border=\"1\" class=\"dataframe\">\n",
       "  <thead>\n",
       "    <tr style=\"text-align: right;\">\n",
       "      <th></th>\n",
       "      <th>Interval</th>\n",
       "      <th>kWh</th>\n",
       "      <th>sec</th>\n",
       "      <th>Wh</th>\n",
       "      <th>cumul(ms)</th>\n",
       "      <th>dates</th>\n",
       "      <th>days</th>\n",
       "    </tr>\n",
       "  </thead>\n",
       "  <tbody>\n",
       "    <tr>\n",
       "      <th>0</th>\n",
       "      <td>26289</td>\n",
       "      <td>0.14</td>\n",
       "      <td>26.289</td>\n",
       "      <td>136.939404</td>\n",
       "      <td>26289</td>\n",
       "      <td>2024-03-07 01:34:28.996362</td>\n",
       "      <td>07/03/2024</td>\n",
       "    </tr>\n",
       "    <tr>\n",
       "      <th>1</th>\n",
       "      <td>26243</td>\n",
       "      <td>0.14</td>\n",
       "      <td>26.243</td>\n",
       "      <td>137.179438</td>\n",
       "      <td>52532</td>\n",
       "      <td>2024-03-07 01:34:55.239362</td>\n",
       "      <td>07/03/2024</td>\n",
       "    </tr>\n",
       "    <tr>\n",
       "      <th>2</th>\n",
       "      <td>25885</td>\n",
       "      <td>0.14</td>\n",
       "      <td>25.885</td>\n",
       "      <td>139.076685</td>\n",
       "      <td>78417</td>\n",
       "      <td>2024-03-07 01:35:21.124362</td>\n",
       "      <td>07/03/2024</td>\n",
       "    </tr>\n",
       "    <tr>\n",
       "      <th>3</th>\n",
       "      <td>25754</td>\n",
       "      <td>0.14</td>\n",
       "      <td>25.754</td>\n",
       "      <td>139.784111</td>\n",
       "      <td>104171</td>\n",
       "      <td>2024-03-07 01:35:46.878362</td>\n",
       "      <td>07/03/2024</td>\n",
       "    </tr>\n",
       "    <tr>\n",
       "      <th>4</th>\n",
       "      <td>25774</td>\n",
       "      <td>0.14</td>\n",
       "      <td>25.774</td>\n",
       "      <td>139.675642</td>\n",
       "      <td>129945</td>\n",
       "      <td>2024-03-07 01:36:12.652362</td>\n",
       "      <td>07/03/2024</td>\n",
       "    </tr>\n",
       "    <tr>\n",
       "      <th>...</th>\n",
       "      <td>...</td>\n",
       "      <td>...</td>\n",
       "      <td>...</td>\n",
       "      <td>...</td>\n",
       "      <td>...</td>\n",
       "      <td>...</td>\n",
       "      <td>...</td>\n",
       "    </tr>\n",
       "    <tr>\n",
       "      <th>99116</th>\n",
       "      <td>23078</td>\n",
       "      <td>0.16</td>\n",
       "      <td>23.078</td>\n",
       "      <td>155.992720</td>\n",
       "      <td>2362827828</td>\n",
       "      <td>2024-04-03 09:54:30.535362</td>\n",
       "      <td>03/04/2024</td>\n",
       "    </tr>\n",
       "    <tr>\n",
       "      <th>99117</th>\n",
       "      <td>23255</td>\n",
       "      <td>0.15</td>\n",
       "      <td>23.255</td>\n",
       "      <td>154.805418</td>\n",
       "      <td>2362851083</td>\n",
       "      <td>2024-04-03 09:54:53.790362</td>\n",
       "      <td>03/04/2024</td>\n",
       "    </tr>\n",
       "    <tr>\n",
       "      <th>99118</th>\n",
       "      <td>23411</td>\n",
       "      <td>0.15</td>\n",
       "      <td>23.411</td>\n",
       "      <td>153.773867</td>\n",
       "      <td>2362874494</td>\n",
       "      <td>2024-04-03 09:55:17.201362</td>\n",
       "      <td>03/04/2024</td>\n",
       "    </tr>\n",
       "    <tr>\n",
       "      <th>99119</th>\n",
       "      <td>24397</td>\n",
       "      <td>0.15</td>\n",
       "      <td>24.397</td>\n",
       "      <td>147.559126</td>\n",
       "      <td>2362898891</td>\n",
       "      <td>2024-04-03 09:55:41.598362</td>\n",
       "      <td>03/04/2024</td>\n",
       "    </tr>\n",
       "    <tr>\n",
       "      <th>99120</th>\n",
       "      <td>24482</td>\n",
       "      <td>0.15</td>\n",
       "      <td>24.482</td>\n",
       "      <td>147.046810</td>\n",
       "      <td>2362923373</td>\n",
       "      <td>2024-04-03 09:56:06.080362</td>\n",
       "      <td>03/04/2024</td>\n",
       "    </tr>\n",
       "  </tbody>\n",
       "</table>\n",
       "<p>99121 rows × 7 columns</p>\n",
       "</div>"
      ],
      "text/plain": [
       "       Interval   kWh     sec          Wh   cumul(ms)  \\\n",
       "0         26289  0.14  26.289  136.939404       26289   \n",
       "1         26243  0.14  26.243  137.179438       52532   \n",
       "2         25885  0.14  25.885  139.076685       78417   \n",
       "3         25754  0.14  25.754  139.784111      104171   \n",
       "4         25774  0.14  25.774  139.675642      129945   \n",
       "...         ...   ...     ...         ...         ...   \n",
       "99116     23078  0.16  23.078  155.992720  2362827828   \n",
       "99117     23255  0.15  23.255  154.805418  2362851083   \n",
       "99118     23411  0.15  23.411  153.773867  2362874494   \n",
       "99119     24397  0.15  24.397  147.559126  2362898891   \n",
       "99120     24482  0.15  24.482  147.046810  2362923373   \n",
       "\n",
       "                           dates        days  \n",
       "0     2024-03-07 01:34:28.996362  07/03/2024  \n",
       "1     2024-03-07 01:34:55.239362  07/03/2024  \n",
       "2     2024-03-07 01:35:21.124362  07/03/2024  \n",
       "3     2024-03-07 01:35:46.878362  07/03/2024  \n",
       "4     2024-03-07 01:36:12.652362  07/03/2024  \n",
       "...                          ...         ...  \n",
       "99116 2024-04-03 09:54:30.535362  03/04/2024  \n",
       "99117 2024-04-03 09:54:53.790362  03/04/2024  \n",
       "99118 2024-04-03 09:55:17.201362  03/04/2024  \n",
       "99119 2024-04-03 09:55:41.598362  03/04/2024  \n",
       "99120 2024-04-03 09:56:06.080362  03/04/2024  \n",
       "\n",
       "[99121 rows x 7 columns]"
      ]
     },
     "execution_count": 4079,
     "metadata": {},
     "output_type": "execute_result"
    }
   ],
   "source": [
    "conso_data['days']= [d.strftime('%d/%m/%Y') for d in conso_data['dates']]    #[str(d.month)+'-'+str(d.day) for d in conso_data['dates']]\n",
    "conso_data"
   ]
  },
  {
   "cell_type": "code",
   "execution_count": 4080,
   "metadata": {},
   "outputs": [
    {
     "data": {
      "text/plain": [
       "(   Interval   kWh     sec          Wh  cumul(ms)                      dates  \\\n",
       " 0     26289  0.14  26.289  136.939404      26289 2024-03-07 01:34:28.996362   \n",
       " \n",
       "          days  \n",
       " 0  07/03/2024  ,\n",
       "        Interval   kWh     sec         Wh   cumul(ms)  \\\n",
       " 99120     24482  0.15  24.482  147.04681  2362923373   \n",
       " \n",
       "                            dates        days  \n",
       " 99120 2024-04-03 09:56:06.080362  03/04/2024  )"
      ]
     },
     "execution_count": 4080,
     "metadata": {},
     "output_type": "execute_result"
    }
   ],
   "source": [
    "#conso_data\n",
    "conso_data.head(1),conso_data.tail(1)"
   ]
  },
  {
   "cell_type": "code",
   "execution_count": 4081,
   "metadata": {},
   "outputs": [
    {
     "data": {
      "text/plain": [
       "('03/04/2024', 4, 2024)"
      ]
     },
     "execution_count": 4081,
     "metadata": {},
     "output_type": "execute_result"
    }
   ],
   "source": [
    "# tranche journalière\n",
    "now = datetime.now()\n",
    "month = now.month\n",
    "year = now.year\n",
    "day = now.strftime('%d/%m/%Y')    #str(now.month)+'-'+str(now.day)\n",
    "day, month, year"
   ]
  },
  {
   "cell_type": "code",
   "execution_count": 4082,
   "metadata": {},
   "outputs": [
    {
     "data": {
      "text/html": [
       "<div>\n",
       "<style scoped>\n",
       "    .dataframe tbody tr th:only-of-type {\n",
       "        vertical-align: middle;\n",
       "    }\n",
       "\n",
       "    .dataframe tbody tr th {\n",
       "        vertical-align: top;\n",
       "    }\n",
       "\n",
       "    .dataframe thead th {\n",
       "        text-align: right;\n",
       "    }\n",
       "</style>\n",
       "<table border=\"1\" class=\"dataframe\">\n",
       "  <thead>\n",
       "    <tr style=\"text-align: right;\">\n",
       "      <th></th>\n",
       "      <th>Interval</th>\n",
       "      <th>kWh</th>\n",
       "      <th>sec</th>\n",
       "      <th>Wh</th>\n",
       "      <th>cumul(ms)</th>\n",
       "      <th>dates</th>\n",
       "      <th>days</th>\n",
       "    </tr>\n",
       "  </thead>\n",
       "  <tbody>\n",
       "    <tr>\n",
       "      <th>97930</th>\n",
       "      <td>26418</td>\n",
       "      <td>0.14</td>\n",
       "      <td>26.418</td>\n",
       "      <td>136.270725</td>\n",
       "      <td>2327164153</td>\n",
       "      <td>2024-04-03 00:00:06.860362</td>\n",
       "      <td>03/04/2024</td>\n",
       "    </tr>\n",
       "    <tr>\n",
       "      <th>97931</th>\n",
       "      <td>25369</td>\n",
       "      <td>0.14</td>\n",
       "      <td>25.369</td>\n",
       "      <td>141.905475</td>\n",
       "      <td>2327189522</td>\n",
       "      <td>2024-04-03 00:00:32.229362</td>\n",
       "      <td>03/04/2024</td>\n",
       "    </tr>\n",
       "    <tr>\n",
       "      <th>97932</th>\n",
       "      <td>25778</td>\n",
       "      <td>0.14</td>\n",
       "      <td>25.778</td>\n",
       "      <td>139.653969</td>\n",
       "      <td>2327215300</td>\n",
       "      <td>2024-04-03 00:00:58.007362</td>\n",
       "      <td>03/04/2024</td>\n",
       "    </tr>\n",
       "    <tr>\n",
       "      <th>97933</th>\n",
       "      <td>25822</td>\n",
       "      <td>0.14</td>\n",
       "      <td>25.822</td>\n",
       "      <td>139.416002</td>\n",
       "      <td>2327241122</td>\n",
       "      <td>2024-04-03 00:01:23.829362</td>\n",
       "      <td>03/04/2024</td>\n",
       "    </tr>\n",
       "    <tr>\n",
       "      <th>97934</th>\n",
       "      <td>25738</td>\n",
       "      <td>0.14</td>\n",
       "      <td>25.738</td>\n",
       "      <td>139.871008</td>\n",
       "      <td>2327266860</td>\n",
       "      <td>2024-04-03 00:01:49.567362</td>\n",
       "      <td>03/04/2024</td>\n",
       "    </tr>\n",
       "    <tr>\n",
       "      <th>...</th>\n",
       "      <td>...</td>\n",
       "      <td>...</td>\n",
       "      <td>...</td>\n",
       "      <td>...</td>\n",
       "      <td>...</td>\n",
       "      <td>...</td>\n",
       "      <td>...</td>\n",
       "    </tr>\n",
       "    <tr>\n",
       "      <th>99116</th>\n",
       "      <td>23078</td>\n",
       "      <td>0.16</td>\n",
       "      <td>23.078</td>\n",
       "      <td>155.992720</td>\n",
       "      <td>2362827828</td>\n",
       "      <td>2024-04-03 09:54:30.535362</td>\n",
       "      <td>03/04/2024</td>\n",
       "    </tr>\n",
       "    <tr>\n",
       "      <th>99117</th>\n",
       "      <td>23255</td>\n",
       "      <td>0.15</td>\n",
       "      <td>23.255</td>\n",
       "      <td>154.805418</td>\n",
       "      <td>2362851083</td>\n",
       "      <td>2024-04-03 09:54:53.790362</td>\n",
       "      <td>03/04/2024</td>\n",
       "    </tr>\n",
       "    <tr>\n",
       "      <th>99118</th>\n",
       "      <td>23411</td>\n",
       "      <td>0.15</td>\n",
       "      <td>23.411</td>\n",
       "      <td>153.773867</td>\n",
       "      <td>2362874494</td>\n",
       "      <td>2024-04-03 09:55:17.201362</td>\n",
       "      <td>03/04/2024</td>\n",
       "    </tr>\n",
       "    <tr>\n",
       "      <th>99119</th>\n",
       "      <td>24397</td>\n",
       "      <td>0.15</td>\n",
       "      <td>24.397</td>\n",
       "      <td>147.559126</td>\n",
       "      <td>2362898891</td>\n",
       "      <td>2024-04-03 09:55:41.598362</td>\n",
       "      <td>03/04/2024</td>\n",
       "    </tr>\n",
       "    <tr>\n",
       "      <th>99120</th>\n",
       "      <td>24482</td>\n",
       "      <td>0.15</td>\n",
       "      <td>24.482</td>\n",
       "      <td>147.046810</td>\n",
       "      <td>2362923373</td>\n",
       "      <td>2024-04-03 09:56:06.080362</td>\n",
       "      <td>03/04/2024</td>\n",
       "    </tr>\n",
       "  </tbody>\n",
       "</table>\n",
       "<p>1191 rows × 7 columns</p>\n",
       "</div>"
      ],
      "text/plain": [
       "       Interval   kWh     sec          Wh   cumul(ms)  \\\n",
       "97930     26418  0.14  26.418  136.270725  2327164153   \n",
       "97931     25369  0.14  25.369  141.905475  2327189522   \n",
       "97932     25778  0.14  25.778  139.653969  2327215300   \n",
       "97933     25822  0.14  25.822  139.416002  2327241122   \n",
       "97934     25738  0.14  25.738  139.871008  2327266860   \n",
       "...         ...   ...     ...         ...         ...   \n",
       "99116     23078  0.16  23.078  155.992720  2362827828   \n",
       "99117     23255  0.15  23.255  154.805418  2362851083   \n",
       "99118     23411  0.15  23.411  153.773867  2362874494   \n",
       "99119     24397  0.15  24.397  147.559126  2362898891   \n",
       "99120     24482  0.15  24.482  147.046810  2362923373   \n",
       "\n",
       "                           dates        days  \n",
       "97930 2024-04-03 00:00:06.860362  03/04/2024  \n",
       "97931 2024-04-03 00:00:32.229362  03/04/2024  \n",
       "97932 2024-04-03 00:00:58.007362  03/04/2024  \n",
       "97933 2024-04-03 00:01:23.829362  03/04/2024  \n",
       "97934 2024-04-03 00:01:49.567362  03/04/2024  \n",
       "...                          ...         ...  \n",
       "99116 2024-04-03 09:54:30.535362  03/04/2024  \n",
       "99117 2024-04-03 09:54:53.790362  03/04/2024  \n",
       "99118 2024-04-03 09:55:17.201362  03/04/2024  \n",
       "99119 2024-04-03 09:55:41.598362  03/04/2024  \n",
       "99120 2024-04-03 09:56:06.080362  03/04/2024  \n",
       "\n",
       "[1191 rows x 7 columns]"
      ]
     },
     "execution_count": 4082,
     "metadata": {},
     "output_type": "execute_result"
    }
   ],
   "source": [
    "conso_data[conso_data['days']==day]"
   ]
  },
  {
   "cell_type": "code",
   "execution_count": 4083,
   "metadata": {},
   "outputs": [
    {
     "name": "stdout",
     "output_type": "stream",
     "text": [
      "\n",
      " Anna\n",
      "     Subject  Score\n",
      "1      Maths     90\n",
      "3    Physics     88\n",
      "5  Chemistry     95\n",
      "\n",
      " John\n",
      "     Subject  Score\n",
      "0      Maths     85\n",
      "2    Physics     78\n",
      "4  Chemistry     92\n"
     ]
    }
   ],
   "source": [
    "## Création d'un DataFrame d'exemple\n",
    "data = {\n",
    "    'Name': ['John', 'Anna', 'John', 'Anna', 'John', 'Anna'],\n",
    "    'Subject': ['Maths', 'Maths', 'Physics', 'Physics', 'Chemistry', 'Chemistry'],\n",
    "    'Score': [85, 90, 78, 88, 92, 95]\n",
    "}\n",
    " \n",
    "df = pd.DataFrame(data)\n",
    " \n",
    "## Application de groupby\n",
    "columns=df.columns\n",
    "howto = 'Name' \n",
    "#howto = 'Subject'\n",
    "grouped = df.groupby(howto)\n",
    "for name, group in grouped:\n",
    "    print(\"\\n\", name)\n",
    "    print(group[[x for x in columns if x!=howto]])"
   ]
  },
  {
   "cell_type": "code",
   "execution_count": 4084,
   "metadata": {},
   "outputs": [
    {
     "data": {
      "text/plain": [
       "'conso_graph=[]\\nfor name, group in grouped:\\n    if name==\\'01/04/2024\\':print(group)\\n    #print(\"\\n\", name, len(group)/1000)\\n    conso_graph.append((name,len(group)/1000))'"
      ]
     },
     "execution_count": 4084,
     "metadata": {},
     "output_type": "execute_result"
    }
   ],
   "source": [
    "grouped = conso_data[['days','kWh']].groupby('days', sort=False)\n",
    "'''conso_graph=[]\n",
    "for name, group in grouped:\n",
    "    if name=='01/04/2024':print(group)\n",
    "    #print(\"\\n\", name, len(group)/1000)\n",
    "    conso_graph.append((name,len(group)/1000))'''\n"
   ]
  },
  {
   "cell_type": "code",
   "execution_count": 4085,
   "metadata": {},
   "outputs": [
    {
     "data": {
      "text/plain": [
       "3.5337307692307687"
      ]
     },
     "execution_count": 4085,
     "metadata": {},
     "output_type": "execute_result"
    }
   ],
   "source": [
    "\n",
    "mean = conso_df['conso'].mean()\n",
    "mean\n"
   ]
  },
  {
   "cell_type": "code",
   "execution_count": 4086,
   "metadata": {},
   "outputs": [
    {
     "data": {
      "image/png": "[encoded data removed]",
      "text/plain": [
       "<Figure size 640x480 with 1 Axes>"
      ]
     },
     "metadata": {},
     "output_type": "display_data"
    }
   ],
   "source": [
    "(grouped.count()/1000).plot()#kind='bar')\n",
    "plt.plot((0,len(conso_graph)-1),(mean,mean))\n",
    "plt.xticks(rotation=45)\n",
    "plt.grid()\n"
   ]
  },
  {
   "cell_type": "code",
   "execution_count": 4087,
   "metadata": {},
   "outputs": [],
   "source": [
    "#manuel\n",
    "#day = '25/03/2024'\n"
   ]
  },
  {
   "cell_type": "code",
   "execution_count": 4088,
   "metadata": {},
   "outputs": [
    {
     "data": {
      "text/plain": [
       "1191"
      ]
     },
     "execution_count": 4088,
     "metadata": {},
     "output_type": "execute_result"
    }
   ],
   "source": [
    "# conso day\n",
    "conso_day = conso_data[conso_data['days']==day]\n",
    "conso_jour = len(conso_day)\n",
    "conso_jour"
   ]
  },
  {
   "cell_type": "code",
   "execution_count": 4089,
   "metadata": {},
   "outputs": [
    {
     "name": "stderr",
     "output_type": "stream",
     "text": [
      "C:\\Users\\jean\\AppData\\Local\\Temp\\ipykernel_14100\\1879875640.py:2: SettingWithCopyWarning: \n",
      "A value is trying to be set on a copy of a slice from a DataFrame.\n",
      "Try using .loc[row_indexer,col_indexer] = value instead\n",
      "\n",
      "See the caveats in the documentation: https://pandas.pydata.org/pandas-docs/stable/user_guide/indexing.html#returning-a-view-versus-a-copy\n",
      "  conso_day['heure']=conso_day['dates'].map(lambda x: str(x.hour)+':'+str(x.minute) +':'+str(x.second))\n"
     ]
    },
    {
     "data": {
      "text/html": [
       "<div>\n",
       "<style scoped>\n",
       "    .dataframe tbody tr th:only-of-type {\n",
       "        vertical-align: middle;\n",
       "    }\n",
       "\n",
       "    .dataframe tbody tr th {\n",
       "        vertical-align: top;\n",
       "    }\n",
       "\n",
       "    .dataframe thead th {\n",
       "        text-align: right;\n",
       "    }\n",
       "</style>\n",
       "<table border=\"1\" class=\"dataframe\">\n",
       "  <thead>\n",
       "    <tr style=\"text-align: right;\">\n",
       "      <th></th>\n",
       "      <th>Interval</th>\n",
       "      <th>kWh</th>\n",
       "      <th>sec</th>\n",
       "      <th>Wh</th>\n",
       "      <th>cumul(ms)</th>\n",
       "      <th>dates</th>\n",
       "      <th>days</th>\n",
       "    </tr>\n",
       "    <tr>\n",
       "      <th>heure</th>\n",
       "      <th></th>\n",
       "      <th></th>\n",
       "      <th></th>\n",
       "      <th></th>\n",
       "      <th></th>\n",
       "      <th></th>\n",
       "      <th></th>\n",
       "    </tr>\n",
       "  </thead>\n",
       "  <tbody>\n",
       "    <tr>\n",
       "      <th>0:0:6</th>\n",
       "      <td>26418</td>\n",
       "      <td>0.14</td>\n",
       "      <td>26.418</td>\n",
       "      <td>136.270725</td>\n",
       "      <td>2327164153</td>\n",
       "      <td>2024-04-03 00:00:06.860362</td>\n",
       "      <td>03/04/2024</td>\n",
       "    </tr>\n",
       "    <tr>\n",
       "      <th>0:0:32</th>\n",
       "      <td>25369</td>\n",
       "      <td>0.14</td>\n",
       "      <td>25.369</td>\n",
       "      <td>141.905475</td>\n",
       "      <td>2327189522</td>\n",
       "      <td>2024-04-03 00:00:32.229362</td>\n",
       "      <td>03/04/2024</td>\n",
       "    </tr>\n",
       "    <tr>\n",
       "      <th>0:0:58</th>\n",
       "      <td>25778</td>\n",
       "      <td>0.14</td>\n",
       "      <td>25.778</td>\n",
       "      <td>139.653969</td>\n",
       "      <td>2327215300</td>\n",
       "      <td>2024-04-03 00:00:58.007362</td>\n",
       "      <td>03/04/2024</td>\n",
       "    </tr>\n",
       "    <tr>\n",
       "      <th>0:1:23</th>\n",
       "      <td>25822</td>\n",
       "      <td>0.14</td>\n",
       "      <td>25.822</td>\n",
       "      <td>139.416002</td>\n",
       "      <td>2327241122</td>\n",
       "      <td>2024-04-03 00:01:23.829362</td>\n",
       "      <td>03/04/2024</td>\n",
       "    </tr>\n",
       "    <tr>\n",
       "      <th>0:1:49</th>\n",
       "      <td>25738</td>\n",
       "      <td>0.14</td>\n",
       "      <td>25.738</td>\n",
       "      <td>139.871008</td>\n",
       "      <td>2327266860</td>\n",
       "      <td>2024-04-03 00:01:49.567362</td>\n",
       "      <td>03/04/2024</td>\n",
       "    </tr>\n",
       "    <tr>\n",
       "      <th>...</th>\n",
       "      <td>...</td>\n",
       "      <td>...</td>\n",
       "      <td>...</td>\n",
       "      <td>...</td>\n",
       "      <td>...</td>\n",
       "      <td>...</td>\n",
       "      <td>...</td>\n",
       "    </tr>\n",
       "    <tr>\n",
       "      <th>9:54:30</th>\n",
       "      <td>23078</td>\n",
       "      <td>0.16</td>\n",
       "      <td>23.078</td>\n",
       "      <td>155.992720</td>\n",
       "      <td>2362827828</td>\n",
       "      <td>2024-04-03 09:54:30.535362</td>\n",
       "      <td>03/04/2024</td>\n",
       "    </tr>\n",
       "    <tr>\n",
       "      <th>9:54:53</th>\n",
       "      <td>23255</td>\n",
       "      <td>0.15</td>\n",
       "      <td>23.255</td>\n",
       "      <td>154.805418</td>\n",
       "      <td>2362851083</td>\n",
       "      <td>2024-04-03 09:54:53.790362</td>\n",
       "      <td>03/04/2024</td>\n",
       "    </tr>\n",
       "    <tr>\n",
       "      <th>9:55:17</th>\n",
       "      <td>23411</td>\n",
       "      <td>0.15</td>\n",
       "      <td>23.411</td>\n",
       "      <td>153.773867</td>\n",
       "      <td>2362874494</td>\n",
       "      <td>2024-04-03 09:55:17.201362</td>\n",
       "      <td>03/04/2024</td>\n",
       "    </tr>\n",
       "    <tr>\n",
       "      <th>9:55:41</th>\n",
       "      <td>24397</td>\n",
       "      <td>0.15</td>\n",
       "      <td>24.397</td>\n",
       "      <td>147.559126</td>\n",
       "      <td>2362898891</td>\n",
       "      <td>2024-04-03 09:55:41.598362</td>\n",
       "      <td>03/04/2024</td>\n",
       "    </tr>\n",
       "    <tr>\n",
       "      <th>9:56:6</th>\n",
       "      <td>24482</td>\n",
       "      <td>0.15</td>\n",
       "      <td>24.482</td>\n",
       "      <td>147.046810</td>\n",
       "      <td>2362923373</td>\n",
       "      <td>2024-04-03 09:56:06.080362</td>\n",
       "      <td>03/04/2024</td>\n",
       "    </tr>\n",
       "  </tbody>\n",
       "</table>\n",
       "<p>1191 rows × 7 columns</p>\n",
       "</div>"
      ],
      "text/plain": [
       "         Interval   kWh     sec          Wh   cumul(ms)  \\\n",
       "heure                                                     \n",
       "0:0:6       26418  0.14  26.418  136.270725  2327164153   \n",
       "0:0:32      25369  0.14  25.369  141.905475  2327189522   \n",
       "0:0:58      25778  0.14  25.778  139.653969  2327215300   \n",
       "0:1:23      25822  0.14  25.822  139.416002  2327241122   \n",
       "0:1:49      25738  0.14  25.738  139.871008  2327266860   \n",
       "...           ...   ...     ...         ...         ...   \n",
       "9:54:30     23078  0.16  23.078  155.992720  2362827828   \n",
       "9:54:53     23255  0.15  23.255  154.805418  2362851083   \n",
       "9:55:17     23411  0.15  23.411  153.773867  2362874494   \n",
       "9:55:41     24397  0.15  24.397  147.559126  2362898891   \n",
       "9:56:6      24482  0.15  24.482  147.046810  2362923373   \n",
       "\n",
       "                             dates        days  \n",
       "heure                                           \n",
       "0:0:6   2024-04-03 00:00:06.860362  03/04/2024  \n",
       "0:0:32  2024-04-03 00:00:32.229362  03/04/2024  \n",
       "0:0:58  2024-04-03 00:00:58.007362  03/04/2024  \n",
       "0:1:23  2024-04-03 00:01:23.829362  03/04/2024  \n",
       "0:1:49  2024-04-03 00:01:49.567362  03/04/2024  \n",
       "...                            ...         ...  \n",
       "9:54:30 2024-04-03 09:54:30.535362  03/04/2024  \n",
       "9:54:53 2024-04-03 09:54:53.790362  03/04/2024  \n",
       "9:55:17 2024-04-03 09:55:17.201362  03/04/2024  \n",
       "9:55:41 2024-04-03 09:55:41.598362  03/04/2024  \n",
       "9:56:6  2024-04-03 09:56:06.080362  03/04/2024  \n",
       "\n",
       "[1191 rows x 7 columns]"
      ]
     },
     "execution_count": 4089,
     "metadata": {},
     "output_type": "execute_result"
    }
   ],
   "source": [
    "conso_day.head(1).dates, conso_day.tail(1).dates\n",
    "conso_day['heure']=conso_day['dates'].map(lambda x: str(x.hour)+':'+str(x.minute) +':'+str(x.second))\n",
    "#=[x.hour for x in conso_day['dates']]\n",
    "conso_day\n",
    "df= conso_day.set_index('heure')\n",
    "df"
   ]
  },
  {
   "cell_type": "code",
   "execution_count": 4090,
   "metadata": {},
   "outputs": [
    {
     "data": {
      "text/html": [
       "<div>\n",
       "<style scoped>\n",
       "    .dataframe tbody tr th:only-of-type {\n",
       "        vertical-align: middle;\n",
       "    }\n",
       "\n",
       "    .dataframe tbody tr th {\n",
       "        vertical-align: top;\n",
       "    }\n",
       "\n",
       "    .dataframe thead th {\n",
       "        text-align: right;\n",
       "    }\n",
       "</style>\n",
       "<table border=\"1\" class=\"dataframe\">\n",
       "  <thead>\n",
       "    <tr style=\"text-align: right;\">\n",
       "      <th></th>\n",
       "      <th>Interval</th>\n",
       "      <th>kWh</th>\n",
       "      <th>sec</th>\n",
       "      <th>Wh</th>\n",
       "      <th>cumul(ms)</th>\n",
       "      <th>dates</th>\n",
       "      <th>days</th>\n",
       "    </tr>\n",
       "    <tr>\n",
       "      <th>heure</th>\n",
       "      <th></th>\n",
       "      <th></th>\n",
       "      <th></th>\n",
       "      <th></th>\n",
       "      <th></th>\n",
       "      <th></th>\n",
       "      <th></th>\n",
       "    </tr>\n",
       "  </thead>\n",
       "  <tbody>\n",
       "    <tr>\n",
       "      <th>0:0:6</th>\n",
       "      <td>26418</td>\n",
       "      <td>0.14</td>\n",
       "      <td>26.418</td>\n",
       "      <td>136.270725</td>\n",
       "      <td>2327164153</td>\n",
       "      <td>2024-04-03 00:00:06.860362</td>\n",
       "      <td>03/04/2024</td>\n",
       "    </tr>\n",
       "    <tr>\n",
       "      <th>0:0:32</th>\n",
       "      <td>25369</td>\n",
       "      <td>0.14</td>\n",
       "      <td>25.369</td>\n",
       "      <td>141.905475</td>\n",
       "      <td>2327189522</td>\n",
       "      <td>2024-04-03 00:00:32.229362</td>\n",
       "      <td>03/04/2024</td>\n",
       "    </tr>\n",
       "    <tr>\n",
       "      <th>0:0:58</th>\n",
       "      <td>25778</td>\n",
       "      <td>0.14</td>\n",
       "      <td>25.778</td>\n",
       "      <td>139.653969</td>\n",
       "      <td>2327215300</td>\n",
       "      <td>2024-04-03 00:00:58.007362</td>\n",
       "      <td>03/04/2024</td>\n",
       "    </tr>\n",
       "    <tr>\n",
       "      <th>0:1:23</th>\n",
       "      <td>25822</td>\n",
       "      <td>0.14</td>\n",
       "      <td>25.822</td>\n",
       "      <td>139.416002</td>\n",
       "      <td>2327241122</td>\n",
       "      <td>2024-04-03 00:01:23.829362</td>\n",
       "      <td>03/04/2024</td>\n",
       "    </tr>\n",
       "    <tr>\n",
       "      <th>0:1:49</th>\n",
       "      <td>25738</td>\n",
       "      <td>0.14</td>\n",
       "      <td>25.738</td>\n",
       "      <td>139.871008</td>\n",
       "      <td>2327266860</td>\n",
       "      <td>2024-04-03 00:01:49.567362</td>\n",
       "      <td>03/04/2024</td>\n",
       "    </tr>\n",
       "    <tr>\n",
       "      <th>...</th>\n",
       "      <td>...</td>\n",
       "      <td>...</td>\n",
       "      <td>...</td>\n",
       "      <td>...</td>\n",
       "      <td>...</td>\n",
       "      <td>...</td>\n",
       "      <td>...</td>\n",
       "    </tr>\n",
       "    <tr>\n",
       "      <th>9:54:30</th>\n",
       "      <td>23078</td>\n",
       "      <td>0.16</td>\n",
       "      <td>23.078</td>\n",
       "      <td>155.992720</td>\n",
       "      <td>2362827828</td>\n",
       "      <td>2024-04-03 09:54:30.535362</td>\n",
       "      <td>03/04/2024</td>\n",
       "    </tr>\n",
       "    <tr>\n",
       "      <th>9:54:53</th>\n",
       "      <td>23255</td>\n",
       "      <td>0.15</td>\n",
       "      <td>23.255</td>\n",
       "      <td>154.805418</td>\n",
       "      <td>2362851083</td>\n",
       "      <td>2024-04-03 09:54:53.790362</td>\n",
       "      <td>03/04/2024</td>\n",
       "    </tr>\n",
       "    <tr>\n",
       "      <th>9:55:17</th>\n",
       "      <td>23411</td>\n",
       "      <td>0.15</td>\n",
       "      <td>23.411</td>\n",
       "      <td>153.773867</td>\n",
       "      <td>2362874494</td>\n",
       "      <td>2024-04-03 09:55:17.201362</td>\n",
       "      <td>03/04/2024</td>\n",
       "    </tr>\n",
       "    <tr>\n",
       "      <th>9:55:41</th>\n",
       "      <td>24397</td>\n",
       "      <td>0.15</td>\n",
       "      <td>24.397</td>\n",
       "      <td>147.559126</td>\n",
       "      <td>2362898891</td>\n",
       "      <td>2024-04-03 09:55:41.598362</td>\n",
       "      <td>03/04/2024</td>\n",
       "    </tr>\n",
       "    <tr>\n",
       "      <th>9:56:6</th>\n",
       "      <td>24482</td>\n",
       "      <td>0.15</td>\n",
       "      <td>24.482</td>\n",
       "      <td>147.046810</td>\n",
       "      <td>2362923373</td>\n",
       "      <td>2024-04-03 09:56:06.080362</td>\n",
       "      <td>03/04/2024</td>\n",
       "    </tr>\n",
       "  </tbody>\n",
       "</table>\n",
       "<p>1191 rows × 7 columns</p>\n",
       "</div>"
      ],
      "text/plain": [
       "         Interval   kWh     sec          Wh   cumul(ms)  \\\n",
       "heure                                                     \n",
       "0:0:6       26418  0.14  26.418  136.270725  2327164153   \n",
       "0:0:32      25369  0.14  25.369  141.905475  2327189522   \n",
       "0:0:58      25778  0.14  25.778  139.653969  2327215300   \n",
       "0:1:23      25822  0.14  25.822  139.416002  2327241122   \n",
       "0:1:49      25738  0.14  25.738  139.871008  2327266860   \n",
       "...           ...   ...     ...         ...         ...   \n",
       "9:54:30     23078  0.16  23.078  155.992720  2362827828   \n",
       "9:54:53     23255  0.15  23.255  154.805418  2362851083   \n",
       "9:55:17     23411  0.15  23.411  153.773867  2362874494   \n",
       "9:55:41     24397  0.15  24.397  147.559126  2362898891   \n",
       "9:56:6      24482  0.15  24.482  147.046810  2362923373   \n",
       "\n",
       "                             dates        days  \n",
       "heure                                           \n",
       "0:0:6   2024-04-03 00:00:06.860362  03/04/2024  \n",
       "0:0:32  2024-04-03 00:00:32.229362  03/04/2024  \n",
       "0:0:58  2024-04-03 00:00:58.007362  03/04/2024  \n",
       "0:1:23  2024-04-03 00:01:23.829362  03/04/2024  \n",
       "0:1:49  2024-04-03 00:01:49.567362  03/04/2024  \n",
       "...                            ...         ...  \n",
       "9:54:30 2024-04-03 09:54:30.535362  03/04/2024  \n",
       "9:54:53 2024-04-03 09:54:53.790362  03/04/2024  \n",
       "9:55:17 2024-04-03 09:55:17.201362  03/04/2024  \n",
       "9:55:41 2024-04-03 09:55:41.598362  03/04/2024  \n",
       "9:56:6  2024-04-03 09:56:06.080362  03/04/2024  \n",
       "\n",
       "[1191 rows x 7 columns]"
      ]
     },
     "execution_count": 4090,
     "metadata": {},
     "output_type": "execute_result"
    }
   ],
   "source": [
    "df"
   ]
  },
  {
   "cell_type": "code",
   "execution_count": 4091,
   "metadata": {},
   "outputs": [],
   "source": [
    "filename='conso_jour.csv'\n",
    "df.to_csv(filename)"
   ]
  },
  {
   "cell_type": "code",
   "execution_count": 4016,
   "metadata": {},
   "outputs": [
    {
     "data": {
      "text/plain": [
       "('09:54:26', 1.186)"
      ]
     },
     "execution_count": 4016,
     "metadata": {},
     "output_type": "execute_result"
    }
   ],
   "source": [
    "here = now.strftime('%H:%M:%S')\n",
    "here, len(df)/1000"
   ]
  },
  {
   "cell_type": "code",
   "execution_count": 4017,
   "metadata": {},
   "outputs": [
    {
     "data": {
      "image/png": "[encoded data removed]",
      "text/plain": [
       "<Figure size 1500x700 with 1 Axes>"
      ]
     },
     "metadata": {},
     "output_type": "display_data"
    }
   ],
   "source": [
    "from matplotlib.ticker import (MultipleLocator, AutoMinorLocator)\n",
    "# consommation d'une journée entière à partir de minuit\n",
    "fig, ax = plt.subplots()\n",
    "major_ticks=300;minor_ticks=100\n",
    "ax.xaxis.set_major_locator(MultipleLocator(major_ticks))  # major ticks tous les 15 min\n",
    "ax.xaxis.set_minor_locator(MultipleLocator(minor_ticks))\n",
    "# the size of A4 paper\n",
    "fig.set_size_inches(15, 7)\n",
    "plt.plot(df['kWh'])\n",
    "#plt.plot(conso_day['heure'],conso_day['kWh'])\n",
    "plt.title(f'Journée du {day} {here} : {conso_jour/1000} kwh')\n",
    "plt.grid()"
   ]
  },
  {
   "cell_type": "code",
   "execution_count": 4018,
   "metadata": {},
   "outputs": [],
   "source": [
    "df['power']=[y for x,y in zip(df['Interval'],df['kWh'])]"
   ]
  },
  {
   "cell_type": "code",
   "execution_count": 4019,
   "metadata": {},
   "outputs": [
    {
     "data": {
      "text/plain": [
       "heure\n",
       "0:0:18     0.14\n",
       "0:0:43     0.14\n",
       "0:1:9      0.14\n",
       "0:1:35     0.14\n",
       "0:2:0      0.14\n",
       "           ... \n",
       "9:52:42    0.15\n",
       "9:53:6     0.15\n",
       "9:53:30    0.15\n",
       "9:53:54    0.15\n",
       "9:54:18    0.15\n",
       "Name: power, Length: 1186, dtype: float64"
      ]
     },
     "execution_count": 4019,
     "metadata": {},
     "output_type": "execute_result"
    }
   ],
   "source": [
    "df['power']"
   ]
  },
  {
   "cell_type": "code",
   "execution_count": 4020,
   "metadata": {},
   "outputs": [
    {
     "data": {
      "text/plain": [
       "<Axes: xlabel='heure'>"
      ]
     },
     "execution_count": 4020,
     "metadata": {},
     "output_type": "execute_result"
    },
    {
     "data": {
      "image/png": "[encoded data removed]",
      "text/plain": [
       "<Figure size 640x480 with 1 Axes>"
      ]
     },
     "metadata": {},
     "output_type": "display_data"
    }
   ],
   "source": [
    "evo=df['power'].cumsum()\n",
    "evo.plot()"
   ]
  },
  {
   "cell_type": "code",
   "execution_count": 4021,
   "metadata": {},
   "outputs": [
    {
     "data": {
      "text/plain": [
       "53"
      ]
     },
     "execution_count": 4021,
     "metadata": {},
     "output_type": "execute_result"
    },
    {
     "data": {
      "image/png": "[encoded data removed]",
      "text/plain": [
       "<Figure size 640x480 with 1 Axes>"
      ]
     },
     "metadata": {},
     "output_type": "display_data"
    }
   ],
   "source": [
    "# bouilloire, microondes, four\n",
    "filter=(.5<df['kWh'])\n",
    "pic_high = df[filter]\n",
    "pic_high['kWh'].plot()\n",
    "len(pic_high)"
   ]
  },
  {
   "cell_type": "markdown",
   "metadata": {},
   "source": []
  },
  {
   "cell_type": "code",
   "execution_count": 4022,
   "metadata": {},
   "outputs": [
    {
     "data": {
      "text/plain": [
       "458"
      ]
     },
     "execution_count": 4022,
     "metadata": {},
     "output_type": "execute_result"
    },
    {
     "data": {
      "image/png": "[encoded data removed]",
      "text/plain": [
       "<Figure size 640x480 with 1 Axes>"
      ]
     },
     "metadata": {},
     "output_type": "display_data"
    }
   ],
   "source": [
    "# frigo, moteur volet\n",
    "pic_middle = df[(0.1<df['kWh']) & (df['kWh']<=.5)]\n",
    "pic_middle['kWh'].plot()\n",
    "len(pic_middle) # wh"
   ]
  },
  {
   "cell_type": "code",
   "execution_count": 4023,
   "metadata": {},
   "outputs": [
    {
     "data": {
      "text/plain": [
       "1133"
      ]
     },
     "execution_count": 4023,
     "metadata": {},
     "output_type": "execute_result"
    },
    {
     "data": {
      "image/png": "[encoded data removed]",
      "text/plain": [
       "<Figure size 640x480 with 1 Axes>"
      ]
     },
     "metadata": {},
     "output_type": "display_data"
    }
   ],
   "source": [
    "# pics frigo par jour\n",
    "filter = (df['kWh']<=0.5)\n",
    "pic_low = df[filter]\n",
    "pic_low['kWh'].plot()\n",
    "len(pic_low) # wh"
   ]
  },
  {
   "cell_type": "code",
   "execution_count": 4024,
   "metadata": {},
   "outputs": [
    {
     "data": {
      "text/plain": [
       "0       2024-03-07 01:34:40.255546\n",
       "1       2024-03-07 01:35:06.498546\n",
       "2       2024-03-07 01:35:32.383546\n",
       "3       2024-03-07 01:35:58.137546\n",
       "4       2024-03-07 01:36:23.911546\n",
       "                   ...            \n",
       "99111   2024-04-03 09:52:42.216546\n",
       "99112   2024-04-03 09:53:06.555546\n",
       "99113   2024-04-03 09:53:30.516546\n",
       "99114   2024-04-03 09:53:54.455546\n",
       "99115   2024-04-03 09:54:18.716546\n",
       "Name: dates, Length: 99116, dtype: datetime64[ns]"
      ]
     },
     "execution_count": 4024,
     "metadata": {},
     "output_type": "execute_result"
    }
   ],
   "source": [
    "time = conso_data['dates']\n",
    "time\n"
   ]
  },
  {
   "cell_type": "code",
   "execution_count": 4025,
   "metadata": {},
   "outputs": [],
   "source": [
    "def format_date(space=3):\n",
    "    plt.gca().xaxis.set_major_formatter(mdates.DateFormatter('%d/%m\\n%H:%M'))\n",
    "    plt.gca().xaxis.set_major_locator(mdates.HourLocator(space))\n",
    "    #plt.gca().xaxis.set_major_locator(mdates.HourLocator(interval=space))\n",
    "    plt.gcf().autofmt_xdate()\n",
    "    plt.grid()"
   ]
  },
  {
   "cell_type": "code",
   "execution_count": 4026,
   "metadata": {},
   "outputs": [],
   "source": [
    "if not old:\n",
    "    major_ticks=1/60;minor_ticks=1/240  # plus de ticks, 4 fois plus de minor\n",
    "    major_ticks=1/30;minor_ticks=1/120   # moins de ticks\n",
    "    major_ticks=1/15;minor_ticks=1/60\n",
    "    major_ticks=1/2;minor_ticks=1/8\n",
    "else:\n",
    "    major_ticks=4;minor_ticks=1   # encore moins si int\n"
   ]
  },
  {
   "cell_type": "code",
   "execution_count": 4027,
   "metadata": {},
   "outputs": [
    {
     "data": {
      "text/plain": [
       "(4, 1)"
      ]
     },
     "execution_count": 4027,
     "metadata": {},
     "output_type": "execute_result"
    }
   ],
   "source": [
    "major_ticks=4;minor_ticks=1\n",
    "major_ticks,minor_ticks"
   ]
  },
  {
   "cell_type": "markdown",
   "metadata": {},
   "source": [
    "## Main graph"
   ]
  },
  {
   "cell_type": "code",
   "execution_count": 4028,
   "metadata": {},
   "outputs": [
    {
     "data": {
      "image/png": "[encoded data removed]",
      "text/plain": [
       "<Figure size 2500x1000 with 1 Axes>"
      ]
     },
     "metadata": {},
     "output_type": "display_data"
    }
   ],
   "source": [
    "\n",
    "from matplotlib.dates import (YEARLY, DateFormatter,rrulewrapper, RRuleLocator, drange)\n",
    "\n",
    "def show_graph():\n",
    "    fig, ax = plt.subplots()\n",
    "    # the size of A4 paper\n",
    "    fig.set_size_inches(25, 10)\n",
    "\n",
    "    #plt.rcParams['axes.autolimit_mode'] = 'round_numbers'\n",
    "    \n",
    "    #formatter = DateFormatter('%d/%m\\n%H:%M:%S')\n",
    "    formatter = DateFormatter('%d/%m\\n%H:%M')\n",
    "    ax.xaxis.set_major_formatter(formatter)\n",
    "\n",
    "    # ticks sur axe des x\n",
    "    ax.xaxis.set_major_locator(MultipleLocator(major_ticks))  # major ticks tous les 15 min\n",
    "    ax.xaxis.set_minor_locator(MultipleLocator(minor_ticks))  # minor ticks tous les 5 min\n",
    "    ax.tick_params(which='both', width=3)\n",
    "    ax.tick_params(which='major', length=15, color='r')\n",
    "    ax.tick_params(which='minor', length=8, color='b')\n",
    "\n",
    "    #plt.plot(conso_data['cumul(ms)']/3600000,conso_data['Wh'])\n",
    "    plt.plot(time,conso_data['Wh'])\n",
    "    plt.ylabel('Wh')\n",
    "    plt.xlabel('Time (heures)')\n",
    "    #format_date(10)\n",
    "    for label in ax.get_xticklabels():\n",
    "        label.set_rotation(40)\n",
    "        label.set_horizontalalignment('right')\n",
    "\n",
    "    #fig.autofmt_xdate()\n",
    "    \n",
    "    plt.grid()\n",
    "    plt.show()\n",
    "show_graph()"
   ]
  },
  {
   "cell_type": "code",
   "execution_count": 4029,
   "metadata": {},
   "outputs": [
    {
     "data": {
      "text/html": [
       "<div>\n",
       "<style scoped>\n",
       "    .dataframe tbody tr th:only-of-type {\n",
       "        vertical-align: middle;\n",
       "    }\n",
       "\n",
       "    .dataframe tbody tr th {\n",
       "        vertical-align: top;\n",
       "    }\n",
       "\n",
       "    .dataframe thead th {\n",
       "        text-align: right;\n",
       "    }\n",
       "</style>\n",
       "<table border=\"1\" class=\"dataframe\">\n",
       "  <thead>\n",
       "    <tr style=\"text-align: right;\">\n",
       "      <th></th>\n",
       "      <th>Interval</th>\n",
       "      <th>kWh</th>\n",
       "      <th>sec</th>\n",
       "      <th>Wh</th>\n",
       "      <th>cumul(ms)</th>\n",
       "      <th>dates</th>\n",
       "      <th>days</th>\n",
       "    </tr>\n",
       "  </thead>\n",
       "  <tbody>\n",
       "    <tr>\n",
       "      <th>99115</th>\n",
       "      <td>24261</td>\n",
       "      <td>0.15</td>\n",
       "      <td>24.261</td>\n",
       "      <td>148.386299</td>\n",
       "      <td>2362804750</td>\n",
       "      <td>2024-04-03 09:54:18.716546</td>\n",
       "      <td>03/04/2024</td>\n",
       "    </tr>\n",
       "  </tbody>\n",
       "</table>\n",
       "</div>"
      ],
      "text/plain": [
       "       Interval   kWh     sec          Wh   cumul(ms)  \\\n",
       "99115     24261  0.15  24.261  148.386299  2362804750   \n",
       "\n",
       "                           dates        days  \n",
       "99115 2024-04-03 09:54:18.716546  03/04/2024  "
      ]
     },
     "execution_count": 4029,
     "metadata": {},
     "output_type": "execute_result"
    }
   ],
   "source": [
    "cumul_conso = len(conso_data)\n",
    "conso_data.tail(1)"
   ]
  },
  {
   "cell_type": "code",
   "execution_count": 4030,
   "metadata": {},
   "outputs": [
    {
     "data": {
      "text/plain": [
       "2362804750000"
      ]
     },
     "execution_count": 4030,
     "metadata": {},
     "output_type": "execute_result"
    }
   ],
   "source": [
    "cumtime= int(conso_data._get_value(l,'cumul(ms)')*1000)\n",
    "cumtime"
   ]
  },
  {
   "cell_type": "markdown",
   "metadata": {},
   "source": [
    "# Slice of last 1 kWh"
   ]
  },
  {
   "cell_type": "code",
   "execution_count": 4031,
   "metadata": {},
   "outputs": [
    {
     "data": {
      "text/plain": [
       "99116"
      ]
     },
     "execution_count": 4031,
     "metadata": {},
     "output_type": "execute_result"
    }
   ],
   "source": [
    "l = len(conso_data)  # total watt consommés\n",
    "l"
   ]
  },
  {
   "cell_type": "code",
   "execution_count": 4032,
   "metadata": {},
   "outputs": [
    {
     "data": {
      "text/plain": [
       "(99116, 1000)"
      ]
     },
     "execution_count": 4032,
     "metadata": {},
     "output_type": "execute_result"
    }
   ],
   "source": [
    "k = 1\n",
    "taille = k*1000  # fenetre k*1000 watt consommés\n",
    "l,taille"
   ]
  },
  {
   "cell_type": "code",
   "execution_count": 4033,
   "metadata": {},
   "outputs": [
    {
     "data": {
      "text/plain": [
       "1000"
      ]
     },
     "execution_count": 4033,
     "metadata": {},
     "output_type": "execute_result"
    }
   ],
   "source": [
    "if l<1000:\n",
    "    part = 1\n",
    "else: part = 1/2\n",
    "#taille = int(part*l)\n",
    "taille"
   ]
  },
  {
   "cell_type": "code",
   "execution_count": 4034,
   "metadata": {},
   "outputs": [
    {
     "data": {
      "text/plain": [
       "(1000,\n",
       "        Interval   kWh     sec          Wh   cumul(ms)  \\\n",
       " 98116     35512  0.10  35.512  101.374183  2332518704   \n",
       " 98117     35601  0.10  35.601  101.120755  2332554305   \n",
       " 98118     35539  0.10  35.539  101.297166  2332589844   \n",
       " 98119     35554  0.10  35.554  101.254430  2332625398   \n",
       " 98120     35556  0.10  35.556  101.248734  2332660954   \n",
       " ...         ...   ...     ...         ...         ...   \n",
       " 99111     24336  0.15  24.336  147.928994  2362708250   \n",
       " 99112     24339  0.15  24.339  147.910761  2362732589   \n",
       " 99113     23961  0.15  23.961  150.244147  2362756550   \n",
       " 99114     23939  0.15  23.939  150.382221  2362780489   \n",
       " 99115     24261  0.15  24.261  148.386299  2362804750   \n",
       " \n",
       "                            dates        days  \n",
       " 98116 2024-04-03 01:29:32.670546  03/04/2024  \n",
       " 98117 2024-04-03 01:30:08.271546  03/04/2024  \n",
       " 98118 2024-04-03 01:30:43.810546  03/04/2024  \n",
       " 98119 2024-04-03 01:31:19.364546  03/04/2024  \n",
       " 98120 2024-04-03 01:31:54.920546  03/04/2024  \n",
       " ...                          ...         ...  \n",
       " 99111 2024-04-03 09:52:42.216546  03/04/2024  \n",
       " 99112 2024-04-03 09:53:06.555546  03/04/2024  \n",
       " 99113 2024-04-03 09:53:30.516546  03/04/2024  \n",
       " 99114 2024-04-03 09:53:54.455546  03/04/2024  \n",
       " 99115 2024-04-03 09:54:18.716546  03/04/2024  \n",
       " \n",
       " [1000 rows x 7 columns])"
      ]
     },
     "execution_count": 4034,
     "metadata": {},
     "output_type": "execute_result"
    }
   ],
   "source": [
    "data = conso_data.tail(taille)\n",
    "len(data),data"
   ]
  },
  {
   "cell_type": "code",
   "execution_count": 4035,
   "metadata": {},
   "outputs": [],
   "source": [
    "now = datetime.now()\n",
    "# conso.csv dynamique\n",
    "cumtime_start= int(conso_data._get_value(l-taille+1,'cumul(ms)')*1000) # conversion microseconds\n"
   ]
  },
  {
   "cell_type": "code",
   "execution_count": 4036,
   "metadata": {},
   "outputs": [],
   "source": [
    "cumtime_end= int(data._get_value(l-1,'cumul(ms)')*1000) # conversion microseconds\n"
   ]
  },
  {
   "cell_type": "code",
   "execution_count": 4037,
   "metadata": {},
   "outputs": [
    {
     "data": {
      "text/plain": [
       "(2362804750000, 2332554305000)"
      ]
     },
     "execution_count": 4037,
     "metadata": {},
     "output_type": "execute_result"
    }
   ],
   "source": [
    "cumtime_end,cumtime_start"
   ]
  },
  {
   "cell_type": "code",
   "execution_count": 4038,
   "metadata": {},
   "outputs": [
    {
     "data": {
      "text/plain": [
       "30250445000"
      ]
     },
     "execution_count": 4038,
     "metadata": {},
     "output_type": "execute_result"
    }
   ],
   "source": [
    "#last_interval = int(data._get_value(l,'Interval')*1000) # conversion microseconds\n",
    "delta_cumtime = cumtime_end - cumtime_start #+ last_interval\n",
    "delta_cumtime"
   ]
  },
  {
   "cell_type": "code",
   "execution_count": 4039,
   "metadata": {},
   "outputs": [
    {
     "data": {
      "text/plain": [
       "(datetime.datetime(2024, 4, 3, 9, 54, 39, 977609),\n",
       " datetime.datetime(2024, 4, 3, 1, 30, 29, 532609),\n",
       " '03/04/2024 09:54:18')"
      ]
     },
     "execution_count": 4039,
     "metadata": {},
     "output_type": "execute_result"
    }
   ],
   "source": [
    "\n",
    "base = now - timedelta(microseconds=delta_cumtime)\n",
    "now,base, data['dates'][l-1].strftime('%d/%m/%Y %H:%M:%S')\n"
   ]
  },
  {
   "cell_type": "code",
   "execution_count": 4040,
   "metadata": {},
   "outputs": [
    {
     "data": {
      "text/html": [
       "<div>\n",
       "<style scoped>\n",
       "    .dataframe tbody tr th:only-of-type {\n",
       "        vertical-align: middle;\n",
       "    }\n",
       "\n",
       "    .dataframe tbody tr th {\n",
       "        vertical-align: top;\n",
       "    }\n",
       "\n",
       "    .dataframe thead th {\n",
       "        text-align: right;\n",
       "    }\n",
       "</style>\n",
       "<table border=\"1\" class=\"dataframe\">\n",
       "  <thead>\n",
       "    <tr style=\"text-align: right;\">\n",
       "      <th></th>\n",
       "      <th>Interval</th>\n",
       "      <th>kWh</th>\n",
       "      <th>sec</th>\n",
       "      <th>Wh</th>\n",
       "      <th>cumul(ms)</th>\n",
       "      <th>dates</th>\n",
       "      <th>days</th>\n",
       "    </tr>\n",
       "  </thead>\n",
       "  <tbody>\n",
       "    <tr>\n",
       "      <th>0</th>\n",
       "      <td>26289</td>\n",
       "      <td>0.14</td>\n",
       "      <td>26.289</td>\n",
       "      <td>136.939404</td>\n",
       "      <td>26289</td>\n",
       "      <td>2024-03-07 01:34:40.255546</td>\n",
       "      <td>07/03/2024</td>\n",
       "    </tr>\n",
       "    <tr>\n",
       "      <th>1</th>\n",
       "      <td>26243</td>\n",
       "      <td>0.14</td>\n",
       "      <td>26.243</td>\n",
       "      <td>137.179438</td>\n",
       "      <td>52532</td>\n",
       "      <td>2024-03-07 01:35:06.498546</td>\n",
       "      <td>07/03/2024</td>\n",
       "    </tr>\n",
       "    <tr>\n",
       "      <th>2</th>\n",
       "      <td>25885</td>\n",
       "      <td>0.14</td>\n",
       "      <td>25.885</td>\n",
       "      <td>139.076685</td>\n",
       "      <td>78417</td>\n",
       "      <td>2024-03-07 01:35:32.383546</td>\n",
       "      <td>07/03/2024</td>\n",
       "    </tr>\n",
       "    <tr>\n",
       "      <th>3</th>\n",
       "      <td>25754</td>\n",
       "      <td>0.14</td>\n",
       "      <td>25.754</td>\n",
       "      <td>139.784111</td>\n",
       "      <td>104171</td>\n",
       "      <td>2024-03-07 01:35:58.137546</td>\n",
       "      <td>07/03/2024</td>\n",
       "    </tr>\n",
       "    <tr>\n",
       "      <th>4</th>\n",
       "      <td>25774</td>\n",
       "      <td>0.14</td>\n",
       "      <td>25.774</td>\n",
       "      <td>139.675642</td>\n",
       "      <td>129945</td>\n",
       "      <td>2024-03-07 01:36:23.911546</td>\n",
       "      <td>07/03/2024</td>\n",
       "    </tr>\n",
       "    <tr>\n",
       "      <th>...</th>\n",
       "      <td>...</td>\n",
       "      <td>...</td>\n",
       "      <td>...</td>\n",
       "      <td>...</td>\n",
       "      <td>...</td>\n",
       "      <td>...</td>\n",
       "      <td>...</td>\n",
       "    </tr>\n",
       "    <tr>\n",
       "      <th>99111</th>\n",
       "      <td>24336</td>\n",
       "      <td>0.15</td>\n",
       "      <td>24.336</td>\n",
       "      <td>147.928994</td>\n",
       "      <td>2362708250</td>\n",
       "      <td>2024-04-03 09:52:42.216546</td>\n",
       "      <td>03/04/2024</td>\n",
       "    </tr>\n",
       "    <tr>\n",
       "      <th>99112</th>\n",
       "      <td>24339</td>\n",
       "      <td>0.15</td>\n",
       "      <td>24.339</td>\n",
       "      <td>147.910761</td>\n",
       "      <td>2362732589</td>\n",
       "      <td>2024-04-03 09:53:06.555546</td>\n",
       "      <td>03/04/2024</td>\n",
       "    </tr>\n",
       "    <tr>\n",
       "      <th>99113</th>\n",
       "      <td>23961</td>\n",
       "      <td>0.15</td>\n",
       "      <td>23.961</td>\n",
       "      <td>150.244147</td>\n",
       "      <td>2362756550</td>\n",
       "      <td>2024-04-03 09:53:30.516546</td>\n",
       "      <td>03/04/2024</td>\n",
       "    </tr>\n",
       "    <tr>\n",
       "      <th>99114</th>\n",
       "      <td>23939</td>\n",
       "      <td>0.15</td>\n",
       "      <td>23.939</td>\n",
       "      <td>150.382221</td>\n",
       "      <td>2362780489</td>\n",
       "      <td>2024-04-03 09:53:54.455546</td>\n",
       "      <td>03/04/2024</td>\n",
       "    </tr>\n",
       "    <tr>\n",
       "      <th>99115</th>\n",
       "      <td>24261</td>\n",
       "      <td>0.15</td>\n",
       "      <td>24.261</td>\n",
       "      <td>148.386299</td>\n",
       "      <td>2362804750</td>\n",
       "      <td>2024-04-03 09:54:18.716546</td>\n",
       "      <td>03/04/2024</td>\n",
       "    </tr>\n",
       "  </tbody>\n",
       "</table>\n",
       "<p>99116 rows × 7 columns</p>\n",
       "</div>"
      ],
      "text/plain": [
       "       Interval   kWh     sec          Wh   cumul(ms)  \\\n",
       "0         26289  0.14  26.289  136.939404       26289   \n",
       "1         26243  0.14  26.243  137.179438       52532   \n",
       "2         25885  0.14  25.885  139.076685       78417   \n",
       "3         25754  0.14  25.754  139.784111      104171   \n",
       "4         25774  0.14  25.774  139.675642      129945   \n",
       "...         ...   ...     ...         ...         ...   \n",
       "99111     24336  0.15  24.336  147.928994  2362708250   \n",
       "99112     24339  0.15  24.339  147.910761  2362732589   \n",
       "99113     23961  0.15  23.961  150.244147  2362756550   \n",
       "99114     23939  0.15  23.939  150.382221  2362780489   \n",
       "99115     24261  0.15  24.261  148.386299  2362804750   \n",
       "\n",
       "                           dates        days  \n",
       "0     2024-03-07 01:34:40.255546  07/03/2024  \n",
       "1     2024-03-07 01:35:06.498546  07/03/2024  \n",
       "2     2024-03-07 01:35:32.383546  07/03/2024  \n",
       "3     2024-03-07 01:35:58.137546  07/03/2024  \n",
       "4     2024-03-07 01:36:23.911546  07/03/2024  \n",
       "...                          ...         ...  \n",
       "99111 2024-04-03 09:52:42.216546  03/04/2024  \n",
       "99112 2024-04-03 09:53:06.555546  03/04/2024  \n",
       "99113 2024-04-03 09:53:30.516546  03/04/2024  \n",
       "99114 2024-04-03 09:53:54.455546  03/04/2024  \n",
       "99115 2024-04-03 09:54:18.716546  03/04/2024  \n",
       "\n",
       "[99116 rows x 7 columns]"
      ]
     },
     "execution_count": 4040,
     "metadata": {},
     "output_type": "execute_result"
    }
   ],
   "source": [
    "conso_data"
   ]
  },
  {
   "cell_type": "code",
   "execution_count": 4041,
   "metadata": {},
   "outputs": [
    {
     "data": {
      "text/plain": [
       "('03/04/2024 01:30:08', '03/04/2024 09:54:18')"
      ]
     },
     "execution_count": 4041,
     "metadata": {},
     "output_type": "execute_result"
    }
   ],
   "source": [
    "end = conso_data['dates'][l-1].strftime('%d/%m/%Y %H:%M:%S')\n",
    "start = conso_data['dates'][l-taille+1].strftime('%d/%m/%Y %H:%M:%S')\n",
    "start,end"
   ]
  },
  {
   "cell_type": "code",
   "execution_count": 4042,
   "metadata": {},
   "outputs": [
    {
     "data": {
      "text/plain": [
       "('2024-04-03 01:29:32.670546', '2024-04-03 09:54:18.716546')"
      ]
     },
     "execution_count": 4042,
     "metadata": {},
     "output_type": "execute_result"
    }
   ],
   "source": [
    "data.head(1)['dates'].to_string(index=False),data.tail(1)['dates'].to_string(index=False)"
   ]
  },
  {
   "cell_type": "code",
   "execution_count": 4043,
   "metadata": {},
   "outputs": [
    {
     "data": {
      "text/plain": [
       "1"
      ]
     },
     "execution_count": 4043,
     "metadata": {},
     "output_type": "execute_result"
    }
   ],
   "source": [
    "k"
   ]
  },
  {
   "cell_type": "code",
   "execution_count": 4044,
   "metadata": {},
   "outputs": [
    {
     "data": {
      "text/plain": [
       "98116    35512\n",
       "98117    35601\n",
       "98118    35539\n",
       "98119    35554\n",
       "98120    35556\n",
       "         ...  \n",
       "99111    24336\n",
       "99112    24339\n",
       "99113    23961\n",
       "99114    23939\n",
       "99115    24261\n",
       "Name: Interval, Length: 1000, dtype: int64"
      ]
     },
     "execution_count": 4044,
     "metadata": {},
     "output_type": "execute_result"
    }
   ],
   "source": [
    "data.Interval.tail(1000)"
   ]
  },
  {
   "cell_type": "code",
   "execution_count": 4045,
   "metadata": {},
   "outputs": [
    {
     "data": {
      "text/plain": [
       "(8.422655, 2.8494578016076875, 8, 25, 21)"
      ]
     },
     "execution_count": 4045,
     "metadata": {},
     "output_type": "execute_result"
    }
   ],
   "source": [
    "conversion_us_heure = 1/1000/60/60 \n",
    "temps_1kWh = sum(data.Interval.tail(1000))*conversion_us_heure  #somme 1000 interval = temps conso 1 kWh\n",
    "conso_jour = 24/temps_1kWh\n",
    "heure = int(temps_1kWh)\n",
    "mn = (temps_1kWh - heure)*60\n",
    "sec = (mn - int(mn))*60\n",
    "temps_1kWh, conso_jour,heure,int(mn),int(sec)"
   ]
  },
  {
   "cell_type": "code",
   "execution_count": 4046,
   "metadata": {},
   "outputs": [
    {
     "name": "stderr",
     "output_type": "stream",
     "text": [
      "C:\\Users\\jean\\AppData\\Local\\Temp\\ipykernel_14100\\3458501435.py:1: SettingWithCopyWarning: \n",
      "A value is trying to be set on a copy of a slice from a DataFrame.\n",
      "Try using .loc[row_indexer,col_indexer] = value instead\n",
      "\n",
      "See the caveats in the documentation: https://pandas.pydata.org/pandas-docs/stable/user_guide/indexing.html#returning-a-view-versus-a-copy\n",
      "  data['heure']=conso_data['dates']#.strftime('%d/%m/%Y %H:%M:%S')\n"
     ]
    }
   ],
   "source": [
    "data['heure']=conso_data['dates']#.strftime('%d/%m/%Y %H:%M:%S')"
   ]
  },
  {
   "cell_type": "code",
   "execution_count": 4047,
   "metadata": {},
   "outputs": [
    {
     "data": {
      "text/html": [
       "<div>\n",
       "<style scoped>\n",
       "    .dataframe tbody tr th:only-of-type {\n",
       "        vertical-align: middle;\n",
       "    }\n",
       "\n",
       "    .dataframe tbody tr th {\n",
       "        vertical-align: top;\n",
       "    }\n",
       "\n",
       "    .dataframe thead th {\n",
       "        text-align: right;\n",
       "    }\n",
       "</style>\n",
       "<table border=\"1\" class=\"dataframe\">\n",
       "  <thead>\n",
       "    <tr style=\"text-align: right;\">\n",
       "      <th></th>\n",
       "      <th>Interval</th>\n",
       "      <th>kWh</th>\n",
       "      <th>sec</th>\n",
       "      <th>Wh</th>\n",
       "      <th>cumul(ms)</th>\n",
       "      <th>dates</th>\n",
       "      <th>days</th>\n",
       "      <th>heure</th>\n",
       "    </tr>\n",
       "  </thead>\n",
       "  <tbody>\n",
       "    <tr>\n",
       "      <th>98116</th>\n",
       "      <td>35512</td>\n",
       "      <td>0.10</td>\n",
       "      <td>35.512</td>\n",
       "      <td>101.374183</td>\n",
       "      <td>2332518704</td>\n",
       "      <td>2024-04-03 01:29:32.670546</td>\n",
       "      <td>03/04/2024</td>\n",
       "      <td>2024-04-03 01:29:32.670546</td>\n",
       "    </tr>\n",
       "    <tr>\n",
       "      <th>98117</th>\n",
       "      <td>35601</td>\n",
       "      <td>0.10</td>\n",
       "      <td>35.601</td>\n",
       "      <td>101.120755</td>\n",
       "      <td>2332554305</td>\n",
       "      <td>2024-04-03 01:30:08.271546</td>\n",
       "      <td>03/04/2024</td>\n",
       "      <td>2024-04-03 01:30:08.271546</td>\n",
       "    </tr>\n",
       "    <tr>\n",
       "      <th>98118</th>\n",
       "      <td>35539</td>\n",
       "      <td>0.10</td>\n",
       "      <td>35.539</td>\n",
       "      <td>101.297166</td>\n",
       "      <td>2332589844</td>\n",
       "      <td>2024-04-03 01:30:43.810546</td>\n",
       "      <td>03/04/2024</td>\n",
       "      <td>2024-04-03 01:30:43.810546</td>\n",
       "    </tr>\n",
       "    <tr>\n",
       "      <th>98119</th>\n",
       "      <td>35554</td>\n",
       "      <td>0.10</td>\n",
       "      <td>35.554</td>\n",
       "      <td>101.254430</td>\n",
       "      <td>2332625398</td>\n",
       "      <td>2024-04-03 01:31:19.364546</td>\n",
       "      <td>03/04/2024</td>\n",
       "      <td>2024-04-03 01:31:19.364546</td>\n",
       "    </tr>\n",
       "    <tr>\n",
       "      <th>98120</th>\n",
       "      <td>35556</td>\n",
       "      <td>0.10</td>\n",
       "      <td>35.556</td>\n",
       "      <td>101.248734</td>\n",
       "      <td>2332660954</td>\n",
       "      <td>2024-04-03 01:31:54.920546</td>\n",
       "      <td>03/04/2024</td>\n",
       "      <td>2024-04-03 01:31:54.920546</td>\n",
       "    </tr>\n",
       "    <tr>\n",
       "      <th>...</th>\n",
       "      <td>...</td>\n",
       "      <td>...</td>\n",
       "      <td>...</td>\n",
       "      <td>...</td>\n",
       "      <td>...</td>\n",
       "      <td>...</td>\n",
       "      <td>...</td>\n",
       "      <td>...</td>\n",
       "    </tr>\n",
       "    <tr>\n",
       "      <th>99111</th>\n",
       "      <td>24336</td>\n",
       "      <td>0.15</td>\n",
       "      <td>24.336</td>\n",
       "      <td>147.928994</td>\n",
       "      <td>2362708250</td>\n",
       "      <td>2024-04-03 09:52:42.216546</td>\n",
       "      <td>03/04/2024</td>\n",
       "      <td>2024-04-03 09:52:42.216546</td>\n",
       "    </tr>\n",
       "    <tr>\n",
       "      <th>99112</th>\n",
       "      <td>24339</td>\n",
       "      <td>0.15</td>\n",
       "      <td>24.339</td>\n",
       "      <td>147.910761</td>\n",
       "      <td>2362732589</td>\n",
       "      <td>2024-04-03 09:53:06.555546</td>\n",
       "      <td>03/04/2024</td>\n",
       "      <td>2024-04-03 09:53:06.555546</td>\n",
       "    </tr>\n",
       "    <tr>\n",
       "      <th>99113</th>\n",
       "      <td>23961</td>\n",
       "      <td>0.15</td>\n",
       "      <td>23.961</td>\n",
       "      <td>150.244147</td>\n",
       "      <td>2362756550</td>\n",
       "      <td>2024-04-03 09:53:30.516546</td>\n",
       "      <td>03/04/2024</td>\n",
       "      <td>2024-04-03 09:53:30.516546</td>\n",
       "    </tr>\n",
       "    <tr>\n",
       "      <th>99114</th>\n",
       "      <td>23939</td>\n",
       "      <td>0.15</td>\n",
       "      <td>23.939</td>\n",
       "      <td>150.382221</td>\n",
       "      <td>2362780489</td>\n",
       "      <td>2024-04-03 09:53:54.455546</td>\n",
       "      <td>03/04/2024</td>\n",
       "      <td>2024-04-03 09:53:54.455546</td>\n",
       "    </tr>\n",
       "    <tr>\n",
       "      <th>99115</th>\n",
       "      <td>24261</td>\n",
       "      <td>0.15</td>\n",
       "      <td>24.261</td>\n",
       "      <td>148.386299</td>\n",
       "      <td>2362804750</td>\n",
       "      <td>2024-04-03 09:54:18.716546</td>\n",
       "      <td>03/04/2024</td>\n",
       "      <td>2024-04-03 09:54:18.716546</td>\n",
       "    </tr>\n",
       "  </tbody>\n",
       "</table>\n",
       "<p>1000 rows × 8 columns</p>\n",
       "</div>"
      ],
      "text/plain": [
       "       Interval   kWh     sec          Wh   cumul(ms)  \\\n",
       "98116     35512  0.10  35.512  101.374183  2332518704   \n",
       "98117     35601  0.10  35.601  101.120755  2332554305   \n",
       "98118     35539  0.10  35.539  101.297166  2332589844   \n",
       "98119     35554  0.10  35.554  101.254430  2332625398   \n",
       "98120     35556  0.10  35.556  101.248734  2332660954   \n",
       "...         ...   ...     ...         ...         ...   \n",
       "99111     24336  0.15  24.336  147.928994  2362708250   \n",
       "99112     24339  0.15  24.339  147.910761  2362732589   \n",
       "99113     23961  0.15  23.961  150.244147  2362756550   \n",
       "99114     23939  0.15  23.939  150.382221  2362780489   \n",
       "99115     24261  0.15  24.261  148.386299  2362804750   \n",
       "\n",
       "                           dates        days                      heure  \n",
       "98116 2024-04-03 01:29:32.670546  03/04/2024 2024-04-03 01:29:32.670546  \n",
       "98117 2024-04-03 01:30:08.271546  03/04/2024 2024-04-03 01:30:08.271546  \n",
       "98118 2024-04-03 01:30:43.810546  03/04/2024 2024-04-03 01:30:43.810546  \n",
       "98119 2024-04-03 01:31:19.364546  03/04/2024 2024-04-03 01:31:19.364546  \n",
       "98120 2024-04-03 01:31:54.920546  03/04/2024 2024-04-03 01:31:54.920546  \n",
       "...                          ...         ...                        ...  \n",
       "99111 2024-04-03 09:52:42.216546  03/04/2024 2024-04-03 09:52:42.216546  \n",
       "99112 2024-04-03 09:53:06.555546  03/04/2024 2024-04-03 09:53:06.555546  \n",
       "99113 2024-04-03 09:53:30.516546  03/04/2024 2024-04-03 09:53:30.516546  \n",
       "99114 2024-04-03 09:53:54.455546  03/04/2024 2024-04-03 09:53:54.455546  \n",
       "99115 2024-04-03 09:54:18.716546  03/04/2024 2024-04-03 09:54:18.716546  \n",
       "\n",
       "[1000 rows x 8 columns]"
      ]
     },
     "execution_count": 4047,
     "metadata": {},
     "output_type": "execute_result"
    }
   ],
   "source": [
    "data"
   ]
  },
  {
   "cell_type": "code",
   "execution_count": 4048,
   "metadata": {},
   "outputs": [
    {
     "data": {
      "text/plain": [
       "<Axes: >"
      ]
     },
     "execution_count": 4048,
     "metadata": {},
     "output_type": "execute_result"
    },
    {
     "data": {
      "image/png": "[encoded data removed]",
      "text/plain": [
       "<Figure size 640x480 with 1 Axes>"
      ]
     },
     "metadata": {},
     "output_type": "display_data"
    }
   ],
   "source": [
    "data.tail(600)['Wh'].plot()"
   ]
  },
  {
   "cell_type": "code",
   "execution_count": 4049,
   "metadata": {},
   "outputs": [
    {
     "data": {
      "text/plain": [
       "98116    101.374183\n",
       "98117    101.120755\n",
       "98118    101.297166\n",
       "98119    101.254430\n",
       "98120    101.248734\n",
       "            ...    \n",
       "99111    147.928994\n",
       "99112    147.910761\n",
       "99113    150.244147\n",
       "99114    150.382221\n",
       "99115    148.386299\n",
       "Name: Wh, Length: 1000, dtype: float64"
      ]
     },
     "execution_count": 4049,
     "metadata": {},
     "output_type": "execute_result"
    }
   ],
   "source": [
    "data['Wh']"
   ]
  },
  {
   "cell_type": "markdown",
   "metadata": {},
   "source": [
    "# k kW window graph"
   ]
  },
  {
   "cell_type": "code",
   "execution_count": 4050,
   "metadata": {},
   "outputs": [
    {
     "data": {
      "image/png": "[encoded data removed]",
      "text/plain": [
       "<Figure size 2500x1000 with 1 Axes>"
      ]
     },
     "metadata": {},
     "output_type": "display_data"
    }
   ],
   "source": [
    "fig, ax = plt.subplots()\n",
    "# the size of A4 paper\n",
    "fig.set_size_inches(25, 10)\n",
    "\n",
    "formatter = DateFormatter('%d/%m\\n%H:%M')\n",
    "ax.xaxis.set_major_formatter(formatter)\n",
    "\n",
    "# ticks sur axe des x\n",
    "major_ticks=1/30;minor_ticks=1/360\n",
    "ax.xaxis.set_major_locator(MultipleLocator(major_ticks))  # 1 major tick tous les 48 min\n",
    "ax.xaxis.set_minor_locator(MultipleLocator(minor_ticks))  # 1 minor ticks tous les 4 min\n",
    "ax.tick_params(which='both', width=3)\n",
    "ax.tick_params(which='major', length=15, color='r')\n",
    "ax.tick_params(which='minor', length=8, color='b')\n",
    "\n",
    "plt.title(f'Consommation {k} kW (Temps: {heure} heures {int(mn)} minutes {int(sec)} secondes)\\nDe {start} à {end}')\n",
    "plt.plot(data['dates'],data['Wh'])\n",
    "plt.ylabel('Wh')\n",
    "plt.xlabel('Time (heures)')\n",
    "plt.grid()\n"
   ]
  },
  {
   "cell_type": "code",
   "execution_count": 4051,
   "metadata": {},
   "outputs": [
    {
     "data": {
      "text/plain": [
       "<Axes: ylabel='Frequency'>"
      ]
     },
     "execution_count": 4051,
     "metadata": {},
     "output_type": "execute_result"
    },
    {
     "data": {
      "image/png": "[encoded data removed]",
      "text/plain": [
       "<Figure size 640x480 with 1 Axes>"
      ]
     },
     "metadata": {},
     "output_type": "display_data"
    }
   ],
   "source": [
    "data.kWh.plot.hist(bins=50,rwidth=0.8,grid=True)\n"
   ]
  },
  {
   "cell_type": "code",
   "execution_count": 4052,
   "metadata": {},
   "outputs": [
    {
     "data": {
      "text/html": [
       "<div>\n",
       "<style scoped>\n",
       "    .dataframe tbody tr th:only-of-type {\n",
       "        vertical-align: middle;\n",
       "    }\n",
       "\n",
       "    .dataframe tbody tr th {\n",
       "        vertical-align: top;\n",
       "    }\n",
       "\n",
       "    .dataframe thead th {\n",
       "        text-align: right;\n",
       "    }\n",
       "</style>\n",
       "<table border=\"1\" class=\"dataframe\">\n",
       "  <thead>\n",
       "    <tr style=\"text-align: right;\">\n",
       "      <th></th>\n",
       "      <th>Interval</th>\n",
       "      <th>kWh</th>\n",
       "      <th>sec</th>\n",
       "      <th>Wh</th>\n",
       "      <th>cumul(ms)</th>\n",
       "      <th>dates</th>\n",
       "      <th>days</th>\n",
       "    </tr>\n",
       "  </thead>\n",
       "  <tbody>\n",
       "    <tr>\n",
       "      <th>99111</th>\n",
       "      <td>24336</td>\n",
       "      <td>0.15</td>\n",
       "      <td>24.336</td>\n",
       "      <td>147.928994</td>\n",
       "      <td>2362708250</td>\n",
       "      <td>2024-04-03 09:52:42.216546</td>\n",
       "      <td>03/04/2024</td>\n",
       "    </tr>\n",
       "    <tr>\n",
       "      <th>99112</th>\n",
       "      <td>24339</td>\n",
       "      <td>0.15</td>\n",
       "      <td>24.339</td>\n",
       "      <td>147.910761</td>\n",
       "      <td>2362732589</td>\n",
       "      <td>2024-04-03 09:53:06.555546</td>\n",
       "      <td>03/04/2024</td>\n",
       "    </tr>\n",
       "    <tr>\n",
       "      <th>99113</th>\n",
       "      <td>23961</td>\n",
       "      <td>0.15</td>\n",
       "      <td>23.961</td>\n",
       "      <td>150.244147</td>\n",
       "      <td>2362756550</td>\n",
       "      <td>2024-04-03 09:53:30.516546</td>\n",
       "      <td>03/04/2024</td>\n",
       "    </tr>\n",
       "    <tr>\n",
       "      <th>99114</th>\n",
       "      <td>23939</td>\n",
       "      <td>0.15</td>\n",
       "      <td>23.939</td>\n",
       "      <td>150.382221</td>\n",
       "      <td>2362780489</td>\n",
       "      <td>2024-04-03 09:53:54.455546</td>\n",
       "      <td>03/04/2024</td>\n",
       "    </tr>\n",
       "    <tr>\n",
       "      <th>99115</th>\n",
       "      <td>24261</td>\n",
       "      <td>0.15</td>\n",
       "      <td>24.261</td>\n",
       "      <td>148.386299</td>\n",
       "      <td>2362804750</td>\n",
       "      <td>2024-04-03 09:54:18.716546</td>\n",
       "      <td>03/04/2024</td>\n",
       "    </tr>\n",
       "  </tbody>\n",
       "</table>\n",
       "</div>"
      ],
      "text/plain": [
       "       Interval   kWh     sec          Wh   cumul(ms)  \\\n",
       "99111     24336  0.15  24.336  147.928994  2362708250   \n",
       "99112     24339  0.15  24.339  147.910761  2362732589   \n",
       "99113     23961  0.15  23.961  150.244147  2362756550   \n",
       "99114     23939  0.15  23.939  150.382221  2362780489   \n",
       "99115     24261  0.15  24.261  148.386299  2362804750   \n",
       "\n",
       "                           dates        days  \n",
       "99111 2024-04-03 09:52:42.216546  03/04/2024  \n",
       "99112 2024-04-03 09:53:06.555546  03/04/2024  \n",
       "99113 2024-04-03 09:53:30.516546  03/04/2024  \n",
       "99114 2024-04-03 09:53:54.455546  03/04/2024  \n",
       "99115 2024-04-03 09:54:18.716546  03/04/2024  "
      ]
     },
     "execution_count": 4052,
     "metadata": {},
     "output_type": "execute_result"
    }
   ],
   "source": [
    "conso_data.tail()"
   ]
  },
  {
   "cell_type": "code",
   "execution_count": 4053,
   "metadata": {},
   "outputs": [
    {
     "data": {
      "image/png": "[encoded data removed]",
      "text/plain": [
       "<Figure size 640x480 with 1 Axes>"
      ]
     },
     "metadata": {},
     "output_type": "display_data"
    }
   ],
   "source": [
    "conso_data.tail(1000)['kWh'].plot()\n",
    "plt.grid()"
   ]
  },
  {
   "cell_type": "code",
   "execution_count": 4054,
   "metadata": {},
   "outputs": [
    {
     "data": {
      "text/plain": [
       "(2362804750000.0, 39380.07916666667)"
      ]
     },
     "execution_count": 4054,
     "metadata": {},
     "output_type": "execute_result"
    }
   ],
   "source": [
    "#plt.plot(conso_data['sec'])\n",
    "now = dt.datetime.now()\n",
    "last_cumul = np.array(conso_data['cumul(ms)'].tail(1))[0]*1000.0  # us\n",
    "last_cumul, last_cumul/60e6  # min"
   ]
  },
  {
   "cell_type": "code",
   "execution_count": 4055,
   "metadata": {},
   "outputs": [
    {
     "data": {
      "text/plain": [
       "(datetime.datetime(2024, 4, 3, 9, 54, 44, 261027),\n",
       " datetime.datetime(2024, 3, 7, 1, 34, 39, 511027))"
      ]
     },
     "execution_count": 4055,
     "metadata": {},
     "output_type": "execute_result"
    }
   ],
   "source": [
    "begin = now - dt.timedelta(microseconds=last_cumul)  #2023, 6, 24, 9, 14, (39, 942895) approximatif\n",
    "now, begin"
   ]
  },
  {
   "cell_type": "code",
   "execution_count": 4056,
   "metadata": {},
   "outputs": [
    {
     "data": {
      "text/plain": [
       "(99116, 2362805, 656.3347222222222)"
      ]
     },
     "execution_count": 4056,
     "metadata": {},
     "output_type": "execute_result"
    }
   ],
   "source": [
    "x = mdates.drange(begin,now,dt.timedelta(microseconds=1000000))  # seconds\n",
    "len(conso_data),len(x),len(x)/3600"
   ]
  },
  {
   "cell_type": "code",
   "execution_count": 4057,
   "metadata": {},
   "outputs": [],
   "source": [
    "def format_date(space=3):\n",
    "    plt.gca().xaxis.set_major_formatter(mdates.DateFormatter('%d/%m\\n%H:%M'))\n",
    "    plt.gca().xaxis.set_major_locator(mdates.HourLocator(space))\n",
    "    plt.gca().xaxis.set_major_locator(mdates.HourLocator(interval=space))\n",
    "    plt.gcf().autofmt_xdate()\n",
    "    plt.grid()"
   ]
  },
  {
   "cell_type": "code",
   "execution_count": 4058,
   "metadata": {},
   "outputs": [
    {
     "data": {
      "text/plain": [
       "732"
      ]
     },
     "execution_count": 4058,
     "metadata": {},
     "output_type": "execute_result"
    }
   ],
   "source": [
    "import numpy as np\n",
    "import datetime as dt\n",
    "import matplotlib.pyplot as plt\n",
    "base = dt.datetime(2005, 2, 1)\n",
    "dates = [base + dt.timedelta(hours=(2 * i)) for i in range(732)]\n",
    "N = len(dates)\n",
    "N\n"
   ]
  },
  {
   "cell_type": "code",
   "execution_count": 4059,
   "metadata": {},
   "outputs": [
    {
     "data": {
      "text/plain": [
       "61.0"
      ]
     },
     "execution_count": 4059,
     "metadata": {},
     "output_type": "execute_result"
    }
   ],
   "source": [
    "732/12 # 60 jours"
   ]
  },
  {
   "cell_type": "code",
   "execution_count": 4060,
   "metadata": {},
   "outputs": [
    {
     "data": {
      "text/plain": [
       "(datetime.datetime(2005, 2, 1, 0, 0), datetime.datetime(2005, 4, 2, 22, 0))"
      ]
     },
     "execution_count": 4060,
     "metadata": {},
     "output_type": "execute_result"
    }
   ],
   "source": [
    "dates[0],dates[-1]"
   ]
  },
  {
   "cell_type": "code",
   "execution_count": 4061,
   "metadata": {},
   "outputs": [
    {
     "data": {
      "image/png": "[encoded data removed]",
      "text/plain": [
       "<Figure size 600x600 with 3 Axes>"
      ]
     },
     "metadata": {},
     "output_type": "display_data"
    }
   ],
   "source": [
    "np.random.seed(19680801)\n",
    "y = np.cumsum(np.random.randn(N))\n",
    "\n",
    "fig, axs = plt.subplots(3, 1, layout='constrained', figsize=(6, 6))\n",
    "lims = [(np.datetime64('2005-02'), np.datetime64('2005-04')),\n",
    "        (np.datetime64('2005-02-03'), np.datetime64('2005-02-15')),\n",
    "        (np.datetime64('2005-02-03 11:00'), np.datetime64('2005-02-04 13:20'))]\n",
    "for nn, ax in enumerate(axs):\n",
    "    ax.plot(dates, y)\n",
    "    ax.set_xlim(lims[nn])\n",
    "    # rotate_labels...\n",
    "    for label in ax.get_xticklabels():\n",
    "        label.set_rotation(40)\n",
    "        label.set_horizontalalignment('right')\n",
    "axs[0].set_title('Default Date Formatter')\n",
    "plt.show()"
   ]
  },
  {
   "cell_type": "code",
   "execution_count": 4062,
   "metadata": {},
   "outputs": [
    {
     "data": {
      "text/plain": [
       "datetime.datetime(2005, 4, 2, 22, 0)"
      ]
     },
     "execution_count": 4062,
     "metadata": {},
     "output_type": "execute_result"
    }
   ],
   "source": [
    "t = dt.datetime(2005, 4, 2, 22, 0)\n",
    "t"
   ]
  }
 ],
 "metadata": {
  "kernelspec": {
   "display_name": "Python 3",
   "language": "python",
   "name": "python3"
  },
  "language_info": {
   "codemirror_mode": {
    "name": "ipython",
    "version": 3
   },
   "file_extension": ".py",
   "mimetype": "text/x-python",
   "name": "python",
   "nbconvert_exporter": "python",
   "pygments_lexer": "ipython3",
   "version": "3.11.4"
  },
  "orig_nbformat": 4
 },
 "nbformat": 4,
 "nbformat_minor": 2
}
