{
 "cells": [
  {
   "cell_type": "code",
   "execution_count": 306,
   "metadata": {},
   "outputs": [],
   "source": [
    "import pandas as pd\n",
    "import numpy as np\n",
    "import matplotlib.pyplot as plt\n",
    "import matplotlib.dates as mdates\n",
    "import matplotlib.ticker as ticker\n",
    "from matplotlib.axis import Axis\n",
    "import datetime as dt\n",
    "\n",
    "#plt.style.use(['science', 'notebook'])\n",
    "#%matplotlib inline\n"
   ]
  },
  {
   "cell_type": "code",
   "execution_count": 307,
   "metadata": {},
   "outputs": [],
   "source": [
    "data_file = \"conso.txt\""
   ]
  },
  {
   "cell_type": "code",
   "execution_count": 308,
   "metadata": {},
   "outputs": [],
   "source": [
    "def read_text(filename):\n",
    "    f = open(filename, \"r\")\n",
    "    text = f.readlines()\n",
    "    f.close()\n",
    "    print(text)\n",
    "\n",
    "def save_text(filename):\n",
    "    f = open(filename, \"w\")\n",
    "    f.write(text)\n",
    "    f.close()\n",
    "\n",
    "\n",
    "#read_text(data_file)\n",
    "def get_data(filename):    \n",
    "    data = pd.read_csv(filename)\n",
    "    #data['time'] = pd.to_datetime(data['time'])  #.dt.tz_convert(None)\n",
    "    #data.info()\n",
    "    #print(data.tail(5))\n",
    "    return data\n"
   ]
  },
  {
   "cell_type": "code",
   "execution_count": 309,
   "metadata": {},
   "outputs": [],
   "source": [
    "text='test'\n",
    "filename='text.txt'\n",
    "#save_text(filename)"
   ]
  },
  {
   "cell_type": "code",
   "execution_count": 310,
   "metadata": {},
   "outputs": [
    {
     "name": "stdout",
     "output_type": "stream",
     "text": [
      "<class 'pandas.core.frame.DataFrame'>\n",
      "RangeIndex: 1013 entries, 0 to 1012\n",
      "Data columns (total 1 columns):\n",
      " #   Column  Non-Null Count  Dtype  \n",
      "---  ------  --------------  -----  \n",
      " 0   Conso   1013 non-null   float64\n",
      "dtypes: float64(1)\n",
      "memory usage: 8.0 KB\n"
     ]
    }
   ],
   "source": [
    "# read data with pandas\n",
    "data = get_data(data_file)\n",
    "data.info()\n"
   ]
  },
  {
   "cell_type": "code",
   "execution_count": 311,
   "metadata": {},
   "outputs": [
    {
     "data": {
      "text/html": [
       "<div>\n",
       "<style scoped>\n",
       "    .dataframe tbody tr th:only-of-type {\n",
       "        vertical-align: middle;\n",
       "    }\n",
       "\n",
       "    .dataframe tbody tr th {\n",
       "        vertical-align: top;\n",
       "    }\n",
       "\n",
       "    .dataframe thead th {\n",
       "        text-align: right;\n",
       "    }\n",
       "</style>\n",
       "<table border=\"1\" class=\"dataframe\">\n",
       "  <thead>\n",
       "    <tr style=\"text-align: right;\">\n",
       "      <th></th>\n",
       "      <th>Conso</th>\n",
       "      <th>interval</th>\n",
       "    </tr>\n",
       "  </thead>\n",
       "  <tbody>\n",
       "    <tr>\n",
       "      <th>0</th>\n",
       "      <td>0.19</td>\n",
       "      <td>18947.368421</td>\n",
       "    </tr>\n",
       "    <tr>\n",
       "      <th>1</th>\n",
       "      <td>0.19</td>\n",
       "      <td>18947.368421</td>\n",
       "    </tr>\n",
       "    <tr>\n",
       "      <th>2</th>\n",
       "      <td>0.19</td>\n",
       "      <td>18947.368421</td>\n",
       "    </tr>\n",
       "    <tr>\n",
       "      <th>3</th>\n",
       "      <td>0.19</td>\n",
       "      <td>18947.368421</td>\n",
       "    </tr>\n",
       "    <tr>\n",
       "      <th>4</th>\n",
       "      <td>0.19</td>\n",
       "      <td>18947.368421</td>\n",
       "    </tr>\n",
       "    <tr>\n",
       "      <th>...</th>\n",
       "      <td>...</td>\n",
       "      <td>...</td>\n",
       "    </tr>\n",
       "    <tr>\n",
       "      <th>1008</th>\n",
       "      <td>0.16</td>\n",
       "      <td>22500.000000</td>\n",
       "    </tr>\n",
       "    <tr>\n",
       "      <th>1009</th>\n",
       "      <td>0.16</td>\n",
       "      <td>22500.000000</td>\n",
       "    </tr>\n",
       "    <tr>\n",
       "      <th>1010</th>\n",
       "      <td>0.17</td>\n",
       "      <td>21176.470588</td>\n",
       "    </tr>\n",
       "    <tr>\n",
       "      <th>1011</th>\n",
       "      <td>0.17</td>\n",
       "      <td>21176.470588</td>\n",
       "    </tr>\n",
       "    <tr>\n",
       "      <th>1012</th>\n",
       "      <td>0.16</td>\n",
       "      <td>22500.000000</td>\n",
       "    </tr>\n",
       "  </tbody>\n",
       "</table>\n",
       "<p>1013 rows × 2 columns</p>\n",
       "</div>"
      ],
      "text/plain": [
       "      Conso      interval\n",
       "0      0.19  18947.368421\n",
       "1      0.19  18947.368421\n",
       "2      0.19  18947.368421\n",
       "3      0.19  18947.368421\n",
       "4      0.19  18947.368421\n",
       "...     ...           ...\n",
       "1008   0.16  22500.000000\n",
       "1009   0.16  22500.000000\n",
       "1010   0.17  21176.470588\n",
       "1011   0.17  21176.470588\n",
       "1012   0.16  22500.000000\n",
       "\n",
       "[1013 rows x 2 columns]"
      ]
     },
     "execution_count": 311,
     "metadata": {},
     "output_type": "execute_result"
    }
   ],
   "source": [
    "data['interval']=3600/data['Conso']\n",
    "data"
   ]
  },
  {
   "cell_type": "code",
   "execution_count": 312,
   "metadata": {},
   "outputs": [
    {
     "data": {
      "image/png": "[encoded data removed]",
      "text/plain": [
       "<Figure size 640x480 with 1 Axes>"
      ]
     },
     "metadata": {},
     "output_type": "display_data"
    },
    {
     "data": {
      "text/plain": [
       "<matplotlib.legend.Legend at 0x13f1e296a10>"
      ]
     },
     "execution_count": 312,
     "metadata": {},
     "output_type": "execute_result"
    },
    {
     "data": {
      "image/png": "[encoded data removed]",
      "text/plain": [
       "<Figure size 640x480 with 1 Axes>"
      ]
     },
     "metadata": {},
     "output_type": "display_data"
    }
   ],
   "source": [
    "\n",
    "plt.title('Consommation Linky')\n",
    "plt.plot(data['interval'], color='red',label='Interval')\n",
    "plt.grid()\n",
    "plt.legend()\n",
    "plt.show()\n",
    "plt.plot(data['Conso'], color='red',label='Conso')\n",
    "plt.grid()\n",
    "plt.legend()"
   ]
  },
  {
   "attachments": {},
   "cell_type": "markdown",
   "metadata": {},
   "source": [
    "### conso.csv sur WD6TB mis à jour avec PI4"
   ]
  },
  {
   "cell_type": "code",
   "execution_count": 313,
   "metadata": {},
   "outputs": [],
   "source": [
    "def get_data2(filename):    \n",
    "    data = pd.read_csv(filename, names=[\"Interval\",\"kWh\"])\n",
    "    return data"
   ]
  },
  {
   "cell_type": "code",
   "execution_count": 314,
   "metadata": {},
   "outputs": [
    {
     "name": "stdout",
     "output_type": "stream",
     "text": [
      "<class 'pandas.core.frame.DataFrame'>\n",
      "RangeIndex: 119625 entries, 0 to 119624\n",
      "Data columns (total 2 columns):\n",
      " #   Column    Non-Null Count   Dtype  \n",
      "---  ------    --------------   -----  \n",
      " 0   Interval  119625 non-null  int64  \n",
      " 1   kWh       119625 non-null  float64\n",
      "dtypes: float64(1), int64(1)\n",
      "memory usage: 1.8 MB\n"
     ]
    }
   ],
   "source": [
    "old = False\n",
    "\n",
    "if old:\n",
    "    #conso_file = r\"C:\\Users\\jean\\Documents\\conso.csv\"\n",
    "    conso_file = r\"Y:\\Documents\\conso_old.csv\"\n",
    "    conso_file = r\"Y:\\Documents\\conso - Copy (2).csv\"\n",
    "else:\n",
    "    conso_file = r\"Y:\\Documents\\conso.csv\"\n",
    "#old = False\n",
    "conso_data = get_data2(conso_file)\n",
    "conso_data.info()\n"
   ]
  },
  {
   "cell_type": "code",
   "execution_count": 315,
   "metadata": {},
   "outputs": [
    {
     "data": {
      "text/html": [
       "<div>\n",
       "<style scoped>\n",
       "    .dataframe tbody tr th:only-of-type {\n",
       "        vertical-align: middle;\n",
       "    }\n",
       "\n",
       "    .dataframe tbody tr th {\n",
       "        vertical-align: top;\n",
       "    }\n",
       "\n",
       "    .dataframe thead th {\n",
       "        text-align: right;\n",
       "    }\n",
       "</style>\n",
       "<table border=\"1\" class=\"dataframe\">\n",
       "  <thead>\n",
       "    <tr style=\"text-align: right;\">\n",
       "      <th></th>\n",
       "      <th>Interval</th>\n",
       "      <th>kWh</th>\n",
       "    </tr>\n",
       "  </thead>\n",
       "  <tbody>\n",
       "    <tr>\n",
       "      <th>0</th>\n",
       "      <td>26289</td>\n",
       "      <td>0.14</td>\n",
       "    </tr>\n",
       "    <tr>\n",
       "      <th>1</th>\n",
       "      <td>26243</td>\n",
       "      <td>0.14</td>\n",
       "    </tr>\n",
       "    <tr>\n",
       "      <th>2</th>\n",
       "      <td>25885</td>\n",
       "      <td>0.14</td>\n",
       "    </tr>\n",
       "    <tr>\n",
       "      <th>3</th>\n",
       "      <td>25754</td>\n",
       "      <td>0.14</td>\n",
       "    </tr>\n",
       "    <tr>\n",
       "      <th>4</th>\n",
       "      <td>25774</td>\n",
       "      <td>0.14</td>\n",
       "    </tr>\n",
       "    <tr>\n",
       "      <th>...</th>\n",
       "      <td>...</td>\n",
       "      <td>...</td>\n",
       "    </tr>\n",
       "    <tr>\n",
       "      <th>119620</th>\n",
       "      <td>27732</td>\n",
       "      <td>0.13</td>\n",
       "    </tr>\n",
       "    <tr>\n",
       "      <th>119621</th>\n",
       "      <td>27670</td>\n",
       "      <td>0.13</td>\n",
       "    </tr>\n",
       "    <tr>\n",
       "      <th>119622</th>\n",
       "      <td>27365</td>\n",
       "      <td>0.13</td>\n",
       "    </tr>\n",
       "    <tr>\n",
       "      <th>119623</th>\n",
       "      <td>26915</td>\n",
       "      <td>0.13</td>\n",
       "    </tr>\n",
       "    <tr>\n",
       "      <th>119624</th>\n",
       "      <td>26889</td>\n",
       "      <td>0.13</td>\n",
       "    </tr>\n",
       "  </tbody>\n",
       "</table>\n",
       "<p>119625 rows × 2 columns</p>\n",
       "</div>"
      ],
      "text/plain": [
       "        Interval   kWh\n",
       "0          26289  0.14\n",
       "1          26243  0.14\n",
       "2          25885  0.14\n",
       "3          25754  0.14\n",
       "4          25774  0.14\n",
       "...          ...   ...\n",
       "119620     27732  0.13\n",
       "119621     27670  0.13\n",
       "119622     27365  0.13\n",
       "119623     26915  0.13\n",
       "119624     26889  0.13\n",
       "\n",
       "[119625 rows x 2 columns]"
      ]
     },
     "execution_count": 315,
     "metadata": {},
     "output_type": "execute_result"
    }
   ],
   "source": [
    "conso_data = conso_data.dropna()\n",
    "conso_data"
   ]
  },
  {
   "cell_type": "code",
   "execution_count": 316,
   "metadata": {},
   "outputs": [
    {
     "data": {
      "text/plain": [
       "<Axes: >"
      ]
     },
     "execution_count": 316,
     "metadata": {},
     "output_type": "execute_result"
    },
    {
     "data": {
      "image/png": "[encoded data removed]",
      "text/plain": [
       "<Figure size 640x480 with 1 Axes>"
      ]
     },
     "metadata": {},
     "output_type": "display_data"
    }
   ],
   "source": [
    "conso_data['kWh'].plot()"
   ]
  },
  {
   "cell_type": "code",
   "execution_count": 317,
   "metadata": {},
   "outputs": [
    {
     "data": {
      "text/html": [
       "<div>\n",
       "<style scoped>\n",
       "    .dataframe tbody tr th:only-of-type {\n",
       "        vertical-align: middle;\n",
       "    }\n",
       "\n",
       "    .dataframe tbody tr th {\n",
       "        vertical-align: top;\n",
       "    }\n",
       "\n",
       "    .dataframe thead th {\n",
       "        text-align: right;\n",
       "    }\n",
       "</style>\n",
       "<table border=\"1\" class=\"dataframe\">\n",
       "  <thead>\n",
       "    <tr style=\"text-align: right;\">\n",
       "      <th></th>\n",
       "      <th>Interval</th>\n",
       "      <th>kWh</th>\n",
       "      <th>sec</th>\n",
       "      <th>Wh</th>\n",
       "      <th>cumul(ms)</th>\n",
       "    </tr>\n",
       "  </thead>\n",
       "  <tbody>\n",
       "    <tr>\n",
       "      <th>0</th>\n",
       "      <td>26289</td>\n",
       "      <td>0.14</td>\n",
       "      <td>26.289</td>\n",
       "      <td>136.939404</td>\n",
       "      <td>26289</td>\n",
       "    </tr>\n",
       "    <tr>\n",
       "      <th>1</th>\n",
       "      <td>26243</td>\n",
       "      <td>0.14</td>\n",
       "      <td>26.243</td>\n",
       "      <td>137.179438</td>\n",
       "      <td>52532</td>\n",
       "    </tr>\n",
       "    <tr>\n",
       "      <th>2</th>\n",
       "      <td>25885</td>\n",
       "      <td>0.14</td>\n",
       "      <td>25.885</td>\n",
       "      <td>139.076685</td>\n",
       "      <td>78417</td>\n",
       "    </tr>\n",
       "    <tr>\n",
       "      <th>3</th>\n",
       "      <td>25754</td>\n",
       "      <td>0.14</td>\n",
       "      <td>25.754</td>\n",
       "      <td>139.784111</td>\n",
       "      <td>104171</td>\n",
       "    </tr>\n",
       "    <tr>\n",
       "      <th>4</th>\n",
       "      <td>25774</td>\n",
       "      <td>0.14</td>\n",
       "      <td>25.774</td>\n",
       "      <td>139.675642</td>\n",
       "      <td>129945</td>\n",
       "    </tr>\n",
       "    <tr>\n",
       "      <th>...</th>\n",
       "      <td>...</td>\n",
       "      <td>...</td>\n",
       "      <td>...</td>\n",
       "      <td>...</td>\n",
       "      <td>...</td>\n",
       "    </tr>\n",
       "    <tr>\n",
       "      <th>119620</th>\n",
       "      <td>27732</td>\n",
       "      <td>0.13</td>\n",
       "      <td>27.732</td>\n",
       "      <td>129.813933</td>\n",
       "      <td>2825424517</td>\n",
       "    </tr>\n",
       "    <tr>\n",
       "      <th>119621</th>\n",
       "      <td>27670</td>\n",
       "      <td>0.13</td>\n",
       "      <td>27.670</td>\n",
       "      <td>130.104807</td>\n",
       "      <td>2825452187</td>\n",
       "    </tr>\n",
       "    <tr>\n",
       "      <th>119622</th>\n",
       "      <td>27365</td>\n",
       "      <td>0.13</td>\n",
       "      <td>27.365</td>\n",
       "      <td>131.554906</td>\n",
       "      <td>2825479552</td>\n",
       "    </tr>\n",
       "    <tr>\n",
       "      <th>119623</th>\n",
       "      <td>26915</td>\n",
       "      <td>0.13</td>\n",
       "      <td>26.915</td>\n",
       "      <td>133.754412</td>\n",
       "      <td>2825506467</td>\n",
       "    </tr>\n",
       "    <tr>\n",
       "      <th>119624</th>\n",
       "      <td>26889</td>\n",
       "      <td>0.13</td>\n",
       "      <td>26.889</td>\n",
       "      <td>133.883744</td>\n",
       "      <td>2825533356</td>\n",
       "    </tr>\n",
       "  </tbody>\n",
       "</table>\n",
       "<p>119625 rows × 5 columns</p>\n",
       "</div>"
      ],
      "text/plain": [
       "        Interval   kWh     sec          Wh   cumul(ms)\n",
       "0          26289  0.14  26.289  136.939404       26289\n",
       "1          26243  0.14  26.243  137.179438       52532\n",
       "2          25885  0.14  25.885  139.076685       78417\n",
       "3          25754  0.14  25.754  139.784111      104171\n",
       "4          25774  0.14  25.774  139.675642      129945\n",
       "...          ...   ...     ...         ...         ...\n",
       "119620     27732  0.13  27.732  129.813933  2825424517\n",
       "119621     27670  0.13  27.670  130.104807  2825452187\n",
       "119622     27365  0.13  27.365  131.554906  2825479552\n",
       "119623     26915  0.13  26.915  133.754412  2825506467\n",
       "119624     26889  0.13  26.889  133.883744  2825533356\n",
       "\n",
       "[119625 rows x 5 columns]"
      ]
     },
     "execution_count": 317,
     "metadata": {},
     "output_type": "execute_result"
    }
   ],
   "source": [
    "conso_data['sec']=conso_data['Interval']/1000\n",
    "conso_data['Wh']=3600000/conso_data['Interval']\n",
    "conso_data['cumul(ms)']=conso_data['Interval'].cumsum(axis=0)\n",
    "\n",
    "conso_data"
   ]
  },
  {
   "cell_type": "code",
   "execution_count": 318,
   "metadata": {},
   "outputs": [
    {
     "data": {
      "text/plain": [
       "119624"
      ]
     },
     "execution_count": 318,
     "metadata": {},
     "output_type": "execute_result"
    }
   ],
   "source": [
    "# index dernier echantillon\n",
    "l=len(conso_data)-1\n",
    "l"
   ]
  },
  {
   "cell_type": "code",
   "execution_count": 319,
   "metadata": {},
   "outputs": [
    {
     "data": {
      "text/plain": [
       "2825533356000"
      ]
     },
     "execution_count": 319,
     "metadata": {},
     "output_type": "execute_result"
    }
   ],
   "source": [
    "# cumtime = int(conso_data['cumul(ms)'].tail(1).values[0]*1000)\n",
    "cumtime= int(conso_data._get_value(l,'cumul(ms)')*1000)\n",
    "cumtime"
   ]
  },
  {
   "cell_type": "code",
   "execution_count": 320,
   "metadata": {},
   "outputs": [
    {
     "data": {
      "text/plain": [
       "datetime.datetime(2024, 3, 7, 1, 39, 35, 181657)"
      ]
     },
     "execution_count": 320,
     "metadata": {},
     "output_type": "execute_result"
    }
   ],
   "source": [
    "from datetime import datetime, timedelta\n",
    "now = datetime.now()\n",
    "# conso.csv dynamique\n",
    "base = now - timedelta(microseconds=cumtime)\n",
    "base  # date de début\n"
   ]
  },
  {
   "cell_type": "code",
   "execution_count": 321,
   "metadata": {},
   "outputs": [
    {
     "data": {
      "text/plain": [
       "False"
      ]
     },
     "execution_count": 321,
     "metadata": {},
     "output_type": "execute_result"
    }
   ],
   "source": [
    "old"
   ]
  },
  {
   "cell_type": "code",
   "execution_count": 322,
   "metadata": {},
   "outputs": [
    {
     "name": "stdout",
     "output_type": "stream",
     "text": [
      "<class 'pandas.core.frame.DataFrame'>\n",
      "RangeIndex: 119625 entries, 0 to 119624\n",
      "Data columns (total 6 columns):\n",
      " #   Column     Non-Null Count   Dtype         \n",
      "---  ------     --------------   -----         \n",
      " 0   Interval   119625 non-null  int64         \n",
      " 1   kWh        119625 non-null  float64       \n",
      " 2   sec        119625 non-null  float64       \n",
      " 3   Wh         119625 non-null  float64       \n",
      " 4   cumul(ms)  119625 non-null  int64         \n",
      " 5   dates      119625 non-null  datetime64[ns]\n",
      "dtypes: datetime64[ns](1), float64(3), int64(2)\n",
      "memory usage: 5.5 MB\n"
     ]
    }
   ],
   "source": [
    "if old:\n",
    "    base = dt.datetime(2023, 8, 1, 10, 45, 0) - timedelta(microseconds=cumtime)\n",
    "\n",
    "conso_data['dates'] = [base + dt.timedelta(microseconds=t*1000) for t in conso_data['cumul(ms)']]\n",
    "conso_data.info()\n"
   ]
  },
  {
   "cell_type": "code",
   "execution_count": 323,
   "metadata": {},
   "outputs": [
    {
     "data": {
      "text/html": [
       "<div>\n",
       "<style scoped>\n",
       "    .dataframe tbody tr th:only-of-type {\n",
       "        vertical-align: middle;\n",
       "    }\n",
       "\n",
       "    .dataframe tbody tr th {\n",
       "        vertical-align: top;\n",
       "    }\n",
       "\n",
       "    .dataframe thead th {\n",
       "        text-align: right;\n",
       "    }\n",
       "</style>\n",
       "<table border=\"1\" class=\"dataframe\">\n",
       "  <thead>\n",
       "    <tr style=\"text-align: right;\">\n",
       "      <th></th>\n",
       "      <th>Interval</th>\n",
       "      <th>kWh</th>\n",
       "      <th>sec</th>\n",
       "      <th>Wh</th>\n",
       "      <th>cumul(ms)</th>\n",
       "      <th>dates</th>\n",
       "      <th>days</th>\n",
       "    </tr>\n",
       "  </thead>\n",
       "  <tbody>\n",
       "    <tr>\n",
       "      <th>0</th>\n",
       "      <td>26289</td>\n",
       "      <td>0.14</td>\n",
       "      <td>26.289</td>\n",
       "      <td>136.939404</td>\n",
       "      <td>26289</td>\n",
       "      <td>2024-03-07 01:40:01.470657</td>\n",
       "      <td>07/03/2024</td>\n",
       "    </tr>\n",
       "    <tr>\n",
       "      <th>1</th>\n",
       "      <td>26243</td>\n",
       "      <td>0.14</td>\n",
       "      <td>26.243</td>\n",
       "      <td>137.179438</td>\n",
       "      <td>52532</td>\n",
       "      <td>2024-03-07 01:40:27.713657</td>\n",
       "      <td>07/03/2024</td>\n",
       "    </tr>\n",
       "    <tr>\n",
       "      <th>2</th>\n",
       "      <td>25885</td>\n",
       "      <td>0.14</td>\n",
       "      <td>25.885</td>\n",
       "      <td>139.076685</td>\n",
       "      <td>78417</td>\n",
       "      <td>2024-03-07 01:40:53.598657</td>\n",
       "      <td>07/03/2024</td>\n",
       "    </tr>\n",
       "    <tr>\n",
       "      <th>3</th>\n",
       "      <td>25754</td>\n",
       "      <td>0.14</td>\n",
       "      <td>25.754</td>\n",
       "      <td>139.784111</td>\n",
       "      <td>104171</td>\n",
       "      <td>2024-03-07 01:41:19.352657</td>\n",
       "      <td>07/03/2024</td>\n",
       "    </tr>\n",
       "    <tr>\n",
       "      <th>4</th>\n",
       "      <td>25774</td>\n",
       "      <td>0.14</td>\n",
       "      <td>25.774</td>\n",
       "      <td>139.675642</td>\n",
       "      <td>129945</td>\n",
       "      <td>2024-03-07 01:41:45.126657</td>\n",
       "      <td>07/03/2024</td>\n",
       "    </tr>\n",
       "    <tr>\n",
       "      <th>...</th>\n",
       "      <td>...</td>\n",
       "      <td>...</td>\n",
       "      <td>...</td>\n",
       "      <td>...</td>\n",
       "      <td>...</td>\n",
       "      <td>...</td>\n",
       "      <td>...</td>\n",
       "    </tr>\n",
       "    <tr>\n",
       "      <th>119620</th>\n",
       "      <td>27732</td>\n",
       "      <td>0.13</td>\n",
       "      <td>27.732</td>\n",
       "      <td>129.813933</td>\n",
       "      <td>2825424517</td>\n",
       "      <td>2024-04-08 18:29:59.698657</td>\n",
       "      <td>08/04/2024</td>\n",
       "    </tr>\n",
       "    <tr>\n",
       "      <th>119621</th>\n",
       "      <td>27670</td>\n",
       "      <td>0.13</td>\n",
       "      <td>27.670</td>\n",
       "      <td>130.104807</td>\n",
       "      <td>2825452187</td>\n",
       "      <td>2024-04-08 18:30:27.368657</td>\n",
       "      <td>08/04/2024</td>\n",
       "    </tr>\n",
       "    <tr>\n",
       "      <th>119622</th>\n",
       "      <td>27365</td>\n",
       "      <td>0.13</td>\n",
       "      <td>27.365</td>\n",
       "      <td>131.554906</td>\n",
       "      <td>2825479552</td>\n",
       "      <td>2024-04-08 18:30:54.733657</td>\n",
       "      <td>08/04/2024</td>\n",
       "    </tr>\n",
       "    <tr>\n",
       "      <th>119623</th>\n",
       "      <td>26915</td>\n",
       "      <td>0.13</td>\n",
       "      <td>26.915</td>\n",
       "      <td>133.754412</td>\n",
       "      <td>2825506467</td>\n",
       "      <td>2024-04-08 18:31:21.648657</td>\n",
       "      <td>08/04/2024</td>\n",
       "    </tr>\n",
       "    <tr>\n",
       "      <th>119624</th>\n",
       "      <td>26889</td>\n",
       "      <td>0.13</td>\n",
       "      <td>26.889</td>\n",
       "      <td>133.883744</td>\n",
       "      <td>2825533356</td>\n",
       "      <td>2024-04-08 18:31:48.537657</td>\n",
       "      <td>08/04/2024</td>\n",
       "    </tr>\n",
       "  </tbody>\n",
       "</table>\n",
       "<p>119625 rows × 7 columns</p>\n",
       "</div>"
      ],
      "text/plain": [
       "        Interval   kWh     sec          Wh   cumul(ms)  \\\n",
       "0          26289  0.14  26.289  136.939404       26289   \n",
       "1          26243  0.14  26.243  137.179438       52532   \n",
       "2          25885  0.14  25.885  139.076685       78417   \n",
       "3          25754  0.14  25.754  139.784111      104171   \n",
       "4          25774  0.14  25.774  139.675642      129945   \n",
       "...          ...   ...     ...         ...         ...   \n",
       "119620     27732  0.13  27.732  129.813933  2825424517   \n",
       "119621     27670  0.13  27.670  130.104807  2825452187   \n",
       "119622     27365  0.13  27.365  131.554906  2825479552   \n",
       "119623     26915  0.13  26.915  133.754412  2825506467   \n",
       "119624     26889  0.13  26.889  133.883744  2825533356   \n",
       "\n",
       "                            dates        days  \n",
       "0      2024-03-07 01:40:01.470657  07/03/2024  \n",
       "1      2024-03-07 01:40:27.713657  07/03/2024  \n",
       "2      2024-03-07 01:40:53.598657  07/03/2024  \n",
       "3      2024-03-07 01:41:19.352657  07/03/2024  \n",
       "4      2024-03-07 01:41:45.126657  07/03/2024  \n",
       "...                           ...         ...  \n",
       "119620 2024-04-08 18:29:59.698657  08/04/2024  \n",
       "119621 2024-04-08 18:30:27.368657  08/04/2024  \n",
       "119622 2024-04-08 18:30:54.733657  08/04/2024  \n",
       "119623 2024-04-08 18:31:21.648657  08/04/2024  \n",
       "119624 2024-04-08 18:31:48.537657  08/04/2024  \n",
       "\n",
       "[119625 rows x 7 columns]"
      ]
     },
     "execution_count": 323,
     "metadata": {},
     "output_type": "execute_result"
    }
   ],
   "source": [
    "conso_data['days']= [d.strftime('%d/%m/%Y') for d in conso_data['dates']]    #[str(d.month)+'-'+str(d.day) for d in conso_data['dates']]\n",
    "conso_data"
   ]
  },
  {
   "cell_type": "code",
   "execution_count": 324,
   "metadata": {},
   "outputs": [
    {
     "data": {
      "text/plain": [
       "(   Interval   kWh     sec          Wh  cumul(ms)                      dates  \\\n",
       " 0     26289  0.14  26.289  136.939404      26289 2024-03-07 01:40:01.470657   \n",
       " \n",
       "          days  \n",
       " 0  07/03/2024  ,\n",
       "         Interval   kWh     sec          Wh   cumul(ms)  \\\n",
       " 119624     26889  0.13  26.889  133.883744  2825533356   \n",
       " \n",
       "                             dates        days  \n",
       " 119624 2024-04-08 18:31:48.537657  08/04/2024  )"
      ]
     },
     "execution_count": 324,
     "metadata": {},
     "output_type": "execute_result"
    }
   ],
   "source": [
    "#conso_data\n",
    "conso_data.head(1),conso_data.tail(1)"
   ]
  },
  {
   "cell_type": "code",
   "execution_count": 325,
   "metadata": {},
   "outputs": [
    {
     "data": {
      "text/plain": [
       "('08/04/2024', 4, 2024)"
      ]
     },
     "execution_count": 325,
     "metadata": {},
     "output_type": "execute_result"
    }
   ],
   "source": [
    "# tranche journalière\n",
    "now = datetime.now()\n",
    "month = now.month\n",
    "year = now.year\n",
    "day = now.strftime('%d/%m/%Y')    #str(now.month)+'-'+str(now.day)\n",
    "day, month, year"
   ]
  },
  {
   "cell_type": "code",
   "execution_count": 326,
   "metadata": {},
   "outputs": [
    {
     "data": {
      "text/html": [
       "<div>\n",
       "<style scoped>\n",
       "    .dataframe tbody tr th:only-of-type {\n",
       "        vertical-align: middle;\n",
       "    }\n",
       "\n",
       "    .dataframe tbody tr th {\n",
       "        vertical-align: top;\n",
       "    }\n",
       "\n",
       "    .dataframe thead th {\n",
       "        text-align: right;\n",
       "    }\n",
       "</style>\n",
       "<table border=\"1\" class=\"dataframe\">\n",
       "  <thead>\n",
       "    <tr style=\"text-align: right;\">\n",
       "      <th></th>\n",
       "      <th>Interval</th>\n",
       "      <th>kWh</th>\n",
       "      <th>sec</th>\n",
       "      <th>Wh</th>\n",
       "      <th>cumul(ms)</th>\n",
       "      <th>dates</th>\n",
       "      <th>days</th>\n",
       "    </tr>\n",
       "  </thead>\n",
       "  <tbody>\n",
       "    <tr>\n",
       "      <th>116704</th>\n",
       "      <td>28143</td>\n",
       "      <td>0.13</td>\n",
       "      <td>28.143</td>\n",
       "      <td>127.918132</td>\n",
       "      <td>2758851733</td>\n",
       "      <td>2024-04-08 00:00:26.914657</td>\n",
       "      <td>08/04/2024</td>\n",
       "    </tr>\n",
       "    <tr>\n",
       "      <th>116705</th>\n",
       "      <td>27187</td>\n",
       "      <td>0.13</td>\n",
       "      <td>27.187</td>\n",
       "      <td>132.416228</td>\n",
       "      <td>2758878920</td>\n",
       "      <td>2024-04-08 00:00:54.101657</td>\n",
       "      <td>08/04/2024</td>\n",
       "    </tr>\n",
       "    <tr>\n",
       "      <th>116706</th>\n",
       "      <td>26647</td>\n",
       "      <td>0.14</td>\n",
       "      <td>26.647</td>\n",
       "      <td>135.099636</td>\n",
       "      <td>2758905567</td>\n",
       "      <td>2024-04-08 00:01:20.748657</td>\n",
       "      <td>08/04/2024</td>\n",
       "    </tr>\n",
       "    <tr>\n",
       "      <th>116707</th>\n",
       "      <td>26881</td>\n",
       "      <td>0.13</td>\n",
       "      <td>26.881</td>\n",
       "      <td>133.923589</td>\n",
       "      <td>2758932448</td>\n",
       "      <td>2024-04-08 00:01:47.629657</td>\n",
       "      <td>08/04/2024</td>\n",
       "    </tr>\n",
       "    <tr>\n",
       "      <th>116708</th>\n",
       "      <td>27720</td>\n",
       "      <td>0.13</td>\n",
       "      <td>27.720</td>\n",
       "      <td>129.870130</td>\n",
       "      <td>2758960168</td>\n",
       "      <td>2024-04-08 00:02:15.349657</td>\n",
       "      <td>08/04/2024</td>\n",
       "    </tr>\n",
       "    <tr>\n",
       "      <th>...</th>\n",
       "      <td>...</td>\n",
       "      <td>...</td>\n",
       "      <td>...</td>\n",
       "      <td>...</td>\n",
       "      <td>...</td>\n",
       "      <td>...</td>\n",
       "      <td>...</td>\n",
       "    </tr>\n",
       "    <tr>\n",
       "      <th>119620</th>\n",
       "      <td>27732</td>\n",
       "      <td>0.13</td>\n",
       "      <td>27.732</td>\n",
       "      <td>129.813933</td>\n",
       "      <td>2825424517</td>\n",
       "      <td>2024-04-08 18:29:59.698657</td>\n",
       "      <td>08/04/2024</td>\n",
       "    </tr>\n",
       "    <tr>\n",
       "      <th>119621</th>\n",
       "      <td>27670</td>\n",
       "      <td>0.13</td>\n",
       "      <td>27.670</td>\n",
       "      <td>130.104807</td>\n",
       "      <td>2825452187</td>\n",
       "      <td>2024-04-08 18:30:27.368657</td>\n",
       "      <td>08/04/2024</td>\n",
       "    </tr>\n",
       "    <tr>\n",
       "      <th>119622</th>\n",
       "      <td>27365</td>\n",
       "      <td>0.13</td>\n",
       "      <td>27.365</td>\n",
       "      <td>131.554906</td>\n",
       "      <td>2825479552</td>\n",
       "      <td>2024-04-08 18:30:54.733657</td>\n",
       "      <td>08/04/2024</td>\n",
       "    </tr>\n",
       "    <tr>\n",
       "      <th>119623</th>\n",
       "      <td>26915</td>\n",
       "      <td>0.13</td>\n",
       "      <td>26.915</td>\n",
       "      <td>133.754412</td>\n",
       "      <td>2825506467</td>\n",
       "      <td>2024-04-08 18:31:21.648657</td>\n",
       "      <td>08/04/2024</td>\n",
       "    </tr>\n",
       "    <tr>\n",
       "      <th>119624</th>\n",
       "      <td>26889</td>\n",
       "      <td>0.13</td>\n",
       "      <td>26.889</td>\n",
       "      <td>133.883744</td>\n",
       "      <td>2825533356</td>\n",
       "      <td>2024-04-08 18:31:48.537657</td>\n",
       "      <td>08/04/2024</td>\n",
       "    </tr>\n",
       "  </tbody>\n",
       "</table>\n",
       "<p>2921 rows × 7 columns</p>\n",
       "</div>"
      ],
      "text/plain": [
       "        Interval   kWh     sec          Wh   cumul(ms)  \\\n",
       "116704     28143  0.13  28.143  127.918132  2758851733   \n",
       "116705     27187  0.13  27.187  132.416228  2758878920   \n",
       "116706     26647  0.14  26.647  135.099636  2758905567   \n",
       "116707     26881  0.13  26.881  133.923589  2758932448   \n",
       "116708     27720  0.13  27.720  129.870130  2758960168   \n",
       "...          ...   ...     ...         ...         ...   \n",
       "119620     27732  0.13  27.732  129.813933  2825424517   \n",
       "119621     27670  0.13  27.670  130.104807  2825452187   \n",
       "119622     27365  0.13  27.365  131.554906  2825479552   \n",
       "119623     26915  0.13  26.915  133.754412  2825506467   \n",
       "119624     26889  0.13  26.889  133.883744  2825533356   \n",
       "\n",
       "                            dates        days  \n",
       "116704 2024-04-08 00:00:26.914657  08/04/2024  \n",
       "116705 2024-04-08 00:00:54.101657  08/04/2024  \n",
       "116706 2024-04-08 00:01:20.748657  08/04/2024  \n",
       "116707 2024-04-08 00:01:47.629657  08/04/2024  \n",
       "116708 2024-04-08 00:02:15.349657  08/04/2024  \n",
       "...                           ...         ...  \n",
       "119620 2024-04-08 18:29:59.698657  08/04/2024  \n",
       "119621 2024-04-08 18:30:27.368657  08/04/2024  \n",
       "119622 2024-04-08 18:30:54.733657  08/04/2024  \n",
       "119623 2024-04-08 18:31:21.648657  08/04/2024  \n",
       "119624 2024-04-08 18:31:48.537657  08/04/2024  \n",
       "\n",
       "[2921 rows x 7 columns]"
      ]
     },
     "execution_count": 326,
     "metadata": {},
     "output_type": "execute_result"
    }
   ],
   "source": [
    "conso_data[conso_data['days']==day]"
   ]
  },
  {
   "cell_type": "code",
   "execution_count": 327,
   "metadata": {},
   "outputs": [
    {
     "data": {
      "text/plain": [
       "'08/04/2024'"
      ]
     },
     "execution_count": 327,
     "metadata": {},
     "output_type": "execute_result"
    }
   ],
   "source": [
    "day"
   ]
  },
  {
   "cell_type": "code",
   "execution_count": 328,
   "metadata": {},
   "outputs": [
    {
     "data": {
      "text/html": [
       "<div>\n",
       "<style scoped>\n",
       "    .dataframe tbody tr th:only-of-type {\n",
       "        vertical-align: middle;\n",
       "    }\n",
       "\n",
       "    .dataframe tbody tr th {\n",
       "        vertical-align: top;\n",
       "    }\n",
       "\n",
       "    .dataframe thead th {\n",
       "        text-align: right;\n",
       "    }\n",
       "</style>\n",
       "<table border=\"1\" class=\"dataframe\">\n",
       "  <thead>\n",
       "    <tr style=\"text-align: right;\">\n",
       "      <th></th>\n",
       "      <th>Interval</th>\n",
       "      <th>kWh</th>\n",
       "      <th>sec</th>\n",
       "      <th>Wh</th>\n",
       "      <th>cumul(ms)</th>\n",
       "      <th>dates</th>\n",
       "      <th>days</th>\n",
       "    </tr>\n",
       "  </thead>\n",
       "  <tbody>\n",
       "    <tr>\n",
       "      <th>0</th>\n",
       "      <td>26289</td>\n",
       "      <td>0.14</td>\n",
       "      <td>26.289</td>\n",
       "      <td>136.939404</td>\n",
       "      <td>26289</td>\n",
       "      <td>2024-03-07 01:40:01.470657</td>\n",
       "      <td>07/03/2024</td>\n",
       "    </tr>\n",
       "    <tr>\n",
       "      <th>1</th>\n",
       "      <td>26243</td>\n",
       "      <td>0.14</td>\n",
       "      <td>26.243</td>\n",
       "      <td>137.179438</td>\n",
       "      <td>52532</td>\n",
       "      <td>2024-03-07 01:40:27.713657</td>\n",
       "      <td>07/03/2024</td>\n",
       "    </tr>\n",
       "    <tr>\n",
       "      <th>2</th>\n",
       "      <td>25885</td>\n",
       "      <td>0.14</td>\n",
       "      <td>25.885</td>\n",
       "      <td>139.076685</td>\n",
       "      <td>78417</td>\n",
       "      <td>2024-03-07 01:40:53.598657</td>\n",
       "      <td>07/03/2024</td>\n",
       "    </tr>\n",
       "    <tr>\n",
       "      <th>3</th>\n",
       "      <td>25754</td>\n",
       "      <td>0.14</td>\n",
       "      <td>25.754</td>\n",
       "      <td>139.784111</td>\n",
       "      <td>104171</td>\n",
       "      <td>2024-03-07 01:41:19.352657</td>\n",
       "      <td>07/03/2024</td>\n",
       "    </tr>\n",
       "    <tr>\n",
       "      <th>4</th>\n",
       "      <td>25774</td>\n",
       "      <td>0.14</td>\n",
       "      <td>25.774</td>\n",
       "      <td>139.675642</td>\n",
       "      <td>129945</td>\n",
       "      <td>2024-03-07 01:41:45.126657</td>\n",
       "      <td>07/03/2024</td>\n",
       "    </tr>\n",
       "    <tr>\n",
       "      <th>...</th>\n",
       "      <td>...</td>\n",
       "      <td>...</td>\n",
       "      <td>...</td>\n",
       "      <td>...</td>\n",
       "      <td>...</td>\n",
       "      <td>...</td>\n",
       "      <td>...</td>\n",
       "    </tr>\n",
       "    <tr>\n",
       "      <th>119620</th>\n",
       "      <td>27732</td>\n",
       "      <td>0.13</td>\n",
       "      <td>27.732</td>\n",
       "      <td>129.813933</td>\n",
       "      <td>2825424517</td>\n",
       "      <td>2024-04-08 18:29:59.698657</td>\n",
       "      <td>08/04/2024</td>\n",
       "    </tr>\n",
       "    <tr>\n",
       "      <th>119621</th>\n",
       "      <td>27670</td>\n",
       "      <td>0.13</td>\n",
       "      <td>27.670</td>\n",
       "      <td>130.104807</td>\n",
       "      <td>2825452187</td>\n",
       "      <td>2024-04-08 18:30:27.368657</td>\n",
       "      <td>08/04/2024</td>\n",
       "    </tr>\n",
       "    <tr>\n",
       "      <th>119622</th>\n",
       "      <td>27365</td>\n",
       "      <td>0.13</td>\n",
       "      <td>27.365</td>\n",
       "      <td>131.554906</td>\n",
       "      <td>2825479552</td>\n",
       "      <td>2024-04-08 18:30:54.733657</td>\n",
       "      <td>08/04/2024</td>\n",
       "    </tr>\n",
       "    <tr>\n",
       "      <th>119623</th>\n",
       "      <td>26915</td>\n",
       "      <td>0.13</td>\n",
       "      <td>26.915</td>\n",
       "      <td>133.754412</td>\n",
       "      <td>2825506467</td>\n",
       "      <td>2024-04-08 18:31:21.648657</td>\n",
       "      <td>08/04/2024</td>\n",
       "    </tr>\n",
       "    <tr>\n",
       "      <th>119624</th>\n",
       "      <td>26889</td>\n",
       "      <td>0.13</td>\n",
       "      <td>26.889</td>\n",
       "      <td>133.883744</td>\n",
       "      <td>2825533356</td>\n",
       "      <td>2024-04-08 18:31:48.537657</td>\n",
       "      <td>08/04/2024</td>\n",
       "    </tr>\n",
       "  </tbody>\n",
       "</table>\n",
       "<p>119625 rows × 7 columns</p>\n",
       "</div>"
      ],
      "text/plain": [
       "        Interval   kWh     sec          Wh   cumul(ms)  \\\n",
       "0          26289  0.14  26.289  136.939404       26289   \n",
       "1          26243  0.14  26.243  137.179438       52532   \n",
       "2          25885  0.14  25.885  139.076685       78417   \n",
       "3          25754  0.14  25.754  139.784111      104171   \n",
       "4          25774  0.14  25.774  139.675642      129945   \n",
       "...          ...   ...     ...         ...         ...   \n",
       "119620     27732  0.13  27.732  129.813933  2825424517   \n",
       "119621     27670  0.13  27.670  130.104807  2825452187   \n",
       "119622     27365  0.13  27.365  131.554906  2825479552   \n",
       "119623     26915  0.13  26.915  133.754412  2825506467   \n",
       "119624     26889  0.13  26.889  133.883744  2825533356   \n",
       "\n",
       "                            dates        days  \n",
       "0      2024-03-07 01:40:01.470657  07/03/2024  \n",
       "1      2024-03-07 01:40:27.713657  07/03/2024  \n",
       "2      2024-03-07 01:40:53.598657  07/03/2024  \n",
       "3      2024-03-07 01:41:19.352657  07/03/2024  \n",
       "4      2024-03-07 01:41:45.126657  07/03/2024  \n",
       "...                           ...         ...  \n",
       "119620 2024-04-08 18:29:59.698657  08/04/2024  \n",
       "119621 2024-04-08 18:30:27.368657  08/04/2024  \n",
       "119622 2024-04-08 18:30:54.733657  08/04/2024  \n",
       "119623 2024-04-08 18:31:21.648657  08/04/2024  \n",
       "119624 2024-04-08 18:31:48.537657  08/04/2024  \n",
       "\n",
       "[119625 rows x 7 columns]"
      ]
     },
     "execution_count": 328,
     "metadata": {},
     "output_type": "execute_result"
    }
   ],
   "source": [
    "conso_data"
   ]
  },
  {
   "cell_type": "code",
   "execution_count": 329,
   "metadata": {},
   "outputs": [
    {
     "data": {
      "text/plain": [
       "<pandas.core.groupby.generic.DataFrameGroupBy object at 0x0000013F1E275710>"
      ]
     },
     "execution_count": 329,
     "metadata": {},
     "output_type": "execute_result"
    }
   ],
   "source": [
    "# group by day\n",
    "grouped = conso_data[['days','kWh']].groupby('days', sort=False)\n",
    "'''conso_graph=[]\n",
    "for name, group in grouped:\n",
    "    if name=='01/04/2024':print(group)\n",
    "    #print(\"\\n\", name, len(group)/1000)\n",
    "    conso_graph.append((name,len(group)/1000))'''\n",
    "grouped\n"
   ]
  },
  {
   "cell_type": "code",
   "execution_count": 330,
   "metadata": {},
   "outputs": [
    {
     "data": {
      "text/html": [
       "<div>\n",
       "<style scoped>\n",
       "    .dataframe tbody tr th:only-of-type {\n",
       "        vertical-align: middle;\n",
       "    }\n",
       "\n",
       "    .dataframe tbody tr th {\n",
       "        vertical-align: top;\n",
       "    }\n",
       "\n",
       "    .dataframe thead th {\n",
       "        text-align: right;\n",
       "    }\n",
       "</style>\n",
       "<table border=\"1\" class=\"dataframe\">\n",
       "  <thead>\n",
       "    <tr style=\"text-align: right;\">\n",
       "      <th></th>\n",
       "      <th>kWh</th>\n",
       "    </tr>\n",
       "    <tr>\n",
       "      <th>days</th>\n",
       "      <th></th>\n",
       "    </tr>\n",
       "  </thead>\n",
       "  <tbody>\n",
       "    <tr>\n",
       "      <th>07/03/2024</th>\n",
       "      <td>3.160</td>\n",
       "    </tr>\n",
       "    <tr>\n",
       "      <th>08/03/2024</th>\n",
       "      <td>3.751</td>\n",
       "    </tr>\n",
       "    <tr>\n",
       "      <th>09/03/2024</th>\n",
       "      <td>3.083</td>\n",
       "    </tr>\n",
       "    <tr>\n",
       "      <th>10/03/2024</th>\n",
       "      <td>3.535</td>\n",
       "    </tr>\n",
       "    <tr>\n",
       "      <th>11/03/2024</th>\n",
       "      <td>4.549</td>\n",
       "    </tr>\n",
       "    <tr>\n",
       "      <th>12/03/2024</th>\n",
       "      <td>3.546</td>\n",
       "    </tr>\n",
       "    <tr>\n",
       "      <th>13/03/2024</th>\n",
       "      <td>3.534</td>\n",
       "    </tr>\n",
       "    <tr>\n",
       "      <th>14/03/2024</th>\n",
       "      <td>3.663</td>\n",
       "    </tr>\n",
       "    <tr>\n",
       "      <th>15/03/2024</th>\n",
       "      <td>3.561</td>\n",
       "    </tr>\n",
       "    <tr>\n",
       "      <th>16/03/2024</th>\n",
       "      <td>3.360</td>\n",
       "    </tr>\n",
       "    <tr>\n",
       "      <th>17/03/2024</th>\n",
       "      <td>3.350</td>\n",
       "    </tr>\n",
       "    <tr>\n",
       "      <th>18/03/2024</th>\n",
       "      <td>4.396</td>\n",
       "    </tr>\n",
       "    <tr>\n",
       "      <th>19/03/2024</th>\n",
       "      <td>3.521</td>\n",
       "    </tr>\n",
       "    <tr>\n",
       "      <th>20/03/2024</th>\n",
       "      <td>3.445</td>\n",
       "    </tr>\n",
       "    <tr>\n",
       "      <th>21/03/2024</th>\n",
       "      <td>3.538</td>\n",
       "    </tr>\n",
       "    <tr>\n",
       "      <th>22/03/2024</th>\n",
       "      <td>3.741</td>\n",
       "    </tr>\n",
       "    <tr>\n",
       "      <th>23/03/2024</th>\n",
       "      <td>3.528</td>\n",
       "    </tr>\n",
       "    <tr>\n",
       "      <th>24/03/2024</th>\n",
       "      <td>3.342</td>\n",
       "    </tr>\n",
       "    <tr>\n",
       "      <th>25/03/2024</th>\n",
       "      <td>3.888</td>\n",
       "    </tr>\n",
       "    <tr>\n",
       "      <th>26/03/2024</th>\n",
       "      <td>3.420</td>\n",
       "    </tr>\n",
       "    <tr>\n",
       "      <th>27/03/2024</th>\n",
       "      <td>3.473</td>\n",
       "    </tr>\n",
       "    <tr>\n",
       "      <th>28/03/2024</th>\n",
       "      <td>3.638</td>\n",
       "    </tr>\n",
       "    <tr>\n",
       "      <th>29/03/2024</th>\n",
       "      <td>3.766</td>\n",
       "    </tr>\n",
       "    <tr>\n",
       "      <th>30/03/2024</th>\n",
       "      <td>3.641</td>\n",
       "    </tr>\n",
       "    <tr>\n",
       "      <th>31/03/2024</th>\n",
       "      <td>3.834</td>\n",
       "    </tr>\n",
       "    <tr>\n",
       "      <th>01/04/2024</th>\n",
       "      <td>3.835</td>\n",
       "    </tr>\n",
       "    <tr>\n",
       "      <th>02/04/2024</th>\n",
       "      <td>3.820</td>\n",
       "    </tr>\n",
       "    <tr>\n",
       "      <th>03/04/2024</th>\n",
       "      <td>3.417</td>\n",
       "    </tr>\n",
       "    <tr>\n",
       "      <th>04/04/2024</th>\n",
       "      <td>3.478</td>\n",
       "    </tr>\n",
       "    <tr>\n",
       "      <th>05/04/2024</th>\n",
       "      <td>4.412</td>\n",
       "    </tr>\n",
       "    <tr>\n",
       "      <th>06/04/2024</th>\n",
       "      <td>3.404</td>\n",
       "    </tr>\n",
       "    <tr>\n",
       "      <th>07/04/2024</th>\n",
       "      <td>4.075</td>\n",
       "    </tr>\n",
       "    <tr>\n",
       "      <th>08/04/2024</th>\n",
       "      <td>2.921</td>\n",
       "    </tr>\n",
       "  </tbody>\n",
       "</table>\n",
       "</div>"
      ],
      "text/plain": [
       "              kWh\n",
       "days             \n",
       "07/03/2024  3.160\n",
       "08/03/2024  3.751\n",
       "09/03/2024  3.083\n",
       "10/03/2024  3.535\n",
       "11/03/2024  4.549\n",
       "12/03/2024  3.546\n",
       "13/03/2024  3.534\n",
       "14/03/2024  3.663\n",
       "15/03/2024  3.561\n",
       "16/03/2024  3.360\n",
       "17/03/2024  3.350\n",
       "18/03/2024  4.396\n",
       "19/03/2024  3.521\n",
       "20/03/2024  3.445\n",
       "21/03/2024  3.538\n",
       "22/03/2024  3.741\n",
       "23/03/2024  3.528\n",
       "24/03/2024  3.342\n",
       "25/03/2024  3.888\n",
       "26/03/2024  3.420\n",
       "27/03/2024  3.473\n",
       "28/03/2024  3.638\n",
       "29/03/2024  3.766\n",
       "30/03/2024  3.641\n",
       "31/03/2024  3.834\n",
       "01/04/2024  3.835\n",
       "02/04/2024  3.820\n",
       "03/04/2024  3.417\n",
       "04/04/2024  3.478\n",
       "05/04/2024  4.412\n",
       "06/04/2024  3.404\n",
       "07/04/2024  4.075\n",
       "08/04/2024  2.921"
      ]
     },
     "execution_count": 330,
     "metadata": {},
     "output_type": "execute_result"
    }
   ],
   "source": [
    "# count elements in each group => conso in watts => convert to kW\n",
    "(grouped.count()/1000)"
   ]
  },
  {
   "cell_type": "code",
   "execution_count": 331,
   "metadata": {},
   "outputs": [
    {
     "data": {
      "text/plain": [
       "kWh    0.311625\n",
       "dtype: float64"
      ]
     },
     "execution_count": 331,
     "metadata": {},
     "output_type": "execute_result"
    }
   ],
   "source": [
    "# mean of all instant conso\n",
    "total_mean = conso_data[['kWh']].mean()\n",
    "total_mean\n"
   ]
  },
  {
   "cell_type": "code",
   "execution_count": 332,
   "metadata": {},
   "outputs": [
    {
     "data": {
      "text/plain": [
       "kWh    3.625\n",
       "dtype: float64"
      ]
     },
     "execution_count": 332,
     "metadata": {},
     "output_type": "execute_result"
    }
   ],
   "source": [
    "# mean by day from 07/03\n",
    "mean=(grouped.count()/1000).mean()\n",
    "mean"
   ]
  },
  {
   "cell_type": "code",
   "execution_count": 333,
   "metadata": {},
   "outputs": [],
   "source": [
    "filename='conso_par_jour.csv'\n",
    "df = grouped.count()/1000\n",
    "df.to_csv(filename)\n",
    "filename='../conso_par_jour.csv'\n",
    "df.to_csv(filename)"
   ]
  },
  {
   "cell_type": "code",
   "execution_count": 334,
   "metadata": {},
   "outputs": [
    {
     "data": {
      "text/html": [
       "<div>\n",
       "<style scoped>\n",
       "    .dataframe tbody tr th:only-of-type {\n",
       "        vertical-align: middle;\n",
       "    }\n",
       "\n",
       "    .dataframe tbody tr th {\n",
       "        vertical-align: top;\n",
       "    }\n",
       "\n",
       "    .dataframe thead th {\n",
       "        text-align: right;\n",
       "    }\n",
       "</style>\n",
       "<table border=\"1\" class=\"dataframe\">\n",
       "  <thead>\n",
       "    <tr style=\"text-align: right;\">\n",
       "      <th></th>\n",
       "      <th>kWh</th>\n",
       "    </tr>\n",
       "    <tr>\n",
       "      <th>days</th>\n",
       "      <th></th>\n",
       "    </tr>\n",
       "  </thead>\n",
       "  <tbody>\n",
       "    <tr>\n",
       "      <th>02/04/2024</th>\n",
       "      <td>3.820</td>\n",
       "    </tr>\n",
       "    <tr>\n",
       "      <th>03/04/2024</th>\n",
       "      <td>3.417</td>\n",
       "    </tr>\n",
       "    <tr>\n",
       "      <th>04/04/2024</th>\n",
       "      <td>3.478</td>\n",
       "    </tr>\n",
       "    <tr>\n",
       "      <th>05/04/2024</th>\n",
       "      <td>4.412</td>\n",
       "    </tr>\n",
       "    <tr>\n",
       "      <th>06/04/2024</th>\n",
       "      <td>3.404</td>\n",
       "    </tr>\n",
       "    <tr>\n",
       "      <th>07/04/2024</th>\n",
       "      <td>4.075</td>\n",
       "    </tr>\n",
       "    <tr>\n",
       "      <th>08/04/2024</th>\n",
       "      <td>2.921</td>\n",
       "    </tr>\n",
       "  </tbody>\n",
       "</table>\n",
       "</div>"
      ],
      "text/plain": [
       "              kWh\n",
       "days             \n",
       "02/04/2024  3.820\n",
       "03/04/2024  3.417\n",
       "04/04/2024  3.478\n",
       "05/04/2024  4.412\n",
       "06/04/2024  3.404\n",
       "07/04/2024  4.075\n",
       "08/04/2024  2.921"
      ]
     },
     "execution_count": 334,
     "metadata": {},
     "output_type": "execute_result"
    }
   ],
   "source": [
    "df.tail(7)"
   ]
  },
  {
   "cell_type": "code",
   "execution_count": 335,
   "metadata": {},
   "outputs": [
    {
     "data": {
      "image/png": "[encoded data removed]",
      "text/plain": [
       "<Figure size 640x480 with 1 Axes>"
      ]
     },
     "metadata": {},
     "output_type": "display_data"
    }
   ],
   "source": [
    "df.plot()#kind='bar')\n",
    "plt.plot((0,len(df)-1),(mean,mean))\n",
    "plt.xticks(rotation=45)\n",
    "plt.grid()\n"
   ]
  },
  {
   "cell_type": "code",
   "execution_count": 336,
   "metadata": {},
   "outputs": [],
   "source": [
    "#manuel\n",
    "#day = '11/03/2024'\n"
   ]
  },
  {
   "cell_type": "code",
   "execution_count": 337,
   "metadata": {},
   "outputs": [
    {
     "data": {
      "text/plain": [
       "2921"
      ]
     },
     "execution_count": 337,
     "metadata": {},
     "output_type": "execute_result"
    }
   ],
   "source": [
    "# conso day\n",
    "conso_day = conso_data[conso_data['days']==day]\n",
    "len(conso_day)"
   ]
  },
  {
   "cell_type": "code",
   "execution_count": 338,
   "metadata": {},
   "outputs": [
    {
     "data": {
      "text/html": [
       "<div>\n",
       "<style scoped>\n",
       "    .dataframe tbody tr th:only-of-type {\n",
       "        vertical-align: middle;\n",
       "    }\n",
       "\n",
       "    .dataframe tbody tr th {\n",
       "        vertical-align: top;\n",
       "    }\n",
       "\n",
       "    .dataframe thead th {\n",
       "        text-align: right;\n",
       "    }\n",
       "</style>\n",
       "<table border=\"1\" class=\"dataframe\">\n",
       "  <thead>\n",
       "    <tr style=\"text-align: right;\">\n",
       "      <th></th>\n",
       "      <th>Interval</th>\n",
       "      <th>kWh</th>\n",
       "      <th>sec</th>\n",
       "      <th>Wh</th>\n",
       "      <th>cumul(ms)</th>\n",
       "      <th>dates</th>\n",
       "      <th>days</th>\n",
       "    </tr>\n",
       "  </thead>\n",
       "  <tbody>\n",
       "    <tr>\n",
       "      <th>116704</th>\n",
       "      <td>28143</td>\n",
       "      <td>0.13</td>\n",
       "      <td>28.143</td>\n",
       "      <td>127.918132</td>\n",
       "      <td>2758851733</td>\n",
       "      <td>2024-04-08 00:00:26.914657</td>\n",
       "      <td>08/04/2024</td>\n",
       "    </tr>\n",
       "    <tr>\n",
       "      <th>116705</th>\n",
       "      <td>27187</td>\n",
       "      <td>0.13</td>\n",
       "      <td>27.187</td>\n",
       "      <td>132.416228</td>\n",
       "      <td>2758878920</td>\n",
       "      <td>2024-04-08 00:00:54.101657</td>\n",
       "      <td>08/04/2024</td>\n",
       "    </tr>\n",
       "    <tr>\n",
       "      <th>116706</th>\n",
       "      <td>26647</td>\n",
       "      <td>0.14</td>\n",
       "      <td>26.647</td>\n",
       "      <td>135.099636</td>\n",
       "      <td>2758905567</td>\n",
       "      <td>2024-04-08 00:01:20.748657</td>\n",
       "      <td>08/04/2024</td>\n",
       "    </tr>\n",
       "    <tr>\n",
       "      <th>116707</th>\n",
       "      <td>26881</td>\n",
       "      <td>0.13</td>\n",
       "      <td>26.881</td>\n",
       "      <td>133.923589</td>\n",
       "      <td>2758932448</td>\n",
       "      <td>2024-04-08 00:01:47.629657</td>\n",
       "      <td>08/04/2024</td>\n",
       "    </tr>\n",
       "    <tr>\n",
       "      <th>116708</th>\n",
       "      <td>27720</td>\n",
       "      <td>0.13</td>\n",
       "      <td>27.720</td>\n",
       "      <td>129.870130</td>\n",
       "      <td>2758960168</td>\n",
       "      <td>2024-04-08 00:02:15.349657</td>\n",
       "      <td>08/04/2024</td>\n",
       "    </tr>\n",
       "    <tr>\n",
       "      <th>...</th>\n",
       "      <td>...</td>\n",
       "      <td>...</td>\n",
       "      <td>...</td>\n",
       "      <td>...</td>\n",
       "      <td>...</td>\n",
       "      <td>...</td>\n",
       "      <td>...</td>\n",
       "    </tr>\n",
       "    <tr>\n",
       "      <th>119620</th>\n",
       "      <td>27732</td>\n",
       "      <td>0.13</td>\n",
       "      <td>27.732</td>\n",
       "      <td>129.813933</td>\n",
       "      <td>2825424517</td>\n",
       "      <td>2024-04-08 18:29:59.698657</td>\n",
       "      <td>08/04/2024</td>\n",
       "    </tr>\n",
       "    <tr>\n",
       "      <th>119621</th>\n",
       "      <td>27670</td>\n",
       "      <td>0.13</td>\n",
       "      <td>27.670</td>\n",
       "      <td>130.104807</td>\n",
       "      <td>2825452187</td>\n",
       "      <td>2024-04-08 18:30:27.368657</td>\n",
       "      <td>08/04/2024</td>\n",
       "    </tr>\n",
       "    <tr>\n",
       "      <th>119622</th>\n",
       "      <td>27365</td>\n",
       "      <td>0.13</td>\n",
       "      <td>27.365</td>\n",
       "      <td>131.554906</td>\n",
       "      <td>2825479552</td>\n",
       "      <td>2024-04-08 18:30:54.733657</td>\n",
       "      <td>08/04/2024</td>\n",
       "    </tr>\n",
       "    <tr>\n",
       "      <th>119623</th>\n",
       "      <td>26915</td>\n",
       "      <td>0.13</td>\n",
       "      <td>26.915</td>\n",
       "      <td>133.754412</td>\n",
       "      <td>2825506467</td>\n",
       "      <td>2024-04-08 18:31:21.648657</td>\n",
       "      <td>08/04/2024</td>\n",
       "    </tr>\n",
       "    <tr>\n",
       "      <th>119624</th>\n",
       "      <td>26889</td>\n",
       "      <td>0.13</td>\n",
       "      <td>26.889</td>\n",
       "      <td>133.883744</td>\n",
       "      <td>2825533356</td>\n",
       "      <td>2024-04-08 18:31:48.537657</td>\n",
       "      <td>08/04/2024</td>\n",
       "    </tr>\n",
       "  </tbody>\n",
       "</table>\n",
       "<p>2921 rows × 7 columns</p>\n",
       "</div>"
      ],
      "text/plain": [
       "        Interval   kWh     sec          Wh   cumul(ms)  \\\n",
       "116704     28143  0.13  28.143  127.918132  2758851733   \n",
       "116705     27187  0.13  27.187  132.416228  2758878920   \n",
       "116706     26647  0.14  26.647  135.099636  2758905567   \n",
       "116707     26881  0.13  26.881  133.923589  2758932448   \n",
       "116708     27720  0.13  27.720  129.870130  2758960168   \n",
       "...          ...   ...     ...         ...         ...   \n",
       "119620     27732  0.13  27.732  129.813933  2825424517   \n",
       "119621     27670  0.13  27.670  130.104807  2825452187   \n",
       "119622     27365  0.13  27.365  131.554906  2825479552   \n",
       "119623     26915  0.13  26.915  133.754412  2825506467   \n",
       "119624     26889  0.13  26.889  133.883744  2825533356   \n",
       "\n",
       "                            dates        days  \n",
       "116704 2024-04-08 00:00:26.914657  08/04/2024  \n",
       "116705 2024-04-08 00:00:54.101657  08/04/2024  \n",
       "116706 2024-04-08 00:01:20.748657  08/04/2024  \n",
       "116707 2024-04-08 00:01:47.629657  08/04/2024  \n",
       "116708 2024-04-08 00:02:15.349657  08/04/2024  \n",
       "...                           ...         ...  \n",
       "119620 2024-04-08 18:29:59.698657  08/04/2024  \n",
       "119621 2024-04-08 18:30:27.368657  08/04/2024  \n",
       "119622 2024-04-08 18:30:54.733657  08/04/2024  \n",
       "119623 2024-04-08 18:31:21.648657  08/04/2024  \n",
       "119624 2024-04-08 18:31:48.537657  08/04/2024  \n",
       "\n",
       "[2921 rows x 7 columns]"
      ]
     },
     "execution_count": 338,
     "metadata": {},
     "output_type": "execute_result"
    }
   ],
   "source": [
    "conso_day"
   ]
  },
  {
   "cell_type": "code",
   "execution_count": 339,
   "metadata": {},
   "outputs": [],
   "source": [
    "filename='conso_jour.csv'\n",
    "conso_day.to_csv(filename)\n",
    "filename='../conso_jour.csv'\n",
    "conso_day.to_csv(filename)"
   ]
  },
  {
   "cell_type": "code",
   "execution_count": 340,
   "metadata": {},
   "outputs": [
    {
     "data": {
      "text/html": [
       "<div>\n",
       "<style scoped>\n",
       "    .dataframe tbody tr th:only-of-type {\n",
       "        vertical-align: middle;\n",
       "    }\n",
       "\n",
       "    .dataframe tbody tr th {\n",
       "        vertical-align: top;\n",
       "    }\n",
       "\n",
       "    .dataframe thead th {\n",
       "        text-align: right;\n",
       "    }\n",
       "</style>\n",
       "<table border=\"1\" class=\"dataframe\">\n",
       "  <thead>\n",
       "    <tr style=\"text-align: right;\">\n",
       "      <th></th>\n",
       "      <th>kWh</th>\n",
       "    </tr>\n",
       "    <tr>\n",
       "      <th>days</th>\n",
       "      <th></th>\n",
       "    </tr>\n",
       "  </thead>\n",
       "  <tbody>\n",
       "    <tr>\n",
       "      <th>07/03/2024</th>\n",
       "      <td>3.160</td>\n",
       "    </tr>\n",
       "    <tr>\n",
       "      <th>08/03/2024</th>\n",
       "      <td>3.751</td>\n",
       "    </tr>\n",
       "    <tr>\n",
       "      <th>09/03/2024</th>\n",
       "      <td>3.083</td>\n",
       "    </tr>\n",
       "    <tr>\n",
       "      <th>10/03/2024</th>\n",
       "      <td>3.535</td>\n",
       "    </tr>\n",
       "    <tr>\n",
       "      <th>11/03/2024</th>\n",
       "      <td>4.549</td>\n",
       "    </tr>\n",
       "    <tr>\n",
       "      <th>12/03/2024</th>\n",
       "      <td>3.546</td>\n",
       "    </tr>\n",
       "    <tr>\n",
       "      <th>13/03/2024</th>\n",
       "      <td>3.534</td>\n",
       "    </tr>\n",
       "    <tr>\n",
       "      <th>14/03/2024</th>\n",
       "      <td>3.663</td>\n",
       "    </tr>\n",
       "    <tr>\n",
       "      <th>15/03/2024</th>\n",
       "      <td>3.561</td>\n",
       "    </tr>\n",
       "    <tr>\n",
       "      <th>16/03/2024</th>\n",
       "      <td>3.360</td>\n",
       "    </tr>\n",
       "    <tr>\n",
       "      <th>17/03/2024</th>\n",
       "      <td>3.350</td>\n",
       "    </tr>\n",
       "    <tr>\n",
       "      <th>18/03/2024</th>\n",
       "      <td>4.396</td>\n",
       "    </tr>\n",
       "    <tr>\n",
       "      <th>19/03/2024</th>\n",
       "      <td>3.521</td>\n",
       "    </tr>\n",
       "    <tr>\n",
       "      <th>20/03/2024</th>\n",
       "      <td>3.445</td>\n",
       "    </tr>\n",
       "    <tr>\n",
       "      <th>21/03/2024</th>\n",
       "      <td>3.538</td>\n",
       "    </tr>\n",
       "    <tr>\n",
       "      <th>22/03/2024</th>\n",
       "      <td>3.741</td>\n",
       "    </tr>\n",
       "    <tr>\n",
       "      <th>23/03/2024</th>\n",
       "      <td>3.528</td>\n",
       "    </tr>\n",
       "    <tr>\n",
       "      <th>24/03/2024</th>\n",
       "      <td>3.342</td>\n",
       "    </tr>\n",
       "    <tr>\n",
       "      <th>25/03/2024</th>\n",
       "      <td>3.888</td>\n",
       "    </tr>\n",
       "    <tr>\n",
       "      <th>26/03/2024</th>\n",
       "      <td>3.420</td>\n",
       "    </tr>\n",
       "    <tr>\n",
       "      <th>27/03/2024</th>\n",
       "      <td>3.473</td>\n",
       "    </tr>\n",
       "    <tr>\n",
       "      <th>28/03/2024</th>\n",
       "      <td>3.638</td>\n",
       "    </tr>\n",
       "    <tr>\n",
       "      <th>29/03/2024</th>\n",
       "      <td>3.766</td>\n",
       "    </tr>\n",
       "    <tr>\n",
       "      <th>30/03/2024</th>\n",
       "      <td>3.641</td>\n",
       "    </tr>\n",
       "    <tr>\n",
       "      <th>31/03/2024</th>\n",
       "      <td>3.834</td>\n",
       "    </tr>\n",
       "    <tr>\n",
       "      <th>01/04/2024</th>\n",
       "      <td>3.835</td>\n",
       "    </tr>\n",
       "    <tr>\n",
       "      <th>02/04/2024</th>\n",
       "      <td>3.820</td>\n",
       "    </tr>\n",
       "    <tr>\n",
       "      <th>03/04/2024</th>\n",
       "      <td>3.417</td>\n",
       "    </tr>\n",
       "    <tr>\n",
       "      <th>04/04/2024</th>\n",
       "      <td>3.478</td>\n",
       "    </tr>\n",
       "    <tr>\n",
       "      <th>05/04/2024</th>\n",
       "      <td>4.412</td>\n",
       "    </tr>\n",
       "    <tr>\n",
       "      <th>06/04/2024</th>\n",
       "      <td>3.404</td>\n",
       "    </tr>\n",
       "    <tr>\n",
       "      <th>07/04/2024</th>\n",
       "      <td>4.075</td>\n",
       "    </tr>\n",
       "    <tr>\n",
       "      <th>08/04/2024</th>\n",
       "      <td>2.921</td>\n",
       "    </tr>\n",
       "  </tbody>\n",
       "</table>\n",
       "</div>"
      ],
      "text/plain": [
       "              kWh\n",
       "days             \n",
       "07/03/2024  3.160\n",
       "08/03/2024  3.751\n",
       "09/03/2024  3.083\n",
       "10/03/2024  3.535\n",
       "11/03/2024  4.549\n",
       "12/03/2024  3.546\n",
       "13/03/2024  3.534\n",
       "14/03/2024  3.663\n",
       "15/03/2024  3.561\n",
       "16/03/2024  3.360\n",
       "17/03/2024  3.350\n",
       "18/03/2024  4.396\n",
       "19/03/2024  3.521\n",
       "20/03/2024  3.445\n",
       "21/03/2024  3.538\n",
       "22/03/2024  3.741\n",
       "23/03/2024  3.528\n",
       "24/03/2024  3.342\n",
       "25/03/2024  3.888\n",
       "26/03/2024  3.420\n",
       "27/03/2024  3.473\n",
       "28/03/2024  3.638\n",
       "29/03/2024  3.766\n",
       "30/03/2024  3.641\n",
       "31/03/2024  3.834\n",
       "01/04/2024  3.835\n",
       "02/04/2024  3.820\n",
       "03/04/2024  3.417\n",
       "04/04/2024  3.478\n",
       "05/04/2024  4.412\n",
       "06/04/2024  3.404\n",
       "07/04/2024  4.075\n",
       "08/04/2024  2.921"
      ]
     },
     "execution_count": 340,
     "metadata": {},
     "output_type": "execute_result"
    }
   ],
   "source": [
    "df"
   ]
  },
  {
   "cell_type": "code",
   "execution_count": 341,
   "metadata": {},
   "outputs": [
    {
     "data": {
      "text/plain": [
       "(116704   2024-04-08 00:00:26.914657\n",
       " Name: dates, dtype: datetime64[ns],\n",
       " 119624   2024-04-08 18:31:48.537657\n",
       " Name: dates, dtype: datetime64[ns])"
      ]
     },
     "execution_count": 341,
     "metadata": {},
     "output_type": "execute_result"
    }
   ],
   "source": [
    "conso_day.head(1).dates, conso_day.tail(1).dates\n"
   ]
  },
  {
   "cell_type": "code",
   "execution_count": 342,
   "metadata": {},
   "outputs": [
    {
     "data": {
      "text/plain": [
       "116704   2024-04-08 00:00:26.914657\n",
       "116705   2024-04-08 00:00:54.101657\n",
       "116706   2024-04-08 00:01:20.748657\n",
       "116707   2024-04-08 00:01:47.629657\n",
       "116708   2024-04-08 00:02:15.349657\n",
       "                    ...            \n",
       "119620   2024-04-08 18:29:59.698657\n",
       "119621   2024-04-08 18:30:27.368657\n",
       "119622   2024-04-08 18:30:54.733657\n",
       "119623   2024-04-08 18:31:21.648657\n",
       "119624   2024-04-08 18:31:48.537657\n",
       "Name: dates, Length: 2921, dtype: datetime64[ns]"
      ]
     },
     "execution_count": 342,
     "metadata": {},
     "output_type": "execute_result"
    }
   ],
   "source": [
    "conso_day.loc[:,'dates']"
   ]
  },
  {
   "cell_type": "code",
   "execution_count": 343,
   "metadata": {},
   "outputs": [
    {
     "name": "stderr",
     "output_type": "stream",
     "text": [
      "C:\\Users\\jean\\AppData\\Local\\Temp\\ipykernel_18848\\2932063292.py:1: SettingWithCopyWarning: \n",
      "A value is trying to be set on a copy of a slice from a DataFrame.\n",
      "Try using .loc[row_indexer,col_indexer] = value instead\n",
      "\n",
      "See the caveats in the documentation: https://pandas.pydata.org/pandas-docs/stable/user_guide/indexing.html#returning-a-view-versus-a-copy\n",
      "  conso_day['heure']=conso_day.loc[:,'dates'].apply(lambda x: str(x.hour)+':'+str(x.minute) +':'+str(x.second))\n"
     ]
    },
    {
     "data": {
      "text/html": [
       "<div>\n",
       "<style scoped>\n",
       "    .dataframe tbody tr th:only-of-type {\n",
       "        vertical-align: middle;\n",
       "    }\n",
       "\n",
       "    .dataframe tbody tr th {\n",
       "        vertical-align: top;\n",
       "    }\n",
       "\n",
       "    .dataframe thead th {\n",
       "        text-align: right;\n",
       "    }\n",
       "</style>\n",
       "<table border=\"1\" class=\"dataframe\">\n",
       "  <thead>\n",
       "    <tr style=\"text-align: right;\">\n",
       "      <th></th>\n",
       "      <th>Interval</th>\n",
       "      <th>kWh</th>\n",
       "      <th>sec</th>\n",
       "      <th>Wh</th>\n",
       "      <th>cumul(ms)</th>\n",
       "      <th>dates</th>\n",
       "      <th>days</th>\n",
       "    </tr>\n",
       "    <tr>\n",
       "      <th>heure</th>\n",
       "      <th></th>\n",
       "      <th></th>\n",
       "      <th></th>\n",
       "      <th></th>\n",
       "      <th></th>\n",
       "      <th></th>\n",
       "      <th></th>\n",
       "    </tr>\n",
       "  </thead>\n",
       "  <tbody>\n",
       "    <tr>\n",
       "      <th>0:0:26</th>\n",
       "      <td>28143</td>\n",
       "      <td>0.13</td>\n",
       "      <td>28.143</td>\n",
       "      <td>127.918132</td>\n",
       "      <td>2758851733</td>\n",
       "      <td>2024-04-08 00:00:26.914657</td>\n",
       "      <td>08/04/2024</td>\n",
       "    </tr>\n",
       "    <tr>\n",
       "      <th>0:0:54</th>\n",
       "      <td>27187</td>\n",
       "      <td>0.13</td>\n",
       "      <td>27.187</td>\n",
       "      <td>132.416228</td>\n",
       "      <td>2758878920</td>\n",
       "      <td>2024-04-08 00:00:54.101657</td>\n",
       "      <td>08/04/2024</td>\n",
       "    </tr>\n",
       "    <tr>\n",
       "      <th>0:1:20</th>\n",
       "      <td>26647</td>\n",
       "      <td>0.14</td>\n",
       "      <td>26.647</td>\n",
       "      <td>135.099636</td>\n",
       "      <td>2758905567</td>\n",
       "      <td>2024-04-08 00:01:20.748657</td>\n",
       "      <td>08/04/2024</td>\n",
       "    </tr>\n",
       "    <tr>\n",
       "      <th>0:1:47</th>\n",
       "      <td>26881</td>\n",
       "      <td>0.13</td>\n",
       "      <td>26.881</td>\n",
       "      <td>133.923589</td>\n",
       "      <td>2758932448</td>\n",
       "      <td>2024-04-08 00:01:47.629657</td>\n",
       "      <td>08/04/2024</td>\n",
       "    </tr>\n",
       "    <tr>\n",
       "      <th>0:2:15</th>\n",
       "      <td>27720</td>\n",
       "      <td>0.13</td>\n",
       "      <td>27.720</td>\n",
       "      <td>129.870130</td>\n",
       "      <td>2758960168</td>\n",
       "      <td>2024-04-08 00:02:15.349657</td>\n",
       "      <td>08/04/2024</td>\n",
       "    </tr>\n",
       "    <tr>\n",
       "      <th>...</th>\n",
       "      <td>...</td>\n",
       "      <td>...</td>\n",
       "      <td>...</td>\n",
       "      <td>...</td>\n",
       "      <td>...</td>\n",
       "      <td>...</td>\n",
       "      <td>...</td>\n",
       "    </tr>\n",
       "    <tr>\n",
       "      <th>18:29:59</th>\n",
       "      <td>27732</td>\n",
       "      <td>0.13</td>\n",
       "      <td>27.732</td>\n",
       "      <td>129.813933</td>\n",
       "      <td>2825424517</td>\n",
       "      <td>2024-04-08 18:29:59.698657</td>\n",
       "      <td>08/04/2024</td>\n",
       "    </tr>\n",
       "    <tr>\n",
       "      <th>18:30:27</th>\n",
       "      <td>27670</td>\n",
       "      <td>0.13</td>\n",
       "      <td>27.670</td>\n",
       "      <td>130.104807</td>\n",
       "      <td>2825452187</td>\n",
       "      <td>2024-04-08 18:30:27.368657</td>\n",
       "      <td>08/04/2024</td>\n",
       "    </tr>\n",
       "    <tr>\n",
       "      <th>18:30:54</th>\n",
       "      <td>27365</td>\n",
       "      <td>0.13</td>\n",
       "      <td>27.365</td>\n",
       "      <td>131.554906</td>\n",
       "      <td>2825479552</td>\n",
       "      <td>2024-04-08 18:30:54.733657</td>\n",
       "      <td>08/04/2024</td>\n",
       "    </tr>\n",
       "    <tr>\n",
       "      <th>18:31:21</th>\n",
       "      <td>26915</td>\n",
       "      <td>0.13</td>\n",
       "      <td>26.915</td>\n",
       "      <td>133.754412</td>\n",
       "      <td>2825506467</td>\n",
       "      <td>2024-04-08 18:31:21.648657</td>\n",
       "      <td>08/04/2024</td>\n",
       "    </tr>\n",
       "    <tr>\n",
       "      <th>18:31:48</th>\n",
       "      <td>26889</td>\n",
       "      <td>0.13</td>\n",
       "      <td>26.889</td>\n",
       "      <td>133.883744</td>\n",
       "      <td>2825533356</td>\n",
       "      <td>2024-04-08 18:31:48.537657</td>\n",
       "      <td>08/04/2024</td>\n",
       "    </tr>\n",
       "  </tbody>\n",
       "</table>\n",
       "<p>2921 rows × 7 columns</p>\n",
       "</div>"
      ],
      "text/plain": [
       "          Interval   kWh     sec          Wh   cumul(ms)  \\\n",
       "heure                                                      \n",
       "0:0:26       28143  0.13  28.143  127.918132  2758851733   \n",
       "0:0:54       27187  0.13  27.187  132.416228  2758878920   \n",
       "0:1:20       26647  0.14  26.647  135.099636  2758905567   \n",
       "0:1:47       26881  0.13  26.881  133.923589  2758932448   \n",
       "0:2:15       27720  0.13  27.720  129.870130  2758960168   \n",
       "...            ...   ...     ...         ...         ...   \n",
       "18:29:59     27732  0.13  27.732  129.813933  2825424517   \n",
       "18:30:27     27670  0.13  27.670  130.104807  2825452187   \n",
       "18:30:54     27365  0.13  27.365  131.554906  2825479552   \n",
       "18:31:21     26915  0.13  26.915  133.754412  2825506467   \n",
       "18:31:48     26889  0.13  26.889  133.883744  2825533356   \n",
       "\n",
       "                              dates        days  \n",
       "heure                                            \n",
       "0:0:26   2024-04-08 00:00:26.914657  08/04/2024  \n",
       "0:0:54   2024-04-08 00:00:54.101657  08/04/2024  \n",
       "0:1:20   2024-04-08 00:01:20.748657  08/04/2024  \n",
       "0:1:47   2024-04-08 00:01:47.629657  08/04/2024  \n",
       "0:2:15   2024-04-08 00:02:15.349657  08/04/2024  \n",
       "...                             ...         ...  \n",
       "18:29:59 2024-04-08 18:29:59.698657  08/04/2024  \n",
       "18:30:27 2024-04-08 18:30:27.368657  08/04/2024  \n",
       "18:30:54 2024-04-08 18:30:54.733657  08/04/2024  \n",
       "18:31:21 2024-04-08 18:31:21.648657  08/04/2024  \n",
       "18:31:48 2024-04-08 18:31:48.537657  08/04/2024  \n",
       "\n",
       "[2921 rows x 7 columns]"
      ]
     },
     "execution_count": 343,
     "metadata": {},
     "output_type": "execute_result"
    }
   ],
   "source": [
    "conso_day['heure']=conso_day.loc[:,'dates'].apply(lambda x: str(x.hour)+':'+str(x.minute) +':'+str(x.second))\n",
    "#=[x.hour for x in conso_day['dates']]\n",
    "conso_day\n",
    "df= conso_day.set_index('heure')\n",
    "df"
   ]
  },
  {
   "cell_type": "code",
   "execution_count": 344,
   "metadata": {},
   "outputs": [
    {
     "data": {
      "text/plain": [
       "('18:31:52', 2.921)"
      ]
     },
     "execution_count": 344,
     "metadata": {},
     "output_type": "execute_result"
    }
   ],
   "source": [
    "here = now.strftime('%H:%M:%S')\n",
    "here, len(df)/1000"
   ]
  },
  {
   "cell_type": "code",
   "execution_count": 345,
   "metadata": {},
   "outputs": [
    {
     "data": {
      "text/plain": [
       "heure\n",
       "0:0:26      0.13\n",
       "0:0:54      0.13\n",
       "0:1:20      0.14\n",
       "0:1:47      0.13\n",
       "0:2:15      0.13\n",
       "            ... \n",
       "18:29:59    0.13\n",
       "18:30:27    0.13\n",
       "18:30:54    0.13\n",
       "18:31:21    0.13\n",
       "18:31:48    0.13\n",
       "Name: kWh, Length: 2921, dtype: float64"
      ]
     },
     "execution_count": 345,
     "metadata": {},
     "output_type": "execute_result"
    }
   ],
   "source": [
    "df['kWh']"
   ]
  },
  {
   "cell_type": "code",
   "execution_count": 346,
   "metadata": {},
   "outputs": [],
   "source": [
    "conso_jour=len(df['kWh'])"
   ]
  },
  {
   "cell_type": "code",
   "execution_count": 347,
   "metadata": {},
   "outputs": [
    {
     "data": {
      "image/png": "[encoded data removed]",
      "text/plain": [
       "<Figure size 1500x700 with 1 Axes>"
      ]
     },
     "metadata": {},
     "output_type": "display_data"
    }
   ],
   "source": [
    "from matplotlib.ticker import (MultipleLocator, AutoMinorLocator)\n",
    "# consommation d'une journée entière à partir de minuit\n",
    "fig, ax = plt.subplots()\n",
    "major_ticks=300;minor_ticks=100\n",
    "ax.xaxis.set_major_locator(MultipleLocator(major_ticks))  # major ticks tous les 15 min\n",
    "ax.xaxis.set_minor_locator(MultipleLocator(minor_ticks))\n",
    "# the size of A4 paper\n",
    "fig.set_size_inches(15, 7)\n",
    "plt.plot(df['kWh'])\n",
    "#plt.plot(conso_day['heure'],conso_day['kWh'])\n",
    "plt.title(f'Journée du {day} {here} : {conso_jour/1000} kwh')\n",
    "plt.grid()"
   ]
  },
  {
   "cell_type": "code",
   "execution_count": 348,
   "metadata": {},
   "outputs": [],
   "source": [
    "df['power']=[y for x,y in zip(df['Interval'],df['kWh'])]"
   ]
  },
  {
   "cell_type": "code",
   "execution_count": 349,
   "metadata": {},
   "outputs": [
    {
     "data": {
      "text/plain": [
       "heure\n",
       "0:0:26      0.13\n",
       "0:0:54      0.13\n",
       "0:1:20      0.14\n",
       "0:1:47      0.13\n",
       "0:2:15      0.13\n",
       "            ... \n",
       "18:29:59    0.13\n",
       "18:30:27    0.13\n",
       "18:30:54    0.13\n",
       "18:31:21    0.13\n",
       "18:31:48    0.13\n",
       "Name: power, Length: 2921, dtype: float64"
      ]
     },
     "execution_count": 349,
     "metadata": {},
     "output_type": "execute_result"
    }
   ],
   "source": [
    "df['power']"
   ]
  },
  {
   "cell_type": "code",
   "execution_count": 350,
   "metadata": {},
   "outputs": [
    {
     "data": {
      "text/plain": [
       "<Axes: xlabel='heure'>"
      ]
     },
     "execution_count": 350,
     "metadata": {},
     "output_type": "execute_result"
    },
    {
     "data": {
      "image/png": "[encoded data removed]",
      "text/plain": [
       "<Figure size 640x480 with 1 Axes>"
      ]
     },
     "metadata": {},
     "output_type": "display_data"
    }
   ],
   "source": [
    "evo=df['power'].cumsum()\n",
    "evo.plot()"
   ]
  },
  {
   "cell_type": "code",
   "execution_count": 351,
   "metadata": {},
   "outputs": [
    {
     "data": {
      "text/plain": [
       "435"
      ]
     },
     "execution_count": 351,
     "metadata": {},
     "output_type": "execute_result"
    },
    {
     "data": {
      "image/png": "[encoded data removed]",
      "text/plain": [
       "<Figure size 640x480 with 1 Axes>"
      ]
     },
     "metadata": {},
     "output_type": "display_data"
    }
   ],
   "source": [
    "# bouilloire, microondes, four\n",
    "filter=(.5<df['kWh'])\n",
    "pic_high = df[filter]\n",
    "pic_high['kWh'].plot()\n",
    "len(pic_high)"
   ]
  },
  {
   "cell_type": "markdown",
   "metadata": {},
   "source": []
  },
  {
   "cell_type": "code",
   "execution_count": 352,
   "metadata": {},
   "outputs": [
    {
     "data": {
      "text/plain": [
       "1953"
      ]
     },
     "execution_count": 352,
     "metadata": {},
     "output_type": "execute_result"
    },
    {
     "data": {
      "image/png": "[encoded data removed]",
      "text/plain": [
       "<Figure size 640x480 with 1 Axes>"
      ]
     },
     "metadata": {},
     "output_type": "display_data"
    }
   ],
   "source": [
    "# frigo, moteur volet\n",
    "pic_middle = df[(0.1<df['kWh']) & (df['kWh']<=.5)]\n",
    "pic_middle['kWh'].plot()\n",
    "len(pic_middle) # wh"
   ]
  },
  {
   "cell_type": "code",
   "execution_count": 353,
   "metadata": {},
   "outputs": [
    {
     "data": {
      "text/plain": [
       "2486"
      ]
     },
     "execution_count": 353,
     "metadata": {},
     "output_type": "execute_result"
    },
    {
     "data": {
      "image/png": "[encoded data removed]",
      "text/plain": [
       "<Figure size 640x480 with 1 Axes>"
      ]
     },
     "metadata": {},
     "output_type": "display_data"
    }
   ],
   "source": [
    "# pics frigo par jour\n",
    "filter = (df['kWh']<=0.5)\n",
    "pic_low = df[filter]\n",
    "pic_low['kWh'].plot()\n",
    "len(pic_low) # wh"
   ]
  },
  {
   "cell_type": "code",
   "execution_count": 354,
   "metadata": {},
   "outputs": [
    {
     "data": {
      "text/plain": [
       "0        2024-03-07 01:40:01.470657\n",
       "1        2024-03-07 01:40:27.713657\n",
       "2        2024-03-07 01:40:53.598657\n",
       "3        2024-03-07 01:41:19.352657\n",
       "4        2024-03-07 01:41:45.126657\n",
       "                    ...            \n",
       "119620   2024-04-08 18:29:59.698657\n",
       "119621   2024-04-08 18:30:27.368657\n",
       "119622   2024-04-08 18:30:54.733657\n",
       "119623   2024-04-08 18:31:21.648657\n",
       "119624   2024-04-08 18:31:48.537657\n",
       "Name: dates, Length: 119625, dtype: datetime64[ns]"
      ]
     },
     "execution_count": 354,
     "metadata": {},
     "output_type": "execute_result"
    }
   ],
   "source": [
    "time = conso_data['dates']\n",
    "time\n"
   ]
  },
  {
   "cell_type": "code",
   "execution_count": 355,
   "metadata": {},
   "outputs": [],
   "source": [
    "def format_date(space=3):\n",
    "    plt.gca().xaxis.set_major_formatter(mdates.DateFormatter('%d/%m\\n%H:%M'))\n",
    "    plt.gca().xaxis.set_major_locator(mdates.HourLocator(space))\n",
    "    #plt.gca().xaxis.set_major_locator(mdates.HourLocator(interval=space))\n",
    "    plt.gcf().autofmt_xdate()\n",
    "    plt.grid()"
   ]
  },
  {
   "cell_type": "code",
   "execution_count": 356,
   "metadata": {},
   "outputs": [],
   "source": [
    "if not old:\n",
    "    major_ticks=1/60;minor_ticks=1/240  # plus de ticks, 4 fois plus de minor\n",
    "    major_ticks=1/30;minor_ticks=1/120   # moins de ticks\n",
    "    major_ticks=1/15;minor_ticks=1/60\n",
    "    major_ticks=1/2;minor_ticks=1/8\n",
    "else:\n",
    "    major_ticks=4;minor_ticks=1   # encore moins si int\n"
   ]
  },
  {
   "cell_type": "code",
   "execution_count": 357,
   "metadata": {},
   "outputs": [
    {
     "data": {
      "text/plain": [
       "(4, 1)"
      ]
     },
     "execution_count": 357,
     "metadata": {},
     "output_type": "execute_result"
    }
   ],
   "source": [
    "major_ticks=4;minor_ticks=1\n",
    "major_ticks,minor_ticks"
   ]
  },
  {
   "cell_type": "markdown",
   "metadata": {},
   "source": [
    "## Main graph"
   ]
  },
  {
   "cell_type": "code",
   "execution_count": 358,
   "metadata": {},
   "outputs": [
    {
     "data": {
      "image/png": "[encoded data removed]",
      "text/plain": [
       "<Figure size 2500x1000 with 1 Axes>"
      ]
     },
     "metadata": {},
     "output_type": "display_data"
    }
   ],
   "source": [
    "\n",
    "from matplotlib.dates import (YEARLY, DateFormatter,rrulewrapper, RRuleLocator, drange)\n",
    "\n",
    "def show_graph():\n",
    "    fig, ax = plt.subplots()\n",
    "    # the size of A4 paper\n",
    "    fig.set_size_inches(25, 10)\n",
    "\n",
    "    #plt.rcParams['axes.autolimit_mode'] = 'round_numbers'\n",
    "    \n",
    "    #formatter = DateFormatter('%d/%m\\n%H:%M:%S')\n",
    "    formatter = DateFormatter('%d/%m\\n%H:%M')\n",
    "    ax.xaxis.set_major_formatter(formatter)\n",
    "\n",
    "    # ticks sur axe des x\n",
    "    ax.xaxis.set_major_locator(MultipleLocator(major_ticks))  # major ticks tous les 15 min\n",
    "    ax.xaxis.set_minor_locator(MultipleLocator(minor_ticks))  # minor ticks tous les 5 min\n",
    "    ax.tick_params(which='both', width=3)\n",
    "    ax.tick_params(which='major', length=15, color='r')\n",
    "    ax.tick_params(which='minor', length=8, color='b')\n",
    "\n",
    "    #plt.plot(conso_data['cumul(ms)']/3600000,conso_data['Wh'])\n",
    "    plt.plot(time,conso_data['Wh'])\n",
    "    plt.ylabel('Wh')\n",
    "    plt.xlabel('Time (heures)')\n",
    "    #format_date(10)\n",
    "    for label in ax.get_xticklabels():\n",
    "        label.set_rotation(40)\n",
    "        label.set_horizontalalignment('right')\n",
    "\n",
    "    #fig.autofmt_xdate()\n",
    "    \n",
    "    plt.grid()\n",
    "    plt.show()\n",
    "show_graph()"
   ]
  },
  {
   "cell_type": "code",
   "execution_count": 359,
   "metadata": {},
   "outputs": [
    {
     "data": {
      "text/html": [
       "<div>\n",
       "<style scoped>\n",
       "    .dataframe tbody tr th:only-of-type {\n",
       "        vertical-align: middle;\n",
       "    }\n",
       "\n",
       "    .dataframe tbody tr th {\n",
       "        vertical-align: top;\n",
       "    }\n",
       "\n",
       "    .dataframe thead th {\n",
       "        text-align: right;\n",
       "    }\n",
       "</style>\n",
       "<table border=\"1\" class=\"dataframe\">\n",
       "  <thead>\n",
       "    <tr style=\"text-align: right;\">\n",
       "      <th></th>\n",
       "      <th>Interval</th>\n",
       "      <th>kWh</th>\n",
       "      <th>sec</th>\n",
       "      <th>Wh</th>\n",
       "      <th>cumul(ms)</th>\n",
       "      <th>dates</th>\n",
       "      <th>days</th>\n",
       "    </tr>\n",
       "  </thead>\n",
       "  <tbody>\n",
       "    <tr>\n",
       "      <th>119624</th>\n",
       "      <td>26889</td>\n",
       "      <td>0.13</td>\n",
       "      <td>26.889</td>\n",
       "      <td>133.883744</td>\n",
       "      <td>2825533356</td>\n",
       "      <td>2024-04-08 18:31:48.537657</td>\n",
       "      <td>08/04/2024</td>\n",
       "    </tr>\n",
       "  </tbody>\n",
       "</table>\n",
       "</div>"
      ],
      "text/plain": [
       "        Interval   kWh     sec          Wh   cumul(ms)  \\\n",
       "119624     26889  0.13  26.889  133.883744  2825533356   \n",
       "\n",
       "                            dates        days  \n",
       "119624 2024-04-08 18:31:48.537657  08/04/2024  "
      ]
     },
     "execution_count": 359,
     "metadata": {},
     "output_type": "execute_result"
    }
   ],
   "source": [
    "cumul_conso = len(conso_data)\n",
    "conso_data.tail(1)"
   ]
  },
  {
   "cell_type": "code",
   "execution_count": 360,
   "metadata": {},
   "outputs": [
    {
     "data": {
      "text/plain": [
       "2825533356000"
      ]
     },
     "execution_count": 360,
     "metadata": {},
     "output_type": "execute_result"
    }
   ],
   "source": [
    "cumtime= int(conso_data._get_value(l,'cumul(ms)')*1000)\n",
    "cumtime"
   ]
  },
  {
   "cell_type": "markdown",
   "metadata": {},
   "source": [
    "# Slice of last 1 kWh"
   ]
  },
  {
   "cell_type": "code",
   "execution_count": 361,
   "metadata": {},
   "outputs": [
    {
     "data": {
      "text/plain": [
       "119625"
      ]
     },
     "execution_count": 361,
     "metadata": {},
     "output_type": "execute_result"
    }
   ],
   "source": [
    "l = len(conso_data)  # total watt consommés\n",
    "l"
   ]
  },
  {
   "cell_type": "code",
   "execution_count": 362,
   "metadata": {},
   "outputs": [
    {
     "data": {
      "text/plain": [
       "(119625, 1000)"
      ]
     },
     "execution_count": 362,
     "metadata": {},
     "output_type": "execute_result"
    }
   ],
   "source": [
    "k = 1\n",
    "taille = k*1000  # fenetre k*1000 watt consommés\n",
    "l,taille"
   ]
  },
  {
   "cell_type": "code",
   "execution_count": 363,
   "metadata": {},
   "outputs": [
    {
     "data": {
      "text/plain": [
       "1000"
      ]
     },
     "execution_count": 363,
     "metadata": {},
     "output_type": "execute_result"
    }
   ],
   "source": [
    "if l<1000:\n",
    "    part = 1\n",
    "else: part = 1/2\n",
    "#taille = int(part*l)\n",
    "taille"
   ]
  },
  {
   "cell_type": "code",
   "execution_count": 364,
   "metadata": {},
   "outputs": [
    {
     "data": {
      "text/plain": [
       "(1000,\n",
       "         Interval   kWh     sec          Wh   cumul(ms)  \\\n",
       " 118625      6073  0.59   6.073  592.787749  2802294983   \n",
       " 118626      6887  0.52   6.887  522.723973  2802301870   \n",
       " 118627      7169  0.50   7.169  502.162087  2802309039   \n",
       " 118628      7203  0.50   7.203  499.791753  2802316242   \n",
       " 118629      7185  0.50   7.185  501.043841  2802323427   \n",
       " ...          ...   ...     ...         ...         ...   \n",
       " 119620     27732  0.13  27.732  129.813933  2825424517   \n",
       " 119621     27670  0.13  27.670  130.104807  2825452187   \n",
       " 119622     27365  0.13  27.365  131.554906  2825479552   \n",
       " 119623     26915  0.13  26.915  133.754412  2825506467   \n",
       " 119624     26889  0.13  26.889  133.883744  2825533356   \n",
       " \n",
       "                             dates        days  \n",
       " 118625 2024-04-08 12:04:30.164657  08/04/2024  \n",
       " 118626 2024-04-08 12:04:37.051657  08/04/2024  \n",
       " 118627 2024-04-08 12:04:44.220657  08/04/2024  \n",
       " 118628 2024-04-08 12:04:51.423657  08/04/2024  \n",
       " 118629 2024-04-08 12:04:58.608657  08/04/2024  \n",
       " ...                           ...         ...  \n",
       " 119620 2024-04-08 18:29:59.698657  08/04/2024  \n",
       " 119621 2024-04-08 18:30:27.368657  08/04/2024  \n",
       " 119622 2024-04-08 18:30:54.733657  08/04/2024  \n",
       " 119623 2024-04-08 18:31:21.648657  08/04/2024  \n",
       " 119624 2024-04-08 18:31:48.537657  08/04/2024  \n",
       " \n",
       " [1000 rows x 7 columns])"
      ]
     },
     "execution_count": 364,
     "metadata": {},
     "output_type": "execute_result"
    }
   ],
   "source": [
    "data = conso_data.tail(taille)\n",
    "len(data),data"
   ]
  },
  {
   "cell_type": "code",
   "execution_count": 365,
   "metadata": {},
   "outputs": [],
   "source": [
    "now = datetime.now()\n",
    "# conso.csv dynamique\n",
    "cumtime_start= int(conso_data._get_value(l-taille+1,'cumul(ms)')*1000) # conversion microseconds\n"
   ]
  },
  {
   "cell_type": "code",
   "execution_count": 366,
   "metadata": {},
   "outputs": [],
   "source": [
    "cumtime_end= int(data._get_value(l-1,'cumul(ms)')*1000) # conversion microseconds\n"
   ]
  },
  {
   "cell_type": "code",
   "execution_count": 367,
   "metadata": {},
   "outputs": [
    {
     "data": {
      "text/plain": [
       "(2825533356000, 2802301870000)"
      ]
     },
     "execution_count": 367,
     "metadata": {},
     "output_type": "execute_result"
    }
   ],
   "source": [
    "cumtime_end,cumtime_start"
   ]
  },
  {
   "cell_type": "code",
   "execution_count": 368,
   "metadata": {},
   "outputs": [
    {
     "data": {
      "text/plain": [
       "23231486000"
      ]
     },
     "execution_count": 368,
     "metadata": {},
     "output_type": "execute_result"
    }
   ],
   "source": [
    "#last_interval = int(data._get_value(l,'Interval')*1000) # conversion microseconds\n",
    "delta_cumtime = cumtime_end - cumtime_start #+ last_interval\n",
    "delta_cumtime"
   ]
  },
  {
   "cell_type": "code",
   "execution_count": 369,
   "metadata": {},
   "outputs": [
    {
     "data": {
      "text/plain": [
       "(datetime.datetime(2024, 4, 8, 18, 31, 59, 578975),\n",
       " datetime.datetime(2024, 4, 8, 12, 4, 48, 92975),\n",
       " '08/04/2024 18:31:48')"
      ]
     },
     "execution_count": 369,
     "metadata": {},
     "output_type": "execute_result"
    }
   ],
   "source": [
    "\n",
    "base = now - timedelta(microseconds=delta_cumtime)\n",
    "now,base, data['dates'][l-1].strftime('%d/%m/%Y %H:%M:%S')\n"
   ]
  },
  {
   "cell_type": "code",
   "execution_count": 370,
   "metadata": {},
   "outputs": [
    {
     "data": {
      "text/html": [
       "<div>\n",
       "<style scoped>\n",
       "    .dataframe tbody tr th:only-of-type {\n",
       "        vertical-align: middle;\n",
       "    }\n",
       "\n",
       "    .dataframe tbody tr th {\n",
       "        vertical-align: top;\n",
       "    }\n",
       "\n",
       "    .dataframe thead th {\n",
       "        text-align: right;\n",
       "    }\n",
       "</style>\n",
       "<table border=\"1\" class=\"dataframe\">\n",
       "  <thead>\n",
       "    <tr style=\"text-align: right;\">\n",
       "      <th></th>\n",
       "      <th>Interval</th>\n",
       "      <th>kWh</th>\n",
       "      <th>sec</th>\n",
       "      <th>Wh</th>\n",
       "      <th>cumul(ms)</th>\n",
       "      <th>dates</th>\n",
       "      <th>days</th>\n",
       "    </tr>\n",
       "  </thead>\n",
       "  <tbody>\n",
       "    <tr>\n",
       "      <th>0</th>\n",
       "      <td>26289</td>\n",
       "      <td>0.14</td>\n",
       "      <td>26.289</td>\n",
       "      <td>136.939404</td>\n",
       "      <td>26289</td>\n",
       "      <td>2024-03-07 01:40:01.470657</td>\n",
       "      <td>07/03/2024</td>\n",
       "    </tr>\n",
       "    <tr>\n",
       "      <th>1</th>\n",
       "      <td>26243</td>\n",
       "      <td>0.14</td>\n",
       "      <td>26.243</td>\n",
       "      <td>137.179438</td>\n",
       "      <td>52532</td>\n",
       "      <td>2024-03-07 01:40:27.713657</td>\n",
       "      <td>07/03/2024</td>\n",
       "    </tr>\n",
       "    <tr>\n",
       "      <th>2</th>\n",
       "      <td>25885</td>\n",
       "      <td>0.14</td>\n",
       "      <td>25.885</td>\n",
       "      <td>139.076685</td>\n",
       "      <td>78417</td>\n",
       "      <td>2024-03-07 01:40:53.598657</td>\n",
       "      <td>07/03/2024</td>\n",
       "    </tr>\n",
       "    <tr>\n",
       "      <th>3</th>\n",
       "      <td>25754</td>\n",
       "      <td>0.14</td>\n",
       "      <td>25.754</td>\n",
       "      <td>139.784111</td>\n",
       "      <td>104171</td>\n",
       "      <td>2024-03-07 01:41:19.352657</td>\n",
       "      <td>07/03/2024</td>\n",
       "    </tr>\n",
       "    <tr>\n",
       "      <th>4</th>\n",
       "      <td>25774</td>\n",
       "      <td>0.14</td>\n",
       "      <td>25.774</td>\n",
       "      <td>139.675642</td>\n",
       "      <td>129945</td>\n",
       "      <td>2024-03-07 01:41:45.126657</td>\n",
       "      <td>07/03/2024</td>\n",
       "    </tr>\n",
       "    <tr>\n",
       "      <th>...</th>\n",
       "      <td>...</td>\n",
       "      <td>...</td>\n",
       "      <td>...</td>\n",
       "      <td>...</td>\n",
       "      <td>...</td>\n",
       "      <td>...</td>\n",
       "      <td>...</td>\n",
       "    </tr>\n",
       "    <tr>\n",
       "      <th>119620</th>\n",
       "      <td>27732</td>\n",
       "      <td>0.13</td>\n",
       "      <td>27.732</td>\n",
       "      <td>129.813933</td>\n",
       "      <td>2825424517</td>\n",
       "      <td>2024-04-08 18:29:59.698657</td>\n",
       "      <td>08/04/2024</td>\n",
       "    </tr>\n",
       "    <tr>\n",
       "      <th>119621</th>\n",
       "      <td>27670</td>\n",
       "      <td>0.13</td>\n",
       "      <td>27.670</td>\n",
       "      <td>130.104807</td>\n",
       "      <td>2825452187</td>\n",
       "      <td>2024-04-08 18:30:27.368657</td>\n",
       "      <td>08/04/2024</td>\n",
       "    </tr>\n",
       "    <tr>\n",
       "      <th>119622</th>\n",
       "      <td>27365</td>\n",
       "      <td>0.13</td>\n",
       "      <td>27.365</td>\n",
       "      <td>131.554906</td>\n",
       "      <td>2825479552</td>\n",
       "      <td>2024-04-08 18:30:54.733657</td>\n",
       "      <td>08/04/2024</td>\n",
       "    </tr>\n",
       "    <tr>\n",
       "      <th>119623</th>\n",
       "      <td>26915</td>\n",
       "      <td>0.13</td>\n",
       "      <td>26.915</td>\n",
       "      <td>133.754412</td>\n",
       "      <td>2825506467</td>\n",
       "      <td>2024-04-08 18:31:21.648657</td>\n",
       "      <td>08/04/2024</td>\n",
       "    </tr>\n",
       "    <tr>\n",
       "      <th>119624</th>\n",
       "      <td>26889</td>\n",
       "      <td>0.13</td>\n",
       "      <td>26.889</td>\n",
       "      <td>133.883744</td>\n",
       "      <td>2825533356</td>\n",
       "      <td>2024-04-08 18:31:48.537657</td>\n",
       "      <td>08/04/2024</td>\n",
       "    </tr>\n",
       "  </tbody>\n",
       "</table>\n",
       "<p>119625 rows × 7 columns</p>\n",
       "</div>"
      ],
      "text/plain": [
       "        Interval   kWh     sec          Wh   cumul(ms)  \\\n",
       "0          26289  0.14  26.289  136.939404       26289   \n",
       "1          26243  0.14  26.243  137.179438       52532   \n",
       "2          25885  0.14  25.885  139.076685       78417   \n",
       "3          25754  0.14  25.754  139.784111      104171   \n",
       "4          25774  0.14  25.774  139.675642      129945   \n",
       "...          ...   ...     ...         ...         ...   \n",
       "119620     27732  0.13  27.732  129.813933  2825424517   \n",
       "119621     27670  0.13  27.670  130.104807  2825452187   \n",
       "119622     27365  0.13  27.365  131.554906  2825479552   \n",
       "119623     26915  0.13  26.915  133.754412  2825506467   \n",
       "119624     26889  0.13  26.889  133.883744  2825533356   \n",
       "\n",
       "                            dates        days  \n",
       "0      2024-03-07 01:40:01.470657  07/03/2024  \n",
       "1      2024-03-07 01:40:27.713657  07/03/2024  \n",
       "2      2024-03-07 01:40:53.598657  07/03/2024  \n",
       "3      2024-03-07 01:41:19.352657  07/03/2024  \n",
       "4      2024-03-07 01:41:45.126657  07/03/2024  \n",
       "...                           ...         ...  \n",
       "119620 2024-04-08 18:29:59.698657  08/04/2024  \n",
       "119621 2024-04-08 18:30:27.368657  08/04/2024  \n",
       "119622 2024-04-08 18:30:54.733657  08/04/2024  \n",
       "119623 2024-04-08 18:31:21.648657  08/04/2024  \n",
       "119624 2024-04-08 18:31:48.537657  08/04/2024  \n",
       "\n",
       "[119625 rows x 7 columns]"
      ]
     },
     "execution_count": 370,
     "metadata": {},
     "output_type": "execute_result"
    }
   ],
   "source": [
    "conso_data"
   ]
  },
  {
   "cell_type": "code",
   "execution_count": 371,
   "metadata": {},
   "outputs": [
    {
     "data": {
      "text/plain": [
       "('08/04/2024 12:04:37', '08/04/2024 18:31:48')"
      ]
     },
     "execution_count": 371,
     "metadata": {},
     "output_type": "execute_result"
    }
   ],
   "source": [
    "end = conso_data['dates'][l-1].strftime('%d/%m/%Y %H:%M:%S')\n",
    "start = conso_data['dates'][l-taille+1].strftime('%d/%m/%Y %H:%M:%S')\n",
    "start,end"
   ]
  },
  {
   "cell_type": "code",
   "execution_count": 372,
   "metadata": {},
   "outputs": [
    {
     "data": {
      "text/plain": [
       "('2024-04-08 12:04:30.164657', '2024-04-08 18:31:48.537657')"
      ]
     },
     "execution_count": 372,
     "metadata": {},
     "output_type": "execute_result"
    }
   ],
   "source": [
    "data.head(1)['dates'].to_string(index=False),data.tail(1)['dates'].to_string(index=False)"
   ]
  },
  {
   "cell_type": "code",
   "execution_count": 373,
   "metadata": {},
   "outputs": [
    {
     "data": {
      "text/plain": [
       "1"
      ]
     },
     "execution_count": 373,
     "metadata": {},
     "output_type": "execute_result"
    }
   ],
   "source": [
    "k"
   ]
  },
  {
   "cell_type": "code",
   "execution_count": 374,
   "metadata": {},
   "outputs": [
    {
     "data": {
      "text/plain": [
       "118625     6073\n",
       "118626     6887\n",
       "118627     7169\n",
       "118628     7203\n",
       "118629     7185\n",
       "          ...  \n",
       "119620    27732\n",
       "119621    27670\n",
       "119622    27365\n",
       "119623    26915\n",
       "119624    26889\n",
       "Name: Interval, Length: 1000, dtype: int64"
      ]
     },
     "execution_count": 374,
     "metadata": {},
     "output_type": "execute_result"
    }
   ],
   "source": [
    "data.Interval.tail(1000)"
   ]
  },
  {
   "cell_type": "code",
   "execution_count": 375,
   "metadata": {},
   "outputs": [
    {
     "data": {
      "text/plain": [
       "(6.456790555555556, 3.7170169596642566, 6, 27, 24)"
      ]
     },
     "execution_count": 375,
     "metadata": {},
     "output_type": "execute_result"
    }
   ],
   "source": [
    "conversion_us_heure = 1/1000/60/60 \n",
    "temps_1kWh = sum(data.Interval.tail(1000))*conversion_us_heure  #somme 1000 interval = temps conso 1 kWh\n",
    "conso_jour = 24/temps_1kWh\n",
    "heure = int(temps_1kWh)\n",
    "mn = (temps_1kWh - heure)*60\n",
    "sec = (mn - int(mn))*60\n",
    "temps_1kWh, conso_jour,heure,int(mn),int(sec)"
   ]
  },
  {
   "cell_type": "code",
   "execution_count": 376,
   "metadata": {},
   "outputs": [
    {
     "name": "stderr",
     "output_type": "stream",
     "text": [
      "C:\\Users\\jean\\AppData\\Local\\Temp\\ipykernel_18848\\3458501435.py:1: SettingWithCopyWarning: \n",
      "A value is trying to be set on a copy of a slice from a DataFrame.\n",
      "Try using .loc[row_indexer,col_indexer] = value instead\n",
      "\n",
      "See the caveats in the documentation: https://pandas.pydata.org/pandas-docs/stable/user_guide/indexing.html#returning-a-view-versus-a-copy\n",
      "  data['heure']=conso_data['dates']#.strftime('%d/%m/%Y %H:%M:%S')\n"
     ]
    }
   ],
   "source": [
    "data['heure']=conso_data['dates']#.strftime('%d/%m/%Y %H:%M:%S')"
   ]
  },
  {
   "cell_type": "code",
   "execution_count": 377,
   "metadata": {},
   "outputs": [
    {
     "data": {
      "text/html": [
       "<div>\n",
       "<style scoped>\n",
       "    .dataframe tbody tr th:only-of-type {\n",
       "        vertical-align: middle;\n",
       "    }\n",
       "\n",
       "    .dataframe tbody tr th {\n",
       "        vertical-align: top;\n",
       "    }\n",
       "\n",
       "    .dataframe thead th {\n",
       "        text-align: right;\n",
       "    }\n",
       "</style>\n",
       "<table border=\"1\" class=\"dataframe\">\n",
       "  <thead>\n",
       "    <tr style=\"text-align: right;\">\n",
       "      <th></th>\n",
       "      <th>Interval</th>\n",
       "      <th>kWh</th>\n",
       "      <th>sec</th>\n",
       "      <th>Wh</th>\n",
       "      <th>cumul(ms)</th>\n",
       "      <th>dates</th>\n",
       "      <th>days</th>\n",
       "      <th>heure</th>\n",
       "    </tr>\n",
       "  </thead>\n",
       "  <tbody>\n",
       "    <tr>\n",
       "      <th>118625</th>\n",
       "      <td>6073</td>\n",
       "      <td>0.59</td>\n",
       "      <td>6.073</td>\n",
       "      <td>592.787749</td>\n",
       "      <td>2802294983</td>\n",
       "      <td>2024-04-08 12:04:30.164657</td>\n",
       "      <td>08/04/2024</td>\n",
       "      <td>2024-04-08 12:04:30.164657</td>\n",
       "    </tr>\n",
       "    <tr>\n",
       "      <th>118626</th>\n",
       "      <td>6887</td>\n",
       "      <td>0.52</td>\n",
       "      <td>6.887</td>\n",
       "      <td>522.723973</td>\n",
       "      <td>2802301870</td>\n",
       "      <td>2024-04-08 12:04:37.051657</td>\n",
       "      <td>08/04/2024</td>\n",
       "      <td>2024-04-08 12:04:37.051657</td>\n",
       "    </tr>\n",
       "    <tr>\n",
       "      <th>118627</th>\n",
       "      <td>7169</td>\n",
       "      <td>0.50</td>\n",
       "      <td>7.169</td>\n",
       "      <td>502.162087</td>\n",
       "      <td>2802309039</td>\n",
       "      <td>2024-04-08 12:04:44.220657</td>\n",
       "      <td>08/04/2024</td>\n",
       "      <td>2024-04-08 12:04:44.220657</td>\n",
       "    </tr>\n",
       "    <tr>\n",
       "      <th>118628</th>\n",
       "      <td>7203</td>\n",
       "      <td>0.50</td>\n",
       "      <td>7.203</td>\n",
       "      <td>499.791753</td>\n",
       "      <td>2802316242</td>\n",
       "      <td>2024-04-08 12:04:51.423657</td>\n",
       "      <td>08/04/2024</td>\n",
       "      <td>2024-04-08 12:04:51.423657</td>\n",
       "    </tr>\n",
       "    <tr>\n",
       "      <th>118629</th>\n",
       "      <td>7185</td>\n",
       "      <td>0.50</td>\n",
       "      <td>7.185</td>\n",
       "      <td>501.043841</td>\n",
       "      <td>2802323427</td>\n",
       "      <td>2024-04-08 12:04:58.608657</td>\n",
       "      <td>08/04/2024</td>\n",
       "      <td>2024-04-08 12:04:58.608657</td>\n",
       "    </tr>\n",
       "    <tr>\n",
       "      <th>...</th>\n",
       "      <td>...</td>\n",
       "      <td>...</td>\n",
       "      <td>...</td>\n",
       "      <td>...</td>\n",
       "      <td>...</td>\n",
       "      <td>...</td>\n",
       "      <td>...</td>\n",
       "      <td>...</td>\n",
       "    </tr>\n",
       "    <tr>\n",
       "      <th>119620</th>\n",
       "      <td>27732</td>\n",
       "      <td>0.13</td>\n",
       "      <td>27.732</td>\n",
       "      <td>129.813933</td>\n",
       "      <td>2825424517</td>\n",
       "      <td>2024-04-08 18:29:59.698657</td>\n",
       "      <td>08/04/2024</td>\n",
       "      <td>2024-04-08 18:29:59.698657</td>\n",
       "    </tr>\n",
       "    <tr>\n",
       "      <th>119621</th>\n",
       "      <td>27670</td>\n",
       "      <td>0.13</td>\n",
       "      <td>27.670</td>\n",
       "      <td>130.104807</td>\n",
       "      <td>2825452187</td>\n",
       "      <td>2024-04-08 18:30:27.368657</td>\n",
       "      <td>08/04/2024</td>\n",
       "      <td>2024-04-08 18:30:27.368657</td>\n",
       "    </tr>\n",
       "    <tr>\n",
       "      <th>119622</th>\n",
       "      <td>27365</td>\n",
       "      <td>0.13</td>\n",
       "      <td>27.365</td>\n",
       "      <td>131.554906</td>\n",
       "      <td>2825479552</td>\n",
       "      <td>2024-04-08 18:30:54.733657</td>\n",
       "      <td>08/04/2024</td>\n",
       "      <td>2024-04-08 18:30:54.733657</td>\n",
       "    </tr>\n",
       "    <tr>\n",
       "      <th>119623</th>\n",
       "      <td>26915</td>\n",
       "      <td>0.13</td>\n",
       "      <td>26.915</td>\n",
       "      <td>133.754412</td>\n",
       "      <td>2825506467</td>\n",
       "      <td>2024-04-08 18:31:21.648657</td>\n",
       "      <td>08/04/2024</td>\n",
       "      <td>2024-04-08 18:31:21.648657</td>\n",
       "    </tr>\n",
       "    <tr>\n",
       "      <th>119624</th>\n",
       "      <td>26889</td>\n",
       "      <td>0.13</td>\n",
       "      <td>26.889</td>\n",
       "      <td>133.883744</td>\n",
       "      <td>2825533356</td>\n",
       "      <td>2024-04-08 18:31:48.537657</td>\n",
       "      <td>08/04/2024</td>\n",
       "      <td>2024-04-08 18:31:48.537657</td>\n",
       "    </tr>\n",
       "  </tbody>\n",
       "</table>\n",
       "<p>1000 rows × 8 columns</p>\n",
       "</div>"
      ],
      "text/plain": [
       "        Interval   kWh     sec          Wh   cumul(ms)  \\\n",
       "118625      6073  0.59   6.073  592.787749  2802294983   \n",
       "118626      6887  0.52   6.887  522.723973  2802301870   \n",
       "118627      7169  0.50   7.169  502.162087  2802309039   \n",
       "118628      7203  0.50   7.203  499.791753  2802316242   \n",
       "118629      7185  0.50   7.185  501.043841  2802323427   \n",
       "...          ...   ...     ...         ...         ...   \n",
       "119620     27732  0.13  27.732  129.813933  2825424517   \n",
       "119621     27670  0.13  27.670  130.104807  2825452187   \n",
       "119622     27365  0.13  27.365  131.554906  2825479552   \n",
       "119623     26915  0.13  26.915  133.754412  2825506467   \n",
       "119624     26889  0.13  26.889  133.883744  2825533356   \n",
       "\n",
       "                            dates        days                      heure  \n",
       "118625 2024-04-08 12:04:30.164657  08/04/2024 2024-04-08 12:04:30.164657  \n",
       "118626 2024-04-08 12:04:37.051657  08/04/2024 2024-04-08 12:04:37.051657  \n",
       "118627 2024-04-08 12:04:44.220657  08/04/2024 2024-04-08 12:04:44.220657  \n",
       "118628 2024-04-08 12:04:51.423657  08/04/2024 2024-04-08 12:04:51.423657  \n",
       "118629 2024-04-08 12:04:58.608657  08/04/2024 2024-04-08 12:04:58.608657  \n",
       "...                           ...         ...                        ...  \n",
       "119620 2024-04-08 18:29:59.698657  08/04/2024 2024-04-08 18:29:59.698657  \n",
       "119621 2024-04-08 18:30:27.368657  08/04/2024 2024-04-08 18:30:27.368657  \n",
       "119622 2024-04-08 18:30:54.733657  08/04/2024 2024-04-08 18:30:54.733657  \n",
       "119623 2024-04-08 18:31:21.648657  08/04/2024 2024-04-08 18:31:21.648657  \n",
       "119624 2024-04-08 18:31:48.537657  08/04/2024 2024-04-08 18:31:48.537657  \n",
       "\n",
       "[1000 rows x 8 columns]"
      ]
     },
     "execution_count": 377,
     "metadata": {},
     "output_type": "execute_result"
    }
   ],
   "source": [
    "data"
   ]
  },
  {
   "cell_type": "code",
   "execution_count": 378,
   "metadata": {},
   "outputs": [
    {
     "data": {
      "text/plain": [
       "<Axes: >"
      ]
     },
     "execution_count": 378,
     "metadata": {},
     "output_type": "execute_result"
    },
    {
     "data": {
      "image/png": "[encoded data removed]",
      "text/plain": [
       "<Figure size 640x480 with 1 Axes>"
      ]
     },
     "metadata": {},
     "output_type": "display_data"
    }
   ],
   "source": [
    "#data.tail(600)['Wh'].plot()\n",
    "data['Wh'].plot()"
   ]
  },
  {
   "cell_type": "code",
   "execution_count": 379,
   "metadata": {},
   "outputs": [
    {
     "data": {
      "text/plain": [
       "118625    592.787749\n",
       "118626    522.723973\n",
       "118627    502.162087\n",
       "118628    499.791753\n",
       "118629    501.043841\n",
       "             ...    \n",
       "119620    129.813933\n",
       "119621    130.104807\n",
       "119622    131.554906\n",
       "119623    133.754412\n",
       "119624    133.883744\n",
       "Name: Wh, Length: 1000, dtype: float64"
      ]
     },
     "execution_count": 379,
     "metadata": {},
     "output_type": "execute_result"
    }
   ],
   "source": [
    "data['Wh']"
   ]
  },
  {
   "cell_type": "markdown",
   "metadata": {},
   "source": [
    "# k kW window graph"
   ]
  },
  {
   "cell_type": "code",
   "execution_count": 380,
   "metadata": {},
   "outputs": [
    {
     "data": {
      "image/png": "[encoded data removed]",
      "text/plain": [
       "<Figure size 1500x800 with 1 Axes>"
      ]
     },
     "metadata": {},
     "output_type": "display_data"
    }
   ],
   "source": [
    "fig, ax = plt.subplots()\n",
    "# the size of A4 paper\n",
    "fig.set_size_inches(15, 8)\n",
    "\n",
    "formatter = DateFormatter('%d/%m\\n%H:%M')\n",
    "ax.xaxis.set_major_formatter(formatter)\n",
    "\n",
    "# ticks sur axe des x\n",
    "major_ticks=1/30;minor_ticks=1/360\n",
    "ax.xaxis.set_major_locator(MultipleLocator(major_ticks))  # 1 major tick tous les 48 min\n",
    "ax.xaxis.set_minor_locator(MultipleLocator(minor_ticks))  # 1 minor ticks tous les 4 min\n",
    "ax.tick_params(which='both', width=3)\n",
    "ax.tick_params(which='major', length=15, color='r')\n",
    "ax.tick_params(which='minor', length=8, color='b')\n",
    "\n",
    "plt.title(f'Consommation {k} kW (Temps: {heure} heures {int(mn)} minutes {int(sec)} secondes)\\nDe {start} à {end}')\n",
    "plt.plot(data['dates'],data['Wh'])\n",
    "plt.ylabel('Wh')\n",
    "plt.xlabel('Time (heures)')\n",
    "plt.grid()\n"
   ]
  },
  {
   "cell_type": "code",
   "execution_count": 381,
   "metadata": {},
   "outputs": [
    {
     "data": {
      "text/plain": [
       "<Axes: ylabel='Frequency'>"
      ]
     },
     "execution_count": 381,
     "metadata": {},
     "output_type": "execute_result"
    },
    {
     "data": {
      "image/png": "[encoded data removed]",
      "text/plain": [
       "<Figure size 640x480 with 1 Axes>"
      ]
     },
     "metadata": {},
     "output_type": "display_data"
    }
   ],
   "source": [
    "data.kWh.plot.hist(bins=50,rwidth=0.8,grid=True)\n"
   ]
  },
  {
   "cell_type": "code",
   "execution_count": 382,
   "metadata": {},
   "outputs": [
    {
     "data": {
      "text/html": [
       "<div>\n",
       "<style scoped>\n",
       "    .dataframe tbody tr th:only-of-type {\n",
       "        vertical-align: middle;\n",
       "    }\n",
       "\n",
       "    .dataframe tbody tr th {\n",
       "        vertical-align: top;\n",
       "    }\n",
       "\n",
       "    .dataframe thead th {\n",
       "        text-align: right;\n",
       "    }\n",
       "</style>\n",
       "<table border=\"1\" class=\"dataframe\">\n",
       "  <thead>\n",
       "    <tr style=\"text-align: right;\">\n",
       "      <th></th>\n",
       "      <th>Interval</th>\n",
       "      <th>kWh</th>\n",
       "      <th>sec</th>\n",
       "      <th>Wh</th>\n",
       "      <th>cumul(ms)</th>\n",
       "      <th>dates</th>\n",
       "      <th>days</th>\n",
       "    </tr>\n",
       "  </thead>\n",
       "  <tbody>\n",
       "    <tr>\n",
       "      <th>119620</th>\n",
       "      <td>27732</td>\n",
       "      <td>0.13</td>\n",
       "      <td>27.732</td>\n",
       "      <td>129.813933</td>\n",
       "      <td>2825424517</td>\n",
       "      <td>2024-04-08 18:29:59.698657</td>\n",
       "      <td>08/04/2024</td>\n",
       "    </tr>\n",
       "    <tr>\n",
       "      <th>119621</th>\n",
       "      <td>27670</td>\n",
       "      <td>0.13</td>\n",
       "      <td>27.670</td>\n",
       "      <td>130.104807</td>\n",
       "      <td>2825452187</td>\n",
       "      <td>2024-04-08 18:30:27.368657</td>\n",
       "      <td>08/04/2024</td>\n",
       "    </tr>\n",
       "    <tr>\n",
       "      <th>119622</th>\n",
       "      <td>27365</td>\n",
       "      <td>0.13</td>\n",
       "      <td>27.365</td>\n",
       "      <td>131.554906</td>\n",
       "      <td>2825479552</td>\n",
       "      <td>2024-04-08 18:30:54.733657</td>\n",
       "      <td>08/04/2024</td>\n",
       "    </tr>\n",
       "    <tr>\n",
       "      <th>119623</th>\n",
       "      <td>26915</td>\n",
       "      <td>0.13</td>\n",
       "      <td>26.915</td>\n",
       "      <td>133.754412</td>\n",
       "      <td>2825506467</td>\n",
       "      <td>2024-04-08 18:31:21.648657</td>\n",
       "      <td>08/04/2024</td>\n",
       "    </tr>\n",
       "    <tr>\n",
       "      <th>119624</th>\n",
       "      <td>26889</td>\n",
       "      <td>0.13</td>\n",
       "      <td>26.889</td>\n",
       "      <td>133.883744</td>\n",
       "      <td>2825533356</td>\n",
       "      <td>2024-04-08 18:31:48.537657</td>\n",
       "      <td>08/04/2024</td>\n",
       "    </tr>\n",
       "  </tbody>\n",
       "</table>\n",
       "</div>"
      ],
      "text/plain": [
       "        Interval   kWh     sec          Wh   cumul(ms)  \\\n",
       "119620     27732  0.13  27.732  129.813933  2825424517   \n",
       "119621     27670  0.13  27.670  130.104807  2825452187   \n",
       "119622     27365  0.13  27.365  131.554906  2825479552   \n",
       "119623     26915  0.13  26.915  133.754412  2825506467   \n",
       "119624     26889  0.13  26.889  133.883744  2825533356   \n",
       "\n",
       "                            dates        days  \n",
       "119620 2024-04-08 18:29:59.698657  08/04/2024  \n",
       "119621 2024-04-08 18:30:27.368657  08/04/2024  \n",
       "119622 2024-04-08 18:30:54.733657  08/04/2024  \n",
       "119623 2024-04-08 18:31:21.648657  08/04/2024  \n",
       "119624 2024-04-08 18:31:48.537657  08/04/2024  "
      ]
     },
     "execution_count": 382,
     "metadata": {},
     "output_type": "execute_result"
    }
   ],
   "source": [
    "conso_data.tail()"
   ]
  },
  {
   "cell_type": "code",
   "execution_count": 383,
   "metadata": {},
   "outputs": [
    {
     "data": {
      "image/png": "[encoded data removed]",
      "text/plain": [
       "<Figure size 640x480 with 1 Axes>"
      ]
     },
     "metadata": {},
     "output_type": "display_data"
    }
   ],
   "source": [
    "conso_data.tail(1000)['kWh'].plot()\n",
    "plt.grid()"
   ]
  },
  {
   "cell_type": "code",
   "execution_count": 384,
   "metadata": {},
   "outputs": [
    {
     "data": {
      "text/plain": [
       "(2825533356000.0, 47092.2226)"
      ]
     },
     "execution_count": 384,
     "metadata": {},
     "output_type": "execute_result"
    }
   ],
   "source": [
    "#plt.plot(conso_data['sec'])\n",
    "now = dt.datetime.now()\n",
    "last_cumul = np.array(conso_data['cumul(ms)'].tail(1))[0]*1000.0  # us\n",
    "last_cumul, last_cumul/60e6  # min"
   ]
  },
  {
   "cell_type": "code",
   "execution_count": 385,
   "metadata": {},
   "outputs": [
    {
     "data": {
      "text/plain": [
       "(datetime.datetime(2024, 4, 8, 18, 32, 3, 767135),\n",
       " datetime.datetime(2024, 3, 7, 1, 39, 50, 411135))"
      ]
     },
     "execution_count": 385,
     "metadata": {},
     "output_type": "execute_result"
    }
   ],
   "source": [
    "begin = now - dt.timedelta(microseconds=last_cumul)  #2023, 6, 24, 9, 14, (39, 942895) approximatif\n",
    "now, begin"
   ]
  },
  {
   "cell_type": "code",
   "execution_count": 386,
   "metadata": {},
   "outputs": [
    {
     "data": {
      "text/plain": [
       "(119625, 2825534, 784.8705555555556)"
      ]
     },
     "execution_count": 386,
     "metadata": {},
     "output_type": "execute_result"
    }
   ],
   "source": [
    "x = mdates.drange(begin,now,dt.timedelta(microseconds=1000000))  # seconds\n",
    "len(conso_data),len(x),len(x)/3600"
   ]
  },
  {
   "cell_type": "code",
   "execution_count": 387,
   "metadata": {},
   "outputs": [],
   "source": [
    "def format_date(space=3):\n",
    "    plt.gca().xaxis.set_major_formatter(mdates.DateFormatter('%d/%m\\n%H:%M'))\n",
    "    plt.gca().xaxis.set_major_locator(mdates.HourLocator(space))\n",
    "    plt.gca().xaxis.set_major_locator(mdates.HourLocator(interval=space))\n",
    "    plt.gcf().autofmt_xdate()\n",
    "    plt.grid()"
   ]
  },
  {
   "cell_type": "code",
   "execution_count": 388,
   "metadata": {},
   "outputs": [
    {
     "data": {
      "text/plain": [
       "732"
      ]
     },
     "execution_count": 388,
     "metadata": {},
     "output_type": "execute_result"
    }
   ],
   "source": [
    "import numpy as np\n",
    "import datetime as dt\n",
    "import matplotlib.pyplot as plt\n",
    "base = dt.datetime(2005, 2, 1)\n",
    "dates = [base + dt.timedelta(hours=(2 * i)) for i in range(732)]\n",
    "N = len(dates)\n",
    "N\n"
   ]
  },
  {
   "cell_type": "code",
   "execution_count": 389,
   "metadata": {},
   "outputs": [
    {
     "data": {
      "text/plain": [
       "61.0"
      ]
     },
     "execution_count": 389,
     "metadata": {},
     "output_type": "execute_result"
    }
   ],
   "source": [
    "732/12 # 60 jours"
   ]
  },
  {
   "cell_type": "code",
   "execution_count": 390,
   "metadata": {},
   "outputs": [
    {
     "data": {
      "text/plain": [
       "(datetime.datetime(2005, 2, 1, 0, 0), datetime.datetime(2005, 4, 2, 22, 0))"
      ]
     },
     "execution_count": 390,
     "metadata": {},
     "output_type": "execute_result"
    }
   ],
   "source": [
    "dates[0],dates[-1]"
   ]
  },
  {
   "cell_type": "code",
   "execution_count": 391,
   "metadata": {},
   "outputs": [
    {
     "data": {
      "image/png": "[encoded data removed]",
      "text/plain": [
       "<Figure size 600x600 with 3 Axes>"
      ]
     },
     "metadata": {},
     "output_type": "display_data"
    }
   ],
   "source": [
    "np.random.seed(19680801)\n",
    "y = np.cumsum(np.random.randn(N))\n",
    "\n",
    "fig, axs = plt.subplots(3, 1, layout='constrained', figsize=(6, 6))\n",
    "lims = [(np.datetime64('2005-02'), np.datetime64('2005-04')),\n",
    "        (np.datetime64('2005-02-03'), np.datetime64('2005-02-15')),\n",
    "        (np.datetime64('2005-02-03 11:00'), np.datetime64('2005-02-04 13:20'))]\n",
    "for nn, ax in enumerate(axs):\n",
    "    ax.plot(dates, y)\n",
    "    ax.set_xlim(lims[nn])\n",
    "    # rotate_labels...\n",
    "    for label in ax.get_xticklabels():\n",
    "        label.set_rotation(40)\n",
    "        label.set_horizontalalignment('right')\n",
    "axs[0].set_title('Default Date Formatter')\n",
    "plt.show()"
   ]
  },
  {
   "cell_type": "code",
   "execution_count": 392,
   "metadata": {},
   "outputs": [
    {
     "data": {
      "text/plain": [
       "datetime.datetime(2005, 4, 2, 22, 0)"
      ]
     },
     "execution_count": 392,
     "metadata": {},
     "output_type": "execute_result"
    }
   ],
   "source": [
    "t = dt.datetime(2005, 4, 2, 22, 0)\n",
    "t"
   ]
  }
 ],
 "metadata": {
  "kernelspec": {
   "display_name": "Python 3",
   "language": "python",
   "name": "python3"
  },
  "language_info": {
   "codemirror_mode": {
    "name": "ipython",
    "version": 3
   },
   "file_extension": ".py",
   "mimetype": "text/x-python",
   "name": "python",
   "nbconvert_exporter": "python",
   "pygments_lexer": "ipython3",
   "version": "3.11.4"
  },
  "orig_nbformat": 4
 },
 "nbformat": 4,
 "nbformat_minor": 2
}
