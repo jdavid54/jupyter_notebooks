{
 "cells": [
  {
   "cell_type": "code",
   "execution_count": 177,
   "metadata": {},
   "outputs": [],
   "source": [
    "import pandas as pd\n",
    "import numpy as np\n",
    "import matplotlib.pyplot as plt\n",
    "import matplotlib.dates as mdates\n",
    "import matplotlib.ticker as ticker\n",
    "from matplotlib.axis import Axis\n",
    "import datetime as dt\n",
    "\n",
    "#plt.style.use(['science', 'notebook'])\n",
    "#%matplotlib inline\n"
   ]
  },
  {
   "cell_type": "code",
   "execution_count": 178,
   "metadata": {},
   "outputs": [],
   "source": [
    "data_file = \"conso.txt\""
   ]
  },
  {
   "cell_type": "code",
   "execution_count": 179,
   "metadata": {},
   "outputs": [],
   "source": [
    "def read_text(filename):\n",
    "    f = open(filename, \"r\")\n",
    "    text = f.readlines()\n",
    "    f.close()\n",
    "    print(text)\n",
    "\n",
    "def save_text(filename):\n",
    "    f = open(filename, \"w\")\n",
    "    f.write(text)\n",
    "    f.close()\n",
    "\n",
    "\n",
    "#read_text(data_file)\n",
    "def get_data(filename):    \n",
    "    data = pd.read_csv(filename)\n",
    "    #data['time'] = pd.to_datetime(data['time'])  #.dt.tz_convert(None)\n",
    "    #data.info()\n",
    "    #print(data.tail(5))\n",
    "    return data\n"
   ]
  },
  {
   "cell_type": "code",
   "execution_count": 180,
   "metadata": {},
   "outputs": [],
   "source": [
    "text='test'\n",
    "filename='text.txt'\n",
    "#save_text(filename)"
   ]
  },
  {
   "cell_type": "code",
   "execution_count": 181,
   "metadata": {},
   "outputs": [
    {
     "name": "stdout",
     "output_type": "stream",
     "text": [
      "<class 'pandas.core.frame.DataFrame'>\n",
      "RangeIndex: 1013 entries, 0 to 1012\n",
      "Data columns (total 1 columns):\n",
      " #   Column  Non-Null Count  Dtype  \n",
      "---  ------  --------------  -----  \n",
      " 0   Conso   1013 non-null   float64\n",
      "dtypes: float64(1)\n",
      "memory usage: 8.0 KB\n"
     ]
    }
   ],
   "source": [
    "# read data with pandas\n",
    "data = get_data(data_file)\n",
    "data.info()\n"
   ]
  },
  {
   "cell_type": "code",
   "execution_count": 182,
   "metadata": {},
   "outputs": [
    {
     "data": {
      "text/html": [
       "<div>\n",
       "<style scoped>\n",
       "    .dataframe tbody tr th:only-of-type {\n",
       "        vertical-align: middle;\n",
       "    }\n",
       "\n",
       "    .dataframe tbody tr th {\n",
       "        vertical-align: top;\n",
       "    }\n",
       "\n",
       "    .dataframe thead th {\n",
       "        text-align: right;\n",
       "    }\n",
       "</style>\n",
       "<table border=\"1\" class=\"dataframe\">\n",
       "  <thead>\n",
       "    <tr style=\"text-align: right;\">\n",
       "      <th></th>\n",
       "      <th>Conso</th>\n",
       "      <th>interval</th>\n",
       "    </tr>\n",
       "  </thead>\n",
       "  <tbody>\n",
       "    <tr>\n",
       "      <th>0</th>\n",
       "      <td>0.19</td>\n",
       "      <td>18947.368421</td>\n",
       "    </tr>\n",
       "    <tr>\n",
       "      <th>1</th>\n",
       "      <td>0.19</td>\n",
       "      <td>18947.368421</td>\n",
       "    </tr>\n",
       "    <tr>\n",
       "      <th>2</th>\n",
       "      <td>0.19</td>\n",
       "      <td>18947.368421</td>\n",
       "    </tr>\n",
       "    <tr>\n",
       "      <th>3</th>\n",
       "      <td>0.19</td>\n",
       "      <td>18947.368421</td>\n",
       "    </tr>\n",
       "    <tr>\n",
       "      <th>4</th>\n",
       "      <td>0.19</td>\n",
       "      <td>18947.368421</td>\n",
       "    </tr>\n",
       "    <tr>\n",
       "      <th>...</th>\n",
       "      <td>...</td>\n",
       "      <td>...</td>\n",
       "    </tr>\n",
       "    <tr>\n",
       "      <th>1008</th>\n",
       "      <td>0.16</td>\n",
       "      <td>22500.000000</td>\n",
       "    </tr>\n",
       "    <tr>\n",
       "      <th>1009</th>\n",
       "      <td>0.16</td>\n",
       "      <td>22500.000000</td>\n",
       "    </tr>\n",
       "    <tr>\n",
       "      <th>1010</th>\n",
       "      <td>0.17</td>\n",
       "      <td>21176.470588</td>\n",
       "    </tr>\n",
       "    <tr>\n",
       "      <th>1011</th>\n",
       "      <td>0.17</td>\n",
       "      <td>21176.470588</td>\n",
       "    </tr>\n",
       "    <tr>\n",
       "      <th>1012</th>\n",
       "      <td>0.16</td>\n",
       "      <td>22500.000000</td>\n",
       "    </tr>\n",
       "  </tbody>\n",
       "</table>\n",
       "<p>1013 rows × 2 columns</p>\n",
       "</div>"
      ],
      "text/plain": [
       "      Conso      interval\n",
       "0      0.19  18947.368421\n",
       "1      0.19  18947.368421\n",
       "2      0.19  18947.368421\n",
       "3      0.19  18947.368421\n",
       "4      0.19  18947.368421\n",
       "...     ...           ...\n",
       "1008   0.16  22500.000000\n",
       "1009   0.16  22500.000000\n",
       "1010   0.17  21176.470588\n",
       "1011   0.17  21176.470588\n",
       "1012   0.16  22500.000000\n",
       "\n",
       "[1013 rows x 2 columns]"
      ]
     },
     "execution_count": 182,
     "metadata": {},
     "output_type": "execute_result"
    }
   ],
   "source": [
    "data['interval']=3600/data['Conso']\n",
    "data"
   ]
  },
  {
   "cell_type": "code",
   "execution_count": 183,
   "metadata": {},
   "outputs": [
    {
     "data": {
      "image/png": "[encoded data removed]",
      "text/plain": [
       "<Figure size 640x480 with 1 Axes>"
      ]
     },
     "metadata": {},
     "output_type": "display_data"
    },
    {
     "data": {
      "text/plain": [
       "<matplotlib.legend.Legend at 0x2217115c450>"
      ]
     },
     "execution_count": 183,
     "metadata": {},
     "output_type": "execute_result"
    },
    {
     "data": {
      "image/png": "[encoded data removed]",
      "text/plain": [
       "<Figure size 640x480 with 1 Axes>"
      ]
     },
     "metadata": {},
     "output_type": "display_data"
    }
   ],
   "source": [
    "\n",
    "plt.title('Consommation Linky')\n",
    "plt.plot(data['interval'], color='red',label='Interval')\n",
    "plt.grid()\n",
    "plt.legend()\n",
    "plt.show()\n",
    "plt.plot(data['Conso'], color='red',label='Conso')\n",
    "plt.grid()\n",
    "plt.legend()"
   ]
  },
  {
   "attachments": {},
   "cell_type": "markdown",
   "metadata": {},
   "source": [
    "### conso.csv sur WD6TB mis à jour avec PI4"
   ]
  },
  {
   "cell_type": "code",
   "execution_count": 184,
   "metadata": {},
   "outputs": [],
   "source": [
    "def get_data2(filename):    \n",
    "    data = pd.read_csv(filename, names=[\"Interval\",\"kWh\"])\n",
    "    return data"
   ]
  },
  {
   "cell_type": "code",
   "execution_count": 185,
   "metadata": {},
   "outputs": [
    {
     "name": "stdout",
     "output_type": "stream",
     "text": [
      "<class 'pandas.core.frame.DataFrame'>\n",
      "RangeIndex: 117736 entries, 0 to 117735\n",
      "Data columns (total 2 columns):\n",
      " #   Column    Non-Null Count   Dtype  \n",
      "---  ------    --------------   -----  \n",
      " 0   Interval  117736 non-null  int64  \n",
      " 1   kWh       117736 non-null  float64\n",
      "dtypes: float64(1), int64(1)\n",
      "memory usage: 1.8 MB\n"
     ]
    }
   ],
   "source": [
    "old = False\n",
    "\n",
    "if old:\n",
    "    #conso_file = r\"C:\\Users\\jean\\Documents\\conso.csv\"\n",
    "    conso_file = r\"Y:\\Documents\\conso_old.csv\"\n",
    "    conso_file = r\"Y:\\Documents\\conso - Copy (2).csv\"\n",
    "else:\n",
    "    conso_file = r\"Y:\\Documents\\conso.csv\"\n",
    "#old = False\n",
    "conso_data = get_data2(conso_file)\n",
    "conso_data.info()\n"
   ]
  },
  {
   "cell_type": "code",
   "execution_count": 186,
   "metadata": {},
   "outputs": [
    {
     "data": {
      "text/html": [
       "<div>\n",
       "<style scoped>\n",
       "    .dataframe tbody tr th:only-of-type {\n",
       "        vertical-align: middle;\n",
       "    }\n",
       "\n",
       "    .dataframe tbody tr th {\n",
       "        vertical-align: top;\n",
       "    }\n",
       "\n",
       "    .dataframe thead th {\n",
       "        text-align: right;\n",
       "    }\n",
       "</style>\n",
       "<table border=\"1\" class=\"dataframe\">\n",
       "  <thead>\n",
       "    <tr style=\"text-align: right;\">\n",
       "      <th></th>\n",
       "      <th>Interval</th>\n",
       "      <th>kWh</th>\n",
       "    </tr>\n",
       "  </thead>\n",
       "  <tbody>\n",
       "    <tr>\n",
       "      <th>0</th>\n",
       "      <td>26289</td>\n",
       "      <td>0.14</td>\n",
       "    </tr>\n",
       "    <tr>\n",
       "      <th>1</th>\n",
       "      <td>26243</td>\n",
       "      <td>0.14</td>\n",
       "    </tr>\n",
       "    <tr>\n",
       "      <th>2</th>\n",
       "      <td>25885</td>\n",
       "      <td>0.14</td>\n",
       "    </tr>\n",
       "    <tr>\n",
       "      <th>3</th>\n",
       "      <td>25754</td>\n",
       "      <td>0.14</td>\n",
       "    </tr>\n",
       "    <tr>\n",
       "      <th>4</th>\n",
       "      <td>25774</td>\n",
       "      <td>0.14</td>\n",
       "    </tr>\n",
       "    <tr>\n",
       "      <th>...</th>\n",
       "      <td>...</td>\n",
       "      <td>...</td>\n",
       "    </tr>\n",
       "    <tr>\n",
       "      <th>117731</th>\n",
       "      <td>23854</td>\n",
       "      <td>0.15</td>\n",
       "    </tr>\n",
       "    <tr>\n",
       "      <th>117732</th>\n",
       "      <td>23812</td>\n",
       "      <td>0.15</td>\n",
       "    </tr>\n",
       "    <tr>\n",
       "      <th>117733</th>\n",
       "      <td>23957</td>\n",
       "      <td>0.15</td>\n",
       "    </tr>\n",
       "    <tr>\n",
       "      <th>117734</th>\n",
       "      <td>23821</td>\n",
       "      <td>0.15</td>\n",
       "    </tr>\n",
       "    <tr>\n",
       "      <th>117735</th>\n",
       "      <td>23865</td>\n",
       "      <td>0.15</td>\n",
       "    </tr>\n",
       "  </tbody>\n",
       "</table>\n",
       "<p>117736 rows × 2 columns</p>\n",
       "</div>"
      ],
      "text/plain": [
       "        Interval   kWh\n",
       "0          26289  0.14\n",
       "1          26243  0.14\n",
       "2          25885  0.14\n",
       "3          25754  0.14\n",
       "4          25774  0.14\n",
       "...          ...   ...\n",
       "117731     23854  0.15\n",
       "117732     23812  0.15\n",
       "117733     23957  0.15\n",
       "117734     23821  0.15\n",
       "117735     23865  0.15\n",
       "\n",
       "[117736 rows x 2 columns]"
      ]
     },
     "execution_count": 186,
     "metadata": {},
     "output_type": "execute_result"
    }
   ],
   "source": [
    "conso_data = conso_data.dropna()\n",
    "conso_data"
   ]
  },
  {
   "cell_type": "code",
   "execution_count": 187,
   "metadata": {},
   "outputs": [
    {
     "data": {
      "text/plain": [
       "<Axes: >"
      ]
     },
     "execution_count": 187,
     "metadata": {},
     "output_type": "execute_result"
    },
    {
     "data": {
      "image/png": "[encoded data removed]",
      "text/plain": [
       "<Figure size 640x480 with 1 Axes>"
      ]
     },
     "metadata": {},
     "output_type": "display_data"
    }
   ],
   "source": [
    "conso_data['kWh'].plot()"
   ]
  },
  {
   "cell_type": "code",
   "execution_count": 188,
   "metadata": {},
   "outputs": [
    {
     "data": {
      "text/html": [
       "<div>\n",
       "<style scoped>\n",
       "    .dataframe tbody tr th:only-of-type {\n",
       "        vertical-align: middle;\n",
       "    }\n",
       "\n",
       "    .dataframe tbody tr th {\n",
       "        vertical-align: top;\n",
       "    }\n",
       "\n",
       "    .dataframe thead th {\n",
       "        text-align: right;\n",
       "    }\n",
       "</style>\n",
       "<table border=\"1\" class=\"dataframe\">\n",
       "  <thead>\n",
       "    <tr style=\"text-align: right;\">\n",
       "      <th></th>\n",
       "      <th>Interval</th>\n",
       "      <th>kWh</th>\n",
       "      <th>sec</th>\n",
       "      <th>Wh</th>\n",
       "      <th>cumul(ms)</th>\n",
       "    </tr>\n",
       "  </thead>\n",
       "  <tbody>\n",
       "    <tr>\n",
       "      <th>0</th>\n",
       "      <td>26289</td>\n",
       "      <td>0.14</td>\n",
       "      <td>26.289</td>\n",
       "      <td>136.939404</td>\n",
       "      <td>26289</td>\n",
       "    </tr>\n",
       "    <tr>\n",
       "      <th>1</th>\n",
       "      <td>26243</td>\n",
       "      <td>0.14</td>\n",
       "      <td>26.243</td>\n",
       "      <td>137.179438</td>\n",
       "      <td>52532</td>\n",
       "    </tr>\n",
       "    <tr>\n",
       "      <th>2</th>\n",
       "      <td>25885</td>\n",
       "      <td>0.14</td>\n",
       "      <td>25.885</td>\n",
       "      <td>139.076685</td>\n",
       "      <td>78417</td>\n",
       "    </tr>\n",
       "    <tr>\n",
       "      <th>3</th>\n",
       "      <td>25754</td>\n",
       "      <td>0.14</td>\n",
       "      <td>25.754</td>\n",
       "      <td>139.784111</td>\n",
       "      <td>104171</td>\n",
       "    </tr>\n",
       "    <tr>\n",
       "      <th>4</th>\n",
       "      <td>25774</td>\n",
       "      <td>0.14</td>\n",
       "      <td>25.774</td>\n",
       "      <td>139.675642</td>\n",
       "      <td>129945</td>\n",
       "    </tr>\n",
       "    <tr>\n",
       "      <th>...</th>\n",
       "      <td>...</td>\n",
       "      <td>...</td>\n",
       "      <td>...</td>\n",
       "      <td>...</td>\n",
       "      <td>...</td>\n",
       "    </tr>\n",
       "    <tr>\n",
       "      <th>117731</th>\n",
       "      <td>23854</td>\n",
       "      <td>0.15</td>\n",
       "      <td>23.854</td>\n",
       "      <td>150.918085</td>\n",
       "      <td>2788078069</td>\n",
       "    </tr>\n",
       "    <tr>\n",
       "      <th>117732</th>\n",
       "      <td>23812</td>\n",
       "      <td>0.15</td>\n",
       "      <td>23.812</td>\n",
       "      <td>151.184277</td>\n",
       "      <td>2788101881</td>\n",
       "    </tr>\n",
       "    <tr>\n",
       "      <th>117733</th>\n",
       "      <td>23957</td>\n",
       "      <td>0.15</td>\n",
       "      <td>23.957</td>\n",
       "      <td>150.269232</td>\n",
       "      <td>2788125838</td>\n",
       "    </tr>\n",
       "    <tr>\n",
       "      <th>117734</th>\n",
       "      <td>23821</td>\n",
       "      <td>0.15</td>\n",
       "      <td>23.821</td>\n",
       "      <td>151.127157</td>\n",
       "      <td>2788149659</td>\n",
       "    </tr>\n",
       "    <tr>\n",
       "      <th>117735</th>\n",
       "      <td>23865</td>\n",
       "      <td>0.15</td>\n",
       "      <td>23.865</td>\n",
       "      <td>150.848523</td>\n",
       "      <td>2788173524</td>\n",
       "    </tr>\n",
       "  </tbody>\n",
       "</table>\n",
       "<p>117736 rows × 5 columns</p>\n",
       "</div>"
      ],
      "text/plain": [
       "        Interval   kWh     sec          Wh   cumul(ms)\n",
       "0          26289  0.14  26.289  136.939404       26289\n",
       "1          26243  0.14  26.243  137.179438       52532\n",
       "2          25885  0.14  25.885  139.076685       78417\n",
       "3          25754  0.14  25.754  139.784111      104171\n",
       "4          25774  0.14  25.774  139.675642      129945\n",
       "...          ...   ...     ...         ...         ...\n",
       "117731     23854  0.15  23.854  150.918085  2788078069\n",
       "117732     23812  0.15  23.812  151.184277  2788101881\n",
       "117733     23957  0.15  23.957  150.269232  2788125838\n",
       "117734     23821  0.15  23.821  151.127157  2788149659\n",
       "117735     23865  0.15  23.865  150.848523  2788173524\n",
       "\n",
       "[117736 rows x 5 columns]"
      ]
     },
     "execution_count": 188,
     "metadata": {},
     "output_type": "execute_result"
    }
   ],
   "source": [
    "conso_data['sec']=conso_data['Interval']/1000\n",
    "conso_data['Wh']=3600000/conso_data['Interval']\n",
    "conso_data['cumul(ms)']=conso_data['Interval'].cumsum(axis=0)\n",
    "\n",
    "conso_data"
   ]
  },
  {
   "cell_type": "code",
   "execution_count": 189,
   "metadata": {},
   "outputs": [
    {
     "data": {
      "text/plain": [
       "117735"
      ]
     },
     "execution_count": 189,
     "metadata": {},
     "output_type": "execute_result"
    }
   ],
   "source": [
    "# index dernier echantillon\n",
    "l=len(conso_data)-1\n",
    "l"
   ]
  },
  {
   "cell_type": "code",
   "execution_count": 190,
   "metadata": {},
   "outputs": [
    {
     "data": {
      "text/plain": [
       "2788173524000"
      ]
     },
     "execution_count": 190,
     "metadata": {},
     "output_type": "execute_result"
    }
   ],
   "source": [
    "# cumtime = int(conso_data['cumul(ms)'].tail(1).values[0]*1000)\n",
    "cumtime= int(conso_data._get_value(l,'cumul(ms)')*1000)\n",
    "cumtime"
   ]
  },
  {
   "cell_type": "code",
   "execution_count": 191,
   "metadata": {},
   "outputs": [
    {
     "data": {
      "text/plain": [
       "datetime.datetime(2024, 3, 7, 1, 39, 23, 999003)"
      ]
     },
     "execution_count": 191,
     "metadata": {},
     "output_type": "execute_result"
    }
   ],
   "source": [
    "from datetime import datetime, timedelta\n",
    "now = datetime.now()\n",
    "# conso.csv dynamique\n",
    "base = now - timedelta(microseconds=cumtime)\n",
    "base  # date de début\n"
   ]
  },
  {
   "cell_type": "code",
   "execution_count": 192,
   "metadata": {},
   "outputs": [
    {
     "data": {
      "text/plain": [
       "False"
      ]
     },
     "execution_count": 192,
     "metadata": {},
     "output_type": "execute_result"
    }
   ],
   "source": [
    "old"
   ]
  },
  {
   "cell_type": "code",
   "execution_count": 155,
   "metadata": {},
   "outputs": [
    {
     "name": "stdout",
     "output_type": "stream",
     "text": [
      "<class 'pandas.core.frame.DataFrame'>\n",
      "RangeIndex: 117692 entries, 0 to 117691\n",
      "Data columns (total 6 columns):\n",
      " #   Column     Non-Null Count   Dtype         \n",
      "---  ------     --------------   -----         \n",
      " 0   Interval   117692 non-null  int64         \n",
      " 1   kWh        117692 non-null  float64       \n",
      " 2   sec        117692 non-null  float64       \n",
      " 3   Wh         117692 non-null  float64       \n",
      " 4   cumul(ms)  117692 non-null  int64         \n",
      " 5   dates      117692 non-null  datetime64[ns]\n",
      "dtypes: datetime64[ns](1), float64(3), int64(2)\n",
      "memory usage: 5.4 MB\n"
     ]
    }
   ],
   "source": [
    "if old:\n",
    "    base = dt.datetime(2023, 8, 1, 10, 45, 0) - timedelta(microseconds=cumtime)\n",
    "\n",
    "conso_data['dates'] = [base + dt.timedelta(microseconds=t*1000) for t in conso_data['cumul(ms)']]\n",
    "conso_data.info()\n"
   ]
  },
  {
   "cell_type": "code",
   "execution_count": 156,
   "metadata": {},
   "outputs": [
    {
     "data": {
      "text/html": [
       "<div>\n",
       "<style scoped>\n",
       "    .dataframe tbody tr th:only-of-type {\n",
       "        vertical-align: middle;\n",
       "    }\n",
       "\n",
       "    .dataframe tbody tr th {\n",
       "        vertical-align: top;\n",
       "    }\n",
       "\n",
       "    .dataframe thead th {\n",
       "        text-align: right;\n",
       "    }\n",
       "</style>\n",
       "<table border=\"1\" class=\"dataframe\">\n",
       "  <thead>\n",
       "    <tr style=\"text-align: right;\">\n",
       "      <th></th>\n",
       "      <th>Interval</th>\n",
       "      <th>kWh</th>\n",
       "      <th>sec</th>\n",
       "      <th>Wh</th>\n",
       "      <th>cumul(ms)</th>\n",
       "      <th>dates</th>\n",
       "      <th>days</th>\n",
       "    </tr>\n",
       "  </thead>\n",
       "  <tbody>\n",
       "    <tr>\n",
       "      <th>0</th>\n",
       "      <td>26289</td>\n",
       "      <td>0.14</td>\n",
       "      <td>26.289</td>\n",
       "      <td>136.939404</td>\n",
       "      <td>26289</td>\n",
       "      <td>2024-03-07 01:40:03.334529</td>\n",
       "      <td>07/03/2024</td>\n",
       "    </tr>\n",
       "    <tr>\n",
       "      <th>1</th>\n",
       "      <td>26243</td>\n",
       "      <td>0.14</td>\n",
       "      <td>26.243</td>\n",
       "      <td>137.179438</td>\n",
       "      <td>52532</td>\n",
       "      <td>2024-03-07 01:40:29.577529</td>\n",
       "      <td>07/03/2024</td>\n",
       "    </tr>\n",
       "    <tr>\n",
       "      <th>2</th>\n",
       "      <td>25885</td>\n",
       "      <td>0.14</td>\n",
       "      <td>25.885</td>\n",
       "      <td>139.076685</td>\n",
       "      <td>78417</td>\n",
       "      <td>2024-03-07 01:40:55.462529</td>\n",
       "      <td>07/03/2024</td>\n",
       "    </tr>\n",
       "    <tr>\n",
       "      <th>3</th>\n",
       "      <td>25754</td>\n",
       "      <td>0.14</td>\n",
       "      <td>25.754</td>\n",
       "      <td>139.784111</td>\n",
       "      <td>104171</td>\n",
       "      <td>2024-03-07 01:41:21.216529</td>\n",
       "      <td>07/03/2024</td>\n",
       "    </tr>\n",
       "    <tr>\n",
       "      <th>4</th>\n",
       "      <td>25774</td>\n",
       "      <td>0.14</td>\n",
       "      <td>25.774</td>\n",
       "      <td>139.675642</td>\n",
       "      <td>129945</td>\n",
       "      <td>2024-03-07 01:41:46.990529</td>\n",
       "      <td>07/03/2024</td>\n",
       "    </tr>\n",
       "    <tr>\n",
       "      <th>...</th>\n",
       "      <td>...</td>\n",
       "      <td>...</td>\n",
       "      <td>...</td>\n",
       "      <td>...</td>\n",
       "      <td>...</td>\n",
       "      <td>...</td>\n",
       "      <td>...</td>\n",
       "    </tr>\n",
       "    <tr>\n",
       "      <th>117687</th>\n",
       "      <td>23193</td>\n",
       "      <td>0.16</td>\n",
       "      <td>23.193</td>\n",
       "      <td>155.219247</td>\n",
       "      <td>2787015429</td>\n",
       "      <td>2024-04-08 07:49:52.474529</td>\n",
       "      <td>08/04/2024</td>\n",
       "    </tr>\n",
       "    <tr>\n",
       "      <th>117688</th>\n",
       "      <td>23796</td>\n",
       "      <td>0.15</td>\n",
       "      <td>23.796</td>\n",
       "      <td>151.285930</td>\n",
       "      <td>2787039225</td>\n",
       "      <td>2024-04-08 07:50:16.270529</td>\n",
       "      <td>08/04/2024</td>\n",
       "    </tr>\n",
       "    <tr>\n",
       "      <th>117689</th>\n",
       "      <td>23745</td>\n",
       "      <td>0.15</td>\n",
       "      <td>23.745</td>\n",
       "      <td>151.610865</td>\n",
       "      <td>2787062970</td>\n",
       "      <td>2024-04-08 07:50:40.015529</td>\n",
       "      <td>08/04/2024</td>\n",
       "    </tr>\n",
       "    <tr>\n",
       "      <th>117690</th>\n",
       "      <td>23891</td>\n",
       "      <td>0.15</td>\n",
       "      <td>23.891</td>\n",
       "      <td>150.684358</td>\n",
       "      <td>2787086861</td>\n",
       "      <td>2024-04-08 07:51:03.906529</td>\n",
       "      <td>08/04/2024</td>\n",
       "    </tr>\n",
       "    <tr>\n",
       "      <th>117691</th>\n",
       "      <td>24013</td>\n",
       "      <td>0.15</td>\n",
       "      <td>24.013</td>\n",
       "      <td>149.918794</td>\n",
       "      <td>2787110874</td>\n",
       "      <td>2024-04-08 07:51:27.919529</td>\n",
       "      <td>08/04/2024</td>\n",
       "    </tr>\n",
       "  </tbody>\n",
       "</table>\n",
       "<p>117692 rows × 7 columns</p>\n",
       "</div>"
      ],
      "text/plain": [
       "        Interval   kWh     sec          Wh   cumul(ms)  \\\n",
       "0          26289  0.14  26.289  136.939404       26289   \n",
       "1          26243  0.14  26.243  137.179438       52532   \n",
       "2          25885  0.14  25.885  139.076685       78417   \n",
       "3          25754  0.14  25.754  139.784111      104171   \n",
       "4          25774  0.14  25.774  139.675642      129945   \n",
       "...          ...   ...     ...         ...         ...   \n",
       "117687     23193  0.16  23.193  155.219247  2787015429   \n",
       "117688     23796  0.15  23.796  151.285930  2787039225   \n",
       "117689     23745  0.15  23.745  151.610865  2787062970   \n",
       "117690     23891  0.15  23.891  150.684358  2787086861   \n",
       "117691     24013  0.15  24.013  149.918794  2787110874   \n",
       "\n",
       "                            dates        days  \n",
       "0      2024-03-07 01:40:03.334529  07/03/2024  \n",
       "1      2024-03-07 01:40:29.577529  07/03/2024  \n",
       "2      2024-03-07 01:40:55.462529  07/03/2024  \n",
       "3      2024-03-07 01:41:21.216529  07/03/2024  \n",
       "4      2024-03-07 01:41:46.990529  07/03/2024  \n",
       "...                           ...         ...  \n",
       "117687 2024-04-08 07:49:52.474529  08/04/2024  \n",
       "117688 2024-04-08 07:50:16.270529  08/04/2024  \n",
       "117689 2024-04-08 07:50:40.015529  08/04/2024  \n",
       "117690 2024-04-08 07:51:03.906529  08/04/2024  \n",
       "117691 2024-04-08 07:51:27.919529  08/04/2024  \n",
       "\n",
       "[117692 rows x 7 columns]"
      ]
     },
     "execution_count": 156,
     "metadata": {},
     "output_type": "execute_result"
    }
   ],
   "source": [
    "conso_data['days']= [d.strftime('%d/%m/%Y') for d in conso_data['dates']]    #[str(d.month)+'-'+str(d.day) for d in conso_data['dates']]\n",
    "conso_data"
   ]
  },
  {
   "cell_type": "code",
   "execution_count": 157,
   "metadata": {},
   "outputs": [
    {
     "data": {
      "text/plain": [
       "(   Interval   kWh     sec          Wh  cumul(ms)                      dates  \\\n",
       " 0     26289  0.14  26.289  136.939404      26289 2024-03-07 01:40:03.334529   \n",
       " \n",
       "          days  \n",
       " 0  07/03/2024  ,\n",
       "         Interval   kWh     sec          Wh   cumul(ms)  \\\n",
       " 117691     24013  0.15  24.013  149.918794  2787110874   \n",
       " \n",
       "                             dates        days  \n",
       " 117691 2024-04-08 07:51:27.919529  08/04/2024  )"
      ]
     },
     "execution_count": 157,
     "metadata": {},
     "output_type": "execute_result"
    }
   ],
   "source": [
    "#conso_data\n",
    "conso_data.head(1),conso_data.tail(1)"
   ]
  },
  {
   "cell_type": "code",
   "execution_count": 158,
   "metadata": {},
   "outputs": [
    {
     "data": {
      "text/plain": [
       "('08/04/2024', 4, 2024)"
      ]
     },
     "execution_count": 158,
     "metadata": {},
     "output_type": "execute_result"
    }
   ],
   "source": [
    "# tranche journalière\n",
    "now = datetime.now()\n",
    "month = now.month\n",
    "year = now.year\n",
    "day = now.strftime('%d/%m/%Y')    #str(now.month)+'-'+str(now.day)\n",
    "day, month, year"
   ]
  },
  {
   "cell_type": "code",
   "execution_count": 159,
   "metadata": {},
   "outputs": [
    {
     "data": {
      "text/html": [
       "<div>\n",
       "<style scoped>\n",
       "    .dataframe tbody tr th:only-of-type {\n",
       "        vertical-align: middle;\n",
       "    }\n",
       "\n",
       "    .dataframe tbody tr th {\n",
       "        vertical-align: top;\n",
       "    }\n",
       "\n",
       "    .dataframe thead th {\n",
       "        text-align: right;\n",
       "    }\n",
       "</style>\n",
       "<table border=\"1\" class=\"dataframe\">\n",
       "  <thead>\n",
       "    <tr style=\"text-align: right;\">\n",
       "      <th></th>\n",
       "      <th>Interval</th>\n",
       "      <th>kWh</th>\n",
       "      <th>sec</th>\n",
       "      <th>Wh</th>\n",
       "      <th>cumul(ms)</th>\n",
       "      <th>dates</th>\n",
       "      <th>days</th>\n",
       "    </tr>\n",
       "  </thead>\n",
       "  <tbody>\n",
       "    <tr>\n",
       "      <th>116703</th>\n",
       "      <td>28452</td>\n",
       "      <td>0.13</td>\n",
       "      <td>28.452</td>\n",
       "      <td>126.528891</td>\n",
       "      <td>2758823590</td>\n",
       "      <td>2024-04-08 00:00:00.635529</td>\n",
       "      <td>08/04/2024</td>\n",
       "    </tr>\n",
       "    <tr>\n",
       "      <th>116704</th>\n",
       "      <td>28143</td>\n",
       "      <td>0.13</td>\n",
       "      <td>28.143</td>\n",
       "      <td>127.918132</td>\n",
       "      <td>2758851733</td>\n",
       "      <td>2024-04-08 00:00:28.778529</td>\n",
       "      <td>08/04/2024</td>\n",
       "    </tr>\n",
       "    <tr>\n",
       "      <th>116705</th>\n",
       "      <td>27187</td>\n",
       "      <td>0.13</td>\n",
       "      <td>27.187</td>\n",
       "      <td>132.416228</td>\n",
       "      <td>2758878920</td>\n",
       "      <td>2024-04-08 00:00:55.965529</td>\n",
       "      <td>08/04/2024</td>\n",
       "    </tr>\n",
       "    <tr>\n",
       "      <th>116706</th>\n",
       "      <td>26647</td>\n",
       "      <td>0.14</td>\n",
       "      <td>26.647</td>\n",
       "      <td>135.099636</td>\n",
       "      <td>2758905567</td>\n",
       "      <td>2024-04-08 00:01:22.612529</td>\n",
       "      <td>08/04/2024</td>\n",
       "    </tr>\n",
       "    <tr>\n",
       "      <th>116707</th>\n",
       "      <td>26881</td>\n",
       "      <td>0.13</td>\n",
       "      <td>26.881</td>\n",
       "      <td>133.923589</td>\n",
       "      <td>2758932448</td>\n",
       "      <td>2024-04-08 00:01:49.493529</td>\n",
       "      <td>08/04/2024</td>\n",
       "    </tr>\n",
       "    <tr>\n",
       "      <th>...</th>\n",
       "      <td>...</td>\n",
       "      <td>...</td>\n",
       "      <td>...</td>\n",
       "      <td>...</td>\n",
       "      <td>...</td>\n",
       "      <td>...</td>\n",
       "      <td>...</td>\n",
       "    </tr>\n",
       "    <tr>\n",
       "      <th>117687</th>\n",
       "      <td>23193</td>\n",
       "      <td>0.16</td>\n",
       "      <td>23.193</td>\n",
       "      <td>155.219247</td>\n",
       "      <td>2787015429</td>\n",
       "      <td>2024-04-08 07:49:52.474529</td>\n",
       "      <td>08/04/2024</td>\n",
       "    </tr>\n",
       "    <tr>\n",
       "      <th>117688</th>\n",
       "      <td>23796</td>\n",
       "      <td>0.15</td>\n",
       "      <td>23.796</td>\n",
       "      <td>151.285930</td>\n",
       "      <td>2787039225</td>\n",
       "      <td>2024-04-08 07:50:16.270529</td>\n",
       "      <td>08/04/2024</td>\n",
       "    </tr>\n",
       "    <tr>\n",
       "      <th>117689</th>\n",
       "      <td>23745</td>\n",
       "      <td>0.15</td>\n",
       "      <td>23.745</td>\n",
       "      <td>151.610865</td>\n",
       "      <td>2787062970</td>\n",
       "      <td>2024-04-08 07:50:40.015529</td>\n",
       "      <td>08/04/2024</td>\n",
       "    </tr>\n",
       "    <tr>\n",
       "      <th>117690</th>\n",
       "      <td>23891</td>\n",
       "      <td>0.15</td>\n",
       "      <td>23.891</td>\n",
       "      <td>150.684358</td>\n",
       "      <td>2787086861</td>\n",
       "      <td>2024-04-08 07:51:03.906529</td>\n",
       "      <td>08/04/2024</td>\n",
       "    </tr>\n",
       "    <tr>\n",
       "      <th>117691</th>\n",
       "      <td>24013</td>\n",
       "      <td>0.15</td>\n",
       "      <td>24.013</td>\n",
       "      <td>149.918794</td>\n",
       "      <td>2787110874</td>\n",
       "      <td>2024-04-08 07:51:27.919529</td>\n",
       "      <td>08/04/2024</td>\n",
       "    </tr>\n",
       "  </tbody>\n",
       "</table>\n",
       "<p>989 rows × 7 columns</p>\n",
       "</div>"
      ],
      "text/plain": [
       "        Interval   kWh     sec          Wh   cumul(ms)  \\\n",
       "116703     28452  0.13  28.452  126.528891  2758823590   \n",
       "116704     28143  0.13  28.143  127.918132  2758851733   \n",
       "116705     27187  0.13  27.187  132.416228  2758878920   \n",
       "116706     26647  0.14  26.647  135.099636  2758905567   \n",
       "116707     26881  0.13  26.881  133.923589  2758932448   \n",
       "...          ...   ...     ...         ...         ...   \n",
       "117687     23193  0.16  23.193  155.219247  2787015429   \n",
       "117688     23796  0.15  23.796  151.285930  2787039225   \n",
       "117689     23745  0.15  23.745  151.610865  2787062970   \n",
       "117690     23891  0.15  23.891  150.684358  2787086861   \n",
       "117691     24013  0.15  24.013  149.918794  2787110874   \n",
       "\n",
       "                            dates        days  \n",
       "116703 2024-04-08 00:00:00.635529  08/04/2024  \n",
       "116704 2024-04-08 00:00:28.778529  08/04/2024  \n",
       "116705 2024-04-08 00:00:55.965529  08/04/2024  \n",
       "116706 2024-04-08 00:01:22.612529  08/04/2024  \n",
       "116707 2024-04-08 00:01:49.493529  08/04/2024  \n",
       "...                           ...         ...  \n",
       "117687 2024-04-08 07:49:52.474529  08/04/2024  \n",
       "117688 2024-04-08 07:50:16.270529  08/04/2024  \n",
       "117689 2024-04-08 07:50:40.015529  08/04/2024  \n",
       "117690 2024-04-08 07:51:03.906529  08/04/2024  \n",
       "117691 2024-04-08 07:51:27.919529  08/04/2024  \n",
       "\n",
       "[989 rows x 7 columns]"
      ]
     },
     "execution_count": 159,
     "metadata": {},
     "output_type": "execute_result"
    }
   ],
   "source": [
    "conso_data[conso_data['days']==day]"
   ]
  },
  {
   "cell_type": "code",
   "execution_count": 160,
   "metadata": {},
   "outputs": [
    {
     "data": {
      "text/plain": [
       "'08/04/2024'"
      ]
     },
     "execution_count": 160,
     "metadata": {},
     "output_type": "execute_result"
    }
   ],
   "source": [
    "day"
   ]
  },
  {
   "cell_type": "code",
   "execution_count": 161,
   "metadata": {},
   "outputs": [
    {
     "data": {
      "text/html": [
       "<div>\n",
       "<style scoped>\n",
       "    .dataframe tbody tr th:only-of-type {\n",
       "        vertical-align: middle;\n",
       "    }\n",
       "\n",
       "    .dataframe tbody tr th {\n",
       "        vertical-align: top;\n",
       "    }\n",
       "\n",
       "    .dataframe thead th {\n",
       "        text-align: right;\n",
       "    }\n",
       "</style>\n",
       "<table border=\"1\" class=\"dataframe\">\n",
       "  <thead>\n",
       "    <tr style=\"text-align: right;\">\n",
       "      <th></th>\n",
       "      <th>Interval</th>\n",
       "      <th>kWh</th>\n",
       "      <th>sec</th>\n",
       "      <th>Wh</th>\n",
       "      <th>cumul(ms)</th>\n",
       "      <th>dates</th>\n",
       "      <th>days</th>\n",
       "    </tr>\n",
       "  </thead>\n",
       "  <tbody>\n",
       "    <tr>\n",
       "      <th>0</th>\n",
       "      <td>26289</td>\n",
       "      <td>0.14</td>\n",
       "      <td>26.289</td>\n",
       "      <td>136.939404</td>\n",
       "      <td>26289</td>\n",
       "      <td>2024-03-07 01:40:03.334529</td>\n",
       "      <td>07/03/2024</td>\n",
       "    </tr>\n",
       "    <tr>\n",
       "      <th>1</th>\n",
       "      <td>26243</td>\n",
       "      <td>0.14</td>\n",
       "      <td>26.243</td>\n",
       "      <td>137.179438</td>\n",
       "      <td>52532</td>\n",
       "      <td>2024-03-07 01:40:29.577529</td>\n",
       "      <td>07/03/2024</td>\n",
       "    </tr>\n",
       "    <tr>\n",
       "      <th>2</th>\n",
       "      <td>25885</td>\n",
       "      <td>0.14</td>\n",
       "      <td>25.885</td>\n",
       "      <td>139.076685</td>\n",
       "      <td>78417</td>\n",
       "      <td>2024-03-07 01:40:55.462529</td>\n",
       "      <td>07/03/2024</td>\n",
       "    </tr>\n",
       "    <tr>\n",
       "      <th>3</th>\n",
       "      <td>25754</td>\n",
       "      <td>0.14</td>\n",
       "      <td>25.754</td>\n",
       "      <td>139.784111</td>\n",
       "      <td>104171</td>\n",
       "      <td>2024-03-07 01:41:21.216529</td>\n",
       "      <td>07/03/2024</td>\n",
       "    </tr>\n",
       "    <tr>\n",
       "      <th>4</th>\n",
       "      <td>25774</td>\n",
       "      <td>0.14</td>\n",
       "      <td>25.774</td>\n",
       "      <td>139.675642</td>\n",
       "      <td>129945</td>\n",
       "      <td>2024-03-07 01:41:46.990529</td>\n",
       "      <td>07/03/2024</td>\n",
       "    </tr>\n",
       "    <tr>\n",
       "      <th>...</th>\n",
       "      <td>...</td>\n",
       "      <td>...</td>\n",
       "      <td>...</td>\n",
       "      <td>...</td>\n",
       "      <td>...</td>\n",
       "      <td>...</td>\n",
       "      <td>...</td>\n",
       "    </tr>\n",
       "    <tr>\n",
       "      <th>117687</th>\n",
       "      <td>23193</td>\n",
       "      <td>0.16</td>\n",
       "      <td>23.193</td>\n",
       "      <td>155.219247</td>\n",
       "      <td>2787015429</td>\n",
       "      <td>2024-04-08 07:49:52.474529</td>\n",
       "      <td>08/04/2024</td>\n",
       "    </tr>\n",
       "    <tr>\n",
       "      <th>117688</th>\n",
       "      <td>23796</td>\n",
       "      <td>0.15</td>\n",
       "      <td>23.796</td>\n",
       "      <td>151.285930</td>\n",
       "      <td>2787039225</td>\n",
       "      <td>2024-04-08 07:50:16.270529</td>\n",
       "      <td>08/04/2024</td>\n",
       "    </tr>\n",
       "    <tr>\n",
       "      <th>117689</th>\n",
       "      <td>23745</td>\n",
       "      <td>0.15</td>\n",
       "      <td>23.745</td>\n",
       "      <td>151.610865</td>\n",
       "      <td>2787062970</td>\n",
       "      <td>2024-04-08 07:50:40.015529</td>\n",
       "      <td>08/04/2024</td>\n",
       "    </tr>\n",
       "    <tr>\n",
       "      <th>117690</th>\n",
       "      <td>23891</td>\n",
       "      <td>0.15</td>\n",
       "      <td>23.891</td>\n",
       "      <td>150.684358</td>\n",
       "      <td>2787086861</td>\n",
       "      <td>2024-04-08 07:51:03.906529</td>\n",
       "      <td>08/04/2024</td>\n",
       "    </tr>\n",
       "    <tr>\n",
       "      <th>117691</th>\n",
       "      <td>24013</td>\n",
       "      <td>0.15</td>\n",
       "      <td>24.013</td>\n",
       "      <td>149.918794</td>\n",
       "      <td>2787110874</td>\n",
       "      <td>2024-04-08 07:51:27.919529</td>\n",
       "      <td>08/04/2024</td>\n",
       "    </tr>\n",
       "  </tbody>\n",
       "</table>\n",
       "<p>117692 rows × 7 columns</p>\n",
       "</div>"
      ],
      "text/plain": [
       "        Interval   kWh     sec          Wh   cumul(ms)  \\\n",
       "0          26289  0.14  26.289  136.939404       26289   \n",
       "1          26243  0.14  26.243  137.179438       52532   \n",
       "2          25885  0.14  25.885  139.076685       78417   \n",
       "3          25754  0.14  25.754  139.784111      104171   \n",
       "4          25774  0.14  25.774  139.675642      129945   \n",
       "...          ...   ...     ...         ...         ...   \n",
       "117687     23193  0.16  23.193  155.219247  2787015429   \n",
       "117688     23796  0.15  23.796  151.285930  2787039225   \n",
       "117689     23745  0.15  23.745  151.610865  2787062970   \n",
       "117690     23891  0.15  23.891  150.684358  2787086861   \n",
       "117691     24013  0.15  24.013  149.918794  2787110874   \n",
       "\n",
       "                            dates        days  \n",
       "0      2024-03-07 01:40:03.334529  07/03/2024  \n",
       "1      2024-03-07 01:40:29.577529  07/03/2024  \n",
       "2      2024-03-07 01:40:55.462529  07/03/2024  \n",
       "3      2024-03-07 01:41:21.216529  07/03/2024  \n",
       "4      2024-03-07 01:41:46.990529  07/03/2024  \n",
       "...                           ...         ...  \n",
       "117687 2024-04-08 07:49:52.474529  08/04/2024  \n",
       "117688 2024-04-08 07:50:16.270529  08/04/2024  \n",
       "117689 2024-04-08 07:50:40.015529  08/04/2024  \n",
       "117690 2024-04-08 07:51:03.906529  08/04/2024  \n",
       "117691 2024-04-08 07:51:27.919529  08/04/2024  \n",
       "\n",
       "[117692 rows x 7 columns]"
      ]
     },
     "execution_count": 161,
     "metadata": {},
     "output_type": "execute_result"
    }
   ],
   "source": [
    "conso_data"
   ]
  },
  {
   "cell_type": "code",
   "execution_count": 162,
   "metadata": {},
   "outputs": [
    {
     "data": {
      "text/plain": [
       "<pandas.core.groupby.generic.DataFrameGroupBy object at 0x000002216D272990>"
      ]
     },
     "execution_count": 162,
     "metadata": {},
     "output_type": "execute_result"
    }
   ],
   "source": [
    "# group by day\n",
    "grouped = conso_data[['days','kWh']].groupby('days', sort=False)\n",
    "'''conso_graph=[]\n",
    "for name, group in grouped:\n",
    "    if name=='01/04/2024':print(group)\n",
    "    #print(\"\\n\", name, len(group)/1000)\n",
    "    conso_graph.append((name,len(group)/1000))'''\n",
    "grouped\n"
   ]
  },
  {
   "cell_type": "code",
   "execution_count": 165,
   "metadata": {},
   "outputs": [
    {
     "data": {
      "text/html": [
       "<div>\n",
       "<style scoped>\n",
       "    .dataframe tbody tr th:only-of-type {\n",
       "        vertical-align: middle;\n",
       "    }\n",
       "\n",
       "    .dataframe tbody tr th {\n",
       "        vertical-align: top;\n",
       "    }\n",
       "\n",
       "    .dataframe thead th {\n",
       "        text-align: right;\n",
       "    }\n",
       "</style>\n",
       "<table border=\"1\" class=\"dataframe\">\n",
       "  <thead>\n",
       "    <tr style=\"text-align: right;\">\n",
       "      <th></th>\n",
       "      <th>kWh</th>\n",
       "    </tr>\n",
       "    <tr>\n",
       "      <th>days</th>\n",
       "      <th></th>\n",
       "    </tr>\n",
       "  </thead>\n",
       "  <tbody>\n",
       "    <tr>\n",
       "      <th>07/03/2024</th>\n",
       "      <td>3.159</td>\n",
       "    </tr>\n",
       "    <tr>\n",
       "      <th>08/03/2024</th>\n",
       "      <td>3.752</td>\n",
       "    </tr>\n",
       "    <tr>\n",
       "      <th>09/03/2024</th>\n",
       "      <td>3.083</td>\n",
       "    </tr>\n",
       "    <tr>\n",
       "      <th>10/03/2024</th>\n",
       "      <td>3.535</td>\n",
       "    </tr>\n",
       "    <tr>\n",
       "      <th>11/03/2024</th>\n",
       "      <td>4.549</td>\n",
       "    </tr>\n",
       "    <tr>\n",
       "      <th>12/03/2024</th>\n",
       "      <td>3.546</td>\n",
       "    </tr>\n",
       "    <tr>\n",
       "      <th>13/03/2024</th>\n",
       "      <td>3.534</td>\n",
       "    </tr>\n",
       "    <tr>\n",
       "      <th>14/03/2024</th>\n",
       "      <td>3.663</td>\n",
       "    </tr>\n",
       "    <tr>\n",
       "      <th>15/03/2024</th>\n",
       "      <td>3.561</td>\n",
       "    </tr>\n",
       "    <tr>\n",
       "      <th>16/03/2024</th>\n",
       "      <td>3.360</td>\n",
       "    </tr>\n",
       "    <tr>\n",
       "      <th>17/03/2024</th>\n",
       "      <td>3.350</td>\n",
       "    </tr>\n",
       "    <tr>\n",
       "      <th>18/03/2024</th>\n",
       "      <td>4.396</td>\n",
       "    </tr>\n",
       "    <tr>\n",
       "      <th>19/03/2024</th>\n",
       "      <td>3.520</td>\n",
       "    </tr>\n",
       "    <tr>\n",
       "      <th>20/03/2024</th>\n",
       "      <td>3.446</td>\n",
       "    </tr>\n",
       "    <tr>\n",
       "      <th>21/03/2024</th>\n",
       "      <td>3.538</td>\n",
       "    </tr>\n",
       "    <tr>\n",
       "      <th>22/03/2024</th>\n",
       "      <td>3.741</td>\n",
       "    </tr>\n",
       "    <tr>\n",
       "      <th>23/03/2024</th>\n",
       "      <td>3.528</td>\n",
       "    </tr>\n",
       "    <tr>\n",
       "      <th>24/03/2024</th>\n",
       "      <td>3.342</td>\n",
       "    </tr>\n",
       "    <tr>\n",
       "      <th>25/03/2024</th>\n",
       "      <td>3.888</td>\n",
       "    </tr>\n",
       "    <tr>\n",
       "      <th>26/03/2024</th>\n",
       "      <td>3.420</td>\n",
       "    </tr>\n",
       "    <tr>\n",
       "      <th>27/03/2024</th>\n",
       "      <td>3.473</td>\n",
       "    </tr>\n",
       "    <tr>\n",
       "      <th>28/03/2024</th>\n",
       "      <td>3.638</td>\n",
       "    </tr>\n",
       "    <tr>\n",
       "      <th>29/03/2024</th>\n",
       "      <td>3.766</td>\n",
       "    </tr>\n",
       "    <tr>\n",
       "      <th>30/03/2024</th>\n",
       "      <td>3.641</td>\n",
       "    </tr>\n",
       "    <tr>\n",
       "      <th>31/03/2024</th>\n",
       "      <td>3.834</td>\n",
       "    </tr>\n",
       "    <tr>\n",
       "      <th>01/04/2024</th>\n",
       "      <td>3.835</td>\n",
       "    </tr>\n",
       "    <tr>\n",
       "      <th>02/04/2024</th>\n",
       "      <td>3.820</td>\n",
       "    </tr>\n",
       "    <tr>\n",
       "      <th>03/04/2024</th>\n",
       "      <td>3.417</td>\n",
       "    </tr>\n",
       "    <tr>\n",
       "      <th>04/04/2024</th>\n",
       "      <td>3.478</td>\n",
       "    </tr>\n",
       "    <tr>\n",
       "      <th>05/04/2024</th>\n",
       "      <td>4.412</td>\n",
       "    </tr>\n",
       "    <tr>\n",
       "      <th>06/04/2024</th>\n",
       "      <td>3.404</td>\n",
       "    </tr>\n",
       "    <tr>\n",
       "      <th>07/04/2024</th>\n",
       "      <td>4.074</td>\n",
       "    </tr>\n",
       "    <tr>\n",
       "      <th>08/04/2024</th>\n",
       "      <td>0.989</td>\n",
       "    </tr>\n",
       "  </tbody>\n",
       "</table>\n",
       "</div>"
      ],
      "text/plain": [
       "              kWh\n",
       "days             \n",
       "07/03/2024  3.159\n",
       "08/03/2024  3.752\n",
       "09/03/2024  3.083\n",
       "10/03/2024  3.535\n",
       "11/03/2024  4.549\n",
       "12/03/2024  3.546\n",
       "13/03/2024  3.534\n",
       "14/03/2024  3.663\n",
       "15/03/2024  3.561\n",
       "16/03/2024  3.360\n",
       "17/03/2024  3.350\n",
       "18/03/2024  4.396\n",
       "19/03/2024  3.520\n",
       "20/03/2024  3.446\n",
       "21/03/2024  3.538\n",
       "22/03/2024  3.741\n",
       "23/03/2024  3.528\n",
       "24/03/2024  3.342\n",
       "25/03/2024  3.888\n",
       "26/03/2024  3.420\n",
       "27/03/2024  3.473\n",
       "28/03/2024  3.638\n",
       "29/03/2024  3.766\n",
       "30/03/2024  3.641\n",
       "31/03/2024  3.834\n",
       "01/04/2024  3.835\n",
       "02/04/2024  3.820\n",
       "03/04/2024  3.417\n",
       "04/04/2024  3.478\n",
       "05/04/2024  4.412\n",
       "06/04/2024  3.404\n",
       "07/04/2024  4.074\n",
       "08/04/2024  0.989"
      ]
     },
     "execution_count": 165,
     "metadata": {},
     "output_type": "execute_result"
    }
   ],
   "source": [
    "# count elements in each group => conso in watts => convert to kW\n",
    "(grouped.count()/1000)"
   ]
  },
  {
   "cell_type": "code",
   "execution_count": 171,
   "metadata": {},
   "outputs": [
    {
     "data": {
      "text/plain": [
       "kWh    0.31104\n",
       "dtype: float64"
      ]
     },
     "execution_count": 171,
     "metadata": {},
     "output_type": "execute_result"
    }
   ],
   "source": [
    "# mean of all instant conso\n",
    "total_mean = conso_data[['kWh']].mean()\n",
    "total_mean\n"
   ]
  },
  {
   "cell_type": "code",
   "execution_count": 172,
   "metadata": {},
   "outputs": [
    {
     "data": {
      "text/plain": [
       "kWh    3.566424\n",
       "dtype: float64"
      ]
     },
     "execution_count": 172,
     "metadata": {},
     "output_type": "execute_result"
    }
   ],
   "source": [
    "# mean by day from 07/03\n",
    "mean=(grouped.count()/1000).mean()\n",
    "mean"
   ]
  },
  {
   "cell_type": "code",
   "execution_count": 174,
   "metadata": {},
   "outputs": [],
   "source": [
    "filename='conso_par_jour.csv'\n",
    "df = grouped.count()/1000\n",
    "df.to_csv(filename)\n",
    "filename='../conso_par_jour.csv'\n",
    "df.to_csv(filename)"
   ]
  },
  {
   "cell_type": "code",
   "execution_count": 175,
   "metadata": {},
   "outputs": [
    {
     "data": {
      "text/html": [
       "<div>\n",
       "<style scoped>\n",
       "    .dataframe tbody tr th:only-of-type {\n",
       "        vertical-align: middle;\n",
       "    }\n",
       "\n",
       "    .dataframe tbody tr th {\n",
       "        vertical-align: top;\n",
       "    }\n",
       "\n",
       "    .dataframe thead th {\n",
       "        text-align: right;\n",
       "    }\n",
       "</style>\n",
       "<table border=\"1\" class=\"dataframe\">\n",
       "  <thead>\n",
       "    <tr style=\"text-align: right;\">\n",
       "      <th></th>\n",
       "      <th>kWh</th>\n",
       "    </tr>\n",
       "    <tr>\n",
       "      <th>days</th>\n",
       "      <th></th>\n",
       "    </tr>\n",
       "  </thead>\n",
       "  <tbody>\n",
       "    <tr>\n",
       "      <th>02/04/2024</th>\n",
       "      <td>3.820</td>\n",
       "    </tr>\n",
       "    <tr>\n",
       "      <th>03/04/2024</th>\n",
       "      <td>3.417</td>\n",
       "    </tr>\n",
       "    <tr>\n",
       "      <th>04/04/2024</th>\n",
       "      <td>3.478</td>\n",
       "    </tr>\n",
       "    <tr>\n",
       "      <th>05/04/2024</th>\n",
       "      <td>4.412</td>\n",
       "    </tr>\n",
       "    <tr>\n",
       "      <th>06/04/2024</th>\n",
       "      <td>3.404</td>\n",
       "    </tr>\n",
       "    <tr>\n",
       "      <th>07/04/2024</th>\n",
       "      <td>4.074</td>\n",
       "    </tr>\n",
       "    <tr>\n",
       "      <th>08/04/2024</th>\n",
       "      <td>0.989</td>\n",
       "    </tr>\n",
       "  </tbody>\n",
       "</table>\n",
       "</div>"
      ],
      "text/plain": [
       "              kWh\n",
       "days             \n",
       "02/04/2024  3.820\n",
       "03/04/2024  3.417\n",
       "04/04/2024  3.478\n",
       "05/04/2024  4.412\n",
       "06/04/2024  3.404\n",
       "07/04/2024  4.074\n",
       "08/04/2024  0.989"
      ]
     },
     "execution_count": 175,
     "metadata": {},
     "output_type": "execute_result"
    }
   ],
   "source": [
    "df.tail(7)"
   ]
  },
  {
   "cell_type": "code",
   "execution_count": 176,
   "metadata": {},
   "outputs": [
    {
     "data": {
      "image/png": "[encoded data removed]",
      "text/plain": [
       "<Figure size 640x480 with 1 Axes>"
      ]
     },
     "metadata": {},
     "output_type": "display_data"
    }
   ],
   "source": [
    "df.plot()#kind='bar')\n",
    "plt.plot((0,len(df)-1),(mean,mean))\n",
    "plt.xticks(rotation=45)\n",
    "plt.grid()\n"
   ]
  },
  {
   "cell_type": "code",
   "execution_count": null,
   "metadata": {},
   "outputs": [],
   "source": [
    "#manuel\n",
    "#day = '11/03/2024'\n"
   ]
  },
  {
   "cell_type": "code",
   "execution_count": null,
   "metadata": {},
   "outputs": [
    {
     "data": {
      "text/plain": [
       "878"
      ]
     },
     "execution_count": 5939,
     "metadata": {},
     "output_type": "execute_result"
    }
   ],
   "source": [
    "# conso day\n",
    "conso_day = conso_data[conso_data['days']==day]\n",
    "len(conso_day)"
   ]
  },
  {
   "cell_type": "code",
   "execution_count": null,
   "metadata": {},
   "outputs": [
    {
     "data": {
      "text/html": [
       "<div>\n",
       "<style scoped>\n",
       "    .dataframe tbody tr th:only-of-type {\n",
       "        vertical-align: middle;\n",
       "    }\n",
       "\n",
       "    .dataframe tbody tr th {\n",
       "        vertical-align: top;\n",
       "    }\n",
       "\n",
       "    .dataframe thead th {\n",
       "        text-align: right;\n",
       "    }\n",
       "</style>\n",
       "<table border=\"1\" class=\"dataframe\">\n",
       "  <thead>\n",
       "    <tr style=\"text-align: right;\">\n",
       "      <th></th>\n",
       "      <th>Interval</th>\n",
       "      <th>kWh</th>\n",
       "      <th>sec</th>\n",
       "      <th>Wh</th>\n",
       "      <th>cumul(ms)</th>\n",
       "      <th>dates</th>\n",
       "      <th>days</th>\n",
       "    </tr>\n",
       "  </thead>\n",
       "  <tbody>\n",
       "    <tr>\n",
       "      <th>116705</th>\n",
       "      <td>27187</td>\n",
       "      <td>0.13</td>\n",
       "      <td>27.187</td>\n",
       "      <td>132.416228</td>\n",
       "      <td>2758878920</td>\n",
       "      <td>2024-04-08 00:00:23.624073</td>\n",
       "      <td>08/04/2024</td>\n",
       "    </tr>\n",
       "    <tr>\n",
       "      <th>116706</th>\n",
       "      <td>26647</td>\n",
       "      <td>0.14</td>\n",
       "      <td>26.647</td>\n",
       "      <td>135.099636</td>\n",
       "      <td>2758905567</td>\n",
       "      <td>2024-04-08 00:00:50.271073</td>\n",
       "      <td>08/04/2024</td>\n",
       "    </tr>\n",
       "    <tr>\n",
       "      <th>116707</th>\n",
       "      <td>26881</td>\n",
       "      <td>0.13</td>\n",
       "      <td>26.881</td>\n",
       "      <td>133.923589</td>\n",
       "      <td>2758932448</td>\n",
       "      <td>2024-04-08 00:01:17.152073</td>\n",
       "      <td>08/04/2024</td>\n",
       "    </tr>\n",
       "    <tr>\n",
       "      <th>116708</th>\n",
       "      <td>27720</td>\n",
       "      <td>0.13</td>\n",
       "      <td>27.720</td>\n",
       "      <td>129.870130</td>\n",
       "      <td>2758960168</td>\n",
       "      <td>2024-04-08 00:01:44.872073</td>\n",
       "      <td>08/04/2024</td>\n",
       "    </tr>\n",
       "    <tr>\n",
       "      <th>116709</th>\n",
       "      <td>27656</td>\n",
       "      <td>0.13</td>\n",
       "      <td>27.656</td>\n",
       "      <td>130.170668</td>\n",
       "      <td>2758987824</td>\n",
       "      <td>2024-04-08 00:02:12.528073</td>\n",
       "      <td>08/04/2024</td>\n",
       "    </tr>\n",
       "    <tr>\n",
       "      <th>...</th>\n",
       "      <td>...</td>\n",
       "      <td>...</td>\n",
       "      <td>...</td>\n",
       "      <td>...</td>\n",
       "      <td>...</td>\n",
       "      <td>...</td>\n",
       "      <td>...</td>\n",
       "    </tr>\n",
       "    <tr>\n",
       "      <th>117578</th>\n",
       "      <td>22096</td>\n",
       "      <td>0.16</td>\n",
       "      <td>22.096</td>\n",
       "      <td>162.925416</td>\n",
       "      <td>2784774860</td>\n",
       "      <td>2024-04-08 07:11:59.564073</td>\n",
       "      <td>08/04/2024</td>\n",
       "    </tr>\n",
       "    <tr>\n",
       "      <th>117579</th>\n",
       "      <td>22497</td>\n",
       "      <td>0.16</td>\n",
       "      <td>22.497</td>\n",
       "      <td>160.021336</td>\n",
       "      <td>2784797357</td>\n",
       "      <td>2024-04-08 07:12:22.061073</td>\n",
       "      <td>08/04/2024</td>\n",
       "    </tr>\n",
       "    <tr>\n",
       "      <th>117580</th>\n",
       "      <td>22243</td>\n",
       "      <td>0.16</td>\n",
       "      <td>22.243</td>\n",
       "      <td>161.848671</td>\n",
       "      <td>2784819600</td>\n",
       "      <td>2024-04-08 07:12:44.304073</td>\n",
       "      <td>08/04/2024</td>\n",
       "    </tr>\n",
       "    <tr>\n",
       "      <th>117581</th>\n",
       "      <td>22433</td>\n",
       "      <td>0.16</td>\n",
       "      <td>22.433</td>\n",
       "      <td>160.477867</td>\n",
       "      <td>2784842033</td>\n",
       "      <td>2024-04-08 07:13:06.737073</td>\n",
       "      <td>08/04/2024</td>\n",
       "    </tr>\n",
       "    <tr>\n",
       "      <th>117582</th>\n",
       "      <td>22313</td>\n",
       "      <td>0.16</td>\n",
       "      <td>22.313</td>\n",
       "      <td>161.340922</td>\n",
       "      <td>2784864346</td>\n",
       "      <td>2024-04-08 07:13:29.050073</td>\n",
       "      <td>08/04/2024</td>\n",
       "    </tr>\n",
       "  </tbody>\n",
       "</table>\n",
       "<p>878 rows × 7 columns</p>\n",
       "</div>"
      ],
      "text/plain": [
       "        Interval   kWh     sec          Wh   cumul(ms)  \\\n",
       "116705     27187  0.13  27.187  132.416228  2758878920   \n",
       "116706     26647  0.14  26.647  135.099636  2758905567   \n",
       "116707     26881  0.13  26.881  133.923589  2758932448   \n",
       "116708     27720  0.13  27.720  129.870130  2758960168   \n",
       "116709     27656  0.13  27.656  130.170668  2758987824   \n",
       "...          ...   ...     ...         ...         ...   \n",
       "117578     22096  0.16  22.096  162.925416  2784774860   \n",
       "117579     22497  0.16  22.497  160.021336  2784797357   \n",
       "117580     22243  0.16  22.243  161.848671  2784819600   \n",
       "117581     22433  0.16  22.433  160.477867  2784842033   \n",
       "117582     22313  0.16  22.313  161.340922  2784864346   \n",
       "\n",
       "                            dates        days  \n",
       "116705 2024-04-08 00:00:23.624073  08/04/2024  \n",
       "116706 2024-04-08 00:00:50.271073  08/04/2024  \n",
       "116707 2024-04-08 00:01:17.152073  08/04/2024  \n",
       "116708 2024-04-08 00:01:44.872073  08/04/2024  \n",
       "116709 2024-04-08 00:02:12.528073  08/04/2024  \n",
       "...                           ...         ...  \n",
       "117578 2024-04-08 07:11:59.564073  08/04/2024  \n",
       "117579 2024-04-08 07:12:22.061073  08/04/2024  \n",
       "117580 2024-04-08 07:12:44.304073  08/04/2024  \n",
       "117581 2024-04-08 07:13:06.737073  08/04/2024  \n",
       "117582 2024-04-08 07:13:29.050073  08/04/2024  \n",
       "\n",
       "[878 rows x 7 columns]"
      ]
     },
     "execution_count": 5940,
     "metadata": {},
     "output_type": "execute_result"
    }
   ],
   "source": [
    "conso_day"
   ]
  },
  {
   "cell_type": "code",
   "execution_count": null,
   "metadata": {},
   "outputs": [],
   "source": [
    "filename='conso_jour.csv'\n",
    "conso_day.to_csv(filename)\n",
    "filename='../conso_jour.csv'\n",
    "conso_day.to_csv(filename)"
   ]
  },
  {
   "cell_type": "code",
   "execution_count": null,
   "metadata": {},
   "outputs": [
    {
     "data": {
      "text/html": [
       "<div>\n",
       "<style scoped>\n",
       "    .dataframe tbody tr th:only-of-type {\n",
       "        vertical-align: middle;\n",
       "    }\n",
       "\n",
       "    .dataframe tbody tr th {\n",
       "        vertical-align: top;\n",
       "    }\n",
       "\n",
       "    .dataframe thead th {\n",
       "        text-align: right;\n",
       "    }\n",
       "</style>\n",
       "<table border=\"1\" class=\"dataframe\">\n",
       "  <thead>\n",
       "    <tr style=\"text-align: right;\">\n",
       "      <th></th>\n",
       "      <th>kWh</th>\n",
       "    </tr>\n",
       "    <tr>\n",
       "      <th>days</th>\n",
       "      <th></th>\n",
       "    </tr>\n",
       "  </thead>\n",
       "  <tbody>\n",
       "    <tr>\n",
       "      <th>07/03/2024</th>\n",
       "      <td>3.161</td>\n",
       "    </tr>\n",
       "    <tr>\n",
       "      <th>08/03/2024</th>\n",
       "      <td>3.752</td>\n",
       "    </tr>\n",
       "    <tr>\n",
       "      <th>09/03/2024</th>\n",
       "      <td>3.082</td>\n",
       "    </tr>\n",
       "    <tr>\n",
       "      <th>10/03/2024</th>\n",
       "      <td>3.535</td>\n",
       "    </tr>\n",
       "    <tr>\n",
       "      <th>11/03/2024</th>\n",
       "      <td>4.549</td>\n",
       "    </tr>\n",
       "    <tr>\n",
       "      <th>12/03/2024</th>\n",
       "      <td>3.546</td>\n",
       "    </tr>\n",
       "    <tr>\n",
       "      <th>13/03/2024</th>\n",
       "      <td>3.534</td>\n",
       "    </tr>\n",
       "    <tr>\n",
       "      <th>14/03/2024</th>\n",
       "      <td>3.664</td>\n",
       "    </tr>\n",
       "    <tr>\n",
       "      <th>15/03/2024</th>\n",
       "      <td>3.560</td>\n",
       "    </tr>\n",
       "    <tr>\n",
       "      <th>16/03/2024</th>\n",
       "      <td>3.360</td>\n",
       "    </tr>\n",
       "    <tr>\n",
       "      <th>17/03/2024</th>\n",
       "      <td>3.350</td>\n",
       "    </tr>\n",
       "    <tr>\n",
       "      <th>18/03/2024</th>\n",
       "      <td>4.396</td>\n",
       "    </tr>\n",
       "    <tr>\n",
       "      <th>19/03/2024</th>\n",
       "      <td>3.521</td>\n",
       "    </tr>\n",
       "    <tr>\n",
       "      <th>20/03/2024</th>\n",
       "      <td>3.445</td>\n",
       "    </tr>\n",
       "    <tr>\n",
       "      <th>21/03/2024</th>\n",
       "      <td>3.538</td>\n",
       "    </tr>\n",
       "    <tr>\n",
       "      <th>22/03/2024</th>\n",
       "      <td>3.741</td>\n",
       "    </tr>\n",
       "    <tr>\n",
       "      <th>23/03/2024</th>\n",
       "      <td>3.528</td>\n",
       "    </tr>\n",
       "    <tr>\n",
       "      <th>24/03/2024</th>\n",
       "      <td>3.342</td>\n",
       "    </tr>\n",
       "    <tr>\n",
       "      <th>25/03/2024</th>\n",
       "      <td>3.888</td>\n",
       "    </tr>\n",
       "    <tr>\n",
       "      <th>26/03/2024</th>\n",
       "      <td>3.420</td>\n",
       "    </tr>\n",
       "    <tr>\n",
       "      <th>27/03/2024</th>\n",
       "      <td>3.474</td>\n",
       "    </tr>\n",
       "    <tr>\n",
       "      <th>28/03/2024</th>\n",
       "      <td>3.637</td>\n",
       "    </tr>\n",
       "    <tr>\n",
       "      <th>29/03/2024</th>\n",
       "      <td>3.767</td>\n",
       "    </tr>\n",
       "    <tr>\n",
       "      <th>30/03/2024</th>\n",
       "      <td>3.640</td>\n",
       "    </tr>\n",
       "    <tr>\n",
       "      <th>31/03/2024</th>\n",
       "      <td>3.834</td>\n",
       "    </tr>\n",
       "    <tr>\n",
       "      <th>01/04/2024</th>\n",
       "      <td>3.835</td>\n",
       "    </tr>\n",
       "    <tr>\n",
       "      <th>02/04/2024</th>\n",
       "      <td>3.820</td>\n",
       "    </tr>\n",
       "    <tr>\n",
       "      <th>03/04/2024</th>\n",
       "      <td>3.417</td>\n",
       "    </tr>\n",
       "    <tr>\n",
       "      <th>04/04/2024</th>\n",
       "      <td>3.478</td>\n",
       "    </tr>\n",
       "    <tr>\n",
       "      <th>05/04/2024</th>\n",
       "      <td>4.413</td>\n",
       "    </tr>\n",
       "    <tr>\n",
       "      <th>06/04/2024</th>\n",
       "      <td>3.403</td>\n",
       "    </tr>\n",
       "    <tr>\n",
       "      <th>07/04/2024</th>\n",
       "      <td>4.075</td>\n",
       "    </tr>\n",
       "    <tr>\n",
       "      <th>08/04/2024</th>\n",
       "      <td>0.878</td>\n",
       "    </tr>\n",
       "  </tbody>\n",
       "</table>\n",
       "</div>"
      ],
      "text/plain": [
       "              kWh\n",
       "days             \n",
       "07/03/2024  3.161\n",
       "08/03/2024  3.752\n",
       "09/03/2024  3.082\n",
       "10/03/2024  3.535\n",
       "11/03/2024  4.549\n",
       "12/03/2024  3.546\n",
       "13/03/2024  3.534\n",
       "14/03/2024  3.664\n",
       "15/03/2024  3.560\n",
       "16/03/2024  3.360\n",
       "17/03/2024  3.350\n",
       "18/03/2024  4.396\n",
       "19/03/2024  3.521\n",
       "20/03/2024  3.445\n",
       "21/03/2024  3.538\n",
       "22/03/2024  3.741\n",
       "23/03/2024  3.528\n",
       "24/03/2024  3.342\n",
       "25/03/2024  3.888\n",
       "26/03/2024  3.420\n",
       "27/03/2024  3.474\n",
       "28/03/2024  3.637\n",
       "29/03/2024  3.767\n",
       "30/03/2024  3.640\n",
       "31/03/2024  3.834\n",
       "01/04/2024  3.835\n",
       "02/04/2024  3.820\n",
       "03/04/2024  3.417\n",
       "04/04/2024  3.478\n",
       "05/04/2024  4.413\n",
       "06/04/2024  3.403\n",
       "07/04/2024  4.075\n",
       "08/04/2024  0.878"
      ]
     },
     "execution_count": 5942,
     "metadata": {},
     "output_type": "execute_result"
    }
   ],
   "source": [
    "df"
   ]
  },
  {
   "cell_type": "code",
   "execution_count": null,
   "metadata": {},
   "outputs": [
    {
     "data": {
      "text/plain": [
       "(116705   2024-04-08 00:00:23.624073\n",
       " Name: dates, dtype: datetime64[ns],\n",
       " 117582   2024-04-08 07:13:29.050073\n",
       " Name: dates, dtype: datetime64[ns])"
      ]
     },
     "execution_count": 5943,
     "metadata": {},
     "output_type": "execute_result"
    }
   ],
   "source": [
    "conso_day.head(1).dates, conso_day.tail(1).dates\n"
   ]
  },
  {
   "cell_type": "code",
   "execution_count": null,
   "metadata": {},
   "outputs": [
    {
     "data": {
      "text/plain": [
       "116705   2024-04-08 00:00:23.624073\n",
       "116706   2024-04-08 00:00:50.271073\n",
       "116707   2024-04-08 00:01:17.152073\n",
       "116708   2024-04-08 00:01:44.872073\n",
       "116709   2024-04-08 00:02:12.528073\n",
       "                    ...            \n",
       "117578   2024-04-08 07:11:59.564073\n",
       "117579   2024-04-08 07:12:22.061073\n",
       "117580   2024-04-08 07:12:44.304073\n",
       "117581   2024-04-08 07:13:06.737073\n",
       "117582   2024-04-08 07:13:29.050073\n",
       "Name: dates, Length: 878, dtype: datetime64[ns]"
      ]
     },
     "execution_count": 5944,
     "metadata": {},
     "output_type": "execute_result"
    }
   ],
   "source": [
    "conso_day.loc[:,'dates']"
   ]
  },
  {
   "cell_type": "code",
   "execution_count": null,
   "metadata": {},
   "outputs": [
    {
     "name": "stderr",
     "output_type": "stream",
     "text": [
      "C:\\Users\\jean\\AppData\\Local\\Temp\\ipykernel_14100\\2932063292.py:1: SettingWithCopyWarning: \n",
      "A value is trying to be set on a copy of a slice from a DataFrame.\n",
      "Try using .loc[row_indexer,col_indexer] = value instead\n",
      "\n",
      "See the caveats in the documentation: https://pandas.pydata.org/pandas-docs/stable/user_guide/indexing.html#returning-a-view-versus-a-copy\n",
      "  conso_day['heure']=conso_day.loc[:,'dates'].apply(lambda x: str(x.hour)+':'+str(x.minute) +':'+str(x.second))\n"
     ]
    },
    {
     "data": {
      "text/html": [
       "<div>\n",
       "<style scoped>\n",
       "    .dataframe tbody tr th:only-of-type {\n",
       "        vertical-align: middle;\n",
       "    }\n",
       "\n",
       "    .dataframe tbody tr th {\n",
       "        vertical-align: top;\n",
       "    }\n",
       "\n",
       "    .dataframe thead th {\n",
       "        text-align: right;\n",
       "    }\n",
       "</style>\n",
       "<table border=\"1\" class=\"dataframe\">\n",
       "  <thead>\n",
       "    <tr style=\"text-align: right;\">\n",
       "      <th></th>\n",
       "      <th>Interval</th>\n",
       "      <th>kWh</th>\n",
       "      <th>sec</th>\n",
       "      <th>Wh</th>\n",
       "      <th>cumul(ms)</th>\n",
       "      <th>dates</th>\n",
       "      <th>days</th>\n",
       "    </tr>\n",
       "    <tr>\n",
       "      <th>heure</th>\n",
       "      <th></th>\n",
       "      <th></th>\n",
       "      <th></th>\n",
       "      <th></th>\n",
       "      <th></th>\n",
       "      <th></th>\n",
       "      <th></th>\n",
       "    </tr>\n",
       "  </thead>\n",
       "  <tbody>\n",
       "    <tr>\n",
       "      <th>0:0:23</th>\n",
       "      <td>27187</td>\n",
       "      <td>0.13</td>\n",
       "      <td>27.187</td>\n",
       "      <td>132.416228</td>\n",
       "      <td>2758878920</td>\n",
       "      <td>2024-04-08 00:00:23.624073</td>\n",
       "      <td>08/04/2024</td>\n",
       "    </tr>\n",
       "    <tr>\n",
       "      <th>0:0:50</th>\n",
       "      <td>26647</td>\n",
       "      <td>0.14</td>\n",
       "      <td>26.647</td>\n",
       "      <td>135.099636</td>\n",
       "      <td>2758905567</td>\n",
       "      <td>2024-04-08 00:00:50.271073</td>\n",
       "      <td>08/04/2024</td>\n",
       "    </tr>\n",
       "    <tr>\n",
       "      <th>0:1:17</th>\n",
       "      <td>26881</td>\n",
       "      <td>0.13</td>\n",
       "      <td>26.881</td>\n",
       "      <td>133.923589</td>\n",
       "      <td>2758932448</td>\n",
       "      <td>2024-04-08 00:01:17.152073</td>\n",
       "      <td>08/04/2024</td>\n",
       "    </tr>\n",
       "    <tr>\n",
       "      <th>0:1:44</th>\n",
       "      <td>27720</td>\n",
       "      <td>0.13</td>\n",
       "      <td>27.720</td>\n",
       "      <td>129.870130</td>\n",
       "      <td>2758960168</td>\n",
       "      <td>2024-04-08 00:01:44.872073</td>\n",
       "      <td>08/04/2024</td>\n",
       "    </tr>\n",
       "    <tr>\n",
       "      <th>0:2:12</th>\n",
       "      <td>27656</td>\n",
       "      <td>0.13</td>\n",
       "      <td>27.656</td>\n",
       "      <td>130.170668</td>\n",
       "      <td>2758987824</td>\n",
       "      <td>2024-04-08 00:02:12.528073</td>\n",
       "      <td>08/04/2024</td>\n",
       "    </tr>\n",
       "    <tr>\n",
       "      <th>...</th>\n",
       "      <td>...</td>\n",
       "      <td>...</td>\n",
       "      <td>...</td>\n",
       "      <td>...</td>\n",
       "      <td>...</td>\n",
       "      <td>...</td>\n",
       "      <td>...</td>\n",
       "    </tr>\n",
       "    <tr>\n",
       "      <th>7:11:59</th>\n",
       "      <td>22096</td>\n",
       "      <td>0.16</td>\n",
       "      <td>22.096</td>\n",
       "      <td>162.925416</td>\n",
       "      <td>2784774860</td>\n",
       "      <td>2024-04-08 07:11:59.564073</td>\n",
       "      <td>08/04/2024</td>\n",
       "    </tr>\n",
       "    <tr>\n",
       "      <th>7:12:22</th>\n",
       "      <td>22497</td>\n",
       "      <td>0.16</td>\n",
       "      <td>22.497</td>\n",
       "      <td>160.021336</td>\n",
       "      <td>2784797357</td>\n",
       "      <td>2024-04-08 07:12:22.061073</td>\n",
       "      <td>08/04/2024</td>\n",
       "    </tr>\n",
       "    <tr>\n",
       "      <th>7:12:44</th>\n",
       "      <td>22243</td>\n",
       "      <td>0.16</td>\n",
       "      <td>22.243</td>\n",
       "      <td>161.848671</td>\n",
       "      <td>2784819600</td>\n",
       "      <td>2024-04-08 07:12:44.304073</td>\n",
       "      <td>08/04/2024</td>\n",
       "    </tr>\n",
       "    <tr>\n",
       "      <th>7:13:6</th>\n",
       "      <td>22433</td>\n",
       "      <td>0.16</td>\n",
       "      <td>22.433</td>\n",
       "      <td>160.477867</td>\n",
       "      <td>2784842033</td>\n",
       "      <td>2024-04-08 07:13:06.737073</td>\n",
       "      <td>08/04/2024</td>\n",
       "    </tr>\n",
       "    <tr>\n",
       "      <th>7:13:29</th>\n",
       "      <td>22313</td>\n",
       "      <td>0.16</td>\n",
       "      <td>22.313</td>\n",
       "      <td>161.340922</td>\n",
       "      <td>2784864346</td>\n",
       "      <td>2024-04-08 07:13:29.050073</td>\n",
       "      <td>08/04/2024</td>\n",
       "    </tr>\n",
       "  </tbody>\n",
       "</table>\n",
       "<p>878 rows × 7 columns</p>\n",
       "</div>"
      ],
      "text/plain": [
       "         Interval   kWh     sec          Wh   cumul(ms)  \\\n",
       "heure                                                     \n",
       "0:0:23      27187  0.13  27.187  132.416228  2758878920   \n",
       "0:0:50      26647  0.14  26.647  135.099636  2758905567   \n",
       "0:1:17      26881  0.13  26.881  133.923589  2758932448   \n",
       "0:1:44      27720  0.13  27.720  129.870130  2758960168   \n",
       "0:2:12      27656  0.13  27.656  130.170668  2758987824   \n",
       "...           ...   ...     ...         ...         ...   \n",
       "7:11:59     22096  0.16  22.096  162.925416  2784774860   \n",
       "7:12:22     22497  0.16  22.497  160.021336  2784797357   \n",
       "7:12:44     22243  0.16  22.243  161.848671  2784819600   \n",
       "7:13:6      22433  0.16  22.433  160.477867  2784842033   \n",
       "7:13:29     22313  0.16  22.313  161.340922  2784864346   \n",
       "\n",
       "                             dates        days  \n",
       "heure                                           \n",
       "0:0:23  2024-04-08 00:00:23.624073  08/04/2024  \n",
       "0:0:50  2024-04-08 00:00:50.271073  08/04/2024  \n",
       "0:1:17  2024-04-08 00:01:17.152073  08/04/2024  \n",
       "0:1:44  2024-04-08 00:01:44.872073  08/04/2024  \n",
       "0:2:12  2024-04-08 00:02:12.528073  08/04/2024  \n",
       "...                            ...         ...  \n",
       "7:11:59 2024-04-08 07:11:59.564073  08/04/2024  \n",
       "7:12:22 2024-04-08 07:12:22.061073  08/04/2024  \n",
       "7:12:44 2024-04-08 07:12:44.304073  08/04/2024  \n",
       "7:13:6  2024-04-08 07:13:06.737073  08/04/2024  \n",
       "7:13:29 2024-04-08 07:13:29.050073  08/04/2024  \n",
       "\n",
       "[878 rows x 7 columns]"
      ]
     },
     "execution_count": 5945,
     "metadata": {},
     "output_type": "execute_result"
    }
   ],
   "source": [
    "conso_day['heure']=conso_day.loc[:,'dates'].apply(lambda x: str(x.hour)+':'+str(x.minute) +':'+str(x.second))\n",
    "#=[x.hour for x in conso_day['dates']]\n",
    "conso_day\n",
    "df= conso_day.set_index('heure')\n",
    "df"
   ]
  },
  {
   "cell_type": "code",
   "execution_count": null,
   "metadata": {},
   "outputs": [
    {
     "data": {
      "text/plain": [
       "('07:13:31', 0.878)"
      ]
     },
     "execution_count": 5946,
     "metadata": {},
     "output_type": "execute_result"
    }
   ],
   "source": [
    "here = now.strftime('%H:%M:%S')\n",
    "here, len(df)/1000"
   ]
  },
  {
   "cell_type": "code",
   "execution_count": null,
   "metadata": {},
   "outputs": [
    {
     "data": {
      "text/plain": [
       "heure\n",
       "0:0:23     0.13\n",
       "0:0:50     0.14\n",
       "0:1:17     0.13\n",
       "0:1:44     0.13\n",
       "0:2:12     0.13\n",
       "           ... \n",
       "7:11:59    0.16\n",
       "7:12:22    0.16\n",
       "7:12:44    0.16\n",
       "7:13:6     0.16\n",
       "7:13:29    0.16\n",
       "Name: kWh, Length: 878, dtype: float64"
      ]
     },
     "execution_count": 5947,
     "metadata": {},
     "output_type": "execute_result"
    }
   ],
   "source": [
    "df['kWh']"
   ]
  },
  {
   "cell_type": "code",
   "execution_count": null,
   "metadata": {},
   "outputs": [
    {
     "data": {
      "image/png": "[encoded data removed]",
      "text/plain": [
       "<Figure size 1500x700 with 1 Axes>"
      ]
     },
     "metadata": {},
     "output_type": "display_data"
    }
   ],
   "source": [
    "from matplotlib.ticker import (MultipleLocator, AutoMinorLocator)\n",
    "# consommation d'une journée entière à partir de minuit\n",
    "fig, ax = plt.subplots()\n",
    "major_ticks=300;minor_ticks=100\n",
    "ax.xaxis.set_major_locator(MultipleLocator(major_ticks))  # major ticks tous les 15 min\n",
    "ax.xaxis.set_minor_locator(MultipleLocator(minor_ticks))\n",
    "# the size of A4 paper\n",
    "fig.set_size_inches(15, 7)\n",
    "plt.plot(df['kWh'])\n",
    "#plt.plot(conso_day['heure'],conso_day['kWh'])\n",
    "plt.title(f'Journée du {day} {here} : {conso_jour/1000} kwh')\n",
    "plt.grid()"
   ]
  },
  {
   "cell_type": "code",
   "execution_count": null,
   "metadata": {},
   "outputs": [],
   "source": [
    "df['power']=[y for x,y in zip(df['Interval'],df['kWh'])]"
   ]
  },
  {
   "cell_type": "code",
   "execution_count": null,
   "metadata": {},
   "outputs": [
    {
     "data": {
      "text/plain": [
       "heure\n",
       "0:0:23     0.13\n",
       "0:0:50     0.14\n",
       "0:1:17     0.13\n",
       "0:1:44     0.13\n",
       "0:2:12     0.13\n",
       "           ... \n",
       "7:11:59    0.16\n",
       "7:12:22    0.16\n",
       "7:12:44    0.16\n",
       "7:13:6     0.16\n",
       "7:13:29    0.16\n",
       "Name: power, Length: 878, dtype: float64"
      ]
     },
     "execution_count": 5950,
     "metadata": {},
     "output_type": "execute_result"
    }
   ],
   "source": [
    "df['power']"
   ]
  },
  {
   "cell_type": "code",
   "execution_count": null,
   "metadata": {},
   "outputs": [
    {
     "data": {
      "text/plain": [
       "<Axes: xlabel='heure'>"
      ]
     },
     "execution_count": 5951,
     "metadata": {},
     "output_type": "execute_result"
    },
    {
     "data": {
      "image/png": "[encoded data removed]",
      "text/plain": [
       "<Figure size 640x480 with 1 Axes>"
      ]
     },
     "metadata": {},
     "output_type": "display_data"
    }
   ],
   "source": [
    "evo=df['power'].cumsum()\n",
    "evo.plot()"
   ]
  },
  {
   "cell_type": "code",
   "execution_count": null,
   "metadata": {},
   "outputs": [
    {
     "data": {
      "text/plain": [
       "50"
      ]
     },
     "execution_count": 5952,
     "metadata": {},
     "output_type": "execute_result"
    },
    {
     "data": {
      "image/png": "[encoded data removed]",
      "text/plain": [
       "<Figure size 640x480 with 1 Axes>"
      ]
     },
     "metadata": {},
     "output_type": "display_data"
    }
   ],
   "source": [
    "# bouilloire, microondes, four\n",
    "filter=(.5<df['kWh'])\n",
    "pic_high = df[filter]\n",
    "pic_high['kWh'].plot()\n",
    "len(pic_high)"
   ]
  },
  {
   "cell_type": "markdown",
   "metadata": {},
   "source": []
  },
  {
   "cell_type": "code",
   "execution_count": null,
   "metadata": {},
   "outputs": [
    {
     "data": {
      "text/plain": [
       "295"
      ]
     },
     "execution_count": 5953,
     "metadata": {},
     "output_type": "execute_result"
    },
    {
     "data": {
      "image/png": "[encoded data removed]",
      "text/plain": [
       "<Figure size 640x480 with 1 Axes>"
      ]
     },
     "metadata": {},
     "output_type": "display_data"
    }
   ],
   "source": [
    "# frigo, moteur volet\n",
    "pic_middle = df[(0.1<df['kWh']) & (df['kWh']<=.5)]\n",
    "pic_middle['kWh'].plot()\n",
    "len(pic_middle) # wh"
   ]
  },
  {
   "cell_type": "code",
   "execution_count": null,
   "metadata": {},
   "outputs": [
    {
     "data": {
      "text/plain": [
       "828"
      ]
     },
     "execution_count": 5954,
     "metadata": {},
     "output_type": "execute_result"
    },
    {
     "data": {
      "image/png": "[encoded data removed]",
      "text/plain": [
       "<Figure size 640x480 with 1 Axes>"
      ]
     },
     "metadata": {},
     "output_type": "display_data"
    }
   ],
   "source": [
    "# pics frigo par jour\n",
    "filter = (df['kWh']<=0.5)\n",
    "pic_low = df[filter]\n",
    "pic_low['kWh'].plot()\n",
    "len(pic_low) # wh"
   ]
  },
  {
   "cell_type": "code",
   "execution_count": null,
   "metadata": {},
   "outputs": [
    {
     "data": {
      "text/plain": [
       "0        2024-03-07 01:39:30.993073\n",
       "1        2024-03-07 01:39:57.236073\n",
       "2        2024-03-07 01:40:23.121073\n",
       "3        2024-03-07 01:40:48.875073\n",
       "4        2024-03-07 01:41:14.649073\n",
       "                    ...            \n",
       "117578   2024-04-08 07:11:59.564073\n",
       "117579   2024-04-08 07:12:22.061073\n",
       "117580   2024-04-08 07:12:44.304073\n",
       "117581   2024-04-08 07:13:06.737073\n",
       "117582   2024-04-08 07:13:29.050073\n",
       "Name: dates, Length: 117583, dtype: datetime64[ns]"
      ]
     },
     "execution_count": 5955,
     "metadata": {},
     "output_type": "execute_result"
    }
   ],
   "source": [
    "time = conso_data['dates']\n",
    "time\n"
   ]
  },
  {
   "cell_type": "code",
   "execution_count": null,
   "metadata": {},
   "outputs": [],
   "source": [
    "def format_date(space=3):\n",
    "    plt.gca().xaxis.set_major_formatter(mdates.DateFormatter('%d/%m\\n%H:%M'))\n",
    "    plt.gca().xaxis.set_major_locator(mdates.HourLocator(space))\n",
    "    #plt.gca().xaxis.set_major_locator(mdates.HourLocator(interval=space))\n",
    "    plt.gcf().autofmt_xdate()\n",
    "    plt.grid()"
   ]
  },
  {
   "cell_type": "code",
   "execution_count": null,
   "metadata": {},
   "outputs": [],
   "source": [
    "if not old:\n",
    "    major_ticks=1/60;minor_ticks=1/240  # plus de ticks, 4 fois plus de minor\n",
    "    major_ticks=1/30;minor_ticks=1/120   # moins de ticks\n",
    "    major_ticks=1/15;minor_ticks=1/60\n",
    "    major_ticks=1/2;minor_ticks=1/8\n",
    "else:\n",
    "    major_ticks=4;minor_ticks=1   # encore moins si int\n"
   ]
  },
  {
   "cell_type": "code",
   "execution_count": null,
   "metadata": {},
   "outputs": [
    {
     "data": {
      "text/plain": [
       "(4, 1)"
      ]
     },
     "execution_count": 5958,
     "metadata": {},
     "output_type": "execute_result"
    }
   ],
   "source": [
    "major_ticks=4;minor_ticks=1\n",
    "major_ticks,minor_ticks"
   ]
  },
  {
   "cell_type": "markdown",
   "metadata": {},
   "source": [
    "## Main graph"
   ]
  },
  {
   "cell_type": "code",
   "execution_count": null,
   "metadata": {},
   "outputs": [
    {
     "ename": "NameError",
     "evalue": "name 'MultipleLocator' is not defined",
     "output_type": "error",
     "traceback": [
      "\u001b[1;31m---------------------------------------------------------------------------\u001b[0m",
      "\u001b[1;31mNameError\u001b[0m                                 Traceback (most recent call last)",
      "Cell \u001b[1;32mIn[41], line 34\u001b[0m\n\u001b[0;32m     32\u001b[0m     plt\u001b[38;5;241m.\u001b[39mgrid()\n\u001b[0;32m     33\u001b[0m     plt\u001b[38;5;241m.\u001b[39mshow()\n\u001b[1;32m---> 34\u001b[0m \u001b[43mshow_graph\u001b[49m\u001b[43m(\u001b[49m\u001b[43m)\u001b[49m\n",
      "Cell \u001b[1;32mIn[41], line 15\u001b[0m, in \u001b[0;36mshow_graph\u001b[1;34m()\u001b[0m\n\u001b[0;32m     12\u001b[0m ax\u001b[38;5;241m.\u001b[39mxaxis\u001b[38;5;241m.\u001b[39mset_major_formatter(formatter)\n\u001b[0;32m     14\u001b[0m \u001b[38;5;66;03m# ticks sur axe des x\u001b[39;00m\n\u001b[1;32m---> 15\u001b[0m ax\u001b[38;5;241m.\u001b[39mxaxis\u001b[38;5;241m.\u001b[39mset_major_locator(\u001b[43mMultipleLocator\u001b[49m(major_ticks))  \u001b[38;5;66;03m# major ticks tous les 15 min\u001b[39;00m\n\u001b[0;32m     16\u001b[0m ax\u001b[38;5;241m.\u001b[39mxaxis\u001b[38;5;241m.\u001b[39mset_minor_locator(MultipleLocator(minor_ticks))  \u001b[38;5;66;03m# minor ticks tous les 5 min\u001b[39;00m\n\u001b[0;32m     17\u001b[0m ax\u001b[38;5;241m.\u001b[39mtick_params(which\u001b[38;5;241m=\u001b[39m\u001b[38;5;124m'\u001b[39m\u001b[38;5;124mboth\u001b[39m\u001b[38;5;124m'\u001b[39m, width\u001b[38;5;241m=\u001b[39m\u001b[38;5;241m3\u001b[39m)\n",
      "\u001b[1;31mNameError\u001b[0m: name 'MultipleLocator' is not defined"
     ]
    },
    {
     "data": {
      "image/png": "[encoded data removed]",
      "text/plain": [
       "<Figure size 2500x1000 with 1 Axes>"
      ]
     },
     "metadata": {},
     "output_type": "display_data"
    }
   ],
   "source": [
    "\n",
    "from matplotlib.dates import (YEARLY, DateFormatter,rrulewrapper, RRuleLocator, drange)\n",
    "\n",
    "def show_graph():\n",
    "    fig, ax = plt.subplots()\n",
    "    # the size of A4 paper\n",
    "    fig.set_size_inches(25, 10)\n",
    "\n",
    "    #plt.rcParams['axes.autolimit_mode'] = 'round_numbers'\n",
    "    \n",
    "    #formatter = DateFormatter('%d/%m\\n%H:%M:%S')\n",
    "    formatter = DateFormatter('%d/%m\\n%H:%M')\n",
    "    ax.xaxis.set_major_formatter(formatter)\n",
    "\n",
    "    # ticks sur axe des x\n",
    "    ax.xaxis.set_major_locator(MultipleLocator(major_ticks))  # major ticks tous les 15 min\n",
    "    ax.xaxis.set_minor_locator(MultipleLocator(minor_ticks))  # minor ticks tous les 5 min\n",
    "    ax.tick_params(which='both', width=3)\n",
    "    ax.tick_params(which='major', length=15, color='r')\n",
    "    ax.tick_params(which='minor', length=8, color='b')\n",
    "\n",
    "    #plt.plot(conso_data['cumul(ms)']/3600000,conso_data['Wh'])\n",
    "    plt.plot(time,conso_data['Wh'])\n",
    "    plt.ylabel('Wh')\n",
    "    plt.xlabel('Time (heures)')\n",
    "    #format_date(10)\n",
    "    for label in ax.get_xticklabels():\n",
    "        label.set_rotation(40)\n",
    "        label.set_horizontalalignment('right')\n",
    "\n",
    "    #fig.autofmt_xdate()\n",
    "    \n",
    "    plt.grid()\n",
    "    plt.show()\n",
    "show_graph()"
   ]
  },
  {
   "cell_type": "code",
   "execution_count": null,
   "metadata": {},
   "outputs": [
    {
     "data": {
      "text/html": [
       "<div>\n",
       "<style scoped>\n",
       "    .dataframe tbody tr th:only-of-type {\n",
       "        vertical-align: middle;\n",
       "    }\n",
       "\n",
       "    .dataframe tbody tr th {\n",
       "        vertical-align: top;\n",
       "    }\n",
       "\n",
       "    .dataframe thead th {\n",
       "        text-align: right;\n",
       "    }\n",
       "</style>\n",
       "<table border=\"1\" class=\"dataframe\">\n",
       "  <thead>\n",
       "    <tr style=\"text-align: right;\">\n",
       "      <th></th>\n",
       "      <th>Interval</th>\n",
       "      <th>kWh</th>\n",
       "      <th>sec</th>\n",
       "      <th>Wh</th>\n",
       "      <th>cumul(ms)</th>\n",
       "      <th>dates</th>\n",
       "      <th>days</th>\n",
       "    </tr>\n",
       "  </thead>\n",
       "  <tbody>\n",
       "    <tr>\n",
       "      <th>117582</th>\n",
       "      <td>22313</td>\n",
       "      <td>0.16</td>\n",
       "      <td>22.313</td>\n",
       "      <td>161.340922</td>\n",
       "      <td>2784864346</td>\n",
       "      <td>2024-04-08 07:13:29.050073</td>\n",
       "      <td>08/04/2024</td>\n",
       "    </tr>\n",
       "  </tbody>\n",
       "</table>\n",
       "</div>"
      ],
      "text/plain": [
       "        Interval   kWh     sec          Wh   cumul(ms)  \\\n",
       "117582     22313  0.16  22.313  161.340922  2784864346   \n",
       "\n",
       "                            dates        days  \n",
       "117582 2024-04-08 07:13:29.050073  08/04/2024  "
      ]
     },
     "execution_count": 5960,
     "metadata": {},
     "output_type": "execute_result"
    }
   ],
   "source": [
    "cumul_conso = len(conso_data)\n",
    "conso_data.tail(1)"
   ]
  },
  {
   "cell_type": "code",
   "execution_count": null,
   "metadata": {},
   "outputs": [
    {
     "data": {
      "text/plain": [
       "2784864346000"
      ]
     },
     "execution_count": 5961,
     "metadata": {},
     "output_type": "execute_result"
    }
   ],
   "source": [
    "cumtime= int(conso_data._get_value(l,'cumul(ms)')*1000)\n",
    "cumtime"
   ]
  },
  {
   "cell_type": "markdown",
   "metadata": {},
   "source": [
    "# Slice of last 1 kWh"
   ]
  },
  {
   "cell_type": "code",
   "execution_count": null,
   "metadata": {},
   "outputs": [
    {
     "data": {
      "text/plain": [
       "117583"
      ]
     },
     "execution_count": 5962,
     "metadata": {},
     "output_type": "execute_result"
    }
   ],
   "source": [
    "l = len(conso_data)  # total watt consommés\n",
    "l"
   ]
  },
  {
   "cell_type": "code",
   "execution_count": null,
   "metadata": {},
   "outputs": [
    {
     "data": {
      "text/plain": [
       "(117583, 1000)"
      ]
     },
     "execution_count": 5963,
     "metadata": {},
     "output_type": "execute_result"
    }
   ],
   "source": [
    "k = 1\n",
    "taille = k*1000  # fenetre k*1000 watt consommés\n",
    "l,taille"
   ]
  },
  {
   "cell_type": "code",
   "execution_count": null,
   "metadata": {},
   "outputs": [
    {
     "data": {
      "text/plain": [
       "1000"
      ]
     },
     "execution_count": 5964,
     "metadata": {},
     "output_type": "execute_result"
    }
   ],
   "source": [
    "if l<1000:\n",
    "    part = 1\n",
    "else: part = 1/2\n",
    "#taille = int(part*l)\n",
    "taille"
   ]
  },
  {
   "cell_type": "code",
   "execution_count": null,
   "metadata": {},
   "outputs": [
    {
     "data": {
      "text/plain": [
       "(1000,\n",
       "         Interval   kWh     sec          Wh   cumul(ms)  \\\n",
       " 116583     26724  0.13  26.724  134.710373  2755815983   \n",
       " 116584     26758  0.13  26.758  134.539203  2755842741   \n",
       " 116585     26805  0.13  26.805  134.303302  2755869546   \n",
       " 116586     26780  0.13  26.780  134.428678  2755896326   \n",
       " 116587     26783  0.13  26.783  134.413621  2755923109   \n",
       " ...          ...   ...     ...         ...         ...   \n",
       " 117578     22096  0.16  22.096  162.925416  2784774860   \n",
       " 117579     22497  0.16  22.497  160.021336  2784797357   \n",
       " 117580     22243  0.16  22.243  161.848671  2784819600   \n",
       " 117581     22433  0.16  22.433  160.477867  2784842033   \n",
       " 117582     22313  0.16  22.313  161.340922  2784864346   \n",
       " \n",
       "                             dates        days  \n",
       " 116583 2024-04-07 23:09:20.687073  07/04/2024  \n",
       " 116584 2024-04-07 23:09:47.445073  07/04/2024  \n",
       " 116585 2024-04-07 23:10:14.250073  07/04/2024  \n",
       " 116586 2024-04-07 23:10:41.030073  07/04/2024  \n",
       " 116587 2024-04-07 23:11:07.813073  07/04/2024  \n",
       " ...                           ...         ...  \n",
       " 117578 2024-04-08 07:11:59.564073  08/04/2024  \n",
       " 117579 2024-04-08 07:12:22.061073  08/04/2024  \n",
       " 117580 2024-04-08 07:12:44.304073  08/04/2024  \n",
       " 117581 2024-04-08 07:13:06.737073  08/04/2024  \n",
       " 117582 2024-04-08 07:13:29.050073  08/04/2024  \n",
       " \n",
       " [1000 rows x 7 columns])"
      ]
     },
     "execution_count": 5965,
     "metadata": {},
     "output_type": "execute_result"
    }
   ],
   "source": [
    "data = conso_data.tail(taille)\n",
    "len(data),data"
   ]
  },
  {
   "cell_type": "code",
   "execution_count": null,
   "metadata": {},
   "outputs": [],
   "source": [
    "now = datetime.now()\n",
    "# conso.csv dynamique\n",
    "cumtime_start= int(conso_data._get_value(l-taille+1,'cumul(ms)')*1000) # conversion microseconds\n"
   ]
  },
  {
   "cell_type": "code",
   "execution_count": null,
   "metadata": {},
   "outputs": [],
   "source": [
    "cumtime_end= int(data._get_value(l-1,'cumul(ms)')*1000) # conversion microseconds\n"
   ]
  },
  {
   "cell_type": "code",
   "execution_count": null,
   "metadata": {},
   "outputs": [
    {
     "data": {
      "text/plain": [
       "(2784864346000, 2755842741000)"
      ]
     },
     "execution_count": 5968,
     "metadata": {},
     "output_type": "execute_result"
    }
   ],
   "source": [
    "cumtime_end,cumtime_start"
   ]
  },
  {
   "cell_type": "code",
   "execution_count": null,
   "metadata": {},
   "outputs": [
    {
     "data": {
      "text/plain": [
       "29021605000"
      ]
     },
     "execution_count": 5969,
     "metadata": {},
     "output_type": "execute_result"
    }
   ],
   "source": [
    "#last_interval = int(data._get_value(l,'Interval')*1000) # conversion microseconds\n",
    "delta_cumtime = cumtime_end - cumtime_start #+ last_interval\n",
    "delta_cumtime"
   ]
  },
  {
   "cell_type": "code",
   "execution_count": null,
   "metadata": {},
   "outputs": [
    {
     "data": {
      "text/plain": [
       "(datetime.datetime(2024, 4, 8, 7, 13, 36, 964701),\n",
       " datetime.datetime(2024, 4, 7, 23, 9, 55, 359701),\n",
       " '08/04/2024 07:13:29')"
      ]
     },
     "execution_count": 5970,
     "metadata": {},
     "output_type": "execute_result"
    }
   ],
   "source": [
    "\n",
    "base = now - timedelta(microseconds=delta_cumtime)\n",
    "now,base, data['dates'][l-1].strftime('%d/%m/%Y %H:%M:%S')\n"
   ]
  },
  {
   "cell_type": "code",
   "execution_count": null,
   "metadata": {},
   "outputs": [
    {
     "data": {
      "text/html": [
       "<div>\n",
       "<style scoped>\n",
       "    .dataframe tbody tr th:only-of-type {\n",
       "        vertical-align: middle;\n",
       "    }\n",
       "\n",
       "    .dataframe tbody tr th {\n",
       "        vertical-align: top;\n",
       "    }\n",
       "\n",
       "    .dataframe thead th {\n",
       "        text-align: right;\n",
       "    }\n",
       "</style>\n",
       "<table border=\"1\" class=\"dataframe\">\n",
       "  <thead>\n",
       "    <tr style=\"text-align: right;\">\n",
       "      <th></th>\n",
       "      <th>Interval</th>\n",
       "      <th>kWh</th>\n",
       "      <th>sec</th>\n",
       "      <th>Wh</th>\n",
       "      <th>cumul(ms)</th>\n",
       "      <th>dates</th>\n",
       "      <th>days</th>\n",
       "    </tr>\n",
       "  </thead>\n",
       "  <tbody>\n",
       "    <tr>\n",
       "      <th>0</th>\n",
       "      <td>26289</td>\n",
       "      <td>0.14</td>\n",
       "      <td>26.289</td>\n",
       "      <td>136.939404</td>\n",
       "      <td>26289</td>\n",
       "      <td>2024-03-07 01:39:30.993073</td>\n",
       "      <td>07/03/2024</td>\n",
       "    </tr>\n",
       "    <tr>\n",
       "      <th>1</th>\n",
       "      <td>26243</td>\n",
       "      <td>0.14</td>\n",
       "      <td>26.243</td>\n",
       "      <td>137.179438</td>\n",
       "      <td>52532</td>\n",
       "      <td>2024-03-07 01:39:57.236073</td>\n",
       "      <td>07/03/2024</td>\n",
       "    </tr>\n",
       "    <tr>\n",
       "      <th>2</th>\n",
       "      <td>25885</td>\n",
       "      <td>0.14</td>\n",
       "      <td>25.885</td>\n",
       "      <td>139.076685</td>\n",
       "      <td>78417</td>\n",
       "      <td>2024-03-07 01:40:23.121073</td>\n",
       "      <td>07/03/2024</td>\n",
       "    </tr>\n",
       "    <tr>\n",
       "      <th>3</th>\n",
       "      <td>25754</td>\n",
       "      <td>0.14</td>\n",
       "      <td>25.754</td>\n",
       "      <td>139.784111</td>\n",
       "      <td>104171</td>\n",
       "      <td>2024-03-07 01:40:48.875073</td>\n",
       "      <td>07/03/2024</td>\n",
       "    </tr>\n",
       "    <tr>\n",
       "      <th>4</th>\n",
       "      <td>25774</td>\n",
       "      <td>0.14</td>\n",
       "      <td>25.774</td>\n",
       "      <td>139.675642</td>\n",
       "      <td>129945</td>\n",
       "      <td>2024-03-07 01:41:14.649073</td>\n",
       "      <td>07/03/2024</td>\n",
       "    </tr>\n",
       "    <tr>\n",
       "      <th>...</th>\n",
       "      <td>...</td>\n",
       "      <td>...</td>\n",
       "      <td>...</td>\n",
       "      <td>...</td>\n",
       "      <td>...</td>\n",
       "      <td>...</td>\n",
       "      <td>...</td>\n",
       "    </tr>\n",
       "    <tr>\n",
       "      <th>117578</th>\n",
       "      <td>22096</td>\n",
       "      <td>0.16</td>\n",
       "      <td>22.096</td>\n",
       "      <td>162.925416</td>\n",
       "      <td>2784774860</td>\n",
       "      <td>2024-04-08 07:11:59.564073</td>\n",
       "      <td>08/04/2024</td>\n",
       "    </tr>\n",
       "    <tr>\n",
       "      <th>117579</th>\n",
       "      <td>22497</td>\n",
       "      <td>0.16</td>\n",
       "      <td>22.497</td>\n",
       "      <td>160.021336</td>\n",
       "      <td>2784797357</td>\n",
       "      <td>2024-04-08 07:12:22.061073</td>\n",
       "      <td>08/04/2024</td>\n",
       "    </tr>\n",
       "    <tr>\n",
       "      <th>117580</th>\n",
       "      <td>22243</td>\n",
       "      <td>0.16</td>\n",
       "      <td>22.243</td>\n",
       "      <td>161.848671</td>\n",
       "      <td>2784819600</td>\n",
       "      <td>2024-04-08 07:12:44.304073</td>\n",
       "      <td>08/04/2024</td>\n",
       "    </tr>\n",
       "    <tr>\n",
       "      <th>117581</th>\n",
       "      <td>22433</td>\n",
       "      <td>0.16</td>\n",
       "      <td>22.433</td>\n",
       "      <td>160.477867</td>\n",
       "      <td>2784842033</td>\n",
       "      <td>2024-04-08 07:13:06.737073</td>\n",
       "      <td>08/04/2024</td>\n",
       "    </tr>\n",
       "    <tr>\n",
       "      <th>117582</th>\n",
       "      <td>22313</td>\n",
       "      <td>0.16</td>\n",
       "      <td>22.313</td>\n",
       "      <td>161.340922</td>\n",
       "      <td>2784864346</td>\n",
       "      <td>2024-04-08 07:13:29.050073</td>\n",
       "      <td>08/04/2024</td>\n",
       "    </tr>\n",
       "  </tbody>\n",
       "</table>\n",
       "<p>117583 rows × 7 columns</p>\n",
       "</div>"
      ],
      "text/plain": [
       "        Interval   kWh     sec          Wh   cumul(ms)  \\\n",
       "0          26289  0.14  26.289  136.939404       26289   \n",
       "1          26243  0.14  26.243  137.179438       52532   \n",
       "2          25885  0.14  25.885  139.076685       78417   \n",
       "3          25754  0.14  25.754  139.784111      104171   \n",
       "4          25774  0.14  25.774  139.675642      129945   \n",
       "...          ...   ...     ...         ...         ...   \n",
       "117578     22096  0.16  22.096  162.925416  2784774860   \n",
       "117579     22497  0.16  22.497  160.021336  2784797357   \n",
       "117580     22243  0.16  22.243  161.848671  2784819600   \n",
       "117581     22433  0.16  22.433  160.477867  2784842033   \n",
       "117582     22313  0.16  22.313  161.340922  2784864346   \n",
       "\n",
       "                            dates        days  \n",
       "0      2024-03-07 01:39:30.993073  07/03/2024  \n",
       "1      2024-03-07 01:39:57.236073  07/03/2024  \n",
       "2      2024-03-07 01:40:23.121073  07/03/2024  \n",
       "3      2024-03-07 01:40:48.875073  07/03/2024  \n",
       "4      2024-03-07 01:41:14.649073  07/03/2024  \n",
       "...                           ...         ...  \n",
       "117578 2024-04-08 07:11:59.564073  08/04/2024  \n",
       "117579 2024-04-08 07:12:22.061073  08/04/2024  \n",
       "117580 2024-04-08 07:12:44.304073  08/04/2024  \n",
       "117581 2024-04-08 07:13:06.737073  08/04/2024  \n",
       "117582 2024-04-08 07:13:29.050073  08/04/2024  \n",
       "\n",
       "[117583 rows x 7 columns]"
      ]
     },
     "execution_count": 5971,
     "metadata": {},
     "output_type": "execute_result"
    }
   ],
   "source": [
    "conso_data"
   ]
  },
  {
   "cell_type": "code",
   "execution_count": null,
   "metadata": {},
   "outputs": [
    {
     "data": {
      "text/plain": [
       "('07/04/2024 23:09:47', '08/04/2024 07:13:29')"
      ]
     },
     "execution_count": 5972,
     "metadata": {},
     "output_type": "execute_result"
    }
   ],
   "source": [
    "end = conso_data['dates'][l-1].strftime('%d/%m/%Y %H:%M:%S')\n",
    "start = conso_data['dates'][l-taille+1].strftime('%d/%m/%Y %H:%M:%S')\n",
    "start,end"
   ]
  },
  {
   "cell_type": "code",
   "execution_count": null,
   "metadata": {},
   "outputs": [
    {
     "data": {
      "text/plain": [
       "('2024-04-07 23:09:20.687073', '2024-04-08 07:13:29.050073')"
      ]
     },
     "execution_count": 5973,
     "metadata": {},
     "output_type": "execute_result"
    }
   ],
   "source": [
    "data.head(1)['dates'].to_string(index=False),data.tail(1)['dates'].to_string(index=False)"
   ]
  },
  {
   "cell_type": "code",
   "execution_count": null,
   "metadata": {},
   "outputs": [
    {
     "data": {
      "text/plain": [
       "1"
      ]
     },
     "execution_count": 5974,
     "metadata": {},
     "output_type": "execute_result"
    }
   ],
   "source": [
    "k"
   ]
  },
  {
   "cell_type": "code",
   "execution_count": null,
   "metadata": {},
   "outputs": [
    {
     "data": {
      "text/plain": [
       "116583    26724\n",
       "116584    26758\n",
       "116585    26805\n",
       "116586    26780\n",
       "116587    26783\n",
       "          ...  \n",
       "117578    22096\n",
       "117579    22497\n",
       "117580    22243\n",
       "117581    22433\n",
       "117582    22313\n",
       "Name: Interval, Length: 1000, dtype: int64"
      ]
     },
     "execution_count": 5975,
     "metadata": {},
     "output_type": "execute_result"
    }
   ],
   "source": [
    "data.Interval.tail(1000)"
   ]
  },
  {
   "cell_type": "code",
   "execution_count": null,
   "metadata": {},
   "outputs": [
    {
     "data": {
      "text/plain": [
       "(8.076413055555557, 2.9716162156281762, 8, 4, 35)"
      ]
     },
     "execution_count": 5976,
     "metadata": {},
     "output_type": "execute_result"
    }
   ],
   "source": [
    "conversion_us_heure = 1/1000/60/60 \n",
    "temps_1kWh = sum(data.Interval.tail(1000))*conversion_us_heure  #somme 1000 interval = temps conso 1 kWh\n",
    "conso_jour = 24/temps_1kWh\n",
    "heure = int(temps_1kWh)\n",
    "mn = (temps_1kWh - heure)*60\n",
    "sec = (mn - int(mn))*60\n",
    "temps_1kWh, conso_jour,heure,int(mn),int(sec)"
   ]
  },
  {
   "cell_type": "code",
   "execution_count": null,
   "metadata": {},
   "outputs": [
    {
     "name": "stderr",
     "output_type": "stream",
     "text": [
      "C:\\Users\\jean\\AppData\\Local\\Temp\\ipykernel_14100\\3458501435.py:1: SettingWithCopyWarning: \n",
      "A value is trying to be set on a copy of a slice from a DataFrame.\n",
      "Try using .loc[row_indexer,col_indexer] = value instead\n",
      "\n",
      "See the caveats in the documentation: https://pandas.pydata.org/pandas-docs/stable/user_guide/indexing.html#returning-a-view-versus-a-copy\n",
      "  data['heure']=conso_data['dates']#.strftime('%d/%m/%Y %H:%M:%S')\n"
     ]
    }
   ],
   "source": [
    "data['heure']=conso_data['dates']#.strftime('%d/%m/%Y %H:%M:%S')"
   ]
  },
  {
   "cell_type": "code",
   "execution_count": null,
   "metadata": {},
   "outputs": [
    {
     "data": {
      "text/html": [
       "<div>\n",
       "<style scoped>\n",
       "    .dataframe tbody tr th:only-of-type {\n",
       "        vertical-align: middle;\n",
       "    }\n",
       "\n",
       "    .dataframe tbody tr th {\n",
       "        vertical-align: top;\n",
       "    }\n",
       "\n",
       "    .dataframe thead th {\n",
       "        text-align: right;\n",
       "    }\n",
       "</style>\n",
       "<table border=\"1\" class=\"dataframe\">\n",
       "  <thead>\n",
       "    <tr style=\"text-align: right;\">\n",
       "      <th></th>\n",
       "      <th>Interval</th>\n",
       "      <th>kWh</th>\n",
       "      <th>sec</th>\n",
       "      <th>Wh</th>\n",
       "      <th>cumul(ms)</th>\n",
       "      <th>dates</th>\n",
       "      <th>days</th>\n",
       "      <th>heure</th>\n",
       "    </tr>\n",
       "  </thead>\n",
       "  <tbody>\n",
       "    <tr>\n",
       "      <th>116583</th>\n",
       "      <td>26724</td>\n",
       "      <td>0.13</td>\n",
       "      <td>26.724</td>\n",
       "      <td>134.710373</td>\n",
       "      <td>2755815983</td>\n",
       "      <td>2024-04-07 23:09:20.687073</td>\n",
       "      <td>07/04/2024</td>\n",
       "      <td>2024-04-07 23:09:20.687073</td>\n",
       "    </tr>\n",
       "    <tr>\n",
       "      <th>116584</th>\n",
       "      <td>26758</td>\n",
       "      <td>0.13</td>\n",
       "      <td>26.758</td>\n",
       "      <td>134.539203</td>\n",
       "      <td>2755842741</td>\n",
       "      <td>2024-04-07 23:09:47.445073</td>\n",
       "      <td>07/04/2024</td>\n",
       "      <td>2024-04-07 23:09:47.445073</td>\n",
       "    </tr>\n",
       "    <tr>\n",
       "      <th>116585</th>\n",
       "      <td>26805</td>\n",
       "      <td>0.13</td>\n",
       "      <td>26.805</td>\n",
       "      <td>134.303302</td>\n",
       "      <td>2755869546</td>\n",
       "      <td>2024-04-07 23:10:14.250073</td>\n",
       "      <td>07/04/2024</td>\n",
       "      <td>2024-04-07 23:10:14.250073</td>\n",
       "    </tr>\n",
       "    <tr>\n",
       "      <th>116586</th>\n",
       "      <td>26780</td>\n",
       "      <td>0.13</td>\n",
       "      <td>26.780</td>\n",
       "      <td>134.428678</td>\n",
       "      <td>2755896326</td>\n",
       "      <td>2024-04-07 23:10:41.030073</td>\n",
       "      <td>07/04/2024</td>\n",
       "      <td>2024-04-07 23:10:41.030073</td>\n",
       "    </tr>\n",
       "    <tr>\n",
       "      <th>116587</th>\n",
       "      <td>26783</td>\n",
       "      <td>0.13</td>\n",
       "      <td>26.783</td>\n",
       "      <td>134.413621</td>\n",
       "      <td>2755923109</td>\n",
       "      <td>2024-04-07 23:11:07.813073</td>\n",
       "      <td>07/04/2024</td>\n",
       "      <td>2024-04-07 23:11:07.813073</td>\n",
       "    </tr>\n",
       "    <tr>\n",
       "      <th>...</th>\n",
       "      <td>...</td>\n",
       "      <td>...</td>\n",
       "      <td>...</td>\n",
       "      <td>...</td>\n",
       "      <td>...</td>\n",
       "      <td>...</td>\n",
       "      <td>...</td>\n",
       "      <td>...</td>\n",
       "    </tr>\n",
       "    <tr>\n",
       "      <th>117578</th>\n",
       "      <td>22096</td>\n",
       "      <td>0.16</td>\n",
       "      <td>22.096</td>\n",
       "      <td>162.925416</td>\n",
       "      <td>2784774860</td>\n",
       "      <td>2024-04-08 07:11:59.564073</td>\n",
       "      <td>08/04/2024</td>\n",
       "      <td>2024-04-08 07:11:59.564073</td>\n",
       "    </tr>\n",
       "    <tr>\n",
       "      <th>117579</th>\n",
       "      <td>22497</td>\n",
       "      <td>0.16</td>\n",
       "      <td>22.497</td>\n",
       "      <td>160.021336</td>\n",
       "      <td>2784797357</td>\n",
       "      <td>2024-04-08 07:12:22.061073</td>\n",
       "      <td>08/04/2024</td>\n",
       "      <td>2024-04-08 07:12:22.061073</td>\n",
       "    </tr>\n",
       "    <tr>\n",
       "      <th>117580</th>\n",
       "      <td>22243</td>\n",
       "      <td>0.16</td>\n",
       "      <td>22.243</td>\n",
       "      <td>161.848671</td>\n",
       "      <td>2784819600</td>\n",
       "      <td>2024-04-08 07:12:44.304073</td>\n",
       "      <td>08/04/2024</td>\n",
       "      <td>2024-04-08 07:12:44.304073</td>\n",
       "    </tr>\n",
       "    <tr>\n",
       "      <th>117581</th>\n",
       "      <td>22433</td>\n",
       "      <td>0.16</td>\n",
       "      <td>22.433</td>\n",
       "      <td>160.477867</td>\n",
       "      <td>2784842033</td>\n",
       "      <td>2024-04-08 07:13:06.737073</td>\n",
       "      <td>08/04/2024</td>\n",
       "      <td>2024-04-08 07:13:06.737073</td>\n",
       "    </tr>\n",
       "    <tr>\n",
       "      <th>117582</th>\n",
       "      <td>22313</td>\n",
       "      <td>0.16</td>\n",
       "      <td>22.313</td>\n",
       "      <td>161.340922</td>\n",
       "      <td>2784864346</td>\n",
       "      <td>2024-04-08 07:13:29.050073</td>\n",
       "      <td>08/04/2024</td>\n",
       "      <td>2024-04-08 07:13:29.050073</td>\n",
       "    </tr>\n",
       "  </tbody>\n",
       "</table>\n",
       "<p>1000 rows × 8 columns</p>\n",
       "</div>"
      ],
      "text/plain": [
       "        Interval   kWh     sec          Wh   cumul(ms)  \\\n",
       "116583     26724  0.13  26.724  134.710373  2755815983   \n",
       "116584     26758  0.13  26.758  134.539203  2755842741   \n",
       "116585     26805  0.13  26.805  134.303302  2755869546   \n",
       "116586     26780  0.13  26.780  134.428678  2755896326   \n",
       "116587     26783  0.13  26.783  134.413621  2755923109   \n",
       "...          ...   ...     ...         ...         ...   \n",
       "117578     22096  0.16  22.096  162.925416  2784774860   \n",
       "117579     22497  0.16  22.497  160.021336  2784797357   \n",
       "117580     22243  0.16  22.243  161.848671  2784819600   \n",
       "117581     22433  0.16  22.433  160.477867  2784842033   \n",
       "117582     22313  0.16  22.313  161.340922  2784864346   \n",
       "\n",
       "                            dates        days                      heure  \n",
       "116583 2024-04-07 23:09:20.687073  07/04/2024 2024-04-07 23:09:20.687073  \n",
       "116584 2024-04-07 23:09:47.445073  07/04/2024 2024-04-07 23:09:47.445073  \n",
       "116585 2024-04-07 23:10:14.250073  07/04/2024 2024-04-07 23:10:14.250073  \n",
       "116586 2024-04-07 23:10:41.030073  07/04/2024 2024-04-07 23:10:41.030073  \n",
       "116587 2024-04-07 23:11:07.813073  07/04/2024 2024-04-07 23:11:07.813073  \n",
       "...                           ...         ...                        ...  \n",
       "117578 2024-04-08 07:11:59.564073  08/04/2024 2024-04-08 07:11:59.564073  \n",
       "117579 2024-04-08 07:12:22.061073  08/04/2024 2024-04-08 07:12:22.061073  \n",
       "117580 2024-04-08 07:12:44.304073  08/04/2024 2024-04-08 07:12:44.304073  \n",
       "117581 2024-04-08 07:13:06.737073  08/04/2024 2024-04-08 07:13:06.737073  \n",
       "117582 2024-04-08 07:13:29.050073  08/04/2024 2024-04-08 07:13:29.050073  \n",
       "\n",
       "[1000 rows x 8 columns]"
      ]
     },
     "execution_count": 5978,
     "metadata": {},
     "output_type": "execute_result"
    }
   ],
   "source": [
    "data"
   ]
  },
  {
   "cell_type": "code",
   "execution_count": null,
   "metadata": {},
   "outputs": [
    {
     "data": {
      "text/plain": [
       "<Axes: >"
      ]
     },
     "execution_count": 5979,
     "metadata": {},
     "output_type": "execute_result"
    },
    {
     "data": {
      "image/png": "[encoded data removed]",
      "text/plain": [
       "<Figure size 640x480 with 1 Axes>"
      ]
     },
     "metadata": {},
     "output_type": "display_data"
    }
   ],
   "source": [
    "#data.tail(600)['Wh'].plot()\n",
    "data['Wh'].plot()"
   ]
  },
  {
   "cell_type": "code",
   "execution_count": null,
   "metadata": {},
   "outputs": [
    {
     "data": {
      "text/plain": [
       "116583    134.710373\n",
       "116584    134.539203\n",
       "116585    134.303302\n",
       "116586    134.428678\n",
       "116587    134.413621\n",
       "             ...    \n",
       "117578    162.925416\n",
       "117579    160.021336\n",
       "117580    161.848671\n",
       "117581    160.477867\n",
       "117582    161.340922\n",
       "Name: Wh, Length: 1000, dtype: float64"
      ]
     },
     "execution_count": 5980,
     "metadata": {},
     "output_type": "execute_result"
    }
   ],
   "source": [
    "data['Wh']"
   ]
  },
  {
   "cell_type": "markdown",
   "metadata": {},
   "source": [
    "# k kW window graph"
   ]
  },
  {
   "cell_type": "code",
   "execution_count": null,
   "metadata": {},
   "outputs": [
    {
     "data": {
      "image/png": "[encoded data removed]",
      "text/plain": [
       "<Figure size 1500x800 with 1 Axes>"
      ]
     },
     "metadata": {},
     "output_type": "display_data"
    }
   ],
   "source": [
    "fig, ax = plt.subplots()\n",
    "# the size of A4 paper\n",
    "fig.set_size_inches(15, 8)\n",
    "\n",
    "formatter = DateFormatter('%d/%m\\n%H:%M')\n",
    "ax.xaxis.set_major_formatter(formatter)\n",
    "\n",
    "# ticks sur axe des x\n",
    "major_ticks=1/30;minor_ticks=1/360\n",
    "ax.xaxis.set_major_locator(MultipleLocator(major_ticks))  # 1 major tick tous les 48 min\n",
    "ax.xaxis.set_minor_locator(MultipleLocator(minor_ticks))  # 1 minor ticks tous les 4 min\n",
    "ax.tick_params(which='both', width=3)\n",
    "ax.tick_params(which='major', length=15, color='r')\n",
    "ax.tick_params(which='minor', length=8, color='b')\n",
    "\n",
    "plt.title(f'Consommation {k} kW (Temps: {heure} heures {int(mn)} minutes {int(sec)} secondes)\\nDe {start} à {end}')\n",
    "plt.plot(data['dates'],data['Wh'])\n",
    "plt.ylabel('Wh')\n",
    "plt.xlabel('Time (heures)')\n",
    "plt.grid()\n"
   ]
  },
  {
   "cell_type": "code",
   "execution_count": null,
   "metadata": {},
   "outputs": [
    {
     "data": {
      "text/plain": [
       "<Axes: ylabel='Frequency'>"
      ]
     },
     "execution_count": 5982,
     "metadata": {},
     "output_type": "execute_result"
    },
    {
     "data": {
      "image/png": "[encoded data removed]",
      "text/plain": [
       "<Figure size 640x480 with 1 Axes>"
      ]
     },
     "metadata": {},
     "output_type": "display_data"
    }
   ],
   "source": [
    "data.kWh.plot.hist(bins=50,rwidth=0.8,grid=True)\n"
   ]
  },
  {
   "cell_type": "code",
   "execution_count": null,
   "metadata": {},
   "outputs": [
    {
     "data": {
      "text/html": [
       "<div>\n",
       "<style scoped>\n",
       "    .dataframe tbody tr th:only-of-type {\n",
       "        vertical-align: middle;\n",
       "    }\n",
       "\n",
       "    .dataframe tbody tr th {\n",
       "        vertical-align: top;\n",
       "    }\n",
       "\n",
       "    .dataframe thead th {\n",
       "        text-align: right;\n",
       "    }\n",
       "</style>\n",
       "<table border=\"1\" class=\"dataframe\">\n",
       "  <thead>\n",
       "    <tr style=\"text-align: right;\">\n",
       "      <th></th>\n",
       "      <th>Interval</th>\n",
       "      <th>kWh</th>\n",
       "      <th>sec</th>\n",
       "      <th>Wh</th>\n",
       "      <th>cumul(ms)</th>\n",
       "      <th>dates</th>\n",
       "      <th>days</th>\n",
       "    </tr>\n",
       "  </thead>\n",
       "  <tbody>\n",
       "    <tr>\n",
       "      <th>117578</th>\n",
       "      <td>22096</td>\n",
       "      <td>0.16</td>\n",
       "      <td>22.096</td>\n",
       "      <td>162.925416</td>\n",
       "      <td>2784774860</td>\n",
       "      <td>2024-04-08 07:11:59.564073</td>\n",
       "      <td>08/04/2024</td>\n",
       "    </tr>\n",
       "    <tr>\n",
       "      <th>117579</th>\n",
       "      <td>22497</td>\n",
       "      <td>0.16</td>\n",
       "      <td>22.497</td>\n",
       "      <td>160.021336</td>\n",
       "      <td>2784797357</td>\n",
       "      <td>2024-04-08 07:12:22.061073</td>\n",
       "      <td>08/04/2024</td>\n",
       "    </tr>\n",
       "    <tr>\n",
       "      <th>117580</th>\n",
       "      <td>22243</td>\n",
       "      <td>0.16</td>\n",
       "      <td>22.243</td>\n",
       "      <td>161.848671</td>\n",
       "      <td>2784819600</td>\n",
       "      <td>2024-04-08 07:12:44.304073</td>\n",
       "      <td>08/04/2024</td>\n",
       "    </tr>\n",
       "    <tr>\n",
       "      <th>117581</th>\n",
       "      <td>22433</td>\n",
       "      <td>0.16</td>\n",
       "      <td>22.433</td>\n",
       "      <td>160.477867</td>\n",
       "      <td>2784842033</td>\n",
       "      <td>2024-04-08 07:13:06.737073</td>\n",
       "      <td>08/04/2024</td>\n",
       "    </tr>\n",
       "    <tr>\n",
       "      <th>117582</th>\n",
       "      <td>22313</td>\n",
       "      <td>0.16</td>\n",
       "      <td>22.313</td>\n",
       "      <td>161.340922</td>\n",
       "      <td>2784864346</td>\n",
       "      <td>2024-04-08 07:13:29.050073</td>\n",
       "      <td>08/04/2024</td>\n",
       "    </tr>\n",
       "  </tbody>\n",
       "</table>\n",
       "</div>"
      ],
      "text/plain": [
       "        Interval   kWh     sec          Wh   cumul(ms)  \\\n",
       "117578     22096  0.16  22.096  162.925416  2784774860   \n",
       "117579     22497  0.16  22.497  160.021336  2784797357   \n",
       "117580     22243  0.16  22.243  161.848671  2784819600   \n",
       "117581     22433  0.16  22.433  160.477867  2784842033   \n",
       "117582     22313  0.16  22.313  161.340922  2784864346   \n",
       "\n",
       "                            dates        days  \n",
       "117578 2024-04-08 07:11:59.564073  08/04/2024  \n",
       "117579 2024-04-08 07:12:22.061073  08/04/2024  \n",
       "117580 2024-04-08 07:12:44.304073  08/04/2024  \n",
       "117581 2024-04-08 07:13:06.737073  08/04/2024  \n",
       "117582 2024-04-08 07:13:29.050073  08/04/2024  "
      ]
     },
     "execution_count": 5983,
     "metadata": {},
     "output_type": "execute_result"
    }
   ],
   "source": [
    "conso_data.tail()"
   ]
  },
  {
   "cell_type": "code",
   "execution_count": null,
   "metadata": {},
   "outputs": [
    {
     "data": {
      "image/png": "[encoded data removed]",
      "text/plain": [
       "<Figure size 640x480 with 1 Axes>"
      ]
     },
     "metadata": {},
     "output_type": "display_data"
    }
   ],
   "source": [
    "conso_data.tail(1000)['kWh'].plot()\n",
    "plt.grid()"
   ]
  },
  {
   "cell_type": "code",
   "execution_count": null,
   "metadata": {},
   "outputs": [
    {
     "data": {
      "text/plain": [
       "(2784864346000.0, 46414.40576666666)"
      ]
     },
     "execution_count": 5985,
     "metadata": {},
     "output_type": "execute_result"
    }
   ],
   "source": [
    "#plt.plot(conso_data['sec'])\n",
    "now = dt.datetime.now()\n",
    "last_cumul = np.array(conso_data['cumul(ms)'].tail(1))[0]*1000.0  # us\n",
    "last_cumul, last_cumul/60e6  # min"
   ]
  },
  {
   "cell_type": "code",
   "execution_count": null,
   "metadata": {},
   "outputs": [
    {
     "data": {
      "text/plain": [
       "(datetime.datetime(2024, 4, 8, 7, 13, 40, 488577),\n",
       " datetime.datetime(2024, 3, 7, 1, 39, 16, 142577))"
      ]
     },
     "execution_count": 5986,
     "metadata": {},
     "output_type": "execute_result"
    }
   ],
   "source": [
    "begin = now - dt.timedelta(microseconds=last_cumul)  #2023, 6, 24, 9, 14, (39, 942895) approximatif\n",
    "now, begin"
   ]
  },
  {
   "cell_type": "code",
   "execution_count": null,
   "metadata": {},
   "outputs": [
    {
     "data": {
      "text/plain": [
       "(117583, 2784865, 773.5736111111111)"
      ]
     },
     "execution_count": 5987,
     "metadata": {},
     "output_type": "execute_result"
    }
   ],
   "source": [
    "x = mdates.drange(begin,now,dt.timedelta(microseconds=1000000))  # seconds\n",
    "len(conso_data),len(x),len(x)/3600"
   ]
  },
  {
   "cell_type": "code",
   "execution_count": null,
   "metadata": {},
   "outputs": [],
   "source": [
    "def format_date(space=3):\n",
    "    plt.gca().xaxis.set_major_formatter(mdates.DateFormatter('%d/%m\\n%H:%M'))\n",
    "    plt.gca().xaxis.set_major_locator(mdates.HourLocator(space))\n",
    "    plt.gca().xaxis.set_major_locator(mdates.HourLocator(interval=space))\n",
    "    plt.gcf().autofmt_xdate()\n",
    "    plt.grid()"
   ]
  },
  {
   "cell_type": "code",
   "execution_count": null,
   "metadata": {},
   "outputs": [
    {
     "data": {
      "text/plain": [
       "732"
      ]
     },
     "execution_count": 5989,
     "metadata": {},
     "output_type": "execute_result"
    }
   ],
   "source": [
    "import numpy as np\n",
    "import datetime as dt\n",
    "import matplotlib.pyplot as plt\n",
    "base = dt.datetime(2005, 2, 1)\n",
    "dates = [base + dt.timedelta(hours=(2 * i)) for i in range(732)]\n",
    "N = len(dates)\n",
    "N\n"
   ]
  },
  {
   "cell_type": "code",
   "execution_count": null,
   "metadata": {},
   "outputs": [
    {
     "data": {
      "text/plain": [
       "61.0"
      ]
     },
     "execution_count": 5990,
     "metadata": {},
     "output_type": "execute_result"
    }
   ],
   "source": [
    "732/12 # 60 jours"
   ]
  },
  {
   "cell_type": "code",
   "execution_count": null,
   "metadata": {},
   "outputs": [
    {
     "data": {
      "text/plain": [
       "(datetime.datetime(2005, 2, 1, 0, 0), datetime.datetime(2005, 4, 2, 22, 0))"
      ]
     },
     "execution_count": 5991,
     "metadata": {},
     "output_type": "execute_result"
    }
   ],
   "source": [
    "dates[0],dates[-1]"
   ]
  },
  {
   "cell_type": "code",
   "execution_count": null,
   "metadata": {},
   "outputs": [
    {
     "data": {
      "image/png": "[encoded data removed]",
      "text/plain": [
       "<Figure size 600x600 with 3 Axes>"
      ]
     },
     "metadata": {},
     "output_type": "display_data"
    }
   ],
   "source": [
    "np.random.seed(19680801)\n",
    "y = np.cumsum(np.random.randn(N))\n",
    "\n",
    "fig, axs = plt.subplots(3, 1, layout='constrained', figsize=(6, 6))\n",
    "lims = [(np.datetime64('2005-02'), np.datetime64('2005-04')),\n",
    "        (np.datetime64('2005-02-03'), np.datetime64('2005-02-15')),\n",
    "        (np.datetime64('2005-02-03 11:00'), np.datetime64('2005-02-04 13:20'))]\n",
    "for nn, ax in enumerate(axs):\n",
    "    ax.plot(dates, y)\n",
    "    ax.set_xlim(lims[nn])\n",
    "    # rotate_labels...\n",
    "    for label in ax.get_xticklabels():\n",
    "        label.set_rotation(40)\n",
    "        label.set_horizontalalignment('right')\n",
    "axs[0].set_title('Default Date Formatter')\n",
    "plt.show()"
   ]
  },
  {
   "cell_type": "code",
   "execution_count": null,
   "metadata": {},
   "outputs": [
    {
     "data": {
      "text/plain": [
       "datetime.datetime(2005, 4, 2, 22, 0)"
      ]
     },
     "execution_count": 5993,
     "metadata": {},
     "output_type": "execute_result"
    }
   ],
   "source": [
    "t = dt.datetime(2005, 4, 2, 22, 0)\n",
    "t"
   ]
  }
 ],
 "metadata": {
  "kernelspec": {
   "display_name": "Python 3",
   "language": "python",
   "name": "python3"
  },
  "language_info": {
   "codemirror_mode": {
    "name": "ipython",
    "version": 3
   },
   "file_extension": ".py",
   "mimetype": "text/x-python",
   "name": "python",
   "nbconvert_exporter": "python",
   "pygments_lexer": "ipython3",
   "version": "undefined.undefined.undefined"
  },
  "orig_nbformat": 4
 },
 "nbformat": 4,
 "nbformat_minor": 2
}
