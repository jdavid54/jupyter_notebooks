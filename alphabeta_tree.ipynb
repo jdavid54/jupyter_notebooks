{
 "cells": [
  {
   "cell_type": "code",
   "execution_count": 1,
   "metadata": {},
   "outputs": [],
   "source": [
    "#!/usr/bin/env python\n",
    "# coding: utf-8\n",
    "import numpy as np\n",
    "debug = False"
   ]
  },
  {
   "cell_type": "code",
   "execution_count": 2,
   "metadata": {},
   "outputs": [],
   "source": [
    "class Node():\n",
    "    descendants = []\n",
    "    MAX = 10000\n",
    "    \n",
    "    def __init__(self, name,left, right, value, isMax=True):\n",
    "        self.name = name\n",
    "        self.left = left\n",
    "        self.right = right\n",
    "        self.alpha = -Node.MAX\n",
    "        self.beta = Node.MAX\n",
    "        self.value = value\n",
    "        self.isMax = isMax\n",
    "       \n",
    "    def __str__(self):\n",
    "        return '('+self.name+','+str(self.alpha)+','+str(self.beta)+','+str(self.left)+','+str(self.right)+','+str(self.value)+','+str(self.isMax)+')'\n",
    "    \n",
    "    def isTerminal(self):\n",
    "        return self.left == None\n",
    "    \n",
    "    def children(self):\n",
    "        print(self.left.name + ',' + self.right.name +'(ligne25)')\n",
    "        return [{'left' : self.left, 'right' : self.right}]\n",
    "    \n",
    "    def __all_children(self):   #private method\n",
    "        if self.isTerminal():\n",
    "            #if debug : print(self.name,'terminal')\n",
    "            return\n",
    "        else:\n",
    "            if debug : print(self.name, 'parent')\n",
    "            self.left.__all_children()\n",
    "            self.right.__all_children()\n",
    "            Node.descendants.append({'left' : self.left, 'right' : self.right})\n",
    "            return Node.descendants\n",
    "    \n",
    "    def all_children(self):  \n",
    "        Node.descendants = []\n",
    "        return self.__all_children()\n",
    "    \n",
    "    def Max_value(self):\n",
    "        if self.isTerminal(): return self.value\n",
    "        v = -Node.MAX\n",
    "        for c in self.children():\n",
    "            for side in ('left', 'right'):\n",
    "                w = c[side].Min_value()\n",
    "                if w > v : v = w\n",
    "                if w >= self.beta : return v\n",
    "                if w > self.alpha : self.alpha = w\n",
    "        return v\n",
    "                                      \n",
    "    def Min_value(self):\n",
    "        if self.isTerminal(): return self.value\n",
    "        v = Node.MAX\n",
    "        for c in self.children():\n",
    "            for side in ('left', 'right'):\n",
    "                w = c[side].Max_value()\n",
    "                if w < v : v = w\n",
    "                if w <= self.alpha : return v\n",
    "                if w < self.beta : self.beta = w\n",
    "        return v\n",
    "    \n",
    "    def minmax(self):\n",
    "        if self.isMax:\n",
    "            v = self.Max_value()\n",
    "        else:\n",
    "            v = self.Min_value()\n",
    "        return v\n",
    "    \n",
    "    def alphabeta(self):\n",
    "        #print('Calling alphabeta()')\n",
    "        if self.isTerminal(): print('value'); return self.value\n",
    "        if self.isMax:\n",
    "            for c in self.children():\n",
    "                for side in ('left', 'right'):\n",
    "                    print(self.name, side, '>', c[side].name, end=':')\n",
    "                    c[side].alpha, c[side].beta = self.alpha, self.beta\n",
    "                    self.alpha = max(self.alpha, c[side].alphabeta())                    \n",
    "                    if side =='left' and self.alpha >= self.beta : print(self.name,'right pruning (ligne81)'); break\n",
    "                    #print(side, c[side].name)\n",
    "                self.value = self.alpha\n",
    "            return self.alpha    \n",
    "        else:\n",
    "            for c in self.children():\n",
    "                for side in ('left', 'right'):\n",
    "                    print(self.name, side, '>', c[side].name, end=':')\n",
    "                    c[side].alpha, c[side].beta = self.alpha, self.beta\n",
    "                    self.beta = min(self.beta, c[side].alphabeta())\n",
    "                    #self.alpha = max(self.alpha,c[side].alpha)\n",
    "                    if side == 'left' and self.alpha >= self.beta : print(self.name,'right pruning (ligne92)'); break\n",
    "                    #print(side, c[side].name)\n",
    "                self.value = self.beta\n",
    "            return self.beta   \n",
    "        "
   ]
  },
  {
   "cell_type": "code",
   "execution_count": 3,
   "metadata": {},
   "outputs": [],
   "source": [
    "class Tree(Node):\n",
    "    set = []\n",
    "    depth = 0\n",
    "    \n",
    "    def __init__(self,depth):\n",
    "        self.set = []\n",
    "        self.depth = depth\n",
    "        print('Create tree')\n",
    "        for n in range(depth-1,-1,-1):\n",
    "            row = []\n",
    "            ismax = [True, False][n%2]\n",
    "            for r in range(2**n): \n",
    "                name = \"nodeL\"+str(n)+str(r)\n",
    "                node = Node(name,None,None,np.random.randint(randMax), ismax)\n",
    "                #if debug: print(node.name)\n",
    "                row.append(node)\n",
    "            if debug: print(row,len(row))\n",
    "            self.set.append(row)    \n",
    "        #if debug: print(self.set,len(self.set))\n",
    "        # connect nodes\n",
    "        for r in range(1,depth):\n",
    "            i = 0\n",
    "            for n in self.set[r]:\n",
    "                n.left = self.set[r-1][i]\n",
    "                i += 1\n",
    "                n.right = self.set[r-1][i]\n",
    "                i += 1\n",
    "        print('End create tree\\n')\n",
    "                \n",
    "    def __str__(self):\n",
    "        text = \"\"\n",
    "        for r in range(len(self.set)):\n",
    "            for n in self.set[r]:\n",
    "                text += str(r)+\",\"+str(n.left)+\",\"+str(n.right)+\"\\t\"                \n",
    "            text += \"\\n\"\n",
    "        return text\n",
    "    \n",
    "    def drawTree(self):\n",
    "        print('\\nDrawing tree')\n",
    "        for r in range(self.depth):            \n",
    "            if debug : print(['Node Min','Node Max'][self.set[r][0].isMax])\n",
    "            for n in self.set[r]:\n",
    "                if r:     #print((n.alpha,n.beta), end=';')\n",
    "                    if self.set[r][0].isMax:\n",
    "                        if debug:\n",
    "                            print((n.alpha,n.beta), end=';')\n",
    "                        else:\n",
    "                            print(n.alpha, end=',')\n",
    "                    else:\n",
    "                        if debug:\n",
    "                            print((n.alpha,n.beta), end=';')\n",
    "                        else:\n",
    "                            print(n.beta, end=',')\n",
    "                else:\n",
    "                    print(n.value, end=',')\n",
    "            print()"
   ]
  },
  {
   "cell_type": "code",
   "execution_count": 4,
   "metadata": {},
   "outputs": [
    {
     "name": "stdout",
     "output_type": "stream",
     "text": [
      "(A,-10000,10000,None,None,0,True)\n",
      "A\n"
     ]
    }
   ],
   "source": [
    "# test class Node\n",
    "nodeA  = Node('A',None,None,0)\n",
    "print(nodeA)\n",
    "print(nodeA.name)"
   ]
  },
  {
   "cell_type": "code",
   "execution_count": 5,
   "metadata": {},
   "outputs": [
    {
     "name": "stdout",
     "output_type": "stream",
     "text": [
      "True\n",
      "nodeA 0\n"
     ]
    }
   ],
   "source": [
    "# test Node methods\n",
    "print(nodeA.isTerminal())\n",
    "print('nodeA',nodeA.Max_value())"
   ]
  },
  {
   "cell_type": "code",
   "execution_count": 6,
   "metadata": {},
   "outputs": [],
   "source": [
    "# building tree\n",
    "nodeL3  = Node('L3',None,None, np.random.randint(50))\n",
    "nodeL4  = Node('L4',None,None, np.random.randint(50))\n",
    "nodeL6  = Node('L6',None,None, np.random.randint(50))\n",
    "nodeL7  = Node('L7',None,None, np.random.randint(50))\n",
    "nodeL2  = Node('L2',nodeL3,nodeL4, 0,False)\n",
    "nodeL5  = Node('L5',nodeL6,nodeL7, 0,False)\n",
    "nodeL1  = Node('L1',nodeL2,nodeL5,0)"
   ]
  },
  {
   "cell_type": "code",
   "execution_count": 7,
   "metadata": {},
   "outputs": [
    {
     "name": "stdout",
     "output_type": "stream",
     "text": [
      "Leaf values : 44 39 17 12\n",
      "nodeL1 left : (L2,-10000,10000,(L3,-10000,10000,None,None,44,True),(L4,-10000,10000,None,None,39,True),0,False)\n",
      "nodeL1 right : (L5,-10000,10000,(L6,-10000,10000,None,None,17,True),(L7,-10000,10000,None,None,12,True),0,False)\n"
     ]
    }
   ],
   "source": [
    "# print attrib\n",
    "print('Leaf values :',nodeL3.value, nodeL4.value, nodeL6.value, nodeL7.value)\n",
    "print('nodeL1 left :',nodeL1.left)\n",
    "print('nodeL1 right :',nodeL1.right)"
   ]
  },
  {
   "cell_type": "code",
   "execution_count": 8,
   "metadata": {},
   "outputs": [
    {
     "name": "stdout",
     "output_type": "stream",
     "text": [
      "status nodeL3 : (L3,-10000,10000,None,None,44,True)\n",
      "status nodeL2 : (L2,-10000,10000,(L3,-10000,10000,None,None,44,True),(L4,-10000,10000,None,None,39,True),0,False)\n"
     ]
    }
   ],
   "source": [
    "# method __str__\n",
    "print('status nodeL3 :',nodeL3)\n",
    "print('status nodeL2 :',nodeL2)"
   ]
  },
  {
   "cell_type": "code",
   "execution_count": 9,
   "metadata": {},
   "outputs": [
    {
     "name": "stdout",
     "output_type": "stream",
     "text": [
      "L2,L5(ligne25)\n",
      "nodeL1 children : [{'left': <__main__.Node object at 0x7fd34e3bd290>, 'right': <__main__.Node object at 0x7fd34e3bc190>}]\n",
      "L3,L4(ligne25)\n",
      "nodeL1 left child : [{'left': <__main__.Node object at 0x7fd34e378310>, 'right': <__main__.Node object at 0x7fd34e502cd0>}]\n"
     ]
    }
   ],
   "source": [
    "# method children()\n",
    "print('nodeL1 children :',nodeL1.children())\n",
    "print('nodeL1 left child :',nodeL1.left.children())"
   ]
  },
  {
   "cell_type": "code",
   "execution_count": 10,
   "metadata": {},
   "outputs": [
    {
     "name": "stdout",
     "output_type": "stream",
     "text": [
      "nodeL1 all children : [{'left': <__main__.Node object at 0x7fd34e378310>, 'right': <__main__.Node object at 0x7fd34e502cd0>}, {'left': <__main__.Node object at 0x7fd34e379e50>, 'right': <__main__.Node object at 0x7fd34e3bc0d0>}, {'left': <__main__.Node object at 0x7fd34e3bd290>, 'right': <__main__.Node object at 0x7fd34e3bc190>}]\n",
      "nodeL5 all children : [{'left': <__main__.Node object at 0x7fd34e379e50>, 'right': <__main__.Node object at 0x7fd34e3bc0d0>}]\n"
     ]
    }
   ],
   "source": [
    "# method all_children\n",
    "print('nodeL1 all children :',nodeL1.all_children())\n",
    "print('nodeL5 all children :',nodeL5.all_children())"
   ]
  },
  {
   "cell_type": "code",
   "execution_count": 11,
   "metadata": {},
   "outputs": [
    {
     "name": "stdout",
     "output_type": "stream",
     "text": [
      "nodeL1 L3\n"
     ]
    }
   ],
   "source": [
    "# chain call\n",
    "print('nodeL1',nodeL1.all_children()[0]['left'].name)"
   ]
  },
  {
   "cell_type": "code",
   "execution_count": 12,
   "metadata": {},
   "outputs": [
    {
     "name": "stdout",
     "output_type": "stream",
     "text": [
      "L2,L5(ligne25)\n",
      "L3,L4(ligne25)\n",
      "L6,L7(ligne25)\n",
      "nodeL1 max_value : 39\n",
      "L3,L4(ligne25)\n",
      "nodeL2 min_value : 39\n",
      "L3,L4(ligne25)\n",
      "nodeL2 minmax : 39\n"
     ]
    }
   ],
   "source": [
    "# method Max_value()\n",
    "print('nodeL1 max_value :',nodeL1.Max_value())\n",
    "# method Min_value()\n",
    "print('nodeL2 min_value :',nodeL2.Min_value())\n",
    "# method minmax()\n",
    "print('nodeL2 minmax :',nodeL2.minmax())"
   ]
  },
  {
   "cell_type": "code",
   "execution_count": 13,
   "metadata": {},
   "outputs": [
    {
     "name": "stdout",
     "output_type": "stream",
     "text": [
      "L6,L7(ligne25)\n",
      "nodeL5 min_value : 12\n",
      "nodeL3 max_value : 44\n"
     ]
    }
   ],
   "source": [
    "print('nodeL5 min_value :',nodeL5.Min_value())\n",
    "print('nodeL3 max_value :',nodeL3.Max_value())   # terminal so return value"
   ]
  },
  {
   "cell_type": "code",
   "execution_count": 14,
   "metadata": {},
   "outputs": [
    {
     "name": "stdout",
     "output_type": "stream",
     "text": [
      "L2,L5(ligne25)\n",
      "L3,L4(ligne25)\n",
      "L6,L7(ligne25)\n",
      "nodeL1 minmax : 39\n",
      "L2,L5(ligne25)\n",
      "L3,L4(ligne25)\n",
      "L6,L7(ligne25)\n",
      "nodeL1 max_value : 39\n"
     ]
    }
   ],
   "source": [
    "#comparing methods\n",
    "print('nodeL1 minmax :',nodeL1.minmax())\n",
    "print('nodeL1 max_value :',nodeL1.Max_value())"
   ]
  },
  {
   "cell_type": "code",
   "execution_count": 15,
   "metadata": {},
   "outputs": [
    {
     "name": "stdout",
     "output_type": "stream",
     "text": [
      "L2,L5(ligne25)\n",
      "L3,L4(ligne25)\n",
      "L6,L7(ligne25)\n",
      "39\n",
      "L3,L4(ligne25)\n",
      "L6,L7(ligne25)\n",
      "39 12\n",
      "44 39 17 12\n"
     ]
    }
   ],
   "source": [
    "# display tree\n",
    "print(nodeL1.minmax())\n",
    "print(nodeL2.minmax(), nodeL5.minmax())\n",
    "print(nodeL3.minmax(), nodeL4.minmax(), nodeL6.minmax(), nodeL7.minmax())"
   ]
  },
  {
   "cell_type": "code",
   "execution_count": 16,
   "metadata": {},
   "outputs": [
    {
     "name": "stdout",
     "output_type": "stream",
     "text": [
      "L2,L5(ligne25)\n",
      "L1 left > L2:L3,L4(ligne25)\n",
      "L2 left > L3:value\n",
      "L2 right > L4:value\n",
      "L1 right > L5:L6,L7(ligne25)\n",
      "L5 left > L6:value\n",
      "L5 right pruning (ligne92)\n",
      "39\n",
      "39\n",
      "39 17\n",
      "44 39 17 12\n"
     ]
    }
   ],
   "source": [
    "# method alphabeta\n",
    "print(nodeL1.alphabeta())\n",
    "print(nodeL1.value)\n",
    "print(nodeL2.value, nodeL5.value)\n",
    "print(nodeL3.value, nodeL4.value, nodeL6.value, nodeL7.value)"
   ]
  },
  {
   "cell_type": "code",
   "execution_count": 17,
   "metadata": {},
   "outputs": [],
   "source": [
    "# test class Tree\n",
    "depth = 5\n",
    "randMax = 10"
   ]
  },
  {
   "cell_type": "code",
   "execution_count": 18,
   "metadata": {},
   "outputs": [
    {
     "name": "stdout",
     "output_type": "stream",
     "text": [
      "Create tree\n",
      "End create tree\n",
      "\n",
      "0,None,None\t0,None,None\t0,None,None\t0,None,None\t0,None,None\t0,None,None\t0,None,None\t0,None,None\t0,None,None\t0,None,None\t0,None,None\t0,None,None\t0,None,None\t0,None,None\t0,None,None\t0,None,None\t\n",
      "1,(nodeL40,-10000,10000,None,None,2,True),(nodeL41,-10000,10000,None,None,5,True)\t1,(nodeL42,-10000,10000,None,None,1,True),(nodeL43,-10000,10000,None,None,5,True)\t1,(nodeL44,-10000,10000,None,None,0,True),(nodeL45,-10000,10000,None,None,5,True)\t1,(nodeL46,-10000,10000,None,None,5,True),(nodeL47,-10000,10000,None,None,6,True)\t1,(nodeL48,-10000,10000,None,None,8,True),(nodeL49,-10000,10000,None,None,4,True)\t1,(nodeL410,-10000,10000,None,None,5,True),(nodeL411,-10000,10000,None,None,4,True)\t1,(nodeL412,-10000,10000,None,None,7,True),(nodeL413,-10000,10000,None,None,1,True)\t1,(nodeL414,-10000,10000,None,None,7,True),(nodeL415,-10000,10000,None,None,8,True)\t\n",
      "2,(nodeL30,-10000,10000,(nodeL40,-10000,10000,None,None,2,True),(nodeL41,-10000,10000,None,None,5,True),8,False),(nodeL31,-10000,10000,(nodeL42,-10000,10000,None,None,1,True),(nodeL43,-10000,10000,None,None,5,True),7,False)\t2,(nodeL32,-10000,10000,(nodeL44,-10000,10000,None,None,0,True),(nodeL45,-10000,10000,None,None,5,True),5,False),(nodeL33,-10000,10000,(nodeL46,-10000,10000,None,None,5,True),(nodeL47,-10000,10000,None,None,6,True),0,False)\t2,(nodeL34,-10000,10000,(nodeL48,-10000,10000,None,None,8,True),(nodeL49,-10000,10000,None,None,4,True),7,False),(nodeL35,-10000,10000,(nodeL410,-10000,10000,None,None,5,True),(nodeL411,-10000,10000,None,None,4,True),5,False)\t2,(nodeL36,-10000,10000,(nodeL412,-10000,10000,None,None,7,True),(nodeL413,-10000,10000,None,None,1,True),7,False),(nodeL37,-10000,10000,(nodeL414,-10000,10000,None,None,7,True),(nodeL415,-10000,10000,None,None,8,True),8,False)\t\n",
      "3,(nodeL20,-10000,10000,(nodeL30,-10000,10000,(nodeL40,-10000,10000,None,None,2,True),(nodeL41,-10000,10000,None,None,5,True),8,False),(nodeL31,-10000,10000,(nodeL42,-10000,10000,None,None,1,True),(nodeL43,-10000,10000,None,None,5,True),7,False),5,True),(nodeL21,-10000,10000,(nodeL32,-10000,10000,(nodeL44,-10000,10000,None,None,0,True),(nodeL45,-10000,10000,None,None,5,True),5,False),(nodeL33,-10000,10000,(nodeL46,-10000,10000,None,None,5,True),(nodeL47,-10000,10000,None,None,6,True),0,False),3,True)\t3,(nodeL22,-10000,10000,(nodeL34,-10000,10000,(nodeL48,-10000,10000,None,None,8,True),(nodeL49,-10000,10000,None,None,4,True),7,False),(nodeL35,-10000,10000,(nodeL410,-10000,10000,None,None,5,True),(nodeL411,-10000,10000,None,None,4,True),5,False),4,True),(nodeL23,-10000,10000,(nodeL36,-10000,10000,(nodeL412,-10000,10000,None,None,7,True),(nodeL413,-10000,10000,None,None,1,True),7,False),(nodeL37,-10000,10000,(nodeL414,-10000,10000,None,None,7,True),(nodeL415,-10000,10000,None,None,8,True),8,False),1,True)\t\n",
      "4,(nodeL10,-10000,10000,(nodeL20,-10000,10000,(nodeL30,-10000,10000,(nodeL40,-10000,10000,None,None,2,True),(nodeL41,-10000,10000,None,None,5,True),8,False),(nodeL31,-10000,10000,(nodeL42,-10000,10000,None,None,1,True),(nodeL43,-10000,10000,None,None,5,True),7,False),5,True),(nodeL21,-10000,10000,(nodeL32,-10000,10000,(nodeL44,-10000,10000,None,None,0,True),(nodeL45,-10000,10000,None,None,5,True),5,False),(nodeL33,-10000,10000,(nodeL46,-10000,10000,None,None,5,True),(nodeL47,-10000,10000,None,None,6,True),0,False),3,True),0,False),(nodeL11,-10000,10000,(nodeL22,-10000,10000,(nodeL34,-10000,10000,(nodeL48,-10000,10000,None,None,8,True),(nodeL49,-10000,10000,None,None,4,True),7,False),(nodeL35,-10000,10000,(nodeL410,-10000,10000,None,None,5,True),(nodeL411,-10000,10000,None,None,4,True),5,False),4,True),(nodeL23,-10000,10000,(nodeL36,-10000,10000,(nodeL412,-10000,10000,None,None,7,True),(nodeL413,-10000,10000,None,None,1,True),7,False),(nodeL37,-10000,10000,(nodeL414,-10000,10000,None,None,7,True),(nodeL415,-10000,10000,None,None,8,True),8,False),1,True),0,False)\t\n",
      "\n",
      "(nodeL00,-10000,10000,(nodeL10,-10000,10000,(nodeL20,-10000,10000,(nodeL30,-10000,10000,(nodeL40,-10000,10000,None,None,2,True),(nodeL41,-10000,10000,None,None,5,True),8,False),(nodeL31,-10000,10000,(nodeL42,-10000,10000,None,None,1,True),(nodeL43,-10000,10000,None,None,5,True),7,False),5,True),(nodeL21,-10000,10000,(nodeL32,-10000,10000,(nodeL44,-10000,10000,None,None,0,True),(nodeL45,-10000,10000,None,None,5,True),5,False),(nodeL33,-10000,10000,(nodeL46,-10000,10000,None,None,5,True),(nodeL47,-10000,10000,None,None,6,True),0,False),3,True),0,False),(nodeL11,-10000,10000,(nodeL22,-10000,10000,(nodeL34,-10000,10000,(nodeL48,-10000,10000,None,None,8,True),(nodeL49,-10000,10000,None,None,4,True),7,False),(nodeL35,-10000,10000,(nodeL410,-10000,10000,None,None,5,True),(nodeL411,-10000,10000,None,None,4,True),5,False),4,True),(nodeL23,-10000,10000,(nodeL36,-10000,10000,(nodeL412,-10000,10000,None,None,7,True),(nodeL413,-10000,10000,None,None,1,True),7,False),(nodeL37,-10000,10000,(nodeL414,-10000,10000,None,None,7,True),(nodeL415,-10000,10000,None,None,8,True),8,False),1,True),0,False),0,True)\n"
     ]
    }
   ],
   "source": [
    "# create tree\n",
    "t = Tree(depth)\n",
    "print(t)\n",
    "print(t.set[depth-1][0])"
   ]
  },
  {
   "cell_type": "code",
   "execution_count": 19,
   "metadata": {},
   "outputs": [
    {
     "name": "stdout",
     "output_type": "stream",
     "text": [
      "Scanning tree\n",
      "nodeL00:nodeL10,nodeL11(ligne25)\n",
      "nodeL00 left > nodeL10:nodeL20,nodeL21(ligne25)\n",
      "nodeL10 left > nodeL20:nodeL30,nodeL31(ligne25)\n",
      "nodeL20 left > nodeL30:nodeL40,nodeL41(ligne25)\n",
      "nodeL30 left > nodeL40:value\n",
      "nodeL30 right > nodeL41:value\n",
      "nodeL20 right > nodeL31:nodeL42,nodeL43(ligne25)\n",
      "nodeL31 left > nodeL42:value\n",
      "nodeL31 right pruning (ligne92)\n",
      "nodeL10 right > nodeL21:nodeL32,nodeL33(ligne25)\n",
      "nodeL21 left > nodeL32:nodeL44,nodeL45(ligne25)\n",
      "nodeL32 left > nodeL44:value\n",
      "nodeL32 right > nodeL45:value\n",
      "nodeL21 right > nodeL33:nodeL46,nodeL47(ligne25)\n",
      "nodeL33 left > nodeL46:value\n",
      "nodeL33 right > nodeL47:value\n",
      "nodeL00 right > nodeL11:nodeL22,nodeL23(ligne25)\n",
      "nodeL11 left > nodeL22:nodeL34,nodeL35(ligne25)\n",
      "nodeL22 left > nodeL34:nodeL48,nodeL49(ligne25)\n",
      "nodeL34 left > nodeL48:value\n",
      "nodeL34 right > nodeL49:value\n",
      "nodeL22 right > nodeL35:nodeL410,nodeL411(ligne25)\n",
      "nodeL35 left > nodeL410:value\n",
      "nodeL35 right > nodeL411:value\n",
      "nodeL11 right > nodeL23:nodeL36,nodeL37(ligne25)\n",
      "nodeL23 left > nodeL36:nodeL412,nodeL413(ligne25)\n",
      "nodeL36 left > nodeL412:value\n",
      "nodeL36 right > nodeL413:value\n",
      "nodeL23 right > nodeL37:nodeL414,nodeL415(ligne25)\n",
      "nodeL37 left > nodeL414:value\n",
      "nodeL37 right > nodeL415:value\n"
     ]
    },
    {
     "data": {
      "text/plain": [
       "4"
      ]
     },
     "execution_count": 19,
     "metadata": {},
     "output_type": "execute_result"
    }
   ],
   "source": [
    "print('Scanning tree')\n",
    "print(t.set[depth-1][0].name, end=':')\n",
    "t.set[depth-1][0].alphabeta()\n",
    "#print('root value',t.set[depth-1][0].alphabeta())"
   ]
  },
  {
   "cell_type": "code",
   "execution_count": 20,
   "metadata": {},
   "outputs": [
    {
     "name": "stdout",
     "output_type": "stream",
     "text": [
      "\n",
      "Drawing tree\n",
      "2,5,1,5,0,5,5,6,8,4,5,4,7,1,7,8,\n",
      "2,1,0,2,4,4,1,4,\n",
      "2,2,4,4,\n",
      "2,4,\n",
      "4,\n"
     ]
    }
   ],
   "source": [
    "# draw inverse tree\n",
    "t.drawTree()"
   ]
  },
  {
   "cell_type": "code",
   "execution_count": 21,
   "metadata": {},
   "outputs": [
    {
     "name": "stdout",
     "output_type": "stream",
     "text": [
      "Node Max\n",
      "2,5,1,5,0,5,5,6,8,4,5,4,7,1,7,8,\n",
      "Node Min\n",
      "(-10000, 2);(2, 1);(-10000, 0);(0, 2);(2, 4);(4, 4);(2, 1);(2, 4);\n",
      "Node Max\n",
      "(2, 10000);(2, 2);(4, 10000);(4, 4);\n",
      "Node Min\n",
      "(-10000, 2);(2, 4);\n",
      "Node Max\n",
      "(4, 10000);\n",
      "nodeL10,nodeL11(ligne25)\n",
      "nodeL00 left > nodeL10:nodeL20,nodeL21(ligne25)\n",
      "nodeL10 left > nodeL20:nodeL30,nodeL31(ligne25)\n",
      "nodeL20 left > nodeL30:nodeL40,nodeL41(ligne25)\n",
      "nodeL30 left > nodeL40:value\n",
      "nodeL30 right pruning (ligne92)\n",
      "nodeL20 right > nodeL31:nodeL42,nodeL43(ligne25)\n",
      "nodeL31 left > nodeL42:value\n",
      "nodeL31 right pruning (ligne92)\n",
      "nodeL10 right pruning (ligne92)\n",
      "nodeL00 right > nodeL11:nodeL22,nodeL23(ligne25)\n",
      "nodeL11 left > nodeL22:nodeL34,nodeL35(ligne25)\n",
      "nodeL22 left > nodeL34:nodeL48,nodeL49(ligne25)\n",
      "nodeL34 left > nodeL48:value\n",
      "nodeL34 right > nodeL49:value\n",
      "nodeL22 right > nodeL35:nodeL410,nodeL411(ligne25)\n",
      "nodeL35 left > nodeL410:value\n",
      "nodeL35 right > nodeL411:value\n",
      "nodeL11 right pruning (ligne92)\n",
      "4\n"
     ]
    }
   ],
   "source": [
    "\n",
    "for r in range(depth):\n",
    "    print(['Node Min','Node Max'][t.set[r][0].isMax])\n",
    "    for n in t.set[r]:\n",
    "        if r:\n",
    "            print((n.alpha,n.beta), end=';')\n",
    "        else:\n",
    "            print(n.value, end=',')\n",
    "    print()\n",
    "\n",
    "print(t.set[4][0].alphabeta())"
   ]
  },
  {
   "cell_type": "code",
   "execution_count": null,
   "metadata": {},
   "outputs": [],
   "source": []
  }
 ],
 "metadata": {
  "kernelspec": {
   "display_name": "Python 3.11.0b5 64-bit",
   "language": "python",
   "name": "python3"
  },
  "language_info": {
   "codemirror_mode": {
    "name": "ipython",
    "version": 3
   },
   "file_extension": ".py",
   "mimetype": "text/x-python",
   "name": "python",
   "nbconvert_exporter": "python",
   "pygments_lexer": "ipython3",
   "version": "3.11.0b5"
  },
  "vscode": {
   "interpreter": {
    "hash": "aee8b7b246df8f9039afb4144a1f6fd8d2ca17a180786b69acc140d282b71a49"
   }
  }
 },
 "nbformat": 4,
 "nbformat_minor": 2
}
