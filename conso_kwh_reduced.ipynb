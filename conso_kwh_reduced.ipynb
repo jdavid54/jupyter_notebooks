{
 "cells": [
  {
   "cell_type": "code",
   "execution_count": 26,
   "metadata": {},
   "outputs": [],
   "source": [
    "import pandas as pd\n",
    "import numpy as np\n",
    "import matplotlib.pyplot as plt\n",
    "import matplotlib.dates as mdates\n",
    "import matplotlib.ticker as ticker\n",
    "from matplotlib.axis import Axis\n",
    "import datetime as dt"
   ]
  },
  {
   "cell_type": "code",
   "execution_count": 27,
   "metadata": {},
   "outputs": [],
   "source": [
    "def get_data2(filename):    \n",
    "    data = pd.read_csv(filename, names=[\"Interval\",\"kWh\"])\n",
    "    return data"
   ]
  },
  {
   "cell_type": "code",
   "execution_count": 28,
   "metadata": {},
   "outputs": [
    {
     "name": "stdout",
     "output_type": "stream",
     "text": [
      "<class 'pandas.core.frame.DataFrame'>\n",
      "RangeIndex: 207661 entries, 0 to 207660\n",
      "Data columns (total 2 columns):\n",
      " #   Column    Non-Null Count   Dtype  \n",
      "---  ------    --------------   -----  \n",
      " 0   Interval  207661 non-null  int64  \n",
      " 1   kWh       207661 non-null  float64\n",
      "dtypes: float64(1), int64(1)\n",
      "memory usage: 3.2 MB\n"
     ]
    }
   ],
   "source": [
    "conso_file = r\"Y:\\Documents\\conso.csv\"\n",
    "conso_data = get_data2(conso_file)\n",
    "conso_data.info()"
   ]
  },
  {
   "cell_type": "code",
   "execution_count": 29,
   "metadata": {},
   "outputs": [
    {
     "data": {
      "text/plain": [
       "<Axes: >"
      ]
     },
     "execution_count": 29,
     "metadata": {},
     "output_type": "execute_result"
    },
    {
     "data": {
      "image/png": "[encoded data removed]",
      "text/plain": [
       "<Figure size 640x480 with 1 Axes>"
      ]
     },
     "metadata": {},
     "output_type": "display_data"
    }
   ],
   "source": [
    "conso_data['kWh'].plot()"
   ]
  },
  {
   "cell_type": "code",
   "execution_count": 30,
   "metadata": {},
   "outputs": [
    {
     "data": {
      "text/plain": [
       "207660"
      ]
     },
     "execution_count": 30,
     "metadata": {},
     "output_type": "execute_result"
    }
   ],
   "source": [
    "l=len(conso_data)-1\n",
    "l"
   ]
  },
  {
   "cell_type": "code",
   "execution_count": 31,
   "metadata": {},
   "outputs": [],
   "source": [
    "conso_data['sec']=conso_data['Interval']/1000\n",
    "conso_data['Wh']=3600000/conso_data['Interval']\n",
    "conso_data['cumul(ms)']=conso_data['Interval'].cumsum(axis=0)"
   ]
  },
  {
   "cell_type": "code",
   "execution_count": 32,
   "metadata": {},
   "outputs": [
    {
     "data": {
      "text/html": [
       "<div>\n",
       "<style scoped>\n",
       "    .dataframe tbody tr th:only-of-type {\n",
       "        vertical-align: middle;\n",
       "    }\n",
       "\n",
       "    .dataframe tbody tr th {\n",
       "        vertical-align: top;\n",
       "    }\n",
       "\n",
       "    .dataframe thead th {\n",
       "        text-align: right;\n",
       "    }\n",
       "</style>\n",
       "<table border=\"1\" class=\"dataframe\">\n",
       "  <thead>\n",
       "    <tr style=\"text-align: right;\">\n",
       "      <th></th>\n",
       "      <th>Interval</th>\n",
       "      <th>kWh</th>\n",
       "      <th>sec</th>\n",
       "      <th>Wh</th>\n",
       "      <th>cumul(ms)</th>\n",
       "    </tr>\n",
       "  </thead>\n",
       "  <tbody>\n",
       "    <tr>\n",
       "      <th>207656</th>\n",
       "      <td>2405</td>\n",
       "      <td>1.50</td>\n",
       "      <td>2.405</td>\n",
       "      <td>1496.881497</td>\n",
       "      <td>4946670540</td>\n",
       "    </tr>\n",
       "    <tr>\n",
       "      <th>207657</th>\n",
       "      <td>2502</td>\n",
       "      <td>1.44</td>\n",
       "      <td>2.502</td>\n",
       "      <td>1438.848921</td>\n",
       "      <td>4946673042</td>\n",
       "    </tr>\n",
       "    <tr>\n",
       "      <th>207658</th>\n",
       "      <td>14631</td>\n",
       "      <td>0.25</td>\n",
       "      <td>14.631</td>\n",
       "      <td>246.052901</td>\n",
       "      <td>4946687673</td>\n",
       "    </tr>\n",
       "    <tr>\n",
       "      <th>207659</th>\n",
       "      <td>18364</td>\n",
       "      <td>0.20</td>\n",
       "      <td>18.364</td>\n",
       "      <td>196.035722</td>\n",
       "      <td>4946706037</td>\n",
       "    </tr>\n",
       "    <tr>\n",
       "      <th>207660</th>\n",
       "      <td>18448</td>\n",
       "      <td>0.19</td>\n",
       "      <td>18.448</td>\n",
       "      <td>195.143105</td>\n",
       "      <td>4946724485</td>\n",
       "    </tr>\n",
       "  </tbody>\n",
       "</table>\n",
       "</div>"
      ],
      "text/plain": [
       "        Interval   kWh     sec           Wh   cumul(ms)\n",
       "207656      2405  1.50   2.405  1496.881497  4946670540\n",
       "207657      2502  1.44   2.502  1438.848921  4946673042\n",
       "207658     14631  0.25  14.631   246.052901  4946687673\n",
       "207659     18364  0.20  18.364   196.035722  4946706037\n",
       "207660     18448  0.19  18.448   195.143105  4946724485"
      ]
     },
     "execution_count": 32,
     "metadata": {},
     "output_type": "execute_result"
    }
   ],
   "source": [
    "conso_data.tail()"
   ]
  },
  {
   "cell_type": "code",
   "execution_count": 33,
   "metadata": {},
   "outputs": [
    {
     "data": {
      "text/plain": [
       "4946724485000"
      ]
     },
     "execution_count": 33,
     "metadata": {},
     "output_type": "execute_result"
    }
   ],
   "source": [
    "cumtime= int(conso_data._get_value(l,'cumul(ms)')*1000)  # convert to microseconds\n",
    "cumtime"
   ]
  },
  {
   "cell_type": "code",
   "execution_count": 34,
   "metadata": {},
   "outputs": [
    {
     "data": {
      "text/plain": [
       "datetime.datetime(2024, 3, 7, 1, 54, 37, 125143)"
      ]
     },
     "execution_count": 34,
     "metadata": {},
     "output_type": "execute_result"
    }
   ],
   "source": [
    "from datetime import datetime, timedelta\n",
    "now = datetime.now()\n",
    "# conso.csv dynamique\n",
    "base = now - timedelta(microseconds=cumtime)\n",
    "base  # date de début"
   ]
  },
  {
   "cell_type": "code",
   "execution_count": 35,
   "metadata": {},
   "outputs": [
    {
     "data": {
      "text/html": [
       "<div>\n",
       "<style scoped>\n",
       "    .dataframe tbody tr th:only-of-type {\n",
       "        vertical-align: middle;\n",
       "    }\n",
       "\n",
       "    .dataframe tbody tr th {\n",
       "        vertical-align: top;\n",
       "    }\n",
       "\n",
       "    .dataframe thead th {\n",
       "        text-align: right;\n",
       "    }\n",
       "</style>\n",
       "<table border=\"1\" class=\"dataframe\">\n",
       "  <thead>\n",
       "    <tr style=\"text-align: right;\">\n",
       "      <th></th>\n",
       "      <th>Interval</th>\n",
       "      <th>kWh</th>\n",
       "      <th>sec</th>\n",
       "      <th>Wh</th>\n",
       "      <th>cumul(ms)</th>\n",
       "      <th>dates</th>\n",
       "      <th>days</th>\n",
       "    </tr>\n",
       "  </thead>\n",
       "  <tbody>\n",
       "    <tr>\n",
       "      <th>0</th>\n",
       "      <td>26289</td>\n",
       "      <td>0.14</td>\n",
       "      <td>26.289</td>\n",
       "      <td>136.939404</td>\n",
       "      <td>26289</td>\n",
       "      <td>2024-03-07 01:55:03.414143</td>\n",
       "      <td>07/03/24</td>\n",
       "    </tr>\n",
       "    <tr>\n",
       "      <th>1</th>\n",
       "      <td>26243</td>\n",
       "      <td>0.14</td>\n",
       "      <td>26.243</td>\n",
       "      <td>137.179438</td>\n",
       "      <td>52532</td>\n",
       "      <td>2024-03-07 01:55:29.657143</td>\n",
       "      <td>07/03/24</td>\n",
       "    </tr>\n",
       "    <tr>\n",
       "      <th>2</th>\n",
       "      <td>25885</td>\n",
       "      <td>0.14</td>\n",
       "      <td>25.885</td>\n",
       "      <td>139.076685</td>\n",
       "      <td>78417</td>\n",
       "      <td>2024-03-07 01:55:55.542143</td>\n",
       "      <td>07/03/24</td>\n",
       "    </tr>\n",
       "    <tr>\n",
       "      <th>3</th>\n",
       "      <td>25754</td>\n",
       "      <td>0.14</td>\n",
       "      <td>25.754</td>\n",
       "      <td>139.784111</td>\n",
       "      <td>104171</td>\n",
       "      <td>2024-03-07 01:56:21.296143</td>\n",
       "      <td>07/03/24</td>\n",
       "    </tr>\n",
       "    <tr>\n",
       "      <th>4</th>\n",
       "      <td>25774</td>\n",
       "      <td>0.14</td>\n",
       "      <td>25.774</td>\n",
       "      <td>139.675642</td>\n",
       "      <td>129945</td>\n",
       "      <td>2024-03-07 01:56:47.070143</td>\n",
       "      <td>07/03/24</td>\n",
       "    </tr>\n",
       "    <tr>\n",
       "      <th>...</th>\n",
       "      <td>...</td>\n",
       "      <td>...</td>\n",
       "      <td>...</td>\n",
       "      <td>...</td>\n",
       "      <td>...</td>\n",
       "      <td>...</td>\n",
       "      <td>...</td>\n",
       "    </tr>\n",
       "    <tr>\n",
       "      <th>207656</th>\n",
       "      <td>2405</td>\n",
       "      <td>1.50</td>\n",
       "      <td>2.405</td>\n",
       "      <td>1496.881497</td>\n",
       "      <td>4946670540</td>\n",
       "      <td>2024-05-03 07:59:07.665143</td>\n",
       "      <td>03/05/24</td>\n",
       "    </tr>\n",
       "    <tr>\n",
       "      <th>207657</th>\n",
       "      <td>2502</td>\n",
       "      <td>1.44</td>\n",
       "      <td>2.502</td>\n",
       "      <td>1438.848921</td>\n",
       "      <td>4946673042</td>\n",
       "      <td>2024-05-03 07:59:10.167143</td>\n",
       "      <td>03/05/24</td>\n",
       "    </tr>\n",
       "    <tr>\n",
       "      <th>207658</th>\n",
       "      <td>14631</td>\n",
       "      <td>0.25</td>\n",
       "      <td>14.631</td>\n",
       "      <td>246.052901</td>\n",
       "      <td>4946687673</td>\n",
       "      <td>2024-05-03 07:59:24.798143</td>\n",
       "      <td>03/05/24</td>\n",
       "    </tr>\n",
       "    <tr>\n",
       "      <th>207659</th>\n",
       "      <td>18364</td>\n",
       "      <td>0.20</td>\n",
       "      <td>18.364</td>\n",
       "      <td>196.035722</td>\n",
       "      <td>4946706037</td>\n",
       "      <td>2024-05-03 07:59:43.162143</td>\n",
       "      <td>03/05/24</td>\n",
       "    </tr>\n",
       "    <tr>\n",
       "      <th>207660</th>\n",
       "      <td>18448</td>\n",
       "      <td>0.19</td>\n",
       "      <td>18.448</td>\n",
       "      <td>195.143105</td>\n",
       "      <td>4946724485</td>\n",
       "      <td>2024-05-03 08:00:01.610143</td>\n",
       "      <td>03/05/24</td>\n",
       "    </tr>\n",
       "  </tbody>\n",
       "</table>\n",
       "<p>207661 rows × 7 columns</p>\n",
       "</div>"
      ],
      "text/plain": [
       "        Interval   kWh     sec           Wh   cumul(ms)  \\\n",
       "0          26289  0.14  26.289   136.939404       26289   \n",
       "1          26243  0.14  26.243   137.179438       52532   \n",
       "2          25885  0.14  25.885   139.076685       78417   \n",
       "3          25754  0.14  25.754   139.784111      104171   \n",
       "4          25774  0.14  25.774   139.675642      129945   \n",
       "...          ...   ...     ...          ...         ...   \n",
       "207656      2405  1.50   2.405  1496.881497  4946670540   \n",
       "207657      2502  1.44   2.502  1438.848921  4946673042   \n",
       "207658     14631  0.25  14.631   246.052901  4946687673   \n",
       "207659     18364  0.20  18.364   196.035722  4946706037   \n",
       "207660     18448  0.19  18.448   195.143105  4946724485   \n",
       "\n",
       "                            dates      days  \n",
       "0      2024-03-07 01:55:03.414143  07/03/24  \n",
       "1      2024-03-07 01:55:29.657143  07/03/24  \n",
       "2      2024-03-07 01:55:55.542143  07/03/24  \n",
       "3      2024-03-07 01:56:21.296143  07/03/24  \n",
       "4      2024-03-07 01:56:47.070143  07/03/24  \n",
       "...                           ...       ...  \n",
       "207656 2024-05-03 07:59:07.665143  03/05/24  \n",
       "207657 2024-05-03 07:59:10.167143  03/05/24  \n",
       "207658 2024-05-03 07:59:24.798143  03/05/24  \n",
       "207659 2024-05-03 07:59:43.162143  03/05/24  \n",
       "207660 2024-05-03 08:00:01.610143  03/05/24  \n",
       "\n",
       "[207661 rows x 7 columns]"
      ]
     },
     "execution_count": 35,
     "metadata": {},
     "output_type": "execute_result"
    }
   ],
   "source": [
    "conso_data['dates'] = [base + dt.timedelta(microseconds=t*1000) for t in conso_data['cumul(ms)']]\n",
    "conso_data['days']= [d.strftime('%d/%m/%y') for d in conso_data['dates']]    \n",
    "#[str(d.month)+'-'+str(d.day) for d in conso_data['dates']]\n",
    "conso_data"
   ]
  },
  {
   "cell_type": "code",
   "execution_count": 36,
   "metadata": {},
   "outputs": [
    {
     "data": {
      "text/plain": [
       "('03/05/24', 5, 2024)"
      ]
     },
     "execution_count": 36,
     "metadata": {},
     "output_type": "execute_result"
    }
   ],
   "source": [
    "# tranche journalière\n",
    "now = datetime.now()\n",
    "month = now.month\n",
    "year = now.year\n",
    "day = now.strftime('%d/%m/%y')    #str(now.month)+'-'+str(now.day)\n",
    "day, month, year\n"
   ]
  },
  {
   "cell_type": "code",
   "execution_count": 37,
   "metadata": {},
   "outputs": [
    {
     "data": {
      "text/plain": [
       "'08:00:06'"
      ]
     },
     "execution_count": 37,
     "metadata": {},
     "output_type": "execute_result"
    }
   ],
   "source": [
    "here = now.strftime('%H:%M:%S')\n",
    "here"
   ]
  },
  {
   "cell_type": "code",
   "execution_count": 38,
   "metadata": {},
   "outputs": [],
   "source": [
    "conso_day = conso_data[conso_data['days']==day]\n",
    "# save to file\n",
    "filename='conso_jour.csv'\n",
    "conso_day.to_csv(filename)\n",
    "filename='../conso_jour.csv'\n",
    "conso_day.to_csv(filename)"
   ]
  },
  {
   "cell_type": "code",
   "execution_count": 39,
   "metadata": {},
   "outputs": [
    {
     "data": {
      "text/html": [
       "<div>\n",
       "<style scoped>\n",
       "    .dataframe tbody tr th:only-of-type {\n",
       "        vertical-align: middle;\n",
       "    }\n",
       "\n",
       "    .dataframe tbody tr th {\n",
       "        vertical-align: top;\n",
       "    }\n",
       "\n",
       "    .dataframe thead th {\n",
       "        text-align: right;\n",
       "    }\n",
       "</style>\n",
       "<table border=\"1\" class=\"dataframe\">\n",
       "  <thead>\n",
       "    <tr style=\"text-align: right;\">\n",
       "      <th></th>\n",
       "      <th>Interval</th>\n",
       "      <th>kWh</th>\n",
       "      <th>sec</th>\n",
       "      <th>Wh</th>\n",
       "      <th>cumul(ms)</th>\n",
       "      <th>dates</th>\n",
       "      <th>days</th>\n",
       "    </tr>\n",
       "  </thead>\n",
       "  <tbody>\n",
       "    <tr>\n",
       "      <th>206685</th>\n",
       "      <td>31666</td>\n",
       "      <td>0.11</td>\n",
       "      <td>31.666</td>\n",
       "      <td>113.686604</td>\n",
       "      <td>4917936009</td>\n",
       "      <td>2024-05-03 00:00:13.134143</td>\n",
       "      <td>03/05/24</td>\n",
       "    </tr>\n",
       "    <tr>\n",
       "      <th>206686</th>\n",
       "      <td>32760</td>\n",
       "      <td>0.11</td>\n",
       "      <td>32.760</td>\n",
       "      <td>109.890110</td>\n",
       "      <td>4917968769</td>\n",
       "      <td>2024-05-03 00:00:45.894143</td>\n",
       "      <td>03/05/24</td>\n",
       "    </tr>\n",
       "    <tr>\n",
       "      <th>206687</th>\n",
       "      <td>32899</td>\n",
       "      <td>0.11</td>\n",
       "      <td>32.899</td>\n",
       "      <td>109.425818</td>\n",
       "      <td>4918001668</td>\n",
       "      <td>2024-05-03 00:01:18.793143</td>\n",
       "      <td>03/05/24</td>\n",
       "    </tr>\n",
       "    <tr>\n",
       "      <th>206688</th>\n",
       "      <td>34642</td>\n",
       "      <td>0.10</td>\n",
       "      <td>34.642</td>\n",
       "      <td>103.920097</td>\n",
       "      <td>4918036310</td>\n",
       "      <td>2024-05-03 00:01:53.435143</td>\n",
       "      <td>03/05/24</td>\n",
       "    </tr>\n",
       "    <tr>\n",
       "      <th>206689</th>\n",
       "      <td>34306</td>\n",
       "      <td>0.10</td>\n",
       "      <td>34.306</td>\n",
       "      <td>104.937912</td>\n",
       "      <td>4918070616</td>\n",
       "      <td>2024-05-03 00:02:27.741143</td>\n",
       "      <td>03/05/24</td>\n",
       "    </tr>\n",
       "    <tr>\n",
       "      <th>...</th>\n",
       "      <td>...</td>\n",
       "      <td>...</td>\n",
       "      <td>...</td>\n",
       "      <td>...</td>\n",
       "      <td>...</td>\n",
       "      <td>...</td>\n",
       "      <td>...</td>\n",
       "    </tr>\n",
       "    <tr>\n",
       "      <th>207656</th>\n",
       "      <td>2405</td>\n",
       "      <td>1.50</td>\n",
       "      <td>2.405</td>\n",
       "      <td>1496.881497</td>\n",
       "      <td>4946670540</td>\n",
       "      <td>2024-05-03 07:59:07.665143</td>\n",
       "      <td>03/05/24</td>\n",
       "    </tr>\n",
       "    <tr>\n",
       "      <th>207657</th>\n",
       "      <td>2502</td>\n",
       "      <td>1.44</td>\n",
       "      <td>2.502</td>\n",
       "      <td>1438.848921</td>\n",
       "      <td>4946673042</td>\n",
       "      <td>2024-05-03 07:59:10.167143</td>\n",
       "      <td>03/05/24</td>\n",
       "    </tr>\n",
       "    <tr>\n",
       "      <th>207658</th>\n",
       "      <td>14631</td>\n",
       "      <td>0.25</td>\n",
       "      <td>14.631</td>\n",
       "      <td>246.052901</td>\n",
       "      <td>4946687673</td>\n",
       "      <td>2024-05-03 07:59:24.798143</td>\n",
       "      <td>03/05/24</td>\n",
       "    </tr>\n",
       "    <tr>\n",
       "      <th>207659</th>\n",
       "      <td>18364</td>\n",
       "      <td>0.20</td>\n",
       "      <td>18.364</td>\n",
       "      <td>196.035722</td>\n",
       "      <td>4946706037</td>\n",
       "      <td>2024-05-03 07:59:43.162143</td>\n",
       "      <td>03/05/24</td>\n",
       "    </tr>\n",
       "    <tr>\n",
       "      <th>207660</th>\n",
       "      <td>18448</td>\n",
       "      <td>0.19</td>\n",
       "      <td>18.448</td>\n",
       "      <td>195.143105</td>\n",
       "      <td>4946724485</td>\n",
       "      <td>2024-05-03 08:00:01.610143</td>\n",
       "      <td>03/05/24</td>\n",
       "    </tr>\n",
       "  </tbody>\n",
       "</table>\n",
       "<p>976 rows × 7 columns</p>\n",
       "</div>"
      ],
      "text/plain": [
       "        Interval   kWh     sec           Wh   cumul(ms)  \\\n",
       "206685     31666  0.11  31.666   113.686604  4917936009   \n",
       "206686     32760  0.11  32.760   109.890110  4917968769   \n",
       "206687     32899  0.11  32.899   109.425818  4918001668   \n",
       "206688     34642  0.10  34.642   103.920097  4918036310   \n",
       "206689     34306  0.10  34.306   104.937912  4918070616   \n",
       "...          ...   ...     ...          ...         ...   \n",
       "207656      2405  1.50   2.405  1496.881497  4946670540   \n",
       "207657      2502  1.44   2.502  1438.848921  4946673042   \n",
       "207658     14631  0.25  14.631   246.052901  4946687673   \n",
       "207659     18364  0.20  18.364   196.035722  4946706037   \n",
       "207660     18448  0.19  18.448   195.143105  4946724485   \n",
       "\n",
       "                            dates      days  \n",
       "206685 2024-05-03 00:00:13.134143  03/05/24  \n",
       "206686 2024-05-03 00:00:45.894143  03/05/24  \n",
       "206687 2024-05-03 00:01:18.793143  03/05/24  \n",
       "206688 2024-05-03 00:01:53.435143  03/05/24  \n",
       "206689 2024-05-03 00:02:27.741143  03/05/24  \n",
       "...                           ...       ...  \n",
       "207656 2024-05-03 07:59:07.665143  03/05/24  \n",
       "207657 2024-05-03 07:59:10.167143  03/05/24  \n",
       "207658 2024-05-03 07:59:24.798143  03/05/24  \n",
       "207659 2024-05-03 07:59:43.162143  03/05/24  \n",
       "207660 2024-05-03 08:00:01.610143  03/05/24  \n",
       "\n",
       "[976 rows x 7 columns]"
      ]
     },
     "execution_count": 39,
     "metadata": {},
     "output_type": "execute_result"
    }
   ],
   "source": [
    "conso_day"
   ]
  },
  {
   "cell_type": "code",
   "execution_count": 40,
   "metadata": {},
   "outputs": [],
   "source": [
    "# group by day\n",
    "grouped = conso_data[['days','kWh']].groupby('days', sort=False)\n",
    "'''conso_graph=[]\n",
    "for name, group in grouped:\n",
    "    if name=='01/04/2024':print(group)\n",
    "    #print(\"\\n\", name, len(group)/1000)\n",
    "    conso_graph.append((name,len(group)/1000))'''\n",
    "#grouped\n",
    "# count elements in each group => conso in watts => convert to kW\n",
    "df_grp = grouped.count()/1000\n"
   ]
  },
  {
   "cell_type": "code",
   "execution_count": 41,
   "metadata": {},
   "outputs": [
    {
     "name": "stdout",
     "output_type": "stream",
     "text": [
      "[3.125, 3.751, 3.081, 3.533, 4.539, 3.561, 3.542, 3.651, 3.563, 3.358, 3.351, 4.403, 3.507, 3.441, 3.551, 3.741, 3.531, 3.336, 3.892, 3.418, 3.471, 3.637, 3.76, 3.656, 3.83, 3.836, 3.818, 3.42, 3.475, 4.42, 3.397, 4.077, 3.779, 4.06, 3.433, 3.575, 3.442, 4.121, 3.272, 3.318, 3.703, 3.689, 4.222, 3.281, 3.382, 3.764, 4.087, 3.505, 3.3, 3.29, 3.062, 3.756, 3.812, 3.783, 3.409, 3.45, 3.518, 0.976]\n"
     ]
    }
   ],
   "source": [
    "data = list(df_grp['kWh'])\n",
    "print(data)\n"
   ]
  },
  {
   "cell_type": "code",
   "execution_count": 42,
   "metadata": {},
   "outputs": [],
   "source": [
    "\n",
    "import pickle\n",
    "path = r'kwh_mean.pkl'\n",
    "with open(path,'wb') as file:\n",
    "    pickle.dump(data, file)"
   ]
  },
  {
   "cell_type": "code",
   "execution_count": 43,
   "metadata": {},
   "outputs": [
    {
     "data": {
      "text/plain": [
       "kWh    0.3227\n",
       "dtype: float64"
      ]
     },
     "execution_count": 43,
     "metadata": {},
     "output_type": "execute_result"
    }
   ],
   "source": [
    "# mean of all instant conso\n",
    "total_mean = conso_data[['kWh']].mean()\n",
    "total_mean"
   ]
  },
  {
   "cell_type": "code",
   "execution_count": 44,
   "metadata": {},
   "outputs": [
    {
     "data": {
      "text/plain": [
       "kWh    3.580362\n",
       "dtype: float64"
      ]
     },
     "execution_count": 44,
     "metadata": {},
     "output_type": "execute_result"
    }
   ],
   "source": [
    "mean=(grouped.count()/1000).mean()\n",
    "mean"
   ]
  },
  {
   "cell_type": "code",
   "execution_count": 45,
   "metadata": {},
   "outputs": [],
   "source": [
    "last=df_grp.iloc[-1]['kWh']"
   ]
  },
  {
   "cell_type": "code",
   "execution_count": 46,
   "metadata": {},
   "outputs": [
    {
     "data": {
      "text/html": [
       "<div>\n",
       "<style scoped>\n",
       "    .dataframe tbody tr th:only-of-type {\n",
       "        vertical-align: middle;\n",
       "    }\n",
       "\n",
       "    .dataframe tbody tr th {\n",
       "        vertical-align: top;\n",
       "    }\n",
       "\n",
       "    .dataframe thead th {\n",
       "        text-align: right;\n",
       "    }\n",
       "</style>\n",
       "<table border=\"1\" class=\"dataframe\">\n",
       "  <thead>\n",
       "    <tr style=\"text-align: right;\">\n",
       "      <th></th>\n",
       "      <th>Interval</th>\n",
       "      <th>kWh</th>\n",
       "      <th>sec</th>\n",
       "      <th>Wh</th>\n",
       "      <th>cumul(ms)</th>\n",
       "      <th>dates</th>\n",
       "      <th>days</th>\n",
       "    </tr>\n",
       "    <tr>\n",
       "      <th>heure</th>\n",
       "      <th></th>\n",
       "      <th></th>\n",
       "      <th></th>\n",
       "      <th></th>\n",
       "      <th></th>\n",
       "      <th></th>\n",
       "      <th></th>\n",
       "    </tr>\n",
       "  </thead>\n",
       "  <tbody>\n",
       "    <tr>\n",
       "      <th>0:0:13</th>\n",
       "      <td>31666</td>\n",
       "      <td>0.11</td>\n",
       "      <td>31.666</td>\n",
       "      <td>113.686604</td>\n",
       "      <td>4917936009</td>\n",
       "      <td>2024-05-03 00:00:13.134143</td>\n",
       "      <td>03/05/24</td>\n",
       "    </tr>\n",
       "    <tr>\n",
       "      <th>0:0:45</th>\n",
       "      <td>32760</td>\n",
       "      <td>0.11</td>\n",
       "      <td>32.760</td>\n",
       "      <td>109.890110</td>\n",
       "      <td>4917968769</td>\n",
       "      <td>2024-05-03 00:00:45.894143</td>\n",
       "      <td>03/05/24</td>\n",
       "    </tr>\n",
       "    <tr>\n",
       "      <th>0:1:18</th>\n",
       "      <td>32899</td>\n",
       "      <td>0.11</td>\n",
       "      <td>32.899</td>\n",
       "      <td>109.425818</td>\n",
       "      <td>4918001668</td>\n",
       "      <td>2024-05-03 00:01:18.793143</td>\n",
       "      <td>03/05/24</td>\n",
       "    </tr>\n",
       "    <tr>\n",
       "      <th>0:1:53</th>\n",
       "      <td>34642</td>\n",
       "      <td>0.10</td>\n",
       "      <td>34.642</td>\n",
       "      <td>103.920097</td>\n",
       "      <td>4918036310</td>\n",
       "      <td>2024-05-03 00:01:53.435143</td>\n",
       "      <td>03/05/24</td>\n",
       "    </tr>\n",
       "    <tr>\n",
       "      <th>0:2:27</th>\n",
       "      <td>34306</td>\n",
       "      <td>0.10</td>\n",
       "      <td>34.306</td>\n",
       "      <td>104.937912</td>\n",
       "      <td>4918070616</td>\n",
       "      <td>2024-05-03 00:02:27.741143</td>\n",
       "      <td>03/05/24</td>\n",
       "    </tr>\n",
       "    <tr>\n",
       "      <th>...</th>\n",
       "      <td>...</td>\n",
       "      <td>...</td>\n",
       "      <td>...</td>\n",
       "      <td>...</td>\n",
       "      <td>...</td>\n",
       "      <td>...</td>\n",
       "      <td>...</td>\n",
       "    </tr>\n",
       "    <tr>\n",
       "      <th>7:59:7</th>\n",
       "      <td>2405</td>\n",
       "      <td>1.50</td>\n",
       "      <td>2.405</td>\n",
       "      <td>1496.881497</td>\n",
       "      <td>4946670540</td>\n",
       "      <td>2024-05-03 07:59:07.665143</td>\n",
       "      <td>03/05/24</td>\n",
       "    </tr>\n",
       "    <tr>\n",
       "      <th>7:59:10</th>\n",
       "      <td>2502</td>\n",
       "      <td>1.44</td>\n",
       "      <td>2.502</td>\n",
       "      <td>1438.848921</td>\n",
       "      <td>4946673042</td>\n",
       "      <td>2024-05-03 07:59:10.167143</td>\n",
       "      <td>03/05/24</td>\n",
       "    </tr>\n",
       "    <tr>\n",
       "      <th>7:59:24</th>\n",
       "      <td>14631</td>\n",
       "      <td>0.25</td>\n",
       "      <td>14.631</td>\n",
       "      <td>246.052901</td>\n",
       "      <td>4946687673</td>\n",
       "      <td>2024-05-03 07:59:24.798143</td>\n",
       "      <td>03/05/24</td>\n",
       "    </tr>\n",
       "    <tr>\n",
       "      <th>7:59:43</th>\n",
       "      <td>18364</td>\n",
       "      <td>0.20</td>\n",
       "      <td>18.364</td>\n",
       "      <td>196.035722</td>\n",
       "      <td>4946706037</td>\n",
       "      <td>2024-05-03 07:59:43.162143</td>\n",
       "      <td>03/05/24</td>\n",
       "    </tr>\n",
       "    <tr>\n",
       "      <th>8:0:1</th>\n",
       "      <td>18448</td>\n",
       "      <td>0.19</td>\n",
       "      <td>18.448</td>\n",
       "      <td>195.143105</td>\n",
       "      <td>4946724485</td>\n",
       "      <td>2024-05-03 08:00:01.610143</td>\n",
       "      <td>03/05/24</td>\n",
       "    </tr>\n",
       "  </tbody>\n",
       "</table>\n",
       "<p>976 rows × 7 columns</p>\n",
       "</div>"
      ],
      "text/plain": [
       "         Interval   kWh     sec           Wh   cumul(ms)  \\\n",
       "heure                                                      \n",
       "0:0:13      31666  0.11  31.666   113.686604  4917936009   \n",
       "0:0:45      32760  0.11  32.760   109.890110  4917968769   \n",
       "0:1:18      32899  0.11  32.899   109.425818  4918001668   \n",
       "0:1:53      34642  0.10  34.642   103.920097  4918036310   \n",
       "0:2:27      34306  0.10  34.306   104.937912  4918070616   \n",
       "...           ...   ...     ...          ...         ...   \n",
       "7:59:7       2405  1.50   2.405  1496.881497  4946670540   \n",
       "7:59:10      2502  1.44   2.502  1438.848921  4946673042   \n",
       "7:59:24     14631  0.25  14.631   246.052901  4946687673   \n",
       "7:59:43     18364  0.20  18.364   196.035722  4946706037   \n",
       "8:0:1       18448  0.19  18.448   195.143105  4946724485   \n",
       "\n",
       "                             dates      days  \n",
       "heure                                         \n",
       "0:0:13  2024-05-03 00:00:13.134143  03/05/24  \n",
       "0:0:45  2024-05-03 00:00:45.894143  03/05/24  \n",
       "0:1:18  2024-05-03 00:01:18.793143  03/05/24  \n",
       "0:1:53  2024-05-03 00:01:53.435143  03/05/24  \n",
       "0:2:27  2024-05-03 00:02:27.741143  03/05/24  \n",
       "...                            ...       ...  \n",
       "7:59:7  2024-05-03 07:59:07.665143  03/05/24  \n",
       "7:59:10 2024-05-03 07:59:10.167143  03/05/24  \n",
       "7:59:24 2024-05-03 07:59:24.798143  03/05/24  \n",
       "7:59:43 2024-05-03 07:59:43.162143  03/05/24  \n",
       "8:0:1   2024-05-03 08:00:01.610143  03/05/24  \n",
       "\n",
       "[976 rows x 7 columns]"
      ]
     },
     "execution_count": 46,
     "metadata": {},
     "output_type": "execute_result"
    }
   ],
   "source": [
    "conso_day=conso_data[conso_data['days']==day].copy()  # no more error\n",
    "conso_day['heure']=conso_day['dates'].apply(lambda x: str(x.hour)+':'+str(x.minute) +':'+str(x.second))\n",
    "#=[x.hour for x in conso_day['dates']]\n",
    "df= conso_day.set_index('heure')\n",
    "df"
   ]
  },
  {
   "cell_type": "code",
   "execution_count": 47,
   "metadata": {},
   "outputs": [
    {
     "data": {
      "text/plain": [
       "('08:00:06', 0.976, 976)"
      ]
     },
     "execution_count": 47,
     "metadata": {},
     "output_type": "execute_result"
    }
   ],
   "source": [
    "here = now.strftime('%H:%M:%S')\n",
    "conso_jour=len(df['kWh'])\n",
    "here, len(df)/1000, conso_jour"
   ]
  },
  {
   "cell_type": "code",
   "execution_count": 48,
   "metadata": {},
   "outputs": [
    {
     "data": {
      "text/html": [
       "<div>\n",
       "<style scoped>\n",
       "    .dataframe tbody tr th:only-of-type {\n",
       "        vertical-align: middle;\n",
       "    }\n",
       "\n",
       "    .dataframe tbody tr th {\n",
       "        vertical-align: top;\n",
       "    }\n",
       "\n",
       "    .dataframe thead th {\n",
       "        text-align: right;\n",
       "    }\n",
       "</style>\n",
       "<table border=\"1\" class=\"dataframe\">\n",
       "  <thead>\n",
       "    <tr style=\"text-align: right;\">\n",
       "      <th></th>\n",
       "      <th>kWh</th>\n",
       "    </tr>\n",
       "    <tr>\n",
       "      <th>days</th>\n",
       "      <th></th>\n",
       "    </tr>\n",
       "  </thead>\n",
       "  <tbody>\n",
       "    <tr>\n",
       "      <th>27/04/24</th>\n",
       "      <td>3.756</td>\n",
       "    </tr>\n",
       "    <tr>\n",
       "      <th>28/04/24</th>\n",
       "      <td>3.812</td>\n",
       "    </tr>\n",
       "    <tr>\n",
       "      <th>29/04/24</th>\n",
       "      <td>3.783</td>\n",
       "    </tr>\n",
       "    <tr>\n",
       "      <th>30/04/24</th>\n",
       "      <td>3.409</td>\n",
       "    </tr>\n",
       "    <tr>\n",
       "      <th>01/05/24</th>\n",
       "      <td>3.450</td>\n",
       "    </tr>\n",
       "    <tr>\n",
       "      <th>02/05/24</th>\n",
       "      <td>3.518</td>\n",
       "    </tr>\n",
       "    <tr>\n",
       "      <th>03/05/24</th>\n",
       "      <td>0.976</td>\n",
       "    </tr>\n",
       "  </tbody>\n",
       "</table>\n",
       "</div>"
      ],
      "text/plain": [
       "            kWh\n",
       "days           \n",
       "27/04/24  3.756\n",
       "28/04/24  3.812\n",
       "29/04/24  3.783\n",
       "30/04/24  3.409\n",
       "01/05/24  3.450\n",
       "02/05/24  3.518\n",
       "03/05/24  0.976"
      ]
     },
     "execution_count": 48,
     "metadata": {},
     "output_type": "execute_result"
    }
   ],
   "source": [
    "df_grp.tail(7)"
   ]
  },
  {
   "cell_type": "code",
   "execution_count": 49,
   "metadata": {},
   "outputs": [
    {
     "data": {
      "image/png": "[encoded data removed]",
      "text/plain": [
       "<Figure size 640x480 with 1 Axes>"
      ]
     },
     "metadata": {},
     "output_type": "display_data"
    }
   ],
   "source": [
    "# plot the day consos in the group\n",
    "df_grp.iloc[:-1].plot(grid=True)\n",
    "plt.title(str(last)+' kWh ('+str(here)+')')\n",
    "plt.axhline(y=np.nanmean(df_grp),c='red', ls='-.')\n",
    "plt.xticks(rotation=30);  # https://ipython.readthedocs.io/en/stable/interactive/tips.html\n"
   ]
  },
  {
   "cell_type": "code",
   "execution_count": 50,
   "metadata": {},
   "outputs": [
    {
     "data": {
      "image/png": "[encoded data removed]",
      "text/plain": [
       "<Figure size 1500x700 with 1 Axes>"
      ]
     },
     "metadata": {},
     "output_type": "display_data"
    }
   ],
   "source": [
    "from matplotlib.ticker import (MultipleLocator, AutoMinorLocator)\n",
    "# consommation d'une journée entière à partir de minuit\n",
    "fig, ax = plt.subplots()\n",
    "major_ticks=300;minor_ticks=100\n",
    "ax.xaxis.set_major_locator(MultipleLocator(major_ticks))  # major ticks tous les 15 min\n",
    "ax.xaxis.set_minor_locator(MultipleLocator(minor_ticks))\n",
    "# the size of A4 paper\n",
    "fig.set_size_inches(15, 7)\n",
    "plt.plot(df['kWh'])\n",
    "#plt.plot(conso_day['heure'],conso_day['kWh'])\n",
    "plt.title(f'Journée du {day} {here} : {conso_jour/1000} kwh')\n",
    "plt.grid()"
   ]
  }
 ],
 "metadata": {
  "kernelspec": {
   "display_name": "Python 3",
   "language": "python",
   "name": "python3"
  },
  "language_info": {
   "codemirror_mode": {
    "name": "ipython",
    "version": 3
   },
   "file_extension": ".py",
   "mimetype": "text/x-python",
   "name": "python",
   "nbconvert_exporter": "python",
   "pygments_lexer": "ipython3",
   "version": "3.12.3"
  }
 },
 "nbformat": 4,
 "nbformat_minor": 2
}
