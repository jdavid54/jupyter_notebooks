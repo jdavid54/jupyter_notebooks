{
 "cells": [
  {
   "cell_type": "code",
   "execution_count": 40,
   "metadata": {},
   "outputs": [],
   "source": [
    "import pandas as pd\n",
    "import numpy as np\n",
    "import matplotlib.pyplot as plt\n",
    "import matplotlib.dates as mdates\n",
    "import matplotlib.ticker as ticker\n",
    "from matplotlib.axis import Axis\n",
    "import datetime as dt"
   ]
  },
  {
   "cell_type": "code",
   "execution_count": 41,
   "metadata": {},
   "outputs": [],
   "source": [
    "def get_data2(filename):    \n",
    "    data = pd.read_csv(filename, names=[\"Interval\",\"kWh\"])\n",
    "    return data"
   ]
  },
  {
   "cell_type": "code",
   "execution_count": 42,
   "metadata": {},
   "outputs": [
    {
     "name": "stdout",
     "output_type": "stream",
     "text": [
      "<class 'pandas.core.frame.DataFrame'>\n",
      "RangeIndex: 245914 entries, 0 to 245913\n",
      "Data columns (total 2 columns):\n",
      " #   Column    Non-Null Count   Dtype  \n",
      "---  ------    --------------   -----  \n",
      " 0   Interval  245914 non-null  int64  \n",
      " 1   kWh       245914 non-null  float64\n",
      "dtypes: float64(1), int64(1)\n",
      "memory usage: 3.8 MB\n"
     ]
    }
   ],
   "source": [
    "conso_file = r\"Y:\\Documents\\conso.csv\"\n",
    "conso_data = get_data2(conso_file)\n",
    "conso_data.info()"
   ]
  },
  {
   "cell_type": "code",
   "execution_count": 43,
   "metadata": {},
   "outputs": [
    {
     "data": {
      "text/plain": [
       "<Axes: >"
      ]
     },
     "execution_count": 43,
     "metadata": {},
     "output_type": "execute_result"
    },
    {
     "data": {
      "image/png": "[encoded data removed]",
      "text/plain": [
       "<Figure size 640x480 with 1 Axes>"
      ]
     },
     "metadata": {},
     "output_type": "display_data"
    }
   ],
   "source": [
    "conso_data['kWh'].plot()"
   ]
  },
  {
   "cell_type": "code",
   "execution_count": 44,
   "metadata": {},
   "outputs": [
    {
     "data": {
      "text/plain": [
       "245913"
      ]
     },
     "execution_count": 44,
     "metadata": {},
     "output_type": "execute_result"
    }
   ],
   "source": [
    "l=len(conso_data)-1\n",
    "l"
   ]
  },
  {
   "cell_type": "code",
   "execution_count": 45,
   "metadata": {},
   "outputs": [],
   "source": [
    "conso_data['sec']=conso_data['Interval']/1000\n",
    "conso_data['Wh']=3600000/conso_data['Interval']\n",
    "conso_data['cumul(ms)']=conso_data['Interval'].cumsum(axis=0)"
   ]
  },
  {
   "cell_type": "code",
   "execution_count": 46,
   "metadata": {},
   "outputs": [
    {
     "data": {
      "text/html": [
       "<div>\n",
       "<style scoped>\n",
       "    .dataframe tbody tr th:only-of-type {\n",
       "        vertical-align: middle;\n",
       "    }\n",
       "\n",
       "    .dataframe tbody tr th {\n",
       "        vertical-align: top;\n",
       "    }\n",
       "\n",
       "    .dataframe thead th {\n",
       "        text-align: right;\n",
       "    }\n",
       "</style>\n",
       "<table border=\"1\" class=\"dataframe\">\n",
       "  <thead>\n",
       "    <tr style=\"text-align: right;\">\n",
       "      <th></th>\n",
       "      <th>Interval</th>\n",
       "      <th>kWh</th>\n",
       "      <th>sec</th>\n",
       "      <th>Wh</th>\n",
       "      <th>cumul(ms)</th>\n",
       "    </tr>\n",
       "  </thead>\n",
       "  <tbody>\n",
       "    <tr>\n",
       "      <th>245909</th>\n",
       "      <td>28413</td>\n",
       "      <td>0.13</td>\n",
       "      <td>28.413</td>\n",
       "      <td>126.702566</td>\n",
       "      <td>5902289133</td>\n",
       "    </tr>\n",
       "    <tr>\n",
       "      <th>245910</th>\n",
       "      <td>28527</td>\n",
       "      <td>0.13</td>\n",
       "      <td>28.527</td>\n",
       "      <td>126.196235</td>\n",
       "      <td>5902317660</td>\n",
       "    </tr>\n",
       "    <tr>\n",
       "      <th>245911</th>\n",
       "      <td>28600</td>\n",
       "      <td>0.12</td>\n",
       "      <td>28.600</td>\n",
       "      <td>125.874126</td>\n",
       "      <td>5902346260</td>\n",
       "    </tr>\n",
       "    <tr>\n",
       "      <th>245912</th>\n",
       "      <td>28317</td>\n",
       "      <td>0.13</td>\n",
       "      <td>28.317</td>\n",
       "      <td>127.132111</td>\n",
       "      <td>5902374577</td>\n",
       "    </tr>\n",
       "    <tr>\n",
       "      <th>245913</th>\n",
       "      <td>28707</td>\n",
       "      <td>0.12</td>\n",
       "      <td>28.707</td>\n",
       "      <td>125.404953</td>\n",
       "      <td>5902403284</td>\n",
       "    </tr>\n",
       "  </tbody>\n",
       "</table>\n",
       "</div>"
      ],
      "text/plain": [
       "        Interval   kWh     sec          Wh   cumul(ms)\n",
       "245909     28413  0.13  28.413  126.702566  5902289133\n",
       "245910     28527  0.13  28.527  126.196235  5902317660\n",
       "245911     28600  0.12  28.600  125.874126  5902346260\n",
       "245912     28317  0.13  28.317  127.132111  5902374577\n",
       "245913     28707  0.12  28.707  125.404953  5902403284"
      ]
     },
     "execution_count": 46,
     "metadata": {},
     "output_type": "execute_result"
    }
   ],
   "source": [
    "conso_data.tail()"
   ]
  },
  {
   "cell_type": "code",
   "execution_count": 47,
   "metadata": {},
   "outputs": [
    {
     "data": {
      "text/plain": [
       "5902403284000"
      ]
     },
     "execution_count": 47,
     "metadata": {},
     "output_type": "execute_result"
    }
   ],
   "source": [
    "cumtime= int(conso_data._get_value(l,'cumul(ms)')*1000)  # convert to microseconds\n",
    "cumtime"
   ]
  },
  {
   "cell_type": "code",
   "execution_count": 48,
   "metadata": {},
   "outputs": [
    {
     "data": {
      "text/plain": [
       "datetime.datetime(2024, 3, 7, 2, 1, 49, 881151)"
      ]
     },
     "execution_count": 48,
     "metadata": {},
     "output_type": "execute_result"
    }
   ],
   "source": [
    "from datetime import datetime, timedelta\n",
    "now = datetime.now()\n",
    "# conso.csv dynamique\n",
    "base = now - timedelta(microseconds=cumtime)\n",
    "base  # date de début"
   ]
  },
  {
   "cell_type": "code",
   "execution_count": 49,
   "metadata": {},
   "outputs": [
    {
     "data": {
      "text/html": [
       "<div>\n",
       "<style scoped>\n",
       "    .dataframe tbody tr th:only-of-type {\n",
       "        vertical-align: middle;\n",
       "    }\n",
       "\n",
       "    .dataframe tbody tr th {\n",
       "        vertical-align: top;\n",
       "    }\n",
       "\n",
       "    .dataframe thead th {\n",
       "        text-align: right;\n",
       "    }\n",
       "</style>\n",
       "<table border=\"1\" class=\"dataframe\">\n",
       "  <thead>\n",
       "    <tr style=\"text-align: right;\">\n",
       "      <th></th>\n",
       "      <th>Interval</th>\n",
       "      <th>kWh</th>\n",
       "      <th>sec</th>\n",
       "      <th>Wh</th>\n",
       "      <th>cumul(ms)</th>\n",
       "      <th>dates</th>\n",
       "      <th>days</th>\n",
       "    </tr>\n",
       "  </thead>\n",
       "  <tbody>\n",
       "    <tr>\n",
       "      <th>0</th>\n",
       "      <td>26289</td>\n",
       "      <td>0.14</td>\n",
       "      <td>26.289</td>\n",
       "      <td>136.939404</td>\n",
       "      <td>26289</td>\n",
       "      <td>2024-03-07 02:02:16.170151</td>\n",
       "      <td>07/03/24</td>\n",
       "    </tr>\n",
       "    <tr>\n",
       "      <th>1</th>\n",
       "      <td>26243</td>\n",
       "      <td>0.14</td>\n",
       "      <td>26.243</td>\n",
       "      <td>137.179438</td>\n",
       "      <td>52532</td>\n",
       "      <td>2024-03-07 02:02:42.413151</td>\n",
       "      <td>07/03/24</td>\n",
       "    </tr>\n",
       "    <tr>\n",
       "      <th>2</th>\n",
       "      <td>25885</td>\n",
       "      <td>0.14</td>\n",
       "      <td>25.885</td>\n",
       "      <td>139.076685</td>\n",
       "      <td>78417</td>\n",
       "      <td>2024-03-07 02:03:08.298151</td>\n",
       "      <td>07/03/24</td>\n",
       "    </tr>\n",
       "    <tr>\n",
       "      <th>3</th>\n",
       "      <td>25754</td>\n",
       "      <td>0.14</td>\n",
       "      <td>25.754</td>\n",
       "      <td>139.784111</td>\n",
       "      <td>104171</td>\n",
       "      <td>2024-03-07 02:03:34.052151</td>\n",
       "      <td>07/03/24</td>\n",
       "    </tr>\n",
       "    <tr>\n",
       "      <th>4</th>\n",
       "      <td>25774</td>\n",
       "      <td>0.14</td>\n",
       "      <td>25.774</td>\n",
       "      <td>139.675642</td>\n",
       "      <td>129945</td>\n",
       "      <td>2024-03-07 02:03:59.826151</td>\n",
       "      <td>07/03/24</td>\n",
       "    </tr>\n",
       "    <tr>\n",
       "      <th>...</th>\n",
       "      <td>...</td>\n",
       "      <td>...</td>\n",
       "      <td>...</td>\n",
       "      <td>...</td>\n",
       "      <td>...</td>\n",
       "      <td>...</td>\n",
       "      <td>...</td>\n",
       "    </tr>\n",
       "    <tr>\n",
       "      <th>245909</th>\n",
       "      <td>28413</td>\n",
       "      <td>0.13</td>\n",
       "      <td>28.413</td>\n",
       "      <td>126.702566</td>\n",
       "      <td>5902289133</td>\n",
       "      <td>2024-05-14 09:33:19.014151</td>\n",
       "      <td>14/05/24</td>\n",
       "    </tr>\n",
       "    <tr>\n",
       "      <th>245910</th>\n",
       "      <td>28527</td>\n",
       "      <td>0.13</td>\n",
       "      <td>28.527</td>\n",
       "      <td>126.196235</td>\n",
       "      <td>5902317660</td>\n",
       "      <td>2024-05-14 09:33:47.541151</td>\n",
       "      <td>14/05/24</td>\n",
       "    </tr>\n",
       "    <tr>\n",
       "      <th>245911</th>\n",
       "      <td>28600</td>\n",
       "      <td>0.12</td>\n",
       "      <td>28.600</td>\n",
       "      <td>125.874126</td>\n",
       "      <td>5902346260</td>\n",
       "      <td>2024-05-14 09:34:16.141151</td>\n",
       "      <td>14/05/24</td>\n",
       "    </tr>\n",
       "    <tr>\n",
       "      <th>245912</th>\n",
       "      <td>28317</td>\n",
       "      <td>0.13</td>\n",
       "      <td>28.317</td>\n",
       "      <td>127.132111</td>\n",
       "      <td>5902374577</td>\n",
       "      <td>2024-05-14 09:34:44.458151</td>\n",
       "      <td>14/05/24</td>\n",
       "    </tr>\n",
       "    <tr>\n",
       "      <th>245913</th>\n",
       "      <td>28707</td>\n",
       "      <td>0.12</td>\n",
       "      <td>28.707</td>\n",
       "      <td>125.404953</td>\n",
       "      <td>5902403284</td>\n",
       "      <td>2024-05-14 09:35:13.165151</td>\n",
       "      <td>14/05/24</td>\n",
       "    </tr>\n",
       "  </tbody>\n",
       "</table>\n",
       "<p>245914 rows × 7 columns</p>\n",
       "</div>"
      ],
      "text/plain": [
       "        Interval   kWh     sec          Wh   cumul(ms)  \\\n",
       "0          26289  0.14  26.289  136.939404       26289   \n",
       "1          26243  0.14  26.243  137.179438       52532   \n",
       "2          25885  0.14  25.885  139.076685       78417   \n",
       "3          25754  0.14  25.754  139.784111      104171   \n",
       "4          25774  0.14  25.774  139.675642      129945   \n",
       "...          ...   ...     ...         ...         ...   \n",
       "245909     28413  0.13  28.413  126.702566  5902289133   \n",
       "245910     28527  0.13  28.527  126.196235  5902317660   \n",
       "245911     28600  0.12  28.600  125.874126  5902346260   \n",
       "245912     28317  0.13  28.317  127.132111  5902374577   \n",
       "245913     28707  0.12  28.707  125.404953  5902403284   \n",
       "\n",
       "                            dates      days  \n",
       "0      2024-03-07 02:02:16.170151  07/03/24  \n",
       "1      2024-03-07 02:02:42.413151  07/03/24  \n",
       "2      2024-03-07 02:03:08.298151  07/03/24  \n",
       "3      2024-03-07 02:03:34.052151  07/03/24  \n",
       "4      2024-03-07 02:03:59.826151  07/03/24  \n",
       "...                           ...       ...  \n",
       "245909 2024-05-14 09:33:19.014151  14/05/24  \n",
       "245910 2024-05-14 09:33:47.541151  14/05/24  \n",
       "245911 2024-05-14 09:34:16.141151  14/05/24  \n",
       "245912 2024-05-14 09:34:44.458151  14/05/24  \n",
       "245913 2024-05-14 09:35:13.165151  14/05/24  \n",
       "\n",
       "[245914 rows x 7 columns]"
      ]
     },
     "execution_count": 49,
     "metadata": {},
     "output_type": "execute_result"
    }
   ],
   "source": [
    "conso_data['dates'] = [base + dt.timedelta(microseconds=t*1000) for t in conso_data['cumul(ms)']]\n",
    "conso_data['days']= [d.strftime('%d/%m/%y') for d in conso_data['dates']]    \n",
    "#[str(d.month)+'-'+str(d.day) for d in conso_data['dates']]\n",
    "conso_data"
   ]
  },
  {
   "cell_type": "code",
   "execution_count": 50,
   "metadata": {},
   "outputs": [
    {
     "data": {
      "text/plain": [
       "('14/05/24', 5, 2024)"
      ]
     },
     "execution_count": 50,
     "metadata": {},
     "output_type": "execute_result"
    }
   ],
   "source": [
    "# tranche journalière\n",
    "now = datetime.now()\n",
    "month = now.month\n",
    "year = now.year\n",
    "day = now.strftime('%d/%m/%y')    #str(now.month)+'-'+str(now.day)\n",
    "day, month, year\n"
   ]
  },
  {
   "cell_type": "code",
   "execution_count": 51,
   "metadata": {},
   "outputs": [
    {
     "data": {
      "text/plain": [
       "'09:35:17'"
      ]
     },
     "execution_count": 51,
     "metadata": {},
     "output_type": "execute_result"
    }
   ],
   "source": [
    "here = now.strftime('%H:%M:%S')\n",
    "here"
   ]
  },
  {
   "cell_type": "code",
   "execution_count": 52,
   "metadata": {},
   "outputs": [],
   "source": [
    "conso_day = conso_data[conso_data['days']==day]\n",
    "# save to file\n",
    "filename='conso_jour.csv'\n",
    "conso_day.to_csv(filename)\n",
    "filename='../conso_jour.csv'\n",
    "conso_day.to_csv(filename)"
   ]
  },
  {
   "cell_type": "code",
   "execution_count": 53,
   "metadata": {},
   "outputs": [
    {
     "data": {
      "text/html": [
       "<div>\n",
       "<style scoped>\n",
       "    .dataframe tbody tr th:only-of-type {\n",
       "        vertical-align: middle;\n",
       "    }\n",
       "\n",
       "    .dataframe tbody tr th {\n",
       "        vertical-align: top;\n",
       "    }\n",
       "\n",
       "    .dataframe thead th {\n",
       "        text-align: right;\n",
       "    }\n",
       "</style>\n",
       "<table border=\"1\" class=\"dataframe\">\n",
       "  <thead>\n",
       "    <tr style=\"text-align: right;\">\n",
       "      <th></th>\n",
       "      <th>Interval</th>\n",
       "      <th>kWh</th>\n",
       "      <th>sec</th>\n",
       "      <th>Wh</th>\n",
       "      <th>cumul(ms)</th>\n",
       "      <th>dates</th>\n",
       "      <th>days</th>\n",
       "    </tr>\n",
       "  </thead>\n",
       "  <tbody>\n",
       "    <tr>\n",
       "      <th>244797</th>\n",
       "      <td>28408</td>\n",
       "      <td>0.13</td>\n",
       "      <td>28.408</td>\n",
       "      <td>126.724866</td>\n",
       "      <td>5867895189</td>\n",
       "      <td>2024-05-14 00:00:05.070151</td>\n",
       "      <td>14/05/24</td>\n",
       "    </tr>\n",
       "    <tr>\n",
       "      <th>244798</th>\n",
       "      <td>28059</td>\n",
       "      <td>0.13</td>\n",
       "      <td>28.059</td>\n",
       "      <td>128.301080</td>\n",
       "      <td>5867923248</td>\n",
       "      <td>2024-05-14 00:00:33.129151</td>\n",
       "      <td>14/05/24</td>\n",
       "    </tr>\n",
       "    <tr>\n",
       "      <th>244799</th>\n",
       "      <td>26084</td>\n",
       "      <td>0.14</td>\n",
       "      <td>26.084</td>\n",
       "      <td>138.015642</td>\n",
       "      <td>5867949332</td>\n",
       "      <td>2024-05-14 00:00:59.213151</td>\n",
       "      <td>14/05/24</td>\n",
       "    </tr>\n",
       "    <tr>\n",
       "      <th>244800</th>\n",
       "      <td>26681</td>\n",
       "      <td>0.13</td>\n",
       "      <td>26.681</td>\n",
       "      <td>134.927476</td>\n",
       "      <td>5867976013</td>\n",
       "      <td>2024-05-14 00:01:25.894151</td>\n",
       "      <td>14/05/24</td>\n",
       "    </tr>\n",
       "    <tr>\n",
       "      <th>244801</th>\n",
       "      <td>27421</td>\n",
       "      <td>0.13</td>\n",
       "      <td>27.421</td>\n",
       "      <td>131.286240</td>\n",
       "      <td>5868003434</td>\n",
       "      <td>2024-05-14 00:01:53.315151</td>\n",
       "      <td>14/05/24</td>\n",
       "    </tr>\n",
       "    <tr>\n",
       "      <th>...</th>\n",
       "      <td>...</td>\n",
       "      <td>...</td>\n",
       "      <td>...</td>\n",
       "      <td>...</td>\n",
       "      <td>...</td>\n",
       "      <td>...</td>\n",
       "      <td>...</td>\n",
       "    </tr>\n",
       "    <tr>\n",
       "      <th>245909</th>\n",
       "      <td>28413</td>\n",
       "      <td>0.13</td>\n",
       "      <td>28.413</td>\n",
       "      <td>126.702566</td>\n",
       "      <td>5902289133</td>\n",
       "      <td>2024-05-14 09:33:19.014151</td>\n",
       "      <td>14/05/24</td>\n",
       "    </tr>\n",
       "    <tr>\n",
       "      <th>245910</th>\n",
       "      <td>28527</td>\n",
       "      <td>0.13</td>\n",
       "      <td>28.527</td>\n",
       "      <td>126.196235</td>\n",
       "      <td>5902317660</td>\n",
       "      <td>2024-05-14 09:33:47.541151</td>\n",
       "      <td>14/05/24</td>\n",
       "    </tr>\n",
       "    <tr>\n",
       "      <th>245911</th>\n",
       "      <td>28600</td>\n",
       "      <td>0.12</td>\n",
       "      <td>28.600</td>\n",
       "      <td>125.874126</td>\n",
       "      <td>5902346260</td>\n",
       "      <td>2024-05-14 09:34:16.141151</td>\n",
       "      <td>14/05/24</td>\n",
       "    </tr>\n",
       "    <tr>\n",
       "      <th>245912</th>\n",
       "      <td>28317</td>\n",
       "      <td>0.13</td>\n",
       "      <td>28.317</td>\n",
       "      <td>127.132111</td>\n",
       "      <td>5902374577</td>\n",
       "      <td>2024-05-14 09:34:44.458151</td>\n",
       "      <td>14/05/24</td>\n",
       "    </tr>\n",
       "    <tr>\n",
       "      <th>245913</th>\n",
       "      <td>28707</td>\n",
       "      <td>0.12</td>\n",
       "      <td>28.707</td>\n",
       "      <td>125.404953</td>\n",
       "      <td>5902403284</td>\n",
       "      <td>2024-05-14 09:35:13.165151</td>\n",
       "      <td>14/05/24</td>\n",
       "    </tr>\n",
       "  </tbody>\n",
       "</table>\n",
       "<p>1117 rows × 7 columns</p>\n",
       "</div>"
      ],
      "text/plain": [
       "        Interval   kWh     sec          Wh   cumul(ms)  \\\n",
       "244797     28408  0.13  28.408  126.724866  5867895189   \n",
       "244798     28059  0.13  28.059  128.301080  5867923248   \n",
       "244799     26084  0.14  26.084  138.015642  5867949332   \n",
       "244800     26681  0.13  26.681  134.927476  5867976013   \n",
       "244801     27421  0.13  27.421  131.286240  5868003434   \n",
       "...          ...   ...     ...         ...         ...   \n",
       "245909     28413  0.13  28.413  126.702566  5902289133   \n",
       "245910     28527  0.13  28.527  126.196235  5902317660   \n",
       "245911     28600  0.12  28.600  125.874126  5902346260   \n",
       "245912     28317  0.13  28.317  127.132111  5902374577   \n",
       "245913     28707  0.12  28.707  125.404953  5902403284   \n",
       "\n",
       "                            dates      days  \n",
       "244797 2024-05-14 00:00:05.070151  14/05/24  \n",
       "244798 2024-05-14 00:00:33.129151  14/05/24  \n",
       "244799 2024-05-14 00:00:59.213151  14/05/24  \n",
       "244800 2024-05-14 00:01:25.894151  14/05/24  \n",
       "244801 2024-05-14 00:01:53.315151  14/05/24  \n",
       "...                           ...       ...  \n",
       "245909 2024-05-14 09:33:19.014151  14/05/24  \n",
       "245910 2024-05-14 09:33:47.541151  14/05/24  \n",
       "245911 2024-05-14 09:34:16.141151  14/05/24  \n",
       "245912 2024-05-14 09:34:44.458151  14/05/24  \n",
       "245913 2024-05-14 09:35:13.165151  14/05/24  \n",
       "\n",
       "[1117 rows x 7 columns]"
      ]
     },
     "execution_count": 53,
     "metadata": {},
     "output_type": "execute_result"
    }
   ],
   "source": [
    "conso_day"
   ]
  },
  {
   "cell_type": "code",
   "execution_count": 54,
   "metadata": {},
   "outputs": [],
   "source": [
    "# group by day\n",
    "grouped = conso_data[['days','kWh']].groupby('days', sort=False)\n",
    "'''conso_graph=[]\n",
    "for name, group in grouped:\n",
    "    if name=='01/04/2024':print(group)\n",
    "    #print(\"\\n\", name, len(group)/1000)\n",
    "    conso_graph.append((name,len(group)/1000))'''\n",
    "#grouped\n",
    "# count elements in each group => conso in watts => convert to kW\n",
    "df_grp = grouped.count()/1000\n"
   ]
  },
  {
   "cell_type": "code",
   "execution_count": 55,
   "metadata": {},
   "outputs": [
    {
     "name": "stdout",
     "output_type": "stream",
     "text": [
      "[3.063, 3.794, 3.082, 3.532, 4.538, 3.563, 3.548, 3.64, 3.569, 3.347, 3.361, 4.403, 3.508, 3.441, 3.553, 3.734, 3.532, 3.344, 3.889, 3.418, 3.462, 3.638, 3.77, 3.655, 3.83, 3.834, 3.818, 3.422, 3.473, 4.415, 3.404, 4.076, 3.779, 4.061, 3.427, 3.574, 3.443, 4.129, 3.268, 3.316, 3.707, 3.689, 4.225, 3.278, 3.386, 3.76, 4.08, 3.513, 3.303, 3.285, 3.065, 3.746, 3.819, 3.783, 3.41, 3.449, 3.518, 3.266, 3.606, 3.419, 3.336, 3.539, 3.655, 3.178, 3.101, 3.403, 3.596, 4.029, 1.117]\n"
     ]
    }
   ],
   "source": [
    "data = list(df_grp['kWh'])\n",
    "print(data)\n"
   ]
  },
  {
   "cell_type": "code",
   "execution_count": 56,
   "metadata": {},
   "outputs": [],
   "source": [
    "# save to file\n",
    "import pickle\n",
    "path = r'kwh_mean.pkl'\n",
    "with open(path,'wb') as file:\n",
    "    pickle.dump(data, file)"
   ]
  },
  {
   "cell_type": "code",
   "execution_count": 57,
   "metadata": {},
   "outputs": [],
   "source": [
    "from matplotlib.ticker import (MultipleLocator, AutoMinorLocator)\n",
    "def show(day,pltcolor='moccasin',bgcolor=\"ivory\"):\n",
    "    conso_day=conso_data[conso_data['days']==day].copy()  # no more error\n",
    "    conso_day['heure']=conso_day['dates'].apply(lambda x: str(x.hour)+':'+str(x.minute) +':'+str(x.second))\n",
    "    #=[x.hour for x in conso_day['dates']]\n",
    "    df= conso_day.set_index('heure')\n",
    "    here = now.strftime('%H:%M:%S')\n",
    "    conso_jour=len(df['kWh'])\n",
    "    here, len(df)/1000, conso_jour\n",
    "\n",
    "    # consommation d'une journée entière à partir de minuit\n",
    "    # Set background color of the outer \n",
    "    # area of the plt\n",
    "    #plt.figure(facecolor=fgcolor)\n",
    "    fig, ax = plt.subplots(facecolor=pltcolor)\n",
    "    \n",
    "    major_ticks=300;minor_ticks=100\n",
    "    ax.xaxis.set_major_locator(MultipleLocator(major_ticks))  # major ticks tous les 15 min\n",
    "    ax.xaxis.set_minor_locator(MultipleLocator(minor_ticks))\n",
    "    # the size of A4 paper\n",
    "    fig.set_size_inches(15, 7)\n",
    "    \n",
    "    # set bg color\n",
    "    ax.set_facecolor(bgcolor)\n",
    "    plt.plot(df['kWh'])\n",
    "    #plt.plot(conso_day['heure'],conso_day['kWh'])\n",
    "    plt.title(f'Journée du {day} {here} : {conso_jour/1000} kwh')\n",
    "    plt.grid()\n"
   ]
  },
  {
   "cell_type": "code",
   "execution_count": 58,
   "metadata": {},
   "outputs": [
    {
     "data": {
      "text/plain": [
       "kWh    0.330629\n",
       "dtype: float64"
      ]
     },
     "execution_count": 58,
     "metadata": {},
     "output_type": "execute_result"
    }
   ],
   "source": [
    "# mean of all instant conso\n",
    "total_mean = conso_data[['kWh']].mean()\n",
    "total_mean"
   ]
  },
  {
   "cell_type": "code",
   "execution_count": 59,
   "metadata": {},
   "outputs": [
    {
     "data": {
      "text/plain": [
       "kWh    3.563971\n",
       "dtype: float64"
      ]
     },
     "execution_count": 59,
     "metadata": {},
     "output_type": "execute_result"
    }
   ],
   "source": [
    "mean=(grouped.count()/1000).mean()\n",
    "mean"
   ]
  },
  {
   "cell_type": "code",
   "execution_count": 60,
   "metadata": {},
   "outputs": [
    {
     "data": {
      "text/plain": [
       "1.117"
      ]
     },
     "execution_count": 60,
     "metadata": {},
     "output_type": "execute_result"
    }
   ],
   "source": [
    "last=df_grp.iloc[-1]['kWh']\n",
    "last"
   ]
  },
  {
   "cell_type": "code",
   "execution_count": 61,
   "metadata": {},
   "outputs": [
    {
     "data": {
      "text/html": [
       "<div>\n",
       "<style scoped>\n",
       "    .dataframe tbody tr th:only-of-type {\n",
       "        vertical-align: middle;\n",
       "    }\n",
       "\n",
       "    .dataframe tbody tr th {\n",
       "        vertical-align: top;\n",
       "    }\n",
       "\n",
       "    .dataframe thead th {\n",
       "        text-align: right;\n",
       "    }\n",
       "</style>\n",
       "<table border=\"1\" class=\"dataframe\">\n",
       "  <thead>\n",
       "    <tr style=\"text-align: right;\">\n",
       "      <th></th>\n",
       "      <th>Interval</th>\n",
       "      <th>kWh</th>\n",
       "      <th>sec</th>\n",
       "      <th>Wh</th>\n",
       "      <th>cumul(ms)</th>\n",
       "      <th>dates</th>\n",
       "      <th>days</th>\n",
       "    </tr>\n",
       "    <tr>\n",
       "      <th>heure</th>\n",
       "      <th></th>\n",
       "      <th></th>\n",
       "      <th></th>\n",
       "      <th></th>\n",
       "      <th></th>\n",
       "      <th></th>\n",
       "      <th></th>\n",
       "    </tr>\n",
       "  </thead>\n",
       "  <tbody>\n",
       "    <tr>\n",
       "      <th>0:0:5</th>\n",
       "      <td>28408</td>\n",
       "      <td>0.13</td>\n",
       "      <td>28.408</td>\n",
       "      <td>126.724866</td>\n",
       "      <td>5867895189</td>\n",
       "      <td>2024-05-14 00:00:05.070151</td>\n",
       "      <td>14/05/24</td>\n",
       "    </tr>\n",
       "    <tr>\n",
       "      <th>0:0:33</th>\n",
       "      <td>28059</td>\n",
       "      <td>0.13</td>\n",
       "      <td>28.059</td>\n",
       "      <td>128.301080</td>\n",
       "      <td>5867923248</td>\n",
       "      <td>2024-05-14 00:00:33.129151</td>\n",
       "      <td>14/05/24</td>\n",
       "    </tr>\n",
       "    <tr>\n",
       "      <th>0:0:59</th>\n",
       "      <td>26084</td>\n",
       "      <td>0.14</td>\n",
       "      <td>26.084</td>\n",
       "      <td>138.015642</td>\n",
       "      <td>5867949332</td>\n",
       "      <td>2024-05-14 00:00:59.213151</td>\n",
       "      <td>14/05/24</td>\n",
       "    </tr>\n",
       "    <tr>\n",
       "      <th>0:1:25</th>\n",
       "      <td>26681</td>\n",
       "      <td>0.13</td>\n",
       "      <td>26.681</td>\n",
       "      <td>134.927476</td>\n",
       "      <td>5867976013</td>\n",
       "      <td>2024-05-14 00:01:25.894151</td>\n",
       "      <td>14/05/24</td>\n",
       "    </tr>\n",
       "    <tr>\n",
       "      <th>0:1:53</th>\n",
       "      <td>27421</td>\n",
       "      <td>0.13</td>\n",
       "      <td>27.421</td>\n",
       "      <td>131.286240</td>\n",
       "      <td>5868003434</td>\n",
       "      <td>2024-05-14 00:01:53.315151</td>\n",
       "      <td>14/05/24</td>\n",
       "    </tr>\n",
       "    <tr>\n",
       "      <th>...</th>\n",
       "      <td>...</td>\n",
       "      <td>...</td>\n",
       "      <td>...</td>\n",
       "      <td>...</td>\n",
       "      <td>...</td>\n",
       "      <td>...</td>\n",
       "      <td>...</td>\n",
       "    </tr>\n",
       "    <tr>\n",
       "      <th>9:33:19</th>\n",
       "      <td>28413</td>\n",
       "      <td>0.13</td>\n",
       "      <td>28.413</td>\n",
       "      <td>126.702566</td>\n",
       "      <td>5902289133</td>\n",
       "      <td>2024-05-14 09:33:19.014151</td>\n",
       "      <td>14/05/24</td>\n",
       "    </tr>\n",
       "    <tr>\n",
       "      <th>9:33:47</th>\n",
       "      <td>28527</td>\n",
       "      <td>0.13</td>\n",
       "      <td>28.527</td>\n",
       "      <td>126.196235</td>\n",
       "      <td>5902317660</td>\n",
       "      <td>2024-05-14 09:33:47.541151</td>\n",
       "      <td>14/05/24</td>\n",
       "    </tr>\n",
       "    <tr>\n",
       "      <th>9:34:16</th>\n",
       "      <td>28600</td>\n",
       "      <td>0.12</td>\n",
       "      <td>28.600</td>\n",
       "      <td>125.874126</td>\n",
       "      <td>5902346260</td>\n",
       "      <td>2024-05-14 09:34:16.141151</td>\n",
       "      <td>14/05/24</td>\n",
       "    </tr>\n",
       "    <tr>\n",
       "      <th>9:34:44</th>\n",
       "      <td>28317</td>\n",
       "      <td>0.13</td>\n",
       "      <td>28.317</td>\n",
       "      <td>127.132111</td>\n",
       "      <td>5902374577</td>\n",
       "      <td>2024-05-14 09:34:44.458151</td>\n",
       "      <td>14/05/24</td>\n",
       "    </tr>\n",
       "    <tr>\n",
       "      <th>9:35:13</th>\n",
       "      <td>28707</td>\n",
       "      <td>0.12</td>\n",
       "      <td>28.707</td>\n",
       "      <td>125.404953</td>\n",
       "      <td>5902403284</td>\n",
       "      <td>2024-05-14 09:35:13.165151</td>\n",
       "      <td>14/05/24</td>\n",
       "    </tr>\n",
       "  </tbody>\n",
       "</table>\n",
       "<p>1117 rows × 7 columns</p>\n",
       "</div>"
      ],
      "text/plain": [
       "         Interval   kWh     sec          Wh   cumul(ms)  \\\n",
       "heure                                                     \n",
       "0:0:5       28408  0.13  28.408  126.724866  5867895189   \n",
       "0:0:33      28059  0.13  28.059  128.301080  5867923248   \n",
       "0:0:59      26084  0.14  26.084  138.015642  5867949332   \n",
       "0:1:25      26681  0.13  26.681  134.927476  5867976013   \n",
       "0:1:53      27421  0.13  27.421  131.286240  5868003434   \n",
       "...           ...   ...     ...         ...         ...   \n",
       "9:33:19     28413  0.13  28.413  126.702566  5902289133   \n",
       "9:33:47     28527  0.13  28.527  126.196235  5902317660   \n",
       "9:34:16     28600  0.12  28.600  125.874126  5902346260   \n",
       "9:34:44     28317  0.13  28.317  127.132111  5902374577   \n",
       "9:35:13     28707  0.12  28.707  125.404953  5902403284   \n",
       "\n",
       "                             dates      days  \n",
       "heure                                         \n",
       "0:0:5   2024-05-14 00:00:05.070151  14/05/24  \n",
       "0:0:33  2024-05-14 00:00:33.129151  14/05/24  \n",
       "0:0:59  2024-05-14 00:00:59.213151  14/05/24  \n",
       "0:1:25  2024-05-14 00:01:25.894151  14/05/24  \n",
       "0:1:53  2024-05-14 00:01:53.315151  14/05/24  \n",
       "...                            ...       ...  \n",
       "9:33:19 2024-05-14 09:33:19.014151  14/05/24  \n",
       "9:33:47 2024-05-14 09:33:47.541151  14/05/24  \n",
       "9:34:16 2024-05-14 09:34:16.141151  14/05/24  \n",
       "9:34:44 2024-05-14 09:34:44.458151  14/05/24  \n",
       "9:35:13 2024-05-14 09:35:13.165151  14/05/24  \n",
       "\n",
       "[1117 rows x 7 columns]"
      ]
     },
     "execution_count": 61,
     "metadata": {},
     "output_type": "execute_result"
    }
   ],
   "source": [
    "conso_day=conso_data[conso_data['days']==day].copy()  # no more error\n",
    "conso_day['heure']=conso_day['dates'].apply(lambda x: str(x.hour)+':'+str(x.minute) +':'+str(x.second))\n",
    "#=[x.hour for x in conso_day['dates']]\n",
    "df= conso_day.set_index('heure')\n",
    "df"
   ]
  },
  {
   "cell_type": "code",
   "execution_count": 62,
   "metadata": {},
   "outputs": [
    {
     "data": {
      "text/plain": [
       "Timestamp('2024-05-14 08:45:28.496151')"
      ]
     },
     "execution_count": 62,
     "metadata": {},
     "output_type": "execute_result"
    }
   ],
   "source": [
    "# premier kWh\n",
    "df.iloc[1000]['dates']"
   ]
  },
  {
   "cell_type": "code",
   "execution_count": 63,
   "metadata": {},
   "outputs": [
    {
     "data": {
      "text/plain": [
       "Timestamp('2024-05-14 00:00:05.070151')"
      ]
     },
     "execution_count": 63,
     "metadata": {},
     "output_type": "execute_result"
    }
   ],
   "source": [
    "df.iloc[0].dates"
   ]
  },
  {
   "cell_type": "code",
   "execution_count": 77,
   "metadata": {},
   "outputs": [],
   "source": [
    "def period(kWh=1):\n",
    "    if kWh==1:\n",
    "        start = df.iloc[0].dates\n",
    "    else:\n",
    "        start = df.iloc[(kWh-1)*1000-1].dates\n",
    "    if len(df)>kWh*1000:\n",
    "        end = df.iloc[kWh*1000-1].dates\n",
    "        conso = kWh*1000\n",
    "    else:\n",
    "        end = df.iloc[len(df)-1].dates\n",
    "        conso = len(df) - (kWh-1)*1000\n",
    "    period = end - start\n",
    "\n",
    "    #df.iloc[1001:2000]['dates']#.tail(1)\n",
    "    print(f'{start}\\n{end}\\n{period}\\n{conso}')\n"
   ]
  },
  {
   "cell_type": "code",
   "execution_count": 78,
   "metadata": {},
   "outputs": [
    {
     "name": "stdout",
     "output_type": "stream",
     "text": [
      "2024-05-14 00:00:05.070151\n",
      "2024-05-14 08:44:59.895151\n",
      "0 days 08:44:54.825000\n",
      "1000\n"
     ]
    }
   ],
   "source": [
    "# premier kWh\n",
    "period()"
   ]
  },
  {
   "cell_type": "code",
   "execution_count": 83,
   "metadata": {},
   "outputs": [
    {
     "name": "stdout",
     "output_type": "stream",
     "text": [
      "2024-05-14 08:44:59.895151\n",
      "2024-05-14 09:35:13.165151\n",
      "0 days 00:50:13.270000\n",
      "117\n"
     ]
    }
   ],
   "source": [
    "# 2ème kWh\n",
    "p = 2\n",
    "if len(df)>(p-1)*1000:\n",
    "    period(p)"
   ]
  },
  {
   "cell_type": "code",
   "execution_count": 84,
   "metadata": {},
   "outputs": [],
   "source": [
    "# 3ème kWh\n",
    "p = 3\n",
    "if len(df)>(p-1)*1000:\n",
    "    period(p)"
   ]
  },
  {
   "cell_type": "code",
   "execution_count": 67,
   "metadata": {},
   "outputs": [
    {
     "data": {
      "text/plain": [
       "('09:35:17', 1.117, 1117)"
      ]
     },
     "execution_count": 67,
     "metadata": {},
     "output_type": "execute_result"
    }
   ],
   "source": [
    "# conso temps réel\n",
    "here = now.strftime('%H:%M:%S')\n",
    "conso_jour=len(df['kWh'])\n",
    "here, len(df)/1000, conso_jour"
   ]
  },
  {
   "cell_type": "code",
   "execution_count": 68,
   "metadata": {},
   "outputs": [
    {
     "data": {
      "text/html": [
       "<div>\n",
       "<style scoped>\n",
       "    .dataframe tbody tr th:only-of-type {\n",
       "        vertical-align: middle;\n",
       "    }\n",
       "\n",
       "    .dataframe tbody tr th {\n",
       "        vertical-align: top;\n",
       "    }\n",
       "\n",
       "    .dataframe thead th {\n",
       "        text-align: right;\n",
       "    }\n",
       "</style>\n",
       "<table border=\"1\" class=\"dataframe\">\n",
       "  <thead>\n",
       "    <tr style=\"text-align: right;\">\n",
       "      <th></th>\n",
       "      <th>kWh</th>\n",
       "    </tr>\n",
       "    <tr>\n",
       "      <th>days</th>\n",
       "      <th></th>\n",
       "    </tr>\n",
       "  </thead>\n",
       "  <tbody>\n",
       "    <tr>\n",
       "      <th>08/05/24</th>\n",
       "      <td>3.655</td>\n",
       "    </tr>\n",
       "    <tr>\n",
       "      <th>09/05/24</th>\n",
       "      <td>3.178</td>\n",
       "    </tr>\n",
       "    <tr>\n",
       "      <th>10/05/24</th>\n",
       "      <td>3.101</td>\n",
       "    </tr>\n",
       "    <tr>\n",
       "      <th>11/05/24</th>\n",
       "      <td>3.403</td>\n",
       "    </tr>\n",
       "    <tr>\n",
       "      <th>12/05/24</th>\n",
       "      <td>3.596</td>\n",
       "    </tr>\n",
       "    <tr>\n",
       "      <th>13/05/24</th>\n",
       "      <td>4.029</td>\n",
       "    </tr>\n",
       "    <tr>\n",
       "      <th>14/05/24</th>\n",
       "      <td>1.117</td>\n",
       "    </tr>\n",
       "  </tbody>\n",
       "</table>\n",
       "</div>"
      ],
      "text/plain": [
       "            kWh\n",
       "days           \n",
       "08/05/24  3.655\n",
       "09/05/24  3.178\n",
       "10/05/24  3.101\n",
       "11/05/24  3.403\n",
       "12/05/24  3.596\n",
       "13/05/24  4.029\n",
       "14/05/24  1.117"
      ]
     },
     "execution_count": 68,
     "metadata": {},
     "output_type": "execute_result"
    }
   ],
   "source": [
    "df_grp.tail(7)"
   ]
  },
  {
   "cell_type": "code",
   "execution_count": 69,
   "metadata": {},
   "outputs": [
    {
     "data": {
      "text/plain": [
       "<Figure size 640x480 with 0 Axes>"
      ]
     },
     "metadata": {},
     "output_type": "display_data"
    }
   ],
   "source": [
    "current=plt.get_current_fig_manager()\n",
    "current.set_window_title('Conso by day')\n",
    "#help(current.canvas)\n",
    "#,facecolor='darkcyan')"
   ]
  },
  {
   "cell_type": "code",
   "execution_count": 70,
   "metadata": {},
   "outputs": [],
   "source": [
    "#plt.style.use('fivethirtyeight')\n",
    "#plt.style.use('ggplot')\n",
    "#plt.style.use('dark_background')\n"
   ]
  },
  {
   "cell_type": "code",
   "execution_count": 71,
   "metadata": {},
   "outputs": [
    {
     "data": {
      "image/png": "[encoded data removed]",
      "text/plain": [
       "<Figure size 640x480 with 1 Axes>"
      ]
     },
     "metadata": {},
     "output_type": "display_data"
    }
   ],
   "source": [
    "# pandas plot the day consos in the group\n",
    "fig, ax = plt.subplots(facecolor='darkcyan')  # as argument\n",
    "#or fig.patch.set_facecolor('darkcyan') # This changes the grey to white\n",
    "ax.set_facecolor(\"ivory\")\n",
    "\n",
    "df_grp.iloc[:-1].plot(grid=True,ax=ax, y=[\"kWh\"])   #df.plot(x=\"Name\", y=[\"Age\", \"Height(in cm)\"], kind=\"bar\", ax=ax)\n",
    "plt.title(str(last)+' kWh ('+str(here)+')')\n",
    "plt.axhline(y=np.nanmean(df_grp),c='red', ls='-.')\n",
    "plt.xticks(rotation=30);  # https://ipython.readthedocs.io/en/stable/interactive/tips.html\n"
   ]
  },
  {
   "cell_type": "code",
   "execution_count": 72,
   "metadata": {},
   "outputs": [
    {
     "data": {
      "image/png": "[encoded data removed]",
      "text/plain": [
       "<Figure size 1500x700 with 1 Axes>"
      ]
     },
     "metadata": {},
     "output_type": "display_data"
    }
   ],
   "source": [
    "show(day,bgcolor='ivory')"
   ]
  },
  {
   "cell_type": "code",
   "execution_count": 73,
   "metadata": {},
   "outputs": [
    {
     "data": {
      "image/png": "[encoded data removed]",
      "text/plain": [
       "<Figure size 1500x700 with 1 Axes>"
      ]
     },
     "metadata": {},
     "output_type": "display_data"
    }
   ],
   "source": [
    "# plot any day\n",
    "day = '13/05/24'\n",
    "show(day,pltcolor='darkcyan')"
   ]
  }
 ],
 "metadata": {
  "kernelspec": {
   "display_name": "Python 3",
   "language": "python",
   "name": "python3"
  },
  "language_info": {
   "codemirror_mode": {
    "name": "ipython",
    "version": 3
   },
   "file_extension": ".py",
   "mimetype": "text/x-python",
   "name": "python",
   "nbconvert_exporter": "python",
   "pygments_lexer": "ipython3",
   "version": "3.12.3"
  }
 },
 "nbformat": 4,
 "nbformat_minor": 2
}
