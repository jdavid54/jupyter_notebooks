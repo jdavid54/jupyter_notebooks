{
 "cells": [
  {
   "cell_type": "code",
   "execution_count": 1,
   "metadata": {},
   "outputs": [],
   "source": [
    "from scipy.integrate import quad\n",
    "from scipy.linalg import expm\n",
    "import numpy as np\n",
    "import matplotlib.pyplot as plt"
   ]
  },
  {
   "cell_type": "code",
   "execution_count": 2,
   "metadata": {},
   "outputs": [
    {
     "name": "stdout",
     "output_type": "stream",
     "text": [
      "[[1031.61668602 1502.47836021]\n",
      " [2253.71754031 3285.33422634]]\n"
     ]
    }
   ],
   "source": [
    "def integrand(X, A, B):\n",
    "    return np.dot(expm(A*X),expm(B*X))\n",
    "\n",
    "\n",
    "A = np.array([[1, 2], [3, 4]])\n",
    "B = np.array([[1, 2], [3, 4]])\n",
    "\n",
    "#I= quad(integrand, 0, 1, args=(A,B))\n",
    "\n",
    "def integrand(X, A, B, ix=None):\n",
    "    \"\"\" pass ix=None to return the matrix, ix = 0,1,2,3 to return an element\"\"\"\n",
    "    output = np.dot(expm(A*X),expm(B*X))\n",
    "    if ix is None:\n",
    "        return output\n",
    "    i, j = ix//2, ix%2\n",
    "    return output[i,j]\n",
    "I= np.array([quad(integrand, 0, 1, args=(A,B, i))[0] for i in range(4)]).reshape(2,2)\n",
    "print(I)"
   ]
  },
  {
   "cell_type": "code",
   "execution_count": 3,
   "metadata": {},
   "outputs": [
    {
     "name": "stdout",
     "output_type": "stream",
     "text": [
      "6.0\n"
     ]
    }
   ],
   "source": [
    "def integrand(x, a):\n",
    "    return x**(a-1)*np.exp(-x)\n",
    "a=3\n",
    "I = quad(integrand, 0, np.inf, args=(a+1))   \n",
    "print(I[0])\n",
    "# I = a!"
   ]
  },
  {
   "cell_type": "code",
   "execution_count": 6,
   "metadata": {},
   "outputs": [
    {
     "name": "stdout",
     "output_type": "stream",
     "text": [
      "[-1.    -0.995 -0.99  ...  4.985  4.99   4.995]\n"
     ]
    },
    {
     "data": {
      "image/png": "[encoded data removed]",
      "text/plain": [
       "<Figure size 432x288 with 1 Axes>"
      ]
     },
     "metadata": {
      "needs_background": "light"
     },
     "output_type": "display_data"
    }
   ],
   "source": [
    "import warnings\n",
    "warnings.filterwarnings(\"ignore\")\n",
    "\n",
    "x=np.arange(-1.0,5.0,0.005)\n",
    "print(x)\n",
    "\n",
    "# pass array of argument to quad by list \n",
    "y=list([quad(integrand, 0, np.inf, args=(a))[0] for a in x])\n",
    "plt.plot(x,y)\n",
    "plt.show()"
   ]
  },
  {
   "cell_type": "code",
   "execution_count": 5,
   "metadata": {},
   "outputs": [
    {
     "name": "stdout",
     "output_type": "stream",
     "text": [
      "3598695.6187410355\n",
      "3628799.9999999995\n"
     ]
    }
   ],
   "source": [
    "def fact(x):\n",
    "    return np.sqrt(2*np.pi)*np.exp(-x)*x**(x+1/2) # about x!\n",
    "\n",
    "n=10\n",
    "print(fact(n))\n",
    "\n",
    "I = quad(integrand, 0, np.inf, args=(n+1))   \n",
    "print(I[0])    "
   ]
  },
  {
   "cell_type": "code",
   "execution_count": null,
   "metadata": {},
   "outputs": [],
   "source": []
  }
 ],
 "metadata": {
  "kernelspec": {
   "display_name": "Python 3",
   "language": "python",
   "name": "python3"
  },
  "language_info": {
   "codemirror_mode": {
    "name": "ipython",
    "version": 3
   },
   "file_extension": ".py",
   "mimetype": "text/x-python",
   "name": "python",
   "nbconvert_exporter": "python",
   "pygments_lexer": "ipython3",
   "version": "3.7.3"
  }
 },
 "nbformat": 4,
 "nbformat_minor": 2
}
