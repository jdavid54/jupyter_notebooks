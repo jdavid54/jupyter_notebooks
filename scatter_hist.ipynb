{
  "cells": [
    {
      "cell_type": "code",
      "execution_count": null,
      "metadata": {
        "collapsed": false
      },
      "outputs": [],
      "source": [
        "%matplotlib inline"
      ]
    },
    {
      "cell_type": "markdown",
      "metadata": {},
      "source": [
        "\n# Scatter plot with histograms\n\n\nCreate a scatter plot with histograms to its sides.\n\n"
      ]
    },
    {
      "cell_type": "code",
      "execution_count": null,
      "metadata": {
        "collapsed": false
      },
      "outputs": [],
      "source": [
        "import numpy as np\nimport matplotlib.pyplot as plt\n\n# Fixing random state for reproducibility\nnp.random.seed(19680801)\n\n# the random data\nx = np.random.randn(1000)\ny = np.random.randn(1000)\n\n# definitions for the axes\nleft, width = 0.1, 0.65\nbottom, height = 0.1, 0.65\nspacing = 0.005\n\n\nrect_scatter = [left, bottom, width, height]\nrect_histx = [left, bottom + height + spacing, width, 0.2]\nrect_histy = [left + width + spacing, bottom, 0.2, height]\n\n# start with a rectangular Figure\nplt.figure(figsize=(8, 8))\n\nax_scatter = plt.axes(rect_scatter)\nax_scatter.tick_params(direction='in', top=True, right=True)\nax_histx = plt.axes(rect_histx)\nax_histx.tick_params(direction='in', labelbottom=False)\nax_histy = plt.axes(rect_histy)\nax_histy.tick_params(direction='in', labelleft=False)\n\n# the scatter plot:\nax_scatter.scatter(x, y)\n\n# now determine nice limits by hand:\nbinwidth = 0.25\nlim = np.ceil(np.abs([x, y]).max() / binwidth) * binwidth\nax_scatter.set_xlim((-lim, lim))\nax_scatter.set_ylim((-lim, lim))\n\nbins = np.arange(-lim, lim + binwidth, binwidth)\nax_histx.hist(x, bins=bins)\nax_histy.hist(y, bins=bins, orientation='horizontal')\n\nax_histx.set_xlim(ax_scatter.get_xlim())\nax_histy.set_ylim(ax_scatter.get_ylim())\n\nplt.show()"
      ]
    }
  ],
  "metadata": {
    "kernelspec": {
      "display_name": "Python 3",
      "language": "python",
      "name": "python3"
    },
    "language_info": {
      "codemirror_mode": {
        "name": "ipython",
        "version": 3
      },
      "file_extension": ".py",
      "mimetype": "text/x-python",
      "name": "python",
      "nbconvert_exporter": "python",
      "pygments_lexer": "ipython3",
      "version": "3.6.8"
    }
  },
  "nbformat": 4,
  "nbformat_minor": 0
}