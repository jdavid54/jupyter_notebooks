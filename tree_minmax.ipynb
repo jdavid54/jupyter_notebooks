{
 "cells": [
  {
   "cell_type": "code",
   "execution_count": null,
   "metadata": {},
   "outputs": [],
   "source": [
    "debug = False"
   ]
  },
  {
   "cell_type": "code",
   "execution_count": 548,
   "metadata": {},
   "outputs": [],
   "source": [
    "class Node():\n",
    "    descendants = []\n",
    "    \n",
    "    def __init__(self, name,left, right, alpha, beta, value, strategy='max'):\n",
    "        self.name = name\n",
    "        self.left = left\n",
    "        self.right = right\n",
    "        self.alpha = alpha\n",
    "        self.beta = beta\n",
    "        self.value = value\n",
    "        self.strategy = strategy\n",
    "       \n",
    "    def __str__(self):\n",
    "        return '('+self.name+','+str(self.alpha)+','+str(self.beta)+','+str(self.left)+','+str(self.right)+','+str(self.value)+','+str(self.strategy)+')'\n",
    "    \n",
    "    def isTerminal(self):\n",
    "        return self.left == None\n",
    "    \n",
    "    def children(self):\n",
    "        return self.left.name+','+self.right.name\n",
    "    \n",
    "    def __all_children(self):   #private method\n",
    "        if self.isTerminal():\n",
    "            if debug : print(self.name,'terminal')\n",
    "            return\n",
    "        else:\n",
    "            if debug : print(self.name, 'parent')\n",
    "            self.left.__all_children()\n",
    "            self.right.__all_children()\n",
    "            Node.descendants.append({'left' : self.left, 'right' : self.right})\n",
    "            return Node.descendants\n",
    "    \n",
    "    def all_children(self):  \n",
    "        Node.descendants = []\n",
    "        return self.__all_children()\n",
    "    \n",
    "    def Max_value(self):\n",
    "        if self.isTerminal(): return self.value\n",
    "        v = -MAX\n",
    "        for c in self.all_children():\n",
    "            for side in ('left', 'right'):\n",
    "                w = c[side].Min_value()\n",
    "                if w > v : v = w\n",
    "                if w >= self.beta : return v\n",
    "                if w > self.alpha : self.alpha = w\n",
    "        return v\n",
    "                                      \n",
    "    def Min_value(self):\n",
    "        if self.isTerminal(): return self.value\n",
    "        v = MAX\n",
    "        for c in self.all_children():\n",
    "            for side in ('left', 'right'):\n",
    "                w = c[side].Max_value()\n",
    "                if w < v : v = w\n",
    "                if w <= self.alpha : return v\n",
    "                if w < self.beta : self.beta = w\n",
    "        return v\n",
    "    \n",
    "MAX = 10000        "
   ]
  },
  {
   "cell_type": "code",
   "execution_count": 549,
   "metadata": {},
   "outputs": [
    {
     "name": "stdout",
     "output_type": "stream",
     "text": [
      "(A,-10000,10000,None,None,0,max)\n",
      "True\n",
      "0\n"
     ]
    }
   ],
   "source": [
    "nodeA  = Node('A',None,None,-MAX,MAX,0)\n",
    "print(nodeA)\n",
    "print(nodeA.isTerminal())\n",
    "print(nodeA.Max_value())"
   ]
  },
  {
   "cell_type": "code",
   "execution_count": 550,
   "metadata": {},
   "outputs": [],
   "source": [
    "nodeL3  = Node('L3',None,None,-MAX,MAX,5)\n",
    "nodeL4  = Node('L4',None,None,-MAX,MAX,2)\n",
    "nodeL6  = Node('L6',None,None,-MAX,MAX,0)\n",
    "nodeL7  = Node('L7',None,None,-MAX,MAX,10)\n",
    "nodeL2  = Node('L2',nodeL3,nodeL4,-MAX,MAX,0,'min')\n",
    "nodeL5  = Node('L5',nodeL6,nodeL7,-MAX,MAX,0,'min')\n",
    "nodeL1  = Node('L1',nodeL2,nodeL5,-MAX,MAX,0)"
   ]
  },
  {
   "cell_type": "code",
   "execution_count": 551,
   "metadata": {},
   "outputs": [
    {
     "name": "stdout",
     "output_type": "stream",
     "text": [
      "(L3,-10000,10000,None,None,5,max)\n"
     ]
    }
   ],
   "source": [
    "print(nodeL3)"
   ]
  },
  {
   "cell_type": "code",
   "execution_count": 552,
   "metadata": {},
   "outputs": [
    {
     "name": "stdout",
     "output_type": "stream",
     "text": [
      "(L2,-10000,10000,(L3,-10000,10000,None,None,5,max),(L4,-10000,10000,None,None,2,max),0,min)\n"
     ]
    }
   ],
   "source": [
    "print(nodeL2)"
   ]
  },
  {
   "cell_type": "code",
   "execution_count": 553,
   "metadata": {},
   "outputs": [
    {
     "name": "stdout",
     "output_type": "stream",
     "text": [
      "L2,L5\n"
     ]
    }
   ],
   "source": [
    "print(nodeL1.children())"
   ]
  },
  {
   "cell_type": "code",
   "execution_count": 554,
   "metadata": {},
   "outputs": [
    {
     "name": "stdout",
     "output_type": "stream",
     "text": [
      "(L2,-10000,10000,(L3,-10000,10000,None,None,5,max),(L4,-10000,10000,None,None,2,max),0,min)\n"
     ]
    }
   ],
   "source": [
    "print(nodeL1.left)"
   ]
  },
  {
   "cell_type": "code",
   "execution_count": 555,
   "metadata": {},
   "outputs": [
    {
     "name": "stdout",
     "output_type": "stream",
     "text": [
      "(L5,-10000,10000,(L6,-10000,10000,None,None,0,max),(L7,-10000,10000,None,None,10,max),0,min)\n"
     ]
    }
   ],
   "source": [
    "print(nodeL1.right)"
   ]
  },
  {
   "cell_type": "code",
   "execution_count": 556,
   "metadata": {},
   "outputs": [
    {
     "name": "stdout",
     "output_type": "stream",
     "text": [
      "L3,L4\n"
     ]
    }
   ],
   "source": [
    "print(nodeL1.left.children())"
   ]
  },
  {
   "cell_type": "code",
   "execution_count": 557,
   "metadata": {},
   "outputs": [
    {
     "name": "stdout",
     "output_type": "stream",
     "text": [
      "[{'left': <__main__.Node object at 0x718dd1d0>, 'right': <__main__.Node object at 0x72a717d0>}, {'left': <__main__.Node object at 0x718dd0f0>, 'right': <__main__.Node object at 0x718dd9f0>}, {'left': <__main__.Node object at 0x718dd610>, 'right': <__main__.Node object at 0x718dde50>}]\n"
     ]
    }
   ],
   "source": [
    "print(nodeL1.all_children())"
   ]
  },
  {
   "cell_type": "code",
   "execution_count": 558,
   "metadata": {},
   "outputs": [
    {
     "name": "stdout",
     "output_type": "stream",
     "text": [
      "[{'left': <__main__.Node object at 0x718dd0f0>, 'right': <__main__.Node object at 0x718dd9f0>}]\n"
     ]
    }
   ],
   "source": [
    "print(nodeL5.all_children())"
   ]
  },
  {
   "cell_type": "code",
   "execution_count": 559,
   "metadata": {},
   "outputs": [
    {
     "data": {
      "text/plain": [
       "'L3'"
      ]
     },
     "execution_count": 559,
     "metadata": {},
     "output_type": "execute_result"
    }
   ],
   "source": [
    "nodeL1.all_children()[0]['left'].name"
   ]
  },
  {
   "cell_type": "code",
   "execution_count": 560,
   "metadata": {},
   "outputs": [
    {
     "name": "stdout",
     "output_type": "stream",
     "text": [
      "10\n"
     ]
    }
   ],
   "source": [
    "print(nodeL1.Max_value())"
   ]
  },
  {
   "cell_type": "code",
   "execution_count": 563,
   "metadata": {},
   "outputs": [
    {
     "data": {
      "text/plain": [
       "(5, 2, 0, 10)"
      ]
     },
     "execution_count": 563,
     "metadata": {},
     "output_type": "execute_result"
    }
   ],
   "source": [
    "nodeL3.value, nodeL4.value, nodeL6.value, nodeL7.value"
   ]
  },
  {
   "cell_type": "code",
   "execution_count": 564,
   "metadata": {},
   "outputs": [
    {
     "name": "stdout",
     "output_type": "stream",
     "text": [
      "2\n"
     ]
    }
   ],
   "source": [
    "print(nodeL2.Min_value())"
   ]
  },
  {
   "cell_type": "code",
   "execution_count": 565,
   "metadata": {},
   "outputs": [
    {
     "name": "stdout",
     "output_type": "stream",
     "text": [
      "0\n"
     ]
    }
   ],
   "source": [
    "print(nodeL5.Min_value())"
   ]
  },
  {
   "cell_type": "code",
   "execution_count": null,
   "metadata": {},
   "outputs": [],
   "source": []
  }
 ],
 "metadata": {
  "kernelspec": {
   "display_name": "Python 3",
   "language": "python",
   "name": "python3"
  },
  "language_info": {
   "codemirror_mode": {
    "name": "ipython",
    "version": 3
   },
   "file_extension": ".py",
   "mimetype": "text/x-python",
   "name": "python",
   "nbconvert_exporter": "python",
   "pygments_lexer": "ipython3",
   "version": "3.7.3"
  }
 },
 "nbformat": 4,
 "nbformat_minor": 2
}
