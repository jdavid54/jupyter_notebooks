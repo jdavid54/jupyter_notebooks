{
 "cells": [
  {
   "cell_type": "code",
   "execution_count": 1,
   "metadata": {},
   "outputs": [
    {
     "data": {
      "text/plain": [
       "('2022-09-13', '2022-12-21')"
      ]
     },
     "execution_count": 1,
     "metadata": {},
     "output_type": "execute_result"
    }
   ],
   "source": [
    "from datetime import datetime, timedelta\n",
    "\n",
    "import requests\n",
    "\n",
    "CoinDesk_base_url = 'https://api.coindesk.com/v1/bpi/'\n",
    "current_price_url = \"{}currentprice.json\".format(CoinDesk_base_url)\n",
    "time_format = '%Y-%m-%d'\n",
    "\n",
    "# Create dates\n",
    "today = datetime.now()\n",
    "last_year = datetime.strftime(today - timedelta(days=466), time_format)\n",
    "last_year2 = datetime.strftime(today - timedelta(days=367), time_format)\n",
    "last_year,last_year2"
   ]
  },
  {
   "cell_type": "code",
   "execution_count": 2,
   "metadata": {},
   "outputs": [
    {
     "data": {
      "text/plain": [
       "'https://api.coindesk.com/v1/bpi/historical/close.json?start=2022-01-01&end=2023-12-06'"
      ]
     },
     "execution_count": 2,
     "metadata": {},
     "output_type": "execute_result"
    }
   ],
   "source": [
    "\n",
    "historic_price_url = \"{}historical/close.json?start={}&end={}\".format(\n",
    "    CoinDesk_base_url,\n",
    "    last_year2,\n",
    "    last_year)\n",
    "historic_price_url=\"https://api.coindesk.com/v1/bpi/historical/close.json?start=2022-01-01&end=2023-12-06\"\n",
    "historic_price_url"
   ]
  },
  {
   "cell_type": "code",
   "execution_count": 3,
   "metadata": {},
   "outputs": [
    {
     "data": {
      "text/plain": [
       "{'time': {'updated': 'Dec 23, 2023 18:49:00 UTC',\n",
       "  'updatedISO': '2023-12-23T18:49:00+00:00',\n",
       "  'updateduk': 'Dec 23, 2023 at 18:49 GMT'},\n",
       " 'disclaimer': 'This data was produced from the CoinDesk Bitcoin Price Index (USD). Non-USD currency data converted using hourly conversion rate from openexchangerates.org',\n",
       " 'chartName': 'Bitcoin',\n",
       " 'bpi': {'USD': {'code': 'USD',\n",
       "   'symbol': '&#36;',\n",
       "   'rate': '43,835.6376',\n",
       "   'description': 'United States Dollar',\n",
       "   'rate_float': 43835.6376},\n",
       "  'GBP': {'code': 'GBP',\n",
       "   'symbol': '&pound;',\n",
       "   'rate': '36,628.7081',\n",
       "   'description': 'British Pound Sterling',\n",
       "   'rate_float': 36628.7081},\n",
       "  'EUR': {'code': 'EUR',\n",
       "   'symbol': '&euro;',\n",
       "   'rate': '42,702.3110',\n",
       "   'description': 'Euro',\n",
       "   'rate_float': 42702.311}}}"
      ]
     },
     "execution_count": 3,
     "metadata": {},
     "output_type": "execute_result"
    }
   ],
   "source": [
    "\n",
    "# Query CoinDesk Current price API\n",
    "current_price_response = requests.get(current_price_url).json()\n",
    "current_price_response\n"
   ]
  },
  {
   "cell_type": "code",
   "execution_count": 4,
   "metadata": {},
   "outputs": [
    {
     "data": {
      "text/plain": [
       "{'bpi': {'2022-01-01': 47742.995,\n",
       "  '2022-01-02': 47310.9233,\n",
       "  '2022-01-03': 46448.0367,\n",
       "  '2022-01-04': 45837.3333,\n",
       "  '2022-01-05': 43430.7067,\n",
       "  '2022-01-06': 43098.685,\n",
       "  '2022-01-07': 41541.2233,\n",
       "  '2022-01-08': 41689.195,\n",
       "  '2022-01-09': 41864.1067,\n",
       "  '2022-01-10': 41838.4617,\n",
       "  '2022-01-11': 42744.29,\n",
       "  '2022-01-12': 43921.2833,\n",
       "  '2022-01-13': 42577.1583,\n",
       "  '2022-01-14': 43095.525,\n",
       "  '2022-01-15': 43096.105,\n",
       "  '2022-01-16': 43091.2567,\n",
       "  '2022-01-17': 42224.7167,\n",
       "  '2022-01-18': 42373.6817,\n",
       "  '2022-01-19': 41676.665,\n",
       "  '2022-01-20': 40705.4417,\n",
       "  '2022-01-21': 36462.6283,\n",
       "  '2022-01-22': 35085.14,\n",
       "  '2022-01-23': 36286.2217,\n",
       "  '2022-01-24': 36703.22,\n",
       "  '2022-01-25': 36981.4917,\n",
       "  '2022-01-26': 36828.1,\n",
       "  '2022-01-27': 37194.41,\n",
       "  '2022-01-28': 37740.7367,\n",
       "  '2022-01-29': 38186.37,\n",
       "  '2022-01-30': 37915.8983,\n",
       "  '2022-01-31': 38499.2683,\n",
       "  '2022-02-01': 38718.8067,\n",
       "  '2022-02-02': 36918.195,\n",
       "  '2022-02-03': 37339.93,\n",
       "  '2022-02-04': 41580.4283,\n",
       "  '2022-02-05': 41420.2367,\n",
       "  '2022-02-06': 42414.5633,\n",
       "  '2022-02-07': 43868.43,\n",
       "  '2022-02-08': 44080.5583,\n",
       "  '2022-02-09': 44427.395,\n",
       "  '2022-02-10': 43529.695,\n",
       "  '2022-02-11': 42404.5383,\n",
       "  '2022-02-12': 42235.445,\n",
       "  '2022-02-13': 42076.9183,\n",
       "  '2022-02-14': 42551.44,\n",
       "  '2022-02-15': 44573.1483,\n",
       "  '2022-02-16': 43900.745,\n",
       "  '2022-02-17': 40558.95,\n",
       "  '2022-02-18': 40016.7933,\n",
       "  '2022-02-19': 40116.055,\n",
       "  '2022-02-20': 38411.1083,\n",
       "  '2022-02-21': 37042.7233,\n",
       "  '2022-02-22': 38273.0417,\n",
       "  '2022-02-23': 37274.8567,\n",
       "  '2022-02-24': 38357.1617,\n",
       "  '2022-02-25': 39233.7383,\n",
       "  '2022-02-26': 39138.3683,\n",
       "  '2022-02-27': 37721.3933,\n",
       "  '2022-02-28': 43197.5817,\n",
       "  '2022-03-01': 44438.34,\n",
       "  '2022-03-02': 43931.7,\n",
       "  '2022-03-03': 42476.5117,\n",
       "  '2022-03-04': 39165.255,\n",
       "  '2022-03-05': 39411.1383,\n",
       "  '2022-03-06': 38426.475,\n",
       "  '2022-03-07': 38012.92,\n",
       "  '2022-03-08': 38753.6467,\n",
       "  '2022-03-09': 41957.5333,\n",
       "  '2022-03-10': 39439.1533,\n",
       "  '2022-03-11': 38739.66,\n",
       "  '2022-03-12': 38814.2817,\n",
       "  '2022-03-13': 37788.0583,\n",
       "  '2022-03-14': 39691.7917,\n",
       "  '2022-03-15': 39310.215,\n",
       "  '2022-03-16': 41134.125,\n",
       "  '2022-03-17': 40945.165,\n",
       "  '2022-03-18': 41778.7817,\n",
       "  '2022-03-19': 42228.0883,\n",
       "  '2022-03-20': 41276.2617,\n",
       "  '2022-03-21': 41037.885,\n",
       "  '2022-03-22': 42375.065,\n",
       "  '2022-03-23': 42540.7775,\n",
       "  '2022-03-24': 43921.275,\n",
       "  '2022-03-25': 44360.5,\n",
       "  '2022-03-26': 44350.51,\n",
       "  '2022-03-27': 46631.25,\n",
       "  '2022-03-28': 48173.2,\n",
       "  '2022-03-29': 47384.5,\n",
       "  '2022-03-30': 47151.5,\n",
       "  '2022-03-31': 46318.5625,\n",
       "  '2022-04-01': 46154.5,\n",
       "  '2022-04-02': 46321.275,\n",
       "  '2022-04-03': 46571.355,\n",
       "  '2022-04-04': 45701.5475,\n",
       "  '2022-04-05': 45809.58,\n",
       "  '2022-04-06': 44106.255,\n",
       "  '2022-04-07': 43600,\n",
       "  '2022-04-08': 43090.215,\n",
       "  '2022-04-09': 42459.5,\n",
       "  '2022-04-10': 42726,\n",
       "  '2022-04-11': 40865.25,\n",
       "  '2022-04-12': 40617.5,\n",
       "  '2022-04-13': 39888.5,\n",
       "  '2022-04-14': 41023.5,\n",
       "  '2022-04-15': 40310.5,\n",
       "  '2022-04-16': 40411.5,\n",
       "  '2022-04-17': 40339.5,\n",
       "  '2022-04-18': 39036.355,\n",
       "  '2022-04-19': 40661.67,\n",
       "  '2022-04-20': 41440,\n",
       "  '2022-04-21': 41931,\n",
       "  '2022-04-22': 39494.5,\n",
       "  '2022-04-23': 39732.605,\n",
       "  '2022-04-24': 39605.645,\n",
       "  '2022-04-25': 39111.5,\n",
       "  '2022-04-26': 39971.98,\n",
       "  '2022-04-27': 39043.5,\n",
       "  '2022-04-28': 39627.555,\n",
       "  '2022-04-29': 39158.385,\n",
       "  '2022-04-30': 38617,\n",
       "  '2022-05-01': 37923.8125,\n",
       "  '2022-05-02': 38913.875,\n",
       "  '2022-05-03': 38580.5,\n",
       "  '2022-05-04': 38368.5,\n",
       "  '2022-05-05': 39690.5,\n",
       "  '2022-05-06': 36469.28,\n",
       "  '2022-05-07': 35933.5,\n",
       "  '2022-05-08': 34637.3075,\n",
       "  '2022-05-09': 33528.5,\n",
       "  '2022-05-10': 32050.5,\n",
       "  '2022-05-11': 31474.35,\n",
       "  '2022-05-12': 27127.9625,\n",
       "  '2022-05-13': 30219.84,\n",
       "  '2022-05-14': 29378.75,\n",
       "  '2022-05-15': 29817.5,\n",
       "  '2022-05-16': 30376.445,\n",
       "  '2022-05-17': 30160.5,\n",
       "  '2022-05-22': 29339.5,\n",
       "  '2022-05-23': 30133.5,\n",
       "  '2022-05-26': 29085.5,\n",
       "  '2022-05-27': 28870.625,\n",
       "  '2022-05-28': 28769.675,\n",
       "  '2022-05-29': 29181.0225,\n",
       "  '2022-05-30': 30592.5,\n",
       "  '2022-05-31': 31533.775,\n",
       "  '2022-06-01': 31451.5,\n",
       "  '2022-06-02': 29731.4275,\n",
       "  '2022-06-03': 30489.8275,\n",
       "  '2022-06-05': 29796.3175,\n",
       "  '2022-06-06': 31246.5,\n",
       "  '2022-06-07': 29566.3367,\n",
       "  '2022-06-08': 29893.315,\n",
       "  '2022-06-12': 27533.1017,\n",
       "  '2022-06-13': 25423.5,\n",
       "  '2022-06-30': 19455.625,\n",
       "  '2022-07-01': 19488,\n",
       "  '2022-07-02': 19188.5217,\n",
       "  '2022-07-03': 19115.52,\n",
       "  '2022-07-04': 19129,\n",
       "  '2022-07-05': 20205.6075,\n",
       "  '2022-07-06': 19930.845,\n",
       "  '2022-07-10': 21296.005},\n",
       " 'disclaimer': 'This data was produced from the CoinDesk Bitcoin Price Index. BPI value data returned as USD.',\n",
       " 'time': {'updated': 'Dec 7, 2023 00:03:00 UTC',\n",
       "  'updatedISO': '2023-12-07T00:03:00+00:00'}}"
      ]
     },
     "execution_count": 4,
     "metadata": {},
     "output_type": "execute_result"
    }
   ],
   "source": [
    "# Query CoinDesk historical API\n",
    "historic_price_response = requests.get(historic_price_url).json()\n",
    "historic_price_response\n"
   ]
  },
  {
   "cell_type": "code",
   "execution_count": 5,
   "metadata": {},
   "outputs": [
    {
     "data": {
      "text/plain": [
       "43835.64"
      ]
     },
     "execution_count": 5,
     "metadata": {},
     "output_type": "execute_result"
    }
   ],
   "source": [
    "current_price = round(current_price_response['bpi']['USD']['rate_float'], 2)\n",
    "current_price"
   ]
  },
  {
   "cell_type": "code",
   "execution_count": 6,
   "metadata": {},
   "outputs": [],
   "source": [
    "last_day = '2022-07-10'\n",
    "historic_price = round(historic_price_response['bpi'][last_day], 2)\n"
   ]
  },
  {
   "cell_type": "code",
   "execution_count": 7,
   "metadata": {},
   "outputs": [
    {
     "name": "stdout",
     "output_type": "stream",
     "text": [
      "Today's Price $USD$ 43835.64 , 2023-12-23\n",
      "Last Years Price $USD$ 21296.01 , 2022-07-10\n"
     ]
    }
   ],
   "source": [
    "\n",
    "print('Today\\'s Price $USD$ {} , {}'.format(current_price, today.strftime(time_format)))\n",
    "\n",
    "print('Last Years Price $USD$ {} , {}'.format(historic_price, last_day))"
   ]
  }
 ],
 "metadata": {
  "kernelspec": {
   "display_name": "Python 3",
   "language": "python",
   "name": "python3"
  },
  "language_info": {
   "codemirror_mode": {
    "name": "ipython",
    "version": 3
   },
   "file_extension": ".py",
   "mimetype": "text/x-python",
   "name": "python",
   "nbconvert_exporter": "python",
   "pygments_lexer": "ipython3",
   "version": "3.10.11"
  }
 },
 "nbformat": 4,
 "nbformat_minor": 2
}
